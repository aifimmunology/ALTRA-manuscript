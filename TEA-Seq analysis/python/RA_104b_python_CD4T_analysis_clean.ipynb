{
  "cells": [
    {
      "cell_type": "markdown",
      "source": [
        "# Muon analysis for CD4 T cells"
      ],
      "metadata": {},
      "id": "a30b69f6-a6fd-470d-8fba-6b9d5144cc49"
    },
    {
      "cell_type": "code",
      "source": [
        "import numpy as np\n",
        "import pandas as pd\n",
        "import scanpy as sc\n",
        "import muon as mu\n",
        "import muon.atac as ac\n",
        "import muon.prot as pt\n",
        "from matplotlib import pyplot as plt\n",
        "import seaborn as sns\n",
        "import numpy as np\n",
        "from scipy.stats import median_abs_deviation\n",
        "import sc_toolbox as sct"
      ],
      "outputs": [],
      "execution_count": null,
      "metadata": {},
      "id": "4eb41a99-b8dc-42dc-9ed6-748eab18555b"
    },
    {
      "cell_type": "code",
      "source": [
        "print(sns.__version__)"
      ],
      "outputs": [],
      "execution_count": null,
      "metadata": {},
      "id": "2068cb9f-4684-4cbd-8c39-55b67ffc01b1"
    },
    {
      "cell_type": "code",
      "source": [
        "import matplotlib\n",
        "plt.rcParams['figure.dpi'] = 100\n",
        "matplotlib.rcParams['pdf.fonttype'] = 42"
      ],
      "outputs": [],
      "execution_count": null,
      "metadata": {},
      "id": "2e43e8e5-e4ea-4045-abea-c5c2b23d5b76"
    },
    {
      "cell_type": "code",
      "source": [
        "# define working path\n",
        "data_path = '/home/jupyter/data/preRA_teaseq/EXP-00243/totalVI/'\n",
        "fig_path = '/home/jupyter/data/preRA_teaseq/EXP-00243/totalVI/figures/'\n",
        "output_path = '/home/jupyter/data/preRA_teaseq/EXP-00243/totalVI/output_results/'\n",
        "# os.mkdir(fig_path)\n",
        "# os.mkdir(output_path)\n",
        "# define a project name\n",
        "proj_name = 'PreRA_TEASeq_CD4T_'\n",
        "\n",
        "sc.settings.figdir = fig_path\n",
        "sc.settings.autosave = False\n",
        "sc.set_figure_params(vector_friendly=True, dpi_save=300)"
      ],
      "outputs": [],
      "execution_count": null,
      "metadata": {},
      "id": "9af0fe3f-2416-4599-be86-aa3e7eb93109"
    },
    {
      "cell_type": "code",
      "source": [
        "npg_color = [\"#E64B35FF\", \"#4DBBD5FF\", \"#00A087FF\", \"#3C5488FF\", \"#F39B7FFF\",\n",
        "             \"#8491B4FF\", \"#91D1C2FF\", \"#DC0000FF\", \"#7E6148FF\", \"#B09C85FF\"]\n",
        "cluster_colors = [\"#DC050C\", \"#FB8072\", \"#1965B0\", \"#7BAFDE\", \"#882E72\", \"#B17BA6\", \"#FF7F00\", \"#FDB462\", \"#E7298A\",\n",
        "                  \"#E78AC3\", \"#33A02C\", \"#B2DF8A\", \"#55A1B1\", \"#8DD3C7\", \"#A6761D\", \"#E6AB02\", \"#7570B3\", \"#BEAED4\", \"#666666\", \"#999999\",\n",
        "                  \"#aa8282\", \"#d4b7b7\", \"#8600bf\", \"#ba5ce3\", \"#808000\", \"#aeae5c\", \"#1e90ff\", \"#00bfff\", \"#56ff0d\", \"#ffff00\"]\n",
        "ari_colors = ['#5AAA46', '#F59F00']"
      ],
      "outputs": [],
      "execution_count": null,
      "metadata": {},
      "id": "da6ba466-fffa-4fbf-8e20-7108ad5476be"
    },
    {
      "cell_type": "markdown",
      "source": [
        "# load data"
      ],
      "metadata": {
        "tags": []
      },
      "id": "6a64e0d2-0cae-4dfa-8e0f-3a8474f141ab"
    },
    {
      "cell_type": "code",
      "source": [
        "# load the three modalities data with motif\n",
        "cd4_mdata = mu.read(data_path+'PreRA_teaseq_cd4_3modality.h5mu')"
      ],
      "outputs": [],
      "execution_count": null,
      "metadata": {},
      "id": "10aa9862-08ec-4fd8-abf4-7ac78cf46c8a"
    },
    {
      "cell_type": "code",
      "source": [
        "cd4_mdata"
      ],
      "outputs": [],
      "execution_count": null,
      "metadata": {},
      "id": "4c696ff3-fd34-488d-a6e5-ec1ade4c529f"
    },
    {
      "cell_type": "code",
      "source": [
        "# update the aifi labels with majority voting\n",
        "tea_aifi_labels = pd.read_csv('/home/jupyter/data/preRA_teaseq/EXP-00243/totalVI/output_results/PreRA_TEASeq_aifi_labels.csv',\n",
        "                              index_col=0)\n",
        "tea_aifi_labels.head()"
      ],
      "outputs": [],
      "execution_count": null,
      "metadata": {},
      "id": "e1b4a33c-d4aa-46bf-abdc-38e66ae86445"
    },
    {
      "cell_type": "code",
      "source": [
        "# remove the orinigal labels\n",
        "labels_cols = ['immunehealth_l1', 'immunehealth_l1_conf_score', 'immunehealth_l2',\n",
        "               'immunehealth_l2_conf_score',\t'immunehealth_l3',\t'immunehealth_l3_conf_score']\n",
        "cd4_mdata.obs = cd4_mdata.obs.drop(columns=labels_cols)"
      ],
      "outputs": [],
      "execution_count": null,
      "metadata": {},
      "id": "6c534111-8554-4652-b217-204e3981ed40"
    },
    {
      "cell_type": "code",
      "source": [
        "# add back the updated labels\n",
        "cd4_mdata.obs = cd4_mdata.obs.merge(\n",
        "    tea_aifi_labels, how='left', left_index=True, right_index=True)"
      ],
      "outputs": [],
      "execution_count": null,
      "metadata": {},
      "id": "7ef138ba-e388-4dc4-98e2-80ba9dad8ac1"
    },
    {
      "cell_type": "code",
      "source": [
        "cd4_mdata.update()"
      ],
      "outputs": [],
      "execution_count": null,
      "metadata": {},
      "id": "8f7cadcb-9671-406c-89bc-5ab806fb1b9d"
    },
    {
      "cell_type": "markdown",
      "source": [
        "# rerun umap for each modality"
      ],
      "metadata": {},
      "id": "55307c07-8b19-48ad-a889-9d785d2241ed"
    },
    {
      "cell_type": "markdown",
      "source": [
        "## process rna"
      ],
      "metadata": {},
      "id": "f42d9a3c-f816-4ba8-98e4-107e33fa1bcf"
    },
    {
      "cell_type": "code",
      "source": [
        "rna = cd4_mdata['rna']"
      ],
      "outputs": [],
      "execution_count": null,
      "metadata": {},
      "id": "3a6cf5bf-6086-4fbb-b80c-d1d339d9445a"
    },
    {
      "cell_type": "code",
      "source": [
        "# redo the nromalization\n",
        "\n",
        "rna.X = rna.layers['counts'].copy()\n",
        "sc.pp.normalize_total(rna)\n",
        "sc.pp.log1p(rna)"
      ],
      "outputs": [],
      "execution_count": null,
      "metadata": {},
      "id": "ba21e533-7fa6-492c-9427-f6fe88b67c1d"
    },
    {
      "cell_type": "code",
      "source": [
        "# rna.layers['counts'][1:25, 1:25].toarray()"
      ],
      "outputs": [],
      "execution_count": null,
      "metadata": {},
      "id": "0abd5a11-9045-4ef0-a905-5ce657ee87d2"
    },
    {
      "cell_type": "code",
      "source": [
        "# # save log-normalised counts in a .raw slot:\n",
        "rna.raw = rna\n",
        "# # scale\n",
        "sc.pp.scale(rna, max_value=10)"
      ],
      "outputs": [],
      "execution_count": null,
      "metadata": {},
      "id": "5bf06d29-6ed8-41e4-85c7-4d65835a4dfc"
    },
    {
      "cell_type": "code",
      "source": [
        "p1 = sns.histplot(rna.obs[\"total_counts\"], bins=100, kde=False)"
      ],
      "outputs": [],
      "execution_count": null,
      "metadata": {},
      "id": "88bb7fa6-9117-4bcf-bd5b-3e3255cd16b9"
    },
    {
      "cell_type": "code",
      "source": [
        "rna"
      ],
      "outputs": [],
      "execution_count": null,
      "metadata": {},
      "id": "8fe88036-d05c-47be-826a-3834f16aad6e"
    },
    {
      "cell_type": "code",
      "source": [
        "# %%time\n",
        "# sc.pp.highly_variable_genes(rna, min_mean=0.0125, max_mean=3, min_disp=0.5)"
      ],
      "outputs": [],
      "execution_count": null,
      "metadata": {},
      "id": "0c496ef6-f828-44e3-9023-b95cce7a8e64"
    },
    {
      "cell_type": "code",
      "source": [
        "sc.pl.highly_variable_genes(rna)"
      ],
      "outputs": [],
      "execution_count": null,
      "metadata": {},
      "id": "ae5d59df-67b4-4b98-9511-a0ef039d97a8"
    },
    {
      "cell_type": "code",
      "source": [
        "# # run umap in all modality\n",
        "# for m in cd4_mdata.mod.keys():\n",
        "#     sc.tl.pca(cd4_mdata[m], svd_solver='arpack')\n",
        "#     sc.pp.neighbors(cd4_mdata[m])\n",
        "#     sc.tl.umap(cd4_mdata[m], random_state=1)"
      ],
      "outputs": [],
      "execution_count": null,
      "metadata": {},
      "id": "4246d6f3-333e-420a-963d-36a28370c83d"
    },
    {
      "cell_type": "code",
      "source": [
        "# redo the PCA\n",
        "sc.tl.pca(rna, svd_solver='arpack')\n",
        "sc.pl.pca_variance_ratio(rna, log=True)"
      ],
      "outputs": [],
      "execution_count": null,
      "metadata": {},
      "id": "ae9d7d9b-8187-484a-89b7-7ae07c35c71f"
    },
    {
      "cell_type": "code",
      "source": [
        "sc.pp.neighbors(rna)\n",
        "sc.tl.umap(rna)"
      ],
      "outputs": [],
      "execution_count": null,
      "metadata": {},
      "id": "9f796308-7dc8-4dc1-9d77-9f9189e7daf3"
    },
    {
      "cell_type": "code",
      "source": [
        "# run cluters and umap\n",
        "sc.tl.leiden(rna, resolution=1)"
      ],
      "outputs": [],
      "execution_count": null,
      "metadata": {},
      "id": "fbfca946-abc1-430a-af19-ce75dc5e0aa8"
    },
    {
      "cell_type": "code",
      "source": [
        "sc.tl.leiden(rna, resolution=0.5, restrict_to=[\n",
        "             'leiden', ['3']], key_added='leiden_c3')"
      ],
      "outputs": [],
      "execution_count": null,
      "metadata": {},
      "id": "4dd85483-5fd0-45bc-af84-19a32c68b436"
    },
    {
      "cell_type": "code",
      "source": [
        "cd4_mdata.update()"
      ],
      "outputs": [],
      "execution_count": null,
      "metadata": {},
      "id": "5f6278cc-5651-4c5f-a9c3-e330ded09cca"
    },
    {
      "cell_type": "code",
      "source": [
        "cd4_mdata"
      ],
      "outputs": [],
      "execution_count": null,
      "metadata": {},
      "id": "2b0573b6-5dc3-4c33-abf7-e8369482db9d"
    },
    {
      "cell_type": "code",
      "source": [
        "# plot the umap\n",
        "mu.pl.embedding(cd4_mdata, basis=\"rna:X_umap\", legend_fontsize=6,\n",
        "                color=[\"clean_l2_cell_types\", 'immunehealth_l3'],\n",
        "                save=proj_name+'cd4_rnaumap.pdf')"
      ],
      "outputs": [],
      "execution_count": null,
      "metadata": {},
      "id": "62e558e8-bf63-42bf-97d3-dc49726cdc2c"
    },
    {
      "cell_type": "code",
      "source": [
        "# plot the umap\n",
        "mu.pl.embedding(cd4_mdata, basis=\"rna:X_umap\", color=['immunehealth_l3'])"
      ],
      "outputs": [],
      "execution_count": null,
      "metadata": {},
      "id": "9fc69940-7e5f-4101-ba2b-7980d4d20cf6"
    },
    {
      "cell_type": "code",
      "source": [
        "# plot the umap\n",
        "mu.pl.embedding(cd4_mdata, basis=\"rna:X_umap\", color=[\n",
        "                'rna:leiden_c3'], legend_loc=\"on data\")"
      ],
      "outputs": [],
      "execution_count": null,
      "metadata": {},
      "id": "99d785ca-92e7-486f-b94b-48743b3d82f9"
    },
    {
      "cell_type": "markdown",
      "source": [
        "## process ADT"
      ],
      "metadata": {},
      "id": "8872d7c8-5a0a-4e19-9194-56d2989134d2"
    },
    {
      "cell_type": "code",
      "source": [
        "# redo the nromalization\n",
        "adt = cd4_mdata['prot']\n",
        "adt"
      ],
      "outputs": [],
      "execution_count": null,
      "metadata": {},
      "id": "5d4802a0-9901-4361-82b2-e9a71cf5023b"
    },
    {
      "cell_type": "code",
      "source": [
        "# remove isotype in the adt analysis\n",
        "adt = adt[:, adt.var[adt.var['highly_variable']].index].copy()"
      ],
      "outputs": [],
      "execution_count": null,
      "metadata": {},
      "id": "9ac07d60-74d3-4ad6-b8cb-6e0a5ce532e0"
    },
    {
      "cell_type": "code",
      "source": [
        "adt"
      ],
      "outputs": [],
      "execution_count": null,
      "metadata": {},
      "id": "2fcae1f8-8895-4af2-8053-67212c0e2a3d"
    },
    {
      "cell_type": "code",
      "source": [
        "cd4_mdata.update()"
      ],
      "outputs": [],
      "execution_count": null,
      "metadata": {},
      "id": "e2a2fda0-c6e5-4300-9826-18c3aefca932"
    },
    {
      "cell_type": "code",
      "source": [
        "adt.var"
      ],
      "outputs": [],
      "execution_count": null,
      "metadata": {},
      "id": "dafc469c-579d-43e5-a4a0-44418400606b"
    },
    {
      "cell_type": "code",
      "source": [
        "# run pca\n",
        "sc.tl.pca(adt)\n",
        "sc.pl.pca_variance_ratio(adt, log=True)"
      ],
      "outputs": [],
      "execution_count": null,
      "metadata": {},
      "id": "17d11cc0-1a25-49df-b241-1485cb6c3ceb"
    },
    {
      "cell_type": "code",
      "source": [
        "# clustering umap in protein\n",
        "sc.pp.neighbors(adt)\n",
        "sc.tl.umap(adt)"
      ],
      "outputs": [],
      "execution_count": null,
      "metadata": {},
      "id": "3e4f6f85-3a17-482f-b918-36bd753110bb"
    },
    {
      "cell_type": "code",
      "source": [
        "cd4_mdata.update()"
      ],
      "outputs": [],
      "execution_count": null,
      "metadata": {},
      "id": "85d84874-791a-4ede-9620-2839acae4145"
    },
    {
      "cell_type": "code",
      "source": [
        "cd4_mdata"
      ],
      "outputs": [],
      "execution_count": null,
      "metadata": {},
      "id": "2272a4fa-8a76-4300-b246-ddf7eebefb93"
    },
    {
      "cell_type": "code",
      "source": [
        "# plot the umap\n",
        "mu.pl.embedding(cd4_mdata, basis=\"prot:X_umap\",\n",
        "                color=[\"clean_l2_cell_types\",\n",
        "                       'immunehealth_l2',  'immunehealth_l3'],\n",
        "                save=proj_name+'cd4_adtumap.png',\n",
        "                legend_loc=\"on data\")"
      ],
      "outputs": [],
      "execution_count": null,
      "metadata": {},
      "id": "2b53b600-d91f-43a3-82c1-db44db2c7123"
    },
    {
      "cell_type": "markdown",
      "source": [
        "## process atac"
      ],
      "metadata": {},
      "id": "d893a6fc-b94f-4c7f-87a0-22316292a66e"
    },
    {
      "cell_type": "code",
      "source": [
        "# redo the nromalization\n",
        "atac = cd4_mdata['atac']\n",
        "atac"
      ],
      "outputs": [],
      "execution_count": null,
      "metadata": {},
      "id": "19af83a1-bcba-417a-81b9-8cd7c9108c0b"
    },
    {
      "cell_type": "code",
      "source": [
        "sc.pp.neighbors(atac, use_rep='X_LSI')\n",
        "sc.tl.umap(atac)"
      ],
      "outputs": [],
      "execution_count": null,
      "metadata": {},
      "id": "8de11300-456a-45d2-96b0-662146b7907d"
    },
    {
      "cell_type": "code",
      "source": [
        "# run cluters and umap\n",
        "sc.tl.leiden(atac, resolution=0.8)"
      ],
      "outputs": [],
      "execution_count": null,
      "metadata": {},
      "id": "075234ff-ef0d-492f-a00f-aab72494be14"
    },
    {
      "cell_type": "code",
      "source": [
        "cd4_mdata.update()"
      ],
      "outputs": [],
      "execution_count": null,
      "metadata": {},
      "id": "1ccae6c4-2d08-4f3e-af74-a02ff65eadad"
    },
    {
      "cell_type": "code",
      "source": [
        "atac"
      ],
      "outputs": [],
      "execution_count": null,
      "metadata": {},
      "id": "4a5d12c5-0315-46ea-a1db-54109a871c47"
    },
    {
      "cell_type": "code",
      "source": [
        "# plot the umap\n",
        "mu.pl.embedding(cd4_mdata, basis=\"atac:X_ArchRumap\",\n",
        "                color=[\"clean_l2_cell_types\", 'immunehealth_l2',\n",
        "                       'immunehealth_l3', 'atac:leiden'],\n",
        "                save=proj_name + 'cd4_ArchRumap.png',\n",
        "                legend_loc=\"on data\")"
      ],
      "outputs": [],
      "execution_count": null,
      "metadata": {},
      "id": "40e41266-0c2f-45e1-ad96-0ffae8b3b493"
    },
    {
      "cell_type": "code",
      "source": [],
      "outputs": [],
      "execution_count": null,
      "metadata": {},
      "id": "6f6c0e57-c936-4bf0-ba07-4dcec14d97b9"
    },
    {
      "cell_type": "code",
      "source": [
        "# plot the umap\n",
        "mu.pl.embedding(cd4_mdata, basis=\"atac:X_ArchRumap\",\n",
        "                color=[\"clean_l2_cell_types\"],\n",
        "                save=proj_name+'cd4_ArchRumap_clean_l2_cell_types.png')"
      ],
      "outputs": [],
      "execution_count": null,
      "metadata": {},
      "id": "b7ed5300-495a-46f7-bf97-f7d74056de00"
    },
    {
      "cell_type": "code",
      "source": [
        "# plot the umap\n",
        "mu.pl.embedding(cd4_mdata, basis=\"atac:X_ArchRumap\",\n",
        "                color=[\"Clusters\"],\n",
        "                save=proj_name+'cd4_ArchRumap_Clusters.png')"
      ],
      "outputs": [],
      "execution_count": null,
      "metadata": {},
      "id": "5d0e47b3-4496-4e5f-9a32-3e8cf2206445"
    },
    {
      "cell_type": "code",
      "source": [
        "# plot the umap\n",
        "mu.pl.embedding(cd4_mdata, basis=\"atac:X_ArchRumap\",\n",
        "                color=[\"clean_l2_cell_types\", 'immunehealth_l3', 'cohort',\n",
        "                       'atac:leiden'], legend_loc=\"on data\")"
      ],
      "outputs": [],
      "execution_count": null,
      "metadata": {},
      "id": "0f6171e0-065c-4cc5-a007-ae6310e5298c"
    },
    {
      "cell_type": "code",
      "source": [
        "# plot the umap\n",
        "mu.pl.embedding(cd4_mdata, basis=\"atac:X_ArchRumap\",\n",
        "                color=['cohort'], legend_loc=\"on data\")"
      ],
      "outputs": [],
      "execution_count": null,
      "metadata": {},
      "id": "64263c96-f458-45f5-83e2-2f1623c2e17c"
    },
    {
      "cell_type": "code",
      "source": [
        "# plot the umap\n",
        "mu.pl.embedding(cd4_mdata, basis=\"atac:X_ArchRumap\", color=['immunehealth_l3'])"
      ],
      "outputs": [],
      "execution_count": null,
      "metadata": {},
      "id": "ed231bb9-5a8d-4167-bc0b-6396d8f59648"
    },
    {
      "cell_type": "markdown",
      "source": [
        "## run 3wnn"
      ],
      "metadata": {},
      "id": "fdb15f14-664a-4f68-9bcc-f96fc1a7b723"
    },
    {
      "cell_type": "code",
      "source": [
        "cd4_mdata"
      ],
      "outputs": [],
      "execution_count": null,
      "metadata": {},
      "id": "362db7d4-3cb8-43cb-9fb5-1dfe1f5c6618"
    },
    {
      "cell_type": "code",
      "source": [
        "mu.pp.neighbors(cd4_mdata, key_added='wnn')"
      ],
      "outputs": [],
      "execution_count": null,
      "metadata": {},
      "id": "53d331fa-f127-4090-9e5a-15a3b932d27b"
    },
    {
      "cell_type": "code",
      "source": [
        "mu.tl.umap(cd4_mdata, neighbors_key='wnn', random_state=10)"
      ],
      "outputs": [],
      "execution_count": null,
      "metadata": {},
      "id": "a89741c5-b2bf-41a9-9da7-6d027fd1f804"
    },
    {
      "cell_type": "code",
      "source": [
        "sc.tl.leiden(cd4_mdata, resolution=0.8, neighbors_key='wnn',\n",
        "             key_added='leiden_wnn_0.8')"
      ],
      "outputs": [],
      "execution_count": null,
      "metadata": {},
      "id": "9672d4a2-9a58-4793-becc-056104b5d291"
    },
    {
      "cell_type": "code",
      "source": [
        "mu.pl.umap(cd4_mdata, color=['rna:mod_weight',\n",
        "           'prot:mod_weight', 'atac:mod_weight'], cmap='RdBu')"
      ],
      "outputs": [],
      "execution_count": null,
      "metadata": {},
      "id": "6c1c92a2-3420-4958-9196-e3b89d2179f3"
    },
    {
      "cell_type": "code",
      "source": [
        "mu.pl.umap(cd4_mdata, color=['rna:IL21'], save=proj_name+'IL21rna_umap.pdf')"
      ],
      "outputs": [],
      "execution_count": null,
      "metadata": {},
      "id": "f1b63c80-f8c6-43ba-80fd-6dedf07d0cf9"
    },
    {
      "cell_type": "code",
      "source": [
        "# plot the umap\n",
        "mu.pl.embedding(cd4_mdata, basis=\"atac:X_ArchRumap\",\n",
        "                color=[\"clean_l2_cell_types\"], legend_loc=\"none\",\n",
        "                save=proj_name+'clean_l2_cell_types_Archr_umap.pdf')"
      ],
      "outputs": [],
      "execution_count": null,
      "metadata": {},
      "id": "46e561e7-aa8c-489e-8352-3a062d4fe13d"
    },
    {
      "cell_type": "code",
      "source": [
        "# plot the umap\n",
        "mu.pl.embedding(cd4_mdata, basis=\"rna:X_umap\", title='rna_umap', legend_loc=None,\n",
        "                color=['immunehealth_l3'],\n",
        "                save=proj_name+'immunehealth_l3_rnaumap.png')"
      ],
      "outputs": [],
      "execution_count": null,
      "metadata": {},
      "id": "e6610ef6-b401-4a7c-82b6-c06adb74baa5"
    },
    {
      "cell_type": "code",
      "source": [
        "# plot the umap\n",
        "mu.pl.embedding(cd4_mdata, basis=\"prot:X_umap\", title='adt_umap', legend_loc=None,\n",
        "                color=['immunehealth_l3'],\n",
        "                save=proj_name+'immunehealth_l3_adtUmap.png')"
      ],
      "outputs": [],
      "execution_count": null,
      "metadata": {},
      "id": "c8cde70a-99d6-410c-9829-3bf7769dfecf"
    },
    {
      "cell_type": "code",
      "source": [
        "# plot the umap\n",
        "mu.pl.embedding(cd4_mdata, basis=\"atac:X_ArchRumap\", title='ATAC_umap', legend_loc=None,\n",
        "                color=['immunehealth_l3'],\n",
        "                save=proj_name+'immunehealth_l3_ATACUmap.png')"
      ],
      "outputs": [],
      "execution_count": null,
      "metadata": {},
      "id": "d7244742-5ee2-41e5-b6a4-715e548f6d4a"
    },
    {
      "cell_type": "code",
      "source": [
        "cd4_mdata"
      ],
      "outputs": [],
      "execution_count": null,
      "metadata": {},
      "id": "833331d8-f352-4f6f-8e0d-004c955bd7f1"
    },
    {
      "cell_type": "code",
      "source": [
        "mu.pl.umap(cd4_mdata, color=[\"immunehealth_l2\"],\n",
        "           # palette=cluster_colors,\n",
        "           save=proj_name + 'immunehealth_l2_3wnn_umap.pdf')"
      ],
      "outputs": [],
      "execution_count": null,
      "metadata": {},
      "id": "6ba9dc5b-1874-4dd7-8a2d-e904c3cb9466"
    },
    {
      "cell_type": "code",
      "source": [],
      "outputs": [],
      "execution_count": null,
      "metadata": {},
      "id": "6a2cbb1d-85b7-4b25-8bd3-03187d16a420"
    },
    {
      "cell_type": "code",
      "source": [
        "mu.pl.umap(cd4_mdata, color=[\"leiden_wnn\"], legend_loc='on data',\n",
        "           # palette=cluster_colors,\n",
        "           save=proj_name + 'leiden_3wnn_umap.pdf')"
      ],
      "outputs": [],
      "execution_count": null,
      "metadata": {},
      "id": "0b79b10b-3e95-4543-9c46-5784c4cc32fd"
    },
    {
      "cell_type": "markdown",
      "source": [
        "### label cd4 t cells by clusters"
      ],
      "metadata": {},
      "id": "a3ab945a-a4a8-4df9-8d4b-4eee8caea899"
    },
    {
      "cell_type": "code",
      "source": [
        "cd4_mdata.obs['3wnn_labels'] = cd4_mdata.obs['leiden_wnn'].astype('int')\n",
        "cd4_mdata.obs.loc[cd4_mdata.obs['3wnn_labels'].isin(\n",
        "    [0, 1, 2, 5, 12]), '3wnn_labels'] = 'CD4 Naive'\n",
        "cd4_mdata.obs.loc[cd4_mdata.obs['3wnn_labels'].isin(\n",
        "    [8, 15]), '3wnn_labels'] = 'Treg'\n",
        "cd4_mdata.obs.loc[cd4_mdata.obs['3wnn_labels'].isin(\n",
        "    [11]), '3wnn_labels'] = 'CD4 CTL'\n",
        "cd4_mdata.obs.loc[cd4_mdata.obs['3wnn_labels'].isin(\n",
        "    [3, 6, 9, 10, 14, 4, 7, 13]), '3wnn_labels'] = 'CD4 Memory'\n",
        "cd4_mdata.obs['3wnn_labels'] = cd4_mdata.obs['3wnn_labels'].astype('str')"
      ],
      "outputs": [],
      "execution_count": null,
      "metadata": {},
      "id": "1b2ab5a3-8268-49e9-915d-e01ff35c6556"
    },
    {
      "cell_type": "code",
      "source": [
        "mu.pl.umap(cd4_mdata, color=[\"3wnn_labels\"], legend_loc='on data',\n",
        "           palette=npg_color,\n",
        "           save=proj_name + '3wnn_labels_types_3wnn_umap.pdf')"
      ],
      "outputs": [],
      "execution_count": null,
      "metadata": {},
      "id": "68d5ecff-3d4d-4ab9-8991-7c57e66a2975"
    },
    {
      "cell_type": "code",
      "source": [
        "cd4_mdata.obs['cohort']"
      ],
      "outputs": [],
      "execution_count": null,
      "metadata": {},
      "id": "0e1132e3-d4fd-44f7-8515-c01af419ce5b"
    },
    {
      "cell_type": "code",
      "source": [
        "cd4_mdata.obs['status'] = cd4_mdata.obs['cohort'].astype('str')\n",
        "cd4_mdata.obs.loc[cd4_mdata.obs['status'] == 'Healthy', 'status'] = 'CON2'\n",
        "cd4_mdata.obs.loc[cd4_mdata.obs['status'] == 'pre-RA', 'status'] = 'ARI'"
      ],
      "outputs": [],
      "execution_count": null,
      "metadata": {},
      "id": "3908d247-0719-4d5e-8cd6-2abbb534e33d"
    },
    {
      "cell_type": "code",
      "source": [
        "p1 = mu.pl.umap(cd4_mdata, color=[\"3wnn_labels\"], legend_loc='on data',\n",
        "                palette=npg_color, show=False)\n",
        "p1.set_xlabel(\"WNN UMAP1\")\n",
        "p1.set_ylabel(\"WNN UMAP2\")\n",
        "p1.set_title('Cell types')\n",
        "p1.figure.savefig(fig_path+proj_name + '3wnn_labels_3wnn_umap.pdf')"
      ],
      "outputs": [],
      "execution_count": null,
      "metadata": {
        "scrolled": true
      },
      "id": "108c43b0-2458-4bc8-b1db-650163db1e43"
    },
    {
      "cell_type": "code",
      "source": [
        "cd4_mdata"
      ],
      "outputs": [],
      "execution_count": null,
      "metadata": {},
      "id": "a1fc6283-09d6-4a8e-8aa0-1176b4656020"
    },
    {
      "cell_type": "code",
      "source": [
        "atac.obsm['X_archrumap'] = atac.obsm['X_ArchRumap']\n",
        "atac.obs['status'] = cd4_mdata.obs['status']"
      ],
      "outputs": [],
      "execution_count": null,
      "metadata": {},
      "id": "43f65672-ba86-4d25-8e4b-1472db5be706"
    },
    {
      "cell_type": "code",
      "source": [
        "sc.tl.embedding_density(atac, basis='ArchRumap', groupby='status')"
      ],
      "outputs": [],
      "execution_count": null,
      "metadata": {},
      "id": "8c8a01b6-3e19-41e2-8983-04b42c987745"
    },
    {
      "cell_type": "code",
      "source": [
        "sc.pl.embedding_density(\n",
        "    atac, basis='archrumap', key='archrumap_density_status',\n",
        "    save=proj_name + 'archrumap_status_density.pdf'\n",
        ")"
      ],
      "outputs": [],
      "execution_count": null,
      "metadata": {},
      "id": "373fabf5-4291-43f2-9bfe-bdd71f604594"
    },
    {
      "cell_type": "code",
      "source": [
        "# plot the umap\n",
        "mu.pl.embedding(cd4_mdata, basis=\"atac:X_ArchRumap\", palette=ari_colors,\n",
        "                color=['status'])"
      ],
      "outputs": [],
      "execution_count": null,
      "metadata": {},
      "id": "3e11da49-db35-4abe-9011-b4523f1247d7"
    },
    {
      "cell_type": "code",
      "source": [
        "rna.obs['status'] = cd4_mdata.obs['status']"
      ],
      "outputs": [],
      "execution_count": null,
      "metadata": {},
      "id": "6b285005-0027-4647-ada2-48b6c873e4e4"
    },
    {
      "cell_type": "code",
      "source": [
        "# plot IL21\n",
        "with plt.rc_context({\"figure.figsize\": (2, 1), \"figure.dpi\": (300)}):\n",
        "    sc.pl.violin(rna[cd4_mdata.obs['clean_l2_cell_types'] == 'cd4_naive'],\n",
        "                 'IL21', groupby='status', size=0, save=proj_name+'cd4na_IL21_rna.pdf')"
      ],
      "outputs": [],
      "execution_count": null,
      "metadata": {},
      "id": "0eadfc6d-7a45-46e2-aead-b5468adcf5fd"
    },
    {
      "cell_type": "code",
      "source": [
        "rna.obs['3wnn_labels'] = cd4_mdata.obs['3wnn_labels']"
      ],
      "outputs": [],
      "execution_count": null,
      "metadata": {},
      "id": "167925d3-49eb-4f90-ab2c-0b64d1e33d13"
    },
    {
      "cell_type": "code",
      "source": [
        "cd4_mdata.var_names"
      ],
      "outputs": [],
      "execution_count": null,
      "metadata": {},
      "id": "4bb4646e-fa9c-4fb9-a768-1a7886213446"
    },
    {
      "cell_type": "code",
      "source": [
        "# plot IL21\n",
        "# sc.pl.violin(cd4_mdata, 'rna:IL21', groupby='3wnn_labels', size=0, save=proj_name+'cd4na_IL21_rna.pdf')"
      ],
      "outputs": [],
      "execution_count": null,
      "metadata": {},
      "id": "c011a0cc-303a-4103-9770-c565e5ca5ccb"
    },
    {
      "cell_type": "code",
      "source": [
        "rna.obs['status']"
      ],
      "outputs": [],
      "execution_count": null,
      "metadata": {},
      "id": "3460d343-f95a-4066-b776-86067e03d2ab"
    },
    {
      "cell_type": "code",
      "source": [
        "# Define matplotlib Axes\n",
        "# Number of Axes & plot size\n",
        "ncols = 1\n",
        "nrows = 2\n",
        "figsize = 4\n",
        "# wspace = 0.5\n",
        "fig, axs = plt.subplots(\n",
        "    nrows=nrows,\n",
        "    ncols=ncols,\n",
        "    figsize=(ncols * figsize, nrows * figsize + figsize * wspace),\n",
        ")\n",
        "\n",
        "mu.pl.umap(cd4_mdata, color=[\"clean_l2_cell_types\"],\n",
        "           frameon=True, ax=axs[0], outline_width=0, legend_loc=None, show=False)\n",
        "axs[0].set_xlabel(\"\")\n",
        "axs[0].set_ylabel(\"\")\n",
        "axs[0].set_title('cell types')\n",
        "axs[0].figure.savefig(fig_path+proj_name + 'clean_l2_cell_types_3wnn_umap.pdf')\n",
        "mu.pl.umap(cd4_mdata, color=[\"status\"], frameon=True, ax=axs[1],\n",
        "           outline_width=0, show=False)\n",
        "axs[1].set_xlabel(\"WNN UMAP1\")\n",
        "axs[1].set_ylabel(\"WNN UMAP2\")\n",
        "axs[1].figure.savefig(fig_path+proj_name + 'status_3wnn_umap.pdf')\n",
        "\n",
        "fig.savefig(fig_path+proj_name + 'clean_l2_cell_types_status_3wnn_umap.pdf')"
      ],
      "outputs": [],
      "execution_count": null,
      "metadata": {},
      "id": "7d8291d2-093c-4443-959b-c102a204d33a"
    },
    {
      "cell_type": "code",
      "source": [
        "mu.pl.umap(cd4_mdata, color=[\"prot:CD62L\"])"
      ],
      "outputs": [],
      "execution_count": null,
      "metadata": {},
      "id": "a04a91eb-1d85-4540-9ce7-68454445b67b"
    },
    {
      "cell_type": "code",
      "source": [
        "mu.pl.umap(cd4_mdata, color=[\n",
        "    'immunehealth_l3'],\n",
        "    save=proj_name + 'immunehealth_l3_3wnn_umap.png')"
      ],
      "outputs": [],
      "execution_count": null,
      "metadata": {},
      "id": "960d7060-1ef4-4928-b2b0-e9753dc6ae78"
    },
    {
      "cell_type": "code",
      "source": [
        "cd4_mdata"
      ],
      "outputs": [],
      "execution_count": null,
      "metadata": {},
      "id": "d82ef456-d572-40f3-a3c8-e2c330523449"
    },
    {
      "cell_type": "code",
      "source": [
        "mu.pl.umap(cd4_mdata, legend_loc=\"on data\",\n",
        "           color=['3wnn_labels', 'immunehealth_l3', 'leiden_wnn',\n",
        "                  'prot:CD49d', 'prot:CD25', 'prot:CD185', 'prot:CD279',\n",
        "                  'rna:FAS', 'rna:FOXP3', 'rna:IL2RA'],\n",
        "           vmin='p1', vmax='p99',\n",
        "           save=proj_name + 'wsnn_res.0.8_3wnn_umap.pdf')"
      ],
      "outputs": [],
      "execution_count": null,
      "metadata": {},
      "id": "e379c283-51a6-4987-8275-b1e6549135ef"
    },
    {
      "cell_type": "code",
      "source": [
        "# plot the umap\n",
        "mu.pl.embedding(cd4_mdata, basis=\"atac:X_ArchRumap\", vmin='p1', vmax='p99',\n",
        "                color=[\"clean_l2_cell_types\", 'prot:CD49d',\n",
        "                       'prot:CD25', 'rna:FAS', 'rna:FOXP3', 'rna:IL2RA'],\n",
        "                save=proj_name + 'cd4_ArchRumap_markers.png',\n",
        "                legend_loc=\"on data\")"
      ],
      "outputs": [],
      "execution_count": null,
      "metadata": {},
      "id": "b0458408-7502-4f63-b252-96d24b3ac395"
    },
    {
      "cell_type": "code",
      "source": [
        "cd4_mdata"
      ],
      "outputs": [],
      "execution_count": null,
      "metadata": {},
      "id": "98f2bc6c-319b-4b9b-b227-ca1f33d55542"
    },
    {
      "cell_type": "code",
      "source": [
        "# plot the umap\n",
        "mu.pl.embedding(cd4_mdata, basis=\"atac:X_ArchRumap\", vmin='p5', vmax='p95',\n",
        "                color=['prot:CD5', 'rna:NR4A1'],\n",
        "                save=proj_name + 'cd4_ArchRumap_cd5_markers.png',\n",
        "                legend_loc=\"on data\")"
      ],
      "outputs": [],
      "execution_count": null,
      "metadata": {},
      "id": "93cc6cfd-f4cf-4b57-9e81-759a0ebdf7b6"
    },
    {
      "cell_type": "code",
      "source": [
        "cd4_mdata['prot'].obs['Archr_Clusters_0_8'] = cd4_mdata.obs['Archr_Clusters_0_8']"
      ],
      "outputs": [],
      "execution_count": null,
      "metadata": {},
      "id": "d40c000a-e6d1-4a15-8547-e3aed4399500"
    },
    {
      "cell_type": "code",
      "source": [
        "sc.pl.violin(cd4_mdata['prot'], 'CD5', groupby='Archr_Clusters_0_8')"
      ],
      "outputs": [],
      "execution_count": null,
      "metadata": {},
      "id": "45f8b083-6771-4f62-9db4-bbaa8520d084"
    },
    {
      "cell_type": "markdown",
      "source": [
        "## analyze archr clusters"
      ],
      "metadata": {},
      "id": "01d1f43c-86db-4145-aa92-e28b962921b1"
    },
    {
      "cell_type": "code",
      "source": [
        "rna = cd4_mdata['rna']\n",
        "adt = cd4_mdata['prot']"
      ],
      "outputs": [],
      "execution_count": null,
      "metadata": {},
      "id": "04d5e85b-1fce-4ed3-9193-390ac328af11"
    },
    {
      "cell_type": "code",
      "source": [
        "# load cluster identity in archr and load in mudata\n",
        "archr_cluster = pd.read_csv(\n",
        "    '/home/jupyter/data/preRA_teaseq/output_results/cd4_t/atac/PreRA_teaseq_cd4_t_atac_Clusters_0.8_cluster_barcodes.csv', index_col=0)\n",
        "archr_cluster"
      ],
      "outputs": [],
      "execution_count": null,
      "metadata": {},
      "id": "220ceb2c-2d5a-407c-bdf1-9293ed9d941d"
    },
    {
      "cell_type": "code",
      "source": [
        "cd4_mdata.obs = cd4_mdata.obs.merge(\n",
        "    archr_cluster, how='left', left_index=True, right_index=True)"
      ],
      "outputs": [],
      "execution_count": null,
      "metadata": {},
      "id": "db6fb846-ae4a-4c0d-83a5-802df14e857e"
    },
    {
      "cell_type": "code",
      "source": [
        "cd4_mdata"
      ],
      "outputs": [],
      "execution_count": null,
      "metadata": {},
      "id": "3a49c570-5946-4154-bc1e-7fcd9e07b30f"
    },
    {
      "cell_type": "code",
      "source": [
        "cd4_mdata.obs['atac_cluster'] = cd4_mdata.obs['Archr_Clusters_0_8'].str.replace(\n",
        "    'C', 'T').copy()"
      ],
      "outputs": [],
      "execution_count": null,
      "metadata": {},
      "id": "45aba8c3-a131-4f4c-a14a-b665cd947a75"
    },
    {
      "cell_type": "code",
      "source": [
        "# plot the umap\n",
        "mu.pl.embedding(cd4_mdata, basis=\"atac:X_ArchRumap\", save=proj_name+'cohort_umap.png',\n",
        "                color=['Archr_Clusters_0_8', 'l2_cell_types'], legend_loc=\"on data\")"
      ],
      "outputs": [],
      "execution_count": null,
      "metadata": {},
      "id": "70a1d225-0a48-4fa2-bfed-a9097cbba947"
    },
    {
      "cell_type": "code",
      "source": [
        "# plot the umap\n",
        "mu.pl.embedding(cd4_mdata, basis=\"atac:X_ArchRumap\", save=proj_name+'cohort_umap.png',\n",
        "                color=['cohort', 'Archr_Clusters_0_8', 'l2_cell_types'], legend_loc=\"on data\")"
      ],
      "outputs": [],
      "execution_count": null,
      "metadata": {},
      "id": "1774becb-3696-4d3c-a133-50872092e694"
    },
    {
      "cell_type": "code",
      "source": [
        "tcluster_colors = ['#8B97A7', \"#9E5780\", \"#E79CA3\",\n",
        "                   \"#542654\", \"#8cd4b7\",\n",
        "                   \"#AB9736\", \"#28594d\",  \"#B34205\", \"#1a7585\", \"#e9616d\", \"#85d2ff\", \"#0f2a43\"]"
      ],
      "outputs": [],
      "execution_count": null,
      "metadata": {},
      "id": "a78e0a66-bc7d-4b91-b9b8-2bda7466c21e"
    },
    {
      "cell_type": "code",
      "source": [
        "cd4_mdata.obs['atac_cluster'] = cd4_mdata.obs['Archr_Clusters_0_8'].str.replace(\n",
        "    'C', '').copy()\n",
        "# cd4_mdata.obs.loc[cd4_mdata.obs['3wnn_labels'].isin(['C2', 'C0','C0','C0',]), '3wnn_labels'] = 'CD4 Naive'\n",
        "# cd4_mdata.obs.loc[cd4_mdata.obs['3wnn_labels'].isin([8, 15]), '3wnn_labels'] = 'Treg'\n",
        "# cd4_mdata.obs.loc[cd4_mdata.obs['3wnn_labels'].isin([11]), '3wnn_labels'] = 'CD4 CTL'\n",
        "# cd4_mdata.obs.loc[cd4_mdata.obs['3wnn_labels'].isin([3, 6, 9,10, 14, 4, 7, 13]), '3wnn_labels'] = 'CD4 Memory'\n",
        "# cd4_mdata.obs['3wnn_labels'] = cd4_mdata.obs['3wnn_labels'].astype('str')"
      ],
      "outputs": [],
      "execution_count": null,
      "metadata": {},
      "id": "26d0392c-14e5-4eab-a18c-5dc07eb16e5c"
    },
    {
      "cell_type": "code",
      "source": [
        "# plot the umap\n",
        "mu.pl.embedding(cd4_mdata, basis=\"atac:X_ArchRumap\", palette=tcluster_colors,\n",
        "                save=proj_name+'atac_cluster_umap.pdf',\n",
        "                color=['atac_cluster'], legend_loc=\"on data\")"
      ],
      "outputs": [],
      "execution_count": null,
      "metadata": {},
      "id": "a037fb83-4275-43b4-8d09-58c69ec1e09e"
    },
    {
      "cell_type": "code",
      "source": [
        "# plot the umap\n",
        "mu.pl.embedding(cd4_mdata, basis=\"atac:X_ArchRumap\", palette=tcluster_colors,\n",
        "                save=proj_name+'atac_cluster_umap.pdf',\n",
        "                color=['atac_cluster'], legend_loc=\"on data\")"
      ],
      "outputs": [],
      "execution_count": null,
      "metadata": {},
      "id": "5ab91243-b083-49c0-9149-3e0f9dc53871"
    },
    {
      "cell_type": "code",
      "source": [
        "# plot the umap\n",
        "mu.pl.embedding(cd4_mdata, basis=\"atac:X_ArchRumap\", palette=tcluster_colors,\n",
        "                save=proj_name+'atac_cluster_legend.pdf',\n",
        "                color=['atac_cluster'])"
      ],
      "outputs": [],
      "execution_count": null,
      "metadata": {},
      "id": "5b6ff1f6-cc4d-4123-923c-494db7859b78"
    },
    {
      "cell_type": "code",
      "source": [
        "cd4_mdata['prot'].var.index[cd4_mdata['prot'].var.index.str.contains('CD49')]"
      ],
      "outputs": [],
      "execution_count": null,
      "metadata": {},
      "id": "794f736a-b7b2-4d44-ab17-6a0d0d687849"
    },
    {
      "cell_type": "code",
      "source": [
        "# plot the dotplot to differentiate the clusters\n",
        "markers = ['CD62L', 'CD162', 'CD45RO', 'CD45RA',\n",
        "           'CD25', 'KLRG1', 'CD183', 'CD49d']\n",
        "cd4_mdata['prot'].obs['atac_cluster'] = cd4_mdata.obs['atac_cluster']\n",
        "p1 = sc.pl.dotplot(cd4_mdata['prot'], markers,  groupby='atac_cluster', swap_axes=True,\n",
        "                   standard_scale='var', dendrogram=True,\n",
        "                   save=proj_name+'atac_cluster_dotplot.pdf')"
      ],
      "outputs": [],
      "execution_count": null,
      "metadata": {},
      "id": "4ff77971-de58-46a5-b4c7-7189029e66ba"
    },
    {
      "cell_type": "code",
      "source": [
        "# plot the dotplot to differentiate the clusters\n",
        "markers = ['PLCG2', 'CD27', 'FAS']\n",
        "cd4_mdata['rna'].obs['atac_cluster'] = cd4_mdata.obs['atac_cluster']\n",
        "p1 = sc.pl.dotplot(cd4_mdata['rna'], markers,  groupby='atac_cluster', swap_axes=True,\n",
        "                   standard_scale='var', categories_order=['T2', 'T5', 'T7', 'T4', 'T8', 'T3', 'T11', 'T1', 'T9', 'T6', 'T10'])"
      ],
      "outputs": [],
      "execution_count": null,
      "metadata": {},
      "id": "87d0056c-e855-400d-af3c-ba5fe83742a4"
    },
    {
      "cell_type": "code",
      "source": [
        "mu.pl.embedding(cd4_mdata, basis=\"atac:X_ArchRumap\",\n",
        "                color=['immunehealth_l3'])"
      ],
      "outputs": [],
      "execution_count": null,
      "metadata": {},
      "id": "b1755e55-e7d3-4987-ad39-1edea6b779d5"
    },
    {
      "cell_type": "code",
      "source": [
        "# plot umap in all modaliry\n",
        "mu.pl.umap(cd4_mdata, color=[\"Archr_Clusters_0_8\"], legend_loc='on data',\n",
        "           # palette=cluster_colors,\n",
        "           save=proj_name + 'Archr_Clusters_0_8_3wnn_umap.pdf')"
      ],
      "outputs": [],
      "execution_count": null,
      "metadata": {},
      "id": "ae15e7af-7f08-4459-bb01-df9448a56f89"
    },
    {
      "cell_type": "code",
      "source": [
        "# plot umap in all modaliry\n",
        "sc.pl.umap(rna, color=[\"atac_cluster\"], legend_loc='on data',\n",
        "           title='RNA',\n",
        "           save=proj_name + 'atac_cluster_rna_umap.pdf')"
      ],
      "outputs": [],
      "execution_count": null,
      "metadata": {},
      "id": "169dfe2c-2c6f-4fb1-bf7a-d5f7a4c65685"
    },
    {
      "cell_type": "code",
      "source": [
        "# plot umap in all modaliry\n",
        "adt.obs['atac_cluster'] = cd4_mdata.obs['atac_cluster'].copy()\n",
        "mu.pl.umap(adt, color=[\"atac_cluster\"], legend_loc='on data',\n",
        "           title='Surface protein',\n",
        "           save=proj_name + 'atac_cluster_adt_umap.pdf')"
      ],
      "outputs": [],
      "execution_count": null,
      "metadata": {},
      "id": "026cfe41-9b6b-4107-a0be-ba822a152c7c"
    },
    {
      "cell_type": "code",
      "source": [
        "mu.pl.umap(cd4_mdata, color=['immunehealth_l2'])"
      ],
      "outputs": [],
      "execution_count": null,
      "metadata": {},
      "id": "d052486c-4084-4a79-a4d4-e830def6d363"
    },
    {
      "cell_type": "code",
      "source": [
        "# plot the umap\n",
        "mu.pl.embedding(cd4_mdata, basis=\"atac:X_ArchRumap\",\n",
        "                color=['rna:CXCR5', 'rna:IL21'],\n",
        "                ncols=2,  # vmin ='p1', vmax ='p99',\n",
        "                save=proj_name+'_Archr_Clusters_0_8_umap_tfh_genes.pdf', legend_loc=\"on data\")"
      ],
      "outputs": [],
      "execution_count": null,
      "metadata": {},
      "id": "c821c0f2-aa7c-4afd-b074-a8e9a34653fd"
    },
    {
      "cell_type": "code",
      "source": [
        "# plot the umap\n",
        "mu.pl.embedding(cd4_mdata, basis=\"atac:X_ArchRumap\",\n",
        "                color=['prot:CD25',\n",
        "                       'prot:CD45RA', 'prot:CD45RO', 'prot:CD185', 'prot:CD279', 'prot:CD62L', 'rna:CXCR5',\n",
        "                       'rna:GZMB', 'rna:IL21',  'rna:PDCD1', 'rna:SELL', 'rna:CCR7', 'rna:SELPLG',\n",
        "                       'Archr_Clusters_0_8'],\n",
        "                ncols=4, vmin='p1', vmax='p99',\n",
        "                save=proj_name+'rna_Archr_Clusters_0_8_umap.png', legend_loc=\"on data\")"
      ],
      "outputs": [],
      "execution_count": null,
      "metadata": {},
      "id": "c8074e14-4b9c-4574-9c56-8e6e00606ca5"
    },
    {
      "cell_type": "code",
      "source": [
        "# plot the umap\n",
        "mu.pl.embedding(cd4_mdata, basis=\"atac:X_ArchRumap\",\n",
        "                color=['prot:CD45RA', 'prot:CD45RO', 'prot:CD25',\n",
        "                       'prot:CD185', 'prot:CD279', 'prot:KLRG1'],\n",
        "                ncols=3, vmin='p1', vmax='p99',\n",
        "                save=proj_name+'Archr_Clusters_0_8_protein_umap.png', legend_loc=\"on data\")"
      ],
      "outputs": [],
      "execution_count": null,
      "metadata": {},
      "id": "7bd869ab-00f9-43fd-b968-e980371ac539"
    },
    {
      "cell_type": "code",
      "source": [],
      "outputs": [],
      "execution_count": null,
      "metadata": {},
      "id": "88dea069-9597-4370-8e7f-8ce450a2d75a"
    },
    {
      "cell_type": "code",
      "source": [
        "# plot the umap\n",
        "mu.pl.embedding(cd4_mdata, basis=\"atac:X_ArchRumap\",\n",
        "                color=markers, vmin='p1', vmax='p99',\n",
        "                ncols=2,\n",
        "                save=proj_name+'Archr_Clusters_0_8_protein_cd62l_CD162_umap.png', legend_loc=\"on data\")"
      ],
      "outputs": [],
      "execution_count": null,
      "metadata": {},
      "id": "62d63b4c-e1c0-457e-a8e8-473c6c8ac907"
    },
    {
      "cell_type": "code",
      "source": [
        "# plot the umap\n",
        "mu.pl.embedding(cd4_mdata, basis=\"atac:X_ArchRumap\",\n",
        "                color=['prot:CD62L', 'prot:CD162',\n",
        "                       'rna:SELL', 'rna:SELPLG'],  # vmin ='p1', vmax ='p99',\n",
        "                ncols=2,\n",
        "                save=proj_name+'Archr_Clusters_0_8_rna_protein_cd62l_CD162_umap.png')"
      ],
      "outputs": [],
      "execution_count": null,
      "metadata": {},
      "id": "c48ee06d-2414-4e50-8bdd-a6afd3f89772"
    },
    {
      "cell_type": "code",
      "source": [
        "# plot the umap\n",
        "mu.pl.embedding(cd4_mdata, basis=\"atac:X_ArchRumap\",\n",
        "                color=['rna:SELL', 'rna:SELPLG'], vmin='p1', vmax='p99',\n",
        "                ncols=2,\n",
        "                save=proj_name+'Archr_Clusters_0_8_protein_cd62l_CD162_umap.png', legend_loc=\"on data\")"
      ],
      "outputs": [],
      "execution_count": null,
      "metadata": {},
      "id": "89e598f8-7035-4f45-9823-0a3f285cc7a5"
    },
    {
      "cell_type": "code",
      "source": [
        "markers = ['CD62L', 'CD162']\n",
        "sc.pl.violin(adt, markers, xlabel='Surface Protein',\n",
        "             groupby='Archr_Clusters_0_8',\n",
        "             save=proj_name + 'Archr_Clusters_0_8_protein_cd62l_CD162_violin.png')"
      ],
      "outputs": [],
      "execution_count": null,
      "metadata": {},
      "id": "cf413bf6-4465-48aa-9bc2-20dac1164b6a"
    },
    {
      "cell_type": "code",
      "source": [
        "markers = ['PLCG2']\n",
        "sc.pl.violin(rna, markers, xlabel='', use_raw=True,\n",
        "             groupby='Archr_Clusters_0_8',\n",
        "             save=proj_name + 'Archr_Clusters_0_8_rna_plcg2_violin.png')"
      ],
      "outputs": [],
      "execution_count": null,
      "metadata": {},
      "id": "adc015b3-16ee-407c-822b-f9b0cd986f5e"
    },
    {
      "cell_type": "code",
      "source": [
        "markers = ['CD62L', 'CD162']\n",
        "sc.pl.violin(adt, markers, xlabel='',\n",
        "             groupby='Archr_Clusters_0_8',\n",
        "             save=proj_name + 'Archr_Clusters_0_8_protein_cd62l_CD162_violin.png')"
      ],
      "outputs": [],
      "execution_count": null,
      "metadata": {},
      "id": "f4d1c0ae-9d42-4317-9e6b-bd29cce39335"
    },
    {
      "cell_type": "code",
      "source": [
        "sc.pl.violin(rna, ['SELL', 'SELPLG'],\n",
        "             groupby='Archr_Clusters_0_8', save=proj_name+'Archr_Clusters_0_8_protein_cd62l_CD162_rna_violin.png')"
      ],
      "outputs": [],
      "execution_count": null,
      "metadata": {},
      "id": "e48ab390-68e8-429d-8eee-fa14bcf8c75e"
    },
    {
      "cell_type": "code",
      "source": [
        "sc.pl.violin(cd4_mdata[cd4_mdata.obs['cohort'] == 'pre-RA']['prot'], markers, title='at-risk',\n",
        "             groupby='Archr_Clusters_0_8', save=proj_name+'Archr_Clusters_0_8_protein_cd62l_CD162_violin_at_risk.png')"
      ],
      "outputs": [],
      "execution_count": null,
      "metadata": {},
      "id": "2486d757-9836-4fed-abcb-7d9de0d8c401"
    },
    {
      "cell_type": "code",
      "source": [
        "sc.pl.violin(cd4_mdata[cd4_mdata.obs['cohort'] == 'Healthy']['prot'], markers, title='Healthy',\n",
        "             groupby='Archr_Clusters_0_8', save=proj_name+'Archr_Clusters_0_8_protein_cd62l_CD162_violin_healthy.png')"
      ],
      "outputs": [],
      "execution_count": null,
      "metadata": {},
      "id": "8df433f7-150e-4c0e-9190-481ac1b2078c"
    },
    {
      "cell_type": "code",
      "source": [
        "sc.pl.dotplot(prot, ['CD62L', 'CD162'], \"Archr_Clusters_0_8\", standard_scale=\"var\",\n",
        "              save=proj_name+'_rna_PLCG2_dotpolt.png')"
      ],
      "outputs": [],
      "execution_count": null,
      "metadata": {},
      "id": "80bdb944-146c-403b-8464-16f3ac3d89bb"
    },
    {
      "cell_type": "code",
      "source": [
        "sc.pl.violin(rna, ['SELL', 'SELPLG', 'CCR7'],\n",
        "             groupby='Archr_Clusters_0_8')"
      ],
      "outputs": [],
      "execution_count": null,
      "metadata": {},
      "id": "2864055a-23fd-411e-82f6-2180c52db5a9"
    },
    {
      "cell_type": "code",
      "source": [
        "prot.obs['subject_id'] = cd4_mdata.obs['subject_id'].copy()\n",
        "sc.pl.violin(prot, ['CD62L'], rotation=90,\n",
        "             groupby='subject_id')"
      ],
      "outputs": [],
      "execution_count": null,
      "metadata": {},
      "id": "6d9ebcdc-93ef-4f40-9fbe-3589dbb6050c"
    },
    {
      "cell_type": "code",
      "source": [
        "sc.pl.scatter(prot, x='CD62L', y='CD45RA',\n",
        "              color='Archr_Clusters_0_8', legend_loc='on data')"
      ],
      "outputs": [],
      "execution_count": null,
      "metadata": {},
      "id": "6ca8d725-fe0a-45cf-b634-a0cf38d09397"
    },
    {
      "cell_type": "code",
      "source": [
        "cd4_mdata.obs.loc[cd4_mdata.obs['immunehealth_l3'].str.contains(\n",
        "    'CD4'), ['immunehealth_l3']].drop_duplicates()"
      ],
      "outputs": [],
      "execution_count": null,
      "metadata": {},
      "id": "0224de8c-eb0e-4086-9aad-1e00d4cc6ff4"
    },
    {
      "cell_type": "code",
      "source": [
        "cd4mem_labels = ['CM CD4 T cell', 'GZMB- CD27+ EM CD4 T cell', 'KLRF1- GZMB+ CD27- memory CD4 T cell',\n",
        "                 'GZMB- CD27- EM CD4 T cell', 'ISG+ memory CD4 T cell']\n",
        "cd4mem_mdata = cd4_mdata[cd4_mdata.obs['immunehealth_l3'].isin(cd4mem_labels)]\n",
        "cd4mem_mdata"
      ],
      "outputs": [],
      "execution_count": null,
      "metadata": {
        "scrolled": true
      },
      "id": "2a2a812e-b5d3-4c8d-bcd4-cea4d0de1695"
    },
    {
      "cell_type": "code",
      "source": [
        "# for celltype in cd4mem_labels:\n",
        "#     sc.pl.dotplot(cd4_mdata[cd4_mdata.obs['immunehealth_l3']==celltype]['prot'],\n",
        "#                   'CD62L', groupby='subject_id')"
      ],
      "outputs": [],
      "execution_count": null,
      "metadata": {},
      "id": "58fe0be8-77d4-4107-afd2-f1b74d2905a4"
    },
    {
      "cell_type": "code",
      "source": [
        "# markers = {'T-cell': 'CD62L', 'B-cell': 'CD62L', 'myeloid': 'CD62L'}\n",
        "sc.pl.DotPlot(cd4mem_mdata['prot'], markers, groupby='immunehealth_l3').show()"
      ],
      "outputs": [],
      "execution_count": null,
      "metadata": {},
      "id": "14dcc284-0512-4e64-83d2-82042b5a6d19"
    },
    {
      "cell_type": "code",
      "source": [
        "sc.pl.violin(adt, ['CD62L'],\n",
        "             groupby='immunehealth_l3')"
      ],
      "outputs": [],
      "execution_count": null,
      "metadata": {},
      "id": "8f86f7ae-06a8-4539-b410-c8e9de31056f"
    },
    {
      "cell_type": "code",
      "source": [
        "sc.pl.violin(cd4na_mdata['prot'], ['CD183', 'CD52', 'CD161', 'CD95', 'TIGIT', 'HLA_A_B_C', 'CD62L'],\n",
        "             groupby='subject_id')"
      ],
      "outputs": [],
      "execution_count": null,
      "metadata": {},
      "id": "89ee4b58-d6f4-4f68-991d-8b493dd4cb81"
    },
    {
      "cell_type": "code",
      "source": [
        "pd.Series(['CD183', 'CD52', 'CD161', 'CD95', 'CD183', 'TIGIT']\n",
        "          ).isin(cd4_mdata['prot'].var_names)"
      ],
      "outputs": [],
      "execution_count": null,
      "metadata": {},
      "id": "b0378ef5-436c-429a-8d38-15f9be4ca913"
    },
    {
      "cell_type": "code",
      "source": [
        "# plot the umap\n",
        "mu.pl.embedding(cd4_mdata, basis=\"atac:X_ArchRumap\", color=[\n",
        "                \"clean_l2_cell_types\"], save=proj_name+'cd4_ArchRumap_cell_type.png')"
      ],
      "outputs": [],
      "execution_count": null,
      "metadata": {},
      "id": "a61d66e0-89d9-4ceb-b84b-1a4fb298712b"
    },
    {
      "cell_type": "code",
      "source": [],
      "outputs": [],
      "execution_count": null,
      "metadata": {},
      "id": "87532f40-d19f-429a-9fdb-1beed97cbb70"
    },
    {
      "cell_type": "code",
      "source": [
        "cd4_mdata.update()"
      ],
      "outputs": [],
      "execution_count": null,
      "metadata": {},
      "id": "6c326fbd-5988-4b5e-b6e3-3d8fb7df3cc4"
    },
    {
      "cell_type": "code",
      "source": [
        "# test for marker genes in atac clusters\n",
        "# use rna\n",
        "rna = cd4_mdata['rna']\n",
        "rna.obs['Archr_Clusters_0_8'] = cd4_mdata.obs['Archr_Clusters_0_8'].copy()\n",
        "rna"
      ],
      "outputs": [],
      "execution_count": null,
      "metadata": {},
      "id": "4ea3c740-b2e2-43fd-b4b5-ccf631017d31"
    },
    {
      "cell_type": "code",
      "source": [
        "rna.X"
      ],
      "outputs": [],
      "execution_count": null,
      "metadata": {},
      "id": "1adae646-e595-4a49-88a2-fde8bddc020d"
    },
    {
      "cell_type": "code",
      "source": [
        "rna.obs['Archr_Clusters_0_8'] = rna.obs['Archr_Clusters_0_8'].astype('str')"
      ],
      "outputs": [],
      "execution_count": null,
      "metadata": {},
      "id": "6210e949-dd92-4381-bec5-d72b0f64d0bb"
    },
    {
      "cell_type": "code",
      "source": [
        "# test on degs\n",
        "sc.tl.rank_genes_groups(rna, groupby='Archr_Clusters_0_8',\n",
        "                        method='wilcoxon', key_added='Archr_Clusters_0_8_wilcoxon')"
      ],
      "outputs": [],
      "execution_count": null,
      "metadata": {},
      "id": "2e1de5bd-0df2-444f-ae4d-09c148e2b5d1"
    },
    {
      "cell_type": "code",
      "source": [
        "cluster_name = 'Archr_Clusters_0_8'\n",
        "sc.pl.rank_genes_groups_dotplot(\n",
        "    rna, groupby=cluster_name, standard_scale=\"var\", n_genes=5, key=cluster_name + \"_wilcoxon\",\n",
        "    save='_' + proj_name + cluster_name+'_naive_top_genes_dotplot_scale.png'\n",
        ")"
      ],
      "outputs": [],
      "execution_count": null,
      "metadata": {},
      "id": "a68ba9f5-fcbf-469c-a3c6-0ceb63d83c81"
    },
    {
      "cell_type": "code",
      "source": [
        "sc.pl.dotplot(rna, ['PLCG2', 'MALAT1', 'FYB1', 'BCL2'], \"Archr_Clusters_0_8\", standard_scale=\"var\",\n",
        "              save=proj_name+'_rna_PLCG2_dotpolt.png')"
      ],
      "outputs": [],
      "execution_count": null,
      "metadata": {},
      "id": "4b866fda-bd39-410f-8d15-410fa903b7b4"
    },
    {
      "cell_type": "code",
      "source": [
        "# test on protein\n",
        "adt = cd4_mdata['prot']\n",
        "adt.obs['Archr_Clusters_0_8'] = cd4_mdata.obs['Archr_Clusters_0_8'].copy()"
      ],
      "outputs": [],
      "execution_count": null,
      "metadata": {},
      "id": "e76f9322-1f07-409b-9f1b-f4020c8ed011"
    },
    {
      "cell_type": "code",
      "source": [
        "adt"
      ],
      "outputs": [],
      "execution_count": null,
      "metadata": {},
      "id": "01b2a990-621d-4fc9-9ca7-3be930899b87"
    },
    {
      "cell_type": "code",
      "source": [
        "# run daps in all adts except the isotypes\n",
        "sc.tl.rank_genes_groups(adt, groupby='Archr_Clusters_0_8', mask_var=['CD169', 'HLA_DR_DP_DQ', 'CD131', 'HLA_DR_DP_DQ'],\n",
        "                        method='wilcoxon', key_added='Archr_Clusters_0_8_wilcoxon_vari')"
      ],
      "outputs": [],
      "execution_count": null,
      "metadata": {},
      "id": "91911c7f-d44b-4e01-af05-d2ce6543f570"
    },
    {
      "cell_type": "code",
      "source": [
        "# adt.uns['Archr_Clusters_0_8_wilcoxon_vari']"
      ],
      "outputs": [],
      "execution_count": null,
      "metadata": {
        "scrolled": true
      },
      "id": "90e734f2-0ca2-4285-a827-8976c67f7d33"
    },
    {
      "cell_type": "code",
      "source": [
        "cluster_name = 'Archr_Clusters_0_8'\n",
        "sc.pl.rank_genes_groups_dotplot(\n",
        "    cd4_mdata['prot'], groupby=cluster_name, standard_scale=\"var\", n_genes=5, key='Archr_Clusters_0_8_wilcoxon_vari',\n",
        "    save='_' + proj_name + cluster_name+'_naive_top_adt_dotplot_scale.pdf'\n",
        ")"
      ],
      "outputs": [],
      "execution_count": null,
      "metadata": {},
      "id": "c7f15824-ebfe-4f51-8ba5-3f5a3e50207a"
    },
    {
      "cell_type": "code",
      "source": [
        "# save the three modalities data\n",
        "cd4_mdata.update()\n",
        "cd4_mdata.write(data_path+'PreRA_teaseq_cd4_3modality.h5mu')"
      ],
      "outputs": [],
      "execution_count": null,
      "metadata": {},
      "id": "af3468b7-6230-4516-9c91-203dbee7eb3a"
    }
  ],
  "metadata": {
    "kernelspec": {
      "display_name": "py_scrna",
      "language": "python",
      "name": "python3"
    },
    "language_info": {
      "codemirror_mode": {
        "name": "ipython",
        "version": 3
      },
      "file_extension": ".py",
      "mimetype": "text/x-python",
      "name": "python",
      "nbconvert_exporter": "python",
      "pygments_lexer": "ipython3",
      "version": "3.12.2"
    },
    "nteract": {
      "version": "0.28.0"
    }
  },
  "nbformat": 4,
  "nbformat_minor": 5
}