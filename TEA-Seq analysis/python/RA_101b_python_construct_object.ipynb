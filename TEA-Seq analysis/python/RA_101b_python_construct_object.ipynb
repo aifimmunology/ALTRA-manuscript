{
  "cells": [
    {
      "cell_type": "markdown",
      "source": [
        "# build a muon matrix to store the preRA teaseq data"
      ],
      "metadata": {},
      "id": "a30b69f6-a6fd-470d-8fba-6b9d5144cc49"
    },
    {
      "cell_type": "code",
      "source": [
        "import numpy as np\n",
        "import pandas as pd\n",
        "import scanpy as sc\n",
        "import muon as mu\n",
        "import muon.prot as pt\n",
        "import seaborn as sns\n",
        "from mudata import MuData"
      ],
      "outputs": [],
      "execution_count": null,
      "metadata": {},
      "id": "4eb41a99-b8dc-42dc-9ed6-748eab18555b"
    },
    {
      "cell_type": "code",
      "source": [
        "from matplotlib import pyplot as plt\n",
        "plt.rcParams['figure.dpi'] = 100"
      ],
      "outputs": [],
      "execution_count": null,
      "metadata": {},
      "id": "2e43e8e5-e4ea-4045-abea-c5c2b23d5b76"
    },
    {
      "cell_type": "code",
      "source": [
        "# set fig size\n",
        "plt.rcParams['figure.figsize'] = [10, 8]"
      ],
      "outputs": [],
      "execution_count": null,
      "metadata": {},
      "id": "bb470b68-cf8a-43f2-8153-99737ed3583c"
    },
    {
      "cell_type": "code",
      "source": [
        "data_path = '/home/jupyter/data/preRA_teaseq/EXP-00243/totalVI/'"
      ],
      "outputs": [],
      "execution_count": null,
      "metadata": {},
      "id": "9af0fe3f-2416-4599-be86-aa3e7eb93109"
    },
    {
      "cell_type": "markdown",
      "source": [
        "# construct the 3 modalities dataset"
      ],
      "metadata": {},
      "id": "854121bf-05cd-469e-9ec6-6dbc50850bc9"
    },
    {
      "cell_type": "code",
      "source": [
        "# load the sc\n",
        "prera_tea_2mod = mu.read(\n",
        "    data_path + 'PreRA_teaseq_seurat_qc_filtered_cells_lsi.h5mu')"
      ],
      "outputs": [],
      "execution_count": null,
      "metadata": {},
      "id": "2d4fee89-105c-4474-a5f7-2df76dc981c7"
    },
    {
      "cell_type": "code",
      "source": [
        "prera_tea_2mod"
      ],
      "outputs": [],
      "execution_count": null,
      "metadata": {},
      "id": "5443da3b-6b63-4b88-be64-0dfc0b2ff835"
    },
    {
      "cell_type": "code",
      "source": [
        "# make clean names for the adt names\n",
        "prera_tea_2mod['prot'].var.index = prera_tea_2mod['prot'].var.index.str.replace(\n",
        "    '-|\\\\.', '_', regex=True)"
      ],
      "outputs": [],
      "execution_count": null,
      "metadata": {},
      "id": "a409bcf9-23e5-402b-9376-12887dbff158"
    },
    {
      "cell_type": "code",
      "source": [
        "prera_tea_2mod['prot'].var.index.to_list()"
      ],
      "outputs": [],
      "execution_count": null,
      "metadata": {},
      "id": "c3aad9ef-7948-44a2-bbb2-1103df705668"
    },
    {
      "cell_type": "code",
      "source": [
        "# rename the RNA assay in the mudata\n",
        "prera_tea = MuData({\"rna\": prera_tea_2mod['RNA'].copy(),\n",
        "                    \"prot\": prera_tea_2mod['prot'].copy()})\n",
        "prera_tea.obs = prera_tea_2mod.obs"
      ],
      "outputs": [],
      "execution_count": null,
      "metadata": {},
      "id": "4edce63d-65f0-404d-8cff-c76e0baaa913"
    },
    {
      "cell_type": "code",
      "source": [
        "prera_tea"
      ],
      "outputs": [],
      "execution_count": null,
      "metadata": {},
      "id": "e3c364af-eb59-4ebd-8196-5cdb916d81b5"
    },
    {
      "cell_type": "markdown",
      "source": [
        "## add atac data into the mudata"
      ],
      "metadata": {},
      "id": "fb914c31-b24f-4ab3-b7e4-ccd4e054b1a2"
    },
    {
      "cell_type": "code",
      "source": [
        "atac = mu.read(\n",
        "    data_path+'preRA_teaseq_totalvi_mocha_peakmatrix_l2_celltype.h5ad')"
      ],
      "outputs": [],
      "execution_count": null,
      "metadata": {},
      "id": "8c18b26b-6f74-4e25-ac4d-2c6fa3de40af"
    },
    {
      "cell_type": "code",
      "source": [
        "# replace the index name with barcodes\n",
        "atac.obs.index = atac.obs['barcodes']"
      ],
      "outputs": [],
      "execution_count": null,
      "metadata": {},
      "id": "e42445a6-79bf-4756-ac8a-fd05f2a7a9a3"
    },
    {
      "cell_type": "code",
      "source": [
        "atac.var\n",
        "var_df = atac.var.reset_index().rename(columns={'index': 'peaks'})\n",
        "var_df"
      ],
      "outputs": [],
      "execution_count": null,
      "metadata": {},
      "id": "36c26ec6-890a-4d80-adae-0bbf00996caa"
    },
    {
      "cell_type": "code",
      "source": [
        "prera_tea.obs_names.difference(atac.obs_names)"
      ],
      "outputs": [],
      "execution_count": null,
      "metadata": {},
      "id": "642af07e-b62d-45cf-b9ee-0fc6b2de8dd9"
    },
    {
      "cell_type": "code",
      "source": [
        "prera_tea.mod['atac'] = atac.copy()"
      ],
      "outputs": [],
      "execution_count": null,
      "metadata": {},
      "id": "c569bef5-a645-43d9-a6b5-2f36bd66a28d"
    },
    {
      "cell_type": "code",
      "source": [
        "# prera_tea.var_names_make_unique()"
      ],
      "outputs": [],
      "execution_count": null,
      "metadata": {},
      "id": "ba9892d7-f7c5-449f-b775-3d3f2f7e8591"
    },
    {
      "cell_type": "code",
      "source": [
        "prera_tea.update()"
      ],
      "outputs": [],
      "execution_count": null,
      "metadata": {},
      "id": "ee940e87-f93e-45a7-99ad-0fd4114d9ab0"
    },
    {
      "cell_type": "code",
      "source": [
        "prera_tea"
      ],
      "outputs": [],
      "execution_count": null,
      "metadata": {},
      "id": "8112d06c-de49-41dd-a4c8-4246f265f0e1"
    },
    {
      "cell_type": "code",
      "source": [
        "prera_tea.write(data_path+'PreRA_teaseq_qc_filtered_cells_3modality.h5mu')"
      ],
      "outputs": [],
      "execution_count": null,
      "metadata": {
        "scrolled": true
      },
      "id": "fc16905b-feef-4c3a-aafa-bd543014db69"
    },
    {
      "cell_type": "markdown",
      "source": [
        "## remove BR2024 from the analysis"
      ],
      "metadata": {},
      "id": "97773ec3-5753-4961-a059-28f3ac33c7a7"
    },
    {
      "cell_type": "code",
      "source": [
        "# load the three modalities data\n",
        "prera_tea = mu.read(data_path+'PreRA_teaseq_qc_filtered_cells_3modality.h5mu')"
      ],
      "outputs": [],
      "execution_count": null,
      "metadata": {},
      "id": "6f160457-96eb-4d1b-8732-d2f87acb6c95"
    },
    {
      "cell_type": "code",
      "source": [
        "prera_tea.obs['subject_id'].unique()"
      ],
      "outputs": [],
      "execution_count": null,
      "metadata": {},
      "id": "11de0fea-770c-47d7-9074-70c1eb94e8ad"
    },
    {
      "cell_type": "code",
      "source": [
        "# remove BR2024\n",
        "prera_tea_fl = prera_tea[prera_tea.obs['subject_id'] != 'BR2024'].copy()"
      ],
      "outputs": [],
      "execution_count": null,
      "metadata": {},
      "id": "eeca23c6-44e5-4def-aaa3-334432379b9e"
    },
    {
      "cell_type": "code",
      "source": [
        "prera_tea_fl['prot'].X[1:50, 1:50].toarray()"
      ],
      "outputs": [],
      "execution_count": null,
      "metadata": {},
      "id": "81f649ac-1560-4b36-88af-be1d4abf4529"
    },
    {
      "cell_type": "code",
      "source": [
        "prera_tea_fl['prot'].var_names"
      ],
      "outputs": [],
      "execution_count": null,
      "metadata": {},
      "id": "46cdc744-d4fc-4c51-a23e-5c967073e422"
    },
    {
      "cell_type": "code",
      "source": [
        "prera_tea_fl.write(\n",
        "    data_path+'PreRA_teaseq_qc_filtered_cells_3modality_rmBR2024.h5mu')"
      ],
      "outputs": [],
      "execution_count": null,
      "metadata": {
        "scrolled": true
      },
      "id": "3509d616-f2b9-4643-9457-5b7b88fb7676"
    },
    {
      "cell_type": "markdown",
      "source": [
        "# add ATAC gene scores and TF activity into the mudata"
      ],
      "metadata": {},
      "id": "5fd54ba5-8736-4b82-91d1-50150c753868"
    },
    {
      "cell_type": "code",
      "source": [
        "# load the three modalities data\n",
        "prera_tea = mu.read(\n",
        "    data_path + 'PreRA_teaseq_qc_filtered_cells_3modality_rmBR2024.h5mu')"
      ],
      "outputs": [],
      "execution_count": null,
      "metadata": {},
      "id": "1b38f7bd-01f1-4175-a6d8-5c99fcb57b2e"
    },
    {
      "cell_type": "code",
      "source": [
        "# load the tf and gene scores\n",
        "atac_path = '/home/jupyter/data/preRA_teaseq/output_results/atac/'\n",
        "tf_activity = sc.read_h5ad(atac_path + 'preRA_teaseq_TFscores.h5ad')\n",
        "gene_scores = sc.read_h5ad(atac_path + 'preRA_teaseq_GeneScoreMatrix.h5ad')"
      ],
      "outputs": [],
      "execution_count": null,
      "metadata": {},
      "id": "797c39f9-22f3-4903-a153-ee41cf338ae9"
    },
    {
      "cell_type": "code",
      "source": [
        "prera_tea"
      ],
      "outputs": [],
      "execution_count": null,
      "metadata": {},
      "id": "19a8f209-6de2-47d0-a064-5ff7e923c23f"
    },
    {
      "cell_type": "code",
      "source": [
        "# reset the index for gene scores and tf to match mudata\n",
        "gene_scores.obs.index = gene_scores.obs.index.str.split('#').str[1]\n",
        "tf_activity.obs.index = tf_activity.obs.index.str.split('#').str[1]"
      ],
      "outputs": [],
      "execution_count": null,
      "metadata": {},
      "id": "afe0a42b-f1f9-4169-bd68-40ac49b59c6a"
    },
    {
      "cell_type": "code",
      "source": [
        "# remove number in tf index\n",
        "tf_activity.var.index = tf_activity.var.index.str.split('_').str[0]"
      ],
      "outputs": [],
      "execution_count": null,
      "metadata": {},
      "id": "72691d39-98d8-4bc1-ae21-e27cca94b5ba"
    },
    {
      "cell_type": "code",
      "source": [
        "prera_tea.obs_names.difference(tf_activity.obs_names)"
      ],
      "outputs": [],
      "execution_count": null,
      "metadata": {},
      "id": "aa60b6f3-1b15-47e5-be2b-93e08a7bbfb1"
    },
    {
      "cell_type": "code",
      "source": [
        "# recreate the mudata with tf and gene scores\n",
        "prera_tea_5m = MuData({\"rna\": prera_tea['rna'].copy(),\n",
        "                       \"prot\": prera_tea['prot'].copy(),\n",
        "                       \"atac\": prera_tea['atac'].copy(),\n",
        "                       \"genescores\": gene_scores.copy(),\n",
        "                       \"tf\": tf_activity.copy()\n",
        "                       })\n",
        "prera_tea_5m.obs = prera_tea.obs.copy()\n",
        "prera_tea_5m.uns = prera_tea.uns.copy()\n",
        "prera_tea_5m.obsm = prera_tea.obsm.copy()\n",
        "prera_tea_5m.obsp = prera_tea.obsp.copy()"
      ],
      "outputs": [],
      "execution_count": null,
      "metadata": {},
      "id": "d763f73f-1446-43eb-9e9c-ded02aa094f7"
    },
    {
      "cell_type": "code",
      "source": [
        "prera_tea_5m['genescores'].var.index = prera_tea_5m['genescores'].var['name']"
      ],
      "outputs": [],
      "execution_count": null,
      "metadata": {},
      "id": "f0f7858f-7ace-4433-9306-097468e49461"
    },
    {
      "cell_type": "code",
      "source": [
        "prera_tea_5m.update()"
      ],
      "outputs": [],
      "execution_count": null,
      "metadata": {},
      "id": "59d0b1d3-5a24-4a44-aae6-fbd89cc0f4cc"
    },
    {
      "cell_type": "code",
      "source": [
        "mu.pl.umap(prera_tea_5m, color=['l2_cell_types'], legend_loc=\"on data\")"
      ],
      "outputs": [],
      "execution_count": null,
      "metadata": {},
      "id": "59abcfa6-a8de-4bf1-9c5c-f443a6a092b2"
    },
    {
      "cell_type": "code",
      "source": [
        "prera_tea_5m"
      ],
      "outputs": [],
      "execution_count": null,
      "metadata": {},
      "id": "50aa475c-1bd3-4033-91df-bcb1a1441bad"
    },
    {
      "cell_type": "code",
      "source": [
        "prera_tea_5m['genescores'].var.loc[prera_tea_5m['genescores'].var.index == 'BCL6']\n",
        "prera_tea_5m['tf'].var.loc[prera_tea_5m['tf'].var.index == 'BCL6']"
      ],
      "outputs": [],
      "execution_count": null,
      "metadata": {},
      "id": "e747b297-a475-4dbc-b198-21fd032e29eb"
    },
    {
      "cell_type": "code",
      "source": [
        "with plt.rc_context({\"figure.figsize\": (4, 4), \"figure.dpi\": (300)}):\n",
        "    mu.pl.umap(prera_tea, color=['manual_labels'],  # palette=cluster_colors_32,\n",
        "               legend_loc=\"on data\", legend_fontsize='small',\n",
        "               # save=proj_name + '_manual_labels_legend.pdf',\n",
        "               show=True)\n",
        "# p1.set_xlabel(\"WNN UMAP1\")\n",
        "# p1.set_ylabel(\"WNN UMAP2\")\n",
        "# p1.set_title('Cell types')\n",
        "# plt.tight_layout()\n",
        "# p1.figure.savefig(fig_path+proj_name + '_manual_labels.pdf')"
      ],
      "outputs": [],
      "execution_count": null,
      "metadata": {},
      "id": "5f7e4eaa-2d54-480d-84d0-79fbfb3b8881"
    },
    {
      "cell_type": "code",
      "source": [
        "mu.pl.umap(prera_tea_5m, color=['prot:CD3'])"
      ],
      "outputs": [],
      "execution_count": null,
      "metadata": {},
      "id": "d6986f35-cbd0-4b1c-9862-8336debe0373"
    },
    {
      "cell_type": "code",
      "source": [
        "mu.pl.umap(prera_tea_5m, color=['rna:CD3'])"
      ],
      "outputs": [],
      "execution_count": null,
      "metadata": {},
      "id": "0d95a93a-e13a-4e23-a227-939cb68bbb02"
    },
    {
      "cell_type": "code",
      "source": [
        "mu.pl.umap(prera_tea_5m, color=['genescores:CD3D'], vmin='p5', vmax='p95')"
      ],
      "outputs": [],
      "execution_count": null,
      "metadata": {},
      "id": "d64d69d1-312d-4cec-99fe-574d262adaf6"
    },
    {
      "cell_type": "code",
      "source": [
        "mu.pl.umap(prera_tea_5m, color=['tf:MAF'], vmin='p5', vmax='p95')"
      ],
      "outputs": [],
      "execution_count": null,
      "metadata": {},
      "id": "8b129868-bbf6-4b96-bd4a-e62137662061"
    },
    {
      "cell_type": "code",
      "source": [
        "prera_tea_5m.write(\n",
        "    data_path+'PreRA_teaseq_qc_filtered_cells_5modality_rmBR2024.h5mu')"
      ],
      "outputs": [],
      "execution_count": null,
      "metadata": {},
      "id": "5737113c-9a69-4ceb-bc5b-2098120b823e"
    }
  ],
  "metadata": {
    "kernelspec": {
      "display_name": "py_scrna",
      "language": "python",
      "name": "python3"
    },
    "language_info": {
      "codemirror_mode": {
        "name": "ipython",
        "version": 3
      },
      "file_extension": ".py",
      "mimetype": "text/x-python",
      "name": "python",
      "nbconvert_exporter": "python",
      "pygments_lexer": "ipython3",
      "version": "3.12.2"
    },
    "nteract": {
      "version": "0.28.0"
    }
  },
  "nbformat": 4,
  "nbformat_minor": 5
}