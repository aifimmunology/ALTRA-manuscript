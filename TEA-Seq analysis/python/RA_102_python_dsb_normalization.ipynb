{
  "cells": [
    {
      "cell_type": "markdown",
      "source": [
        "# run dsb nomralization in moun for ADT denoise and normalization"
      ],
      "metadata": {},
      "id": "69d5f47a-376d-4622-9276-7cca0cfae024"
    },
    {
      "cell_type": "code",
      "source": [
        "import h5py\n",
        "import scipy.sparse as scs\n",
        "import pandas as pd\n",
        "import anndata as ad\n",
        "import scanpy as sc\n",
        "import os\n",
        "import glob\n",
        "import muon as mu\n",
        "import mudata as md\n",
        "from mudata import MuData\n",
        "import numpy as np\n",
        "import seaborn as sns\n",
        "from muon import prot as pt"
      ],
      "outputs": [],
      "execution_count": null,
      "metadata": {},
      "id": "6728fda5-69f2-4a95-a88f-cec8d49778d4"
    },
    {
      "cell_type": "code",
      "source": [
        "data_path = '/home/jupyter/data/preRA_teaseq/EXP-00243/cache/'"
      ],
      "outputs": [],
      "execution_count": null,
      "metadata": {},
      "id": "be2ea379-d721-414f-98cf-727e49c84c32"
    },
    {
      "cell_type": "code",
      "source": [
        "# load the rna raw count data\n",
        "raw_h5_path = '/home/jupyter/data/preRA_teaseq/EXP-00243/raw_counts/cache'\n",
        "raw_files = glob.glob(raw_h5_path + '*/**/*.h5', recursive=True)\n",
        "len(raw_files)"
      ],
      "outputs": [],
      "execution_count": null,
      "metadata": {},
      "id": "5cd4e976-0cd9-467c-9317-ccafca42576d"
    },
    {
      "cell_type": "code",
      "source": [
        "# helper functions\n",
        "# define a function to read gene expression matrix\n",
        "def read_mat(h5_con):\n",
        "    mat = scs.csc_matrix(\n",
        "        (h5_con['matrix']['data'][:],  # Count values\n",
        "         h5_con['matrix']['indices'][:],  # Row indices\n",
        "         h5_con['matrix']['indptr'][:]),  # Pointers for column positions\n",
        "        shape=tuple(h5_con['matrix']['shape'][:])  # Matrix dimensions\n",
        "    )\n",
        "    return mat\n",
        "\n",
        "# define a function to obeservation (i.e. metadata)\n",
        "\n",
        "\n",
        "def read_obs(h5con):\n",
        "    bc = h5con['matrix']['barcodes'][:]\n",
        "    bc = [x.decode('UTF-8') for x in bc]\n",
        "\n",
        "    # Initialized the DataFrame with cell barcodes\n",
        "    obs_df = pd.DataFrame({'barcodes': bc})\n",
        "\n",
        "    # Get the list of available metadata columns\n",
        "    obs_columns = h5con['matrix']['observations'].keys()\n",
        "\n",
        "    # For each column\n",
        "    for col in obs_columns:\n",
        "        # Read the values\n",
        "        values = h5con['matrix']['observations'][col][:]\n",
        "        # Check for byte storage\n",
        "        if (isinstance(values[0], (bytes, bytearray))):\n",
        "            # Decode byte strings\n",
        "            values = [x.decode('UTF-8') for x in values]\n",
        "        # Add column to the DataFrame\n",
        "        obs_df[col] = values\n",
        "\n",
        "    return obs_df\n",
        "# define a function to construct anndata object from a h5 file\n",
        "\n",
        "\n",
        "def read_h5_anndata(h5_file):\n",
        "    h5_con = h5py.File(h5_file, mode='r')\n",
        "    # extract the expression matrix\n",
        "    mat = read_mat(h5_con)\n",
        "    # extract gene names\n",
        "    genes = h5_con['matrix']['features']['name'][:]\n",
        "    genes = [x.decode('UTF-8') for x in genes]\n",
        "    # extract metadata\n",
        "    obs_df = read_obs(h5_con)\n",
        "    # construct anndata\n",
        "    adata = ad.AnnData(mat.T,\n",
        "                       obs=obs_df)\n",
        "    # make sure the gene names aligned\n",
        "    adata.var_names = genes\n",
        "\n",
        "    adata.var_names_make_unique()\n",
        "    return adata\n",
        "\n",
        "# helper functions for extract adt from H5 files\n",
        "\n",
        "# define a function to read ADT expression ADT\n",
        "\n",
        "\n",
        "def read_adt(h5_con):\n",
        "    mat = scs.csc_matrix(\n",
        "        (h5_con['prot']['data'][:],  # Count values\n",
        "         h5_con['prot']['indices'][:],  # Row indices\n",
        "         h5_con['prot']['indptr'][:]),  # Pointers for column positions\n",
        "        shape=tuple(h5_con['prot']['shape'][:])  # ADT dimensions\n",
        "    )\n",
        "    return mat\n",
        "\n",
        "# define a function to construct anndata object from a h5 file\n",
        "\n",
        "\n",
        "def read_h5_adt_anndata(h5_file):\n",
        "    h5_con = h5py.File(h5_file, mode='r')\n",
        "    # extract the expression matrix\n",
        "    mat = read_adt(h5_con)\n",
        "    # extract gene names\n",
        "    genes = h5_con['prot']['features']['id'][:]\n",
        "    genes = [x.decode('UTF-8') for x in genes]\n",
        "    # extract metadata\n",
        "    obs_df = read_obs(h5_con)\n",
        "    # construct anndata\n",
        "    adata = ad.AnnData(mat.T,\n",
        "                       obs=obs_df)\n",
        "    # make sure the gene names aligned\n",
        "    adata.var_names = genes\n",
        "\n",
        "    adata.var_names_make_unique()\n",
        "    return adata\n",
        "\n",
        "# define a function to combine above and constracut a mudata file from the h5 files of the cite seq dataset\n",
        "\n",
        "\n",
        "def read_cite_mudata(h5_file):\n",
        "    rna = read_h5_anndata(h5_file)\n",
        "    h5_adt = read_h5_adt_anndata(h5_file)\n",
        "    mdata = MuData({\"rna\": rna, \"ADT\": h5_adt})\n",
        "    return mdata\n",
        "\n",
        "# define a function to run all h5 file and combine a mudata object\n",
        "\n",
        "\n",
        "def read_cite_mudatas(h5_files):\n",
        "    rna = [read_h5_anndata(filename) for filename in h5_files]\n",
        "    join_rna = rna[0].concatenate(rna[1:])\n",
        "    adt = [read_h5_adt_anndata(filename) for filename in h5_files]\n",
        "    join_adt = adt[0].concatenate(adt[1:])\n",
        "    mdata = MuData({\"rna\": join_rna, \"ADT\": join_adt})\n",
        "    return mdata"
      ],
      "outputs": [],
      "execution_count": null,
      "metadata": {},
      "id": "9e623074-1cfd-4d88-956f-5e8fcec4c5e7"
    },
    {
      "cell_type": "code",
      "source": [
        "# helper functions\n",
        "\n",
        "# define a function to construct anndata object from a raw rna h5 file\n",
        "def read_raw_rna(h5_file):\n",
        "    h5_con = h5py.File(h5_file, mode='r')\n",
        "    # extract the expression matrix\n",
        "    mat = read_mat(h5_con)\n",
        "    # extract gene names\n",
        "    genes = h5_con['matrix']['features']['name'][:]\n",
        "    genes = [x.decode('UTF-8') for x in genes]\n",
        "    # extract metadata\n",
        "    bc = h5_con['matrix']['barcodes'][:]\n",
        "    bc = [x.decode('UTF-8') for x in bc]\n",
        "\n",
        "    # Initialized the DataFrame with cell barcodes\n",
        "    obs_df = pd.DataFrame({'barcodes': bc})\n",
        "\n",
        "    # construct anndata\n",
        "    adata = ad.AnnData(mat.T, obs=obs_df)\n",
        "    # make sure the gene names aligned\n",
        "    adata.var_names = genes\n",
        "    adata.var_names_make_unique()\n",
        "    # set barcodes as the index\n",
        "    adata.obs['barcodes'] = adata.obs['barcodes'].str.split('-').str[0]\n",
        "    adata.obs = adata.obs.set_index('barcodes')\n",
        "    return adata\n",
        "\n",
        "\n",
        "# define a function to construct anndata object from raw adt count table\n",
        "def read_raw_adt(adt_file):\n",
        "    # load the raw adt counts\n",
        "    raw_adt_tb = pd.read_csv(adt_file, index_col='cell_barcode')\n",
        "    raw_adt_tb.index.rename('barcodes', inplace=True)\n",
        "    raw_adt_counts = raw_adt_tb.drop('total', axis=1)\n",
        "    raw_adt = ad.AnnData(raw_adt_counts)\n",
        "    return raw_adt"
      ],
      "outputs": [],
      "execution_count": null,
      "metadata": {},
      "id": "ede971b8-019d-4d88-85ed-b6cf605a50e3"
    },
    {
      "cell_type": "code",
      "source": [
        "# raw_rna = read_raw_rna(raw_files[1])"
      ],
      "outputs": [],
      "execution_count": null,
      "metadata": {},
      "id": "8b2feb99-31d0-4779-8918-779ff055556f"
    },
    {
      "cell_type": "markdown",
      "source": [
        "## load prefiltered Raw data contains droplet"
      ],
      "metadata": {},
      "id": "0427512e-0482-4dd6-8329-9fc550fb392f"
    },
    {
      "cell_type": "code",
      "source": [
        "# load the adt raw count data\n",
        "raw_adt_files = glob.glob(\n",
        "    raw_h5_path + '*/**/*_Tag_Counts.csv', recursive=True)\n",
        "len(raw_adt_files)"
      ],
      "outputs": [],
      "execution_count": null,
      "metadata": {},
      "id": "4c86a0bb-b3e1-4b5c-a4ee-480882463d65"
    },
    {
      "cell_type": "code",
      "source": [
        "# match the raw rna and adt data file\n",
        "rna_files_tb = pd.DataFrame({'rna_files': raw_files})\n",
        "# match the raw rna and adt data file\n",
        "adt_files_tb = pd.DataFrame({'adt_files': raw_adt_files})\n",
        "# get the well id to match\n",
        "rna_files_tb['well_id'] = rna_files_tb['rna_files'].str.extract(r'(c\\dw\\d)')\n",
        "adt_files_tb['well_id'] = adt_files_tb['adt_files'].str.extract(r'(C\\dW\\d)')\n",
        "adt_files_tb['well_id'] = adt_files_tb['well_id'].str.lower()\n",
        "# generate the table to match data files\n",
        "files_tb = rna_files_tb.merge(adt_files_tb, on='well_id')"
      ],
      "outputs": [],
      "execution_count": null,
      "metadata": {
        "scrolled": true
      },
      "id": "1426c094-9818-445f-8ff6-02a83bc5b824"
    },
    {
      "cell_type": "code",
      "source": [
        "files_tb"
      ],
      "outputs": [],
      "execution_count": null,
      "metadata": {},
      "id": "77f18218-6984-4f51-84e5-1221b4065a2b"
    },
    {
      "cell_type": "code",
      "source": [
        "# define a function to construct anndata object from a h5 file\n",
        "def read_raw_cite(file_table):\n",
        "    rna = [read_raw_rna(filename) for filename in file_table['rna_files']]\n",
        "    # join_rna = rna[0].concat(rna[1:])\n",
        "    join_rna = ad.concat(rna, index_unique=\"_\")\n",
        "    adt = [read_raw_adt(filename) for filename in file_table['adt_files']]\n",
        "    join_adt = ad.concat(adt, index_unique='_')\n",
        "    # create mutatd\n",
        "    raw_mudata = MuData({\"rna\": join_rna, \"prot\": join_adt})\n",
        "    return raw_mudata"
      ],
      "outputs": [],
      "execution_count": null,
      "metadata": {
        "scrolled": true
      },
      "id": "d391fe8c-e5dc-4102-bfa0-9894e6a14d20"
    },
    {
      "cell_type": "code",
      "source": [
        "mdata_raw = read_raw_cite(files_tb.loc[0:1, :])"
      ],
      "outputs": [],
      "execution_count": null,
      "metadata": {},
      "id": "58920d4f-7aac-49e0-913a-5029cee9e2d7"
    },
    {
      "cell_type": "code",
      "source": [
        "mdata_raw"
      ],
      "outputs": [],
      "execution_count": null,
      "metadata": {},
      "id": "65c835b8-8438-491b-9faa-f8778125aae8"
    },
    {
      "cell_type": "code",
      "source": [
        "mdata_raw['rna'].obs"
      ],
      "outputs": [],
      "execution_count": null,
      "metadata": {},
      "id": "a52d3d38-e661-404c-8491-709bfe9035c6"
    },
    {
      "cell_type": "code",
      "source": [
        "mdata_raw['prot'].var_names"
      ],
      "outputs": [],
      "execution_count": null,
      "metadata": {},
      "id": "046d9baa-a850-4a69-b248-ce8f278d96c0"
    },
    {
      "cell_type": "code",
      "source": [
        "mdata_raw['rna'].obs.index.intersection(mdata_raw['prot'].obs.index)"
      ],
      "outputs": [],
      "execution_count": null,
      "metadata": {},
      "id": "036d8992-a73f-46c6-88bf-4f8ed0307f2d"
    },
    {
      "cell_type": "code",
      "source": [
        "# remove the cells from rna qc filtering\n",
        "mu.pp.intersect_obs(mdata_raw)"
      ],
      "outputs": [],
      "execution_count": null,
      "metadata": {},
      "id": "bab3e023-925d-4b14-93e8-31b2d5c2feb6"
    },
    {
      "cell_type": "code",
      "source": [
        "mdata_raw.update()"
      ],
      "outputs": [],
      "execution_count": null,
      "metadata": {},
      "id": "19dfa9f0-d382-455f-976c-2d9c1d4ea410"
    },
    {
      "cell_type": "code",
      "source": [
        "mdata_raw"
      ],
      "outputs": [],
      "execution_count": null,
      "metadata": {},
      "id": "6307a5d6-dd18-47bb-a636-68805ea5e08b"
    },
    {
      "cell_type": "code",
      "source": [
        "# make clean names for the adt names\n",
        "mdata_raw['prot'].var.index =  mdata_raw['prot'].var.index.str.replace('-|\\\\.', '_', regex=True)"
      ],
      "outputs": [],
      "execution_count": null,
      "metadata": {},
      "id": "2c285afe-1a7b-45f3-91c5-cb8c3bb80377"
    },
    {
      "cell_type": "code",
      "source": [
        "mdata_raw.update()"
      ],
      "outputs": [],
      "execution_count": null,
      "metadata": {},
      "id": "8ca4441f-c563-4e49-815d-82331e96f71c"
    },
    {
      "cell_type": "markdown",
      "source": [
        "## load the actual data"
      ],
      "metadata": {},
      "id": "13fe51dc-27d9-428a-ae60-7be0af477a94"
    },
    {
      "cell_type": "code",
      "source": [
        "# load the dataset\n",
        "joint_mudata_fl = mu.read_h5mu(\n",
        "    '/home/jupyter/data/preRA_teaseq/EXP-00243/totalVI/' +\n",
        "    \"PreRA_teaseq_qc_filtered_cells_3modality_rmBR2024.h5mu\")"
      ],
      "outputs": [],
      "execution_count": null,
      "metadata": {},
      "id": "5e31e114-0f21-4e40-847a-6df7466e75e3"
    },
    {
      "cell_type": "code",
      "source": [
        "joint_mudata_fl"
      ],
      "outputs": [],
      "execution_count": null,
      "metadata": {},
      "id": "a1004611-ff09-4a54-9928-f204a6da570e"
    },
    {
      "cell_type": "code",
      "source": [
        "joint_mudata_fl['prot'].layers['counts'][1:50, 1:50].toarray()"
      ],
      "outputs": [],
      "execution_count": null,
      "metadata": {},
      "id": "7add5445-fd38-4f3b-baf0-e4e9491787a8"
    },
    {
      "cell_type": "code",
      "source": [
        "joint_mudata_fl['prot'].var.index"
      ],
      "outputs": [],
      "execution_count": null,
      "metadata": {},
      "id": "4815bb5f-a296-413d-8805-0c5c4cf4c163"
    },
    {
      "cell_type": "code",
      "source": [
        "mu.pl.histogram(joint_mudata_fl['prot'],\n",
        "                joint_mudata_fl['prot'].var_names[5:10], bins=50)"
      ],
      "outputs": [],
      "execution_count": null,
      "metadata": {},
      "id": "5047ec89-dd84-4674-8386-a5843209dd9b"
    },
    {
      "cell_type": "code",
      "source": [
        "# calcualte the distribution of the rna transcript in the raw data\n",
        "mdata_raw['rna'].obs[\"log10umi\"] = np.array(\n",
        "    np.log10(mdata_raw['rna'].X.sum(axis=1) + 1)).reshape(-1)"
      ],
      "outputs": [],
      "execution_count": null,
      "metadata": {},
      "id": "2239ed8d-161c-4264-b397-ab1dc3235ca9"
    },
    {
      "cell_type": "code",
      "source": [
        "# plot the distribution of the rna umi threshold in the raw data\n",
        "mu.pl.histogram(mdata_raw['rna'], ['log10umi'], bins=50)"
      ],
      "outputs": [],
      "execution_count": null,
      "metadata": {},
      "id": "ed629c35-cea2-4128-8c33-b7ab9ee1bb51"
    },
    {
      "cell_type": "code",
      "source": [
        "# zoom in certain region\n",
        "mu.pl.histogram(mdata_raw['rna'][mdata_raw['rna'].obs.log10umi >= 1.5], ['log10umi'], bins=50)"
      ],
      "outputs": [],
      "execution_count": null,
      "metadata": {},
      "id": "c6bf2aaa-6224-4849-b22d-c51e325de1f8"
    },
    {
      "cell_type": "code",
      "source": [
        "# plot the tentative threshold\n",
        "mu.pl.histogram(mdata_raw['rna'][(mdata_raw['rna'].obs.log10umi >= 1.5)&\n",
        "                (mdata_raw['rna'].obs.log10umi <= 2.6)], ['log10umi'], bins=50)"
      ],
      "outputs": [],
      "execution_count": null,
      "metadata": {},
      "id": "5f9e0861-978b-4444-a915-fb9465817888"
    },
    {
      "cell_type": "code",
      "source": [
        "joint_mudata_fl['rna'].layers['counts']"
      ],
      "outputs": [],
      "execution_count": null,
      "metadata": {},
      "id": "1113067c-1508-4e06-96a4-612adb82aac6"
    },
    {
      "cell_type": "code",
      "source": [
        "joint_mudata_fl['rna'].obs[\"log10umi\"] = np.array(\n",
        "    np.log10(joint_mudata_fl['rna'].X.sum(axis=1) + 1)).reshape(-1)"
      ],
      "outputs": [],
      "execution_count": null,
      "metadata": {},
      "id": "47f49950-f0bd-4b8e-8a3d-7be887c925d8"
    },
    {
      "cell_type": "code",
      "source": [
        "mu.pl.histogram(joint_mudata_fl['rna'], ['log10umi'], bins=50)"
      ],
      "outputs": [],
      "execution_count": null,
      "metadata": {},
      "id": "427f3278-1c9f-4b61-a218-f85220714f89"
    },
    {
      "cell_type": "code",
      "source": [
        "# identify the isotype in the\n",
        "isotypes = mdata_raw['prot'].var_names[mdata_raw['prot'].var_names.str.contains(\n",
        "    'iso')]\n",
        "isotypes"
      ],
      "outputs": [],
      "execution_count": null,
      "metadata": {},
      "id": "a2c65255-fec0-425f-ac7f-d839fbd8b0e2"
    },
    {
      "cell_type": "code",
      "source": [
        "isotypes = joint_mudata_fl['prot'].var_names[joint_mudata_fl['prot'].var_names.str.contains(\n",
        "    'iso')]\n",
        "isotypes"
      ],
      "outputs": [],
      "execution_count": null,
      "metadata": {},
      "id": "7f1232e9-e909-4df5-be48-96f94f07e1b5"
    },
    {
      "cell_type": "code",
      "source": [
        "mdata_raw['prot'].var_names[~mdata_raw['prot'].var_names.isin(\n",
        "    joint_mudata_fl['prot'].var_names)]"
      ],
      "outputs": [],
      "execution_count": null,
      "metadata": {},
      "id": "2311a03a-7e35-4344-9598-85f50a0a5ea3"
    },
    {
      "cell_type": "code",
      "source": [
        "joint_mudata_fl['prot'].var_names[~joint_mudata_fl['prot'].var_names.isin(\n",
        "    mdata_raw['prot'].var_names)]"
      ],
      "outputs": [],
      "execution_count": null,
      "metadata": {},
      "id": "48eb7397-eeb2-4c46-ab4e-77b5b4e533be"
    },
    {
      "cell_type": "code",
      "source": [
        "mdata_raw['prot'].X"
      ],
      "outputs": [],
      "execution_count": null,
      "metadata": {},
      "id": "cc931b2e-3fa7-4a26-8e08-bc3fea220c54"
    },
    {
      "cell_type": "code",
      "source": [
        "joint_mudata_fl['prot'].X == joint_mudata_fl['prot'].layers['counts']"
      ],
      "outputs": [],
      "execution_count": null,
      "metadata": {},
      "id": "0ff85c96-8a6f-4bef-9b22-bb808030e63a"
    },
    {
      "cell_type": "code",
      "source": [
        "mdata_raw"
      ],
      "outputs": [],
      "execution_count": null,
      "metadata": {},
      "id": "3422d9c3-0a72-4107-b776-59437a0a4fb3"
    },
    {
      "cell_type": "code",
      "source": [
        "joint_mudata_fl['prot'].var_names"
      ],
      "outputs": [],
      "execution_count": null,
      "metadata": {},
      "id": "020fd874-4f4f-46e7-b8aa-583aef9a42ff"
    },
    {
      "cell_type": "code",
      "source": [
        "# run dsb normalization\n",
        "pt.pp.dsb(joint_mudata_fl, mdata_raw,  empty_counts_range=(1.5, 2.6), \n",
        "          isotype_controls=isotypes, add_layer=True,\n",
        "          random_state=1)"
      ],
      "outputs": [],
      "execution_count": null,
      "metadata": {},
      "id": "7d1a9036-3fa0-4e67-be3b-fd1a0fb84585"
    },
    {
      "cell_type": "code",
      "source": [
        "mu.pl.histogram(joint_mudata_fl['prot'],\n",
        "                joint_mudata_fl['prot'].var_names[5:10], bins=50)"
      ],
      "outputs": [],
      "execution_count": null,
      "metadata": {},
      "id": "0fb1b04b-1bb9-4c2f-aec0-c259fb10d133"
    },
    {
      "cell_type": "code",
      "source": [
        "sc.pl.scatter(joint_mudata_fl['prot'], x=\"CD3\", y=\"CD19\", layers='counts')\n",
        "sc.pl.scatter(joint_mudata_fl['prot'], x=\"CD3\", y=\"CD19\", layers='dsb')"
      ],
      "outputs": [],
      "execution_count": null,
      "metadata": {},
      "id": "ded674f4-1196-4200-ab5d-d93c8e7d8a68"
    },
    {
      "cell_type": "code",
      "source": [
        "joint_mudata_fl['prot'].layers['counts']"
      ],
      "outputs": [],
      "execution_count": null,
      "metadata": {},
      "id": "78fa7f87-8d46-4e74-82cd-06108cda9492"
    },
    {
      "cell_type": "code",
      "source": [
        "# move dsb data into X slot\n",
        "joint_mudata_fl['prot'].X  = joint_mudata_fl['prot'].layers['dsb'].copy()"
      ],
      "outputs": [],
      "execution_count": null,
      "metadata": {},
      "id": "883e0c30-e509-48dc-9f43-2cdd21add479"
    },
    {
      "cell_type": "code",
      "source": [
        "joint_mudata_fl.update()"
      ],
      "outputs": [],
      "execution_count": null,
      "metadata": {},
      "id": "d6d4ecd9-0b54-44b2-ab48-e9dec85922fd"
    },
    {
      "cell_type": "markdown",
      "source": [
        "# run analysis in dsb normalized data"
      ],
      "metadata": {},
      "id": "599df7f6-25eb-4ecc-8d7e-89198e1e0b60"
    },
    {
      "cell_type": "code",
      "source": [
        "# run analysis in \n",
        "prot = joint_mudata_fl.mod['prot']"
      ],
      "outputs": [],
      "execution_count": null,
      "metadata": {},
      "id": "deec4fa5-6c75-4a94-aa80-688f600ffd0a"
    },
    {
      "cell_type": "code",
      "source": [
        "# save a copy of the dsb normalized data into dsb layer\n",
        "# ADT.layers['dsb'] = ADT.X"
      ],
      "outputs": [],
      "execution_count": null,
      "metadata": {},
      "id": "2739309e-24d0-4000-9c10-463ac0136cf2"
    },
    {
      "cell_type": "code",
      "source": [
        "sc.tl.pca(prot)"
      ],
      "outputs": [],
      "execution_count": null,
      "metadata": {},
      "id": "214aadb7-faf2-4a95-9f20-ce6ab47c1401"
    },
    {
      "cell_type": "code",
      "source": [
        "sc.pl.pca_variance_ratio(prot, log=True)"
      ],
      "outputs": [],
      "execution_count": null,
      "metadata": {},
      "id": "b3559077-ad1a-48ae-a25e-ff4342bce271"
    },
    {
      "cell_type": "code",
      "source": [
        "sc.pl.pca(prot, color='CD3')"
      ],
      "outputs": [],
      "execution_count": null,
      "metadata": {},
      "id": "01737f73-b05c-4f46-b730-c8f5f21f3017"
    },
    {
      "cell_type": "code",
      "source": [
        "# run umap for protein\n",
        "sc.pp.neighbors(prot, n_pcs=20)\n",
        "sc.tl.umap(prot)"
      ],
      "outputs": [],
      "execution_count": null,
      "metadata": {},
      "id": "9d38f26a-acec-43a7-a08c-b6d44fe0b7b3"
    },
    {
      "cell_type": "code",
      "source": [
        "sc.pl.umap(prot, color=['CD3', 'CD19', 'HLA_DR',\n",
        "           'CD56', 'CD14'], vmin='p1', vmax='p99')"
      ],
      "outputs": [],
      "execution_count": null,
      "metadata": {},
      "id": "5bb938c8-8a4f-4e9e-bb3b-c00abc2627d8"
    },
    {
      "cell_type": "code",
      "source": [
        "joint_mudata_fl.update()"
      ],
      "outputs": [],
      "execution_count": null,
      "metadata": {},
      "id": "3f7cbadb-d058-42d3-b7e9-5459ad7e038e"
    },
    {
      "cell_type": "code",
      "source": [
        "joint_mudata_fl"
      ],
      "outputs": [],
      "execution_count": null,
      "metadata": {},
      "id": "ba3e60ac-b5be-44d5-9c0f-3b8cef266575"
    },
    {
      "cell_type": "code",
      "source": [
        "# save the dataset\n",
        "joint_mudata_fl.write(\n",
        "    '/home/jupyter/data/preRA_teaseq/EXP-00243/totalVI/' +\n",
        "    \"PreRA_teaseq_qc_filtered_cells_3modality_rmBR2024.h5mu\")"
      ],
      "outputs": [],
      "execution_count": null,
      "metadata": {},
      "id": "3a21d71a-7df7-43ce-a28a-8ad2cf57a4a8"
    },
    {
      "cell_type": "code",
      "source": [],
      "outputs": [],
      "execution_count": null,
      "metadata": {},
      "id": "b6327007-9dee-41e5-ace4-d4eac5c30600"
    }
  ],
  "metadata": {
    "kernelspec": {
      "display_name": "muon",
      "language": "python",
      "name": "muon"
    },
    "language_info": {
      "codemirror_mode": {
        "name": "ipython",
        "version": 3
      },
      "file_extension": ".py",
      "mimetype": "text/x-python",
      "name": "python",
      "nbconvert_exporter": "python",
      "pygments_lexer": "ipython3",
      "version": "3.10.11"
    },
    "nteract": {
      "version": "0.28.0"
    }
  },
  "nbformat": 4,
  "nbformat_minor": 5
}