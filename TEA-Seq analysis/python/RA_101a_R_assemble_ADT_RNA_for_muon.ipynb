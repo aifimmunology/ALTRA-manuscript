{
 "cells": [
  {
   "cell_type": "markdown",
   "metadata": {},
   "source": [
    "# Assemble matrices from teaseq dataset to create mudata for analysis in python"
   ]
  },
  {
   "cell_type": "markdown",
   "metadata": {},
   "source": [
    "# Load Libraries"
   ]
  },
  {
   "cell_type": "code",
   "execution_count": 30,
   "metadata": {
    "vscode": {
     "languageId": "r"
    }
   },
   "outputs": [],
   "source": [
    "quiet_library <- function(...) {\n",
    "    suppressPackageStartupMessages(library(...))\n",
    "}\n",
    "quiet_library(\"H5weaver\")\n",
    "quiet_library(\"purrr\")\n",
    "quiet_library(\"dplyr\")\n",
    "quiet_library(\"Seurat\")\n",
    "quiet_library(\"ArchR\")\n",
    "quiet_library(\"MuDataSeurat\")\n"
   ]
  },
  {
   "cell_type": "code",
   "execution_count": 31,
   "metadata": {
    "vscode": {
     "languageId": "r"
    }
   },
   "outputs": [],
   "source": [
    "# define file path\n",
    "data_path <- \"/home/jupyter/data/preRA_teaseq/EXP-00243\"\n",
    "output_path <- \"/home/jupyter/data/preRA_teaseq/EXP-00243/totalVI\"\n",
    "# define a project name\n",
    "proj_name <- \"preRA_teaseq_totalvi\"\n"
   ]
  },
  {
   "cell_type": "markdown",
   "metadata": {},
   "source": [
    "# Load Seurat object to extract the adt and RNA information"
   ]
  },
  {
   "cell_type": "code",
   "execution_count": 3,
   "metadata": {
    "vscode": {
     "languageId": "r"
    }
   },
   "outputs": [],
   "source": [
    "# load the teaseq seurat object which contains rna and adt information\n",
    "ra_tea_so <- readRDS(file.path(data_path, \"PreRA_teaseq_seurat_qc_filtered_cells_lsi.rds\"))\n"
   ]
  },
  {
   "cell_type": "code",
   "execution_count": 32,
   "metadata": {
    "vscode": {
     "languageId": "r"
    }
   },
   "outputs": [
    {
     "data": {
      "text/plain": [
       "An object of class Seurat \n",
       "104344 features across 96595 samples within 11 assays \n",
       "Active assay: SCT (30269 features, 3000 variable features)\n",
       " 10 other assays present: RNA, ADT, prediction.score.celltype.l1, prediction.score.celltype.l2, prediction.score.celltype.l3, predicted_ADT, predicted_predicted_ADT, Tiles, cleanadt, rna\n",
       " 7 dimensional reductions calculated: pca, umap, apca, adt_umap, lsit, atac_umap, wnn.3.umap"
      ]
     },
     "metadata": {},
     "output_type": "display_data"
    }
   ],
   "source": [
    "ra_tea_so\n",
    "# define the matrix name to get data from\n",
    "adt_mx_name <- \"cleanadt\"\n",
    "rna_mx_name <- \"RNA\"\n"
   ]
  },
  {
   "cell_type": "code",
   "execution_count": 33,
   "metadata": {
    "vscode": {
     "languageId": "r"
    }
   },
   "outputs": [
    {
     "data": {
      "text/html": [
       "<table class=\"dataframe\">\n",
       "<caption>A matrix: 6 × 96595 of type dbl</caption>\n",
       "<thead>\n",
       "\t<tr><th></th><th scope=col>bd196bb4867611ec8396aea599a86ab5</th><th scope=col>bd19abb0867611ec8396aea599a86ab5</th><th scope=col>bd19c73a867611ec8396aea599a86ab5</th><th scope=col>bd19ceba867611ec8396aea599a86ab5</th><th scope=col>bd1a21c6867611ec8396aea599a86ab5</th><th scope=col>bd1ad530867611ec8396aea599a86ab5</th><th scope=col>bd1eff66867611ec8396aea599a86ab5</th><th scope=col>bd258818867611ec8396aea599a86ab5</th><th scope=col>bd2d0aca867611ec8396aea599a86ab5</th><th scope=col>bd2ea57e867611ec8396aea599a86ab5</th><th scope=col>⋯</th><th scope=col>6975f6c8867911ecb648ee55e4236e76</th><th scope=col>697956f6867911ecb648ee55e4236e76</th><th scope=col>6979e346867911ecb648ee55e4236e76</th><th scope=col>697e34be867911ecb648ee55e4236e76</th><th scope=col>6982914e867911ecb648ee55e4236e76</th><th scope=col>6982aada867911ecb648ee55e4236e76</th><th scope=col>6991199e867911ecb648ee55e4236e76</th><th scope=col>69913ac8867911ecb648ee55e4236e76</th><th scope=col>6992a21e867911ecb648ee55e4236e76</th><th scope=col>69963c12867911ecb648ee55e4236e76</th></tr>\n",
       "</thead>\n",
       "<tbody>\n",
       "\t<tr><th scope=row>CD86</th><td>0.0000000</td><td>0.1699880</td><td>0.0000000</td><td>0.0000000</td><td>0.1596343</td><td>0.0000000</td><td>0.2162580</td><td>0.0000000</td><td>0.0000000</td><td>0.0000000</td><td>⋯</td><td>0.0000000</td><td>0.0000000</td><td>0.0000000</td><td>0.5822101</td><td>0.0000000</td><td>0.0000000</td><td>0.2222331</td><td>0.0000000</td><td>0.0000000</td><td>0.0000000</td></tr>\n",
       "\t<tr><th scope=row>CD274</th><td>0.2269141</td><td>0.0000000</td><td>0.0000000</td><td>0.0000000</td><td>0.0000000</td><td>0.4139550</td><td>0.0000000</td><td>0.4991241</td><td>0.2179867</td><td>0.0000000</td><td>⋯</td><td>0.6158090</td><td>0.0000000</td><td>0.0000000</td><td>0.2337511</td><td>0.0000000</td><td>0.1713611</td><td>0.0000000</td><td>0.2654657</td><td>0.2751328</td><td>0.0000000</td></tr>\n",
       "\t<tr><th scope=row>CD270</th><td>0.7025471</td><td>0.7475142</td><td>0.3113609</td><td>1.0094868</td><td>0.7937040</td><td>0.5705182</td><td>0.2162580</td><td>1.3642404</td><td>0.9950995</td><td>0.8363509</td><td>⋯</td><td>1.1403568</td><td>0.4639277</td><td>0.6998067</td><td>0.9477818</td><td>0.4815559</td><td>0.9866649</td><td>1.0087011</td><td>0.0000000</td><td>1.3481640</td><td>0.6188728</td></tr>\n",
       "\t<tr><th scope=row>CD155</th><td>0.0000000</td><td>0.0000000</td><td>0.1677500</td><td>0.3618950</td><td>0.1596343</td><td>0.2282461</td><td>0.5448025</td><td>0.2803847</td><td>0.0000000</td><td>0.0000000</td><td>⋯</td><td>0.4936989</td><td>0.1376528</td><td>0.1845463</td><td>0.2337511</td><td>0.0000000</td><td>0.1713611</td><td>0.2222331</td><td>0.0000000</td><td>0.0000000</td><td>0.0000000</td></tr>\n",
       "\t<tr><th scope=row>CD112</th><td>0.0000000</td><td>0.0000000</td><td>0.1677500</td><td>0.5032402</td><td>0.1596343</td><td>0.0000000</td><td>0.2162580</td><td>0.6784987</td><td>0.2179867</td><td>0.3175036</td><td>⋯</td><td>0.4936989</td><td>0.1376528</td><td>0.4750024</td><td>0.4230824</td><td>0.1874724</td><td>0.1713611</td><td>0.2222331</td><td>0.0000000</td><td>0.0000000</td><td>0.0000000</td></tr>\n",
       "\t<tr><th scope=row>CD47</th><td>3.2856717</td><td>3.0450648</td><td>3.4898039</td><td>3.0575908</td><td>3.1570277</td><td>3.0321789</td><td>3.6422878</td><td>2.2072818</td><td>3.6881612</td><td>3.3873556</td><td>⋯</td><td>3.6269936</td><td>2.9131160</td><td>4.0239989</td><td>3.3823423</td><td>3.8185589</td><td>2.5764032</td><td>3.4920855</td><td>3.3451008</td><td>2.3514863</td><td>3.0053398</td></tr>\n",
       "</tbody>\n",
       "</table>\n"
      ],
      "text/latex": [
       "A matrix: 6 × 96595 of type dbl\n",
       "\\begin{tabular}{r|lllllllllllllllllllll}\n",
       "  & bd196bb4867611ec8396aea599a86ab5 & bd19abb0867611ec8396aea599a86ab5 & bd19c73a867611ec8396aea599a86ab5 & bd19ceba867611ec8396aea599a86ab5 & bd1a21c6867611ec8396aea599a86ab5 & bd1ad530867611ec8396aea599a86ab5 & bd1eff66867611ec8396aea599a86ab5 & bd258818867611ec8396aea599a86ab5 & bd2d0aca867611ec8396aea599a86ab5 & bd2ea57e867611ec8396aea599a86ab5 & ⋯ & 6975f6c8867911ecb648ee55e4236e76 & 697956f6867911ecb648ee55e4236e76 & 6979e346867911ecb648ee55e4236e76 & 697e34be867911ecb648ee55e4236e76 & 6982914e867911ecb648ee55e4236e76 & 6982aada867911ecb648ee55e4236e76 & 6991199e867911ecb648ee55e4236e76 & 69913ac8867911ecb648ee55e4236e76 & 6992a21e867911ecb648ee55e4236e76 & 69963c12867911ecb648ee55e4236e76\\\\\n",
       "\\hline\n",
       "\tCD86 & 0.0000000 & 0.1699880 & 0.0000000 & 0.0000000 & 0.1596343 & 0.0000000 & 0.2162580 & 0.0000000 & 0.0000000 & 0.0000000 & ⋯ & 0.0000000 & 0.0000000 & 0.0000000 & 0.5822101 & 0.0000000 & 0.0000000 & 0.2222331 & 0.0000000 & 0.0000000 & 0.0000000\\\\\n",
       "\tCD274 & 0.2269141 & 0.0000000 & 0.0000000 & 0.0000000 & 0.0000000 & 0.4139550 & 0.0000000 & 0.4991241 & 0.2179867 & 0.0000000 & ⋯ & 0.6158090 & 0.0000000 & 0.0000000 & 0.2337511 & 0.0000000 & 0.1713611 & 0.0000000 & 0.2654657 & 0.2751328 & 0.0000000\\\\\n",
       "\tCD270 & 0.7025471 & 0.7475142 & 0.3113609 & 1.0094868 & 0.7937040 & 0.5705182 & 0.2162580 & 1.3642404 & 0.9950995 & 0.8363509 & ⋯ & 1.1403568 & 0.4639277 & 0.6998067 & 0.9477818 & 0.4815559 & 0.9866649 & 1.0087011 & 0.0000000 & 1.3481640 & 0.6188728\\\\\n",
       "\tCD155 & 0.0000000 & 0.0000000 & 0.1677500 & 0.3618950 & 0.1596343 & 0.2282461 & 0.5448025 & 0.2803847 & 0.0000000 & 0.0000000 & ⋯ & 0.4936989 & 0.1376528 & 0.1845463 & 0.2337511 & 0.0000000 & 0.1713611 & 0.2222331 & 0.0000000 & 0.0000000 & 0.0000000\\\\\n",
       "\tCD112 & 0.0000000 & 0.0000000 & 0.1677500 & 0.5032402 & 0.1596343 & 0.0000000 & 0.2162580 & 0.6784987 & 0.2179867 & 0.3175036 & ⋯ & 0.4936989 & 0.1376528 & 0.4750024 & 0.4230824 & 0.1874724 & 0.1713611 & 0.2222331 & 0.0000000 & 0.0000000 & 0.0000000\\\\\n",
       "\tCD47 & 3.2856717 & 3.0450648 & 3.4898039 & 3.0575908 & 3.1570277 & 3.0321789 & 3.6422878 & 2.2072818 & 3.6881612 & 3.3873556 & ⋯ & 3.6269936 & 2.9131160 & 4.0239989 & 3.3823423 & 3.8185589 & 2.5764032 & 3.4920855 & 3.3451008 & 2.3514863 & 3.0053398\\\\\n",
       "\\end{tabular}\n"
      ],
      "text/markdown": [
       "\n",
       "A matrix: 6 × 96595 of type dbl\n",
       "\n",
       "| <!--/--> | bd196bb4867611ec8396aea599a86ab5 | bd19abb0867611ec8396aea599a86ab5 | bd19c73a867611ec8396aea599a86ab5 | bd19ceba867611ec8396aea599a86ab5 | bd1a21c6867611ec8396aea599a86ab5 | bd1ad530867611ec8396aea599a86ab5 | bd1eff66867611ec8396aea599a86ab5 | bd258818867611ec8396aea599a86ab5 | bd2d0aca867611ec8396aea599a86ab5 | bd2ea57e867611ec8396aea599a86ab5 | ⋯ | 6975f6c8867911ecb648ee55e4236e76 | 697956f6867911ecb648ee55e4236e76 | 6979e346867911ecb648ee55e4236e76 | 697e34be867911ecb648ee55e4236e76 | 6982914e867911ecb648ee55e4236e76 | 6982aada867911ecb648ee55e4236e76 | 6991199e867911ecb648ee55e4236e76 | 69913ac8867911ecb648ee55e4236e76 | 6992a21e867911ecb648ee55e4236e76 | 69963c12867911ecb648ee55e4236e76 |\n",
       "|---|---|---|---|---|---|---|---|---|---|---|---|---|---|---|---|---|---|---|---|---|---|\n",
       "| CD86 | 0.0000000 | 0.1699880 | 0.0000000 | 0.0000000 | 0.1596343 | 0.0000000 | 0.2162580 | 0.0000000 | 0.0000000 | 0.0000000 | ⋯ | 0.0000000 | 0.0000000 | 0.0000000 | 0.5822101 | 0.0000000 | 0.0000000 | 0.2222331 | 0.0000000 | 0.0000000 | 0.0000000 |\n",
       "| CD274 | 0.2269141 | 0.0000000 | 0.0000000 | 0.0000000 | 0.0000000 | 0.4139550 | 0.0000000 | 0.4991241 | 0.2179867 | 0.0000000 | ⋯ | 0.6158090 | 0.0000000 | 0.0000000 | 0.2337511 | 0.0000000 | 0.1713611 | 0.0000000 | 0.2654657 | 0.2751328 | 0.0000000 |\n",
       "| CD270 | 0.7025471 | 0.7475142 | 0.3113609 | 1.0094868 | 0.7937040 | 0.5705182 | 0.2162580 | 1.3642404 | 0.9950995 | 0.8363509 | ⋯ | 1.1403568 | 0.4639277 | 0.6998067 | 0.9477818 | 0.4815559 | 0.9866649 | 1.0087011 | 0.0000000 | 1.3481640 | 0.6188728 |\n",
       "| CD155 | 0.0000000 | 0.0000000 | 0.1677500 | 0.3618950 | 0.1596343 | 0.2282461 | 0.5448025 | 0.2803847 | 0.0000000 | 0.0000000 | ⋯ | 0.4936989 | 0.1376528 | 0.1845463 | 0.2337511 | 0.0000000 | 0.1713611 | 0.2222331 | 0.0000000 | 0.0000000 | 0.0000000 |\n",
       "| CD112 | 0.0000000 | 0.0000000 | 0.1677500 | 0.5032402 | 0.1596343 | 0.0000000 | 0.2162580 | 0.6784987 | 0.2179867 | 0.3175036 | ⋯ | 0.4936989 | 0.1376528 | 0.4750024 | 0.4230824 | 0.1874724 | 0.1713611 | 0.2222331 | 0.0000000 | 0.0000000 | 0.0000000 |\n",
       "| CD47 | 3.2856717 | 3.0450648 | 3.4898039 | 3.0575908 | 3.1570277 | 3.0321789 | 3.6422878 | 2.2072818 | 3.6881612 | 3.3873556 | ⋯ | 3.6269936 | 2.9131160 | 4.0239989 | 3.3823423 | 3.8185589 | 2.5764032 | 3.4920855 | 3.3451008 | 2.3514863 | 3.0053398 |\n",
       "\n"
      ],
      "text/plain": [
       "      bd196bb4867611ec8396aea599a86ab5 bd19abb0867611ec8396aea599a86ab5\n",
       "CD86  0.0000000                        0.1699880                       \n",
       "CD274 0.2269141                        0.0000000                       \n",
       "CD270 0.7025471                        0.7475142                       \n",
       "CD155 0.0000000                        0.0000000                       \n",
       "CD112 0.0000000                        0.0000000                       \n",
       "CD47  3.2856717                        3.0450648                       \n",
       "      bd19c73a867611ec8396aea599a86ab5 bd19ceba867611ec8396aea599a86ab5\n",
       "CD86  0.0000000                        0.0000000                       \n",
       "CD274 0.0000000                        0.0000000                       \n",
       "CD270 0.3113609                        1.0094868                       \n",
       "CD155 0.1677500                        0.3618950                       \n",
       "CD112 0.1677500                        0.5032402                       \n",
       "CD47  3.4898039                        3.0575908                       \n",
       "      bd1a21c6867611ec8396aea599a86ab5 bd1ad530867611ec8396aea599a86ab5\n",
       "CD86  0.1596343                        0.0000000                       \n",
       "CD274 0.0000000                        0.4139550                       \n",
       "CD270 0.7937040                        0.5705182                       \n",
       "CD155 0.1596343                        0.2282461                       \n",
       "CD112 0.1596343                        0.0000000                       \n",
       "CD47  3.1570277                        3.0321789                       \n",
       "      bd1eff66867611ec8396aea599a86ab5 bd258818867611ec8396aea599a86ab5\n",
       "CD86  0.2162580                        0.0000000                       \n",
       "CD274 0.0000000                        0.4991241                       \n",
       "CD270 0.2162580                        1.3642404                       \n",
       "CD155 0.5448025                        0.2803847                       \n",
       "CD112 0.2162580                        0.6784987                       \n",
       "CD47  3.6422878                        2.2072818                       \n",
       "      bd2d0aca867611ec8396aea599a86ab5 bd2ea57e867611ec8396aea599a86ab5 ⋯\n",
       "CD86  0.0000000                        0.0000000                        ⋯\n",
       "CD274 0.2179867                        0.0000000                        ⋯\n",
       "CD270 0.9950995                        0.8363509                        ⋯\n",
       "CD155 0.0000000                        0.0000000                        ⋯\n",
       "CD112 0.2179867                        0.3175036                        ⋯\n",
       "CD47  3.6881612                        3.3873556                        ⋯\n",
       "      6975f6c8867911ecb648ee55e4236e76 697956f6867911ecb648ee55e4236e76\n",
       "CD86  0.0000000                        0.0000000                       \n",
       "CD274 0.6158090                        0.0000000                       \n",
       "CD270 1.1403568                        0.4639277                       \n",
       "CD155 0.4936989                        0.1376528                       \n",
       "CD112 0.4936989                        0.1376528                       \n",
       "CD47  3.6269936                        2.9131160                       \n",
       "      6979e346867911ecb648ee55e4236e76 697e34be867911ecb648ee55e4236e76\n",
       "CD86  0.0000000                        0.5822101                       \n",
       "CD274 0.0000000                        0.2337511                       \n",
       "CD270 0.6998067                        0.9477818                       \n",
       "CD155 0.1845463                        0.2337511                       \n",
       "CD112 0.4750024                        0.4230824                       \n",
       "CD47  4.0239989                        3.3823423                       \n",
       "      6982914e867911ecb648ee55e4236e76 6982aada867911ecb648ee55e4236e76\n",
       "CD86  0.0000000                        0.0000000                       \n",
       "CD274 0.0000000                        0.1713611                       \n",
       "CD270 0.4815559                        0.9866649                       \n",
       "CD155 0.0000000                        0.1713611                       \n",
       "CD112 0.1874724                        0.1713611                       \n",
       "CD47  3.8185589                        2.5764032                       \n",
       "      6991199e867911ecb648ee55e4236e76 69913ac8867911ecb648ee55e4236e76\n",
       "CD86  0.2222331                        0.0000000                       \n",
       "CD274 0.0000000                        0.2654657                       \n",
       "CD270 1.0087011                        0.0000000                       \n",
       "CD155 0.2222331                        0.0000000                       \n",
       "CD112 0.2222331                        0.0000000                       \n",
       "CD47  3.4920855                        3.3451008                       \n",
       "      6992a21e867911ecb648ee55e4236e76 69963c12867911ecb648ee55e4236e76\n",
       "CD86  0.0000000                        0.0000000                       \n",
       "CD274 0.2751328                        0.0000000                       \n",
       "CD270 1.3481640                        0.6188728                       \n",
       "CD155 0.0000000                        0.0000000                       \n",
       "CD112 0.0000000                        0.0000000                       \n",
       "CD47  2.3514863                        3.0053398                       "
      ]
     },
     "metadata": {},
     "output_type": "display_data"
    }
   ],
   "source": [
    "# # pull adt matrix, subset by markers and re-inject under new assay identity\n",
    "# adt_mtx <- ra_tea_so@assays$cleanadt@counts %>% as.data.frame()\n",
    "# Append -ADT to feature names in the ADT assay\n",
    "adt_counts <- ra_tea_so[[\"ADT\"]]@counts\n",
    "# rownames(adt_counts) <- paste(rownames(adt_counts), \"ADT\", sep = \"-\")\n",
    "adt_data <- ra_tea_so[[\"ADT\"]]@data\n",
    "rownames(adt_data) <- rownames(adt_counts)\n",
    "adt_data %>% head()\n",
    "adt <- CreateAssayObject(counts = adt_counts)\n"
   ]
  },
  {
   "cell_type": "code",
   "execution_count": 34,
   "metadata": {
    "vscode": {
     "languageId": "r"
    }
   },
   "outputs": [],
   "source": [
    "# make clean names for the adt names\n",
    "# rownames(adt_counts) <- rownames(adt_counts) %>% str_replace_all('-|\\\\.', '_') "
   ]
  },
  {
   "cell_type": "code",
   "execution_count": 35,
   "metadata": {
    "vscode": {
     "languageId": "r"
    }
   },
   "outputs": [
    {
     "data": {
      "text/html": [
       "<style>\n",
       ".list-inline {list-style: none; margin:0; padding: 0}\n",
       ".list-inline>li {display: inline-block}\n",
       ".list-inline>li:not(:last-child)::after {content: \"\\00b7\"; padding: 0 .5ex}\n",
       "</style>\n",
       "<ol class=list-inline><li>'CD86'</li><li>'CD274'</li><li>'CD270'</li><li>'CD155'</li><li>'CD112'</li><li>'CD47'</li><li>'CD48'</li><li>'CD40'</li><li>'CD154'</li><li>'CD52'</li><li>'CD3'</li><li>'CD8'</li><li>'CD56'</li><li>'CD19'</li><li>'CD33'</li><li>'CD11c'</li><li>'HLA-A-B-C'</li><li>'CD45RA'</li><li>'CD123'</li><li>'CD7'</li><li>'CD49f'</li><li>'CD194'</li><li>'CD4'</li><li>'CD44'</li><li>'CD14'</li><li>'CD16'</li><li>'CD25'</li><li>'CD45RO'</li><li>'CD279'</li><li>'TIGIT'</li><li>'Mouse-IgG1-k-isotype-Ctrl'</li><li>'Mouse-IgG2a-k-isotype-Ctrl'</li><li>'Mouse-IgG2b-k-isotype-Ctrl'</li><li>'Rat-IgG2b-k-Isotype-Ctrl'</li><li>'CD20'</li><li>'CD335'</li><li>'CD31'</li><li>'Podoplanin'</li><li>'CD146'</li><li>'IgM'</li><li>'CD5'</li><li>'CD183'</li><li>'CD195'</li><li>'CD32'</li><li>'CD196'</li><li>'CD185'</li><li>'CD103'</li><li>'CD69'</li><li>'CD62L'</li><li>'CD161'</li><li>'CD152'</li><li>'CD223'</li><li>'KLRG1'</li><li>'CD27'</li><li>'CD107a'</li><li>'CD95'</li><li>'CD134'</li><li>'HLA.DR'</li><li>'CD1c'</li><li>'CD11b'</li><li>'CD64'</li><li>'CD141'</li><li>'CD314'</li><li>'CD35'</li><li>'CD57'</li><li>'CD272'</li><li>'CD278'</li><li>'CD275'</li><li>'CD58'</li><li>'CD39'</li><li>'CX3CR1'</li><li>'CD24'</li><li>'CD21'</li><li>'CD11a'</li><li>'CD79b'</li><li>'CD244'</li><li>'CD169'</li><li>'integrin-b7'</li><li>'CD268'</li><li>'CD42b'</li><li>'CD54'</li><li>'CD62P'</li><li>'CD119'</li><li>'TCR-a-b'</li><li>'Rat-IgG1-k-isotype-Ctrl'</li><li>'Rat-IgG1-l-Isotype-Ctrl'</li><li>'Rat-IgG2a-k-Isotype-Ctrl'</li><li>'Rat-IgG2c-k-Isotype-Ctrl'</li><li>'Armenian-Hamster-IgG-Isotype-Ctrl'</li><li>'CD192'</li><li>'CD122'</li><li>'CD267'</li><li>'FceRla'</li><li>'CD41'</li><li>'CD137'</li><li>'CD43'</li><li>'CD163'</li><li>'CD83'</li><li>'CD13'</li><li>'CD2'</li><li>'CD226'</li><li>'CD29'</li><li>'CD303'</li><li>'CD49b'</li><li>'CD61'</li><li>'CD81'</li><li>'CD55'</li><li>'IgD'</li><li>'CD18'</li><li>'CD28'</li><li>'CD38'</li><li>'CD127'</li><li>'CD45'</li><li>'CD22'</li><li>'CD71'</li><li>'CD26'</li><li>'CD115'</li><li>'CD63'</li><li>'CD304'</li><li>'CD36'</li><li>'CD172a'</li><li>'CD72'</li><li>'CD158'</li><li>'CD93'</li><li>'CD200'</li><li>'CD49a'</li><li>'CD49d'</li><li>'CD73'</li><li>'CD9'</li><li>'TCR-Va7.2'</li><li>'TCR-Vd2'</li><li>'CD354'</li><li>'CD305'</li><li>'LOX.1'</li><li>'CD158e1'</li><li>'CD109'</li><li>'CD142'</li><li>'CD319'</li><li>'CD99'</li><li>'CLEC12A'</li><li>'CD151'</li><li>'CD352'</li><li>'CLEC1B'</li><li>'CD94'</li><li>'IgE'</li><li>'CD150'</li><li>'CD162'</li><li>'CD84'</li><li>'Ig-light-chain-k'</li><li>'CD85j'</li><li>'CD23'</li><li>'Ig-light-chain-l'</li><li>'CD328'</li><li>'GPR56'</li><li>'CD82'</li><li>'NKp80'</li><li>'CD131'</li><li>'CD74'</li><li>'CD116'</li><li>'CD37'</li><li>'CD101'</li><li>'HLA.DR-DP-DQ'</li><li>'CD88'</li><li>'CD10'</li><li>'CD80'</li><li>'TCR-Va24.Ja18'</li></ol>\n"
      ],
      "text/latex": [
       "\\begin{enumerate*}\n",
       "\\item 'CD86'\n",
       "\\item 'CD274'\n",
       "\\item 'CD270'\n",
       "\\item 'CD155'\n",
       "\\item 'CD112'\n",
       "\\item 'CD47'\n",
       "\\item 'CD48'\n",
       "\\item 'CD40'\n",
       "\\item 'CD154'\n",
       "\\item 'CD52'\n",
       "\\item 'CD3'\n",
       "\\item 'CD8'\n",
       "\\item 'CD56'\n",
       "\\item 'CD19'\n",
       "\\item 'CD33'\n",
       "\\item 'CD11c'\n",
       "\\item 'HLA-A-B-C'\n",
       "\\item 'CD45RA'\n",
       "\\item 'CD123'\n",
       "\\item 'CD7'\n",
       "\\item 'CD49f'\n",
       "\\item 'CD194'\n",
       "\\item 'CD4'\n",
       "\\item 'CD44'\n",
       "\\item 'CD14'\n",
       "\\item 'CD16'\n",
       "\\item 'CD25'\n",
       "\\item 'CD45RO'\n",
       "\\item 'CD279'\n",
       "\\item 'TIGIT'\n",
       "\\item 'Mouse-IgG1-k-isotype-Ctrl'\n",
       "\\item 'Mouse-IgG2a-k-isotype-Ctrl'\n",
       "\\item 'Mouse-IgG2b-k-isotype-Ctrl'\n",
       "\\item 'Rat-IgG2b-k-Isotype-Ctrl'\n",
       "\\item 'CD20'\n",
       "\\item 'CD335'\n",
       "\\item 'CD31'\n",
       "\\item 'Podoplanin'\n",
       "\\item 'CD146'\n",
       "\\item 'IgM'\n",
       "\\item 'CD5'\n",
       "\\item 'CD183'\n",
       "\\item 'CD195'\n",
       "\\item 'CD32'\n",
       "\\item 'CD196'\n",
       "\\item 'CD185'\n",
       "\\item 'CD103'\n",
       "\\item 'CD69'\n",
       "\\item 'CD62L'\n",
       "\\item 'CD161'\n",
       "\\item 'CD152'\n",
       "\\item 'CD223'\n",
       "\\item 'KLRG1'\n",
       "\\item 'CD27'\n",
       "\\item 'CD107a'\n",
       "\\item 'CD95'\n",
       "\\item 'CD134'\n",
       "\\item 'HLA.DR'\n",
       "\\item 'CD1c'\n",
       "\\item 'CD11b'\n",
       "\\item 'CD64'\n",
       "\\item 'CD141'\n",
       "\\item 'CD314'\n",
       "\\item 'CD35'\n",
       "\\item 'CD57'\n",
       "\\item 'CD272'\n",
       "\\item 'CD278'\n",
       "\\item 'CD275'\n",
       "\\item 'CD58'\n",
       "\\item 'CD39'\n",
       "\\item 'CX3CR1'\n",
       "\\item 'CD24'\n",
       "\\item 'CD21'\n",
       "\\item 'CD11a'\n",
       "\\item 'CD79b'\n",
       "\\item 'CD244'\n",
       "\\item 'CD169'\n",
       "\\item 'integrin-b7'\n",
       "\\item 'CD268'\n",
       "\\item 'CD42b'\n",
       "\\item 'CD54'\n",
       "\\item 'CD62P'\n",
       "\\item 'CD119'\n",
       "\\item 'TCR-a-b'\n",
       "\\item 'Rat-IgG1-k-isotype-Ctrl'\n",
       "\\item 'Rat-IgG1-l-Isotype-Ctrl'\n",
       "\\item 'Rat-IgG2a-k-Isotype-Ctrl'\n",
       "\\item 'Rat-IgG2c-k-Isotype-Ctrl'\n",
       "\\item 'Armenian-Hamster-IgG-Isotype-Ctrl'\n",
       "\\item 'CD192'\n",
       "\\item 'CD122'\n",
       "\\item 'CD267'\n",
       "\\item 'FceRla'\n",
       "\\item 'CD41'\n",
       "\\item 'CD137'\n",
       "\\item 'CD43'\n",
       "\\item 'CD163'\n",
       "\\item 'CD83'\n",
       "\\item 'CD13'\n",
       "\\item 'CD2'\n",
       "\\item 'CD226'\n",
       "\\item 'CD29'\n",
       "\\item 'CD303'\n",
       "\\item 'CD49b'\n",
       "\\item 'CD61'\n",
       "\\item 'CD81'\n",
       "\\item 'CD55'\n",
       "\\item 'IgD'\n",
       "\\item 'CD18'\n",
       "\\item 'CD28'\n",
       "\\item 'CD38'\n",
       "\\item 'CD127'\n",
       "\\item 'CD45'\n",
       "\\item 'CD22'\n",
       "\\item 'CD71'\n",
       "\\item 'CD26'\n",
       "\\item 'CD115'\n",
       "\\item 'CD63'\n",
       "\\item 'CD304'\n",
       "\\item 'CD36'\n",
       "\\item 'CD172a'\n",
       "\\item 'CD72'\n",
       "\\item 'CD158'\n",
       "\\item 'CD93'\n",
       "\\item 'CD200'\n",
       "\\item 'CD49a'\n",
       "\\item 'CD49d'\n",
       "\\item 'CD73'\n",
       "\\item 'CD9'\n",
       "\\item 'TCR-Va7.2'\n",
       "\\item 'TCR-Vd2'\n",
       "\\item 'CD354'\n",
       "\\item 'CD305'\n",
       "\\item 'LOX.1'\n",
       "\\item 'CD158e1'\n",
       "\\item 'CD109'\n",
       "\\item 'CD142'\n",
       "\\item 'CD319'\n",
       "\\item 'CD99'\n",
       "\\item 'CLEC12A'\n",
       "\\item 'CD151'\n",
       "\\item 'CD352'\n",
       "\\item 'CLEC1B'\n",
       "\\item 'CD94'\n",
       "\\item 'IgE'\n",
       "\\item 'CD150'\n",
       "\\item 'CD162'\n",
       "\\item 'CD84'\n",
       "\\item 'Ig-light-chain-k'\n",
       "\\item 'CD85j'\n",
       "\\item 'CD23'\n",
       "\\item 'Ig-light-chain-l'\n",
       "\\item 'CD328'\n",
       "\\item 'GPR56'\n",
       "\\item 'CD82'\n",
       "\\item 'NKp80'\n",
       "\\item 'CD131'\n",
       "\\item 'CD74'\n",
       "\\item 'CD116'\n",
       "\\item 'CD37'\n",
       "\\item 'CD101'\n",
       "\\item 'HLA.DR-DP-DQ'\n",
       "\\item 'CD88'\n",
       "\\item 'CD10'\n",
       "\\item 'CD80'\n",
       "\\item 'TCR-Va24.Ja18'\n",
       "\\end{enumerate*}\n"
      ],
      "text/markdown": [
       "1. 'CD86'\n",
       "2. 'CD274'\n",
       "3. 'CD270'\n",
       "4. 'CD155'\n",
       "5. 'CD112'\n",
       "6. 'CD47'\n",
       "7. 'CD48'\n",
       "8. 'CD40'\n",
       "9. 'CD154'\n",
       "10. 'CD52'\n",
       "11. 'CD3'\n",
       "12. 'CD8'\n",
       "13. 'CD56'\n",
       "14. 'CD19'\n",
       "15. 'CD33'\n",
       "16. 'CD11c'\n",
       "17. 'HLA-A-B-C'\n",
       "18. 'CD45RA'\n",
       "19. 'CD123'\n",
       "20. 'CD7'\n",
       "21. 'CD49f'\n",
       "22. 'CD194'\n",
       "23. 'CD4'\n",
       "24. 'CD44'\n",
       "25. 'CD14'\n",
       "26. 'CD16'\n",
       "27. 'CD25'\n",
       "28. 'CD45RO'\n",
       "29. 'CD279'\n",
       "30. 'TIGIT'\n",
       "31. 'Mouse-IgG1-k-isotype-Ctrl'\n",
       "32. 'Mouse-IgG2a-k-isotype-Ctrl'\n",
       "33. 'Mouse-IgG2b-k-isotype-Ctrl'\n",
       "34. 'Rat-IgG2b-k-Isotype-Ctrl'\n",
       "35. 'CD20'\n",
       "36. 'CD335'\n",
       "37. 'CD31'\n",
       "38. 'Podoplanin'\n",
       "39. 'CD146'\n",
       "40. 'IgM'\n",
       "41. 'CD5'\n",
       "42. 'CD183'\n",
       "43. 'CD195'\n",
       "44. 'CD32'\n",
       "45. 'CD196'\n",
       "46. 'CD185'\n",
       "47. 'CD103'\n",
       "48. 'CD69'\n",
       "49. 'CD62L'\n",
       "50. 'CD161'\n",
       "51. 'CD152'\n",
       "52. 'CD223'\n",
       "53. 'KLRG1'\n",
       "54. 'CD27'\n",
       "55. 'CD107a'\n",
       "56. 'CD95'\n",
       "57. 'CD134'\n",
       "58. 'HLA.DR'\n",
       "59. 'CD1c'\n",
       "60. 'CD11b'\n",
       "61. 'CD64'\n",
       "62. 'CD141'\n",
       "63. 'CD314'\n",
       "64. 'CD35'\n",
       "65. 'CD57'\n",
       "66. 'CD272'\n",
       "67. 'CD278'\n",
       "68. 'CD275'\n",
       "69. 'CD58'\n",
       "70. 'CD39'\n",
       "71. 'CX3CR1'\n",
       "72. 'CD24'\n",
       "73. 'CD21'\n",
       "74. 'CD11a'\n",
       "75. 'CD79b'\n",
       "76. 'CD244'\n",
       "77. 'CD169'\n",
       "78. 'integrin-b7'\n",
       "79. 'CD268'\n",
       "80. 'CD42b'\n",
       "81. 'CD54'\n",
       "82. 'CD62P'\n",
       "83. 'CD119'\n",
       "84. 'TCR-a-b'\n",
       "85. 'Rat-IgG1-k-isotype-Ctrl'\n",
       "86. 'Rat-IgG1-l-Isotype-Ctrl'\n",
       "87. 'Rat-IgG2a-k-Isotype-Ctrl'\n",
       "88. 'Rat-IgG2c-k-Isotype-Ctrl'\n",
       "89. 'Armenian-Hamster-IgG-Isotype-Ctrl'\n",
       "90. 'CD192'\n",
       "91. 'CD122'\n",
       "92. 'CD267'\n",
       "93. 'FceRla'\n",
       "94. 'CD41'\n",
       "95. 'CD137'\n",
       "96. 'CD43'\n",
       "97. 'CD163'\n",
       "98. 'CD83'\n",
       "99. 'CD13'\n",
       "100. 'CD2'\n",
       "101. 'CD226'\n",
       "102. 'CD29'\n",
       "103. 'CD303'\n",
       "104. 'CD49b'\n",
       "105. 'CD61'\n",
       "106. 'CD81'\n",
       "107. 'CD55'\n",
       "108. 'IgD'\n",
       "109. 'CD18'\n",
       "110. 'CD28'\n",
       "111. 'CD38'\n",
       "112. 'CD127'\n",
       "113. 'CD45'\n",
       "114. 'CD22'\n",
       "115. 'CD71'\n",
       "116. 'CD26'\n",
       "117. 'CD115'\n",
       "118. 'CD63'\n",
       "119. 'CD304'\n",
       "120. 'CD36'\n",
       "121. 'CD172a'\n",
       "122. 'CD72'\n",
       "123. 'CD158'\n",
       "124. 'CD93'\n",
       "125. 'CD200'\n",
       "126. 'CD49a'\n",
       "127. 'CD49d'\n",
       "128. 'CD73'\n",
       "129. 'CD9'\n",
       "130. 'TCR-Va7.2'\n",
       "131. 'TCR-Vd2'\n",
       "132. 'CD354'\n",
       "133. 'CD305'\n",
       "134. 'LOX.1'\n",
       "135. 'CD158e1'\n",
       "136. 'CD109'\n",
       "137. 'CD142'\n",
       "138. 'CD319'\n",
       "139. 'CD99'\n",
       "140. 'CLEC12A'\n",
       "141. 'CD151'\n",
       "142. 'CD352'\n",
       "143. 'CLEC1B'\n",
       "144. 'CD94'\n",
       "145. 'IgE'\n",
       "146. 'CD150'\n",
       "147. 'CD162'\n",
       "148. 'CD84'\n",
       "149. 'Ig-light-chain-k'\n",
       "150. 'CD85j'\n",
       "151. 'CD23'\n",
       "152. 'Ig-light-chain-l'\n",
       "153. 'CD328'\n",
       "154. 'GPR56'\n",
       "155. 'CD82'\n",
       "156. 'NKp80'\n",
       "157. 'CD131'\n",
       "158. 'CD74'\n",
       "159. 'CD116'\n",
       "160. 'CD37'\n",
       "161. 'CD101'\n",
       "162. 'HLA.DR-DP-DQ'\n",
       "163. 'CD88'\n",
       "164. 'CD10'\n",
       "165. 'CD80'\n",
       "166. 'TCR-Va24.Ja18'\n",
       "\n",
       "\n"
      ],
      "text/plain": [
       "  [1] \"CD86\"                              \"CD274\"                            \n",
       "  [3] \"CD270\"                             \"CD155\"                            \n",
       "  [5] \"CD112\"                             \"CD47\"                             \n",
       "  [7] \"CD48\"                              \"CD40\"                             \n",
       "  [9] \"CD154\"                             \"CD52\"                             \n",
       " [11] \"CD3\"                               \"CD8\"                              \n",
       " [13] \"CD56\"                              \"CD19\"                             \n",
       " [15] \"CD33\"                              \"CD11c\"                            \n",
       " [17] \"HLA-A-B-C\"                         \"CD45RA\"                           \n",
       " [19] \"CD123\"                             \"CD7\"                              \n",
       " [21] \"CD49f\"                             \"CD194\"                            \n",
       " [23] \"CD4\"                               \"CD44\"                             \n",
       " [25] \"CD14\"                              \"CD16\"                             \n",
       " [27] \"CD25\"                              \"CD45RO\"                           \n",
       " [29] \"CD279\"                             \"TIGIT\"                            \n",
       " [31] \"Mouse-IgG1-k-isotype-Ctrl\"         \"Mouse-IgG2a-k-isotype-Ctrl\"       \n",
       " [33] \"Mouse-IgG2b-k-isotype-Ctrl\"        \"Rat-IgG2b-k-Isotype-Ctrl\"         \n",
       " [35] \"CD20\"                              \"CD335\"                            \n",
       " [37] \"CD31\"                              \"Podoplanin\"                       \n",
       " [39] \"CD146\"                             \"IgM\"                              \n",
       " [41] \"CD5\"                               \"CD183\"                            \n",
       " [43] \"CD195\"                             \"CD32\"                             \n",
       " [45] \"CD196\"                             \"CD185\"                            \n",
       " [47] \"CD103\"                             \"CD69\"                             \n",
       " [49] \"CD62L\"                             \"CD161\"                            \n",
       " [51] \"CD152\"                             \"CD223\"                            \n",
       " [53] \"KLRG1\"                             \"CD27\"                             \n",
       " [55] \"CD107a\"                            \"CD95\"                             \n",
       " [57] \"CD134\"                             \"HLA.DR\"                           \n",
       " [59] \"CD1c\"                              \"CD11b\"                            \n",
       " [61] \"CD64\"                              \"CD141\"                            \n",
       " [63] \"CD314\"                             \"CD35\"                             \n",
       " [65] \"CD57\"                              \"CD272\"                            \n",
       " [67] \"CD278\"                             \"CD275\"                            \n",
       " [69] \"CD58\"                              \"CD39\"                             \n",
       " [71] \"CX3CR1\"                            \"CD24\"                             \n",
       " [73] \"CD21\"                              \"CD11a\"                            \n",
       " [75] \"CD79b\"                             \"CD244\"                            \n",
       " [77] \"CD169\"                             \"integrin-b7\"                      \n",
       " [79] \"CD268\"                             \"CD42b\"                            \n",
       " [81] \"CD54\"                              \"CD62P\"                            \n",
       " [83] \"CD119\"                             \"TCR-a-b\"                          \n",
       " [85] \"Rat-IgG1-k-isotype-Ctrl\"           \"Rat-IgG1-l-Isotype-Ctrl\"          \n",
       " [87] \"Rat-IgG2a-k-Isotype-Ctrl\"          \"Rat-IgG2c-k-Isotype-Ctrl\"         \n",
       " [89] \"Armenian-Hamster-IgG-Isotype-Ctrl\" \"CD192\"                            \n",
       " [91] \"CD122\"                             \"CD267\"                            \n",
       " [93] \"FceRla\"                            \"CD41\"                             \n",
       " [95] \"CD137\"                             \"CD43\"                             \n",
       " [97] \"CD163\"                             \"CD83\"                             \n",
       " [99] \"CD13\"                              \"CD2\"                              \n",
       "[101] \"CD226\"                             \"CD29\"                             \n",
       "[103] \"CD303\"                             \"CD49b\"                            \n",
       "[105] \"CD61\"                              \"CD81\"                             \n",
       "[107] \"CD55\"                              \"IgD\"                              \n",
       "[109] \"CD18\"                              \"CD28\"                             \n",
       "[111] \"CD38\"                              \"CD127\"                            \n",
       "[113] \"CD45\"                              \"CD22\"                             \n",
       "[115] \"CD71\"                              \"CD26\"                             \n",
       "[117] \"CD115\"                             \"CD63\"                             \n",
       "[119] \"CD304\"                             \"CD36\"                             \n",
       "[121] \"CD172a\"                            \"CD72\"                             \n",
       "[123] \"CD158\"                             \"CD93\"                             \n",
       "[125] \"CD200\"                             \"CD49a\"                            \n",
       "[127] \"CD49d\"                             \"CD73\"                             \n",
       "[129] \"CD9\"                               \"TCR-Va7.2\"                        \n",
       "[131] \"TCR-Vd2\"                           \"CD354\"                            \n",
       "[133] \"CD305\"                             \"LOX.1\"                            \n",
       "[135] \"CD158e1\"                           \"CD109\"                            \n",
       "[137] \"CD142\"                             \"CD319\"                            \n",
       "[139] \"CD99\"                              \"CLEC12A\"                          \n",
       "[141] \"CD151\"                             \"CD352\"                            \n",
       "[143] \"CLEC1B\"                            \"CD94\"                             \n",
       "[145] \"IgE\"                               \"CD150\"                            \n",
       "[147] \"CD162\"                             \"CD84\"                             \n",
       "[149] \"Ig-light-chain-k\"                  \"CD85j\"                            \n",
       "[151] \"CD23\"                              \"Ig-light-chain-l\"                 \n",
       "[153] \"CD328\"                             \"GPR56\"                            \n",
       "[155] \"CD82\"                              \"NKp80\"                            \n",
       "[157] \"CD131\"                             \"CD74\"                             \n",
       "[159] \"CD116\"                             \"CD37\"                             \n",
       "[161] \"CD101\"                             \"HLA.DR-DP-DQ\"                     \n",
       "[163] \"CD88\"                              \"CD10\"                             \n",
       "[165] \"CD80\"                              \"TCR-Va24.Ja18\"                    "
      ]
     },
     "metadata": {},
     "output_type": "display_data"
    }
   ],
   "source": [
    "# check adt markers names\n",
    "rownames(adt_counts)"
   ]
  },
  {
   "cell_type": "code",
   "execution_count": 38,
   "metadata": {
    "vscode": {
     "languageId": "r"
    }
   },
   "outputs": [
    {
     "data": {
      "text/plain": [
       "An object of class Seurat \n",
       "36767 features across 96595 samples within 2 assays \n",
       "Active assay: prot (166 features, 0 variable features)\n",
       " 1 other assay present: RNA"
      ]
     },
     "metadata": {},
     "output_type": "display_data"
    }
   ],
   "source": [
    "# creat a trim object to only have the rna and adt data\n",
    "ra_tea_so_trim <- CreateSeuratObject(ra_tea_so[[\"RNA\"]])\n",
    "ra_tea_so_trim[[\"prot\"]] <- adt\n",
    "DefaultAssay(ra_tea_so_trim) <- \"prot\"\n",
    "ra_tea_so_trim\n"
   ]
  },
  {
   "cell_type": "code",
   "execution_count": 40,
   "metadata": {
    "vscode": {
     "languageId": "r"
    }
   },
   "outputs": [
    {
     "data": {
      "text/html": [
       "TRUE"
      ],
      "text/latex": [
       "TRUE"
      ],
      "text/markdown": [
       "TRUE"
      ],
      "text/plain": [
       "[1] TRUE"
      ]
     },
     "metadata": {},
     "output_type": "display_data"
    }
   ],
   "source": [
    "# replace the meate data slot\n",
    "all(rownames(ra_tea_so_trim@meta.data) == rownames(ra_tea_so@meta.data))\n",
    "ra_tea_so_trim@meta.data <- ra_tea_so@meta.data\n"
   ]
  },
  {
   "cell_type": "code",
   "execution_count": 41,
   "metadata": {
    "vscode": {
     "languageId": "r"
    }
   },
   "outputs": [],
   "source": [
    "if (!dir.exists(output_path)) (dir.create(output_path))\n"
   ]
  },
  {
   "cell_type": "code",
   "execution_count": 42,
   "metadata": {
    "vscode": {
     "languageId": "r"
    }
   },
   "outputs": [
    {
     "data": {
      "text/html": [
       "TRUE"
      ],
      "text/latex": [
       "TRUE"
      ],
      "text/markdown": [
       "TRUE"
      ],
      "text/plain": [
       "[1] TRUE"
      ]
     },
     "metadata": {},
     "output_type": "display_data"
    }
   ],
   "source": [
    "# save the trim seurat data that contains rna + adt to a h5mu data file\n",
    "WriteH5MU(ra_tea_so_trim, file.path(output_path, \"PreRA_teaseq_seurat_qc_filtered_cells_lsi.h5mu\"))\n"
   ]
  },
  {
   "cell_type": "markdown",
   "metadata": {},
   "source": [
    "## load the ATAC peak matrix "
   ]
  },
  {
   "cell_type": "code",
   "execution_count": 3,
   "metadata": {
    "vscode": {
     "languageId": "r"
    }
   },
   "outputs": [
    {
     "name": "stderr",
     "output_type": "stream",
     "text": [
      "Successfully loaded ArchRProject!\n",
      "\n",
      "\n",
      "                                                   / |\n",
      "                                                 /    \\\n",
      "            .                                  /      |.\n",
      "            \\\\\\                              /        |.\n",
      "              \\\\\\                          /           `|.\n",
      "                \\\\\\                      /              |.\n",
      "                  \\                    /                |\\\n",
      "                  \\\\#####\\           /                  ||\n",
      "                ==###########>      /                   ||\n",
      "                 \\\\##==......\\    /                     ||\n",
      "            ______ =       =|__ /__                     ||      \\\\\\\n",
      "        ,--' ,----`-,__ ___/'  --,-`-===================##========>\n",
      "       \\               '        ##_______ _____ ,--,__,=##,__   ///\n",
      "        ,    __==    ___,-,__,--'#'  ==='      `-'    | ##,-/\n",
      "        -,____,---'       \\\\####\\\\________________,--\\\\_##,/\n",
      "           ___      .______        ______  __    __  .______      \n",
      "          /   \\     |   _  \\      /      ||  |  |  | |   _  \\     \n",
      "         /  ^  \\    |  |_)  |    |  ,----'|  |__|  | |  |_)  |    \n",
      "        /  /_\\  \\   |      /     |  |     |   __   | |      /     \n",
      "       /  _____  \\  |  |\\  \\\\___ |  `----.|  |  |  | |  |\\  \\\\___.\n",
      "      /__/     \\__\\ | _| `._____| \\______||__|  |__| | _| `._____|\n",
      "    \n",
      "\n",
      "\n",
      "           ___      .______        ______  __    __  .______      \n",
      "          /   \\     |   _  \\      /      ||  |  |  | |   _  \\     \n",
      "         /  ^  \\    |  |_)  |    |  ,----'|  |__|  | |  |_)  |    \n",
      "        /  /_\\  \\   |      /     |  |     |   __   | |      /     \n",
      "       /  _____  \\  |  |\\  \\\\___ |  `----.|  |  |  | |  |\\  \\\\___.\n",
      "      /__/     \\__\\ | _| `._____| \\______||__|  |__| | _| `._____|\n",
      "    \n",
      "\n"
     ]
    },
    {
     "data": {
      "text/plain": [
       "class: ArchRProject \n",
       "outputDirectory: /home/jupyter/data/preRA_teaseq/EXP-00243/atac_arrows \n",
       "samples(13): EXP-00243-P1_PB00060-02 EXP-00243-P1_PB00065-05 ...\n",
       "  EXP-00243-P1_PB00569-04 EXP-00243-P1_PB01554-03\n",
       "sampleColData names(1): ArrowFiles\n",
       "cellColData names(48): barcodes Sample ... FRIP MochaPeak_clusters_1\n",
       "numberOfCells(1): 96595\n",
       "medianTSS(1): 26.427\n",
       "medianFrags(1): 5527"
      ]
     },
     "metadata": {},
     "output_type": "display_data"
    }
   ],
   "source": [
    "# load archR data\n",
    "ra_atac <- loadArchRProject(path = \"/home/jupyter/data/preRA_teaseq/EXP-00243/atac_arrows\")\n",
    "ra_atac\n"
   ]
  },
  {
   "cell_type": "markdown",
   "metadata": {
    "tags": []
   },
   "source": [
    "#### extract the peak matrix and conver it into h5ad"
   ]
  },
  {
   "cell_type": "code",
   "execution_count": 4,
   "metadata": {
    "vscode": {
     "languageId": "r"
    }
   },
   "outputs": [
    {
     "name": "stderr",
     "output_type": "stream",
     "text": [
      "ArchR logging to : ArchRLogs/ArchR-getMatrixFromProject-387e20bca782-Date-2022-10-21_Time-20-52-05.log\n",
      "If there is an issue, please report to github with logFile!\n",
      "\n",
      "2022-10-21 20:57:47 : Organizing colData, 5.714 mins elapsed.\n",
      "\n",
      "2022-10-21 20:57:48 : Organizing rowData, 5.726 mins elapsed.\n",
      "\n",
      "2022-10-21 20:57:48 : Organizing rowRanges, 5.727 mins elapsed.\n",
      "\n",
      "2022-10-21 20:57:48 : Organizing Assays (1 of 1), 5.728 mins elapsed.\n",
      "\n",
      "2022-10-21 20:59:06 : Constructing SummarizedExperiment, 7.025 mins elapsed.\n",
      "\n",
      "2022-10-21 21:00:48 : Finished Matrix Creation, 8.717 mins elapsed.\n",
      "\n"
     ]
    }
   ],
   "source": [
    "# extract the peak matrix from archr project\n",
    "peak_mx <- getMatrixFromProject(ra_atac, \"PeakMatrix\")\n"
   ]
  },
  {
   "cell_type": "code",
   "execution_count": 5,
   "metadata": {
    "vscode": {
     "languageId": "r"
    }
   },
   "outputs": [
    {
     "data": {
      "text/html": [
       "TRUE"
      ],
      "text/latex": [
       "TRUE"
      ],
      "text/markdown": [
       "TRUE"
      ],
      "text/plain": [
       "[1] TRUE"
      ]
     },
     "metadata": {},
     "output_type": "display_data"
    }
   ],
   "source": [
    "all.equal(start(ranges(getPeakSet(ra_atac))), start(ranges(rowRanges(peak_mx))))"
   ]
  },
  {
   "cell_type": "code",
   "execution_count": 7,
   "metadata": {
    "vscode": {
     "languageId": "r"
    }
   },
   "outputs": [],
   "source": [
    "# make the peak locatoin as rownames\n",
    "rownames(peak_mx) <- Signac::GRangesToString(rowRanges(peak_mx), sep = c(\":\", \"-\"))\n"
   ]
  },
  {
   "cell_type": "code",
   "execution_count": 36,
   "metadata": {
    "vscode": {
     "languageId": "r"
    }
   },
   "outputs": [],
   "source": [
    "peak_rowData <- rowData(peak_mx) %>% merge(rowRanges(peak_mx) %>% as_tibble(), sort = FALSE)\n"
   ]
  },
  {
   "cell_type": "code",
   "execution_count": 37,
   "metadata": {
    "vscode": {
     "languageId": "r"
    }
   },
   "outputs": [
    {
     "data": {
      "text/plain": [
       "DataFrame with 11124183 rows and 6 columns\n",
       "               idx seqnames     start       end     width   strand\n",
       "         <integer> <factor> <integer> <integer> <integer> <factor>\n",
       "1            57779     chr1    816500    816999       500        *\n",
       "2            57790     chr1    817000    817499       500        *\n",
       "3            57798     chr1    817500    817999       500        *\n",
       "4            57808     chr1    819500    819999       500        *\n",
       "5            57810     chr1    820000    820499       500        *\n",
       "...            ...      ...       ...       ...       ...      ...\n",
       "11124179     40253    chr2   71157500  71157999       500        *\n",
       "11124180     40253    chr17   9464000   9464499       500        *\n",
       "11124181     40253    chr1  248925500 248925999       500        *\n",
       "11124182     40253    chr2   71157500  71157999       500        *\n",
       "11124183     40253    chr17   9464000   9464499       500        *"
      ]
     },
     "metadata": {},
     "output_type": "display_data"
    }
   ],
   "source": [
    "peak_rowData\n"
   ]
  },
  {
   "cell_type": "code",
   "execution_count": null,
   "metadata": {
    "tags": [],
    "vscode": {
     "languageId": "r"
    }
   },
   "outputs": [],
   "source": [
    "# make a sce object to store the preak matrix\n",
    "peak_sce <- SingleCellExperiment::SingleCellExperiment(list(PeakMatrix = assays(peak_mx)$PeakMatrix),\n",
    "    colData = colData(peak_mx),\n",
    "    rowData = peak_rowData\n",
    ")\n"
   ]
  },
  {
   "cell_type": "code",
   "execution_count": null,
   "metadata": {
    "vscode": {
     "languageId": "r"
    }
   },
   "outputs": [],
   "source": [
    "peak_sce\n"
   ]
  },
  {
   "cell_type": "code",
   "execution_count": null,
   "metadata": {
    "vscode": {
     "languageId": "r"
    }
   },
   "outputs": [],
   "source": [
    "library(zellkonverter)"
   ]
  },
  {
   "cell_type": "code",
   "execution_count": 18,
   "metadata": {
    "vscode": {
     "languageId": "r"
    }
   },
   "outputs": [
    {
     "data": {
      "text/plain": [
       "AnnData object with n_obs × n_vars = 96595 × 637859\n",
       "    obs: 'altius_count', 'altius_frac', 'barcodes', 'batch_id', 'BlacklistRatio', 'cell_name', 'chip_id', 'DoubletEnrichment', 'DoubletScore', 'gene_bodies_count', 'gene_bodies_frac', 'Gex_MitoRatio', 'Gex_nGenes', 'Gex_nUMI', 'Gex_RiboRatio', 'n_duplicate', 'n_fragments', 'n_mito', 'n_unique', 'nDiFrags', 'nFrags', 'nMonoFrags', 'nMultiFrags', 'NucleosomeRatio', 'original_barcodes', 'PassQC', 'pbmc_sample_id', 'peaks_count', 'peaks_frac', 'pool_id', 'PromoterRatio', 'ReadsInBlacklist', 'ReadsInPromoter', 'ReadsInTSS', 'singlet', 'tss_count', 'tss_frac', 'TSSEnrichment', 'well_id', 'Clusters', 'subject_id', 'cohort', 'Birth.Year', 'Sex', 'wsnn_res.0.5', 'l1_cell_types', 'l2_cell_types', 'clean_l2_cell_types', 'ReadsInPeaks', 'FRIP', 'MochaPeak_clusters_1'\n",
       "    uns: 'X_name'"
      ]
     },
     "metadata": {},
     "output_type": "display_data"
    }
   ],
   "source": [
    "peak_adata"
   ]
  },
  {
   "cell_type": "code",
   "execution_count": 22,
   "metadata": {
    "vscode": {
     "languageId": "r"
    }
   },
   "outputs": [],
   "source": [
    "# convert the peak matrix to a h5ad files\n",
    "# temp <- tempfile(fileext = file.path(output_path, paste0(proj_name, '_mocha_peakmatrix_l2_celltype.h5ad')))\n",
    "writeH5AD(peak_sce, file.path(output_path, paste0(proj_name, \"_mocha_peakmatrix_l2_celltype.h5ad\")))\n"
   ]
  },
  {
   "cell_type": "code",
   "execution_count": null,
   "metadata": {
    "vscode": {
     "languageId": "r"
    }
   },
   "outputs": [],
   "source": [
    "sessionInfo()"
   ]
  },
  {
   "cell_type": "code",
   "execution_count": null,
   "metadata": {
    "vscode": {
     "languageId": "r"
    }
   },
   "outputs": [],
   "source": []
  }
 ],
 "metadata": {
  "kernelspec": {
   "display_name": "r_scrna",
   "language": "R",
   "name": "r_scrna"
  },
  "language_info": {
   "codemirror_mode": "r",
   "file_extension": ".r",
   "mimetype": "text/x-r-source",
   "name": "R",
   "pygments_lexer": "r",
   "version": "4.1.3"
  }
 },
 "nbformat": 4,
 "nbformat_minor": 4
}
