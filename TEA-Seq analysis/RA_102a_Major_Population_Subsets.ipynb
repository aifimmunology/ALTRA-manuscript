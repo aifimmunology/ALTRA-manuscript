{
  "cells": [
    {
      "cell_type": "markdown",
      "source": [
        "# Setup"
      ],
      "metadata": {}
    },
    {
      "cell_type": "code",
      "source": [],
      "outputs": [],
      "execution_count": null,
      "metadata": {
        "collapsed": true,
        "jupyter": {
          "source_hidden": false,
          "outputs_hidden": false
        },
        "nteract": {
          "transient": {
            "deleting": false
          }
        }
      }
    },
    {
      "cell_type": "code",
      "source": [
        "quiet_library <- function(...) {\n",
        "    suppressPackageStartupMessages(library(...))\n",
        "}\n",
        "quiet_library(Seurat)\n",
        "quiet_library(tidyverse)\n",
        "quiet_library(ggplot2)\n",
        "quiet_library(Matrix)\n",
        "quiet_library(H5weaver)\n",
        "quiet_library(dplyr)\n",
        "quiet_library(viridis)\n",
        "quiet_library(harmony)\n",
        "quiet_library(Nebulosa)\n",
        "quiet_library(future)\n",
        "quiet_library(future.apply)\n",
        "quiet_library(dittoSeq)\n",
        "quiet_library('ArchR')"
      ],
      "outputs": [],
      "execution_count": null,
      "metadata": {}
    },
    {
      "cell_type": "code",
      "source": [
        "# Check number of cores\n",
        "future::availableCores()\n",
        "# Set up parallel processing to run when using 'future' functions \n",
        "future::plan(strategy = \"multicore\", workers = future::availableCores()-3)  \n",
        "options(future.globals.maxSize = 1000 * 1024^5)\n",
        "# to turn off parallel processing run line below\n",
        "# future::plan(strategy = \"sequential\")"
      ],
      "outputs": [],
      "execution_count": null,
      "metadata": {}
    },
    {
      "cell_type": "code",
      "source": [
        "# define file path\n",
        "fig_path <- as.character('/home/jupyter/figures/preRA_teaseq')\n",
        "data_path <- '/home/jupyter/data/preRA_teaseq/EXP-00243'\n",
        "meta_path <- '/home/jupyter/data/preRA_teaseq/meta_data'\n",
        "output_path <- '/home/jupyter/data/preRA_teaseq/output_results'\n",
        "if(!dir.exists(fig_path)) (dir.create(fig_path, recursive = TRUE))\n",
        "if(!dir.exists(output_path)) (dir.create(output_path, recursive = TRUE))\n",
        "# define a project name\n",
        "proj_name <- 'PreRA_teaseq'"
      ],
      "outputs": [],
      "execution_count": null,
      "metadata": {}
    },
    {
      "cell_type": "code",
      "source": [
        "# define the color palette to be used\n",
        "npg_color <- c(\"#E64B35FF\", \"#4DBBD5FF\", \"#00A087FF\", \"#3C5488FF\", \"#F39B7FFF\", \n",
        "               \"#8491B4FF\", \"#91D1C2FF\", \"#DC0000FF\", \"#7E6148FF\", \"#B09C85FF\")\n",
        "nejm_color <- c(\"#BC3C29FF\", \"#0072B5FF\", \"#E18727FF\", \"#20854EFF\", \"#7876B1FF\", \"#6F99ADFF\", \"#FFDC91FF\", \"#EE4C97FF\")\n",
        "jama_color <- c(\"#374E55FF\", \"#DF8F44FF\", \"#00A1D5FF\", \"#B24745FF\", \"#79AF97FF\", \"#6A6599FF\", \"#80796BFF\")\n",
        "jco_color <- c(\"#0073C2FF\", \"#EFC000FF\", \"#868686FF\", \"#CD534CFF\", \"#7AA6DCFF\", \"#003C67FF\", \"#8F7700FF\")\n",
        "cluster_colors <- c(\"#DC050C\", \"#FB8072\", \"#1965B0\", \"#7BAFDE\", \"#882E72\", \"#B17BA6\", \"#FF7F00\", \"#FDB462\", \"#E7298A\", \n",
        "    \"#E78AC3\", \"#33A02C\", \"#B2DF8A\", \"#55A1B1\", \"#8DD3C7\", \"#A6761D\", \"#E6AB02\", \"#7570B3\", \"#BEAED4\", \"#666666\", \"#999999\", \n",
        "    \"#aa8282\", \"#d4b7b7\", \"#8600bf\", \"#ba5ce3\", \"#808000\", \"#aeae5c\", \"#1e90ff\", \"#00bfff\", \"#56ff0d\", \"#ffff00\")\n",
        "\n",
        "cluster_colors_ext <- colorRampPalette(cluster_colors)(36)\n",
        "options(repr.plot.width = 20, repr.plot.height = 15)\n"
      ],
      "outputs": [],
      "execution_count": null,
      "metadata": {}
    },
    {
      "cell_type": "code",
      "source": [
        "source('/home/jupyter/github/Teaseq-analysis/scRNA_teaseq_ananlysis_helper_functions.r')"
      ],
      "outputs": [],
      "execution_count": null,
      "metadata": {}
    },
    {
      "cell_type": "markdown",
      "source": [
        "## Load data"
      ],
      "metadata": {}
    },
    {
      "cell_type": "code",
      "source": [
        "# load the filetered myeloid data in\n",
        "all_so <- readRDS(file.path(data_path,\n",
        "                                'PreRA_teaseq_seurat_qc_filtered_cells_lsi.rds'))"
      ],
      "outputs": [],
      "execution_count": null,
      "metadata": {}
    },
    {
      "cell_type": "code",
      "source": [
        "all_so\n",
        "all_so@meta.data %>% colnames()"
      ],
      "outputs": [],
      "execution_count": null,
      "metadata": {}
    },
    {
      "cell_type": "code",
      "source": [
        "all_so@meta.data$clean_l2_cell_types%>%table()"
      ],
      "outputs": [],
      "execution_count": null,
      "metadata": {}
    },
    {
      "cell_type": "code",
      "source": [
        "# export the total cell counts per sample\n",
        "total_counts <- all_so@meta.data %>% group_by(pbmc_sample_id,subject_id) %>% \n",
        "    tally() %>% rename('n' = 'total_pbmc_counts')\n",
        "total_counts\n",
        "# total_counts %>% write_csv(file.path(output_path, \n",
        "#                                      paste0(proj_name, \n",
        "#                                             'PreRA_teaseq_seurat_qc_filtered_total_cell_counts.csv')))"
      ],
      "outputs": [],
      "execution_count": null,
      "metadata": {}
    },
    {
      "cell_type": "code",
      "source": [
        "options(repr.plot.width = 20, repr.plot.height = 15)\n",
        "VlnPlot(all_so, features = c('nFeature_RNA','nCount_RNA','nCount_ADT','percent.mt'), log = F, \n",
        "        pt.size = 0, group.by = 'well_id', ncol = 2) & \n",
        "    stat_summary(fun=median, geom = \"point\", color=\"black\")\n",
        "ggsave(file.path(fig_path, paste0(proj_name, '_filtered_cells_qc_plots.pdf')))"
      ],
      "outputs": [],
      "execution_count": null,
      "metadata": {}
    },
    {
      "cell_type": "code",
      "source": [
        "all_so@meta.data %>% distinct(well_id)"
      ],
      "outputs": [],
      "execution_count": null,
      "metadata": {}
    },
    {
      "cell_type": "code",
      "source": [
        "options(repr.plot.width = 20, repr.plot.height = 15)\n",
        "p1 <- DimPlot(all_so, group.by = 'SCT_snn_res.0.5', label = T, \n",
        "              raster = TRUE, shuffle = TRUE, reduction = 'umap') \n",
        "p2 <- DimPlot(all_so, group.by = 'predicted.celltype.l2',\n",
        "              raster = TRUE, shuffle = TRUE, label = T, reduction = 'umap') \n",
        "p3 <- DimPlot(all_so, group.by = 'well_id', \n",
        "              raster = TRUE, shuffle = TRUE, label = T, reduction = 'umap') \n",
        "p4 <- DimPlot(all_so, group.by = 'subject_id', raster = TRUE, shuffle = TRUE, label = T, reduction = 'umap')\n",
        "p1 + p2 + p3 + p4\n",
        "ggsave(file.path(fig_path, paste0(proj_name, '_filtered_cells_l2_seurat_label_rnaumap.pdf')), \n",
        "       width = 12, height = 8)"
      ],
      "outputs": [],
      "execution_count": null,
      "metadata": {}
    },
    {
      "cell_type": "code",
      "source": [
        "# output number of cells per samples\n",
        "all_so@meta.data %>% group_by(subject_id) %>% tally() %>% \n",
        "    write_csv(file.path(output_path, paste0(proj_name, '_qc_filered_subject_cell_counts.csv')))"
      ],
      "outputs": [],
      "execution_count": null,
      "metadata": {}
    },
    {
      "cell_type": "code",
      "source": [
        "all_so@meta.data %>% distinct(predicted.celltype.l2)"
      ],
      "outputs": [],
      "execution_count": null,
      "metadata": {}
    },
    {
      "cell_type": "code",
      "source": [
        "all_so"
      ],
      "outputs": [],
      "execution_count": null,
      "metadata": {}
    },
    {
      "cell_type": "markdown",
      "source": [
        "## Recluster on RNA, ADT, ATAC"
      ],
      "metadata": {
        "tags": []
      }
    },
    {
      "cell_type": "code",
      "source": [
        "all_so@meta.data %>% colnames()"
      ],
      "outputs": [],
      "execution_count": null,
      "metadata": {}
    },
    {
      "cell_type": "markdown",
      "source": [
        "### reclustering on RNA"
      ],
      "metadata": {
        "tags": []
      }
    },
    {
      "cell_type": "code",
      "source": [
        "# redo sctransform to regress on precent.mt\n",
        "DefaultAssay(all_so) <- \"RNA\"\n",
        "all_so <- suppressWarnings(SCTransform(all_so, vars.to.regress = 'percent.mt')) %>% RunPCA()"
      ],
      "outputs": [],
      "execution_count": null,
      "metadata": {
        "tags": []
      }
    },
    {
      "cell_type": "code",
      "source": [
        "# check elbow plot\n",
        "ElbowPlot(all_so, ndims = 50, reduction = 'pca')"
      ],
      "outputs": [],
      "execution_count": null,
      "metadata": {
        "tags": []
      }
    },
    {
      "cell_type": "code",
      "source": [
        "# run cluster in SCT\n",
        "all_so <- RunUMAP(all_so, dims = 1:30, verbose = T) %>% \n",
        "    FindNeighbors(dims = 1:30, verbose = T) %>% \n",
        "    FindClusters(resolution = 0.5, verbose = T, future.seed = TRUE)"
      ],
      "outputs": [],
      "execution_count": null,
      "metadata": {
        "tags": []
      }
    },
    {
      "cell_type": "code",
      "source": [
        "options(repr.plot.width = 20, repr.plot.height = 10)\n",
        "p1 <- DimPlot(all_so, label = T, reduction = 'umap',\n",
        "              raster = TRUE, shuffle = TRUE,group.by = 'SCT_snn_res.0.5')\n",
        "\n",
        "p2 <- DimPlot(all_so, group.by = 'predicted.celltype.l2', cols = cluster_colors, raster = TRUE, shuffle = TRUE,\n",
        "              reduction = 'umap', label = T, repel = T) + NoLegend()\n",
        "p3 <- DimPlot(all_so, group.by = 'subject_id',raster = TRUE, shuffle = TRUE,\n",
        "              reduction = 'umap')\n",
        "p4 <- DimPlot(all_so, group.by = 'cohort',raster = TRUE, shuffle = TRUE, reduction = 'umap')\n",
        "p1+p2+p3+p4\n",
        "ggsave(file.path(fig_path, paste0(proj_name, '_rna_umap.pdf')), width=12, height=8)"
      ],
      "outputs": [],
      "execution_count": null,
      "metadata": {}
    },
    {
      "cell_type": "markdown",
      "source": [
        "### reclustering on cleanadt"
      ],
      "metadata": {
        "tags": []
      }
    },
    {
      "cell_type": "code",
      "source": [
        "# create an assay for clean adt removing isotype controls\n",
        "adt_mtx <- all_so@assays$ADT@counts\n",
        "length(rownames(adt_mtx))\n",
        "adts_to_remove <- rownames(adt_mtx) %>% str_subset('isotype|Isotype')\n",
        "all(adts_to_remove %in% rownames(adt_mtx))\n",
        "\n",
        "idx <- which(rownames(adt_mtx) %in% adts_to_remove)\n",
        "clean_adt_mtx <- adt_mtx[-idx,]\n",
        "length(rownames(clean_adt_mtx))\n",
        "# add cleanadt to the seurat object\n",
        "all_so[['cleanadt']] <- CreateAssayObject(clean_adt_mtx)\n",
        "DefaultAssay(all_so) <- 'cleanadt'\n",
        "rownames(all_so) %>% length()"
      ],
      "outputs": [],
      "execution_count": null,
      "metadata": {
        "tags": []
      }
    },
    {
      "cell_type": "code",
      "source": [
        "# run some analysis on adt data\n",
        "# ADT clustering only\n",
        "DefaultAssay(all_so) <- 'cleanadt'\n",
        "VariableFeatures(all_so) <- rownames(all_so[['cleanadt']])\n",
        "all_so <- NormalizeData(all_so, normalization.method = 'CLR', margin = 2) %>% \n",
        "         ScaleData() %>% RunPCA(reduction.name = 'apca') \n",
        "ElbowPlot(all_so, ndims = 50, reduction = 'apca')\n",
        "\n",
        "# all_so <- NormalizeData(all_so, normalization.method = \"CLR\", margin = 2)\n",
        "# all_so <- adt_clustering_func(all_so, assay='cleanadt', resolution = 0.8)"
      ],
      "outputs": [],
      "execution_count": null,
      "metadata": {
        "tags": []
      }
    },
    {
      "cell_type": "code",
      "source": [
        "# run umap and clustering in adt\n",
        "all_so <- RunUMAP(all_so, dims = 1:25, reduction = 'apca', \n",
        "                  reduction.name = 'adt_umap', reduction.key='adtumap_') %>% \n",
        "        FindNeighbors(dims = 1:25, reduction = 'apca') %>% \n",
        "    FindClusters(resolution = 0.5, future.seed=TRUE)"
      ],
      "outputs": [],
      "execution_count": null,
      "metadata": {}
    },
    {
      "cell_type": "code",
      "source": [
        "options(repr.plot.width = 20, repr.plot.height = 15)\n",
        "p1 <- DimPlot(all_so, label = T, reduction = 'adt_umap', group.by = 'cleanadt_snn_res.0.5',\n",
        "             raster = TRUE, shuffle = TRUE) + NoLegend()\n",
        "p2 <- DimPlot(all_so, group.by = 'predicted.celltype.l2', cols = cluster_colors,raster = TRUE, shuffle = TRUE,\n",
        "              reduction = 'adt_umap', label = T, repel = T)\n",
        "p3 <- DimPlot(all_so, raster = TRUE, shuffle = TRUE,group.by = 'subject_id', reduction = 'adt_umap')\n",
        "p4 <- DimPlot(all_so, raster = TRUE, shuffle = TRUE, group.by = 'cohort', reduction = 'adt_umap')\n",
        "p1+p2+p3+p4\n",
        "ggsave(file.path(fig_path, paste0(proj_name, '_all_cells_cleanadt_umap.pdf')), width=12, height=8)\n"
      ],
      "outputs": [],
      "execution_count": null,
      "metadata": {}
    },
    {
      "cell_type": "markdown",
      "source": [
        "### clustering on ATAC"
      ],
      "metadata": {
        "tags": []
      }
    },
    {
      "cell_type": "code",
      "source": [
        "# # load archR data\n",
        "tea_atac <- loadArchRProject(path = \"/home/jupyter/data/preRA_teaseq/EXP-00243/atac_arrows\")\n",
        "# # rerun lsi in the subset cells and load lsi to seurat\n",
        "# all_so <- ExtractLSI(all_so, tea_atac)"
      ],
      "outputs": [],
      "execution_count": null,
      "metadata": {}
    },
    {
      "cell_type": "code",
      "source": [
        "# clustering on ATAC\n",
        "DefaultAssay(all_so) <- 'Tiles'\n",
        "all_so <- RunUMAP(all_so, dims = 1:30, reduction = 'lsit', reduction.name = 'atac_umap', reduction.key='atacumap_') %>% \n",
        "        FindNeighbors(dims = 1:30, reduction = 'lsit') %>% FindClusters(resolution = 0.8, future.seed=TRUE)"
      ],
      "outputs": [],
      "execution_count": null,
      "metadata": {
        "tags": []
      }
    },
    {
      "cell_type": "code",
      "source": [
        "all_so@meta.data %>% colnames()\n",
        "all_so"
      ],
      "outputs": [],
      "execution_count": null,
      "metadata": {}
    },
    {
      "cell_type": "code",
      "source": [
        "options(repr.plot.width = 20, repr.plot.height = 15)\n",
        "p1 <- DimPlot(all_so, label = T, reduction = 'atac_umap',raster = TRUE, shuffle = TRUE,\n",
        "              group.by = 'Tiles_snn_res.0.8') + NoLegend()\n",
        "p2 <- DimPlot(all_so, group.by = 'predicted.celltype.l2',cols = cluster_colors,raster = TRUE, shuffle = TRUE,\n",
        "              reduction = 'atac_umap', label = T, repel = T) \n",
        "p3 <- DimPlot(all_so, group.by = 'subject_id',raster = TRUE, shuffle = TRUE, reduction = 'atac_umap')\n",
        "p4 <- DimPlot(all_so, group.by = 'cohort',raster = TRUE, shuffle = TRUE, cols = nejm_color , reduction = 'atac_umap')\n",
        "p1+p2+p3+p4\n",
        "ggsave(file.path(fig_path, paste0(proj_name, '_all_cells_atac_umap.pdf')), width=12, height=8)"
      ],
      "outputs": [],
      "execution_count": null,
      "metadata": {}
    },
    {
      "cell_type": "code",
      "source": [
        "plot_cluster_freq(all_so, cluster.name = 'Tiles_snn_res.0.8', color.by = 'cohort')\n",
        "# plot_cluster_freq(all_so, cluster.name = 'Tiles_snn_res.0.8', color.by = 'cohort', figname='subtypeA')\n",
        "# plot_cluster_counts(all_so, cluster.name = 'predicted.MonocyteSubsets', color.by = 'cohort', figname='subtypeA')"
      ],
      "outputs": [],
      "execution_count": null,
      "metadata": {}
    },
    {
      "cell_type": "code",
      "source": [
        "all_so@meta.data %>% colnames() %>% sort()"
      ],
      "outputs": [],
      "execution_count": null,
      "metadata": {}
    },
    {
      "cell_type": "markdown",
      "source": [
        "### 3way wnn clustering"
      ],
      "metadata": {
        "tags": []
      }
    },
    {
      "cell_type": "code",
      "source": [
        "# do 3way wnn clustering\n",
        "wnn_3way_clustering_func <- function(x, dim_list= list(1:30, 1:20, 1:30), resolution = 1){\n",
        "    DefaultAssay(x) <- 'SCT'\n",
        "  x <- FindMultiModalNeighbors(\n",
        "    x, reduction.list = list(\"pca\", \"apca\", \"lsit\"),\n",
        "      k.nn = 20, knn.range = 100, prune.SNN = 1/20,\n",
        "    dims.list = dim_list,\n",
        "      modality.weight.name = c('SCT.weight', 'ADT.weight', 'Tiles.weight')\n",
        "  )\n",
        "  x <- RunUMAP(x, nn.name = \"weighted.nn\", reduction.name = \"wnn.3.umap\", reduction.key = \"Uw3_\")\n",
        "  x <- FindClusters(x, graph.name = \"wsnn\", algorithm = 3, resolution = resolution, verbose = TRUE, \n",
        "                    future.seed=TRUE)\n",
        "  x\n",
        "}"
      ],
      "outputs": [],
      "execution_count": null,
      "metadata": {}
    },
    {
      "cell_type": "code",
      "source": [
        "# 3way wnn clustering\n",
        "all_so <- wnn_3way_clustering_func(all_so, dim_list= list(1:30, 1:25, 1:30),  resolution = 0.5)"
      ],
      "outputs": [],
      "execution_count": null,
      "metadata": {}
    },
    {
      "cell_type": "code",
      "source": [
        "# run the different resolutions\n",
        "all_so <- FindClusters(all_so, graph.name = \"wsnn\", future.seed=TRUE,\n",
        "                          algorithm = 3, resolution = 0.8, verbose = TRUE)"
      ],
      "outputs": [],
      "execution_count": null,
      "metadata": {
        "tags": []
      }
    },
    {
      "cell_type": "code",
      "source": [
        "# plot 3wnn umap\n",
        "p1 <- DimPlot(all_so, label = T, reduction = 'wnn.3.umap',\n",
        "              raster = TRUE, shuffle = TRUE, group.by = 'wsnn_res.0.5') + NoLegend()\n",
        "p2 <- DimPlot(all_so, group.by = 'predicted.celltype.l2',raster = TRUE, shuffle = TRUE,\n",
        "              cols = cluster_colors, reduction = 'wnn.3.umap', label = T) \n",
        "p3 <- DimPlot(all_so, group.by = 'cohort',raster = TRUE, shuffle = TRUE,\n",
        "              reduction = 'wnn.3.umap', label = T) + NoLegend()\n",
        "p4 <- DimPlot(all_so, group.by = 'subject_id',raster = TRUE, shuffle = TRUE, reduction = 'wnn.3.umap')\n",
        "p1 + p2 + p3 + p4\n",
        "ggsave(file.path(fig_path, paste0(proj_name, '_wsnn_res.0.5_3wnnumap.pdf')), width=12, height=8)"
      ],
      "outputs": [],
      "execution_count": null,
      "metadata": {}
    },
    {
      "cell_type": "code",
      "source": [
        "plot_cluster_counts(all_so, 'wsnn_res.0.5', color.by='cohort', figname = '')\n",
        "plot_cluster_freq(all_so, 'wsnn_res.0.5', color.by='cohort', figname = '')"
      ],
      "outputs": [],
      "execution_count": null,
      "metadata": {}
    },
    {
      "cell_type": "code",
      "source": [
        "# plot the boxplot of the clusters\n",
        "p1 <- dittoSeq::dittoFreqPlot(all_so, \"wsnn_res.0.5\",\n",
        "     sample.by = \"subject_id\", group.by = \"cohort\", color.by = \"cohort\",\n",
        "    split.adjust = list(scales = \"free\"))\n",
        "\n",
        "# plot the boxplot of the clusters\n",
        "p2 <- dittoSeq::dittoFreqPlot(all_so, \"predicted.celltype.l2\",\n",
        "     sample.by = \"subject_id\", group.by = \"cohort\", color.by = \"cohort\",\n",
        "    split.adjust = list(scales = \"free\"))\n",
        "p2"
      ],
      "outputs": [],
      "execution_count": null,
      "metadata": {}
    },
    {
      "cell_type": "code",
      "source": [
        "# save the seurat obeject \n",
        "all_so %>% saveRDS(file.path(data_path, 'PreRA_teaseq_seurat_qc_filtered_cells_lsi.rds'))"
      ],
      "outputs": [],
      "execution_count": null,
      "metadata": {}
    },
    {
      "cell_type": "code",
      "source": [
        "# plot frequency of the clusters\n",
        "CalClusterFreq <- function(seurat_data, cluster.name, group.by='subject_id', \n",
        "                              color.by){\n",
        "    # plot the frequency by sample for l1 adt clustering\n",
        "    cluster_counts <- seurat_data@meta.data %>% as_tibble() %>% \n",
        "        group_by(.data[[group.by]], .data[[cluster.name]], .data[[color.by]]) %>% \n",
        "        summarise(counts=n(), !!group.by:=.data[[group.by]], !!color.by:=.data[[color.by]],\n",
        "                  .groups = 'drop') %>% \n",
        "        distinct()%>% group_by(.data[[group.by]]) %>% \n",
        "        mutate(frequency=counts/sum(counts), total_counts=sum(counts))\n",
        "    return(cluster_counts)\n",
        "}\n",
        "\n",
        "# PlotClusterBox <- function(freq_table)\n",
        "ped_sen_gating_celltype_counts <- all_so %>%\n",
        "    CalClusterFreq(cluster.name='predicted.celltype.l2', group.by = 'subject_id', color.by='cohort')  \n",
        "p1 <- ped_sen_gating_celltype_counts %>%\n",
        "    ggplot(aes(x=cohort, y=counts, fill=cohort))+ \n",
        "    geom_boxplot(outlier.shape = NA) + \n",
        "    geom_point(position=position_jitterdodge(), size=0.8, alpha=0.8)+\n",
        "    facet_wrap(vars(predicted.celltype.l2), scales = 'free_y') +\n",
        "    theme(axis.text.x = element_text(angle = 45, vjust = 0.5, hjust = 1),\n",
        "             text = element_text(size = 12))+\n",
        "    scale_fill_manual(values =  nejm_color)\n",
        "p1\n",
        "ggsave(file.path(fig_path, paste0(proj_name, '_celltype_cohort_count_boxplot.pdf')), \n",
        "       width=12, height=8)\n",
        "ped_sen_l2_celltype_counts <- all_so %>%\n",
        "    CalClusterFreq(cluster.name='predicted.celltype.l2', group.by = 'subject_id', color.by='cohort')  \n",
        "p2 <- ped_sen_gating_celltype_counts %>%\n",
        "    ggplot(aes(x=cohort, y=frequency, fill=cohort))+ \n",
        "    geom_boxplot(outlier.shape = NA) + \n",
        "    geom_point(position=position_jitterdodge(), size=0.8, alpha=0.8)+\n",
        "    facet_wrap(vars(predicted.celltype.l2), scales = 'free_y') +\n",
        "    theme(axis.text.x = element_text(angle = 45, vjust = 0.5, hjust = 1),\n",
        "             text = element_text(size = 12)) +\n",
        "    scale_fill_manual(values =  nejm_color)\n",
        "p2\n",
        "ggsave(file.path(fig_path, paste0(proj_name, '_celltype_cohort_frequency_boxplot.pdf')), \n",
        "       width=12, height=8)"
      ],
      "outputs": [],
      "execution_count": null,
      "metadata": {}
    },
    {
      "cell_type": "code",
      "source": [
        "dittoSeq::dittoFreqPlot(all_so, \"predicted.celltype.l2\",\n",
        "     sample.by = \"subject_id\", group.by = \"cohort\", color.by = \"cohort\",\n",
        "    split.adjust = list(scales = \"free\"))"
      ],
      "outputs": [],
      "execution_count": null,
      "metadata": {}
    },
    {
      "cell_type": "markdown",
      "source": [
        "## subset major cell types by 3wnn"
      ],
      "metadata": {}
    },
    {
      "cell_type": "code",
      "source": [
        "# plot 3wnn umap\n",
        "p1 <- DimPlot(all_so, label = T, reduction = 'wnn.3.umap',raster = TRUE, shuffle = TRUE,\n",
        "              group.by = 'wsnn_res.0.5') + NoLegend()\n",
        "p2 <- DimPlot(all_so, group.by = 'predicted.celltype.l2', cols = cluster_colors,raster = TRUE, shuffle = TRUE,\n",
        "              reduction = 'wnn.3.umap', label = T) \n",
        "p3 <- DimPlot(all_so, group.by = 'cohort', cols = nejm_color,\n",
        "              raster = TRUE, shuffle = TRUE, reduction = 'wnn.3.umap', label = T) + NoLegend()\n",
        "p4 <- DimPlot(all_so, group.by = 'subject_id',raster = TRUE, shuffle = TRUE, reduction = 'wnn.3.umap')\n",
        "p1 + p2 + p3 + p4\n",
        "ggsave(file.path(fig_path, paste0(proj_name, '_l2_labels_wsnn_res.0.5_3wnnumap.pdf')), width=12, height=8)"
      ],
      "outputs": [],
      "execution_count": null,
      "metadata": {}
    },
    {
      "cell_type": "code",
      "source": [
        "# plot 3wnn umap\n",
        "p1 <- DimPlot(all_so, label = T, reduction = 'umap', raster = TRUE, shuffle = TRUE, cols = cluster_colors,\n",
        "              group.by = 'wsnn_res.0.5') + NoLegend()\n",
        "p2 <- DimPlot(all_so, group.by = 'predicted.celltype.l2', cols = cluster_colors,raster = TRUE, shuffle = TRUE,\n",
        "              reduction = 'wnn.3.umap', label = T) \n",
        "p3 <- DimPlot(all_so, group.by = 'cohort', cols = nejm_color,\n",
        "              raster = TRUE, shuffle = TRUE, reduction = 'wnn.3.umap', label = T) + NoLegend()\n",
        "p4 <- DimPlot(all_so, group.by = 'subject_id',raster = TRUE, shuffle = TRUE, reduction = 'wnn.3.umap')\n",
        "p1 + p2 + p3 + p4\n",
        "ggsave(file.path(fig_path, paste0(proj_name, '_l2_labels_wsnn_res.0.5_3wnnumap.pdf')), width=12, height=8)"
      ],
      "outputs": [],
      "execution_count": null,
      "metadata": {}
    },
    {
      "cell_type": "code",
      "source": [
        "dittoBarPlot(all_so, \"predicted.celltype.l1\", group.by = \"wsnn_res.0.5\")\n",
        "ggsave(file.path(fig_path, paste0(proj_name, '_l2_labels_wsnn_res.0.5_barplot.pdf')), width=6, height=6)"
      ],
      "outputs": [],
      "execution_count": null,
      "metadata": {}
    },
    {
      "cell_type": "code",
      "source": [
        "# define a list of the backbone adt markers to define the general cell types\n",
        "DefaultAssay(all_so) <- 'cleanadt'\n",
        "adt_markers <- c('CD45', 'CD3', 'CD4', 'CD8', 'CD56', 'CD19', 'CD14', \"HLA.DR\", 'CD11b', 'CD16')\n",
        "all(adt_markers %in% rownames(all_so))\n",
        "rownames(all_so) %>% sort()"
      ],
      "outputs": [],
      "execution_count": null,
      "metadata": {}
    },
    {
      "cell_type": "code",
      "source": [
        "all_so@meta.data %>% group_by(subject_id) %>% tally()"
      ],
      "outputs": [],
      "execution_count": null,
      "metadata": {}
    },
    {
      "cell_type": "code",
      "source": [
        "p1 <- FeaturePlot(all_so, features =  'sct_TNFSF11', raster = FALSE,\n",
        "                     #min.cutoff = \"q1\", max.cutoff = \"q99\",\n",
        "            reduction = 'wnn.3.umap')\n",
        "p1"
      ],
      "outputs": [],
      "execution_count": null,
      "metadata": {}
    },
    {
      "cell_type": "code",
      "source": [
        "# test imputed gene scores of certain\n",
        "markerGenes <- c('TNFSF11')\n",
        "\n",
        "p <- plotEmbedding(\n",
        "    ArchRProj = tea_atac, \n",
        "    colorBy = \"GeneScoreMatrix\", \n",
        "    name = markerGenes, \n",
        "    embedding = \"UMAP\",\n",
        "    quantCut = c(0.01, 0.95),\n",
        "    imputeWeights = NULL\n",
        ")\n",
        "p"
      ],
      "outputs": [],
      "execution_count": null,
      "metadata": {}
    },
    {
      "cell_type": "code",
      "source": [
        "p1 <- FeaturePlot(all_so, features =  adt_markers, raster = TRUE,\n",
        "                     min.cutoff = \"q1\", max.cutoff = \"q99\",\n",
        "            reduction = 'wnn.3.umap')\n",
        "p1\n",
        "ggsave(file.path(fig_path, paste0(proj_name, '_l1_adts_3wnnumap_features.pdf')), width=12, height=8)\n",
        "\n",
        "p2 <- plot_density(all_so, features =  adt_markers, \n",
        "            reduction = 'wnn.3.umap')\n",
        "p2\n",
        "ggsave(file.path(fig_path, paste0(proj_name, '_l1_adt_3wnnumap_density.pdf')), width=12, height=8)"
      ],
      "outputs": [],
      "execution_count": null,
      "metadata": {}
    },
    {
      "cell_type": "code",
      "source": [
        "p1 <- DimPlot(all_so, label = T, reduction = 'wnn.3.umap',\n",
        "         group.by = 'wsnn_res.0.5', cols = cluster_colors, raster = FALSE) \n",
        "p1\n",
        "# p2 <- DimPlot(all_so, group.by = 'predicted.celltype.l2', cols = cluster_colors,\n",
        "#               raster = FALSE, repel = TRUE,\n",
        "#               reduction = 'wnn.3.umap', label = T) \n",
        "# p1+p2\n",
        "ggsave(file.path(fig_path, paste0(proj_name, '_wsnn_res.0.5_3wnnumap.pdf')), width=12, height=8)"
      ],
      "outputs": [],
      "execution_count": null,
      "metadata": {}
    },
    {
      "cell_type": "code",
      "source": [
        "# take a look of cluster 16\n",
        "c16_cellids <- all_so@meta.data %>%filter(wsnn_res.0.5==16) %>%rownames()\n",
        "p1 <- DimPlot(all_so, label = T, reduction = 'wnn.3.umap', cells.highlight = c16_cellids,\n",
        "         group.by = 'wsnn_res.0.5', raster = FALSE) \n",
        "p1\n",
        "# p2 <- DimPlot(all_so, group.by = 'predicted.celxltype.l2', cols = cluster_colors,\n",
        "#               raster = FALSE, repel = TRUE,\n",
        "#               reduction = 'wnn.3.umap', label = T) \n",
        "# p1+p2\n",
        "ggsave(file.path(fig_path, paste0(proj_name, '_wsnn_res.0.5_3wnnumap_c16.pdf')), width=12, height=8)"
      ],
      "outputs": [],
      "execution_count": null,
      "metadata": {}
    },
    {
      "cell_type": "code",
      "source": [
        "# check what are the deas and degs for cluster 16 vs all other lymphocytes\n",
        "c16_deas <- FindMarkers(all_so, ident.1 = 16, ident.2 = c(0, 1, 2, 5, 6, 9, 10, 11, 12, 13, 3, 7, 17, 18),\n",
        "                        assay = 'cleanadt')\n",
        "c16_degs <- FindMarkers(all_so, ident.1 = 16,ident.2 = c(0, 1, 2, 5, 6, 9, 10, 11, 12, 13, 3, 7, 17, 18),\n",
        "                        assay = 'RNA')\n"
      ],
      "outputs": [],
      "execution_count": null,
      "metadata": {}
    },
    {
      "cell_type": "code",
      "source": [
        "c16_deas %>% head()\n",
        "c16_degs %>% head()"
      ],
      "outputs": [],
      "execution_count": null,
      "metadata": {}
    },
    {
      "cell_type": "code",
      "source": [
        "# assign the major cell type based on the wsnn_res.0.5 clusters\n",
        "all_so@meta.data <- all_so@meta.data %>% \n",
        "    mutate(l1_cell_types = case_when(wsnn_res.0.5 %in% c(3, 7, 17, 18) ~ 'B cells',\n",
        "                                    wsnn_res.0.5 %in% c(8, 15, 20) ~ 'Myeloid cells',\n",
        "                                    wsnn_res.0.5 %in% c(4, 14) | predicted.celltype.l2 == 'NK Proliferating' ~ 'NK cells',\n",
        "                                    wsnn_res.0.5 %in% c(19) ~ 'HSPC',\n",
        "                                    wsnn_res.0.5 %in% c(0, 1, 2, 5, 6, 9, 10, 11, 12, 13, 16) ~ 'T cells'))"
      ],
      "outputs": [],
      "execution_count": null,
      "metadata": {}
    },
    {
      "cell_type": "code",
      "source": [
        "all_so@meta.data %>% distinct(wsnn_res.0.5, l1_cell_types)"
      ],
      "outputs": [],
      "execution_count": null,
      "metadata": {}
    },
    {
      "cell_type": "code",
      "source": [
        "dittoBarPlot(all_so, \"predicted.celltype.l1\", group.by = \"l1_cell_types\")\n",
        "ggsave(file.path(fig_path, paste0(proj_name, '_predicted_l1_wsnn_res.0.5_l1_labels_barplot.pdf')), width=6, height=6)"
      ],
      "outputs": [],
      "execution_count": null,
      "metadata": {}
    },
    {
      "cell_type": "code",
      "source": [
        "adt_markers <- c('CD45', 'CD3', 'CD4', 'CD8', 'CD56', 'CD19', 'CD14', \"HLA.DR\", 'CD11b', 'CD16')\n",
        "# plot classical adts for cell type definition in l1 labels\n",
        "options(repr.plot.width = 20, repr.plot.height = 15)\n",
        "VlnPlot(all_so, features =adt_markers, group.by = 'l1_cell_types',\n",
        "        pt.size = 0, ncol = 4)& \n",
        "    stat_summary(fun=median, geom = \"point\", color=\"black\") \n",
        "ggsave(file.path(fig_path, paste0(proj_name, 'all_cells_violin_adts.pdf')), width=12, height=8)"
      ],
      "outputs": [],
      "execution_count": null,
      "metadata": {}
    },
    {
      "cell_type": "code",
      "source": [
        "# subet the \n",
        "# save the seurat obeject \n",
        "all_so %>% saveRDS(file.path(data_path, 'PreRA_teaseq_seurat_qc_filtered_cells_lsi.rds'))"
      ],
      "outputs": [],
      "execution_count": null,
      "metadata": {}
    },
    {
      "cell_type": "code",
      "source": [
        "# output the cell number for all major subsets\n",
        "cell_counts <- all_so@meta.data %>% group_by(l1_cell_types, subject_id) %>% tally()\n",
        "cell_counts %>% write_csv(file.path(output_path, 'PreRA_teaseq_l1_cell_types_counts.csv'))"
      ],
      "outputs": [],
      "execution_count": null,
      "metadata": {}
    },
    {
      "cell_type": "markdown",
      "source": [
        "## subset B cells and do some intial analysis"
      ],
      "metadata": {
        "tags": []
      }
    },
    {
      "cell_type": "code",
      "source": [
        "proj_name <- 'PreRA_teaseq_Bcells'\n",
        "fig_path <- '/home/jupyter/figures/preRA_teaseq/B_cells'\n",
        "if(!dir.exists(fig_path)) (dir.create(fig_path))"
      ],
      "outputs": [],
      "execution_count": null,
      "metadata": {}
    },
    {
      "cell_type": "code",
      "source": [
        "# subset B cells from the PBMC obeject\n",
        "ra_tea_b <- subset(all_so, l1_cell_types=='B cells')\n",
        "ra_tea_b"
      ],
      "outputs": [],
      "execution_count": null,
      "metadata": {}
    },
    {
      "cell_type": "code",
      "source": [
        "ra_tea_b@meta.data %>% colnames()\n",
        "kit_id <- ra_tea_b@meta.data %>% distinct(pbmc_sample_id) %>% pull(pbmc_sample_id) %>%\n",
        "    str_replace('PB', 'KT') %>% str_split(\"-\", simplify = TRUE)\n",
        "kit_id[,1]"
      ],
      "outputs": [],
      "execution_count": null,
      "metadata": {}
    },
    {
      "cell_type": "code",
      "source": [
        "ra_tea_b@meta.data %>% distinct(pbmc_sample_id, subject_id) %>% arrange(subject_id)"
      ],
      "outputs": [],
      "execution_count": null,
      "metadata": {}
    },
    {
      "cell_type": "markdown",
      "source": [
        "### reclustering on RNA"
      ],
      "metadata": {
        "tags": []
      }
    },
    {
      "cell_type": "code",
      "source": [
        "# redo sctransform to regress on precent.mt\n",
        "DefaultAssay(ra_tea_b) <- \"RNA\"\n",
        "ra_tea_b <- suppressWarnings(SCTransform(ra_tea_b, vars.to.regress = 'percent.mt')) %>% RunPCA()"
      ],
      "outputs": [],
      "execution_count": null,
      "metadata": {
        "tags": []
      }
    },
    {
      "cell_type": "code",
      "source": [
        "# check elbow plot\n",
        "ElbowPlot(ra_tea_b, ndims = 50, reduction = 'pca')"
      ],
      "outputs": [],
      "execution_count": null,
      "metadata": {
        "tags": []
      }
    },
    {
      "cell_type": "code",
      "source": [
        "# run cluster in SCT\n",
        "ra_tea_b <- RunUMAP(ra_tea_b, dims = 1:30, verbose = T) %>% \n",
        "    FindNeighbors(dims = 1:30, verbose = T) %>% \n",
        "    FindClusters(resolution = 0.5, verbose = T, future.seed = TRUE)"
      ],
      "outputs": [],
      "execution_count": null,
      "metadata": {
        "tags": []
      }
    },
    {
      "cell_type": "code",
      "source": [
        "options(repr.plot.width = 20, repr.plot.height = 10)\n",
        "p1 <- DimPlot(ra_tea_b, label = T, reduction = 'umap', group.by = 'SCT_snn_res.0.5') \n",
        "p2 <- DimPlot(ra_tea_b, group.by = 'predicted.celltype.l2', cols = cluster_colors,\n",
        "              reduction = 'umap', label = T, repel = T) + NoLegend()\n",
        "p3 <- DimPlot(ra_tea_b, group.by = 'subject_id', reduction = 'umap')\n",
        "p4 <- DimPlot(ra_tea_b, group.by = 'cohort', cols = nejm_color, reduction = 'umap')\n",
        "p1+p2+p3+p4\n",
        "ggsave(file.path(fig_path, paste0(proj_name, '_rna_umap.pdf')), width=12, height=8)"
      ],
      "outputs": [],
      "execution_count": null,
      "metadata": {}
    },
    {
      "cell_type": "markdown",
      "source": [
        "### reclustering on cleanadt"
      ],
      "metadata": {
        "tags": []
      }
    },
    {
      "cell_type": "code",
      "source": [
        "# run some analysis on adt data\n",
        "# ADT clustering only\n",
        "DefaultAssay(ra_tea_b) <- 'cleanadt'\n",
        "ra_tea_b <- NormalizeData(ra_tea_b, normalization.method = 'CLR', margin = 2) %>% \n",
        "         ScaleData() %>% RunPCA(reduction.name = 'apca') \n",
        "ElbowPlot(ra_tea_b, ndims = 50, reduction = 'apca')\n",
        "\n",
        "# all_so <- NormalizeData(all_so, normalization.method = \"CLR\", margin = 2)\n",
        "# all_so <- adt_clustering_func(all_so, assay='cleanadt', resolution = 0.8)"
      ],
      "outputs": [],
      "execution_count": null,
      "metadata": {
        "tags": []
      }
    },
    {
      "cell_type": "code",
      "source": [],
      "outputs": [],
      "execution_count": null,
      "metadata": {}
    },
    {
      "cell_type": "code",
      "source": [
        "# run umap and clustering in adt\n",
        "ra_tea_b <- RunUMAP(ra_tea_b, dims = 1:20, reduction = 'apca', \n",
        "                  reduction.name = 'adt_umap', reduction.key='adtumap_') %>% \n",
        "        FindNeighbors(dims = 1:20, reduction = 'apca') %>% \n",
        "    FindClusters(resolution = 0.5, future.seed=TRUE)"
      ],
      "outputs": [],
      "execution_count": null,
      "metadata": {
        "tags": []
      }
    },
    {
      "cell_type": "code",
      "source": [
        "options(repr.plot.width = 20, repr.plot.height = 15)\n",
        "p1 <- DimPlot(ra_tea_b, label = T, reduction = 'adt_umap', group.by = 'cleanadt_snn_res.0.5') + NoLegend()\n",
        "p2 <- DimPlot(ra_tea_b, group.by = 'predicted.celltype.l2', cols = cluster_colors, reduction = 'adt_umap', label = T, repel = T)\n",
        "p3 <- DimPlot(ra_tea_b, group.by = 'subject_id', reduction = 'adt_umap')\n",
        "p4 <- DimPlot(ra_tea_b, group.by = 'cohort',cols = nejm_color, reduction = 'adt_umap')\n",
        "p1+p2+p3+p4\n",
        "ggsave(file.path(fig_path, paste0(proj_name, '_cleanadt_umap.pdf')), width=12, height=8)\n"
      ],
      "outputs": [],
      "execution_count": null,
      "metadata": {}
    },
    {
      "cell_type": "markdown",
      "source": [
        "### clustering on ATAC"
      ],
      "metadata": {
        "tags": []
      }
    },
    {
      "cell_type": "code",
      "source": [
        "# # load archR data\n",
        "tea_atac <- loadArchRProject(path = \"/home/jupyter/data/preRA_teaseq/EXP-00243/atac_arrows\")\n",
        "# rerun lsi in the subset cells and load lsi to seurat\n",
        "ra_tea_b <- ExtractLSI(ra_tea_b, tea_atac, save.archR = TRUE, \n",
        "                       dropCells = TRUE, archR.dir = '/home/jupyter/data/preRA_teaseq/EXP-00243/B_cells')"
      ],
      "outputs": [],
      "execution_count": null,
      "metadata": {}
    },
    {
      "cell_type": "code",
      "source": [
        "# clustering on ATAC\n",
        "DefaultAssay(ra_tea_b) <- 'Tiles'\n",
        "ra_tea_b <- RunUMAP(ra_tea_b, dims = 1:30, reduction = 'lsit', \n",
        "                    reduction.name = 'atac_umap', reduction.key='atacumap_') %>% \n",
        "        FindNeighbors(dims = 1:30, reduction = 'lsit') %>% FindClusters(resolution = 0.8, future.seed=TRUE)"
      ],
      "outputs": [],
      "execution_count": null,
      "metadata": {
        "tags": []
      }
    },
    {
      "cell_type": "code",
      "source": [
        "ra_tea_b@meta.data %>% colnames()\n",
        "ra_tea_b"
      ],
      "outputs": [],
      "execution_count": null,
      "metadata": {}
    },
    {
      "cell_type": "code",
      "source": [
        "options(repr.plot.width = 20, repr.plot.height = 15)\n",
        "p1 <- DimPlot(ra_tea_b, label = T, reduction = 'atac_umap', group.by = 'Tiles_snn_res.0.8') + NoLegend()\n",
        "p2 <- DimPlot(ra_tea_b, group.by = 'predicted.celltype.l2',cols = cluster_colors,\n",
        "              reduction = 'atac_umap', label = T, repel = T) \n",
        "p3 <- DimPlot(ra_tea_b, group.by = 'subject_id', reduction = 'atac_umap')\n",
        "p4 <- DimPlot(ra_tea_b, group.by = 'cohort', cols = nejm_color , reduction = 'atac_umap')\n",
        "p1+p2+p3+p4\n",
        "ggsave(file.path(fig_path, paste0(proj_name, '_all_cells_atac_umap.pdf')), width=12, height=8)"
      ],
      "outputs": [],
      "execution_count": null,
      "metadata": {}
    },
    {
      "cell_type": "code",
      "source": [
        "# plot_cluster_freq(ra_tea_b, cluster.name = 'Tiles_snn_res.0.8', color.by = 'cohort')\n",
        "# plot_cluster_freq(all_so, cluster.name = 'Tiles_snn_res.0.8', color.by = 'cohort', figname='subtypeA')\n",
        "# plot_cluster_counts(all_so, cluster.name = 'predicted.MonocyteSubsets', color.by = 'cohort', figname='subtypeA')"
      ],
      "outputs": [],
      "execution_count": null,
      "metadata": {}
    },
    {
      "cell_type": "code",
      "source": [
        "ra_tea_b@meta.data %>% colnames() %>% sort()"
      ],
      "outputs": [],
      "execution_count": null,
      "metadata": {}
    },
    {
      "cell_type": "markdown",
      "source": [
        "### 3way wnn clustering"
      ],
      "metadata": {
        "tags": []
      }
    },
    {
      "cell_type": "code",
      "source": [
        "# # do 3way wnn clustering\n",
        "# wnn_3way_clustering_func <- function(x, dim_list= list(1:30, 1:20, 1:30), resolution = 1){\n",
        "#     DefaultAssay(x) <- 'SCT'\n",
        "#   x <- FindMultiModalNeighbors(\n",
        "#     x, reduction.list = list(\"pca\", \"apca\", \"lsit\"),\n",
        "#       k.nn = 20, knn.range = 100, prune.SNN = 1/20,\n",
        "#     dims.list = dim_list,\n",
        "#       modality.weight.name = c('SCT.weight', 'ADT.weight', 'Tiles.weight')\n",
        "#   )\n",
        "#   x <- RunUMAP(x, nn.name = \"weighted.nn\", reduction.name = \"wnn.3.umap\", reduction.key = \"Uw3_\")\n",
        "#   x <- FindClusters(x, graph.name = \"wsnn\", algorithm = 3, resolution = resolution, verbose = TRUE, \n",
        "#                     future.seed=TRUE)\n",
        "#   x\n",
        "# }"
      ],
      "outputs": [],
      "execution_count": null,
      "metadata": {}
    },
    {
      "cell_type": "code",
      "source": [
        "# 3way wnn clustering\n",
        "ra_tea_b <- wnn_3way_clustering_func(ra_tea_b, dim_list= list(1:30, 1:20, 1:30),  resolution = 0.5)"
      ],
      "outputs": [],
      "execution_count": null,
      "metadata": {}
    },
    {
      "cell_type": "code",
      "source": [
        "# run the different resolutions\n",
        "for (res in seq(0.1, 1, 0.1)){\n",
        "    ra_tea_b <- FindClusters(ra_tea_b, graph.name = \"wsnn\", future.seed=TRUE,\n",
        "                              algorithm = 3, resolution = res, verbose = TRUE)    \n",
        "}\n"
      ],
      "outputs": [],
      "execution_count": null,
      "metadata": {
        "tags": []
      }
    },
    {
      "cell_type": "code",
      "source": [
        "seq(0.2, 1, 0.1)"
      ],
      "outputs": [],
      "execution_count": null,
      "metadata": {}
    },
    {
      "cell_type": "code",
      "source": [
        "# plot the cluster tree to check what resoluation are appropriate \n",
        "library(clustree)\n",
        "# ra_tea_b@meta.data %>% colnames() %>% str_starts('wsnn_')\n",
        "clustree(ra_tea_b, prefix = \"wsnn_res.\")\n",
        "ggsave(file.path(fig_path, paste0(proj_name, '_3wnn_cluster_tree.pdf')), width=12, height=8)"
      ],
      "outputs": [],
      "execution_count": null,
      "metadata": {
        "tags": []
      }
    },
    {
      "cell_type": "code",
      "source": [
        "# plot 3wnn umap\n",
        "p1 <- DimPlot(ra_tea_b, label = T, reduction = 'wnn.3.umap',  group.by = 'wsnn_res.0.5') + NoLegend()\n",
        "p2 <- DimPlot(ra_tea_b, group.by = 'predicted.celltype.l2',cols = cluster_colors, reduction = 'wnn.3.umap', label = T) \n",
        "p3 <- DimPlot(ra_tea_b, group.by = 'cohort', cols = nejm_color , reduction = 'wnn.3.umap', label = T)\n",
        "p4 <- DimPlot(ra_tea_b, group.by = 'subject_id', reduction = 'wnn.3.umap')\n",
        "p1 + p2 + p3 + p4\n",
        "ggsave(file.path(fig_path, paste0(proj_name, '_wsnn_res.0.5_3wnnumap.pdf')), width=12, height=8)"
      ],
      "outputs": [],
      "execution_count": null,
      "metadata": {}
    },
    {
      "cell_type": "code",
      "source": [
        "# plot_cluster_counts(all_so, 'wsnn_res.0.5', color.by='cohort', figname = '')\n",
        "plot_cluster_freq(ra_tea_b, 'wsnn_res.0.5', color.by='cohort', figname = '')\n",
        "plot_cluster_counts(ra_tea_b, 'wsnn_res.0.5', color.by='cohort', figname = '')"
      ],
      "outputs": [],
      "execution_count": null,
      "metadata": {}
    },
    {
      "cell_type": "code",
      "source": [
        "# save the seurat obeject \n",
        "ra_tea_b %>% saveRDS(file.path(data_path, 'PreRA_teaseq_seurat_b_cells.rds'))"
      ],
      "outputs": [],
      "execution_count": null,
      "metadata": {}
    },
    {
      "cell_type": "code",
      "source": [
        "DefaultAssay(ra_tea_b) <- 'SCT'\n",
        "rownames(ra_tea_b) %>% str_subset('AIM2|IGHG|IGHA')"
      ],
      "outputs": [],
      "execution_count": null,
      "metadata": {}
    },
    {
      "cell_type": "markdown",
      "source": [
        "### labeling B cell clusters"
      ],
      "metadata": {}
    },
    {
      "cell_type": "code",
      "source": [
        "# load the seurat obeject \n",
        "ra_tea_b <- readRDS(file.path(data_path, 'PreRA_teaseq_seurat_b_cells.rds'))"
      ],
      "outputs": [],
      "execution_count": null,
      "metadata": {}
    },
    {
      "cell_type": "code",
      "source": [
        "# plot the cannanical b cell protein markers\n",
        "DefaultAssay(ra_tea_b) <- 'cleanadt'\n",
        "rownames(ra_tea_b) %>% sort()\n",
        "b_adts <- c('CD19', 'CD20', 'CD21', 'CD23', 'CD25', 'CD95', 'CD40', 'CD38', 'CD24', 'CD9', 'CD69', 'TIGIT',\n",
        "            'CD80', 'CD22', 'CD73', 'CD279',\n",
        "            'CD27', 'CD10', 'CD319', 'HLA.DR-DP-DQ','HLA.DR',\n",
        "            'CD11c','IgD', 'IgE', 'IgM', 'Ig-light-chain-k', 'Ig-light-chain-l') %>% sort()\n",
        "b_genes <- c('sct_TBX21', 'sct_ITGAX', 'sct_PDCD1', 'sct_PRDM1','sct_TNFRSF17', 'sct_ERO1B', \n",
        "             'sct_STAT3', 'sct_IKZF3', 'sct_AIM2', 'sct_IGHA2', 'sct_IGHG4', 'sct_IGHG2',\n",
        "             'sct_IGHGP', 'sct_IGHA1', 'sct_IGHG1', 'sct_IGHG3') %>% sort()"
      ],
      "outputs": [],
      "execution_count": null,
      "metadata": {
        "tags": []
      }
    },
    {
      "cell_type": "code",
      "source": [
        "# plot adts\n",
        "DefaultAssay(ra_tea_b) <- 'cleanadt'\n",
        "p1 <- FeaturePlot(ra_tea_b, features = b_adts, raster = FALSE, \n",
        "                     min.cutoff = \"q1\", max.cutoff = \"q99\",\n",
        "            reduction = 'wnn.3.umap')\n",
        "p1\n",
        "ggsave(file.path(fig_path, paste0(proj_name, '_adts_3wnnumap.pdf')), width=24, height=18)\n",
        "p2 <- plot_density(ra_tea_b, b_adts, reduction = 'wnn.3.umap')\n",
        "p2\n",
        "ggsave(file.path(fig_path, paste0(proj_name, '_adts_density_3wnnumap.pdf')), width=24, height=18)\n",
        "p3 <- VlnPlot(ra_tea_b, features= b_adts, group.by = 'wsnn_res.0.5',\n",
        "        pt.size = 0, ncol = 4)& \n",
        "    stat_summary(fun=median, geom = \"point\", color=\"black\") \n",
        "p3\n",
        "ggsave(file.path(fig_path, paste0(proj_name, '_adts_violin_wsnn_res.0.5.pdf')), width=24, height=18)"
      ],
      "outputs": [],
      "execution_count": null,
      "metadata": {}
    },
    {
      "cell_type": "code",
      "source": [
        "# plot gene expressions\n",
        "DefaultAssay(ra_tea_b) <- 'SCT'\n",
        "p1 <- FeaturePlot(ra_tea_b, features = b_genes, raster = FALSE, \n",
        "                     min.cutoff = \"q1\", max.cutoff = \"q99\",\n",
        "            reduction = 'wnn.3.umap')\n",
        "p1\n",
        "ggsave(file.path(fig_path, paste0(proj_name, '_genes_3wnnumap.pdf')), width=24, height=18)\n",
        "p2 <- plot_density(ra_tea_b, b_genes, reduction = 'wnn.3.umap')\n",
        "p2\n",
        "ggsave(file.path(fig_path, paste0(proj_name, '_genes_density_3wnnumap.pdf')), width=24, height=18)\n",
        "p3 <- VlnPlot(ra_tea_b, features= b_genes, group.by = 'wsnn_res.0.5',\n",
        "        pt.size = 0, ncol = 4)& \n",
        "    stat_summary(fun=median, geom = \"point\", color=\"black\") \n",
        "p3\n",
        "ggsave(file.path(fig_path, paste0(proj_name, '_genes_wsnn_res.0.5_violin.pdf')), width=24, height=18)"
      ],
      "outputs": [],
      "execution_count": null,
      "metadata": {}
    },
    {
      "cell_type": "code",
      "source": [
        "DotPlot(ra_tea_b, assay='cleanadt', features = b_adts, group.by='wsnn_res.0.5')+ RotatedAxis()\n",
        "ggsave(file.path(fig_path, paste0(proj_name, '_adts_dotplot_wsnn_res.0.5.pdf')), width=12, height=8)\n",
        "DotPlot(ra_tea_b, assay='SCT', features = b_genes, group.by='wsnn_res.0.5')+ RotatedAxis()\n",
        "ggsave(file.path(fig_path, paste0(proj_name, '_genes_dotplot_wsnn_res.0.5.pdf')), width=12, height=8)"
      ],
      "outputs": [],
      "execution_count": null,
      "metadata": {}
    },
    {
      "cell_type": "code",
      "source": [],
      "outputs": [],
      "execution_count": null,
      "metadata": {}
    },
    {
      "cell_type": "code",
      "source": [
        "# plot the boxplot of the clusters\n",
        "dittoSeq::dittoFreqPlot(ra_tea_b, \"wsnn_res.0.4\",\n",
        "     sample.by = \"subject_id\", group.by = \"cohort\", color.by = \"cohort\",\n",
        "    split.adjust = list(scales = \"free\"))"
      ],
      "outputs": [],
      "execution_count": null,
      "metadata": {}
    },
    {
      "cell_type": "code",
      "source": [],
      "outputs": [],
      "execution_count": null,
      "metadata": {}
    },
    {
      "cell_type": "markdown",
      "source": [
        "## subset T cells and do some intial analysis"
      ],
      "metadata": {
        "tags": []
      }
    },
    {
      "cell_type": "code",
      "source": [
        "proj_name <- 'PreRA_teaseq_Tcells'\n",
        "fig_path <- '/home/jupyter/figures/preRA_teaseq/t_cells'\n",
        "if(!dir.exists(fig_path)) (dir.create(fig_path))"
      ],
      "outputs": [],
      "execution_count": null,
      "metadata": {}
    },
    {
      "cell_type": "code",
      "source": [
        "# subset T cells from the PBMC obeject\n",
        "ra_tea_t <- subset(all_so, l1_cell_types=='T cells')\n",
        "ra_tea_t"
      ],
      "outputs": [],
      "execution_count": null,
      "metadata": {}
    },
    {
      "cell_type": "markdown",
      "source": [
        "### reclustering on RNA"
      ],
      "metadata": {
        "tags": []
      }
    },
    {
      "cell_type": "code",
      "source": [
        "# redo sctransform to regress on precent.mt\n",
        "DefaultAssay(ra_tea_t) <- \"RNA\"\n",
        "ra_tea_t <- suppressWarnings(SCTransform(ra_tea_t, vars.to.regress = 'percent.mt')) %>% RunPCA()"
      ],
      "outputs": [],
      "execution_count": null,
      "metadata": {
        "tags": []
      }
    },
    {
      "cell_type": "code",
      "source": [
        "# check elbow plot\n",
        "ElbowPlot(ra_tea_t, ndims = 50, reduction = 'pca')"
      ],
      "outputs": [],
      "execution_count": null,
      "metadata": {
        "tags": []
      }
    },
    {
      "cell_type": "code",
      "source": [
        "# run cluster in SCT\n",
        "ra_tea_t <- RunUMAP(ra_tea_t, dims = 1:30, verbose = T) %>% \n",
        "    FindNeighbors(dims = 1:30, verbose = T) %>% \n",
        "    FindClusters(resolution = 0.5, verbose = T, future.seed = TRUE)"
      ],
      "outputs": [],
      "execution_count": null,
      "metadata": {
        "tags": []
      }
    },
    {
      "cell_type": "code",
      "source": [
        "options(repr.plot.width = 20, repr.plot.height = 10)\n",
        "p1 <- DimPlot(ra_tea_t, label = T, reduction = 'umap', group.by = 'SCT_snn_res.0.5') \n",
        "p2 <- DimPlot(ra_tea_t, group.by = 'predicted.celltype.l2', cols = cluster_colors,\n",
        "              reduction = 'umap', label = T, repel = T) + NoLegend()\n",
        "p3 <- DimPlot(ra_tea_t, group.by = 'subject_id', reduction = 'umap')\n",
        "p4 <- DimPlot(ra_tea_t, group.by = 'cohort', cols = nejm_color, reduction = 'umap')\n",
        "p1+p2+p3+p4\n",
        "ggsave(file.path(fig_path, paste0(proj_name, '_rna_umap.pdf')), width=12, height=8)"
      ],
      "outputs": [],
      "execution_count": null,
      "metadata": {}
    },
    {
      "cell_type": "markdown",
      "source": [
        "### reclustering on cleanadt"
      ],
      "metadata": {
        "tags": []
      }
    },
    {
      "cell_type": "code",
      "source": [
        "# run some analysis on adt data\n",
        "# ADT clustering only\n",
        "DefaultAssay(ra_tea_t) <- 'cleanadt'\n",
        "ra_tea_t <- NormalizeData(ra_tea_t, normalization.method = 'CLR', margin = 2) %>% \n",
        "         ScaleData() %>% RunPCA(reduction.name = 'apca') \n",
        "ElbowPlot(ra_tea_t, ndims = 50, reduction = 'apca')\n",
        "\n",
        "# all_so <- NormalizeData(all_so, normalization.method = \"CLR\", margin = 2)\n",
        "# all_so <- adt_clustering_func(all_so, assay='cleanadt', resolution = 0.8)"
      ],
      "outputs": [],
      "execution_count": null,
      "metadata": {
        "tags": []
      }
    },
    {
      "cell_type": "code",
      "source": [
        "# run umap and clustering in adt\n",
        "ra_tea_t <- RunUMAP(ra_tea_t, dims = 1:20, reduction = 'apca', \n",
        "                  reduction.name = 'adt_umap', reduction.key='adtumap_') %>% \n",
        "        FindNeighbors(dims = 1:20, reduction = 'apca') %>% \n",
        "    FindClusters(resolution = 0.5, future.seed=TRUE)"
      ],
      "outputs": [],
      "execution_count": null,
      "metadata": {
        "tags": []
      }
    },
    {
      "cell_type": "code",
      "source": [
        "options(repr.plot.width = 20, repr.plot.height = 15)\n",
        "p1 <- DimPlot(ra_tea_t, label = T, reduction = 'adt_umap', group.by = 'cleanadt_snn_res.0.5') + NoLegend()\n",
        "p2 <- DimPlot(ra_tea_t, group.by = 'predicted.celltype.l2', cols = cluster_colors, reduction = 'adt_umap', label = T, repel = T)\n",
        "p3 <- DimPlot(ra_tea_t, group.by = 'subject_id', reduction = 'adt_umap')\n",
        "p4 <- DimPlot(ra_tea_t, group.by = 'cohort',cols = nejm_color, reduction = 'adt_umap')\n",
        "p1+p2+p3+p4\n",
        "ggsave(file.path(fig_path, paste0(proj_name, '_cleanadt_umap.pdf')), width=12, height=8)\n"
      ],
      "outputs": [],
      "execution_count": null,
      "metadata": {}
    },
    {
      "cell_type": "markdown",
      "source": [
        "### clustering on ATAC"
      ],
      "metadata": {
        "tags": []
      }
    },
    {
      "cell_type": "code",
      "source": [
        "# # load archR data\n",
        "tea_atac <- loadArchRProject(path = \"/home/jupyter/data/preRA_teaseq/EXP-00243/atac_arrows\")\n",
        "# rerun lsi in the subset cells and load lsi to seurat\n",
        "ra_tea_t <- ExtractLSI(ra_tea_t, tea_atac, save.archR = TRUE, \n",
        "                       dropCells = TRUE, archR.dir = '/home/jupyter/data/preRA_teaseq/EXP-00243/T_cells')"
      ],
      "outputs": [],
      "execution_count": null,
      "metadata": {}
    },
    {
      "cell_type": "code",
      "source": [
        "# clustering on ATAC\n",
        "DefaultAssay(ra_tea_t) <- 'Tiles'\n",
        "ra_tea_t <- RunUMAP(ra_tea_t, dims = 1:30, reduction = 'lsit', \n",
        "                    reduction.name = 'atac_umap', reduction.key='atacumap_') %>% \n",
        "        FindNeighbors(dims = 1:30, reduction = 'lsit') %>% FindClusters(resolution = 0.8, future.seed=TRUE)"
      ],
      "outputs": [],
      "execution_count": null,
      "metadata": {
        "tags": []
      }
    },
    {
      "cell_type": "code",
      "source": [
        "ra_tea_t@meta.data %>% colnames()\n",
        "ra_tea_t"
      ],
      "outputs": [],
      "execution_count": null,
      "metadata": {}
    },
    {
      "cell_type": "code",
      "source": [
        "options(repr.plot.width = 20, repr.plot.height = 15)\n",
        "p1 <- DimPlot(ra_tea_t, label = T, reduction = 'atac_umap', group.by = 'Tiles_snn_res.0.8') + NoLegend()\n",
        "p2 <- DimPlot(ra_tea_t, group.by = 'predicted.celltype.l2',cols = cluster_colors,\n",
        "              reduction = 'atac_umap', label = T, repel = T) \n",
        "p3 <- DimPlot(ra_tea_t, group.by = 'subject_id', reduction = 'atac_umap')\n",
        "p4 <- DimPlot(ra_tea_t, group.by = 'cohort', cols = nejm_color , reduction = 'atac_umap')\n",
        "p1+p2+p3+p4\n",
        "ggsave(file.path(fig_path, paste0(proj_name, '_all_cells_atac_umap.pdf')), width=12, height=8)"
      ],
      "outputs": [],
      "execution_count": null,
      "metadata": {}
    },
    {
      "cell_type": "code",
      "source": [
        "# plot_cluster_freq(ra_tea_t, cluster.name = 'Tiles_snn_res.0.8', color.by = 'cohort')\n",
        "# plot_cluster_freq(all_so, cluster.name = 'Tiles_snn_res.0.8', color.by = 'cohort', figname='subtypeA')\n",
        "# plot_cluster_counts(all_so, cluster.name = 'predicted.MonocyteSubsets', color.by = 'cohort', figname='subtypeA')"
      ],
      "outputs": [],
      "execution_count": null,
      "metadata": {}
    },
    {
      "cell_type": "code",
      "source": [
        "ra_tea_t@meta.data %>% colnames() %>% sort()"
      ],
      "outputs": [],
      "execution_count": null,
      "metadata": {}
    },
    {
      "cell_type": "markdown",
      "source": [
        "### 3way wnn clustering"
      ],
      "metadata": {
        "tags": []
      }
    },
    {
      "cell_type": "code",
      "source": [
        "# # do 3way wnn clustering\n",
        "# wnn_3way_clustering_func <- function(x, dim_list= list(1:30, 1:20, 1:30), resolution = 1){\n",
        "#     DefaultAssay(x) <- 'SCT'\n",
        "#   x <- FindMultiModalNeighbors(\n",
        "#     x, reduction.list = list(\"pca\", \"apca\", \"lsit\"),\n",
        "#       k.nn = 20, knn.range = 100, prune.SNN = 1/20,\n",
        "#     dims.list = dim_list,\n",
        "#       modality.weight.name = c('SCT.weight', 'ADT.weight', 'Tiles.weight')\n",
        "#   )\n",
        "#   x <- RunUMAP(x, nn.name = \"weighted.nn\", reduction.name = \"wnn.3.umap\", reduction.key = \"Uw3_\")\n",
        "#   x <- FindClusters(x, graph.name = \"wsnn\", algorithm = 3, resolution = resolution, verbose = TRUE, \n",
        "#                     future.seed=TRUE)\n",
        "#   x\n",
        "# }"
      ],
      "outputs": [],
      "execution_count": null,
      "metadata": {}
    },
    {
      "cell_type": "code",
      "source": [
        "# 3way wnn clustering\n",
        "ra_tea_t <- wnn_3way_clustering_func(ra_tea_t, dim_list= list(1:30, 1:20, 1:30),  resolution = 0.5)"
      ],
      "outputs": [],
      "execution_count": null,
      "metadata": {}
    },
    {
      "cell_type": "code",
      "source": [
        "# run the different resolutions\n",
        "for (res in seq(0.1, 1, 0.1)){\n",
        "    ra_tea_t <- FindClusters(ra_tea_t, graph.name = \"wsnn\", future.seed=TRUE,\n",
        "                              algorithm = 3, resolution = res, verbose = TRUE)    \n",
        "}\n"
      ],
      "outputs": [],
      "execution_count": null,
      "metadata": {
        "tags": []
      }
    },
    {
      "cell_type": "code",
      "source": [
        "seq(0.2, 1, 0.1)"
      ],
      "outputs": [],
      "execution_count": null,
      "metadata": {}
    },
    {
      "cell_type": "code",
      "source": [
        "# plot the cluster tree to check what resoluation are appropriate \n",
        "library(clustree)\n",
        "# ra_tea_t@meta.data %>% colnames() %>% str_starts('wsnn_')\n",
        "clustree(ra_tea_t, prefix = \"wsnn_res.\")\n",
        "ggsave(file.path(fig_path, paste0(proj_name, '_3wnn_cluster_tree.pdf')), width=12, height=8)"
      ],
      "outputs": [],
      "execution_count": null,
      "metadata": {
        "tags": []
      }
    },
    {
      "cell_type": "code",
      "source": [
        "# plot 3wnn umap\n",
        "p1 <- DimPlot(ra_tea_t, label = T, reduction = 'wnn.3.umap',raster = TRUE, shuffle = TRUE,  group.by = 'wsnn_res.0.3') + NoLegend()\n",
        "p2 <- DimPlot(ra_tea_t, group.by = 'predicted.celltype.l2',raster = TRUE, shuffle = TRUE,\n",
        "              cols = cluster_colors, reduction = 'wnn.3.umap', label = T) \n",
        "p3 <- DimPlot(ra_tea_t, group.by = 'cohort', cols = nejm_color ,raster = TRUE, shuffle = TRUE, reduction = 'wnn.3.umap', label = T)\n",
        "p4 <- DimPlot(ra_tea_t, group.by = 'subject_id',raster = TRUE, shuffle = TRUE, reduction = 'wnn.3.umap')\n",
        "p1 + p2 + p3 + p4\n",
        "ggsave(file.path(fig_path, paste0(proj_name, '_wsnn_res.0.3_3wnnumap.pdf')), width=12, height=8)"
      ],
      "outputs": [],
      "execution_count": null,
      "metadata": {}
    },
    {
      "cell_type": "code",
      "source": [
        "# plot_cluster_counts(all_so, 'wsnn_res.0.5', color.by='cohort', figname = '')\n",
        "plot_cluster_freq(ra_tea_t, 'wsnn_res.0.4', color.by='cohort', figname = '')\n",
        "plot_cluster_counts(ra_tea_t, 'wsnn_res.0.4', color.by='cohort', figname = '')"
      ],
      "outputs": [],
      "execution_count": null,
      "metadata": {}
    },
    {
      "cell_type": "code",
      "source": [
        "# save the seurat object \n",
        "ra_tea_t %>% saveRDS(file.path(data_path, 'PreRA_teaseq_seurat_t_cells.rds'))"
      ],
      "outputs": [],
      "execution_count": null,
      "metadata": {}
    },
    {
      "cell_type": "markdown",
      "source": [
        "### labeling T cell clusters"
      ],
      "metadata": {
        "tags": []
      }
    },
    {
      "cell_type": "code",
      "source": [
        "# plot the cannanical b cell protein markers\n",
        "DefaultAssay(ra_tea_t) <- 'cleanadt'\n",
        "rownames(ra_tea_t) %>% sort()\n",
        "t_adts <- c('CD4', 'CD8', 'CD3', 'CD45RA', 'CD45RO', 'CD197', 'CD95', 'CD25', 'CD57', 'KLRG1') %>% sort()\n",
        "# t_genes <- c('rna_TBX21', 'rna_ITGAX', 'rna_PDCD1', 'rna_PRDM1', 'rna_ERO1B', 'rna_STAT3', 'rna_IKZF3')"
      ],
      "outputs": [],
      "execution_count": null,
      "metadata": {}
    },
    {
      "cell_type": "code",
      "source": [
        "p1 <- FeaturePlot(ra_tea_t, features = t_adts, raster = TRUE, \n",
        "                     min.cutoff = \"q1\", max.cutoff = \"q99\",\n",
        "            reduction = 'wnn.3.umap')\n",
        "p1\n",
        "ggsave(file.path(fig_path, paste0(proj_name, '_adt_genes_3wnnumap.pdf')), width=24, height=18)\n",
        "p2 <- plot_density(ra_tea_t, t_adts, reduction = 'wnn.3.umap')\n",
        "p2\n",
        "ggsave(file.path(fig_path, paste0(proj_name, '_adts_genes_density_3wnnumap.pdf')), width=24, height=18)"
      ],
      "outputs": [],
      "execution_count": null,
      "metadata": {}
    },
    {
      "cell_type": "markdown",
      "source": [
        "#### label transfer from the ped vs senior object"
      ],
      "metadata": {}
    },
    {
      "cell_type": "code",
      "source": [
        "# plot the boxplot of the clusters\n",
        "dittoSeq::dittoFreqPlot(ra_tea_b, \"wsnn_res.0.4\",\n",
        "     sample.by = \"subject_id\", group.by = \"cohort\", color.by = \"cohort\",\n",
        "    split.adjust = list(scales = \"free\"))"
      ],
      "outputs": [],
      "execution_count": null,
      "metadata": {}
    },
    {
      "cell_type": "markdown",
      "source": [
        "## subset NK cells and do some intial analysis"
      ],
      "metadata": {
        "tags": []
      }
    },
    {
      "cell_type": "code",
      "source": [
        "proj_name <- 'PreRA_teaseq_NK'\n",
        "fig_path <- '/home/jupyter/figures/preRA_teaseq/NK'\n",
        "if(!dir.exists(fig_path)) (dir.create(fig_path))"
      ],
      "outputs": [],
      "execution_count": null,
      "metadata": {}
    },
    {
      "cell_type": "code",
      "source": [
        "# subset T cells from the PBMC obeject\n",
        "ra_tea_nk <- subset(all_so, l1_cell_types=='NK cells')\n",
        "ra_tea_nk"
      ],
      "outputs": [],
      "execution_count": null,
      "metadata": {}
    },
    {
      "cell_type": "markdown",
      "source": [
        "### reclustering on RNA"
      ],
      "metadata": {
        "tags": []
      }
    },
    {
      "cell_type": "code",
      "source": [
        "# redo sctransform to regress on precent.mt\n",
        "DefaultAssay(ra_tea_nk) <- \"RNA\"\n",
        "ra_tea_nk <- suppressWarnings(SCTransform(ra_tea_nk, vars.to.regress = 'percent.mt')) %>% RunPCA()"
      ],
      "outputs": [],
      "execution_count": null,
      "metadata": {
        "tags": []
      }
    },
    {
      "cell_type": "code",
      "source": [
        "# check elbow plot\n",
        "ElbowPlot(ra_tea_nk, ndims = 50, reduction = 'pca')"
      ],
      "outputs": [],
      "execution_count": null,
      "metadata": {
        "tags": []
      }
    },
    {
      "cell_type": "code",
      "source": [
        "# run cluster in SCT\n",
        "ra_tea_nk <- RunUMAP(ra_tea_nk, dims = 1:10, verbose = T) %>% \n",
        "    FindNeighbors(dims = 1:10, verbose = T) %>% \n",
        "    FindClusters(resolution = 0.5, verbose = T, future.seed = TRUE)"
      ],
      "outputs": [],
      "execution_count": null,
      "metadata": {
        "tags": []
      }
    },
    {
      "cell_type": "code",
      "source": [
        "options(repr.plot.width = 20, repr.plot.height = 10)\n",
        "p1 <- DimPlot(ra_tea_nk, label = T, reduction = 'umap', group.by = 'SCT_snn_res.0.5') \n",
        "p2 <- DimPlot(ra_tea_nk, group.by = 'predicted.celltype.l2', cols = cluster_colors,\n",
        "              reduction = 'umap', label = T, repel = T) \n",
        "p3 <- DimPlot(ra_tea_nk, group.by = 'subject_id', reduction = 'umap')\n",
        "p4 <- DimPlot(ra_tea_nk, group.by = 'cohort', cols = nejm_color, reduction = 'umap')\n",
        "p1+p2+p3+p4\n",
        "ggsave(file.path(fig_path, paste0(proj_name, '_rna_umap.pdf')), width=12, height=8)"
      ],
      "outputs": [],
      "execution_count": null,
      "metadata": {}
    },
    {
      "cell_type": "markdown",
      "source": [
        "### reclustering on cleanadt"
      ],
      "metadata": {
        "tags": []
      }
    },
    {
      "cell_type": "code",
      "source": [
        "# run some analysis on adt data\n",
        "# ADT clustering only\n",
        "DefaultAssay(ra_tea_nk) <- 'cleanadt'\n",
        "ra_tea_nk <- NormalizeData(ra_tea_nk, normalization.method = 'CLR', margin = 2) %>% \n",
        "         ScaleData() %>% RunPCA(reduction.name = 'apca') \n",
        "ElbowPlot(ra_tea_nk, ndims = 50, reduction = 'apca')\n",
        "\n",
        "# all_so <- NormalizeData(all_so, normalization.method = \"CLR\", margin = 2)\n",
        "# all_so <- adt_clustering_func(all_so, assay='cleanadt', resolution = 0.8)"
      ],
      "outputs": [],
      "execution_count": null,
      "metadata": {
        "tags": []
      }
    },
    {
      "cell_type": "code",
      "source": [
        "# run umap and clustering in adt\n",
        "ra_tea_nk <- RunUMAP(ra_tea_nk, dims = 1:15, reduction = 'apca', \n",
        "                  reduction.name = 'adt_umap', reduction.key='adtumap_') %>% \n",
        "        FindNeighbors(dims = 1:15, reduction = 'apca') %>% \n",
        "    FindClusters(resolution = 0.5, future.seed=TRUE)"
      ],
      "outputs": [],
      "execution_count": null,
      "metadata": {
        "tags": []
      }
    },
    {
      "cell_type": "code",
      "source": [
        "options(repr.plot.width = 20, repr.plot.height = 15)\n",
        "p1 <- DimPlot(ra_tea_nk, label = T, reduction = 'adt_umap', group.by = 'cleanadt_snn_res.0.5') + NoLegend()\n",
        "p2 <- DimPlot(ra_tea_nk, group.by = 'predicted.celltype.l2', cols = cluster_colors, reduction = 'adt_umap', label = T, repel = T)\n",
        "p3 <- DimPlot(ra_tea_nk, group.by = 'subject_id', reduction = 'adt_umap')\n",
        "p4 <- DimPlot(ra_tea_nk, group.by = 'cohort',cols = nejm_color, reduction = 'adt_umap')\n",
        "p1+p2+p3+p4\n",
        "ggsave(file.path(fig_path, paste0(proj_name, '_cleanadt_umap.pdf')), width=12, height=8)\n"
      ],
      "outputs": [],
      "execution_count": null,
      "metadata": {}
    },
    {
      "cell_type": "markdown",
      "source": [
        "### clustering on ATAC"
      ],
      "metadata": {
        "tags": []
      }
    },
    {
      "cell_type": "code",
      "source": [
        "# # load archR data\n",
        "tea_atac <- loadArchRProject(path = \"/home/jupyter/data/preRA_teaseq/EXP-00243/atac_arrows\")\n",
        "# rerun lsi in the subset cells and load lsi to seurat\n",
        "ra_tea_nk <- ExtractLSI(ra_tea_nk, tea_atac, save.archR = TRUE, \n",
        "                       dropCells = TRUE, archR.dir = '/home/jupyter/data/preRA_teaseq/EXP-00243/NK_cells')"
      ],
      "outputs": [],
      "execution_count": null,
      "metadata": {}
    },
    {
      "cell_type": "code",
      "source": [
        "# clustering on ATAC\n",
        "DefaultAssay(ra_tea_nk) <- 'Tiles'\n",
        "ra_tea_nk <- RunUMAP(ra_tea_nk, dims = 1:30, reduction = 'lsit', \n",
        "                    reduction.name = 'atac_umap', reduction.key='atacumap_') %>% \n",
        "        FindNeighbors(dims = 1:30, reduction = 'lsit') %>% FindClusters(resolution = 0.8, future.seed=TRUE)"
      ],
      "outputs": [],
      "execution_count": null,
      "metadata": {
        "tags": []
      }
    },
    {
      "cell_type": "code",
      "source": [
        "ra_tea_nk@meta.data %>% colnames()\n",
        "ra_tea_nk"
      ],
      "outputs": [],
      "execution_count": null,
      "metadata": {}
    },
    {
      "cell_type": "code",
      "source": [
        "options(repr.plot.width = 20, repr.plot.height = 15)\n",
        "p1 <- DimPlot(ra_tea_nk, label = T, reduction = 'atac_umap', group.by = 'Tiles_snn_res.0.8') + NoLegend()\n",
        "p2 <- DimPlot(ra_tea_nk, group.by = 'predicted.celltype.l2',cols = cluster_colors,\n",
        "              reduction = 'atac_umap', label = T, repel = T) \n",
        "p3 <- DimPlot(ra_tea_nk, group.by = 'subject_id', reduction = 'atac_umap')\n",
        "p4 <- DimPlot(ra_tea_nk, group.by = 'cohort', cols = nejm_color , reduction = 'atac_umap')\n",
        "p1+p2+p3+p4\n",
        "ggsave(file.path(fig_path, paste0(proj_name, '_all_cells_atac_umap.pdf')), width=12, height=8)"
      ],
      "outputs": [],
      "execution_count": null,
      "metadata": {}
    },
    {
      "cell_type": "code",
      "source": [
        "# plot_cluster_freq(ra_tea_nk, cluster.name = 'Tiles_snn_res.0.8', color.by = 'cohort')\n",
        "# plot_cluster_freq(all_so, cluster.name = 'Tiles_snn_res.0.8', color.by = 'cohort', figname='subtypeA')\n",
        "# plot_cluster_counts(all_so, cluster.name = 'predicted.MonocyteSubsets', color.by = 'cohort', figname='subtypeA')"
      ],
      "outputs": [],
      "execution_count": null,
      "metadata": {}
    },
    {
      "cell_type": "code",
      "source": [
        "ra_tea_nk@meta.data %>% colnames() %>% sort()"
      ],
      "outputs": [],
      "execution_count": null,
      "metadata": {}
    },
    {
      "cell_type": "markdown",
      "source": [
        "### 3way wnn clustering"
      ],
      "metadata": {
        "tags": []
      }
    },
    {
      "cell_type": "code",
      "source": [
        "# # do 3way wnn clustering\n",
        "# wnn_3way_clustering_func <- function(x, dim_list= list(1:30, 1:20, 1:30), resolution = 1){\n",
        "#     DefaultAssay(x) <- 'SCT'\n",
        "#   x <- FindMultiModalNeighbors(\n",
        "#     x, reduction.list = list(\"pca\", \"apca\", \"lsit\"),\n",
        "#       k.nn = 20, knn.range = 100, prune.SNN = 1/20,\n",
        "#     dims.list = dim_list,\n",
        "#       modality.weight.name = c('SCT.weight', 'ADT.weight', 'Tiles.weight')\n",
        "#   )\n",
        "#   x <- RunUMAP(x, nn.name = \"weighted.nn\", reduction.name = \"wnn.3.umap\", reduction.key = \"Uw3_\")\n",
        "#   x <- FindClusters(x, graph.name = \"wsnn\", algorithm = 3, resolution = resolution, verbose = TRUE, \n",
        "#                     future.seed=TRUE)\n",
        "#   x\n",
        "# }"
      ],
      "outputs": [],
      "execution_count": null,
      "metadata": {}
    },
    {
      "cell_type": "code",
      "source": [
        "# 3way wnn clustering\n",
        "ra_tea_nk <- wnn_3way_clustering_func(ra_tea_nk, dim_list= list(1:10, 1:15, 1:30),  resolution = 0.5)"
      ],
      "outputs": [],
      "execution_count": null,
      "metadata": {}
    },
    {
      "cell_type": "code",
      "source": [
        "# run the different resolutions\n",
        "for (res in seq(0.1, 1, 0.1)){\n",
        "    ra_tea_nk <- FindClusters(ra_tea_nk, graph.name = \"wsnn\", future.seed=TRUE,\n",
        "                              algorithm = 3, resolution = res, verbose = TRUE)    \n",
        "}\n"
      ],
      "outputs": [],
      "execution_count": null,
      "metadata": {
        "tags": []
      }
    },
    {
      "cell_type": "code",
      "source": [
        "seq(0.2, 1, 0.1)"
      ],
      "outputs": [],
      "execution_count": null,
      "metadata": {}
    },
    {
      "cell_type": "code",
      "source": [
        "# plot the cluster tree to check what resoluation are appropriate \n",
        "library(clustree)\n",
        "# ra_tea_nk@meta.data %>% colnames() %>% str_starts('wsnn_')\n",
        "clustree(ra_tea_nk, prefix = \"wsnn_res.\")\n",
        "ggsave(file.path(fig_path, paste0(proj_name, '_3wnn_cluster_tree.pdf')), width=12, height=8)"
      ],
      "outputs": [],
      "execution_count": null,
      "metadata": {
        "tags": []
      }
    },
    {
      "cell_type": "code",
      "source": [
        "# plot 3wnn umap\n",
        "p1 <- DimPlot(ra_tea_nk, label = T, reduction = 'wnn.3.umap',  group.by = 'wsnn_res.0.6') + NoLegend()\n",
        "p2 <- DimPlot(ra_tea_nk, group.by = 'predicted.celltype.l2',cols = cluster_colors, reduction = 'wnn.3.umap', label = T) \n",
        "p3 <- DimPlot(ra_tea_nk, group.by = 'cohort', cols = nejm_color , reduction = 'wnn.3.umap', label = T)\n",
        "p4 <- DimPlot(ra_tea_nk, group.by = 'subject_id', reduction = 'wnn.3.umap')\n",
        "p1 + p2 + p3 + p4\n",
        "ggsave(file.path(fig_path, paste0(proj_name, '_wsnn_res.0.6_3wnnumap.pdf')), width=12, height=8)"
      ],
      "outputs": [],
      "execution_count": null,
      "metadata": {}
    },
    {
      "cell_type": "code",
      "source": [
        "# plot_cluster_counts(all_so, 'wsnn_res.0.5', color.by='cohort', figname = '')\n",
        "plot_cluster_freq(ra_tea_nk, 'wsnn_res.0.6', color.by='cohort', figname = '')\n",
        "plot_cluster_counts(ra_tea_nk, 'wsnn_res.0.6', color.by='cohort', figname = '')"
      ],
      "outputs": [],
      "execution_count": null,
      "metadata": {}
    },
    {
      "cell_type": "code",
      "source": [
        "# save the seurat object \n",
        "ra_tea_nk %>% saveRDS(file.path(data_path, 'PreRA_teaseq_seurat_NK_cells.rds'))"
      ],
      "outputs": [],
      "execution_count": null,
      "metadata": {}
    },
    {
      "cell_type": "markdown",
      "source": [
        "### labeling NK cell clusters\n",
        "- label transfer from the ped vs senior object"
      ],
      "metadata": {}
    },
    {
      "cell_type": "code",
      "source": [
        "# plot the cannanical b cell protein markers\n",
        "DefaultAssay(ra_tea_b) <- 'cleanadt'\n",
        "rownames(ra_tea_b) %>% sort()\n",
        "b_adts <- c('CD19', 'CD20', 'CD38', 'CD24', 'CD27', 'CD10', 'CD319',\n",
        "            'CD11c','IgD', 'IgE', 'IgM', 'Ig-light-chain-k', 'Ig-light-chain-l') %>% sort()\n",
        "b_genes <- c('rna_TBX21', 'rna_ITGAX', 'rna_PDCD1', 'rna_PRDM1', 'rna_ERO1B', 'rna_STAT3', 'rna_IKZF3')"
      ],
      "outputs": [],
      "execution_count": null,
      "metadata": {}
    },
    {
      "cell_type": "code",
      "source": [
        "p1 <- FeaturePlot(ra_tea_b, features = c(b_adts, b_genes), raster = FALSE, \n",
        "                     min.cutoff = \"q1\", max.cutoff = \"q99\",\n",
        "            reduction = 'wnn.3.umap')\n",
        "p1\n",
        "ggsave(file.path(fig_path, paste0(proj_name, '_adt_genes_3wnnumap.pdf')), width=24, height=18)\n",
        "p2 <- plot_density(ra_tea_b, c(b_adts, b_genes), reduction = 'wnn.3.umap')\n",
        "p2\n",
        "ggsave(file.path(fig_path, paste0(proj_name, '_adts_genes_density_3wnnumap.pdf')), width=24, height=18)"
      ],
      "outputs": [],
      "execution_count": null,
      "metadata": {}
    },
    {
      "cell_type": "code",
      "source": [
        "# plot the boxplot of the clusters\n",
        "dittoSeq::dittoFreqPlot(ra_tea_b, \"wsnn_res.0.4\",\n",
        "     sample.by = \"subject_id\", group.by = \"cohort\", color.by = \"cohort\",\n",
        "    split.adjust = list(scales = \"free\"))"
      ],
      "outputs": [],
      "execution_count": null,
      "metadata": {}
    },
    {
      "cell_type": "code",
      "source": [],
      "outputs": [],
      "execution_count": null,
      "metadata": {}
    },
    {
      "cell_type": "markdown",
      "source": [
        "## subset major cell types by 3wnn"
      ],
      "metadata": {}
    },
    {
      "cell_type": "code",
      "source": [
        "# plot 3wnn umap\n",
        "p1 <- DimPlot(all_so, label = T, reduction = 'wnn.3.umap',  group.by = 'wsnn_res.0.5') + NoLegend()\n",
        "p2 <- DimPlot(all_so, group.by = 'predicted.celltype.l2', cols = cluster_colors,\n",
        "              reduction = 'wnn.3.umap', label = T) \n",
        "p3 <- DimPlot(all_so, group.by = 'cohort', cols = nejm_color, reduction = 'wnn.3.umap', label = T) + NoLegend()\n",
        "p4 <- DimPlot(all_so, group.by = 'subject_id', reduction = 'wnn.3.umap')\n",
        "p1 + p2 + p3 + p4\n",
        "ggsave(file.path(fig_path, paste0(proj_name, '_l2_labels_wsnn_res.0.5_3wnnumap.pdf')), width=12, height=8)"
      ],
      "outputs": [],
      "execution_count": null,
      "metadata": {}
    },
    {
      "cell_type": "code",
      "source": [
        "all_so@meta.data %>% colnames()\n",
        "all_so"
      ],
      "outputs": [],
      "execution_count": null,
      "metadata": {}
    },
    {
      "cell_type": "code",
      "source": [
        "p1 <- scCustomize::DimPlot_scCustom(all_so, label = FALSE, repel=TRUE,raster = TRUE,\n",
        "                                    reduction = 'umap', colors_use = nejm_color,\n",
        "              group.by = 'cohort') + NoLegend() + ggtitle('RNA')+ NoAxes()\n",
        "p2 <- scCustomize::DimPlot_scCustom(all_so, label = FALSE, repel=TRUE,raster = TRUE,\n",
        "                                    reduction = 'adt_umap', colors_use = nejm_color,\n",
        "              group.by = 'cohort') + NoLegend()+ ggtitle('Protein')+ NoAxes()\n",
        "p3 <- scCustomize::DimPlot_scCustom(all_so, label = FALSE, repel=TRUE,raster = TRUE,\n",
        "                                    reduction = 'atac_umap', colors_use = nejm_color,\n",
        "              group.by = 'cohort')+ ggtitle('ATAC')+ NoLegend() + NoAxes()\n",
        "p4 <- scCustomize::DimPlot_scCustom(all_so, label = FALSE, repel=TRUE,raster = TRUE,\n",
        "                                    reduction = 'wnn.3.umap', colors_use = nejm_color,\n",
        "              group.by = 'cohort')+ ggtitle('wnn.3.umap')+ NoLegend() + NoAxes()\n",
        "p1+p2+p3+p4+ plot_layout(ncol = 2)\n",
        "ggsave(file.path(fig_path, paste0(proj_name, '_cohort_3modalities_umaps.pdf')), width=8, height=6)"
      ],
      "outputs": [],
      "execution_count": null,
      "metadata": {}
    },
    {
      "cell_type": "code",
      "source": [
        "p4 <- scCustomize::DimPlot_scCustom(all_so, label = FALSE, repel=TRUE,raster = TRUE,\n",
        "                                    reduction = 'wnn.3.umap', colors_use = nejm_color,\n",
        "              group.by = 'cohort')+ ggtitle('wnn.3.umap') + NoAxes()\n",
        "p4"
      ],
      "outputs": [],
      "execution_count": null,
      "metadata": {}
    },
    {
      "cell_type": "code",
      "source": [
        "p1 <- scCustomize::DimPlot_scCustom(all_so, label = TRUE, repel=TRUE, raster = TRUE,\n",
        "                                    reduction = 'wnn.3.umap', colors_use = cluster_colors_ext,\n",
        "              group.by = 'l2_cell_types') + NoLegend() \n",
        "p1\n",
        "ggsave(file.path(fig_path, paste0(proj_name, '_l2_cell_types_3wnnumap_unlabelled.pdf')), width=5, height=5)"
      ],
      "outputs": [],
      "execution_count": null,
      "metadata": {}
    },
    {
      "cell_type": "code",
      "source": [
        "# plot all umap\n",
        "p1 <- DimPlot(all_so, label = T, reduction = 'wnn.3.umap',  group.by = 'wsnn_res.0.5') + NoLegend()\n",
        "p2 <- DimPlot(all_so, group.by = 'predicted.celltype.l2', cols = cluster_colors,\n",
        "              reduction = 'wnn.3.umap', label = T) \n",
        "p3 <- DimPlot(all_so, group.by = 'cohort', cols = nejm_color, reduction = 'wnn.3.umap', label = T) + NoLegend()\n",
        "p4 <- DimPlot(all_so, group.by = 'subject_id', reduction = 'wnn.3.umap')\n",
        "p1 + p2 + p3 + p4\n",
        "ggsave(file.path(fig_path, paste0(proj_name, '_l2_labels_wsnn_res.0.5_3wnnumap.pdf')), width=12, height=8)"
      ],
      "outputs": [],
      "execution_count": null,
      "metadata": {}
    },
    {
      "cell_type": "code",
      "source": [],
      "outputs": [],
      "execution_count": null,
      "metadata": {}
    },
    {
      "cell_type": "code",
      "source": [],
      "outputs": [],
      "execution_count": null,
      "metadata": {}
    },
    {
      "cell_type": "markdown",
      "source": [
        "## subset only the myeloid cells from intersect atac and rna labels"
      ],
      "metadata": {
        "tags": []
      }
    },
    {
      "cell_type": "code",
      "source": [],
      "outputs": [],
      "execution_count": null,
      "metadata": {}
    },
    {
      "cell_type": "code",
      "source": [
        "# load atac labels for the mononocytes\n",
        "atac_labels <- read_csv(file.path(meta_path, \n",
        "                             'RA_TEAseq_Monocyte_SubtypeLabeledMetadata.csv'), \n",
        "                   col_types = cols()) %>% rename('sample_id_barcode' = '...1')\n",
        "atac_labels %>% dim()\n",
        "atac_labels %>% colnames()\n",
        "all(atac_labels$barcodes %in% all_so@meta.data$barcodes)"
      ],
      "outputs": [],
      "execution_count": null,
      "metadata": {}
    },
    {
      "cell_type": "code",
      "source": [
        "match_barcodes <- c(atac_labels$barcodes %in% all_so@meta.data$barcodes)\n",
        "# check how many cells in atac labels were missing in the seurat data\n",
        "length(match_barcodes[match_barcodes== FALSE])"
      ],
      "outputs": [],
      "execution_count": null,
      "metadata": {}
    },
    {
      "cell_type": "code",
      "source": [
        "all_so@meta.data %>% group_by(predicted.celltype.l2) %>% tally()\n",
        "all_so@meta.data %>% filter(barcodes %in% atac_labels$barcodes)%>% group_by(predicted.celltype.l2) %>% tally()"
      ],
      "outputs": [],
      "execution_count": null,
      "metadata": {}
    },
    {
      "cell_type": "code",
      "source": [
        "# select columns to keep in atac labels\n",
        "atac_labels %>% colnames()\n",
        "atac_labels.keep <- atac_labels %>% select(c(barcodes, nFrags, Clusters,umap_1, umap_2,\n",
        "                                             predicted.MonocyteSubsets, predicted.MonocyteSubsets.score)) %>% \n",
        "    rename('atac_clusters'='Clusters','atac_umap1'= 'umap_1','atac_umap2'= 'umap_2')\n",
        "atac_labels.keep %>% head()"
      ],
      "outputs": [],
      "execution_count": null,
      "metadata": {}
    },
    {
      "cell_type": "code",
      "source": [
        "all_so@meta.data  %>% distinct(predicted.celltype.l2)"
      ],
      "outputs": [],
      "execution_count": null,
      "metadata": {}
    },
    {
      "cell_type": "code",
      "source": [
        "# subset myeloid cells subset predicted by atac\n",
        "myeloid_labels <- all_so@meta.data %>% \n",
        "    dplyr::filter( (barcodes%in% atac_labels$barcodes) | \n",
        "                  (predicted.celltype.l2 %in% c('CD14 Mono', 'CD16 Mono','pDC','cDC2', 'cDC1', 'HSPC', 'ASDC'))) %>% \n",
        "    left_join(atac_labels.keep, by='barcodes')\n",
        "myeloid_labels %>% group_by(predicted.celltype.l2) %>% tally()\n",
        "myeloid_labels %>% group_by(predicted.MonocyteSubsets) %>% tally()\n",
        "myeloid_labels %>% nrow()"
      ],
      "outputs": [],
      "execution_count": null,
      "metadata": {}
    },
    {
      "cell_type": "code",
      "source": [
        "all(myeloid_labels$barcodes %in% all_so@meta.data$barcodes)"
      ],
      "outputs": [],
      "execution_count": null,
      "metadata": {}
    },
    {
      "cell_type": "code",
      "source": [
        "myeloid_labels %>% distinct(pbmc_sample_id)"
      ],
      "outputs": [],
      "execution_count": null,
      "metadata": {}
    },
    {
      "cell_type": "code",
      "source": [
        "# subset the myeloid subset\n",
        "all_so_mye <- subset(all_so, subset = barcodes%in% myeloid_labels$barcodes)"
      ],
      "outputs": [],
      "execution_count": null,
      "metadata": {}
    },
    {
      "cell_type": "code",
      "source": [
        "# add addtional metadata from atac to the object\n",
        "cell_id <- all_so_mye@meta.data %>% rownames()\n",
        "all_so_mye@meta.data <- myeloid_labels\n",
        "rownames(all_so_mye@meta.data) <- cell_id"
      ],
      "outputs": [],
      "execution_count": null,
      "metadata": {}
    },
    {
      "cell_type": "code",
      "source": [
        "all_so_mye@meta.data %>% distinct(well_id)"
      ],
      "outputs": [],
      "execution_count": null,
      "metadata": {}
    },
    {
      "cell_type": "code",
      "source": [
        "all_so_mye"
      ],
      "outputs": [],
      "execution_count": null,
      "metadata": {}
    },
    {
      "cell_type": "code",
      "source": [
        "# save the seurat obeject \n",
        "all_so_mye %>% saveRDS(file.path(data_path, paste0(proj_name, '_seurat_myeloid_cells.rds')))"
      ],
      "outputs": [],
      "execution_count": null,
      "metadata": {}
    }
  ],
  "metadata": {
    "kernelspec": {
      "display_name": "seurat_v5",
      "language": "R",
      "name": "seurat_v5"
    },
    "language_info": {
      "codemirror_mode": "r",
      "file_extension": ".r",
      "mimetype": "text/x-r-source",
      "name": "R",
      "pygments_lexer": "r",
      "version": "4.3.3"
    },
    "nteract": {
      "version": "0.28.0"
    }
  },
  "nbformat": 4,
  "nbformat_minor": 4
}