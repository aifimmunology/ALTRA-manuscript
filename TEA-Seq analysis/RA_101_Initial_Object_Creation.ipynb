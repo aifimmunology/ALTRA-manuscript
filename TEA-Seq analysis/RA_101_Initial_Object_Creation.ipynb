{
  "cells": [
    {
      "cell_type": "markdown",
      "source": [
        "# Pre-RA teaseq analysis - object creation\n",
        "- create Seurat object from H5\n",
        "- perform initial qc"
      ],
      "metadata": {
        "tags": []
      }
    },
    {
      "cell_type": "markdown",
      "source": [
        "### Load Libraries"
      ],
      "metadata": {}
    },
    {
      "cell_type": "code",
      "source": [
        "# load libraries\n",
        "quiet_library <- function(...) {\n",
        "    suppressPackageStartupMessages(library(...))\n",
        "}\n",
        "quiet_library(tidyverse)\n",
        "quiet_library(Seurat)\n",
        "quiet_library(ggplot2)\n",
        "quiet_library(Matrix)\n",
        "quiet_library(H5weaver)\n",
        "quiet_library(dplyr)\n",
        "quiet_library(viridis)\n",
        "quiet_library(harmony)\n",
        "quiet_library(Nebulosa)\n",
        "quiet_library(future)\n",
        "quiet_library(future.apply)\n",
        "quiet_library(H5weaver)\n",
        "quiet_library(SingleCellExperiment)\n"
      ],
      "outputs": [],
      "execution_count": null,
      "metadata": {
        "vscode": {
          "languageId": "r"
        }
      }
    },
    {
      "cell_type": "code",
      "source": [
        "# define file path\n",
        "fig_path <- \"/home/jupyter/figures/preRA_teaseq/qc_filtering\")\n",
        "data_path <- \"/home/jupyter/data/preRA_teaseq/EXP-00243\"\n",
        "meta_path <- \"/home/jupyter/data/preRA_teaseq/meta_data\"\n",
        "output_path <- \"/home/jupyter/data/preRA_teaseq/output_results\"\n",
        "if (!dir.exists(fig_path)) (dir.create(fig_path, recursive = TRUE))\n",
        "if (!dir.exists(output_path)) (dir.create(output_path, recursive = TRUE))\n",
        "# define a project name\n",
        "proj_name <- \"PreRA_teaseq\"\n"
      ],
      "outputs": [],
      "execution_count": null,
      "metadata": {
        "vscode": {
          "languageId": "r"
        }
      }
    },
    {
      "cell_type": "code",
      "source": [
        "# Check number of cores\n",
        "future::availableCores()\n",
        "# Set up parallel processing to run when using 'future' functions\n",
        "future::plan(strategy = \"multicore\", workers = future::availableCores() - 3)\n",
        "options(future.globals.maxSize = 1000 * 1024^5)\n",
        "# to turn off parallel processing run line below\n",
        "# future::plan(strategy = \"sequential\")\n"
      ],
      "outputs": [],
      "execution_count": null,
      "metadata": {
        "vscode": {
          "languageId": "r"
        }
      }
    },
    {
      "cell_type": "code",
      "source": [
        "# define the color palette to be used\n",
        "npg_color <- c(\"#E64B35FF\", \"#4DBBD5FF\", \"#00A087FF\", \"#3C5488FF\", \"#F39B7FFF\", \n",
        "               \"#8491B4FF\", \"#91D1C2FF\", \"#DC0000FF\", \"#7E6148FF\", \"#B09C85FF\")\n",
        "nejm_color <- c(\"#BC3C29FF\", \"#0072B5FF\", \"#E18727FF\", \"#20854EFF\", \"#7876B1FF\", \"#6F99ADFF\", \"#FFDC91FF\", \"#EE4C97FF\")\n",
        "jama_color <- c(\"#374E55FF\", \"#DF8F44FF\", \"#00A1D5FF\", \"#B24745FF\", \"#79AF97FF\", \"#6A6599FF\", \"#80796BFF\")\n",
        "jco_color <- c(\"#0073C2FF\", \"#EFC000FF\", \"#868686FF\", \"#CD534CFF\", \"#7AA6DCFF\", \"#003C67FF\", \"#8F7700FF\")\n",
        "cluster_colors <- c(\"#DC050C\", \"#FB8072\", \"#1965B0\", \"#7BAFDE\", \"#882E72\", \"#B17BA6\", \"#FF7F00\", \"#FDB462\", \"#E7298A\", \n",
        "    \"#E78AC3\", \"#33A02C\", \"#B2DF8A\", \"#55A1B1\", \"#8DD3C7\", \"#A6761D\", \"#E6AB02\", \"#7570B3\", \"#BEAED4\", \"#666666\", \"#999999\", \n",
        "    \"#aa8282\", \"#d4b7b7\", \"#8600bf\", \"#ba5ce3\", \"#808000\", \"#aeae5c\", \"#1e90ff\", \"#00bfff\", \"#56ff0d\", \"#ffff00\")"
      ],
      "outputs": [],
      "execution_count": null,
      "metadata": {
        "vscode": {
          "languageId": "r"
        }
      }
    },
    {
      "cell_type": "markdown",
      "source": [
        "### Helper Functions"
      ],
      "metadata": {}
    },
    {
      "cell_type": "code",
      "source": [
        "# Read in ADT information\n",
        "adt_info_func <- function(path) {\n",
        "  h5_list <- h5dump(path)\n",
        "  h5_list <- h5_list_convert_to_dgCMatrix(h5_list, target = \"ADT\")\n",
        "  adt_mtx <- h5_list$ADT_dgCMatrix\n",
        "  adt_mtx\n",
        "}\n",
        "\n",
        "# Seurat RNA Pipeline\n",
        "seurat_proc_func <- function(x, resolution = 0.5) {\n",
        "  DefaultAssay(x) <- \"RNA\"\n",
        "  # x <- NormalizeData(x) %>% FindVariableFeatures() %>% ScaleData() %>% RunPCA()\n",
        "  x <- suppressWarnings(SCTransform(x, verbose = T, vars.to.regress = \"percent.mt\"))\n",
        "  x <- RunPCA(x, verbose = T)\n",
        "  x <- RunUMAP(x, dims = 1:30, verbose = T) %>%\n",
        "    FindNeighbors(dims = 1:30, verbose = T) %>%\n",
        "    FindClusters(resolution = resolution, verbose = T, future.seed = TRUE)\n",
        "  x\n",
        "}\n",
        "\n",
        "quick_rna_clustering <- function(x, resolution = 0.5) {\n",
        "  DefaultAssay(x) <- \"RNA\"\n",
        "  x <- NormalizeData(x, future.seed = TRUE) %>%\n",
        "    FindVariableFeatures() %>%\n",
        "    ScaleData() %>%\n",
        "    RunPCA(verbose = FALSE)\n",
        "  # x <- suppressWarnings(SCTransform(x, verbose = FALSE))\n",
        "  # x <- RunPCA(x, verbose = FALSE)\n",
        "  x <- RunUMAP(x, dims = 1:30, verbose = FALSE) %>%\n",
        "    FindNeighbors(dims = 1:30, verbose = FALSE) %>%\n",
        "    FindClusters(resolution = resolution, verbose = FALSE, future.seed = TRUE)\n",
        "  x\n",
        "}\n",
        "\n",
        "# ADT clustering only\n",
        "adt_clustering_func <- function(x) {\n",
        "  DefaultAssay(x) <- \"ADT\"\n",
        "  VariableFeatures(x) <- rownames(x[[\"ADT\"]])\n",
        "  x <- NormalizeData(x, normalization.method = \"CLR\", margin = 2) %>%\n",
        "    ScaleData() %>%\n",
        "    RunPCA(reduction.name = \"apca\")\n",
        "  x <- RunUMAP(x, dims = 1:25, reduction = \"apca\", reduction.name = \"adt_umap\", future.seed = TRUE) %>%\n",
        "    FindNeighbors(dims = 1:25, reduction = \"apca\", future.seed = TRUE) %>%\n",
        "    FindClusters(resolution = 0.5, future.seed = TRUE)\n",
        "  DefaultAssay(x) <- \"SCT\"\n",
        "  x\n",
        "}\n",
        "\n",
        "# ADT clustering by harmony\n",
        "adt_clustering_by_harmony <- function(x, resolution = 0.5) {\n",
        "  DefaultAssay(x) <- \"ADT\"\n",
        "  VariableFeatures(x) <- rownames(x[[\"ADT\"]])\n",
        "  x <- NormalizeData(x, normalization.method = \"CLR\", margin = 2) %>%\n",
        "    ScaleData() %>%\n",
        "    RunPCA(reduction.name = \"apca\")\n",
        "  x <- RunHarmony(\n",
        "    object = x, group.by.vars = \"dataset\", reduction = \"apca\",\n",
        "    assay.use = \"ADT\", reduction.save = \"harmony_adt\"\n",
        "  )\n",
        "  x <- RunUMAP(x, dims = 1:25, reduction = \"harmony_adt\", reduction.name = \"harmonyadt_umap\", verbose = F) %>%\n",
        "    FindNeighbors(dims = 1:25, reduction = \"harmony_adt\") %>%\n",
        "    FindClusters(resolution = resolution)\n",
        "}\n",
        "\n",
        "# ADT & RNA WNN clustering\n",
        "wnn_clustering_func <- function(x) {\n",
        "  x <- FindMultiModalNeighbors(\n",
        "    x,\n",
        "    reduction.list = list(\"pca\", \"apca\"),\n",
        "    dims.list = list(1:30, 1:25), modality.weight.name = \"RNA.weight\"\n",
        "  )\n",
        "  x <- RunUMAP(x, nn.name = \"weighted.nn\", reduction.name = \"wnn.umap\", reduction.key = \"wnnUMAP_\")\n",
        "  x <- FindClusters(x, graph.name = \"wsnn\", algorithm = 3, resolution = 1, verbose = FALSE)\n",
        "}\n",
        "\n",
        "# Seurat RNA Label transfer\n",
        "label_transfer_func <- function(reference, query) {\n",
        "  anchors <- FindTransferAnchors(\n",
        "    reference = reference,\n",
        "    query = query,\n",
        "    normalization.method = \"SCT\",\n",
        "    reference.reduction = \"spca\",\n",
        "    dims = 1:50\n",
        "  )\n",
        "  query <- TransferData(\n",
        "    anchorset = anchors, reference = reference, query = query,\n",
        "    refdata = list(\n",
        "      celltype.l1 = \"celltype.l1\",\n",
        "      celltype.l2 = \"celltype.l2\",\n",
        "      celltype.l3 = \"celltype.l3\",\n",
        "      predicted_ADT = \"ADT\"\n",
        "    )\n",
        "  )\n",
        "  query\n",
        "}\n",
        "\n",
        "label_transfer_func_alt <- function(reference, query) {\n",
        "  anchors <- FindTransferAnchors(\n",
        "    reference = reference,\n",
        "    query = query,\n",
        "    normalization.method = \"SCT\",\n",
        "    reference.reduction = \"spca\",\n",
        "    dims = 1:50, recompute.residuals = FALSE\n",
        "  )\n",
        "  query <- TransferData(\n",
        "    anchorset = anchors, reference = reference, query = query,\n",
        "    refdata = list(\n",
        "      celltype.l1 = \"celltype.l1\",\n",
        "      celltype.l2 = \"celltype.l2\",\n",
        "      celltype.l3 = \"celltype.l3\",\n",
        "      predicted_ADT = \"ADT\"\n",
        "    )\n",
        "  )\n",
        "  query\n",
        "}\n",
        "\n",
        "wnn_3way_clustering_func <- function(x) {\n",
        "  x <- FindMultiModalNeighbors(\n",
        "    x,\n",
        "    reduction.list = list(\"pca\", \"harmony_adt\", \"lsit\"),\n",
        "    dims.list = list(1:40, 1:30, 1:29), modality.weight.name = \"RNA.weight\"\n",
        "  )\n",
        "  x <- RunUMAP(x, nn.name = \"weighted.nn\", reduction.name = \"wnn.3.umap\", reduction.key = \"Uw3_\")\n",
        "  x <- FindClusters(x, graph.name = \"wsnn\", algorithm = 1, resolution = 0.5, verbose = TRUE)\n",
        "  x\n",
        "}\n"
      ],
      "outputs": [],
      "execution_count": null,
      "metadata": {
        "vscode": {
          "languageId": "r"
        }
      }
    },
    {
      "cell_type": "markdown",
      "source": [
        "## Load Data & Create Seurat Objects"
      ],
      "metadata": {
        "tags": []
      }
    },
    {
      "cell_type": "code",
      "source": [
        "all_h5 <- list.files(\n",
        "    path = data_path, recursive = TRUE,\n",
        "    pattern = \"*h5\",\n",
        "    full.names = TRUE\n",
        ")\n"
      ],
      "outputs": [],
      "execution_count": null,
      "metadata": {
        "vscode": {
          "languageId": "r"
        }
      }
    },
    {
      "cell_type": "code",
      "source": [
        "# only filter out the file needed\n",
        "all_h5%>% str_extract('PB\\\\d\\\\d\\\\d\\\\d\\\\d.\\\\d\\\\d|IMM\\\\d\\\\d(_|-)\\\\d\\\\d\\\\d')"
      ],
      "outputs": [],
      "execution_count": null,
      "metadata": {
        "vscode": {
          "languageId": "r"
        }
      }
    },
    {
      "cell_type": "code",
      "source": [
        "all_so_list <- suppressWarnings(lapply(all_h5, read_h5_seurat))"
      ],
      "outputs": [],
      "execution_count": null,
      "metadata": {
        "vscode": {
          "languageId": "r"
        }
      }
    },
    {
      "cell_type": "code",
      "source": [
        "# get adt matrices in list via lapply\n",
        "all_adt_mtx_list <- lapply(all_h5, adt_info_func)"
      ],
      "outputs": [],
      "execution_count": null,
      "metadata": {
        "vscode": {
          "languageId": "r"
        }
      }
    },
    {
      "cell_type": "code",
      "source": [
        "# check what adt are present in the H5 dataset\n",
        "all_adt_mtx_list[[1]] %>% rownames() %>% length()\n",
        "all_adt_mtx_list[[1]] %>% rownames()"
      ],
      "outputs": [],
      "execution_count": null,
      "metadata": {
        "vscode": {
          "languageId": "r"
        }
      }
    },
    {
      "cell_type": "code",
      "source": [
        "# merge all RNA seurat objects into single object\n",
        "all_so <- Reduce(merge,all_so_list)"
      ],
      "outputs": [],
      "execution_count": null,
      "metadata": {
        "vscode": {
          "languageId": "r"
        }
      }
    },
    {
      "cell_type": "code",
      "source": [
        "# merge all adt mtxs \n",
        "all_adt_mtx <- do.call(cbind, all_adt_mtx_list)"
      ],
      "outputs": [],
      "execution_count": null,
      "metadata": {
        "vscode": {
          "languageId": "r"
        }
      }
    },
    {
      "cell_type": "code",
      "source": [
        "# check if the colnames barcodes match between rna and adt\n",
        "table(all_so$original_barcodes == colnames(all_adt_mtx))"
      ],
      "outputs": [],
      "execution_count": null,
      "metadata": {
        "tags": [],
        "vscode": {
          "languageId": "r"
        }
      }
    },
    {
      "cell_type": "code",
      "source": [
        "colnames(all_adt_mtx) <- colnames(all_so[['RNA']])"
      ],
      "outputs": [],
      "execution_count": null,
      "metadata": {
        "vscode": {
          "languageId": "r"
        }
      }
    },
    {
      "cell_type": "code",
      "source": [
        "all_so[['ADT']] <- CreateAssayObject(all_adt_mtx)"
      ],
      "outputs": [],
      "execution_count": null,
      "metadata": {
        "vscode": {
          "languageId": "r"
        }
      }
    },
    {
      "cell_type": "markdown",
      "source": [
        "### Save seurat obeject"
      ],
      "metadata": {
        "tags": []
      }
    },
    {
      "cell_type": "code",
      "source": [
        "all_so <- SetIdent(all_so, value = 'well_id')\n",
        "all_so"
      ],
      "outputs": [],
      "execution_count": null,
      "metadata": {
        "vscode": {
          "languageId": "r"
        }
      }
    },
    {
      "cell_type": "code",
      "source": [
        "all_so"
      ],
      "outputs": [],
      "execution_count": null,
      "metadata": {
        "vscode": {
          "languageId": "r"
        }
      }
    },
    {
      "cell_type": "code",
      "source": [
        "data_path"
      ],
      "outputs": [],
      "execution_count": null,
      "metadata": {
        "vscode": {
          "languageId": "r"
        }
      }
    },
    {
      "cell_type": "code",
      "source": [
        "# save the seurat object \n",
        "all_so %>% saveRDS(file.path(data_path, paste0(proj_name, '_seurat_all_cells.rds')))"
      ],
      "outputs": [],
      "execution_count": null,
      "metadata": {
        "vscode": {
          "languageId": "r"
        }
      }
    },
    {
      "cell_type": "code",
      "source": [
        "# load the seurat object \n",
        "all_so <- readRDS(file.path(data_path, 'PreRA_teaseq_seurat_all_cells.rds'))"
      ],
      "outputs": [],
      "execution_count": null,
      "metadata": {
        "vscode": {
          "languageId": "r"
        }
      }
    },
    {
      "cell_type": "code",
      "source": [
        "# add atac informtation to the seurat object in 101b_ATAC_Initial_Object_Creation.ipynb.ipynb \n",
        "# noted: some cells didn't pass atac qc \n",
        "# 138209 - 135995 "
      ],
      "outputs": [],
      "execution_count": null,
      "metadata": {
        "vscode": {
          "languageId": "r"
        }
      }
    },
    {
      "cell_type": "markdown",
      "source": [
        "## QC Filtering"
      ],
      "metadata": {}
    },
    {
      "cell_type": "code",
      "source": [
        "# load the seurat obeject with ATAC information\n",
        "all_so <- readRDS(file.path(data_path, \"PreRA_teaseq_seurat_all_cells.rds\"))\n"
      ],
      "outputs": [],
      "execution_count": null,
      "metadata": {
        "vscode": {
          "languageId": "r"
        }
      }
    },
    {
      "cell_type": "code",
      "source": [
        "# run some qc analysis on rna data\n",
        "DefaultAssay(all_so) <- \"RNA\""
      ],
      "outputs": [],
      "execution_count": null,
      "metadata": {
        "vscode": {
          "languageId": "r"
        }
      }
    },
    {
      "cell_type": "code",
      "source": [
        "options(repr.plot.width = 20, repr.plot.height = 15)\n",
        "\n",
        "all_so[[\"percent.mt\"]] <- PercentageFeatureSet(all_so, pattern = \"^MT-\")\n",
        "VlnPlot(all_so, features = c('nFeature_RNA','nCount_RNA','nCount_ADT','percent.mt'), log = F, \n",
        "        pt.size = 0, group.by = 'well_id', ncol = 2) & \n",
        "    stat_summary(fun=median, geom = \"point\", color=\"black\")\n",
        "ggsave(file.path(fig_path, paste0(proj_name, '_qc_plots.pdf')), width = 12, height = 8)"
      ],
      "outputs": [],
      "execution_count": null,
      "metadata": {
        "vscode": {
          "languageId": "r"
        }
      }
    },
    {
      "cell_type": "code",
      "source": [
        "well_sample_counts <- all_so@meta.data %>% group_by(well_id, pbmc_sample_id) %>% tally()\n",
        "well_sample_counts %>% ggplot(aes(x=well_id, y=n)) + geom_boxplot() + geom_jitter(aes(colour=pbmc_sample_id)) +\n",
        "    theme(axis.text.x = element_text(angle = 90, vjust = 0.5, hjust = 1),\n",
        "             text = element_text(size = 16))\n",
        "ggsave(file.path(fig_path, paste0(proj_name, '_well_counts.pdf')), width = 8, height = 6)"
      ],
      "outputs": [],
      "execution_count": null,
      "metadata": {
        "vscode": {
          "languageId": "r"
        }
      }
    },
    {
      "cell_type": "code",
      "source": [
        "VlnPlot(all_so, features = 'percent.mt', group.by = 'well_id', log = F )\n",
        "ggsave(file.path(fig_path, paste0(proj_name, '_mt_genes_qc.pdf')))\n",
        "p1 <- FeatureScatter(all_so, feature1 = \"nCount_RNA\", feature2 = \"percent.mt\")\n",
        "p2 <- FeatureScatter(all_so, feature1 = \"nFeature_RNA\", feature2 = \"percent.mt\")\n",
        "p3 <- FeatureScatter(all_so, feature1 = \"nCount_ADT\", feature2 = \"percent.mt\")\n",
        "p1+p2+p3\n",
        "ggsave(file.path(fig_path, paste0(proj_name, '_mt_genes_qc.pdf')))"
      ],
      "outputs": [],
      "execution_count": null,
      "metadata": {
        "vscode": {
          "languageId": "r"
        }
      }
    },
    {
      "cell_type": "code",
      "source": [
        "VlnPlot(all_so, features = 'nCount_ADT', group.by = 'well_id', log = F )+ylim(0, 20000)"
      ],
      "outputs": [],
      "execution_count": null,
      "metadata": {
        "vscode": {
          "languageId": "r"
        }
      }
    },
    {
      "cell_type": "code",
      "source": [
        "# check the cells in p1c2w6\n",
        "p1c2w6 <- subset(all_so, well_id == \"EXP-00243-P1C2W6\")\n",
        "p1c2w6 <- seurat_proc_func(p1c2w6, resolution = 0.5)\n",
        "p1c2w6\n"
      ],
      "outputs": [],
      "execution_count": null,
      "metadata": {
        "vscode": {
          "languageId": "r"
        }
      }
    },
    {
      "cell_type": "code",
      "source": [
        "options(repr.plot.width = 20, repr.plot.height = 15)\n",
        "p1 <- DimPlot(p1c2w6, group.by = \"SCT_snn_res.0.5\", label = T, reduction = \"umap\")\n",
        "p2 <- DimPlot(p1c2w6, group.by = \"nCount_RNA\", label = T, reduction = \"umap\")\n",
        "p3 <- DimPlot(p1c2w6, group.by = \"cohort\", label = T, reduction = \"umap\")\n",
        "p4 <- DimPlot(p1c2w6, group.by = \"subject_id\", label = T, reduction = \"umap\")\n",
        "p1 + p2 + p3 + p4\n",
        "ggsave(file.path(fig_path, paste0(proj_name, \"_filtered_cells_p1c2w6_l2_seurat_label_rnaumap.pdf\")),\n",
        "       width = 12, height = 6\n",
        ")\n"
      ],
      "outputs": [],
      "execution_count": null,
      "metadata": {
        "vscode": {
          "languageId": "r"
        }
      }
    },
    {
      "cell_type": "code",
      "source": [
        "VlnPlot(p1c2w6,\n",
        "    features = c(\"nFeature_RNA\", \"nCount_RNA\", \"nCount_ADT\", \"percent.mt\"), log = F,\n",
        "    pt.size = 0, group.by = \"subject_id\", ncol = 2\n",
        ") &\n",
        "    stat_summary(fun = median, geom = \"point\", color = \"black\")\n"
      ],
      "outputs": [],
      "execution_count": null,
      "metadata": {
        "vscode": {
          "languageId": "r"
        }
      }
    },
    {
      "cell_type": "markdown",
      "source": [
        "### Moderate QC Filtering"
      ],
      "metadata": {}
    },
    {
      "cell_type": "code",
      "source": [
        "# nCount_ADT < 10000 adt cleaning\n",
        "all_so_fl <- subset(all_so, subset = nFeature_RNA > 250 & nCount_RNA > 500 &\n",
        "    nCount_ADT < 10000 & percent.mt < 30 & nCount_RNA < 20000)\n",
        "ß"
      ],
      "outputs": [],
      "execution_count": null,
      "metadata": {
        "vscode": {
          "languageId": "r"
        }
      }
    },
    {
      "cell_type": "code",
      "source": [
        "# double check the well is removed\n",
        "all_so[[]] %>% distinct(pbmc_sample_id)"
      ],
      "outputs": [],
      "execution_count": null,
      "metadata": {
        "vscode": {
          "languageId": "r"
        }
      }
    },
    {
      "cell_type": "code",
      "source": [
        "well_sample_counts <- all_so_fl@meta.data %>%\n",
        "    group_by(well_id, pbmc_sample_id) %>%\n",
        "    tally()\n",
        "well_sample_counts %>% ggplot(aes(x = well_id, y = n)) +\n",
        "    geom_boxplot() +\n",
        "    geom_jitter(aes(colour = pbmc_sample_id)) +\n",
        "    theme(\n",
        "        axis.text.x = element_text(angle = 90, vjust = 0.5, hjust = 1),\n",
        "        text = element_text(size = 16)\n",
        "    )\n"
      ],
      "outputs": [],
      "execution_count": null,
      "metadata": {
        "vscode": {
          "languageId": "r"
        }
      }
    },
    {
      "cell_type": "code",
      "source": [
        "# remove the low adt quality cells\n",
        "all_so_fl@meta.data %>% group_by(adt_qc_flag) %>% tally()\n",
        "all_so_fl <- subset(all_so_fl, subset = adt_qc_flag=='Good')"
      ],
      "outputs": [],
      "execution_count": null,
      "metadata": {
        "vscode": {
          "languageId": "r"
        }
      }
    },
    {
      "cell_type": "code",
      "source": [
        "all_so_fl@meta.data %>% group_by(adt_qc_flag) %>% tally()"
      ],
      "outputs": [],
      "execution_count": null,
      "metadata": {
        "vscode": {
          "languageId": "r"
        }
      }
    },
    {
      "cell_type": "code",
      "source": [
        "# check what cells are removed from atac labels\n",
        "atac_rm_barcodes <- atac_labels %>%\n",
        "    dplyr::filter((!barcodes %in% all_so_fl$barcodes)) %>%\n",
        "    pull(barcodes)\n",
        "atac_rm <- all_so@meta.data %>%\n",
        "    as_tibble() %>%\n",
        "    dplyr::filter(barcodes %in% atac_rm_barcodes)\n",
        "# atac_rm %>% select(nFeature_RNA, nCount_ADT,nCount_RNA, percent.mt)\n",
        "atac_rm %>%\n",
        "    filter(nFeature_RNA > 250 & nCount_RNA > 500 &\n",
        "        nCount_ADT < 10000 & nCount_RNA < 20000) %>%\n",
        "    nrow()\n"
      ],
      "outputs": [],
      "execution_count": null,
      "metadata": {
        "vscode": {
          "languageId": "r"
        }
      }
    },
    {
      "cell_type": "code",
      "source": [
        "ncol(all_so_fl)/ncol(all_so)"
      ],
      "outputs": [],
      "execution_count": null,
      "metadata": {
        "vscode": {
          "languageId": "r"
        }
      }
    },
    {
      "cell_type": "code",
      "source": [
        "# load clinical metadata\n",
        "metadata <- read_csv(file.path(meta_path, \"PreRA_teaseq_metadata.csv\"), show_col_types = FALSE) %>%\n",
        "    rename(\"subject_id\" = \"Subject\") %>%\n",
        "    mutate(cohort = if_else(str_detect(subject_id, \"CU\"), \"pre-RA\", \"Healthy\"))\n",
        "metadata$pbmc_sample_id %in% all_so_fl@meta.data$pbmc_sample_id\n",
        "# add addtional metadata from atac to the object\n",
        "cell_id <- all_so_fl@meta.data %>% rownames()\n",
        "all_so_fl@meta.data <- all_so_fl@meta.data %>% left_join(metadata, by = \"pbmc_sample_id\")\n",
        "rownames(all_so_fl@meta.data) <- cell_id\n"
      ],
      "outputs": [],
      "execution_count": null,
      "metadata": {
        "vscode": {
          "languageId": "r"
        }
      }
    },
    {
      "cell_type": "code",
      "source": [
        "options(repr.plot.width = 20, repr.plot.height = 15)\n",
        "VlnPlot(all_so_fl,\n",
        "    features = c(\"nFeature_RNA\", \"nCount_RNA\", \"nCount_ADT\", \"percent.mt\"), log = F,\n",
        "    pt.size = 0, group.by = \"well_id\", ncol = 2\n",
        ") &\n",
        "    stat_summary(fun = median, geom = \"point\", color = \"black\")\n",
        "ggsave(file.path(fig_path, paste0(proj_name, \"_filtered_cells_qc_plots.pdf\")))\n"
      ],
      "outputs": [],
      "execution_count": null,
      "metadata": {
        "vscode": {
          "languageId": "r"
        }
      }
    },
    {
      "cell_type": "code",
      "source": [
        "VlnPlot(all_so_fl, features = \"percent.mt\", group.by = \"well_id\", log = F)\n",
        "ggsave(file.path(fig_path, paste0(proj_name, \"_filtered_cells_mt_genes_qc.pdf\")))\n"
      ],
      "outputs": [],
      "execution_count": null,
      "metadata": {
        "vscode": {
          "languageId": "r"
        }
      }
    },
    {
      "cell_type": "code",
      "source": [
        "# double check the well to be remove\n",
        "all_so_fl@meta.data %>%\n",
        "    group_by(well_id) %>%\n",
        "    tally()\n",
        "# remove the well EXP-00243-P1C2W6\n",
        "all_so_fl <- subset(all_so_fl, well_id != \"EXP-00243-P1C2W6\")\n",
        "all_so_fl@meta.data %>%\n",
        "    group_by(well_id) %>%\n",
        "    tally()\n"
      ],
      "outputs": [],
      "execution_count": null,
      "metadata": {
        "vscode": {
          "languageId": "r"
        }
      }
    },
    {
      "cell_type": "code",
      "source": [
        "ncol(all_so_fl)\n",
        "ncol(all_so)\n",
        "ncol(all_so_fl)/ncol(all_so)"
      ],
      "outputs": [],
      "execution_count": null,
      "metadata": {
        "vscode": {
          "languageId": "r"
        }
      }
    },
    {
      "cell_type": "markdown",
      "source": [
        "### Remove old objects to save memory"
      ],
      "metadata": {}
    },
    {
      "cell_type": "code",
      "source": [
        "rm(all_so)\n",
        "rm(all_so)\n",
        "rm(all_so_list)\n",
        "rm(all_adt_mtx)ß\n",
        "rm(all_adt_mtx_list)"
      ],
      "outputs": [],
      "execution_count": null,
      "metadata": {
        "vscode": {
          "languageId": "r"
        }
      }
    },
    {
      "cell_type": "markdown",
      "source": [
        "## Clustering of RNA (SCTransform)"
      ],
      "metadata": {}
    },
    {
      "cell_type": "code",
      "source": [
        "# load the filetered myeloid data in\n",
        "all_so_fl <- readRDS(file.path(data_path,\n",
        "                                'PreRA_teaseq_seurat_qc_filtered_cells.rds'))"
      ],
      "outputs": [],
      "execution_count": null,
      "metadata": {
        "vscode": {
          "languageId": "r"
        }
      }
    },
    {
      "cell_type": "code",
      "source": [
        "all_so_fl <- seurat_proc_func(all_so_fl)"
      ],
      "outputs": [],
      "execution_count": null,
      "metadata": {
        "vscode": {
          "languageId": "r"
        }
      }
    },
    {
      "cell_type": "code",
      "source": [
        "all_so_fl"
      ],
      "outputs": [],
      "execution_count": null,
      "metadata": {
        "vscode": {
          "languageId": "r"
        }
      }
    },
    {
      "cell_type": "code",
      "source": [
        "# make a umap based on atac data\n",
        "# all_so_fl <- RunUMAP(all_so_fl, reduction = \"lsit\", dims = 2:30, \n",
        "#                      reduction.name = \"umap.atac\", reduction.key = \"atacUMAP_\")"
      ],
      "outputs": [],
      "execution_count": null,
      "metadata": {
        "vscode": {
          "languageId": "r"
        }
      }
    },
    {
      "cell_type": "code",
      "source": [
        "options(repr.plot.width = 20, repr.plot.height = 8)\n",
        "p1 <- DimPlot(all_so_fl, label = T, label.size = 6, reduction = \"umap\") + NoLegend()\n",
        "p2 <- DimPlot(all_so_fl, group.by = \"well_id\", label = T, shuffle = TRUE, reduction = \"umap\")\n",
        "p1 + p2\n",
        "ggsave(file.path(fig_path, paste0(proj_name, \"_filtered_cells_rna_umap_cluster_well_id.pdf\")),\n",
        "       width = 12, height = 6\n",
        ")\n"
      ],
      "outputs": [],
      "execution_count": null,
      "metadata": {
        "vscode": {
          "languageId": "r"
        }
      }
    },
    {
      "cell_type": "code",
      "source": [
        "all_so_fl[[]] %>% colnames()"
      ],
      "outputs": [],
      "execution_count": null,
      "metadata": {
        "vscode": {
          "languageId": "r"
        }
      }
    },
    {
      "cell_type": "code",
      "source": [
        "# plot precentage of mt gene in rna and n_gene atac\n",
        "p1 <- FeaturePlot(all_so_fl, features = \"percent.mt\", reduction = \"umap\")\n",
        "p1\n",
        "ggsave(file.path(fig_path, paste0(proj_name, \"_filtered_cells_mt_genes_umap.pdf\")),\n",
        "       width = 12, height = 6\n",
        ")\n"
      ],
      "outputs": [],
      "execution_count": null,
      "metadata": {
        "vscode": {
          "languageId": "r"
        }
      }
    },
    {
      "cell_type": "code",
      "source": [
        "# plot atac umap and doublet\n",
        "p1 <- FeaturePlot(all_so_fl,\n",
        "    features = \"DoubletEnrichment\", reduction = \"umap.atac\",\n",
        "    min.cutoff = \"q5\", max.cutoff = \"q95\"\n",
        ")\n",
        "p2 <- FeaturePlot(all_so_fl,\n",
        "    features = \"n_fragments\", reduction = \"umap.atac\",\n",
        "    min.cutoff = \"q5\", max.cutoff = \"q95\"\n",
        ")\n",
        "p1 + p2 + plot_layout(ncol = 2)\n",
        "ggsave(file.path(fig_path, paste0(proj_name, \"_filtered_cells_atacumap_doublet_n_frag.pdf\")), width = 12, height = 6)\n",
        "# plot atac umap and doublet\n",
        "p1 <- FeaturePlot(all_so_fl,\n",
        "    features = \"DoubletEnrichment\", reduction = \"umap\",\n",
        "    min.cutoff = \"q5\", max.cutoff = \"q95\"\n",
        ")\n",
        "p2 <- FeaturePlot(all_so_fl,\n",
        "    features = \"n_fragments\", reduction = \"umap\",\n",
        "    min.cutoff = \"q5\", max.cutoff = \"q95\"\n",
        ")\n",
        "p1 + p2 + plot_layout(ncol = 2)\n",
        "ggsave(file.path(fig_path, paste0(proj_name, \"_filtered_cells_rnaumap_doublet_n_frag.pdf\")), width = 12, height = 6)\n"
      ],
      "outputs": [],
      "execution_count": null,
      "metadata": {
        "vscode": {
          "languageId": "r"
        }
      }
    },
    {
      "cell_type": "code",
      "source": [
        "options(repr.plot.width = 20, repr.plot.height = 8)\n",
        "p3 <- DimPlot(all_so_fl, label = T) + NoLegend()\n",
        "p3"
      ],
      "outputs": [],
      "execution_count": null,
      "metadata": {
        "vscode": {
          "languageId": "r"
        }
      }
    },
    {
      "cell_type": "code",
      "source": [
        "options(repr.plot.width = 20, repr.plot.height = 15)\n",
        "VlnPlot(all_so_fl,\n",
        "    features = c(\"nFeature_RNA\", \"nCount_RNA\", \"nCount_ADT\", \"percent.mt\"), log = F,\n",
        "    pt.size = 0, group.by = \"well_id\", ncol = 2\n",
        ") &\n",
        "    stat_summary(fun = median, geom = \"point\", color = \"black\")\n",
        "ggsave(file.path(fig_path, paste0(proj_name, \"_filtered_cells_qc_plots.pdf\")))\n"
      ],
      "outputs": [],
      "execution_count": null,
      "metadata": {
        "vscode": {
          "languageId": "r"
        }
      }
    },
    {
      "cell_type": "markdown",
      "source": [
        "### Seurat V4 Label Transfer"
      ],
      "metadata": {}
    },
    {
      "cell_type": "code",
      "source": [
        "options(repr.plot.width = 12, repr.plot.height = 6)\n",
        "reference <- readRDS(file.path(\"/home/jupyter/data/Reference/Hao-2021_PBMC-Multimodal-Reference_SeuratObject.rds\"))\n",
        "DimPlot(reference, group.by = \"celltype.l2\", label = T, repel = T, reduction = \"wnn.umap\") + NoLegend()\n"
      ],
      "outputs": [],
      "execution_count": null,
      "metadata": {
        "vscode": {
          "languageId": "r"
        }
      }
    },
    {
      "cell_type": "code",
      "source": [
        "all_so_fl <- obj.rna(reference = reference, query = all_so_fl)"
      ],
      "outputs": [],
      "execution_count": null,
      "metadata": {
        "vscode": {
          "languageId": "r"
        }
      }
    },
    {
      "cell_type": "code",
      "source": [
        "options(repr.plot.width = 20, repr.plot.height = 8)\n",
        "p3 <- DimPlot(all_so_fl, label = T) + NoLegend()\n",
        "p4 <- DimPlot(all_so_fl, group.by = \"predicted.celltype.l2\", label = T) + NoLegend()\n",
        "p3 + p4\n",
        "ggsave(file.path(fig_path, paste0(proj_name, \"_filtered_cells_rna_umap_l2_labels.pdf\")), width = 12, height = 6)\n"
      ],
      "outputs": [],
      "execution_count": null,
      "metadata": {
        "vscode": {
          "languageId": "r"
        }
      }
    },
    {
      "cell_type": "code",
      "source": [
        "all_so_fl[[]] %>% colnames()"
      ],
      "outputs": [],
      "execution_count": null,
      "metadata": {
        "vscode": {
          "languageId": "r"
        }
      }
    },
    {
      "cell_type": "code",
      "source": [
        "# plot umap from atac\n",
        "p1 <- DimPlot(all_so_fl, group.by = \"predicted.celltype.l2\", reduction = \"umap.atac\", label = T)\n",
        "p2 <- DimPlot(all_so_fl, group.by = \"\", reduction = \"umap.atac\", label = T)\n",
        "p1 + p2\n",
        "ggsave(file.path(fig_path, paste0(proj_name, \"_filtered_cells_atac_umap_l2_labels.pdf\")), width = 12, height = 6)\n"
      ],
      "outputs": [],
      "execution_count": null,
      "metadata": {
        "vscode": {
          "languageId": "r"
        }
      }
    },
    {
      "cell_type": "code",
      "source": [
        "options(repr.plot.width = 20, repr.plot.height = 8)\n",
        "p3 <- FeaturePlot(all_so_fl, features = \"percent.mt\", reduction = \"umap\")\n",
        "p4 <- DimPlot(all_so_fl, group.by = \"predicted.celltype.l2\", label = T) + NoLegend()\n",
        "p3 + p4 + plot_layout(ncol = 2)\n",
        "# plot rna umap and mt.gene\n",
        "# ggsave(file.path(fig_path, paste0(proj_name, '_filtered_cells_rnaumap_doublet_n_frag.pdf')), width = 12, height = 6)\n"
      ],
      "outputs": [],
      "execution_count": null,
      "metadata": {
        "vscode": {
          "languageId": "r"
        }
      }
    },
    {
      "cell_type": "code",
      "source": [
        "options(repr.plot.width = 20, repr.plot.height = 8)\n",
        "p5 <- DimPlot(all_so_fl, label = T) + NoLegend()\n",
        "p6 <- DimPlot(all_so_fl, group.by = \"predicted.celltype.l2\", label = T) + NoLegend()\n",
        "p5 + p6\n",
        "ggsave(file.path(fig_path, paste0(proj_name, \"_filtered_cells_l2_seurat_label_umap.pdf\")), width = 12, height = 6)\n"
      ],
      "outputs": [],
      "execution_count": null,
      "metadata": {
        "vscode": {
          "languageId": "r"
        }
      }
    },
    {
      "cell_type": "code",
      "source": [
        "# mt qc with predicted cell types\n",
        "FeatureScatter(all_so_fl, feature1 = \"nCount_RNA\", feature2 = \"percent.mt\", group.by = \"predicted.celltype.l2\")\n",
        "ggsave(file.path(fig_path, paste0(proj_name, \"_filtered_cells_mt_genes_nCount_rna.pdf\")))\n",
        "FeatureScatter(all_so_fl, feature1 = \"nFeature_RNA\", feature2 = \"percent.mt\", group.by = \"predicted.celltype.l2\")\n",
        "ggsave(file.path(fig_path, paste0(proj_name, \"_filtered_cells_mt_genes_nFeature_rna.pdf\")))\n"
      ],
      "outputs": [],
      "execution_count": null,
      "metadata": {
        "vscode": {
          "languageId": "r"
        }
      }
    },
    {
      "cell_type": "code",
      "source": [
        "# do clustering on adt data\n",
        "DefaultAssay(all_so_fl) <- \"ADT\"\n",
        "all_so_fl <- adt_clustering_func(all_so_fl)\n"
      ],
      "outputs": [],
      "execution_count": null,
      "metadata": {
        "vscode": {
          "languageId": "r"
        }
      }
    },
    {
      "cell_type": "code",
      "source": [
        "options(repr.plot.width = 20, repr.plot.height = 8)\n",
        "p5 <- DimPlot(all_so_fl, label = T, reduction = \"adt_umap\") + NoLegend()\n",
        "p6 <- DimPlot(all_so_fl, group.by = \"predicted.celltype.l2\", label = T, reduction = \"adt_umap\")\n",
        "p5 + p6\n",
        "ggsave(file.path(fig_path, paste0(proj_name, \"_filtered_cells_l2_seurat_label_adtumap.pdf\")), width = 12, height = 6)\n"
      ],
      "outputs": [],
      "execution_count": null,
      "metadata": {
        "vscode": {
          "languageId": "r"
        }
      }
    },
    {
      "cell_type": "code",
      "source": [
        "all_so_fl@meta.data %>% colnames()\n",
        "all_so_fl@meta.data %>% write_csv(file.path(output_path, paste0(proj_name, \"_seurat_qc_filtered_cells_metadata.csv\")))\n"
      ],
      "outputs": [],
      "execution_count": null,
      "metadata": {
        "vscode": {
          "languageId": "r"
        }
      }
    },
    {
      "cell_type": "code",
      "source": [
        "# save the seurat obeject \n",
        "all_so_fl %>% saveRDS(file.path(data_path, paste0(proj_name, '_seurat_qc_filtered_cells.rds')))"
      ],
      "outputs": [],
      "execution_count": null,
      "metadata": {
        "vscode": {
          "languageId": "r"
        }
      }
    },
    {
      "cell_type": "markdown",
      "source": [
        "## load dataset with atac reduced dimension in it\n",
        "- LSI from ArchR is imported into the atac slot in the seurat object"
      ],
      "metadata": {}
    },
    {
      "cell_type": "code",
      "source": [
        "# load the seurat obejct \n",
        "all_so_fl <- readRDS(file.path(data_path, 'PreRA_teaseq_seurat_qc_filtered_cells_lsi.rds'))"
      ],
      "outputs": [],
      "execution_count": null,
      "metadata": {
        "vscode": {
          "languageId": "r"
        }
      }
    },
    {
      "cell_type": "code",
      "source": [
        "all_so_fl\n",
        "all_so_fl@meta.data %>% colnames()"
      ],
      "outputs": [],
      "execution_count": null,
      "metadata": {
        "vscode": {
          "languageId": "r"
        }
      }
    },
    {
      "cell_type": "code",
      "source": [
        "all_so_fl@meta.data %>% write_csv(file.path(output_path, 'PreRA_teaseq_seurat_qc_filtered_cells_lsi_metadata.csv'))"
      ],
      "outputs": [],
      "execution_count": null,
      "metadata": {
        "vscode": {
          "languageId": "r"
        }
      }
    },
    {
      "cell_type": "code",
      "source": [
        "# create a clean adt assay removing the isotype control adt\n",
        "# adts_to_remove <- c('Rat-IgG1-I-Isotype-Ctrl','Rat-IgG1-K-isotype-Ctrl','Rat-IgG2a-K-Isotype-Ctrl','Rat-IgG2c-K-Isotype-Ctrl',\n",
        "#                     'Armenian-Hamster-IgG-Isotype-Ctrl', 'Mouse-IgG1--K-isotype-Ctrl','Mouse-IgG2a--K-isotype-Ctrl',\n",
        "#                     'Mouse-IgG2b--K-isotype-Ctrl','Rat-IgG2b-K-Isotype-Ctrl')\n",
        "adt_mtx <- all_so_fl@assays$ADT@counts\n",
        "length(rownames(adt_mtx))\n",
        "adts_to_remove <- rownames(adt_mtx) %>% str_subset('isotype')\n",
        "all(adts_to_remove %in% rownames(adt_mtx))\n",
        "\n",
        "idx <- which(rownames(adt_mtx) %in% adts_to_remove)\n",
        "clean_adt_mtx <- adt_mtx[-idx,]\n",
        "length(rownames(clean_adt_mtx))"
      ],
      "outputs": [],
      "execution_count": null,
      "metadata": {
        "vscode": {
          "languageId": "r"
        }
      }
    },
    {
      "cell_type": "code",
      "source": [
        "rownames(adt_mtx) "
      ],
      "outputs": [],
      "execution_count": null,
      "metadata": {
        "vscode": {
          "languageId": "r"
        }
      }
    },
    {
      "cell_type": "code",
      "source": [
        "all_so_fl[['cleanadt']] <- CreateAssayObject(clean_adt_mtx)\n",
        "DefaultAssay(all_so_fl) <- 'cleanadt'\n",
        "rownames(all_so_fl) %>% length()"
      ],
      "outputs": [],
      "execution_count": null,
      "metadata": {
        "vscode": {
          "languageId": "r"
        }
      }
    },
    {
      "cell_type": "code",
      "source": [
        "# plot_cluster_counts(all_so, 'seurat_pbmc_type', color.by='seurat_pbmc_type', figname = '')\n",
        "# plot_cluster_freq(all_so, 'seurat_pbmc_type', color.by='seurat_pbmc_type', figname = '')"
      ],
      "outputs": [],
      "execution_count": null,
      "metadata": {
        "vscode": {
          "languageId": "r"
        }
      }
    },
    {
      "cell_type": "code",
      "source": [
        "all_so_fl"
      ],
      "outputs": [],
      "execution_count": null,
      "metadata": {
        "vscode": {
          "languageId": "r"
        }
      }
    },
    {
      "cell_type": "code",
      "source": [
        "options(repr.plot.width = 20, repr.plot.height = 8)\n",
        "p1 <- DimPlot(all_so_fl, group.by = 'predicted.celltype.l1', label = T, reduction = 'umap') \n",
        "p2 <- DimPlot(all_so_fl, group.by = 'predicted.celltype.l2', label = T, reduction = 'umap') \n",
        "p3 <- DimPlot(all_so_fl, group.by = 'predicted.celltype.l1', label = T, reduction = 'adt_umap') + NoLegend()\n",
        "p4 <- DimPlot(all_so_fl, group.by = 'predicted.celltype.l2', label = T, reduction = 'adt_umap')  + NoLegend()\n",
        "p1 + p2 + p3 + p4\n",
        "# ggsave(file.path(fig_path, paste0(proj_name, '_filtered_cells_l2_seurat_label_adtumap.pdf')), width = 12, height = 6)"
      ],
      "outputs": [],
      "execution_count": null,
      "metadata": {
        "vscode": {
          "languageId": "r"
        }
      }
    },
    {
      "cell_type": "code",
      "source": [],
      "outputs": [],
      "execution_count": null,
      "metadata": {
        "vscode": {
          "languageId": "r"
        }
      }
    }
  ],
  "metadata": {
    "kernelspec": {
      "display_name": "seurat_v5",
      "language": "R",
      "name": "seurat_v5"
    },
    "language_info": {
      "codemirror_mode": "r",
      "file_extension": ".r",
      "mimetype": "text/x-r-source",
      "name": "R",
      "pygments_lexer": "r",
      "version": "4.3.3"
    },
    "nteract": {
      "version": "0.28.0"
    },
    "widgets": {
      "application/vnd.jupyter.widget-state+json": {
        "state": {},
        "version_major": 2,
        "version_minor": 0
      }
    }
  },
  "nbformat": 4,
  "nbformat_minor": 4
}