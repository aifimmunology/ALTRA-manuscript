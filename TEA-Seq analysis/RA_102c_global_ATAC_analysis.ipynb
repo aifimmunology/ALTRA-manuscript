{
  "cells": [
    {
      "cell_type": "markdown",
      "source": [
        "## load libraries"
      ],
      "metadata": {},
      "id": "dd1b9b9d"
    },
    {
      "cell_type": "code",
      "source": [
        "# load libraries\n",
        "quiet_library <- function(...) {\n",
        "    suppressPackageStartupMessages(library(...))\n",
        "}\n",
        "quiet_library(\"tidyverse\")\n",
        "# quiet_library(\"hise\")\n",
        "quiet_library(\"ArchR\")\n",
        "quiet_library(\"data.table\")\n",
        "quiet_library(\"jsonlite\")\n",
        "quiet_library(\"parallel\")\n",
        "quiet_library(\"Seurat\")\n",
        "# Load scMACS and accompanying libraries\n",
        "quiet_library(\"MOCHA\")\n",
        "quiet_library(\"GenomicRanges\")\n",
        "quiet_library(\"plyranges\")\n",
        "quiet_library(\"ggplot2\")\n",
        "quiet_library(\"SummarizedExperiment\")\n"
      ],
      "outputs": [],
      "execution_count": null,
      "metadata": {
        "vscode": {
          "languageId": "r"
        }
      },
      "id": "7df3b229"
    },
    {
      "cell_type": "code",
      "source": [
        "# # import MP's function to do label transfer from atac to atac\n",
        "# source('/home/jupyter/github/scATAC_Supplements/scATAC_CellTypeLabeling.R')\n",
        "suppressPackageStartupMessages(source('/home/jupyter/github/scATAC_Supplements/ArchR_Supplements.R'))\n",
        "# source('/home/jupyter/github/Teaseq-analysis/scRNA_teaseq_ananlysis_helper_functions.r')"
      ],
      "outputs": [],
      "execution_count": null,
      "metadata": {
        "tags": [],
        "vscode": {
          "languageId": "r"
        }
      },
      "id": "c58d3c72-8706-43af-b818-26fe01523cab"
    },
    {
      "cell_type": "code",
      "source": [
        "#Load scMACS and accompanying libraries\n",
        "library(MOCHA)\n",
        "library(data.table)\n",
        "library(ArchR)\n",
        "library(GenomicRanges)\n",
        "library(plyranges)"
      ],
      "outputs": [],
      "execution_count": null,
      "metadata": {
        "vscode": {
          "languageId": "r"
        }
      },
      "id": "ae71f9ad-8bfc-4da7-9553-2f4e9cb6aace"
    },
    {
      "cell_type": "code",
      "source": [
        "package.version('MOCHA')"
      ],
      "outputs": [],
      "execution_count": null,
      "metadata": {
        "vscode": {
          "languageId": "r"
        }
      },
      "id": "efffdc22-80ca-474e-972f-37db1f99b40e"
    },
    {
      "cell_type": "code",
      "source": [
        "# Define your annotation package for TxDb object(s)\n",
        "# and genome-wide annotation\n",
        "# Here our samples are human using hg38 as a reference.\n",
        "# For more info: https://bioconductor.org/packages/3.15/data/annotation/\n",
        "library(TxDb.Hsapiens.UCSC.hg38.refGene)\n",
        "library(org.Hs.eg.db)\n",
        "TxDb <- TxDb.Hsapiens.UCSC.hg38.refGene\n",
        "Org <- org.Hs.eg.db"
      ],
      "outputs": [],
      "execution_count": null,
      "metadata": {
        "vscode": {
          "languageId": "r"
        }
      },
      "id": "077d2ea8-3475-45f8-b511-75d79c73e344"
    },
    {
      "cell_type": "code",
      "source": [
        "# define work directories\n",
        "proj_path <- '/home/jupyter/data/preRA_teaseq/EXP-00243'\n",
        "data_path <- '/home/jupyter/data/preRA_teaseq/EXP-00243'\n",
        "setwd(proj_path)\n",
        "# define a project name\n",
        "proj_name <- 'preRA_teaseq'\n",
        "fig_path <- as.character('/home/jupyter/figures/preRA_teaseq/ATAC')\n",
        "if(!dir.exists(fig_path)) (dir.create(fig_path, recursive = TRUE))\n",
        "\n",
        "output_path <- '/home/jupyter/data/preRA_teaseq/output_results/atac'\n",
        "if(!dir.exists(output_path)) (dir.create(fig_path, recursive = TRUE))\n"
      ],
      "outputs": [],
      "execution_count": null,
      "metadata": {
        "tags": [],
        "vscode": {
          "languageId": "r"
        }
      },
      "id": "2b326831"
    },
    {
      "cell_type": "code",
      "source": [
        "# set up the parallel computing parameters\n",
        "# set up future for seurat\n",
        "# Check number of cores\n",
        "future::availableCores()\n",
        "# Set up parallel processing to run when using 'future' functions \n",
        "future::plan(strategy = \"multicore\", workers = future::availableCores()-3)  \n",
        "options(future.globals.maxSize = 1000 * 1024^5)\n",
        "\n",
        "# set ArchR parameters\n",
        "addArchRThreads(threads = 58)\n",
        "addArchRGenome(\"hg38\")\n",
        "set.seed(1221)\n",
        "options(repr.plot.width = 20, repr.plot.height = 15)"
      ],
      "outputs": [],
      "execution_count": null,
      "metadata": {
        "vscode": {
          "languageId": "r"
        }
      },
      "id": "1413d075"
    },
    {
      "cell_type": "code",
      "source": [
        "# Define your annotation package for TxDb object(s)\n",
        "# and genome-wide annotation\n",
        "# Here our samples are human using hg38 as a reference.\n",
        "# For more info: https://bioconductor.org/packages/3.15/data/annotation/\n",
        "library(TxDb.Hsapiens.UCSC.hg38.refGene)\n",
        "library(org.Hs.eg.db)\n",
        "TxDb <- TxDb.Hsapiens.UCSC.hg38.refGene\n",
        "Org <- org.Hs.eg.db"
      ],
      "outputs": [],
      "execution_count": null,
      "metadata": {
        "vscode": {
          "languageId": "r"
        }
      },
      "id": "2701943c-873f-4936-9123-b3fcf9cdd0e0"
    },
    {
      "cell_type": "code",
      "source": [
        "# define the color palette to be used\n",
        "npg_color <- c(\"#E64B35FF\", \"#4DBBD5FF\", \"#00A087FF\", \"#3C5488FF\", \"#F39B7FFF\", \n",
        "               \"#8491B4FF\", \"#91D1C2FF\", \"#DC0000FF\", \"#7E6148FF\", \"#B09C85FF\")\n",
        "nejm_color <- c(\"#BC3C29FF\", \"#0072B5FF\", \"#E18727FF\", \"#20854EFF\", \"#7876B1FF\", \"#6F99ADFF\", \"#FFDC91FF\", \"#EE4C97FF\")\n",
        "jama_color <- c(\"#374E55FF\", \"#DF8F44FF\", \"#00A1D5FF\", \"#B24745FF\", \"#79AF97FF\", \"#6A6599FF\", \"#80796BFF\")\n",
        "jco_color <- c(\"#0073C2FF\", \"#EFC000FF\", \"#868686FF\", \"#CD534CFF\", \"#7AA6DCFF\", \"#003C67FF\", \"#8F7700FF\")\n",
        "cluster_colors <- c(\"#DC050C\", \"#FB8072\", \"#1965B0\", \"#7BAFDE\", \"#882E72\", \"#B17BA6\", \"#FF7F00\", \"#FDB462\", \"#E7298A\", \n",
        "    \"#E78AC3\", \"#33A02C\", \"#B2DF8A\", \"#55A1B1\", \"#8DD3C7\", \"#A6761D\", \"#E6AB02\", \"#7570B3\", \"#BEAED4\", \"#666666\", \"#999999\", \n",
        "    \"#aa8282\", \"#d4b7b7\", \"#8600bf\", \"#ba5ce3\", \"#808000\", \"#aeae5c\", \"#1e90ff\", \"#00bfff\", \"#56ff0d\", \"#ffff00\")\n",
        "cluster_colors_ext <- colorRampPalette(cluster_colors)(36)\n",
        "options(repr.plot.width = 20, repr.plot.height = 15)"
      ],
      "outputs": [],
      "execution_count": null,
      "metadata": {
        "vscode": {
          "languageId": "r"
        }
      },
      "id": "5a9aa397-696a-4d68-a365-f182ebf0d31b"
    },
    {
      "cell_type": "code",
      "source": [
        "# helper function\n",
        "\n",
        "#### add metadata from seurat object to archr project\n",
        "## extract the columns from seurat to add to archr\n",
        "## add metadata from seurat to archr\n",
        "#' @param archr: archr project to add metadata on\n",
        "#' @param so: seurat object to extract metadata from\n",
        "#' @param so.cols: a list of column names in the seurat obeject\n",
        "#' @param id.col: column name of the barcodes which links cells in seurat and archr object, default setting is barcode\n",
        "\n",
        "#' @return archr a SummarizedExperiment object which nomarlized counts are aggregrate\n",
        "\n",
        "#' @examples \n",
        "# ra_mye_atac <- MetaSotoArchr(archr=ra_mye_atac, so=ra_so_mye, \n",
        "#                            so.cols=c('barcodes', 'subject_id', 'cohort', \n",
        "#                                      'total_pbmc_counts','Tiles_snn_res.0.8', 'wsnn_res.0.8'), \n",
        "#                           id.col='barcodes')\n",
        "\n",
        "MetaSotoArchr <- function(archr, so, so.cols, id.col='barcodes', save.archr=TRUE){\n",
        "    # check if all the so.cols are in the seurat metadata\n",
        "    if(!all(so.cols %in% colnames(so@meta.data))){\n",
        "        stop('Not all the columns are present in the seurat object')\n",
        "    }\n",
        "    if(any(so.cols[so.cols!=id.col] %in% colnames(getCellColData(archr)))){\n",
        "        warning('the column names to add are already in the archr object, this will create suffix to the columns')\n",
        "    }\n",
        "    seurat_metadata <- so@meta.data %>% \n",
        "        select(all_of(c(so.cols, id.col))) %>% as_tibble()\n",
        "    # check if id coloum are match between seurat and archr\n",
        "    so_ids <- so@meta.data %>% pull(.data[[id.col]]) \n",
        "    archr_ids <- getCellColData(archr) %>% as_tibble() %>% pull(.data[[id.col]]) \n",
        "    if(!setequal(so_ids, archr_ids)){\n",
        "        stop('id col in the seurat and archr object dont match.')\n",
        "    }\n",
        "    # add metadata from seurat to archR\n",
        "    cell_id <- archr@cellColData %>% rownames()\n",
        "    archr@cellColData <- merge(archr@cellColData, seurat_metadata, by = id.col, sort=FALSE)\n",
        "    rownames(archr@cellColData) <- cell_id    \n",
        "    if(save.archr){\n",
        "        saveArchRProject(ArchRProj = archr)\n",
        "    }\n",
        "    return(archr)\n",
        "}\n",
        "\n",
        "##This function extracts the RNA counts from a Seurat object and adds them to an ArchR Project. \n",
        "##ATAC_Cell_ID is the metadata column of the Seurat object that contains the matching cell ids to the ArchR Project. Make sure these align before you do anything. \n",
        "##You can set force to be TRUE or FALSE, depending on whether you want to \n",
        "##over-write the existing GeneExpressionMatrix within the ArchR Project.\n",
        "##Requires: plyranges, dplyr, Seurat, and ArchR\n",
        "addSeuratRNA <- function(SeuratObject, ArchRProject, ATAC_Cell_ID, assay = \"RNA\", force1 = FALSE){\n",
        "\n",
        "\tcounts1 <- as.SingleCellExperiment(SeuratObject, assay = assay)\n",
        "\tcolnames(counts1) = SeuratObject@meta.data[,ATAC_Cell_ID]\n",
        "\tgenes <- getGenes(ArchRProject) %>% plyranges::filter(symbol %in% as.character(rownames(counts1))) %>% \n",
        "\t\tarrange(match(symbol,as.character(rownames(counts1))))\n",
        "\tcounts2 <-counts1[rownames(counts1) %in% genes$symbol]\n",
        "\tcounts3 <- SummarizedExperiment(assays=list(counts=assays(counts2)[[1]]),\n",
        "\t\t rowRanges= genes) \n",
        "\tArchRProject <- addGeneExpressionMatrix(ArchRProject,\n",
        "\t\t\t\t\tseRNA = counts3, force = force1)\n",
        "\treturn(ArchRProject)\n",
        "}"
      ],
      "outputs": [],
      "execution_count": null,
      "metadata": {
        "vscode": {
          "languageId": "r"
        }
      },
      "id": "f5823adf-538c-4826-a332-ba6e0e02e955"
    },
    {
      "cell_type": "markdown",
      "source": [
        "## load archR for all cells"
      ],
      "metadata": {},
      "id": "da220dd8-b41c-405f-9d91-016a2f11f2b3"
    },
    {
      "cell_type": "code",
      "source": [
        "# # load archR data\n",
        "# ra_atac <- loadArchRProject(path = \"/home/jupyter/data/preRA_teaseq/EXP-00243/atac_arrows\")\n",
        "# ra_atac"
      ],
      "outputs": [],
      "execution_count": null,
      "metadata": {
        "vscode": {
          "languageId": "r"
        }
      },
      "id": "a7ac1688-4cac-4fa0-b6fa-6dccb7983bca"
    },
    {
      "cell_type": "markdown",
      "source": [
        "## remove BR2024 from the analysis"
      ],
      "metadata": {},
      "id": "f350a15a-a20c-4804-99a4-503bcb6d69ad"
    },
    {
      "cell_type": "code",
      "source": [
        "# # remove the sample BR2024\n",
        "# idxSample <- BiocGenerics::which(ra_atac$subject_id != \"BR2024\")\n",
        "# cellsSample <- ra_atac$cellNames[idxSample]\n",
        "# ra_atac_fl <- subsetArchRProject(ra_atac, cells=cellsSample)"
      ],
      "outputs": [],
      "execution_count": null,
      "metadata": {
        "tags": [],
        "vscode": {
          "languageId": "r"
        }
      },
      "id": "a6a63f3b-2da2-41b8-9da1-b91eeb589913"
    },
    {
      "cell_type": "code",
      "source": [
        "# saveArchRProject(ra_atac_fl, outputDirectory = \"/home/jupyter/data/preRA_teaseq/EXP-00243/ArchRSubset\")"
      ],
      "outputs": [],
      "execution_count": null,
      "metadata": {
        "vscode": {
          "languageId": "r"
        }
      },
      "id": "20507a15-85c2-4ac1-8813-54589879ab3e"
    },
    {
      "cell_type": "code",
      "source": [
        "# load archR data\n",
        "ra_atac_fl <- loadArchRProject(path = \"/home/jupyter/data/preRA_teaseq/EXP-00243/ArchRSubset\")\n",
        "ra_atac_fl"
      ],
      "outputs": [],
      "execution_count": null,
      "metadata": {
        "vscode": {
          "languageId": "r"
        }
      },
      "id": "000992c9-7324-4551-a45a-1d4b8f57162b"
    },
    {
      "cell_type": "code",
      "source": [
        "ra_atac_fl$subject_id %>% unique()"
      ],
      "outputs": [],
      "execution_count": null,
      "metadata": {
        "vscode": {
          "languageId": "r"
        }
      },
      "id": "77c19b30-bc26-4843-ac5e-616455f0a54e"
    },
    {
      "cell_type": "code",
      "source": [
        "# merge suba and suba monocyte\n",
        "ra_atac_fl$clean_l2_cell_types <- if_else(ra_atac_fl$clean_l2_cell_types %in% \n",
        "                                       c('cd14mono_sub_a', 'cd14mono_sub_b', 'cd14mono_other'), \n",
        "                                       'cd14mono', ra_atac_fl$clean_l2_cell_types)"
      ],
      "outputs": [],
      "execution_count": null,
      "metadata": {
        "vscode": {
          "languageId": "r"
        }
      },
      "id": "084d87c3-f348-4474-b4ac-314525cc308d"
    },
    {
      "cell_type": "code",
      "source": [
        "ra_atac_fl$clean_l2_cell_types%>%unique()"
      ],
      "outputs": [],
      "execution_count": null,
      "metadata": {
        "vscode": {
          "languageId": "r"
        }
      },
      "id": "02d50952-b59e-4973-8eec-c23d2a5e0365"
    },
    {
      "cell_type": "code",
      "source": [
        "ra_atac_fl <- addIterativeLSI(\n",
        "  ArchRProj = ra_atac_fl,\n",
        "  useMatrix = \"TileMatrix\", \n",
        "  name = \"IterativeLSI\", \n",
        "  iterations = 2,\n",
        "  varFeatures = 75000, # increase the viable features\n",
        "  force = TRUE\n",
        ")\n",
        "\n",
        "ra_atac_fl <- addClusters(\n",
        "  input = ra_atac_fl,\n",
        "  reducedDims = \"IterativeLSI\",\n",
        "  method = \"Seurat\",\n",
        "  name = \"Clusters\",\n",
        "  resolution = 3,\n",
        "  force = TRUE\n",
        ")\n",
        "\n",
        "ra_atac_fl <- addUMAP(ArchRProj = ra_atac_fl, \n",
        "                    reducedDims = \"IterativeLSI\", force = TRUE)"
      ],
      "outputs": [],
      "execution_count": null,
      "metadata": {
        "scrolled": true,
        "vscode": {
          "languageId": "r"
        }
      },
      "id": "17a21e3f-4ae0-443f-9c15-07478252da7b"
    },
    {
      "cell_type": "code",
      "source": [
        "saveArchRProject(ra_atac_fl)"
      ],
      "outputs": [],
      "execution_count": null,
      "metadata": {
        "vscode": {
          "languageId": "r"
        }
      },
      "id": "70d2c61c-de25-4287-beee-dbd8fc0edcdf"
    },
    {
      "cell_type": "code",
      "source": [
        "# plot umap of annotated cell types\n",
        "p1 <- plotEmbedding(ra_atac_fl, embedding = \"UMAP\", \n",
        "                    colorBy = \"cellColData\", name = c('Clusters', \"l1_cell_types\", \"clean_l2_cell_types\",\n",
        "                                                     \"cohort\",  \"subject_id\"))\n",
        "p1\n",
        "# p2 <- plotEmbedding(ra_atac, embedding = \"UMAP\", \n",
        "#                     colorBy = \"GeneExpressionMatrix\", name = c('PLCG2', 'JUNB', 'HLA-E'))\n",
        "plotPDF(p1, name = paste0(proj_name, '_all_cells_annotated_atac_umap.pdf'), ArchRProj = ra_atac_fl,\n",
        "        addDOC = FALSE, width = 6, height = 6)"
      ],
      "outputs": [],
      "execution_count": null,
      "metadata": {
        "scrolled": true,
        "vscode": {
          "languageId": "r"
        }
      },
      "id": "3a07fd13-9a7b-4c81-8519-e6354d9df707"
    },
    {
      "cell_type": "code",
      "source": [
        "# export LSI matrix\n",
        "getAvailableMatrices(ra_atac_fl)"
      ],
      "outputs": [],
      "execution_count": null,
      "metadata": {
        "vscode": {
          "languageId": "r"
        }
      },
      "id": "2a381500-9f32-46b8-9164-75366512a8ed"
    },
    {
      "cell_type": "code",
      "source": [
        "# export LSI matrix\n",
        "lsi_matrix <- getReducedDims(ra_atac_fl, reducedDims = \"IterativeLSI\")%>%as_tibble()\n",
        "lsi_matrix$barcodes =ra_atac_fl$barcodes"
      ],
      "outputs": [],
      "execution_count": null,
      "metadata": {
        "vscode": {
          "languageId": "r"
        }
      },
      "id": "ec500d2f-1ba7-4c37-a194-cdc6fedc5e0c"
    },
    {
      "cell_type": "code",
      "source": [
        "lsi_matrix%>%head()"
      ],
      "outputs": [],
      "execution_count": null,
      "metadata": {
        "vscode": {
          "languageId": "r"
        }
      },
      "id": "4708e3e1-a80d-4083-855e-d055fa4c18dd"
    },
    {
      "cell_type": "code",
      "source": [
        "# save LSI matrix\n",
        "lsi_matrix%>%write_tsv(file.path(output_path, 'preRA_teaseq_rbBR2024_lsi_matrix.tsv'))"
      ],
      "outputs": [],
      "execution_count": null,
      "metadata": {
        "vscode": {
          "languageId": "r"
        }
      },
      "id": "b4f45035-26dd-43e3-94bf-d9a3e4f5f993"
    },
    {
      "cell_type": "code",
      "source": [
        "getAvailableMatrices(ra_atac_fl)"
      ],
      "outputs": [],
      "execution_count": null,
      "metadata": {
        "vscode": {
          "languageId": "r"
        }
      },
      "id": "bb49e5df-454a-478d-bedf-953d22c595d3"
    },
    {
      "cell_type": "code",
      "source": [
        "# get gene scores\n",
        "gene_scores = getMatrixFromProject(ra_atac_fl, 'GeneScoreMatrix')"
      ],
      "outputs": [],
      "execution_count": null,
      "metadata": {
        "vscode": {
          "languageId": "r"
        }
      },
      "id": "ea52aca5-8850-45be-bd69-864fd320b7ce"
    },
    {
      "cell_type": "code",
      "source": [
        "# gene_scores_df = assay(gene_scores, 'GeneScoreMatrix')%>%t()%>%as.data.table()\n",
        "# gene_scores_df$barcodes =ra_atac_fl$barcodes"
      ],
      "outputs": [],
      "execution_count": null,
      "metadata": {
        "vscode": {
          "languageId": "r"
        }
      },
      "id": "ca47991c-08c9-465d-aab9-f301d8a4625a"
    },
    {
      "cell_type": "code",
      "source": [
        "library('SingleCellExperiment')\n",
        "gene_scores = as(gene_scores, \"SingleCellExperiment\")\n",
        "gene_scores"
      ],
      "outputs": [],
      "execution_count": null,
      "metadata": {
        "vscode": {
          "languageId": "r"
        }
      },
      "id": "02179dec-e01a-4c49-af34-6a2ae05136bd"
    },
    {
      "cell_type": "code",
      "source": [
        "rowData(gene_scores)"
      ],
      "outputs": [],
      "execution_count": null,
      "metadata": {
        "scrolled": true,
        "vscode": {
          "languageId": "r"
        }
      },
      "id": "b66b59ac-bb0e-466e-9ed3-517c0ddade12"
    },
    {
      "cell_type": "code",
      "source": [],
      "outputs": [],
      "execution_count": null,
      "metadata": {
        "vscode": {
          "languageId": "r"
        }
      },
      "id": "7a51fec3-06c3-488c-8a6d-55e54ac6f767"
    },
    {
      "cell_type": "code",
      "source": [
        "rowData(gene_scores)<-rowData(gene_scores)%>%as.data.frame()\n",
        "colData(gene_scores)$Sample = NULL"
      ],
      "outputs": [],
      "execution_count": null,
      "metadata": {
        "scrolled": true,
        "vscode": {
          "languageId": "r"
        }
      },
      "id": "aeeed8ea-5d65-4319-8c7b-d65be7becdd9"
    },
    {
      "cell_type": "code",
      "source": [
        "zellkonverter::writeH5AD(gene_scores, (file.path(output_path, 'preRA_teaseq_GeneScoreMatrix.h5ad')))"
      ],
      "outputs": [],
      "execution_count": null,
      "metadata": {
        "vscode": {
          "languageId": "r"
        }
      },
      "id": "f1555e12-98e5-4179-9b64-fe64445dc8d9"
    },
    {
      "cell_type": "code",
      "source": [
        "# get tf activity scores\n",
        "tf_scores = getMatrixFromProject(ra_atac_fl, 'MotifMatrix')"
      ],
      "outputs": [],
      "execution_count": null,
      "metadata": {
        "vscode": {
          "languageId": "r"
        }
      },
      "id": "592fd192-2e9c-4199-88d5-b777c04a5db3"
    },
    {
      "cell_type": "code",
      "source": [
        "rowData(tf_scores)<-rowData(tf_scores)%>%as.data.frame()\n",
        "colData(tf_scores)$Sample = NULL"
      ],
      "outputs": [],
      "execution_count": null,
      "metadata": {
        "vscode": {
          "languageId": "r"
        }
      },
      "id": "91e8fd87-ddd9-49da-a969-bedcb14f8485"
    },
    {
      "cell_type": "code",
      "source": [
        "tf_scores"
      ],
      "outputs": [],
      "execution_count": null,
      "metadata": {
        "vscode": {
          "languageId": "r"
        }
      },
      "id": "1c79f01c-af98-4b17-9f3c-4030d9af5eab"
    },
    {
      "cell_type": "code",
      "source": [
        "tf_scores = as(tf_scores, \"SingleCellExperiment\")\n",
        "zellkonverter::writeH5AD(tf_scores, X_name = 'z',\n",
        "                         (file.path(output_path, 'preRA_teaseq_TFscores.h5ad')))"
      ],
      "outputs": [],
      "execution_count": null,
      "metadata": {
        "vscode": {
          "languageId": "r"
        }
      },
      "id": "2871959c-4886-4586-a479-50dab62796a3"
    },
    {
      "cell_type": "markdown",
      "source": [
        "## call peaks in MOCHA for all l2 cell types and run differential"
      ],
      "metadata": {
        "tags": []
      },
      "id": "ede38c7c-dc51-4056-a2ff-d2b9bb0647fe"
    },
    {
      "cell_type": "code",
      "source": [
        "# cellColData = getCellColData(ra_atac_fl)\n",
        "# cellPopLabel = 'clean_l2_cell_types'\n",
        "# cellPopulations= \"ALL\"\n",
        "# cellTypeLabelList <- cellColData[, cellPopLabel]\n",
        "# cellCounts <- as.data.frame(table(cellColData[, \"subject_id\"], cellTypeLabelList))\n",
        "# names(cellCounts) <- c(\"Sample\", \"CellPop\", \"CellCount\")\n",
        "#   cellCounts <- tidyr::pivot_wider(\n",
        "#     cellCounts,\n",
        "#     id_cols = \"CellPop\",\n",
        "#     names_from = \"Sample\",\n",
        "#     values_from = \"CellCount\"\n",
        "#   )\n",
        "# allCellCounts <- as.data.frame(cellCounts[, -1])\n",
        "# rownames(allCellCounts) <- cellCounts$CellPop\n",
        "# # Create a dummy data.frame for storing fragment information\n",
        "#   # as it is calculated later (when iterating over cell populations)\n",
        "#   allFragmentCounts <- allCellCounts\n",
        "#   allFragmentCounts[!is.na(allFragmentCounts)] <- NA\n",
        "\n",
        "#   if (all(cellPopulations == \"ALL\")) {\n",
        "#     cellPopulations <- colnames(allCellCounts)\n",
        "#   } else {\n",
        "#     allCellCounts <- allCellCounts[rownames(allCellCounts) %in% cellPopulations, , drop = FALSE]\n",
        "#     allFragmentCounts <- allFragmentCounts[rownames(allFragmentCounts) %in% cellPopulations, , drop = FALSE]\n",
        "#   }\n"
      ],
      "outputs": [],
      "execution_count": null,
      "metadata": {
        "vscode": {
          "languageId": "r"
        }
      },
      "id": "e73f68a8-c8be-4626-a167-01357527ee82"
    },
    {
      "cell_type": "code",
      "source": [
        "allCellCounts['non_switched_effector_b_cells', ]"
      ],
      "outputs": [],
      "execution_count": null,
      "metadata": {
        "vscode": {
          "languageId": "r"
        }
      },
      "id": "f8248bb7-70f4-464d-8523-1869cdbe0f52"
    },
    {
      "cell_type": "code",
      "source": [
        "####################################################\n",
        "# 2. Call open tiles (main peak calling step)\n",
        "#    Done once for all specified cell populations\n",
        "####################################################\n",
        "l2_tileResults <- MOCHA::callOpenTiles(\n",
        "    ra_atac_fl,  \n",
        "    cellPopLabel = 'clean_l2_cell_types',\n",
        "    cellPopulations = cellPopulations,\n",
        "    numCores = 58, \n",
        "    outDir = '/home/jupyter/data/preRA_teaseq/EXP-00243/ArchRSubset/MOCHA',\n",
        "    TxDb = 'TxDb.Hsapiens.UCSC.hg38.refGene', \n",
        "    OrgDb = 'org.Hs.eg.db'\n",
        ")\n"
      ],
      "outputs": [],
      "execution_count": null,
      "metadata": {
        "vscode": {
          "languageId": "r"
        }
      },
      "id": "baeac02a-4534-4bf4-b07b-8fbbf335828a"
    },
    {
      "cell_type": "code",
      "source": [
        "l2_tileResults\n"
      ],
      "outputs": [],
      "execution_count": null,
      "metadata": {
        "vscode": {
          "languageId": "r"
        }
      },
      "id": "0decd651-d7b7-47a2-9602-efb37ff5a301"
    },
    {
      "cell_type": "code",
      "source": [
        "# ####################################################\n",
        "# # 2. Call open tiles (main peak calling step)\n",
        "# #    Done once for all specified cell populations\n",
        "# ####################################################\n",
        "# l2_celltype_tileResults <- MOCHA::callOpenTiles(\n",
        "#     ra_atac,  \n",
        "#     cellPopLabel = 'clean_l2_cell_types',\n",
        "#     cellPopulations = 'cd14mono',\n",
        "#     numCores = 58, \n",
        "#    # studySignal = studySignal,\n",
        "#     outDir = '/home/jupyter/data/preRA_teaseq/EXP-00243/MOCHA',\n",
        "#     TxDb = 'TxDb.Hsapiens.UCSC.hg38.refGene', \n",
        "#     OrgDb = 'org.Hs.eg.db'\n",
        "# )\n"
      ],
      "outputs": [],
      "execution_count": null,
      "metadata": {
        "tags": [],
        "vscode": {
          "languageId": "r"
        }
      },
      "id": "9ada462a-3c45-409b-bc5a-10bcb8b1e8e2"
    },
    {
      "cell_type": "code",
      "source": [
        "l2_tileResults"
      ],
      "outputs": [],
      "execution_count": null,
      "metadata": {
        "vscode": {
          "languageId": "r"
        }
      },
      "id": "ea2a1c70-b888-4dbb-b73b-1de35131f298"
    },
    {
      "cell_type": "code",
      "source": [
        "# load the tile matrix from scmacs\n",
        "l2_tileResults %>% saveRDS(file.path(output_path, \n",
        "                                  paste0(proj_name, '_MOCHA_atac_l2_celltype_tiles_matrix.rds')))"
      ],
      "outputs": [],
      "execution_count": null,
      "metadata": {
        "vscode": {
          "languageId": "r"
        }
      },
      "id": "bb6ef3d5-97ef-4ef3-97e3-a7be26324e73"
    },
    {
      "cell_type": "code",
      "source": [
        "# load the tile matrix from scmacs\n",
        "l2_tileResults <- readRDS(file.path(output_path,\n",
        "                                              'preRA_teaseq_MOCHA_atac_l2_celltype_tiles_matrix.rds'))"
      ],
      "outputs": [],
      "execution_count": null,
      "metadata": {
        "vscode": {
          "languageId": "r"
        }
      },
      "id": "dc4dcbe3-bf22-4e2a-83c4-ef98ac93f461"
    },
    {
      "cell_type": "code",
      "source": [
        "# # Parameters for downstream analysis\n",
        "#cellPopulation <- \"cd4_naive\"\n",
        "threshold <- 0.2\n",
        "groupColumn <- \"cohort\"\n",
        "join <- \"union\"\n",
        "# l2_celltype_tileResults"
      ],
      "outputs": [],
      "execution_count": null,
      "metadata": {
        "vscode": {
          "languageId": "r"
        }
      },
      "id": "b7e5d956-9be5-4232-b4db-1d9b6c81b9fa"
    },
    {
      "cell_type": "code",
      "source": [
        "####################################################\n",
        "# 3. Get reproducible sample-peak matrix\n",
        "#    Done for each cell population individually\n",
        "####################################################\n",
        "\n",
        "# Parameters for downstream analysis\n",
        "# cellPopulation <- \"cd4_naive\"\n",
        "threshold <- 0.2\n",
        "groupColumn <- \"cohort\"\n",
        "join <- \"union\"\n",
        "numCores=60\n",
        "SampleTileMatrices <- MOCHA::getSampleTileMatrix(\n",
        "    l2_tileResults,\n",
        "    cellPopulations = cellPopulations,\n",
        "    groupColumn = groupColumn,\n",
        "    threshold = threshold,\n",
        "  #  log2Intensity = TRUE,\n",
        "    numCores = numCores\n",
        ")"
      ],
      "outputs": [],
      "execution_count": null,
      "metadata": {
        "tags": [],
        "vscode": {
          "languageId": "r"
        }
      },
      "id": "5b5ec2f8-486c-486f-a70f-e25303f8e09e"
    },
    {
      "cell_type": "code",
      "source": [
        "SampleTileMatrices"
      ],
      "outputs": [],
      "execution_count": null,
      "metadata": {
        "vscode": {
          "languageId": "r"
        }
      },
      "id": "345b6f76-dd5d-4c23-8e06-e8c29cc0f460"
    },
    {
      "cell_type": "code",
      "source": [
        "####################################################\n",
        "# 4. Add gene annotations to our SampleTileMatrices,\n",
        "#    labelling tiles as either a promoter, exonic,\n",
        "#    intronic, or distal region. Gene names are \n",
        "#    given for all but distal. This info will aid \n",
        "#    further downstream analyses but is not required \n",
        "#    for differential accessibility.\n",
        "#    This function can also take any GRanges object\n",
        "#    and add annotations to its metadata.\n",
        "####################################################\n",
        "SampleTileMatricesAnnotated <- MOCHA::annotateTiles( \n",
        "  SampleTileMatrices\n",
        ")"
      ],
      "outputs": [],
      "execution_count": null,
      "metadata": {
        "tags": [],
        "vscode": {
          "languageId": "r"
        }
      },
      "id": "b095a9b9-d138-4803-be87-cc314e3af310"
    },
    {
      "cell_type": "code",
      "source": [
        "# Load a curated motif set from library(chromVARmotifs) \n",
        "# included with ArchR installation\n",
        "library(chromVARmotifs)\n",
        "# library(TFBSTools)\n",
        "# data(\"human_pwms_v2\")\n",
        "data('human_pwms_v2')\n",
        "SampleTileMatricesAnnotated <- MOCHA::addMotifSet(\n",
        "  SampleTileMatricesAnnotated, \n",
        "  motifPWMs = human_pwms_v2,  \n",
        "  w = 7 # width parameter for motifmatchr::matchMotifs()\n",
        ")"
      ],
      "outputs": [],
      "execution_count": null,
      "metadata": {
        "vscode": {
          "languageId": "r"
        }
      },
      "id": "39779464-8364-4021-806f-13892e2e8da4"
    },
    {
      "cell_type": "code",
      "source": [
        "SampleTileMatricesAnnotated %>% saveRDS(file.path(output_path, \n",
        "                                  paste0(proj_name, '_MOCHA_l2_celltype_SampleTileMatrices_rmBR2024.rds')))"
      ],
      "outputs": [],
      "execution_count": null,
      "metadata": {
        "vscode": {
          "languageId": "r"
        }
      },
      "id": "fd6df5ac-5865-46ff-bf82-031d23b2cc12"
    },
    {
      "cell_type": "code",
      "source": [
        "# # load the sample tile matrix\n",
        "SampleTileMatricesAnnotated <- readRDS(file.path(output_path, \n",
        "                                  paste0(proj_name, '_MOCHA_l2_celltype_SampleTileMatrices_rmBR2024.rds')))"
      ],
      "outputs": [],
      "execution_count": null,
      "metadata": {
        "vscode": {
          "languageId": "r"
        }
      },
      "id": "ee549edc-bf02-4392-b45f-49e65ac17bfc"
    },
    {
      "cell_type": "code",
      "source": [
        "assays(SampleTileMatricesAnnotated)%>%names()"
      ],
      "outputs": [],
      "execution_count": null,
      "metadata": {
        "tags": [],
        "vscode": {
          "languageId": "r"
        }
      },
      "id": "4842cb92-b0c0-485e-9b7d-856cc2975a71"
    },
    {
      "cell_type": "code",
      "source": [
        "# cd4na_Matrix <- scMACS::getCellPopMatrix(SampleTileMatricesAnnotated, \"cd4_naive\")\n",
        "# cd4na_Matrix %>% head()"
      ],
      "outputs": [],
      "execution_count": null,
      "metadata": {
        "vscode": {
          "languageId": "r"
        }
      },
      "id": "a53b81e0-d2f1-4107-9aaf-e0edca7099b1"
    },
    {
      "cell_type": "code",
      "source": [
        "SampleTileMatricesAnnotated$cohort %>% unique()\n",
        "rowData(SampleTileMatricesAnnotated) %>% colnames()"
      ],
      "outputs": [],
      "execution_count": null,
      "metadata": {
        "vscode": {
          "languageId": "r"
        }
      },
      "id": "5d46b7c7-803b-4a6d-86ee-c9a14c7e6aae"
    },
    {
      "cell_type": "code",
      "source": [
        "metadata(SampleTileMatricesAnnotated)$CellCounts %>% colnames()"
      ],
      "outputs": [],
      "execution_count": null,
      "metadata": {
        "vscode": {
          "languageId": "r"
        }
      },
      "id": "56897af2-0751-441b-95d4-8e0fa3ea0a84"
    },
    {
      "cell_type": "code",
      "source": [
        "assays(SampleTileMatricesAnnotated)[['cd14mono']] %>% dim()\n",
        "assays(SampleTileMatricesAnnotated)[['cd16mono']] %>% dim()"
      ],
      "outputs": [],
      "execution_count": null,
      "metadata": {
        "vscode": {
          "languageId": "r"
        }
      },
      "id": "0a9be19b-7a9a-4b59-994c-023fce101348"
    },
    {
      "cell_type": "markdown",
      "source": [
        "### run DAPs"
      ],
      "metadata": {},
      "id": "ad35ea69-b908-43b8-96e2-be2370a22f79"
    },
    {
      "cell_type": "code",
      "source": [
        "cellPopulations <- metadata(SampleTileMatricesAnnotated)$CellCounts %>% colnames()"
      ],
      "outputs": [],
      "execution_count": null,
      "metadata": {
        "vscode": {
          "languageId": "r"
        }
      },
      "id": "b0e436d4-d5c9-4214-a6a8-2a32ec89189b"
    },
    {
      "cell_type": "code",
      "source": [
        "colData(SampleTileMatricesAnnotated) %>% head()"
      ],
      "outputs": [],
      "execution_count": null,
      "metadata": {
        "tags": [],
        "vscode": {
          "languageId": "r"
        }
      },
      "id": "7104fca8-df2c-4d2b-9246-439e2adbdaef"
    },
    {
      "cell_type": "code",
      "source": [
        "# check the signal distribution in all the cell types\n",
        "# getCellPopMatrix(SampleTileMatricesAnnotated, 'cd14mono') %>% head()\n",
        "# extract all the tile matrix for all population\n",
        "tile_dt <- lapply(cellPopulations, function(x){\n",
        "    tile_mx <- getCellPopMatrix(SampleTileMatricesAnnotated, x) %>% as.data.table(keep.rownames = 'tiles') %>% \n",
        "        pivot_longer(cols = -tiles,names_to = 'Sample', values_to = 'Normalized_counts') %>% mutate(cell_type=x) %>%\n",
        "        as.data.table()\n",
        "    meta_data <- colData(SampleTileMatricesAnnotated) %>% as_tibble() %>% dplyr::select(subject_id, cohort, Sex, Sample)\n",
        "    tile_mx <- tile_mx %>% left_join(meta_data, by='Sample') %>%\n",
        "        as.data.table()\n",
        "}) %>% rbindlist()"
      ],
      "outputs": [],
      "execution_count": null,
      "metadata": {
        "tags": [],
        "vscode": {
          "languageId": "r"
        }
      },
      "id": "0c5437e3-dcc4-4109-82c5-37b9fb62cf21"
    },
    {
      "cell_type": "code",
      "source": [
        "tile_dt %>% head()"
      ],
      "outputs": [],
      "execution_count": null,
      "metadata": {
        "vscode": {
          "languageId": "r"
        }
      },
      "id": "9c4c813a-9bd1-400e-943b-2a9f87d5a2f2"
    },
    {
      "cell_type": "code",
      "source": [
        "tile_dt %>% group_by(cell_type) %>% distinct(tiles, .keep_all = TRUE) %>% tally() %>% arrange(desc(n))"
      ],
      "outputs": [],
      "execution_count": null,
      "metadata": {
        "tags": [],
        "vscode": {
          "languageId": "r"
        }
      },
      "id": "0bb7342a-9474-4ec9-9417-431549f1a243"
    },
    {
      "cell_type": "code",
      "source": [
        "# summarive the median counts of tiles across cohort\n",
        "tile_dt_cohort <- tile_dt %>% group_by(tiles,  cell_type) %>%\n",
        "    summarise(median_normalized_counts=mean(Normalized_counts)) %>% ungroup() \n",
        "tile_dt_cohort %>% head()"
      ],
      "outputs": [],
      "execution_count": null,
      "metadata": {
        "vscode": {
          "languageId": "r"
        }
      },
      "id": "e2c6cd56-322e-4f38-94b5-7a10499a1122"
    },
    {
      "cell_type": "code",
      "source": [
        "p1 <- tile_dt_cohort %>% ggplot()+ \n",
        "    geom_histogram(aes(x=median_normalized_counts), position = 'identity', alpha=0.6)+\n",
        "    facet_wrap(vars(cell_type))+\n",
        "    scale_fill_manual(values=c(\"#69b3a2\", \"#404080\")) \n",
        "p1\n",
        "ggsave(file.path(fig_path, paste0(proj_name, '_mocha_peaks_cell_type_cohort_avg_histogram.pdf')), \n",
        "       width = 12, height = 8)"
      ],
      "outputs": [],
      "execution_count": null,
      "metadata": {
        "vscode": {
          "languageId": "r"
        }
      },
      "id": "086a4dbf-b134-46b5-9f90-75081cbfbb4a"
    },
    {
      "cell_type": "code",
      "source": [
        "# cellPopulations <- c('naive_b_cells')\n",
        "cellPopulations = c('cd14mono','cd16mono','cd4_memory','cd4_naive','naive_b_cells', 'dcs','treg', \n",
        "                    'non_switched_memory_b_cells','switched_memory_b_cells',\n",
        "                    'cd8_memory','cd8_naive', 'nk_cd56dim')"
      ],
      "outputs": [],
      "execution_count": null,
      "metadata": {
        "vscode": {
          "languageId": "r"
        }
      },
      "id": "7c988aaf-21b2-46a6-942b-78de066eadbd"
    },
    {
      "cell_type": "code",
      "source": [
        "####################################################\n",
        "# 5. Get differential accessibility for specific \n",
        "#    cell populations. Here we are comparing MAIT  \n",
        "#    cells between samples where our groupColumn \n",
        "#    \"COVID_status\" is Positive (our foreground) \n",
        "#    to Negative samples (our background).\n",
        "####################################################\n",
        "groupColumn <- \"cohort\"\n",
        "differentials_l2 <- lapply(cellPopulations, function(x){\n",
        "    message(paste('running for', x))\n",
        "    diff <- MOCHA::getDifferentialAccessibleTiles(\n",
        "        SampleTileObj = SampleTileMatricesAnnotated,\n",
        "        cellPopulation = x,\n",
        "        groupColumn = groupColumn,\n",
        "        foreground = \"pre-RA\",\n",
        "        background = \"Healthy\",\n",
        "        fdrToDisplay = 0.2, signalThreshold = 14,\n",
        "        numCores = 59\n",
        "    ) \n",
        "    return(diff)\n",
        "})\n"
      ],
      "outputs": [],
      "execution_count": null,
      "metadata": {
        "tags": [],
        "vscode": {
          "languageId": "r"
        }
      },
      "id": "38110210-ec7b-4c2e-927d-c9a7a0636a50"
    },
    {
      "cell_type": "code",
      "source": [
        "names(differentials_l2) <- cellPopulations"
      ],
      "outputs": [],
      "execution_count": null,
      "metadata": {
        "tags": [],
        "vscode": {
          "languageId": "r"
        }
      },
      "id": "f345ea2a-efe8-4ecd-b22b-c03009bc4a3b"
    },
    {
      "cell_type": "code",
      "source": [
        "# annotate the tiles\n",
        "suppressWarnings(differentials_l2 <- lapply(differentials_l2, MOCHA::annotateTiles, \n",
        "                          TxDb = TxDb, Org = Org))"
      ],
      "outputs": [],
      "execution_count": null,
      "metadata": {
        "vscode": {
          "languageId": "r"
        }
      },
      "id": "caaf4fbb-cd8b-447e-ba32-8d6100342057"
    },
    {
      "cell_type": "code",
      "source": [
        "# save the differential results\n",
        "differentials_l2 %>% saveRDS(file.path(output_path, \n",
        "                                  paste0(proj_name, '_MOCHA_l2_celltype_DAPs_RAvsHealthy.rds')))"
      ],
      "outputs": [],
      "execution_count": null,
      "metadata": {
        "vscode": {
          "languageId": "r"
        }
      },
      "id": "51c595f9-7913-4c6a-82e3-05020f04a2f8"
    },
    {
      "cell_type": "code",
      "source": [
        "# load the differential results\n",
        "differentials_l2 <- readRDS(file.path(output_path, 'preRA_teaseq_MOCHA_l2_celltype_DAPs_RAvsHealthy.rds'))"
      ],
      "outputs": [],
      "execution_count": null,
      "metadata": {
        "tags": [],
        "vscode": {
          "languageId": "r"
        }
      },
      "id": "26fb6fb6-f842-4c91-9ad7-af4b6b7131e0"
    },
    {
      "cell_type": "code",
      "source": [
        "# convert to table\n",
        "differentials_l2_table <- lapply(differentials_l2, as_tibble) %>% rbindlist() %>%\n",
        "    filter(!is.na(FDR) & !is.na(MeanDiff)) %>% mutate(direction=if_else(MeanDiff>0, 'up', 'down')) "
      ],
      "outputs": [],
      "execution_count": null,
      "metadata": {
        "tags": [],
        "vscode": {
          "languageId": "r"
        }
      },
      "id": "e02b4b0f-1f77-41ff-928a-5fb7eccb7e93"
    },
    {
      "cell_type": "code",
      "source": [
        "differentials_l2_table%>%filter(FDR<0.2)%>%write_csv(file.path(output_path, 'preRA_teaseq_MOCHA_l2_celltype_DAPs_RAvsHealthy.csv'))"
      ],
      "outputs": [],
      "execution_count": null,
      "metadata": {
        "vscode": {
          "languageId": "r"
        }
      },
      "id": "60aaf727-f46d-4656-86da-d9dc70bbf0af"
    },
    {
      "cell_type": "code",
      "source": [
        "differentials_l2_sig = read_csv(file.path(output_path, 'preRA_teaseq_MOCHA_l2_celltype_DAPs_RAvsHealthy.csv'))"
      ],
      "outputs": [],
      "execution_count": null,
      "metadata": {
        "vscode": {
          "languageId": "r"
        }
      },
      "id": "53bb1963-8c7c-4391-9e19-525aa60bf9fb"
    },
    {
      "cell_type": "code",
      "source": [
        "differentials_l2_sig%>%distinct(CellPopulation)"
      ],
      "outputs": [],
      "execution_count": null,
      "metadata": {
        "vscode": {
          "languageId": "r"
        }
      },
      "id": "ef1b7563-1e38-43b7-86ff-49f3bb259018"
    },
    {
      "cell_type": "code",
      "source": [
        "differentials_l2_sig%>%filter(CellPopulation%in%c('naive_b_cells', 'cd4_naive'))%>%\n",
        "    mutate(Foreground='ARI', Background='CON2')%>%\n",
        "   write_csv(file.path(output_path, 'preRA_teaseq_MOCHA_Tnaive_bnaive_DAPs_RAvsHealthy.csv'))"
      ],
      "outputs": [],
      "execution_count": null,
      "metadata": {
        "vscode": {
          "languageId": "r"
        }
      },
      "id": "432d61be-cbc0-43b9-9f3e-bf041288e872"
    },
    {
      "cell_type": "code",
      "source": [
        "differentials_l2_table %>%\n",
        "    dplyr::filter( P_value<0.05 & FDR <0.2 & str_detect(Gene, 'TNFSF11'))"
      ],
      "outputs": [],
      "execution_count": null,
      "metadata": {
        "vscode": {
          "languageId": "r"
        }
      },
      "id": "c8c5b9f5-eb3a-4132-8e29-861e8b1d8949"
    },
    {
      "cell_type": "code",
      "source": [
        "differentials_l2_table$P_value %>% hist()"
      ],
      "outputs": [],
      "execution_count": null,
      "metadata": {
        "vscode": {
          "languageId": "r"
        }
      },
      "id": "adf16778-be26-41f4-bb45-5041a3e3bbf0"
    },
    {
      "cell_type": "code",
      "source": [
        "# plot numbers of DAPs\n",
        "dap_counts <- differentials_l2_table %>%\n",
        "   # mutate(cell_type=factor(cell_type, levels = l2_cellcounts$clean_l2_cell_types)) %>% \n",
        "    dplyr::filter(FDR<0.2 & P_value<0.05) %>% \n",
        "    group_by(CellPopulation, direction) %>% dplyr::summarise(dap_counts=n())  %>%\n",
        "    mutate(dap_counts=if_else(direction=='up', dap_counts, -dap_counts),\n",
        "          enriched=if_else(direction=='up', 'At-risk', 'Healthy')) %>% ungroup() %>%\n",
        "    arrange(desc(abs(dap_counts))) \n",
        "dap_counts %>% head()"
      ],
      "outputs": [],
      "execution_count": null,
      "metadata": {
        "vscode": {
          "languageId": "r"
        }
      },
      "id": "43c61224-ddb7-4b8b-b583-c5330165d175"
    },
    {
      "cell_type": "code",
      "source": [
        "dap_counts"
      ],
      "outputs": [],
      "execution_count": null,
      "metadata": {
        "vscode": {
          "languageId": "r"
        }
      },
      "id": "8a2312c0-601e-4b62-b090-a548d1912b75"
    },
    {
      "cell_type": "code",
      "source": [
        "#plot the deg counts\n",
        "p1 <- ggplot(dap_counts, aes(width = 0.5, fill=enriched, y=dap_counts, x=CellPopulation)) +\n",
        "  geom_bar( stat=\"identity\", color=\"black\")  + \n",
        "  geom_hline(yintercept=0, color = 'white', size=2)+ \n",
        "  #scale_y_continuous(breaks = seq(-2000, 1200, by = 200)) +\n",
        "  geom_text(aes(y = dap_counts + 50 * sign(dap_counts), label = abs(dap_counts)), vjust = 0, size=4) +\n",
        "    ylab('Number of DAPs') +\n",
        "    xlab('') +\n",
        "    theme(axis.text.x = element_text(angle = 45, hjust = 1, vjust = 1, size = 12), \n",
        "         strip.text = element_text(size=12))+\n",
        "    scale_fill_manual(values =  c('#0072B5FF', '#BC3C29FF'))\n",
        "# Adding line to differentiate -ve and +ve y axis\n",
        "p1\n",
        "ggsave(file.path(fig_path, paste0(proj_name, '_l2_celltype_MOCHA_DAPs_counts.pdf')), \n",
        "       width = 6, height = 4)"
      ],
      "outputs": [],
      "execution_count": null,
      "metadata": {
        "vscode": {
          "languageId": "r"
        }
      },
      "id": "673eb47f-40d9-4741-b4bc-e680d668ccc5"
    },
    {
      "cell_type": "code",
      "source": [
        "# plot dot plot of top features\n",
        "\n",
        "ggpubr::ggdotchart(dap_counts, x = \"CellPopulation\", y = \"dap_counts\",\n",
        "           color = \"enriched\",                                # Color by groups\n",
        "           palette = nejm_color, # Custom color palette\n",
        "          sorting = \"none\",                       # Sort value in descending order\n",
        "           rotate = TRUE,  ylab='Number of DAPs',                              # Rotate vertically\n",
        "                   dot.size = 3,                                 # Large dot size\n",
        "           y.text.col = TRUE, add = \"segment\",                           # Color y text by groups\n",
        "           ggtheme = ggpubr::theme_pubr()                        # ggplot2 theme\n",
        "           )+\n",
        "  ggpubr::theme_cleveland() +  geom_hline(yintercept = 0 ,linetype=2) \n",
        "ggsave(file.path(fig_path, paste0(proj_name, '_l2_celltype_MOCHA_DAPs_counts_dotplot.pdf')), \n",
        "       width = 4, height = 4)"
      ],
      "outputs": [],
      "execution_count": null,
      "metadata": {
        "vscode": {
          "languageId": "r"
        }
      },
      "id": "75b65aa6-c282-4f9d-9766-86bf9c3849ad"
    },
    {
      "cell_type": "code",
      "source": [
        "# run differential in cd4 naive only\n",
        "groupColumn <- \"cohort\"\n",
        "cd4na_diff <- scMACS::getDifferentialAccessibleTiles(\n",
        "        SampleTileObj = SampleTileMatricesAnnotated,\n",
        "        cellPopulation = 'cd4_naive',\n",
        "        groupColumn = groupColumn,\n",
        "        foreground = \"pre-RA\",\n",
        "        background = \"Healthy\",\n",
        "        fdrToDisplay = 0.2,\n",
        "         signalThreshold = 8, # change this to 8 for better signal in cd4 naive based on the histogram\n",
        "        minZeroDiff = 0.2,\n",
        "        numCores = numCores\n",
        "    ) "
      ],
      "outputs": [],
      "execution_count": null,
      "metadata": {
        "tags": [],
        "vscode": {
          "languageId": "r"
        }
      },
      "id": "3ccb5bbd-3935-49a6-ab23-3bc152a6f325"
    },
    {
      "cell_type": "code",
      "source": [
        "cd4na_diff[(!is.na(elementMetadata(cd4na_diff)[,'FDR'])) & (elementMetadata(cd4na_diff)[,'FDR']<0.2) &\n",
        "          abs(elementMetadata(cd4na_diff)[,'Log2FC_C'])>0.1]"
      ],
      "outputs": [],
      "execution_count": null,
      "metadata": {
        "vscode": {
          "languageId": "r"
        }
      },
      "id": "a51c92db-4ab4-4316-9745-c690765bbcb1"
    },
    {
      "cell_type": "code",
      "source": [
        "SampleTileMatricesAnnotated_fl <- subsetByOverlaps(SampleTileMatricesAnnotated, \n",
        "                                                   cd4na_diff[(!is.na(elementMetadata(cd4na_diff)[,'FDR'])) & \n",
        "                                                              (elementMetadata(cd4na_diff)[,'FDR']<0.2) &\n",
        "          abs(elementMetadata(cd4na_diff)[,'Log2FC_C'])>0.1])"
      ],
      "outputs": [],
      "execution_count": null,
      "metadata": {
        "vscode": {
          "languageId": "r"
        }
      },
      "id": "c842b445-57b4-4356-be14-2ee18db64948"
    },
    {
      "cell_type": "markdown",
      "source": [
        "### run DAP specifically for B naive cells"
      ],
      "metadata": {},
      "id": "04805c57-1843-47e7-9f01-95a69068161b"
    },
    {
      "cell_type": "code",
      "source": [
        "SampleTileMatricesAnnotated"
      ],
      "outputs": [],
      "execution_count": null,
      "metadata": {
        "vscode": {
          "languageId": "r"
        }
      },
      "id": "cca5424e-f648-49c5-b43f-8c1debc72ff1"
    },
    {
      "cell_type": "code",
      "source": [
        "assays(SampleTileMatricesAnnotated)%>%names()"
      ],
      "outputs": [],
      "execution_count": null,
      "metadata": {
        "vscode": {
          "languageId": "r"
        }
      },
      "id": "c0e9e2e1-f556-481f-a60f-63e15c12357b"
    },
    {
      "cell_type": "code",
      "source": [
        "options(repr.plot.width = 6, repr.plot.height = 6)"
      ],
      "outputs": [],
      "execution_count": null,
      "metadata": {
        "vscode": {
          "languageId": "r"
        }
      },
      "id": "2f9121ac-4dc0-4fc6-96be-e1946eb35acc"
    },
    {
      "cell_type": "code",
      "source": [
        "# plot intensity \n",
        "p1<-plotIntensityDistribution(\n",
        "  SampleTileMatricesAnnotated,\n",
        "  'naive_b_cells',\n",
        "  returnDF = FALSE,\n",
        "  density = TRUE\n",
        ")\n",
        "p2<-plotIntensityDistribution(\n",
        "  SampleTileMatricesAnnotated,\n",
        "  'cd4_naive',\n",
        "  returnDF = FALSE,\n",
        "  density = TRUE\n",
        ")\n",
        "p1+p2"
      ],
      "outputs": [],
      "execution_count": null,
      "metadata": {
        "vscode": {
          "languageId": "r"
        }
      },
      "id": "7eb3e815-1dff-4d88-95c6-eda373e8ed42"
    },
    {
      "cell_type": "code",
      "source": [
        "####################################################\n",
        "# 5. Get differential accessibility for specific \n",
        "#    cell populations. Here we are comparing MAIT  \n",
        "#    cells between samples where our groupColumn \n",
        "#    \"COVID_status\" is Positive (our foreground) \n",
        "#    to Negative samples (our background).\n",
        "####################################################\n",
        "groupColumn <- \"cohort\"\n",
        "differentials_bnaive <- MOCHA::getDifferentialAccessibleTiles(\n",
        "        SampleTileObj = SampleTileMatricesAnnotated,\n",
        "        cellPopulation = 'naive_b_cells',\n",
        "        groupColumn = groupColumn,\n",
        "        foreground = \"pre-RA\",\n",
        "        background = \"Healthy\",\n",
        "        fdrToDisplay = 0.2,\n",
        "        signalThreshold = 14,\n",
        "        numCores = 58)\n"
      ],
      "outputs": [],
      "execution_count": null,
      "metadata": {
        "vscode": {
          "languageId": "r"
        }
      },
      "id": "c8c2166a-fdcc-45f9-8e71-7e7870ce7e97"
    },
    {
      "cell_type": "code",
      "source": [
        "differentials_bnaive$P_value%>%hist()"
      ],
      "outputs": [],
      "execution_count": null,
      "metadata": {
        "vscode": {
          "languageId": "r"
        }
      },
      "id": "2dddd1c5-49f2-43c3-b0e7-8769a47bad28"
    },
    {
      "cell_type": "code",
      "source": [
        "differentials_bnaive$FDR%>%sort()%>%head()"
      ],
      "outputs": [],
      "execution_count": null,
      "metadata": {
        "vscode": {
          "languageId": "r"
        }
      },
      "id": "fb1ec8d2-06cb-44ed-80be-b198dd180868"
    },
    {
      "cell_type": "code",
      "source": [
        "differentials_bnaive = differentials_bnaive %>% annotateTiles(TxDb = TxDb, Org = Org)"
      ],
      "outputs": [],
      "execution_count": null,
      "metadata": {
        "vscode": {
          "languageId": "r"
        }
      },
      "id": "c2e31fe1-3963-48c9-8ad7-7af8bc069fa2"
    },
    {
      "cell_type": "code",
      "source": [
        "differentials_bnaive%>%filter(str_detect(Gene, 'TLR9'))"
      ],
      "outputs": [],
      "execution_count": null,
      "metadata": {
        "vscode": {
          "languageId": "r"
        }
      },
      "id": "361f726b-7dda-4047-a76f-94744f4f0bbf"
    },
    {
      "cell_type": "markdown",
      "source": [
        "## run chromvar analysis"
      ],
      "metadata": {
        "tags": []
      },
      "id": "7c4f546c-7931-4508-86f6-44fd185d7e7b"
    },
    {
      "cell_type": "code",
      "source": [
        "library(chromVAR)\n",
        "library(chromVARmotifs)\n",
        "data(human_pwms_v2)\n",
        "library(BSgenome.Hsapiens.UCSC.hg38)\n",
        "library(SummarizedExperiment)\n",
        "library(plyranges)\n",
        "# library(ChAI)"
      ],
      "outputs": [],
      "execution_count": null,
      "metadata": {
        "vscode": {
          "languageId": "r"
        }
      },
      "id": "c1f17095-47ec-4965-96a1-108694a43710"
    },
    {
      "cell_type": "code",
      "source": [
        "# # remove the BR2024 from the matrix\n",
        "# SampleTileMatricesAnnotated_fl <- \n",
        "#     SampleTileMatricesAnnotated[, colData(SampleTileMatricesAnnotated)$subject_id!='BR2024']\n",
        "# SampleTileMatricesAnnotated_fl"
      ],
      "outputs": [],
      "execution_count": null,
      "metadata": {
        "vscode": {
          "languageId": "r"
        }
      },
      "id": "ef4dbf9a-e6e5-4698-b6ae-dfe625bba28b"
    },
    {
      "cell_type": "code",
      "source": [
        "SampleTileMatricesAnnotated"
      ],
      "outputs": [],
      "execution_count": null,
      "metadata": {
        "vscode": {
          "languageId": "r"
        }
      },
      "id": "c0ccdb94-9dba-4f41-8b1b-6d8d292716b4"
    },
    {
      "cell_type": "code",
      "source": [
        "# summarized_meta <- metadata(SampleTileMatricesAnnotated_fl)$summarizedData\n",
        "# metadata(SampleTileMatricesAnnotated_fl)$summarizedData <- summarized_meta[, colData(summarized_meta)$subject_id!='BR2024']"
      ],
      "outputs": [],
      "execution_count": null,
      "metadata": {
        "vscode": {
          "languageId": "r"
        }
      },
      "id": "fc89455a-1c61-4994-9169-48a09a315897"
    },
    {
      "cell_type": "code",
      "source": [
        "cellPopulations = c('cd14mono','cd16mono','cd4_memory','cd4_naive','naive_b_cells', 'dcs','treg', \n",
        "                    'non_switched_memory_b_cells','switched_memory_b_cells',\n",
        "                    'cd8_memory','cd8_naive', 'nk_cd56dim')"
      ],
      "outputs": [],
      "execution_count": null,
      "metadata": {
        "vscode": {
          "languageId": "r"
        }
      },
      "id": "9563718c-427a-4260-a3f2-8912081ebb50"
    },
    {
      "cell_type": "code",
      "source": [
        "# run chromvar in cd8 naive\n",
        "l2_chromvar <- lapply(cellPopulations, ChAI::makeChromVAR, \n",
        "                      atacSE = SampleTileMatricesAnnotated, numCores = 60,\n",
        "                      motifName = 'Motifs')"
      ],
      "outputs": [],
      "execution_count": null,
      "metadata": {
        "vscode": {
          "languageId": "r"
        }
      },
      "id": "5e0c5970-e396-42d8-8062-8944eaefab54"
    },
    {
      "cell_type": "code",
      "source": [
        "names(l2_chromvar)=cellPopulations"
      ],
      "outputs": [],
      "execution_count": null,
      "metadata": {
        "vscode": {
          "languageId": "r"
        }
      },
      "id": "7295117d-6fa0-4993-ba17-b942602ceda9"
    },
    {
      "cell_type": "code",
      "source": [
        "# save the differential results\n",
        "l2_chromvar %>% saveRDS(file.path(output_path, \n",
        "                                  paste0(proj_name, '_MOCHA_l2_celltype_chromavar.rds')))"
      ],
      "outputs": [],
      "execution_count": null,
      "metadata": {
        "vscode": {
          "languageId": "r"
        }
      },
      "id": "5ca59f25-2b44-470f-8a4f-e8ac9192c4b8"
    },
    {
      "cell_type": "code",
      "source": [
        "# save the differential results\n",
        "l2_chromvar <- readRDS(file.path(output_path, \n",
        "                                  paste0(proj_name, '_MOCHA_l2_celltype_chromavar.rds')))"
      ],
      "outputs": [],
      "execution_count": null,
      "metadata": {
        "vscode": {
          "languageId": "r"
        }
      },
      "id": "477eebc3-62f2-4f0d-8957-bd04141d4cd1"
    },
    {
      "cell_type": "code",
      "source": [
        "l2_chromvar"
      ],
      "outputs": [],
      "execution_count": null,
      "metadata": {
        "vscode": {
          "languageId": "r"
        }
      },
      "id": "bf73db41-7ef9-49b5-9a61-532569287e76"
    },
    {
      "cell_type": "code",
      "source": [
        "assay(l2_chromvar$naive_b_cells$Z_Score) %>% as_tibble(rownames='tf') %>% filter(str_detect(tf, 'TBX21'))"
      ],
      "outputs": [],
      "execution_count": null,
      "metadata": {
        "vscode": {
          "languageId": "r"
        }
      },
      "id": "57ed58f0-d8b2-4410-b571-2ada66f44bc8"
    },
    {
      "cell_type": "code",
      "source": [
        "l2_chromvar[['cd4_naive']]"
      ],
      "outputs": [],
      "execution_count": null,
      "metadata": {
        "tags": [],
        "vscode": {
          "languageId": "r"
        }
      },
      "id": "63cf35bd-498f-4ff8-9e3d-2c8d6919e694"
    },
    {
      "cell_type": "code",
      "source": [
        "# load the F1 scores from mofa\n",
        "f1_values <- read_tsv('/home/jupyter/data/preRA_teaseq/output_results/MOFA/Mofa_preRA_cd4na_07192023_factor_values.tsv',\n",
        "                     show_col_types = FALSE) %>% filter(factor=='Factor1') %>%\n",
        "    dplyr::rename('subject_id'='sample', 'f1_value'='value') %>% dplyr::select(subject_id, f1_value, age)\n",
        "f1_values"
      ],
      "outputs": [],
      "execution_count": null,
      "metadata": {
        "vscode": {
          "languageId": "r"
        }
      },
      "id": "840d35f3-4426-45f1-a2de-a600ccfd80cb"
    },
    {
      "cell_type": "code",
      "source": [
        "# extract the z score for all l2 cell type\n",
        "l2_zscore <- lapply(names(l2_chromvar), function(x){\n",
        "    z_se <- l2_chromvar[[x]]$Z_Score\n",
        "    z_score <- assay(z_se) %>% \n",
        "        as_tibble(rownames = 'motif') %>% \n",
        "        pivot_longer(cols = -motif, names_to = 'Sample', values_to = 'z_score') %>%\n",
        "        left_join(as_tibble(colData(z_se)), by='Sample') %>% \n",
        "        mutate(cohort=factor(cohort, levels = c('Healthy', 'pre-RA')), \n",
        "              cell_type=x)\n",
        "    return(z_score)\n",
        "}) %>% rbindlist() %>% left_join(f1_values, by='subject_id')\n",
        "# extract the deviation score for all l2 cell type\n",
        "l2_dev <- lapply(names(l2_chromvar), function(x){\n",
        "    dev_se <- l2_chromvar[[x]]$Deviations\n",
        "    dev <- assay(dev_se) %>% \n",
        "        as_tibble(rownames = 'motif') %>% \n",
        "        pivot_longer(cols = -motif, names_to = 'Sample', values_to = 'dev_score') %>%\n",
        "        left_join(as_tibble(colData(dev_se)), by='Sample') %>% \n",
        "        mutate(cohort=factor(cohort, levels = c('Healthy', 'pre-RA')), \n",
        "              cell_type=x)\n",
        "    return(dev)\n",
        "}) %>% rbindlist()%>% left_join(f1_values, by='subject_id')\n",
        "l2_dev %>% head()"
      ],
      "outputs": [],
      "execution_count": null,
      "metadata": {
        "vscode": {
          "languageId": "r"
        }
      },
      "id": "dfc734f9-95f5-4483-8e79-8c94ce25cdab"
    },
    {
      "cell_type": "code",
      "source": [
        "l2_dev %>% filter(motif=='BCL6')%>%\n",
        "    ggplot(aes( x=cohort,y=dev_score, color=cohort)) + \n",
        "    geom_boxplot()+ geom_jitter()+\n",
        "    facet_wrap(vars(cell_type))"
      ],
      "outputs": [],
      "execution_count": null,
      "metadata": {
        "vscode": {
          "languageId": "r"
        }
      },
      "id": "e4e3d1a4-fce1-4637-897b-9562a8bd3d39"
    },
    {
      "cell_type": "code",
      "source": [
        "l2_dev %>% filter(is.na(dev_score))%>%\n",
        "    group_by(cell_type, motif) %>%tally() %>%arrange(n)"
      ],
      "outputs": [],
      "execution_count": null,
      "metadata": {
        "scrolled": true,
        "vscode": {
          "languageId": "r"
        }
      },
      "id": "7a1c4541-d3f4-4995-aa4f-749b0bab920a"
    },
    {
      "cell_type": "code",
      "source": [
        "# run wilcox test for frequency preRA vs healthy \n",
        "l2_dev_wilcox_pre <- l2_dev %>% filter(motif!='ENSG00000250542')%>%\n",
        "    group_by(cell_type, motif) %>% \n",
        "    rstatix::wilcox_test(dev_score ~ cohort) %>% \n",
        "    ungroup()%>%group_by(cell_type)%>%\n",
        "      rstatix::adjust_pvalue(method = \"BH\") %>%\n",
        "      rstatix::add_significance(\"p.adj\") \n",
        "l2_dev_wilcox_pre %>% arrange(p) %>% filter(p.adj<0.05)"
      ],
      "outputs": [],
      "execution_count": null,
      "metadata": {
        "tags": [],
        "vscode": {
          "languageId": "r"
        }
      },
      "id": "8dd8aeb0-0576-4671-8284-4c10f5b554ad"
    },
    {
      "cell_type": "code",
      "source": [
        "l2_dev_wilcox_pre"
      ],
      "outputs": [],
      "execution_count": null,
      "metadata": {
        "vscode": {
          "languageId": "r"
        }
      },
      "id": "ced443c3-4ff5-4e91-b7db-55a0828100c3"
    },
    {
      "cell_type": "code",
      "source": [
        "# run statiscial test\n",
        "# run glm as-risk vs healthy \n",
        "freq_glm <- function(freq_table, formula, celltype, motif_name){\n",
        "    glm_res <- broom::tidy(stats::glm(as.formula(formula), data=freq_table)) %>%\n",
        "        mutate(celltype, motif_name)\n",
        "    return(glm_res)\n",
        "}\n",
        "dev_stats_glm <- l2_dev %>% filter(!is.na(dev_score)) %>%\n",
        "    filter(str_detect(cell_type, 'cd4')#&str_detect(motif, 'NFAT|STAT|JUN|FOS|BATF|BCL6|IRF|SOX1|SOX3')\n",
        "          )%>%\n",
        "    group_by(cell_type, motif) %>% \n",
        "    group_modify(~freq_glm(.x, formula='f1_value ~ dev_score + age', \n",
        "                           celltype=.y$cell_type, motif_name=.y$motif))\n",
        "\n",
        "dev_stats_glm_f1 <- freq_stats_glm %>% filter(term=='f1_value')%>% ungroup()%>%\n",
        "    group_by(cell_type)%>%\n",
        "    rstatix::adjust_pvalue(method = \"BH\") %>%\n",
        "    arrange(p.value.adj) \n"
      ],
      "outputs": [],
      "execution_count": null,
      "metadata": {
        "tags": [],
        "vscode": {
          "languageId": "r"
        }
      },
      "id": "a160f7b3-8987-4c31-8747-3ec93a1a7bbb"
    },
    {
      "cell_type": "code",
      "source": [
        "# dev_stats_glm_f1 %>% filter(p.value.adj<0.05)"
      ],
      "outputs": [],
      "execution_count": null,
      "metadata": {
        "vscode": {
          "languageId": "r"
        }
      },
      "id": "70507d19-51bc-4af2-89da-31777330d775"
    },
    {
      "cell_type": "code",
      "source": [
        "# l2_dev %>% filter(str_detect(cell_type, 'cd4') & !is.na(dev_score))%>%\n",
        "#     group_by(cell_type, motif) %>%tally()"
      ],
      "outputs": [],
      "execution_count": null,
      "metadata": {
        "vscode": {
          "languageId": "r"
        }
      },
      "id": "042b2228-272c-4825-9176-e3457141c181"
    },
    {
      "cell_type": "code",
      "source": [
        "# l2_dev %>% #filter(str_detect(motif, 'NFAT'))%>%\n",
        "#     group_by(cell_type, motif) %>% \n",
        "#     rstatix::wilcox_test(data =., dev_score ~ cohort, ref.group ='Healthy',paired = FALSE)"
      ],
      "outputs": [],
      "execution_count": null,
      "metadata": {
        "scrolled": true,
        "vscode": {
          "languageId": "r"
        }
      },
      "id": "ef3cdca9-1214-49cf-8fa4-cdc1391708d4"
    },
    {
      "cell_type": "code",
      "source": [
        "# make a heatmap to show the p values\n",
        "nfat_padj <- freq_stats_wilcox_pre %>% mutate(log10_padj=(-log10(p.adj))) %>% \n",
        "    pivot_wider(id_cols = cell_type, names_from = motif, values_from = log10_padj) %>%\n",
        "    as.data.frame()\n",
        "rownames(nfat_padj) <- nfat_padj$cell_type\n",
        "nfat_padj$cell_type=NULL\n",
        "col_fun = circlize::colorRamp2(c(-log10(0.05),  2), c(\"white\",  \"red\"))\n",
        "png(file.path(fig_path, paste0(proj_name, 'chromvar_z_score_nfat_preRAvsHealthy_padj_heatmap.png')), units = 'in',\n",
        "    width = 8, height = 6, res=300)\n",
        "ComplexHeatmap::Heatmap(as.matrix(nfat_padj), col = col_fun, name='padj')\n",
        "dev.off()"
      ],
      "outputs": [],
      "execution_count": null,
      "metadata": {
        "tags": [],
        "vscode": {
          "languageId": "r"
        }
      },
      "id": "5828e738-5dce-4f6f-869c-1927e876b66f"
    },
    {
      "cell_type": "code",
      "source": [
        "ComplexHeatmap::Heatmap(as.matrix(nfat_padj), col = col_fun, name='padj')"
      ],
      "outputs": [],
      "execution_count": null,
      "metadata": {
        "vscode": {
          "languageId": "r"
        }
      },
      "id": "0bb244d0-a029-46eb-b94b-da8ae2f9c790"
    },
    {
      "cell_type": "code",
      "source": [
        "sig_zscore <- l2_zscore %>% filter(str_detect(motif, 'NFAT')) %>% \n",
        "    left_join(dplyr::select(freq_stats_wilcox_pre, c(motif,cell_type,p.adj)),\n",
        "                            by=c('motif','cell_type')) %>%filter(p.adj<0.05)\n",
        "\n",
        "sig_zscore %>%\n",
        "    ggplot(aes( x=cohort,y=z_score, color=cohort)) + \n",
        "    geom_boxplot()+ geom_jitter()+\n",
        "    facet_grid(cols=vars(motif), rows=vars(cell_type))\n",
        "ggsave(file.path(fig_path, paste0(proj_name, 'chromvar_z_score_nfat_preRAvsHealthy_boxplot.png')), \n",
        "       width = 12, height = 8)"
      ],
      "outputs": [],
      "execution_count": null,
      "metadata": {
        "tags": [],
        "vscode": {
          "languageId": "r"
        }
      },
      "id": "29f069cd-2389-4aad-a927-aeae74444e86"
    },
    {
      "cell_type": "markdown",
      "source": [
        "## plot region"
      ],
      "metadata": {},
      "id": "8ee24bee-42e7-40b2-8558-c8b293b07cbc"
    },
    {
      "cell_type": "code",
      "source": [
        "# load the sample tile matrix\n",
        "SampleTileMatricesAnnotated <- readRDS(file.path(output_path, \n",
        "                                  paste0(proj_name, '_MOCHA_l2_celltype_SampleTileMatrices_rmBR2024.rds')))"
      ],
      "outputs": [],
      "execution_count": null,
      "metadata": {
        "vscode": {
          "languageId": "r"
        }
      },
      "id": "43f1e3e1-6626-4798-b992-f60b0cad77f3"
    },
    {
      "cell_type": "code",
      "source": [
        "# load gene annotation database\n",
        "txList <- suppressWarnings(GenomicFeatures::transcriptsBy(TxDb, by = (\"gene\")))\n",
        "names(txList) <- suppressWarnings(AnnotationDbi::mapIds(Org, names(txList), \"SYMBOL\", \"ENTREZID\"))"
      ],
      "outputs": [],
      "execution_count": null,
      "metadata": {
        "vscode": {
          "languageId": "r"
        }
      },
      "id": "1988673b-be47-42e6-a6c4-d9b54944417b"
    },
    {
      "cell_type": "code",
      "source": [
        "differentials_l2_table%>%head()"
      ],
      "outputs": [],
      "execution_count": null,
      "metadata": {
        "vscode": {
          "languageId": "r"
        }
      },
      "id": "96dbefb8-b530-490d-a902-6138e927c527"
    },
    {
      "cell_type": "code",
      "source": [
        "# check the gene to be plot\n",
        "upgene <- differentials_l2_table %>%\n",
        "    dplyr::filter(CellPopulation=='cd4_memory' & !is.na(Gene) &\n",
        "                  FDR<0.2 & P_value<0.05& Log2FC_C>0.5)%>%\n",
        "    arrange(desc(Log2FC_C))%>%distinct(Gene)%>%pull(Gene)%>% \n",
        "    str_split(\", \")%>% unlist() %>% unique()"
      ],
      "outputs": [],
      "execution_count": null,
      "metadata": {
        "vscode": {
          "languageId": "r"
        }
      },
      "id": "1054f217-d3a1-4333-b945-4a46fbc62862"
    },
    {
      "cell_type": "code",
      "source": [
        "upgene%>%length()"
      ],
      "outputs": [],
      "execution_count": null,
      "metadata": {
        "vscode": {
          "languageId": "r"
        }
      },
      "id": "2f29555d-1b3a-435b-8bee-0473be15ded1"
    },
    {
      "cell_type": "code",
      "source": [
        "differentials_l2_table%>%distinct(CellPopulation)"
      ],
      "outputs": [],
      "execution_count": null,
      "metadata": {
        "vscode": {
          "languageId": "r"
        }
      },
      "id": "38faab6c-4ab1-4bbe-a61f-0d4124083a25"
    },
    {
      "cell_type": "code",
      "source": [
        "# pathway analysis with enrichR\n",
        "quiet_library(enrichR)\n",
        "setEnrichrSite(\"Enrichr\")\n",
        "dbs <- listEnrichrDbs()\n",
        "# %% codecell"
      ],
      "outputs": [],
      "execution_count": null,
      "metadata": {
        "vscode": {
          "languageId": "r"
        }
      },
      "id": "61c25858-bb07-4627-a0f9-5ddbe317c6be"
    },
    {
      "cell_type": "code",
      "source": [
        "# pathway enrichment for cd4na\n",
        "enrich_cd4_na <- enrichr(upgene, c('KEGG_2021_Human', 'MSigDB_Hallmark_2020'))\n",
        "enrich_cd4_na[[\"KEGG_2021_Human\"]]%>% filter(Adjusted.P.value<0.05)"
      ],
      "outputs": [],
      "execution_count": null,
      "metadata": {
        "vscode": {
          "languageId": "r"
        }
      },
      "id": "99525482-45ec-4b6f-90b7-044959fe340a"
    },
    {
      "cell_type": "code",
      "source": [
        "differentials_l2_table%>%\n",
        "    dplyr::filter( P_value<0.05  &tileType=='Promoter'&\n",
        "                 str_detect(Gene, 'CXCR5|PDCD1|SELL|TLR'))"
      ],
      "outputs": [],
      "execution_count": null,
      "metadata": {
        "vscode": {
          "languageId": "r"
        }
      },
      "id": "43e2f019-825d-4c37-9f52-67381a1363d3"
    },
    {
      "cell_type": "code",
      "source": [],
      "outputs": [],
      "execution_count": null,
      "metadata": {
        "vscode": {
          "languageId": "r"
        }
      },
      "id": "137e7c90-d989-4e11-8b7e-28e7d4b5d4d0"
    },
    {
      "cell_type": "code",
      "source": [
        "names(txList) %>% str_subset('CD80')"
      ],
      "outputs": [],
      "execution_count": null,
      "metadata": {
        "vscode": {
          "languageId": "r"
        }
      },
      "id": "bc05e670-5ff9-4332-8d2b-b5fd534959ee"
    },
    {
      "cell_type": "code",
      "source": [
        "# get the gene names and gene ranges\n",
        "gene_name <- 'TNFSF11'\n",
        "gene_ranges <- txList[[gene_name]] %>% as_tibble() %>% \n",
        "    mutate(gene_range=paste0(seqnames, ':', start-2000, '-', end+1000))\n",
        "gene_ranges"
      ],
      "outputs": [],
      "execution_count": null,
      "metadata": {
        "vscode": {
          "languageId": "r"
        }
      },
      "id": "c4b00427-f198-4813-9142-4a9f6841ebee"
    },
    {
      "cell_type": "code",
      "source": [
        "assays(SampleTileMatricesAnnotated)%>%names()"
      ],
      "outputs": [],
      "execution_count": null,
      "metadata": {
        "vscode": {
          "languageId": "r"
        }
      },
      "id": "247915a0-d3ac-47dd-990c-eb3138751a2e"
    },
    {
      "cell_type": "code",
      "source": [
        "####################################################\n",
        "# 5. (Optional) Plot a specific region's coverage. \n",
        "#    Here we plot coverage at a specific region and \n",
        "#    gene by infection stage.\n",
        "####################################################\n",
        "cell_type='TNFSF11'\n",
        "countSE <- MOCHA::extractRegion(\n",
        "  SampleTileObj = SampleTileMatricesAnnotated, \n",
        "  cellPopulations = cell_type,\n",
        "  #region = gene_ranges$gene_range[1], \n",
        "   region = gene_ranges[1,]$gene_range, \n",
        "  groupColumn = 'status',\n",
        "  numCores = 15,\n",
        "  sampleSpecific = FALSE\n",
        ")\n"
      ],
      "outputs": [],
      "execution_count": null,
      "metadata": {
        "vscode": {
          "languageId": "r"
        }
      },
      "id": "3e386583-d53d-48d6-b468-8c6bcd1b6caa"
    },
    {
      "cell_type": "code",
      "source": [
        "# add delta\n",
        "countSE <- addAccessibilityShift(countSE,\n",
        "    foreground = paste0(cell_type, \".ARI\"),\n",
        "    background = paste0(cell_type, \".Controls\"))"
      ],
      "outputs": [],
      "execution_count": null,
      "metadata": {
        "vscode": {
          "languageId": "r"
        }
      },
      "id": "1406d5e7-09eb-4b78-a5e7-6ff3bc8d33ab"
    },
    {
      "cell_type": "code",
      "source": [
        "countSE"
      ],
      "outputs": [],
      "execution_count": null,
      "metadata": {
        "tags": [],
        "vscode": {
          "languageId": "r"
        }
      },
      "id": "7f7334db-5ae8-4c49-a19f-4fc78c4e9d74"
    },
    {
      "cell_type": "code",
      "source": [
        "p1 <- MOCHA::plotRegion(countSE = countSE, whichGene=gene_name,  showIdeogram=TRUE,\n",
        "                        counts_group_colors=c('#F59F00', '#4C8CBD', '#840032'))\n"
      ],
      "outputs": [],
      "execution_count": null,
      "metadata": {
        "vscode": {
          "languageId": "r"
        }
      },
      "id": "61ac05f9-159a-4634-8983-32a6eda53c43"
    },
    {
      "cell_type": "code",
      "source": [
        "options(repr.plot.width = 6, repr.plot.height = 6)\n",
        "p1\n"
      ],
      "outputs": [],
      "execution_count": null,
      "metadata": {
        "vscode": {
          "languageId": "r"
        }
      },
      "id": "641374c3-7c1e-497e-bb50-a96c87c7a725"
    },
    {
      "cell_type": "code",
      "source": [
        "pdf(file.path(fig_path, paste0(cell_type,'_',gene_name,'_gene_regions.pdf')), width = 6, height = 6)\n",
        "p1\n",
        "dev.off()"
      ],
      "outputs": [],
      "execution_count": null,
      "metadata": {
        "vscode": {
          "languageId": "r"
        }
      },
      "id": "da058264-1d7b-4795-b0fd-19715f6d3987"
    },
    {
      "cell_type": "markdown",
      "source": [
        "### plot regeion publication"
      ],
      "metadata": {},
      "id": "a3e9d83a-c099-4870-b73d-202bf47b45bf"
    },
    {
      "cell_type": "code",
      "source": [
        "# define a function to plot gene tracks\n",
        "PlotPromoterRegion <- function(SampleTileObj, gene_name, cellPopulations, groupColumn, numCores=15,\n",
        "                              sampleSpecific = FALSE, ...) {\n",
        "    gene_ranges <- txList[[gene_name]] %>% as_tibble() %>% \n",
        "        mutate(gene_range=paste0(seqnames, ':', start-2000, '-', end+2000))\n",
        "    countSE <- MOCHA::extractRegion(\n",
        "      SampleTileObj = SampleTileObj, \n",
        "      cellPopulations = cellPopulations,\n",
        "      region = gene_ranges$gene_range[1], \n",
        "      groupColumn = groupColumn,\n",
        "      numCores = numCores,\n",
        "      sampleSpecific = sampleSpecific\n",
        "    )\n",
        "        # add delta\n",
        "    # add delta\n",
        "    countSE <- addAccessibilityShift(countSE,\n",
        "        foreground = paste0(cellPopulations, \".ARI\"),\n",
        "        background = paste0(cellPopulations, \".Controls\"))\n",
        "    pdf(file.path(fig_path, paste0(proj_name,'atac_annotate_',cellPopulations, '_',\n",
        "                                   gene_name,'_gene_regions.pdf')), width = 5, height = 5)\n",
        "    p1 <- MOCHA::plotRegion(countSE = countSE, whichGene = gene_name, ...)\n",
        "    print(p1)\n",
        "    dev.off()   \n",
        "    return(p1)\n",
        "}"
      ],
      "outputs": [],
      "execution_count": null,
      "metadata": {
        "vscode": {
          "languageId": "r"
        }
      },
      "id": "30eec9b0-6bde-4ce5-80f1-4ced7c35d4e0"
    },
    {
      "cell_type": "code",
      "source": [
        "# reformat the status column\n",
        "colData(SampleTileMatricesAnnotated)$status = factor(if_else(colData(SampleTileMatricesAnnotated)$cohort=='pre-RA',\n",
        "                                                      'ARI', 'Controls'), levels=c('Controls', 'ARI'))\n",
        "SampleTileMatricesAnnotated$status%>%unique()"
      ],
      "outputs": [],
      "execution_count": null,
      "metadata": {
        "vscode": {
          "languageId": "r"
        }
      },
      "id": "2e8ae633-a906-40f7-8e92-0a72512ca59e"
    },
    {
      "cell_type": "code",
      "source": [
        "fig_path = '/home/jupyter/figures/preRA_teaseq/ATAC'\n",
        "ari_colors = c( '#840032', '#F59F00', '#5AAA46')"
      ],
      "outputs": [],
      "execution_count": null,
      "metadata": {
        "vscode": {
          "languageId": "r"
        }
      },
      "id": "047cf97d-c36c-4227-a152-202b9a5f14e8"
    },
    {
      "cell_type": "code",
      "source": [
        "PlotPromoterRegion(SampleTileObj = SampleTileMatricesAnnotated, gene_name = 'TLR9',\n",
        "                   cellPopulations='naive_b_cells',groupColumn='status',\n",
        "                   counts_group_colors=ari_colors)"
      ],
      "outputs": [],
      "execution_count": null,
      "metadata": {
        "vscode": {
          "languageId": "r"
        }
      },
      "id": "ca67b6bc-b0f1-42bb-9970-786e12d47780"
    },
    {
      "cell_type": "code",
      "source": [
        "PlotPromoterRegion(SampleTileObj = SampleTileMatricesAnnotated, gene_name = 'CD40',\n",
        "                   cellPopulations='naive_b_cells',groupColumn='status', \n",
        "                   counts_group_colors=ari_colors)"
      ],
      "outputs": [],
      "execution_count": null,
      "metadata": {
        "vscode": {
          "languageId": "r"
        }
      },
      "id": "f72a5f27-165d-4280-9239-63e0904cc8df"
    },
    {
      "cell_type": "code",
      "source": [
        "SampleTileMatricesAnnotated"
      ],
      "outputs": [],
      "execution_count": null,
      "metadata": {
        "vscode": {
          "languageId": "r"
        }
      },
      "id": "1605bc9c-820f-4d32-bb6d-ec31520d90e6"
    },
    {
      "cell_type": "code",
      "source": [
        "PlotPromoterRegion(SampleTileObj = SampleTileMatricesAnnotated, gene_name = 'TNFSF11',\n",
        "                   cellPopulations='treg',groupColumn='status',\n",
        "                   counts_group_colors=ari_colors)"
      ],
      "outputs": [],
      "execution_count": null,
      "metadata": {
        "vscode": {
          "languageId": "r"
        }
      },
      "id": "69c40671-ded9-4662-be80-dd8dc56196c2"
    },
    {
      "cell_type": "code",
      "source": [
        "PlotPromoterRegion(SampleTileObj = SampleTileMatricesAnnotated, gene_name = 'IL23A',\n",
        "                   cellPopulations='cd14mono',groupColumn='status',\n",
        "                   counts_group_colors=ari_colors)"
      ],
      "outputs": [],
      "execution_count": null,
      "metadata": {
        "vscode": {
          "languageId": "r"
        }
      },
      "id": "2bb4e417-12b5-4509-9bab-1377e01d4c50"
    },
    {
      "cell_type": "code",
      "source": [
        "PlotPromoterRegion(SampleTileObj = SampleTileMatricesAnnotated, gene_name = 'TNF',\n",
        "                   cellPopulations='cd16mono',groupColumn='status',\n",
        "                   counts_group_colors=ari_colors)"
      ],
      "outputs": [],
      "execution_count": null,
      "metadata": {
        "vscode": {
          "languageId": "r"
        }
      },
      "id": "1ff484f9-3e51-4990-bbee-7a001d8972b9"
    },
    {
      "cell_type": "code",
      "source": [
        "PlotPromoterRegion(SampleTileObj = SampleTileMatricesAnnotated, gene_name = 'NFATC3',\n",
        "                   cellPopulations='cd4_naive',groupColumn='status',\n",
        "                   counts_group_colors=ari_colors)"
      ],
      "outputs": [],
      "execution_count": null,
      "metadata": {
        "vscode": {
          "languageId": "r"
        }
      },
      "id": "f9e304a5-adfe-4483-a3cb-287643d3cc21"
    },
    {
      "cell_type": "code",
      "source": [
        "differentials_l2_table %>%\n",
        "    dplyr::filter( P_value<0.05 & FDR<0.2 & str_detect(Gene, 'NFAT'))"
      ],
      "outputs": [],
      "execution_count": null,
      "metadata": {
        "vscode": {
          "languageId": "r"
        }
      },
      "id": "93b31a2d-32d5-47eb-884b-47aa3c1334c3"
    },
    {
      "cell_type": "code",
      "source": [],
      "outputs": [],
      "execution_count": null,
      "metadata": {
        "vscode": {
          "languageId": "r"
        }
      },
      "id": "49ba1a14-9a37-4097-aaf5-a8b51cbfd53a"
    },
    {
      "cell_type": "code",
      "source": [
        "####################################################\n",
        "# 5. Get co-accessible links between input regions\n",
        "#    (tiles) and their neighboring regions within\n",
        "#    a window. Here we give the first ten.\n",
        "#    differential tiles as our input regions.\n",
        "####################################################\n",
        "\n",
        "cellPopulation <- cellPopulations[[4]]\n",
        "cellPopulation\n",
        "regions <- cd4na_diff[(!is.na(elementMetadata(cd4na_diff)[,'FDR'])) & (elementMetadata(cd4na_diff)[,'FDR']<0.2) &\n",
        "          abs(elementMetadata(cd4na_diff)[,'Log2FC_C'])>0.1]\n",
        "\n",
        "# Alternatively, define regions as a character vector \n",
        "# of region strings in the format \"chr:start-end\"\n",
        "# regions <- c(\n",
        "#   \"chrY:7326500-7326999\",\n",
        "#   \"chrY:7327000-7327499\",\n",
        "#   \"chrY:7339500-7339999\",\n",
        "#   \"chrY:7344500-7344999\"\n",
        "# )\n",
        "\n",
        "links <- scMACS::getCoAccessibleLinks(\n",
        "    SampleTileObj = SampleTileMatricesAnnotated,\n",
        "    cellPopulation = cellPopulation,\n",
        "    regions = regions,\n",
        "    windowSize = 1 * 10^6,\n",
        "    numCores = numCores,\n",
        "    verbose = TRUE\n",
        ")\n",
        "\n",
        "# Optionally filter these links by their absolute \n",
        "# correlation - this output also adds the chromosome,\n",
        "# start, and end site of each link to the table.\n",
        "scMACS::filterCoAccessibleLinks(links, threshold = 0.5)"
      ],
      "outputs": [],
      "execution_count": null,
      "metadata": {
        "vscode": {
          "languageId": "r"
        }
      },
      "id": "5587a20e-7e0b-499f-bba8-6f45fa083f5e"
    },
    {
      "cell_type": "code",
      "source": [
        "links"
      ],
      "outputs": [],
      "execution_count": null,
      "metadata": {
        "vscode": {
          "languageId": "r"
        }
      },
      "id": "7532c8ce-9cbd-4ad0-b073-ccc03b291fcf"
    },
    {
      "cell_type": "code",
      "source": [
        "# save the differential results\n",
        "links %>% saveRDS(file.path(output_path, \n",
        "                                  paste0(proj_name, '_scMACS_cd4naive_coaccess_DAPs_RAvsHealthy.rds')))"
      ],
      "outputs": [],
      "execution_count": null,
      "metadata": {
        "vscode": {
          "languageId": "r"
        }
      },
      "id": "87a897c3-2f8f-45d6-93e1-54194d8c033e"
    },
    {
      "cell_type": "code",
      "source": [
        "# add the tile information to the differentail results\n",
        "tile_info <- rowData(SampleTileMatricesAnnotated) %>% as_tibble(rownames  = 'Tile') %>%\n",
        "    dplyr::select(Tile, tileType, Gene)\n",
        "\n",
        "differentials_l2 <- differentials_l2 %>% rbindlist() %>% left_join(tile_info, by='Tile')\n",
        "differentials_l2 %>% head()"
      ],
      "outputs": [],
      "execution_count": null,
      "metadata": {
        "vscode": {
          "languageId": "r"
        }
      },
      "id": "9841acec-5a83-4bef-9e51-a5eb67f023f0"
    },
    {
      "cell_type": "code",
      "source": [
        "differentials_l2 %>% filter(FDR<0.3) %>% group_by(CellPopulation) %>% tally()"
      ],
      "outputs": [],
      "execution_count": null,
      "metadata": {
        "vscode": {
          "languageId": "r"
        }
      },
      "id": "7722d0d5-1e97-43d9-9a7b-8ecf45981399"
    },
    {
      "cell_type": "code",
      "source": [
        "differentials_l2 %>% filter(!is.na(FDR)) %>%\n",
        "    ggplot(aes(x=MeanDiff, y= -log10(FDR), color=CellPopulation)) + geom_scattermore()+\n",
        "    facet_wrap(vars(CellPopulation), scales = 'free')"
      ],
      "outputs": [],
      "execution_count": null,
      "metadata": {
        "vscode": {
          "languageId": "r"
        }
      },
      "id": "fa8eba9c-8c56-4cd8-b823-8e49df52f40f"
    },
    {
      "cell_type": "code",
      "source": [
        "ra_atac"
      ],
      "outputs": [],
      "execution_count": null,
      "metadata": {
        "vscode": {
          "languageId": "r"
        }
      },
      "id": "4df1f43e-880d-4370-8f50-7ad4992fde7f"
    },
    {
      "cell_type": "markdown",
      "source": [
        "## import the peaks cells in scMACS into Archr and remake peak matrix"
      ],
      "metadata": {},
      "id": "80475168-0448-4f56-9bdf-77d48288f2a0"
    },
    {
      "cell_type": "code",
      "source": [
        "# Tests if a string is a in the correct format to convert to GRanges \n",
        "validRegionString <- function(regionString) {\n",
        "  if (!is.character(regionString)) {\n",
        "    return(FALSE)\n",
        "  }\n",
        "\n",
        "  pattern <- \"([0-9]{1,2}|chr[0-9]{1,2}):[0-9]*-[0-9]*\"\n",
        "  matchedPattern <- str_extract(regionString, pattern)\n",
        "\n",
        "  if (is.na(matchedPattern)) {\n",
        "    return(FALSE)\n",
        "  } else if (!matchedPattern == regionString) {\n",
        "    return(FALSE)\n",
        "  }\n",
        "\n",
        "  splits <- str_split(regionString, \"[:-]\")[[1]]\n",
        "  start <- splits[2]\n",
        "  end <- splits[3]\n",
        "  if (start > end) {\n",
        "    return(FALSE)\n",
        "  }\n",
        "\n",
        "  # All conditions satisfied\n",
        "  return(TRUE)\n",
        "}\n",
        "# Strings to GRanges\n",
        "StringsToGRanges <- function(regionString) {\n",
        "  if (!validRegionString(regionString)) {\n",
        "    stop(\"Region must be a string matching format 'seqname:start-end', where start<end e.g. chr1:123000-123500\")\n",
        "  }\n",
        "\n",
        "  chrom <- gsub(\":.*\", \"\", regionString)\n",
        "  startSite <- gsub(\".*:\", \"\", regionString) %>%\n",
        "    gsub(\"-.*\", \"\", .) %>%\n",
        "    as.numeric()\n",
        "  endSite <- gsub(\".*-\", \"\", regionString) %>% as.numeric()\n",
        "\n",
        "\n",
        "  regionGRanges <- GRanges(seqnames = chrom, ranges = IRanges(start = startSite, end = endSite), strand = \"*\")\n",
        "  return(regionGRanges)\n",
        "}"
      ],
      "outputs": [],
      "execution_count": null,
      "metadata": {
        "vscode": {
          "languageId": "r"
        }
      },
      "id": "8dacc9a2-3877-4cea-9345-3997b0c7cfc7"
    },
    {
      "cell_type": "code",
      "source": [
        "l2_peaks_called <- rowData(SampleTileMatricesAnnotated) %>% as.data.table(keep.rownames = 'peaks')\n",
        "l2_peaks_called %>% colnames()"
      ],
      "outputs": [],
      "execution_count": null,
      "metadata": {
        "vscode": {
          "languageId": "r"
        }
      },
      "id": "1ff0b69f-5def-4605-b50c-5f0276227749"
    },
    {
      "cell_type": "code",
      "source": [
        "l2_peaks_called %>% filter_if(is.logical, all_vars(. ==FALSE))"
      ],
      "outputs": [],
      "execution_count": null,
      "metadata": {
        "vscode": {
          "languageId": "r"
        }
      },
      "id": "8d697e86-d5a8-4b06-b89a-bed2de50048f"
    },
    {
      "cell_type": "code",
      "source": [
        "# make a grange object from the the union of the peaks called\n",
        "granges_l2 <- SampleTileMatricesAnnotated %>% rownames() %>% unique() %>% \n",
        "    MOCHA::StringsToGRanges()\n",
        "granges_l2"
      ],
      "outputs": [],
      "execution_count": null,
      "metadata": {
        "vscode": {
          "languageId": "r"
        }
      },
      "id": "6e7353d6-c309-45a3-865c-56bcb80ec7d7"
    },
    {
      "cell_type": "code",
      "source": [
        "SampleTileMatricesAnnotated"
      ],
      "outputs": [],
      "execution_count": null,
      "metadata": {
        "vscode": {
          "languageId": "r"
        }
      },
      "id": "01e6bed8-4667-42a4-93a6-83e2035f234e"
    },
    {
      "cell_type": "code",
      "source": [
        "## Create new feature matrix for mocha call peaks\n",
        "ra_atac_fl <- addFeatureMatrix(ra_atac_fl, matrixName = \"MochaPeakMatrix\", features = granges_l2, binarize = FALSE)"
      ],
      "outputs": [],
      "execution_count": null,
      "metadata": {
        "vscode": {
          "languageId": "r"
        }
      },
      "id": "1dff00e5-ff8e-4807-8f0d-cec3b9938191"
    },
    {
      "cell_type": "code",
      "source": [
        "# add the peak called by scMACS back to archR\n",
        "ra_atac_fl <- addPeakSet(\n",
        "  ArchRProj = ra_atac_fl,\n",
        "  peakSet = granges_l2,\n",
        "  genomeAnnotation = getGenomeAnnotation(ra_atac_fl),\n",
        "  force = TRUE\n",
        ")\n",
        "ra_atac_fl <- addPeakMatrix(ra_atac_fl)"
      ],
      "outputs": [],
      "execution_count": null,
      "metadata": {
        "vscode": {
          "languageId": "r"
        }
      },
      "id": "236fc57d-10c5-4aa0-97a3-fab25c71d3ba"
    },
    {
      "cell_type": "code",
      "source": [
        "saveArchRProject(ra_atac_fl)"
      ],
      "outputs": [],
      "execution_count": null,
      "metadata": {
        "vscode": {
          "languageId": "r"
        }
      },
      "id": "ec7eeed2-eba7-4704-8181-9e5c0232ef8a"
    },
    {
      "cell_type": "code",
      "source": [
        "getAvailableMatrices(ra_atac_fl)\n",
        "# getReducedDims(ra_atac)"
      ],
      "outputs": [],
      "execution_count": null,
      "metadata": {
        "vscode": {
          "languageId": "r"
        }
      },
      "id": "ce8d726c-43c8-4b1b-9174-7d28a687b50b"
    },
    {
      "cell_type": "code",
      "source": [
        "# export the chromvar motif matrix from archr\n",
        "chromvar_mx <- getMatrixFromProject(\n",
        "  ArchRProj = ra_atac_fl,\n",
        "  useMatrix = \"MotifMatrix\",\n",
        "  useSeqnames = NULL,\n",
        "  verbose = TRUE,\n",
        "  binarize = FALSE,\n",
        "  threads = getArchRThreads(),\n",
        "  logFile = createLogFile(\"getMatrixFromProject\")\n",
        ")\n"
      ],
      "outputs": [],
      "execution_count": null,
      "metadata": {
        "vscode": {
          "languageId": "r"
        }
      },
      "id": "6cae54c9-d72f-4c5a-8b25-cf7b77540536"
    },
    {
      "cell_type": "code",
      "source": [
        "chromvar_mx"
      ],
      "outputs": [],
      "execution_count": null,
      "metadata": {
        "vscode": {
          "languageId": "r"
        }
      },
      "id": "e2be86e0-16e4-49e1-a003-9eb33ad187e1"
    },
    {
      "cell_type": "code",
      "source": [
        "# save the motif matrix by cell barcodes"
      ],
      "outputs": [],
      "execution_count": null,
      "metadata": {
        "vscode": {
          "languageId": "r"
        }
      },
      "id": "38e991e9-92bc-451b-8e23-181b1db2eacf"
    },
    {
      "cell_type": "markdown",
      "source": [
        "#### run LSI based on the atac peak matrix called by MOCHA"
      ],
      "metadata": {},
      "id": "de341db5-6492-4917-a332-f2d5cd66281b"
    },
    {
      "cell_type": "code",
      "source": [
        "ra_atac <- addIterativeLSI(\n",
        "    ArchRProj = ra_atac,\n",
        "    useMatrix = \"MochaPeakMatrix\", \n",
        "    name = \"MochaPeakLSI\", \n",
        "    iterations = 2, \n",
        "    clusterParams = list( #See Seurat::FindClusters\n",
        "        resolution = c(0.5), \n",
        "        sampleCells = 10000, \n",
        "        n.start = 10\n",
        "    ), \n",
        "    varFeatures = 25000, \n",
        "    dimsToUse = 1:30\n",
        ")\n"
      ],
      "outputs": [],
      "execution_count": null,
      "metadata": {
        "vscode": {
          "languageId": "r"
        }
      },
      "id": "36318d5a-2280-4900-8248-d41b18d820f4"
    },
    {
      "cell_type": "code",
      "source": [
        "# rerun clustering and umap on Mocha peak matrix\n",
        "ra_atac <- addClusters(\n",
        "  input = ra_atac,\n",
        "  reducedDims = \"MochaPeakLSI\",\n",
        "  method = \"Seurat\",\n",
        "  name = \"MochaPeak_clusters_1\",\n",
        "  resolution = 1,\n",
        "  force = TRUE\n",
        ")\n",
        "\n",
        "ra_atac <- addUMAP(ArchRProj = ra_atac, name = \"MochaPeakUMAP\",\n",
        "                    reducedDims = \"MochaPeakLSI\", force = TRUE)"
      ],
      "outputs": [],
      "execution_count": null,
      "metadata": {
        "tags": [],
        "vscode": {
          "languageId": "r"
        }
      },
      "id": "2f6eef37-9eb4-4232-8746-a311d65900a5"
    },
    {
      "cell_type": "code",
      "source": [
        "# plot the umap form peak matrix\n",
        "p1 <- plotEmbedding(ra_atac, embedding = \"MochaPeakUMAP\", \n",
        "                    colorBy = \"cellColData\", name = c('MochaPeak_clusters_1', \"l1_cell_types\", \"clean_l2_cell_types\",\n",
        "                                                     \"cohort\",  \"subject_id\"))\n",
        "p2 <- plotEmbedding(ra_atac, embedding = \"PeakUMAP\", \n",
        "                    colorBy = \"cellColData\", name = c('Clusters', \"l1_cell_types\", \"clean_l2_cell_types\",\n",
        "                                                     \"cohort\",  \"subject_id\"))\n",
        "p3 <- plotEmbedding(ra_atac, embedding = \"UMAP\", \n",
        "                    colorBy = \"cellColData\", name = c('Clusters', \"l1_cell_types\", \"clean_l2_cell_types\",\n",
        "                                                     \"cohort\",  \"subject_id\"))\n",
        "\n",
        "plotPDF(p1,p2,p3, name = paste0(proj_name, '_MochaPeak_LSI_umap_vs_umap.pdf'), ArchRProj = ra_atac,\n",
        "        addDOC = FALSE, width = 6, height = 6)"
      ],
      "outputs": [],
      "execution_count": null,
      "metadata": {
        "vscode": {
          "languageId": "r"
        }
      },
      "id": "7484b2a4-c10a-4e99-abb1-75dd355c9b06"
    },
    {
      "cell_type": "code",
      "source": [
        "getCellColData(ra_atac) %>% colnames()"
      ],
      "outputs": [],
      "execution_count": null,
      "metadata": {
        "vscode": {
          "languageId": "r"
        }
      },
      "id": "a7cab884-0510-4844-9db6-30bb11579ab2"
    },
    {
      "cell_type": "code",
      "source": [
        "# assays(peak_mx)$PeakMatrix"
      ],
      "outputs": [],
      "execution_count": null,
      "metadata": {
        "vscode": {
          "languageId": "r"
        }
      },
      "id": "3b67144d-1586-41c6-ada8-0c8b3579b50d"
    },
    {
      "cell_type": "markdown",
      "source": [
        "#### identidy the different peaks feasurs in archr aomng cell types and use it to make a reference object"
      ],
      "metadata": {},
      "id": "a6ebb803-a058-451d-829f-3da4c2dfa694"
    },
    {
      "cell_type": "code",
      "source": [
        "#### Create Reference Object from ArchRProject\n",
        "### Right now, I only have this function working for the peak matrix, or a tile matrix.\n",
        "## @type - param to say what type of data extracted. Can be tile, peak, or gene. Default is peaks. Tile matrices will not work unless you create a new one.\n",
        "## @Matrix - param for which matrix o extract\n",
        "## @reduction - param for which LSI to extract. \n",
        "## @projectname - param for the project name within the new Seurat object\n",
        "## @features - param for custom feature set. Set this is you generated a new tile matrix\n",
        "##                of specific regions of relevance, and you want to pass it through.\n",
        "## @addUMAP - param. Name of UMAP embedding to add to Seurat object, so that you don't have to recalculate the UMAP. Default is NULL, in which case it will generate a new umap based on the LSI provided. \n",
        "createReferenceProject <- function(ArchR, cellTypeLabels = NULL, maxCells=500,\n",
        "                                   threshold = NULL, reduction = NULL, projectName = \"RefObj\", addUMAP = \"UMAP\"){\n",
        " \n",
        "        ## Pull out markers to cluster on.\n",
        "    \n",
        "        if(!is.null(threshold)){\n",
        "              clusterMarkers <- getMarkerFeatures(ArchR, useMatrix = \"TileMatrix\",\n",
        "                                                  groupBy = cellTypeLabels, maxCells = maxCells,\n",
        "                                            binarize = TRUE)\n",
        "\n",
        "                clustermarkersf <- getMarkers(clusterMarkers, cutOff = threshold)\n",
        "             \n",
        "                allFeatures = rbindlist(lapply(seq_along(clustermarkersf), function(x){\n",
        "  \n",
        "                                    clustermarkersf[[x]] %>% as.data.frame() %>% \n",
        "                                                dplyr::mutate(end = start + 500)\n",
        "                    })) %>% makeGRangesFromDataFrame(.,keep.extra.columns= TRUE) %>%\n",
        "                plyranges::group_by(idx) %>% plyranges::reduce_ranges()\n",
        "            \n",
        "        }else{\n",
        "            \n",
        "            allFeatures <- ArchR@reducedDims$IterativeLSI$LSIFeatures %>% as.data.frame() %>% \n",
        "                            mutate(end = start + 500) %>%\n",
        "                            makeGRangesFromDataFrame()  \n",
        "        }\n",
        "      \n",
        "\n",
        "        ## Create new feature matrix with important info on groups. \n",
        "        ArchR <- addFeatureMatrix(ArchR, matrixName = \"TransferMatrix\", features = allFeatures, binarize = FALSE)\n",
        "\n",
        "        saveArchRProject(ArchR)\n",
        "    \n",
        "        RefSE <- SeuratFromArchR(ArchR, type = \"other\", Matrix = \"TransferMatrix\", \n",
        "                         reduction = reduction,\n",
        "                         projectName =projectName, features = allFeatures,\n",
        "                          addUMAP = \"UMAP\")\n",
        "\n",
        "        RefSE@assays$ATAC@var.features = rownames(RefSE)\n",
        "        RefSE <- RunTFIDF(RefSE)\n",
        "        RefSE <- RunSVD(RefSE)\n",
        "        RefSE <- RunUMAP(RefSE, reduction = \"lsi\", dims = 2:50, return.model = TRUE)\n",
        "\n",
        "        rownames(RefSE@meta.data) <- Cells(RefSE)   \n",
        "        \n",
        "        saveRDS(RefSE, paste(getOutputDirectory(ArchR),\"/ReferenceSeurat.RDS\", sep = \"\"))\n",
        "        return(RefSE)\n",
        "}"
      ],
      "outputs": [],
      "execution_count": null,
      "metadata": {
        "vscode": {
          "languageId": "r"
        }
      },
      "id": "034c8a4c-b717-4598-936b-de9ba6fc69d5"
    },
    {
      "cell_type": "code",
      "source": [
        "so_ref_atac <- createReferenceProject(ra_atac, cellTypeLabels = 'clean_l2_cell_types', \n",
        "                                   threshold = \"FDR <= 0.05 & Log2FC>0.25\",\n",
        "                                      maxCells = 1000,\n",
        "                                      reduction = 'IterativeLSI', \n",
        "                                      projectName = \"RefObj\", addUMAP = \"UMAP\")"
      ],
      "outputs": [],
      "execution_count": null,
      "metadata": {
        "tags": [],
        "vscode": {
          "languageId": "r"
        }
      },
      "id": "6f714a02-f22d-42e9-8e3d-13034153ea77"
    },
    {
      "cell_type": "code",
      "source": [
        "so_ref_atac@meta.data %>% colnames()"
      ],
      "outputs": [],
      "execution_count": null,
      "metadata": {
        "vscode": {
          "languageId": "r"
        }
      },
      "id": "58744dfc-6a15-4f85-8d0b-fe54f61bc05c"
    },
    {
      "cell_type": "code",
      "source": [
        "options(repr.plot.width = 20, repr.plot.height = 10)\n",
        "p1 <- DimPlot(so_ref_atac, group.by = 'clean_l2_cell_types', cols = cluster_colors_ext, \n",
        "              shuffle = TRUE, raster=FALSE,\n",
        "              label = T, reduction = 'ArchR_UMAP') + NoLegend()\n",
        "p2 <- DimPlot(so_ref_atac, group.by = 'clean_l2_cell_types', cols = cluster_colors_ext, \n",
        "              shuffle = TRUE, raster=FALSE,\n",
        "              label = T, reduction = 'umap') + NoLegend()\n",
        "p1+p2\n",
        "ggsave(file.path(fig_path, paste0(proj_name, '_refso_diff_features_vs_archr_umap.pdf')), width=12, height=6)"
      ],
      "outputs": [],
      "execution_count": null,
      "metadata": {
        "vscode": {
          "languageId": "r"
        }
      },
      "id": "6b4b00fa-7f1c-47be-9bf4-1189836e4c8d"
    },
    {
      "cell_type": "code",
      "source": [
        "# find marker features for different group of cells\n",
        "clusterMarkers <- getMarkerFeatures(ra_atac, useMatrix = \"PeakMatrix\", \n",
        "                                    groupBy = 'clean_l2_cell_types',\n",
        "                                    maxCells = 1000,\n",
        "                                    binarize = FALSE)"
      ],
      "outputs": [],
      "execution_count": null,
      "metadata": {
        "vscode": {
          "languageId": "r"
        }
      },
      "id": "04ec08df-f9c5-49dd-88d2-2624ce2e2642"
    },
    {
      "cell_type": "code",
      "source": [
        "# get the peak features to differentiate cell types\n",
        "threshold = \"FDR <= 0.05 & Log2FC>0.25\"\n",
        "clustermarkersf <- getMarkers(clusterMarkers, cutOff = threshold)\n",
        "allFeatures = rbindlist(lapply(seq_along(clustermarkersf), function(x){\n",
        "    clustermarkersf[[x]] %>% as.data.frame() %>% \n",
        "        dplyr::mutate(end = start + 500)\n",
        "    })) %>% makeGRangesFromDataFrame(.,keep.extra.columns= TRUE) %>%\n",
        "                plyranges::group_by(idx) %>% plyranges::reduce_ranges()"
      ],
      "outputs": [],
      "execution_count": null,
      "metadata": {
        "vscode": {
          "languageId": "r"
        }
      },
      "id": "4e0544b9-8e4c-4f1d-adfa-5c03ec24ab85"
    },
    {
      "cell_type": "code",
      "source": [
        "## Create new feature matrix with important info on groups. \n",
        "ra_atac <- addFeatureMatrix(ra_atac, matrixName = \"TransferPeakMatrix\", features = allFeatures, binarize = FALSE)\n",
        "saveArchRProject(ra_atac)"
      ],
      "outputs": [],
      "execution_count": null,
      "metadata": {
        "tags": [],
        "vscode": {
          "languageId": "r"
        }
      },
      "id": "05f5c3f9-e6a7-450a-b28d-d050d0ed65dc"
    },
    {
      "cell_type": "code",
      "source": [
        "# get the peak matrix of teaseq\n"
      ],
      "outputs": [],
      "execution_count": null,
      "metadata": {
        "vscode": {
          "languageId": "r"
        }
      },
      "id": "5d44deeb-2ceb-4135-8f94-b2af2f791309"
    },
    {
      "cell_type": "code",
      "source": [
        "suppressPackageStartupMessages(source('/home/jupyter/github/scATAC_Supplements/scATAC_CellTypeLabeling.R'))"
      ],
      "outputs": [],
      "execution_count": null,
      "metadata": {
        "vscode": {
          "languageId": "r"
        }
      },
      "id": "30e920ad-79a9-4552-ac46-665b233ea3e9"
    },
    {
      "cell_type": "code",
      "source": [
        "RefSE <- SeuratFromArchR(ra_atac, type = \"other\", Matrix = \"TransferPeakMatrix\", \n",
        "                         reduction = 'IterativeLSI',\n",
        "                         projectName =\"ArchRToSeurat\", features = allFeatures,\n",
        "                          addUMAP = \"UMAP\")\n",
        "\n",
        "# RefSE@assays$ATAC@var.features = rownames(RefSE)\n",
        "# RefSE <- RunTFIDF(RefSE)\n",
        "# RefSE <- RunSVD(RefSE)\n",
        "# RefSE <- RunUMAP(RefSE, reduction = \"lsi\", dims = 2:50, return.model = TRUE)\n",
        "\n",
        "# rownames(RefSE@meta.data) <- Cells(RefSE)   \n",
        "        \n",
        "# saveRDS(RefSE, paste(getOutputDirectory(ArchR),\"/ReferenceSeurat.RDS\", sep = \"\"))"
      ],
      "outputs": [],
      "execution_count": null,
      "metadata": {
        "vscode": {
          "languageId": "r"
        }
      },
      "id": "90f58660-3932-4ef9-934d-9f6fcbc4f61c"
    },
    {
      "cell_type": "code",
      "source": [
        "RefSE@assays$ATAC@var.features = rownames(RefSE)\n",
        "RefSE <- RunTFIDF(RefSE)\n",
        "RefSE <- RunSVD(RefSE)\n",
        "RefSE <- RunUMAP(RefSE, reduction = \"lsi\", dims = 2:50, return.model = TRUE)\n",
        "\n",
        "rownames(RefSE@meta.data) <- Cells(RefSE)   "
      ],
      "outputs": [],
      "execution_count": null,
      "metadata": {
        "tags": [],
        "vscode": {
          "languageId": "r"
        }
      },
      "id": "3088c367-c579-4e13-a82a-6be64a949fb2"
    },
    {
      "cell_type": "code",
      "source": [
        "RefSE@meta.data %>% colnames()\n",
        "RefSE"
      ],
      "outputs": [],
      "execution_count": null,
      "metadata": {
        "vscode": {
          "languageId": "r"
        }
      },
      "id": "bbf2e89a-212f-4edf-a7d1-e4ba4d986084"
    },
    {
      "cell_type": "code",
      "source": [
        "options(repr.plot.width = 20, repr.plot.height = 10)\n",
        "p1 <- DimPlot(RefSE, group.by = 'clean_l2_cell_types', cols = cluster_colors_ext, \n",
        "              shuffle = TRUE, raster=FALSE,\n",
        "              label = T, reduction = 'ArchR_UMAP') + NoLegend()\n",
        "p2 <- DimPlot(RefSE, group.by = 'clean_l2_cell_types', cols = cluster_colors_ext, \n",
        "              shuffle = TRUE, raster=FALSE,\n",
        "              label = T, reduction = 'umap') + NoLegend()\n",
        "p1+p2\n",
        "ggsave(file.path(fig_path, paste0(proj_name, '_refso_diff_features_vs_archr_umap.pdf')), width=12, height=6)"
      ],
      "outputs": [],
      "execution_count": null,
      "metadata": {
        "vscode": {
          "languageId": "r"
        }
      },
      "id": "31e23d2a-faed-462a-832e-8bb02502bba8"
    },
    {
      "cell_type": "code",
      "source": [
        "options(repr.plot.width = 20, repr.plot.height = 15)\n",
        "p1 <- DimPlot(RefSE, label = T, reduction = 'umap', shuffle = TRUE, raster=TRUE, group.by = 'Clusters') + NoLegend()\n",
        "p2 <- DimPlot(RefSE, group.by = 'clean_l2_cell_types', cols = cluster_colors_ext, \n",
        "              shuffle = TRUE, raster=TRUE,\n",
        "              label = T, reduction = 'umap')\n",
        "p4 <- DimPlot(RefSE, group.by = 'subject_id', \n",
        "               shuffle = TRUE, raster=TRUE,\n",
        "              reduction = 'umap', label = T) \n",
        "p3 <- DimPlot(RefSE, group.by = 'cohort',cols = nejm_color, shuffle = TRUE, raster=TRUE,\n",
        "              reduction = 'umap')\n",
        "p1+p2+p3+p4\n",
        "ggsave(file.path(fig_path, paste0(proj_name, '_refso_diff_features_umap.pdf')), width=12, height=8)"
      ],
      "outputs": [],
      "execution_count": null,
      "metadata": {
        "vscode": {
          "languageId": "r"
        }
      },
      "id": "a184f2fd-b829-41a4-8d29-b05b7333fa53"
    },
    {
      "cell_type": "code",
      "source": [
        "options(repr.plot.width = 20, repr.plot.height = 15)\n",
        "p1 <- DimPlot(RefSE, label = T, reduction = 'ArchR_UMAP', shuffle = TRUE, \n",
        "              raster=TRUE, group.by = 'Clusters') + NoLegend()\n",
        "p2 <- DimPlot(RefSE, group.by = 'clean_l2_cell_types', cols = cluster_colors_ext, \n",
        "              shuffle = TRUE, raster=TRUE,\n",
        "              label = T, reduction = 'ArchR_UMAP')\n",
        "p4 <- DimPlot(RefSE, group.by = 'subject_id', \n",
        "               shuffle = TRUE, raster=TRUE,\n",
        "              reduction = 'ArchR_UMAP', label = T) \n",
        "p3 <- DimPlot(RefSE, group.by = 'cohort',cols = nejm_color, shuffle = TRUE, raster=TRUE,\n",
        "              reduction = 'ArchR_UMAP')\n",
        "p1+p2+p3+p4\n",
        "ggsave(file.path(fig_path, paste0(proj_name, '_refso_ArchR_UMAP.pdf')), width=12, height=8)"
      ],
      "outputs": [],
      "execution_count": null,
      "metadata": {
        "vscode": {
          "languageId": "r"
        }
      },
      "id": "4204ae63-debb-4390-ac46-98850bbb5d88"
    },
    {
      "cell_type": "code",
      "source": [
        "RefSE %>% saveRDS(file.path(output_path, paste0(proj_name, '_l2_cell_types_atac_seurat_ref.rds')))"
      ],
      "outputs": [],
      "execution_count": null,
      "metadata": {
        "vscode": {
          "languageId": "r"
        }
      },
      "id": "a73dc62b-e7cd-433b-b687-095e8b1237ad"
    },
    {
      "cell_type": "code",
      "source": [
        "heatmapGS <- plotMarkerHeatmap(\n",
        "  seMarker = clusterMarkers, \n",
        "  cutOff = \"FDR <= 0.01 & Log2FC >= 0.5\", \n",
        "  #labelMarkers = markerGenes,\n",
        "  transpose = TRUE\n",
        ")\n",
        "pdf(file.path(fig_path, paste0(proj_name, '_refso_ArchR_diff_heatmap.pdf')), width=12, height=8)\n",
        "ComplexHeatmap::draw(heatmapGS, heatmap_legend_side = \"bot\", annotation_legend_side = \"bot\")\n",
        "dev.off()"
      ],
      "outputs": [],
      "execution_count": null,
      "metadata": {
        "tags": [],
        "vscode": {
          "languageId": "r"
        }
      },
      "id": "45e53777-b8e4-4fce-82b2-70bb30026df9"
    },
    {
      "cell_type": "markdown",
      "source": [
        "### motif enrichment by chromVAR by cell types"
      ],
      "metadata": {
        "tags": []
      },
      "id": "01d537ce-6a85-4cc5-a86e-0f82a57d25ae"
    },
    {
      "cell_type": "code",
      "source": [
        "library(chromVAR)\n",
        "library(motifmatchr)\n",
        "library(BSgenome.Hsapiens.UCSC.hg38)\n",
        "library(BiocParallel)\n",
        "set.seed(2017)\n",
        "library(Matrix)"
      ],
      "outputs": [],
      "execution_count": null,
      "metadata": {
        "vscode": {
          "languageId": "r"
        }
      },
      "id": "7eff32c2-bd3c-4ac1-921e-2f0916a3315c"
    },
    {
      "cell_type": "code",
      "source": [
        "register(MulticoreParam(58, progressbar = TRUE))"
      ],
      "outputs": [],
      "execution_count": null,
      "metadata": {
        "vscode": {
          "languageId": "r"
        }
      },
      "id": "a2237cd5-78bc-40ec-90b3-7c23ddd42ad6"
    },
    {
      "cell_type": "code",
      "source": [
        "SampleTileMatricesAnnotated"
      ],
      "outputs": [],
      "execution_count": null,
      "metadata": {
        "vscode": {
          "languageId": "r"
        }
      },
      "id": "40f96823-8269-46ec-955d-6ba5f73f1933"
    },
    {
      "cell_type": "code",
      "source": [
        "#Getting GC content of peaks\n",
        "SampleTileMatricesAnnotated <- addGCBias(SampleTileMatricesAnnotated, \n",
        "                            genome = BSgenome.Hsapiens.UCSC.hg38)"
      ],
      "outputs": [],
      "execution_count": null,
      "metadata": {
        "vscode": {
          "languageId": "r"
        }
      },
      "id": "c605d5c4-b100-4998-b72f-1397a1431094"
    },
    {
      "cell_type": "code",
      "source": [
        "SampleTileMatricesAnnotated"
      ],
      "outputs": [],
      "execution_count": null,
      "metadata": {
        "vscode": {
          "languageId": "r"
        }
      },
      "id": "093a1ab5-4c72-417f-9ec1-c740bfad8e3a"
    },
    {
      "cell_type": "code",
      "source": [
        "# get mofit annotation\n",
        "CisbpAnno <- chromVAR::getAnnotations(metadata(SampleTileMatricesAnnotated)$Motifs, \n",
        "                                      rowRanges = rowRanges(SampleTileMatricesAnnotated))"
      ],
      "outputs": [],
      "execution_count": null,
      "metadata": {
        "tags": [],
        "vscode": {
          "languageId": "r"
        }
      },
      "id": "ad696b92-6526-4853-82c8-9e6a9bfa7c01"
    },
    {
      "cell_type": "code",
      "source": [
        "# Filtering inputs\n",
        "#find indices of samples to keep\n",
        "# sampleTileMatrics_cd4na <- filterSamples(sampleTileMatrics_cd4na, min_depth = 1500, \n",
        "#                                  min_in_peaks = 0.15, shiny = FALSE)\n",
        "# sampleTileMatrics_cd4na <- chromVAR::filterPeaks(sampleTileMatrics_cd4na, non_overlapping = TRUE)\n"
      ],
      "outputs": [],
      "execution_count": null,
      "metadata": {
        "vscode": {
          "languageId": "r"
        }
      },
      "id": "b805c466-8187-4c0a-873d-6acee871c263"
    },
    {
      "cell_type": "code",
      "source": [
        "SampleTileMatricesAnnotated"
      ],
      "outputs": [],
      "execution_count": null,
      "metadata": {
        "vscode": {
          "languageId": "r"
        }
      },
      "id": "9094eda5-b0c4-42cc-bb0a-d529eb8b512c"
    },
    {
      "cell_type": "code",
      "source": [
        "source('/home/jupyter/github/ChAI/R/makeChromVAR.R')"
      ],
      "outputs": [],
      "execution_count": null,
      "metadata": {
        "vscode": {
          "languageId": "r"
        }
      },
      "id": "79d6be34-a6f1-4022-9b28-2b07ce6c391b"
    },
    {
      "cell_type": "code",
      "source": [
        "cellPopulation <- rowData(SampleTileMatricesAnnotated) %>% colnames()\n",
        "cellPopulation"
      ],
      "outputs": [],
      "execution_count": null,
      "metadata": {
        "vscode": {
          "languageId": "r"
        }
      },
      "id": "15d50cc6-9a3c-4716-bea5-882aaa626c6f"
    },
    {
      "cell_type": "code",
      "source": [
        "# run the diviation scores\n",
        "l2_chromvar <- makeChromVAR(atacSE = SampleTileMatricesAnnotated, \n",
        "                            cellPopulation = 'cd8_naive',\n",
        "                           motifName='Motifs',\n",
        "                            numCores =60)"
      ],
      "outputs": [],
      "execution_count": null,
      "metadata": {
        "vscode": {
          "languageId": "r"
        }
      },
      "id": "607900e4-38e5-4d52-a945-9065d7f41f2b"
    },
    {
      "cell_type": "code",
      "source": [
        "# run the diviation scores\n",
        "cd4na_dev <- chromVAR::computeDeviations(object = SampleTileMatricesAnnotated, \n",
        "                         annotations = CisbpAnno)"
      ],
      "outputs": [],
      "execution_count": null,
      "metadata": {
        "vscode": {
          "languageId": "r"
        }
      },
      "id": "e901b435-7016-41b6-8dbd-dac9cf8e8b39"
    },
    {
      "cell_type": "code",
      "source": [
        "sampleTileMatrics_cd4na_fl"
      ],
      "outputs": [],
      "execution_count": null,
      "metadata": {
        "vscode": {
          "languageId": "r"
        }
      },
      "id": "d36c3e7b-2d85-4fb3-b2f9-34658b7f54bc"
    },
    {
      "cell_type": "code",
      "source": [
        "motifs <- getJasparMotifs()\n",
        "motif_cd4na <- matchMotifs(motifs, sampleTileMatrics_cd4na_fl, \n",
        "                        genome = BSgenome.Hsapiens.UCSC.hg38)"
      ],
      "outputs": [],
      "execution_count": null,
      "metadata": {
        "vscode": {
          "languageId": "r"
        }
      },
      "id": "f2675055-7aa6-4545-bff4-97d07d74529b"
    },
    {
      "cell_type": "code",
      "source": [
        "bg <- getBackgroundPeaks(object = sampleTileMatrics_cd4na_fl)\n",
        "\n",
        "motif_cd4na_dev <- computeDeviations(object = sampleTileMatrics_cd4na_fl, annotations = motif_cd4na,\n",
        "                                    background_peaks = bg)\n"
      ],
      "outputs": [],
      "execution_count": null,
      "metadata": {
        "vscode": {
          "languageId": "r"
        }
      },
      "id": "a01d893b-172c-4791-9cd3-af5be9d6ba3d"
    },
    {
      "cell_type": "code",
      "source": [
        "variability <- computeVariability(motif_cd4na_dev)\n",
        "plotVariability(variability, use_plotly = FALSE)"
      ],
      "outputs": [],
      "execution_count": null,
      "metadata": {
        "vscode": {
          "languageId": "r"
        }
      },
      "id": "9a5b07c8-2794-42d2-be95-916909b62619"
    },
    {
      "cell_type": "code",
      "source": [
        "row_anno <- colData(motif_cd4na_dev)[, c('subject_id','cohort')] %>% as.data.frame()\n",
        "row.names(row_anno) <- row.names(colData(motif_cd4na_dev))\n",
        "row_anno"
      ],
      "outputs": [],
      "execution_count": null,
      "metadata": {
        "vscode": {
          "languageId": "r"
        }
      },
      "id": "b7fa8483-1855-46f1-a96b-166dad23b07c"
    },
    {
      "cell_type": "code",
      "source": [
        "sample_cor <- getSampleCorrelation(motif_cd4na_dev)\n",
        "\n",
        "library(pheatmap)\n",
        "pheatmap(as.dist(sample_cor), \n",
        "         annotation_row = row_anno,\n",
        "         clustering_distance_rows = as.dist(1-sample_cor), \n",
        "         clustering_distance_cols = as.dist(1-sample_cor)\n",
        "        )"
      ],
      "outputs": [],
      "execution_count": null,
      "metadata": {
        "vscode": {
          "languageId": "r"
        }
      },
      "id": "5f49fda1-f1cd-410e-b27a-7629fe8fd6f0"
    },
    {
      "cell_type": "code",
      "source": [
        "diff_acc <- differentialDeviations(motif_cd4na_dev, \"cohort\")\n",
        "diff_acc %>% filter(p_value<0.01)"
      ],
      "outputs": [],
      "execution_count": null,
      "metadata": {
        "vscode": {
          "languageId": "r"
        }
      },
      "id": "727812cb-35f3-4b8a-bc19-ea4b4ddc59d6"
    },
    {
      "cell_type": "code",
      "source": [],
      "outputs": [],
      "execution_count": null,
      "metadata": {
        "vscode": {
          "languageId": "r"
        }
      },
      "id": "41a02f2c-e422-45e5-8047-8ee1b1d3dc8d"
    },
    {
      "cell_type": "code",
      "source": [],
      "outputs": [],
      "execution_count": null,
      "metadata": {
        "vscode": {
          "languageId": "r"
        }
      },
      "id": "ac796a5e-39d5-4e81-a89f-75fc04641857"
    },
    {
      "cell_type": "code",
      "source": [
        "# Motif Enrichment in Differential Peaks\n",
        "ra_atac <- addMotifAnnotations(ArchRProj = ra_atac, motifSet = \"cisbp\", name = \"Motif\")"
      ],
      "outputs": [],
      "execution_count": null,
      "metadata": {
        "vscode": {
          "languageId": "r"
        }
      },
      "id": "35e07148-2f4f-4e51-b23f-19721e20ecad"
    },
    {
      "cell_type": "code",
      "source": [
        "# identify the enriched motif\n",
        "motifsUp <- peakAnnoEnrichment(\n",
        "    seMarker = l2_cell_types_Peaks,\n",
        "    ArchRProj = ra_atac,\n",
        "    peakAnnotation = \"Motif\",\n",
        "    cutOff = \"FDR <= 0.1 & Log2FC >= 0.5\"\n",
        "  )"
      ],
      "outputs": [],
      "execution_count": null,
      "metadata": {
        "vscode": {
          "languageId": "r"
        }
      },
      "id": "f4e7a6df-6c8d-4d20-988d-3ccd514e6a4a"
    },
    {
      "cell_type": "code",
      "source": [
        "heatmapEM <- plotEnrichHeatmap(motifsUp, n = 5, transpose = TRUE)\n",
        "ComplexHeatmap::draw(heatmapEM, heatmap_legend_side = \"bot\", annotation_legend_side = \"bot\")\n",
        "plotPDF(heatmapEM, name = \"l2_cell_types_Peaks_Motif-Heatmap\", \n",
        "        width = 8, height = 6, ArchRProj = ra_atac, addDOC = FALSE)"
      ],
      "outputs": [],
      "execution_count": null,
      "metadata": {
        "vscode": {
          "languageId": "r"
        }
      },
      "id": "1c4bd418-c631-4b87-8b37-70567ae90e9f"
    },
    {
      "cell_type": "code",
      "source": [
        "# add Encode TF Binding Sites\n",
        "ra_atac <- addArchRAnnotations(ArchRProj = ra_atac, collection = \"EncodeTFBS\")"
      ],
      "outputs": [],
      "execution_count": null,
      "metadata": {
        "vscode": {
          "languageId": "r"
        }
      },
      "id": "e30416f0-2e9c-4f3f-b2ec-7fc312324df0"
    },
    {
      "cell_type": "code",
      "source": [
        "enrichEncode <- peakAnnoEnrichment(\n",
        "    seMarker = l2_cell_types_Peaks,\n",
        "    ArchRProj = ra_atac,\n",
        "    peakAnnotation = \"EncodeTFBS\",\n",
        "    cutOff = \"FDR <= 0.1 & Log2FC >= 0.5\"\n",
        "  )"
      ],
      "outputs": [],
      "execution_count": null,
      "metadata": {
        "vscode": {
          "languageId": "r"
        }
      },
      "id": "5a91bbf8-32fe-48bd-9242-673a9680c24f"
    },
    {
      "cell_type": "code",
      "source": [
        "heatmapEncode <- plotEnrichHeatmap(enrichEncode, n = 7, transpose = TRUE)\n",
        "ComplexHeatmap::draw(heatmapEncode, heatmap_legend_side = \"bot\", annotation_legend_side = \"bot\")\n",
        "plotPDF(heatmapEncode, name = \"EncodeTFBS-Enriched-l2_cell_types_Markers-Heatmap\", width = 8, height = 6, \n",
        "        ArchRProj = ra_atac, addDOC = FALSE)"
      ],
      "outputs": [],
      "execution_count": null,
      "metadata": {
        "vscode": {
          "languageId": "r"
        }
      },
      "id": "a50f4bde-e404-417e-9544-bafbc548ef7b"
    },
    {
      "cell_type": "code",
      "source": [
        "ra_atac_fl"
      ],
      "outputs": [],
      "execution_count": null,
      "metadata": {
        "vscode": {
          "languageId": "r"
        }
      },
      "id": "e133f02f-5957-4b74-a09d-d3f6d69a47bf"
    },
    {
      "cell_type": "code",
      "source": [
        "# Motif Deviations\n",
        "ra_atac <- addBgdPeaks(ra_atac_fl)"
      ],
      "outputs": [],
      "execution_count": null,
      "metadata": {
        "vscode": {
          "languageId": "r"
        }
      },
      "id": "fcc2c561-1c67-4add-ae67-dfe439163c41"
    },
    {
      "cell_type": "code",
      "source": [
        "ra_atac <- addDeviationsMatrix(\n",
        "  ArchRProj = ra_atac, \n",
        "  peakAnnotation = \"Motif\",\n",
        "  force = TRUE\n",
        ")"
      ],
      "outputs": [],
      "execution_count": null,
      "metadata": {
        "vscode": {
          "languageId": "r"
        }
      },
      "id": "29089662-1134-403f-9135-a642bba50463"
    },
    {
      "cell_type": "code",
      "source": [
        "getAvailableMatrices(ra_atac_fl)"
      ],
      "outputs": [],
      "execution_count": null,
      "metadata": {
        "vscode": {
          "languageId": "r"
        }
      },
      "id": "793b2da5-478b-43a4-99fe-7c52e1482b56"
    },
    {
      "cell_type": "code",
      "source": [
        "saveArchRProject(ArchRProj = ra_atac_fl)"
      ],
      "outputs": [],
      "execution_count": null,
      "metadata": {
        "vscode": {
          "languageId": "r"
        }
      },
      "id": "91ffdb48-a173-44b4-97e3-028a97b2ab2b"
    },
    {
      "cell_type": "markdown",
      "source": [
        "### plot TF scores in all cell types"
      ],
      "metadata": {},
      "id": "37c9b482-e803-4b29-a0de-de3c72a14613"
    },
    {
      "cell_type": "code",
      "source": [
        "# get motif matrix \n",
        "ra_atac_chromvar <- getMatrixFromProject(ArchRProj = ra_atac_fl, useMatrix = \"MotifMatrix\")"
      ],
      "outputs": [],
      "execution_count": null,
      "metadata": {
        "vscode": {
          "languageId": "r"
        }
      },
      "id": "4a7c7479-a2c8-46f6-b756-567ea08f8495"
    },
    {
      "cell_type": "code",
      "source": [
        "# ra_atac_chromvar <- as(ra_atac_chromvar, \"SingleCellExperiment\")\n",
        "ra_atac_chromvar"
      ],
      "outputs": [],
      "execution_count": null,
      "metadata": {
        "vscode": {
          "languageId": "r"
        }
      },
      "id": "27c5b8af-6c43-4c2a-bf9a-35b7ec265b94"
    },
    {
      "cell_type": "code",
      "source": [
        "colData(ra_atac_chromvar)%>%as_tibble()%>%colnames()"
      ],
      "outputs": [],
      "execution_count": null,
      "metadata": {
        "vscode": {
          "languageId": "r"
        }
      },
      "id": "c166ae10-d1a8-4952-9dfc-dbf48aba06ec"
    },
    {
      "cell_type": "code",
      "source": [
        "# extract the z_scores \n",
        "metadata<-colData(ra_atac_chromvar)%>%as_tibble()%>%\n",
        "    dplyr::select(c(barcodes, subject_id, cohort, clean_l2_cell_types))\n",
        "ra_atac_chromvar_z <- assay(ra_atac_chromvar, 'z')\n",
        "colnames(ra_atac_chromvar_z) = str_split(colnames(ra_atac_chromvar_z), pattern = '#',simplify = TRUE)[, 2]\n",
        "ra_atac_chromvar_z <- ra_atac_chromvar_z %>%t()%>%as_tibble(rownames = 'barcodes') %>%\n",
        "    left_join(metadata, by='barcodes')# join the metadate\n",
        "ra_atac_chromvar_z %>%head()"
      ],
      "outputs": [],
      "execution_count": null,
      "metadata": {
        "vscode": {
          "languageId": "r"
        }
      },
      "id": "053e6d16-97d6-4b38-af9d-f8aa488f4600"
    },
    {
      "cell_type": "code",
      "source": [
        "colnames(ra_atac_chromvar_z)%>%str_subset('SOX4')"
      ],
      "outputs": [],
      "execution_count": null,
      "metadata": {
        "vscode": {
          "languageId": "r"
        }
      },
      "id": "0ba45424-1fdc-48a6-8a02-8397e17b30a6"
    },
    {
      "cell_type": "code",
      "source": [
        "ra_atac_chromvar_z%>%ggplot(aes(y=clean_l2_cell_types, x=BCL6_187, fill=clean_l2_cell_types))+ geom_density_ridges()\n"
      ],
      "outputs": [],
      "execution_count": null,
      "metadata": {
        "vscode": {
          "languageId": "r"
        }
      },
      "id": "22781e2c-d576-48a3-b91b-3bcf11cb8bb8"
    },
    {
      "cell_type": "code",
      "source": [
        "# plot TF scores in all cell types\n",
        "motifs <- c('RORC', 'TBX21', 'IKZF2', 'FOXP3', 'STAT3', 'STAT5', 'BCL6','PRDM1', 'JUND', 'SOX4', 'MAF')\n",
        "#motifs <-plotVarDev %>% as_tibble() %>% distinct(name) %>% pull(name)\n",
        "markerMotifs <- getFeatures(ra_atac_fl, select = paste(motifs, collapse=\"|\"), useMatrix = \"MotifMatrix\")\n",
        "markerMotifs\n",
        "markerMotifs <- grep(\"z:\", markerMotifs, value = TRUE)\n",
        "markerMotifs"
      ],
      "outputs": [],
      "execution_count": null,
      "metadata": {
        "vscode": {
          "languageId": "r"
        }
      },
      "id": "8cdf79a6-ac4f-4de6-b912-2dd547300ac4"
    },
    {
      "cell_type": "code",
      "source": [
        "ra_atac_fl"
      ],
      "outputs": [],
      "execution_count": null,
      "metadata": {
        "vscode": {
          "languageId": "r"
        }
      },
      "id": "6b1325d6-0f5a-4278-9095-4c956a5de692"
    },
    {
      "cell_type": "code",
      "source": [
        "p <- plotGroups(ArchRProj = ra_atac_fl, \n",
        "  groupBy = \"clean_l2_cell_types\", \n",
        "  colorBy = \"MotifMatrix\", \n",
        "  name = 'z:FOXP3_348',\n",
        "                maxCells = 5000,\n",
        "  imputeWeights = getImputeWeights(ra_atac_fl)\n",
        ")\n",
        "p"
      ],
      "outputs": [],
      "execution_count": null,
      "metadata": {
        "vscode": {
          "languageId": "r"
        }
      },
      "id": "caedaa97-a5e0-4bf7-a3f6-9f9b7e9066c1"
    },
    {
      "cell_type": "code",
      "source": [
        "# load the atac clusters in cd4 t cells and visulize the tf deviation \n",
        "# load cluster identity in archr and load in mudata\n",
        "cd4_archr_cluster = read_csv('/home/jupyter/data/preRA_teaseq/output_results/cd4_t/atac/PreRA_teaseq_cd4_t_atac_Clusters_0.8_cluster_barcodes.csv')\n",
        "cd4_archr_cluster%>%head()"
      ],
      "outputs": [],
      "execution_count": null,
      "metadata": {
        "vscode": {
          "languageId": "r"
        }
      },
      "id": "488a1612-cfc1-43a3-be76-fd69c7895a6f"
    },
    {
      "cell_type": "code",
      "source": [
        "cd4_chromvar_z <- ra_atac_chromvar_z%>%inner_join(cd4_archr_cluster, 'barcodes')\n",
        "cd4_chromvar_z%>%head()"
      ],
      "outputs": [],
      "execution_count": null,
      "metadata": {
        "vscode": {
          "languageId": "r"
        }
      },
      "id": "b5b266c9-6607-4a80-baf8-dab6f6e6b7df"
    },
    {
      "cell_type": "code",
      "source": [
        "# take a long table for tfs\n",
        "cd4_chromvar_zlong <- cd4_chromvar_z%>%\n",
        "    pivot_longer(cols = TFAP2B_1:TBX22_870, names_to = 'tf', values_to = 'z_scores')%>%\n",
        "    mutate(C2=(Archr_Clusters_0_8=='C2'))"
      ],
      "outputs": [],
      "execution_count": null,
      "metadata": {
        "vscode": {
          "languageId": "r"
        }
      },
      "id": "3ece98e5-a51d-4eb9-b39c-99e9b012340e"
    },
    {
      "cell_type": "code",
      "source": [
        "cd4_chromvar_zlong%>%head()"
      ],
      "outputs": [],
      "execution_count": null,
      "metadata": {
        "vscode": {
          "languageId": "r"
        }
      },
      "id": "874dbf5c-9793-472e-a863-0f9ee5813304"
    },
    {
      "cell_type": "code",
      "source": [
        "'z:TBX21_780', \n",
        "'z:STAT5B_779', \n",
        "'z:STAT3_777', \n",
        "'z:STAT5A_774', \n",
        "'z:SOX4_754', \n",
        "'z:RORC_681', \n",
        "'z:FOXP3_348', \n",
        "'z:BCL6B_218', 'z:PRDM16_211''z:BCL6_187''z:PRDM1_163''z:MAFB_150''z:MAFK_149''z:MAFG_148''z:MAFF_147''z:MAFA_146''z:MAF_144''z:JUND_124'"
      ],
      "outputs": [],
      "execution_count": null,
      "metadata": {
        "vscode": {
          "languageId": "r"
        }
      },
      "id": "810ea384-13e7-42de-a649-8ee49a88385e"
    },
    {
      "cell_type": "code",
      "source": [
        "motif_list<-c('TBX21_780', 'STAT5B_779', 'STAT3_777', 'SOX4_754', 'RORC_681', 'FOXP3_348',\n",
        "             'PRDM1_163', 'BCL6_187', 'MAF_144', 'JUND_124')"
      ],
      "outputs": [],
      "execution_count": null,
      "metadata": {
        "vscode": {
          "languageId": "r"
        }
      },
      "id": "303c759c-c174-4fe1-9ed2-bb7f2423e491"
    },
    {
      "cell_type": "code",
      "source": [
        "cd4_chromvar_test<- cd4_chromvar_zlong%>%filter(tf%in%motif_list)%>%group_by(tf)%>%\n",
        "    rstatix::anova_test(z_scores~Archr_Clusters_0_8)"
      ],
      "outputs": [],
      "execution_count": null,
      "metadata": {
        "vscode": {
          "languageId": "r"
        }
      },
      "id": "b3b30b3e-49f9-4adc-b7e3-405744a4a26b"
    },
    {
      "cell_type": "code",
      "source": [
        "cd4_chromvar_test"
      ],
      "outputs": [],
      "execution_count": null,
      "metadata": {
        "vscode": {
          "languageId": "r"
        }
      },
      "id": "da59b6ac-b57b-4c61-a100-fd424186c42e"
    },
    {
      "cell_type": "code",
      "source": [
        "cd4_chromvar_z%>%ggplot(aes(y=Archr_Clusters_0_8, \n",
        "                            x=MAF_144, fill=Archr_Clusters_0_8))+ geom_density_ridges()\n"
      ],
      "outputs": [],
      "execution_count": null,
      "metadata": {
        "vscode": {
          "languageId": "r"
        }
      },
      "id": "41d0f42b-8da1-43b3-ac83-8bda34f9adbd"
    },
    {
      "cell_type": "code",
      "source": [],
      "outputs": [],
      "execution_count": null,
      "metadata": {
        "vscode": {
          "languageId": "r"
        }
      },
      "id": "d1ed39a7-ba28-436e-96af-31abdcc68b41"
    },
    {
      "cell_type": "code",
      "source": [],
      "outputs": [],
      "execution_count": null,
      "metadata": {
        "vscode": {
          "languageId": "r"
        }
      },
      "id": "a24a5f1e-7cb3-4b29-b792-9131648adac4"
    },
    {
      "cell_type": "markdown",
      "source": [
        "### add ATAC data into the seurat object via Signac"
      ],
      "metadata": {},
      "id": "9d1b16d3-4453-4f37-9564-6e25cfa6d832"
    },
    {
      "cell_type": "code",
      "source": [
        "getAvailableMatrices(ra_atac)"
      ],
      "outputs": [],
      "execution_count": null,
      "metadata": {
        "vscode": {
          "languageId": "r"
        }
      },
      "id": "fd26cb6d-e275-4d7a-9721-4e09656b4b74"
    },
    {
      "cell_type": "code",
      "source": [
        "binarizeVar = FALSE\n",
        "GRangeFeatures <- getPeakSet(ra_atac)\n",
        "RangeIDs <- paste(seqnames(GRangeFeatures),\":\",start(GRangeFeatures),\"-\",end(GRangeFeatures),sep=\"\")\n",
        "assayType = \"ATAC\""
      ],
      "outputs": [],
      "execution_count": null,
      "metadata": {
        "vscode": {
          "languageId": "r"
        }
      },
      "id": "d7f9e591-f625-4505-bdcc-c1a2791dd043"
    },
    {
      "cell_type": "code",
      "source": [
        "dataMatrix <- getMatrixFromProject(ra_atac, useMatrix = 'PeakMatrix', binarize = binarizeVar)\n"
      ],
      "outputs": [],
      "execution_count": null,
      "metadata": {
        "vscode": {
          "languageId": "r"
        }
      },
      "id": "795f64cc-ee58-4388-b463-d5fc9c70d2f3"
    },
    {
      "cell_type": "code",
      "source": [
        "rownames(dataMatrix)<- RangeIDs\n",
        "counts2 <- assays(dataMatrix)[[1]]"
      ],
      "outputs": [],
      "execution_count": null,
      "metadata": {
        "vscode": {
          "languageId": "r"
        }
      },
      "id": "678de4bd-0406-4e76-ab4d-d7b7044bca6c"
    },
    {
      "cell_type": "code",
      "source": [
        "counts2 %>% dim()"
      ],
      "outputs": [],
      "execution_count": null,
      "metadata": {
        "vscode": {
          "languageId": "r"
        }
      },
      "id": "d2ac8cf3-b182-4b07-b37d-c2785d5348d0"
    },
    {
      "cell_type": "code",
      "source": [
        "# add group coverage\n",
        "ra_atac <- addGroupCoverages(ArchRProj = ra_atac, maxReplicates = 16,\n",
        "                                 groupBy = \"clean_l2_cell_types\")"
      ],
      "outputs": [],
      "execution_count": null,
      "metadata": {
        "vscode": {
          "languageId": "r"
        }
      },
      "id": "0d789d55-f8f3-4255-aa24-deca50521672"
    },
    {
      "cell_type": "markdown",
      "source": [
        "# load myeloid cells in pre-RA teaseq atac and do ananlysis"
      ],
      "metadata": {},
      "id": "2d8008f3-fcd4-49cb-a73d-6479050d91c7"
    },
    {
      "cell_type": "code",
      "source": [
        "# define work directories\n",
        "proj_path <- '/home/jupyter/data/preRA_teaseq/EXP-00243'\n",
        "setwd(proj_path)\n",
        "# define a project name\n",
        "proj_name <- 'preRA_tea_seq_myeloid_'\n",
        "fig_path <- as.character('/home/jupyter/figures/preRA_teaseq/ATAC/myeloid')\n",
        "if(!dir.exists(fig_path)) (dir.create(fig_path, recursive = TRUE))"
      ],
      "outputs": [],
      "execution_count": null,
      "metadata": {
        "vscode": {
          "languageId": "r"
        }
      },
      "id": "f1390228-5829-4dec-88f7-41e1436b68c9"
    },
    {
      "cell_type": "code",
      "source": [
        "# load the archr project with SubtypeA monocytes in the PreRA teaseq\n",
        "# load archR data\n",
        "ra_mye_atac <- loadArchRProject(path = '/home/jupyter/data/preRA_teaseq/EXP-00243/myeloid_cells')"
      ],
      "outputs": [],
      "execution_count": null,
      "metadata": {
        "vscode": {
          "languageId": "r"
        }
      },
      "id": "5c3763a7-ef3e-488a-a3ff-b09e11402eb4"
    },
    {
      "cell_type": "code",
      "source": [
        "# load the filetered myeloid data in\n",
        "ra_so_mye <- readRDS('/home/jupyter/data/preRA_teaseq/EXP-00243/PreRA_teaseq_seurat_myeloid_cells.rds')"
      ],
      "outputs": [],
      "execution_count": null,
      "metadata": {
        "vscode": {
          "languageId": "r"
        }
      },
      "id": "086f789d-929a-4459-8ad8-5722c72abc26"
    },
    {
      "cell_type": "code",
      "source": [
        "ra_so_mye@meta.data %>% colnames()\n",
        "getCellColData(ra_mye_atac)%>% colnames()"
      ],
      "outputs": [],
      "execution_count": null,
      "metadata": {
        "vscode": {
          "languageId": "r"
        }
      },
      "id": "092a5f56-8db9-4084-872d-f0c796e868fb"
    },
    {
      "cell_type": "code",
      "source": [
        "# rename the barcode to match the cell rownames\n",
        "ra_mye_atac$barcodes <- str_split(rownames(ra_mye_atac), '#', simplify = TRUE)[, 2]\n",
        "# ra_mye_atac@cellColData %>% as_tibble(rownames = 'atac_id') %>% select(atac_id, barcodes)"
      ],
      "outputs": [],
      "execution_count": null,
      "metadata": {
        "tags": [],
        "vscode": {
          "languageId": "r"
        }
      },
      "id": "b697bbf2-898b-4bd4-9796-b8688c7958d8"
    },
    {
      "cell_type": "code",
      "source": [
        "setequal(ra_mye_atac$barcodes,ra_so_mye@meta.data$barcodes)"
      ],
      "outputs": [],
      "execution_count": null,
      "metadata": {
        "vscode": {
          "languageId": "r"
        }
      },
      "id": "205356cf-0a3b-496f-bde5-6870c2531fcd"
    },
    {
      "cell_type": "code",
      "source": [
        "# # remove column from metadata\n",
        "# drops <- c('predicted.MonocyteSubsets','predicted.MonocyteSubsets.score','subject_id',\n",
        "#                              'cohort','total_pbmc_counts','Tiles_snn_res.0.8','wsnn_res.0.8', 'Tiles_snn_res.0.8_labels',\n",
        "#                              'Tiles_snn_res.1','Tiles_snn_res.1_labels')\n",
        "# cell_id <- ra_mye_atac@cellColData %>% rownames()\n",
        "# ra_mye_atac@cellColData <- ra_mye_atac@cellColData[,!(names(ra_mye_atac@cellColData) %in% drops)]\n",
        "# rownames(ra_mye_atac@cellColData) <- cell_id    "
      ],
      "outputs": [],
      "execution_count": null,
      "metadata": {
        "tags": [],
        "vscode": {
          "languageId": "r"
        }
      },
      "id": "40766194-5ef5-4281-b2e6-8b864265c608"
    },
    {
      "cell_type": "code",
      "source": [
        "rownames(getCellColData(ra_mye_atac) )[1:5]\n",
        "ra_mye_atac$barcodes[1:5]"
      ],
      "outputs": [],
      "execution_count": null,
      "metadata": {
        "vscode": {
          "languageId": "r"
        }
      },
      "id": "40a16e61-3e4f-4dd6-bf09-f9b749073b91"
    },
    {
      "cell_type": "code",
      "source": [
        "# add metadata from seurat to archr\n",
        "# ra_mye_atac <- MetaSotoArchr(archr=ra_mye_atac, so=ra_so_mye, \n",
        "#                            so.cols=c('barcodes', 'subject_id', 'cohort', \n",
        "#                                      'total_pbmc_counts','Tiles_snn_res.0.8', 'wsnn_res.0.8'), \n",
        "#                           id.col='barcodes')\n",
        "\n",
        "ra_mye_atac <- MetaSotoArchr(archr=ra_mye_atac, so=ra_so_mye, \n",
        "                           so.cols=c('Tiles_snn_res.1', 'predicted.MonocyteSubsets','predicted.MonocyteSubsets.score','subject_id',\n",
        "                                    'cohort','total_pbmc_counts','Tiles_snn_res.0.8', 'wsnn_res.0.8', 'predicted.celltype.l2',\n",
        "                                     'Tiles_snn_res.1'), \n",
        "                          id.col='barcodes')"
      ],
      "outputs": [],
      "execution_count": null,
      "metadata": {
        "vscode": {
          "languageId": "r"
        }
      },
      "id": "1204b6fd-e98e-48f3-8edf-92627e834662"
    },
    {
      "cell_type": "code",
      "source": [],
      "outputs": [],
      "execution_count": null,
      "metadata": {
        "vscode": {
          "languageId": "r"
        }
      },
      "id": "719441c0-8d68-4623-9c8e-d62f1d9f76df"
    },
    {
      "cell_type": "code",
      "source": [
        "# getReducedDims(ra_mye_atac)"
      ],
      "outputs": [],
      "execution_count": null,
      "metadata": {
        "vscode": {
          "languageId": "r"
        }
      },
      "id": "221c40db-8a55-471a-857c-86f576febf8b"
    },
    {
      "cell_type": "code",
      "source": [
        "# add lsi in atac\n",
        "ra_mye_atac <- addIterativeLSI(\n",
        "      ArchRProj = ra_mye_atac,\n",
        "      useMatrix = \"TileMatrix\", \n",
        "      name = \"IterativeLSI\", \n",
        "      iterations = 2,\n",
        "      #varFeatures = 75000, # increase the viable features\n",
        "      force = TRUE\n",
        "    )"
      ],
      "outputs": [],
      "execution_count": null,
      "metadata": {
        "vscode": {
          "languageId": "r"
        }
      },
      "id": "4fc4a80b-3ac2-45ec-958a-79e7e04f92be"
    },
    {
      "cell_type": "code",
      "source": [
        "# make umap from lsi\n",
        "ra_mye_atac <- addUMAP(ArchRProj = ra_mye_atac, \n",
        "                    reducedDims = \"IterativeLSI\", force = TRUE)"
      ],
      "outputs": [],
      "execution_count": null,
      "metadata": {
        "tags": [],
        "vscode": {
          "languageId": "r"
        }
      },
      "id": "0bf87783-838d-4089-b139-4592d59d8c48"
    },
    {
      "cell_type": "code",
      "source": [
        "ra_mye_atac <- addClusters(\n",
        "  input = ra_mye_atac,\n",
        "  reducedDims = \"IterativeLSI\",\n",
        "  method = \"Seurat\",\n",
        "  name = \"atacClusters_res.0.8\",\n",
        "  resolution = 0.8,\n",
        "  force = TRUE\n",
        ")"
      ],
      "outputs": [],
      "execution_count": null,
      "metadata": {
        "vscode": {
          "languageId": "r"
        }
      },
      "id": "6159859b-2759-4c73-b829-f2f3bf108dbd"
    },
    {
      "cell_type": "code",
      "source": [
        "p1 <- plotEmbedding(ra_mye_atac, embedding = \"UMAP\", \n",
        "                    colorBy = \"cellColData\", name = \"predicted.celltype.l2\")\n",
        "p2 <- plotEmbedding(ra_mye_atac, embedding = \"UMAP\", \n",
        "                    colorBy = \"cellColData\", name = \"atacClusters_res.0.8\")\n",
        "p3 <- plotEmbedding(ra_mye_atac, embedding = \"UMAP\", \n",
        "                    colorBy = \"cellColData\", name = \"predicted.MonocyteSubsets\")\n",
        "p4 <- plotEmbedding(ra_mye_atac, embedding = \"UMAP\", \n",
        "                    colorBy = \"cellColData\", name = \"Tiles_snn_res.1\")\n",
        "p1+ p2 +p3+p4\n",
        "\n",
        "plotPDF(p1,p2,p3, p4, name = paste0(proj_name, '_myeloid_cells_atac_umap.pdf'),ArchRProj = ra_mye_atac,\n",
        "        addDOC = FALSE, width = 6, height = 6)"
      ],
      "outputs": [],
      "execution_count": null,
      "metadata": {
        "vscode": {
          "languageId": "r"
        }
      },
      "id": "512dda27-2d02-4c49-bebf-908cdc6f51aa"
    },
    {
      "cell_type": "code",
      "source": [
        "plotEmbedding(ra_mye_atac, embedding = \"UMAP\", \n",
        "                    colorBy = \"cellColData\", name = \"atacClusters_res.0.8\")"
      ],
      "outputs": [],
      "execution_count": null,
      "metadata": {
        "vscode": {
          "languageId": "r"
        }
      },
      "id": "8cf4b8db-2c01-4281-a6c9-9d70c7cda1f2"
    },
    {
      "cell_type": "code",
      "source": [
        "# add a label based on the atac clusters Tiles_snn_res.1\n",
        "ra_mye_atac$atacClusters_res.0.8_labels <- \n",
        "    case_when(ra_mye_atac$atacClusters_res.0.8 %in% c('C6','C7') ~ ('CD14mon Subtype B'),\n",
        "             ra_mye_atac$atacClusters_res.0.8 %in% c('C5') ~ ('CD14mon Subtype A'),\n",
        "             ra_mye_atac$atacClusters_res.0.8 %in% c('C3') ~ ('CD16mon Subtype B'),\n",
        "             ra_mye_atac$atacClusters_res.0.8 %in% c('C4') ~ ('CD16mon Subtype A'),\n",
        "             ra_mye_atac$atacClusters_res.0.8 %in% c('C2', 'C8') ~ ('DCs'),\n",
        "             ra_mye_atac$atacClusters_res.0.8 %in% c('C1', 'C9', 'C10') ~ ('Other'))"
      ],
      "outputs": [],
      "execution_count": null,
      "metadata": {
        "vscode": {
          "languageId": "r"
        }
      },
      "id": "bf1e91ba-3c83-443a-aab5-9c26915f449b"
    },
    {
      "cell_type": "code",
      "source": [
        "ra_mye_atac$atacClusters_res.0.8 %>% unique()"
      ],
      "outputs": [],
      "execution_count": null,
      "metadata": {
        "vscode": {
          "languageId": "r"
        }
      },
      "id": "5c3d0498-5a3f-4653-9f44-d89e5e1162bf"
    },
    {
      "cell_type": "code",
      "source": [
        "getCellColData(ra_mye_atac) %>% as_tibble() %>% group_by(atacClusters_res.0.8_labels) %>% tally()\n",
        "# ra_so_mye@meta.data %>% as_tibble() %>% group_by(Tiles_snn_res.1) %>% tally()\n"
      ],
      "outputs": [],
      "execution_count": null,
      "metadata": {
        "vscode": {
          "languageId": "r"
        }
      },
      "id": "965b3d95-5f2c-4ee9-9edb-68d0e991fdc5"
    },
    {
      "cell_type": "code",
      "source": [
        "getCellColData(ra_mye_atac) %>% as_tibble(rownames = 'atac_id') %>% \n",
        "    select(Tiles_snn_res.1, barcodes, atac_id)  %>% head(10)\n",
        "getCellColData(ra_mye_atac) %>% as_tibble() %>% \n",
        "    select(Tiles_snn_res.1, barcodes)  %>% head(10)"
      ],
      "outputs": [],
      "execution_count": null,
      "metadata": {
        "vscode": {
          "languageId": "r"
        }
      },
      "id": "957ea863-1ad5-4f64-92e4-a8de563fc398"
    },
    {
      "cell_type": "markdown",
      "source": [
        "### calling peaks in myeloid cells atac space"
      ],
      "metadata": {
        "tags": []
      },
      "id": "cf3abd28-ba21-45c9-90bf-d39ab2f9bbdb"
    },
    {
      "cell_type": "code",
      "source": [
        "# add group coverage\n",
        "ra_mye_atac <- addGroupCoverages(ArchRProj = ra_mye_atac, maxReplicates = 16,\n",
        "                                 groupBy = \"atacClusters_res.0.8_labels\")"
      ],
      "outputs": [],
      "execution_count": null,
      "metadata": {
        "vscode": {
          "languageId": "r"
        }
      },
      "id": "10e464f0-22bc-476d-a3fe-35b287cdc14f"
    },
    {
      "cell_type": "code",
      "source": [
        "saveArchRProject(ArchRProj = ra_mye_atac, load = TRUE)"
      ],
      "outputs": [],
      "execution_count": null,
      "metadata": {
        "vscode": {
          "languageId": "r"
        }
      },
      "id": "a1d682e3-5879-43f6-be4e-0a5d6aeab709"
    },
    {
      "cell_type": "code",
      "source": [
        "# !!important\n",
        "# define the path in conda environment to mac2 python packages for peak calling in archr\n",
        "pathToMacs2 <- '/home/jupyter/libs/r_scrna/bin/macs2'\n",
        "pathToMacs2"
      ],
      "outputs": [],
      "execution_count": null,
      "metadata": {
        "vscode": {
          "languageId": "r"
        }
      },
      "id": "1a5478a0-d32d-4f9f-b5cd-d83c6b793dbb"
    },
    {
      "cell_type": "code",
      "source": [
        "# call peaks in ra myeloid cells \n",
        "ra_mye_atac <- addReproduciblePeakSet(threads = 60,\n",
        "    ArchRProj = ra_mye_atac, \n",
        "    groupBy = \"atacClusters_res.0.8_labels\", \n",
        "    pathToMacs2 = pathToMacs2,\n",
        "    force = TRUE\n",
        ")"
      ],
      "outputs": [],
      "execution_count": null,
      "metadata": {
        "vscode": {
          "languageId": "r"
        }
      },
      "id": "6fa9e07e-8a55-486b-bbbd-0f616c505756"
    },
    {
      "cell_type": "code",
      "source": [
        "ra_mye_atac <- addPeakMatrix(ra_mye_atac)"
      ],
      "outputs": [],
      "execution_count": null,
      "metadata": {
        "vscode": {
          "languageId": "r"
        }
      },
      "id": "f69ddf8a-5f65-4580-83e4-bc6622c5a866"
    },
    {
      "cell_type": "code",
      "source": [
        "getAvailableMatrices(ra_mye_atac)"
      ],
      "outputs": [],
      "execution_count": null,
      "metadata": {
        "vscode": {
          "languageId": "r"
        }
      },
      "id": "007ec86f-77a5-46bf-8b2c-14b4a96d7b80"
    },
    {
      "cell_type": "code",
      "source": [
        "saveArchRProject(ArchRProj = ra_mye_atac)"
      ],
      "outputs": [],
      "execution_count": null,
      "metadata": {
        "vscode": {
          "languageId": "r"
        }
      },
      "id": "bf34c4d1-e858-4c65-8951-70279600b838"
    },
    {
      "cell_type": "markdown",
      "source": [
        "### add ATAC data into the seurat object via Signac"
      ],
      "metadata": {},
      "id": "21ee07e6-bf42-416d-b080-6bd450aa3e31"
    },
    {
      "cell_type": "code",
      "source": [
        "getAvailableMatrices(ra_mye_atac)"
      ],
      "outputs": [],
      "execution_count": null,
      "metadata": {
        "vscode": {
          "languageId": "r"
        }
      },
      "id": "87f56c64-c0e2-4302-b798-4997c73d9391"
    },
    {
      "cell_type": "code",
      "source": [
        "#### Add ATAC data from ArchRProjects to Seurat\n",
        "### Right now, I only have this function working for the peak matrix, or a tile matrix.\n",
        "## @type - param to say what type of data extracted. Can be tile, peak, gene, or other (for custom feature set). Default is peaks. Tile matrices will not work unless you create a new one.\n",
        "## @Matrix - param for which matrix o extract\n",
        "## @reduction - param for which LSI to extract. \n",
        "## @projectname - param for the project name within the new Seurat object\n",
        "## @features - param for custom feature set. Set this is you generated a new tile matrix\n",
        "##                of specific regions of relevance, and you want to pass it through.\n",
        "## @addUMAP - param. Name of UMAP embedding to add to Seurat object, so that you don't have to recalculate the UMAPDefault is NULL, in which case it will generate a new umap based on the LSI provided. \n",
        "addATACtoSeurat <- function(ArchR, So, type = \"Peaks\", Matrix = \"PeakMatrix\", reduction = NULL, projectName = \"ArchRToSeurat\", features = NULL, addUMAP = NULL){\n",
        "    \n",
        "    #Set up transfer settings for various types of matrices.\n",
        "    if(grepl(\"peak\",tolower(type))){\n",
        "        \n",
        "        binarizeVar = FALSE\n",
        "        GRangeFeatures <- getPeakSet(ArchR)\n",
        "        RangeIDs <- paste(seqnames(GRangeFeatures),\":\",start(GRangeFeatures),\"-\",end(GRangeFeatures),sep=\"\")\n",
        "        assayType = \"ATAC\"\n",
        "        \n",
        "    }else if(grepl(\"tile\",tolower(type))){\n",
        "        \n",
        "        binarizeVar = TRUE\n",
        "        GRangeFeatures <- getPeakSet(ArchR)\n",
        "        assayType = \"ATAC\"\n",
        "        \n",
        "    }else if(grepl(\"gene|rna\",tolower(type))){\n",
        "        \n",
        "        binarizeVar = FALSE\n",
        "        RangeIDs <- getFeatures(ArchRProj = ArchR, useMatrix = Matrix)\n",
        "        assayType = \"RNA\"\n",
        "        \n",
        "    }else if(!is.null(features)){\n",
        "        \n",
        "        binarizeVar = FALSE\n",
        "        if(class(features)[[1]] == \"GRanges\"){\n",
        "            RangeIDs <- paste(seqnames(features),\":\",start(features),\"-\",end(features),sep=\"\")\n",
        "        }else if(is.character(features)){\n",
        "            RangeIDs <- features\n",
        "        }else{\n",
        "            stop(\"Feature variable is neither a GRanges, nor a character list.\")\n",
        "        }\n",
        "       \n",
        "        assayType = \"ATAC\"\n",
        "    }else{\n",
        "        stop(\"Error in conversion. Please check matrix name. If it isn't a gene, tile, or peak matrix, then you need to provide a feature set as  GRanges or character list\")\n",
        "    }\n",
        "\n",
        "    dataMatrix <- getMatrixFromProject(ArchR, useMatrix = Matrix, binarize = binarizeVar)\n",
        "\n",
        "    rownames(dataMatrix)<- RangeIDs\n",
        "    \n",
        "    counts2 <- assays(dataMatrix)[[1]]\n",
        "    \n",
        "    if(dim(counts2)[1] != length(RangeIDs)){\n",
        "        stop(\"Error: Matrix is not the same length as feature set.\")\n",
        "    }\n",
        "    \n",
        "    SeuratObj <- CreateSeuratObject(counts2, project =\"Query\", assay= assayType)\n",
        "\n",
        "    if(is.null(reduction)){\n",
        "            SeuratObj <- RunTFIDF(SeuratObj)\n",
        "            SeuratObj <- FindTopFeatures(SeuratObj, min.cutoff = 'q99')\n",
        "            SeuratObj <- RunSVD(SeuratObj)\n",
        "            maxDim = 2:50\n",
        "    }else{\n",
        "        LSI <- getReducedDims(ArchR, reducedDims = reduction)\n",
        "        SeuratObj[[\"IterativeLSI\"]] <- CreateDimReducObject(embeddings = LSI, key = \"lsi_\",  assay = DefaultAssay(SeuratObj)) \n",
        "        maxDim = 1:30\n",
        "    }\n",
        "\n",
        "    if(is.null(addUMAP)){\n",
        "        \n",
        "        SeuratObj <- RunUMAP(SeuratObj, reduction = \"LSI\", dims = maxDim, return.model = TRUE)\n",
        "        \n",
        "    }else if(is.character(addUMAP)){\n",
        "        \n",
        "            umap1 <- getEmbedding(ArchRProj = ArchR, embedding = addUMAP)\n",
        "            SeuratObj[[\"ArchR_UMAP\"]] <- CreateDimReducObject(embeddings = as.matrix(umap1), key = \"UMAP_\", \n",
        "                                                    assay = DefaultAssay(SeuratObj))\n",
        "        \n",
        "    }else{\n",
        "        print('Warning: addUMAP is not a string. No UMAP generated.')\n",
        "    }\n",
        "    \n",
        "    ArchRdf <- getCellColData(ArchR)  %>% as.data.frame() %>%\n",
        "            dplyr::mutate(Cells = rownames(.))\n",
        "    SeurMeta <- SeuratObj@meta.data %>% dplyr::mutate(Cells = rownames(.)) %>% \n",
        "            dplyr::inner_join(ArchRdf, by = \"Cells\")\n",
        "\n",
        "    SeuratObj@meta.data = SeurMeta\n",
        "    \n",
        "    return(SeuratObj)\n",
        "    \n",
        "}"
      ],
      "outputs": [],
      "execution_count": null,
      "metadata": {
        "vscode": {
          "languageId": "r"
        }
      },
      "id": "bd4f1edd-333f-4bc4-ba23-76e825ffe15d"
    },
    {
      "cell_type": "code",
      "source": [
        "GRangeFeatures <- getPeakSet(ArchR)\n",
        "GRangeFeatures"
      ],
      "outputs": [],
      "execution_count": null,
      "metadata": {
        "vscode": {
          "languageId": "r"
        }
      },
      "id": "486427c4-a7ad-49cf-bbf9-2baf52d9821f"
    },
    {
      "cell_type": "code",
      "source": [
        "ArchR <- ra_mye_atac\n",
        "\n",
        "binarizeVar = TRUE\n",
        "GRangeFeatures <- getPeakSet(ArchR)\n",
        "RangeIDs <- paste(seqnames(GRangeFeatures),\":\",start(GRangeFeatures),\"-\",end(GRangeFeatures),sep=\"\")\n",
        "assayType = \"ATAC\"\n",
        "Matrix = \"PeakMatrix\"\n",
        "\n",
        "dataMatrix <- getMatrixFromProject(ArchR, useMatrix = Matrix, binarize = binarizeVar)\n",
        "rownames(dataMatrix)<- RangeIDs\n",
        "counts2 <- assays(dataMatrix)[[1]]\n",
        "colnames(counts2) <- str_split(colnames(counts2), '#', simplify = TRUE)[, 2]"
      ],
      "outputs": [],
      "execution_count": null,
      "metadata": {
        "tags": [],
        "vscode": {
          "languageId": "r"
        }
      },
      "id": "0ff81558-f155-4283-9505-849e534b5bbd"
    },
    {
      "cell_type": "code",
      "source": [
        "RangeIDs <- getFeatures(ArchRProj = ArchR, useMatrix = Matrix)\n",
        "RangeIDs[1:5]"
      ],
      "outputs": [],
      "execution_count": null,
      "metadata": {
        "vscode": {
          "languageId": "r"
        }
      },
      "id": "31fdc680-a758-4e7f-8647-f9363e9a9442"
    },
    {
      "cell_type": "code",
      "source": [
        "fragment_data <- getFragmentsFromProject(ArchR)"
      ],
      "outputs": [],
      "execution_count": null,
      "metadata": {
        "vscode": {
          "languageId": "r"
        }
      },
      "id": "db7fc228-6bbb-4b99-8ec1-3909306b98ce"
    },
    {
      "cell_type": "code",
      "source": [
        "# get gene annotations for hg38\n",
        "library(EnsDb.Hsapiens.v86)\n",
        "library(BSgenome.Hsapiens.UCSC.hg38)\n",
        "\n",
        "annotation <- GetGRangesFromEnsDb(ensdb = EnsDb.Hsapiens.v86)\n",
        "seqlevelsStyle(annotation) <- \"UCSC\""
      ],
      "outputs": [],
      "execution_count": null,
      "metadata": {
        "vscode": {
          "languageId": "r"
        }
      },
      "id": "43922580-00eb-4a42-aaa1-452b874776d4"
    },
    {
      "cell_type": "code",
      "source": [
        "ra_so_mye[[\"ATAC\"]] <- CreateChromatinAssay(\n",
        "  counts = counts2,\n",
        "  sep = c(\":\", \"-\"),\n",
        "  fragments = fragment_data,\n",
        "  annotation = annotation\n",
        ")"
      ],
      "outputs": [],
      "execution_count": null,
      "metadata": {
        "vscode": {
          "languageId": "r"
        }
      },
      "id": "25c591a5-3097-498d-a831-24af74447257"
    },
    {
      "cell_type": "code",
      "source": [
        "ra_so_mye\n"
      ],
      "outputs": [],
      "execution_count": null,
      "metadata": {
        "vscode": {
          "languageId": "r"
        }
      },
      "id": "8e7bdae9-abf4-4aec-9bac-3ed966843f03"
    },
    {
      "cell_type": "code",
      "source": [
        "# DefaultAssay(ra_so_mye) <- 'ATAC'\n",
        "# ra_so_mye <- RunTFIDF(ra_so_mye)\n",
        "# ra_so_mye <- FindTopFeatures(ra_so_mye, min.cutoff = 'q99')\n",
        "# ra_so_mye <- RunSVD(ra_so_mye)"
      ],
      "outputs": [],
      "execution_count": null,
      "metadata": {
        "vscode": {
          "languageId": "r"
        }
      },
      "id": "54733acb-f920-4224-93b0-d915882d621b"
    },
    {
      "cell_type": "code",
      "source": [
        "# LSI <- getReducedDims(ra_mye_atac, reducedDims = 'LSI')\n",
        "lsi_data <- getReducedDims(ra_mye_atac, reducedDims = 'IterativeLSI')\n",
        "# rename the lsi data to seurat style barcodes\n",
        "rownames(lsi_data) <- str_split(rownames(lsi_data), '#', simplify = TRUE)[, 2]\n",
        "ra_so_mye[[\"IterativeLSI\"]] <- CreateDimReducObject(embeddings = lsi_data, key = \"lsit_\", assay = \"ATAC\")"
      ],
      "outputs": [],
      "execution_count": null,
      "metadata": {
        "vscode": {
          "languageId": "r"
        }
      },
      "id": "d476e784-68d4-4506-bb95-24c01ef35fa9"
    },
    {
      "cell_type": "code",
      "source": [
        "ra_so_mye <- RunUMAP(ra_so_mye, reduction = 'IterativeLSI', dims = 1:30, reduction.name = 'umap.atac')"
      ],
      "outputs": [],
      "execution_count": null,
      "metadata": {
        "tags": [],
        "vscode": {
          "languageId": "r"
        }
      },
      "id": "3dd836ab-c585-42f7-911a-206978f1116a"
    },
    {
      "cell_type": "code",
      "source": [
        "ra_so_mye@meta.data %>% colnames()"
      ],
      "outputs": [],
      "execution_count": null,
      "metadata": {
        "vscode": {
          "languageId": "r"
        }
      },
      "id": "1edd115f-d344-46e1-96a9-f5b5ee584c03"
    },
    {
      "cell_type": "code",
      "source": [
        "# \n",
        "p1 <- DimPlot(ra_so_mye, label = T, reduction = 'umap.atac', group.by = 'Tiles_snn_res.0.8') + NoLegend()\n",
        "p2 <- DimPlot(ra_so_mye, group.by = 'predicted.celltype.l2', reduction = 'umap.atac', label = T) \n",
        "p3 <- DimPlot(ra_so_mye, group.by = 'predicted.MonocyteSubsets', reduction = 'umap.atac', label = T)\n",
        "p4 <- DimPlot(ra_so_mye, group.by = 'wsnn_res.0.8', reduction = 'umap.atac', label = T) \n",
        "\n",
        "p1 + p2 + p3 + p4\n",
        "ggsave(file.path(fig_path, paste0(proj_name, '_Tiles_snn_res.0.8_predictedsubA_umap.atac.pdf')), \n",
        "       width=12, height=8)"
      ],
      "outputs": [],
      "execution_count": null,
      "metadata": {
        "vscode": {
          "languageId": "r"
        }
      },
      "id": "ba4906dc-94ce-4d42-b6f3-67d533d9c56b"
    },
    {
      "cell_type": "code",
      "source": [],
      "outputs": [],
      "execution_count": null,
      "metadata": {
        "vscode": {
          "languageId": "r"
        }
      },
      "id": "77758c4c-7b46-4054-953e-3f79d1cdbb61"
    },
    {
      "cell_type": "markdown",
      "source": [
        "### prepare the reference seurat object for label transfer"
      ],
      "metadata": {},
      "id": "9ebd943a-1917-40d9-bf29-44e8d531a5d2"
    },
    {
      "cell_type": "code",
      "source": [
        "# run pca by wknn 3wnn space\n",
        "DefaultAssay(ra_so_mye) <- 'ATAC'\n",
        "ra_so_mye <-  ra_so_mye %>% ScaleData()\n",
        "ra_so_mye <- RunSPCA(ra_so_mye, assay = 'ATAC', graph = 'wknn')"
      ],
      "outputs": [],
      "execution_count": null,
      "metadata": {
        "vscode": {
          "languageId": "r"
        }
      },
      "id": "c4403442-09f1-40c9-a8e8-0ecb7318a4da"
    },
    {
      "cell_type": "code",
      "source": [
        "# find neighbor in 3wnn space\n",
        "ra_so_mye <- FindNeighbors(\n",
        "  object = ra_so_mye,\n",
        "    assay = 'ATAC',\n",
        "  reduction = \"spca\",\n",
        "  dims = 1:50,\n",
        "  graph.name = \"spca.annoy.neighbors\", \n",
        "  k.param = 50,\n",
        "  cache.index = TRUE,\n",
        "  return.neighbor = TRUE,\n",
        "  l2.norm = TRUE\n",
        ")"
      ],
      "outputs": [],
      "execution_count": null,
      "metadata": {
        "vscode": {
          "languageId": "r"
        }
      },
      "id": "339a841f-63b7-48e0-aa4d-f97811d3316a"
    },
    {
      "cell_type": "code",
      "source": [
        "rownames(ra_so_mye[['ATAC']])[1:5]"
      ],
      "outputs": [],
      "execution_count": null,
      "metadata": {
        "vscode": {
          "languageId": "r"
        }
      },
      "id": "4edaf01a-070e-4f3e-921e-31e5cb0d710b"
    },
    {
      "cell_type": "code",
      "source": [
        "# load the filetered myeloid data in bm\n",
        "bm_so_mye <- readRDS('/home/jupyter/data/BM_teaseq/BM_teaseq_seurat_Myeloid_lineage_cells.rds')"
      ],
      "outputs": [],
      "execution_count": null,
      "metadata": {
        "vscode": {
          "languageId": "r"
        }
      },
      "id": "8c1b7256-f419-410c-a859-7f0c91024b7a"
    },
    {
      "cell_type": "code",
      "source": [
        "# load the ArchR project\n",
        "bm_mye_atac <- loadArchRProject(path = \"/home/jupyter/data/BM_teaseq/myeloid_atac\")"
      ],
      "outputs": [],
      "execution_count": null,
      "metadata": {
        "vscode": {
          "languageId": "r"
        }
      },
      "id": "6554f827-e351-48f8-be05-954d6c91f21d"
    },
    {
      "cell_type": "code",
      "source": [
        "ArchR <- bm_mye_atac\n",
        "\n",
        "binarizeVar = FALSE\n",
        "GRangeFeatures <- getPeakSet(ArchR)\n",
        "RangeIDs <- paste(seqnames(GRangeFeatures),\":\",start(GRangeFeatures),\"-\",end(GRangeFeatures),sep=\"\")\n",
        "assayType = \"ATAC\"\n",
        "Matrix = \"PeakMatrix\"\n",
        "\n",
        "dataMatrix <- getMatrixFromProject(ArchR, useMatrix = Matrix, binarize = binarizeVar)\n",
        "rownames(dataMatrix)<- RangeIDs\n",
        "counts <- assays(dataMatrix)[[1]]"
      ],
      "outputs": [],
      "execution_count": null,
      "metadata": {
        "vscode": {
          "languageId": "r"
        }
      },
      "id": "78117efc-044f-48f9-9c64-8e79877feff5"
    },
    {
      "cell_type": "code",
      "source": [
        "rownames(counts) %>% length()\n",
        "rownames(ra_so_mye[['ATAC']]) %>% length()"
      ],
      "outputs": [],
      "execution_count": null,
      "metadata": {
        "vscode": {
          "languageId": "r"
        }
      },
      "id": "9cc3604e-629a-4dc8-b7a8-3f713bc856b8"
    },
    {
      "cell_type": "code",
      "source": [
        "table(rownames(counts) %in% rownames(ra_so_mye[['ATAC']]))"
      ],
      "outputs": [],
      "execution_count": null,
      "metadata": {
        "vscode": {
          "languageId": "r"
        }
      },
      "id": "64539eda-c553-4058-bb9f-cc64d5224286"
    },
    {
      "cell_type": "code",
      "source": [
        "# find ancohors by spca\n",
        "anchors <- FindTransferAnchors(\n",
        "    reference = ra_so_mye,\n",
        "    query = bm_so_mye,\n",
        "    k.filter = NA,\n",
        "    reference.reduction = \"spca\", \n",
        "    reference.neighbors = \"spca.annoy.neighbors\", \n",
        "    dims = 1:50\n",
        "  )"
      ],
      "outputs": [],
      "execution_count": null,
      "metadata": {
        "vscode": {
          "languageId": "r"
        }
      },
      "id": "94199842-f6ec-43d5-bec8-842bad297728"
    },
    {
      "cell_type": "code",
      "source": [
        "#### Create Reference Object from ArchRProject\n",
        "### Right now, I only have this function working for the peak matrix, or a tile matrix.\n",
        "## @type - param to say what type of data extracted. Can be tile, peak, or gene. Default is peaks. Tile matrices will not work unless you create a new one.\n",
        "## @Matrix - param for which matrix o extract\n",
        "## @reduction - param for which LSI to extract. \n",
        "## @projectname - param for the project name within the new Seurat object\n",
        "## @features - param for custom feature set. Set this is you generated a new tile matrix\n",
        "##                of specific regions of relevance, and you want to pass it through.\n",
        "## @addUMAP - param. Name of UMAP embedding to add to Seurat object, so that you don't have to recalculate the UMAP. Default is NULL, in which case it will generate a new umap based on the LSI provided. \n",
        "createReferenceProject <- function(ArchR, cellTypeLabels = NULL, \n",
        "                                   threshold = NULL, reduction = NULL, projectName = \"RefObj\", addUMAP = \"UMAP\"){\n",
        " \n",
        "        ## Pull out markers to cluster on.\n",
        "    \n",
        "        if(!is.null(threshold)){\n",
        "              clusterMarkers <- getMarkerFeatures(ArchR, useMatrix = \"TileMatrix\", groupBy = cellTypeLabels, \n",
        "                                            binarize = TRUE)\n",
        "\n",
        "                clustermarkersf <- getMarkers(clusterMarkers, cutOff = threshold)\n",
        "             \n",
        "                allFeatures = rbindlist(lapply(seq_along(clustermarkersf), function(x){\n",
        "  \n",
        "                                    clustermarkersf[[x]] %>% as.data.frame() %>% \n",
        "                                                dplyr::mutate(end = start + 500)\n",
        "                    })) %>% makeGRangesFromDataFrame(.,keep.extra.columns= TRUE) %>%\n",
        "                plyranges::group_by(idx) %>% plyranges::reduce_ranges()\n",
        "            \n",
        "        }else{\n",
        "            \n",
        "            allFeatures <- ArchR@reducedDims$IterativeLSI$LSIFeatures %>% as.data.frame() %>% \n",
        "                            mutate(end = start + 500) %>%\n",
        "                            makeGRangesFromDataFrame()  \n",
        "        }\n",
        "      \n",
        "\n",
        "        ## Create new feature matrix with important info on groups. \n",
        "        ArchR <- addFeatureMatrix(ArchR, matrixName = \"TransferMatrix\", features = allFeatures, binarize = FALSE)\n",
        "\n",
        "        saveArchRProject(ArchR)\n",
        "    \n",
        "        RefSE <- SeuratFromArchR(ArchR, type = \"other\", Matrix = \"TransferMatrix\", \n",
        "                         reduction = reduction,\n",
        "                         projectName =projectName, features = allFeatures,\n",
        "                          addUMAP = \"UMAP\")\n",
        "\n",
        "        RefSE@assays$ATAC@var.features = rownames(RefSE)\n",
        "        RefSE <- RunTFIDF(RefSE)\n",
        "        RefSE <- RunSVD(RefSE)\n",
        "        RefSE <- RunUMAP(RefSE, reduction = \"lsi\", dims = 2:50, return.model = TRUE)\n",
        "\n",
        "        rownames(RefSE@meta.data) <- Cells(RefSE)   \n",
        "        \n",
        "        saveRDS(RefSE, paste(getOutputDirectory(ArchR),\"/ReferenceSeurat.RDS\", sep = \"\"))\n",
        "        return(RefSE)\n",
        "}"
      ],
      "outputs": [],
      "execution_count": null,
      "metadata": {
        "vscode": {
          "languageId": "r"
        }
      },
      "id": "0b6d2c78-8c7f-42a2-a4d7-7127fc55661c"
    },
    {
      "cell_type": "code",
      "source": [
        "# getCellColData(ra_mye_atac) %>% as_tibble() %>% group_by() %>% tally()\n",
        "getCellColData(ra_mye_atac) %>% as_tibble() %>% group_by(atacClusters_res.0.8_labels) %>% tally()"
      ],
      "outputs": [],
      "execution_count": null,
      "metadata": {
        "vscode": {
          "languageId": "r"
        }
      },
      "id": "257abf2a-fe02-42b0-98d7-7e72bca05f21"
    },
    {
      "cell_type": "code",
      "source": [
        "# find marker features for different group of cells\n",
        "clusterMarkers <- getMarkerFeatures(ra_mye_atac, useMatrix = \"TileMatrix\", \n",
        "                                    groupBy = 'atacClusters_res.0.8_labels', \n",
        "                                    binarize = TRUE)"
      ],
      "outputs": [],
      "execution_count": null,
      "metadata": {
        "vscode": {
          "languageId": "r"
        }
      },
      "id": "edadaa98-5471-455e-a206-b2d08136d467"
    },
    {
      "cell_type": "code",
      "source": [
        "threshold = \"FDR <= 0.2 & Log2FC>0.25\"\n",
        "clustermarkersf <- getMarkers(clusterMarkers, cutOff = threshold)"
      ],
      "outputs": [],
      "execution_count": null,
      "metadata": {
        "vscode": {
          "languageId": "r"
        }
      },
      "id": "70bf5d52-464f-4528-ae97-d84a249544ea"
    },
    {
      "cell_type": "markdown",
      "source": [
        "### label transfer from atac based on MP's functions"
      ],
      "metadata": {},
      "id": "89fbba1d-352d-4d9d-a602-86ac9a3fa7b1"
    },
    {
      "cell_type": "code",
      "source": [
        "# make a seurat object\n",
        "ra_mye_atac.so <- createReferenceProject(ra_mye_atac,# threshold = \"FDR <= 0.2 & Log2FC>0.25\",\n",
        "        cellTypeLabels = 'atacClusters_res.0.8_labels')"
      ],
      "outputs": [],
      "execution_count": null,
      "metadata": {
        "vscode": {
          "languageId": "r"
        }
      },
      "id": "3a56a7b1-516c-4ad1-b6d5-e6c34f1d2131"
    },
    {
      "cell_type": "code",
      "source": [
        "getCellColData(ra_mye_atac) %>% as_tibble() %>%\n",
        "    group_by(predicted.MonocyteSubsets) %>% tally()"
      ],
      "outputs": [],
      "execution_count": null,
      "metadata": {
        "vscode": {
          "languageId": "r"
        }
      },
      "id": "275391d0-d4db-481c-ae02-e27480a15f40"
    },
    {
      "cell_type": "code",
      "source": [
        "ra_mye_atac.so@meta.data %>% colnames()\n",
        "fig_path"
      ],
      "outputs": [],
      "execution_count": null,
      "metadata": {
        "vscode": {
          "languageId": "r"
        }
      },
      "id": "f1610f6e-e57d-488b-991f-2c28359e79c3"
    },
    {
      "cell_type": "code",
      "source": [
        "# \n",
        "p1 <- DimPlot(ra_mye_atac.so, label = T, reduction = 'umap', group.by = 'Tiles_snn_res.0.8') + NoLegend()\n",
        "p2 <- DimPlot(ra_mye_atac.so, group.by = 'predicted.celltype.l2', reduction = 'umap', label = T) \n",
        "p3 <- DimPlot(ra_mye_atac.so, group.by = 'predicted.MonocyteSubsets', reduction = 'umap')\n",
        "p4 <- DimPlot(ra_mye_atac.so, group.by = 'atacClusters_res.0.8_labels', reduction = 'umap', label = T) \n",
        "\n",
        "p1 + p2 + p3 + p4\n",
        "ggsave(file.path(fig_path, paste0(proj_name, '_Tiles_snn_res.0.8_subA_labels_allfeature_umap.pdf')), \n",
        "       width=12, height=8)"
      ],
      "outputs": [],
      "execution_count": null,
      "metadata": {
        "vscode": {
          "languageId": "r"
        }
      },
      "id": "ccd68a67-0c3c-4bee-b651-0f9107bc2944"
    },
    {
      "cell_type": "code",
      "source": [
        "# \n",
        "p1 <- DimPlot(ra_mye_atac.so, label = T, reduction = 'ArchR_UMAP', group.by = 'Tiles_snn_res.0.8') + NoLegend()\n",
        "p2 <- DimPlot(ra_mye_atac.so, group.by = 'predicted.celltype.l2', reduction = 'ArchR_UMAP', label = T) \n",
        "p3 <- DimPlot(ra_mye_atac.so, group.by = 'predicted.MonocyteSubsets', reduction = 'ArchR_UMAP')\n",
        "p4 <- DimPlot(ra_mye_atac.so, group.by = 'atacClusters_res.0.8_labels', reduction = 'ArchR_UMAP', label = T) \n",
        "\n",
        "p1 + p2 + p3 + p4\n",
        "ggsave(file.path(fig_path, paste0(proj_name, '_Tiles_snn_res.0.8_predictedsubA_labelsArchR_UMAP.pdf')), \n",
        "       width=12, height=8)"
      ],
      "outputs": [],
      "execution_count": null,
      "metadata": {
        "vscode": {
          "languageId": "r"
        }
      },
      "id": "930c4473-5cec-4433-a4da-7152bad10c7c"
    },
    {
      "cell_type": "code",
      "source": [
        "## Get labels within LSI space using Seurat's FindTransferAnchors and MapQuery steps\n",
        "## @SeurRef - param: Seurat Reference object, with an lsi\n",
        "## @SeurQuery - param: Seurat Query object, with an lsi\n",
        "## @labelsToTransfer - param: list of metadata labels to transfer to query.\n",
        "getLabels <- function(SeurRef, SeurQuery, labelsToTransfer, referenceReduction = \"lsi\", ndims = 2:30){\n",
        "\n",
        "    transfer.anchors <- FindTransferAnchors(\n",
        "          reference = SeurRef,\n",
        "          query = SeurQuery,\n",
        "          reference.reduction = referenceReduction,\n",
        "          reduction = \"lsiproject\",\n",
        "          dims = ndims\n",
        "        )\n",
        "    \n",
        "    SeurQuery <- MapQuery(\n",
        "          anchorset = transfer.anchors,\n",
        "          reference = SeurRef,\n",
        "          query = SeurQuery,\n",
        "          refdata = labelsToTransfer,\n",
        "          reference.reduction = referenceReduction,\n",
        "          new.reduction.name = \"ref.lsi\",\n",
        "          reduction.model = 'umap'\n",
        "        )\n",
        "    \n",
        "    return(SeurQuery)\n",
        "}"
      ],
      "outputs": [],
      "execution_count": null,
      "metadata": {
        "vscode": {
          "languageId": "r"
        }
      },
      "id": "de66fe95-a42a-46c5-8fb7-d7ea10e398bd"
    },
    {
      "cell_type": "code",
      "source": [
        "getCellColData(ra_mye_atac) %>% colnames()"
      ],
      "outputs": [],
      "execution_count": null,
      "metadata": {
        "vscode": {
          "languageId": "r"
        }
      },
      "id": "227fe9d5-49e4-4a4f-90ed-9ad74abf70fc"
    },
    {
      "cell_type": "code",
      "source": [
        "# getAvailableMatrices(ra_mye_atac)\n",
        "getPeakSet(ra_mye_atac)"
      ],
      "outputs": [],
      "execution_count": null,
      "metadata": {
        "vscode": {
          "languageId": "r"
        }
      },
      "id": "de3124ff-778f-4bab-a5ba-97bf3ec98f3f"
    },
    {
      "cell_type": "code",
      "source": [
        "projHeme5 <- addPeakMatrix(projHeme4)"
      ],
      "outputs": [],
      "execution_count": null,
      "metadata": {
        "vscode": {
          "languageId": "r"
        }
      },
      "id": "df48c467-1acd-493e-873d-ac0980269ce1"
    },
    {
      "cell_type": "markdown",
      "source": [
        "## load CD14 mono only in pre-RA teaseq atac and do ananlysis"
      ],
      "metadata": {
        "tags": []
      },
      "id": "3f3feb62-dde3-4426-a154-67da344fdc7f"
    },
    {
      "cell_type": "code",
      "source": [
        "# load ATAC \n",
        "# load the ArchR project for cd14 monocytes\n",
        "cd14mon_atac <- loadArchRProject(path = '/home/jupyter/data/preRA_teaseq/EXP-00243/cd14mono/atac')\n",
        "cd14mon_atac"
      ],
      "outputs": [],
      "execution_count": null,
      "metadata": {
        "tags": [],
        "vscode": {
          "languageId": "r"
        }
      },
      "id": "bbf4f60f-34b8-4689-a036-1c48da63b516"
    },
    {
      "cell_type": "code",
      "source": [
        "# load the cd14 monocytes seurat object\n",
        "# load the seurat obeject \n",
        "cd14_so_mye <- readRDS('PreRA_teaseq_seurat_cd14_monocytes.rds')\n"
      ],
      "outputs": [],
      "execution_count": null,
      "metadata": {
        "vscode": {
          "languageId": "r"
        }
      },
      "id": "333ad27c-a092-4157-857b-6b5f8e31e6f6"
    },
    {
      "cell_type": "code",
      "source": [
        "cd14_so_mye@meta.data %>% colnames()\n",
        "cd14_so_mye"
      ],
      "outputs": [],
      "execution_count": null,
      "metadata": {
        "tags": [],
        "vscode": {
          "languageId": "r"
        }
      },
      "id": "e9126e04-2c0d-4cc2-a508-70633b0931d9"
    },
    {
      "cell_type": "code",
      "source": [
        "# test imputed gene scores of certain genes\n",
        "markerGenes <- c('PLCG2')\n",
        "\n",
        "p <- plotEmbedding(\n",
        "    ArchRProj = cd14mon_atac, \n",
        "    colorBy = \"GeneScoreMatrix\", \n",
        "    name = markerGenes, \n",
        "    embedding = \"UMAP\",\n",
        "    quantCut = c(0.01, 0.95),\n",
        "    imputeWeights = NULL\n",
        ")\n",
        "p"
      ],
      "outputs": [],
      "execution_count": null,
      "metadata": {
        "tags": [],
        "vscode": {
          "languageId": "r"
        }
      },
      "id": "9f51b6de-4bfe-4c88-a763-993a1a2c7012"
    },
    {
      "cell_type": "code",
      "source": [
        "# add metadata to archr object\n",
        "getCellColData(cd14mon_atac) %>% colnames()\n",
        "cd14_so_mye@meta.data %>%colnames()\n",
        "# extract the columns from seurat to add to archr\n",
        "seurat_metadata <- cd14_so_mye@meta.data %>% \n",
        "    select(c(barcodes, subject_id, c1_monocyte_class)) %>% as_tibble()\n",
        "# all(CD8_temra_atac$barcodes %in% seurat_metadata$barcodes)\n",
        "\n",
        "#atac_metadata <- getCellColData(CD8_temra_atac) %>% as_tibble() %>% left_join(seurat_metadata, by = 'barcodes')\n",
        "# add metadata from seurat to archR\n",
        "\n",
        "cell_id <- cd14mon_atac@cellColData %>% rownames()\n",
        "cd14mon_atac@cellColData <- cd14mon_atac@cellColData %>% merge(seurat_metadata, by = 'barcodes')\n",
        "rownames(cd14mon_atac@cellColData ) <- cell_id"
      ],
      "outputs": [],
      "execution_count": null,
      "metadata": {
        "vscode": {
          "languageId": "r"
        }
      },
      "id": "e4eff1f4-bdf2-4b14-a6d6-7a4d97093a06"
    },
    {
      "cell_type": "code",
      "source": [
        "# add group coverage\n",
        "mye_atac <- addGroupCoverages(ArchRProj = mye_atac, groupBy = \"Clusters\")"
      ],
      "outputs": [],
      "execution_count": null,
      "metadata": {
        "vscode": {
          "languageId": "r"
        }
      },
      "id": "2fefb81a-4a7f-460d-849f-5b2b4a4a4667"
    },
    {
      "cell_type": "markdown",
      "source": [
        "# load CD4 t cells in pre-RA teaseq atac and do ananlysis"
      ],
      "metadata": {
        "tags": []
      },
      "id": "2d634e13-27ef-4818-8f56-eaf2e7f2f273"
    },
    {
      "cell_type": "code",
      "source": [
        "# define work directories\n",
        "proj_path <- '/home/jupyter/data/preRA_teaseq/EXP-00243/cd4t_cells'\n",
        "setwd(proj_path)\n",
        "# define a project name\n",
        "proj_name <- 'preRA_tea_seq_cd4t_cells'\n",
        "fig_path <- as.character('/home/jupyter/figures/preRA_teaseq/ATAC/cd4t_cells')\n",
        "if(!dir.exists(fig_path)) (dir.create(fig_path, recursive = TRUE))"
      ],
      "outputs": [],
      "execution_count": null,
      "metadata": {
        "vscode": {
          "languageId": "r"
        }
      },
      "id": "0be97ec0-2562-48b2-8288-a8c8f24f6106"
    },
    {
      "cell_type": "code",
      "source": [
        "# load ATAC \n",
        "# load the ArchR project for CD4 t cells\n",
        "cd4t_atac <- loadArchRProject(path = '/home/jupyter/data/preRA_teaseq/EXP-00243/cd4t_cells')"
      ],
      "outputs": [],
      "execution_count": null,
      "metadata": {
        "tags": [],
        "vscode": {
          "languageId": "r"
        }
      },
      "id": "7d0da4ed-47ae-4f9a-8c68-62bc2551096f"
    },
    {
      "cell_type": "code",
      "source": [
        "plotEmbedding(cd4t_mem_atac, embedding = \"UMAP\", \n",
        "                    colorBy = \"cellColData\", name = c(\"l2_cell_types\", \"Clusters\", 'cohort'))"
      ],
      "outputs": [],
      "execution_count": null,
      "metadata": {
        "vscode": {
          "languageId": "r"
        }
      },
      "id": "2ffc162e-8e60-43ce-89f4-329cb83c367b"
    },
    {
      "cell_type": "code",
      "source": [
        "# plot umap of annotated cell types\n",
        "p1 <- plotEmbedding(cd4t_atac, embedding = \"UMAP\", \n",
        "                    colorBy = \"cellColData\", name = c(\"l2_cell_types\", \"Clusters\"))\n",
        "p2 <- plotEmbedding(cd4t_atac, embedding = \"UMAP\", \n",
        "                    colorBy = \"cellColData\", name = \"l2_cell_types\")\n",
        "p3 <- plotEmbedding(\n",
        "    ArchRProj = cd4t_atac, \n",
        "    colorBy = \"GeneScoreMatrix\", \n",
        "    name = marker_genes, \n",
        "    embedding = \"UMAP\",\n",
        "    imputeWeights = getImputeWeights(cd4t_atac)\n",
        ")\n",
        "p1+ p2 + p3\n",
        "\n",
        "plotPDF(p1,p2,p3, name = paste0(proj_name, '_atac_umap_gene_score.pdf'), ArchRProj = cd4t_atac,\n",
        "        addDOC = FALSE, width = 6, height = 6)"
      ],
      "outputs": [],
      "execution_count": null,
      "metadata": {
        "vscode": {
          "languageId": "r"
        }
      },
      "id": "f9fdf8a5-2d33-4f86-b2ab-8adf2caad00e"
    },
    {
      "cell_type": "markdown",
      "source": [
        "## load cd4 mem t cells object and see if atac cluster out th types"
      ],
      "metadata": {
        "tags": []
      },
      "id": "1865e91b-0492-4a26-9d12-e3267f0bd1ef"
    },
    {
      "cell_type": "code",
      "source": [
        "# define work directories\n",
        "proj_path <- '/home/jupyter/data/preRA_teaseq/EXP-00243/cd4tmem_cells'\n",
        "setwd(proj_path)\n",
        "# define a project name\n",
        "proj_name <- 'preRA_tea_seq_cd4t_mem'\n",
        "fig_path <- as.character('/home/jupyter/figures/preRA_teaseq/ATAC/cd4t_mem')\n",
        "if(!dir.exists(fig_path)) (dir.create(fig_path, recursive = TRUE))\n"
      ],
      "outputs": [],
      "execution_count": null,
      "metadata": {
        "vscode": {
          "languageId": "r"
        }
      },
      "id": "4c8870be-b252-4dd1-99b0-ccd03c661ad1"
    },
    {
      "cell_type": "code",
      "source": [
        "# load ATAC \n",
        "# load the ArchR project for CD4 t cells\n",
        "cd4t_mem_atac <- loadArchRProject(path = '/home/jupyter/data/preRA_teaseq/EXP-00243/cd4tmem_cells')"
      ],
      "outputs": [],
      "execution_count": null,
      "metadata": {
        "vscode": {
          "languageId": "r"
        }
      },
      "id": "3a188bed-e0b7-4b5e-b7af-bdf20cb56330"
    },
    {
      "cell_type": "code",
      "source": [
        "# load the seurat object\n",
        "ra_tea_cd4mem <- readRDS(file.path(data_path, 'PreRA_teaseq_seurat_cd4mem_clean_t_cells.rds'))"
      ],
      "outputs": [],
      "execution_count": null,
      "metadata": {
        "vscode": {
          "languageId": "r"
        }
      },
      "id": "90d747f8-2327-44e1-87ee-2bfa31fba590"
    },
    {
      "cell_type": "code",
      "source": [
        "ra_tea_cd4mem@meta.data %>% colnames()\n",
        "getCellColData(cd4t_mem_atac) %>% colnames()"
      ],
      "outputs": [],
      "execution_count": null,
      "metadata": {
        "vscode": {
          "languageId": "r"
        }
      },
      "id": "8e50d903-3bb6-472e-9b50-ec5a21c8595f"
    },
    {
      "cell_type": "code",
      "source": [
        "# add metadata from seurat to archr\n",
        "cd4t_mem_atac <- MetaSotoArchr(archr=cd4t_mem_atac, so=ra_tea_cd4mem, \n",
        "                           so.cols=c('barcodes', 'predicted.celltype_l2', 'wsnn_res.0.5'), \n",
        "                          id.col='barcodes')"
      ],
      "outputs": [],
      "execution_count": null,
      "metadata": {
        "vscode": {
          "languageId": "r"
        }
      },
      "id": "ad856fb9-9e17-4dc8-a0ab-a6fe4906fb3f"
    },
    {
      "cell_type": "code",
      "source": [
        "# add metadata from seurat to archr\n",
        "cd4t_mem_atac <- MetaSotoArchr(archr=cd4t_mem_atac, so=ra_tea_cd4mem, \n",
        "                           so.cols=c('barcodes', 't_mem_anno'), \n",
        "                          id.col='barcodes')"
      ],
      "outputs": [],
      "execution_count": null,
      "metadata": {
        "vscode": {
          "languageId": "r"
        }
      },
      "id": "68478124-54f8-4024-ab4d-693bce917f9e"
    },
    {
      "cell_type": "code",
      "source": [
        "cd4t_mem_atac <- addClusters(\n",
        "      input = cd4t_mem_atac,\n",
        "      reducedDims = \"IterativeLSI\",\n",
        "      method = \"Seurat\",\n",
        "      name = \"Clusters_0.5\",\n",
        "      resolution = 0.5,\n",
        "      force = TRUE\n",
        "    )"
      ],
      "outputs": [],
      "execution_count": null,
      "metadata": {
        "vscode": {
          "languageId": "r"
        }
      },
      "id": "c207eaf0-66a9-49d2-aec6-75974718090e"
    },
    {
      "cell_type": "code",
      "source": [
        "getAvailableMatrices(cd4t_mem_atac)\n",
        "getCellColData(cd4t_mem_atac) %>% colnames()"
      ],
      "outputs": [],
      "execution_count": null,
      "metadata": {
        "tags": [],
        "vscode": {
          "languageId": "r"
        }
      },
      "id": "64defbfe-05a6-4b02-b78e-975223198e96"
    },
    {
      "cell_type": "markdown",
      "source": [
        "### add adt umap and gene matrix into archr"
      ],
      "metadata": {},
      "id": "704a9611-4d38-4a82-b6a6-06fc47544091"
    },
    {
      "cell_type": "code",
      "source": [
        "# cd4t_atac_gene_cores\n",
        "ra_tea_cd4mem@meta.data %>% colnames() %>% sort()\n",
        "all(ra_tea_cd4mem@meta.data$atac_cell_id %in% rownames(cd4t_mem_atac))\n",
        "all(rownames(cd4t_mem_atac) %in% ra_tea_cd4mem@meta.data$atac_cell_id)"
      ],
      "outputs": [],
      "execution_count": null,
      "metadata": {
        "tags": [],
        "vscode": {
          "languageId": "r"
        }
      },
      "id": "ab2b6e85-2427-48bb-a951-f27db4c55600"
    },
    {
      "cell_type": "code",
      "source": [
        "# extracts the RNA counts from a Seurat object and adds them to an ArchR Project\n",
        "cd4t_mem_atac <- addSeuratRNA(ra_tea_cd4mem, cd4t_mem_atac, 'atac_cell_id',  assay = \"SCT\")"
      ],
      "outputs": [],
      "execution_count": null,
      "metadata": {
        "vscode": {
          "languageId": "r"
        }
      },
      "id": "39a8f121-9b31-4eb5-91cf-1544eaab4d04"
    },
    {
      "cell_type": "code",
      "source": [
        "# # extracts the adt counts from a Seurat object and adds them to an ArchR Project\n",
        "# cd4t_mem_atac <- addSeuratRNA(ra_tea_cd4mem, cd4t_mem_atac, 'atac_cell_id',  assay = \"cleanadt\")"
      ],
      "outputs": [],
      "execution_count": null,
      "metadata": {
        "vscode": {
          "languageId": "r"
        }
      },
      "id": "f4b98165-8d9a-46eb-b294-48b73a762b6c"
    },
    {
      "cell_type": "code",
      "source": [
        "# add umap from seurat to addEmbedding \n",
        "adt_umap <- ra_tea_cd4mem@reductions$adt_umap@cell.embeddings %>% as.data.frame()\n",
        "# rename the rownmaes to match atac id\n",
        "rownames(adt_umap) <- ra_tea_cd4mem@meta.data$atac_cell_id\n",
        "cd4t_mem_atac <- addEmbedding(cd4t_mem_atac, name='adt_umap',  dfEmbedding=adt_umap)"
      ],
      "outputs": [],
      "execution_count": null,
      "metadata": {
        "vscode": {
          "languageId": "r"
        }
      },
      "id": "c0414982-6401-4e2c-a7bf-feebe044ea96"
    },
    {
      "cell_type": "code",
      "source": [
        "saveArchRProject(ArchRProj = cd4t_mem_atac)"
      ],
      "outputs": [],
      "execution_count": null,
      "metadata": {
        "vscode": {
          "languageId": "r"
        }
      },
      "id": "2f6ca2cf-a0f8-4390-8fb6-4e8ca8a058d2"
    },
    {
      "cell_type": "code",
      "source": [
        "# marker_genes <- rowData(cd4t_atac_gene_cores)$name %>% str_subset('GATA3|RORC|FOXP3|TBX21|IKZF2|STAT3')\n",
        "marker_genes <- c('GATA3', 'RORC', 'FOXP3', 'TBX21', 'IKZF2', 'STAT3', 'IL17A', 'IFNG', 'IFNG')"
      ],
      "outputs": [],
      "execution_count": null,
      "metadata": {
        "vscode": {
          "languageId": "r"
        }
      },
      "id": "6beb1d67-280a-4c09-a03d-ffef01220032"
    },
    {
      "cell_type": "code",
      "source": [
        "getCellColData(cd4t_mem_atac) %>% colnames()"
      ],
      "outputs": [],
      "execution_count": null,
      "metadata": {
        "vscode": {
          "languageId": "r"
        }
      },
      "id": "40c01c34-4e9b-4b0f-8c1a-5c7c33008150"
    },
    {
      "cell_type": "code",
      "source": [
        "# plot umap of annotated cell types\n",
        "p1 <- plotEmbedding(cd4t_mem_atac, embedding = \"UMAP\", \n",
        "                    colorBy = \"cellColData\", name = c('t_mem_anno',\"l2_cell_types\", \"Clusters_0.5\",\n",
        "                                                      'wsnn_res.0.5',\n",
        "                                                      'cohort', 'subject_id'))\n",
        "p2 <-  plotEmbedding(\n",
        "    ArchRProj = cd4t_mem_atac, \n",
        "    colorBy = \"GeneScoreMatrix\", \n",
        "    name = marker_genes, \n",
        "    embedding = \"UMAP\",\n",
        "    imputeWeights = getImputeWeights(cd4t_mem_atac)\n",
        ")\n",
        "\n",
        "plotPDF(p1,p2, name = paste0(proj_name, '_Clusters_0.8_atac_umap_gene_score.pdf'), ArchRProj = cd4t_mem_atac,\n",
        "        addDOC = FALSE, width = 6, height = 6)"
      ],
      "outputs": [],
      "execution_count": null,
      "metadata": {
        "tags": [],
        "vscode": {
          "languageId": "r"
        }
      },
      "id": "4c16381a-a4ff-44f8-9016-299f43f56655"
    },
    {
      "cell_type": "code",
      "source": [
        "# plot umap of annotated cell types\n",
        "p1 <- plotEmbedding(cd4t_mem_atac, embedding = \"adt_umap\", \n",
        "                    colorBy = \"cellColData\", name = c('t_mem_anno',\"l2_cell_types\", \"Clusters_0.5\",\n",
        "                                                      'wsnn_res.0.5',\n",
        "                                                      'cohort', 'subject_id'))\n",
        "p2 <-  plotEmbedding(\n",
        "    ArchRProj = cd4t_mem_atac, \n",
        "    colorBy = \"GeneScoreMatrix\", \n",
        "    name = marker_genes, \n",
        "    embedding = \"adt_umap\",\n",
        "    imputeWeights = getImputeWeights(cd4t_mem_atac)\n",
        ")\n",
        "\n",
        "plotPDF(p1,p2, name = paste0(proj_name, '_Clusters_0.8_adt_umap_gene_score.pdf'), ArchRProj = cd4t_mem_atac,\n",
        "        addDOC = FALSE, width = 6, height = 6)"
      ],
      "outputs": [],
      "execution_count": null,
      "metadata": {
        "tags": [],
        "vscode": {
          "languageId": "r"
        }
      },
      "id": "6b9961e2-d8c0-4b70-ac57-891d36837342"
    },
    {
      "cell_type": "markdown",
      "source": [
        "### call peaks in the archR (MACS2)"
      ],
      "metadata": {
        "tags": []
      },
      "id": "6e5ca79a-e6b5-4faa-8706-584e1baf4602"
    },
    {
      "cell_type": "code",
      "source": [
        "# # add group coverage\n",
        "# cd4t_mem_atac <- addGroupCoverages(ArchRProj = cd4t_mem_atac, maxReplicates = 16,\n",
        "#                                  groupBy = \"Clusters_0.8\")"
      ],
      "outputs": [],
      "execution_count": null,
      "metadata": {
        "tags": [],
        "vscode": {
          "languageId": "r"
        }
      },
      "id": "49f0a018-ecf3-4f44-81a9-c547887b021c"
    },
    {
      "cell_type": "markdown",
      "source": [
        "### call peaks in scMACS and run differential"
      ],
      "metadata": {
        "tags": []
      },
      "id": "be8e813c-e548-4679-9243-c6466edd833b"
    },
    {
      "cell_type": "code",
      "source": [
        "#Load scMACS and accompanying libraries\n",
        "library(scMACS)\n",
        "library(data.table)\n",
        "library(ArchR)\n",
        "library(GenomicRanges)\n",
        "library(plyranges)"
      ],
      "outputs": [],
      "execution_count": null,
      "metadata": {
        "vscode": {
          "languageId": "r"
        }
      },
      "id": "41764101-1fcd-4299-aef9-d325ca6f7acb"
    },
    {
      "cell_type": "code",
      "source": [
        "getCellColData(cd4t_mem_atac) %>% as_tibble() %>% \n",
        "    group_by(t_mem_anno, subject_id) %>% tally()"
      ],
      "outputs": [],
      "execution_count": null,
      "metadata": {
        "vscode": {
          "languageId": "r"
        }
      },
      "id": "296ce748-14f2-4e8c-a933-6f6d691e774b"
    },
    {
      "cell_type": "code",
      "source": [
        "getCellColData(cd4t_mem_atac) %>% as_tibble() %>% \n",
        "    group_by(t_mem_anno, subject_id) %>% tally()"
      ],
      "outputs": [],
      "execution_count": null,
      "metadata": {
        "tags": [],
        "vscode": {
          "languageId": "r"
        }
      },
      "id": "82f39ed3-c919-486d-80f4-c7f09d703ec3"
    },
    {
      "cell_type": "code",
      "source": [
        "getCellColData(cd4t_mem_atac) %>% colnames()"
      ],
      "outputs": [],
      "execution_count": null,
      "metadata": {
        "vscode": {
          "languageId": "r"
        }
      },
      "id": "0b75f75c-fbcd-4fd4-8cca-5820aa3a8d32"
    },
    {
      "cell_type": "code",
      "source": [
        "# Define your annotation package for TxDb object(s)\n",
        "# and genome-wide annotation\n",
        "# Here our samples are human using hg38 as a reference.\n",
        "# For more info: https://bioconductor.org/packages/3.15/data/annotation/\n",
        "library(TxDb.Hsapiens.UCSC.hg38.refGene)\n",
        "library(org.Hs.eg.db)\n",
        "TxDb <- TxDb.Hsapiens.UCSC.hg38.refGene\n",
        "Org <- org.Hs.eg.db"
      ],
      "outputs": [],
      "execution_count": null,
      "metadata": {
        "vscode": {
          "languageId": "r"
        }
      },
      "id": "bdceade1-83fa-44ed-ae04-1a5d84462dce"
    },
    {
      "cell_type": "code",
      "source": [
        "# # set up the parameters to call peaks \n",
        "# # Parameters for calling open tiles\n",
        "# cellPopulations <- cd4t_mem_atac$Clusters_0.5 %>% unique()\n",
        "# cellPopLabel <- \"Clusters_0.5\"\n",
        "# numCores=60\n"
      ],
      "outputs": [],
      "execution_count": null,
      "metadata": {
        "vscode": {
          "languageId": "r"
        }
      },
      "id": "05764923-3516-4579-b003-6939d863110b"
    },
    {
      "cell_type": "code",
      "source": [
        "# # call peaks in total CD4 naive cells\n",
        "cellPopulations <- cd4t_mem_atac$clean_l2_cell_types %>% unique()\n",
        "cellPopLabel <- \"clean_l2_cell_types\"\n",
        "numCores=60\n"
      ],
      "outputs": [],
      "execution_count": null,
      "metadata": {
        "vscode": {
          "languageId": "r"
        }
      },
      "id": "3cc7b674-5444-47d2-9568-57f411f6cee7"
    },
    {
      "cell_type": "code",
      "source": [
        "cellPopulations"
      ],
      "outputs": [],
      "execution_count": null,
      "metadata": {
        "vscode": {
          "languageId": "r"
        }
      },
      "id": "85a9be6d-33b4-4f51-a5e6-d2d07d57af70"
    },
    {
      "cell_type": "code",
      "source": [
        "####################################################\n",
        "# 2. Call open tiles (main peak calling step)\n",
        "#    Done once for all specified cell populations\n",
        "####################################################\n",
        "cd4t_mem_tileResults <- scMACS::callOpenTiles( \n",
        "    cd4t_mem_atac,\n",
        "    cellPopLabel = cellPopLabel,\n",
        "    cellPopulations = cellPopulations,\n",
        "    TxDb = TxDb,\n",
        "    Org = Org,\n",
        "    numCores = numCores\n",
        ")"
      ],
      "outputs": [],
      "execution_count": null,
      "metadata": {
        "tags": [],
        "vscode": {
          "languageId": "r"
        }
      },
      "id": "41ca4a36-2292-49a9-aba5-46c8609dcae7"
    },
    {
      "cell_type": "code",
      "source": [
        "cd4t_mem_tileResults"
      ],
      "outputs": [],
      "execution_count": null,
      "metadata": {
        "vscode": {
          "languageId": "r"
        }
      },
      "id": "72b8e2b8-28b7-43b2-b8f9-0f8534ef07e0"
    },
    {
      "cell_type": "code",
      "source": [
        "# load the tile matrix from scmacs\n",
        "cd4t_mem_tileResults %>% saveRDS(file.path(output_path, \n",
        "                                  paste0(proj_name, '_scMACS_atac_total_cd4mem_tiles_matrix.rds')))"
      ],
      "outputs": [],
      "execution_count": null,
      "metadata": {
        "vscode": {
          "languageId": "r"
        }
      },
      "id": "36eded28-7356-4c47-9c6e-4d9c9a1012d4"
    },
    {
      "cell_type": "code",
      "source": [
        "# # save thetile matrix from scmacs\n",
        "# cd4na_tileResults %>% saveRDS(file.path(data_path, \n",
        "#                                   paste0(proj_name, '_scMACS_atac_total_cd4na_tiles_matrix.rds')))"
      ],
      "outputs": [],
      "execution_count": null,
      "metadata": {
        "vscode": {
          "languageId": "r"
        }
      },
      "id": "1ed74148-9163-4bec-a804-6cbc98478f92"
    },
    {
      "cell_type": "code",
      "source": [
        "####################################################\n",
        "# 3. Get reproducible sample-peak matrix\n",
        "#    Done for each cell population individually\n",
        "####################################################\n",
        "\n",
        "# Parameters for downstream analysis\n",
        "# cellPopulation <- \"cd4_naive\"\n",
        "threshold <- 0.2\n",
        "groupColumn <- \"cohort\"\n",
        "join <- \"union\"\n",
        "\n",
        "SampleTileMatrices <- scMACS::getSampleTileMatrix( \n",
        "    cd4t_mem_tileResults,\n",
        "    cellPopulations = cellPopulations,\n",
        "    groupColumn = groupColumn,\n",
        "    threshold = threshold,\n",
        "    join = join,\n",
        "    NAtoZero = TRUE,\n",
        "    log2Intensity = TRUE\n",
        ")\n"
      ],
      "outputs": [],
      "execution_count": null,
      "metadata": {
        "vscode": {
          "languageId": "r"
        }
      },
      "id": "23550221-ba82-483e-8e18-3c84cd136b1a"
    },
    {
      "cell_type": "code",
      "source": [
        "SampleTileMatrices %>% saveRDS(file.path(output_path, \n",
        "                                  paste0(proj_name, '_scMACS_total_cd4mem_SampleTileMatrices.rds')))"
      ],
      "outputs": [],
      "execution_count": null,
      "metadata": {
        "vscode": {
          "languageId": "r"
        }
      },
      "id": "90121fcf-1120-45cc-9d4d-f010cbed69da"
    },
    {
      "cell_type": "code",
      "source": [
        "# # load the sample tile matrix\n",
        "# sampleTileMatrixs <- readRDS(file.path(data_path, \n",
        "#                                   paste0(proj_name, '_scMACS_atac_Clusters_0.5_sampleTileMatrixs.rds')))"
      ],
      "outputs": [],
      "execution_count": null,
      "metadata": {
        "vscode": {
          "languageId": "r"
        }
      },
      "id": "11bbc5fb-1c1e-434b-8834-0c7298af66fc"
    },
    {
      "cell_type": "code",
      "source": [
        "SampleTileMatrices"
      ],
      "outputs": [],
      "execution_count": null,
      "metadata": {
        "vscode": {
          "languageId": "r"
        }
      },
      "id": "d6f2ba06-c642-42b2-8bb7-50276761c702"
    },
    {
      "cell_type": "code",
      "source": [
        "####################################################\n",
        "# 4. Add gene annotations to our SampleTileMatrices,\n",
        "#    labelling tiles as either a promoter, exonic,\n",
        "#    intronic, or distal region. Gene names are \n",
        "#    given for all but distal. This info will aid \n",
        "#    further downstream analyses but is not required \n",
        "#    for differential accessibility.\n",
        "#    This function can also take any GRanges object\n",
        "#    and add annotations to its metadata.\n",
        "####################################################\n",
        "SampleTileMatricesAnnotated <- scMACS::annotateTiles( \n",
        "  SampleTileMatrices\n",
        ")"
      ],
      "outputs": [],
      "execution_count": null,
      "metadata": {
        "tags": [],
        "vscode": {
          "languageId": "r"
        }
      },
      "id": "9df5c5b5-2e83-4a2f-9feb-42ffdaba6133"
    },
    {
      "cell_type": "code",
      "source": [
        "SampleTileMatricesAnnotated"
      ],
      "outputs": [],
      "execution_count": null,
      "metadata": {
        "vscode": {
          "languageId": "r"
        }
      },
      "id": "7c0e3f62-51bc-40a4-a28d-229760484546"
    },
    {
      "cell_type": "code",
      "source": [
        "####################################################\n",
        "# 5. Get differential accessibility for specific \n",
        "#    cell populations. Here we are comparing MAIT  \n",
        "#    cells between samples where our groupColumn \n",
        "#    \"COVID_status\" is Positive (our foreground) \n",
        "#    to Negative samples (our background).\n",
        "####################################################\n",
        "\n",
        "differentials <- scMACS::getDifferentialAccessibleTiles(\n",
        "    SampleTileObj = SampleTileMatricesAnnotated,\n",
        "    cellPopulation = \"cd4_memory\",\n",
        "    groupColumn = groupColumn,\n",
        "    foreground = \"pre-RA\",\n",
        "    background = \"Healthy\",\n",
        "    fdrToDisplay = 0.4,\n",
        "    numCores = numCores\n",
        ")"
      ],
      "outputs": [],
      "execution_count": null,
      "metadata": {
        "vscode": {
          "languageId": "r"
        }
      },
      "id": "917dbb8a-4ea7-4aa3-92fd-71977b32bced"
    },
    {
      "cell_type": "code",
      "source": [
        "# add the tile information to the differentail results\n",
        "tile_info <- rowData(SampleTileMatricesAnnotated) %>% as.data.table(keep.rownames = 'Tile')\n",
        "differentials <- differentials %>% left_join(tile_info, by='Tile')"
      ],
      "outputs": [],
      "execution_count": null,
      "metadata": {
        "vscode": {
          "languageId": "r"
        }
      },
      "id": "f8781450-0659-472f-b0e9-a676917844f7"
    },
    {
      "cell_type": "code",
      "source": [
        "# save the differential results\n",
        "differentials %>% fwrite(file.path(output_path, \n",
        "                                  paste0(proj_name, '_scMACS_cd161_cd4_mem_DAPs_RAvsHealthy.tsv')))"
      ],
      "outputs": [],
      "execution_count": null,
      "metadata": {
        "vscode": {
          "languageId": "r"
        }
      },
      "id": "fa4acbc5-b1aa-4aaa-865e-c34c6e611579"
    },
    {
      "cell_type": "code",
      "source": [
        "differentials %>% filter(!is.na(FDR))  %>% ggplot() + geom_histogram(aes(FDR))"
      ],
      "outputs": [],
      "execution_count": null,
      "metadata": {
        "vscode": {
          "languageId": "r"
        }
      },
      "id": "b58c8c95-7692-450c-ac41-8c15174a1ec0"
    },
    {
      "cell_type": "code",
      "source": [
        "differentials %>% filter(FDR<0.2 & !is.na(Gene)) %>% arrange(FDR)"
      ],
      "outputs": [],
      "execution_count": null,
      "metadata": {
        "tags": [],
        "vscode": {
          "languageId": "r"
        }
      },
      "id": "1a53d8d4-bb27-4de2-97cb-d64df63e8e84"
    },
    {
      "cell_type": "markdown",
      "source": [
        "#### check what are the overlap of genes and atac openness"
      ],
      "metadata": {},
      "id": "8c6ef8e0-1789-4ba6-a9c2-2c30c979bf92"
    },
    {
      "cell_type": "code",
      "source": [
        "# load the degs for cd4 naive\n",
        "# load the deg list\n",
        "ra_tea_l2_pseudo_degs <- \n",
        "    read_csv('/home/jupyter/data/preRA_teaseq/output_results/PreRA_teaseq_l2_annotation_PseudoBulk_degs_preRAvsHealthy.csv',\n",
        "            show_col_types = FALSE) %>%\n",
        "    filter(!is.na(FDR) & !is.na(logFC)) %>% mutate(direction=if_else(logFC>0, 'up', 'down'))\n",
        "# filter cd4 naive\n",
        "cd4na_pseudo_degs <- ra_tea_l2_pseudo_degs %>% filter(FDR<0.05 & cell_type=='cd4_mem')\n",
        "cd4na_pseudo_degs %>% head()"
      ],
      "outputs": [],
      "execution_count": null,
      "metadata": {
        "vscode": {
          "languageId": "r"
        }
      },
      "id": "d40240fd-d4d0-4ae2-952f-c42659ca3ad4"
    },
    {
      "cell_type": "code",
      "source": [
        "# filter out the differential peaks\n",
        "cd4na_diff_peaks <- differentials %>% filter(FDR<0.2&!is.na(Gene)) %>% dplyr::rename('gene'='Gene')\n",
        "\n",
        "cd4na_diff_peaks_unique <- cd4na_diff_peaks %>% arrange(FDR) %>% distinct(gene, .keep_all = TRUE)\n",
        "table(cd4na_diff_peaks_unique$gene %in% cd4na_pseudo_degs$gene)"
      ],
      "outputs": [],
      "execution_count": null,
      "metadata": {
        "vscode": {
          "languageId": "r"
        }
      },
      "id": "2a267eb8-4c76-4fdd-8525-f29966a9fc22"
    },
    {
      "cell_type": "code",
      "source": [
        "cd4na_diff_peaks %>% janitor::get_dupes(gene)"
      ],
      "outputs": [],
      "execution_count": null,
      "metadata": {
        "vscode": {
          "languageId": "r"
        }
      },
      "id": "7025800d-2540-4c0e-87da-e9da3c11d16b"
    },
    {
      "cell_type": "code",
      "source": [
        "# combine the degs and deps\n",
        "cd4na_pseudo_degs_deps <- cd4na_pseudo_degs %>% filter(gene %in% cd4na_diff_peaks_unique$gene) %>% \n",
        "    left_join(cd4na_diff_peaks_unique, suffix = c('.degs', '.deps'), by='gene')\n",
        "cd4na_pseudo_degs_deps"
      ],
      "outputs": [],
      "execution_count": null,
      "metadata": {
        "vscode": {
          "languageId": "r"
        }
      },
      "id": "bd0c08f1-54e1-430e-bbbb-f9c874c8c5ae"
    },
    {
      "cell_type": "code",
      "source": [
        "cd4na_pseudo_degs_deps %>% ggplot() + geom_point(aes(x=logFC, y=MeanDiff, color=tileType))"
      ],
      "outputs": [],
      "execution_count": null,
      "metadata": {
        "vscode": {
          "languageId": "r"
        }
      },
      "id": "17b128f6-d53e-4d90-816c-b2debcae505a"
    },
    {
      "cell_type": "code",
      "source": [],
      "outputs": [],
      "execution_count": null,
      "metadata": {
        "vscode": {
          "languageId": "r"
        }
      },
      "id": "9a61d618-fca4-4191-abcd-f5acbccd12ed"
    },
    {
      "cell_type": "markdown",
      "source": [
        "### import the peaks cells in scMACS into Archr and remake peak matrix"
      ],
      "metadata": {},
      "id": "b5d698df-4ea5-4ed3-89cb-f75e7e74702a"
    },
    {
      "cell_type": "code",
      "source": [
        "# Tests if a string is a in the correct format to convert to GRanges \n",
        "validRegionString <- function(regionString) {\n",
        "  if (!is.character(regionString)) {\n",
        "    return(FALSE)\n",
        "  }\n",
        "\n",
        "  pattern <- \"([0-9]{1,2}|chr[0-9]{1,2}):[0-9]*-[0-9]*\"\n",
        "  matchedPattern <- str_extract(regionString, pattern)\n",
        "\n",
        "  if (is.na(matchedPattern)) {\n",
        "    return(FALSE)\n",
        "  } else if (!matchedPattern == regionString) {\n",
        "    return(FALSE)\n",
        "  }\n",
        "\n",
        "  splits <- str_split(regionString, \"[:-]\")[[1]]\n",
        "  start <- splits[2]\n",
        "  end <- splits[3]\n",
        "  if (start > end) {\n",
        "    return(FALSE)\n",
        "  }\n",
        "\n",
        "  # All conditions satisfied\n",
        "  return(TRUE)\n",
        "}\n",
        "# Strings to GRanges\n",
        "StringsToGRanges <- function(regionString) {\n",
        "  if (!validRegionString(regionString)) {\n",
        "    stop(\"Region must be a string matching format 'seqname:start-end', where start<end e.g. chr1:123000-123500\")\n",
        "  }\n",
        "\n",
        "  chrom <- gsub(\":.*\", \"\", regionString)\n",
        "  startSite <- gsub(\".*:\", \"\", regionString) %>%\n",
        "    gsub(\"-.*\", \"\", .) %>%\n",
        "    as.numeric()\n",
        "  endSite <- gsub(\".*-\", \"\", regionString) %>% as.numeric()\n",
        "\n",
        "\n",
        "  regionGRanges <- GRanges(seqnames = chrom, ranges = IRanges(start = startSite, end = endSite), strand = \"*\")\n",
        "  return(regionGRanges)\n",
        "}  "
      ],
      "outputs": [],
      "execution_count": null,
      "metadata": {
        "vscode": {
          "languageId": "r"
        }
      },
      "id": "e7d216e2-6a7c-4b49-bd5e-8a1cd55a6535"
    },
    {
      "cell_type": "code",
      "source": [
        "# make a grange object from the the union of the peaks called\n",
        "granges_Clusters_0.5 <- sampleTileMatrixs_data %>% pull(location) %>% unique() %>% \n",
        "    StringsToGRanges()\n",
        "granges_Clusters_0.5"
      ],
      "outputs": [],
      "execution_count": null,
      "metadata": {
        "vscode": {
          "languageId": "r"
        }
      },
      "id": "b5d5b3c6-2c3b-488c-b19b-679e48227f9b"
    },
    {
      "cell_type": "code",
      "source": [
        "# add the peak called by scMACS back to archR\n",
        "cd4t_mem_atac <- addPeakSet(\n",
        "  ArchRProj = cd4t_mem_atac,\n",
        "  peakSet = granges_Clusters_0.5,\n",
        "  #genomeAnnotation = getGenomeAnnotation(cd4t_mem_atac),\n",
        "  force = TRUE\n",
        ")\n"
      ],
      "outputs": [],
      "execution_count": null,
      "metadata": {
        "vscode": {
          "languageId": "r"
        }
      },
      "id": "fe1e8c1c-b64b-4a29-96f5-d9d3071ae8fc"
    },
    {
      "cell_type": "markdown",
      "source": [
        "### plot regions in Archr "
      ],
      "metadata": {},
      "id": "a3fb5eb1-17f2-4ef6-91bd-231966f424b7"
    },
    {
      "cell_type": "code",
      "source": [
        "source('/home/jupyter/github/scATAC_Supplements/ArchR_Export_ATAC_Data.R')"
      ],
      "outputs": [],
      "execution_count": null,
      "metadata": {
        "vscode": {
          "languageId": "r"
        }
      },
      "id": "b1fe27fe-83d9-4c39-a567-7a2c4a35d084"
    },
    {
      "cell_type": "code",
      "source": [
        "# Extract fragments by populations from an ArchR Project: getPopFrags()\n",
        "cd4t_mem_Clusters_0.8_frags <- getPopFrags(cd4t_mem_atac, 'Clusters_0.8',cellSubsets = 'ALL' ,\n",
        "                                           region = NULL, numCores = 30, \n",
        "                        NormMethod = \"nfrags\", blackList = NULL, overlapList = 50)"
      ],
      "outputs": [],
      "execution_count": null,
      "metadata": {
        "vscode": {
          "languageId": "r"
        }
      },
      "id": "5c546542-123e-418e-a918-7311acd6e07a"
    },
    {
      "cell_type": "code",
      "source": [
        "cd4t_mem_Clusters_0.8_frags_files <- FragsToCoverageFiles(cd4t_mem_Clusters_0.8_frags, files = \"BigWig\",\n",
        "                                             genome = \"hg38\", fname = NULL, outDir = NULL, numCores=30)"
      ],
      "outputs": [],
      "execution_count": null,
      "metadata": {
        "vscode": {
          "languageId": "r"
        }
      },
      "id": "107b4c01-2567-4953-bf77-6d1d7c55385f"
    },
    {
      "cell_type": "code",
      "source": [
        "getAvailableMatrices(cd4t_mem_atac)\n",
        "cd4t_mem_atac <- addMotifAnnotations(ArchRProj = cd4t_mem_atac, motifSet = \"JASPAR2020\", name = \"JasparMotifs\")"
      ],
      "outputs": [],
      "execution_count": null,
      "metadata": {
        "vscode": {
          "languageId": "r"
        }
      },
      "id": "5eedfc79-13ad-430e-82c8-eb4f374f3d3d"
    },
    {
      "cell_type": "code",
      "source": [
        "getAvailableMatrices(cd4t_mem_atac)"
      ],
      "outputs": [],
      "execution_count": null,
      "metadata": {
        "vscode": {
          "languageId": "r"
        }
      },
      "id": "8183fbd9-1260-4f68-8359-db4bf0ae408d"
    },
    {
      "cell_type": "code",
      "source": [
        "cd4t_mem_c0.8_frags_RORC <- getbpCounts(regionString='chr17:47,733,236-47,746,122', \n",
        "                                          popFrags=cd4t_mem_Clusters_0.8_frags,\n",
        "                                        numCores = 30, returnGRanges = FALSE)"
      ],
      "outputs": [],
      "execution_count": null,
      "metadata": {
        "vscode": {
          "languageId": "r"
        }
      },
      "id": "fe0c159b-c8fa-4683-8aa1-4afdf248fa78"
    },
    {
      "cell_type": "code",
      "source": [
        "cd4t_mem_c0.8_frags_RORC %>% head()"
      ],
      "outputs": [],
      "execution_count": null,
      "metadata": {
        "vscode": {
          "languageId": "r"
        }
      },
      "id": "ffdaafad-843c-45ea-9d0f-cb4bcec591ab"
    },
    {
      "cell_type": "code",
      "source": [
        "suppressMessages(p1 <- plotRegion(cd4t_mem_c0.8_frags_RORC, \n",
        "                                  ArchRProj = cd4t_mem_atac, motifSetName =  \"JasparMotifs\"))\n"
      ],
      "outputs": [],
      "execution_count": null,
      "metadata": {
        "vscode": {
          "languageId": "r"
        }
      },
      "id": "5c5fa20e-4bd8-4b99-bbb6-2e4dd6701393"
    },
    {
      "cell_type": "code",
      "source": [
        "pdf(file.path(fig_path,paste0(proj_name, '_atac_Clusters_0.8_TBX21_gene_coverage.pdf')), width = 8, height = 8)\n",
        "suppressWarnings(p1)\n",
        "dev.off()"
      ],
      "outputs": [],
      "execution_count": null,
      "metadata": {
        "vscode": {
          "languageId": "r"
        }
      },
      "id": "e6018d5e-9cae-4814-b823-a68ad8e6a993"
    },
    {
      "cell_type": "code",
      "source": [],
      "outputs": [],
      "execution_count": null,
      "metadata": {
        "vscode": {
          "languageId": "r"
        }
      },
      "id": "ce19a71c-8a4a-4a71-831b-edaeab64594e"
    },
    {
      "cell_type": "code",
      "source": [
        "# plot the heatmap of differential peaks\n",
        "heatmapPeaks <- plotMarkerHeatmap(\n",
        "  seMarker = cd4t_mem_atac_ravshealthy_Peaks, \n",
        "  cutOff = \"FDR <= 0.1 & Log2FC >= 0.5\",\n",
        "  transpose = TRUE\n",
        ")\n",
        "draw(heatmapPeaks, heatmap_legend_side = \"bot\", annotation_legend_side = \"bot\")\n",
        "plotPDF(heatmapPeaks, name = \"cd4t_mem_atac_ravshealthy_Peaks_Marker-Heatmap\", \n",
        "        width = 8, height = 6, ArchRProj = cd4t_mem_atac, addDOC = FALSE)"
      ],
      "outputs": [],
      "execution_count": null,
      "metadata": {
        "vscode": {
          "languageId": "r"
        }
      },
      "id": "08855f39-051d-45ef-a60f-a0fcf336a4a3"
    },
    {
      "cell_type": "code",
      "source": [
        "#Identifying Marker Peaks with ArchR\n",
        "cd4t_mem_atac_ravshealthy_Peaks <- getMarkerFeatures(\n",
        "    ArchRProj = cd4t_mem_atac, \n",
        "    useMatrix = \"PeakMatrix\", \n",
        "    groupBy = \"cohort\",\n",
        "  bias = c(\"TSSEnrichment\", \"log10(nFrags)\"),\n",
        "  testMethod = \"wilcoxon\"\n",
        ")"
      ],
      "outputs": [],
      "execution_count": null,
      "metadata": {
        "vscode": {
          "languageId": "r"
        }
      },
      "id": "09b80312-3e56-4912-bc7c-143025add2db"
    },
    {
      "cell_type": "code",
      "source": [
        "getAvailableMatrices(cd4t_atac)"
      ],
      "outputs": [],
      "execution_count": null,
      "metadata": {
        "tags": [],
        "vscode": {
          "languageId": "r"
        }
      },
      "id": "09a21b29-e419-4ac4-bae5-db921586a661"
    },
    {
      "cell_type": "markdown",
      "source": [
        "## load cd4 naive t cells atac data"
      ],
      "metadata": {
        "tags": []
      },
      "id": "4cf6e03a-a923-4a45-a9a2-e90a2db3de2d"
    },
    {
      "cell_type": "code",
      "source": [
        "# define work directories\n",
        "proj_path <- '/home/jupyter/data/preRA_teaseq/EXP-00243/cd4tna_cells'\n",
        "setwd(proj_path)\n",
        "# define a project name\n",
        "proj_name <- 'preRA_tea_seq_cd4tna'\n",
        "fig_path <- as.character('/home/jupyter/figures/preRA_teaseq/ATAC/cd4tna')\n",
        "output_path <- '/home/jupyter/data/preRA_teaseq/output_results/atac'\n",
        "if(!dir.exists(fig_path)) (dir.create(fig_path, recursive = TRUE))\n",
        "if(!dir.exists(output_path)) (dir.create(fig_path, recursive = TRUE))\n"
      ],
      "outputs": [],
      "execution_count": null,
      "metadata": {
        "vscode": {
          "languageId": "r"
        }
      },
      "id": "d9e896d9-dfcc-4c52-8fb4-0c6df7ab3b26"
    },
    {
      "cell_type": "code",
      "source": [
        "# load ATAC \n",
        "# load the ArchR project for CD4 t cells\n",
        "cd4na_atac <- loadArchRProject(path = '/home/jupyter/data/preRA_teaseq/EXP-00243/cd4tna_cells')"
      ],
      "outputs": [],
      "execution_count": null,
      "metadata": {
        "vscode": {
          "languageId": "r"
        }
      },
      "id": "94a4b556-08fa-42f1-a8f7-2f36b032e8cb"
    },
    {
      "cell_type": "code",
      "source": [
        "cd4na_atac"
      ],
      "outputs": [],
      "execution_count": null,
      "metadata": {
        "vscode": {
          "languageId": "r"
        }
      },
      "id": "829fa9bb-49e9-443b-a2a5-ce41db54debc"
    },
    {
      "cell_type": "code",
      "source": [
        "# load the seurat object\n",
        "ra_tea_cd4na <- readRDS(file.path(data_path, 'PreRA_teaseq_seurat_cd4naive_t_cells.rds'))"
      ],
      "outputs": [],
      "execution_count": null,
      "metadata": {
        "vscode": {
          "languageId": "r"
        }
      },
      "id": "83e9e57e-0216-4189-b459-7920312dd5f4"
    },
    {
      "cell_type": "code",
      "source": [
        "ra_tea_cd4na@meta.data %>% colnames()"
      ],
      "outputs": [],
      "execution_count": null,
      "metadata": {
        "vscode": {
          "languageId": "r"
        }
      },
      "id": "313d6d31-b6d9-4bc8-b146-b8743bb9d5f4"
    },
    {
      "cell_type": "code",
      "source": [
        "getCellColData(cd4na_atac) %>% colnames()\n",
        "cd4na_atac <- MetaSotoArchr(archr=cd4na_atac, so=ra_tea_cd4na, \n",
        "                           so.cols=c('barcodes', 'predicted.celltype_l2', 'wsnn_res.0.3','age', 'total_counts'), \n",
        "                          id.col='barcodes')"
      ],
      "outputs": [],
      "execution_count": null,
      "metadata": {
        "vscode": {
          "languageId": "r"
        }
      },
      "id": "591081b9-4f66-49a6-b75f-decbaad2c4d1"
    },
    {
      "cell_type": "code",
      "source": [
        "getCellColData(cd4na_atac) %>% colnames()"
      ],
      "outputs": [],
      "execution_count": null,
      "metadata": {
        "vscode": {
          "languageId": "r"
        }
      },
      "id": "b2635393-7259-42fd-b160-2a7ccf1b194f"
    },
    {
      "cell_type": "code",
      "source": [
        "cd4na_atac <- addClusters(\n",
        "      input = cd4na_atac,\n",
        "      reducedDims = \"IterativeLSI\",\n",
        "      method = \"Seurat\",\n",
        "      name = \"Clusters_0.5\",\n",
        "      resolution = 0.5,\n",
        "      force = TRUE\n",
        "    )"
      ],
      "outputs": [],
      "execution_count": null,
      "metadata": {
        "vscode": {
          "languageId": "r"
        }
      },
      "id": "1e94ab10-4eda-4624-b443-3bfde7df1a78"
    },
    {
      "cell_type": "code",
      "source": [
        "# add arcrr clusters into seurat\n",
        "atac_clusters_0.5 <- getCellColData(cd4na_atac) %>% as_tibble() %>% \n",
        "      dplyr::select(Clusters_0.5, barcodes) %>% dplyr::rename('archr_clusters_0.5'='Clusters_0.5')\n",
        "cell_id <- ra_tea_cd4na@meta.data %>% rownames()\n",
        "ra_tea_cd4na@meta.data <- ra_tea_cd4na@meta.data %>% left_join(atac_clusters_0.5, by = 'barcodes')\n",
        "rownames(ra_tea_cd4na@meta.data) <- cell_id"
      ],
      "outputs": [],
      "execution_count": null,
      "metadata": {
        "vscode": {
          "languageId": "r"
        }
      },
      "id": "2775bbbc-ee0f-45eb-ae50-fd61725ef9c5"
    },
    {
      "cell_type": "code",
      "source": [
        "# load the seurat object\n",
        "ra_tea_cd4na %>% saveRDS(file.path(data_path, 'PreRA_teaseq_seurat_cd4naive_t_cells.rds'))"
      ],
      "outputs": [],
      "execution_count": null,
      "metadata": {
        "vscode": {
          "languageId": "r"
        }
      },
      "id": "dffe1231-8f12-4bf6-a8ac-41ed2ffe622e"
    },
    {
      "cell_type": "code",
      "source": [
        "ra_tea_cd4na@meta.data %>% colnames()"
      ],
      "outputs": [],
      "execution_count": null,
      "metadata": {
        "vscode": {
          "languageId": "r"
        }
      },
      "id": "97d5d7f7-cf35-414f-9ae1-6efc5ea81540"
    },
    {
      "cell_type": "code",
      "source": [
        "saveArchRProject(ArchRProj = cd4na_atac)"
      ],
      "outputs": [],
      "execution_count": null,
      "metadata": {
        "vscode": {
          "languageId": "r"
        }
      },
      "id": "603ef39d-bbf6-42bf-93de-79c1711567a3"
    },
    {
      "cell_type": "code",
      "source": [
        "getAvailableMatrices(cd4na_atac)\n",
        "getCellColData(cd4na_atac) %>% colnames()"
      ],
      "outputs": [],
      "execution_count": null,
      "metadata": {
        "vscode": {
          "languageId": "r"
        }
      },
      "id": "30b8f510-450b-4294-9b4e-89ed5d5e0f3f"
    },
    {
      "cell_type": "code",
      "source": [
        "# cd4t_atac_gene_cores <- getMatrixFromProject(cd4t_atac, useMatrix = \"GeneScoreMatrix\")"
      ],
      "outputs": [],
      "execution_count": null,
      "metadata": {
        "vscode": {
          "languageId": "r"
        }
      },
      "id": "eff83d32-fa87-4d86-bc9f-d3f79c49304c"
    },
    {
      "cell_type": "code",
      "source": [
        "markersGS <- getMarkerFeatures(\n",
        "    ArchRProj = cd4na_atac, \n",
        "    useMatrix = \"GeneScoreMatrix\", \n",
        "    groupBy = \"Clusters_0.5\",\n",
        "    bias = c(\"TSSEnrichment\", \"log10(nFrags)\"),\n",
        "    testMethod = \"wilcoxon\"\n",
        ")"
      ],
      "outputs": [],
      "execution_count": null,
      "metadata": {
        "vscode": {
          "languageId": "r"
        }
      },
      "id": "8da1083f-8a08-46a9-93a7-c4947e25cd84"
    },
    {
      "cell_type": "code",
      "source": [
        "markerList <- getMarkers(markersGS, cutOff = \"FDR <= 0.01 & Log2FC >= 1\")\n",
        "markerList$C4$name"
      ],
      "outputs": [],
      "execution_count": null,
      "metadata": {
        "vscode": {
          "languageId": "r"
        }
      },
      "id": "18bcb87e-3656-44b2-9e04-99f2368ad08f"
    },
    {
      "cell_type": "code",
      "source": [
        "# marker_genes <- rowData(cd4t_atac_gene_cores)$name %>% str_subset('GATA3|RORC|FOXP3|TBX21|IKZF2|STAT3')\n",
        "marker_genes <- c('GATA3', 'RORC', 'FOXP3', 'TBX21', 'IKZF2', 'STAT3', 'SELL', 'IL17A', 'IFNG', 'IL10')\n",
        "marker_genes"
      ],
      "outputs": [],
      "execution_count": null,
      "metadata": {
        "vscode": {
          "languageId": "r"
        }
      },
      "id": "ff61fcfd-7caf-4686-96c0-12e0c1f5ac15"
    },
    {
      "cell_type": "code",
      "source": [
        "# plot umap of annotated cell types\n",
        "p1 <- plotEmbedding(cd4na_atac, embedding = \"UMAP\", \n",
        "                    colorBy = \"cellColData\", name = c('subject_id', 'age'))\n",
        "plotPDF(p1, name = paste0(proj_name, '_subject_id_atac_umap_gene_score.pdf'), ArchRProj = cd4na_atac,\n",
        "        addDOC = FALSE, width = 6, height = 6)                                                "
      ],
      "outputs": [],
      "execution_count": null,
      "metadata": {
        "tags": [],
        "vscode": {
          "languageId": "r"
        }
      },
      "id": "f600cc0e-3951-436f-a32d-f0f66a2a1b1b"
    },
    {
      "cell_type": "code",
      "source": [
        "# plot umap of annotated cell types\n",
        "p1 <- plotEmbedding(cd4na_atac, embedding = \"UMAP\", \n",
        "                    colorBy = \"cellColData\", name = c(\"l2_cell_types\", \"Clusters_0.5\", 'subject_id','age',\n",
        "                                                      'predicted.celltype_l2','wsnn_res.0.5',\n",
        "                                                      'cohort'))\n",
        "p2 <-  plotEmbedding(\n",
        "    ArchRProj = cd4na_atac, \n",
        "    colorBy = \"GeneScoreMatrix\", \n",
        "    name = marker_genes, \n",
        "    embedding = \"UMAP\",\n",
        "    imputeWeights = getImputeWeights(cd4na_atac)\n",
        ")\n",
        "\n",
        "plotPDF(p1,p2, name = paste0(proj_name, '_Clusters_0.8_atac_umap_gene_score.pdf'), ArchRProj = cd4na_atac,\n",
        "        addDOC = FALSE, width = 6, height = 6)"
      ],
      "outputs": [],
      "execution_count": null,
      "metadata": {
        "vscode": {
          "languageId": "r"
        }
      },
      "id": "483df1a6-f127-4b25-890d-6afcbb7eb7de"
    },
    {
      "cell_type": "code",
      "source": [
        "# plot umap of annotated cell types\n",
        "p1 <- plotEmbedding(cd4na_atac, embedding = \"UMAP\", \n",
        "                    colorBy = \"cellColData\", name = c(\"Clusters_0.5\",'cohort', 'subject_id','age'\n",
        "                                                      ))\n",
        "p1\n",
        "plotPDF(p1, name = paste0(proj_name, '_Clusters_0.5_atac_umap.pdf'), ArchRProj = cd4na_atac,\n",
        "        addDOC = FALSE, width = 6, height = 6)"
      ],
      "outputs": [],
      "execution_count": null,
      "metadata": {
        "vscode": {
          "languageId": "r"
        }
      },
      "id": "2a15ec6c-79de-4ea0-8ca4-afbe3d5b57e1"
    },
    {
      "cell_type": "markdown",
      "source": [
        "### call peaks in the archR (MACS2)"
      ],
      "metadata": {
        "jp-MarkdownHeadingCollapsed": true,
        "tags": []
      },
      "id": "4a3ed486-005c-4d2a-8326-e9132f8f5405"
    },
    {
      "cell_type": "code",
      "source": [
        "# add group coverage\n",
        "cd4na_atac <- addGroupCoverages(ArchRProj = cd4na_atac, maxReplicates = 16,\n",
        "                                 groupBy = \"Clusters_0.5\")"
      ],
      "outputs": [],
      "execution_count": null,
      "metadata": {
        "tags": [],
        "vscode": {
          "languageId": "r"
        }
      },
      "id": "241344d7-c9fb-4265-b0de-0072e7b6aec1"
    },
    {
      "cell_type": "code",
      "source": [
        "# !!important\n",
        "# define the path in conda environment to mac2 python packages for peak calling in archr\n",
        "pathToMacs2 <- '/home/jupyter/libs/r_scrna/bin/macs2'\n",
        "pathToMacs2"
      ],
      "outputs": [],
      "execution_count": null,
      "metadata": {
        "vscode": {
          "languageId": "r"
        }
      },
      "id": "701072d0-aeee-4762-ad9a-565f5aa52a07"
    },
    {
      "cell_type": "code",
      "source": [
        "# call peaks in cd4 naive\n",
        "cd4na_atac <- addReproduciblePeakSet(threads = 60,\n",
        "    ArchRProj = cd4na_atac, \n",
        "    groupBy = \"Clusters_0.5\", \n",
        "    pathToMacs2 = pathToMacs2,\n",
        "    force = TRUE\n",
        ")"
      ],
      "outputs": [],
      "execution_count": null,
      "metadata": {
        "vscode": {
          "languageId": "r"
        }
      },
      "id": "cb6c4a96-7235-47e9-a75b-d617590d5b4e"
    },
    {
      "cell_type": "code",
      "source": [
        "cd4na_atac <- addPeakMatrix(cd4na_atac)"
      ],
      "outputs": [],
      "execution_count": null,
      "metadata": {
        "vscode": {
          "languageId": "r"
        }
      },
      "id": "ed38011b-91e3-4a9b-91a8-e30b4a886f3c"
    },
    {
      "cell_type": "code",
      "source": [
        "getAvailableMatrices(cd4na_atac)"
      ],
      "outputs": [],
      "execution_count": null,
      "metadata": {
        "vscode": {
          "languageId": "r"
        }
      },
      "id": "5d86881d-4579-4125-9a68-8601ab64a8f7"
    },
    {
      "cell_type": "code",
      "source": [
        "saveArchRProject(ArchRProj = cd4na_atac)"
      ],
      "outputs": [],
      "execution_count": null,
      "metadata": {
        "vscode": {
          "languageId": "r"
        }
      },
      "id": "cd2b4081-a009-4c0f-b20a-bcb6543b2902"
    },
    {
      "cell_type": "code",
      "source": [
        "table(cd4na_atac$Clusters_0.5)"
      ],
      "outputs": [],
      "execution_count": null,
      "metadata": {
        "vscode": {
          "languageId": "r"
        }
      },
      "id": "f2504f8c-5e2c-41b8-8cca-b4b2f7e5ae00"
    },
    {
      "cell_type": "code",
      "source": [
        "#Identifying Marker Peaks with ArchR\n",
        "cd4na_clusters_0.5_Peaks <- getMarkerFeatures(\n",
        "    ArchRProj = cd4na_atac, \n",
        "    useMatrix = \"PeakMatrix\", \n",
        "    groupBy = \"Clusters_0.5\",\n",
        "     maxCells = 1135,\n",
        "  bias = c(\"TSSEnrichment\", \"log10(nFrags)\"),\n",
        "  testMethod = \"wilcoxon\"\n",
        ")"
      ],
      "outputs": [],
      "execution_count": null,
      "metadata": {
        "vscode": {
          "languageId": "r"
        }
      },
      "id": "42ada2fd-e1c1-4c6e-bb74-2fe5b4731a8e"
    },
    {
      "cell_type": "code",
      "source": [
        "markerList <- getMarkers(cd4na_clusters_0.5_Peaks, cutOff = \"FDR <= 0.01 & Log2FC >= 1\")\n",
        "markerList"
      ],
      "outputs": [],
      "execution_count": null,
      "metadata": {
        "vscode": {
          "languageId": "r"
        }
      },
      "id": "d3dc2caf-6556-43cb-a083-87765652d0f5"
    },
    {
      "cell_type": "code",
      "source": [
        "# plot the heatmap of differential peaks\n",
        "heatmapPeaks <- plotMarkerHeatmap(\n",
        "  seMarker = cd4na_clusters_0.5_Peaks, \n",
        "  cutOff = \"FDR <= 0.1 & Log2FC >= 0.5\",\n",
        "  transpose = TRUE\n",
        ")\n",
        "draw(heatmapPeaks, heatmap_legend_side = \"bot\", annotation_legend_side = \"bot\")\n",
        "plotPDF(heatmapPeaks, name = \"cd4na_clusters_0.5_Peaks_Marker-Heatmap\", \n",
        "        width = 8, height = 6, ArchRProj = cd4na_atac, addDOC = FALSE)"
      ],
      "outputs": [],
      "execution_count": null,
      "metadata": {
        "tags": [],
        "vscode": {
          "languageId": "r"
        }
      },
      "id": "deabfff4-16ff-48bf-b406-fef6fa9662af"
    },
    {
      "cell_type": "markdown",
      "source": [
        "### call peaks in scMACS and run differential"
      ],
      "metadata": {
        "tags": []
      },
      "id": "e2ca2a1c-e510-4f4a-9d2f-c986a1543b83"
    },
    {
      "cell_type": "code",
      "source": [
        "#Load scMACS and accompanying libraries\n",
        "library(scMACS)\n",
        "library(data.table)\n",
        "library(ArchR)\n",
        "library(GenomicRanges)\n",
        "library(plyranges)"
      ],
      "outputs": [],
      "execution_count": null,
      "metadata": {
        "vscode": {
          "languageId": "r"
        }
      },
      "id": "f1d50129-ed71-46de-a7fa-da7319f54e89"
    },
    {
      "cell_type": "code",
      "source": [
        "getCellColData(cd4na_atac) %>% as_tibble() %>% \n",
        "    group_by(Clusters_0.5, cohort) %>% tally()"
      ],
      "outputs": [],
      "execution_count": null,
      "metadata": {
        "vscode": {
          "languageId": "r"
        }
      },
      "id": "9c65b393-e2a3-471d-af01-07ece5dc6294"
    },
    {
      "cell_type": "code",
      "source": [
        "getCellColData(cd4na_atac) %>% as_tibble() %>% \n",
        "    group_by(clean_l2_cell_types, cohort) %>% tally()"
      ],
      "outputs": [],
      "execution_count": null,
      "metadata": {
        "vscode": {
          "languageId": "r"
        }
      },
      "id": "93d5adb2-02cd-4934-858d-18e3769bfcdd"
    },
    {
      "cell_type": "code",
      "source": [
        "getCellColData(cd4na_atac) %>% colnames()"
      ],
      "outputs": [],
      "execution_count": null,
      "metadata": {
        "vscode": {
          "languageId": "r"
        }
      },
      "id": "18d732a9-2bd0-4567-bf2e-d2d599b9f2c6"
    },
    {
      "cell_type": "code",
      "source": [
        "# Define your annotation package for TxDb object(s)\n",
        "# and genome-wide annotation\n",
        "# Here our samples are human using hg38 as a reference.\n",
        "# For more info: https://bioconductor.org/packages/3.15/data/annotation/\n",
        "library(TxDb.Hsapiens.UCSC.hg38.refGene)\n",
        "library(org.Hs.eg.db)\n",
        "TxDb <- TxDb.Hsapiens.UCSC.hg38.refGene\n",
        "Org <- org.Hs.eg.db"
      ],
      "outputs": [],
      "execution_count": null,
      "metadata": {
        "vscode": {
          "languageId": "r"
        }
      },
      "id": "295e668a-bc07-4310-b8ca-92b8599832cd"
    },
    {
      "cell_type": "code",
      "source": [
        "# # set up the parameters to call peaks \n",
        "# # Parameters for calling open tiles\n",
        "# cellPopulations <- cd4na_atac$Clusters_0.5 %>% unique()\n",
        "# cellPopLabel <- \"Clusters_0.5\"\n",
        "# numCores=60\n"
      ],
      "outputs": [],
      "execution_count": null,
      "metadata": {
        "vscode": {
          "languageId": "r"
        }
      },
      "id": "fcb47654-c9fa-487b-b08f-e946a2d01a56"
    },
    {
      "cell_type": "code",
      "source": [
        "# # call peaks in total CD4 naive cells\n",
        "cellPopulations <- cd4na_atac$clean_l2_cell_types %>% unique()\n",
        "cellPopLabel <- \"clean_l2_cell_types\"\n",
        "numCores=60\n"
      ],
      "outputs": [],
      "execution_count": null,
      "metadata": {
        "vscode": {
          "languageId": "r"
        }
      },
      "id": "d17137d9-5bac-4ba3-83f8-d8d9a8797ddd"
    },
    {
      "cell_type": "code",
      "source": [
        "cellPopulations"
      ],
      "outputs": [],
      "execution_count": null,
      "metadata": {
        "vscode": {
          "languageId": "r"
        }
      },
      "id": "22fb71c9-2765-4a36-9901-ed50fdb9914f"
    },
    {
      "cell_type": "code",
      "source": [
        "####################################################\n",
        "# 2. Call open tiles (main peak calling step)\n",
        "#    Done once for all specified cell populations\n",
        "####################################################\n",
        "cd4na_tileResults <- scMACS::callOpenTiles( \n",
        "    cd4na_atac,\n",
        "    cellPopLabel = cellPopLabel,\n",
        "    cellPopulations = cellPopulations,\n",
        "    TxDb = TxDb,\n",
        "    Org = Org,\n",
        "    numCores = numCores\n",
        ")"
      ],
      "outputs": [],
      "execution_count": null,
      "metadata": {
        "tags": [],
        "vscode": {
          "languageId": "r"
        }
      },
      "id": "9ce229b6-77dd-41e9-b1e0-4d5c227341f1"
    },
    {
      "cell_type": "code",
      "source": [
        "cd4na_tileResults"
      ],
      "outputs": [],
      "execution_count": null,
      "metadata": {
        "vscode": {
          "languageId": "r"
        }
      },
      "id": "7cfa18c6-0f25-4aa3-8793-2dafe4e92d17"
    },
    {
      "cell_type": "code",
      "source": [
        "# load the tile matrix from scmacs\n",
        "cd4na_tileResults %>% saveRDS(file.path(output_path, \n",
        "                                  paste0(proj_name, '_scMACS_atac_total_cd4na_tiles_matrix.rds')))"
      ],
      "outputs": [],
      "execution_count": null,
      "metadata": {
        "vscode": {
          "languageId": "r"
        }
      },
      "id": "1ac7d1a3-1649-4dd9-81ea-b8c4a3edaf46"
    },
    {
      "cell_type": "code",
      "source": [
        "# # save thetile matrix from scmacs\n",
        "# cd4na_tileResults %>% saveRDS(file.path(data_path, \n",
        "#                                   paste0(proj_name, '_scMACS_atac_total_cd4na_tiles_matrix.rds')))"
      ],
      "outputs": [],
      "execution_count": null,
      "metadata": {
        "vscode": {
          "languageId": "r"
        }
      },
      "id": "8a253a95-068c-4f8b-a530-078f93343f22"
    },
    {
      "cell_type": "code",
      "source": [
        "####################################################\n",
        "# 3. Get reproducible sample-peak matrix\n",
        "#    Done for each cell population individually\n",
        "####################################################\n",
        "\n",
        "# Parameters for downstream analysis\n",
        "# cellPopulation <- \"cd4_naive\"\n",
        "threshold <- 0.2\n",
        "groupColumn <- \"cohort\"\n",
        "join <- \"union\"\n",
        "\n",
        "SampleTileMatrices <- scMACS::getSampleTileMatrix( \n",
        "    cd4na_tileResults,\n",
        "    cellPopulations = cellPopulations,\n",
        "    groupColumn = groupColumn,\n",
        "    threshold = threshold,\n",
        "    join = join,\n",
        "    NAtoZero = TRUE,\n",
        "    log2Intensity = TRUE\n",
        ")\n"
      ],
      "outputs": [],
      "execution_count": null,
      "metadata": {
        "vscode": {
          "languageId": "r"
        }
      },
      "id": "ae16534d-8fb4-4e1f-a24c-1f00bb20066b"
    },
    {
      "cell_type": "code",
      "source": [
        "SampleTileMatrices %>% saveRDS(file.path(output_path, \n",
        "                                  paste0(proj_name, '_scMACS_total_cd4na_SampleTileMatrices.rds')))"
      ],
      "outputs": [],
      "execution_count": null,
      "metadata": {
        "vscode": {
          "languageId": "r"
        }
      },
      "id": "02d1cc09-9f89-485a-824b-2b54b41d8fec"
    },
    {
      "cell_type": "code",
      "source": [
        "# # load the sample tile matrix\n",
        "SampleTileMatrices <- readRDS(file.path(data_path, \n",
        "                                  paste0(proj_name, '_scMACS_atac_Clusters_0.5_sampleTileMatrixs.rds')))"
      ],
      "outputs": [],
      "execution_count": null,
      "metadata": {
        "vscode": {
          "languageId": "r"
        }
      },
      "id": "0190e2e3-4332-4b7a-8af8-c72d7e0d25d5"
    },
    {
      "cell_type": "code",
      "source": [
        "# # load the sample tile matrix\n",
        "SampleTileMatrices <- readRDS(file.path(data_path,\n",
        "                                        'preRA_tea_seq_cd4tna_scMACS_total_cd4na_SampleTileMatrices.rds'))"
      ],
      "outputs": [],
      "execution_count": null,
      "metadata": {
        "vscode": {
          "languageId": "r"
        }
      },
      "id": "ad4735f6-c65c-4458-817d-fda0a0ca34dd"
    },
    {
      "cell_type": "code",
      "source": [
        "SampleTileMatrices"
      ],
      "outputs": [],
      "execution_count": null,
      "metadata": {
        "vscode": {
          "languageId": "r"
        }
      },
      "id": "ae94fde7-4115-4230-ab97-734e343ccb53"
    },
    {
      "cell_type": "code",
      "source": [
        "####################################################\n",
        "# 4. Add gene annotations to our SampleTileMatrices,\n",
        "#    labelling tiles as either a promoter, exonic,\n",
        "#    intronic, or distal region. Gene names are \n",
        "#    given for all but distal. This info will aid \n",
        "#    further downstream analyses but is not required \n",
        "#    for differential accessibility.\n",
        "#    This function can also take any GRanges object\n",
        "#    and add annotations to its metadata.\n",
        "####################################################\n",
        "SampleTileMatricesAnnotated <- scMACS::annotateTiles( \n",
        "  SampleTileMatrices\n",
        ")"
      ],
      "outputs": [],
      "execution_count": null,
      "metadata": {
        "tags": [],
        "vscode": {
          "languageId": "r"
        }
      },
      "id": "31987105-1aa8-4a01-910d-4846540bdc83"
    },
    {
      "cell_type": "code",
      "source": [
        "SampleTileMatrices$cohort %>% unique()"
      ],
      "outputs": [],
      "execution_count": null,
      "metadata": {
        "vscode": {
          "languageId": "r"
        }
      },
      "id": "27fd772c-d256-41a0-82ff-29768c49d1f1"
    },
    {
      "cell_type": "code",
      "source": [
        "####################################################\n",
        "# 5. Get differential accessibility for specific \n",
        "#    cell populations. Here we are comparing MAIT  \n",
        "#    cells between samples where our groupColumn \n",
        "#    \"COVID_status\" is Positive (our foreground) \n",
        "#    to Negative samples (our background).\n",
        "####################################################\n",
        "\n",
        "differentials <- scMACS::getDifferentialAccessibleTiles(\n",
        "    SampleTileObj = SampleTileMatricesAnnotated,\n",
        "    cellPopulation = \"cd4_naive\",\n",
        "    groupColumn = groupColumn,\n",
        "    foreground = \"pre-RA\",\n",
        "    background = \"Healthy\",\n",
        "    fdrToDisplay = 0.4,\n",
        "    numCores = numCores\n",
        ")"
      ],
      "outputs": [],
      "execution_count": null,
      "metadata": {
        "vscode": {
          "languageId": "r"
        }
      },
      "id": "515a5445-f530-4530-a99d-9dc9c8faa8b6"
    },
    {
      "cell_type": "code",
      "source": [
        "# add the tile information to the differentail results\n",
        "tile_info <- rowData(SampleTileMatricesAnnotated) %>% as.data.table(keep.rownames = 'Tile')\n",
        "differentials <- differentials %>% left_join(tile_info, by='Tile')"
      ],
      "outputs": [],
      "execution_count": null,
      "metadata": {
        "vscode": {
          "languageId": "r"
        }
      },
      "id": "f389d9ec-5b5b-4040-8807-cf29b04f90e2"
    },
    {
      "cell_type": "code",
      "source": [
        "# save the differential results\n",
        "differentials %>% fwrite(file.path(output_path, \n",
        "                                  paste0(proj_name, '_scMACS_DAPs_RAvsHealthy.tsv')))"
      ],
      "outputs": [],
      "execution_count": null,
      "metadata": {
        "vscode": {
          "languageId": "r"
        }
      },
      "id": "66b59a85-62c3-469e-8970-5e88e429e599"
    },
    {
      "cell_type": "code",
      "source": [
        "# save the differential results\n",
        "differentials <- fread(file.path(output_path, \n",
        "                                  paste0(proj_name, '_scMACS_DAPs_RAvsHealthy.tsv')))"
      ],
      "outputs": [],
      "execution_count": null,
      "metadata": {
        "vscode": {
          "languageId": "r"
        }
      },
      "id": "2c6bdf5e-f50b-4098-9807-31caefda9032"
    },
    {
      "cell_type": "code",
      "source": [
        "differentials %>% filter(!is.na(FDR))  %>% ggplot() + geom_histogram(aes(FDR))"
      ],
      "outputs": [],
      "execution_count": null,
      "metadata": {
        "vscode": {
          "languageId": "r"
        }
      },
      "id": "9911a687-3f09-4ad7-a607-417037da2a71"
    },
    {
      "cell_type": "code",
      "source": [
        "differentials %>% filter(FDR<0.2 & !is.na(Gene))"
      ],
      "outputs": [],
      "execution_count": null,
      "metadata": {
        "vscode": {
          "languageId": "r"
        }
      },
      "id": "e522c750-1d1a-4c86-b586-ae8903ea6af2"
    },
    {
      "cell_type": "markdown",
      "source": [
        "#### check what are the overlap of genes and atac openness"
      ],
      "metadata": {},
      "id": "39192958-9ea0-4830-b1ff-c41b8ca9c095"
    },
    {
      "cell_type": "code",
      "source": [
        "# load the degs for cd4 naive\n",
        "# load the deg list\n",
        "ra_tea_l2_pseudo_degs <- \n",
        "    read_csv('/home/jupyter/data/preRA_teaseq/output_results/PreRA_teaseq_l2_annotation_PseudoBulk_degs_preRAvsHealthy.csv',\n",
        "            show_col_types = FALSE) %>%\n",
        "    filter(!is.na(FDR) & !is.na(logFC)) %>% mutate(direction=if_else(logFC>0, 'up', 'down'))\n",
        "# filter cd4 naive\n",
        "cd4na_pseudo_degs <- ra_tea_l2_pseudo_degs %>% filter(FDR<0.05 & cell_type=='cd4_naive')\n",
        "cd4na_pseudo_degs %>% head()"
      ],
      "outputs": [],
      "execution_count": null,
      "metadata": {
        "vscode": {
          "languageId": "r"
        }
      },
      "id": "83dd7a6c-5b46-41cf-8f8f-550c1e87e253"
    },
    {
      "cell_type": "code",
      "source": [
        "ra_tea_l2_pseudo_degs %>% filter(gene=='PLCG2'& FDR<0.2)"
      ],
      "outputs": [],
      "execution_count": null,
      "metadata": {
        "vscode": {
          "languageId": "r"
        }
      },
      "id": "473b59be-1e8c-44e7-8fd1-57fd5013d50c"
    },
    {
      "cell_type": "code",
      "source": [
        "# filter out the differential peaks\n",
        "cd4na_diff_peaks <- differentials %>% filter(FDR<0.2&!is.na(Gene)) %>% dplyr::rename('gene'='Gene')\n",
        "\n",
        "cd4na_diff_peaks_unique <- cd4na_diff_peaks %>% arrange(FDR) %>% distinct(gene, .keep_all = TRUE)\n",
        "table(cd4na_diff_peaks_unique$gene %in% cd4na_pseudo_degs$gene)"
      ],
      "outputs": [],
      "execution_count": null,
      "metadata": {
        "vscode": {
          "languageId": "r"
        }
      },
      "id": "d376ebed-d5ce-4807-bf52-fed2c6bf0489"
    },
    {
      "cell_type": "code",
      "source": [
        "cd4na_diff_peaks %>% janitor::get_dupes(gene)"
      ],
      "outputs": [],
      "execution_count": null,
      "metadata": {
        "vscode": {
          "languageId": "r"
        }
      },
      "id": "b9ef4c6c-a5cb-4fa4-b220-3093247746f7"
    },
    {
      "cell_type": "code",
      "source": [
        "# combine the degs and deps\n",
        "cd4na_pseudo_degs_deps <- cd4na_pseudo_degs %>% filter(gene %in% cd4na_diff_peaks_unique$gene) %>% \n",
        "    left_join(cd4na_diff_peaks_unique, suffix = c('.degs', '.deps'), by='gene')\n",
        "cd4na_pseudo_degs_deps"
      ],
      "outputs": [],
      "execution_count": null,
      "metadata": {
        "vscode": {
          "languageId": "r"
        }
      },
      "id": "1846628a-cf5b-4399-a081-909cadeee4bd"
    },
    {
      "cell_type": "code",
      "source": [
        "cd4na_pseudo_degs_deps %>% ggplot() + geom_point(aes(x=logFC, y=MeanDiff, color=tileType))"
      ],
      "outputs": [],
      "execution_count": null,
      "metadata": {
        "vscode": {
          "languageId": "r"
        }
      },
      "id": "6e73738e-6263-4c9c-a977-c4b44129d7b9"
    },
    {
      "cell_type": "markdown",
      "source": [
        "#### run ChromVar Motif enrichment"
      ],
      "metadata": {},
      "id": "3a70685e-5e89-4edc-999d-77f1406534a8"
    },
    {
      "cell_type": "code",
      "source": [],
      "outputs": [],
      "execution_count": null,
      "metadata": {
        "vscode": {
          "languageId": "r"
        }
      },
      "id": "3b5ea2f6-be4e-4427-98a5-46ec9428e159"
    },
    {
      "cell_type": "code",
      "source": [
        "##########\n",
        "### Functions for motif analysis (enrichment and chromVar)\n",
        "#' @title \\code{addMotifSet}\n",
        "#'\n",
        "#' @description \\code{addMotifSet}Identify motifs within peakset\n",
        "#'\n",
        "#' @param SE_Object your scMACS SummarizedExperiment. Requires Genome AnnotationDbi object within the metadata added by getSampleTileMatrix\n",
        "#' @param pwms a pwms object for the motif database. Either PFMatrix, PFMatrixList, PWMatrix, or PWMatrixLis'\n",
        "#' @param w the width for motifmatchr\n",
        "#' @param returnObj if TRUE, return the modified SE_Object with motif set added to metadata (default). If FALSE, return the motifs from motifmatchr.\n",
        "#' @param motifSetName name of the motifList in the SE_object's metadata if returnObj=TRUE. Default is 'Motifs'.\n",
        "#'\n",
        "#' @return the modified SE_Object with motifs added to the metadata\n",
        "#' @examples\n",
        "#' \\dontrun{\n",
        "#' # load a curated motif set from library(chromVARmotifs) included with ArchR installation\n",
        "#' data(human_pwms_v2)\n",
        "#' SE_with_motifs <- addMotifSet(SE_Object, pwms = human_pwms_v2, returnObj = TRUE, motifSetName = \"Motifs\", w = 7)\n",
        "#' }\n",
        "#'\n",
        "#' @export\n",
        "\n",
        "addMotifSet <- function(SE_Object, pwms, w = 7, returnObj = TRUE, motifSetName = \"Motifs\") {\n",
        "  TotalPeakSet <- rowRanges(SE_Object)\n",
        "  genome <- metadata(SE_Object)$Genome\n",
        "  motif_ix <- motifmatchr::matchMotifs(\n",
        "    pwms = pwms,\n",
        "    TotalPeakSet,\n",
        "    genome = genome,\n",
        "    out = \"positions\", w = w\n",
        "  )\n",
        "  names(motif_ix) <- sub(\"_D_.*|_I_.*\", \"\", names(motif_ix)) %>%\n",
        "    sub(\"_I$|_D$\", \"\", .) %>%\n",
        "    sub(\".*_LINE\", \"\", .) %>%\n",
        "    sub(\".*_\", \"\", .)\n",
        "\n",
        "  motifList <- list(motif_ix)\n",
        "  names(motifList) <- motifSetName\n",
        "\n",
        "  if (returnObj) {\n",
        "    metadata(SE_Object) <- append(metadata(SE_Object), motifList)\n",
        "    return(SE_Object)\n",
        "  } else {\n",
        "    return(motif_ix)\n",
        "  }\n",
        "}\n",
        "## runChromVar is a wrapper for chromVAR from scMACS\n",
        "## Obj could be a ragged experiment or a sumarized experiment\n",
        "## motifGRangesList is a list of all motif positions in a GRangesList format\n",
        "## genome is the reference genome we use\n",
        "\n",
        "\n",
        "runChromVar <- function(Obj, motifs,\n",
        "                       genome =  BSgenome.Hsapiens.UCSC.hg38){\n",
        "    \n",
        "    if(class(Obj)[1] == \"RaggedSummarizedExperiment\" & class(motifs)[1]=='GRangesList'){\n",
        "        \n",
        "        Obj1 <- RaggedExperiment::compactSummarizedExperiment(RepTiles, i = 'TotalIntensity')\n",
        "        tmp <- SummarizedExperiment::assays(Obj1)\n",
        "        tmp[[1]][is.na(tmp[[1]])] = 0\n",
        "        names(tmp) <- \"counts\"\n",
        "        assays(Obj1) <- tmp\n",
        "\n",
        "\tmotifGRangesList = motifs\n",
        "        \n",
        "    }else if(class(Obj)[1] == \"RangedSummarizedExperiment\"){\n",
        "        \n",
        "        if( !names(assays(Obj)) %in% 'counts'){\n",
        "        \n",
        "\t\t\n",
        "            \n",
        "        }else if(class(motifs)[1] == 'GRangesList'){\n",
        "            \n",
        "            Obj1 = Obj\n",
        "\t    motifGRangesList = motifs\n",
        "\t    \n",
        "        }else if(class(motifs)[1] == 'character' & any(names(metadata(Obj)) %in% motifs)){\n",
        "            \n",
        "            Obj1 = Obj\n",
        "\t    motifGRangesList = metadata(Obj)[[motifs]]\n",
        "\t    \n",
        "        }else{\n",
        "\n",
        "\t    stop('Error: No motifset found. Check input')\n",
        "\t}\n",
        "        \n",
        "    }else{\n",
        "    \n",
        "        stop('Error: Wrong Input Object. Must be either a RaggedExperiment or a RangedSummarizedExperiment')\n",
        "    }     \n",
        "\n",
        "    CisbpAnno <- chromVAR::getAnnotations(motifGRangesList, rowRanges = rowRanges(Obj1))\n",
        "\n",
        "    Obj1 <- chromVAR::addGCBias(Obj1, genome = genome)\n",
        "    \n",
        "    dev <- chromVAR::computeDeviations(object = Obj1, \n",
        "                         annotations = CisbpAnno)\n",
        "    \n",
        "    return(dev)\n",
        "}\n",
        "\n",
        "\n",
        "\n",
        "\n",
        "#################      Category          Not in Category       Total\n",
        "## Group1      length(Group1Cat)        length(OnlyGroup1)       m \n",
        "## Group2      length(Group2Cat)        length(OnlyGroup2)       n\n",
        "# Total                  k\n",
        "                 \n",
        "### Enrichment test for GRanges. Test for enrichment of Category within Group1\n",
        "### @Group1 - A GRanges object for one set of positions\n",
        "### @Group2 - The background GRanges object, non-overlapping with Group1.\n",
        "### @Category - A GRanges object of known locations, such as motifs, that you want to test for enrichment in Group1.\n",
        "### @type - Default is null. You can use this to pull out or simplify the test to a metadata column within the GRanges \n",
        "###          for Group1 and Group2. For example, if you want to test for enrichment of all genes, instead of open regions. \n",
        "###          If type = null, then it will just use the number of Ranges instead of the number of unique \n",
        "###           entries in column 'type'\n",
        "EnrichedRanges <- function(Group1, Group2, Category, type = NULL, returnTable = FALSE){\n",
        "    \n",
        "    Group1Cat <- plyranges::filter_by_overlaps(Group1, Category) \n",
        "    Group2Cat <- plyranges::filter_by_overlaps(Group2, Category)\n",
        "   \n",
        "    OnlyGroup1 <- plyranges::filter_by_non_overlaps(Group1, Category)\n",
        "    OnlyGroup2 <- plyranges::filter_by_non_overlaps(Group2, Category)\n",
        "    \n",
        "    if(returnTable & is.null(type)){\n",
        "\n",
        "        dt_table <- data.frame(Group1 = c(length(Group1Cat), length(OnlyGroup1)), \n",
        "                               Group2 = c(length(Group2Cat), length(OnlyGroup2)), \n",
        "                       row.names = c('In Category', 'Not in Category')) \n",
        "    \n",
        "        return(t(dt_table))\n",
        "        \n",
        "    }else if(returnTable & \n",
        "             sum(c(colnames(mcols(Group1)),colnames(mcols(Group2))) %in% type) == 2 &\n",
        "             length(type) == 1){\n",
        "        \n",
        "       dt_table <- data.frame(Group1 = c(length(unique(GenomicRanges::mcols(Group1Cat)[,type])), \n",
        "                                          length(unique(GenomicRanges::mcols(OnlyGroup1)[,type]))), \n",
        "                               Group2 = c(length(unique(GenomicRanges::mcols(Group2Cat)[,type])), \n",
        "                                         length(unique(GenomicRanges::mcols(OnlyGroup2)[,type]))), \n",
        "                       row.names = c('In Category', 'Not in Category')) \n",
        "    \n",
        "        return(t(dt_table))\n",
        "       \n",
        "    }else if(returnTable){\n",
        "        \n",
        "        stop('Error: Incorrect method or column name. Please check input')      \n",
        "    }\n",
        "    \n",
        "    if(is.null(type)){\n",
        "        \n",
        "       pVal <- phyper(q = length(Group1Cat), \n",
        "           m = length(Group1), \n",
        "           n = length(Group2),\n",
        "           k = length(Group1Cat) + length(Group2Cat),\n",
        "            lower.tail=FALSE)\n",
        "\n",
        "       enrichment <- (length(Group1Cat)/length(Group1))/(length(Group2Cat)/length(Group2))\n",
        "        \n",
        "    }else if(sum(c(colnames(mcols(Group1)),colnames(mcols(Group2))) %in% type) == 2 &\n",
        "             length(type) == 1){\n",
        "        \n",
        "       pVal <- phyper(q = length(unique(mcols(Group1Cat)[,type])), \n",
        "           m = length(unique(mcols(Group1)[,type])), \n",
        "           n = length(unique(mcols(Group2)[,type])),\n",
        "           k = length(unique(mcols(Group1Cat)[,type])) + length(unique(mcols(Group2Cat)[,type])),\n",
        "                     lower.tail=FALSE)\n",
        "        \n",
        "       enrichment <- (length(unique(mcols(Group1Cat)[,type]))/length(unique(mcols(Group1)[,type])))/\n",
        "                    (length(unique(mcols(Group2Cat)[,type]))/length(unique(mcols(Group2)[,type])))\n",
        "        \n",
        "    }else{\n",
        "        \n",
        "        stop('Error: Incorrect method or column name. Please check input')\n",
        "        \n",
        "    }\n",
        "    \n",
        "    return(data.frame(p_value = pVal, enrichment = enrichment))\n",
        "    \n",
        "}\n",
        "    \n",
        "######## Test all motifs for enrichment.\n",
        "    \n",
        "\n",
        "MotifEnrichment <- function(Group1, Group2, motifPosList, type = NULL, numCores = 1){\n",
        "    \n",
        "    \n",
        "    allEnrichmentList <- mclapply(motifPosList, function(x){\n",
        "        \n",
        "        tmp_df <- EnrichedRanges(Group1, Group2, Category = x, type = type)\n",
        "        \n",
        "    }, mc.cores = numCores)\n",
        "    df_final <- do.call('rbind',  allEnrichmentList)\n",
        "\n",
        "    df_final$adjp_val <- p.adjust(df_final$p_value)\n",
        "    df_final$mlog10Padj <- -log10(df_final$adjp_val)\n",
        "    \n",
        "    return(df_final)\n",
        "\n",
        "}\n",
        "    \n",
        "############# Pull out all the motifs associated with each gene according to a set of TSS sites\n",
        "\n",
        "## @TSS_Sites - GRanges objects that are the list of TSS sites of interest. \n",
        "##              Must include a column 'name' which has the associated gene name\n",
        "## @allPeaks - GRanges object of all peaks \n",
        "## @TSS_Links - a data.table object that record all the peak-peak links by co-accessibility\n",
        "##              Must include columns named 'Peak1' and 'Peak2' which contain a string describing\n",
        "##              each peak in the format 'chr1:100-2000' and must be identical to peaks listed in\n",
        "##              allPeaks\n",
        "## @motifPosList - a GRangesList, which each index is a GRanges of all positions \n",
        "##                  for a given motif. GRangesList must be named. \n",
        "## @numCores - number of cores to multithread over. \n",
        "    \n",
        "    \n",
        "Gene2Motif <- function(TSS_Sites, allPeaks, TSS_Links, motifPosList, \n",
        "                       numCores = 1, verbose = FALSE){\n",
        "    \n",
        "    if(verbose){ print('Generating TSS-Peak Network.')}\n",
        "    \n",
        "    TSS_Network <- c(TSS_Links$Peak1, TSS_Links$Peak2, \n",
        "                           GRangesToString(TSS_Sites)) %>%\n",
        "                   unique() %>%\n",
        "                  StringsToGRanges(.) %>% \n",
        "                plyranges::filter_by_overlaps(allPeaks, .)\n",
        "    \n",
        "    if(verbose){ print('Finding all motifs related to each peak within the TSS-Peak Network.')}\n",
        "    ##Let's find all the motifs that overlap with each peak within the altTSS Network\n",
        "    tmpOverlap <- mclapply(seq_along(motifPosList), function(x){\n",
        "    \n",
        "        ifelse(count_overlaps(TSS_Network, motifPosList[[x]]) > 0,\n",
        "           names(motifPosList)[x], NA)\n",
        "    \n",
        "    }, mc.cores= numCores)\n",
        "    \n",
        "    \n",
        "    overlap_df <- do.call('cbind', tmpOverlap)\n",
        "    motifList <- mclapply(c(1:dim(overlap_df)[1]), function(x){\n",
        "        \n",
        "        \n",
        "        ifelse(any(!is.na(overlap_df[x,])),\n",
        "            list(overlap_df[x,which(!is.na(overlap_df[x,]))]),\n",
        "            NA)\n",
        "    \n",
        "    }, mc.cores= numCores)\n",
        "\n",
        "    if(verbose){ print('Finding all peaks related to each gene within the TSS-Peak Network.')}\n",
        "    ##Find all the peaks related to each gene. \n",
        "    \n",
        "    Peak2Gene <- mclapply(unique(TSS_Sites$name), function(x){\n",
        "    \n",
        "        geneTSS <- plyranges::filter(TSS_Sites, name == x)  %>% \n",
        "                plyranges::filter_by_overlaps(allPeaks, .) %>%\n",
        "            plyranges::ungroup() %>%\n",
        "            GRangesToString(.)\n",
        "    \n",
        "        tmp <- TSS_Links[Peak1 %in% geneTSS | Peak2 %in% geneTSS,]\n",
        "    \n",
        "        if(dim(tmp)[1] > 0){ \n",
        "            unique(c(tmp$Peak1, tmp$Peak2, geneTSS))\n",
        "        }else{\n",
        "               geneTSS\n",
        "        }\n",
        "    \n",
        "    }, mc.cores = numCores)\n",
        "    names(Peak2Gene) <- unique(TSS_Sites$name)\n",
        "    \n",
        "    \n",
        "\n",
        "    if(verbose){ print('Linking Motifs to each gene within the TSS-Peak Network')}\n",
        "    ## Link all the genes to motifs via Peak2Gene and the motifList\n",
        "    Gene2Motif <- mclapply(Peak2Gene, function(x){\n",
        "    \n",
        "        #Find which indices of the AltTSS Network GRanges are linked to that Gene\n",
        "        tmp <- findOverlaps(StringsToGRanges(x), TSS_Network)\n",
        "        #Pull up and unlist all the motifs associated with those tiles.\n",
        "        unlist(motifList[subjectHits(tmp)])\n",
        "    \n",
        "    }, mc.cores = numCores)\n",
        "    \n",
        "    return(Gene2Motif)\n",
        "    \n",
        "}\n",
        "    \n",
        "    "
      ],
      "outputs": [],
      "execution_count": null,
      "metadata": {
        "vscode": {
          "languageId": "r"
        }
      },
      "id": "d73bf279-34fc-4970-ae21-a6ac42163743"
    },
    {
      "cell_type": "code",
      "source": [
        "library(chromVARmotifs)\n",
        "library(TFBSTools)\n",
        "data(\"human_pwms_v2\")\n",
        "SampleTileMatrices_motifs <- addMotifSet(SampleTileMatrices, pwms = human_pwms_v2, returnObj = FALSE,\n",
        "                                         motifSetName = \"Motifs\", w = 7)"
      ],
      "outputs": [],
      "execution_count": null,
      "metadata": {
        "vscode": {
          "languageId": "r"
        }
      },
      "id": "424d23b1-fe68-429d-934a-d2963ae24d52"
    },
    {
      "cell_type": "code",
      "source": [
        "SampleTileMatrices_motifs"
      ],
      "outputs": [],
      "execution_count": null,
      "metadata": {
        "vscode": {
          "languageId": "r"
        }
      },
      "id": "0b0842e9-6d45-4166-8d08-219e0affbb60"
    },
    {
      "cell_type": "code",
      "source": [
        "SampleTileMatrices_dev <- runChromVar(SampleTileMatricesAnnotated, motifs =  SampleTileMatrices_motifs,\n",
        "                                      genome =  BSgenome.Hsapiens.UCSC.hg38)"
      ],
      "outputs": [],
      "execution_count": null,
      "metadata": {
        "vscode": {
          "languageId": "r"
        }
      },
      "id": "181eeb29-af05-491e-9a90-cc95efa55417"
    },
    {
      "cell_type": "code",
      "source": [
        "CisbpAnno <- chromVAR::getAnnotations(SampleTileMatrices_motifs, \n",
        "                                      rowRanges = rowRanges(SampleTileMatricesAnnotated))\n",
        "\n",
        "# SampleTileMatricesAnnotated <- chromVAR::addGCBias(SampleTileMatricesAnnotated, genome = BSgenome.Hsapiens.UCSC.hg38)\n",
        "    \n",
        "# dev <- chromVAR::computeDeviations(object = SampleTileMatricesAnnotated, \n",
        "#                          annotations = CisbpAnno)"
      ],
      "outputs": [],
      "execution_count": null,
      "metadata": {
        "vscode": {
          "languageId": "r"
        }
      },
      "id": "8232a150-f2c3-453a-b8f6-637305f2d7b5"
    },
    {
      "cell_type": "code",
      "source": [
        "SampleTileMatricesAnnotated <- chromVAR::addGCBias(SampleTileMatricesAnnotated, \n",
        "                                                   genome = BSgenome.Hsapiens.UCSC.hg38)"
      ],
      "outputs": [],
      "execution_count": null,
      "metadata": {
        "vscode": {
          "languageId": "r"
        }
      },
      "id": "ee016aa2-3a98-4061-9f8a-12bb35b44dd0"
    },
    {
      "cell_type": "code",
      "source": [
        "assayNames(SampleTileMatricesAnnotated)\n",
        "assay(SampleTileMatricesAnnotated, 'counts') <- assay(SampleTileMatricesAnnotated, 'cd4_naive')"
      ],
      "outputs": [],
      "execution_count": null,
      "metadata": {
        "vscode": {
          "languageId": "r"
        }
      },
      "id": "4b8b3c81-7dc5-4852-bc75-998265d62385"
    },
    {
      "cell_type": "code",
      "source": [
        "cd4na_dev <- chromVAR::computeDeviations(object = SampleTileMatricesAnnotated, \n",
        "                         annotations = CisbpAnno)"
      ],
      "outputs": [],
      "execution_count": null,
      "metadata": {
        "vscode": {
          "languageId": "r"
        }
      },
      "id": "b8ef6beb-fad1-4322-a874-9d62573dccd0"
    },
    {
      "cell_type": "code",
      "source": [
        "variability <- computeVariability(cd4na_dev)\n",
        "plotVariability(variability, use_plotly = FALSE)"
      ],
      "outputs": [],
      "execution_count": null,
      "metadata": {
        "vscode": {
          "languageId": "r"
        }
      },
      "id": "75a0caa9-bea1-4dd2-a2f0-0ff599c4ed9a"
    },
    {
      "cell_type": "code",
      "source": [
        "colData(cd4na_dev)[, c('subject_id', 'cohort', 'age')]\n",
        "sample_cor <- getSampleCorrelation(cd4na_dev)\n",
        "sample_cor"
      ],
      "outputs": [],
      "execution_count": null,
      "metadata": {
        "vscode": {
          "languageId": "r"
        }
      },
      "id": "3a310539-0f10-473c-836f-e4285d6cb93e"
    },
    {
      "cell_type": "code",
      "source": [
        "sample_cor <- getSampleCorrelation(cd4na_dev)\n",
        "\n",
        "library(pheatmap)\n",
        "pheatmap(as.dist(sample_cor), \n",
        "         annotation_row = colData(cd4na_dev)[, c('subject_id', 'cohort', 'age')], \n",
        "         clustering_distance_rows = as.dist(1-sample_cor), \n",
        "         clustering_distance_cols = as.dist(1-sample_cor))"
      ],
      "outputs": [],
      "execution_count": null,
      "metadata": {
        "vscode": {
          "languageId": "r"
        }
      },
      "id": "f8ecda5b-fa83-4572-99c3-e22e4c8db798"
    },
    {
      "cell_type": "code",
      "source": [
        "tsne_results <- deviationsTsne(cd4na_dev, threshold = 1.5, perplexity = 10, \n",
        "                               shiny = FALSE)\n",
        "tsne_plots <- plotDeviationsTsne(cd4na_dev, tsne_results, annotation = \"TEAD3\", \n",
        "                                   sample_column = \"cohort\", shiny = FALSE)\n",
        "tsne_plots[[2]]"
      ],
      "outputs": [],
      "execution_count": null,
      "metadata": {
        "vscode": {
          "languageId": "r"
        }
      },
      "id": "e271458e-ce55-45f2-9b8d-10920db9f308"
    },
    {
      "cell_type": "code",
      "source": [
        "diff_acc <- differentialDeviations(cd4na_dev, \"cohort\")\n",
        "\n",
        "head(diff_acc)"
      ],
      "outputs": [],
      "execution_count": null,
      "metadata": {
        "vscode": {
          "languageId": "r"
        }
      },
      "id": "e15cdee5-3d12-4c39-8512-1107be607cbd"
    },
    {
      "cell_type": "markdown",
      "source": [
        "### import the peaks cells in scMACS into Archr and remake peak matrix"
      ],
      "metadata": {},
      "id": "bb73440c-993c-4158-bcc2-4eef9c765b82"
    },
    {
      "cell_type": "code",
      "source": [
        "# Tests if a string is a in the correct format to convert to GRanges \n",
        "validRegionString <- function(regionString) {\n",
        "  if (!is.character(regionString)) {\n",
        "    return(FALSE)\n",
        "  }\n",
        "\n",
        "  pattern <- \"([0-9]{1,2}|chr[0-9]{1,2}):[0-9]*-[0-9]*\"\n",
        "  matchedPattern <- str_extract(regionString, pattern)\n",
        "\n",
        "  if (is.na(matchedPattern)) {\n",
        "    return(FALSE)\n",
        "  } else if (!matchedPattern == regionString) {\n",
        "    return(FALSE)\n",
        "  }\n",
        "\n",
        "  splits <- str_split(regionString, \"[:-]\")[[1]]\n",
        "  start <- splits[2]\n",
        "  end <- splits[3]\n",
        "  if (start > end) {\n",
        "    return(FALSE)\n",
        "  }\n",
        "\n",
        "  # All conditions satisfied\n",
        "  return(TRUE)\n",
        "}\n",
        "# Strings to GRanges\n",
        "StringsToGRanges <- function(regionString) {\n",
        "  if (!validRegionString(regionString)) {\n",
        "    stop(\"Region must be a string matching format 'seqname:start-end', where start<end e.g. chr1:123000-123500\")\n",
        "  }\n",
        "\n",
        "  chrom <- gsub(\":.*\", \"\", regionString)\n",
        "  startSite <- gsub(\".*:\", \"\", regionString) %>%\n",
        "    gsub(\"-.*\", \"\", .) %>%\n",
        "    as.numeric()\n",
        "  endSite <- gsub(\".*-\", \"\", regionString) %>% as.numeric()\n",
        "\n",
        "\n",
        "  regionGRanges <- GRanges(seqnames = chrom, ranges = IRanges(start = startSite, end = endSite), strand = \"*\")\n",
        "  return(regionGRanges)\n",
        "}  "
      ],
      "outputs": [],
      "execution_count": null,
      "metadata": {
        "vscode": {
          "languageId": "r"
        }
      },
      "id": "1e2603e8-530c-4981-bf53-9488bdd51eb2"
    },
    {
      "cell_type": "code",
      "source": [
        "SampleTileMatricesAnnotated %>% rowData()"
      ],
      "outputs": [],
      "execution_count": null,
      "metadata": {
        "vscode": {
          "languageId": "r"
        }
      },
      "id": "108c2a9e-1928-41e1-b67c-726f7004e743"
    },
    {
      "cell_type": "code",
      "source": [
        "# make a grange object from the the union of the peaks called\n",
        "granges_Clusters_0.5 <- SampleTileMatrices %>% pull(location) %>% unique() %>% \n",
        "    StringsToGRanges()\n",
        "granges_Clusters_0.5"
      ],
      "outputs": [],
      "execution_count": null,
      "metadata": {
        "vscode": {
          "languageId": "r"
        }
      },
      "id": "a2c4a972-5431-47d5-b4b1-81bab06588e7"
    },
    {
      "cell_type": "code",
      "source": [
        "SampleTileMatrices"
      ],
      "outputs": [],
      "execution_count": null,
      "metadata": {
        "vscode": {
          "languageId": "r"
        }
      },
      "id": "c84dfb69-928f-48b2-afe0-e2519fa2b292"
    },
    {
      "cell_type": "code",
      "source": [
        "# add the peak called by scMACS back to archR\n",
        "cd4na_atac <- addPeakSet(\n",
        "  ArchRProj = cd4na_atac,\n",
        "  peakSet = granges_Clusters_0.5,\n",
        "  #genomeAnnotation = getGenomeAnnotation(cd4na_atac),\n",
        "  force = TRUE\n",
        ")\n"
      ],
      "outputs": [],
      "execution_count": null,
      "metadata": {
        "vscode": {
          "languageId": "r"
        }
      },
      "id": "0a00d986-dc3a-44cb-85be-b8758144e609"
    },
    {
      "cell_type": "code",
      "source": [
        "# add peakmatrix based on the peak set\n",
        "cd4na_atac <- addPeakMatrix(cd4na_atac)\n",
        "getAvailableMatrices(cd4na_atac)"
      ],
      "outputs": [],
      "execution_count": null,
      "metadata": {
        "vscode": {
          "languageId": "r"
        }
      },
      "id": "fdde3dde-6177-4992-9d92-0cd7cd7e0986"
    },
    {
      "cell_type": "code",
      "source": [
        "# rerun a lsi based on the peakmatrix\n",
        "# add lsi in atac\n",
        "cd4na_atac <- addIterativeLSI(\n",
        "      ArchRProj = cd4na_atac,\n",
        "      useMatrix = \"PeakMatrix\", \n",
        "      name = \"IterativeLSI_peak\", \n",
        "      iterations = 2,\n",
        "      #varFeatures = 75000, # increase the viable features\n",
        "      force = TRUE\n",
        "    )"
      ],
      "outputs": [],
      "execution_count": null,
      "metadata": {
        "vscode": {
          "languageId": "r"
        }
      },
      "id": "a6422dad-8152-427a-9149-5371a64e1726"
    },
    {
      "cell_type": "code",
      "source": [
        "# redo clustering based on the lsi from scMACS called peak matrix\n",
        "cd4na_atac <- addClusters(\n",
        "    input = cd4na_atac,\n",
        "    reducedDims = \"IterativeLSI_peak\",\n",
        "    method = \"Seurat\",\n",
        "    name = \"peak_Clusters_0.5\",\n",
        "    resolution = 0.5,\n",
        "    force = TRUE\n",
        ")"
      ],
      "outputs": [],
      "execution_count": null,
      "metadata": {
        "vscode": {
          "languageId": "r"
        }
      },
      "id": "5277cbc4-4707-4d5d-bfb2-516f0b67a03e"
    },
    {
      "cell_type": "code",
      "source": [
        "cd4na_atac <- addUMAP(\n",
        "    ArchRProj = cd4na_atac, \n",
        "    reducedDims = \"IterativeLSI_peak\", \n",
        "    name = \"UMAP_peak\", \n",
        "    nNeighbors = 30, \n",
        "    minDist = 0.5, \n",
        "    metric = \"cosine\",\n",
        "    force = TRUE\n",
        ")"
      ],
      "outputs": [],
      "execution_count": null,
      "metadata": {
        "vscode": {
          "languageId": "r"
        }
      },
      "id": "c4782d83-98a7-4f9b-ba51-01e38d3ebd99"
    },
    {
      "cell_type": "code",
      "source": [
        "saveArchRProject(ArchRProj = cd4na_atac)"
      ],
      "outputs": [],
      "execution_count": null,
      "metadata": {
        "vscode": {
          "languageId": "r"
        }
      },
      "id": "a4c4fcd2-f392-48cc-9f10-db5a4764327b"
    },
    {
      "cell_type": "code",
      "source": [
        "p1 <- cd4na_atac %>% BoxPlotClusterFreq(cluster.name='peak_Clusters_0.5',\n",
        "                                        totalcounts = 'total_counts',\n",
        "                                          color.by='cohort', log.y = FALSE)\n",
        "p1 "
      ],
      "outputs": [],
      "execution_count": null,
      "metadata": {
        "vscode": {
          "languageId": "r"
        }
      },
      "id": "36e6756c-ed3b-4175-a668-135d862e7b93"
    },
    {
      "cell_type": "code",
      "source": [
        "# plot umap of annotated cell types\n",
        "p1 <- plotEmbedding(cd4na_atac, embedding = \"UMAP_peak\", \n",
        "                    colorBy = \"cellColData\", name = c(\"l2_cell_types\", \"peak_Clusters_0.5\",'peak_Clusters_0.8',\n",
        "                                                      'subject_id','age','predicted.celltype_l2','wsnn_res.0.5',\n",
        "                                                      'cohort'))\n",
        "plotPDF(p1, name = paste0(proj_name, '_Clusters_0.8_atac_peak_umap_gene_score.pdf'), ArchRProj = cd4na_atac,\n",
        "        addDOC = FALSE, width = 6, height = 6)"
      ],
      "outputs": [],
      "execution_count": null,
      "metadata": {
        "vscode": {
          "languageId": "r"
        }
      },
      "id": "892683c6-694a-4664-9913-320fa825c447"
    },
    {
      "cell_type": "code",
      "source": [
        "# plot density UMAP\n",
        "plotDensity(ArchRProj= cd4na_atac, embeddingName= 'UMAP_peak', identity = 'cohort', returnObj = FALSE)"
      ],
      "outputs": [],
      "execution_count": null,
      "metadata": {
        "vscode": {
          "languageId": "r"
        }
      },
      "id": "d571bf4b-3d12-429f-aea1-64f6ea99124e"
    },
    {
      "cell_type": "code",
      "source": [
        "cd4na_atac$peak_Clusters_0.5 %>% table()"
      ],
      "outputs": [],
      "execution_count": null,
      "metadata": {
        "vscode": {
          "languageId": "r"
        }
      },
      "id": "5d03434d-69ee-465c-a7bb-aafbd693374d"
    },
    {
      "cell_type": "code",
      "source": [
        "# Identifying Marker Peaks with ArchR\n",
        "cd4na_clusters_0.5_c4_Peaks <- getMarkerFeatures(\n",
        "    ArchRProj = cd4na_atac, \n",
        "    useMatrix = \"PeakMatrix\", \n",
        "   # useGroups = c('C4'),\n",
        "   # bgdGroups = c('C1', 'C2', 'C3','C6'),\n",
        "    groupBy = \"peak_Clusters_0.5\",\n",
        "  bias = c(\"TSSEnrichment\", \"log10(nFrags)\"),\n",
        "     maxCells = 2500,\n",
        "  testMethod = \"wilcoxon\"\n",
        ")"
      ],
      "outputs": [],
      "execution_count": null,
      "metadata": {
        "vscode": {
          "languageId": "r"
        }
      },
      "id": "4e114490-b177-4241-bbb1-bd7583423ebf"
    },
    {
      "cell_type": "code",
      "source": [
        "markerList <- getMarkers(cd4na_clusters_0.5_c4_Peaks, cutOff = \"FDR <= 0.01 & Log2FC >= 1\")\n",
        "markerList[[1]]"
      ],
      "outputs": [],
      "execution_count": null,
      "metadata": {
        "vscode": {
          "languageId": "r"
        }
      },
      "id": "ac8d932d-c49f-4750-93f9-e49490b7076c"
    },
    {
      "cell_type": "code",
      "source": [
        "# plot the heatmap of differential peaks\n",
        "heatmapPeaks <- plotMarkerHeatmap(\n",
        "  seMarker = cd4na_clusters_0.5_c4_Peaks, \n",
        "  cutOff = \"FDR <= 0.05 & abs(Log2FC) >= 1\",\n",
        "    plotLog2FC = TRUE,\n",
        "  transpose = TRUE\n",
        ")\n",
        "draw(heatmapPeaks, heatmap_legend_side = \"bot\", annotation_legend_side = \"bot\")\n",
        "plotPDF(heatmapPeaks, name = \"cd4na_clusters_0.5_C4_Peaks_Marker-Heatmap\", \n",
        "        width = 8, height = 6, ArchRProj = cd4na_atac, addDOC = FALSE)"
      ],
      "outputs": [],
      "execution_count": null,
      "metadata": {
        "tags": [],
        "vscode": {
          "languageId": "r"
        }
      },
      "id": "02235437-3cbf-4720-8e23-2952d46ae963"
    },
    {
      "cell_type": "code",
      "source": [
        "# Motif Enrichment in Differential Peaks\n",
        "\n",
        "# cisbp lower quality higher coverage\n",
        "# japstat higher quality lower coverage\n",
        "cd4na_atac <- addMotifAnnotations(ArchRProj = cd4na_atac, motifSet = \"cisbp\", name = \"Motif\",\n",
        "                                 force = TRUE)"
      ],
      "outputs": [],
      "execution_count": null,
      "metadata": {
        "vscode": {
          "languageId": "r"
        }
      },
      "id": "ebd21cfb-5d42-49fe-b4b1-5e51787c2b76"
    },
    {
      "cell_type": "code",
      "source": [
        "# identify the enriched motif for all clutsers\n",
        "cd4na_clusters_0.5_motif <- peakAnnoEnrichment(\n",
        "    seMarker = cd4na_clusters_0.5_c4_Peaks,\n",
        "    ArchRProj = cd4na_atac,\n",
        "    peakAnnotation = \"Motif\",\n",
        "    cutOff = \"FDR <= 0.1 & Log2FC >= 0.5\"\n",
        "  )"
      ],
      "outputs": [],
      "execution_count": null,
      "metadata": {
        "vscode": {
          "languageId": "r"
        }
      },
      "id": "4333c864-2d36-4b9f-8b5f-f6c7ee52f011"
    },
    {
      "cell_type": "code",
      "source": [
        "heatmapEM <- plotEnrichHeatmap(cd4na_clusters_0.5_motif, n = 50, transpose = TRUE)\n",
        "ComplexHeatmap::draw(heatmapEM, heatmap_legend_side = \"bot\", annotation_legend_side = \"bot\")\n",
        "plotPDF(heatmapEM, name = \"cd4na_clusters_0.5_Peaks_Motif-Heatmap\", \n",
        "        width = 8, height = 6, ArchRProj = cd4na_atac, addDOC = FALSE)"
      ],
      "outputs": [],
      "execution_count": null,
      "metadata": {
        "vscode": {
          "languageId": "r"
        }
      },
      "id": "7b4de40d-74e0-4c62-97a2-d225011e0aba"
    },
    {
      "cell_type": "code",
      "source": [
        "# identify the enriched motif\n",
        "# exlcuding C4\n",
        "cd4na_clusters_0.5_noc4_motif <- peakAnnoEnrichment(\n",
        "    seMarker = cd4na_clusters_0.5_c4_Peaks[,c(1:3, 5, 6)],\n",
        "    ArchRProj = cd4na_atac,\n",
        "    peakAnnotation = \"Motif\",\n",
        "    cutOff = \"FDR <= 0.1 & Log2FC >= 0.5\"\n",
        "  )"
      ],
      "outputs": [],
      "execution_count": null,
      "metadata": {
        "vscode": {
          "languageId": "r"
        }
      },
      "id": "ec9cd9fd-d686-448b-8961-5ab90b6595fd"
    },
    {
      "cell_type": "code",
      "source": [
        "cd4na_clusters_0.5_motif[,c(1:3, 5, 6)]"
      ],
      "outputs": [],
      "execution_count": null,
      "metadata": {
        "vscode": {
          "languageId": "r"
        }
      },
      "id": "dccfd8ba-e2a9-45a7-8d8f-34f464a78c9f"
    },
    {
      "cell_type": "code",
      "source": [
        "heatmapEM <- plotEnrichHeatmap(cd4na_clusters_0.5_noc4_motif, n = 50, transpose = TRUE)\n",
        "ComplexHeatmap::draw(heatmapEM, heatmap_legend_side = \"bot\", annotation_legend_side = \"bot\")\n",
        "plotPDF(heatmapEM, name = \"cd4na_clusters_0.5_noC4_Peaks_Motif-Heatmap\", \n",
        "        width = 8, height = 6, ArchRProj = cd4na_atac, addDOC = FALSE)"
      ],
      "outputs": [],
      "execution_count": null,
      "metadata": {
        "vscode": {
          "languageId": "r"
        }
      },
      "id": "422085d7-1740-4470-a727-9b0277abab2d"
    },
    {
      "cell_type": "markdown",
      "source": [
        "### motif enrichment by cell types"
      ],
      "metadata": {
        "tags": []
      },
      "id": "fc0f0a22-db07-4392-a5e9-3c3994b35bea"
    },
    {
      "cell_type": "code",
      "source": [
        "# Motif Enrichment in Differential Peaks\n",
        "\n",
        "# cisbp lower quality higher coverage\n",
        "# japstat higher quality lower coverage\n",
        "cd4na_atac <- addMotifAnnotations(ArchRProj = cd4na_atac, motifSet = \"cisbp\", name = \"Motif\",\n",
        "                                 force = TRUE)"
      ],
      "outputs": [],
      "execution_count": null,
      "metadata": {
        "vscode": {
          "languageId": "r"
        }
      },
      "id": "718df7d0-26cd-4535-8f5e-513b9fc3e9e1"
    },
    {
      "cell_type": "code",
      "source": [
        "# identify the enriched motif\n",
        "motifsEnriched <- peakAnnoEnrichment(\n",
        "    seMarker = cd4na_clusters_0.5_Peaks,\n",
        "    ArchRProj = cd4na_atac,\n",
        "    peakAnnotation = \"Motif\",\n",
        "    cutOff = \"FDR <= 0.1 & abs(Log2FC) >= 0.5\"\n",
        "  )"
      ],
      "outputs": [],
      "execution_count": null,
      "metadata": {
        "vscode": {
          "languageId": "r"
        }
      },
      "id": "7b45a09f-b2bb-4de9-8778-fb6d43455b40"
    },
    {
      "cell_type": "code",
      "source": [
        "motifsEnriched"
      ],
      "outputs": [],
      "execution_count": null,
      "metadata": {
        "vscode": {
          "languageId": "r"
        }
      },
      "id": "f9c43a7d-71c2-468c-9d0a-1f537f2356f1"
    },
    {
      "cell_type": "code",
      "source": [
        "heatmapEM <- plotEnrichHeatmap(motifsEnriched, n = 100, transpose = TRUE)\n",
        "ComplexHeatmap::draw(heatmapEM, heatmap_legend_side = \"bot\", annotation_legend_side = \"bot\")\n",
        "plotPDF(heatmapEM, name = \"cd4na_clusters_0.5_Peaks_Motif-Heatmap\", \n",
        "        width = 8, height = 6, ArchRProj = cd4na_atac, addDOC = FALSE)"
      ],
      "outputs": [],
      "execution_count": null,
      "metadata": {
        "vscode": {
          "languageId": "r"
        }
      },
      "id": "14b4a097-562d-4d1b-a2b0-ec1265be45a2"
    },
    {
      "cell_type": "code",
      "source": [
        "# add Encode TF Binding Sites\n",
        "cd4na_atac <- addArchRAnnotations(ArchRProj = cd4na_atac, force = TRUE,\n",
        "                                  collection = \"EncodeTFBS\")"
      ],
      "outputs": [],
      "execution_count": null,
      "metadata": {
        "tags": [],
        "vscode": {
          "languageId": "r"
        }
      },
      "id": "c08dd92d-7ea6-4706-b49c-bd6b13ca5b87"
    },
    {
      "cell_type": "code",
      "source": [
        "cd4na_clusters_0.5_Peaks"
      ],
      "outputs": [],
      "execution_count": null,
      "metadata": {
        "vscode": {
          "languageId": "r"
        }
      },
      "id": "d4f0e6fb-1578-4694-89b8-2b349d1e332b"
    },
    {
      "cell_type": "code",
      "source": [
        "enrichEncode <- peakAnnoEnrichment(\n",
        "    seMarker = cd4na_clusters_0.5_Peaks,\n",
        "    ArchRProj = cd4na_atac,\n",
        "    peakAnnotation = \"EncodeTFBS\",\n",
        "    cutOff = \"FDR <= 0.1 & abs(Log2FC) >= 0.5\"\n",
        "  )"
      ],
      "outputs": [],
      "execution_count": null,
      "metadata": {
        "vscode": {
          "languageId": "r"
        }
      },
      "id": "69bc98e6-02c4-4d82-8a1d-39fbe9203bfe"
    },
    {
      "cell_type": "code",
      "source": [
        "heatmapEncode <- plotEnrichHeatmap(enrichEncode, n = 20, transpose = TRUE)\n",
        "ComplexHeatmap::draw(heatmapEncode, heatmap_legend_side = \"bot\", annotation_legend_side = \"bot\")\n",
        "plotPDF(heatmapEncode, name = \"EncodeTFBS-Enriched-cd4na_clusters_0.5_Markers-Heatmap\", width = 8, height = 6, \n",
        "        ArchRProj = cd4na_atac, addDOC = FALSE)"
      ],
      "outputs": [],
      "execution_count": null,
      "metadata": {
        "vscode": {
          "languageId": "r"
        }
      },
      "id": "ce57d59d-3c61-4e6d-be1a-a486a71be541"
    },
    {
      "cell_type": "code",
      "source": [
        "# Motif Deviations\n",
        "cd4na_atac <- addBgdPeaks(cd4na_atac)"
      ],
      "outputs": [],
      "execution_count": null,
      "metadata": {
        "vscode": {
          "languageId": "r"
        }
      },
      "id": "f9f81324-6050-4e3c-8463-8af0167f6bc2"
    },
    {
      "cell_type": "code",
      "source": [
        "cd4na_atac <- addDeviationsMatrix(\n",
        "  ArchRProj = cd4na_atac, \n",
        "  peakAnnotation = \"Motif\",\n",
        "  force = TRUE\n",
        ")"
      ],
      "outputs": [],
      "execution_count": null,
      "metadata": {
        "vscode": {
          "languageId": "r"
        }
      },
      "id": "84110f98-3bd2-40ee-a30c-dbe04bc01b15"
    },
    {
      "cell_type": "code",
      "source": [
        "plotVarDev <- getVarDeviations(cd4na_atac, name = \"MotifMatrix\", plot = TRUE)\n",
        "plotVarDev\n",
        "plotPDF(plotVarDev, name = \"Variable-Motif-Deviation-Scores\", \n",
        "        width = 12, height = 12, ArchRProj = cd4na_atac, addDOC = FALSE)"
      ],
      "outputs": [],
      "execution_count": null,
      "metadata": {
        "vscode": {
          "languageId": "r"
        }
      },
      "id": "c7360c97-a657-4059-a7cf-ead4091fe6ed"
    },
    {
      "cell_type": "code",
      "source": [
        "plotVarDev"
      ],
      "outputs": [],
      "execution_count": null,
      "metadata": {
        "vscode": {
          "languageId": "r"
        }
      },
      "id": "11483238-69bf-4ea3-b798-1d12a34cc6f5"
    },
    {
      "cell_type": "code",
      "source": [
        "saveArchRProject(ArchRProj = cd4na_atac)"
      ],
      "outputs": [],
      "execution_count": null,
      "metadata": {
        "vscode": {
          "languageId": "r"
        }
      },
      "id": "741342ad-bc38-4ba5-b808-f16566ad7738"
    },
    {
      "cell_type": "markdown",
      "source": [
        "### plot regions in Archr "
      ],
      "metadata": {},
      "id": "e88dfd0a-c65c-4e93-963f-ce9223597acf"
    },
    {
      "cell_type": "code",
      "source": [
        "source('/home/jupyter/github/scATAC_Supplements/ArchR_Export_ATAC_Data.R')"
      ],
      "outputs": [],
      "execution_count": null,
      "metadata": {
        "vscode": {
          "languageId": "r"
        }
      },
      "id": "28eea692-db6e-4c2e-9ae6-4c4788509616"
    },
    {
      "cell_type": "code",
      "source": [
        "# Extract fragments by populations from an ArchR Project: getPopFrags()\n",
        "cd4na_Clusters_0.5_frags <- getPopFrags(cd4na_atac, 'Clusters_0.5',cellSubsets = 'ALL' ,\n",
        "                                           region = NULL, numCores = 30, \n",
        "                        NormMethod = \"nfrags\", blackList = NULL, overlapList = 50)"
      ],
      "outputs": [],
      "execution_count": null,
      "metadata": {
        "vscode": {
          "languageId": "r"
        }
      },
      "id": "45dc6521-4457-4120-b7de-2b80609ab3c5"
    },
    {
      "cell_type": "code",
      "source": [
        "cd4na_Clusters_0.5_frags_files <- FragsToCoverageFiles(cd4na_Clusters_0.5_frags, files = \"BigWig\",\n",
        "                                             genome = \"hg38\", fname = NULL, outDir = NULL, numCores=30)"
      ],
      "outputs": [],
      "execution_count": null,
      "metadata": {
        "vscode": {
          "languageId": "r"
        }
      },
      "id": "1ec5c43b-e452-4029-b608-c68a80124e0b"
    },
    {
      "cell_type": "code",
      "source": [
        "getAvailableMatrices(cd4na_atac)\n",
        "cd4na_atac <- addMotifAnnotations(ArchRProj = cd4na_atac, motifSet = \"JASPAR2020\", name = \"JasparMotifs\")"
      ],
      "outputs": [],
      "execution_count": null,
      "metadata": {
        "vscode": {
          "languageId": "r"
        }
      },
      "id": "f7d1e22f-c07d-4b9c-bb92-aff60c2e6e73"
    },
    {
      "cell_type": "code",
      "source": [
        "getAvailableMatrices(cd4na_atac)"
      ],
      "outputs": [],
      "execution_count": null,
      "metadata": {
        "vscode": {
          "languageId": "r"
        }
      },
      "id": "f12f763e-9e2a-42ec-a4fc-f6c55b926576"
    },
    {
      "cell_type": "code",
      "source": [
        "cd4na_Clusters_0.5_frags_PLCG2 <- getbpCounts(regionString='chr16:81,774,291-81,967,685', \n",
        "                                          popFrags=cd4na_Clusters_0.5_frags,\n",
        "                                        numCores = 30, returnGRanges = FALSE)"
      ],
      "outputs": [],
      "execution_count": null,
      "metadata": {
        "vscode": {
          "languageId": "r"
        }
      },
      "id": "901c27db-cf99-434e-b2bc-a704a5914d0f"
    },
    {
      "cell_type": "code",
      "source": [
        "cd4na_Clusters_0.5_frags_PLCG2 %>% head()"
      ],
      "outputs": [],
      "execution_count": null,
      "metadata": {
        "vscode": {
          "languageId": "r"
        }
      },
      "id": "06b577ba-ddb9-4a87-be3c-946bd26122cc"
    },
    {
      "cell_type": "code",
      "source": [
        "suppressMessages(p1 <- plotRegion(cd4na_Clusters_0.5_frags_PLCG2, \n",
        "                                  ArchRProj = cd4na_atac, motifSetName =  \"JasparMotifs\"))\n"
      ],
      "outputs": [],
      "execution_count": null,
      "metadata": {
        "vscode": {
          "languageId": "r"
        }
      },
      "id": "bdd51415-ce7f-4d2f-98ce-7c0362b0bdf9"
    },
    {
      "cell_type": "code",
      "source": [
        "pdf(file.path(fig_path, paste0(proj_name, '_atac_Clusters_0.8_PLCG2_gene_coverage.pdf')), width = 12, height = 12)\n",
        "suppressWarnings(p1)\n",
        "dev.off()"
      ],
      "outputs": [],
      "execution_count": null,
      "metadata": {
        "tags": [],
        "vscode": {
          "languageId": "r"
        }
      },
      "id": "51a5ca3c-8c8d-4322-bc10-9b99943d2a47"
    },
    {
      "cell_type": "code",
      "source": [
        "p1"
      ],
      "outputs": [],
      "execution_count": null,
      "metadata": {
        "vscode": {
          "languageId": "r"
        }
      },
      "id": "44d7f421-784a-40bf-a7ca-06c0566846b6"
    },
    {
      "cell_type": "code",
      "source": [],
      "outputs": [],
      "execution_count": null,
      "metadata": {
        "vscode": {
          "languageId": "r"
        }
      },
      "id": "a7fd272d-0260-4422-a1a8-b93a378a4bcd"
    },
    {
      "cell_type": "code",
      "source": [
        "sessionInfo()"
      ],
      "outputs": [],
      "execution_count": null,
      "metadata": {
        "vscode": {
          "languageId": "r"
        }
      },
      "id": "ea362583-327d-4691-8977-65723da62e77"
    },
    {
      "cell_type": "code",
      "source": [],
      "outputs": [],
      "execution_count": null,
      "metadata": {
        "vscode": {
          "languageId": "r"
        }
      },
      "id": "2f2dff32-7fbd-44a0-bf3b-bd688b34de51"
    }
  ],
  "metadata": {
    "kernelspec": {
      "display_name": "seurat_v5",
      "language": "R",
      "name": "seurat_v5"
    },
    "language_info": {
      "codemirror_mode": "r",
      "file_extension": ".r",
      "mimetype": "text/x-r-source",
      "name": "R",
      "pygments_lexer": "r",
      "version": "4.3.3"
    },
    "nteract": {
      "version": "0.28.0"
    }
  },
  "nbformat": 4,
  "nbformat_minor": 5
}