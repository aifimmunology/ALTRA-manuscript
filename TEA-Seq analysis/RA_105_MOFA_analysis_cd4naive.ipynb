{
  "cells": [
    {
      "cell_type": "markdown",
      "source": [
        "# Run MOFA analysis in Teaseq data\n",
        "- CD4 naive cells ARI vs CON2"
      ],
      "metadata": {},
      "id": "f8ff4cf7-fa5b-4f38-8e33-5bbceab0b5e5"
    },
    {
      "cell_type": "markdown",
      "source": [
        "1. preprocess clinical lab, olink, scRNA, scATAC data\n",
        "    - extract the sample pseudobulk level data\n",
        "    - for atac-seq data, TF activivies infered from chromVAR is used\n",
        "2. run MOFA\n",
        "3. examine MOFA factor 1"
      ],
      "metadata": {},
      "id": "5efc17e1-a184-4ba9-b883-ba6fed6f95a3"
    },
    {
      "cell_type": "markdown",
      "source": [
        "# set up"
      ],
      "metadata": {},
      "id": "132690e1-606b-41b3-b358-8b723344da50"
    },
    {
      "cell_type": "code",
      "source": [
        "# import libraries\n",
        "quiet_library <- function(...) {\n",
        "    suppressPackageStartupMessages(library(...))\n",
        "}\n",
        "quiet_library(\"tidyverse\")\n",
        "quiet_library(\"Matrix\")\n",
        "quiet_library(\"viridis\")\n",
        "quiet_library(\"scran\")\n",
        "quiet_library(\"scater\")\n",
        "quiet_library(\"MOFA2\")\n",
        "quiet_library(\"data.table\")\n",
        "quiet_library(\"jsonlite\")\n",
        "quiet_library(\"parallel\")\n",
        "quiet_library(\"Seurat\")\n",
        "quiet_library(\"ggpubr\")\n"
      ],
      "outputs": [],
      "execution_count": null,
      "metadata": {
        "vscode": {
          "languageId": "r"
        }
      },
      "id": "bd281c45-0115-4565-82bf-a78cf3bc40e1"
    },
    {
      "cell_type": "code",
      "source": [
        "# define file path\n",
        "fig_path <- \"/home/jupyter/figures/preRA_teaseq/MOFA\"\n",
        "data_path <- \"/home/jupyter/data/preRA_teaseq/EXP-00243\"\n",
        "meta_path <- \"/home/jupyter/data/preRA_teaseq/meta_data\"\n",
        "output_path <- \"/home/jupyter/data/preRA_teaseq/output_results/MOFA\"\n",
        "if (!dir.exists(fig_path)) (dir.create(fig_path, recursive = TRUE))\n",
        "if (!dir.exists(output_path)) (dir.create(output_path, recursive = TRUE))\n",
        "# define a project name\n",
        "proj_name <- \"PreRA_teaseq_MOFA_cd4na\""
      ],
      "outputs": [],
      "execution_count": null,
      "metadata": {
        "vscode": {
          "languageId": "r"
        }
      },
      "id": "77a1d94f-526a-4ab6-a46e-5e6a1ea2ba7f"
    },
    {
      "cell_type": "code",
      "source": [
        "# define the color palette to be used\n",
        "npg_color <- c(\n",
        "    \"#E64B35FF\", \"#4DBBD5FF\", \"#00A087FF\", \"#3C5488FF\", \"#F39B7FFF\",\n",
        "    \"#8491B4FF\", \"#91D1C2FF\", \"#DC0000FF\", \"#7E6148FF\", \"#B09C85FF\"\n",
        ")\n",
        "nejm_color <- c(\"#BC3C29FF\", \"#0072B5FF\", \"#E18727FF\", \"#20854EFF\", \"#7876B1FF\", \"#6F99ADFF\", \"#FFDC91FF\", \"#EE4C97FF\")\n",
        "jama_color <- c(\"#374E55FF\", \"#DF8F44FF\", \"#00A1D5FF\", \"#B24745FF\", \"#79AF97FF\", \"#6A6599FF\", \"#80796BFF\")\n",
        "jco_color <- c(\"#0073C2FF\", \"#EFC000FF\", \"#868686FF\", \"#CD534CFF\", \"#7AA6DCFF\", \"#003C67FF\", \"#8F7700FF\")\n",
        "cluster_colors <- c(\n",
        "    \"#DC050C\", \"#FB8072\", \"#1965B0\", \"#7BAFDE\", \"#882E72\", \"#B17BA6\", \"#FF7F00\", \"#FDB462\", \"#E7298A\",\n",
        "    \"#E78AC3\", \"#33A02C\", \"#B2DF8A\", \"#55A1B1\", \"#8DD3C7\", \"#A6761D\", \"#E6AB02\", \"#7570B3\", \"#BEAED4\", \"#666666\", \"#999999\",\n",
        "    \"#aa8282\", \"#d4b7b7\", \"#8600bf\", \"#ba5ce3\", \"#808000\", \"#aeae5c\", \"#1e90ff\", \"#00bfff\", \"#56ff0d\", \"#ffff00\"\n",
        ")\n",
        "con_ari_colors <- c(\"#5AAA46\", \"#F59F00\")\n",
        "cluster_colors_ext <- colorRampPalette(cluster_colors)(36)\n",
        "options(repr.plot.width = 20, repr.plot.height = 15)\n"
      ],
      "outputs": [],
      "execution_count": null,
      "metadata": {
        "tags": [],
        "vscode": {
          "languageId": "r"
        }
      },
      "id": "6e97f976-2169-4291-9549-5aa7ccd8f67b"
    },
    {
      "cell_type": "code",
      "source": [
        "# source the helper functions\n",
        "source(\"/home/jupyter/github/Teaseq-analysis/scRNA_teaseq_ananlysis_helper_functions.r\")\n"
      ],
      "outputs": [],
      "execution_count": null,
      "metadata": {
        "vscode": {
          "languageId": "r"
        }
      },
      "id": "07b9a4e5-354e-40be-a77e-f4725e5566c6"
    },
    {
      "cell_type": "markdown",
      "source": [
        "# Load and prepare Data"
      ],
      "metadata": {},
      "id": "88f8953c-dfe1-4d13-9d6f-f7dc17fb0fbf"
    },
    {
      "cell_type": "code",
      "source": [
        "# load metadat in \n",
        "meta_data <- read_csv('/home/jupyter/data/preRA_teaseq/meta_data/PreRA_teaseq_metadata.csv')\n",
        "meta_data %>% colnames()\n",
        "meta_data <- meta_data %>% dplyr::select(all_of(c('subject.subjectGuid', 'sample.sampleKitGuid',\n",
        "                                                   'subject.biologicalSex', 'cohort.cohortGuid','age',\n",
        "                                                  'rheumatoid_factor_iga','rheumatoid_factor_igm',\n",
        "                                                   'anti_ccp3'))) %>%\n",
        "    dplyr::rename('sample'='subject.subjectGuid') %>% \n",
        "    mutate(cohort=if_else(cohort.cohortGuid=='CU1', 'at_risk', 'healthy')) \n",
        "meta_data %>% head()"
      ],
      "outputs": [],
      "execution_count": null,
      "metadata": {
        "vscode": {
          "languageId": "r"
        }
      },
      "id": "1e946c56-ae97-48b1-a132-bb5e2c790ec9"
    },
    {
      "cell_type": "markdown",
      "source": [
        "## Psudobulk approach"
      ],
      "metadata": {},
      "id": "2d1db3fc-09ea-4747-9f2b-94fd2ffa122d"
    },
    {
      "cell_type": "markdown",
      "source": [
        "### load psudobulk rna, adt, peaks, "
      ],
      "metadata": {},
      "id": "0c8e8747-27d9-4b43-8e3d-8eec71621e0b"
    },
    {
      "cell_type": "code",
      "source": [
        "# load rna psudobulk data\n",
        "# gene expression matrix is summarized at the sample level and vst transformed\n",
        "cd4na_rna_psudo <- readRDS('/home/jupyter/data/preRA_teaseq/EXP-00243/PreRA_teaseq_cd4na_t_rna_subject_PseudoBulk.rds')"
      ],
      "outputs": [],
      "execution_count": null,
      "metadata": {
        "vscode": {
          "languageId": "r"
        }
      },
      "id": "9b0fbcbe-e9cc-4bf1-86ba-79c7f8398c31"
    },
    {
      "cell_type": "code",
      "source": [
        "cd4na_rna_psudo"
      ],
      "outputs": [],
      "execution_count": null,
      "metadata": {
        "vscode": {
          "languageId": "r"
        }
      },
      "id": "f9a7dbb9-5209-4770-ac37-15adc3280ea2"
    },
    {
      "cell_type": "code",
      "source": [
        "# check the distribution of the gene expression data\n",
        "assay(cd4na_rna_psudo, 'normalized_counts') %>% hist()"
      ],
      "outputs": [],
      "execution_count": null,
      "metadata": {
        "vscode": {
          "languageId": "r"
        }
      },
      "id": "93869bb8-63c2-4acc-a182-c27c80a1bc50"
    },
    {
      "cell_type": "code",
      "source": [
        "# extract the rna data into the long table formate and scale the data per MOFA requirement.\n",
        "norm_rna_counts <- assay(cd4na_rna_psudo, 'normalized_counts')\n",
        "colnames(norm_rna_counts) <- cd4na_rna_psudo$subject_id\n",
        "norm_rna_counts_long <- norm_rna_counts %>% as_tibble(rownames = 'gene') %>% \n",
        "        pivot_longer(cols = -gene, names_to = 'subject_id', values_to = 'value') %>% \n",
        "        mutate(view='rna',  feature=paste('rna', gene, sep = '_')) %>% \n",
        "    group_by(feature) %>% \n",
        "    mutate(value=scale(value)) %>% ungroup() \n",
        "norm_rna_counts_long %>% head()"
      ],
      "outputs": [],
      "execution_count": null,
      "metadata": {
        "vscode": {
          "languageId": "r"
        }
      },
      "id": "006f9363-33bd-4dec-b4d3-f78c2408e222"
    },
    {
      "cell_type": "code",
      "source": [
        "# check if the data is scaled\n",
        "norm_rna_counts_long %>% ggplot(aes(x=value, fill=subject_id)) + geom_histogram(alpha=0.5)"
      ],
      "outputs": [],
      "execution_count": null,
      "metadata": {
        "vscode": {
          "languageId": "r"
        }
      },
      "id": "789752ae-2c3b-4207-9f0f-0b915c94f9ef"
    },
    {
      "cell_type": "code",
      "source": [
        "# load adt psudobulk\n",
        "# adt data is summarized at the sample level and similar to rna data, it is scaled per MOFA requirement\n",
        "cd4na_adt_psudo <- readRDS('/home/jupyter/data/preRA_teaseq/EXP-00243/PreRA_teaseq_cd4na_t_adt_subject_PseudoBulk.rds')\n",
        "cd4na_adt_psudo"
      ],
      "outputs": [],
      "execution_count": null,
      "metadata": {
        "vscode": {
          "languageId": "r"
        }
      },
      "id": "9bc1b444-ef14-44a1-9f34-3ceff511bf6f"
    },
    {
      "cell_type": "code",
      "source": [
        "# extract the rna data for all cell type\n",
        "norm_adt_counts <- assay(cd4na_adt_psudo, 'norm_counts')\n",
        "colnames(norm_adt_counts) <- cd4na_adt_psudo$subject_id\n",
        "norm_adt_counts_long <- norm_adt_counts %>% as_tibble(rownames = 'gene') %>% \n",
        "        pivot_longer(cols = -gene, names_to = 'subject_id', values_to = 'value') %>% \n",
        "        mutate(view='adt', feature=paste('adt', gene, sep = '_')) %>% \n",
        "    group_by(feature) %>%  mutate(value=scale(value)) %>% ungroup()\n",
        "norm_adt_counts_long %>% head()"
      ],
      "outputs": [],
      "execution_count": null,
      "metadata": {
        "vscode": {
          "languageId": "r"
        }
      },
      "id": "615f8df7-a161-4d22-892c-0d5ae06161fa"
    },
    {
      "cell_type": "code",
      "source": [
        "norm_adt_counts_long %>%    \n",
        "    ggplot(aes(x=value, fill=subject_id)) + \n",
        "    facet_wrap(vars(feature)) +\n",
        "    geom_histogram(alpha=0.5)"
      ],
      "outputs": [],
      "execution_count": null,
      "metadata": {
        "vscode": {
          "languageId": "r"
        }
      },
      "id": "3816b01c-f4d9-49aa-b80c-5fe28c84638b"
    },
    {
      "cell_type": "code",
      "source": [
        "# save the differential results\n",
        "l2_chromvar <- readRDS(\"/home/jupyter/data/preRA_teaseq/output_results/atac/preRA_teaseq_MOCHA_l2_celltype_chromavar.rds\")\n",
        "cd4na_dev <- l2_chromvar[[\"cd4_naive\"]]$Z_Score\n",
        "cd4na_dev"
      ],
      "outputs": [],
      "execution_count": null,
      "metadata": {
        "vscode": {
          "languageId": "r"
        }
      },
      "id": "8c905fa4-a60d-4b6b-9192-75d341b27434"
    },
    {
      "cell_type": "code",
      "source": [
        "# remove one motif with empty values\n",
        "cd4na_dev <- cd4na_dev[rownames(cd4na_dev) != \"ENSG00000250542\", ]\n",
        "colnames(cd4na_dev) <- colData(cd4na_dev)$subject_id\n",
        "cd4na_dev\n"
      ],
      "outputs": [],
      "execution_count": null,
      "metadata": {
        "vscode": {
          "languageId": "r"
        }
      },
      "id": "320e0ed8-f0e2-4184-bf9c-098ef7d8b919"
    },
    {
      "cell_type": "code",
      "source": [
        "# extract the z score\n",
        "chromvar_tf <- assay(cd4na_dev, 'cd4_naive') %>% \n",
        "    as_tibble(rownames = 'tf') %>% \n",
        "    pivot_longer(cols = -tf, names_to = 'subject_id', values_to = 'value')%>% \n",
        "        mutate(view='tf',  feature=paste('tf', tf, sep = '_')) \n",
        "chromvar_tf %>% head()"
      ],
      "outputs": [],
      "execution_count": null,
      "metadata": {
        "vscode": {
          "languageId": "r"
        }
      },
      "id": "fee13fe8-fc00-408e-b353-d5cad4553c5b"
    },
    {
      "cell_type": "code",
      "source": [
        "chromvar_tf %>% ggplot(aes(x=value, fill=subject_id)) + \n",
        "    geom_histogram(alpha=0.5) "
      ],
      "outputs": [],
      "execution_count": null,
      "metadata": {
        "vscode": {
          "languageId": "r"
        }
      },
      "id": "2ace193d-b247-4bb2-bdaa-9dfd6e2e20a2"
    },
    {
      "cell_type": "markdown",
      "source": [
        "### get OLINK data"
      ],
      "metadata": {},
      "id": "54b9aee1-8452-4057-8d14-dae87e163840"
    },
    {
      "cell_type": "code",
      "source": [
        "\n",
        "# load the data that processed by Mark contains all olink data\n",
        "olink_processed <- fread('/home/jupyter/data/olink/cache/9de67d6a-9cf8-4031-8ed2-ae0fcf3e40d5/2022-11-18_Olink_allCohorts_v2.csv')\n"
      ],
      "outputs": [],
      "execution_count": null,
      "metadata": {
        "vscode": {
          "languageId": "r"
        }
      },
      "id": "568e675b-702d-441e-96bd-27569ad27281"
    },
    {
      "cell_type": "code",
      "source": [
        "# filter the olink data to all 13 samples in teaseq\n",
        "olink_fl <-  olink_processed %>% filter(sample.sampleKitGuid %in% meta_data$sample.sampleKitGuid) %>% \n",
        "    dplyr::select(SampleID:subject.subjectGuid) %>%\n",
        "    distinct(Assay, sample.sampleKitGuid, .keep_all = TRUE)"
      ],
      "outputs": [],
      "execution_count": null,
      "metadata": {
        "tags": [],
        "vscode": {
          "languageId": "r"
        }
      },
      "id": "bc8c723d-7483-4d2b-9b32-0a0ff07589cd"
    },
    {
      "cell_type": "code",
      "source": [
        "olink_fl$NPX_Final %>% hist()"
      ],
      "outputs": [],
      "execution_count": null,
      "metadata": {
        "vscode": {
          "languageId": "r"
        }
      },
      "id": "10a3ccc4-0cdf-44a0-afa7-5ed64d152074"
    },
    {
      "cell_type": "code",
      "source": [
        "# check feature number in OLINK assay\n",
        "olink_fl %>% distinct(Assay) %>% nrow()"
      ],
      "outputs": [],
      "execution_count": null,
      "metadata": {
        "vscode": {
          "languageId": "r"
        }
      },
      "id": "a4c8370c-26ef-462a-b73c-2917b4f2daa4"
    },
    {
      "cell_type": "code",
      "source": [
        "# make a feature table for olink data for moda\n",
        "olink_mofa <- olink_fl %>%\n",
        "    dplyr::select(Assay, sample.sampleKitGuid, NPX_Final, subject.subjectGuid) %>%\n",
        "    dplyr::rename(\"feature\" = \"Assay\", \"value\" = \"NPX_Final\", \"subject_id\" = \"subject.subjectGuid\") %>%\n",
        "    mutate(view = \"olink\") %>%\n",
        "    mutate(feature = paste(view, feature, sep = \"_\"))\n"
      ],
      "outputs": [],
      "execution_count": null,
      "metadata": {
        "vscode": {
          "languageId": "r"
        }
      },
      "id": "34a32d47-6c42-491f-8b10-d51d4b905c33"
    },
    {
      "cell_type": "markdown",
      "source": [
        "# create MOFA object"
      ],
      "metadata": {},
      "id": "0af97342-5cd6-41f8-ab38-bf0a08d998c5"
    },
    {
      "cell_type": "code",
      "source": [
        "# creat a lone data table of all modalities combine\n",
        "mofa_dt <- rbindlist(list(\n",
        "    norm_rna_counts_long %>% dplyr::select(c(subject_id, value, view, feature)),\n",
        "    norm_adt_counts_long %>% dplyr::select(c(subject_id, value, view, feature)),\n",
        "    olink_mofa %>% dplyr::select(c(subject_id, value, view, feature)),\n",
        "    chromvar_tf %>% dplyr::select(c(subject_id, value, view, feature))\n",
        "), use.names = TRUE) %>%\n",
        "    dplyr::rename(\"sample\" = \"subject_id\") %>%\n",
        "    as_tibble()\n",
        "mofa_dt %>% head()\n",
        "# check how many features are in each view\n",
        "mofa_dt %>%\n",
        "    group_by(view) %>%\n",
        "    distinct(feature) %>%\n",
        "    tally()"
      ],
      "outputs": [],
      "execution_count": null,
      "metadata": {
        "vscode": {
          "languageId": "r"
        }
      },
      "id": "4a625f80-0820-4f7d-a402-a113b2e5983e"
    },
    {
      "cell_type": "code",
      "source": [
        "# remove subject BR2024 from the analysis\n",
        "# this con2 subject had a positive CCP result and was removed from the analysis\n",
        "mofa_dt <- mofa_dt %>% filter(sample!='BR2024')"
      ],
      "outputs": [],
      "execution_count": null,
      "metadata": {
        "vscode": {
          "languageId": "r"
        }
      },
      "id": "cc115994-e834-4a8f-a6b5-69a1bb6d402f"
    },
    {
      "cell_type": "code",
      "source": [
        "# save MOFA data table\n",
        "mofa_dt %>% write_tsv(file.path(output_path, 'mofa_preRA_cd4_rna_adt_olink_tf_pseudobulk_data_092023.tsv'))"
      ],
      "outputs": [],
      "execution_count": null,
      "metadata": {
        "vscode": {
          "languageId": "r"
        }
      },
      "id": "8e63fb07-6b6f-4414-8510-033a653562c2"
    },
    {
      "cell_type": "code",
      "source": [
        "# load the data table\n",
        "mofa_dt <- read_tsv(file.path(output_path, 'mofa_preRA_cd4_rna_adt_olink_tf_pseudobulk_data_071423.tsv'))"
      ],
      "outputs": [],
      "execution_count": null,
      "metadata": {
        "vscode": {
          "languageId": "r"
        }
      },
      "id": "58254a52-3cd6-4d8b-be01-8d7d6e9108da"
    },
    {
      "cell_type": "code",
      "source": [
        "# create a MOFA object\n",
        "MOFAobject <- create_mofa(mofa_dt)"
      ],
      "outputs": [],
      "execution_count": null,
      "metadata": {
        "vscode": {
          "languageId": "r"
        }
      },
      "id": "542188de-d76e-471e-9c70-188eff80d1d1"
    },
    {
      "cell_type": "code",
      "source": [
        "print(MOFAobject)\n",
        "plot_data_overview(MOFAobject)\n",
        "ggsave(file.path(fig_path, paste0(proj_name, '_data_overview.png')), \n",
        "       width=6, height=6)"
      ],
      "outputs": [],
      "execution_count": null,
      "metadata": {
        "vscode": {
          "languageId": "r"
        }
      },
      "id": "de308433-2bc5-48ba-82d0-281022e87131"
    },
    {
      "cell_type": "code",
      "source": [
        "data_opts <- get_default_data_options(MOFAobject)\n",
        "data_opts$scale_views=TRUE"
      ],
      "outputs": [],
      "execution_count": null,
      "metadata": {
        "vscode": {
          "languageId": "r"
        }
      },
      "id": "76615e3e-c6df-4d82-b087-01445b9eacba"
    },
    {
      "cell_type": "code",
      "source": [
        "model_opts <- get_default_model_options(MOFAobject)\n",
        "# set the number of factors to 6\n",
        "model_opts$num_factors <- 6\n",
        "head(model_opts)"
      ],
      "outputs": [],
      "execution_count": null,
      "metadata": {
        "vscode": {
          "languageId": "r"
        }
      },
      "id": "33d66ad6-5bf6-4249-8879-674a27fd6c57"
    },
    {
      "cell_type": "code",
      "source": [
        "train_opts <- get_default_training_options(MOFAobject)\n",
        "head(train_opts)"
      ],
      "outputs": [],
      "execution_count": null,
      "metadata": {
        "vscode": {
          "languageId": "r"
        }
      },
      "id": "2e0434dd-f099-4dcf-9485-ca6ff2a14fd4"
    },
    {
      "cell_type": "code",
      "source": [
        "MOFAobject <- prepare_mofa(\n",
        "  object = MOFAobject,\n",
        "  data_options = data_opts,\n",
        "  model_options = model_opts,\n",
        "  training_options = train_opts\n",
        ")"
      ],
      "outputs": [],
      "execution_count": null,
      "metadata": {
        "vscode": {
          "languageId": "r"
        }
      },
      "id": "9568e020-5265-4b51-8133-79e9db44d447"
    },
    {
      "cell_type": "markdown",
      "source": [
        "# train mofa model"
      ],
      "metadata": {},
      "id": "584fd9b4-db98-4bd7-ac52-5c810f9bbdcf"
    },
    {
      "cell_type": "code",
      "source": [
        "# train mofa model\n",
        "outfile <- file.path(output_path, \"mofa_preRA_cd4_rna_adt_olink_tf_pseudobulk_model_09202023.hdf5\")\n",
        "MOFAobject.trained <- run_mofa(MOFAobject, outfile, use_basilisk = TRUE)\n"
      ],
      "outputs": [],
      "execution_count": null,
      "metadata": {
        "vscode": {
          "languageId": "r"
        }
      },
      "id": "90063755-3e34-461e-8123-923265365443"
    },
    {
      "cell_type": "markdown",
      "source": [
        "# downstream analysis"
      ],
      "metadata": {},
      "id": "5efc4ad4-5943-4da5-b053-5474fcd0c103"
    },
    {
      "cell_type": "code",
      "source": [
        "# load the trained model\n",
        "model <- load_model(file.path(output_path, \"mofa_preRA_cd4_rna_adt_olink_tf_pseudobulk_model_09202023.hdf5\"))"
      ],
      "outputs": [],
      "execution_count": null,
      "metadata": {
        "vscode": {
          "languageId": "r"
        }
      },
      "id": "836db3c5-0ee3-4fd6-b384-492d9bda79f6"
    },
    {
      "cell_type": "code",
      "source": [
        "plot_data_overview(model)\n",
        "ggsave(file.path(fig_path, paste0(proj_name, '_data_overview.png')), \n",
        "       width=4, height=4)"
      ],
      "outputs": [],
      "execution_count": null,
      "metadata": {
        "vscode": {
          "languageId": "r"
        }
      },
      "id": "1d0959e6-e957-404c-abdf-f916c2a8af09"
    },
    {
      "cell_type": "code",
      "source": [
        "# add metadata to the model\n",
        "meta_data <- meta_data %>% filter(sample!='BR2024')%>%\n",
        "    mutate(status=factor(recode(cohort,'at_risk'='ARI', 'healthy'='CON2'),\n",
        "                        levels=c('CON2', 'ARI')))\n",
        "meta_data"
      ],
      "outputs": [],
      "execution_count": null,
      "metadata": {
        "vscode": {
          "languageId": "r"
        }
      },
      "id": "37fc8d46-7924-4a40-aeac-9b0c669f5b4e"
    },
    {
      "cell_type": "code",
      "source": [
        "# add metadata to the model\n",
        "samples_metadata(model) <- meta_data"
      ],
      "outputs": [],
      "execution_count": null,
      "metadata": {
        "vscode": {
          "languageId": "r"
        }
      },
      "id": "41259fa9-ed42-4bb4-9a35-3d1f50a94fa7"
    },
    {
      "cell_type": "code",
      "source": [
        "# extract the facot \n",
        "factors_values <- get_factors(model, \n",
        "  factors = \"all\", \n",
        "  as.data.frame = TRUE\n",
        ") %>% as_tibble() %>% left_join(samples_metadata(model), by='sample') %>%\n",
        "    mutate(cohort=factor(cohort, levels = c('healthy', 'at_risk')))\n",
        "head(factors_values)\n"
      ],
      "outputs": [],
      "execution_count": null,
      "metadata": {
        "tags": [],
        "vscode": {
          "languageId": "r"
        }
      },
      "id": "3eab0ca5-3745-4fb4-b9d0-62400eba1d5f"
    },
    {
      "cell_type": "code",
      "source": [
        "# check if the factors are correlated with each other\n",
        "plot_factor_cor(model)"
      ],
      "outputs": [],
      "execution_count": null,
      "metadata": {
        "vscode": {
          "languageId": "r"
        }
      },
      "id": "fe448a2e-7486-4e6a-9187-08dba6030a8c"
    },
    {
      "cell_type": "code",
      "source": [
        "# Variance explained for every factor in per view and group\n",
        "variance_exp <- model@cache$variance_explained$r2_per_factor[[1]] %>% as_tibble(rownames = \"factor\")\n",
        "variance_exp %>% head()\n"
      ],
      "outputs": [],
      "execution_count": null,
      "metadata": {
        "vscode": {
          "languageId": "r"
        }
      },
      "id": "0b0f74fa-dd08-4bcc-9722-f41558b390ea"
    },
    {
      "cell_type": "code",
      "source": [
        "# plot the total variance explained\n",
        "total_variance <- calculate_variance_explained(model)$r2_total$single_group %>%\n",
        "    as_tibble(rownames = \"modality\") %>%\n",
        "    dplyr::rename(\"variance\" = \"value\")\n",
        "total_variance %>% ggbarplot(x = \"modality\", y = \"variance\", fill = \"steelblue\")\n"
      ],
      "outputs": [],
      "execution_count": null,
      "metadata": {
        "vscode": {
          "languageId": "r"
        }
      },
      "id": "45ad301d-368b-4aef-9b0d-b4984e87788d"
    },
    {
      "cell_type": "code",
      "source": [
        "calculate_variance_explained(model)"
      ],
      "outputs": [],
      "execution_count": null,
      "metadata": {
        "vscode": {
          "languageId": "r"
        }
      },
      "id": "96467dc3-9b62-41e5-bf5a-431fc11250f4"
    },
    {
      "cell_type": "code",
      "source": [
        "# plot the variance explained by factor 1\n",
        "f1_variance <- calculate_variance_explained(model)$r2_per_factor$single_group %>%\n",
        "    as_tibble(rownames = \"factor\") %>%\n",
        "    filter(factor == \"Factor1\") %>%\n",
        "    pivot_longer(cols = -factor, names_to = \"modality\", values_to = \"variance\") %>%\n",
        "    mutate(modality = factor(modality, levels = c(\"olink\", \"rna\", \"tf\", \"adt\")))\n",
        "f1_variance %>% ggbarplot(\n",
        "    x = \"modality\", y = \"variance\", ylab = \"\", xlab = \"\", title = \"% variance \\nexplained by F1\",\n",
        "    fill = \"modality\", legend = \"none\", rotate = TRUE,\n",
        "    palette = npg_color\n",
        ")\n",
        "ggsave(file.path(fig_path, paste0(proj_name, \"_variance_decomposition_f1.pdf\")), width = 3, height = 3)\n"
      ],
      "outputs": [],
      "execution_count": null,
      "metadata": {
        "vscode": {
          "languageId": "r"
        }
      },
      "id": "e7198196-3937-4eb1-a9b5-4ded45467c8a"
    },
    {
      "cell_type": "code",
      "source": [
        "# plot the variance in each modality explained by the mofa factors\n",
        "p1 <- plot_variance_explained(model, x = \"view\", y = \"factor\") +\n",
        "    scale_x_discrete(labels = c(\n",
        "        \"adt\" = \"ADT\", \"olink\" = \"OLINK\",\n",
        "        \"rna\" = \"RNA\", \"tf\" = \"ATAC (tf)\"\n",
        "    )) +\n",
        "    scale_y_discrete(labels = c(\n",
        "        \"Factor1\" = \"F1\", \"Factor2\" = \"F2\", \"Factor3\" = \"F3\",\n",
        "        \"Factor4\" = \"F4\", \"Factor5\" = \"F5\", \"Factor6\" = \"F6\"\n",
        "    )) +\n",
        "    theme(\n",
        "        axis.text.x = element_text(\n",
        "            size = 16, angle = 45, hjust = 1\n",
        "        ),\n",
        "        axis.text.y = element_text(\n",
        "            size = 16\n",
        "        )\n",
        "    )\n",
        "p1\n",
        "ggsave(file.path(fig_path, paste0(proj_name, \"_variance_decomposition_factor_heatmap.pdf\")), width = 3, height = 3)\n"
      ],
      "outputs": [],
      "execution_count": null,
      "metadata": {
        "vscode": {
          "languageId": "r"
        }
      },
      "id": "71397e12-0ef2-4eea-a902-6e9295dfbbaa"
    },
    {
      "cell_type": "code",
      "source": [
        "# plot the variaiance explained\n",
        "p1 <- plot_variance_explained(model, x = \"view\", y = \"factor\")\n",
        "p1 + ylab(\"Factors\") + xlab(\"Modalities\") + scale_x_discrete(labels = c(\"ADT\", \"Plasma\\nProtein\", \"RNA\", \"TF\")) +\n",
        "    theme(\n",
        "        axis.title = element_text(size = 24),\n",
        "        axis.text.x = element_blank(),\n",
        "        axis.text.y = element_blank(),\n",
        "        axis.ticks.y = element_blank()\n",
        "    )\n",
        "ggsave(file.path(fig_path, paste0(proj_name, \"_variance_decomposition_facoter_modality.pdf\")), width = 4, height = 4)\n"
      ],
      "outputs": [],
      "execution_count": null,
      "metadata": {
        "vscode": {
          "languageId": "r"
        }
      },
      "id": "bece9c0d-cb56-4611-a2c2-2ff986bd47e3"
    },
    {
      "cell_type": "code",
      "source": [
        "plot_variance_explained(model, x = \"group\", y = \"factor\", plot_total = T)[[2]]\n",
        "ggsave(file.path(fig_path, paste0(proj_name, \"_total_variance_explained.pdf\")), width = 4, height = 4)\n"
      ],
      "outputs": [],
      "execution_count": null,
      "metadata": {
        "vscode": {
          "languageId": "r"
        }
      },
      "id": "94f7bd83-393d-44f6-95a8-9c88ff6eacdb"
    },
    {
      "cell_type": "code",
      "source": [
        "# run glm ARI vs healthy\n",
        "glm_test <- function(data, formula) {\n",
        "    glm_res <- broom::tidy(stats::glm(as.formula(formula), data = data))\n",
        "    return(glm_res)\n",
        "}\n",
        "stats_glm <- factors_values %>%\n",
        "    mutate(status = factor(status, levels = c(\"CON2\", \"ARI\"))) %>%\n",
        "    group_by(factor) %>%\n",
        "    group_modify(~ glm_test(.x, formula = \"value ~ status + age\"))\n",
        "stats_glm %>%\n",
        "    filter(term != \"(Intercept)\") %>%\n",
        "    rstatix::adjust_pvalue(p.col = \"p.value\", method = \"BH\") %>%\n",
        "    arrange(p.value.adj) %>%\n",
        "    filter(term == \"statusARI\")\n",
        "# factor 1 significant different between ARI and healthy"
      ],
      "outputs": [],
      "execution_count": null,
      "metadata": {
        "vscode": {
          "languageId": "r"
        }
      },
      "id": "6126434f-29b5-4e71-a2ec-5e3bb6b1c85c"
    },
    {
      "cell_type": "code",
      "source": [
        "# plot factor1\n",
        "factors_values %>%\n",
        "    filter(factor == \"Factor1\") %>%\n",
        "    ggpubr::ggboxplot(\n",
        "        x = \"status\", y = \"value\", add = \"jitter\",\n",
        "        color = \"status\", palette = con_ari_colors\n",
        "    ) +\n",
        "    # ggpubr::stat_compare_means() +\n",
        "    NoLegend() + ggtitle(\"F1\") +\n",
        "    theme(\n",
        "        plot.title = element_text(hjust = 0.5, size = 16),\n",
        "        axis.text.x = element_text(size = 16),\n",
        "        axis.title.y = element_text(size = 16),\n",
        "        axis.text.y = element_text(size = 16)\n",
        "    ) + xlab(\"\") + ylab(\"Factor score\")\n",
        "\n",
        "ggsave(file.path(fig_path, paste0(proj_name, \"_factor1_status.pdf\")), width = 3, height = 3)\n"
      ],
      "outputs": [],
      "execution_count": null,
      "metadata": {
        "vscode": {
          "languageId": "r"
        }
      },
      "id": "5e233f33-29e3-4089-84ee-debcded9735c"
    },
    {
      "cell_type": "code",
      "source": [
        "# plot other factors for comparison\n",
        "factors_values %>%\n",
        "  filter(factor != \"Factor1\") %>%\n",
        "  ggpubr::ggviolin(\n",
        "    x = \"status\", y = \"value\", add = \"dotplot\",\n",
        "    color = \"status\", palette = con_ari_colors\n",
        "  ) +\n",
        "  # ggpubr::stat_compare_means() +ß\n",
        "  NoLegend() + # ggtitle('Factor 1')+\n",
        "  theme(plot.title = element_text(hjust = 0.5)) + xlab(\"\") + ylab(\"Factor score\") + facet_wrap(vars(factor))\n",
        "ggsave(file.path(fig_path, paste0(proj_name, \"_notsig_factor_status.pdf\")), width = 4, height = 4)\n"
      ],
      "outputs": [],
      "execution_count": null,
      "metadata": {
        "vscode": {
          "languageId": "r"
        }
      },
      "id": "0ea8465c-f32a-42ad-b138-6084c1cf8b02"
    },
    {
      "cell_type": "markdown",
      "source": [
        "## analyze Factor1"
      ],
      "metadata": {},
      "id": "ee3eff54-eee0-4d34-869d-76b623129a2c"
    },
    {
      "cell_type": "code",
      "source": [
        "# plot the top features of foctor1\n",
        "factor <- 1\n",
        "p1 <- plot_weights(model,\n",
        "  view = \"rna\",\n",
        "  factor = factor,\n",
        "  nfeatures = 10, # Number of features to highlight\n",
        "  scale = T, # Scale weights from -1 to 1\n",
        "  abs = F # Take the absolute value?\n",
        ")\n",
        "p2 <- plot_weights(model,\n",
        "  view = \"adt\",\n",
        "  factor = factor,\n",
        "  nfeatures = 10, # Number of features to highlight\n",
        "  scale = T, # Scale weights from -1 to 1\n",
        "  abs = F # Take the absolute value?\n",
        ")\n",
        "p3 <- plot_weights(model,\n",
        "  view = \"olink\",\n",
        "  factor = factor,\n",
        "  nfeatures = 10, # Number of features to highlight\n",
        "  scale = T, # Scale weights from -1 to 1\n",
        "  abs = F # Take the absolute value?\n",
        ")\n",
        "p4 <- plot_weights(model,\n",
        "  view = \"tf\",\n",
        "  factor = factor,\n",
        "  nfeatures = 10, # Number of features to highlightß\n",
        "  scale = T, # Scale weights from -1 to 1\n",
        "  abs = F # Take the absolute value?\n",
        ")\n",
        "cowplot::plot_grid(p1, p2, p3, p4, nrow = 2)\n",
        "ggsave(file.path(fig_path, paste0(proj_name, \"_cd4na_factor1_weights.png\")),\n",
        "  width = 12, height = 8\n",
        ")\n"
      ],
      "outputs": [],
      "execution_count": null,
      "metadata": {
        "vscode": {
          "languageId": "r"
        }
      },
      "id": "ed418e77-3ea1-4732-9f71-46207fa491ec"
    },
    {
      "cell_type": "code",
      "source": [
        "# extract the weight of the models\n",
        "weight <- get_weights(model, views='all',  as.data.frame = TRUE) %>% \n",
        "    mutate(direction=if_else(value>0, 'up', 'down'))\n",
        "weight %>% head()"
      ],
      "outputs": [],
      "execution_count": null,
      "metadata": {
        "vscode": {
          "languageId": "r"
        }
      },
      "id": "a7e3b7d3-524a-4847-b4e3-7bc85e261a54"
    },
    {
      "cell_type": "code",
      "source": [
        "# save feature weights\n",
        "weight %>% write_tsv(file.path(output_path, 'Mofa_preRA_cd4na_09202023_factor_weights.tsv'))"
      ],
      "outputs": [],
      "execution_count": null,
      "metadata": {
        "vscode": {
          "languageId": "r"
        }
      },
      "id": "805c979a-85c5-4f99-ba76-9890809ef1dc"
    },
    {
      "cell_type": "code",
      "source": [
        "# plot dot plot of top features\n",
        "f1_top_weights <- weight %>%\n",
        "  filter(factor == \"Factor1\") %>%\n",
        "  group_by(view) %>%\n",
        "  slice_max(order_by = value, n = 10) %>%\n",
        "  arrange(desc(value)) %>%\n",
        "  mutate(\n",
        "    view = recode(view,\n",
        "      \"rna\" = \"RNA\", \"tf\" = \"Transcription Factor\",\n",
        "      \"adt\" = \"Surface protein\", \"olink\" = \"plasma protein\"\n",
        "    ),\n",
        "    feature = str_split(feature, pattern = \"_\", simplify = TRUE)[, 2]\n",
        "  )\n",
        "ggdotchart(f1_top_weights,\n",
        "  x = \"feature\", y = \"value\",\n",
        "  color = \"view\", # Color by groups\n",
        "  palette = npg_color, # Custom color palette\n",
        "  sorting = \"descending\", # Sort value in descending order\n",
        "  rotate = TRUE, # Rotate vertically\n",
        "  dot.size = 3, # Large dot size\n",
        "  y.text.col = TRUE, # Color y text by groups\n",
        "  ggtheme = theme_pubr() # ggplot2 theme\n",
        ") +\n",
        "  theme_cleveland()\n",
        "ggsave(file.path(fig_path, paste0(proj_name, \"_cd4na_factor1_weights_dotplot.pdf\")),\n",
        "  width = 6, height = 8\n",
        ")\n"
      ],
      "outputs": [],
      "execution_count": null,
      "metadata": {
        "vscode": {
          "languageId": "r"
        }
      },
      "id": "6e84d753-c28f-4f35-bbf1-4edf294a3897"
    },
    {
      "cell_type": "markdown",
      "source": [
        "### check TF acitivity associated with factor 1"
      ],
      "metadata": {},
      "id": "e62a919a-ec3e-4d0b-9514-f45c31723db0"
    },
    {
      "cell_type": "code",
      "source": [
        "# plot dot plot of top features\n",
        "f1_tf_weights <- weight %>%\n",
        "    filter(factor == \"Factor1\" & view == \"tf\") %>%\n",
        "    group_by(direction) %>%\n",
        "    arrange(desc(value)) %>%\n",
        "    mutate(`Transcription factors` = str_remove(if_else(feature %in% c(\"tf_NFATC3\", \"tf_NFATC2\", \"tf_NFATC1\", \"tf_NFATC4\"),\n",
        "        \"NFATs\", \"Other TFs\"\n",
        "    ), \"tf_\")) %>%\n",
        "    mutate(\n",
        "        view = recode(view,\n",
        "            \"rna\" = \"RNA\", \"tf\" = \"Transcription Factor\",\n",
        "            \"adt\" = \"Surface protein\", \"olink\" = \"plasma protein\"\n",
        "        ),\n",
        "        feature = str_split(feature, pattern = \"_\", simplify = TRUE)[, 2]\n",
        "    ) %>%\n",
        "    mutate(\n",
        "        `Transcription Factor Activity` = factor(if_else(direction == \"up\", \"Enriched in ARI\", \"Enriched in Controls\"),\n",
        "            levels = c(\"Enriched in Controls\", \"Enriched in ARI\")\n",
        "        ),\n",
        "        rank = rank(value, )\n",
        "    )\n",
        "f1_tf_weights %>% head()\n",
        "# f1_tf_weights%>%ggplot(aes(x=value, y=))\n"
      ],
      "outputs": [],
      "execution_count": null,
      "metadata": {
        "vscode": {
          "languageId": "r"
        }
      },
      "id": "7bbdba6d-1c9e-4046-b1fe-bb50f9c4ba1d"
    },
    {
      "cell_type": "markdown",
      "source": [
        "#### plot fig "
      ],
      "metadata": {},
      "id": "225f8587"
    },
    {
      "cell_type": "code",
      "source": [
        "# plot dot plot of top features\n",
        "options(repr.plot.width = 5, repr.plot.height = 5)\n",
        "f1_top_tf_weights <- weight %>%\n",
        "  filter(factor == \"Factor1\" & view == \"tf\") %>%\n",
        "  group_by(direction) %>%\n",
        "  slice_max(order_by = abs(value), n = 15) %>%\n",
        "  arrange(desc(value)) %>%\n",
        "  mutate(`Transcription factors` = str_remove(if_else(feature %in% c(\"tf_NFATC3\", \"tf_NFATC2\", \"tf_NFATC1\", \"tf_NFATC4\"),\n",
        "    \"NFATs\", \"Other TFs\"\n",
        "  ), \"tf_\")) %>%\n",
        "  mutate(\n",
        "    view = recode(view,\n",
        "      \"rna\" = \"RNA\", \"tf\" = \"Transcription Factor\",\n",
        "      \"adt\" = \"Surface protein\", \"olink\" = \"plasma protein\"\n",
        "    ),\n",
        "    feature = str_split(feature, pattern = \"_\", simplify = TRUE)[, 2]\n",
        "  ) %>%\n",
        "  mutate(`TF Activity` = factor(if_else(direction == \"up\", \"Enriched in ARI\", \"Enriched in Controls\"),\n",
        "    levels = c(\"Enriched in Controls\", \"Enriched in ARI\")\n",
        "  ))\n",
        "\n",
        "ggdotchart(f1_top_tf_weights,\n",
        "  x = \"feature\", y = \"value\",\n",
        "  color = \"TF Activity\", # Color by groups\n",
        "  palette = con_ari_colors, # Custom color palette\n",
        "  sorting = \"descending\", # Sort value in descending order\n",
        "  rotate = TRUE, # Rotate vertically\n",
        "  dot.size = 3, # Large dot size\n",
        "  y.text.col = TRUE, # Color y text by groups\n",
        "  # ggtheme = theme_bw(),                    # ggplot2 theme\n",
        "  ylab = \"Weight associated with Factor 1\"\n",
        ") +\n",
        "  theme_cleveland() + geom_hline(yintercept = 0, linetype = 2) +\n",
        "  theme(\n",
        "    legend.position = \"top\", legend.box = \"vertical\", legend.margin = margin(),\n",
        "    axis.text.y = element_text(color = \"black\")\n",
        "  ) + guides(color = guide_legend(nrow = 2))\n",
        "ggsave(file.path(fig_path, paste0(proj_name, \"_cd4na_factor1_tf_weights_dotplot.pdf\")),\n",
        "  width = 5, height = 5\n",
        ")\n"
      ],
      "outputs": [],
      "execution_count": null,
      "metadata": {
        "vscode": {
          "languageId": "r"
        }
      },
      "id": "96bf7485-bdbd-4ff2-b03e-0dd173b81e3f"
    },
    {
      "cell_type": "code",
      "source": [
        "### plot fig S7D"
      ],
      "outputs": [],
      "execution_count": null,
      "metadata": {
        "vscode": {
          "languageId": "r"
        }
      },
      "id": "41d390a1"
    },
    {
      "cell_type": "code",
      "source": [
        "p1 <- chromvar_tf %>%\n",
        "    mutate(status = factor(if_else(str_detect(subject_id, \"CU\"), \"ARI\", \"CON2\"),\n",
        "        levels = c(\"CON2\", \"ARI\")\n",
        "    )) %>%\n",
        "    filter(tf %in% c(\"NFATC3\", \"NFATC1\", \"NFATC2\", \"FOXP3\")) %>%\n",
        "    ggpubr::ggboxplot(\n",
        "        x = \"status\", y = \"value\", palette = con_ari_colors,\n",
        "        ylab = \"Chromvar Z scores\", xlab = \"\",\n",
        "        color = \"status\", add = \"jitter\"\n",
        "    ) +\n",
        "    ggpubr::stat_compare_means(\n",
        "        method = \"wilcox.test\", label.y = 2.5,\n",
        "        aes(label = paste0(\"p = \", after_stat(p.format)))\n",
        "    ) +\n",
        "    facet_wrap(vars(tf), ncol = 2)\n",
        "p1\n",
        "ggsave(file.path(fig_path, paste0(proj_name, \"_NFATs_Chromvar_zscores.pdf\")), width = 4, height = 4)\n"
      ],
      "outputs": [],
      "execution_count": null,
      "metadata": {
        "vscode": {
          "languageId": "r"
        }
      },
      "id": "cd5035b4"
    },
    {
      "cell_type": "code",
      "source": [
        "# plot f1 tf values\n",
        "f1_tf_values <- weight %>%\n",
        "  filter(view == \"tf\" & factor == \"Factor1\") %>%\n",
        "  arrange(desc(value)) %>%\n",
        "  mutate(\n",
        "    rank = 1:length(value),\n",
        "    label_feature = if_else(str_remove(feature, \"tf_\") %in% c(\"NFATC3\", \"NFATC2\", \"NFATC1\", \"NFATC4\", \"FOXP3\", \"BATF3\", \"EGR2\"),\n",
        "      feature, NA\n",
        "    )\n",
        "  )\n",
        "f1_tf_values %>% ggplot(aes(x = value, y = rank, label = label_feature, color = label_feature)) +\n",
        "  ggrepel::geom_text_repel(size = 6, nudge_x = 0.1) +\n",
        "  geom_vline(xintercept = 0.4) +\n",
        "  scale_y_reverse() +\n",
        "  geom_point(size = 0.8) +\n",
        "  theme_bw() +\n",
        "  theme(\n",
        "    legend.position = \"none\",\n",
        "    axis.text.y = element_blank(),\n",
        "    axis.ticks.y = element_blank()\n",
        "  )\n",
        "ggsave(\n",
        "  file.path(fig_path, paste0(\n",
        "    proj_name,\n",
        "    \"_cd4na_factor1_TF_weights_NFAT.pdf\"\n",
        "  )),\n",
        "  width = 4, height = 4\n",
        ")\n"
      ],
      "outputs": [],
      "execution_count": null,
      "metadata": {
        "vscode": {
          "languageId": "r"
        }
      },
      "id": "ef65bbac-a500-442c-b608-4e3d0e96c891"
    },
    {
      "cell_type": "code",
      "source": [
        "# check the Natural cutoff for tf\n",
        "p1 <- plot_weights(model,\n",
        "  view = \"tf\",\n",
        "  factor = 1,\n",
        "  manual = c(\"tf_NFATC3\", \"tf_NFATC2\", \"tf_NFATC1\", \"tf_NFATC4\"),\n",
        "  text_size = 4,\n",
        "  nfeatures = 20, # Number of features to highlight\n",
        "  scale = T, # Scale weights from -1 to 1\n",
        "  abs = F # Take the absolute value?\n",
        ")\n",
        "\n",
        "p1 + geom_vline(xintercept = 0.4) + ggrepel::geom_label_repel(aes(label = feature)) #+ scale_color_manual(values = cluster_colors)\n",
        "ggsave(\n",
        "  file.path(fig_path, paste0(\n",
        "    proj_name,\n",
        "    \"_cd4na_factor1_TF_weights.pdf\"\n",
        "  )),\n",
        "  width = 4, height = 4\n",
        ")\n"
      ],
      "outputs": [],
      "execution_count": null,
      "metadata": {
        "tags": [],
        "vscode": {
          "languageId": "r"
        }
      },
      "id": "0d743b93-2354-4fc9-8bfe-e26b556b76a2"
    },
    {
      "cell_type": "code",
      "source": [
        "factor1_tf <- weight %>%\n",
        "    filter(factor == \"Factor1\" & view == \"tf\") %>%\n",
        "    mutate(direction = if_else(value > 0, \"healthy\", \"at-risk\")) %>%\n",
        "    arrange(desc(abs(value))) %>%\n",
        "    filter(!str_detect(feature, \"ENSG|DUX\"))\n",
        "# factor1_tf %>% group_by(direction) %>% slice_max(order_by = abs(value),n = 60)\n"
      ],
      "outputs": [],
      "execution_count": null,
      "metadata": {
        "vscode": {
          "languageId": "r"
        }
      },
      "id": "db2292a1-2e10-4eaa-986d-c84d49326f91"
    },
    {
      "cell_type": "code",
      "source": [
        "plot_data_scatter(model,\n",
        "     factor = 1,\n",
        "     features = c(\n",
        "          \"tf_NFATC3\", \"tf_STAT5A\", \"tf_STAT3\", \"tf_JUND\", \"tf_BCL6\", \"tf_FOS\", \"tf_JUNB\",\n",
        "          \"tf_BATF\"\n",
        "     ),\n",
        "     view = \"tf\", color_by = \"cohort\"\n",
        ")\n",
        "ggsave(file.path(fig_path, paste0(proj_name, \"_facoter1_tf_correlation_cohort_nfat_partners.png\")),\n",
        "     width = 8, height = 4\n",
        ")\n"
      ],
      "outputs": [],
      "execution_count": null,
      "metadata": {
        "vscode": {
          "languageId": "r"
        }
      },
      "id": "e68fb253-8806-4773-a72f-4b2a54391a09"
    },
    {
      "cell_type": "code",
      "source": [
        "# get factor 1 and tf data\n",
        "f1_tf_data <- get_data(model,\n",
        "    as.data.frame = TRUE,\n",
        "    view = \"tf\"\n",
        ") %>%\n",
        "    mutate(feature = str_remove(feature, \"tf_\")) %>%\n",
        "    dplyr::rename(\"TF_activity\" = \"value\") %>%\n",
        "    left_join(filter(factors_values, factor == \"Factor1\") %>%\n",
        "        dplyr::rename(\"Factor_score\" = \"value\"), by = \"sample\")\n",
        "f1_tf_data %>% head()\n"
      ],
      "outputs": [],
      "execution_count": null,
      "metadata": {
        "vscode": {
          "languageId": "r"
        }
      },
      "id": "dc767158-c1b4-432e-9606-68f3e5932842"
    },
    {
      "cell_type": "code",
      "source": [
        "options(repr.plot.width = 5, repr.plot.height = 5)\n",
        "f1_tf_data_nfat <- f1_tf_data %>% filter(feature %in% c(\"FOXP3\", \"NFATC1\", \"NFATC2\", \"NFATC3\"))\n",
        "ggpubr::ggscatter(f1_tf_data_nfat,\n",
        "       x = \"Factor_score\", y = \"TF_activity\",\n",
        "       xlab = \"Factor1 score\", ylab = \"ChromVAR activity\",\n",
        "       color = \"status\", facet.by = \"feature\", palette = con_ari_colors,\n",
        "       add = \"reg.line\", # Add regressin line\n",
        "       add.params = list(color = \"blue\", fill = \"lightgray\"), # Customize reg. line\n",
        "       conf.int = TRUE, # Add confidence interval\n",
        "       cor.coef = TRUE, # Add correlation coefficient. see ?stat_cor\n",
        "       cor.coeff.args = list(method = \"spearman\", label.x = -0.8, label.y = 1.5, label.sep = \"\\n\"),\n",
        "       ggtheme = theme_classic2()\n",
        ") + scale_fill_manual(values = con_ari_colors) + theme(legend.position = \"top\")\n",
        "ggsave(file.path(fig_path, paste0(proj_name, \"_facoter1_tf_correlation_cohort_nfat_foxp3.pdf\")),\n",
        "       width = 5, height = 5\n",
        ")\n"
      ],
      "outputs": [],
      "execution_count": null,
      "metadata": {
        "vscode": {
          "languageId": "r"
        }
      },
      "id": "ff6b07b5-f204-4890-9cea-4f2e073bdb75"
    },
    {
      "cell_type": "markdown",
      "source": [
        "### check RNA"
      ],
      "metadata": {},
      "id": "317fd933-9628-4b44-a828-5b37d71ca98e"
    },
    {
      "cell_type": "code",
      "source": [
        "factor1_rna <- weight %>%\n",
        "    filter(factor == \"Factor1\" & view == \"rna\") %>%\n",
        "    mutate(direction = if_else(value > 0, \"healthy\", \"at-risk\")) %>%\n",
        "    arrange(desc(abs(value)))\n",
        "factor1_rna_sel <- factor1_rna %>%\n",
        "    group_by(direction) %>%\n",
        "    slice_max(order_by = abs(value), n = 50)\n"
      ],
      "outputs": [],
      "execution_count": null,
      "metadata": {
        "vscode": {
          "languageId": "r"
        }
      },
      "id": "a607eb61-ca37-4ef1-89a3-b07329566af3"
    },
    {
      "cell_type": "code",
      "source": [
        "p1 <- plot_data_scatter(model,\n",
        "      factor = 1,\n",
        "      features = c(\"rna_STIM1\", \"rna_STIM2\"),\n",
        "      view = \"rna\", color_by = \"cohort\"\n",
        ")\n",
        "p1\n",
        "ggsave(file.path(fig_path, paste0(proj_name, \"_facoter1_rna_correlation_Ca_channel.png\")),\n",
        "      width = 6, height = 3\n",
        ")\n"
      ],
      "outputs": [],
      "execution_count": null,
      "metadata": {
        "vscode": {
          "languageId": "r"
        }
      },
      "id": "e4aa2af0-4fae-4f93-869a-cf61568d0597"
    },
    {
      "cell_type": "code",
      "source": [
        "# check il\n",
        "il_rna <- factor1_rna %>%\n",
        "       filter(str_detect(feature, \"IL\\\\d|IFN.R|TGF|CD28|CD69\") &\n",
        "              abs(value) > 0.6 & feature != \"rna_PPIL4\")\n",
        "il_rna\n",
        "p1 <- plot_data_scatter(model,\n",
        "       factor = 1,\n",
        "       features = il_rna$feature %>% as.character(),\n",
        "       view = \"rna\", color_by = \"cohort\"\n",
        ")\n",
        "p1\n",
        "# il_rna <- factor1_rna %>%\n",
        "#     filter(str_detect(feature, 'IL\\\\d|IFN.R|TGF|CD28|CD69')&\n",
        "#            abs(value)>0.5)\n",
        "# p2 <- plot_data_scatter(model, factor=1,\n",
        "#                   features = il_rna$feature %>% as.character(),\n",
        "#                         view='rna', color_by='cohort')\n",
        "ggsave(file.path(fig_path, paste0(proj_name, \"_facoter1_rna_correlation_cohort_il_receptor.png\")),\n",
        "       width = 8, height = 6\n",
        ")\n"
      ],
      "outputs": [],
      "execution_count": null,
      "metadata": {
        "vscode": {
          "languageId": "r"
        }
      },
      "id": "0d8b5667-be86-4671-ab52-85e544191c40"
    },
    {
      "cell_type": "code",
      "source": [
        "# check exhaustion\n",
        "exh_rna <- factor1_rna %>%\n",
        "       filter(str_detect(feature, \"IL\\\\d|IFN.R|TGF|CD28|CD69\") &\n",
        "              abs(value) > 0.6 & feature != \"rna_PPIL4\")\n",
        "il_rna\n",
        "p1 <- plot_data_scatter(model,\n",
        "       factor = 1,\n",
        "       features = il_rna$feature %>% as.character(),\n",
        "       view = \"rna\", color_by = \"cohort\"\n",
        ")\n",
        "p1\n",
        "# il_rna <- factor1_rna %>%\n",
        "#     filter(str_detect(feature, 'IL\\\\d|IFN.R|TGF|CD28|CD69')&\n",
        "#            abs(value)>0.5)\n",
        "# p2 <- plot_data_scatter(model, factor=1,\n",
        "#                   features = il_rna$feature %>% as.character(),\n",
        "#                         view='rna', color_by='cohort')\n",
        "ggsave(file.path(fig_path, paste0(proj_name, \"_facoter1_rna_correlation_cohort_il_receptor.png\")),\n",
        "       width = 8, height = 6\n",
        ")\n"
      ],
      "outputs": [],
      "execution_count": null,
      "metadata": {
        "vscode": {
          "languageId": "r"
        }
      },
      "id": "94ad2ab2-6c2b-402b-8390-ad66dd89f225"
    },
    {
      "cell_type": "code",
      "source": [
        "# plot ca2+ related gene expression\n",
        "tcr_gene <- paste0(\"rna_\", c(\n",
        "       \"VAV1\", \"GRB2\", \"GRAP2\", \"NFATC2\", \"NFAT5\", \"CBL\",\n",
        "       \"CARD11\", \"LCK\", \"IKBKB\", \"CD4\", \"PIK3R1\", \"MALT1\",\n",
        "       \"RAF1\", \"SOS1\", \"NCK2\", \"CD3G\", \"LCP2\", \"LAT\", \"NCK1\", \"CD3D\", \"CD3E\", \"RASGRP1\", \"MAP2K1\",\n",
        "       \"PTPRC\", \"NFATC3\", \"MAP3K7\", \"PPP3CC\", \"PPP3CA\", \"GSK3B\"\n",
        "))\n",
        "factor1_rna %>%\n",
        "       filter(str_detect(feature, \"PPP3CC|PLCG2|CALM1\") | feature %in% tcr_gene) %>%\n",
        "       filter(abs(value) > 0.6)\n",
        "\n",
        "p1 <- plot_data_scatter(model,\n",
        "       factor = 1,\n",
        "       features = paste0(\"rna_\", c(\"PPP3CC\", \"PLCG2\", \"PPP3CA\", \"LCK\", \"CD4\", \"CD3G\", \"CD3D\")),\n",
        "       view = \"rna\", color_by = \"cohort\"\n",
        ")\n",
        "p1\n",
        "ggsave(file.path(fig_path, paste0(proj_name, \"_facoter1_rna_correlation_cohort_ca_signaling_pos.png\")),\n",
        "       width = 8, height = 6\n",
        ")\n",
        "p2 <- plot_data_scatter(model,\n",
        "       factor = 1,\n",
        "       features = paste0(\"rna_\", c(\"CABIN1\", \"CSNK1A1\")),\n",
        "       view = \"rna\", color_by = \"cohort\"\n",
        ")\n",
        "p2\n",
        "ggsave(file.path(fig_path, paste0(proj_name, \"_facoter1_rna_correlation_cohort_ca_signaling_neg.png\")),\n",
        "       width = 6, height = 3\n",
        ")\n"
      ],
      "outputs": [],
      "execution_count": null,
      "metadata": {
        "tags": [],
        "vscode": {
          "languageId": "r"
        }
      },
      "id": "54288d91-3d9f-45f1-816a-4e4bfac25dae"
    },
    {
      "cell_type": "code",
      "source": [
        "# check NFAT gene expression\n",
        "# factor1_rna %>%  filter(str_detect(feature,'NFAT|FOXP3'))\n",
        "\n",
        "# c('rna_STAT3',  'rna_NFATC3', 'rna_BATF') %in% weight$feature\n",
        "plot_data_scatter(model,\n",
        "      factor = 1,\n",
        "      features = factor1_rna %>% filter(str_detect(feature, \"NFAT|FOXP3\")) %>% pull(feature) %>% as.character(),\n",
        "      view = \"rna\", color_by = \"cohort\"\n",
        ")\n",
        "ggsave(file.path(fig_path, paste0(proj_name, \"_facoter1_rna_correlation_cohort_NFATs.png\")),\n",
        "      width = 8, height = 4\n",
        ")\n"
      ],
      "outputs": [],
      "execution_count": null,
      "metadata": {
        "vscode": {
          "languageId": "r"
        }
      },
      "id": "0d289c2c-a0f0-470c-9cf9-5203d1a251f2"
    },
    {
      "cell_type": "code",
      "source": [
        "# change the row names for plotting\n",
        "rownames(model@data$rna$single_group)<-rownames(model@data$rna$single_group)%>%str_remove('rna_')"
      ],
      "outputs": [],
      "execution_count": null,
      "metadata": {
        "vscode": {
          "languageId": "r"
        }
      },
      "id": "dbdd5fa6-1de2-485b-9bc2-cd50a3155e4f"
    },
    {
      "cell_type": "code",
      "source": [
        "# plot heatmap results for deg psudobulk\n",
        "PlotDegHeatmap <- function(pseudo, genes, gene_meta = NULL, genes_hightlight = NULL,\n",
        "                           assay = \"normalized_counts\", celltype_col,\n",
        "                           celltype_colors = cluster_colors, batch_colors = cluster_colors_ext, scale = TRUE) {\n",
        "    require(\"ComplexHeatmap\")\n",
        "\n",
        "    # set up the data matrix\n",
        "    gex_matrix <- assay(pseudo, assay)[genes, ] %>% as.matrix()\n",
        "\n",
        "    # set up the column annotation\n",
        "    metadata <- colData(pseudo) %>% as.data.frame()\n",
        "    # set up column annotation\n",
        "    col_anno <- rowAnnotation(\n",
        "        df = metadata %>% dplyr::select(c(status)) %>%\n",
        "            as.data.frame(),\n",
        "        col = list(status = c(\"CON2\" = con_ari_colors[1], \"ARI\" = con_ari_colors[2])),\n",
        "        annotation_legend_param =\n",
        "            list(\n",
        "                status = list(direction = \"horizontal\") # ,\n",
        "                # title_gp = gpar(fontsize = 12),\n",
        "                # label_gp = gpar(fontsize = 12),\n",
        "                # grid_height = unit(1, \"cm\"),\n",
        "                #    legend_height = unit(1, \"cm\"),\n",
        "            )\n",
        "    )\n",
        "    # set up row annotation - gene labels at the right side\n",
        "    if (!is.null(genes_hightlight)) {\n",
        "        if (!all(genes_hightlight %in% genes)) {\n",
        "            (stop(\"gene(s) to hightlight are not in the deg list.\"))\n",
        "        } else {\n",
        "            gene_index_tb <- tibble(\"index\" = 1:length(rownames(gex_matrix)), gene = rownames(gex_matrix))\n",
        "            gene_hightlight_index <- gene_index_tb %>%\n",
        "                filter(gene %in% gene_hightlight) %>%\n",
        "                pull(index)\n",
        "            hightlight_labels <- gene_index_tb %>%\n",
        "                filter(gene %in% gene_hightlight) %>%\n",
        "                pull(gene)\n",
        "            genename_anno <- rowAnnotation(foo = anno_mark(\n",
        "                at = gene_hightlight_index,\n",
        "                labels = hightlight_labels, gpar(fontsize = 12)\n",
        "            ))\n",
        "        }\n",
        "    } else {\n",
        "        (genename_anno <- NULL)\n",
        "    }\n",
        "    set.seed(1221)\n",
        "    if (scale) (gex_matrix <- t(scale(t(gex_matrix))))\n",
        "\n",
        "    p1 <- ComplexHeatmap::Heatmap(gex_matrix %>% t(),\n",
        "        left_annotation = col_anno,\n",
        "        cluster_rows = TRUE,\n",
        "        col = colorRampPalette(c(nejm_color[2], \"white\", nejm_color[1]))(100),\n",
        "        row_names_max_width = unit(10, \"cm\"),\n",
        "        #    left_annotation = row_anno,\n",
        "        right_annotation = genename_anno, #  column_names_rot = 45,\n",
        "        show_column_names = TRUE, show_row_names = TRUE,\n",
        "        column_names_gp = gpar(fontsize = 12),\n",
        "        row_names_gp = gpar(fontsize = 12),\n",
        "        heatmap_legend_param = list(\n",
        "            title = \"Scaled\\nexpression\", title_gp = gpar(fontsize = 12),\n",
        "            legend_height = unit(6, \"cm\"), direction = \"horizontal\"\n",
        "        )\n",
        "    )\n",
        "    return(p1)\n",
        "}\n"
      ],
      "outputs": [],
      "execution_count": null,
      "metadata": {
        "vscode": {
          "languageId": "r"
        }
      },
      "id": "8d4425ea-b0d7-4b06-9158-10f6b116ce81"
    },
    {
      "cell_type": "code",
      "source": [
        "colData(cd4na_rna_psudo)$cohort%>%unique()\n",
        "colData(cd4na_rna_psudo)$status = factor(if_else(colData(cd4na_rna_psudo)$cohort=='at_risk', 'ARI', 'CON2'),\n",
        "                                  levels=c('CON2', 'ARI'))\n",
        "colData(cd4na_rna_psudo)$status%>%unique()"
      ],
      "outputs": [],
      "execution_count": null,
      "metadata": {
        "scrolled": true,
        "vscode": {
          "languageId": "r"
        }
      },
      "id": "f885d845-5b60-4a57-91c3-52407ce6d7d8"
    },
    {
      "cell_type": "code",
      "source": [
        "# specify tcr and calsium related genes\n",
        "tcr_gene <- c(\n",
        "    \"VAV1\", \"GRB2\", \"GRAP2\", \"NFATC2\", \"NFAT5\", \"CBL\",\n",
        "    \"CARD11\", \"LCK\", \"IKBKB\", \"CD4\", \"PIK3R1\", \"MALT1\",\n",
        "    \"RAF1\", \"SOS1\", \"NCK2\", \"LCP2\", \"LAT\", \"NCK1\", \"RASGRP1\", \"MAP2K1\",\n",
        "    \"PTPRC\", \"NFATC3\", \"MAP3K7\", \"PPP3CC\", \"PPP3CA\", \"GSK3B\", \"PPP3CC\", \"PLCG2\", \"PPP3CA\", \"CABIN1\", \"STIM1\", \"STIM2\",\n",
        "    \"CSNK1A1\", \"LCK\", \"CD4\", \"NFATC1\",\n",
        "    \"NFATC2IP\"\n",
        ") %>% unique()\n"
      ],
      "outputs": [],
      "execution_count": null,
      "metadata": {
        "vscode": {
          "languageId": "r"
        }
      },
      "id": "32082866-0d9c-4cb6-9ae5-b2517e214494"
    },
    {
      "cell_type": "code",
      "source": [
        "# plot the gene heatmap in horizontal\n",
        "pdf(file.path(fig_path, paste0(proj_name, \"_facoter1_rna_tcr_ca_heatmap.pdf\")),\n",
        "    width = 6, height = 4\n",
        ")\n",
        "p1 <- PlotDegHeatmap(cd4na_rna_psudo, genes = tcr_gene)\n",
        "draw(p1, heatmap_legend_side = \"top\")\n",
        "dev.off()\n"
      ],
      "outputs": [],
      "execution_count": null,
      "metadata": {
        "vscode": {
          "languageId": "r"
        }
      },
      "id": "a1f04017-9686-4520-a800-536c8dd1c574"
    },
    {
      "cell_type": "code",
      "source": [
        "options(repr.plot.width = 6, repr.plot.height = 4)\n",
        "draw(p1, heatmap_legend_side = \"top\")"
      ],
      "outputs": [],
      "execution_count": null,
      "metadata": {
        "vscode": {
          "languageId": "r"
        }
      },
      "id": "83dac435-33e1-4e87-8208-c9e15c764710"
    },
    {
      "cell_type": "code",
      "source": [
        "# ox_genes <- rna_weight_gsea %>% arrange(NES) %>% mutate(factor='Factor1') %>% \n",
        "#     dplyr::filter(str_detect(pathway, 'OXIDATIVE')) %>% pull(leadingEdge) %>% \n",
        "#     str_split(', ')\n",
        "# ox_genes <- paste0('rna_', ox_genes[[1]])\n",
        "# myc_genes <- rna_weight_gsea %>% arrange(NES) %>% mutate(factor='Factor1') %>% \n",
        "#     dplyr::filter(str_detect(pathway, 'HALLMARK_MYC_TARGETS_V1')) %>% pull(leadingEdge) %>% \n",
        "#     str_split(', ')\n",
        "# myc_genes <- paste0('rna_', myc_genes[[1]])"
      ],
      "outputs": [],
      "execution_count": null,
      "metadata": {
        "vscode": {
          "languageId": "r"
        }
      },
      "id": "3f57a437-38a7-4844-9409-a6452edff300"
    },
    {
      "cell_type": "code",
      "source": [
        "# # plot rna data related to TCR and NFAT signaling pathway\n",
        "# # ox_genes <-factor1_rna %>%  filter(feature %in% ox_genes& value< (-0.5)) %>%\n",
        "# #     pull(feature) %>% as.character()\n",
        "# # ox_genes <- paste0('rna_', ox_genes)\n",
        "# ox_genes %>% length()\n",
        "# p3 <- plot_data_heatmap(model, #max.value = 3,\n",
        "#   view = \"rna\", \n",
        "# annotation_samples='cohort',                      #  fontsize_row=6,\n",
        "#   factor = 1,  \n",
        "#   features = ox_genes, \n",
        "#    denoise = FALSE,\n",
        "#   cluster_rows = TRUE, cluster_cols = FALSE,\n",
        "#   show_rownames = TRUE, show_colnames = FALSE,\n",
        "#                         #main = \"Genes in Ca2+/NFAT pathway\",\n",
        "#   scale = \"row\", color=colorRampPalette(c(nejm_color[2], \"white\", nejm_color[1]))(100)\n",
        "# )\n",
        "# png(file.path(fig_path, paste0(proj_name, '_facoter1_rna_oxidative_ca_heatmap.png')),\n",
        "#     units = 'in',res = 300, \n",
        "#     width=8, height=8)\n",
        "# print(p3)\n",
        "# dev.off()"
      ],
      "outputs": [],
      "execution_count": null,
      "metadata": {
        "vscode": {
          "languageId": "r"
        }
      },
      "id": "5cc20e54-f3ed-465d-bfc8-8a9d8173de02"
    },
    {
      "cell_type": "code",
      "source": [
        "# # plot rna data related to TCR and NFAT signaling pathway\n",
        "# # ox_genes <-factor1_rna %>%  filter(feature %in% ox_genes& value< (-0.5)) %>%\n",
        "# #     pull(feature) %>% as.character()\n",
        "\n",
        "# myc_genes %>% length()\n",
        "# p3 <- plot_data_heatmap(model, # max.value = 3,\n",
        "#   view = \"rna\",\n",
        "#   annotation_samples = \"cohort\", #  fontsize_row=6,\n",
        "#   factor = 1,\n",
        "#   features = myc_genes,\n",
        "#   denoise = FALSE,\n",
        "#   cluster_rows = TRUE, cluster_cols = TRUE,\n",
        "#   show_rownames = TRUE, show_colnames = FALSE,\n",
        "#   # main = \"Genes in Ca2+/NFAT pathway\",\n",
        "#   scale = \"row\", color = colorRampPalette(c(nejm_color[2], \"white\", nejm_color[1]))(100)\n",
        "# )\n",
        "# png(file.path(fig_path, paste0(proj_name, \"_facoter1_rna_myc_target_heatmap.png\")),\n",
        "#   units = \"in\", res = 300,\n",
        "#   width = 8, height = 8\n",
        "# )\n",
        "# print(p3)\n",
        "# dev.off()\n"
      ],
      "outputs": [],
      "execution_count": null,
      "metadata": {
        "vscode": {
          "languageId": "r"
        }
      },
      "id": "85a00233-0647-465b-9f27-1663b7b38787"
    },
    {
      "cell_type": "markdown",
      "source": [
        "### check ADT"
      ],
      "metadata": {},
      "id": "f1ee1264-b2a2-48b1-8f79-49b5971f694b"
    },
    {
      "cell_type": "code",
      "source": [
        "# check the Natural cutoff for tf\n",
        "p1 <- plot_weights(model,\n",
        "  view = \"adt\",\n",
        "  factor = 1,\n",
        "  nfeatures = 30,     # Number of features to highlight\n",
        "  scale = T,          # Scale weights from -1 to 1\n",
        "  abs = F             # Take the absolute value?\n",
        ")\n",
        "p1 + geom_vline(xintercept = 0.5)\n",
        "ggsave(file.path(fig_path, paste0(proj_name, '_facoter1_adts.png')),\n",
        "       width=5, height=5)"
      ],
      "outputs": [],
      "execution_count": null,
      "metadata": {
        "vscode": {
          "languageId": "r"
        }
      },
      "id": "eb3b5250-e4ef-4126-a358-aa327909bf1c"
    },
    {
      "cell_type": "code",
      "source": [
        "factor1_adt <- weight %>% filter(factor=='Factor1'&view=='adt') %>% \n",
        "    mutate(direction=if_else(value>0, 'healthy', 'at-risk')) %>% arrange(desc(abs(value)))\n",
        "factor1_adt_sel <- factor1_adt %>% group_by(direction) %>% slice_max( order_by = abs(value),n = 25)\n",
        "factor1_adt_sel %>% arrange(desc(value)) %>% head(20)"
      ],
      "outputs": [],
      "execution_count": null,
      "metadata": {
        "tags": [],
        "vscode": {
          "languageId": "r"
        }
      },
      "id": "dca4502b-af4a-4cb1-ae31-9b6898d844e4"
    },
    {
      "cell_type": "code",
      "source": [
        "# check exhustion\n",
        "p1 <- plot_data_scatter(model, factor=1,\n",
        "                  features = c('adt_TIGIT', 'adt_CD278', 'adt_CD279'), \n",
        "                        view='adt', color_by='cohort') \n",
        "# p2 <- plot_data_scatter(model, factor=1,\n",
        "#                   features = c('rna_TIGIT', 'rna_HAVCR2', 'adt_PDCD1'), \n",
        "#                         view='rna', color_by='cohort') \n",
        "# cowplot::plot_grid(p1, p2, nrow = 2)\n",
        "p1\n",
        "ggsave(file.path(fig_path, paste0(proj_name, '_facoter1_adt_correlation_cohort_cd278_cd279_TIGIT.png')),\n",
        "       width=9, height=3)"
      ],
      "outputs": [],
      "execution_count": null,
      "metadata": {
        "vscode": {
          "languageId": "r"
        }
      },
      "id": "7979a3be-2754-4361-b4b4-05bb77132f86"
    },
    {
      "cell_type": "code",
      "source": [
        "plot_data_scatter(model, factor=1,features = c('adt_CX3CR1', 'adt_CD64',  'adt_Ig-light-chain-k'), \n",
        "                        view='adt', color_by='cohort') \n",
        "ggsave(file.path(fig_path, paste0(proj_name, '_facoter1_adt_correlation_cohort_CX3CR1_fc.png')),\n",
        "       width=8, height=4)"
      ],
      "outputs": [],
      "execution_count": null,
      "metadata": {
        "vscode": {
          "languageId": "r"
        }
      },
      "id": "c1d38fe6-bfda-4f2c-b7c6-682103c784f0"
    },
    {
      "cell_type": "code",
      "source": [
        "p1 <- plot_data_heatmap(model, #max.value = 3,\n",
        "  view = \"olink\",\n",
        "  factor = 1,    main='olink', fontsize_row=6,\n",
        "  features = 20, denoise = FALSE,\n",
        "  cluster_rows = TRUE, cluster_cols = TRUE,\n",
        "  show_rownames = TRUE, show_colnames = TRUE,\n",
        "  scale = \"row\"\n",
        ")\n",
        "png(file.path(fig_path, paste0(proj_name, '_facoter1_olink_top20_heatmap.png')),\n",
        "    units = 'in',res = 300, width=5, height=5)\n",
        "print(p1)\n",
        "dev.off()"
      ],
      "outputs": [],
      "execution_count": null,
      "metadata": {
        "vscode": {
          "languageId": "r"
        }
      },
      "id": "feb07679-eec9-4cee-b04e-9be71031b950"
    },
    {
      "cell_type": "code",
      "source": [
        "plot_data_scatter(model, factor=1, features = c('olink_IL17D'), \n",
        "                        view='olink', color_by='cohort') \n",
        "ggsave(file.path(fig_path, paste0(proj_name, '_facoter1_olink_correlation_cohort_IL17D.pdf')),\n",
        "       width=5, height=4)"
      ],
      "outputs": [],
      "execution_count": null,
      "metadata": {
        "vscode": {
          "languageId": "r"
        }
      },
      "id": "2662c710-aca9-43ab-8e33-2b22c0e91445"
    },
    {
      "cell_type": "markdown",
      "source": [
        "## run GSEA in MOFA factor 1 rna features"
      ],
      "metadata": {
        "tags": []
      },
      "id": "b5669c2a-e901-4f11-95e6-8d422a45a464"
    },
    {
      "cell_type": "code",
      "source": [
        "# Load and initialize pathway database\n",
        "gmxFile <- \"/home/jupyter/data/Reference/AT_hallmark_reactome_kegg.symbols.gmt\"\n",
        "colNames <- max(count.fields(file = gmxFile, sep = \"\\t\"))\n",
        "colNames <- seq(from = 1, to = colNames)\n",
        "colNames <- as.character(colNames)\n",
        "gmx <- read.table(\n",
        "  file = gmxFile,\n",
        "  sep = \"\\t\",\n",
        "  quote = \"\\\"\",\n",
        "  fill = TRUE,\n",
        "  col.names = colNames,\n",
        "  row.names = 1\n",
        ")\n",
        "gmx <- gmx[, -1]\n",
        "gmx <- apply(gmx, MARGIN = 1, FUN = function(x) {\n",
        "  return(value = setdiff(unname(x), \"\"))\n",
        "})\n",
        "names(gmx) <- toupper(names(gmx))\n"
      ],
      "outputs": [],
      "execution_count": null,
      "metadata": {
        "vscode": {
          "languageId": "r"
        }
      },
      "id": "08e68845-9ea2-4d69-acc4-6de39dc61998"
    },
    {
      "cell_type": "code",
      "source": [
        "# convert the list of pathways to a matrix thats compa"
      ],
      "outputs": [],
      "execution_count": null,
      "metadata": {
        "vscode": {
          "languageId": "r"
        }
      },
      "id": "7919ccc8-eb72-459b-8dac-1c378b9f4945"
    },
    {
      "cell_type": "code",
      "source": [
        "# conver the pathway list into a matrix of 0,1 by genes\n",
        "pathway_table <- 1:length(gmx) %>%\n",
        "    lapply(function(i) {\n",
        "        pathway_tb <- tibble(\"pathway\" = names(gmx[i]), \"genes\" = gmx[[i]], value = 1) %>%\n",
        "            mutate(genes = paste0(\"rna_\", genes))\n",
        "        return(pathway_tb)\n",
        "    }) %>%\n",
        "    data.table::rbindlist() %>%\n",
        "    pivot_wider(id_cols = pathway, names_from = genes, values_from = \"value\", values_fill = 0)\n"
      ],
      "outputs": [],
      "execution_count": null,
      "metadata": {
        "vscode": {
          "languageId": "r"
        }
      },
      "id": "a3e4e10f-893d-4c7b-a2af-1619e4842bd9"
    },
    {
      "cell_type": "code",
      "source": [
        "# conver it into a matrix\n",
        "pathway_mx <- pathway_table %>% dplyr::select(-pathway) %>% as.matrix()\n",
        "rownames(pathway_mx) <- pathway_table$pathway"
      ],
      "outputs": [],
      "execution_count": null,
      "metadata": {
        "vscode": {
          "languageId": "r"
        }
      },
      "id": "0d54d833-4895-44bf-b1e1-2dc10be81943"
    },
    {
      "cell_type": "code",
      "source": [
        "pathway_mx[1:5, 1:5]"
      ],
      "outputs": [],
      "execution_count": null,
      "metadata": {
        "vscode": {
          "languageId": "r"
        }
      },
      "id": "5a7893f1-15c1-4de1-bd61-8e079584b2e2"
    },
    {
      "cell_type": "code",
      "source": [
        "# extract the weight of the models\n",
        "weight <- get_weights(model, views='all',  as.data.frame = TRUE)\n",
        "weight %>% filter(view=='rna') %>% arrange(value) %>% head()"
      ],
      "outputs": [],
      "execution_count": null,
      "metadata": {
        "tags": [],
        "vscode": {
          "languageId": "r"
        }
      },
      "id": "473f1f52-aca8-4bb3-8f46-5afe3bd77aa0"
    },
    {
      "cell_type": "code",
      "source": [
        "#' @title \\code{RunGSEACelltype}\n",
        "#'\n",
        "#' @description \\code{RunGSEACelltype} run GSEA pathway enrichment loop by cell type from the deglist\n",
        "#'\n",
        "#' @param deg_list data frame contains gene and statistic to rank\n",
        "#' @param rank.by a column in data frame\n",
        "#' @param gmx a gmt file for the pathways, default loading a curated list AT_hallmark_reactome_kegg.symbols.gmt\n",
        "#' @param ct.col column to specify cell type\n",
        "#' @param collapsePathways whether to collapse Pathways based on fgsea::collapsePathways\n",
        "#' @param ct.col column to specify cell type\n",
        "#'\n",
        "#' @return pathwayDF a data.frame contain the pathway enrichment results\n",
        "\n",
        "RunGSEA <- function(deg_list, rank.by = \"logFC\", gmx = NULL, ct.col = \"cell_type\",\n",
        "                    collapsePathways = FALSE,\n",
        "                    ncores = NULL) {\n",
        "    require(fgsea)\n",
        "    # if no provided, Load and initialize pathway database\n",
        "    if (is.null(gmx)) {\n",
        "        gmxFile <- \"/home/jupyter/data/Reference/AT_hallmark_reactome_kegg.symbols.gmt\"\n",
        "        colNames <- max(count.fields(file = gmxFile, sep = \"\\t\"))\n",
        "        colNames <- seq(from = 1, to = colNames)\n",
        "        colNames <- as.character(colNames)\n",
        "        gmx <- read.table(\n",
        "            file = gmxFile,\n",
        "            sep = \"\\t\",\n",
        "            quote = \"\\\"\",\n",
        "            fill = TRUE,\n",
        "            col.names = colNames,\n",
        "            row.names = 1\n",
        "        )\n",
        "        gmx <- gmx[, -1]\n",
        "        gmx <- apply(gmx, MARGIN = 1, FUN = function(x) {\n",
        "            return(value = setdiff(unname(x), \"\"))\n",
        "        })\n",
        "        names(gmx) <- toupper(names(gmx))\n",
        "    }\n",
        "\n",
        "    # setup parallelization parameters\n",
        "    if (is.null(ncores)) {\n",
        "        ncores <- parallel::detectCores() - 3\n",
        "    } else {\n",
        "        (ncores <- ncores)\n",
        "    }\n",
        "    param <- BiocParallel::MulticoreParam(workers = ncores, progressbar = TRUE)\n",
        "\n",
        "    # RUN GSEA per celltype\n",
        "    celltypes <- unique(deg_list %>% pull(.data[[ct.col]]))\n",
        "\n",
        "    pLS <- lapply(celltypes, function(ct) {\n",
        "        message(paste(\"run GSEA in\", ct))\n",
        "\n",
        "        # create rank list based on lowest to higest gene fold-change\n",
        "        rnkDF <- deg_list %>%\n",
        "            dplyr::filter(.data[[ct.col]] == ct) %>%\n",
        "            dplyr::arrange(.data[[rank.by]])\n",
        "        rnk <- rnkDF %>%\n",
        "            pull(.data[[rank.by]]) %>%\n",
        "            as.numeric()\n",
        "        names(rnk) <- rnkDF$gene\n",
        "        message(paste(\"run GSEA in\", length(rnk), \"genes\"))\n",
        "        # run GSEA by parallelization\n",
        "        fgseaRes <- fgsea::fgsea(\n",
        "            pathways = gmx,\n",
        "            stats = rnk,\n",
        "            minSize = 10,\n",
        "            maxSize = 500,\n",
        "            BPPARAM = param\n",
        "        )\n",
        "\n",
        "        # filter on pathways <0.05 adjusted p-value\n",
        "        fgseaRes_tb <- fgseaRes %>%\n",
        "            as.data.frame() %>%\n",
        "            dplyr::filter(padj < 0.05) %>%\n",
        "            dplyr::select(pathway, pval, padj, NES, leadingEdge) %>%\n",
        "            dplyr::arrange(desc(NES)) %>%\n",
        "            dplyr::mutate(celltype = ct)\n",
        "        # if only keep the main pathway\n",
        "        if (collapsePathways) {\n",
        "            collapsedPathways <- fgsea::collapsePathways(\n",
        "                fgseaRes[order(pval)][padj < 0.05],\n",
        "                gmx, rnk\n",
        "            )\n",
        "            mainPathways <- fgseaRes[pathway %in% collapsedPathways$mainPathways][\n",
        "                order(-NES), pathway\n",
        "            ]\n",
        "            fgseaRes_tb <- fgseaRes_tb %>% dplyr::filter(pathway %in% mainPathways)\n",
        "        }\n",
        "\n",
        "        return(value = fgseaRes_tb)\n",
        "    })\n",
        "\n",
        "    pathwayDF <- rbindlist(pLS)\n",
        "    pathwayDF$leadingEdge <- vapply(pathwayDF$leadingEdge,\n",
        "        paste,\n",
        "        collapse = \", \",\n",
        "        character(1L)\n",
        "    )\n",
        "    #  return(pathwayDF)\n",
        "    # make plotting data frame\n",
        "    plotDF <- pathwayDF %>%\n",
        "        mutate(\n",
        "            group = ifelse(NES > 0, \"up\", \"down\"),\n",
        "            pID = c(1:length(pathway))\n",
        "        ) %>%\n",
        "        group_by(pID) %>%\n",
        "        mutate(lesize = length(unlist(strsplit(leadingEdge, \",\")))) %>%\n",
        "        as_tibble()\n",
        "\n",
        "\n",
        "    # determine pathway size\n",
        "    gsSize <- data.frame(gsize = sapply(gmx, function(x) length(x))) %>%\n",
        "        rownames_to_column(var = \"pathway\")\n",
        "\n",
        "    # calculate propotion of genes enriched (#leading edge genes/size of pathway)\n",
        "    plotDF <- plotDF %>%\n",
        "        mutate(\n",
        "            gsize = gsSize$gsize[match(pathway,\n",
        "                table = gsSize$pathway\n",
        "            )],\n",
        "            propGenes = (lesize / gsize) * 100\n",
        "        )\n",
        "\n",
        "    return(plotDF)\n",
        "}\n"
      ],
      "outputs": [],
      "execution_count": null,
      "metadata": {
        "vscode": {
          "languageId": "r"
        }
      },
      "id": "58eddfe4-aca9-4ed3-a5f8-e9c9a33aab2d"
    },
    {
      "cell_type": "code",
      "source": [
        "weight %>%\n",
        "    filter(str_detect(feature, \"CAM|LFA|CD31|CLEC|CTLA4\") &\n",
        "        factor == \"Factor1\" & abs(value) > 0.3) %>%\n",
        "    arrange(desc(abs(value)))\n"
      ],
      "outputs": [],
      "execution_count": null,
      "metadata": {
        "vscode": {
          "languageId": "r"
        }
      },
      "id": "f76dcf36-9323-47b8-b379-1005d862ea77"
    },
    {
      "cell_type": "code",
      "source": [
        "# use feature loading to run the gsea pathway\n",
        "rna_weight <- weight %>%\n",
        "    filter(view == \"rna\" & factor == \"Factor1\") %>%\n",
        "    mutate(gene = str_remove(feature, \"rna_\"), )\n",
        "set.seed(1221)\n",
        "rna_weight_gsea <- RunGSEA(\n",
        "    deg_list = rna_weight,\n",
        "    collapsePathways = FALSE, rank.by = \"value\",\n",
        "    gmx = gmx, ct.col = \"view\"\n",
        ")\n"
      ],
      "outputs": [],
      "execution_count": null,
      "metadata": {
        "tags": [],
        "vscode": {
          "languageId": "r"
        }
      },
      "id": "afc1350f-997e-4c50-a2a8-fa89c2006f15"
    },
    {
      "cell_type": "code",
      "source": [
        "ox_genes <- rna_weight_gsea %>%\n",
        "    arrange(NES) %>%\n",
        "    mutate(factor = \"Factor1\") %>%\n",
        "    dplyr::filter(str_detect(pathway, \"OXIDATIVE\")) %>%\n",
        "    pull(leadingEdge) %>%\n",
        "    str_split(\", \")\n",
        "ox_genes <- paste0(\"rna_\", ox_genes[[1]])\n",
        "myc_genes <- rna_weight_gsea %>%\n",
        "    arrange(NES) %>%\n",
        "    mutate(factor = \"Factor1\") %>%\n",
        "    dplyr::filter(str_detect(pathway, \"HALLMARK_MYC_TARGETS_V1\")) %>%\n",
        "    pull(leadingEdge) %>%\n",
        "    str_split(\", \")\n",
        "myc_genes <- paste0(\"rna_\", myc_genes[[1]])\n"
      ],
      "outputs": [],
      "execution_count": null,
      "metadata": {
        "vscode": {
          "languageId": "r"
        }
      },
      "id": "b639ad73-e4be-4c36-97fb-1591c2747dfc"
    },
    {
      "cell_type": "code",
      "source": [
        "rna_weight_gsea %>% arrange(NES) %>% mutate(factor='Factor1')%>% filter(padj<0.05& pathway %in% metabo_pathways) "
      ],
      "outputs": [],
      "execution_count": null,
      "metadata": {
        "vscode": {
          "languageId": "r"
        }
      },
      "id": "e092d55f-42b7-403d-a639-81d6a7d87628"
    },
    {
      "cell_type": "code",
      "source": [
        "# selece metasbolism related pathways for cd4 t cells\n",
        "metabo_pathways <- c(\n",
        "  \"HALLMARK_MYC_TARGETS_V1\", \"HALLMARK_OXIDATIVE_PHOSPHORYLATION\",\n",
        "  \"HALLMARK_TNFA_SIGNALING_VIA_NFKB\",\n",
        "  \"HALLMARK_HYPOXIA\", \"HALLMARK_ADIPOGENESIS\", \"REACTOME_CHROMATIN_MODIFYING_ENZYMES\",\n",
        "  \"REACTOME_PHOSPHOLIPID_METABOLISM\",\n",
        "  \"REACTOME_THE_CITRIC_ACID_TCA_CYCLE_AND_RESPIRATORY_ELECTRON_TRANSPORT\",\n",
        "  \"REACTOME_MITOCHONDRIAL_PROTEIN_IMPORT\",\n",
        "  \"KEGG_JAK_STAT_SIGNALING_PATHWAY\"\n",
        ")\n",
        "\n",
        "rna_weight_gsea %>%\n",
        "  arrange(NES) %>%\n",
        "  mutate(factor = \"Factor1\") %>%\n",
        "  filter(padj < 0.05 & pathway %in% metabo_pathways) %>%\n",
        "  #  dplyr::filter(str_detect(pathway, 'MYC|METABOLISM|OXIDATIVE_PHOSPHORYLATION')) %>%\n",
        "  mutate(enriched = if_else(NES < 0, \"at-risk\", \"healthy\")) %>%\n",
        "  ggplot(aes(x = factor, y = pathway, color = NES, size = propGenes)) +\n",
        "  geom_point() +\n",
        "  theme_few() +\n",
        "  scale_colour_gradient2(\n",
        "    low = scales::muted(\"blue\"),\n",
        "    mid = \"white\",\n",
        "    high = scales::muted(\"red\"),\n",
        "    midpoint = 0\n",
        "  ) +\n",
        "  theme(axis.text.y = element_text(size = 8)) +\n",
        "  ylab(\"\") +\n",
        "  xlab(\"\") +\n",
        "  labs(\n",
        "    title = NULL,\n",
        "    color = \"NES\",\n",
        "    size = \"% Genes\\nenriched\"\n",
        "  )\n",
        "ggsave(file.path(fig_path, paste0(proj_name, \"_factor1_rna_GSEA_Pathways_RA.png\")),\n",
        "  width = 8, height = 6\n",
        ")\n"
      ],
      "outputs": [],
      "execution_count": null,
      "metadata": {
        "vscode": {
          "languageId": "r"
        }
      },
      "id": "175d5680-f30f-41c8-afba-dcb758963176"
    }
  ],
  "metadata": {
    "kernelspec": {
      "display_name": "seurat_v5",
      "language": "R",
      "name": "seurat_v5"
    },
    "language_info": {
      "codemirror_mode": "r",
      "file_extension": ".r",
      "mimetype": "text/x-r-source",
      "name": "R",
      "pygments_lexer": "r",
      "version": "4.3.3"
    },
    "nteract": {
      "version": "0.28.0"
    }
  },
  "nbformat": 4,
  "nbformat_minor": 5
}