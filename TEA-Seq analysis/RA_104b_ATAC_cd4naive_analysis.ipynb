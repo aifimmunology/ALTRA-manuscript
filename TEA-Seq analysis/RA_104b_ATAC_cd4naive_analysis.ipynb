{
  "cells": [
    {
      "cell_type": "markdown",
      "source": [
        "# load libraries"
      ],
      "metadata": {},
      "id": "dd1b9b9d"
    },
    {
      "cell_type": "code",
      "source": [
        "# load libraries\n",
        "quiet_library <- function(...) {\n",
        "    suppressPackageStartupMessages(library(...))\n",
        "}\n",
        "quiet_library('tidyverse')\n",
        "# quiet_library(\"hise\")\n",
        "quiet_library('ArchR')\n",
        "quiet_library('data.table')\n",
        "quiet_library('jsonlite')\n",
        "quiet_library('parallel')\n",
        "quiet_library(\"Seurat\")\n",
        "# quiet_library(\"Signac\")\n",
        "# Load MOCHA and accompanying libraries\n",
        "quiet_library('MOCHA')\n",
        "quiet_library('GenomicRanges')\n",
        "quiet_library('plyranges')\n",
        "quiet_library('RMariaDB')\n",
        "quiet_library('chromVAR')"
      ],
      "outputs": [],
      "execution_count": null,
      "metadata": {
        "tags": []
      },
      "id": "7df3b229"
    },
    {
      "cell_type": "code",
      "source": [
        "packageVersion(\"MOCHA\")"
      ],
      "outputs": [],
      "execution_count": null,
      "metadata": {},
      "id": "23aef738-3331-4699-88dc-51d55acd61c1"
    },
    {
      "cell_type": "code",
      "source": [
        "# # import MP's function to do label transfer from atac to atac\n",
        "# source('/home/jupyter/github/scATAC_Supplements/scATAC_CellTypeLabeling.R')\n",
        "suppressPackageStartupMessages(source('/home/jupyter/github/scATAC_Supplements/ArchR_Supplements.R'))\n",
        "source('/home/jupyter/github/Teaseq-analysis/scRNA_teaseq_ananlysis_helper_functions.r')"
      ],
      "outputs": [],
      "execution_count": null,
      "metadata": {
        "tags": []
      },
      "id": "c58d3c72-8706-43af-b818-26fe01523cab"
    },
    {
      "cell_type": "code",
      "source": [
        "# define work directories\n",
        "proj_path <- '/home/jupyter/data/preRA_teaseq/EXP-00243'\n",
        "data_path <- '/home/jupyter/data/preRA_teaseq/EXP-00243'\n",
        "setwd(proj_path)\n",
        "# define a project name\n"
      ],
      "outputs": [],
      "execution_count": null,
      "metadata": {
        "tags": []
      },
      "id": "2b326831"
    },
    {
      "cell_type": "code",
      "source": [
        "# set ArchR parameters\n",
        "addArchRThreads(threads = 58)\n",
        "addArchRGenome(\"hg38\")\n",
        "set.seed(1221)\n",
        "options(repr.plot.width = 20, repr.plot.height = 15)"
      ],
      "outputs": [],
      "execution_count": null,
      "metadata": {},
      "id": "1413d075"
    },
    {
      "cell_type": "code",
      "source": [
        "# define the color palette to be used\n",
        "npg_color <- c(\"#E64B35FF\", \"#4DBBD5FF\", \"#00A087FF\", \"#3C5488FF\", \"#F39B7FFF\", \n",
        "               \"#8491B4FF\", \"#91D1C2FF\", \"#DC0000FF\", \"#7E6148FF\", \"#B09C85FF\")\n",
        "nejm_color <- c(\"#BC3C29FF\", \"#0072B5FF\", \"#E18727FF\", \"#20854EFF\", \"#7876B1FF\", \"#6F99ADFF\", \"#FFDC91FF\", \"#EE4C97FF\")\n",
        "jama_color <- c(\"#374E55FF\", \"#DF8F44FF\", \"#00A1D5FF\", \"#B24745FF\", \"#79AF97FF\", \"#6A6599FF\", \"#80796BFF\")\n",
        "jco_color <- c(\"#0073C2FF\", \"#EFC000FF\", \"#868686FF\", \"#CD534CFF\", \"#7AA6DCFF\", \"#003C67FF\", \"#8F7700FF\")\n",
        "cluster_colors <- c(\"#DC050C\", \"#FB8072\", \"#1965B0\", \"#7BAFDE\", \"#882E72\", \"#B17BA6\", \"#FF7F00\", \"#FDB462\", \"#E7298A\", \n",
        "    \"#E78AC3\", \"#33A02C\", \"#B2DF8A\", \"#55A1B1\", \"#8DD3C7\", \"#A6761D\", \"#E6AB02\", \"#7570B3\", \"#BEAED4\", \"#666666\", \"#999999\", \n",
        "    \"#aa8282\", \"#d4b7b7\", \"#8600bf\", \"#ba5ce3\", \"#808000\", \"#aeae5c\", \"#1e90ff\", \"#00bfff\", \"#56ff0d\", \"#ffff00\")\n",
        "status_colors = c('#5AAA46', '#F59F00', '#840032')\n",
        "cluster_colors_ext <- colorRampPalette(cluster_colors)(36)\n",
        "options(repr.plot.width = 20, repr.plot.height = 15)"
      ],
      "outputs": [],
      "execution_count": null,
      "metadata": {},
      "id": "5a9aa397-696a-4d68-a365-f182ebf0d31b"
    },
    {
      "cell_type": "code",
      "source": [
        "# pathway analysis with enrichR\n",
        "quiet_library(enrichR)\n",
        "setEnrichrSite(\"Enrichr\")\n",
        "dbs <- listEnrichrDbs()# pathway analysis with enrichR"
      ],
      "outputs": [],
      "execution_count": null,
      "metadata": {},
      "id": "59a9ba40-afb4-4c29-b8f0-83fa488d9b63"
    },
    {
      "cell_type": "code",
      "source": [
        "# define work directories\n",
        "proj_path <- '/home/jupyter/data/preRA_teaseq/EXP-00243/cd4tna_cells'\n",
        "setwd(proj_path)\n",
        "# define a project name\n",
        "proj_name <- 'preRA_tea_seq_cd4tna'\n",
        "fig_path <- as.character('/home/jupyter/data/preRA_teaseq/EXP-00243/cd4tna_cells/Plots')\n",
        "output_path <- '/home/jupyter/data/preRA_teaseq/output_results/atac'\n",
        "if(!dir.exists(fig_path)) (dir.create(fig_path, recursive = TRUE))\n",
        "if(!dir.exists(output_path)) (dir.create(fig_path, recursive = TRUE))"
      ],
      "outputs": [],
      "execution_count": null,
      "metadata": {},
      "id": "d9e896d9-dfcc-4c52-8fb4-0c6df7ab3b26"
    },
    {
      "cell_type": "code",
      "source": [
        "#Load scMACS and accompanying libraries\n",
        "library(MOCHA)\n",
        "library(data.table)\n",
        "library(ArchR)\n",
        "library(GenomicRanges)\n",
        "library(plyranges)"
      ],
      "outputs": [],
      "execution_count": null,
      "metadata": {
        "tags": []
      },
      "id": "f1d50129-ed71-46de-a7fa-da7319f54e89"
    },
    {
      "cell_type": "code",
      "source": [
        "# Define your annotation package for TxDb object(s)\n",
        "# and genome-wide annotation.\n",
        "# Here our samples are human using hg38 as a reference.\n",
        "# For more info: <https://bioconductor.org/packages/3.15/data/annotation/>\n",
        "\n",
        "library(TxDb.Hsapiens.UCSC.hg38.refGene) \n",
        "library(org.Hs.eg.db) \n",
        "TxDb <- TxDb.Hsapiens.UCSC.hg38.refGene \n",
        "Org <- org.Hs.eg.db\n"
      ],
      "outputs": [],
      "execution_count": null,
      "metadata": {},
      "id": "295e668a-bc07-4310-b8ca-92b8599832cd"
    },
    {
      "cell_type": "code",
      "source": [
        "# # helper function\n",
        "\n",
        "# #### add metadata from seurat object to archr project\n",
        "# ## extract the columns from seurat to add to archr\n",
        "# ## add metadata from seurat to archr\n",
        "# #' @param archr: archr project to add metadata on\n",
        "# #' @param so: seurat object to extract metadata from\n",
        "# #' @param so.cols: a list of column names in the seurat obeject\n",
        "# #' @param id.col: column name of the barcodes which links cells in seurat and archr object, default setting is barcode\n",
        "\n",
        "# #' @return archr a SummarizedExperiment object which nomarlized counts are aggregrate\n",
        "\n",
        "# #' @examples \n",
        "# # ra_mye_atac <- MetaSotoArchr(archr=ra_mye_atac, so=ra_so_mye, \n",
        "# #                            so.cols=c('barcodes', 'subject_id', 'cohort', \n",
        "# #                                      'total_pbmc_counts','Tiles_snn_res.0.8', 'wsnn_res.0.8'), \n",
        "# #                           id.col='barcodes')\n",
        "\n",
        "# MetaSotoArchr <- function(archr, so, so.cols, id.col='barcodes', save.archr=TRUE){\n",
        "#     # check if all the so.cols are in the seurat metadata\n",
        "#     if(!all(so.cols %in% colnames(so@meta.data))){\n",
        "#         stop('Not all the columns are present in the seurat object')\n",
        "#     }\n",
        "#     if(any(so.cols[so.cols!=id.col] %in% colnames(getCellColData(archr)))){\n",
        "#         warning('the column names to add are already in the archr object, this will create suffix to the columns')\n",
        "#     }\n",
        "#     seurat_metadata <- so@meta.data %>% \n",
        "#         select(all_of(c(so.cols, id.col))) %>% as_tibble()\n",
        "#     # check if id coloum are match between seurat and archr\n",
        "#     so_ids <- so@meta.data %>% pull(.data[[id.col]]) \n",
        "#     archr_ids <- getCellColData(archr) %>% as_tibble() %>% pull(.data[[id.col]]) \n",
        "#     if(!setequal(so_ids, archr_ids)){\n",
        "#         stop('id col in the seurat and archr object dont match.')\n",
        "#     }\n",
        "#     # add metadata from seurat to archR\n",
        "#     cell_id <- archr@cellColData %>% rownames()\n",
        "#     archr@cellColData <- merge(archr@cellColData, seurat_metadata, by = id.col, sort=FALSE)\n",
        "#     rownames(archr@cellColData) <- cell_id    \n",
        "#     if(save.archr){\n",
        "#         saveArchRProject(ArchRProj = archr)\n",
        "#     }\n",
        "#     return(archr)\n",
        "# }\n",
        "\n",
        "# ##This function extracts the RNA counts from a Seurat object and adds them to an ArchR Project. \n",
        "# ##ATAC_Cell_ID is the metadata column of the Seurat object that contains the matching cell ids to the ArchR Project. Make sure these align before you do anything. \n",
        "# ##You can set force to be TRUE or FALSE, depending on whether you want to \n",
        "# ##over-write the existing GeneExpressionMatrix within the ArchR Project.\n",
        "# ##Requires: plyranges, dplyr, Seurat, and ArchR\n",
        "# addSeuratRNA <- function(SeuratObject, ArchRProject, ATAC_Cell_ID, assay = \"RNA\", force1 = FALSE){\n",
        "\n",
        "# \tcounts1 <- as.SingleCellExperiment(SeuratObject, assay = assay)\n",
        "# \tcolnames(counts1) = SeuratObject@meta.data[,ATAC_Cell_ID]\n",
        "# \tgenes <- getGenes(ArchRProject) %>% plyranges::filter(symbol %in% as.character(rownames(counts1))) %>% \n",
        "# \t\tarrange(match(symbol,as.character(rownames(counts1))))\n",
        "# \tcounts2 <-counts1[rownames(counts1) %in% genes$symbol]\n",
        "# \tcounts3 <- SummarizedExperiment(assays=list(counts=assays(counts2)[[1]]),\n",
        "# \t\t rowRanges= genes) \n",
        "# \tArchRProject <- addGeneExpressionMatrix(ArchRProject,\n",
        "# \t\t\t\t\tseRNA = counts3, force = force1)\n",
        "# \treturn(ArchRProject)\n",
        "# }"
      ],
      "outputs": [],
      "execution_count": null,
      "metadata": {
        "tags": []
      },
      "id": "f5823adf-538c-4826-a332-ba6e0e02e955"
    },
    {
      "cell_type": "markdown",
      "source": [
        "# load cd4 naive t cells atac data"
      ],
      "metadata": {
        "tags": []
      },
      "id": "4cf6e03a-a923-4a45-a9a2-e90a2db3de2d"
    },
    {
      "cell_type": "code",
      "source": [
        "# load ATAC \n",
        "# load the ArchR project for CD4 t cells\n",
        "cd4na_atac <- loadArchRProject(path = '/home/jupyter/data/preRA_teaseq/EXP-00243/cd4tna_cells')\n",
        "cd4na_atac"
      ],
      "outputs": [],
      "execution_count": null,
      "metadata": {},
      "id": "94a4b556-08fa-42f1-a8f7-2f36b032e8cb"
    },
    {
      "cell_type": "code",
      "source": [
        "# cd4na_atac <- addImputeWeights(cd4na_atac)"
      ],
      "outputs": [],
      "execution_count": null,
      "metadata": {},
      "id": "ae81721e-9fe1-4dae-b21b-da5ad047705c"
    },
    {
      "cell_type": "code",
      "source": [
        "# load the seurat object\n",
        "ra_tea_cd4na <- readRDS(file.path(data_path, 'PreRA_teaseq_seurat_cd4naive_t_cells_06112023.rds'))"
      ],
      "outputs": [],
      "execution_count": null,
      "metadata": {},
      "id": "83e9e57e-0216-4189-b459-7920312dd5f4"
    },
    {
      "cell_type": "code",
      "source": [
        "ra_tea_cd4na"
      ],
      "outputs": [],
      "execution_count": null,
      "metadata": {},
      "id": "254d2f62-22d9-4e25-869e-3a84e690f947"
    },
    {
      "cell_type": "code",
      "source": [
        "# ra_tea_cd4na@meta.data %>% colnames()\n",
        "kit_id=str_split(ra_tea_cd4na@meta.data %>% distinct(pbmc_sample_id) %>% pull(pbmc_sample_id),\n",
        "               pattern = '-', simplify = TRUE)[,1] %>% str_replace('PB', 'KT')\n",
        "kit_id %>% paste(collapse = ', ')"
      ],
      "outputs": [],
      "execution_count": null,
      "metadata": {},
      "id": "b846b22c-dbdf-43f3-b712-207efa84b8b5"
    },
    {
      "cell_type": "code",
      "source": [
        "ra_tea_cd4na@meta.data %>% distinct(subject_id) %>% pull(subject_id)"
      ],
      "outputs": [],
      "execution_count": null,
      "metadata": {},
      "id": "0695aab0-0371-4eb3-8fa2-6c8119700c01"
    },
    {
      "cell_type": "code",
      "source": [
        "# check all the atac barcodes matched\n",
        "ra_tea_cd4na@meta.data %>% colnames()\n",
        "all(ra_tea_cd4na@meta.data$atac_cell_id %in% cd4na_atac$cellNames)\n",
        "all(cd4na_atac$cellNames %in% ra_tea_cd4na@meta.data$atac_cell_id)"
      ],
      "outputs": [],
      "execution_count": null,
      "metadata": {
        "tags": []
      },
      "id": "1c4dd076-c6f7-4ebb-8cb4-3ae0b0c36e7c"
    },
    {
      "cell_type": "code",
      "source": [
        "# extracts the RNA counts from a Seurat object and adds them to an ArchR Project\n",
        "cd4na_atac <- addSeuratRNA(SeuratObject = ra_tea_cd4na,ArchRProject =  cd4na_atac,\n",
        "                           'atac_cell_id',  assay = \"SCT\")"
      ],
      "outputs": [],
      "execution_count": null,
      "metadata": {},
      "id": "ebe6eae4-b333-49ff-a28a-3dfea8b03792"
    },
    {
      "cell_type": "code",
      "source": [
        "getAvailableMatrices(cd4na_atac)"
      ],
      "outputs": [],
      "execution_count": null,
      "metadata": {},
      "id": "b19cf9c7-c3f6-4bad-8f6b-94921b1ff41f"
    },
    {
      "cell_type": "code",
      "source": [
        "# cd4na_atac\n",
        "# ra_tea_cd4na"
      ],
      "outputs": [],
      "execution_count": null,
      "metadata": {},
      "id": "889be899-8df3-40f7-8216-ca3e52b0078f"
    },
    {
      "cell_type": "code",
      "source": [
        "metacols <- c('barcodes', 'predicted.celltype_l2', \n",
        "              'wsnn_res.0.3','age', 'total_counts')\n",
        "metacols %in%  colnames(ra_tea_cd4na@meta.data)\n",
        "metacols %in%  colnames(getCellColData(cd4na_atac))"
      ],
      "outputs": [],
      "execution_count": null,
      "metadata": {},
      "id": "313d6d31-b6d9-4bc8-b146-b8743bb9d5f4"
    },
    {
      "cell_type": "code",
      "source": [
        "# add some metadate from seurat to archR\n",
        "getCellColData(cd4na_atac) %>% colnames()\n",
        "cd4na_atac <- MetaSotoArchr(archr=cd4na_atac, so=ra_tea_cd4na, \n",
        "                           so.cols=c('barcodes', \n",
        "                                     'predicted.celltype_l2',\n",
        "                                     'wsnn_res.0.3','age', 'total_counts'), \n",
        "                          id.col='barcodes')"
      ],
      "outputs": [],
      "execution_count": null,
      "metadata": {},
      "id": "591081b9-4f66-49a6-b75f-decbaad2c4d1"
    },
    {
      "cell_type": "code",
      "source": [
        "getCellColData(cd4na_atac) %>% colnames()"
      ],
      "outputs": [],
      "execution_count": null,
      "metadata": {},
      "id": "b2635393-7259-42fd-b160-2a7ccf1b194f"
    },
    {
      "cell_type": "code",
      "source": [
        "cd4na_atac <- addClusters(\n",
        "      input = cd4na_atac,\n",
        "      reducedDims = \"IterativeLSI\",\n",
        "      method = \"Seurat\",\n",
        "      name = \"Clusters_0.5\",\n",
        "      resolution = 0.5,\n",
        "      force = TRUE\n",
        "    )"
      ],
      "outputs": [],
      "execution_count": null,
      "metadata": {},
      "id": "1e94ab10-4eda-4624-b443-3bfde7df1a78"
    },
    {
      "cell_type": "code",
      "source": [
        "saveArchRProject(ArchRProj = cd4na_atac)"
      ],
      "outputs": [],
      "execution_count": null,
      "metadata": {},
      "id": "603ef39d-bbf6-42bf-93de-79c1711567a3"
    },
    {
      "cell_type": "code",
      "source": [
        "# add archr clusters into seurat\n",
        "atac_clusters_0.5 <- getCellColData(cd4na_atac) %>% as_tibble() %>% \n",
        "      dplyr::select(Clusters_0.5, barcodes) %>% dplyr::rename('archr_clusters_0.5'='Clusters_0.5')\n",
        "cell_id <- ra_tea_cd4na@meta.data %>% rownames()\n",
        "ra_tea_cd4na@meta.data <- ra_tea_cd4na@meta.data %>% left_join(atac_clusters_0.5, by = 'barcodes')\n",
        "rownames(ra_tea_cd4na@meta.data) <- cell_id"
      ],
      "outputs": [],
      "execution_count": null,
      "metadata": {},
      "id": "2775bbbc-ee0f-45eb-ae50-fd61725ef9c5"
    },
    {
      "cell_type": "code",
      "source": [
        "# load the seurat object\n",
        "ra_tea_cd4na %>% saveRDS(file.path(data_path, 'PreRA_teaseq_seurat_cd4naive_t_cells_06112023.rds'))"
      ],
      "outputs": [],
      "execution_count": null,
      "metadata": {},
      "id": "dffe1231-8f12-4bf6-a8ac-41ed2ffe622e"
    },
    {
      "cell_type": "code",
      "source": [
        "ra_tea_cd4na@meta.data %>% colnames()"
      ],
      "outputs": [],
      "execution_count": null,
      "metadata": {},
      "id": "97d5d7f7-cf35-414f-9ae1-6efc5ea81540"
    },
    {
      "cell_type": "code",
      "source": [
        "getAvailableMatrices(cd4na_atac)\n",
        "getCellColData(cd4na_atac) %>% colnames()"
      ],
      "outputs": [],
      "execution_count": null,
      "metadata": {},
      "id": "30b8f510-450b-4294-9b4e-89ed5d5e0f3f"
    },
    {
      "cell_type": "code",
      "source": [
        "# cd4t_atac_gene_cores <- getMatrixFromProject(cd4t_atac, useMatrix = \"GeneScoreMatrix\")"
      ],
      "outputs": [],
      "execution_count": null,
      "metadata": {},
      "id": "eff83d32-fa87-4d86-bc9f-d3f79c49304c"
    },
    {
      "cell_type": "code",
      "source": [
        "# check the differential markers in atac clusters\n",
        "markersGS <- getMarkerFeatures(\n",
        "    ArchRProj = cd4na_atac, \n",
        "    useMatrix = \"GeneScoreMatrix\", \n",
        "    groupBy = \"Clusters_0.5\",\n",
        "    bias = c(\"TSSEnrichment\", \"log10(nFrags)\"),\n",
        "    testMethod = \"wilcoxon\"\n",
        ")"
      ],
      "outputs": [],
      "execution_count": null,
      "metadata": {},
      "id": "8da1083f-8a08-46a9-93a7-c4947e25cd84"
    },
    {
      "cell_type": "code",
      "source": [
        "markerList <- getMarkers(markersGS, cutOff = \"FDR <= 0.01 & Log2FC >= 0.5\")\n",
        "markerList$C4$name"
      ],
      "outputs": [],
      "execution_count": null,
      "metadata": {},
      "id": "18bcb87e-3656-44b2-9e04-99f2368ad08f"
    },
    {
      "cell_type": "code",
      "source": [
        "# marker_genes <- rowData(cd4t_atac_gene_cores)$name %>% str_subset('GATA3|RORC|FOXP3|TBX21|IKZF2|STAT3')\n",
        "marker_genes <- c('IL21')\n",
        "marker_genes\n",
        "p2 <-  plotEmbedding(\n",
        "    ArchRProj = cd4na_atac, \n",
        "    colorBy = \"GeneScoreMatrix\", \n",
        "    name = marker_genes, \n",
        "    embedding = \"UMAP\",\n",
        "    imputeWeights = getImputeWeights(cd4na_atac)\n",
        ")\n",
        "p2\n",
        "plotPDF(p2, name = paste0(proj_name, '_IL21_atac_umap_gene_score.pdf'), ArchRProj = cd4na_atac,\n",
        "        addDOC = FALSE, width = 6, height = 6)"
      ],
      "outputs": [],
      "execution_count": null,
      "metadata": {},
      "id": "c2b85a1f-7b29-4fdd-be51-3f19cb2d8d13"
    },
    {
      "cell_type": "code",
      "source": [
        "# marker_genes <- rowData(cd4t_atac_gene_cores)$name %>% str_subset('GATA3|RORC|FOXP3|TBX21|IKZF2|STAT3')\n",
        "marker_genes <- c('GATA3', 'RORC', 'FOXP3', 'TBX21', 'IKZF2', 'STAT3', 'SELL', 'IL17A', 'IFNG', 'IL10')\n",
        "marker_genes\n",
        "p2 <-  plotEmbedding(\n",
        "    ArchRProj = cd4na_atac, \n",
        "    colorBy = \"GeneScoreMatrix\", \n",
        "    name = marker_genes, \n",
        "    embedding = \"UMAP\",\n",
        "    imputeWeights = getImputeWeights(cd4na_atac)\n",
        ")"
      ],
      "outputs": [],
      "execution_count": null,
      "metadata": {},
      "id": "ff61fcfd-7caf-4686-96c0-12e0c1f5ac15"
    },
    {
      "cell_type": "code",
      "source": [
        "# marker_genes <- rowData(cd4t_atac_gene_cores)$name %>% str_subset('GATA3|RORC|FOXP3|TBX21|IKZF2|STAT3')\n",
        "marker_genes <- c('IL6R', 'IL4R', 'IL13RA1', 'IL6ST')\n",
        "marker_genes\n",
        "p2 <-  plotEmbedding(\n",
        "    ArchRProj = cd4na_atac, \n",
        "    colorBy = \"GeneScoreMatrix\", \n",
        "    name = marker_genes, \n",
        "    embedding = \"UMAP\",\n",
        "    imputeWeights = getImputeWeights(cd4na_atac)\n",
        ")\n",
        "plotPDF(p2, name = paste0(proj_name, '_IL6R_atac_umap_gene_score.pdf'), ArchRProj = cd4na_atac,\n",
        "        addDOC = FALSE, width = 6, height = 6)     "
      ],
      "outputs": [],
      "execution_count": null,
      "metadata": {},
      "id": "060dddb6-4ef5-43a3-bc9e-2f8e9fabc256"
    },
    {
      "cell_type": "code",
      "source": [
        "p2"
      ],
      "outputs": [],
      "execution_count": null,
      "metadata": {},
      "id": "cb43787a-b6ce-43eb-8313-dddcf2873abb"
    },
    {
      "cell_type": "code",
      "source": [
        "# plot umap of annotated cell types\n",
        "p1 <- plotEmbedding(cd4na_atac, embedding = \"UMAP\", \n",
        "                    colorBy = \"cellColData\", name = c('subject_id'))\n",
        "plotPDF(p1, name = paste0(proj_name, '_subject_id_atac_umap_gene_score.pdf'), ArchRProj = cd4na_atac,\n",
        "        addDOC = FALSE, width = 6, height = 6)                                                "
      ],
      "outputs": [],
      "execution_count": null,
      "metadata": {
        "tags": []
      },
      "id": "f600cc0e-3951-436f-a32d-f0f66a2a1b1b"
    },
    {
      "cell_type": "code",
      "source": [
        "plotEmbedding(cd4na_atac, embedding = \"UMAP\", \n",
        "                    colorBy = \"GeneScoreMatrix\", name = c('TGFBR1'))"
      ],
      "outputs": [],
      "execution_count": null,
      "metadata": {},
      "id": "e68207e9-51c0-481b-8075-b4d9716bdac9"
    },
    {
      "cell_type": "code",
      "source": [
        "# plot umap of annotated cell types\n",
        "p1 <- plotEmbedding(cd4na_atac, embedding = \"UMAP\", \n",
        "                    colorBy = \"cellColData\", name = c(\"l2_cell_types\", \"Clusters_0.5\", 'subject_id','age',\n",
        "                                                      'predicted.celltype_l2','wsnn_res.0.5',\n",
        "                                                      'cohort'))\n",
        "p2 <-  plotEmbedding(\n",
        "    ArchRProj = cd4na_atac, \n",
        "    colorBy = \"GeneScoreMatrix\", \n",
        "    name = marker_genes, \n",
        "    embedding = \"UMAP\",\n",
        "    imputeWeights = getImputeWeights(cd4na_atac)\n",
        ")\n",
        "\n",
        "plotPDF(p1,p2, name = paste0(proj_name, '_Clusters_0.8_atac_umap_gene_score.pdf'), ArchRProj = cd4na_atac,\n",
        "        addDOC = FALSE, width = 6, height = 6)"
      ],
      "outputs": [],
      "execution_count": null,
      "metadata": {},
      "id": "483df1a6-f127-4b25-890d-6afcbb7eb7de"
    },
    {
      "cell_type": "code",
      "source": [
        "# plot umap of annotated cell types\n",
        "p1 <- plotEmbedding(cd4na_atac, embedding = \"UMAP\", \n",
        "                    colorBy = \"cellColData\", name = c(\"Clusters_0.5\",'cohort', 'subject_id'\n",
        "                                                      ))\n",
        "p1\n",
        "plotPDF(p1, name = paste0(proj_name, '_Clusters_0.5_atac_umap.pdf'), ArchRProj = cd4na_atac,\n",
        "        addDOC = FALSE, width = 6, height = 6)"
      ],
      "outputs": [],
      "execution_count": null,
      "metadata": {},
      "id": "2a15ec6c-79de-4ea0-8ca4-afbe3d5b57e1"
    },
    {
      "cell_type": "code",
      "source": [
        "cd4na_atac$cohort=if_else(cd4na_atac$cohort=='pre-RA', 'At-risk', cd4na_atac$cohort)"
      ],
      "outputs": [],
      "execution_count": null,
      "metadata": {},
      "id": "c3839579-dc0b-461c-b54e-a385f10cbcbe"
    },
    {
      "cell_type": "code",
      "source": [
        "# plot umap of annotated cell types\n",
        "p1 <- plotEmbedding(cd4na_atac, embedding = \"UMAP\",  colorBy = \"cellColData\", name = c(\"cohort\"))\n",
        "p1 <- p1 + theme(legend.text = element_text(size=50)) +\n",
        "  guides(color = guide_legend(override.aes = list(size = 30)))\n",
        "p1 \n",
        "plotPDF(p1, name = paste0(proj_name, '_cohort_atac_umap.pdf'), ArchRProj = cd4na_atac,\n",
        "        addDOC = FALSE, width = 6, height = 6)"
      ],
      "outputs": [],
      "execution_count": null,
      "metadata": {},
      "id": "51723e77-90f3-4afc-b462-83b3c4215515"
    },
    {
      "cell_type": "code",
      "source": [
        "cd4na_atac$Sex %>% unique()"
      ],
      "outputs": [],
      "execution_count": null,
      "metadata": {},
      "id": "f5c83a7a-2984-4214-a0cf-970e108bfe7f"
    },
    {
      "cell_type": "code",
      "source": [
        "getCellColData(cd4na_atac) %>% as_tibble() %>% colnames()\n",
        "Clusters_0.5_counts <- getCellColData(cd4na_atac) %>% as_tibble() %>% \n",
        "    group_by(Clusters_0.5, subject_id, cohort) %>% tally() %>%\n",
        "    ungroup() %>% group_by(subject_id) %>% \n",
        "    mutate(total_count=sum(n), frequency=n/total_count) \n",
        "Clusters_0.5_counts %>% ggpubr::ggboxplot(x='cohort', y='frequency', \n",
        "                                  color='cohort', add = \"jitter\",size = 0.3,\n",
        "              add.params = list(size = 0.6))+\n",
        "    ylab('Frequency')+\n",
        "    facet_wrap(vars(Clusters_0.5), scales = 'free_y') + xlab('')+\n",
        "    scale_color_manual( values = c('#0072B5FF', '#BC3C29FF')) + \n",
        "    ggpubr::stat_compare_means(method = \"wilcox.test\", label.x.npc=0.3)\n",
        "ggsave(file.path(fig_path, paste0(proj_name, \n",
        "                                  '_atac_clusters_0.5_frequency_boxplot.png')), \n",
        "       width=12, height=8)"
      ],
      "outputs": [],
      "execution_count": null,
      "metadata": {},
      "id": "e5cfd806-d2b0-409c-b4e7-a787df07bed5"
    },
    {
      "cell_type": "code",
      "source": [
        "# run wilcox test for frequency pretreatment vs healthy \n",
        "freq_stats_wilcox_pre <- Clusters_0.5_counts %>% \n",
        "    group_by(Clusters_0.5) %>% \n",
        "    rstatix::wilcox_test(data =., frequency ~ cohort, paired = FALSE) %>%\n",
        "      rstatix::adjust_pvalue(method = \"BH\") %>%\n",
        "      rstatix::add_significance(\"p.adj\") \n",
        "freq_stats_wilcox_pre %>% arrange(p)"
      ],
      "outputs": [],
      "execution_count": null,
      "metadata": {},
      "id": "8b6d5181-4f1e-468f-adfc-eed1a7f33e3e"
    },
    {
      "cell_type": "markdown",
      "source": [
        "## run differential gene scores based on archr"
      ],
      "metadata": {},
      "id": "65d56cb6-a0aa-4f6d-9d2e-51b755f5b5c5"
    },
    {
      "cell_type": "code",
      "source": [
        "getCellColData(cd4na_atac) %>% as_tibble() %>% group_by(cohort) %>% tally()"
      ],
      "outputs": [],
      "execution_count": null,
      "metadata": {},
      "id": "3436e1c5-3155-4e2c-bcbe-d075771fd125"
    },
    {
      "cell_type": "code",
      "source": [
        "# get differential gene score between preRA vs healthy\n",
        "markersGS <- getMarkerFeatures(\n",
        "    ArchRProj = cd4na_atac, \n",
        "    useMatrix = \"GeneScoreMatrix\", \n",
        "    groupBy = \"cohort\",\n",
        "    useGroups = 'pre-RA',\n",
        "  bgdGroups = 'Healthy',\n",
        "    maxCells = 12765,\n",
        "    bias = c(\"TSSEnrichment\", \"log10(nFrags)\"),\n",
        "    testMethod = \"wilcoxon\"\n",
        ")"
      ],
      "outputs": [],
      "execution_count": null,
      "metadata": {
        "tags": []
      },
      "id": "b71473ed-03fa-46ba-82b3-90b41b342f52"
    },
    {
      "cell_type": "code",
      "source": [
        "# get all the gene scores tested in cd4 naive\n",
        "markerList <- getMarkers(\n",
        "  seMarker = markersGS,\n",
        "  cutOff = \"NA\",\n",
        "  n = NULL,\n",
        "  returnGR = FALSE\n",
        ")\n"
      ],
      "outputs": [],
      "execution_count": null,
      "metadata": {
        "tags": []
      },
      "id": "ae35726f-1a6f-4e34-97e4-7853ee4b3e4a"
    },
    {
      "cell_type": "markdown",
      "source": [
        "### compare differntial gene scores and differential gene expression"
      ],
      "metadata": {
        "tags": []
      },
      "id": "a42c3c60-cfc0-4a73-98d5-1d9923ca9c9f"
    },
    {
      "cell_type": "code",
      "source": [
        "# load the degs list for cd4 naive\n",
        "cd4na_pseudo_degs <- read_csv('/home/jupyter/data/preRA_teaseq/output_results/cd4_t/PreRA_teaseq_cd4_t_t_anno_atac_cd4naive_PseudoBulk_degs_preRA.csv',\n",
        "                             show_col_types = FALSE) %>% \n",
        "    mutate('log10FDR'=if_else(logFC>0, -log10(FDR), log10(FDR))) \n",
        "cd4na_pseudo_degs %>% head()"
      ],
      "outputs": [],
      "execution_count": null,
      "metadata": {},
      "id": "a7de1c98-edd3-486e-b198-33dc052b8fdb"
    },
    {
      "cell_type": "code",
      "source": [
        "cd4na_gene_scores <- markerList$`pre-RA` %>% as_tibble()\n",
        "cd4na_gene_scores <- cd4na_gene_scores %>% \n",
        "    mutate('log10FDR'=if_else(Log2FC>0, -log10(FDR), log10(FDR))) %>%\n",
        "    dplyr::rename('gene'='name') \n",
        "cd4na_gene_scores %>% filter(FDR<0.05&Log2FC>0.1)"
      ],
      "outputs": [],
      "execution_count": null,
      "metadata": {
        "tags": []
      },
      "id": "38a3aebf-a961-4436-9260-71176075a053"
    },
    {
      "cell_type": "code",
      "source": [
        "cd4na_gene_scores %>% filter(str_detect(gene, 'TGFBR'))"
      ],
      "outputs": [],
      "execution_count": null,
      "metadata": {},
      "id": "71f35c3f-b7c9-4286-bfa2-33b35cdf33a1"
    },
    {
      "cell_type": "code",
      "source": [
        "table(cd4na_gene_scores$gene %in% cd4na_pseudo_degs$gene)\n",
        "table(cd4na_pseudo_degs$gene %in% cd4na_gene_scores$gene)"
      ],
      "outputs": [],
      "execution_count": null,
      "metadata": {},
      "id": "7860b96c-9e8a-4159-9e2b-27c95f04cae4"
    },
    {
      "cell_type": "code",
      "source": [
        "# join two list\n",
        "cd4na_degs_gene_scores <- cd4na_pseudo_degs %>%\n",
        "    full_join(cd4na_gene_scores, by='gene', suffix = c('_rna', '_atac'))%>%\n",
        "    mutate(log10FDR_rna=replace_na(log10FDR_rna, 0), log10FDR_atac=replace_na(log10FDR_atac, 0)) %>%\n",
        "    mutate(deg_gs_cat = case_when(log10FDR_rna>log10(0.05) & log10FDR_atac>log10(0.05) ~ 'SigdeggsUp'))\n",
        "# cd4na_degs_gene_scores %>% filter(is.na(FDR_atac)|is.na(FDR_rna))"
      ],
      "outputs": [],
      "execution_count": null,
      "metadata": {},
      "id": "131a502c-e9d9-44e1-9adc-67915d6ce3b5"
    },
    {
      "cell_type": "code",
      "source": [
        "cd4na_degs_gene_scores %>% colnames()"
      ],
      "outputs": [],
      "execution_count": null,
      "metadata": {},
      "id": "42a66391-c2fe-4b16-a915-668ec7f382be"
    },
    {
      "cell_type": "code",
      "source": [
        "# only take the overlap genes\n",
        "cd4na_degs_gene_scores_fl <- cd4na_degs_gene_scores %>% \n",
        "    mutate(sig_deg=FDR_rna<0.05,\n",
        "          sig_genescores=FDR_atac<0.05&abs(Log2FC)>0.1,\n",
        "          poised_status=case_when(sig_deg & sig_genescores ~ 'atac change & rna change',\n",
        "                                 !sig_deg & sig_genescores ~ 'atac change & rna no change',\n",
        "                                 sig_deg & !sig_genescores ~ 'atac no change & rna change',\n",
        "                                 !sig_deg & !sig_genescores ~ 'atac no change & rna no change')) %>% \n",
        "    filter(!is.na(FDR_rna)&!is.na(FDR_atac))"
      ],
      "outputs": [],
      "execution_count": null,
      "metadata": {},
      "id": "5aa9342a-dc41-40bb-9a9f-460f86ab31ad"
    },
    {
      "cell_type": "code",
      "source": [
        "cd4na_degs_gene_scores_fl %>% distinct(gene, .keep_all = TRUE) %>% \n",
        "    group_by(poised_status) %>% tally()"
      ],
      "outputs": [],
      "execution_count": null,
      "metadata": {},
      "id": "e2e12a05-6711-456d-bfb8-3a1c61a808f0"
    },
    {
      "cell_type": "code",
      "source": [
        "# plot the gene scores and \n",
        "cd4na_degs_gene_scores_fl %>% filter(poised_status!='atac no change & rna no change') %>%\n",
        "    ggplot(aes(x=logFC, y=Log2FC, label = gene, color=poised_status))+\n",
        "    geom_point() + ggrepel::geom_text_repel(box.padding = 0.5, max.overlaps = 5) +\n",
        "    labs(x='logFC DEGs', \n",
        "        y='LogFC Gene scores') \n",
        "# ggsave(file.path(fig_path, paste0(proj_name, '_gene_exp_promotor_gene_score_promoters.pdf')), width = 6, height = 6)"
      ],
      "outputs": [],
      "execution_count": null,
      "metadata": {
        "tags": []
      },
      "id": "951562ae-544e-4c04-bb17-0d590a174144"
    },
    {
      "cell_type": "code",
      "source": [
        "# plot the gene scores and \n",
        "cd4na_degs_gene_scores_fl %>% filter(poised_status!='atac no change & rna no change')%>% \n",
        "    ggplot(aes(x=log10FDR_rna, y=log10FDR_atac, label = gene, color=poised_status))+\n",
        "    geom_point() + \n",
        "    geom_hline(yintercept=-log10(0.05), linetype=\"dashed\", color = \"red\")+\n",
        "    geom_hline(yintercept=log10(0.05), linetype=\"dashed\", color = \"red\") +\n",
        "    geom_vline(xintercept=-log10(0.05), linetype=\"dashed\", color = \"red\") +\n",
        "    geom_vline(xintercept=log10(0.05), linetype=\"dashed\", color = \"red\") +\n",
        "    ggrepel::geom_text_repel(box.padding = 0.5, max.overlaps = 5) +\n",
        "    labs(x='log10(FDR) DEGs', \n",
        "        y='log10(FDR) Gene scores') + theme_bw()+ theme(legend.position = \"none\")\n",
        "ggsave(file.path(fig_path, paste0(proj_name, '_gene_exp_promotor_gene_score_promoters.png')), width = 12, height = 12)"
      ],
      "outputs": [],
      "execution_count": null,
      "metadata": {},
      "id": "2f7aabd4-450b-4f28-8b53-6e0bef19311c"
    },
    {
      "cell_type": "code",
      "source": [
        "cd4na_degs_gene_scores_fl %>% filter(poised_status=='atac change & rna no change' & \n",
        "                                     Log2FC<0) %>% nrow()"
      ],
      "outputs": [],
      "execution_count": null,
      "metadata": {},
      "id": "b5f51089-1b2a-46ea-91ba-54ef3934bced"
    },
    {
      "cell_type": "code",
      "source": [],
      "outputs": [],
      "execution_count": null,
      "metadata": {},
      "id": "90ebfe7a-aeec-42aa-84ae-390047509bf7"
    },
    {
      "cell_type": "code",
      "source": [
        "# gene enrichment \n",
        "poised_gene_up <- cd4na_degs_gene_scores_fl %>% \n",
        "    filter(FDR_atac<0.05&FDR_rna>0.05&Log2FC>0.1) %>% pull(gene) %>% unique() \n",
        "poised_gene_up %>% length()\n",
        "# pathway enrichment for cd4na\n",
        "enrich_cd4na_posied_up <- enrichr(poised_gene_up, c('KEGG_2021_Human', 'MSigDB_Hallmark_2020'))\n"
      ],
      "outputs": [],
      "execution_count": null,
      "metadata": {},
      "id": "6f76b0aa-fbcd-46c2-97ce-71fe257e4c37"
    },
    {
      "cell_type": "code",
      "source": [
        "cd4na_degs_gene_scores_fl %>% filter(str_detect(gene, 'TGFB'))"
      ],
      "outputs": [],
      "execution_count": null,
      "metadata": {},
      "id": "6b5253c4-5119-4c62-a44e-0c9f77b45fb8"
    },
    {
      "cell_type": "code",
      "source": [
        "enrich_cd4na_posied_up[[\"MSigDB_Hallmark_2020\"]]%>% filter(Adjusted.P.value<0.05) %>% \n",
        "    dplyr::select(-c(Old.P.value, Old.Adjusted.P.value, P.value, Combined.Score\t))"
      ],
      "outputs": [],
      "execution_count": null,
      "metadata": {
        "tags": []
      },
      "id": "d363b15e-eeee-44ed-afac-aaacb36155fa"
    },
    {
      "cell_type": "code",
      "source": [
        "# gene enrichment \n",
        "poised_gene_down <- cd4na_degs_gene_scores_fl %>% \n",
        "    filter(FDR_atac<0.05&FDR_rna>0.05&Log2FC < -0.1) %>% pull(gene) %>% unique() \n",
        "poised_gene_down %>% length()\n",
        "# pathway enrichment for cd4na\n",
        "enrich_cd4na_posied_down <- enrichr(poised_gene_down, c('KEGG_2021_Human', 'MSigDB_Hallmark_2020'))\n",
        " "
      ],
      "outputs": [],
      "execution_count": null,
      "metadata": {},
      "id": "04e606ca-1552-488d-8a1d-00e3aecc90ec"
    },
    {
      "cell_type": "code",
      "source": [
        "enrich_cd4na_posied_down[[\"MSigDB_Hallmark_2020\"]]%>% filter(Adjusted.P.value<0.05) %>% \n",
        "    dplyr::select(-c(Old.P.value, Old.Adjusted.P.value))"
      ],
      "outputs": [],
      "execution_count": null,
      "metadata": {},
      "id": "05b82c02-9c83-43cb-bbc8-9507523c4b89"
    },
    {
      "cell_type": "code",
      "source": [
        "# gene enrichment \n",
        "ra_gene <- cd4na_degs_gene_scores_fl %>% \n",
        "    filter(FDR_rna<0.05&Log2FC>0) %>% pull(gene) %>% unique() \n",
        "ra_gene %>%length()\n",
        "# pathway enrichment for cd4na\n",
        "enrich_cd4na_up <- enrichr(ra_gene, c('KEGG_2021_Human', 'MSigDB_Hallmark_2020'))\n"
      ],
      "outputs": [],
      "execution_count": null,
      "metadata": {
        "tags": []
      },
      "id": "01d4227a-6ac1-4103-b333-ba64e20c0cac"
    },
    {
      "cell_type": "code",
      "source": [
        "enrich_cd4na_up[[\"MSigDB_Hallmark_2020\"]]%>% filter(Adjusted.P.value<0.05) %>% \n",
        "    dplyr::select(-c(Old.P.value, Old.Adjusted.P.value))"
      ],
      "outputs": [],
      "execution_count": null,
      "metadata": {},
      "id": "4771017a-370a-4ea1-bfb8-ffbd26585a44"
    },
    {
      "cell_type": "markdown",
      "source": [
        "### check gene scores and gene difference for C4 and C5"
      ],
      "metadata": {},
      "id": "92c05ca7-4465-4ed4-96ab-48cd4e4e1106"
    },
    {
      "cell_type": "code",
      "source": [
        "cd4na_atac$Clusters_0.8"
      ],
      "outputs": [],
      "execution_count": null,
      "metadata": {},
      "id": "cb056d50-6d55-40d5-91f4-1ae83f08d739"
    },
    {
      "cell_type": "code",
      "source": [
        "cd4na_atac$Clusters_0.5_anno <- if_else(cd4na_atac$Clusters_0.5 %in% c('C4', 'C5'), 'preRA_clusters', 'healthy_clusters')"
      ],
      "outputs": [],
      "execution_count": null,
      "metadata": {},
      "id": "fd14afc5-e880-4638-8ae0-c0e7ee5b0260"
    },
    {
      "cell_type": "code",
      "source": [
        "cd4na_atac$Clusters_0.5_anno %>% unique()\n",
        "cd4na_atac$Clusters_0.5_anno %>% table()"
      ],
      "outputs": [],
      "execution_count": null,
      "metadata": {},
      "id": "635e5750-8f33-486f-96ba-836395fbfc94"
    },
    {
      "cell_type": "code",
      "source": [
        "# get differential gene score between preRA vs healthy\n",
        "markersC4_C5 <- getMarkerFeatures(\n",
        "    ArchRProj = cd4na_atac, \n",
        "    useMatrix = \"GeneScoreMatrix\",\n",
        "    groupBy = \"Clusters_0.5_anno\",\n",
        "    useGroups = c('preRA_clusters'),\n",
        "  bgdGroups = c('healthy_clusters'),\n",
        "    maxCells = 5000,\n",
        "    bias = c(\"TSSEnrichment\", \"log10(nFrags)\"),\n",
        "    testMethod = \"wilcoxon\"\n",
        ")"
      ],
      "outputs": [],
      "execution_count": null,
      "metadata": {},
      "id": "63de6334-3bca-479a-b71b-17423d6e47e4"
    },
    {
      "cell_type": "code",
      "source": [
        "# get all the gene scores tested in cd4 naive\n",
        "markerList <- getMarkers(\n",
        "  seMarker = markersC4_C5,\n",
        "  cutOff = \"FDR<10\",\n",
        "  n = NULL,\n",
        "  returnGR = FALSE\n",
        ")\n"
      ],
      "outputs": [],
      "execution_count": null,
      "metadata": {},
      "id": "63046d8f-3565-43ea-88a3-8f8512380801"
    },
    {
      "cell_type": "code",
      "source": [
        "markerList$preRA_clusters"
      ],
      "outputs": [],
      "execution_count": null,
      "metadata": {},
      "id": "dd92921e-7b7f-4262-85c4-b7013e7d25bd"
    },
    {
      "cell_type": "code",
      "source": [
        "markerList$preRA_clusters %>% as_tibble() %>% ggplot(aes(x=FDR)) +geom_histogram()"
      ],
      "outputs": [],
      "execution_count": null,
      "metadata": {},
      "id": "0b9d9c8d-b92e-4f80-975f-4a7215131db7"
    },
    {
      "cell_type": "code",
      "source": [
        "# convert the gene score into tibble\n",
        "c4c5_gene_scores <- markerList$preRA_clusters %>% as_tibble()\n",
        "c4c5_gene_scores <- c4c5_gene_scores %>% \n",
        "    mutate('log10FDR'=if_else(Log2FC>0, -log10(FDR), log10(FDR))) %>%\n",
        "    dplyr::rename('gene'='name') \n",
        "c4c5_gene_scores %>% filter(FDR<0.05&Log2FC>0.1) %>% nrow()"
      ],
      "outputs": [],
      "execution_count": null,
      "metadata": {},
      "id": "67ceb399-79c4-47d8-abb0-0947a6f669ae"
    },
    {
      "cell_type": "code",
      "source": [
        "# load deg betweet C4 and C5\n",
        "c4_c5_degs <- read_csv('/home/jupyter/data/preRA_teaseq/output_results/cd4na_t/PreRA_teaseq_cd4na_tarchr_clusters_0.5C4_C5_RAvsHealthy_DEGs.csv',\n",
        "                      show_col_types = FALSE)%>% \n",
        "    mutate('log10FDR'=if_else(avg_log2FC>0, -log10(p_val_adj), log10(p_val_adj))) \n",
        "c4_c5_degs %>% head()"
      ],
      "outputs": [],
      "execution_count": null,
      "metadata": {},
      "id": "132978ac-07f6-4248-ba98-91e9d29eb694"
    },
    {
      "cell_type": "code",
      "source": [
        "# join two list\n",
        "c4_c5_degs_gene_scores <- c4_c5_degs %>%\n",
        "    full_join(c4c5_gene_scores, by='gene', suffix = c('_rna', '_atac'))%>%\n",
        "    mutate(log10FDR_rna=replace_na(log10FDR_rna, 0), log10FDR_atac=replace_na(log10FDR_atac, 0)) %>%\n",
        "    mutate(deg_gs_cat = case_when(log10FDR_rna>log10(0.05) & log10FDR_atac>log10(0.05) ~ 'SigdeggsUp'))\n",
        "# cd4na_degs_gene_scores %>% filter(is.na(FDR_atac)|is.na(FDR_rna))"
      ],
      "outputs": [],
      "execution_count": null,
      "metadata": {},
      "id": "f649e2fd-9f72-49b0-99bd-4a9b1b5207fe"
    },
    {
      "cell_type": "code",
      "source": [
        "c4_c5_degs_gene_scores %>% colnames()"
      ],
      "outputs": [],
      "execution_count": null,
      "metadata": {},
      "id": "0764f327-27f2-4db1-a873-529bdc89fa15"
    },
    {
      "cell_type": "code",
      "source": [
        "# only take the overlap genes\n",
        "c4_c5_degs_gene_scores_fl <- c4_c5_degs_gene_scores %>% \n",
        "    mutate(sig_deg=p_val_adj<0.05&abs(avg_log2FC)>0.1,\n",
        "          sig_genescores=FDR<0.05&abs(Log2FC)>0.5,\n",
        "          poised_status=case_when(sig_deg & sig_genescores ~ 'atac change & rna change',\n",
        "                                 !sig_deg & sig_genescores ~ 'atac change & rna no change',\n",
        "                                 sig_deg & !sig_genescores ~ 'atac no change & rna change',\n",
        "                                 !sig_deg & !sig_genescores ~ 'atac no change & rna no change'))  %>% \n",
        "    filter(!is.na(p_val_adj)&!is.na(FDR)) %>% filter()"
      ],
      "outputs": [],
      "execution_count": null,
      "metadata": {},
      "id": "48ffe1ea-08e7-4da0-a90b-a4a049977acb"
    },
    {
      "cell_type": "code",
      "source": [
        "c4_c5_degs_gene_scores_fl %>% \n",
        "    group_by(poised_status) %>% tally()"
      ],
      "outputs": [],
      "execution_count": null,
      "metadata": {},
      "id": "e74b5e42-b06f-4fc1-b856-96c334b450e0"
    },
    {
      "cell_type": "code",
      "source": [
        "c4_c5_degs_gene_scores_fl %>% filter(log10FDR_rna==0)"
      ],
      "outputs": [],
      "execution_count": null,
      "metadata": {
        "tags": []
      },
      "id": "fa682bd6-1491-4bf5-892f-6c15d374ab0c"
    },
    {
      "cell_type": "code",
      "source": [
        "# plot the gene scores and \n",
        "c4_c5_degs_gene_scores_fl %>% filter(poised_status!='atac no change & rna no change') %>%\n",
        "    ggplot(aes(x=avg_log2FC, y=Log2FC, label = gene, color=poised_status))+\n",
        "    geom_point() + ggrepel::geom_text_repel(box.padding = 0.5, max.overlaps = 5) +\n",
        "    labs(x='logFC DEGs', \n",
        "        y='LogFC Gene scores') + theme_bw()+ theme(legend.position = \"none\")\n",
        "ggsave(file.path(fig_path, paste0(proj_name, 'c4_c5_gene_exp_promotor_gene_score_promoters.pdf')), width = 6, height = 6)"
      ],
      "outputs": [],
      "execution_count": null,
      "metadata": {
        "tags": []
      },
      "id": "d31f5561-2e61-4f88-a8d5-67e25a6e78a2"
    },
    {
      "cell_type": "code",
      "source": [
        "# plot the gene scores and \n",
        "c4_c5_degs_gene_scores_fl %>% filter(poised_status!='atac no change & rna no change')%>% \n",
        "    ggplot(aes(x=log10FDR_rna, y=log10FDR_atac, label = gene, color=poised_status))+\n",
        "    geom_point() + \n",
        "    geom_hline(yintercept=-log10(0.05), linetype=\"dashed\", color = \"red\")+\n",
        "    geom_hline(yintercept=log10(0.05), linetype=\"dashed\", color = \"red\") +\n",
        "    geom_vline(xintercept=-log10(0.05), linetype=\"dashed\", color = \"red\") +\n",
        "    geom_vline(xintercept=log10(0.05), linetype=\"dashed\", color = \"red\") +\n",
        "    xlim(-20, 20)+\n",
        "    ggrepel::geom_text_repel(box.padding = 0.5, max.overlaps = 5) + \n",
        "    labs(x='log10(FDR) DEGs', \n",
        "        y='log10(FDR) Gene scores') + theme_bw()+ theme(legend.position = \"none\")\n",
        "ggsave(file.path(fig_path, paste0(proj_name, 'c4_c5_gene_exp_promotor_gene_score_promoters.png')), width = 12, height = 12)"
      ],
      "outputs": [],
      "execution_count": null,
      "metadata": {},
      "id": "9dd0146f-ed69-4a94-8184-f093ed48e3e9"
    },
    {
      "cell_type": "code",
      "source": [
        "# gene enrichment \n",
        "poised_gene_up <- c4_c5_degs_gene_scores_fl %>% \n",
        "    filter(FDR<0.05&p_val_adj>0.2&Log2FC>0.1) %>% pull(gene) %>% unique() \n",
        "poised_gene_up %>% length()\n",
        "# pathway enrichment for cd4na\n",
        "enrich_c4c5_posied_up <- enrichr(poised_gene_up, c('KEGG_2021_Human', 'MSigDB_Hallmark_2020'))\n"
      ],
      "outputs": [],
      "execution_count": null,
      "metadata": {},
      "id": "cef7b4f0-0df2-4458-aba8-8d00fa93047b"
    },
    {
      "cell_type": "code",
      "source": [
        "enrich_c4c5_posied_up[[\"MSigDB_Hallmark_2020\"]]%>% filter(Adjusted.P.value<0.05) %>% \n",
        "    dplyr::select(-c(Old.P.value, Old.Adjusted.P.value))"
      ],
      "outputs": [],
      "execution_count": null,
      "metadata": {
        "tags": []
      },
      "id": "9269fb96-aa53-48cc-b102-fffa1ce0e3a1"
    },
    {
      "cell_type": "code",
      "source": [],
      "outputs": [],
      "execution_count": null,
      "metadata": {},
      "id": "9745d5a2-a786-43d7-94c2-ce80bee0a2d7"
    },
    {
      "cell_type": "code",
      "source": [],
      "outputs": [],
      "execution_count": null,
      "metadata": {},
      "id": "6a974171-0aff-41f7-bb81-a1e9bb70b302"
    },
    {
      "cell_type": "markdown",
      "source": [
        "## call peaks in MOCHA and run differential"
      ],
      "metadata": {
        "tags": []
      },
      "id": "e2ca2a1c-e510-4f4a-9d2f-c986a1543b83"
    },
    {
      "cell_type": "code",
      "source": [
        "getCellColData(cd4na_atac) %>% as_tibble() %>% \n",
        "    group_by( subject_id) %>% tally()"
      ],
      "outputs": [],
      "execution_count": null,
      "metadata": {},
      "id": "9c65b393-e2a3-471d-af01-07ece5dc6294"
    },
    {
      "cell_type": "code",
      "source": [
        "getCellColData(cd4na_atac) %>% colnames()"
      ],
      "outputs": [],
      "execution_count": null,
      "metadata": {},
      "id": "12b3dd0c-6c56-49b7-9e20-ec274a3527ed"
    },
    {
      "cell_type": "code",
      "source": [
        "cd4na_atac$cd4t_annotation = 'CD4 Naive'"
      ],
      "outputs": [],
      "execution_count": null,
      "metadata": {},
      "id": "93d5adb2-02cd-4934-858d-18e3769bfcdd"
    },
    {
      "cell_type": "code",
      "source": [
        "getCellColData(cd4na_atac) %>% colnames()"
      ],
      "outputs": [],
      "execution_count": null,
      "metadata": {},
      "id": "18d732a9-2bd0-4567-bf2e-d2d599b9f2c6"
    },
    {
      "cell_type": "code",
      "source": [
        "# # set up the parameters to call peaks \n",
        "# # Parameters for calling open tiles\n",
        "# cellPopulations <- cd4na_atac$Clusters_0.5 %>% unique()\n",
        "# cellPopLabel <- \"Clusters_0.5\"\n",
        "# numCores=60\n"
      ],
      "outputs": [],
      "execution_count": null,
      "metadata": {},
      "id": "fcb47654-c9fa-487b-b08f-e946a2d01a56"
    },
    {
      "cell_type": "code",
      "source": [
        "cd4na_atac$clean_l2_cell_types='cd4_naive'"
      ],
      "outputs": [],
      "execution_count": null,
      "metadata": {},
      "id": "e40ddecb-2335-4e3c-84cc-fb52311eb532"
    },
    {
      "cell_type": "code",
      "source": [
        "# # call peaks in total CD4 naive cells\n",
        "cellPopulations <- cd4na_atac$clean_l2_cell_types %>% unique()\n",
        "cellPopLabel <- \"clean_l2_cell_types\"\n",
        "numCores=55\n",
        "groupColumn <- \"cohort\" \n",
        "join <- \"union\""
      ],
      "outputs": [],
      "execution_count": null,
      "metadata": {},
      "id": "d17137d9-5bac-4ba3-83f8-d8d9a8797ddd"
    },
    {
      "cell_type": "code",
      "source": [
        "cd4na_atac$clean_l2_cell_types %>% unique()"
      ],
      "outputs": [],
      "execution_count": null,
      "metadata": {},
      "id": "22fb71c9-2765-4a36-9901-ed50fdb9914f"
    },
    {
      "cell_type": "code",
      "source": [
        "# getting studySignal from the archr project that has all the cells\n",
        "\n",
        "# load archR data\n",
        "ra_atac <- loadArchRProject(path = \"/home/jupyter/data/preRA_teaseq/EXP-00243/atac_arrows\")\n",
        "studySignal = median(ra_atac@cellColData$nFrags)\n",
        "studySignal"
      ],
      "outputs": [],
      "execution_count": null,
      "metadata": {
        "tags": []
      },
      "id": "35caa7b9-f3e1-4b31-af5e-aa611f3e103c"
    },
    {
      "cell_type": "code",
      "source": [
        "getCellColData(cd4na_atac) %>% colnames() %>% sort()"
      ],
      "outputs": [],
      "execution_count": null,
      "metadata": {},
      "id": "9453139f-26c7-40c0-b794-a5c7c208ac55"
    },
    {
      "cell_type": "code",
      "source": [
        "packageVersion('MOCHA')"
      ],
      "outputs": [],
      "execution_count": null,
      "metadata": {},
      "id": "f16d95f3-81be-414e-8af4-e5879e025ab8"
    },
    {
      "cell_type": "code",
      "source": [
        "####################################################\n",
        "# 2. Call open tiles (main peak calling step)\n",
        "#    Done once for all specified cell populations\n",
        "####################################################\n",
        "cd4na_tileResults <- MOCHA::callOpenTiles(\n",
        "    cd4na_atac,  \n",
        "   studySignal = studySignal,\n",
        "    cellPopLabel = 'clean_l2_cell_types',\n",
        "    cellPopulations = 'cd4_naive',\n",
        "    numCores = numCores, \n",
        "    outDir = '/home/jupyter/data/preRA_teaseq/EXP-00243/cd4tna_cells/MOCHA',\n",
        "    TxDb = 'TxDb.Hsapiens.UCSC.hg38.refGene', \n",
        "    OrgDb = 'org.Hs.eg.db'\n",
        ")\n"
      ],
      "outputs": [],
      "execution_count": null,
      "metadata": {
        "tags": []
      },
      "id": "9ce229b6-77dd-41e9-b1e0-4d5c227341f1"
    },
    {
      "cell_type": "code",
      "source": [
        "# load the tile matrix from scmacs\n",
        "cd4na_tileResults %>% saveRDS(file.path(output_path, \n",
        "                                  paste0(proj_name, '_MOCHA_atac_total_cd4na_tiles_matrix.rds')))"
      ],
      "outputs": [],
      "execution_count": null,
      "metadata": {},
      "id": "1ac7d1a3-1649-4dd9-81ea-b8c4a3edaf46"
    },
    {
      "cell_type": "code",
      "source": [
        "# # save thetile matrix from scmacs\n",
        "# cd4na_tileResults %>% saveRDS(file.path(data_path, \n",
        "#                                   paste0(proj_name, '_MOCHA_atac_total_cd4na_tiles_matrix.rds')))"
      ],
      "outputs": [],
      "execution_count": null,
      "metadata": {},
      "id": "8a253a95-068c-4f8b-a530-078f93343f22"
    },
    {
      "cell_type": "code",
      "source": [
        "# Parameters for downstream analysis\n",
        "# cellPopulation <- \"cd4_naive\"\n",
        "threshold <- 0.2\n",
        "groupColumn <- \"cohort\"\n",
        "join <- \"union\""
      ],
      "outputs": [],
      "execution_count": null,
      "metadata": {},
      "id": "2e7d990c-9f79-4490-831e-ae89abb401a4"
    },
    {
      "cell_type": "code",
      "source": [
        "####################################################\n",
        "# 3. Get reproducible sample-peak matrix\n",
        "#    Done for each cell population individually\n",
        "####################################################\n",
        "\n",
        "# Parameters for downstream analysis\n",
        "# cellPopulation <- \"cd4_naive\"\n",
        "threshold <- 0.2\n",
        "groupColumn <- \"cohort\"\n",
        "join <- \"union\"\n",
        "\n",
        "SampleTileMatrices <- MOCHA::getSampleTileMatrix( \n",
        "    cd4na_tileResults,\n",
        "    cellPopulations = cellPopulations,\n",
        "    groupColumn = groupColumn,\n",
        "    threshold = threshold\n",
        ")\n"
      ],
      "outputs": [],
      "execution_count": null,
      "metadata": {},
      "id": "ae16534d-8fb4-4e1f-a24c-1f00bb20066b"
    },
    {
      "cell_type": "code",
      "source": [
        "SampleTileMatrices"
      ],
      "outputs": [],
      "execution_count": null,
      "metadata": {},
      "id": "e44ef378-ce97-4ac4-b1ec-0941bb7d917f"
    },
    {
      "cell_type": "code",
      "source": [
        "####################################################\n",
        "# 4. Add gene annotations to our SampleTileMatrices,\n",
        "#    labelling tiles as either a promoter, exonic,\n",
        "#    intronic, or distal region. Gene names are \n",
        "#    given for all but distal. This info will aid \n",
        "#    further downstream analyses but is not required \n",
        "#    for differential accessibility.\n",
        "#    This function can also take any GRanges object\n",
        "#    and add annotations to its metadata.\n",
        "####################################################\n",
        "SampleTileMatricesAnnotated <- MOCHA::annotateTiles( \n",
        "  SampleTileMatrices\n",
        ")"
      ],
      "outputs": [],
      "execution_count": null,
      "metadata": {
        "tags": []
      },
      "id": "31987105-1aa8-4a01-910d-4846540bdc83"
    },
    {
      "cell_type": "code",
      "source": [
        "# metadata(SampleTileMatricesAnnotated)"
      ],
      "outputs": [],
      "execution_count": null,
      "metadata": {},
      "id": "640719ee-fb23-4993-af44-04251a3710df"
    },
    {
      "cell_type": "code",
      "source": [
        "# SampleTileMatricesAnnotated <- scMACS::annotateTiles( \n",
        "#   SampleTileMatricesAnnotated\n",
        "# )"
      ],
      "outputs": [],
      "execution_count": null,
      "metadata": {},
      "id": "fdd35d3f-0205-42c6-a126-be687bf5c27b"
    },
    {
      "cell_type": "code",
      "source": [
        "# Load a curated motif set from library(chromVARmotifs) \n",
        "# included with ArchR installation\n",
        "library(chromVARmotifs)\n",
        "# library(TFBSTools)\n",
        "# data(\"human_pwms_v2\")\n",
        "data('human_pwms_v2')\n",
        "SampleTileMatricesAnnotated <- MOCHA::addMotifSet(motifPWMs = human_pwms_v2,\n",
        "  SampleTileMatricesAnnotated, \n",
        "  # pwms = human_pwms_v2,  \n",
        "  w = 7 # width parameter for motifmatchr::matchMotifs()\n",
        ")"
      ],
      "outputs": [],
      "execution_count": null,
      "metadata": {},
      "id": "1f4fab3d-df76-47f3-9fad-65bca35f11a5"
    },
    {
      "cell_type": "code",
      "source": [
        "SampleTileMatricesAnnotated"
      ],
      "outputs": [],
      "execution_count": null,
      "metadata": {},
      "id": "059dea03-8b80-435f-ab31-c4527a31d613"
    },
    {
      "cell_type": "code",
      "source": [
        "metadata(SampleTileMatricesAnnotated)$Motifs$TFAP2B$score %>% hist()"
      ],
      "outputs": [],
      "execution_count": null,
      "metadata": {},
      "id": "deb9a976-4d8a-416e-91d7-51c7d1e93aef"
    },
    {
      "cell_type": "code",
      "source": [
        "SampleTileMatricesAnnotated %>% saveRDS(file.path(output_path, \n",
        "                                  paste0(proj_name, '_MOCHA_total_cd4na_SampleTileMatrices.rds')))"
      ],
      "outputs": [],
      "execution_count": null,
      "metadata": {},
      "id": "02d1cc09-9f89-485a-824b-2b54b41d8fec"
    },
    {
      "cell_type": "code",
      "source": [
        "# # # load the sample tile matrix\n",
        "# SampleTileMatrices <- readRDS(file.path(data_path, \n",
        "#                                   paste0(proj_name, '_scMACS_atac_Clusters_0.5_sampleTileMatrixs.rds')))"
      ],
      "outputs": [],
      "execution_count": null,
      "metadata": {},
      "id": "0190e2e3-4332-4b7a-8af8-c72d7e0d25d5"
    },
    {
      "cell_type": "code",
      "source": [
        "# load the sample tile matrix\n",
        "SampleTileMatricesAnnotated <- readRDS(file.path(output_path,\n",
        "                                        paste0(proj_name, '_MOCHA_total_cd4na_SampleTileMatrices.rds')))"
      ],
      "outputs": [],
      "execution_count": null,
      "metadata": {},
      "id": "ad4735f6-c65c-4458-817d-fda0a0ca34dd"
    },
    {
      "cell_type": "code",
      "source": [
        "SampleTileMatricesAnnotated"
      ],
      "outputs": [],
      "execution_count": null,
      "metadata": {},
      "id": "f54f8b2f-9de8-46d9-8d79-7f17639a5435"
    },
    {
      "cell_type": "markdown",
      "source": [
        "### import peaks called by mocha into archr"
      ],
      "metadata": {},
      "id": "02f96ba6-6a5e-4f6b-808c-9dcdb3e0f6de"
    },
    {
      "cell_type": "code",
      "source": [
        "# make a grange object from the the union of the peaks called\n",
        "granges_mocha <- SampleTileMatricesAnnotated %>% rownames() %>% unique() %>% \n",
        "    StringsToGRanges()\n",
        "granges_mocha"
      ],
      "outputs": [],
      "execution_count": null,
      "metadata": {},
      "id": "13c077ea-fdee-44ba-955f-66354cdad71c"
    },
    {
      "cell_type": "code",
      "source": [
        "rowData(SampleTileMatricesAnnotated)$cd4_naive %>% unique()"
      ],
      "outputs": [],
      "execution_count": null,
      "metadata": {},
      "id": "bc31b12c-d8b2-40e3-9f57-2727bbb3da85"
    },
    {
      "cell_type": "code",
      "source": [
        "## Create new feature matrix for mocha call peaks\n",
        "cd4na_atac <- addFeatureMatrix(cd4na_atac, matrixName = \"MochaPeakMatrix\",\n",
        "                               features = granges_mocha, binarize = FALSE)"
      ],
      "outputs": [],
      "execution_count": null,
      "metadata": {},
      "id": "0b15ea22-bbfb-49a9-b466-34820ac5db1a"
    },
    {
      "cell_type": "code",
      "source": [
        "## Create new feature matrix for mocha call peaks\n",
        "cd4na_atac <- addPeakSet(cd4na_atac, peakSet = granges_mocha, force = TRUE)"
      ],
      "outputs": [],
      "execution_count": null,
      "metadata": {},
      "id": "a06973bb-4c98-4267-bd6f-3582eaa6d1e2"
    },
    {
      "cell_type": "code",
      "source": [
        "## Create new feature matrix for mocha call peaks\n",
        "cd4na_atac <- addPeakMatrix(\n",
        "  ArchRProj = cd4na_atac,\n",
        "  ceiling = 4,\n",
        "  binarize = FALSE,\n",
        "  verbose = TRUE,\n",
        "  threads = getArchRThreads(),\n",
        "  parallelParam = NULL,\n",
        "  force = TRUE,\n",
        "  logFile = createLogFile(\"addPeakMatrix\")\n",
        ")\n"
      ],
      "outputs": [],
      "execution_count": null,
      "metadata": {},
      "id": "ad1b79ee-9be7-40e2-9527-e51f3798af92"
    },
    {
      "cell_type": "code",
      "source": [
        "cd4na_atac <- addMotifAnnotations(ArchRProj = cd4na_atac, motifSet = \"cisbp\", name = \"Motif\",\n",
        "                                 force = TRUE)"
      ],
      "outputs": [],
      "execution_count": null,
      "metadata": {},
      "id": "383ab722-a12a-4e23-8660-258bea850d00"
    },
    {
      "cell_type": "code",
      "source": [
        "cd4na_atac <- addBgdPeaks(cd4na_atac, force = TRUE)"
      ],
      "outputs": [],
      "execution_count": null,
      "metadata": {},
      "id": "d200b90c-8d80-4984-9f8d-c5fbcbd563f2"
    },
    {
      "cell_type": "code",
      "source": [
        "cd4na_atac <- addDeviationsMatrix(\n",
        "    matrixName = 'ChromvarMatrix',\n",
        "  ArchRProj = cd4na_atac, \n",
        "  peakAnnotation = \"Motif\",\n",
        "  force = TRUE\n",
        ")"
      ],
      "outputs": [],
      "execution_count": null,
      "metadata": {},
      "id": "87c43656-b7fe-4994-8550-07e72ce2b1df"
    },
    {
      "cell_type": "code",
      "source": [
        "getAvailableMatrices(cd4na_atac)"
      ],
      "outputs": [],
      "execution_count": null,
      "metadata": {},
      "id": "8aa94ea5-360e-4fd4-bb6a-1fe2c4a23153"
    },
    {
      "cell_type": "code",
      "source": [
        "plotVarDev <- getVarDeviations(cd4na_atac, name = \"ChromvarMatrix\", plot = TRUE)\n",
        "plotVarDev"
      ],
      "outputs": [],
      "execution_count": null,
      "metadata": {},
      "id": "f7525ec0-a96c-4568-9b08-b74337cc902f"
    },
    {
      "cell_type": "code",
      "source": [
        "markerTFs <- getFeatures(cd4na_atac, select = paste(tfs, collapse=\"|\"), useMatrix = \"MotifMatrix\")\n",
        "markerTFs <- sort(grep(\"z:\", markerTFs, value = TRUE))\n",
        "TFnames <- stringr::str_split(stringr::str_split(markerTFs, \n",
        "                                                 pattern = \"\\\\.\", simplify=TRUE)[,2],\n",
        "                              pattern = \"-\", simplify = TRUE)[,1]\n",
        "markerTFs <- markerTFs[!duplicated(TFnames)]\n",
        "markerTFs"
      ],
      "outputs": [],
      "execution_count": null,
      "metadata": {},
      "id": "52cf383e-9213-4b3d-bf5d-2d8e53619348"
    },
    {
      "cell_type": "code",
      "source": [
        "saveArchRProject(ArchRProj = cd4na_atac)"
      ],
      "outputs": [],
      "execution_count": null,
      "metadata": {},
      "id": "6d9c4deb-62b0-4a52-9a83-61f30d63f3b0"
    },
    {
      "cell_type": "code",
      "source": [
        "getAvailableMatrices(cd4na_atac)\n",
        "table(cd4na_atac$Clusters_0.5)\n",
        "table(cd4na_atac$Clusters_0.5_anno)"
      ],
      "outputs": [],
      "execution_count": null,
      "metadata": {},
      "id": "3d45eed8-2044-47a1-a17a-a3966bf4b4e3"
    },
    {
      "cell_type": "code",
      "source": [
        "# get differential gene score between preRA vs healthy\n",
        "markersC4_C5 <- getMarkerFeatures(\n",
        "    ArchRProj = cd4na_atac, \n",
        "    useMatrix = \"PeakMatrix\", \n",
        "    groupBy = \"Clusters_0.5_anno\",\n",
        "    useGroups = c('preRA_clusters'),\n",
        "  bgdGroups = c('healthy_clusters'),\n",
        "    maxCells = 5000,\n",
        "    bias = c(\"TSSEnrichment\", \"log10(nFrags)\"),\n",
        "    testMethod = \"wilcoxon\"\n",
        ")"
      ],
      "outputs": [],
      "execution_count": null,
      "metadata": {},
      "id": "b1234765-41bf-4691-92e3-e4462f6b73a5"
    },
    {
      "cell_type": "code",
      "source": [
        "metadata(markersC4_C5)$Params$useMatrix <- 'PeakMatrix'"
      ],
      "outputs": [],
      "execution_count": null,
      "metadata": {},
      "id": "fb6495fe-d126-4377-880d-8561cb28c76f"
    },
    {
      "cell_type": "code",
      "source": [
        "pma <- plotMarkers(seMarker = markersC4_C5, name = \"preRA_clusters\",\n",
        "                   cutOff = \"FDR <= 0.05 & abs(Log2FC) >= 0.5\", plotAs = \"MA\")\n",
        "pma\n",
        "plotPDF(pma, name = paste0(proj_name, '_c4c5_vs_rest_DAPs_MAplot.pdf'), ArchRProj = cd4na_atac,\n",
        "        addDOC = FALSE, width = 4, height = 4)"
      ],
      "outputs": [],
      "execution_count": null,
      "metadata": {},
      "id": "c6d20aa7-bc99-466c-a4fe-0fe99fa25206"
    },
    {
      "cell_type": "code",
      "source": [
        "pma\n",
        "plotPDF(pma, name = paste0(proj_name, '_c4c5_vs_rest_DAPs_MAplot.pdf'), ArchRProj = cd4na_atac,\n",
        "        addDOC = FALSE, width = 4, height = 4)"
      ],
      "outputs": [],
      "execution_count": null,
      "metadata": {},
      "id": "cc8854a7-a8d5-41cc-827e-2eca8bf422d1"
    },
    {
      "cell_type": "code",
      "source": [
        "markerList <- getMarkers(markersC4_C5, cutOff = \"FDR <= 0.05 & abs(Log2FC) >= 0.5\", returnGR = TRUE)\n"
      ],
      "outputs": [],
      "execution_count": null,
      "metadata": {},
      "id": "0eeab16c-8732-4bf3-8511-021a9a716174"
    },
    {
      "cell_type": "code",
      "source": [
        "markerList"
      ],
      "outputs": [],
      "execution_count": null,
      "metadata": {},
      "id": "0a9a6aae-35c3-4783-86c2-02f55b078156"
    },
    {
      "cell_type": "code",
      "source": [
        "pv <- plotMarkers(seMarker = markersC4_C5, name = \"preRA_clusters\",\n",
        "                 cutOff = \"FDR <= 0.1 & abs(Log2FC) >= 1\", plotAs = \"Volcano\")\n",
        "pv"
      ],
      "outputs": [],
      "execution_count": null,
      "metadata": {},
      "id": "d89473d1-f6a5-4ad0-9b54-81e4d84da148"
    },
    {
      "cell_type": "code",
      "source": [
        "motifsUp <- peakAnnoEnrichment(\n",
        "    seMarker = markersC4_C5,\n",
        "    ArchRProj = cd4na_atac,\n",
        "    peakAnnotation = \"Motif\",\n",
        "    cutOff = \"FDR <= 0.1 & Log2FC >= 0.5\"\n",
        "  )"
      ],
      "outputs": [],
      "execution_count": null,
      "metadata": {},
      "id": "80eb0ba9-37ee-481c-90b3-8f9394aa1f7d"
    },
    {
      "cell_type": "code",
      "source": [
        "df <- data.frame(TF = rownames(motifsUp), mlog10Padj = assay(motifsUp)[,1])\n",
        "df <- df[order(df$mlog10Padj, decreasing = TRUE),]\n",
        "df$rank <- seq_len(nrow(df))\n",
        "ggUp <- ggplot(df, aes(rank, mlog10Padj, color = mlog10Padj)) + \n",
        "  geom_point(size = 1) +\n",
        "  ggrepel::geom_label_repel(\n",
        "        data = df[rev(seq_len(30)), ], aes(x = rank, y = mlog10Padj, label = TF), \n",
        "        size = 5,\n",
        "        nudge_x = 2,\n",
        "        color = \"black\"\n",
        "  ) + theme_ArchR() + \n",
        "  ylab(\"-log10(P-adj) Motif Enrichment\") + \n",
        "  xlab(\"Rank Sorted TFs Enriched\") +\n",
        "  scale_color_gradientn(colors = paletteContinuous(set = \"comet\"))\n",
        "\n",
        "ggUp"
      ],
      "outputs": [],
      "execution_count": null,
      "metadata": {},
      "id": "6956c4ae-2a0d-4bd0-9487-299079fdc449"
    },
    {
      "cell_type": "code",
      "source": [
        "# subset the peaks with in the promoter enhancer database\n",
        "subsetByOverlaps(prom_enh_cd4na_enh, markerList$preRA_clusters) %>% as_tibble() %>% pull(Gene) %>% sort()\n"
      ],
      "outputs": [],
      "execution_count": null,
      "metadata": {},
      "id": "c58ad969-0523-4009-b305-a231bb44a3d0"
    },
    {
      "cell_type": "code",
      "source": [
        "subsetByOverlaps(prom_enh_cd4na_enh, markerList$preRA_clusters) %>% as_tibble() %>% pull(Gene) %>% str_subset('C')"
      ],
      "outputs": [],
      "execution_count": null,
      "metadata": {},
      "id": "631f29ae-2267-491f-b4b1-9079a5eaa36f"
    },
    {
      "cell_type": "code",
      "source": [
        "il6r_granges\n",
        "cd4na_diff_sig_il <- subsetByOverlaps(cd4na_diff_sig, il6r_granges)\n",
        "cd4na_diff_sig_il"
      ],
      "outputs": [],
      "execution_count": null,
      "metadata": {},
      "id": "450ef697-684d-450d-90bb-d5ceee19f845"
    },
    {
      "cell_type": "code",
      "source": [
        "getAvailableMatrices(cd4na_atac)"
      ],
      "outputs": [],
      "execution_count": null,
      "metadata": {},
      "id": "35b8adca-1ce6-4102-88de-b91e29653a79"
    },
    {
      "cell_type": "code",
      "source": [
        "p <- plotBrowserTrack(\n",
        "    ArchRProj = cd4na_atac, \n",
        "    groupBy = \"Clusters_0.5\", \n",
        "    geneSymbol = c(\"IL6R\", 'IL4R', 'IL13RA1' , 'IL21R','IL21', 'IFNAR1'),\n",
        "    features =  markerList$preRA_clusters,\n",
        "    useMatrix='GeneScoreMatrix',\n",
        "     tileSize = 500,\n",
        "  #minCells = 500,\n",
        "    upstream = 50000,\n",
        "    downstream = 50000\n",
        ")"
      ],
      "outputs": [],
      "execution_count": null,
      "metadata": {},
      "id": "a749c173-058b-4acd-80cb-33009a381e17"
    },
    {
      "cell_type": "code",
      "source": [
        "# marker_genes <- rowData(cd4t_atac_gene_cores)$name %>% str_subset('GATA3|RORC|FOXP3|TBX21|IKZF2|STAT3')\n",
        "marker_genes <- c('IL21')\n",
        "marker_genes\n",
        "p2 <-  plotEmbedding(\n",
        "    ArchRProj = cd4na_atac, \n",
        "    colorBy = \"GeneScoreMatrix\", \n",
        "    name = marker_genes, \n",
        "    embedding = \"UMAP\",\n",
        "    imputeWeights = getImputeWeights(cd4na_atac)\n",
        ")\n",
        "p2\n",
        "p3 <-  plotEmbedding(\n",
        "    ArchRProj = cd4na_atac, \n",
        "    colorBy = \"GeneExpressionMatrix\", \n",
        "    name = marker_genes, \n",
        "    embedding = \"UMAP\",\n",
        "    imputeWeights = NULL\n",
        ")\n",
        "p3\n",
        "plotPDF(p2, p3, name = paste0(proj_name, '_il21_expression_promoter.pdf'), ArchRProj = cd4na_atac,\n",
        "        addDOC = FALSE, width = 4, height = 4)"
      ],
      "outputs": [],
      "execution_count": null,
      "metadata": {},
      "id": "1d316d07-0e18-426a-b098-32f3010e91b1"
    },
    {
      "cell_type": "code",
      "source": [
        "getAvailableMatrices(cd4na_atac)\n"
      ],
      "outputs": [],
      "execution_count": null,
      "metadata": {},
      "id": "6e61147f-768d-4475-bbca-a8283cbb46e1"
    },
    {
      "cell_type": "code",
      "source": [
        "# plot the motif of interests from moda\n",
        "motifs <- c('RORC', 'TBX21', 'IKZF2', 'STAT3',\n",
        "            'STAT5A','STAT5B', 'BCL6', 'JUND', 'NFATC3',\n",
        "           'NR3C1', 'NFAT5')\n",
        "#motifs <-plotVarDev %>% as_tibble() %>% distinct(name) %>% pull(name)\n",
        "markerMotifs <- getFeatures(cd4na_atac, select = paste(motifs, collapse=\"|\"), useMatrix = \"MotifMatrix\")\n",
        "markerMotifs <- grep(\"z:\", markerMotifs, value = TRUE)\n",
        "markerMotifs\n",
        "# marker_genes <- rowData(cd4t_atac_gene_cores)$name %>% str_subset('GATA3|RORC|FOXP3|TBX21|IKZF2|STAT3')\n",
        "p2 <-  plotEmbedding(\n",
        "    ArchRProj = cd4na_atac, \n",
        "    colorBy = \"ChromvarMatrix\", \n",
        "    name = markerMotifs, \n",
        "    embedding = \"UMAP\",\n",
        "    imputeWeights = getImputeWeights(cd4na_atac)\n",
        ")\n",
        "p2\n",
        "p2 <-  plotEmbedding(\n",
        "    ArchRProj = cd4na_atac, \n",
        "    colorBy = \"GeneScoreMatrix\", \n",
        "    name = motifs, \n",
        "    embedding = \"UMAP\",\n",
        "    imputeWeights = getImputeWeights(cd4na_atac)\n",
        ")\n",
        "p2\n",
        "p3 <-  plotEmbedding(\n",
        "    ArchRProj = cd4na_atac, \n",
        "    colorBy = \"GeneExpressionMatrix\", \n",
        "    name = motifs, \n",
        "    embedding = \"UMAP\",\n",
        "    imputeWeights =  getImputeWeights(cd4na_atac)\n",
        ")\n",
        "p3\n",
        "plotPDF(p1, p2, p3, name = paste0(proj_name, '_tfs_umap.pdf'), ArchRProj = cd4na_atac,\n",
        "        addDOC = FALSE, width = 4, height = 4)"
      ],
      "outputs": [],
      "execution_count": null,
      "metadata": {
        "tags": []
      },
      "id": "fd63a308-a610-4981-8e0f-4e325e5cef03"
    },
    {
      "cell_type": "code",
      "source": [
        "p2 <-  plotEmbedding(\n",
        "    ArchRProj = cd4na_atac, \n",
        "    colorBy = \"ChromvarMatrix\", \n",
        "    name = markerMotifs, \n",
        "    embedding = \"UMAP\",\n",
        "    imputeWeights = getImputeWeights(cd4na_atac)\n",
        ")"
      ],
      "outputs": [],
      "execution_count": null,
      "metadata": {},
      "id": "d887ee01-34f9-4784-b2ff-107d530a4a2b"
    },
    {
      "cell_type": "code",
      "source": [
        "# marker_genes <- rowData(cd4t_atac_gene_cores)$name %>% str_subset('GATA3|RORC|FOXP3|TBX21|IKZF2|STAT3')\n",
        "marker_genes <- c('IFNAR1')\n",
        "marker_genes\n",
        "p2 <-  plotEmbedding(\n",
        "    ArchRProj = cd4na_atac, \n",
        "    colorBy = \"GeneScoreMatrix\", \n",
        "    name = marker_genes, \n",
        "    embedding = \"UMAP\",\n",
        "    imputeWeights = getImputeWeights(cd4na_atac)\n",
        ")\n",
        "p2\n",
        "p3 <-  plotEmbedding(\n",
        "    ArchRProj = cd4na_atac, \n",
        "    colorBy = \"GeneExpressionMatrix\", \n",
        "    name = marker_genes, \n",
        "    embedding = \"UMAP\",\n",
        "    imputeWeights = NULL\n",
        ")\n",
        "p3\n"
      ],
      "outputs": [],
      "execution_count": null,
      "metadata": {},
      "id": "348a6442-73c4-48a8-87bd-45231d456a91"
    },
    {
      "cell_type": "code",
      "source": [
        "grid::grid.newpage()\n",
        "grid::grid.draw(p$`IFNAR1`)"
      ],
      "outputs": [],
      "execution_count": null,
      "metadata": {},
      "id": "ef6ce6d7-a451-4cdb-b78c-eaadfa46e086"
    },
    {
      "cell_type": "code",
      "source": [
        "grid::grid.newpage()\n",
        "grid::grid.draw(p$`IL21`)"
      ],
      "outputs": [],
      "execution_count": null,
      "metadata": {},
      "id": "6e3c05fa-f429-445c-b47d-522a86c2cdf7"
    },
    {
      "cell_type": "code",
      "source": [
        "grid::grid.newpage()\n",
        "grid::grid.draw(p$IL6R)\n"
      ],
      "outputs": [],
      "execution_count": null,
      "metadata": {},
      "id": "8b7e0d8f-d4e3-417e-84d5-4eb1a0f60d5a"
    },
    {
      "cell_type": "code",
      "source": [
        "grid::grid.newpage()\n",
        "grid::grid.draw(p$IL4R)"
      ],
      "outputs": [],
      "execution_count": null,
      "metadata": {},
      "id": "eeecfff0-4876-4416-8623-c41d12a3570f"
    },
    {
      "cell_type": "code",
      "source": [
        "grid::grid.newpage()\n",
        "grid::grid.draw(p$IL13RA1)"
      ],
      "outputs": [],
      "execution_count": null,
      "metadata": {},
      "id": "14b70ee9-6824-4589-9ddc-780cf7dba6ec"
    },
    {
      "cell_type": "markdown",
      "source": [
        "## run dap analysis in cd4 naive"
      ],
      "metadata": {},
      "id": "f98094bf-511c-4de4-98cc-004658bbea7f"
    },
    {
      "cell_type": "code",
      "source": [
        "cd4na_Matrix <- MOCHA::getCellPopMatrix(SampleTileMatricesAnnotated, \"cd4_naive\")\n",
        "cd4na_Matrix[1:5, 1:5]"
      ],
      "outputs": [],
      "execution_count": null,
      "metadata": {
        "tags": []
      },
      "id": "ae94fde7-4115-4230-ab97-734e343ccb53"
    },
    {
      "cell_type": "code",
      "source": [
        "# check the signal distribution in all the cell types\n",
        "# extract all the tile matrix for all population\n",
        "tile_dt <- lapply(cellPopulations, function(x){\n",
        "    tile_mx <- getCellPopMatrix(SampleTileMatricesAnnotated, x) %>% as.data.table(keep.rownames = 'tiles') %>% \n",
        "        pivot_longer(cols = -tiles,names_to = 'Sample', \n",
        "                     values_to = 'Normalized_counts') %>% \n",
        "    mutate(cell_type=x) %>%\n",
        "        as.data.table()\n",
        "    meta_data <- colData(SampleTileMatricesAnnotated) %>% as_tibble() %>% \n",
        "    dplyr::select(subject_id, cohort, Sex, Sample)\n",
        "    tile_mx <-tile_mx %>% left_join(meta_data, by='Sample')%>%\n",
        "        as.data.table()\n",
        "}) %>% rbindlist()"
      ],
      "outputs": [],
      "execution_count": null,
      "metadata": {
        "tags": []
      },
      "id": "3385ac2b-b999-40e9-9f05-4341ac5bb919"
    },
    {
      "cell_type": "code",
      "source": [
        "tile_dt %>% head()"
      ],
      "outputs": [],
      "execution_count": null,
      "metadata": {
        "tags": []
      },
      "id": "8eaf8f09-6341-49fe-a602-4d417d3c432c"
    },
    {
      "cell_type": "code",
      "source": [
        "p1 <- tile_dt %>% ggplot()+ \n",
        "    geom_histogram(aes(x=Normalized_counts, fill=cohort), \n",
        "                   position = 'identity', alpha=0.6)+\n",
        "    facet_wrap(vars(cell_type))+\n",
        "    scale_fill_manual(values=c(\"#69b3a2\", \"#404080\")) \n",
        "p1\n",
        "ggsave(file.path(fig_path, paste0(proj_name, \n",
        "                                  '_mocha_peaks_cell_type_histogram.pdf')), width = 12, height = 8)"
      ],
      "outputs": [],
      "execution_count": null,
      "metadata": {},
      "id": "732cf5d8-c787-4c06-811d-df8fe763411b"
    },
    {
      "cell_type": "code",
      "source": [
        "cd4na_Matrix[1:10,]\n",
        "summary(cd4na_Matrix)"
      ],
      "outputs": [],
      "execution_count": null,
      "metadata": {},
      "id": "4507f6b0-941a-4a2e-a16f-115864dd7df9"
    },
    {
      "cell_type": "code",
      "source": [
        "cd4na_Matrix[1:5, 1:5]"
      ],
      "outputs": [],
      "execution_count": null,
      "metadata": {
        "tags": []
      },
      "id": "2a6081a9-19c1-4a10-af76-fdea40314731"
    },
    {
      "cell_type": "code",
      "source": [
        "SampleTileMatricesAnnotated\n",
        "rowData(SampleTileMatricesAnnotated) %>% as_tibble() %>% group_by(tileType) %>% tally()"
      ],
      "outputs": [],
      "execution_count": null,
      "metadata": {},
      "id": "5b1da3a8-d35f-433e-b628-4adb5d1c23de"
    },
    {
      "cell_type": "code",
      "source": [
        "rowData(SampleTileMatricesAnnotated)$cd4_naive %>% unique()"
      ],
      "outputs": [],
      "execution_count": null,
      "metadata": {},
      "id": "17a0e330-0c27-4072-8506-da0593774a02"
    },
    {
      "cell_type": "code",
      "source": [
        "Log2Intensity <- SampleTileMatricesAnnotated@metadata$Log2Intensity\n",
        "Log2Intensity"
      ],
      "outputs": [],
      "execution_count": null,
      "metadata": {},
      "id": "ba197d41-47d0-441b-9676-eba7151695ef"
    },
    {
      "cell_type": "code",
      "source": [
        "cd4na_intra <- log2(getCellPopMatrix(SampleTileObj = SampleTileMatricesAnnotated[rowRanges(SampleTileMatricesAnnotated)$tileType == \n",
        "                                                 'Intragenic',], \n",
        "                                    cellPopulation = 'cd4_naive') + 1)\n",
        "cd4na_prom <- log2(getCellPopMatrix(SampleTileObj = SampleTileMatricesAnnotated[rowRanges(SampleTileMatricesAnnotated)$tileType == \n",
        "                                                 'Promoter',], \n",
        "                                    cellPopulation = 'cd4_naive') + 1)\n",
        "cd4na_dis <- log2(getCellPopMatrix(SampleTileObj = SampleTileMatricesAnnotated[rowRanges(SampleTileMatricesAnnotated)$tileType == \n",
        "                                                 'Distal',], \n",
        "                                    cellPopulation = 'cd4_naive') + 1)"
      ],
      "outputs": [],
      "execution_count": null,
      "metadata": {},
      "id": "d1e28a15-a5bf-405a-8d65-1e0338b492e9"
    },
    {
      "cell_type": "code",
      "source": [
        "# cd4_values[1:5, 1:5]"
      ],
      "outputs": [],
      "execution_count": null,
      "metadata": {},
      "id": "3760ef5b-6243-4af5-9c2c-a514551c9767"
    },
    {
      "cell_type": "code",
      "source": [
        "p1 <- hist(cd4na_intra)\n",
        "p2 <- hist(cd4na_prom)\n",
        "p3 <- hist(cd4na_dis)"
      ],
      "outputs": [],
      "execution_count": null,
      "metadata": {},
      "id": "ab5272a5-5c50-4a0b-bbe8-dc45d6ca64db"
    },
    {
      "cell_type": "code",
      "source": [
        "colData(SampleTileMatricesAnnotated)$subject_id"
      ],
      "outputs": [],
      "execution_count": null,
      "metadata": {},
      "id": "3805f0af-726b-4a8b-bc26-3b65b38e72d2"
    },
    {
      "cell_type": "code",
      "source": [
        "# remove BR2024 sample and rerun the DAPs\n",
        "SampleTileMatricesAnnotated_fl <- \n",
        "    SampleTileMatricesAnnotated[, colData(SampleTileMatricesAnnotated)$subject_id!='BR2024']\n",
        "SampleTileMatricesAnnotated_fl"
      ],
      "outputs": [],
      "execution_count": null,
      "metadata": {},
      "id": "07bdccce-85fd-464c-b458-2378a43f17c0"
    },
    {
      "cell_type": "code",
      "source": [
        "####################################################\n",
        "# 5. Get differential accessibility for specific \n",
        "#    cell populations. Here we are comparing MAIT  \n",
        "#    cells between samples where our groupColumn \n",
        "#    \"COVID_status\" is Positive (our foreground) \n",
        "#    to Negative samples (our background).\n",
        "####################################################\n",
        "threshold <- 0.2\n",
        "groupColumn <- \"cohort\"\n",
        "join <- \"union\"\n",
        "numCores <- 58\n",
        "\n",
        "cd4na_diff <- MOCHA::getDifferentialAccessibleTiles(\n",
        "    SampleTileObj = SampleTileMatricesAnnotated,\n",
        "    cellPopulation = \"cd4_naive\",\n",
        "    groupColumn = groupColumn,\n",
        "    foreground = \"pre-RA\",\n",
        "    background = \"Healthy\",\n",
        "    fdrToDisplay = 0.2,\n",
        "    signalThreshold = 14,\n",
        "   # minZeroDiff = 0,\n",
        "    numCores = numCores\n",
        ")"
      ],
      "outputs": [],
      "execution_count": null,
      "metadata": {},
      "id": "515a5445-f530-4530-a99d-9dc9c8faa8b6"
    },
    {
      "cell_type": "code",
      "source": [
        "cd4na_diff <- annotateTiles(cd4na_diff, TxDb = TxDb, Org = Org)"
      ],
      "outputs": [],
      "execution_count": null,
      "metadata": {},
      "id": "3a6d17c9-9237-4662-9427-348f01d3125d"
    },
    {
      "cell_type": "code",
      "source": [
        "cd4na_diff %>% as_tibble() %>% filter(FDR<0.1 & P_value<0.05) %>% group_by(tileType) %>% tally()"
      ],
      "outputs": [],
      "execution_count": null,
      "metadata": {},
      "id": "9ff947ca-5581-45c8-b0db-351371eefbf7"
    },
    {
      "cell_type": "code",
      "source": [
        "cd4na_diff$P_value %>% hist()\n",
        "cd4na_diff$FDR %>% hist()"
      ],
      "outputs": [],
      "execution_count": null,
      "metadata": {},
      "id": "20b4003e-e8a4-423b-9408-d4cc077676fd"
    },
    {
      "cell_type": "code",
      "source": [
        "cd4na_diff %>% as_tibble() %>% ggplot(aes(x=P_value, y=FDR)) + \n",
        "  geom_point(size=0.8) "
      ],
      "outputs": [],
      "execution_count": null,
      "metadata": {},
      "id": "0b55494f-7aa7-4fc6-b966-732de0225d42"
    },
    {
      "cell_type": "code",
      "source": [
        "cd4na_diff_table <- cd4na_diff %>% as_tibble() %>% filter(!is.na(P_value)) %>% \n",
        "    rstatix::adjust_pvalue(p.col = \"P_value\", output.col = 'p_adj', method = \"BY\")"
      ],
      "outputs": [],
      "execution_count": null,
      "metadata": {},
      "id": "dde3dc6e-e610-4e9d-821a-179b4ed8d631"
    },
    {
      "cell_type": "code",
      "source": [
        "cd4na_diff_table %>% arrange(p_adj) %>% head()"
      ],
      "outputs": [],
      "execution_count": null,
      "metadata": {
        "tags": []
      },
      "id": "060c84e8-82ae-49c6-8364-fe035c151900"
    },
    {
      "cell_type": "code",
      "source": [
        "filtered_res <- cd4na_diff_table\n",
        "  if (!all(is.na(filtered_res$P_value[filtered_res$P_value <= 0.95]))) {\n",
        "    pi0_reduced <- qvalue::pi0est(filtered_res$P_value[filtered_res$P_value <= 0.95],\n",
        "      pi0.method = \"bootstrap\",\n",
        "      lambda = seq(0, 0.6, .05)\n",
        "    )\n",
        "\n",
        "    filtered_res$FDR_test <- qvalue::qvalue(filtered_res$P_value, pi0 = pi0_reduced$pi0)$qvalues\n",
        "  } else {\n",
        "    filtered_res$FDR_test <- NA # TODO Handle appropriately\n",
        "  }"
      ],
      "outputs": [],
      "execution_count": null,
      "metadata": {},
      "id": "645523de-2383-417b-be66-14ea31e61dcf"
    },
    {
      "cell_type": "code",
      "source": [
        "# filtered_res %>% dplyr::select(P_value, FDR, FDR_test, p_adj) %>% filter(FDR<0.2)"
      ],
      "outputs": [],
      "execution_count": null,
      "metadata": {},
      "id": "b7b9369c-b7ab-40f4-ab5b-f1c4e9149f94"
    },
    {
      "cell_type": "code",
      "source": [
        "cd4na_diff <- cd4na_diff %>% annotateTiles(TxDb = TxDb,\n",
        "                          Org = Org)"
      ],
      "outputs": [],
      "execution_count": null,
      "metadata": {},
      "id": "dc29aa74-f098-4a51-8ec4-17f015bfe552"
    },
    {
      "cell_type": "code",
      "source": [
        "cd4na_diff$tileType %>% table()"
      ],
      "outputs": [],
      "execution_count": null,
      "metadata": {},
      "id": "a75d4c7a-d24e-45ae-bf03-3acf96d973b5"
    },
    {
      "cell_type": "code",
      "source": [
        "cd4na_diff %>% as_tibble() %>% filter(FDR<0.2) %>% group_by(tileType) %>% tally()"
      ],
      "outputs": [],
      "execution_count": null,
      "metadata": {},
      "id": "33bff7a1-881c-44c6-a3ca-85956a5b23bf"
    },
    {
      "cell_type": "code",
      "source": [
        "cd4na_diff %>% as_tibble() %>% head()"
      ],
      "outputs": [],
      "execution_count": null,
      "metadata": {},
      "id": "82a461b6-c751-4a49-980e-ab3bdd9290a4"
    },
    {
      "cell_type": "code",
      "source": [
        "cd4na_diff %>% saveRDS(file.path(output_path, \n",
        "                                  paste0(proj_name, '_MOCHA_total_cd4na_ravshealthy_DAPs.rds')))"
      ],
      "outputs": [],
      "execution_count": null,
      "metadata": {},
      "id": "8c2d3975-2c91-47d7-9fe5-8ed14d6ba768"
    },
    {
      "cell_type": "code",
      "source": [
        "# load differential DAPS between pre-RA and healthy in cd4 naive\n",
        "cd4na_diff <- readRDS(file.path(output_path, \n",
        "                                  paste0(proj_name, '_MOCHA_total_cd4na_ravshealthy_DAPs.rds')))"
      ],
      "outputs": [],
      "execution_count": null,
      "metadata": {},
      "id": "c2c76307-402a-41a9-86db-c437add3d9be"
    },
    {
      "cell_type": "code",
      "source": [
        "cd4na_diff %>% as_tibble() %>% write_csv(file.path(output_path, paste0(proj_name, 'cd4na_atac_daps.csv')))"
      ],
      "outputs": [],
      "execution_count": null,
      "metadata": {},
      "id": "998f79c6-38cb-418e-97ae-e6c62c99b9f9"
    },
    {
      "cell_type": "code",
      "source": [
        "cd4na_diff %>% as_tibble() %>% filter(FDR<0.1 & P_value<0.05) %>% group_by(tileType) %>% tally()"
      ],
      "outputs": [],
      "execution_count": null,
      "metadata": {},
      "id": "0dbab5c5-9775-4dd6-aec9-55421f3b0e5e"
    },
    {
      "cell_type": "code",
      "source": [
        "cd4na_diff %>% as_tibble()%>%pull(P_value)%>%hist()"
      ],
      "outputs": [],
      "execution_count": null,
      "metadata": {},
      "id": "a0e10b42-c0c8-4d70-bed3-ccea0b12b5c9"
    },
    {
      "cell_type": "code",
      "source": [
        "cd4na_diff_sig = cd4na_diff %>% as_tibble() %>% filter(FDR<0.1 & P_value<0.05) \n",
        "cd4na_diff_sig%>%group_by(tileType)%>%tally()"
      ],
      "outputs": [],
      "execution_count": null,
      "metadata": {},
      "id": "831ef5f6-8089-4c55-862a-bdade4b108e5"
    },
    {
      "cell_type": "code",
      "source": [
        "cd4na_diff_sig%>%dim()"
      ],
      "outputs": [],
      "execution_count": null,
      "metadata": {},
      "id": "d07032e5-5d37-4833-bad4-c7d482d88f3f"
    },
    {
      "cell_type": "code",
      "source": [
        "cd4na_diff %>% as_tibble() %>% filter(FDR<0.1 & P_value<0.05 & str_detect(Gene, 'IL21|IL6R'))"
      ],
      "outputs": [],
      "execution_count": null,
      "metadata": {},
      "id": "fc8c4591-c3e1-47e0-aa24-d892313d04a3"
    },
    {
      "cell_type": "code",
      "source": [
        "# cd4na_diff %>% as_tibble() %>% filter(Gene=='IL21R')"
      ],
      "outputs": [],
      "execution_count": null,
      "metadata": {},
      "id": "0a9eb3ba-47d2-4e8d-9bf5-f21248eff639"
    },
    {
      "cell_type": "code",
      "source": [
        "# take the significant peaks\n",
        "# cd4na_diff_sig <- cd4na_diff[cd4na_diff$FDR<0.2&cd4na_diff$P_value<0.05]\n",
        "# filter significant daps\n",
        "cd4na_diff_sig <- cd4na_diff[(!is.na(elementMetadata(cd4na_diff)[,'FDR'])) & \n",
        "                                               (!is.na(elementMetadata(cd4na_diff)[,'Log2FC_C']))&\n",
        "                             (elementMetadata(cd4na_diff)[,'FDR']<0.2)]"
      ],
      "outputs": [],
      "execution_count": null,
      "metadata": {},
      "id": "432132f5-53a8-4408-8081-fbad022cc859"
    },
    {
      "cell_type": "code",
      "source": [
        "cd4na_diff_sig"
      ],
      "outputs": [],
      "execution_count": null,
      "metadata": {
        "tags": []
      },
      "id": "d593ef1d-95a7-431c-89c4-3cce97f2624e"
    },
    {
      "cell_type": "code",
      "source": [
        "SampleTileMatricesAnnotated[rowRanges(SampleTileMatricesAnnotated)$tileType == 'Intragenic',] %>% head()"
      ],
      "outputs": [],
      "execution_count": null,
      "metadata": {},
      "id": "62a44269-ecc8-4f31-82e8-ea93c3daed18"
    },
    {
      "cell_type": "code",
      "source": [
        "# plot the valcano plot of the peaks\n",
        "cd4na_diff_table <- cd4na_diff %>% as_tibble() %>% \n",
        "    mutate(label_gene=if_else(FDR<0.2& P_value<0.05& abs(Log2FC_C) > 0.25, Gene, NA))"
      ],
      "outputs": [],
      "execution_count": null,
      "metadata": {},
      "id": "d10e79af-2561-4327-92e4-fd4cdcb77fc8"
    },
    {
      "cell_type": "code",
      "source": [
        "cd4na_prom_gens = cd4na_diff_table%>%filter(FDR<0.2& P_value<0.05& abs(Log2FC_C) > 0.1 & tileType=='Promoter')%>%\n",
        "    distinct(Gene)%>%pull(Gene)"
      ],
      "outputs": [],
      "execution_count": null,
      "metadata": {
        "scrolled": true
      },
      "id": "54d06819-2bf2-4799-8b8e-09c5b6beed13"
    },
    {
      "cell_type": "code",
      "source": [
        "cd4na_prom_gens%>%length()"
      ],
      "outputs": [],
      "execution_count": null,
      "metadata": {},
      "id": "37954c87-9297-463b-a458-c1a22daab031"
    },
    {
      "cell_type": "code",
      "source": [
        "# gene enrichment \n",
        "# promoter_up <- cd4na_prom_diff %>% as_tibble() %>% filter(P_value<0.05&FDR<0.2) %>% \n",
        "#     dplyr::filter(tileType=='Promoter') %>% pull(Gene) %>%\n",
        "#     str_split(', ') %>% unlist()%>% unique() \n",
        "# promoter_up %>% length()\n",
        "# pathway enrichment for cd4na\n",
        "enrich_cd4na_promoter_up <- enrichr(cd4na_prom_gens, c('KEGG_2021_Human', 'MSigDB_Hallmark_2020'))\n"
      ],
      "outputs": [],
      "execution_count": null,
      "metadata": {},
      "id": "0ef7f60d-8a19-446c-82ee-d94b99dc62b0"
    },
    {
      "cell_type": "code",
      "source": [
        "# enrich_cd4na_promoter_up['KEGG_2021_Human']"
      ],
      "outputs": [],
      "execution_count": null,
      "metadata": {},
      "id": "ae2a93b1-2714-4e33-b90d-1c8444b56a09"
    },
    {
      "cell_type": "code",
      "source": [
        "# plot the valcano plot of the peaks\n",
        "cd4na_diff_table <- cd4na_diff %>% as_tibble() %>% \n",
        "    mutate(label_gene=if_else(FDR<0.2& abs(Log2FC_C) > 0.25, Gene, NA))\n",
        "p1 <-  cd4na_diff_table%>%\n",
        "    EnhancedVolcano::EnhancedVolcano(\n",
        "    lab = cd4na_diff_table %>% pull(label_gene),\n",
        "    x = 'Log2FC_C',\n",
        "    pCutoff = 0.2,\n",
        "    FCcutoff = 0.25,\n",
        "    y = 'FDR', \n",
        "    title = 'CD4naive pre-RA vs healthy', subtitle = NULL,\n",
        "    xlim = c(-0.5, 0.5),\n",
        "    ylim = c(0.4, 1)) \n",
        "p1\n",
        "ggsave(file.path(fig_path, paste0(proj_name, '_mocha_DAPs_valcano_plot.png')),\n",
        "       width = 8, height = 8)"
      ],
      "outputs": [],
      "execution_count": null,
      "metadata": {
        "tags": []
      },
      "id": "b5cd64d6-00a5-49e3-892d-c04faccce273"
    },
    {
      "cell_type": "code",
      "source": [
        "fig_path"
      ],
      "outputs": [],
      "execution_count": null,
      "metadata": {},
      "id": "411e5d31-fea1-4845-b77e-ae54b94f5eea"
    },
    {
      "cell_type": "code",
      "source": [
        "cd4na_diff_table %>% filter(str_detect(Gene,'NFAT|STAT|JUN|FOS|BATF|BCL6|GATA')&\n",
        "                            FDR<0.2&P_value<0.1)"
      ],
      "outputs": [],
      "execution_count": null,
      "metadata": {},
      "id": "57bf7558-ebac-4be1-bc70-978eef148bb9"
    },
    {
      "cell_type": "markdown",
      "source": [
        "### run DAPs only in promoters"
      ],
      "metadata": {
        "tags": []
      },
      "id": "216e0a25-00a8-4641-9693-4b671fee654a"
    },
    {
      "cell_type": "code",
      "source": [
        "#taget genes\n",
        "target_genes<-rowData(SampleTileMatricesAnnotated)$Gene%>%unique()%>%\n",
        "    str_subset('IL\\\\d|STAT|NFAT|CXCR5|MAF|CXCL|TGFB|TNF|IKZF|ICOS|TIGIT|BCL6')%>%\n",
        "    str_subset('MICOS10|C1Q|MAFA|PIWIL2', negate = TRUE)\n",
        "target_genes%>%length()\n",
        "target_genes"
      ],
      "outputs": [],
      "execution_count": null,
      "metadata": {},
      "id": "ad18c43f-0f17-4603-8d62-9d80f2633783"
    },
    {
      "cell_type": "code",
      "source": [
        "colData(SampleTileMatricesAnnotated)$subject_id%>%unique()"
      ],
      "outputs": [],
      "execution_count": null,
      "metadata": {},
      "id": "2745ff19-42a7-4b5a-abcf-614b25fee7a6"
    },
    {
      "cell_type": "code",
      "source": [
        "# # remove BR2024 sample and rerun the DAPs\n",
        "# SampleTileMatricesAnnotated_fl <- \n",
        "#     SampleTileMatricesAnnotated[, colData(SampleTileMatricesAnnotated)$subject_id!='BR2024']\n",
        "\n",
        "# fileter \n",
        "SampleTileMatricesAnnotated_prom <- SampleTileMatricesAnnotated[!is.na(rowData(\n",
        "    SampleTileMatricesAnnotated)$Gene) & \n",
        "    rowData(SampleTileMatricesAnnotated)$Gene%in%target_genes,]\n",
        "SampleTileMatricesAnnotated_prom"
      ],
      "outputs": [],
      "execution_count": null,
      "metadata": {},
      "id": "287b63aa-dae2-4780-b260-be12b486cfa3"
    },
    {
      "cell_type": "code",
      "source": [
        "# rowData(SampleTileMatricesAnnotated)$Gene%>%str_subset('IL\\\\d|STAT|NFAT|CXCR5')"
      ],
      "outputs": [],
      "execution_count": null,
      "metadata": {},
      "id": "67f6859e-7451-42ad-81b8-4899920196d8"
    },
    {
      "cell_type": "code",
      "source": [
        "####################################################\n",
        "# 5. Get differential accessibility for specific \n",
        "#    cell populations. Here we are comparing MAIT  \n",
        "#    cells between samples where our groupColumn \n",
        "#    \"COVID_status\" is Positive (our foreground) \n",
        "#    to Negative samples (our background).\n",
        "####################################################\n",
        "threshold <- 0.2\n",
        "groupColumn <- \"cohort\"\n",
        "join <- \"union\"\n",
        "numCores <- 58\n",
        "\n",
        "cd4na_prom_diff <- MOCHA::getDifferentialAccessibleTiles(\n",
        "    SampleTileObj = SampleTileMatricesAnnotated_prom,\n",
        "    cellPopulation = \"cd4_naive\",\n",
        "    groupColumn = groupColumn,\n",
        "    foreground = \"pre-RA\",\n",
        "    background = \"Healthy\",\n",
        "    fdrToDisplay = 0.2,\n",
        "    signalThreshold = 15,\n",
        "    #minZeroDiff = 0,\n",
        "    numCores = numCores\n",
        ")"
      ],
      "outputs": [],
      "execution_count": null,
      "metadata": {},
      "id": "ff07d7c3-6920-4477-84a0-0c39b44eb43a"
    },
    {
      "cell_type": "code",
      "source": [
        "cd4na_prom_diff$FDR %>% hist()\n",
        "cd4na_prom_diff$P_value %>% hist()"
      ],
      "outputs": [],
      "execution_count": null,
      "metadata": {},
      "id": "604bbb59-181e-46a4-b725-3a3fe0df748b"
    },
    {
      "cell_type": "code",
      "source": [
        "cd4na_prom_diff <- cd4na_prom_diff %>% annotateTiles(TxDb = TxDb, Org = Org)"
      ],
      "outputs": [],
      "execution_count": null,
      "metadata": {},
      "id": "afaaa5d7-866e-4a49-8640-647bb2dd2809"
    },
    {
      "cell_type": "code",
      "source": [
        "cd4na_prom_diff %>% as_tibble() %>% \n",
        "    filter(FDR<0.2&P_value<0.05) %>% \n",
        "    group_by(tileType) %>% tally()"
      ],
      "outputs": [],
      "execution_count": null,
      "metadata": {
        "tags": []
      },
      "id": "b55187be-9b6f-4c1f-a4bf-7ba11ae13220"
    },
    {
      "cell_type": "code",
      "source": [
        "cd4na_prom_diff"
      ],
      "outputs": [],
      "execution_count": null,
      "metadata": {},
      "id": "d9d43a48-c226-461f-b6de-f535be9c9045"
    },
    {
      "cell_type": "code",
      "source": [
        "# check promoters that have significant changes\n",
        "cd4na_dap_table <- cd4na_prom_diff %>%as_tibble()\n",
        "cd4na_dap_table %>% group_by(tileType) %>% tally()\n",
        "cd4na_dap_table %>% head()"
      ],
      "outputs": [],
      "execution_count": null,
      "metadata": {},
      "id": "285c3528-2a46-493f-b122-24823540efff"
    },
    {
      "cell_type": "code",
      "source": [
        "cd4na_dap_table%>%filter(P_value<0.05&FDR<0.2&str_detect(Gene, 'IL21|CXCR|MAF|IL17|IL23|TNF|IKZF|IL\\\\d'))"
      ],
      "outputs": [],
      "execution_count": null,
      "metadata": {},
      "id": "5b9d74a5-d68f-4ede-ac60-b836016c7f38"
    },
    {
      "cell_type": "code",
      "source": [
        "cd4na_dap_table%>%filter(P_value<0.05&str_detect(Gene, 'CXCL'))"
      ],
      "outputs": [],
      "execution_count": null,
      "metadata": {},
      "id": "c8a35bbe-1fe5-4cdb-95ec-6e9fe4704fc7"
    },
    {
      "cell_type": "code",
      "source": [
        "cd4na_prom_diff %>% as_tibble() %>% filter(FDR<0.2&P_value<0.05, str_detect(Gene, 'IL\\\\d|NFAT|STAT|FOS|JUN'))"
      ],
      "outputs": [],
      "execution_count": null,
      "metadata": {
        "tags": []
      },
      "id": "14edaf67-eca0-4505-b267-46722809e849"
    },
    {
      "cell_type": "code",
      "source": [
        "cd4na_prom_diff %>% as_tibble() %>% head()"
      ],
      "outputs": [],
      "execution_count": null,
      "metadata": {},
      "id": "743c4f46-99a9-4c58-a0a9-bd77dafc49c2"
    },
    {
      "cell_type": "code",
      "source": [
        "# gene enrichment \n",
        "promoter_up <- cd4na_prom_diff %>% as_tibble() %>% filter(P_value<0.05&FDR<0.2) %>% \n",
        "    dplyr::filter(tileType=='Promoter') %>% pull(Gene) %>%\n",
        "    str_split(', ') %>% unlist()%>% unique() \n",
        "promoter_up %>% length()\n",
        "# pathway enrichment for cd4na\n",
        "enrich_cd4na_promoter_up <- enrichr(promoter_up, c('KEGG_2021_Human', 'MSigDB_Hallmark_2020'))\n"
      ],
      "outputs": [],
      "execution_count": null,
      "metadata": {
        "tags": []
      },
      "id": "099e1083-21f2-4830-922c-6e0c399f66fa"
    },
    {
      "cell_type": "code",
      "source": [
        "enrich_cd4na_promoter_up$MSigDB_Hallmark_2020 %>% \n",
        "    dplyr::select(-c(Old.P.value,Old.Adjusted.P.value)) %>% filter(Adjusted.P.value<0.05)"
      ],
      "outputs": [],
      "execution_count": null,
      "metadata": {
        "tags": []
      },
      "id": "db36c845-57fa-40c1-9032-b0a37441476c"
    },
    {
      "cell_type": "code",
      "source": [
        "# plot the valcano plot of the peaks\n",
        "cd4na_prom_diff_table <- cd4na_prom_diff %>% as_tibble() %>% \n",
        "    mutate(label_gene=if_else(FDR<0.3& abs(Log2FC_C) > 0.1, Gene, NULL))\n",
        "p1 <-  cd4na_prom_diff_table%>%\n",
        "    EnhancedVolcano::EnhancedVolcano(\n",
        "    lab = cd4na_prom_diff_table %>% pull(label_gene),\n",
        "    x = 'Log2FC_C',\n",
        "    pCutoff = 0.3,\n",
        "    FCcutoff = 0.25,\n",
        "    y = 'FDR', \n",
        "    title = 'CD4naive pre-RA vs healthy', subtitle = NULL,\n",
        "    xlim = c(-0.5, 0.5),\n",
        "    ylim = c(0.4, 1)) \n",
        "p1\n",
        "ggsave(file.path(fig_path, paste0(proj_name, '_promoter_mocha_DAPs_valcano_plot.png')),\n",
        "       width = 8, height = 8)"
      ],
      "outputs": [],
      "execution_count": null,
      "metadata": {},
      "id": "edc399aa-e696-405c-80d7-c68a5dd4f834"
    },
    {
      "cell_type": "code",
      "source": [
        "# cd4na_prom_diff_table %>% arrange(P_value, desc(Log2FC_C)) %>%\n",
        "#     filter(!is.na(Gene)) %>% filter(str_detect(Gene, ''))"
      ],
      "outputs": [],
      "execution_count": null,
      "metadata": {
        "tags": []
      },
      "id": "d53d0cb1-2403-4526-849e-8eb93dedfa44"
    },
    {
      "cell_type": "markdown",
      "source": [
        "### load ALTRA AIM1 DAP results for CD4 naive"
      ],
      "metadata": {},
      "id": "554d017c-a95d-4bc6-8766-0f0d50ea1276"
    },
    {
      "cell_type": "code",
      "source": [
        "aim1_cd4na_daps<- readRDS('/home/jupyter/data/ra_longitudinal/ATAC/ALTRA_Aim1_DAP_CD4Naive_granges.rds')"
      ],
      "outputs": [],
      "execution_count": null,
      "metadata": {},
      "id": "7548b7d8-4837-421d-bf68-1e1d846024ae"
    },
    {
      "cell_type": "code",
      "source": [
        "aim1_cd4na_daps <- aim1_cd4na_daps%>% annotateTiles(TxDb = TxDb,\n",
        "                          Org = Org)"
      ],
      "outputs": [],
      "execution_count": null,
      "metadata": {},
      "id": "dc07b234-1216-4eea-aae2-5f68cc482dc2"
    },
    {
      "cell_type": "code",
      "source": [
        "aim1_cd4na_daps"
      ],
      "outputs": [],
      "execution_count": null,
      "metadata": {
        "collapsed": true,
        "jupyter": {
          "outputs_hidden": true
        }
      },
      "id": "0c29468a-a9d0-4142-aceb-c5475deb1f6a"
    },
    {
      "cell_type": "code",
      "source": [
        "aim1_cd4na_daps%>%filter(P_value<0.05)%>%as_tibble()%>%pull(Gene)%>%unique()"
      ],
      "outputs": [],
      "execution_count": null,
      "metadata": {},
      "id": "a2e81844-2f2d-47c4-8a6f-d3fcb7c36f8b"
    },
    {
      "cell_type": "code",
      "source": [
        "aim1_cd4na_daps%>%filter(Gene%in%c( 'IL21', 'CXCR5', 'MAF' , 'IL23', 'CXCL13')) "
      ],
      "outputs": [],
      "execution_count": null,
      "metadata": {},
      "id": "22c66527-ee71-49e5-9936-51c914a2d323"
    },
    {
      "cell_type": "markdown",
      "source": [
        "### Run dap analysis in CD4 naive cells only in enhancer regions"
      ],
      "metadata": {},
      "id": "80783363-71c1-401a-9352-1474bfb2146f"
    },
    {
      "cell_type": "code",
      "source": [
        "# load the enhancer and promoter reference \n",
        "prom_enh_hg38 <- read_tsv('/home/jupyter/data/Reference/ActivePromoterEnhancerLinks_hg38.tsv',\n",
        "                         show_col_types = FALSE)\n",
        "prom_enh_hg38 %>% head()\n",
        "# extract the links for cd4 naive cells\n",
        "prom_enh_cd4na <- prom_enh_hg38 %>% filter(str_detect(celltypes, 'nCD4'))"
      ],
      "outputs": [],
      "execution_count": null,
      "metadata": {
        "tags": []
      },
      "id": "2fbcad56-ad8a-4aed-a8d2-c63460788d6c"
    },
    {
      "cell_type": "code",
      "source": [
        "# prom_enh_cd4na %>% janitor::get_dupes(oeID) #%>% distinct(oeID)"
      ],
      "outputs": [],
      "execution_count": null,
      "metadata": {
        "tags": []
      },
      "id": "f126a632-875c-4c03-a15e-21e7204f74fb"
    },
    {
      "cell_type": "code",
      "source": [
        "# get the enhancer region for cd4na\n",
        "prom_enh_cd4na_enh <- prom_enh_cd4na %>%\n",
        "    makeGRangesFromDataFrame(seqnames.field='seqnames_oe',\n",
        "                                            start.field=\"start_oe\",\n",
        "                                            end.field='end_oe',\n",
        "                                           keep.extra.columns=TRUE) \n",
        "prom_enh_cd4na_enh %>% head()"
      ],
      "outputs": [],
      "execution_count": null,
      "metadata": {
        "tags": []
      },
      "id": "22639961-8de4-495c-8124-e65a2c95e7cd"
    },
    {
      "cell_type": "code",
      "source": [
        "# subset the peaks set to known promoter and enhancer regions\n",
        "SampleTileMatricesAnnotatedfl <- subsetByOverlaps(SampleTileMatricesAnnotated, prom_enh_cd4na_enh) \n",
        "SampleTileMatricesAnnotatedfl"
      ],
      "outputs": [],
      "execution_count": null,
      "metadata": {},
      "id": "0c49a89a-e5c3-47f8-8e85-6bb0d6d8b044"
    },
    {
      "cell_type": "code",
      "source": [
        "SampleTileMatricesAnnotatedfl"
      ],
      "outputs": [],
      "execution_count": null,
      "metadata": {},
      "id": "6f70c61a-fdbb-457e-83d2-4e16c2aac8d9"
    },
    {
      "cell_type": "code",
      "source": [
        "####################################################\n",
        "# 5. Get differential accessibility for specific \n",
        "#    cell populations. Here we are comparing MAIT  \n",
        "#    cells between samples where our groupColumn \n",
        "#    \"COVID_status\" is Positive (our foreground) \n",
        "#    to Negative samples (our background).\n",
        "####################################################\n",
        "threshold <- 0.2\n",
        "groupColumn <- \"cohort\"\n",
        "join <- \"union\"\n",
        "numCores <- 55\n",
        "\n",
        "cd4na_diff_prom_enhancer <- MOCHA::getDifferentialAccessibleTiles(\n",
        "    SampleTileObj = SampleTileMatricesAnnotatedfl,\n",
        "    cellPopulation = \"cd4_naive\",\n",
        "    groupColumn = groupColumn,\n",
        "    foreground = \"pre-RA\",\n",
        "    background = \"Healthy\",\n",
        "    fdrToDisplay = 0.2,\n",
        "    signalThreshold = 12,\n",
        "    minZeroDiff = 0.5,\n",
        "    numCores = numCores\n",
        ")"
      ],
      "outputs": [],
      "execution_count": null,
      "metadata": {},
      "id": "fe2716c1-5051-4cdf-99fd-39641e8607be"
    },
    {
      "cell_type": "code",
      "source": [
        "cd4na_diff_prom_enhancer$FDR %>% hist()"
      ],
      "outputs": [],
      "execution_count": null,
      "metadata": {},
      "id": "75ee7a71-dd85-4f9d-aa3c-9dd7cb290564"
    },
    {
      "cell_type": "code",
      "source": [
        "# filter significant daps\n",
        "cd4na_enhancer_sig <- cd4na_diff_prom_enhancer[(!is.na(elementMetadata(cd4na_diff_prom_enhancer)[,'FDR'])) & \n",
        "                                               (!is.na(elementMetadata(cd4na_diff_prom_enhancer)[,'Log2FC_C']))&\n",
        "                             (elementMetadata(cd4na_diff_prom_enhancer)[,'FDR']<0.2)]"
      ],
      "outputs": [],
      "execution_count": null,
      "metadata": {
        "tags": []
      },
      "id": "f15521c8-d52b-46d1-8a66-f1a094934865"
    },
    {
      "cell_type": "code",
      "source": [
        "cd4na_enhancer_sig"
      ],
      "outputs": [],
      "execution_count": null,
      "metadata": {},
      "id": "cebfeefa-6979-4314-919a-b7d2209d09a5"
    },
    {
      "cell_type": "code",
      "source": [
        "# check what gene enhancers contains DAPs\n",
        "enhancer_genes_up <- subsetByOverlaps(prom_enh_cd4na_enh, cd4na_enhancer_sig, minoverlap = 499)$Gene %>% \n",
        "    str_split(', ', simplify = TRUE) %>% c() %>%\n",
        "    unique() \n",
        "enhancer_genes_up %>% length()"
      ],
      "outputs": [],
      "execution_count": null,
      "metadata": {},
      "id": "42ca5d05-b6c5-4373-ae1f-7b8a39b546b8"
    },
    {
      "cell_type": "code",
      "source": [
        "subsetByOverlaps(prom_enh_cd4na_enh, cd4na_enhancer_sig, minoverlap = 499)%>%\n",
        "    filter(str_detect(Gene, 'IL\\\\d'))"
      ],
      "outputs": [],
      "execution_count": null,
      "metadata": {
        "scrolled": true
      },
      "id": "722a1150-44e0-4724-a255-5b89df498ab2"
    },
    {
      "cell_type": "code",
      "source": [
        "enhancer_genes_up%>%str_subset('IL')"
      ],
      "outputs": [],
      "execution_count": null,
      "metadata": {},
      "id": "783df150-267b-43cf-bf48-bfdd50953ee1"
    },
    {
      "cell_type": "code",
      "source": [
        "# gene enrichment \n",
        "# pathway enrichment for cd4na\n",
        "enrich_cd4na_enhancer_genes_up <- enrichr(enhancer_genes_up, c('KEGG_2021_Human', 'MSigDB_Hallmark_2020'))\n"
      ],
      "outputs": [],
      "execution_count": null,
      "metadata": {},
      "id": "6b7ac0e0-7438-40d0-af58-170d93189aea"
    },
    {
      "cell_type": "code",
      "source": [
        "enrich_cd4na_enhancer_genes_up$MSigDB_Hallmark_2020 %>% \n",
        "    dplyr::select(-c(Old.P.value,Old.Adjusted.P.value))"
      ],
      "outputs": [],
      "execution_count": null,
      "metadata": {},
      "id": "a332d6b9-8ae4-45d8-b6c7-929c8041c76d"
    },
    {
      "cell_type": "code",
      "source": [
        "il6r_granges <- subsetByOverlaps(prom_enh_cd4na_enh, cd4na_diff_sig) %>% filter(str_detect(Gene,'IL6|IL4R|IL13R|IL\\\\d'))\n",
        "il6r_granges"
      ],
      "outputs": [],
      "execution_count": null,
      "metadata": {},
      "id": "c9804bbc-643e-4104-8e65-b6f0710201c2"
    },
    {
      "cell_type": "code",
      "source": [
        "# check the DAPs FDR<0.2 and also in the enha"
      ],
      "outputs": [],
      "execution_count": null,
      "metadata": {},
      "id": "d2ad1184-39b5-4b3b-aa6a-0bf27df57170"
    },
    {
      "cell_type": "code",
      "source": [
        "subsetByOverlaps(cd4na_diff_sig, il6r_granges)"
      ],
      "outputs": [],
      "execution_count": null,
      "metadata": {},
      "id": "b0619942-9ed7-43eb-b572-4a29989da671"
    },
    {
      "cell_type": "code",
      "source": [
        "cd4na_diff %>% as_tibble() %>% \n",
        "    ggplot(aes(x=P_value)) +\n",
        "    geom_histogram()\n",
        "ggsave(file.path(fig_path, paste0(proj_name, '_mocha_DAPs_p_values_distribution.pdf')), width = 6, height = 6)"
      ],
      "outputs": [],
      "execution_count": null,
      "metadata": {},
      "id": "e86687f9-88b2-4204-8f8e-1f5f4fa9a65e"
    },
    {
      "cell_type": "code",
      "source": [],
      "outputs": [],
      "execution_count": null,
      "metadata": {
        "tags": []
      },
      "id": "0ff6e9d9-a3a0-44d8-908e-ecfcb4c0ff1f"
    },
    {
      "cell_type": "code",
      "source": [
        "cd4na_diff %>% as_tibble() %>% head()"
      ],
      "outputs": [],
      "execution_count": null,
      "metadata": {},
      "id": "e180b30b-cc1a-4083-8fcc-3294dfe90b63"
    },
    {
      "cell_type": "code",
      "source": [
        "cd4na_dap_counts <- cd4na_diff_sig %>% as_tibble() %>% mutate(direction=if_else(Log2FC_C>0, 'up', 'down')) %>% \n",
        "    group_by(tileType, direction) %>% tally()\n",
        "cd4na_dap_counts"
      ],
      "outputs": [],
      "execution_count": null,
      "metadata": {},
      "id": "fb95ccec-7772-4f00-b015-dff29d80b672"
    },
    {
      "cell_type": "code",
      "source": [
        "# subset the sample peak matrix by significant differential peaks\n",
        "SampleTileMatricesAnnotated_diff <- subsetByOverlaps(SampleTileMatricesAnnotated,\n",
        "                                                   cd4na_diff[(!is.na(elementMetadata(cd4na_diff)[,'FDR'])) &\n",
        "                                                              (elementMetadata(cd4na_diff)[,'FDR']<0.2)])"
      ],
      "outputs": [],
      "execution_count": null,
      "metadata": {},
      "id": "cf712f08-f736-4ff3-9d64-8d5e419f9de9"
    },
    {
      "cell_type": "code",
      "source": [
        "SampleTileMatricesAnnotated_diff"
      ],
      "outputs": [],
      "execution_count": null,
      "metadata": {},
      "id": "44b9bf85-afce-4547-a9b7-eea615c2f0b9"
    },
    {
      "cell_type": "code",
      "source": [
        "# subset the sample tile matrix by promoter region\n",
        "STM_diff_prom <- SampleTileMatricesAnnotated_diff[rowData(SampleTileMatricesAnnotated_diff)$tileType=='Promoter', ]"
      ],
      "outputs": [],
      "execution_count": null,
      "metadata": {},
      "id": "6bcf2827-dd73-4233-97f3-de24c0a1396f"
    },
    {
      "cell_type": "markdown",
      "source": [
        "### run differential peaks in the genome region around the degs\n",
        "limit the range od search for differential peaks in around 2m bps of the degs.\n",
        "- step 1: load degs in overlap in the teaseq and validation dataset"
      ],
      "metadata": {
        "tags": []
      },
      "id": "c2eb8f9f-35e2-4d0a-a06c-1e07a14e448a"
    },
    {
      "cell_type": "markdown",
      "source": [
        "### check the relationship between promoter DAPs and gene expression"
      ],
      "metadata": {},
      "id": "79ce04d0-ec5d-474d-9a46-b1cbb07a1e53"
    },
    {
      "cell_type": "code",
      "source": [
        "# load the annotate seurat dataset\n",
        "cd4na_pseudo <- readRDS(file.path(data_path, 'PreRA_teaseq_cd4na_t_rna_subject_PseudoBulk.rds'))\n",
        "cd4na_pseudo"
      ],
      "outputs": [],
      "execution_count": null,
      "metadata": {},
      "id": "f8ad58bb-78dc-48f9-8d38-553df15c2a4e"
    },
    {
      "cell_type": "code",
      "source": [
        "# load the degs for cd4 naive\n",
        "# load the deg list\n",
        "cd4na_pseudo_degs <- \n",
        "    read_csv('/home/jupyter/data/preRA_teaseq/output_results/cd4na_t/PreRA_teaseq_cd4na_tPseudoBulk_deseq2_degs_preRA.csv',\n",
        "            show_col_types = FALSE) \n",
        "cd4na_pseudo_degs %>% head()"
      ],
      "outputs": [],
      "execution_count": null,
      "metadata": {},
      "id": "5b52a411-f1cc-4a9f-a64c-f545e81d1949"
    },
    {
      "cell_type": "code",
      "source": [
        "cd4na_pseudo_degs$gene %>% length()"
      ],
      "outputs": [],
      "execution_count": null,
      "metadata": {},
      "id": "fbca34bd-23ce-4c71-ba18-26606c3e861c"
    },
    {
      "cell_type": "code",
      "source": [
        "# subset the cd4 naive\n",
        "cd4na_pseudo <- ra_tea_l2_pseudo[cd4na_pseudo_degs$gene, \n",
        "                                 colData(ra_tea_l2_pseudo)$clean_l2_cell_types=='cd4_naive']\n",
        "# make colnames of the pseudo object as subject id\n",
        "colnames(cd4na_pseudo) <- colData(cd4na_pseudo)$subject_id\n",
        "cd4na_pseudo <- scuttle::logNormCounts(cd4na_pseudo)"
      ],
      "outputs": [],
      "execution_count": null,
      "metadata": {},
      "id": "6c71c3f1-8c2f-47ee-b5dd-e7afab40fc3b"
    },
    {
      "cell_type": "code",
      "source": [
        "logcounts(cd4na_pseudo) %>% head()"
      ],
      "outputs": [],
      "execution_count": null,
      "metadata": {},
      "id": "2034173e-df7c-405f-b4cb-f165ac293ef2"
    },
    {
      "cell_type": "code",
      "source": [
        "# check what genes are also present in the degs list\n",
        "cd4na_sig_degs <- cd4na_pseudo_degs %>% filter(padj<0.2) \n",
        "# table(rowData(STM_diff_prom)$Gene %in% cd4na_sig_degs$gene)"
      ],
      "outputs": [],
      "execution_count": null,
      "metadata": {},
      "id": "4469bc96-9a1d-4dfb-9259-ebfb2f31bfc7"
    },
    {
      "cell_type": "code",
      "source": [
        "# subset the genes which are differential peaks at promoter regions and also are degs\n",
        "STM_diff_prom_gex <- STM_diff_prom[rowData(STM_diff_prom)$Gene %in% cd4na_sig_degs$gene]"
      ],
      "outputs": [],
      "execution_count": null,
      "metadata": {},
      "id": "c5f730e1-16fa-4331-96c2-768836ac8ab6"
    },
    {
      "cell_type": "code",
      "source": [
        "cd4na_sig_degs %>% filter(gene %in% rowData(STM_diff_prom)$Gene)"
      ],
      "outputs": [],
      "execution_count": null,
      "metadata": {
        "tags": []
      },
      "id": "e539bf70-8878-4913-b52a-1f086707a3c3"
    },
    {
      "cell_type": "code",
      "source": [
        "TxDb <- AnnotationDbi::loadDb(S4Vectors::metadata(SampleTileMatricesAnnotated)$TxDb)\n",
        "Org <- AnnotationDbi::loadDb(S4Vectors::metadata(SampleTileMatricesAnnotated)$Org)"
      ],
      "outputs": [],
      "execution_count": null,
      "metadata": {},
      "id": "71ae388b-d360-4066-aeef-d7dfb6579f74"
    },
    {
      "cell_type": "code",
      "source": [
        "cd4na_diff_sig <- annotateTiles(cd4na_diff_sig, TxDb = TxDb, Org = Org)"
      ],
      "outputs": [],
      "execution_count": null,
      "metadata": {},
      "id": "2cbf4d59-2242-4fe7-8a1e-1e41eedca9d6"
    },
    {
      "cell_type": "code",
      "source": [
        "cd4na_diff_sig %>% as_tibble() %>% filter(tileType=='Promoter' & P_value<0.05 & (!Gene %in% cd4na_sig_degs$gene) & Log2FC_C>0.5) %>% distinct(Gene)"
      ],
      "outputs": [],
      "execution_count": null,
      "metadata": {
        "tags": []
      },
      "id": "1cb2f3e3-3e4a-4034-b784-d2e9e50f1c9e"
    },
    {
      "cell_type": "code",
      "source": [
        "# merge the ATAC promotor with gene expression\n",
        "cd4na_diff_sig_gex <- cd4na_diff_sig %>% filter(tileType=='Promoter' & Gene %in% cd4na_sig_degs$gene)  %>% \n",
        "    as_tibble() %>% dplyr::rename('gene'='Gene') %>% \n",
        "    left_join(cd4na_sig_degs, by='gene', suffix = c('_dap', '_deg')) %>% \n",
        "    dplyr::rename('Log2FC_dap'='Log2FC_C', 'logFC_deg'='logFC', 'direction_deg'='direction') %>%\n",
        "    mutate(direction_dap=if_else(Log2FC_dap>0, 'up', 'down'))\n",
        "cd4na_diff_sig_gex %>% colnames()"
      ],
      "outputs": [],
      "execution_count": null,
      "metadata": {},
      "id": "7a35c9e0-193a-40f8-9ee3-afaebcc22282"
    },
    {
      "cell_type": "code",
      "source": [
        "# plot the gene expression and DAP at promoters\n",
        "p1 <- cd4na_diff_sig_gex %>% ggplot(aes(x=Log2FC_dap, y=logFC_deg, color=FDR_deg)) +\n",
        "    geom_point() + \n",
        "    ggrepel::geom_text_repel(aes(label = gene)) + \n",
        "    geom_hline(yintercept=0) + geom_vline(xintercept=0)+\n",
        "    theme_bw()+\n",
        "    viridis::scale_color_viridis()\n",
        "# p2 <-  cd4na_diff_sig_gex %>% ggplot(aes(x=Log2FC_dap, y=logFC_deg, color=FDR.dap)) +\n",
        "#     geom_point() + ggrepel::geom_text_repel(aes(label = gene)) + viridis::scale_color_viridis()\n",
        "# cowplot::plot_grid(p1, p2, s)\n",
        "p1\n",
        "ggsave(file.path(fig_path, paste0(proj_name, '_DEGs_DAPs_promoters.pdf')), width = 12, height = 8)"
      ],
      "outputs": [],
      "execution_count": null,
      "metadata": {},
      "id": "89060285-e35d-4ce6-9cc9-5f3570688523"
    },
    {
      "cell_type": "code",
      "source": [
        "cd4na_diff_sig_gex %>% filter(FDR_deg<0.05& direction_deg==direction_dap)"
      ],
      "outputs": [],
      "execution_count": null,
      "metadata": {
        "tags": []
      },
      "id": "f2230370-437c-4e9b-88e5-b354c1264668"
    },
    {
      "cell_type": "code",
      "source": [
        "cd4na_diff_sig_gex %>% filter(gene=='PLCG2')"
      ],
      "outputs": [],
      "execution_count": null,
      "metadata": {},
      "id": "2f0fcd19-081a-4efa-8e19-8561b5cb0f7a"
    },
    {
      "cell_type": "code",
      "source": [
        "cd4na_diff_sig_gex %>% filter()"
      ],
      "outputs": [],
      "execution_count": null,
      "metadata": {
        "tags": []
      },
      "id": "e04b7337-71d5-462f-bac3-36b9cf26a21f"
    },
    {
      "cell_type": "code",
      "source": [
        "# check what are peaks distribution for the significant differential peaks vs not\n",
        "peak_dist <- rowData(SampleTileMatricesAnnotated) %>% as_tibble(rownames = 'ranges') %>% \n",
        "    mutate(sig_differential=ranges %in% rownames(SampleTileMatricesAnnotated_fl))\n",
        "peak_dist %>% head()"
      ],
      "outputs": [],
      "execution_count": null,
      "metadata": {
        "tags": []
      },
      "id": "8a218d81-bf09-45e1-ad42-f2ba662502ef"
    },
    {
      "cell_type": "code",
      "source": [
        "peak_dist %>% group_by(tileType, sig_differential) %>% tally()"
      ],
      "outputs": [],
      "execution_count": null,
      "metadata": {},
      "id": "512a0ea4-d3bd-4259-a656-74215a379383"
    },
    {
      "cell_type": "code",
      "source": [
        "# plot the distribution of the differential peaks and all peaks called in the cd4naive\n",
        "peak_dist_counts <- peak_dist %>% group_by(tileType, sig_differential) %>% tally()\n",
        "p1 <- peak_dist_counts %>% ggplot(aes(x=sig_differential, y=n, fill=tileType, label = n)) +\n",
        "    geom_bar(stat = \"identity\") +\n",
        "    geom_text(position = position_stack(vjust = 0.5))+\n",
        "    scale_y_continuous(trans='log10') + \n",
        "    scale_fill_manual(values = nejm_color)\n",
        "\n",
        "p2 <- peak_dist %>% ggplot() +\n",
        "    geom_bar(aes(x=sig_differential, fill=tileType), position = 'fill') +\n",
        "    ylab('precentage')+ \n",
        "    scale_fill_manual(values = nejm_color)\n",
        "p1+p2\n",
        "ggsave(file.path(fig_path, paste0(proj_name, '_mocha_DAPs_distribusion.pdf')), width = 8, height = 4)"
      ],
      "outputs": [],
      "execution_count": null,
      "metadata": {},
      "id": "be5dd9af-f2bc-45c2-bc5b-b0a4b3f28728"
    },
    {
      "cell_type": "code",
      "source": [
        "# load the tf-enhancer data\n",
        "prom_enhancer_ref <- read_tsv('/home/jupyter/data/Reference/ActivePromoterEnhancerLinks.tsv', show_col_types = FALSE)\n",
        "prom_enhancer_ref %>% head()"
      ],
      "outputs": [],
      "execution_count": null,
      "metadata": {},
      "id": "ef59cf56-0393-439a-9b16-a215848a7043"
    },
    {
      "cell_type": "code",
      "source": [
        "prom_enhancer_ref %>% filter(str_detect(`cellType(s)`, 'nCD4')) %>% head()"
      ],
      "outputs": [],
      "execution_count": null,
      "metadata": {},
      "id": "0ad16d4b-071d-40c0-8126-cfabcfbaac04"
    },
    {
      "cell_type": "code",
      "source": [
        "prom_granges <- makeGRangesFromDataFrame(prom_enhancer_ref,\n",
        "                         keep.extra.columns=TRUE,\n",
        "                         ignore.strand=TRUE,\n",
        "                         seqinfo=NULL,\n",
        "                         seqnames.field=c(\"baitChr\"),\n",
        "                         start.field=\"baitSt\",\n",
        "                         end.field=c(\"baitEnd\"),\n",
        "                         starts.in.df.are.0based=FALSE)\n"
      ],
      "outputs": [],
      "execution_count": null,
      "metadata": {},
      "id": "3ce42cdf-9174-4f7c-9dd5-cbb88af2dc86"
    },
    {
      "cell_type": "markdown",
      "source": [
        "### plot region"
      ],
      "metadata": {},
      "id": "cd8219cd-ed78-4c2c-8a5c-88a176fff82a"
    },
    {
      "cell_type": "code",
      "source": [
        "# # load the sample tile matrix\n",
        "SampleTileMatricesAnnotated <- readRDS(file.path(output_path,\n",
        "                                        paste0(proj_name, '_MOCHA_total_cd4na_SampleTileMatrices.rds')))"
      ],
      "outputs": [],
      "execution_count": null,
      "metadata": {},
      "id": "a99eda74-1f9e-411c-b7ce-39b28fff3e56"
    },
    {
      "cell_type": "code",
      "source": [
        "SampleTileMatricesAnnotated"
      ],
      "outputs": [],
      "execution_count": null,
      "metadata": {},
      "id": "d8010da0-08ff-44a3-99fc-fb6ee3c6330d"
    },
    {
      "cell_type": "code",
      "source": [
        "# make status column\n",
        "colData(SampleTileMatricesAnnotated)$status = factor(if_else(colData(SampleTileMatricesAnnotated)$cohort=='pre-RA',\n",
        "                                                      'ARI', 'CON2'), levels=c('CON2', 'ARI'))\n",
        "SampleTileMatricesAnnotated$status%>%unique()"
      ],
      "outputs": [],
      "execution_count": null,
      "metadata": {
        "scrolled": true
      },
      "id": "8ac057c5-794b-4093-8c97-1153c9821d31"
    },
    {
      "cell_type": "code",
      "source": [
        "# get the gene and and promoter which share the same direction\n",
        "# cd4na_prom_gex_sig <- cd4na_diff_sig_gex %>% filter( direction_deg==direction_dap)\n",
        "# cd4na_prom_gex_sig %>% arrange(FDR_deg) %>% distinct(gene, .keep_all = TRUE) "
      ],
      "outputs": [],
      "execution_count": null,
      "metadata": {},
      "id": "359969e0-98a4-4cfb-a85b-51981bdd13b5"
    },
    {
      "cell_type": "code",
      "source": [
        "txList <- suppressWarnings(GenomicFeatures::transcriptsBy(TxDb, by = (\"gene\")))\n",
        "names(txList) <- suppressWarnings(AnnotationDbi::mapIds(Org, names(txList), \"SYMBOL\", \"ENTREZID\"))"
      ],
      "outputs": [],
      "execution_count": null,
      "metadata": {},
      "id": "720d9766-371e-4675-a5d2-8be5799738cf"
    },
    {
      "cell_type": "code",
      "source": [
        "names(txList) %>% str_subset('LCK')"
      ],
      "outputs": [],
      "execution_count": null,
      "metadata": {},
      "id": "7bf7bdb1-0335-4eba-8d63-405b55b216d3"
    },
    {
      "cell_type": "code",
      "source": [
        "# rowData(SampleTileMatricesAnnotated)$Gene=='PLCG2'"
      ],
      "outputs": [],
      "execution_count": null,
      "metadata": {},
      "id": "a02d43ad-c748-4217-ba27-606dd247818a"
    },
    {
      "cell_type": "code",
      "source": [
        "# cd4na_diff %>% #filter(FDR<0.2&P_value<0.1) %>% \n",
        "#     arrange(P_value) %>% \n",
        "#     as_tibble() %>% filter(str_detect(Gene, 'LCK'))"
      ],
      "outputs": [],
      "execution_count": null,
      "metadata": {},
      "id": "adadf74d-8acd-49fe-8b3c-a90548d00a7a"
    },
    {
      "cell_type": "code",
      "source": [
        "# get the gene names and gene ranges\n",
        "gene_name <- 'IL21'\n",
        "# peak_ranges_str <- cd4na_prom_gex_sig %>% filter(gene==gene_name) \n",
        "gene_ranges <- txList[[gene_name]] %>% as_tibble() %>% \n",
        "    mutate(gene_range=paste0(seqnames, ':', start-2000, '-', end+2000))\n",
        "gene_ranges\n",
        "gene_ranges[1,]$gene_range"
      ],
      "outputs": [],
      "execution_count": null,
      "metadata": {},
      "id": "001d4843-7fdf-4f29-9647-915d2fd3e852"
    },
    {
      "cell_type": "code",
      "source": [
        "####################################################\n",
        "# 5. (Optional) Plot a specific region's coverage. \n",
        "#    Here we plot coverage at a specific region and \n",
        "#    gene by infection stage.\n",
        "####################################################\n",
        "countSE <- MOCHA::extractRegion(\n",
        "  SampleTileObj = SampleTileMatricesAnnotated, \n",
        "  cellPopulations = 'cd4_naive',\n",
        "  region = gene_ranges[1,]$gene_range, \n",
        "  groupColumn = 'status',\n",
        " # approxLimit = 120000,\n",
        "    numCores = 15,\n",
        "  sampleSpecific = FALSE\n",
        ")"
      ],
      "outputs": [],
      "execution_count": null,
      "metadata": {},
      "id": "e59a81ba-4849-4b6a-b2ec-f8ec86546dc4"
    },
    {
      "cell_type": "code",
      "source": [
        "# p1 <- MOCHA::plotRegion(countSE = countSE, motifSetName='Motifs',\n",
        "#                         motif_lab_size=4, motif_lab_alpha=0.5, motif_line_alpha=0.5, \n",
        "#                         whichGene=gene_name)\n",
        "# p1"
      ],
      "outputs": [],
      "execution_count": null,
      "metadata": {},
      "id": "0c9dd6af-dabb-46b7-86b1-d9e3e15eb040"
    },
    {
      "cell_type": "code",
      "source": [
        "# add delta\n",
        "countSE <- addAccessibilityShift(countSE,\n",
        "    foreground = \"cd4_naive.ARI\",\n",
        "    background = \"cd4_naive.CON2\")"
      ],
      "outputs": [],
      "execution_count": null,
      "metadata": {},
      "id": "8d944301-e2f2-4e1b-abd0-569d1afb1876"
    },
    {
      "cell_type": "code",
      "source": [
        "pdf(file.path(fig_path, paste0(proj_name, '_peak_regions_preRAvsHealthy_',\n",
        "                               gene_name,'_status.pdf')), \n",
        "    width = 4, height = 4)\n",
        "# Note that to show specific genes with the option \n",
        "# 'whichGene' you must have the package RMariaDB\n",
        "# installed\n",
        "p1 <- MOCHA::plotRegion(countSE = countSE, #showIdeogram=FALSE,\n",
        "                        whichGene=gene_name, counts_group_colors=c('#F59F00', '#5AAA46', '#840032'))\n",
        "p1\n",
        "dev.off()"
      ],
      "outputs": [],
      "execution_count": null,
      "metadata": {
        "tags": []
      },
      "id": "9a7ff8c1-de5e-4450-b955-3ab79ae4182d"
    },
    {
      "cell_type": "code",
      "source": [
        "p1 <- MOCHA::plotRegion(countSE = countSE, motifSetName='Motifs_fl',\n",
        "                        motif_lab_size=4, motif_lab_alpha=0.5, motif_line_alpha=0.5, \n",
        "                        whichGene=gene_name, counts_group_colors=c('#F59F00', '#5AAA46', '#840032'))\n",
        "p1"
      ],
      "outputs": [],
      "execution_count": null,
      "metadata": {},
      "id": "c8c14fae-21b4-4414-af11-7ddff3f534d2"
    },
    {
      "cell_type": "code",
      "source": [
        "names(metadata(countSE)$Motifs)%>%str_subset('BCL6|MAF|ROR|SMAD|STAT|BATF|IRF4|TBX21')"
      ],
      "outputs": [],
      "execution_count": null,
      "metadata": {},
      "id": "2351fd52-9ed0-41ad-82df-c401793e5e8e"
    },
    {
      "cell_type": "code",
      "source": [
        "# metadata(countSE)$Motifs%>%names()\n",
        "motif_plot = c('BCL6', 'STAT3')\n",
        "metadata(countSE)$Motifs_Trim = metadata(countSE)$Motifs[names(metadata(countSE)$Motifs)%in% motif_plot]"
      ],
      "outputs": [],
      "execution_count": null,
      "metadata": {},
      "id": "03b5afd7-aa46-4970-bbee-f5a2e7284844"
    },
    {
      "cell_type": "code",
      "source": [
        "IL21_peaks <- GRanges(seqnames = \"chr4\", ranges = IRanges(start = 122617000, end = 122617999))\n",
        "\n",
        "print('BCL6')\n",
        "metadata(countSE)$Motifs_Trim$BCL6%>%subsetByOverlaps(IL21_peaks,  type=\"any\")\n"
      ],
      "outputs": [],
      "execution_count": null,
      "metadata": {},
      "id": "96b580e9-0bbf-42e1-b1e7-dfdf18c44556"
    },
    {
      "cell_type": "code",
      "source": [
        "print('STAT3')\n",
        "metadata(countSE)$Motifs_Trim$STAT3%>%subsetByOverlaps(IL21_peaks,  type=\"any\")"
      ],
      "outputs": [],
      "execution_count": null,
      "metadata": {},
      "id": "5ea31009-468a-47ac-b936-039068a47db7"
    },
    {
      "cell_type": "code",
      "source": [
        "fig_path"
      ],
      "outputs": [],
      "execution_count": null,
      "metadata": {},
      "id": "c5a8149c-56f7-4b5d-99f1-f903e5562f2a"
    },
    {
      "cell_type": "code",
      "source": [
        "pdf(file.path(fig_path, paste0(proj_name, '_peak_regions_preRAvsHealthy_',\n",
        "                               gene_name,'_status_motif.pdf')), \n",
        "    width = 10, height = 10)\n",
        "p1 <- MOCHA::plotRegion(countSE = countSE, motifSetName='Motifs_Trim',\n",
        "                        motif_lab_size=3, motif_lab_alpha=0.5, motif_line_alpha=0.5,  \n",
        "                        whichGene=gene_name, counts_group_colors=c('#F59F00', '#5AAA46', '#840032'))\n",
        "p1\n",
        "dev.off()"
      ],
      "outputs": [],
      "execution_count": null,
      "metadata": {},
      "id": "a9955664-453c-4a21-9a78-4285c66fa700"
    },
    {
      "cell_type": "code",
      "source": [
        "# define a function to plot gene tracks\n",
        "PlotPromoterRegion <- function(SampleTileObj, gene_name, cellPopulations, groupColumn, numCores=15,\n",
        "                              sampleSpecific = FALSE, ...) {\n",
        "    gene_ranges <- txList[[gene_name]] %>% as_tibble() %>% \n",
        "        mutate(gene_range=paste0(seqnames, ':', start-2000, '-', end+2000))\n",
        "    countSE <- MOCHA::extractRegion(\n",
        "      SampleTileObj = SampleTileObj, \n",
        "      cellPopulations = cellPopulations,\n",
        "      region = gene_ranges$gene_range[1], \n",
        "      groupColumn = groupColumn,\n",
        "      numCores = numCores,\n",
        "      sampleSpecific = sampleSpecific\n",
        "    )\n",
        "        # add delta\n",
        "    # add delta\n",
        "    countSE <- addAccessibilityShift(countSE,\n",
        "        foreground = paste0(cellPopulations, \".ARI\"),\n",
        "        background = paste0(cellPopulations, \".CON2\"))\n",
        "    pdf(file.path(fig_path, paste0(proj_name,'atac_annotate_',cellPopulations, '_',\n",
        "                                   gene_name,'_gene_regions.pdf')), width = 5, height = 5)\n",
        "    p1 <- MOCHA::plotRegion(countSE = countSE, whichGene = gene_name, ...)\n",
        "    print(p1)\n",
        "    dev.off()   \n",
        "    return(p1)\n",
        "}"
      ],
      "outputs": [],
      "execution_count": null,
      "metadata": {},
      "id": "904e7636-06d9-4c24-b7ab-ca3339e3252b"
    },
    {
      "cell_type": "code",
      "source": [
        "SampleTileMatricesAnnotated"
      ],
      "outputs": [],
      "execution_count": null,
      "metadata": {},
      "id": "7421104f-edb7-4456-8413-feac7d8d1884"
    },
    {
      "cell_type": "code",
      "source": [
        "gene_name = 'IL6R'\n",
        "txList[[gene_name]] %>% as_tibble() %>% \n",
        "        mutate(gene_range=paste0(seqnames, ':', start-2000, '-', end+2000))"
      ],
      "outputs": [],
      "execution_count": null,
      "metadata": {},
      "id": "a681dcf3-d2cc-4d14-938a-2f19234bbb6b"
    },
    {
      "cell_type": "code",
      "source": [
        "chr1:154457000-154457499\t"
      ],
      "outputs": [],
      "execution_count": null,
      "metadata": {},
      "id": "a53706f7-4f31-4344-b773-a4121c86a471"
    },
    {
      "cell_type": "code",
      "source": [
        "PlotPromoterRegion(SampleTileObj = SampleTileMatricesAnnotated, gene_name = 'IL6R',\n",
        "                   cellPopulations='cd4_naive',groupColumn='status', \n",
        "                   counts_group_colors=c('#F59F00', '#5AAA46', '#840032'))"
      ],
      "outputs": [],
      "execution_count": null,
      "metadata": {},
      "id": "eba98972-e65b-4912-8887-b0ee85061f2c"
    },
    {
      "cell_type": "code",
      "source": [
        "countSE <- MOCHA::extractRegion(\n",
        "  SampleTileObj = SampleTileMatricesAnnotated, \n",
        "  cellPopulations = 'cd4_naive',\n",
        "  region = gene_ranges[1,]$gene_range, \n",
        "  groupColumn = 'status',\n",
        " # approxLimit = 120000,\n",
        "    numCores = 15,\n",
        "  sampleSpecific = FALSE\n",
        ")\n",
        "# add delta\n",
        "countSE <- addAccessibilityShift(countSE,\n",
        "    foreground = \"cd4_naive.ARI\",\n",
        "    background = \"cd4_naive.CON2\")\n"
      ],
      "outputs": [],
      "execution_count": null,
      "metadata": {},
      "id": "d1603881-0d49-44cc-8536-f93551980222"
    },
    {
      "cell_type": "code",
      "source": [
        "# export to bigwig\n",
        "exportCoverage(\n",
        "  SampleTileMatricesAnnotated,\n",
        "  dir = '/home/jupyter/data/preRA_teaseq/output_results/atac',\n",
        "  type = TRUE,\n",
        "  cellPopulations = \"cd4_naive\",\n",
        "  groupColumn = 'status',\n",
        "  sampleSpecific = FALSE,\n",
        "  saveFile = TRUE,\n",
        "  numCores = 15,\n",
        "  verbose = FALSE\n",
        ")"
      ],
      "outputs": [],
      "execution_count": null,
      "metadata": {},
      "id": "edb092cc-f40a-48b1-8cf1-9c6478cbda60"
    },
    {
      "cell_type": "code",
      "source": [
        "filter=(rowData(SampleTileMatricesAnnotated)$Gene %in% gene_names&\n",
        "        rowData(SampleTileMatricesAnnotated)$tileType == 'Promoter')\n",
        "filter[is.na(filter)]=FALSE\n",
        "\n",
        "prom_tiles <- assays(SampleTileMatricesAnnotated[filter, ])$cd4_naive %>% as_tibble(rownames = 'tiles') %>% \n",
        "    pivot_longer(cols = -tiles, names_to = 'Sample', values_to = 'normalized_counts')%>% \n",
        "    left_join(rowData(SampleTileMatricesAnnotated[filter, ])%>% as_tibble(rownames = 'tiles'), by='tiles')"
      ],
      "outputs": [],
      "execution_count": null,
      "metadata": {},
      "id": "3d79d6e9-1028-445f-8dc1-86b541dcba5d"
    },
    {
      "cell_type": "code",
      "source": [
        "assays(SampleTileMatricesAnnotated[filter, ])$cd4_naive %>% as_tibble(rownames = 'tiles')"
      ],
      "outputs": [],
      "execution_count": null,
      "metadata": {},
      "id": "50ab4aa9-bf4b-449e-a8a4-b291115feb52"
    },
    {
      "cell_type": "code",
      "source": [
        "SampleTileMatricesAnnotated[filter, ]%>% colData() %>% as_tibble() %>% select(Sample, subject_id)\n",
        "SampleTileMatricesAnnotated[filter, ] %>% rowData()"
      ],
      "outputs": [],
      "execution_count": null,
      "metadata": {},
      "id": "3e282308-824a-48b1-b2ff-08ebe06eeb11"
    },
    {
      "cell_type": "code",
      "source": [
        "# plot the corresponding gene \n",
        "gene_names <-c('FOS', 'JUND', 'EGR1', 'IRF7', 'IL17RA')\n",
        "gex_expression <- assays(cd4na_pseudo[gene_names, ])$logcounts %>% as_tibble(rownames = 'gene') %>% \n",
        "    pivot_longer(cols = -gene, names_to = 'subject_id', values_to = 'expression') %>%\n",
        "    left_join(cd4na_pseudo %>% colData() %>% as_tibble() %>% select(subject_id, cohort, age), by='subject_id')\n",
        "gex_expression %>% head()"
      ],
      "outputs": [],
      "execution_count": null,
      "metadata": {},
      "id": "de40a70e-7a8f-40c9-99a1-20cfa51aa380"
    },
    {
      "cell_type": "code",
      "source": [
        "gex_expression %>% ggplot(aes(x=cohort, y=expression))+\n",
        "    geom_violin(aes(fill=cohort))+\n",
        "    geom_jitter() + facet_wrap(vars(gene), scales = 'free_y')"
      ],
      "outputs": [],
      "execution_count": null,
      "metadata": {},
      "id": "f957bd4d-b08f-4b86-9360-5efd816c3446"
    },
    {
      "cell_type": "markdown",
      "source": [
        "## examine peaks associated with the Factor1 in mofa"
      ],
      "metadata": {},
      "id": "3468a0d3-8ec1-4643-8cc0-3178611d286d"
    },
    {
      "cell_type": "code",
      "source": [
        "# load mofa factor 1 values \n",
        "factor_values <- read_tsv('/home/jupyter/data/preRA_teaseq/output_results/MOFA/Mofa_preRA_cd4na_07192023_factor_values.tsv')%>%\n",
        "    mutate(subject_id=sample)\n",
        "\n",
        "f1_values <- factor_values %>% filter(factor=='Factor1') %>%\n",
        "    mutate(subject_id=sample, f1_value=value)\n",
        "f1_values"
      ],
      "outputs": [],
      "execution_count": null,
      "metadata": {},
      "id": "3166b5ef-5b44-4528-b3fa-e6d29af5c544"
    },
    {
      "cell_type": "code",
      "source": [
        "# make factor values as a summrized experiment\n",
        "factor_assay <- factor_values %>% dplyr::select(subject_id,factor,value) %>%\n",
        "    pivot_wider(id_cols = 'factor', names_from = 'subject_id', values_from = 'value') %>%\n",
        "    as.data.frame()\n",
        "rownames(factor_assay) = factor_assay$factor\n",
        "factor_assay <- factor_assay[, -1] %>% as.matrix()\n",
        "factor_coldata <- factor_values %>% dplyr::select(subject_id, sample.sampleKitGuid:cohort) %>%\n",
        "    distinct(sample.sampleKitGuid, .keep_all = TRUE)%>%\n",
        "    as.data.frame() \n",
        "rownames(factor_coldata) = factor_coldata$subject_id\n",
        "# \n",
        "factor_se <- SummarizedExperiment(assays = list(factors=factor_assay),\n",
        "                                 colData=factor_coldata)\n",
        "factor_se"
      ],
      "outputs": [],
      "execution_count": null,
      "metadata": {},
      "id": "adbc171e-3494-4120-8228-1bff8fa1aa84"
    },
    {
      "cell_type": "code",
      "source": [
        "# add factor 1\n",
        "# remove BR2024 sample from the atac data\n",
        "SampleTileMatricesAnnotated_fl <- \n",
        "    SampleTileMatricesAnnotated[, colData(SampleTileMatricesAnnotated)$subject_id!='BR2024']\n",
        "\n",
        "meta_data <- colData(SampleTileMatricesAnnotated_fl) %>% as_tibble() %>% \n",
        "    left_join(dplyr::select(f1_values, c(subject_id, f1_value)), by='subject_id')\n",
        "colData(SampleTileMatricesAnnotated_fl)$f1_value=meta_data$f1_value"
      ],
      "outputs": [],
      "execution_count": null,
      "metadata": {},
      "id": "c3a3dc68-43f6-4424-985d-88a8a3d5747c"
    },
    {
      "cell_type": "code",
      "source": [
        "colData(SampleTileMatricesAnnotated_fl) %>% colnames()"
      ],
      "outputs": [],
      "execution_count": null,
      "metadata": {},
      "id": "f1f6e3e0-84db-4a00-9bc7-25e42740e0e1"
    },
    {
      "cell_type": "code",
      "source": [
        "# # change the sample sample names to subject_id\n",
        "# colnames(SampleTileMatricesAnnotated_fl) <- colData(SampleTileMatricesAnnotated_fl)$subject_id\n",
        "# SampleTileMatricesAnnotated_fl"
      ],
      "outputs": [],
      "execution_count": null,
      "metadata": {},
      "id": "2326ae39-af45-4d10-aedf-5e8ba83973c3"
    },
    {
      "cell_type": "code",
      "source": [
        "counts(SampleTileMatricesAnnotated_fl) = assay(SampleTileMatricesAnnotated_fl, 'cd4_naive')"
      ],
      "outputs": [],
      "execution_count": null,
      "metadata": {},
      "id": "97d1ad7b-e6a4-4506-8cd6-3841bdb5158c"
    },
    {
      "cell_type": "code",
      "source": [
        "SampleTileMatricesAnnotated_fl"
      ],
      "outputs": [],
      "execution_count": null,
      "metadata": {},
      "id": "caff9cb6-e4a4-4ef6-a527-fe8c1e4cf7ed"
    },
    {
      "cell_type": "code",
      "source": [
        "# source('/home/jupyter/github/ChAI/R/association_functions.R')\n",
        "# source('/home/jupyter/github/ChAI/R/model_functions.R')"
      ],
      "outputs": [],
      "execution_count": null,
      "metadata": {},
      "id": "7c9e7943-25da-4201-a375-084b83554604"
    },
    {
      "cell_type": "code",
      "source": [
        "library('ChAI')"
      ],
      "outputs": [],
      "execution_count": null,
      "metadata": {},
      "id": "4abd4a63-bb30-43d5-be06-e00771590213"
    },
    {
      "cell_type": "code",
      "source": [
        "# test_atac <- ChAI::scATAC_Associations(SampleTileMatricesAnnotated_fl, \n",
        "#                                  sampleColumn='subject_id',\n",
        "#                                  numCores = 1, cellPopulation = 'counts',\n",
        "#                     continuousFormula='exp1 ~ exp2', \n",
        "#                                  generalList=c('Factor1', 'Factor2', 'Factor3', 'Factor4', 'Factor5'),\n",
        "#                     ziFormula='exp1 ~ 0 + exp2', \n",
        "#                                  tileList=cd4na_diff_sig,\n",
        "#                     generalSE = factor_se, generalAssay='factors')"
      ],
      "outputs": [],
      "execution_count": null,
      "metadata": {},
      "id": "0c2b9c66-35a1-4edf-946d-5b4d6f01c376"
    },
    {
      "cell_type": "code",
      "source": [
        "# add f1 values into metadata\n",
        "metadata(SampleTileMatricesAnnotated_fl)$f1_value = dplyr::select(as.data.frame(colData(SampleTileMatricesAnnotated_fl)), f1_value)\n",
        "metadata(SampleTileMatricesAnnotated_fl)$age = dplyr::select(as.data.frame(colData(SampleTileMatricesAnnotated_fl)), age)"
      ],
      "outputs": [],
      "execution_count": null,
      "metadata": {
        "tags": []
      },
      "id": "5b4addf1-644c-4c65-853f-4a854d3c93c2"
    },
    {
      "cell_type": "code",
      "source": [
        "MetaDF <- as.data.frame(SummarizedExperiment::colData(SampleTileMatricesAnnotated_fl))\n",
        "MetaDF %>% colnames()"
      ],
      "outputs": [],
      "execution_count": null,
      "metadata": {
        "tags": []
      },
      "id": "78292725-3c23-452c-af16-0ed5f14b41d7"
    },
    {
      "cell_type": "code",
      "source": [
        "metadata(SampleTileMatricesAnnotated_fl)$FragmentCounts\n",
        "SampleTileMatricesAnnotated"
      ],
      "outputs": [],
      "execution_count": null,
      "metadata": {},
      "id": "a165f67b-70ab-4da8-b8af-8974fea3bc56"
    },
    {
      "cell_type": "code",
      "source": [
        "# find out the sample to be remove\n",
        "sampleid_2024 <- colData(SampleTileMatricesAnnotated) %>% as_tibble() %>% dplyr::select(Sample, subject_id) %>% \n",
        "    filter(subject_id=='BR2024') %>%pull(Sample)\n",
        "sampleid_2024\n",
        "metadata(SampleTileMatricesAnnotated_fl)$FragmentCounts = \n",
        "    metadata(SampleTileMatricesAnnotated_fl)$FragmentCounts[-sampleid_2024,]"
      ],
      "outputs": [],
      "execution_count": null,
      "metadata": {
        "tags": []
      },
      "id": "4a629b3d-cc9e-43da-ba55-eaeba0aac1f5"
    },
    {
      "cell_type": "code",
      "source": [
        "metadata(SampleTileMatricesAnnotated_fl)$FragmentCounts[-sampleid_2024,]"
      ],
      "outputs": [],
      "execution_count": null,
      "metadata": {},
      "id": "54ed6358-6d25-4c29-b70f-2e4dac9a0c67"
    },
    {
      "cell_type": "code",
      "source": [
        "metadata(SampleTileMatricesAnnotated_fl)$FragmentCounts[\n",
        "    rownames(metadata(SampleTileMatricesAnnotated_fl)$FragmentCounts)!=sampleid_2024,]"
      ],
      "outputs": [],
      "execution_count": null,
      "metadata": {},
      "id": "4f9cfda8-970b-43c8-b000-c875438b4ab0"
    },
    {
      "cell_type": "code",
      "source": [
        "colData(SampleTileMatricesAnnotated_fl)$FragmentCounts"
      ],
      "outputs": [],
      "execution_count": null,
      "metadata": {
        "tags": []
      },
      "id": "f1f14347-b14a-4362-b20c-e691186d6123"
    },
    {
      "cell_type": "code",
      "source": [
        "colData(SampleTileMatricesAnnotated_fl)$FragNumber = metadata(SampleTileMatricesAnnotated_fl)$FragmentCounts[\n",
        "    rownames(metadata(SampleTileMatricesAnnotated_fl)$FragmentCounts)!=sampleid_2024,]"
      ],
      "outputs": [],
      "execution_count": null,
      "metadata": {},
      "id": "f37fa910-86b3-4bf1-98c8-221afb10af6c"
    },
    {
      "cell_type": "code",
      "source": [
        "SampleTileMatricesAnnotated_fl"
      ],
      "outputs": [],
      "execution_count": null,
      "metadata": {},
      "id": "668ff687-4238-47ab-9364-f570ad45ce79"
    },
    {
      "cell_type": "code",
      "source": [
        "# run zero inflated association for the f1 values and atac peaks \n",
        "f1_peaks <- ChAI::model_scATAC(atacSE = SampleTileMatricesAnnotated_fl, numCores = 60,\n",
        "                                ziFormula = '~ FragNumber + f1_value + age',\n",
        "                                continuousFormula='exp ~ f1_value + age', \n",
        "                                    cellPopulation = 'counts', verbose = TRUE)"
      ],
      "outputs": [],
      "execution_count": null,
      "metadata": {},
      "id": "17cd41e4-f65e-4af9-9587-a358d5477465"
    },
    {
      "cell_type": "code",
      "source": [
        "f1_peaks"
      ],
      "outputs": [],
      "execution_count": null,
      "metadata": {},
      "id": "11bc80a6-18e3-4313-893a-1d1755ddb46b"
    },
    {
      "cell_type": "code",
      "source": [
        "f1_peaks %>% saveRDS(file.path(output_path, paste0(proj_name, '_peaks_mofa_factor1_association.rds')))"
      ],
      "outputs": [],
      "execution_count": null,
      "metadata": {},
      "id": "2ba96f92-bbb9-4682-b8b8-ef1d02e36dd8"
    },
    {
      "cell_type": "code",
      "source": [
        "f1_peaks <- readRDS(file.path(output_path, paste0(proj_name, '_peaks_mofa_factor1_association.rds')))"
      ],
      "outputs": [],
      "execution_count": null,
      "metadata": {},
      "id": "7f4675bc-8809-4a00-99bb-d836a7f533d5"
    },
    {
      "cell_type": "code",
      "source": [
        "file.path(output_path, paste0(proj_name, '_peaks_mofa_factor1_association.rds'))"
      ],
      "outputs": [],
      "execution_count": null,
      "metadata": {},
      "id": "05413896-97f7-4dcd-8312-041d59a3f5f7"
    },
    {
      "cell_type": "code",
      "source": [
        "# get the promoters that significant associated with factor1\n",
        "f1_sig_promoter <- f1_peaks[((!is.na(assay(f1_peaks, 'f1_value')$FDR)&\n",
        "         assay(f1_peaks, 'f1_value')$FDR<0.05)|\n",
        "        (!is.na(assay(f1_peaks, 'ZI_f1_value')$FDR)& assay(f1_peaks, 'ZI_f1_value')$FDR<0.05)) & \n",
        "     (rowData(f1_peaks)$tileType =='Promoter'), ]\n",
        "f1_sig <- f1_peaks[((!is.na(assay(f1_peaks, 'f1_value')$FDR)&\n",
        "         assay(f1_peaks, 'f1_value')$FDR<0.01)), ]"
      ],
      "outputs": [],
      "execution_count": null,
      "metadata": {},
      "id": "843071e2-2176-47e2-bf40-f52bac1fd843"
    },
    {
      "cell_type": "code",
      "source": [
        "assay(f1_peaks, 'ZI_f1_value')$FDR %>% hist()\n",
        "assay(f1_peaks, 'f1_value')$FDR %>% hist()"
      ],
      "outputs": [],
      "execution_count": null,
      "metadata": {},
      "id": "5e1a0ea0-9c9e-4222-b4f7-a1c21b8b4a61"
    },
    {
      "cell_type": "code",
      "source": [
        "f1_sig\n",
        "rowData(f1_sig) %>% as_tibble() %>% group_by(tileType) %>% tally()"
      ],
      "outputs": [],
      "execution_count": null,
      "metadata": {},
      "id": "d8b009b0-51d3-4270-85ff-6cb00cd5b739"
    },
    {
      "cell_type": "code",
      "source": [
        "rowData(f1_sig)"
      ],
      "outputs": [],
      "execution_count": null,
      "metadata": {},
      "id": "c16db23d-a465-4411-8f67-a491b75be369"
    },
    {
      "cell_type": "code",
      "source": [
        "# get the significant genes associated with Facoter 1\n",
        "f1_sig_promoter <- rowData(f1_sig)[rowData(f1_sig)$tileType=='Promoter',]\n",
        "promoter_genes = f1_sig_promoter%>%as_tibble()%>%pull(Gene)%>%unique()\n",
        "# promoter_genes %>% length()\n",
        "promoter_genes %>% str_subset('IL\\\\d|CD\\\\d')"
      ],
      "outputs": [],
      "execution_count": null,
      "metadata": {},
      "id": "58945e52-2c9e-48f3-a95b-6f8068fc55b4"
    },
    {
      "cell_type": "code",
      "source": [
        "f1_sig_promoter_pw <- enrichr(promoter_genes, c('KEGG_2021_Human', 'MSigDB_Hallmark_2020'))\n"
      ],
      "outputs": [],
      "execution_count": null,
      "metadata": {},
      "id": "078ec768-77c0-4ffe-b35e-5c48b9d95110"
    },
    {
      "cell_type": "code",
      "source": [
        "f1_sig_promoter_pw['MSigDB_Hallmark_2020']"
      ],
      "outputs": [],
      "execution_count": null,
      "metadata": {},
      "id": "71e493ef-af90-4282-9489-a249c8ca08b2"
    },
    {
      "cell_type": "code",
      "source": [
        "# load the factor weight\n",
        "f1_weight <- read_tsv('/home/jupyter/data/preRA_teaseq/output_results/MOFA/Mofa_preRA_cd4na_07192023_factor_weights.tsv') %>%\n",
        "    filter(factor=='Factor1'&view=='rna') %>% mutate(Gene=str_remove(feature, 'rna_'))\n",
        "f1_weight %>% head()"
      ],
      "outputs": [],
      "execution_count": null,
      "metadata": {},
      "id": "dc127c10-37fc-441d-93ee-adcd08b19e32"
    },
    {
      "cell_type": "code",
      "source": [
        "# get mofit annotation\n",
        "f1_motifs <- chromVAR::getAnnotations(metadata(SampleTileMatricesAnnotated_fl)$Motifs, \n",
        "                                      rowRanges = rowRanges(f1_sig_promoter))\n",
        "rowData(f1_motifs)$f1_value_FDR=assay(f1_sig_promoter, 'f1_value')$FDR\n",
        "rowData(f1_motifs)$f1_value_Estimate=assay(f1_sig_promoter, 'f1_value')$Estimate"
      ],
      "outputs": [],
      "execution_count": null,
      "metadata": {},
      "id": "6330f852-6ac4-49fc-936c-d744e1c8bc8f"
    },
    {
      "cell_type": "code",
      "source": [
        "f1_motifs"
      ],
      "outputs": [],
      "execution_count": null,
      "metadata": {},
      "id": "fe5e7442-61f9-4e96-9566-51119c1c903d"
    },
    {
      "cell_type": "code",
      "source": [
        "# f1_motifs\n",
        "# filter genes that associated with NFAT family\n",
        "nfat = colnames(assay(f1_motifs, 'annotationMatches')) %>% str_subset('NFAT|STAT3')\n",
        "nfat\n",
        "# assay(f1_motifs, 'annotationMatches')[, nfat][rowSums(assay(f1_motifs, 'annotationMatches')[, nfat])>=1,]"
      ],
      "outputs": [],
      "execution_count": null,
      "metadata": {
        "tags": []
      },
      "id": "97f8c2a8-d0d4-42ef-8f7b-9c7102439975"
    },
    {
      "cell_type": "code",
      "source": [
        "# filter out the granges by NFAT\n",
        "nfat_motif <- f1_motifs[rowSums(assay(f1_motifs, 'annotationMatches')[, nfat])>=1, ]\n",
        "rowData(nfat_motif)$tileType %>% table()\n",
        "nfat_motif\n"
      ],
      "outputs": [],
      "execution_count": null,
      "metadata": {
        "tags": []
      },
      "id": "362926e5-aa39-4e71-a93b-9f0bde0dd88d"
    },
    {
      "cell_type": "code",
      "source": [
        "# join the NFAC genes associated with \n",
        "NFAT_genes <- rowData(nfat_motif) %>% \n",
        "    as_tibble(rownames = 'peak') %>% left_join(f1_weight, by='Gene')\n",
        "NFAT_genes %>% filter(abs(value)>0.6) %>% head()"
      ],
      "outputs": [],
      "execution_count": null,
      "metadata": {
        "tags": []
      },
      "id": "d2ce351f-7e86-4065-a03b-a74d8db89f07"
    },
    {
      "cell_type": "code",
      "source": [
        "NFAT_genes %>% filter()"
      ],
      "outputs": [],
      "execution_count": null,
      "metadata": {},
      "id": "a52cbb45-2c83-4bb8-85ed-56964b9544f6"
    },
    {
      "cell_type": "code",
      "source": [
        "# plot valcano plot\n",
        "EnhancedVolcano::EnhancedVolcano(NFAT_genes,\n",
        "    lab = NFAT_genes$Gene,\n",
        "    x = 'value',\n",
        "    y = 'f1_value_FDR',\n",
        "    pCutoff = 0.05,\n",
        "    FCcutoff = 0.6,\n",
        "    pointSize = 3.0,\n",
        "    labSize = 6.0) + xlim(-1, 1) + ylim(0, 3) + xlab('weight')\n",
        "ggsave(file.path(fig_path, paste0(proj_name, '_f1_NFAC_genes_valcano_plot.png')), width = 8, height = 8)"
      ],
      "outputs": [],
      "execution_count": null,
      "metadata": {},
      "id": "73e4ebcd-c2ea-4140-84cf-960e0d25897e"
    },
    {
      "cell_type": "code",
      "source": [
        "# run gene enrichment for NFAC famliy target genes\n",
        "NFAT_genes_sig <- NFAT_genes %>% filter(abs(value)>0.6) %>% pull(Gene) %>%unique()\n",
        "NFAT_genes_sig %>%length()\n",
        "enrich_cd4na_NFAT <- enrichr(NFAC3_genes_sig, c('KEGG_2021_Human', 'MSigDB_Hallmark_2020'))\n",
        " "
      ],
      "outputs": [],
      "execution_count": null,
      "metadata": {},
      "id": "79c68eb8-eeb4-4884-be33-197d96bc3559"
    },
    {
      "cell_type": "code",
      "source": [
        "NFAC3_genes_sig"
      ],
      "outputs": [],
      "execution_count": null,
      "metadata": {},
      "id": "89231809-f647-4b8d-8aec-0047597a1c4c"
    },
    {
      "cell_type": "code",
      "source": [
        "enrich_cd4na_NFAC3$MSigDB_Hallmark_2020 %>% filter(Adjusted.P.value<0.05) %>% \n",
        "    dplyr::select(-c(Old.P.value,Old.Adjusted.P.value))\n",
        "enrich_cd4na_NFAC3$KEGG_2021_Human %>% filter(Adjusted.P.value<0.05) %>% \n",
        "    dplyr::select(-c(Old.P.value,Old.Adjusted.P.value))"
      ],
      "outputs": [],
      "execution_count": null,
      "metadata": {},
      "id": "16bbde30-b555-460a-8fe6-f2feabfeff3e"
    },
    {
      "cell_type": "markdown",
      "source": [
        "## peak to gene correlation"
      ],
      "metadata": {},
      "id": "ade0ebc5-be09-4758-a6b9-666f052fb686"
    },
    {
      "cell_type": "code",
      "source": [
        "# load the sample tile matrix\n",
        "SampleTileMatricesAnnotated <- readRDS(file.path(output_path,\n",
        "                                        paste0(proj_name, '_scMACS_total_cd4na_SampleTileMatrices.rds')))"
      ],
      "outputs": [],
      "execution_count": null,
      "metadata": {},
      "id": "43339b55-5d53-44de-9575-aae3e9c9bf4b"
    },
    {
      "cell_type": "code",
      "source": [
        "# load the annotate pseudo gex dataset\n",
        "ra_tea_l2_pseudo <- readRDS(file.path(data_path, 'PreRA_teaseq_nichenet_all_cells_l2_subject_pseudoBulk.rds'\n",
        "                                ))"
      ],
      "outputs": [],
      "execution_count": null,
      "metadata": {},
      "id": "b9c3c569-335c-4044-810a-9b53c574aea9"
    },
    {
      "cell_type": "code",
      "source": [
        "# load the degs for cd4 naive\n",
        "# load the deg list\n",
        "ra_tea_l2_pseudo_degs <- \n",
        "    read_csv('/home/jupyter/data/preRA_teaseq/output_results/PreRA_teaseq_l2_annotation_PseudoBulk_degs_preRAvsHealthy.csv',\n",
        "            show_col_types = FALSE) %>%\n",
        "    filter(!is.na(FDR) & !is.na(logFC)) %>% mutate(direction=if_else(logFC>0, 'up', 'down'))\n",
        "# filter cd4 naive\n",
        "cd4na_pseudo_degs <- ra_tea_l2_pseudo_degs %>% filter(cell_type=='cd4_naive')\n",
        "cd4na_pseudo_degs %>% head()"
      ],
      "outputs": [],
      "execution_count": null,
      "metadata": {},
      "id": "d09a71b0-4bbc-493e-aabe-841d22ac549e"
    },
    {
      "cell_type": "code",
      "source": [
        "cd4na_pseudo_degs %>% nrow()"
      ],
      "outputs": [],
      "execution_count": null,
      "metadata": {},
      "id": "b0f072ed-774b-4021-9513-8577e5124a0c"
    },
    {
      "cell_type": "code",
      "source": [
        "# subset the cd4 naive\n",
        "cd4na_pseudo <- ra_tea_l2_pseudo[cd4na_pseudo_degs$gene, colData(ra_tea_l2_pseudo)$clean_l2_cell_types=='cd4_naive']\n",
        "# make colnames of the pseudo object as subject id\n",
        "colnames(cd4na_pseudo) <- colData(cd4na_pseudo)$subject_id\n",
        "cd4na_pseudo <- scuttle::logNormCounts(cd4na_pseudo)"
      ],
      "outputs": [],
      "execution_count": null,
      "metadata": {},
      "id": "21a2231d-fde4-42ef-af1d-83f3872fe8f5"
    },
    {
      "cell_type": "code",
      "source": [
        "cd4na_pseudo_degs %>%  filter(FDR<0.2&gene=='STAT3')"
      ],
      "outputs": [],
      "execution_count": null,
      "metadata": {},
      "id": "72459748-f8fb-4028-a29d-626df1e52c34"
    },
    {
      "cell_type": "code",
      "source": [
        "# get sample level nomralized gene matrix from seurat object\n",
        "ra_tea_cd4na <- SetIdent(ra_tea_cd4na, value = 'subject_id')\n",
        "# get the sample average corrected SCT gene expression data for cd4 anive\n",
        "cd4na_gex_mx <- AverageExpression(ra_tea_cd4na, features = cd4na_pseudo_degs %>% \n",
        "                                  filter(FDR<0.05) %>% pull(gene), assays = 'SCT')$SCT\n",
        "cd4na_gex_mx %>% dim()"
      ],
      "outputs": [],
      "execution_count": null,
      "metadata": {},
      "id": "ecffaa6e-969a-4b97-b26c-9f753d448f85"
    },
    {
      "cell_type": "markdown",
      "source": [
        "### test FigR correlation at Psudobulk"
      ],
      "metadata": {},
      "id": "673821cc-3249-4878-9cea-7e0e10806d2e"
    },
    {
      "cell_type": "code",
      "source": [
        "# try figR\n",
        "quiet_library(FigR)"
      ],
      "outputs": [],
      "execution_count": null,
      "metadata": {},
      "id": "d42d79df-0497-47e1-b530-b98c2d5e0e7b"
    },
    {
      "cell_type": "code",
      "source": [
        "# fill na with 0 in the peak counts\n",
        "ATAC.se=SampleTileMatricesAnnotated\n",
        "assay(ATAC.se)[is.na(assay(ATAC.se))] = 0"
      ],
      "outputs": [],
      "execution_count": null,
      "metadata": {},
      "id": "174e84b4-8a1a-4216-b1a1-f1ce6d7893ee"
    },
    {
      "cell_type": "code",
      "source": [
        "colnames(ATAC.se) = colData(ATAC.se)$subject_id"
      ],
      "outputs": [],
      "execution_count": null,
      "metadata": {},
      "id": "e21a00b8-799f-4e69-b604-99ac097c5065"
    },
    {
      "cell_type": "code",
      "source": [
        "ATAC.se"
      ],
      "outputs": [],
      "execution_count": null,
      "metadata": {},
      "id": "9bc17d18-3d56-44ed-a1ba-0e7dd578e540"
    },
    {
      "cell_type": "code",
      "source": [
        "ATAC.se <- chromVAR::addGCBias(ATAC.se,  genome = BSgenome.Hsapiens.UCSC.hg38)\n",
        "# bg <- chromVAR::getBackgroundPeaks(ATAC.se)"
      ],
      "outputs": [],
      "execution_count": null,
      "metadata": {},
      "id": "c9de22d6-cfe3-4287-bb3a-6d17c828ce5c"
    },
    {
      "cell_type": "code",
      "source": [
        "rowData(ATAC.se) %>% as_tibble(rownames = 'gemone_region') %>% filter(is.na(bias))"
      ],
      "outputs": [],
      "execution_count": null,
      "metadata": {},
      "id": "0a1c6c5b-9194-4a50-9ced-44ed43d19aff"
    },
    {
      "cell_type": "code",
      "source": [
        "options(repr.plot.width = 6, repr.plot.height = 6)\n",
        "rowData(ATAC.se) %>% as_tibble(rownames = 'gemone_region') %>% pull(bias) %>% hist()"
      ],
      "outputs": [],
      "execution_count": null,
      "metadata": {
        "tags": []
      },
      "id": "4aeac9bd-c12a-4ce6-95aa-f77c5f437e8a"
    },
    {
      "cell_type": "code",
      "source": [
        "counts(ATAC.se) = assay(ATAC.se)"
      ],
      "outputs": [],
      "execution_count": null,
      "metadata": {},
      "id": "9e3365b7-5e40-49d5-be42-4404d36dde54"
    },
    {
      "cell_type": "code",
      "source": [
        "ATAC.se <- ATAC.se[!is.na(rowData(ATAC.se)$bias), ]"
      ],
      "outputs": [],
      "execution_count": null,
      "metadata": {},
      "id": "609253ff-93c6-4c9e-a754-15a8e4db2542"
    },
    {
      "cell_type": "code",
      "source": [
        "rowData(ATAC.se)[is.na(rowData(ATAC.se)$bias), ]"
      ],
      "outputs": [],
      "execution_count": null,
      "metadata": {},
      "id": "8dcfc951-1cd5-4de6-a8b5-514d8b0e43c8"
    },
    {
      "cell_type": "code",
      "source": [
        "ATAC.se"
      ],
      "outputs": [],
      "execution_count": null,
      "metadata": {},
      "id": "8668a084-9fc4-479b-ae16-1cb0782f522e"
    },
    {
      "cell_type": "code",
      "source": [
        "# ATAC.se <- chromVAR::getBackgroundPeaks(ATAC.se)"
      ],
      "outputs": [],
      "execution_count": null,
      "metadata": {},
      "id": "11243dd2-4c68-4ba7-a05b-c7f264413b07"
    },
    {
      "cell_type": "code",
      "source": [
        "any(is.na(counts(ATAC.se)))"
      ],
      "outputs": [],
      "execution_count": null,
      "metadata": {},
      "id": "a4eebe29-563e-4e56-b051-308fc1dce50b"
    },
    {
      "cell_type": "code",
      "source": [
        "cd4na_gex_mx %>% colnames() %>% typeof()"
      ],
      "outputs": [],
      "execution_count": null,
      "metadata": {
        "tags": []
      },
      "id": "d1dee800-8397-4d8e-ba59-5cfd80699943"
    },
    {
      "cell_type": "code",
      "source": [
        "cd4na_gex_mx %>% colnames()\n",
        "ATAC.se %>% colnames() %>% str_extract('\\\\d')"
      ],
      "outputs": [],
      "execution_count": null,
      "metadata": {
        "tags": []
      },
      "id": "bf305140-9db1-4f54-862c-96aae1bd1239"
    },
    {
      "cell_type": "code",
      "source": [
        "names(colnames(cd4na_gex_mx)) <-NULL\n",
        "# ATAC.se"
      ],
      "outputs": [],
      "execution_count": null,
      "metadata": {},
      "id": "db7d4bff-d658-4822-b3c1-f9e115180f34"
    },
    {
      "cell_type": "code",
      "source": [
        "cd4na_gex_mx <- cd4na_gex_mx[, colnames(ATAC.se)]"
      ],
      "outputs": [],
      "execution_count": null,
      "metadata": {},
      "id": "851ea9e7-2568-490a-a996-cdfd57b2c34f"
    },
    {
      "cell_type": "code",
      "source": [
        "# Run using multiple cores if parallel support\n",
        "cisCor <- FigR::runGenePeakcorr(ATAC.se=ATAC.se,\n",
        "  cd4na_gex_mx,\n",
        "  genome='hg38',\n",
        "  geneList = NULL,\n",
        "  windowPadSize = 100000,\n",
        "  normalizeATACmat = FALSE,\n",
        "  nCores = 40,\n",
        "  keepPosCorOnly = FALSE,\n",
        "  keepMultiMappingPeaks = FALSE,\n",
        "  n_bg = 100,\n",
        "  p.cut = NULL)"
      ],
      "outputs": [],
      "execution_count": null,
      "metadata": {
        "tags": []
      },
      "id": "e5c9d855-7e7f-42cb-80cd-60411c5aeed9"
    },
    {
      "cell_type": "code",
      "source": [
        "cisCor %>% write_csv(file.path(output_path, paste0(proj_name, '_figR_cisCor_degs_correlation.csv')))"
      ],
      "outputs": [],
      "execution_count": null,
      "metadata": {},
      "id": "fd6b2444-d4c8-4a7c-9f0b-5a8d66e6b889"
    },
    {
      "cell_type": "code",
      "source": [
        "# load correlation results\n",
        "cisCor <- read_csv('/home/jupyter/data/preRA_teaseq/output_results/cd4_t/preRA_tea_seq_cd4tna_figR_cisCor_degs_correlation.csv')\n",
        "cisCor.filt <- cisCor %>% filter(pvalZ <= 0.05) %>% dplyr::rename('gene'='Gene') %>%\n",
        "    mutate(seqnames=str_split(PeakRanges, ':', simplify = TRUE)[,1], \n",
        "          start=str_split(PeakRanges, ':|-', simplify = TRUE)[,2],\n",
        "           end=str_split(PeakRanges, ':|-', simplify = TRUE)[,3])\n",
        "cisCor.filt %>% head()"
      ],
      "outputs": [],
      "execution_count": null,
      "metadata": {},
      "id": "fb1dee87-9e8a-4d79-b22e-1e87431e02ef"
    },
    {
      "cell_type": "code",
      "source": [
        "cisCor_granges <- cisCor.filt %>% GenomicRanges::makeGRangesFromDataFrame(keep.extra.columns=TRUE)"
      ],
      "outputs": [],
      "execution_count": null,
      "metadata": {},
      "id": "6a10a616-7824-4619-b7a7-22c9e3267dc5"
    },
    {
      "cell_type": "code",
      "source": [
        "cd4na_dap_cor <- filter_by_overlaps(cisCor_granges, cd4na_diff_sig)"
      ],
      "outputs": [],
      "execution_count": null,
      "metadata": {},
      "id": "4500f8c2-cad7-4947-9333-08a2e7949446"
    },
    {
      "cell_type": "code",
      "source": [
        "cd4na_dap_cor %>% filter(str_detect(gene, 'IL\\\\d|IKZF|CD\\\\d')) %>% as_tibble()"
      ],
      "outputs": [],
      "execution_count": null,
      "metadata": {},
      "id": "77c9d448-2cc1-4bfe-95a1-87009bb2eb54"
    },
    {
      "cell_type": "markdown",
      "source": [
        "### run motif enriment for each gene"
      ],
      "metadata": {},
      "id": "69abb817-0d93-4127-8813-9bcad764682a"
    },
    {
      "cell_type": "code",
      "source": [
        "# dorcGenes"
      ],
      "outputs": [],
      "execution_count": null,
      "metadata": {},
      "id": "61690804-55f7-4b1f-b0dd-a34fadb0c0f5"
    },
    {
      "cell_type": "code",
      "source": [
        "# Determine DORC genes\n",
        "dorcGenes <- cisCor %>% filter(pvalZ <= 0.05)  %>% dorcJPlot(cutoff=5, # Default\n",
        "                                       returnGeneList = TRUE)\n",
        "ggsave(file.path(fig_path, paste0(proj_name, '_figR_peak_gene_correlation_jplot.png')), width = 8, height = 6)"
      ],
      "outputs": [],
      "execution_count": null,
      "metadata": {},
      "id": "ca1cb608-21b9-4406-b477-108deef32e77"
    },
    {
      "cell_type": "code",
      "source": [
        "cd4na_diff_bg %>% filter_by_non_overlaps(cisCor.sel)"
      ],
      "outputs": [],
      "execution_count": null,
      "metadata": {
        "tags": []
      },
      "id": "3467a7d7-a611-4eea-ad98-4530bbc3d738"
    },
    {
      "cell_type": "code",
      "source": [
        "# for each genes that have 5 or more peaks correlated run motif enrichment\n",
        "dorc_motif <- mclapply(dorcGenes, function(dorc_gene){\n",
        "    cisCor.sel <- cisCor.filt %>% filter(gene == dorc_gene) %>%\n",
        "        GenomicRanges::makeGRangesFromDataFrame(keep.extra.columns=TRUE)\n",
        "    cisCor.motif <- MOCHA::MotifEnrichment(cisCor.sel, Group2 = cd4na_diff_bg %>% filter_by_non_overlaps(cisCor.sel), \n",
        "                                                  motifPosList=metadata(SampleTileMatricesAnnotated)$Motifs)%>% \n",
        "        as_tibble(rownames = 'motif') %>% \n",
        "        mutate(sig=if_else(adjp_val<0.05, 'sig', 'not sig'),\n",
        "              'correlated_gene'=dorc_gene)\n",
        "    return(cisCor.motif)\n",
        "}, mc.cores = 58) %>% rbindlist()\n"
      ],
      "outputs": [],
      "execution_count": null,
      "metadata": {},
      "id": "11deb94a-b3b5-4321-a479-c75c39072e3a"
    },
    {
      "cell_type": "code",
      "source": [
        "dorc_motif <- dorc_motif %>% dplyr::rename('gene'='correlated_gene')"
      ],
      "outputs": [],
      "execution_count": null,
      "metadata": {},
      "id": "0f8f482b-b459-4372-92cd-1c8519cc9946"
    },
    {
      "cell_type": "code",
      "source": [
        "dorc_motif %>% head()"
      ],
      "outputs": [],
      "execution_count": null,
      "metadata": {},
      "id": "4b552b27-cacd-41e7-9c81-3dc84f691355"
    },
    {
      "cell_type": "code",
      "source": [
        "dorc_motif %>% \n",
        "    filter(adjp_val<0.05) %>% distinct(motif) %>% nrow()\n",
        "dorc_motif %>% \n",
        "    filter(adjp_val<0.05) %>% distinct(gene\n",
        "                                      ) %>% nrow()"
      ],
      "outputs": [],
      "execution_count": null,
      "metadata": {},
      "id": "2a890663-c1c8-48ff-8653-a99523c5a201"
    },
    {
      "cell_type": "code",
      "source": [
        "dorc_motif %>% \n",
        "    filter(adjp_val<0.05) %>% group_by(gene) %>% tally() %>% ggplot(aes(x=n))+geom_histogram()"
      ],
      "outputs": [],
      "execution_count": null,
      "metadata": {},
      "id": "1c70bf85-d3cd-4b7b-a618-6b4f2ed94b3e"
    },
    {
      "cell_type": "code",
      "source": [
        "# find a list of motif gene asscoiateion that hold true in both\n",
        "cd4na_tf_gex_cor_fl <- cd4na_tf_gex_cor %>% left_join(dorc_motif, by=c('motif', 'gene')) %>% \n",
        "    filter(p.value<0.05&adjp_val<0.05) %>% \n",
        "    mutate(corr_direction=if_else(spearman_cor>0, 'pos', 'neg'), \n",
        "          motif_gene=paste(motif, gene, sep = '_'))"
      ],
      "outputs": [],
      "execution_count": null,
      "metadata": {},
      "id": "5d22db53-f25b-4fde-930b-207ed0ece68c"
    },
    {
      "cell_type": "code",
      "source": [
        "cd4na_tf_gex_cor_fl %>% head()\n",
        "cd4na_tf_gex_cor_fl %>% nrow()"
      ],
      "outputs": [],
      "execution_count": null,
      "metadata": {
        "tags": []
      },
      "id": "6abd5e9a-d1b3-42db-aeb5-e4aca4ea1809"
    },
    {
      "cell_type": "code",
      "source": [
        "cd4na_tf_gex_cor_fl %>% ggplot(aes(x=spearman_cor, y=enrichment, label=motif_gene)) +\n",
        "    geom_point() + ggrepel::geom_text_repel()\n",
        "ggsave(file.path(fig_path, paste0(proj_name, '_chromVAR_tf_deviation_peaks_gex_pairs_sig.png')),\n",
        "       width = 8, height = 8)"
      ],
      "outputs": [],
      "execution_count": null,
      "metadata": {},
      "id": "e51216a1-3e76-4b5e-ba3d-0fc31235b212"
    },
    {
      "cell_type": "code",
      "source": [
        "motif_gene_cor_counts=cd4na_tf_gex_cor_fl %>% group_by(motif, corr_direction) %>% tally() %>%\n",
        "    mutate(n=if_else(corr_direction=='neg', -n, n)) \n",
        "# motif_gene_cor_counts\n",
        "motif_gene_cor_counts %>% ggplot(aes(x=n, y=motif, fill=corr_direction)) + geom_col()\n",
        "ggsave(file.path(fig_path, paste0(proj_name, '_chromVAR_tf_deviation_peaks_gex_correlation_sig.png')),\n",
        "       width = 6, height = 8)"
      ],
      "outputs": [],
      "execution_count": null,
      "metadata": {},
      "id": "cebe6726-87c2-4f3c-903f-a0a1468087f0"
    },
    {
      "cell_type": "code",
      "source": [
        "enrich_cd4na_tf_gex_cor_fl <- enrichr(cd4na_tf_gex_cor_fl$gene %>% unique(), c('KEGG_2021_Human', 'MSigDB_Hallmark_2020'))\n"
      ],
      "outputs": [],
      "execution_count": null,
      "metadata": {},
      "id": "2bc51f0c-f617-4f10-a2ad-4e2355c1d453"
    },
    {
      "cell_type": "code",
      "source": [
        "enrich_cd4na_tf_gex_cor_fl$MSigDB_Hallmark_2020 %>% filter(Adjusted.P.value<0.05)"
      ],
      "outputs": [],
      "execution_count": null,
      "metadata": {},
      "id": "7bb624cb-025e-4fef-84ab-98eac6f8321c"
    },
    {
      "cell_type": "code",
      "source": [
        "# cisCor.filt %>% head()\n",
        "marker_gene <- c('GATA3', 'RORC', 'RORA','FOXP3', 'TBX21', 'IKZF2', 'STAT3', 'RORA', 'IFNG-AS1', 'CCL5')\n",
        "cisCor.filt %>% filter(Gene %in% marker_gene) "
      ],
      "outputs": [],
      "execution_count": null,
      "metadata": {},
      "id": "f3630391-b916-45fc-a179-08f046765e38"
    },
    {
      "cell_type": "code",
      "source": [
        "numDorcs <- cisCor.filt %>% group_by(Gene) %>% tally() %>% arrange(desc(n))\n",
        "numDorcs"
      ],
      "outputs": [],
      "execution_count": null,
      "metadata": {
        "tags": []
      },
      "id": "0a18b2c0-b7fc-4891-963e-090dab57a072"
    },
    {
      "cell_type": "code",
      "source": [
        "dorcMat <- getDORCScores(ATAC.se = ATAC.se, # Has to be same SE as used in previous step\n",
        "                         dorcTab = cisCor.filt,\n",
        "                         geneList = dorcGenes,\n",
        "                         nCores = 40)"
      ],
      "outputs": [],
      "execution_count": null,
      "metadata": {},
      "id": "88dabc03-19ef-4d14-8529-11dfe99a8525"
    },
    {
      "cell_type": "code",
      "source": [
        "# dorcMat"
      ],
      "outputs": [],
      "execution_count": null,
      "metadata": {},
      "id": "332ae2fc-6075-4eb7-9764-cd05c6868cee"
    },
    {
      "cell_type": "code",
      "source": [
        "fig.d <- runFigRGRN(ATAC.se=ATAC.se,\n",
        "                    rnaMat=cd4na_gex_mx, # Smoothed RNA matrix using paired cell kNNs\n",
        "                    dorcMat=dorcMat,\n",
        "                    dorcTab=cisCor.filt,\n",
        "                    genome=\"hg38\",\n",
        "                    dorcGenes=dorcGenes,\n",
        "                    nCores=40)"
      ],
      "outputs": [],
      "execution_count": null,
      "metadata": {},
      "id": "92b7c900-a77c-4fde-8bd9-9c7af091b6bd"
    },
    {
      "cell_type": "code",
      "source": [
        "fig.d"
      ],
      "outputs": [],
      "execution_count": null,
      "metadata": {
        "tags": []
      },
      "id": "214b66b5-00b4-4219-ba48-49e5b618e195"
    },
    {
      "cell_type": "code",
      "source": [
        "#' @title \\code{PeakGeneLinks}\n",
        "#'\n",
        "#' @description \\code{PeakGeneLinks} takes an input set of regions (tiles) and finds co-accessible neighboring regions within a window. Co-accessibility is defined as the correlation between two region intensity (openness) across samples.\n",
        "#'\n",
        "#' @param SampleTileObj The SummarizedExperiment object output from getSampleTileMatrix containing your sample-tile matrices\n",
        "#' @param seRNA The SummarizedExperiment object from single cell RNA. The names of the assays should be cell types. Cell type and sample names must match SampleTileObj.\n",
        "#' @param windowSize the size of the window, in basepairs, around each input region to search for co-accessible links \n",
        "#' @param susbetData If samples and cell type annotations don't align across seRNA and SampleTileObj, run correlation across those celltypes/samples that do align. \n",
        "#' @param numCores Optional, the number of cores to use with multiprocessing. Default is 1.\n",
        "#'\n",
        "#' @return \n",
        "#' \n",
        "#' @details The technical details of the zero-inflated correlation can be\n",
        "#'          found here:\n",
        "#'\n",
        "#'               Pimentel, Ronald Silva, \"Kendall's Tau and Spearman's Rho\n",
        "#'               for Zero-Inflated Data\" (2009). Dissertations.\n",
        "#'\n",
        "#'          while the implementation (scHOT R package), can be found here:\n",
        "#'               http://www.bioconductor.org/packages/release/bioc/html/scHOT.html\n",
        "#'\n",
        "#'\n",
        "#' @export\n",
        "\n",
        "getPeakGeneLinks <- function(SampleTileObj, seRNA,\n",
        "                                 specificGenes = NULL, \n",
        "                                 windowSize = 1 * 10^6, \n",
        "                                 numCores = 1, \n",
        "\t\t\t\t\t\t\t\t subsetData = FALSE,\n",
        "                                 verbose = FALSE) {\n",
        "  \n",
        "  \n",
        "  ## Pull out the gene list of interest\n",
        "  geneList <- SummarizedExperiment::rowRanges(seRNA)\n",
        "  \n",
        "  if(!is.null(specificGenes)){\n",
        "\tif (class(specificGenes) == \"GRanges\") {\t\n",
        "\t\tgeneDF <- as.data.frame(specificGenes)\n",
        "\t  } else if (class(specificGenes) == \"character\") {\n",
        "\t  \n",
        "\t\tgeneDF <- plyranges::filter(geneList, gene %in% specificGenes)\n",
        "\t\tif(length(geneDf) == 0){stop('Those specific genes were not found. Please provide list of gene symbols.')}\n",
        "\t\tif(length(geneDf) < length(specificGenes)){\n",
        "\t\t\tdiffGenes <- length(specificGenes) - length(geneDf)\n",
        "\t\t\twarning(paste(diffGenes, ' genes not found within seRNA object', sep = ''))\n",
        "\t\t}\n",
        "\t\t\n",
        "\t\t\n",
        "\t  } else {\n",
        "\t\tstop('Invalid input type for \"specificGenes\": must be either \"GRanges\" or a character vector')\n",
        "\t  }\n",
        "  }else{\n",
        "  \n",
        "\tgeneDF <- as.data.frame(geneList)\n",
        "  \n",
        "  }\n",
        "  \n",
        "  \n",
        "  #### Extract matrices for gene expression and tile accessibility\n",
        "  \n",
        "  if(! any(names(assays(seRNA)) %in% names(assays(sampleTileObject)))){\n",
        "  \n",
        "\tstop('No cell type labels align between the seRNA and sampleTileObject')\n",
        "  \n",
        "  }else{\n",
        "  \n",
        "\ttileSamples <- SummarizedExperiment::colData(SampleTileObj)\n",
        "\tgeneSamples <- SummarizedExperiment::colData(seRNA)\n",
        "\t\n",
        "\toverlapSamples <- sum(rownames(tileSamples) %in% rownames(geneSamples))\n",
        "\t\n",
        "\tif(overlapSamples == 0){\n",
        "\t\n",
        "\t\tstop('Sample names between seRNA and SampleTileObj do not match')\n",
        "\t\n",
        "\t}else if((overlapSamples < dim(tileSamples)[1] | overlapSamples < dim(geneSamples)[1])){\n",
        "\t\n",
        "\t\t\n",
        "\t\t\n",
        "\t\tif(subsetData){\n",
        "\t\t\n",
        "\t\t\twarning(paste('Subsetting down to the ', overlapSamples, ' Samples overlap between ' dim(tileSamples)[1] ' scATAC and ', dim(geneSamples)[1], ' scRNA samples', sep = '' ))\n",
        "\t\t\t\n",
        "\t\t\t\n",
        "\t\t\tsubsetSTObj <- SampleTileObj[,colnames(SampleTileObj) %in% colnames(geneSamples)]\n",
        "\t\t\tsubsetRNAObj <- seRNA[,colnames(SampleTileObj) %in% colnames(geneSamples)]\n",
        "\t\t\t\t\n",
        "\t\t}else{\n",
        "\t\t\n",
        "\t\t\tstop(paste('Only ', overlapSamples, ' Samples overlap between ' dim(tileSamples)[1] ' scATAC and ', dim(geneSamples)[1], ' scRNA samples. Set subsetData = TRUE to run correlation anyways.', sep = '' ))\n",
        "\t\t\n",
        "\t\t}\n",
        "\t\t\n",
        "\t\n",
        "\t}else{\n",
        "\t\n",
        "\t\n",
        "\t\tsubsetSTObj <- SampleTileObj\n",
        "\t\tsubsetRNAObj <- seRNA\n",
        "\t\n",
        "\t}\n",
        "\t\n",
        "\t\n",
        "\tcellTypeOverlap <- \tnames(assays(seRNA))[names(assays(subsetSTObj)) %in% names(assays(subsetRNAObj))]\n",
        "\t\n",
        "\tif(!all(names(assays(seRNA)) %in% names(assays(sampleTileObject))) & !subsetData){\n",
        "\t\n",
        "\t\n",
        "\t\tstop(paste('Not all cell types are found in both seRNA and SampleTileObj. Set subsetData = TRUE to run correlation on only the following celltypes: ', cellTypeOverlap, sep = '' ))\n",
        "\t\t\n",
        "\t\n",
        "\t}else{\n",
        "\t\n",
        "\t\twarning(paste('Not all cell types are found in both seRNA and SampleTileObj. Running correlations for the following celltypes: ', cellTypeOverlap, sep = '' ))\n",
        "\t\t\n",
        "\t\t\t\t\n",
        "\t\ttileDF <- getFullMatrix(subsetSTObj, cellTypes = cellTypeOverlap) \n",
        "\t \n",
        "\t\tstart_tiles <- as.numeric(gsub(\"chr.*\\\\:|\\\\-.*\", \"\", rownames(tileDF)))\n",
        "\t\tend_tiles <- as.numeric(gsub(\"chr.*\\\\:|.*\\\\-\", \"\", rownames(tileDF)))\n",
        "\t\tchr <- gsub(\"\\\\:.*\", \"\", rownames(tileDF))\n",
        "\t  \n",
        "\t\tgeneExpression <- getFullMatrix(subsetRNAObj, cellTypes = cellTypeOverlap) \n",
        "\t\t\n",
        "\t}\n",
        "\t\n",
        "  }\n",
        "    \n",
        "\n",
        "  # Initialize correlation datatable\n",
        "  PG_Corr <- NULL\n",
        "  pb <- txtProgressBar(min = 0, max = nrows(geneExpression), initial = 0, style = 3)\n",
        "  \n",
        "  for (i in 1:nrows(geneExpression)) {\n",
        "    setTxtProgressBar(pb, i)\n",
        "    \n",
        "    # Find all neighboring tiles in the window\n",
        "    windowIndexBool <- which(start_tiles > geneDF$start[i] - windowSize / 2 &\n",
        "                          end_tiles < geneDF$end[i] + windowSize / 2 &\n",
        "                          chr == geneDF$seqnames[i])\n",
        "    \n",
        "    if (length(windowIndexBool) > 0) {\n",
        "      \n",
        "      nextCorr <- peakToGene(tileDF[windowIndexBool, drop=FALSE], \n",
        "\t\t\t\t\t\t\t\tgeneExpression = geneExpression[i,], \n",
        "\t\t\t\t\t\t\t\tgeneName = geneDF$gene[i],\n",
        "                                  numCores = numCores,\n",
        "                                  verbose = verbose\n",
        "      )\n",
        "      # For first iteration, PG_Corr is NULL so it will be ignored\n",
        "      PG_Corr <- rbind(PG_Corr, nextCorr)\n",
        "    } else if (verbose) {\n",
        "      warning(\n",
        "        \"No neighboring tiles found for given gene: \",\n",
        "        stringr::str_interp(\n",
        "         \"${geneDF$gene[i]} at ${geneDF$seqnames[i]}:${geneDF$start[i]}-${geneDF$end[i]}\"\n",
        "        ),\n",
        "        stringr::str_interp(\" with windowSize ${windowSize} basepairs\")\n",
        "      )\n",
        "    }\n",
        "  }\n",
        "  \n",
        "  close(pb)\n",
        "  PG_Corr\n",
        "}\n",
        "\n",
        "\n",
        "#' @title \\code{co_accessibility}\n",
        "#'\n",
        "#' @description \\code{co_accessibility} allows you to determine whether 2 tiles\n",
        "#'              are co-accessible using a zero-inflated spearman correlation.\n",
        "#'\n",
        "#'\n",
        "#' @param mat sample-tile matrix with regions to analyze\n",
        "#' @param numCores integer to determine # of parallel cores\n",
        "#'\n",
        "#' @return a 3-column data.frame containing\n",
        "#'         - Correlation = Zero-inflated Spearman Correlation\n",
        "#'         - Tile1 = location of co-accessible region 1\n",
        "#'         - Tile2 = location of co-accessible region 2\n",
        "#'\n",
        "#' @details The technical details of the zero-inflated correlation can be\n",
        "#'          found here:\n",
        "#'\n",
        "#'               Pimentel, Ronald Silva, \"Kendall's Tau and Spearman's Rho\n",
        "#'               for Zero-Inflated Data\" (2009). Dissertations.\n",
        "#'\n",
        "#'          while the implementation (scHOT R package), can be found here:\n",
        "#'               http://www.bioconductor.org/packages/release/bioc/html/scHOT.html\n",
        "#'\n",
        "#' @references XX\n",
        "#' @examples\n",
        "#' Generate\n",
        "#' mat1 <- matrix(pmax(0, rnorm(1000)), ncol = 100)\n",
        "#' row.names(mat1) <- paste(\"A\", 1:10, sep = \"_\")\n",
        "#' ziSpear_mat <- co_accessibility(mat1, numCores = 5)\n",
        "#' head(ziSpear_mat)\n",
        "#'\n",
        "#' @internal\n",
        "#' @noRd\n",
        "\n",
        "peakToGene <- function(subTileMat, geneExpression, geneName, numCores = 1, verbose = FALSE) {\n",
        " \n",
        "  # If only one pair of tiles left, then nrows will hit an error.\n",
        "  # length()==2 is equivalent to one row (pair)\n",
        "  if (dim(subTileMat)[1] == 0 & verbose) {\n",
        "    warning(\"Warning: No tiles found in neighborhood of region of interest\")\n",
        "    return(NULL)\n",
        "  } else if (dim(subTileMat)[1] == 0) {\n",
        "    return(NULL)\n",
        "  } else if (dim(subTileMat)[1] == 1) {\n",
        "    \n",
        "    # If only one pair of tiles to test, then it's no longer a data.frame, but a vector.\n",
        "    zero_inflated_spearman <- scMACS:::weightedZISpearman(\n",
        "      x = geneExpression,\n",
        "      y = subTileMat[1,]\n",
        "    )\n",
        "\n",
        "    zi_spear_mat <- data.table(\n",
        "      Correlation = zero_inflated_spearman,\n",
        "      Gene = geneName,\n",
        "      Tile = rownames(subTileMat)\n",
        "    )\n",
        "  } else {\n",
        "    \n",
        "    # General case for >1 pair\n",
        "    zero_inflated_spearman <- unlist(parallel::mclapply(1:nrow(subTileMat),\n",
        "      function(x) {\n",
        "        scMACS:::weightedZISpearman(\n",
        "          x = geneExpression,\n",
        "          y = subTileMat[x,]\n",
        "        )\n",
        "      },\n",
        "      mc.cores = numCores\n",
        "    ))\n",
        "\n",
        "    # Create zero-inflated correlation matrix from correlation values\n",
        "    zi_spear_mat <- data.table(\n",
        "      Correlation = zero_inflated_spearman,\n",
        "      Gene = rep(geneName, length( zero_inflated_spearman)),\n",
        "      Tile = rownames(subTileMat)\n",
        "    )\n",
        "  }\n",
        "\n",
        "  return(zi_spear_mat)\n",
        "}\n",
        "\n",
        "#######################################################################################\n",
        "#' scHOT implemented Pimentel's zero-inflated (ZI) correlation\n",
        "#' in their R package, providing implementations\n",
        "#' of the ZI spearman and tau rank correlations.\n",
        "#' scMACS implements a slight modification of\n",
        "#' scHOT's zero-inflated correlation measure, by\n",
        "#' returning NAs in the cases where the correlation\n",
        "#' is undefined, and modifying it to use a C-backed correlation program.\n",
        "#' Both references are provided below and are\n",
        "#' referenced in all documentations to indicate\n",
        "#' their work in implementing these methods.\n",
        "#'\n",
        "#'\n",
        "#' Description:\n",
        "#' the weightedZISpearman function calculates weighted rho\\*,\n",
        "#' where rho\\* is described in Pimentel et al (2009).\n",
        "#' This association measure is defined for zero-inflated,\n",
        "#' non-negative random variables.\n",
        "#'\n",
        "#' @title weightedZISpearman\n",
        "#' @param w weight vector, values should be between 0 and 1\n",
        "#' @param x x and y are non-negative data vectors\n",
        "#' @param y x and y are non-negative data vectors\n",
        "#' @return \\code{numeric} weighted rho* association value between x and y\n",
        "#'\n",
        "#'\n",
        "#' @references scHOT\n",
        "#' Ghazanfar, S., Lin, Y., Su, X. et al. Investigating higher-order interactions in\n",
        "#'   single-cell data with scHOT. Nat Methods 17, 799–806 (2020).\n",
        "#'   https://doi.org/10.1038/s41592-020-0885-x\n",
        "#'\n",
        "#' Zero-Inflated Correlation\n",
        "#' Pimentel, Ronald Silva, \"Kendall's Tau and Spearman's Rho for\n",
        "#'   Zero-Inflated Data\" (2009). Dissertations. 721.\n",
        "#'   https://scholarworks.wmich.edu/dissertations/721\n",
        "#'\n",
        "#' @internal\n",
        "#' @noRd\n",
        "\n",
        "weightedZISpearman <- function(x, y, w = 1) {\n",
        "\n",
        "  # needs the original values, not the ranks\n",
        "\n",
        "  if (any(x < 0 | y < 0)) {\n",
        "    stop(\"x and/or y values have negative values\")\n",
        "  }\n",
        "  if (length(x) != length(y)) {\n",
        "    stop(\"x and y should have the same length\")\n",
        "  }\n",
        "  if (length(w) == 1) {\n",
        "    w <- rep(w, length(x))\n",
        "  }\n",
        "\n",
        "  posx <- x > 0\n",
        "  posy <- y > 0\n",
        "  pospos <- posx & posy\n",
        "\n",
        "  p_11 <- sum(w * pospos) / sum(w)\n",
        "  p_00 <- sum(w * (!posx & !posy)) / sum(w)\n",
        "  p_01 <- sum(w * (!posx & posy)) / sum(w)\n",
        "  p_10 <- sum(w * (posx & !posy)) / sum(w)\n",
        "\n",
        "\n",
        "  if (any(pospos) & p_11 > 0) {\n",
        "    rho_11 <- wCorr::weightedCorr(x = x[pospos], y = y[pospos], weights = w[pospos], method = \"Spearman\")\n",
        "  } else {\n",
        "    print(\"Zero inflated Spearman correlation is undefined,\n",
        "          returning NA\")\n",
        "    rho <- NA\n",
        "    return(rho)\n",
        "  }\n",
        "\n",
        "  rho_star <- p_11 * (p_01 + p_11) * (p_10 + p_11) * rho_11 +\n",
        "    3 * (p_00 * p_11 - p_10 * p_01)\n",
        "\n",
        "  if (is.na(rho_star)) {\n",
        "    print(\"Zero inflated Spearman correlation is undefined,\n",
        "          returning NA\")\n",
        "    rho <- NA\n",
        "    return(rho)\n",
        "  }\n",
        "\n",
        "\n",
        "\n",
        "  return(rho_star)\n",
        "}\n",
        "\n",
        "\n",
        "# Extract a combined matrix of sample-cell type pseudobulks, with cell types and samples sorted.\n",
        "getFullMatrix <- function(SampleTileObj, cellTypes){\n",
        "\n",
        "\t#Extract all assays\n",
        "\tsortedSamples <- lapply(as.list(assays(sampleTileObject)), function(x){\n",
        "\t\n",
        "\t\t\t\t\tx[,sort(colnames(x))]\n",
        "\t\t\t}\n",
        "\tnames(subAssay) <- names(assays(SampleTileObj))\n",
        "\n",
        "\t#subset to just populations of interest\n",
        "\tsubAssay <- sortedSamples[names(assays(SampleTileObj)) %in% cellTypes]\n",
        "\n",
        "\t#Sort cell types so that they're in the same order\n",
        "\tsortedAssays <- subAssay[sort(names(subAssay))]\n",
        "\t\n",
        "\t#Column-bind the list of data.frames into one combined matrix\n",
        "\tcombMat <- do.call('cbind', sortedAssays)\n",
        "\t\n",
        "\treturn(combMat)\n",
        "s\n",
        "}"
      ],
      "outputs": [],
      "execution_count": null,
      "metadata": {},
      "id": "b15a0eb2-35ac-4f9d-8929-c16612717d93"
    },
    {
      "cell_type": "markdown",
      "source": [
        "## MOTIF analysis"
      ],
      "metadata": {},
      "id": "4e365cb1-3821-44f2-ae49-346bb44380f4"
    },
    {
      "cell_type": "markdown",
      "source": [
        "### motif enrichment by chromVAR by cell types"
      ],
      "metadata": {
        "tags": []
      },
      "id": "a3c069b9-07a1-401e-b78c-562d8138286b"
    },
    {
      "cell_type": "code",
      "source": [
        "library(chromVAR)\n",
        "library(motifmatchr)\n",
        "library(BSgenome.Hsapiens.UCSC.hg38)\n",
        "library(BiocParallel)\n",
        "set.seed(2017)\n",
        "library(Matrix)"
      ],
      "outputs": [],
      "execution_count": null,
      "metadata": {},
      "id": "73694248-0e30-4e72-b71d-5810f0ef28bc"
    },
    {
      "cell_type": "code",
      "source": [
        "register(MulticoreParam(60, progressbar = TRUE))"
      ],
      "outputs": [],
      "execution_count": null,
      "metadata": {},
      "id": "405a66b2-6bef-4531-9aca-1a007d1243aa"
    },
    {
      "cell_type": "code",
      "source": [
        "#Getting GC content of peaks\n",
        "SampleTileMatrices <- addGCBias(SampleTileMatrices, \n",
        "                            genome = BSgenome.Hsapiens.UCSC.hg38)"
      ],
      "outputs": [],
      "execution_count": null,
      "metadata": {},
      "id": "7301beab-c8af-4580-ae42-50dd9df0132f"
    },
    {
      "cell_type": "code",
      "source": [
        "cd4na_diff_sig <- cd4na_diff[(!is.na(elementMetadata(cd4na_diff)[,'FDR'])) & \n",
        "                             (elementMetadata(cd4na_diff)[,'FDR']>0.2) & \n",
        "                             (elementMetadata(cd4na_diff)[,'Log2FC_C']>0.1)]\n",
        "cd4na_diff_sig"
      ],
      "outputs": [],
      "execution_count": null,
      "metadata": {
        "tags": []
      },
      "id": "70143305-73f8-4daa-9bea-1a3897ccd41a"
    },
    {
      "cell_type": "code",
      "source": [
        "# motif_enrichment\n",
        "# filter significant daps\n",
        "cd4na_diff_bg <- cd4na_diff[(!is.na(elementMetadata(cd4na_diff)[,'FDR'])) & \n",
        "                             (elementMetadata(cd4na_diff)[,'FDR']>0.2)]\n",
        "cd4na_dap_sig_up <- cd4na_diff[(!is.na(elementMetadata(cd4na_diff)[,'FDR'])) & \n",
        "                             (elementMetadata(cd4na_diff)[,'FDR']<0.2) & \n",
        "                             (elementMetadata(cd4na_diff)[,'MeanDiff']>0)]\n",
        "cd4na_up_motif <- MOCHA::MotifEnrichment(cd4na_dap_sig_up, Group2 = cd4na_diff_bg, \n",
        "                                                  motifPosList=metadata(SampleTileMatricesAnnotated)$Motifs)%>% \n",
        "    as_tibble(rownames = 'motif') %>% \n",
        "    mutate(sig=if_else(adjp_val<0.05, 'sig', 'not sig'))\n"
      ],
      "outputs": [],
      "execution_count": null,
      "metadata": {},
      "id": "b08dbacf-332c-49ac-8528-b613a174e981"
    },
    {
      "cell_type": "code",
      "source": [
        "# motif down \n",
        "cd4na_dap_sig_down <- cd4na_diff[(!is.na(elementMetadata(cd4na_diff)[,'FDR'])) & \n",
        "                             (elementMetadata(cd4na_diff)[,'FDR']<0.2) & \n",
        "                             (elementMetadata(cd4na_diff)[,'MeanDiff']<0)]\n",
        "cd4na_down_motif <- \n",
        "    MOCHA::MotifEnrichment(cd4na_dap_sig_down,\n",
        "                           Group2 = cd4na_diff_bg, \n",
        "                           motifPosList=metadata(SampleTileMatricesAnnotated)$Motifs)%>% \n",
        "    as_tibble(rownames = 'motif')%>% \n",
        "    mutate(sig=if_else(adjp_val<0.05, 'sig', 'not sig'))\n"
      ],
      "outputs": [],
      "execution_count": null,
      "metadata": {
        "tags": []
      },
      "id": "5075c549-7dd1-4579-b770-96ebd4f26907"
    },
    {
      "cell_type": "code",
      "source": [
        "# cd4na_dap_sig_up"
      ],
      "outputs": [],
      "execution_count": null,
      "metadata": {
        "tags": []
      },
      "id": "ddc7133f-c2bc-49d5-855a-81459f42afb3"
    },
    {
      "cell_type": "code",
      "source": [
        "cd4na_sig_up_motif <- cd4na_diff_sig_up_motif %>% as_tibble(rownames = 'motif') %>% \n",
        "    filter(adjp_val<0.05)"
      ],
      "outputs": [],
      "execution_count": null,
      "metadata": {
        "tags": []
      },
      "id": "8054af77-468e-428e-9e35-2a6ffe956b71"
    },
    {
      "cell_type": "code",
      "source": [
        "# cd4na_diff$MeanDiff %>% unique()"
      ],
      "outputs": [],
      "execution_count": null,
      "metadata": {},
      "id": "ea840f21-7f94-4f76-9f1d-ce587593bcbf"
    },
    {
      "cell_type": "code",
      "source": [
        "p1 <- cd4na_up_motif %>%\n",
        "    ggplot(aes(x=enrichment, y=mlog10Padj, color=sig)) +\n",
        "    geom_point() + ggrepel::geom_label_repel(aes(label=motif)) +\n",
        "    ggtitle('motif enriched in peaks up preRA')\n",
        "p2 <- cd4na_down_motif  %>%\n",
        "    ggplot(aes(x=enrichment, y=mlog10Padj, color=sig)) +\n",
        "    geom_point() + ggrepel::geom_label_repel(aes(label=motif)) +\n",
        "    ggtitle('motif enriched in peaks up Healthy')\n",
        "p1+p2\n",
        "ggsave(file.path(fig_path, paste0(proj_name, 'peaks_motif_enriched.png')), width = 12, height = 6)"
      ],
      "outputs": [],
      "execution_count": null,
      "metadata": {},
      "id": "502b26d6-884d-4fe6-b5fe-198a3703d502"
    },
    {
      "cell_type": "code",
      "source": [
        "cd4na_up_motif %>% filter(str_detect(motif, 'STAT|FOXP|ROR'))"
      ],
      "outputs": [],
      "execution_count": null,
      "metadata": {},
      "id": "edd167e5-0059-44ab-9ebf-a2c3307dc01e"
    },
    {
      "cell_type": "code",
      "source": [
        "# Filtering inputs\n",
        "# find indices of samples to keep\n",
        "sampleTileMatrics_fl <- filterSamples(SampleTileMatrices, min_depth = 1500, \n",
        "                                 min_in_peaks = 0.15, shiny = FALSE)"
      ],
      "outputs": [],
      "execution_count": null,
      "metadata": {},
      "id": "bfc930be-a3f8-4732-8084-f5dc4e30206d"
    },
    {
      "cell_type": "code",
      "source": [
        "sampleTileMa"
      ],
      "outputs": [],
      "execution_count": null,
      "metadata": {},
      "id": "391e9341-dfbd-4784-bff0-4cf7c7b3f64d"
    },
    {
      "cell_type": "code",
      "source": [
        "# create a assay for cd4 naive\n",
        "sampleTileMatrics_cd4na <- SummarizedExperiment(assays=list(counts=assay(sampleTileMatrics, 'cd4_memory')),\n",
        "                     #rowData=rowData(sampleTileMatrics), \n",
        "                                                rowRanges=rowRanges(sampleTileMatrics),\n",
        "                     colData=colData(sampleTileMatrics),\n",
        "                     metadata=metadata(sampleTileMatrics))\n"
      ],
      "outputs": [],
      "execution_count": null,
      "metadata": {},
      "id": "83043753-4d0d-44ba-8dc3-f2325b660d05"
    },
    {
      "cell_type": "code",
      "source": [
        "# Filtering inputs\n",
        "#find indices of samples to keep\n",
        "# sampleTileMatrics_cd4na <- filterSamples(sampleTileMatrics_cd4na, min_depth = 1500, \n",
        "#                                  min_in_peaks = 0.15, shiny = FALSE)\n",
        "# sampleTileMatrics_cd4na <- chromVAR::filterPeaks(sampleTileMatrics_cd4na, non_overlapping = TRUE)\n"
      ],
      "outputs": [],
      "execution_count": null,
      "metadata": {},
      "id": "1844d2c9-785b-4ff2-9d20-9fc8dbc9333f"
    },
    {
      "cell_type": "code",
      "source": [
        "sampleTileMatrics_cd4na_fl <- filterPeaks(sampleTileMatrics_cd4na, non_overlapping = TRUE)"
      ],
      "outputs": [],
      "execution_count": null,
      "metadata": {},
      "id": "283df51d-188e-455d-babf-cfa6215a9a0e"
    },
    {
      "cell_type": "code",
      "source": [
        "sampleTileMatrics_cd4na_fl"
      ],
      "outputs": [],
      "execution_count": null,
      "metadata": {},
      "id": "b2c08b16-eef0-4c2c-880a-fe181f9372b3"
    },
    {
      "cell_type": "code",
      "source": [
        "motifs <- getJasparMotifs()\n",
        "motif_cd4na <- matchMotifs(motifs, sampleTileMatrics_cd4na_fl, \n",
        "                        genome = BSgenome.Hsapiens.UCSC.hg38)"
      ],
      "outputs": [],
      "execution_count": null,
      "metadata": {},
      "id": "cd609cf5-81f8-475c-b29d-3da8b7eb2968"
    },
    {
      "cell_type": "code",
      "source": [
        "bg <- getBackgroundPeaks(object = sampleTileMatrics_cd4na_fl)\n",
        "\n",
        "motif_cd4na_dev <- computeDeviations(object = sampleTileMatrics_cd4na_fl, annotations = motif_cd4na,\n",
        "                                    background_peaks = bg)\n"
      ],
      "outputs": [],
      "execution_count": null,
      "metadata": {},
      "id": "400dbac1-fa2d-4f86-a213-7f332a1bd146"
    },
    {
      "cell_type": "code",
      "source": [
        "variability <- computeVariability(motif_cd4na_dev)\n",
        "plotVariability(variability, use_plotly = FALSE)"
      ],
      "outputs": [],
      "execution_count": null,
      "metadata": {},
      "id": "ba0f8ea8-1a85-4641-8259-bd525c6c95a4"
    },
    {
      "cell_type": "code",
      "source": [
        "row_anno <- colData(motif_cd4na_dev)[, c('subject_id','cohort')] %>% as.data.frame()\n",
        "row.names(row_anno) <- row.names(colData(motif_cd4na_dev))\n",
        "row_anno"
      ],
      "outputs": [],
      "execution_count": null,
      "metadata": {},
      "id": "29d71b43-46b5-46aa-b195-1e6582b75d80"
    },
    {
      "cell_type": "code",
      "source": [
        "sample_cor <- getSampleCorrelation(motif_cd4na_dev)\n",
        "\n",
        "library(pheatmap)\n",
        "pheatmap(as.dist(sample_cor), \n",
        "         annotation_row = row_anno,\n",
        "         clustering_distance_rows = as.dist(1-sample_cor), \n",
        "         clustering_distance_cols = as.dist(1-sample_cor)\n",
        "        )"
      ],
      "outputs": [],
      "execution_count": null,
      "metadata": {},
      "id": "22b2df02-b73b-400f-8442-8b7df76027f4"
    },
    {
      "cell_type": "code",
      "source": [
        "diff_acc <- differentialDeviations(motif_cd4na_dev, \"cohort\")\n",
        "diff_acc %>% filter(p_value<0.01)"
      ],
      "outputs": [],
      "execution_count": null,
      "metadata": {},
      "id": "ad83b9b1-2e4d-4d11-9af7-7c72fece80fc"
    },
    {
      "cell_type": "code",
      "source": [
        "# add the tile information to the differentail results\n",
        "tile_info <- rowData(SampleTileMatricesAnnotated) %>% as.data.table(keep.rownames = 'Tile')\n",
        "differentials <- differentials %>% left_join(tile_info, by='Tile')"
      ],
      "outputs": [],
      "execution_count": null,
      "metadata": {},
      "id": "f389d9ec-5b5b-4040-8807-cf29b04f90e2"
    },
    {
      "cell_type": "code",
      "source": [
        "# save the differential results\n",
        "differentials %>% fwrite(file.path(output_path, \n",
        "                                  paste0(proj_name, '_scMACS_DAPs_RAvsHealthy.tsv')))"
      ],
      "outputs": [],
      "execution_count": null,
      "metadata": {},
      "id": "66b59a85-62c3-469e-8970-5e88e429e599"
    },
    {
      "cell_type": "code",
      "source": [
        "# save the differential results\n",
        "differentials <- fread(file.path(output_path, \n",
        "                                  paste0(proj_name, '_scMACS_DAPs_RAvsHealthy.tsv')))"
      ],
      "outputs": [],
      "execution_count": null,
      "metadata": {},
      "id": "2c6bdf5e-f50b-4098-9807-31caefda9032"
    },
    {
      "cell_type": "code",
      "source": [
        "differentials %>% filter(!is.na(FDR))  %>% ggplot() + geom_histogram(aes(FDR))"
      ],
      "outputs": [],
      "execution_count": null,
      "metadata": {},
      "id": "9911a687-3f09-4ad7-a607-417037da2a71"
    },
    {
      "cell_type": "code",
      "source": [
        "differentials %>% filter(FDR<0.2 & !is.na(Gene))"
      ],
      "outputs": [],
      "execution_count": null,
      "metadata": {
        "tags": []
      },
      "id": "e522c750-1d1a-4c86-b586-ae8903ea6af2"
    },
    {
      "cell_type": "markdown",
      "source": [
        "### GREAT analysis"
      ],
      "metadata": {},
      "id": "9dc9ce11-b39f-403f-8351-f94ddcf19697"
    },
    {
      "cell_type": "code",
      "source": [
        "library(rGREAT)"
      ],
      "outputs": [],
      "execution_count": null,
      "metadata": {},
      "id": "cf20d73b-5f6e-419b-b319-d1e5e7e3a51e"
    },
    {
      "cell_type": "code",
      "source": [
        "# get the differntial peaks and the background peaks\n",
        "cd4na_dap <- cd4na_diff[(!is.na(elementMetadata(cd4na_diff)[,'FDR'])) & (elementMetadata(cd4na_diff)[,'FDR']<0.2)]\n",
        "cd4na_bgp <- cd4na_diff[(!is.na(elementMetadata(cd4na_diff)[,'FDR'])) & (elementMetadata(cd4na_diff)[,'FDR']>0.2)]"
      ],
      "outputs": [],
      "execution_count": null,
      "metadata": {},
      "id": "1e989d1f-2590-4169-aae3-44a25d651b1d"
    },
    {
      "cell_type": "code",
      "source": [
        "job = submitGreatJob(gr = cd4na_dap, bg = cd4na_diff, species = \"hg38\")"
      ],
      "outputs": [],
      "execution_count": null,
      "metadata": {},
      "id": "762a981b-325a-4e61-bdce-60b33e10388d"
    },
    {
      "cell_type": "code",
      "source": [
        "job"
      ],
      "outputs": [],
      "execution_count": null,
      "metadata": {},
      "id": "ca2dd857-b785-4a84-81cc-6d384fa2fe87"
    },
    {
      "cell_type": "code",
      "source": [
        "tb = getEnrichmentTables(job)"
      ],
      "outputs": [],
      "execution_count": null,
      "metadata": {},
      "id": "8de5bfa9-324a-42f7-93ed-6a1b45f75c37"
    },
    {
      "cell_type": "code",
      "source": [
        "tb2 = getEnrichmentTables(job, download_by = \"tsv\")"
      ],
      "outputs": [],
      "execution_count": null,
      "metadata": {},
      "id": "7fb6b2fb-dd3d-4ccb-9812-ca9f7b47001e"
    },
    {
      "cell_type": "code",
      "source": [
        "availableOntologies(job)"
      ],
      "outputs": [],
      "execution_count": null,
      "metadata": {
        "tags": []
      },
      "id": "cfffb16a-54f2-420b-a470-cf6657edf01a"
    },
    {
      "cell_type": "code",
      "source": [
        "res = plotRegionGeneAssociationGraphs(job)"
      ],
      "outputs": [],
      "execution_count": null,
      "metadata": {},
      "id": "d2f2807a-1b45-44b8-a558-102ec4f79fd7"
    },
    {
      "cell_type": "code",
      "source": [
        "res[1:10, ]"
      ],
      "outputs": [],
      "execution_count": null,
      "metadata": {},
      "id": "7e31c43a-37d9-4d94-bd0f-7fdc3794af74"
    },
    {
      "cell_type": "markdown",
      "source": [
        "### Motif enrichment"
      ],
      "metadata": {
        "tags": []
      },
      "id": "3a70685e-5e89-4edc-999d-77f1406534a8"
    },
    {
      "cell_type": "code",
      "source": [
        "##########\n",
        "### Functions for motif analysis (enrichment and chromVar)\n",
        "#' @title \\code{addMotifSet}\n",
        "#'\n",
        "#' @description \\code{addMotifSet}Identify motifs within peakset\n",
        "#'\n",
        "#' @param SE_Object your scMACS SummarizedExperiment. Requires Genome AnnotationDbi object within the metadata added by getSampleTileMatrix\n",
        "#' @param pwms a pwms object for the motif database. Either PFMatrix, PFMatrixList, PWMatrix, or PWMatrixLis'\n",
        "#' @param w the width for motifmatchr\n",
        "#' @param returnObj if TRUE, return the modified SE_Object with motif set added to metadata (default). If FALSE, return the motifs from motifmatchr.\n",
        "#' @param motifSetName name of the motifList in the SE_object's metadata if returnObj=TRUE. Default is 'Motifs'.\n",
        "#'\n",
        "#' @return the modified SE_Object with motifs added to the metadata\n",
        "#' @examples\n",
        "#' \\dontrun{\n",
        "#' # load a curated motif set from library(chromVARmotifs) included with ArchR installation\n",
        "#' data(human_pwms_v2)\n",
        "#' SE_with_motifs <- addMotifSet(SE_Object, pwms = human_pwms_v2, returnObj = TRUE, motifSetName = \"Motifs\", w = 7)\n",
        "#' }\n",
        "#'\n",
        "#' @export\n",
        "\n",
        "addMotifSet <- function(SE_Object, pwms, w = 7, \n",
        "                        returnObj = TRUE, motifSetName = \"Motifs\") {\n",
        "  TotalPeakSet <- rowRanges(SE_Object)\n",
        "  genome <- metadata(SE_Object)$Genome\n",
        "  motif_ix <- motifmatchr::matchMotifs(\n",
        "    pwms = pwms,\n",
        "    TotalPeakSet,\n",
        "    genome = genome,\n",
        "    out = \"positions\", w = w\n",
        "  )\n",
        "  names(motif_ix) <- sub(\"_D_.*|_I_.*\", \"\", names(motif_ix)) %>%\n",
        "    sub(\"_I$|_D$\", \"\", .) %>%\n",
        "    sub(\".*_LINE\", \"\", .) %>%\n",
        "    sub(\".*_\", \"\", .)\n",
        "\n",
        "  motifList <- list(motif_ix)\n",
        "  names(motifList) <- motifSetName\n",
        "\n",
        "  if (returnObj) {\n",
        "    metadata(SE_Object) <- append(metadata(SE_Object), motifList)\n",
        "    return(SE_Object)\n",
        "  } else {\n",
        "    return(motif_ix)\n",
        "  }\n",
        "}\n",
        "\n",
        "\n",
        "## runChromVar is a wrapper for chromVAR from scMACS\n",
        "## Obj could be a ragged experiment or a sumarized experiment\n",
        "## motifGRangesList is a list of all motif positions in a GRangesList format\n",
        "## genome is the reference genome we use\n",
        "\n",
        "\n",
        "runChromVar <- function(Obj, motifs,\n",
        "                       genome =  BSgenome.Hsapiens.UCSC.hg38){\n",
        "    \n",
        "    if(class(Obj)[1] == \"RaggedSummarizedExperiment\" & class(motifs)[1]=='GRangesList'){\n",
        "        \n",
        "        Obj1 <- RaggedExperiment::compactSummarizedExperiment(RepTiles, i = 'TotalIntensity')\n",
        "        tmp <- SummarizedExperiment::assays(Obj1)\n",
        "        tmp[[1]][is.na(tmp[[1]])] = 0\n",
        "        names(tmp) <- \"counts\"\n",
        "        assays(Obj1) <- tmp\n",
        "\n",
        "\tmotifGRangesList = motifs\n",
        "        \n",
        "    }else if(class(Obj)[1] == \"RangedSummarizedExperiment\"){\n",
        "        \n",
        "        if( !names(assays(Obj)) %in% 'counts'){\n",
        "        \n",
        "\t\t\n",
        "            \n",
        "        }else if(class(motifs)[1] == 'GRangesList'){\n",
        "            \n",
        "            Obj1 = Obj\n",
        "\t    motifGRangesList = motifs\n",
        "\t    \n",
        "        }else if(class(motifs)[1] == 'character' & any(names(metadata(Obj)) %in% motifs)){\n",
        "            \n",
        "            Obj1 = Obj\n",
        "\t    motifGRangesList = metadata(Obj)[[motifs]]\n",
        "\t    \n",
        "        }else{\n",
        "\n",
        "\t    stop('Error: No motifset found. Check input')\n",
        "\t}\n",
        "        \n",
        "    }else{\n",
        "    \n",
        "        stop('Error: Wrong Input Object. Must be either a RaggedExperiment or a RangedSummarizedExperiment')\n",
        "    }     \n",
        "\n",
        "    CisbpAnno <- chromVAR::getAnnotations(motifGRangesList, rowRanges = rowRanges(Obj1))\n",
        "\n",
        "    Obj1 <- chromVAR::addGCBias(Obj1, genome = genome)\n",
        "    \n",
        "    dev <- chromVAR::computeDeviations(object = Obj1, \n",
        "                         annotations = CisbpAnno)\n",
        "    \n",
        "    return(dev)\n",
        "}\n",
        "\n",
        "\n",
        "\n",
        "#################      Category          Not in Category       Total\n",
        "## Group1      length(Group1Cat)        length(OnlyGroup1)       m \n",
        "## Group2      length(Group2Cat)        length(OnlyGroup2)       n\n",
        "# Total                  k\n",
        "                 \n",
        "### Enrichment test for GRanges. Test for enrichment of Category within Group1\n",
        "### @Group1 - A GRanges object for one set of positions\n",
        "### @Group2 - The background GRanges object, non-overlapping with Group1.\n",
        "### @Category - A GRanges object of known locations, such as motifs, that you want to test for enrichment in Group1.\n",
        "### @type - Default is null. You can use this to pull out or simplify the test to a metadata column within the GRanges \n",
        "###          for Group1 and Group2. For example, if you want to test for enrichment of all genes, instead of open regions. \n",
        "###          If type = null, then it will just use the number of Ranges instead of the number of unique \n",
        "###           entries in column 'type'\n",
        "EnrichedRanges <- function(Group1, Group2, Category, type = NULL, returnTable = FALSE){\n",
        "    \n",
        "    Group1Cat <- plyranges::filter_by_overlaps(Group1, Category) \n",
        "    Group2Cat <- plyranges::filter_by_overlaps(Group2, Category)\n",
        "   \n",
        "    OnlyGroup1 <- plyranges::filter_by_non_overlaps(Group1, Category)\n",
        "    OnlyGroup2 <- plyranges::filter_by_non_overlaps(Group2, Category)\n",
        "    \n",
        "    if(returnTable & is.null(type)){\n",
        "\n",
        "        dt_table <- data.frame(Group1 = c(length(Group1Cat), length(OnlyGroup1)), \n",
        "                               Group2 = c(length(Group2Cat), length(OnlyGroup2)), \n",
        "                       row.names = c('In Category', 'Not in Category')) \n",
        "    \n",
        "        return(t(dt_table))\n",
        "        \n",
        "    }else if(returnTable & \n",
        "             sum(c(colnames(mcols(Group1)),colnames(mcols(Group2))) %in% type) == 2 &\n",
        "             length(type) == 1){\n",
        "        \n",
        "       dt_table <- data.frame(Group1 = c(length(unique(GenomicRanges::mcols(Group1Cat)[,type])), \n",
        "                                          length(unique(GenomicRanges::mcols(OnlyGroup1)[,type]))), \n",
        "                               Group2 = c(length(unique(GenomicRanges::mcols(Group2Cat)[,type])), \n",
        "                                         length(unique(GenomicRanges::mcols(OnlyGroup2)[,type]))), \n",
        "                       row.names = c('In Category', 'Not in Category')) \n",
        "    \n",
        "        return(t(dt_table))\n",
        "       \n",
        "    }else if(returnTable){\n",
        "        \n",
        "        stop('Error: Incorrect method or column name. Please check input')      \n",
        "    }\n",
        "    \n",
        "    if(is.null(type)){\n",
        "        \n",
        "       pVal <- phyper(q = length(Group1Cat), \n",
        "           m = length(Group1), \n",
        "           n = length(Group2),\n",
        "           k = length(Group1Cat) + length(Group2Cat),\n",
        "            lower.tail=FALSE)\n",
        "\n",
        "       enrichment <- (length(Group1Cat)/length(Group1))/(length(Group2Cat)/length(Group2))\n",
        "        \n",
        "    }else if(sum(c(colnames(mcols(Group1)),colnames(mcols(Group2))) %in% type) == 2 &\n",
        "             length(type) == 1){\n",
        "        \n",
        "       pVal <- phyper(q = length(unique(mcols(Group1Cat)[,type])), \n",
        "           m = length(unique(mcols(Group1)[,type])), \n",
        "           n = length(unique(mcols(Group2)[,type])),\n",
        "           k = length(unique(mcols(Group1Cat)[,type])) + length(unique(mcols(Group2Cat)[,type])),\n",
        "                     lower.tail=FALSE)\n",
        "        \n",
        "       enrichment <- (length(unique(mcols(Group1Cat)[,type]))/length(unique(mcols(Group1)[,type])))/\n",
        "                    (length(unique(mcols(Group2Cat)[,type]))/length(unique(mcols(Group2)[,type])))\n",
        "        \n",
        "    }else{\n",
        "        \n",
        "        stop('Error: Incorrect method or column name. Please check input')\n",
        "        \n",
        "    }\n",
        "    \n",
        "    return(data.frame(p_value = pVal, enrichment = enrichment))\n",
        "    \n",
        "}\n",
        "    \n",
        "######## Test all motifs for enrichment.\n",
        "    \n",
        "\n",
        "MotifEnrichment <- function(Group1, Group2, motifPosList, type = NULL, numCores = 1){\n",
        "    \n",
        "    \n",
        "    allEnrichmentList <- mclapply(motifPosList, function(x){\n",
        "        \n",
        "        tmp_df <- EnrichedRanges(Group1, Group2, Category = x, type = type)\n",
        "        \n",
        "    }, mc.cores = numCores)\n",
        "    df_final <- do.call('rbind',  allEnrichmentList)\n",
        "\n",
        "    df_final$adjp_val <- p.adjust(df_final$p_value)\n",
        "    df_final$mlog10Padj <- -log10(df_final$adjp_val)\n",
        "    \n",
        "    return(df_final)\n",
        "\n",
        "}\n",
        "    \n",
        "############# Pull out all the motifs associated with each gene according to a set of TSS sites\n",
        "\n",
        "## @TSS_Sites - GRanges objects that are the list of TSS sites of interest. \n",
        "##              Must include a column 'name' which has the associated gene name\n",
        "## @allPeaks - GRanges object of all peaks \n",
        "## @TSS_Links - a data.table object that record all the peak-peak links by co-accessibility\n",
        "##              Must include columns named 'Peak1' and 'Peak2' which contain a string describing\n",
        "##              each peak in the format 'chr1:100-2000' and must be identical to peaks listed in\n",
        "##              allPeaks\n",
        "## @motifPosList - a GRangesList, which each index is a GRanges of all positions \n",
        "##                  for a given motif. GRangesList must be named. \n",
        "## @numCores - number of cores to multithread over. \n",
        "    \n",
        "    \n",
        "Gene2Motif <- function(TSS_Sites, allPeaks, TSS_Links, motifPosList, \n",
        "                       numCores = 1, verbose = FALSE){\n",
        "    \n",
        "    if(verbose){ print('Generating TSS-Peak Network.')}\n",
        "    \n",
        "    TSS_Network <- c(TSS_Links$Peak1, TSS_Links$Peak2, \n",
        "                           GRangesToString(TSS_Sites)) %>%\n",
        "                   unique() %>%\n",
        "                  StringsToGRanges(.) %>% \n",
        "                plyranges::filter_by_overlaps(allPeaks, .)\n",
        "    \n",
        "    if(verbose){ print('Finding all motifs related to each peak within the TSS-Peak Network.')}\n",
        "    ##Let's find all the motifs that overlap with each peak within the altTSS Network\n",
        "    tmpOverlap <- mclapply(seq_along(motifPosList), function(x){\n",
        "    \n",
        "        ifelse(count_overlaps(TSS_Network, motifPosList[[x]]) > 0,\n",
        "           names(motifPosList)[x], NA)\n",
        "    \n",
        "    }, mc.cores= numCores)\n",
        "    \n",
        "    \n",
        "    overlap_df <- do.call('cbind', tmpOverlap)\n",
        "    motifList <- mclapply(c(1:dim(overlap_df)[1]), function(x){\n",
        "        \n",
        "        \n",
        "        ifelse(any(!is.na(overlap_df[x,])),\n",
        "            list(overlap_df[x,which(!is.na(overlap_df[x,]))]),\n",
        "            NA)\n",
        "    \n",
        "    }, mc.cores= numCores)\n",
        "\n",
        "    if(verbose){ print('Finding all peaks related to each gene within the TSS-Peak Network.')}\n",
        "    ##Find all the peaks related to each gene. \n",
        "    \n",
        "    Peak2Gene <- mclapply(unique(TSS_Sites$name), function(x){\n",
        "    \n",
        "        geneTSS <- plyranges::filter(TSS_Sites, name == x)  %>% \n",
        "                plyranges::filter_by_overlaps(allPeaks, .) %>%\n",
        "            plyranges::ungroup() %>%\n",
        "            GRangesToString(.)\n",
        "    \n",
        "        tmp <- TSS_Links[Peak1 %in% geneTSS | Peak2 %in% geneTSS,]\n",
        "    \n",
        "        if(dim(tmp)[1] > 0){ \n",
        "            unique(c(tmp$Peak1, tmp$Peak2, geneTSS))\n",
        "        }else{\n",
        "               geneTSS\n",
        "        }\n",
        "    \n",
        "    }, mc.cores = numCores)\n",
        "    names(Peak2Gene) <- unique(TSS_Sites$name)\n",
        "    \n",
        "    \n",
        "\n",
        "    if(verbose){ print('Linking Motifs to each gene within the TSS-Peak Network')}\n",
        "    ## Link all the genes to motifs via Peak2Gene and the motifList\n",
        "    Gene2Motif <- mclapply(Peak2Gene, function(x){\n",
        "    \n",
        "        #Find which indices of the AltTSS Network GRanges are linked to that Gene\n",
        "        tmp <- findOverlaps(StringsToGRanges(x), TSS_Network)\n",
        "        #Pull up and unlist all the motifs associated with those tiles.\n",
        "        unlist(motifList[subjectHits(tmp)])\n",
        "    \n",
        "    }, mc.cores = numCores)\n",
        "    \n",
        "    return(Gene2Motif)\n",
        "    \n",
        "}\n",
        "    \n",
        "    "
      ],
      "outputs": [],
      "execution_count": null,
      "metadata": {
        "tags": []
      },
      "id": "d73bf279-34fc-4970-ae21-a6ac42163743"
    },
    {
      "cell_type": "code",
      "source": [
        "# motif annotation by chormvar database\n",
        "library(chromVARmotifs)\n",
        "library(TFBSTools)\n",
        "data(\"human_pwms_v2\")\n",
        "SampleTileMatricesAnnotated <- MOCHA::addMotifSet(SampleTileMatricesAnnotated,\n",
        "                                                      motifPWMs = human_pwms_v2,\n",
        "                                                  returnSTM = TRUE,\n",
        "                                         motifSetName = \"Motifs\", w = 7)"
      ],
      "outputs": [],
      "execution_count": null,
      "metadata": {},
      "id": "424d23b1-fe68-429d-934a-d2963ae24d52"
    },
    {
      "cell_type": "code",
      "source": [
        "SampleTileMatricesAnnotated"
      ],
      "outputs": [],
      "execution_count": null,
      "metadata": {},
      "id": "865861ff-40b9-4c7a-ae0e-e90f3d8cfeb9"
    },
    {
      "cell_type": "code",
      "source": [
        "SampleTileMatricesAnnotated %>% saveRDS(file.path(output_path, \n",
        "                                  paste0(proj_name, '_scMACS_total_cd4na_SampleTileMatrices.rds')))"
      ],
      "outputs": [],
      "execution_count": null,
      "metadata": {},
      "id": "ecb1e407-a8e1-472d-aa04-1776b4393ca5"
    },
    {
      "cell_type": "code",
      "source": [
        "SampleTileMatricesAnnotated <- readRDS(file.path(output_path, \n",
        "                                  paste0(proj_name, '_scMACS_total_cd4na_SampleTileMatrices.rds')))"
      ],
      "outputs": [],
      "execution_count": null,
      "metadata": {},
      "id": "b2c493e1-1e1a-461f-b9af-6159e7541242"
    },
    {
      "cell_type": "code",
      "source": [
        "cd4na_diff"
      ],
      "outputs": [],
      "execution_count": null,
      "metadata": {
        "tags": []
      },
      "id": "2d2063bc-b5a8-46b7-9c69-506912ffdb20"
    },
    {
      "cell_type": "code",
      "source": [
        "# run motif enrichment between the \n",
        "differentials_ra_up <- cd4na_diff %>% plyranges::filter(FDR<0.2&Log2FC_C>0.1)\n",
        "differentials_ra_down <- cd4na_diff %>% plyranges::filter(FDR<0.2& Log2FC_C< -0.1)\n",
        "background <- cd4na_diff %>% plyranges::filter(FDR>0.2)"
      ],
      "outputs": [],
      "execution_count": null,
      "metadata": {
        "tags": []
      },
      "id": "cf3fae56-d489-464a-aa72-9fa14afceb4a"
    },
    {
      "cell_type": "code",
      "source": [
        "differentials_ra_up"
      ],
      "outputs": [],
      "execution_count": null,
      "metadata": {
        "tags": []
      },
      "id": "172069df-5840-44dc-9782-bec2deee4e13"
    },
    {
      "cell_type": "code",
      "source": [
        "# run motif enrich\n",
        "up_motif_ravshealthy <- MOCHA::MotifEnrichment(Group1 = differentials_ra_up, Group2 = background, \n",
        "                motifPosList = metadata(SampleTileMatricesAnnotated)$Motifs#, numCores = 60\n",
        "                                                  ) %>%\n",
        "    as_tibble(rownames = 'motif') "
      ],
      "outputs": [],
      "execution_count": null,
      "metadata": {},
      "id": "4d0d66a0-c8e4-4f05-bc98-a77aeef3a1ae"
    },
    {
      "cell_type": "code",
      "source": [
        "# plot valcano plot\n",
        "EnhancedVolcano::EnhancedVolcano(up_motif_ravshealthy,\n",
        "    lab = up_motif_ravshealthy$motif,\n",
        "    x = 'enrichment',\n",
        "    y = 'adjp_val')\n",
        "ggsave(file.path(fig_path, paste0(proj_name, '_dap_up_enriched_tf.pdf')), width = 12, height = 12)"
      ],
      "outputs": [],
      "execution_count": null,
      "metadata": {},
      "id": "f5c9e39e-bb64-4b69-9ad6-d0e6332e91e1"
    },
    {
      "cell_type": "code",
      "source": [
        "# run motif enrich\n",
        "differentials_motif_radown <- MotifEnrichment(Group1 = differentials_ra_down, Group2 = background, \n",
        "                motifPosList = metadata(SampleTileMatricesAnnotated)$Motifs#, numCores = 60\n",
        "                                             ) %>%\n",
        "    as_tibble(rownames = 'motif') "
      ],
      "outputs": [],
      "execution_count": null,
      "metadata": {},
      "id": "c9e0276b-b319-4864-b0dc-78c32624a846"
    },
    {
      "cell_type": "code",
      "source": [
        "# plot valcano plot\n",
        "EnhancedVolcano::EnhancedVolcano(differentials_motif_radown,\n",
        "    lab = differentials_motif_ravshealthy$motif,\n",
        "    x = 'enrichment',\n",
        "    y = 'adjp_val')\n",
        "ggsave(file.path(fig_path, paste0(proj_name, '_dap_enriched_tf_down.pdf')), width = 12, height = 12)"
      ],
      "outputs": [],
      "execution_count": null,
      "metadata": {},
      "id": "4f2414fc-2568-48ed-8898-3191e46b7033"
    },
    {
      "cell_type": "code",
      "source": [
        "# save the motif enrichment result\n",
        "differentials_motif_ravshealthy %>%head()\n",
        "differentials_motif_ravshealthy %>% write_tsv(file.path(output_path, \n",
        "                                  paste0(proj_name, '_mocha_ravshealthy_motif_enrichment.tsv')))"
      ],
      "outputs": [],
      "execution_count": null,
      "metadata": {},
      "id": "f729b77c-8f57-4671-9919-310aabc218df"
    },
    {
      "cell_type": "code",
      "source": [
        "differentials_motif_ravshealthy %>% filter(adjp_val<0.05)"
      ],
      "outputs": [],
      "execution_count": null,
      "metadata": {},
      "id": "bfe85b1b-bc3c-4dad-b171-4363034eeaa7"
    },
    {
      "cell_type": "markdown",
      "source": [
        "### run chromvar"
      ],
      "metadata": {
        "tags": []
      },
      "id": "6ed9185a-8017-4e6e-9d29-983db0fab5cf"
    },
    {
      "cell_type": "code",
      "source": [
        "# # run chromvar\n",
        "# chromvar_ravshealthy <- runChromVar(SampleTileMatricesAnnotated, \n",
        "#                 motifs = metadata(SampleTileMatricesAnnotated)$Motifs, genome =  BSgenome.Hsapiens.UCSC.hg38) "
      ],
      "outputs": [],
      "execution_count": null,
      "metadata": {},
      "id": "9aba2654-fcf6-4f3a-903f-d2538799582e"
    },
    {
      "cell_type": "code",
      "source": [
        "# Obj=SampleTileMatricesAnnotated\n",
        "# motifs=metadata(SampleTileMatricesAnnotated)$Motifs\n",
        "# class(Obj)[1] == \"RangedSummarizedExperiment\" & class(motifs)[1]=='CompressedGRangesList'"
      ],
      "outputs": [],
      "execution_count": null,
      "metadata": {},
      "id": "4525ee14-6fe0-4023-b32d-435daa141149"
    },
    {
      "cell_type": "code",
      "source": [
        "# # run chromvar deviation\n",
        "# motifGRangesList = metadata(SampleTileMatricesAnnotated)$Motifs\n",
        "\n",
        "# CisbpAnno <- chromVAR::getAnnotations(motifGRangesList, rowRanges = rowRanges(Obj))\n",
        "\n",
        "# Obj <- chromVAR::addGCBias(Obj, genome = BSgenome.Hsapiens.UCSC.hg38)\n",
        "    \n",
        "# dev <- chromVAR::computeDeviations(object = Obj, \n",
        "#                          annotations = CisbpAnno)\n",
        "    "
      ],
      "outputs": [],
      "execution_count": null,
      "metadata": {},
      "id": "9a98663a-b392-4a63-8429-275ba80b9b20"
    },
    {
      "cell_type": "code",
      "source": [
        "# SampleTileMatrices_dev <- runChromVar(SampleTileMatricesAnnotated, motifs =  SampleTileMatrices_motifs,\n",
        "#                                       genome =  BSgenome.Hsapiens.UCSC.hg38)"
      ],
      "outputs": [],
      "execution_count": null,
      "metadata": {},
      "id": "181eeb29-af05-491e-9a90-cc95efa55417"
    },
    {
      "cell_type": "code",
      "source": [
        "bg <- getBgdPeaks(\n",
        "  ArchRProj = cd4na_atac,\n",
        "  nIterations = 50,\n",
        "  w = 0.1,\n",
        "  binSize = 50,\n",
        "  seed = 1,\n",
        "  method = \"chromVAR\",\n",
        "  force = FALSE\n",
        ")\n"
      ],
      "outputs": [],
      "execution_count": null,
      "metadata": {},
      "id": "f50650c8-c96e-496b-aebc-e2de3a9585ae"
    },
    {
      "cell_type": "code",
      "source": [
        "bg"
      ],
      "outputs": [],
      "execution_count": null,
      "metadata": {},
      "id": "502e348a-b96b-4fce-ac7d-cfae73556293"
    },
    {
      "cell_type": "code",
      "source": [
        "\n",
        "# SampleTileMatricesAnnotated <- chromVAR::addGCBias(SampleTileMatricesAnnotated, genome = BSgenome.Hsapiens.UCSC.hg38)\n",
        "\n",
        "# dev <- chromVAR::computeDeviations(object = SampleTileMatricesAnnotated, \n",
        "#                          annotations = CisbpAnno)"
      ],
      "outputs": [],
      "execution_count": null,
      "metadata": {},
      "id": "8232a150-f2c3-453a-b8f6-637305f2d7b5"
    },
    {
      "cell_type": "code",
      "source": [
        "SampleTileMatricesAnnotated"
      ],
      "outputs": [],
      "execution_count": null,
      "metadata": {},
      "id": "8ae4c481-71a5-47bf-830f-79e7fe38c25a"
    },
    {
      "cell_type": "code",
      "source": [
        "assayNames(SampleTileMatricesAnnotated)\n",
        "assay(SampleTileMatricesAnnotated, 'counts') <- assay(SampleTileMatricesAnnotated, 'cd4_naive')"
      ],
      "outputs": [],
      "execution_count": null,
      "metadata": {
        "tags": []
      },
      "id": "4b8b3c81-7dc5-4852-bc75-998265d62385"
    },
    {
      "cell_type": "code",
      "source": [
        "assay(SampleTileMatricesAnnotated, 'counts')[1:5, 1:5]"
      ],
      "outputs": [],
      "execution_count": null,
      "metadata": {
        "tags": []
      },
      "id": "a069ab1b-87c8-477a-838a-4cb021fde3e4"
    },
    {
      "cell_type": "code",
      "source": [
        "# change NA to 0 to run Chromvar\n",
        "assay(SampleTileMatricesAnnotated, 'counts')[is.na(assay(SampleTileMatricesAnnotated, 'counts'))] = 0"
      ],
      "outputs": [],
      "execution_count": null,
      "metadata": {},
      "id": "4f9ed159-36d2-4d4a-8d60-b7fd9e38d652"
    },
    {
      "cell_type": "code",
      "source": [
        "assay(SampleTileMatricesAnnotated, 'counts')[1:5, 1:5]"
      ],
      "outputs": [],
      "execution_count": null,
      "metadata": {
        "tags": []
      },
      "id": "df21deb7-0c3b-4f01-abaa-1a807a71e37f"
    },
    {
      "cell_type": "code",
      "source": [
        "SampleTileMatricesAnnotated <- chromVAR::addGCBias(SampleTileMatricesAnnotated, \n",
        "                                                   genome = BSgenome.Hsapiens.UCSC.hg38)"
      ],
      "outputs": [],
      "execution_count": null,
      "metadata": {},
      "id": "ee016aa2-3a98-4061-9f8a-12bb35b44dd0"
    },
    {
      "cell_type": "code",
      "source": [
        "bg <- getBackgroundPeaks(object = SampleTileMatricesAnnotated)"
      ],
      "outputs": [],
      "execution_count": null,
      "metadata": {
        "tags": []
      },
      "id": "11188dfc-5d93-4526-a677-6fed81cb426d"
    },
    {
      "cell_type": "code",
      "source": [
        "SampleTileMatricesAnnotated"
      ],
      "outputs": [],
      "execution_count": null,
      "metadata": {},
      "id": "351d87f5-23a3-49fd-88c2-f814b2054d79"
    },
    {
      "cell_type": "code",
      "source": [
        "library(chromVAR)\n",
        "library(chromVARmotifs)\n",
        "data(human_pwms_v2)\n",
        "\n",
        "library(BSgenome.Hsapiens.UCSC.hg38)\n",
        "library(SummarizedExperiment)\n",
        "library(tidyverse)\n",
        "library(plyranges)"
      ],
      "outputs": [],
      "execution_count": null,
      "metadata": {},
      "id": "d548f0c5-ba9e-48a6-9bc7-f8d6b62377f7"
    },
    {
      "cell_type": "code",
      "source": [
        "# assay(SampleTileMatricesAnnotated_fl, 'counts') <- assay(SampleTileMatricesAnnotated_fl, 'cd4_naive')"
      ],
      "outputs": [],
      "execution_count": null,
      "metadata": {},
      "id": "b072b402-18b4-49e9-b69c-da4732f99bfa"
    },
    {
      "cell_type": "code",
      "source": [
        "# SampleTileMatricesAnnotated_fl\n",
        "# assay(SampleTileMatricesAnnotated_fl, 'counts')[is.na(assay(SampleTileMatricesAnnotated_fl, 'counts'))] = 0\n",
        "# SampleTileMatricesAnnotated_fl <- chromVAR::addGCBias(SampleTileMatricesAnnotated_fl, \n",
        "#                                                    genome = BSgenome.Hsapiens.UCSC.hg38)"
      ],
      "outputs": [],
      "execution_count": null,
      "metadata": {},
      "id": "db4a0c89-0c6a-493e-a9dc-0c605f2c119f"
    },
    {
      "cell_type": "code",
      "source": [
        "# get mofit annotation\n",
        "CisbpAnno <- chromVAR::getAnnotations(metadata(SampleTileMatricesAnnotated)$Motifs, \n",
        "                                      rowRanges = rowRanges(SampleTileMatricesAnnotated))"
      ],
      "outputs": [],
      "execution_count": null,
      "metadata": {},
      "id": "a833f9c3-52fa-4c26-b6ae-07f2d49f4a3d"
    },
    {
      "cell_type": "code",
      "source": [
        "CisbpAnno"
      ],
      "outputs": [],
      "execution_count": null,
      "metadata": {},
      "id": "98269bac-36ae-4180-87d7-4d16567198f6"
    },
    {
      "cell_type": "code",
      "source": [
        "# assayList <- getCellPopMatrix(SampleTileMatricesAnnotated, 'cd4_naive')\n",
        "        \n",
        "# Obj1 <- SummarizedExperiment(\n",
        "#     assays = list('counts' = assayList),\n",
        "#     colData = colData(SampleTileMatricesAnnotated),\n",
        "#     rowRanges = rowRanges(SampleTileMatricesAnnotated),\n",
        "#     metadata = SampleTileMatricesAnnotated@metadata\n",
        "# )\n",
        "\n",
        "# CisbpAnno <- chromVAR::getAnnotations(SampleTileMatricesAnnotated@metadata$Motifs,\n",
        "#                                       rowRanges = rowRanges(Obj1))\n",
        "\n",
        "# Obj1 <- chromVAR::addGCBias(Obj1, genome = BSgenome.Hsapiens.UCSC.hg38)\n",
        "    \n",
        "# dev <- chromVAR::computeDeviations(object = Obj1,\n",
        "#                          annotations = CisbpAnno)"
      ],
      "outputs": [],
      "execution_count": null,
      "metadata": {},
      "id": "36d0f285-8879-4e41-85a9-a89016346c65"
    },
    {
      "cell_type": "code",
      "source": [
        "# run the diviation scores\n",
        "cd4na_dev <- chromVAR::computeDeviations(object = SampleTileMatricesAnnotated, \n",
        "                         annotations = CisbpAnno)"
      ],
      "outputs": [],
      "execution_count": null,
      "metadata": {},
      "id": "b8ef6beb-fad1-4322-a874-9d62573dccd0"
    },
    {
      "cell_type": "code",
      "source": [
        "cd4na_dev\n",
        "variability <- computeVariability(cd4na_dev)\n",
        "plotVariability(variability, use_plotly = FALSE)"
      ],
      "outputs": [],
      "execution_count": null,
      "metadata": {},
      "id": "4ef3d55a-9649-42ff-8e44-28222e9743dd"
    },
    {
      "cell_type": "code",
      "source": [
        "colnames(cd4na_dev) = colData(cd4na_dev)$subject_id"
      ],
      "outputs": [],
      "execution_count": null,
      "metadata": {},
      "id": "142f38ca-f42e-41c2-99fc-5f431399c6a5"
    },
    {
      "cell_type": "code",
      "source": [
        "cd4na_dev"
      ],
      "outputs": [],
      "execution_count": null,
      "metadata": {},
      "id": "fe1d5391-e124-4600-869c-e57bc691da75"
    },
    {
      "cell_type": "code",
      "source": [
        "cd4na_dev %>% saveRDS(file.path(output_path, paste0(proj_name, 'DAP_chromvar_deviation_rmBR2024.rds')))"
      ],
      "outputs": [],
      "execution_count": null,
      "metadata": {},
      "id": "cffe520c-49df-4e50-b327-42e6484fca17"
    },
    {
      "cell_type": "code",
      "source": [
        "paste0(proj_name, 'DAP_chromvar_deviation_rmBR2024.rds')"
      ],
      "outputs": [],
      "execution_count": null,
      "metadata": {},
      "id": "b26a8ed7-6827-44a1-b07e-5521bc0963e2"
    },
    {
      "cell_type": "code",
      "source": [
        "# load chromvar motif deviation in cd4 naive\n",
        "cd4na_dev <- readRDS(file.path(output_path, paste0(proj_name, 'DAP_chromvar_deviation_rmBR2024.rds')))"
      ],
      "outputs": [],
      "execution_count": null,
      "metadata": {},
      "id": "57ea59c4-dbc1-4c02-aaa2-212a163c2072"
    },
    {
      "cell_type": "code",
      "source": [
        "# remove one motif with empty values\n",
        "cd4na_dev <- cd4na_dev[rownames(cd4na_dev)!='ENSG00000250542',]\n"
      ],
      "outputs": [],
      "execution_count": null,
      "metadata": {},
      "id": "7c63d48a-7dd1-4c75-826a-db382723c243"
    },
    {
      "cell_type": "code",
      "source": [
        "tf_select <- colnames(CisbpAnno) %>% str_subset('NFAT|STAT|JUN|FOS|BCL6|BATF')\n",
        "tf_select"
      ],
      "outputs": [],
      "execution_count": null,
      "metadata": {},
      "id": "60c175cd-33ea-4136-871c-d75c8104aade"
    },
    {
      "cell_type": "code",
      "source": [
        "# check motif synergy\n",
        "# tf_select <- colnames(CisbpAnno) %>% str_subset('NFAT|STAT|JUN|FOS|BCL6|BATF|IRF')\n",
        "nfac_syn <- getAnnotationSynergy(SampleTileMatricesAnnotated, CisbpAnno[, tf_select])"
      ],
      "outputs": [],
      "execution_count": null,
      "metadata": {},
      "id": "fb5e4c1e-d73e-4686-925c-5517605e0582"
    },
    {
      "cell_type": "code",
      "source": [
        "nfac_syn[, c('NFATC3','NFATC1', 'NFATC2')]"
      ],
      "outputs": [],
      "execution_count": null,
      "metadata": {
        "tags": []
      },
      "id": "a5187ede-ac20-423b-83c9-f173bc7b442f"
    },
    {
      "cell_type": "code",
      "source": [
        "png(file.path(fig_path, paste0(proj_name, '_NFATs_Synergy_TFs.png')), , units = 'in',res=300,\n",
        "    width = 8, height = 4)\n",
        "p1 <- ComplexHeatmap::Heatmap(nfac_syn[, c('NFATC3','NFATC1', 'NFATC2',  'NFAT5',  'NFATC4')])\n",
        "p1\n",
        "dev.off()"
      ],
      "outputs": [],
      "execution_count": null,
      "metadata": {
        "tags": []
      },
      "id": "f99e0ff2-5935-4fda-b61e-d5512f1fd088"
    },
    {
      "cell_type": "code",
      "source": [
        "p1"
      ],
      "outputs": [],
      "execution_count": null,
      "metadata": {},
      "id": "9ec01f8e-dfda-4afc-906c-829ddf153e81"
    },
    {
      "cell_type": "code",
      "source": [
        "nfac_cor <- getAnnotationCorrelation(SampleTileMatricesAnnotated_fl, CisbpAnno[, tf_select])"
      ],
      "outputs": [],
      "execution_count": null,
      "metadata": {},
      "id": "b048bb5a-e0dd-4991-b3f7-0aa53e90a76a"
    },
    {
      "cell_type": "code",
      "source": [
        "nfac_cor"
      ],
      "outputs": [],
      "execution_count": null,
      "metadata": {
        "tags": []
      },
      "id": "83be8b96-dceb-428f-9f1b-aafe85cd423b"
    },
    {
      "cell_type": "code",
      "source": [
        "\n",
        "png(file.path(fig_path, paste0(proj_name, '_NFATs_correlation_heatmap_TFs.png')), , units = 'in',res=300,\n",
        "    width = 6, height = 4)\n",
        "p1=ComplexHeatmap::Heatmap(nfac_cor[, c('NFATC3','NFATC1', 'NFATC2',  'NFAT5',  'NFATC4')])\n",
        "p1\n",
        "dev.off()"
      ],
      "outputs": [],
      "execution_count": null,
      "metadata": {},
      "id": "421013f2-8bed-40b0-8f06-23f9d68fea1e"
    },
    {
      "cell_type": "code",
      "source": [
        "tf_select <- colnames(CisbpAnno) %>% str_subset('NFAT|STAT|JUN|FOS|BCL6|BATF')\n",
        "CisbpAnno[, tf_select]"
      ],
      "outputs": [],
      "execution_count": null,
      "metadata": {},
      "id": "55d53bf7-c892-4104-ba08-2bb79a9af137"
    },
    {
      "cell_type": "code",
      "source": [
        "# extract the deviation score\n",
        "cd4na_dev_score <- deviations(cd4na_dev) %>% \n",
        "    as_tibble(rownames = 'motif') %>% \n",
        "    pivot_longer(cols = -motif, names_to = 'subject_id', values_to = 'deviation_score') %>%\n",
        "    left_join(as_tibble(colData(cd4na_dev)), by='subject_id') %>% \n",
        "    mutate(cohort=factor(cohort, levels = c('Healthy', 'pre-RA')))\n",
        "cd4na_dev_score %>% head()"
      ],
      "outputs": [],
      "execution_count": null,
      "metadata": {
        "tags": []
      },
      "id": "906de799-aa92-4189-b60f-8d568381d6ae"
    },
    {
      "cell_type": "code",
      "source": [
        "cd4na_dev_score %>% distinct(cohort)"
      ],
      "outputs": [],
      "execution_count": null,
      "metadata": {
        "tags": []
      },
      "id": "26e79677-1f93-4e95-afe6-8a5d89f7ad53"
    },
    {
      "cell_type": "code",
      "source": [
        "suppressPackageStartupMessages(library('rstatix'))"
      ],
      "outputs": [],
      "execution_count": null,
      "metadata": {},
      "id": "83929f92-5b52-449e-a142-8968dded395d"
    },
    {
      "cell_type": "code",
      "source": [
        "# run wilcox test for the motif scores\n",
        "cd4na_dev_test <- cd4na_dev_score %>% filter(!is.na(deviation_score)) %>%\n",
        "    group_by(motif) %>% t_test(data =., deviation_score ~ cohort, ref.group = 'Healthy') %>%\n",
        "      adjust_pvalue(method = \"BH\") %>%\n",
        "      add_significance(\"p.adj\") "
      ],
      "outputs": [],
      "execution_count": null,
      "metadata": {},
      "id": "fca920cc-3f5c-44fd-817e-13ef2a7b12e9"
    },
    {
      "cell_type": "code",
      "source": [
        "cd4na_dev_test %>% filter(str_detect(motif, 'NFAT'))"
      ],
      "outputs": [],
      "execution_count": null,
      "metadata": {},
      "id": "7f796662-2ace-4df9-a6aa-d1f896d4839e"
    },
    {
      "cell_type": "code",
      "source": [
        "# options(repr.plot.width = 20, repr.plot.height = 20)\n",
        "\n",
        "p1 <- EnhancedVolcano::EnhancedVolcano(cd4na_dev_test, pointSize = 1,\n",
        "                      title = NULL,\n",
        "                      subtitle = NULL,\n",
        "        lab = cd4na_dev_test %>% pull(motif),\n",
        "        x = 'statistic',\n",
        "        FCcutoff = 0.01, legendPosition = 'none',\n",
        "        pCutoff = 0.05,\n",
        "        y = 'p', labSize = 3.0) +\n",
        "        coord_cartesian(xlim=c(-5, 5), ylim=c(0, 3)) + \n",
        "    ggthemes::theme_few()+ xlab('Divation score delta')+\n",
        "        theme(legend.title=element_blank(), legend.position=\"none\",\n",
        "             text = element_text(size = 12))\n",
        "p1\n",
        "ggsave(file.path(fig_path, paste0(proj_name, '_cd4naive_TF_deviation_valcano_plot.png')), \n",
        "       width=6, height=6)"
      ],
      "outputs": [],
      "execution_count": null,
      "metadata": {},
      "id": "37975d1a-7898-46ca-8971-39e92759286f"
    },
    {
      "cell_type": "code",
      "source": [
        "# cd4na_dev_test %>% filter(p.adj<0.2)\n",
        "cd4na_dev_mt <- cd4na_dev_test %>% filter(p<0.05)\n",
        "cd4na_dev_mt %>% nrow()"
      ],
      "outputs": [],
      "execution_count": null,
      "metadata": {},
      "id": "a80249d2-44d8-4576-b0e6-e61c01c1eeb0"
    },
    {
      "cell_type": "code",
      "source": [
        "cd4na_dev_mx %>% hist()"
      ],
      "outputs": [],
      "execution_count": null,
      "metadata": {},
      "id": "4b2ee947-6e18-4051-903e-8aa0d902388f"
    },
    {
      "cell_type": "code",
      "source": [
        "# make a matrix of the deviated motif\n",
        "cd4na_dev_mx <- cd4na_dev_score %>% #filter(motif %in% cd4na_dev_mt$motif) %>% \n",
        "    pivot_wider(id_cols = 'motif', names_from = 'subject_id', values_from = 'deviation_score')\n",
        "motif_name=cd4na_dev_mx$motif\n",
        "cd4na_dev_mx <- cd4na_dev_mx %>% select_if(is.numeric) %>% as.matrix()\n",
        "rownames(cd4na_dev_mx)=motif_name\n",
        "cd4na_dev_mx %>% head()\n",
        "cd4na_dev_mx = t(scale(t(cd4na_dev_mx)))\n",
        "p1 <- ComplexHeatmap::Heatmap(cd4na_dev_mx,\n",
        "                              col = circlize::colorRamp2(c(-2,0,2),\n",
        "                                  c(\"purple\",\n",
        "                                    \"black\",\n",
        "                                    \"yellow\")))"
      ],
      "outputs": [],
      "execution_count": null,
      "metadata": {},
      "id": "98bced20-37d5-454b-8bfd-d20c05556156"
    },
    {
      "cell_type": "code",
      "source": [
        "png(file.path(fig_path, paste0(proj_name, '_cd4naive_TF_deviationheatmap.png')), units = 'in',res=300,\n",
        "       width=8, height=12)\n",
        "ComplexHeatmap::draw(p1)\n",
        "dev.off()"
      ],
      "outputs": [],
      "execution_count": null,
      "metadata": {},
      "id": "d1bf8c6a-0ccc-440d-8e00-0ac5e70669b2"
    },
    {
      "cell_type": "code",
      "source": [
        "p1"
      ],
      "outputs": [],
      "execution_count": null,
      "metadata": {},
      "id": "4b304fe8-2739-491e-a769-138baae511a9"
    },
    {
      "cell_type": "code",
      "source": [
        "cd4na_dev_score %>% filter(motif %in% cd4na_dev_mt$motif) %>% \n",
        "    ggplot(aes(x=cohort, y=deviation_score))+\n",
        "    geom_violin(aes(fill=cohort)) + \n",
        "    geom_jitter() + facet_wrap(vars(motif))\n",
        "ggsave(file.path(fig_path, paste0(proj_name, '_chromVAR_deviation_sig_tf.pdf')),\n",
        "       width = 12, height = 8)"
      ],
      "outputs": [],
      "execution_count": null,
      "metadata": {},
      "id": "68c889d4-efaa-4381-90b6-aed3a5d8bfe8"
    },
    {
      "cell_type": "code",
      "source": [
        "variability <- computeVariability(cd4na_dev)\n",
        "plotVariability(variability, use_plotly = FALSE)"
      ],
      "outputs": [],
      "execution_count": null,
      "metadata": {},
      "id": "75a0caa9-bea1-4dd2-a2f0-0ff599c4ed9a"
    },
    {
      "cell_type": "code",
      "source": [
        "colData(cd4na_dev)[, c('subject_id', 'cohort', 'age')]\n",
        "sample_cor <- getSampleCorrelation(cd4na_dev)\n",
        "sample_cor"
      ],
      "outputs": [],
      "execution_count": null,
      "metadata": {},
      "id": "3a310539-0f10-473c-836f-e4285d6cb93e"
    },
    {
      "cell_type": "code",
      "source": [
        "sample_cor <- getSampleCorrelation(cd4na_dev)\n",
        "\n",
        "library(pheatmap)\n",
        "my_sample_col <- colData(cd4na_dev)[, c('subject_id', 'cohort', 'age')] %>% as.data.frame()\n",
        "pheatmap(as.dist(sample_cor), \n",
        "         annotation_col = my_sample_col, \n",
        "         annotation_row = my_sample_col, \n",
        "         clustering_distance_rows = as.dist(1-sample_cor), \n",
        "         clustering_distance_cols = as.dist(1-sample_cor))"
      ],
      "outputs": [],
      "execution_count": null,
      "metadata": {},
      "id": "f8ecda5b-fa83-4572-99c3-e22e4c8db798"
    },
    {
      "cell_type": "code",
      "source": [
        "# tsne_results <- deviationsTsne(cd4na_dev, threshold = 1.5, perplexity = 10, \n",
        "#                                shiny = FALSE)\n",
        "tsne_plots <- plotDeviationsTsne(cd4na_dev, tsne_results, annotation = c(\"STAT3\", 'RORC'), \n",
        "                                   sample_column = \"subject_id\", shiny = FALSE)\n",
        "tsne_plots"
      ],
      "outputs": [],
      "execution_count": null,
      "metadata": {},
      "id": "e271458e-ce55-45f2-9b8d-10920db9f308"
    },
    {
      "cell_type": "code",
      "source": [
        "diff_acc <- differentialDeviations(cd4na_dev, groups=\"cohort\")\n",
        "\n",
        "diff_acc %>% filter(p_value_adjusted<0.2)"
      ],
      "outputs": [],
      "execution_count": null,
      "metadata": {},
      "id": "e15cdee5-3d12-4c39-8512-1107be607cbd"
    },
    {
      "cell_type": "markdown",
      "source": [
        "#### check the motif deviation score vs the tf gene expression"
      ],
      "metadata": {
        "tags": []
      },
      "id": "c8b36098-e8c2-497f-abca-b6f055f49823"
    },
    {
      "cell_type": "code",
      "source": [
        "# check how many motif are present in the gene expression\n",
        "table(rownames(cd4na_dev) %in% rownames(cd4na_pseudo))"
      ],
      "outputs": [],
      "execution_count": null,
      "metadata": {},
      "id": "f5db28c0-0036-4fd8-9882-e0a7931abd3b"
    },
    {
      "cell_type": "code",
      "source": [
        "# take all the motif with overlap gene expression\n",
        "overlap_mt <- unique(cd4na_dev_score$motif)[unique(cd4na_dev_score$motif) %in% rownames(cd4na_pseudo)]\n",
        "overlap_mt %>% length()"
      ],
      "outputs": [],
      "execution_count": null,
      "metadata": {},
      "id": "e0dbfdc3-bcfa-4b34-ae43-a72debf20e8b"
    },
    {
      "cell_type": "code",
      "source": [
        "# get the gene expression of the motif\n",
        "gex_mt <- assays(cd4na_pseudo)$logcounts[overlap_mt, ] %>% as_tibble(rownames = 'motif') %>%\n",
        "    pivot_longer(cols = -motif, names_to = 'subject_id', values_to = 'gene_expression') %>%\n",
        "    group_by(motif) %>% mutate(gene_expression_z = scale(gene_expression))\n",
        "gex_mt %>% head()"
      ],
      "outputs": [],
      "execution_count": null,
      "metadata": {},
      "id": "c43c0e58-f67e-4dd8-bad3-e7672785bc4a"
    },
    {
      "cell_type": "code",
      "source": [
        "# combine the tf gene expression and motif deviation \n",
        "cd4na_mt_dev_gex <- cd4na_dev_score %>% filter(motif %in% gex_mt$motif) %>% \n",
        "    left_join(gex_mt, by=c('motif','subject_id')) %>% mutate(diff_sig=motif %in% cd4na_dev_mt)\n",
        "cd4na_mt_dev_gex %>% head()"
      ],
      "outputs": [],
      "execution_count": null,
      "metadata": {},
      "id": "44be3918-4985-4e8a-89db-d001a3447362"
    },
    {
      "cell_type": "code",
      "source": [
        "# cd4na_mt_mx <- cd4na_mt_dev_gex %>% "
      ],
      "outputs": [],
      "execution_count": null,
      "metadata": {},
      "id": "9a6a5c2c-eaaa-42e8-93a5-2199b8d9ade7"
    },
    {
      "cell_type": "code",
      "source": [
        "cd4na_mt_dev_gex%>% ggplot(aes(x=deviation_score, y=gene_expression_z))+\n",
        "    geom_point(aes(color=motif)) + theme(legend.position = \"none\")\n",
        "ggsave(file.path(fig_path, paste0(proj_name, '_chromVAR_tf_deviation_gex_dotplot.pdf')), width = 8, height = 8)"
      ],
      "outputs": [],
      "execution_count": null,
      "metadata": {},
      "id": "94c99831-b785-4ec9-ad1a-4c6a670999e3"
    },
    {
      "cell_type": "code",
      "source": [
        "# # tf gene expression and tf deviation scores\n",
        "# cd4na_mt_dev_gex %>% filter(diff_sig==TRUE)%>% ggplot(aes(x=deviation_score, y=gene_expression_z))+\n",
        "#     geom_point(aes(color=subject_id)) + facet_wrap(vars(motif))+\n",
        "#   geom_smooth(method='lm') + theme_bw()\n",
        "# ggsave(file.path(fig_path, paste0(proj_name, '_chromVAR_tf_deviation_sig_gex.pdf')), width = 12, height = 8)"
      ],
      "outputs": [],
      "execution_count": null,
      "metadata": {},
      "id": "8ec856d0-8bf1-4b9f-84d5-df2f74e1b6ad"
    },
    {
      "cell_type": "markdown",
      "source": [
        "### motif to gene expressision correlation"
      ],
      "metadata": {},
      "id": "b4194177-64c2-4835-9a06-104f19f700c6"
    },
    {
      "cell_type": "code",
      "source": [
        "# load the motif matrix\n",
        "cd4na_dev_score %>% head()"
      ],
      "outputs": [],
      "execution_count": null,
      "metadata": {},
      "id": "98749665-2032-4bdb-90ed-380713f3e8fc"
    },
    {
      "cell_type": "code",
      "source": [
        "# extract the deviation matrix\n",
        "cd4na_dev_mx <- deviations(cd4na_dev)\n",
        "colnames(cd4na_dev_mx) <- colData(cd4na_dev)$subject_id\n",
        "cd4na_dev_mx <- cd4na_dev_mx[, order(colnames(cd4na_dev_mx))]"
      ],
      "outputs": [],
      "execution_count": null,
      "metadata": {
        "tags": []
      },
      "id": "c2de670f-b352-4ec6-9c33-b095eef03c61"
    },
    {
      "cell_type": "code",
      "source": [
        "cd4na_dev_mx %>% head()"
      ],
      "outputs": [],
      "execution_count": null,
      "metadata": {},
      "id": "0719acd9-6389-4a9b-a5d5-7ba3c38f28b2"
    },
    {
      "cell_type": "code",
      "source": [
        "# load the pseudobulk gene matrix\n",
        "ra_tea_l2_pseudo <- readRDS(file.path(data_path, 'PreRA_teaseq_nichenet_all_cells_l2_subject_pseudoBulk.rds'\n",
        "                                ))\n",
        "ra_tea_l2_pseudo"
      ],
      "outputs": [],
      "execution_count": null,
      "metadata": {},
      "id": "7b95a8b7-23fd-4605-a196-7438179a090e"
    },
    {
      "cell_type": "code",
      "source": [
        "# load the degs for cd4 naive\n",
        "# load the deg list\n",
        "ra_tea_l2_pseudo_degs <- \n",
        "    read_csv('/home/jupyter/data/preRA_teaseq/output_results/PreRA_teaseq_l2_annotation_PseudoBulk_degs_preRAvsHealthy.csv',\n",
        "            show_col_types = FALSE) %>%\n",
        "    filter(!is.na(FDR) & !is.na(logFC)) %>% mutate(direction=if_else(logFC>0, 'up', 'down'))\n",
        "# filter cd4 naive\n",
        "cd4na_pseudo_degs <- ra_tea_l2_pseudo_degs %>% filter(cell_type=='cd4_naive' & FDR<0.05)\n",
        "cd4na_pseudo_degs %>% head()\n",
        "cd4na_pseudo_degs %>% nrow()"
      ],
      "outputs": [],
      "execution_count": null,
      "metadata": {
        "tags": []
      },
      "id": "01325580-323b-4f20-8dd4-7c4f1ea50a97"
    },
    {
      "cell_type": "code",
      "source": [
        "# cd4na_pseudo_degs %>% filter(str_detect(gene, 'IL'))"
      ],
      "outputs": [],
      "execution_count": null,
      "metadata": {},
      "id": "42a17235-6617-43bc-9ca8-315175b7d95b"
    },
    {
      "cell_type": "code",
      "source": [
        "# subset the cd4 naive\n",
        "cd4na_pseudo <- ra_tea_l2_pseudo[cd4na_pseudo_degs$gene, \n",
        "                                 colData(ra_tea_l2_pseudo)$clean_l2_cell_types=='cd4_naive']\n",
        "# make colnames of the pseudo object as subject id\n",
        "colnames(cd4na_pseudo) <- colData(cd4na_pseudo)$subject_id\n",
        "cd4na_pseudo"
      ],
      "outputs": [],
      "execution_count": null,
      "metadata": {},
      "id": "8b49b97a-76ab-43d8-bea0-761168da00cd"
    },
    {
      "cell_type": "code",
      "source": [
        "# get sample level nomralized gene matrix from seurat object\n",
        "ra_tea_cd4na <- SetIdent(ra_tea_cd4na, value = 'subject_id')\n",
        "# get the sample average corrected SCT gene expression data\n",
        "cd4na_gex_mx <- AverageExpression(ra_tea_cd4na, features = cd4na_pseudo_degs$gene, assays = 'SCT')$SCT"
      ],
      "outputs": [],
      "execution_count": null,
      "metadata": {},
      "id": "ef296960-1c8b-4e14-89a7-c0a10ab2161b"
    },
    {
      "cell_type": "code",
      "source": [
        "cd4na_gex_mx %>% head()\n"
      ],
      "outputs": [],
      "execution_count": null,
      "metadata": {},
      "id": "416905bd-1a8b-414a-9242-72f2b99e0fb8"
    },
    {
      "cell_type": "code",
      "source": [
        "t(cd4na_dev_mx) %>% head()\n",
        "t(cd4na_gex_mx) %>% head()"
      ],
      "outputs": [],
      "execution_count": null,
      "metadata": {},
      "id": "65eb403e-57c3-4ad4-b555-e534f2bd17ba"
    },
    {
      "cell_type": "code",
      "source": [
        "motifs = colnames(t(cd4na_dev_mx))\n",
        "gene_names <- colnames(t(cd4na_gex_mx))\n",
        "x=t(cd4na_dev_mx)[, motifs[1]]\n",
        "y=t(cd4na_gex_mx)[, gene_names[1]]\n",
        "test <- jmuOutlier::perm.cor.test(x=x, y=y, \n",
        "                                  alternative = c(\"two.sided\"), \n",
        "              method = c( \"spearman\"), num.sim = 20000)\n",
        "test_res=tibble('motif'=motifs[1], 'gene'=gene_names[1], 'p.value'=test$p.value)"
      ],
      "outputs": [],
      "execution_count": null,
      "metadata": {},
      "id": "a480a37e-8627-4456-886e-a52bb9a5975e"
    },
    {
      "cell_type": "code",
      "source": [
        "motifs %>% length()"
      ],
      "outputs": [],
      "execution_count": null,
      "metadata": {},
      "id": "03f5b41a-e95b-4442-bef1-0dac7d3a15c1"
    },
    {
      "cell_type": "code",
      "source": [
        "# run permutation test of the motif to gene correlation\n",
        "motifs = colnames(t(cd4na_dev_mx))\n",
        "gene_names <- colnames(t(cd4na_gex_mx))\n",
        "\n",
        "cd4na_dev_gex_cor_test <- lapply(motifs, function(motif){   \n",
        "    test_res <- parallel::mclapply(gene_names, function(gene){\n",
        "        x=t(cd4na_dev_mx)[, motif]\n",
        "        y=t(cd4na_gex_mx)[, gene]\n",
        "        test <- jmuOutlier::perm.cor.test(x=x, y=y, \n",
        "                                  alternative = c(\"two.sided\"), \n",
        "              method = c(\"spearman\"), num.sim = 20000)\n",
        "        test_res=tibble('motif'=motif, 'gene'=gene, 'p.value'=test$p.value,\n",
        "                       test=\"spearman\")\n",
        "        return(test_res)\n",
        "    }, mc.cores=60) %>% rbindlist()\n",
        "    return(test_res)\n",
        "}) %>% rbindlist()\n"
      ],
      "outputs": [],
      "execution_count": null,
      "metadata": {},
      "id": "80456ae0-ceb3-45ea-8c7b-e758f63d0644"
    },
    {
      "cell_type": "code",
      "source": [
        "cd4na_dev_gex_cor_test %>% head()"
      ],
      "outputs": [],
      "execution_count": null,
      "metadata": {},
      "id": "40cfbddd-6831-4c61-b3da-d7be97a799b0"
    },
    {
      "cell_type": "code",
      "source": [
        "cd4na_dev_gex_cor_test %>% distinct(motif) %>% nrow()\n",
        "cd4na_dev_gex_cor_test %>% distinct(gene) %>% nrow()"
      ],
      "outputs": [],
      "execution_count": null,
      "metadata": {
        "tags": []
      },
      "id": "e6219115-d7a9-4193-940d-1807e7e7922e"
    },
    {
      "cell_type": "code",
      "source": [
        "# library(corrr)\n",
        "cd4na_dev_gex_cor <- cor(t(cd4na_dev_mx), t(cd4na_gex_mx), method = c(\"spearman\"))\n",
        "# symnum(clS <- cor(cd4na_dev_dex_cor, method = \"spearman\"))\n",
        "cd4na_dev_gex_cor %>% dim()"
      ],
      "outputs": [],
      "execution_count": null,
      "metadata": {},
      "id": "50661aee-a495-4778-9b98-b2591ef92eba"
    },
    {
      "cell_type": "code",
      "source": [
        "# load the nichnet gr network\n",
        "cd4na_dev_gex_cor %>% hist()"
      ],
      "outputs": [],
      "execution_count": null,
      "metadata": {},
      "id": "17df838d-ba76-4c95-887d-5107e20aa81d"
    },
    {
      "cell_type": "code",
      "source": [
        "cd4na_dev_gex_cor %>% as_tibble(rownames = 'motif') %>% \n",
        "    pivot_longer(cols = -motif, names_to = 'gene', values_to = 'spearman_cor')"
      ],
      "outputs": [],
      "execution_count": null,
      "metadata": {},
      "id": "20cf3a56-4f40-4de2-86cb-4d2e2d5812ca"
    },
    {
      "cell_type": "code",
      "source": [
        "# save the motif-gene correlation results\n",
        "cd4na_tf_gex_cor <- cd4na_dev_gex_cor %>% as_tibble(rownames = 'motif') %>% \n",
        "    pivot_longer(cols = -motif, names_to = 'gene', values_to = 'spearman_cor') %>% \n",
        "    left_join(cd4na_dev_gex_cor_test, by=c('motif', 'gene'))\n",
        "cd4na_tf_gex_cor %>%  write_tsv(file.path(output_path, \n",
        "                                  paste0(proj_name, '_mocha_ravshealthy_motif_gene_correlations_perm_test.tsv')))"
      ],
      "outputs": [],
      "execution_count": null,
      "metadata": {},
      "id": "c3f179d0-28a1-4619-a350-5ec4187177cc"
    },
    {
      "cell_type": "code",
      "source": [
        "cd4na_tf_gex_cor <- read_tsv(file.path(output_path, \n",
        "                                  paste0(proj_name, '_mocha_ravshealthy_motif_gene_correlations_perm_test.tsv'))) \n",
        "\n",
        "cd4na_tf_gex_cor %>% head()"
      ],
      "outputs": [],
      "execution_count": null,
      "metadata": {},
      "id": "f7821569-176d-40df-947c-98c4dbb42806"
    },
    {
      "cell_type": "code",
      "source": [
        "cd4na_tf_gex_cor = cd4na_tf_gex_cor %>% filter(!is.na(p.value)) %>% \n",
        "    mutate(dev_sig=motif %in% (cd4na_dev_mt %>% filter(p<0.05) %>% pull(motif)))\n",
        "cd4na_tf_gex_cor %>% head()"
      ],
      "outputs": [],
      "execution_count": null,
      "metadata": {},
      "id": "6b811de7-2106-48da-afdd-04c4a54bfecf"
    },
    {
      "cell_type": "code",
      "source": [
        "# cd4na_tf_gex_cor %>% filter(!is.na(p.value)&dev_sig==TRUE)"
      ],
      "outputs": [],
      "execution_count": null,
      "metadata": {},
      "id": "96bfcb9f-866a-4374-9e13-7b62315746c4"
    },
    {
      "cell_type": "code",
      "source": [
        "p1 <- cd4na_tf_gex_cor %>% filter(!is.na(p.value)) %>% ggplot(aes(x=spearman_cor, fill=dev_sig)) + \n",
        "    geom_histogram(alpha=0.6)\n",
        "p2 <- cd4na_tf_gex_cor %>% filter(!is.na(p.value)) %>% ggplot(aes(x=p.value, fill=dev_sig)) + \n",
        "    geom_histogram(alpha=0.6) + geom_vline(xintercept=0.05,linetype=\"dashed\", \n",
        "                color = \"red\")\n",
        "cowplot::plot_grid(p1, p2)\n",
        "ggsave(file.path(fig_path, paste0(proj_name, '_chromVAR_tf_deviation_gex_correlation_histogram_permutation_tese.png')),\n",
        "       width = 12, height = 6)"
      ],
      "outputs": [],
      "execution_count": null,
      "metadata": {},
      "id": "24ff705f-cf19-4694-aa68-c9ead0558fd9"
    },
    {
      "cell_type": "code",
      "source": [
        "# join the correlation matrix with the permutation test results\n",
        "sig_dev_motif = cd4na_dev_mt %>% filter(p<0.05) %>% pull(motif)\n",
        "cd4na_dev_gex_cor_fl <- cd4na_tf_gex_cor %>% \n",
        "    filter(p.value<0.05& motif %in% sig_dev_motif) %>%\n",
        "    mutate(corr_direction=if_else(spearman_cor>0, 'pos', 'neg'))\n",
        "cd4na_dev_gex_cor_fl %>% head()"
      ],
      "outputs": [],
      "execution_count": null,
      "metadata": {
        "tags": []
      },
      "id": "3af5acbf-7bad-4138-a403-1edc47052761"
    },
    {
      "cell_type": "code",
      "source": [
        "motif_gene_cor_counts=cd4na_dev_gex_cor_fl %>% group_by(motif, corr_direction) %>% tally() %>%\n",
        "    mutate(n=if_else(corr_direction=='neg', -n, n)) \n",
        "# motif_gene_cor_counts\n",
        "motif_gene_cor_counts %>% ggplot(aes(x=n, y=motif, fill=corr_direction)) + geom_col()\n",
        "ggsave(file.path(fig_path, paste0(proj_name, '_chromVAR_tf_deviation_gex_correlation_sig.png')),\n",
        "       width = 6, height = 8)"
      ],
      "outputs": [],
      "execution_count": null,
      "metadata": {},
      "id": "51089fdb-5080-4a0a-9881-00ff2eebc123"
    },
    {
      "cell_type": "code",
      "source": [
        "cd4na_dev_gex_cor_fl %>% distinct(motif) %>% nrow()\n",
        "cd4na_dev_gex_cor_fl %>% distinct(gene) %>% nrow()\n",
        "cd4na_dev_gex_cor_fl %>% group_by(motif) %>% tally() %>% arrange(desc(n))"
      ],
      "outputs": [],
      "execution_count": null,
      "metadata": {},
      "id": "aaed8ba7-7433-46d7-a709-563c047cc162"
    },
    {
      "cell_type": "code",
      "source": [
        "cd4na_dev_gex_cor_fl$spearman_cor %>% hist()"
      ],
      "outputs": [],
      "execution_count": null,
      "metadata": {},
      "id": "7259794c-31a7-4cf8-adfd-fe259001b46c"
    },
    {
      "cell_type": "code",
      "source": [
        "cd4na_dev_gex_cor_fl"
      ],
      "outputs": [],
      "execution_count": null,
      "metadata": {},
      "id": "850e81fe-93a3-49d3-ae24-3e636cbf644c"
    },
    {
      "cell_type": "code",
      "source": [
        "### Read in NicheNet's tf-target prior model:\n",
        "# validate the tf-target gene correlation\n",
        "ref_path <- '/home/jupyter/data/Reference/Nichenet'\n",
        "tf_target_matrix = readRDS(file.path(ref_path, \"tf_target_matrix.rds\"))\n",
        "\n",
        "tf_target_matrix %>% head() # target genes in rows, tfs in columns"
      ],
      "outputs": [],
      "execution_count": null,
      "metadata": {},
      "id": "533298b5-b8bc-4cd0-b46b-98a289adbb1e"
    },
    {
      "cell_type": "code",
      "source": [
        "tf_target_matrix <- tf_target_matrix %>% as_tibble(rownames = 'gene') %>% pivot_longer(cols = -gene, names_to = 'motif', values_to = 'nichenet_weight')"
      ],
      "outputs": [],
      "execution_count": null,
      "metadata": {},
      "id": "1456bf27-8cdb-412b-a840-02c8e03c3d69"
    },
    {
      "cell_type": "code",
      "source": [
        "cd4na_dev_gex_cor_fl <- cd4na_dev_gex_cor_fl %>% left_join(tf_target_matrix, by = c('motif', 'gene'))"
      ],
      "outputs": [],
      "execution_count": null,
      "metadata": {},
      "id": "f5e20218-6ba9-4d2a-8783-f5945e94824c"
    },
    {
      "cell_type": "code",
      "source": [
        "cd4na_dev_gex_cor_fl %>% arrange(desc(nichenet_weight))"
      ],
      "outputs": [],
      "execution_count": null,
      "metadata": {
        "tags": []
      },
      "id": "b8d19c8b-1a96-4f65-9c74-764894d86b72"
    },
    {
      "cell_type": "code",
      "source": [
        "cd4na_dev_gex_cor_fl %>% mutate(motif_gene=paste(motif, gene, sep = '_')) %>%\n",
        "    ggplot(aes(y=-log10(p.value), x=nichenet_weight)) +\n",
        "    geom_point() + ggrepel::geom_label_repel(aes(label=motif_gene))\n",
        "ggsave(file.path(fig_path, paste0(proj_name, '_chromVAR_tf_deviation_gex_correlation_nichnet.png')),\n",
        "       width = 8, height = 8)"
      ],
      "outputs": [],
      "execution_count": null,
      "metadata": {},
      "id": "e173958d-86ae-413f-8d46-ff3e25752fd9"
    },
    {
      "cell_type": "code",
      "source": [
        "p1 <- cd4na_dev_gex_cor_fl %>% ggplot(aes(x=nichenet_weight)) +geom_histogram()\n",
        "p2 <- tf_target_matrix%>% ggplot(aes(x=nichenet_weight)) +geom_histogram()\n",
        "p1+p2\n"
      ],
      "outputs": [],
      "execution_count": null,
      "metadata": {},
      "id": "7d56db3d-1f1e-4dab-a4c6-a75258494c52"
    },
    {
      "cell_type": "code",
      "source": [
        "enrich_cd4na_tf_deg <- enrichr(cd4na_dev_gex_cor_fl$gene, c('KEGG_2021_Human', 'MSigDB_Hallmark_2020'))\n"
      ],
      "outputs": [],
      "execution_count": null,
      "metadata": {},
      "id": "41236e51-fc96-4025-a6aa-c7a48a1d0e27"
    },
    {
      "cell_type": "code",
      "source": [
        "enrich_cd4na_tf_deg$MSigDB_Hallmark_2020 %>% filter(Adjusted.P.value<0.05) %>% select(-c(Old.P.value,Old.Adjusted.P.value))\n",
        "oxphos_gene = enrich_cd4na_tf_deg$MSigDB_Hallmark_2020 %>% filter(Adjusted.P.value<0.05&Term=='Oxidative Phosphorylation') %>%\n",
        "    pull(Genes) %>% str_split(';', simplify = TRUE)\n",
        "nfkb_gene = enrich_cd4na_tf_deg$MSigDB_Hallmark_2020 %>% filter(Adjusted.P.value<0.05&Term=='TNF-alpha Signaling via NF-kB') %>%\n",
        "    pull(Genes) %>% str_split(';', simplify = TRUE)\n",
        "il2_gene = enrich_cd4na_tf_deg$MSigDB_Hallmark_2020 %>% filter(Adjusted.P.value<0.05&Term=='IL-2/STAT5 Signaling') %>%\n",
        "    pull(Genes) %>% str_split(';', simplify = TRUE)"
      ],
      "outputs": [],
      "execution_count": null,
      "metadata": {},
      "id": "44868ce1-e84d-4405-a3df-74e8a5de6150"
    },
    {
      "cell_type": "code",
      "source": [
        "cd4na_dev_gex_cor_oxphos <- cd4na_dev_gex_cor_fl %>% filter(gene %in% il2_gene)\n",
        "cd4na_dev_gex_cor_oxphos %>% head()"
      ],
      "outputs": [],
      "execution_count": null,
      "metadata": {
        "tags": []
      },
      "id": "6f0d8be2-544b-4f64-9d8c-ca3c008d28dc"
    },
    {
      "cell_type": "code",
      "source": [
        "cd4na_dev_gex_cor_oxphos %>% arrange(desc(nichenet_weight)) %>% head()"
      ],
      "outputs": [],
      "execution_count": null,
      "metadata": {},
      "id": "adde45bc-f5a4-464f-96ba-f38f1e564b73"
    },
    {
      "cell_type": "code",
      "source": [
        "cd4na_dev_gex_cor_fl_mx <- cd4na_dev_gex_cor_oxphos %>% \n",
        "    pivot_wider(id_cols = 'motif', names_from = 'gene', values_from = 'spearman_cor',values_fill = 0)\n",
        "cd4na_dev_gex_cor_fl_matrix=cd4na_dev_gex_cor_fl_mx %>%select_if(is.numeric) %>%as.matrix()\n",
        "rownames(cd4na_dev_gex_cor_fl_matrix)=cd4na_dev_gex_cor_fl_mx$motif\n",
        "# cd4na_dev_gex_cor_fl_mx[cd4na_dev_gex_cor_fl_mx<0.8] = 0"
      ],
      "outputs": [],
      "execution_count": null,
      "metadata": {
        "tags": []
      },
      "id": "c1ce7611-00d2-485e-8dfc-664b2131b5d4"
    },
    {
      "cell_type": "code",
      "source": [
        "cd4na_dev_gex_cor_fl_matrix %>% head()"
      ],
      "outputs": [],
      "execution_count": null,
      "metadata": {},
      "id": "3d308261-483e-4ce8-a028-bb18b8eac9d4"
    },
    {
      "cell_type": "code",
      "source": [
        "# cd4na_dev_gex_cor_fl_mx <- cd4na_dev_gex_cor[unique(cd4na_dev_gex_cor_fl$motif), \n",
        "#                                              unique(cd4na_dev_gex_cor_fl$gene)] %>% t()\n",
        "# # filter \n",
        "# cd4na_dev_gex_cor_fl_mx <- cd4na_dev_gex_cor_fl_mx[if_else(cd4na_dev_gex_cor_fl_mx<0.8, 0, cd4na_dev_gex_cor_fl_mx)]\n",
        "# cd4na_dev_gex_cor_fl_mx %>%dim()\n",
        "motif_sig <- data.frame(motif_sig=ifelse(colnames(cd4na_dev_gex_cor_fl_mx) %in% cd4na_dev_mt,\n",
        "                                         \"Sig\", \"Not Sig\"))\n",
        "\n",
        "p1 <- ComplexHeatmap::Heatmap(cd4na_dev_gex_cor_fl_matrix %>% t(), show_row_names=TRUE,\n",
        "                              show_column_names = TRUE, row_title = 'Motif', column_title = 'Gene')\n",
        "\n",
        "pdf(file.path(fig_path, paste(proj_name, 'motif_deviatoin_deg_sig_expression_spearman_cor_heatmap_il2_gene.pdf', sep='_')), \n",
        "               width=16, height=12)\n",
        "p1\n",
        "dev.off()  \n"
      ],
      "outputs": [],
      "execution_count": null,
      "metadata": {},
      "id": "0fae2c11-12e1-4cc4-9f78-e226b0d2a360"
    },
    {
      "cell_type": "code",
      "source": [
        "p1"
      ],
      "outputs": [],
      "execution_count": null,
      "metadata": {},
      "id": "46fe6841-b305-4e91-ab31-9c52b25840ee"
    },
    {
      "cell_type": "markdown",
      "source": [
        "### check what are the overlap of genes and atac openness"
      ],
      "metadata": {
        "tags": []
      },
      "id": "39192958-9ea0-4830-b1ff-c41b8ca9c095"
    },
    {
      "cell_type": "code",
      "source": [
        "# load the degs for cd4 naive\n",
        "# load the deg list\n",
        "ra_tea_l2_pseudo_degs <- \n",
        "    read_csv('/home/jupyter/data/preRA_teaseq/output_results/PreRA_teaseq_l2_annotation_PseudoBulk_degs_preRAvsHealthy.csv',\n",
        "            show_col_types = FALSE) %>%\n",
        "    filter(!is.na(FDR) & !is.na(logFC)) %>% mutate(direction=if_else(logFC>0, 'up', 'down'))\n",
        "# filter cd4 naive\n",
        "cd4na_pseudo_degs <- ra_tea_l2_pseudo_degs %>% filter(cell_type=='cd4_naive')\n",
        "cd4na_pseudo_degs %>% head()"
      ],
      "outputs": [],
      "execution_count": null,
      "metadata": {},
      "id": "83dd7a6c-5b46-41cf-8f8f-550c1e87e253"
    },
    {
      "cell_type": "code",
      "source": [
        "cd4na_enrich_mt <- differentials_motif_ravshealthy %>% filter(adjp_val<0.05) %>% pull(motif)"
      ],
      "outputs": [],
      "execution_count": null,
      "metadata": {},
      "id": "968b49be-1581-4845-b6aa-c4cf2b25d3af"
    },
    {
      "cell_type": "code",
      "source": [
        "# filter out the differential peaks\n",
        "cd4na_diff_peaks <- differentials %>% filter(FDR<0.2&!is.na(Gene)) %>% dplyr::rename('gene'='Gene')\n",
        "\n",
        "cd4na_diff_peaks_unique <- cd4na_diff_peaks %>% arrange(FDR) %>% distinct(gene, .keep_all = TRUE)\n",
        "table(cd4na_diff_peaks_unique$gene %in% cd4na_pseudo_degs$gene)"
      ],
      "outputs": [],
      "execution_count": null,
      "metadata": {},
      "id": "d376ebed-d5ce-4807-bf52-fed2c6bf0489"
    },
    {
      "cell_type": "code",
      "source": [
        "cd4na_diff_peaks %>% janitor::get_dupes(gene)"
      ],
      "outputs": [],
      "execution_count": null,
      "metadata": {},
      "id": "b9ef4c6c-a5cb-4fa4-b220-3093247746f7"
    },
    {
      "cell_type": "code",
      "source": [
        "# combine the degs and deps\n",
        "cd4na_pseudo_degs_deps <- cd4na_pseudo_degs %>% filter(gene %in% cd4na_diff_peaks_unique$gene) %>% \n",
        "    left_join(cd4na_diff_peaks_unique, suffix = c('.degs', '.deps'), by='gene')\n",
        "cd4na_pseudo_degs_deps"
      ],
      "outputs": [],
      "execution_count": null,
      "metadata": {},
      "id": "1846628a-cf5b-4399-a081-909cadeee4bd"
    },
    {
      "cell_type": "code",
      "source": [
        "cd4na_pseudo_degs_deps %>% ggplot() + geom_point(aes(x=logFC, y=MeanDiff, color=tileType))"
      ],
      "outputs": [],
      "execution_count": null,
      "metadata": {},
      "id": "6e73738e-6263-4c9c-a977-c4b44129d7b9"
    },
    {
      "cell_type": "markdown",
      "source": [
        "# TF activity prediction"
      ],
      "metadata": {},
      "id": "698df036-8ffb-4b83-ba0f-9e7045eac12f"
    },
    {
      "cell_type": "markdown",
      "source": [
        "## construct nichenet context specific models"
      ],
      "metadata": {},
      "id": "f9036555-9bc9-4080-a5d2-6deff9a0e209"
    },
    {
      "cell_type": "code",
      "source": [
        "# load the nichenet prior network\n",
        "ref_path <- '/home/jupyter/data/Reference/Nichenet'"
      ],
      "outputs": [],
      "execution_count": null,
      "metadata": {},
      "id": "558588a0-c858-4099-bcfb-aa0339de6fb0"
    },
    {
      "cell_type": "code",
      "source": [
        "# load the deg list\n",
        "ra_tea_l2_pseudo_degs <- read_csv(\n",
        "    '/home/jupyter/data/preRA_teaseq/output_results/PreRA_teaseq_l2_annotation_PseudoBulk_degs_preRAvsHealthy.csv',\n",
        "    show_col_types = FALSE)\n",
        "ra_tea_l2_pseudo_degs %>% head()"
      ],
      "outputs": [],
      "execution_count": null,
      "metadata": {},
      "id": "bc31b7b4-ea58-42c2-9ca0-93a028030c39"
    },
    {
      "cell_type": "code",
      "source": [
        "# filter degs for cd4 naive\n",
        "cd4na_degs <- ra_tea_l2_pseudo_degs %>% filter(cell_type=='cd4_naive' & FDR<0.05)\n",
        "cd4na_degs %>% dim()"
      ],
      "outputs": [],
      "execution_count": null,
      "metadata": {
        "tags": []
      },
      "id": "ad4c907c-8cae-421f-86f0-a2c52ad69867"
    },
    {
      "cell_type": "code",
      "source": [
        "### Read in NicheNet's tf-target prior model:\n",
        "tf_target_matrix = readRDS(file.path(ref_path, \"tf_target_matrix.rds\"))\n",
        "\n",
        "tf_target_matrix[1:5,1:5] # target genes in rows, tfs in columns"
      ],
      "outputs": [],
      "execution_count": null,
      "metadata": {},
      "id": "d895ff9c-8566-4c05-a7e0-508110be7c24"
    },
    {
      "cell_type": "code",
      "source": [
        "tf_target_matrix %>% dim()"
      ],
      "outputs": [],
      "execution_count": null,
      "metadata": {},
      "id": "f95280f7-4392-4a0c-9861-e3c25f6ff1b1"
    },
    {
      "cell_type": "code",
      "source": [
        "# filter by any motif present in the atac data\n",
        "motif_present <- metadata(SampleTileMatricesAnnotated)$Motifs %>% names()\n",
        "motif_present %>% length()\n",
        "table(motif_present %in% colnames(tf_target_matrix))"
      ],
      "outputs": [],
      "execution_count": null,
      "metadata": {},
      "id": "a7449a07-8f67-47af-bfdd-eeaec9403564"
    },
    {
      "cell_type": "code",
      "source": [
        "# filter the motif that are present in the data\n",
        "tf_target_matrix_fl <- tf_target_matrix[, colnames(tf_target_matrix) %in% motif_present]"
      ],
      "outputs": [],
      "execution_count": null,
      "metadata": {},
      "id": "8c613533-5eb1-49c1-a5c6-3fb4171874bf"
    },
    {
      "cell_type": "code",
      "source": [
        "table(unique(gr_network$from) %in% colnames(tf_target_matrix_fl))\n",
        "table(unique(gr_network$to) %in% rownames(tf_target_matrix_fl))"
      ],
      "outputs": [],
      "execution_count": null,
      "metadata": {},
      "id": "1425b62c-11d1-4aa7-a7c7-10ff7451b111"
    },
    {
      "cell_type": "code",
      "source": [
        "\n",
        "colnames(tf_target_matrix)%>% str_subset('STAT')"
      ],
      "outputs": [],
      "execution_count": null,
      "metadata": {},
      "id": "d318f8c8-b1d9-4ea1-b9ad-e303a5e1963b"
    },
    {
      "cell_type": "code",
      "source": [
        "extract_top_n_targets(\"STAT3\", 5, tf_target_matrix)"
      ],
      "outputs": [],
      "execution_count": null,
      "metadata": {},
      "id": "24dd8ac4-0e9f-43ef-8759-1ff96d5c7073"
    },
    {
      "cell_type": "markdown",
      "source": [
        "### define receiver cells"
      ],
      "metadata": {},
      "id": "f40f083a-c624-4347-b7b9-628e95eeca8b"
    },
    {
      "cell_type": "code",
      "source": [
        "ra_tea_cd4na@meta.data %>% colnames()"
      ],
      "outputs": [],
      "execution_count": null,
      "metadata": {},
      "id": "ee7865ed-86af-42ae-8a9d-c6a0edcce45f"
    },
    {
      "cell_type": "code",
      "source": [
        "# define figname to save all nichenet figs as sender to receiver\n",
        "figname='tf_cd4_naive'"
      ],
      "outputs": [],
      "execution_count": null,
      "metadata": {},
      "id": "cb27eff2-1240-4d05-afe7-6e85a7fab01e"
    },
    {
      "cell_type": "code",
      "source": [
        "# define all the innate cell types\n",
        "receiver_ct <- ra_tea_cd4na@meta.data %>% distinct(t_annotation) %>% \n",
        "    pull(t_annotation) \n",
        "receiver_ct"
      ],
      "outputs": [],
      "execution_count": null,
      "metadata": {},
      "id": "8986111e-796c-4d41-b691-616077f72023"
    },
    {
      "cell_type": "code",
      "source": [
        "## receiver\n",
        "ra_tea_cd4na <- SetIdent(ra_tea_cd4na, value = 't_annotation')\n",
        "receiver = receiver_ct\n",
        "expressed_genes_receiver = get_expressed_genes(receiver, ra_tea_cd4na, pct = 0.10)\n",
        "background_expressed_genes = expressed_genes_receiver %>% .[. %in% rownames(tf_target_matrix)]"
      ],
      "outputs": [],
      "execution_count": null,
      "metadata": {},
      "id": "3e6c2feb-b7af-472c-91f3-2a1a0c7129d1"
    },
    {
      "cell_type": "code",
      "source": [
        "# Define a gene set of interest\n",
        "geneset_oi = cd4na_degs %>% pull(gene) %>% .[. %in% rownames(tf_target_matrix)]\n",
        "geneset_oi %>% length()\n",
        "table(pull(cd4na_degs, gene) %in% rownames(tf_target_matrix))"
      ],
      "outputs": [],
      "execution_count": null,
      "metadata": {},
      "id": "ceb1a662-359f-403e-884b-846391010936"
    },
    {
      "cell_type": "code",
      "source": [
        "cd4na_degs %>% filter(!gene %in% rownames(tf_target_matrix)) %>% pull(gene)"
      ],
      "outputs": [],
      "execution_count": null,
      "metadata": {},
      "id": "8ce6b58d-622b-4825-baf2-1a92317e2ed4"
    },
    {
      "cell_type": "code",
      "source": [
        "# Define a set of potential tfs\n",
        "tfs = colnames(tf_target_matrix)\n",
        "length(tfs)\n",
        "# check what tf are expressed and \n",
        "expressed_tfs = intersect(tfs,expressed_genes_receiver)\n",
        "motif_present_tf = intersect(tfs, names(metadata(SampleTileMatricesAnnotated)$Motifs))\n",
        "\n",
        "table(expressed_tfs %in% tfs)\n",
        "table(motif_present_tf %in% tfs)\n",
        "potential_tfs = unique(append(motif_present_tf, expressed_tfs))"
      ],
      "outputs": [],
      "execution_count": null,
      "metadata": {},
      "id": "9bc21527-d4c9-4b27-a812-a7474e28eb3a"
    },
    {
      "cell_type": "code",
      "source": [
        "potential_tfs %>% length()"
      ],
      "outputs": [],
      "execution_count": null,
      "metadata": {},
      "id": "e8390d39-faeb-43ec-ad3d-2d5447793365"
    },
    {
      "cell_type": "code",
      "source": [
        "#Perform NicheNet tf activity analysis: rank the potential tfs \n",
        "# based on the presence of their target genes in the gene set of interest (compared to the background set of genes)\n",
        "\n",
        "tf_activities = suppressWarnings(predict_ligand_activities(geneset = geneset_oi, \n",
        "                                                           background_expressed_genes = background_expressed_genes, \n",
        "                                          ligand_target_matrix = tf_target_matrix, potential_ligands = potential_tfs))\n",
        "\n",
        "# tf_activities = tf_activities %>% arrange(-pearson) %>% mutate(rank = rank(desc(pearson)))\n",
        "# tf_activities"
      ],
      "outputs": [],
      "execution_count": null,
      "metadata": {
        "tags": []
      },
      "id": "72b88de6-c410-4a9b-8ab0-d100748aa018"
    },
    {
      "cell_type": "code",
      "source": [
        "tf_activities <- tf_activities %>% filter(!is.na(pearson))%>% \n",
        "    arrange(-pearson) %>% mutate(rank = rank(dplyr::desc(pearson))) %>%\n",
        "    mutate(tf_expressed=(test_ligand %in% expressed_tfs), \n",
        "          motif_present=(test_ligand %in% motif_present_tf))\n",
        "tf_activities %>% write_csv(file.path(output_path, paste0(proj_name,figname, '_tf_prediction_degs.csv')))"
      ],
      "outputs": [],
      "execution_count": null,
      "metadata": {
        "tags": []
      },
      "id": "1b1b5283-d04f-44e7-b18d-15109c2cfce7"
    },
    {
      "cell_type": "code",
      "source": [
        "potential_tfs %>% length()"
      ],
      "outputs": [],
      "execution_count": null,
      "metadata": {},
      "id": "b06352d1-4006-4d3f-9f0d-ed35416b0c2c"
    },
    {
      "cell_type": "code",
      "source": [
        "tf_activities %>% head(10)"
      ],
      "outputs": [],
      "execution_count": null,
      "metadata": {},
      "id": "8c391d53-309b-45cc-80af-59597a56788f"
    },
    {
      "cell_type": "code",
      "source": [
        "best_upstream_tfs = bind_rows(tf_activities %>% top_n(20, pearson) %>% arrange(-pearson) , \n",
        "                      tf_activities %>% top_n(20, auroc) %>% \n",
        "                              arrange(-auroc)) %>% distinct(test_ligand, .keep_all = TRUE)\n",
        "best_upstream_tfs"
      ],
      "outputs": [],
      "execution_count": null,
      "metadata": {},
      "id": "2b7c1b6a-953d-400e-bdb6-e19a373f6c2d"
    },
    {
      "cell_type": "code",
      "source": [
        "active_tf_target_links_df = best_upstream_tfs$test_ligand %>% lapply(get_weighted_ligand_target_links,\n",
        "                                                         geneset = geneset_oi, \n",
        "                                                         ligand_target_matrix = tf_target_matrix, n = 100) %>% \n",
        "    bind_rows() %>% drop_na()\n",
        "\n",
        "active_tf_target_links = prepare_ligand_target_visualization(ligand_target_df = active_tf_target_links_df,\n",
        "                                                             ligand_target_matrix = tf_target_matrix, cutoff = 0.2)\n",
        "active_tf_target_links %>% head()\n",
        "order_tfs = intersect(best_upstream_tfs, colnames(active_tf_target_links)) %>% rev() %>% make.names()\n",
        "order_targets = active_tf_target_links_df$target %>% unique() %>% intersect(rownames(active_tf_target_links)) %>% make.names()\n",
        "rownames(active_tf_target_links) = rownames(active_tf_target_links) %>% make.names() # make.names() for heatmap visualization of genes like H2-T23\n",
        "colnames(active_tf_target_links) = colnames(active_tf_target_links) %>% make.names() # make.names() for heatmap visualization of genes like H2-T23\n",
        "\n",
        "vis_tf_target = active_tf_target_links[order_targets,order_tfs] %>% t()"
      ],
      "outputs": [],
      "execution_count": null,
      "metadata": {},
      "id": "598190f2-e755-4a68-b1e5-474df2b23bcc"
    },
    {
      "cell_type": "code",
      "source": [
        "geneset_oi %>% length()"
      ],
      "outputs": [],
      "execution_count": null,
      "metadata": {},
      "id": "3357eb7a-b370-4818-8562-dfb97ca5bdf6"
    },
    {
      "cell_type": "code",
      "source": [
        "active_tf_target_links_df"
      ],
      "outputs": [],
      "execution_count": null,
      "metadata": {},
      "id": "2b841589-409a-4013-8e87-f569c439b55b"
    },
    {
      "cell_type": "code",
      "source": [
        "quiet_library('nichenetr')"
      ],
      "outputs": [],
      "execution_count": null,
      "metadata": {},
      "id": "969f930c-fe05-40c2-9f31-5abcd0420d90"
    },
    {
      "cell_type": "code",
      "source": [
        "# load the nichenet ligand target database\n",
        "nichenet_path <- '/home/jupyter/github/nichenetr/data'"
      ],
      "outputs": [],
      "execution_count": null,
      "metadata": {},
      "id": "4ea01500-8f2f-439c-83c9-8db55277d483"
    },
    {
      "cell_type": "code",
      "source": [
        "# load the gene regulatory network\n",
        "# this the tf to gene connection\n",
        "gr_network = readRDS(file.path(nichenet_path, \"gr_network.rds\"))\n",
        "gr_network %>% head()"
      ],
      "outputs": [],
      "execution_count": null,
      "metadata": {},
      "id": "098dbb31-e2fe-42ce-8222-7a1cd8a16931"
    },
    {
      "cell_type": "code",
      "source": [
        "motif_sets <- metadata(SampleTileMatricesAnnotated)$Motifs %>% names()\n",
        "table(motif_sets %in% unique(gr_network$from))"
      ],
      "outputs": [],
      "execution_count": null,
      "metadata": {},
      "id": "babe7710-8ab4-4548-a12c-55e6ea692d4b"
    },
    {
      "cell_type": "code",
      "source": [
        "metadata(SampleTileMatricesAnnotated)$Motifs"
      ],
      "outputs": [],
      "execution_count": null,
      "metadata": {},
      "id": "e51e81a3-7249-45d1-9da9-534cd08cf27b"
    },
    {
      "cell_type": "code",
      "source": [
        "motif_sets %>% length()"
      ],
      "outputs": [],
      "execution_count": null,
      "metadata": {},
      "id": "635d3229-49d7-4075-899e-3139a17a1a0b"
    },
    {
      "cell_type": "code",
      "source": [
        "### Read in NicheNet's tf-target prior model:\n",
        "tf_target_matrix = readRDS(file.path('/home/jupyter/data/Reference/Nichenet',\n",
        "                                     \"tf_target_matrix.rds\"))\n",
        "tf_target_matrix %>% head()"
      ],
      "outputs": [],
      "execution_count": null,
      "metadata": {},
      "id": "0965bcd1-d698-46c8-ae38-15173c97dc8a"
    },
    {
      "cell_type": "code",
      "source": [
        "table(rownames(tf_target_matrix) %in% names(metadata(SampleTileMatricesAnnotated)$Motifs))\n",
        "table(names(metadata(SampleTileMatricesAnnotated)$Motifs) %in% rownames(tf_target_matrix))"
      ],
      "outputs": [],
      "execution_count": null,
      "metadata": {},
      "id": "95d656cf-14fb-4594-9bec-8ae245829a97"
    },
    {
      "cell_type": "code",
      "source": [
        "tf_target_matrix[rownames(tf_target_matrix) %in% names(metadata(SampleTileMatricesAnnotated)$Motifs), ] %>% hist()"
      ],
      "outputs": [],
      "execution_count": null,
      "metadata": {},
      "id": "4f9a107e-d3eb-4ccc-b6e0-f291cabee6fd"
    },
    {
      "cell_type": "code",
      "source": [
        "# load the tf prediction list\n",
        "nichenet_tf <- read_csv('/home/jupyter/data/preRA_teaseq/output_results/nichenet/tf_cd4_naive_tf_prediction_degs.csv',\n",
        "                       show_col_types = FALSE) \n",
        "table(nichenet_tf$test_ligand %in% differentials_motif_ravshealthy$motif)\n",
        "\n",
        "nichenet_tf_fl <- nichenet_tf %>% filter(test_ligand %in% differentials_motif_ravshealthy$motif) %>% \n",
        "    dplyr::rename('motif'='test_ligand')\n",
        "nichenet_tf_fl%>% head(20)"
      ],
      "outputs": [],
      "execution_count": null,
      "metadata": {},
      "id": "e30a476e-3b66-4a28-84d2-9f4c57e182c9"
    },
    {
      "cell_type": "code",
      "source": [
        "differentials_motif_ravshealthy %>%\n",
        "    filter(adjp_val<0.2) %>% \n",
        "    left_join(nichenet_tf_fl, by = 'motif') %>% arrange(rank)"
      ],
      "outputs": [],
      "execution_count": null,
      "metadata": {
        "tags": []
      },
      "id": "b0dcf08b-2ae6-49a0-8c36-5a40b6867924"
    },
    {
      "cell_type": "code",
      "source": [
        "# define figname to save all nichenet figs as sender to receiver\n",
        "figname='tf_cd4_naive'"
      ],
      "outputs": [],
      "execution_count": null,
      "metadata": {},
      "id": "078181aa-6b61-47af-b32a-1745fa169ce1"
    },
    {
      "cell_type": "code",
      "source": [
        "# define all the innate cell types\n",
        "receiver_ct <- ra_tea_cd4na@meta.data %>% distinct(t_annotation) %>% \n",
        "    pull(t_annotation)\n",
        "receiver_ct"
      ],
      "outputs": [],
      "execution_count": null,
      "metadata": {},
      "id": "5da3bed0-5924-4718-a04b-327312edda11"
    },
    {
      "cell_type": "code",
      "source": [
        "## receiver\n",
        "ra_tea_cd4na <- SetIdent(ra_tea_cd4na, value = 't_annotation')\n",
        "receiver = receiver_ct\n",
        "expressed_genes_receiver = get_expressed_genes(receiver, ra_tea_cd4na, pct = 0.10)\n",
        "background_expressed_genes = expressed_genes_receiver %>% .[. %in% rownames(tf_target_matrix)]"
      ],
      "outputs": [],
      "execution_count": null,
      "metadata": {},
      "id": "472a2366-ee97-48a1-82b1-b3e6597159ec"
    },
    {
      "cell_type": "code",
      "source": [
        "background_expressed_genes %>% length()"
      ],
      "outputs": [],
      "execution_count": null,
      "metadata": {},
      "id": "962daf14-07f3-4ed2-ab01-39ce4b76b5f1"
    },
    {
      "cell_type": "code",
      "source": [
        "cd4na_degs <- ra_tea_l2_pseudo_degs %>% filter(cell_type=='cd4_naive'&FDR<0.2)"
      ],
      "outputs": [],
      "execution_count": null,
      "metadata": {},
      "id": "7725cd1a-5bd8-443b-baf9-7a336b64eb87"
    },
    {
      "cell_type": "code",
      "source": [
        "# Define a gene set of interest\n",
        "geneset_oi = cd4na_degs %>% pull(gene) %>% .[. %in% rownames(tf_target_matrix)]\n",
        "geneset_oi %>% length()\n",
        "table(pull(cd4na_degs, gene) %in% rownames(tf_target_matrix))"
      ],
      "outputs": [],
      "execution_count": null,
      "metadata": {},
      "id": "2e014112-327a-4fd8-82ff-a6cc3d7c6416"
    },
    {
      "cell_type": "code",
      "source": [
        "# filter TF matrix by the presented tf\n",
        "tf_target_matrix_fl <- tf_target_matrix[rownames(tf_target_matrix) %in% names(metadata(SampleTileMatricesAnnotated)$Motifs), ]\n",
        "tf_target_matrix_fl %>% dim()"
      ],
      "outputs": [],
      "execution_count": null,
      "metadata": {},
      "id": "ad084b59-22d5-4262-ae44-a9b527210620"
    },
    {
      "cell_type": "code",
      "source": [
        "# Define a set of potential tfs\n",
        "tfs = colnames(tf_target_matrix_fl)\n",
        "expressed_tfs = intersect(tfs,expressed_genes_receiver)\n",
        "potential_tfs = tfs\n",
        "table(tfs %in% expressed_tfs)"
      ],
      "outputs": [],
      "execution_count": null,
      "metadata": {},
      "id": "373e1cb2-df8b-4d5b-911b-d03113d1841d"
    },
    {
      "cell_type": "code",
      "source": [
        "#Perform NicheNet tf activity analysis: rank the potential tfs \n",
        "# based on the presence of their target genes in the gene set of interest (compared to the background set of genes)\n",
        "\n",
        "tf_activities = suppressWarnings(predict_ligand_activities(geneset = geneset_oi, background_expressed_genes = background_expressed_genes, \n",
        "                                          ligand_target_matrix = tf_target_matrix_fl, potential_ligands = potential_tfs))\n",
        "\n",
        "# tf_activities = tf_activities %>% arrange(-pearson) %>% mutate(rank = rank(desc(pearson)))\n",
        "# tf_activities"
      ],
      "outputs": [],
      "execution_count": null,
      "metadata": {
        "tags": []
      },
      "id": "b4a67b20-d43d-41e3-897d-855db85b6bc0"
    },
    {
      "cell_type": "code",
      "source": [
        "tf_activities <- tf_activities %>% filter(!is.na(pearson))%>% \n",
        "    arrange(-pearson) %>% mutate(rank = rank(dplyr::desc(pearson)))\n",
        "tf_activities %>% write_csv(file.path(output_path, paste0(figname, '_tf_prediction_degs_fl_atac.csv')))"
      ],
      "outputs": [],
      "execution_count": null,
      "metadata": {
        "tags": []
      },
      "id": "ed0b1072-ea05-44b0-b97a-2f48aac7a069"
    },
    {
      "cell_type": "code",
      "source": [
        "tf_activities %>% head(10)"
      ],
      "outputs": [],
      "execution_count": null,
      "metadata": {},
      "id": "b1736a1b-e0d1-4008-9476-dda4b247f45d"
    },
    {
      "cell_type": "code",
      "source": [
        "best_upstream_tfs = bind_rows(tf_activities %>% top_n(20, pearson) %>% arrange(-pearson) , \n",
        "                      tf_activities %>% top_n(20, auroc) %>% arrange(-auroc)) %>% distinct(test_ligand, .keep_all = TRUE)\n",
        "best_upstream_tfs"
      ],
      "outputs": [],
      "execution_count": null,
      "metadata": {},
      "id": "ff14a25e-b10e-4d0d-9a58-63eae073ac49"
    },
    {
      "cell_type": "code",
      "source": [
        "active_tf_target_links_df = best_upstream_tfs %>% lapply(get_weighted_ligand_target_links,\n",
        "                                                         geneset = geneset_oi, \n",
        "                                                         ligand_target_matrix = tf_target_matrix_fl, n = 100) %>% bind_rows() %>% drop_na()\n",
        "\n",
        "active_tf_target_links = prepare_ligand_target_visualization(ligand_target_df = active_tf_target_links_df, ligand_target_matrix = tf_target_matrix_fl, cutoff = 0.33)\n",
        "\n",
        "order_tfs = intersect(best_upstream_tfs, colnames(active_tf_target_links)) %>% rev() %>% make.names()\n",
        "order_targets = active_tf_target_links_df$target %>% unique() %>% intersect(rownames(active_tf_target_links)) %>% make.names()\n",
        "rownames(active_tf_target_links) = rownames(active_tf_target_links) %>% make.names() # make.names() for heatmap visualization of genes like H2-T23\n",
        "colnames(active_tf_target_links) = colnames(active_tf_target_links) %>% make.names() # make.names() for heatmap visualization of genes like H2-T23\n",
        "\n",
        "vis_tf_target = active_tf_target_links[order_targets,order_tfs] %>% t()"
      ],
      "outputs": [],
      "execution_count": null,
      "metadata": {},
      "id": "37899698-46c5-435c-87b9-0c5bb25160ba"
    },
    {
      "cell_type": "code",
      "source": [],
      "outputs": [],
      "execution_count": null,
      "metadata": {},
      "id": "e0890a61-4a66-4bf7-a04c-27b1ee1e3222"
    },
    {
      "cell_type": "markdown",
      "source": [
        "# import the peaks cells in scMACS into Archr and remake peak matrix"
      ],
      "metadata": {},
      "id": "bb73440c-993c-4158-bcc2-4eef9c765b82"
    },
    {
      "cell_type": "code",
      "source": [
        "# Tests if a string is a in the correct format to convert to GRanges \n",
        "validRegionString <- function(regionString) {\n",
        "  if (!is.character(regionString)) {\n",
        "    return(FALSE)\n",
        "  }\n",
        "\n",
        "  pattern <- \"([0-9]{1,2}|chr[0-9]{1,2}):[0-9]*-[0-9]*\"\n",
        "  matchedPattern <- str_extract(regionString, pattern)\n",
        "\n",
        "  if (is.na(matchedPattern)) {\n",
        "    return(FALSE)\n",
        "  } else if (!matchedPattern == regionString) {\n",
        "    return(FALSE)\n",
        "  }\n",
        "\n",
        "  splits <- str_split(regionString, \"[:-]\")[[1]]\n",
        "  start <- splits[2]\n",
        "  end <- splits[3]\n",
        "  if (start > end) {\n",
        "    return(FALSE)\n",
        "  }\n",
        "\n",
        "  # All conditions satisfied\n",
        "  return(TRUE)\n",
        "}\n",
        "# Strings to GRanges\n",
        "StringsToGRanges <- function(regionString) {\n",
        "  if (!validRegionString(regionString)) {\n",
        "    stop(\"Region must be a string matching format 'seqname:start-end', where start<end e.g. chr1:123000-123500\")\n",
        "  }\n",
        "\n",
        "  chrom <- gsub(\":.*\", \"\", regionString)\n",
        "  startSite <- gsub(\".*:\", \"\", regionString) %>%\n",
        "    gsub(\"-.*\", \"\", .) %>%\n",
        "    as.numeric()\n",
        "  endSite <- gsub(\".*-\", \"\", regionString) %>% as.numeric()\n",
        "\n",
        "\n",
        "  regionGRanges <- GRanges(seqnames = chrom, ranges = IRanges(start = startSite, end = endSite), strand = \"*\")\n",
        "  return(regionGRanges)\n",
        "}  "
      ],
      "outputs": [],
      "execution_count": null,
      "metadata": {},
      "id": "1e2603e8-530c-4981-bf53-9488bdd51eb2"
    },
    {
      "cell_type": "code",
      "source": [
        "SampleTileMatricesAnnotated %>% rowData()"
      ],
      "outputs": [],
      "execution_count": null,
      "metadata": {},
      "id": "108c2a9e-1928-41e1-b67c-726f7004e743"
    },
    {
      "cell_type": "code",
      "source": [
        "# make a grange object from the the union of the peaks called\n",
        "cd4na_preRAvsHealthy_peaks <- SampleTileMatricesAnnotated %>% rownames() %>% unique() %>% \n",
        "    StringsToGRanges()\n",
        "cd4na_preRAvsHealthy_peaks"
      ],
      "outputs": [],
      "execution_count": null,
      "metadata": {},
      "id": "a2c4a972-5431-47d5-b4b1-81bab06588e7"
    },
    {
      "cell_type": "code",
      "source": [
        "# add the peak called by scMACS back to archR\n",
        "cd4na_atac <- addPeakSet(\n",
        "  ArchRProj = cd4na_atac,\n",
        "  peakSet = cd4na_preRAvsHealthy_peaks,\n",
        "  #genomeAnnotation = getGenomeAnnotation(cd4na_atac),\n",
        "  force = TRUE\n",
        ")\n"
      ],
      "outputs": [],
      "execution_count": null,
      "metadata": {},
      "id": "0a00d986-dc3a-44cb-85be-b8758144e609"
    },
    {
      "cell_type": "code",
      "source": [
        "# add peakmatrix based on the peak set\n",
        "cd4na_atac <- addPeakMatrix(cd4na_atac)\n",
        "getAvailableMatrices(cd4na_atac)"
      ],
      "outputs": [],
      "execution_count": null,
      "metadata": {},
      "id": "fdde3dde-6177-4992-9d92-0cd7cd7e0986"
    },
    {
      "cell_type": "code",
      "source": [
        "# rerun a lsi based on the peakmatrix\n",
        "# add lsi in atac\n",
        "cd4na_atac <- addIterativeLSI(\n",
        "      ArchRProj = cd4na_atac,\n",
        "      useMatrix = \"PeakMatrix\", \n",
        "      name = \"IterativeLSI_peak\", \n",
        "      iterations = 2,\n",
        "      #varFeatures = 75000, # increase the viable features\n",
        "      force = TRUE\n",
        "    )"
      ],
      "outputs": [],
      "execution_count": null,
      "metadata": {},
      "id": "a6422dad-8152-427a-9149-5371a64e1726"
    },
    {
      "cell_type": "code",
      "source": [
        "# redo clustering based on the lsi from scMACS called peak matrix\n",
        "cd4na_atac <- addClusters(\n",
        "    input = cd4na_atac,\n",
        "    reducedDims = \"IterativeLSI_peak\",\n",
        "    method = \"Seurat\",\n",
        "    name = \"peak_Clusters_0.5\",\n",
        "    resolution = 0.5,\n",
        "    force = TRUE\n",
        ")"
      ],
      "outputs": [],
      "execution_count": null,
      "metadata": {},
      "id": "5277cbc4-4707-4d5d-bfb2-516f0b67a03e"
    },
    {
      "cell_type": "code",
      "source": [
        "cd4na_atac <- addUMAP(\n",
        "    ArchRProj = cd4na_atac, \n",
        "    reducedDims = \"IterativeLSI_peak\", \n",
        "    name = \"UMAP_peak\", \n",
        "    nNeighbors = 30, \n",
        "    minDist = 0.5, \n",
        "    metric = \"cosine\",\n",
        "    force = TRUE\n",
        ")"
      ],
      "outputs": [],
      "execution_count": null,
      "metadata": {
        "tags": []
      },
      "id": "c4782d83-98a7-4f9b-ba51-01e38d3ebd99"
    },
    {
      "cell_type": "code",
      "source": [
        "saveArchRProject(ArchRProj = cd4na_atac)"
      ],
      "outputs": [],
      "execution_count": null,
      "metadata": {
        "tags": []
      },
      "id": "a4c4fcd2-f392-48cc-9f10-db5a4764327b"
    },
    {
      "cell_type": "code",
      "source": [
        "p1 <- cd4na_atac %>% BoxPlotClusterFreq(cluster.name='peak_Clusters_0.5',\n",
        "                                        totalcounts = 'total_counts',\n",
        "                                          color.by='cohort', log.y = FALSE)\n",
        "p1 "
      ],
      "outputs": [],
      "execution_count": null,
      "metadata": {},
      "id": "36e6756c-ed3b-4175-a668-135d862e7b93"
    },
    {
      "cell_type": "code",
      "source": [
        "# plot umap of annotated cell types\n",
        "p1 <- plotEmbedding(cd4na_atac, embedding = \"UMAP_peak\", \n",
        "                    colorBy = \"cellColData\", name = c(\"l2_cell_types\", \"peak_Clusters_0.5\",'peak_Clusters_0.8',\n",
        "                                                      'subject_id','age','predicted.celltype_l2','wsnn_res.0.5',\n",
        "                                                      'cohort'))\n",
        "plotPDF(p1, name = paste0(proj_name, '_Clusters_0.8_atac_peak_umap_gene_score.pdf'), ArchRProj = cd4na_atac,\n",
        "        addDOC = FALSE, width = 6, height = 6)"
      ],
      "outputs": [],
      "execution_count": null,
      "metadata": {},
      "id": "892683c6-694a-4664-9913-320fa825c447"
    },
    {
      "cell_type": "code",
      "source": [
        "# plot density UMAP\n",
        "plotDensity(ArchRProj= cd4na_atac, embeddingName= 'UMAP_peak', identity = 'cohort', returnObj = FALSE)"
      ],
      "outputs": [],
      "execution_count": null,
      "metadata": {},
      "id": "d571bf4b-3d12-429f-aea1-64f6ea99124e"
    },
    {
      "cell_type": "code",
      "source": [
        "cd4na_atac$peak_Clusters_0.5 %>% table()\n",
        "cd4na_atac$cohort %>% unique()"
      ],
      "outputs": [],
      "execution_count": null,
      "metadata": {},
      "id": "5d03434d-69ee-465c-a7bb-aafbd693374d"
    },
    {
      "cell_type": "code",
      "source": [
        "# Identifying Marker Peaks with ArchR\n",
        "cd4na_ravshealthy_Peaks <- getMarkerFeatures(\n",
        "    ArchRProj = cd4na_atac, \n",
        "    useMatrix = \"PeakMatrix\", \n",
        "    useGroups = c('C4', 'C5'),\n",
        "   #bgdGroups = c('C1', 'C2','C3', 'C6'),\n",
        "    groupBy = \"peak_Clusters_0.5\",\n",
        "  bias = c(\"TSSEnrichment\", \"log10(nFrags)\"),\n",
        "     maxCells = 2500,\n",
        "  testMethod = \"wilcoxon\"\n",
        ")"
      ],
      "outputs": [],
      "execution_count": null,
      "metadata": {},
      "id": "4e114490-b177-4241-bbb1-bd7583423ebf"
    },
    {
      "cell_type": "code",
      "source": [
        "markerList <- getMarkers(cd4na_ravshealthy_Peaks, cutOff = \"FDR <= 0.01 & Log2FC >= 1\")\n",
        "markerList"
      ],
      "outputs": [],
      "execution_count": null,
      "metadata": {},
      "id": "ac8d932d-c49f-4750-93f9-e49490b7076c"
    },
    {
      "cell_type": "code",
      "source": [
        "# plot the heatmap of differential peaks\n",
        "heatmapPeaks <- plotMarkerHeatmap(\n",
        "  seMarker = cd4na_ravshealthy_Peaks, \n",
        "  cutOff = \"FDR <= 0.05 & abs(Log2FC) >= 1\",\n",
        "    plotLog2FC = TRUE,\n",
        "  transpose = TRUE\n",
        ")\n",
        "draw(heatmapPeaks, heatmap_legend_side = \"bot\", annotation_legend_side = \"bot\")\n",
        "plotPDF(heatmapPeaks, name = \"cd4na_ravshealthy_Peaks_Marker-Heatmap\", \n",
        "        width = 8, height = 6, ArchRProj = cd4na_atac, addDOC = FALSE)"
      ],
      "outputs": [],
      "execution_count": null,
      "metadata": {
        "tags": []
      },
      "id": "02235437-3cbf-4720-8e23-2952d46ae963"
    },
    {
      "cell_type": "code",
      "source": [
        "# Motif Enrichment in Differential Peaks\n",
        "\n",
        "# cisbp lower quality higher coverage\n",
        "# japstat higher quality lower coverage\n",
        "# cd4na_atac <- addMotifAnnotations(ArchRProj = cd4na_atac, motifSet = \"cisbp\", name = \"Motif\",\n",
        "#                                  force = TRUE)"
      ],
      "outputs": [],
      "execution_count": null,
      "metadata": {},
      "id": "ebd21cfb-5d42-49fe-b4b1-5e51787c2b76"
    },
    {
      "cell_type": "code",
      "source": [
        "# identify the enriched motif for all clutsers\n",
        "cd4na_ravshealthy_Peaks_motif <- peakAnnoEnrichment(\n",
        "    seMarker = cd4na_ravshealthy_Peaks,\n",
        "    ArchRProj = cd4na_atac,\n",
        "    peakAnnotation = \"Motif\",\n",
        "    cutOff = \"FDR <= 0.2 & Log2FC >= 0.5\"\n",
        "  )"
      ],
      "outputs": [],
      "execution_count": null,
      "metadata": {},
      "id": "4333c864-2d36-4b9f-8b5f-f6c7ee52f011"
    },
    {
      "cell_type": "code",
      "source": [
        "rownames(cd4na_ravshealthy_Peaks_motif) %>% str_subset('STAT')"
      ],
      "outputs": [],
      "execution_count": null,
      "metadata": {},
      "id": "428fb10d-c1e7-4bf8-8753-20fbe080952a"
    },
    {
      "cell_type": "code",
      "source": [
        "heatmapEM <- plotEnrichHeatmap(cd4na_ravshealthy_Peaks_motif, n = 50, transpose = TRUE)\n",
        "ComplexHeatmap::draw(heatmapEM, heatmap_legend_side = \"bot\", annotation_legend_side = \"bot\")\n",
        "plotPDF(heatmapEM, name = \"cd4na_ravshealthy_Peaks_motif_Peaks_Motif-Heatmap\", \n",
        "        width = 8, height = 6, ArchRProj = cd4na_atac, addDOC = FALSE)"
      ],
      "outputs": [],
      "execution_count": null,
      "metadata": {},
      "id": "7b4de40d-74e0-4c62-97a2-d225011e0aba"
    },
    {
      "cell_type": "code",
      "source": [
        "# identify the enriched motif\n",
        "# exlcuding C4\n",
        "cd4na_clusters_0.5_noc4_motif <- peakAnnoEnrichment(\n",
        "    seMarker = cd4na_clusters_0.5_c4_Peaks[,c(1:3, 5, 6)],\n",
        "    ArchRProj = cd4na_atac,\n",
        "    peakAnnotation = \"Motif\",\n",
        "    cutOff = \"FDR <= 0.1 & Log2FC >= 0.5\"\n",
        "  )"
      ],
      "outputs": [],
      "execution_count": null,
      "metadata": {},
      "id": "ec9cd9fd-d686-448b-8961-5ab90b6595fd"
    },
    {
      "cell_type": "code",
      "source": [
        "cd4na_clusters_0.5_motif[,c(1:3, 5, 6)]"
      ],
      "outputs": [],
      "execution_count": null,
      "metadata": {},
      "id": "dccfd8ba-e2a9-45a7-8d8f-34f464a78c9f"
    },
    {
      "cell_type": "code",
      "source": [
        "heatmapEM <- plotEnrichHeatmap(cd4na_clusters_0.5_noc4_motif, n = 50, transpose = TRUE)\n",
        "ComplexHeatmap::draw(heatmapEM, heatmap_legend_side = \"bot\", annotation_legend_side = \"bot\")\n",
        "plotPDF(heatmapEM, name = \"cd4na_clusters_0.5_noC4_Peaks_Motif-Heatmap\", \n",
        "        width = 8, height = 6, ArchRProj = cd4na_atac, addDOC = FALSE)"
      ],
      "outputs": [],
      "execution_count": null,
      "metadata": {},
      "id": "422085d7-1740-4470-a727-9b0277abab2d"
    },
    {
      "cell_type": "markdown",
      "source": [
        "### motif enrichment by cell types"
      ],
      "metadata": {
        "tags": []
      },
      "id": "fc0f0a22-db07-4392-a5e9-3c3994b35bea"
    },
    {
      "cell_type": "code",
      "source": [
        "# Motif Enrichment in Differential Peaks\n",
        "\n",
        "# cisbp lower quality higher coverage\n",
        "# japstat higher quality lower coverage\n",
        "cd4na_atac <- addMotifAnnotations(ArchRProj = cd4na_atac, motifSet = \"cisbp\", name = \"Motif\",\n",
        "                                 force = TRUE)"
      ],
      "outputs": [],
      "execution_count": null,
      "metadata": {},
      "id": "718df7d0-26cd-4535-8f5e-513b9fc3e9e1"
    },
    {
      "cell_type": "code",
      "source": [
        "cd4na_atac"
      ],
      "outputs": [],
      "execution_count": null,
      "metadata": {},
      "id": "a40625c8-7a6e-40d6-bfa9-800d79c3062d"
    },
    {
      "cell_type": "code",
      "source": [
        "# identify the enriched motif\n",
        "motifsEnriched <- peakAnnoEnrichment(\n",
        "    seMarker = cd4na_clusters_0.5_Peaks,\n",
        "    ArchRProj = cd4na_atac,\n",
        "    peakAnnotation = \"Motif\",\n",
        "    cutOff = \"FDR <= 0.1 & abs(Log2FC) >= 0.5\"\n",
        "  )"
      ],
      "outputs": [],
      "execution_count": null,
      "metadata": {},
      "id": "7b45a09f-b2bb-4de9-8778-fb6d43455b40"
    },
    {
      "cell_type": "code",
      "source": [
        "motifsEnriched"
      ],
      "outputs": [],
      "execution_count": null,
      "metadata": {},
      "id": "f9c43a7d-71c2-468c-9d0a-1f537f2356f1"
    },
    {
      "cell_type": "code",
      "source": [
        "heatmapEM <- plotEnrichHeatmap(motifsEnriched, n = 100, transpose = TRUE)\n",
        "ComplexHeatmap::draw(heatmapEM, heatmap_legend_side = \"bot\", annotation_legend_side = \"bot\")\n",
        "plotPDF(heatmapEM, name = \"cd4na_clusters_0.5_Peaks_Motif-Heatmap\", \n",
        "        width = 8, height = 6, ArchRProj = cd4na_atac, addDOC = FALSE)"
      ],
      "outputs": [],
      "execution_count": null,
      "metadata": {},
      "id": "14b4a097-562d-4d1b-a2b0-ec1265be45a2"
    },
    {
      "cell_type": "code",
      "source": [
        "# add Encode TF Binding Sites\n",
        "cd4na_atac <- addArchRAnnotations(ArchRProj = cd4na_atac, force = TRUE,\n",
        "                                  collection = \"EncodeTFBS\")"
      ],
      "outputs": [],
      "execution_count": null,
      "metadata": {
        "tags": []
      },
      "id": "c08dd92d-7ea6-4706-b49c-bd6b13ca5b87"
    },
    {
      "cell_type": "code",
      "source": [
        "cd4na_clusters_0.5_Peaks"
      ],
      "outputs": [],
      "execution_count": null,
      "metadata": {},
      "id": "d4f0e6fb-1578-4694-89b8-2b349d1e332b"
    },
    {
      "cell_type": "code",
      "source": [
        "enrichEncode <- peakAnnoEnrichment(\n",
        "    seMarker = cd4na_clusters_0.5_Peaks,\n",
        "    ArchRProj = cd4na_atac,\n",
        "    peakAnnotation = \"EncodeTFBS\",\n",
        "    cutOff = \"FDR <= 0.1 & abs(Log2FC) >= 0.5\"\n",
        "  )"
      ],
      "outputs": [],
      "execution_count": null,
      "metadata": {},
      "id": "69bc98e6-02c4-4d82-8a1d-39fbe9203bfe"
    },
    {
      "cell_type": "code",
      "source": [
        "heatmapEncode <- plotEnrichHeatmap(enrichEncode, n = 20, transpose = TRUE)\n",
        "ComplexHeatmap::draw(heatmapEncode, heatmap_legend_side = \"bot\", annotation_legend_side = \"bot\")\n",
        "plotPDF(heatmapEncode, name = \"EncodeTFBS-Enriched-cd4na_clusters_0.5_Markers-Heatmap\", width = 8, height = 6, \n",
        "        ArchRProj = cd4na_atac, addDOC = FALSE)"
      ],
      "outputs": [],
      "execution_count": null,
      "metadata": {},
      "id": "ce57d59d-3c61-4e6d-be1a-a486a71be541"
    },
    {
      "cell_type": "markdown",
      "source": [
        "### Motif Deviations with chromvar"
      ],
      "metadata": {},
      "id": "52ad135f-5f1f-4ba5-950d-48a800492d75"
    },
    {
      "cell_type": "code",
      "source": [
        "# Motif Deviations\n",
        "cd4na_atac <- addBgdPeaks(cd4na_atac )"
      ],
      "outputs": [],
      "execution_count": null,
      "metadata": {},
      "id": "f9f81324-6050-4e3c-8463-8af0167f6bc2"
    },
    {
      "cell_type": "code",
      "source": [
        "cd4na_atac <- addDeviationsMatrix(\n",
        "  ArchRProj = cd4na_atac, \n",
        "    peakAnnotation='MochaPeakMatrix',\n",
        "  force = TRUE\n",
        ")"
      ],
      "outputs": [],
      "execution_count": null,
      "metadata": {},
      "id": "84110f98-3bd2-40ee-a30c-dbe04bc01b15"
    },
    {
      "cell_type": "code",
      "source": [
        "getAvailableMatrices(cd4na_atac)"
      ],
      "outputs": [],
      "execution_count": null,
      "metadata": {},
      "id": "357c2890-37e4-412a-9cb4-bfaad5ec63f1"
    },
    {
      "cell_type": "code",
      "source": [
        "plotVarDev <- getVarDeviations(cd4na_atac, name = \"MotifMatrix\", plot = TRUE)\n",
        "plotVarDev\n",
        "plotPDF(plotVarDev, name = \"Variable-Motif-Deviation-Scores\", \n",
        "        width = 12, height = 12, ArchRProj = cd4na_atac, addDOC = FALSE)"
      ],
      "outputs": [],
      "execution_count": null,
      "metadata": {},
      "id": "c7360c97-a657-4059-a7cf-ead4091fe6ed"
    },
    {
      "cell_type": "code",
      "source": [
        "cd4na_dev_mt"
      ],
      "outputs": [],
      "execution_count": null,
      "metadata": {},
      "id": "56da3c78-b228-44fa-ad03-81a90f18ee59"
    },
    {
      "cell_type": "code",
      "source": [
        "# motifs <- c(\"GATA1\", \"CEBPA\", \"EBF1\", \"IRF4\", \"TBX21\", \"PAX5\")\n",
        "markerMotifs <- getFeatures(cd4na_atac, select = paste(cd4na_dev_mt, collapse=\"|\"), useMatrix = \"MotifMatrix\")\n",
        "markerMotifs <- grep(\"z:\", markerMotifs, value = TRUE)\n",
        "markerMotifs"
      ],
      "outputs": [],
      "execution_count": null,
      "metadata": {},
      "id": "31931395-3dd1-4536-bf9c-9e7a4e85f03b"
    },
    {
      "cell_type": "code",
      "source": [
        "markerMotifs %in% getFeatures(cd4na_atac, 'MotifMatrix')"
      ],
      "outputs": [],
      "execution_count": null,
      "metadata": {},
      "id": "110f2fd6-5a56-41c8-a1dd-8532300e64cc"
    },
    {
      "cell_type": "code",
      "source": [
        "p <- plotEmbedding(\n",
        "    ArchRProj = cd4na_atac, \n",
        "    colorBy = \"MotifMatrix\", \n",
        "    name = sort(markerMotifs), \n",
        "    embedding = \"UMAP\",\n",
        "    imputeWeights = getImputeWeights(cd4na_atac)\n",
        ")"
      ],
      "outputs": [],
      "execution_count": null,
      "metadata": {},
      "id": "848a9d9f-f61d-4af9-b607-c547c72af90c"
    },
    {
      "cell_type": "code",
      "source": [
        "p"
      ],
      "outputs": [],
      "execution_count": null,
      "metadata": {},
      "id": "f20f5404-379f-43e8-8c9c-4e7d0e9d3d45"
    },
    {
      "cell_type": "code",
      "source": [
        "# rerun a lsi based on the peakmatrix\n",
        "# add lsi in atac\n",
        "cd4na_atac <- addIterativeLSI(\n",
        "      ArchRProj = cd4na_atac,\n",
        "      useMatrix = \"MotifMatrix\", \n",
        "      name = \"IterativeLSI_motif\", \n",
        "      iterations = 2,\n",
        "      #varFeatures = 75000, # increase the viable features\n",
        "      force = TRUE\n",
        "    )\n",
        "\n",
        "cd4na_atac <- addUMAP(\n",
        "    ArchRProj = cd4na_atac, \n",
        "    reducedDims = \"IterativeLSI_motif\", \n",
        "    name = \"UMAP_motif\", \n",
        "    nNeighbors = 30, \n",
        "    minDist = 0.5, \n",
        "    metric = \"cosine\",\n",
        "    force = TRUE\n",
        ")"
      ],
      "outputs": [],
      "execution_count": null,
      "metadata": {},
      "id": "0021254b-3529-41b2-b7a1-c9a401641f0f"
    },
    {
      "cell_type": "code",
      "source": [
        "saveArchRProject(ArchRProj = cd4na_atac)"
      ],
      "outputs": [],
      "execution_count": null,
      "metadata": {},
      "id": "741342ad-bc38-4ba5-b808-f16566ad7738"
    },
    {
      "cell_type": "markdown",
      "source": [
        "### peak2gene linkage"
      ],
      "metadata": {},
      "id": "82cc3cd6-6fa8-4e23-aa5f-ff0e867b79f3"
    },
    {
      "cell_type": "code",
      "source": [
        "getAvailableMatrices(cd4na_atac)"
      ],
      "outputs": [],
      "execution_count": null,
      "metadata": {},
      "id": "2cb5f54d-4a8f-4244-9957-c6738483c2b5"
    },
    {
      "cell_type": "code",
      "source": [
        "cd4na_atac <- addPeak2GeneLinks(\n",
        "    ArchRProj = cd4na_atac,\n",
        "    useMatrix = \"GeneExpressionMatrix\",\n",
        "    reducedDims = \"IterativeLSI\"\n",
        ")"
      ],
      "outputs": [],
      "execution_count": null,
      "metadata": {},
      "id": "9c27ce23-079c-41ad-9f87-36b60e3cc811"
    },
    {
      "cell_type": "code",
      "source": [
        "p2g <- getPeak2GeneLinks(\n",
        "    ArchRProj = cd4na_atac,\n",
        "    corCutOff = 0.45,\n",
        "    resolution = 1,\n",
        "    returnLoops = TRUE\n",
        ")"
      ],
      "outputs": [],
      "execution_count": null,
      "metadata": {},
      "id": "386fd675-7d75-462f-bd2f-a61164db2a7c"
    },
    {
      "cell_type": "code",
      "source": [
        "p2g[[1]]"
      ],
      "outputs": [],
      "execution_count": null,
      "metadata": {},
      "id": "eaf41b38-8342-40f3-81b5-7c4e9328a5f5"
    },
    {
      "cell_type": "code",
      "source": [],
      "outputs": [],
      "execution_count": null,
      "metadata": {},
      "id": "c62af9bb-a2c5-46bc-845c-1f1cdca0bcaf"
    },
    {
      "cell_type": "markdown",
      "source": [
        "### plot regions in Archr "
      ],
      "metadata": {},
      "id": "e88dfd0a-c65c-4e93-963f-ce9223597acf"
    },
    {
      "cell_type": "code",
      "source": [
        "source('/home/jupyter/github/scATAC_Supplements/ArchR_Export_ATAC_Data.R')"
      ],
      "outputs": [],
      "execution_count": null,
      "metadata": {},
      "id": "28eea692-db6e-4c2e-9ae6-4c4788509616"
    },
    {
      "cell_type": "code",
      "source": [
        "# Extract fragments by populations from an ArchR Project: getPopFrags()\n",
        "cd4na_Clusters_0.5_frags <- getPopFrags(cd4na_atac, 'Clusters_0.5',cellSubsets = 'ALL' ,\n",
        "                                           region = NULL, numCores = 30, \n",
        "                        NormMethod = \"nfrags\", blackList = NULL, overlapList = 50)"
      ],
      "outputs": [],
      "execution_count": null,
      "metadata": {},
      "id": "45dc6521-4457-4120-b7de-2b80609ab3c5"
    },
    {
      "cell_type": "code",
      "source": [
        "cd4na_Clusters_0.5_frags_files <- FragsToCoverageFiles(cd4na_Clusters_0.5_frags, files = \"BigWig\",\n",
        "                                             genome = \"hg38\", fname = NULL, outDir = NULL, numCores=30)"
      ],
      "outputs": [],
      "execution_count": null,
      "metadata": {},
      "id": "1ec5c43b-e452-4029-b608-c68a80124e0b"
    },
    {
      "cell_type": "code",
      "source": [
        "getAvailableMatrices(cd4na_atac)\n",
        "cd4na_atac <- addMotifAnnotations(ArchRProj = cd4na_atac, motifSet = \"JASPAR2020\", name = \"JasparMotifs\")"
      ],
      "outputs": [],
      "execution_count": null,
      "metadata": {},
      "id": "f7d1e22f-c07d-4b9c-bb92-aff60c2e6e73"
    },
    {
      "cell_type": "code",
      "source": [
        "getAvailableMatrices(cd4na_atac)"
      ],
      "outputs": [],
      "execution_count": null,
      "metadata": {},
      "id": "f12f763e-9e2a-42ec-a4fc-f6c55b926576"
    },
    {
      "cell_type": "code",
      "source": [
        "cd4na_Clusters_0.5_frags_PLCG2 <- getbpCounts(regionString='chr12:68,154,768-68,159,740', \n",
        "                                          popFrags=cd4na_Clusters_0.5_frags,\n",
        "                                        numCores = 30, returnGRanges = FALSE)"
      ],
      "outputs": [],
      "execution_count": null,
      "metadata": {},
      "id": "901c27db-cf99-434e-b2bc-a704a5914d0f"
    },
    {
      "cell_type": "code",
      "source": [
        "cd4na_Clusters_0.5_frags_PLCG2 %>% head()"
      ],
      "outputs": [],
      "execution_count": null,
      "metadata": {},
      "id": "06b577ba-ddb9-4a87-be3c-946bd26122cc"
    },
    {
      "cell_type": "code",
      "source": [
        "suppressMessages(p1 <- plotRegion(cd4na_Clusters_0.5_frags_PLCG2, \n",
        "                                  ArchRProj = cd4na_atac, motifSetName =  \"JasparMotifs\"))\n"
      ],
      "outputs": [],
      "execution_count": null,
      "metadata": {},
      "id": "bdd51415-ce7f-4d2f-98ce-7c0362b0bdf9"
    },
    {
      "cell_type": "code",
      "source": [
        "pdf(file.path(fig_path, paste0(proj_name, '_atac_Clusters_0.8_IFNG_gene_coverage.pdf')), width = 12, height = 12)\n",
        "suppressWarnings(p1)\n",
        "dev.off()"
      ],
      "outputs": [],
      "execution_count": null,
      "metadata": {
        "tags": []
      },
      "id": "51a5ca3c-8c8d-4322-bc10-9b99943d2a47"
    },
    {
      "cell_type": "code",
      "source": [
        "p1"
      ],
      "outputs": [],
      "execution_count": null,
      "metadata": {},
      "id": "44d7f421-784a-40bf-a7ca-06c0566846b6"
    },
    {
      "cell_type": "code",
      "source": [],
      "outputs": [],
      "execution_count": null,
      "metadata": {},
      "id": "a7fd272d-0260-4422-a1a8-b93a378a4bcd"
    },
    {
      "cell_type": "code",
      "source": [
        "sessionInfo()"
      ],
      "outputs": [],
      "execution_count": null,
      "metadata": {},
      "id": "ea362583-327d-4691-8977-65723da62e77"
    },
    {
      "cell_type": "code",
      "source": [],
      "outputs": [],
      "execution_count": null,
      "metadata": {},
      "id": "2f2dff32-7fbd-44a0-bf3b-bd688b34de51"
    },
    {
      "cell_type": "markdown",
      "source": [
        "### (archive) call peaks in the archR (MACS2)"
      ],
      "metadata": {
        "tags": []
      },
      "id": "5b986546-7bd8-48bb-9925-cf2fede9b5b6"
    },
    {
      "cell_type": "code",
      "source": [
        "# add group coverage\n",
        "cd4na_atac <- addGroupCoverages(ArchRProj = cd4na_atac, maxReplicates = 16,\n",
        "                                 groupBy = \"Clusters_0.5\")"
      ],
      "outputs": [],
      "execution_count": null,
      "metadata": {
        "tags": []
      },
      "id": "241344d7-c9fb-4265-b0de-0072e7b6aec1"
    },
    {
      "cell_type": "code",
      "source": [
        "# !!important\n",
        "# define the path in conda environment to mac2 python packages for peak calling in archr\n",
        "pathToMacs2 <- '/home/jupyter/libs/r_scrna/bin/macs2'\n",
        "pathToMacs2"
      ],
      "outputs": [],
      "execution_count": null,
      "metadata": {},
      "id": "701072d0-aeee-4762-ad9a-565f5aa52a07"
    },
    {
      "cell_type": "code",
      "source": [
        "# call peaks in cd4 naive\n",
        "cd4na_atac <- addReproduciblePeakSet(threads = 60,\n",
        "    ArchRProj = cd4na_atac, \n",
        "    groupBy = \"Clusters_0.5\", \n",
        "    pathToMacs2 = pathToMacs2,\n",
        "    force = TRUE\n",
        ")"
      ],
      "outputs": [],
      "execution_count": null,
      "metadata": {},
      "id": "cb6c4a96-7235-47e9-a75b-d617590d5b4e"
    },
    {
      "cell_type": "code",
      "source": [
        "cd4na_atac <- addPeakMatrix(cd4na_atac)"
      ],
      "outputs": [],
      "execution_count": null,
      "metadata": {},
      "id": "ed38011b-91e3-4a9b-91a8-e30b4a886f3c"
    },
    {
      "cell_type": "code",
      "source": [
        "getAvailableMatrices(cd4na_atac)"
      ],
      "outputs": [],
      "execution_count": null,
      "metadata": {},
      "id": "5d86881d-4579-4125-9a68-8601ab64a8f7"
    },
    {
      "cell_type": "code",
      "source": [
        "saveArchRProject(ArchRProj = cd4na_atac)"
      ],
      "outputs": [],
      "execution_count": null,
      "metadata": {},
      "id": "cd2b4081-a009-4c0f-b20a-bcb6543b2902"
    },
    {
      "cell_type": "code",
      "source": [
        "table(cd4na_atac$Clusters_0.5)"
      ],
      "outputs": [],
      "execution_count": null,
      "metadata": {},
      "id": "f2504f8c-5e2c-41b8-8cca-b4b2f7e5ae00"
    },
    {
      "cell_type": "code",
      "source": [
        "#Identifying Marker Peaks with ArchR\n",
        "cd4na_clusters_0.5_Peaks <- getMarkerFeatures(\n",
        "    ArchRProj = cd4na_atac, \n",
        "    useMatrix = \"PeakMatrix\", \n",
        "    groupBy = \"Clusters_0.5\",\n",
        "     maxCells = 1135,\n",
        "  bias = c(\"TSSEnrichment\", \"log10(nFrags)\"),\n",
        "  testMethod = \"wilcoxon\"\n",
        ")"
      ],
      "outputs": [],
      "execution_count": null,
      "metadata": {},
      "id": "42ada2fd-e1c1-4c6e-bb74-2fe5b4731a8e"
    },
    {
      "cell_type": "code",
      "source": [
        "markerList <- getMarkers(cd4na_clusters_0.5_Peaks, cutOff = \"FDR <= 0.01 & Log2FC >= 1\")\n",
        "markerList"
      ],
      "outputs": [],
      "execution_count": null,
      "metadata": {},
      "id": "d3dc2caf-6556-43cb-a083-87765652d0f5"
    },
    {
      "cell_type": "code",
      "source": [
        "# plot the heatmap of differential peaks\n",
        "heatmapPeaks <- plotMarkerHeatmap(\n",
        "  seMarker = cd4na_clusters_0.5_Peaks, \n",
        "  cutOff = \"FDR <= 0.1 & Log2FC >= 0.5\",\n",
        "  transpose = TRUE\n",
        ")\n",
        "draw(heatmapPeaks, heatmap_legend_side = \"bot\", annotation_legend_side = \"bot\")\n",
        "plotPDF(heatmapPeaks, name = \"cd4na_clusters_0.5_Peaks_Marker-Heatmap\", \n",
        "        width = 8, height = 6, ArchRProj = cd4na_atac, addDOC = FALSE)"
      ],
      "outputs": [],
      "execution_count": null,
      "metadata": {
        "tags": []
      },
      "id": "deabfff4-16ff-48bf-b406-fef6fa9662af"
    },
    {
      "cell_type": "code",
      "source": [
        "sessionInfo()"
      ],
      "outputs": [],
      "execution_count": null,
      "metadata": {},
      "id": "ba596785-ab32-4a40-8202-6d1eedf8a4b5"
    },
    {
      "cell_type": "code",
      "source": [],
      "outputs": [],
      "execution_count": null,
      "metadata": {},
      "id": "5da28b15-8878-460d-810c-edc8fc98a17e"
    }
  ],
  "metadata": {
    "kernelspec": {
      "display_name": "R 4",
      "language": "R",
      "name": "ir4"
    },
    "language_info": {
      "codemirror_mode": "r",
      "file_extension": ".r",
      "mimetype": "text/x-r-source",
      "name": "R",
      "pygments_lexer": "r",
      "version": "4.3.2"
    },
    "toc-showmarkdowntxt": false,
    "toc-showtags": false,
    "nteract": {
      "version": "0.28.0"
    }
  },
  "nbformat": 4,
  "nbformat_minor": 5
}