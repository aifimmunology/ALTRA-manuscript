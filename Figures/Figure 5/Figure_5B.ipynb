{
 "cells": [
  {
   "cell_type": "markdown",
   "id": "50f939d8-f9de-4ef3-92b1-8ba3134c4815",
   "metadata": {},
   "source": [
    "## DEGs CD8 Naive T cells"
   ]
  },
  {
   "cell_type": "code",
   "execution_count": 1,
   "id": "7d501bce-7071-4708-91f2-c01bff28dd31",
   "metadata": {},
   "outputs": [],
   "source": [
    "\n",
    "# load libraries\n",
    "quiet_library <- function(...) {\n",
    "    suppressPackageStartupMessages(library(...))\n",
    "}\n",
    "quiet_library(tidyverse)\n",
    "quiet_library(Seurat)\n",
    "quiet_library(ggplot2)\n",
    "quiet_library(Matrix)\n",
    "quiet_library(dplyr)\n",
    "quiet_library(viridis)\n",
    "quiet_library(harmony)\n",
    "quiet_library(future)\n",
    "quiet_library(future.apply)\n",
    "quiet_library(SingleCellExperiment)\n",
    "quiet_library(SeuratDisk)\n",
    "quiet_library(ggpubr)\n",
    "quiet_library(knitr)\n",
    "quiet_library(plotly)\n",
    "quiet_library(lme4)\n",
    "quiet_library(ggpubr)\n",
    "quiet_library(ggrepel)\n",
    "quiet_library(ggthemes)\n",
    "options(warn = -1)"
   ]
  },
  {
   "cell_type": "code",
   "execution_count": 2,
   "id": "8f955e9b-886c-40af-9971-c5c9d613c219",
   "metadata": {},
   "outputs": [
    {
     "data": {
      "text/html": [
       "<strong>system:</strong> 64"
      ],
      "text/latex": [
       "\\textbf{system:} 64"
      ],
      "text/markdown": [
       "**system:** 64"
      ],
      "text/plain": [
       "system \n",
       "    64 "
      ]
     },
     "metadata": {},
     "output_type": "display_data"
    }
   ],
   "source": [
    "# Check number of cores\n",
    "future::availableCores()\n",
    "# Set up parallel processing to run when using 'future' functions \n",
    "future::plan(strategy = \"multicore\", workers = future::availableCores()-5)  \n",
    "options(future.globals.maxSize = 1000 * 1024^3)\n",
    "# to turn off parallel processing run line below\n",
    "# future::plan(strategy = \"sequential\")"
   ]
  },
  {
   "cell_type": "code",
   "execution_count": 3,
   "id": "b7198c85-9696-4b1a-996f-5bc894fc1219",
   "metadata": {},
   "outputs": [],
   "source": [
    "# define the color palette to be used\n",
    "npg_color <- c(\"#E64B35FF\", \"#4DBBD5FF\", \"#00A087FF\", \"#3C5488FF\", \"#F39B7FFF\", \n",
    "               \"#8491B4FF\", \"#91D1C2FF\", \"#DC0000FF\", \"#7E6148FF\", \"#B09C85FF\")\n",
    "nejm_color <- c(\"#BC3C29FF\", \"#0072B5FF\", \"#E18727FF\", \"#20854EFF\", \"#7876B1FF\", \"#6F99ADFF\", \"#FFDC91FF\", \"#EE4C97FF\")\n",
    "jama_color <- c(\"#374E55FF\", \"#DF8F44FF\", \"#00A1D5FF\", \"#B24745FF\", \"#79AF97FF\", \"#6A6599FF\", \"#80796BFF\")\n",
    "jco_color <- c(\"#0073C2FF\", \"#EFC000FF\", \"#868686FF\", \"#CD534CFF\", \"#7AA6DCFF\", \"#003C67FF\", \"#8F7700FF\")\n",
    "cluster_colors <- c(\"#DC050C\", \"#FB8072\", \"#1965B0\", \"#7BAFDE\", \"#882E72\", \"#B17BA6\", \"#FF7F00\", \"#FDB462\", \"#E7298A\", \n",
    "    \"#E78AC3\", \"#33A02C\", \"#B2DF8A\", \"#55A1B1\", \"#8DD3C7\", \"#A6761D\", \"#E6AB02\", \"#7570B3\", \"#BEAED4\", \"#666666\", \"#999999\", \n",
    "    \"#aa8282\", \"#d4b7b7\", \"#8600bf\", \"#ba5ce3\", \"#808000\", \"#aeae5c\", \"#1e90ff\", \"#00bfff\", \"#56ff0d\", \"#ffff00\")\n",
    "coolors_clrs<-c(\"#EFB0A1\",\"#009FF5\",\"#1A5E9B\",\"#42E2B8\",\"#4ECDC4\",\"#89B6A5\",\"#F1D26A\",\"#D5B0AC\",\"#EDABB1\",\"#02504D\",\"#AA9674\",\"#E64B35FF\",\"#4DBBD5FF\",\"#00A087FF\")\n",
    "\n",
    "cluster_colors_ext <- colorRampPalette(cluster_colors)(36)\n",
    "options(repr.plot.width =5, repr.plot.height =5)"
   ]
  },
  {
   "cell_type": "code",
   "execution_count": 4,
   "id": "90e49e27-89d8-4601-8725-1ecadcf72592",
   "metadata": {},
   "outputs": [],
   "source": [
    "fig_path=\"/home/jupyter/ALTRA_ANALYSIS/Deep_clean/Figure_files/Certpro_figures/Fig6/\""
   ]
  },
  {
   "cell_type": "code",
   "execution_count": 5,
   "id": "f06c315a-8f45-4d2d-8b3a-6eb6fa75478c",
   "metadata": {},
   "outputs": [],
   "source": [
    "# Function to generate a volcano plot with customized settings\n",
    "# \n",
    "# This function creates a volcano plot from gene expression data, highlighting significant genes \n",
    "# with specific colors based on their log fold change and adjusted p-values. It includes options \n",
    "# for customizing plot labels, axis limits, and saving the plot to a specified file path.\n",
    "#\n",
    "# Parameters:\n",
    "# - data: The main data frame containing the gene expression data.\n",
    "# - logfc_column: The name of the column in 'data' representing log fold change.\n",
    "# - pval_column: The name of the column in 'data' representing p-values.\n",
    "# - padj_column: The name of the column in 'data' representing adjusted p-values.\n",
    "# - gene_column: The name of the column in 'data' representing gene names.\n",
    "# - filtered_genes: A data frame containing a subset of genes to be highlighted on the plot.\n",
    "# - title: The title of the volcano plot.\n",
    "# - x_label: The label for the x-axis.\n",
    "# - y_label: The label for the y-axis.\n",
    "# - x_limits: A numeric vector of length 2 specifying the range of the x-axis (optional).\n",
    "# - y_limits: A numeric vector of length 2 specifying the range of the y-axis (optional).\n",
    "# - file_path: The directory path where the plot should be saved (optional).\n",
    "# - file_name: The name of the file to save the plot as (optional).\n",
    "# - max_overlaps: The maximum number of overlapping text labels allowed by geom_text_repel (default is 20).\n",
    "\n",
    "plot_custom_volcano <- function(data, logfc_column, pval_column, padj_column, gene_column, filtered_genes, \n",
    "                         title, x_label, y_label, x_limits = NULL, y_limits = NULL, file_path = NULL, file_name = NULL,max_overlaps) {\n",
    "  # Custom color mapping based on log fold change and padj significance\n",
    "  data$sig_color <- ifelse(data[[padj_column]] > 0.1, '#595959', #davy's grey\n",
    "                           ifelse(data[[logfc_column]] < 0 & data[[padj_column]] < 0.1, '#F59F00',\n",
    "                                  ifelse(data[[logfc_column]] > 0 & data[[padj_column]] < 0.1, '#840032', '#595959')))\n",
    "  # Print total number of genes\n",
    "  total_genes <- nrow(data)\n",
    "\n",
    "    p <- ggplot(data, aes_string(x = logfc_column, y = paste0(\"-log10(\", padj_column, \")\"), color = \"sig_color\")) +\n",
    "    geom_point(size = 3, alpha = 0.5,stroke=0) +  # Adjust size and transparency\n",
    "    geom_hline(yintercept = 1, linetype = \"dashed\", color = \"black\") +\n",
    "    geom_vline(xintercept = 0, linetype = \"dashed\") +  # Add significance threshold line\n",
    "    labs(x = x_label, y = y_label, title = title) +  # Labels and title\n",
    "    theme_minimal() +  # Minimal theme\n",
    "    geom_point(data = filtered_genes, aes_string(x = logfc_column, y = paste0(\"-log10(\", padj_column, \")\")), \n",
    "               fill = \"005E7A\",color=\"black\",size = 3, shape = 21, stroke = .5) +  # Overlay the filtered genes\n",
    "    geom_text_repel(data = filtered_genes, aes_string(x = logfc_column, y = paste0(\"-log10(\", padj_column, \")\"), label = gene_column),\n",
    "                    hjust = -0.4, vjust = -0.7, size = 5,color = \"black\",segment.size = .5, segment.color = \"black\", max.overlaps = max_overlaps,min.segment.length = 0) + # Add gene labels\n",
    "    scale_color_manual(values = c(\"#595959\" = \"#595959\", \"#F59F00\" = \"#F59F00\", \"#840032\" = \"#840032\")) + \n",
    "    # Manual color scale\n",
    "    theme_few()+\n",
    "    theme(legend.position = \"none\")+  # Remove the legend\n",
    "     annotate(\"text\", x = Inf, y = -Inf, label = paste(\"Total genes:\", total_genes), hjust = 1, vjust = -1,\n",
    "             color = \"black\", size = 5)\n",
    "      \n",
    "  \n",
    "  # Set x and y axis limits if specified\n",
    "  if (!is.null(x_limits)) {\n",
    "    p <- p + xlim(x_limits)\n",
    "  }\n",
    "  if (!is.null(y_limits)) {\n",
    "    p <- p + ylim(y_limits)\n",
    "  }\n",
    "  \n",
    "  # Save the plot if file_path and file_name \n",
    "  if (!is.null(file_path) & !is.null(file_name)) {\n",
    "    full_path <- file.path(file_path, file_name)\n",
    "    ggsave(full_path, plot = p, width = 5, height = 5)\n",
    "  }\n",
    "  \n",
    "  print(p)\n",
    "}\n",
    "# usage\n",
    "# plot_custom_volcano(data = deg_a3, logfc_column = \"logfc_by_year\", pval_column = \"p.value\", \n",
    "#              padj_column = \"padj\", gene_column = \"gene\", filtered_genes = filtered_df_gene, \n",
    "#              title = \"Core Naive CD4 T cells\", x_label = \"log2FC by year\", y_label = \"-log10(padj)\",\n",
    "#              x_limits = c(-0.8,0.8), y_limits = c(0.5, 2), max_overlaps = 35,\n",
    "#              file_path = fig_path, file_name = \"Fig_6A_CD4_naive_volcano_plot.pdf\")"
   ]
  },
  {
   "cell_type": "code",
   "execution_count": 6,
   "id": "bb44537c-8a07-463d-9788-237cda58f454",
   "metadata": {},
   "outputs": [
    {
     "data": {
      "text/html": [
       "<style>\n",
       ".list-inline {list-style: none; margin:0; padding: 0}\n",
       ".list-inline>li {display: inline-block}\n",
       ".list-inline>li:not(:last-child)::after {content: \"\\00b7\"; padding: 0 .5ex}\n",
       "</style>\n",
       "<ol class=list-inline><li>267913</li><li>12</li></ol>\n"
      ],
      "text/latex": [
       "\\begin{enumerate*}\n",
       "\\item 267913\n",
       "\\item 12\n",
       "\\end{enumerate*}\n"
      ],
      "text/markdown": [
       "1. 267913\n",
       "2. 12\n",
       "\n",
       "\n"
      ],
      "text/plain": [
       "[1] 267913     12"
      ]
     },
     "metadata": {},
     "output_type": "display_data"
    },
    {
     "data": {
      "text/html": [
       "<table class=\"dataframe\">\n",
       "<caption>A data.frame: 3 × 12</caption>\n",
       "<thead>\n",
       "\t<tr><th></th><th scope=col>celltype</th><th scope=col>effect</th><th scope=col>group</th><th scope=col>term</th><th scope=col>estimate</th><th scope=col>std.error</th><th scope=col>statistic</th><th scope=col>df</th><th scope=col>p.value</th><th scope=col>gene</th><th scope=col>q_values</th><th scope=col>sig</th></tr>\n",
       "\t<tr><th></th><th scope=col>&lt;chr&gt;</th><th scope=col>&lt;chr&gt;</th><th scope=col>&lt;lgl&gt;</th><th scope=col>&lt;chr&gt;</th><th scope=col>&lt;dbl&gt;</th><th scope=col>&lt;dbl&gt;</th><th scope=col>&lt;dbl&gt;</th><th scope=col>&lt;dbl&gt;</th><th scope=col>&lt;dbl&gt;</th><th scope=col>&lt;chr&gt;</th><th scope=col>&lt;dbl&gt;</th><th scope=col>&lt;chr&gt;</th></tr>\n",
       "</thead>\n",
       "<tbody>\n",
       "\t<tr><th scope=row>1</th><td>Adaptive NK cell</td><td>fixed</td><td>NA</td><td>days_to_conversion</td><td>-4.601178e-04</td><td>0.0001726325</td><td>-2.6653027</td><td>43.00000</td><td>0.01079008</td><td>AAK1    </td><td>0.3471929</td><td>ns</td></tr>\n",
       "\t<tr><th scope=row>2</th><td>Adaptive NK cell</td><td>fixed</td><td>NA</td><td>days_to_conversion</td><td> 2.698218e-04</td><td>0.0001816877</td><td> 1.4850857</td><td>43.00000</td><td>0.14481591</td><td>AASDHPPT</td><td>0.5004335</td><td>ns</td></tr>\n",
       "\t<tr><th scope=row>3</th><td>Adaptive NK cell</td><td>fixed</td><td>NA</td><td>days_to_conversion</td><td>-1.742457e-05</td><td>0.0001246150</td><td>-0.1398272</td><td>42.98683</td><td>0.88944965</td><td>AATF    </td><td>0.7853112</td><td>ns</td></tr>\n",
       "</tbody>\n",
       "</table>\n"
      ],
      "text/latex": [
       "A data.frame: 3 × 12\n",
       "\\begin{tabular}{r|llllllllllll}\n",
       "  & celltype & effect & group & term & estimate & std.error & statistic & df & p.value & gene & q\\_values & sig\\\\\n",
       "  & <chr> & <chr> & <lgl> & <chr> & <dbl> & <dbl> & <dbl> & <dbl> & <dbl> & <chr> & <dbl> & <chr>\\\\\n",
       "\\hline\n",
       "\t1 & Adaptive NK cell & fixed & NA & days\\_to\\_conversion & -4.601178e-04 & 0.0001726325 & -2.6653027 & 43.00000 & 0.01079008 & AAK1     & 0.3471929 & ns\\\\\n",
       "\t2 & Adaptive NK cell & fixed & NA & days\\_to\\_conversion &  2.698218e-04 & 0.0001816877 &  1.4850857 & 43.00000 & 0.14481591 & AASDHPPT & 0.5004335 & ns\\\\\n",
       "\t3 & Adaptive NK cell & fixed & NA & days\\_to\\_conversion & -1.742457e-05 & 0.0001246150 & -0.1398272 & 42.98683 & 0.88944965 & AATF     & 0.7853112 & ns\\\\\n",
       "\\end{tabular}\n"
      ],
      "text/markdown": [
       "\n",
       "A data.frame: 3 × 12\n",
       "\n",
       "| <!--/--> | celltype &lt;chr&gt; | effect &lt;chr&gt; | group &lt;lgl&gt; | term &lt;chr&gt; | estimate &lt;dbl&gt; | std.error &lt;dbl&gt; | statistic &lt;dbl&gt; | df &lt;dbl&gt; | p.value &lt;dbl&gt; | gene &lt;chr&gt; | q_values &lt;dbl&gt; | sig &lt;chr&gt; |\n",
       "|---|---|---|---|---|---|---|---|---|---|---|---|---|\n",
       "| 1 | Adaptive NK cell | fixed | NA | days_to_conversion | -4.601178e-04 | 0.0001726325 | -2.6653027 | 43.00000 | 0.01079008 | AAK1     | 0.3471929 | ns |\n",
       "| 2 | Adaptive NK cell | fixed | NA | days_to_conversion |  2.698218e-04 | 0.0001816877 |  1.4850857 | 43.00000 | 0.14481591 | AASDHPPT | 0.5004335 | ns |\n",
       "| 3 | Adaptive NK cell | fixed | NA | days_to_conversion | -1.742457e-05 | 0.0001246150 | -0.1398272 | 42.98683 | 0.88944965 | AATF     | 0.7853112 | ns |\n",
       "\n"
      ],
      "text/plain": [
       "  celltype         effect group term               estimate      std.error   \n",
       "1 Adaptive NK cell fixed  NA    days_to_conversion -4.601178e-04 0.0001726325\n",
       "2 Adaptive NK cell fixed  NA    days_to_conversion  2.698218e-04 0.0001816877\n",
       "3 Adaptive NK cell fixed  NA    days_to_conversion -1.742457e-05 0.0001246150\n",
       "  statistic  df       p.value    gene     q_values  sig\n",
       "1 -2.6653027 43.00000 0.01079008 AAK1     0.3471929 ns \n",
       "2  1.4850857 43.00000 0.14481591 AASDHPPT 0.5004335 ns \n",
       "3 -0.1398272 42.98683 0.88944965 AATF     0.7853112 ns "
      ]
     },
     "metadata": {},
     "output_type": "display_data"
    }
   ],
   "source": [
    "## read the AIM 3 deg results \n",
    "deg_a3=read.csv(\"/home/jupyter/ALTRA_ANALYSIS/Deep_clean/Figure_notebooks/files/input_files/certpro_Zi_files/ALTRA_AIM3_certpro_scRNA_Pseudobulk_AIFI_l3_mixed_models_time_result_750days.csv\")\n",
    "deg_a3%>%dim\n",
    "deg_a3%>%head(3)"
   ]
  },
  {
   "cell_type": "code",
   "execution_count": 7,
   "id": "f8c09a86-746b-4b8b-aead-aba954ea676b",
   "metadata": {},
   "outputs": [
    {
     "data": {
      "text/html": [
       "<style>\n",
       ".list-inline {list-style: none; margin:0; padding: 0}\n",
       ".list-inline>li {display: inline-block}\n",
       ".list-inline>li:not(:last-child)::after {content: \"\\00b7\"; padding: 0 .5ex}\n",
       "</style>\n",
       "<ol class=list-inline><li>5622</li><li>12</li></ol>\n"
      ],
      "text/latex": [
       "\\begin{enumerate*}\n",
       "\\item 5622\n",
       "\\item 12\n",
       "\\end{enumerate*}\n"
      ],
      "text/markdown": [
       "1. 5622\n",
       "2. 12\n",
       "\n",
       "\n"
      ],
      "text/plain": [
       "[1] 5622   12"
      ]
     },
     "metadata": {},
     "output_type": "display_data"
    },
    {
     "data": {
      "text/html": [
       "<table class=\"dataframe\">\n",
       "<caption>A data.frame: 3 × 12</caption>\n",
       "<thead>\n",
       "\t<tr><th></th><th scope=col>celltype</th><th scope=col>effect</th><th scope=col>group</th><th scope=col>term</th><th scope=col>estimate</th><th scope=col>std.error</th><th scope=col>statistic</th><th scope=col>df</th><th scope=col>p.value</th><th scope=col>gene</th><th scope=col>q_values</th><th scope=col>sig</th></tr>\n",
       "\t<tr><th></th><th scope=col>&lt;chr&gt;</th><th scope=col>&lt;chr&gt;</th><th scope=col>&lt;lgl&gt;</th><th scope=col>&lt;chr&gt;</th><th scope=col>&lt;dbl&gt;</th><th scope=col>&lt;dbl&gt;</th><th scope=col>&lt;dbl&gt;</th><th scope=col>&lt;dbl&gt;</th><th scope=col>&lt;dbl&gt;</th><th scope=col>&lt;chr&gt;</th><th scope=col>&lt;dbl&gt;</th><th scope=col>&lt;chr&gt;</th></tr>\n",
       "</thead>\n",
       "<tbody>\n",
       "\t<tr><th scope=row>1</th><td>Core naive CD8 T cell</td><td>fixed</td><td>NA</td><td>days_to_conversion</td><td>-0.0003365060</td><td>0.0001393532</td><td>-2.4147715</td><td>42.52827</td><td>0.020121284</td><td>A1BG</td><td>0.12488167</td><td>&lt;0.2</td></tr>\n",
       "\t<tr><th scope=row>2</th><td>Core naive CD8 T cell</td><td>fixed</td><td>NA</td><td>days_to_conversion</td><td>-0.0000390451</td><td>0.0001720038</td><td>-0.2270014</td><td>46.00000</td><td>0.821428504</td><td>AAK1</td><td>0.46523124</td><td>ns  </td></tr>\n",
       "\t<tr><th scope=row>3</th><td>Core naive CD8 T cell</td><td>fixed</td><td>NA</td><td>days_to_conversion</td><td>-0.0003630197</td><td>0.0001186396</td><td>-3.0598518</td><td>44.53345</td><td>0.003743043</td><td>AAMP</td><td>0.07717608</td><td>&lt;0.2</td></tr>\n",
       "</tbody>\n",
       "</table>\n"
      ],
      "text/latex": [
       "A data.frame: 3 × 12\n",
       "\\begin{tabular}{r|llllllllllll}\n",
       "  & celltype & effect & group & term & estimate & std.error & statistic & df & p.value & gene & q\\_values & sig\\\\\n",
       "  & <chr> & <chr> & <lgl> & <chr> & <dbl> & <dbl> & <dbl> & <dbl> & <dbl> & <chr> & <dbl> & <chr>\\\\\n",
       "\\hline\n",
       "\t1 & Core naive CD8 T cell & fixed & NA & days\\_to\\_conversion & -0.0003365060 & 0.0001393532 & -2.4147715 & 42.52827 & 0.020121284 & A1BG & 0.12488167 & <0.2\\\\\n",
       "\t2 & Core naive CD8 T cell & fixed & NA & days\\_to\\_conversion & -0.0000390451 & 0.0001720038 & -0.2270014 & 46.00000 & 0.821428504 & AAK1 & 0.46523124 & ns  \\\\\n",
       "\t3 & Core naive CD8 T cell & fixed & NA & days\\_to\\_conversion & -0.0003630197 & 0.0001186396 & -3.0598518 & 44.53345 & 0.003743043 & AAMP & 0.07717608 & <0.2\\\\\n",
       "\\end{tabular}\n"
      ],
      "text/markdown": [
       "\n",
       "A data.frame: 3 × 12\n",
       "\n",
       "| <!--/--> | celltype &lt;chr&gt; | effect &lt;chr&gt; | group &lt;lgl&gt; | term &lt;chr&gt; | estimate &lt;dbl&gt; | std.error &lt;dbl&gt; | statistic &lt;dbl&gt; | df &lt;dbl&gt; | p.value &lt;dbl&gt; | gene &lt;chr&gt; | q_values &lt;dbl&gt; | sig &lt;chr&gt; |\n",
       "|---|---|---|---|---|---|---|---|---|---|---|---|---|\n",
       "| 1 | Core naive CD8 T cell | fixed | NA | days_to_conversion | -0.0003365060 | 0.0001393532 | -2.4147715 | 42.52827 | 0.020121284 | A1BG | 0.12488167 | &lt;0.2 |\n",
       "| 2 | Core naive CD8 T cell | fixed | NA | days_to_conversion | -0.0000390451 | 0.0001720038 | -0.2270014 | 46.00000 | 0.821428504 | AAK1 | 0.46523124 | ns   |\n",
       "| 3 | Core naive CD8 T cell | fixed | NA | days_to_conversion | -0.0003630197 | 0.0001186396 | -3.0598518 | 44.53345 | 0.003743043 | AAMP | 0.07717608 | &lt;0.2 |\n",
       "\n"
      ],
      "text/plain": [
       "  celltype              effect group term               estimate     \n",
       "1 Core naive CD8 T cell fixed  NA    days_to_conversion -0.0003365060\n",
       "2 Core naive CD8 T cell fixed  NA    days_to_conversion -0.0000390451\n",
       "3 Core naive CD8 T cell fixed  NA    days_to_conversion -0.0003630197\n",
       "  std.error    statistic  df       p.value     gene q_values   sig \n",
       "1 0.0001393532 -2.4147715 42.52827 0.020121284 A1BG 0.12488167 <0.2\n",
       "2 0.0001720038 -0.2270014 46.00000 0.821428504 AAK1 0.46523124 ns  \n",
       "3 0.0001186396 -3.0598518 44.53345 0.003743043 AAMP 0.07717608 <0.2"
      ]
     },
     "metadata": {},
     "output_type": "display_data"
    }
   ],
   "source": [
    "# filter CD8 Naive cell type \n",
    "deg_a3=deg_a3%>%filter(celltype==\"Core naive CD8 T cell\")\n",
    "deg_a3%>%dim\n",
    "deg_a3%>%head(3)"
   ]
  },
  {
   "cell_type": "code",
   "execution_count": 8,
   "id": "aab0c854-1dfb-4be6-b0b2-0341b9ad9747",
   "metadata": {},
   "outputs": [],
   "source": [
    "# customised genes to plot \n",
    "genes_to_plot <- c(\"CD3G\", \"CD3D\", \"CD3E\", \"CD247\", \"STAT2\", \"STAT5B\", \"STAT4\", \"MAF\", \"STIM2\", \n",
    "           \"ICOS\", \"CD28\", \"EGR1\", \"FOS\", \"FOSB\", \"AKT3\", \"IL6ST\", \"GRAP2\", \"NFAT5\", \n",
    "           \"STAT6\", \"STIM1\", \"RORA\", \"NFKB1\", \"IKBKB\", \"JUN\", \"TRAF5\", \"IL10RA\", \n",
    "           \"PTPN4\", \"TCF7\", \"RAF1\", \"CASP8\")\n"
   ]
  },
  {
   "cell_type": "code",
   "execution_count": 9,
   "id": "8dd42e06-9160-4ee9-903a-4742f8dda100",
   "metadata": {},
   "outputs": [
    {
     "data": {
      "text/html": [
       "<table class=\"dataframe\">\n",
       "<caption>A data.frame: 2 × 12</caption>\n",
       "<thead>\n",
       "\t<tr><th></th><th scope=col>celltype</th><th scope=col>effect</th><th scope=col>group</th><th scope=col>term</th><th scope=col>log2FoldChange</th><th scope=col>std.error</th><th scope=col>statistic</th><th scope=col>df</th><th scope=col>p.value</th><th scope=col>gene</th><th scope=col>padj</th><th scope=col>sig</th></tr>\n",
       "\t<tr><th></th><th scope=col>&lt;chr&gt;</th><th scope=col>&lt;chr&gt;</th><th scope=col>&lt;lgl&gt;</th><th scope=col>&lt;chr&gt;</th><th scope=col>&lt;dbl&gt;</th><th scope=col>&lt;dbl&gt;</th><th scope=col>&lt;dbl&gt;</th><th scope=col>&lt;dbl&gt;</th><th scope=col>&lt;dbl&gt;</th><th scope=col>&lt;chr&gt;</th><th scope=col>&lt;dbl&gt;</th><th scope=col>&lt;chr&gt;</th></tr>\n",
       "</thead>\n",
       "<tbody>\n",
       "\t<tr><th scope=row>1</th><td>Core naive CD8 T cell</td><td>fixed</td><td>NA</td><td>days_to_conversion</td><td>-3.36506e-04</td><td>0.0001393532</td><td>-2.4147715</td><td>42.52827</td><td>0.02012128</td><td>A1BG</td><td>0.1248817</td><td>&lt;0.2</td></tr>\n",
       "\t<tr><th scope=row>2</th><td>Core naive CD8 T cell</td><td>fixed</td><td>NA</td><td>days_to_conversion</td><td>-3.90451e-05</td><td>0.0001720038</td><td>-0.2270014</td><td>46.00000</td><td>0.82142850</td><td>AAK1</td><td>0.4652312</td><td>ns  </td></tr>\n",
       "</tbody>\n",
       "</table>\n"
      ],
      "text/latex": [
       "A data.frame: 2 × 12\n",
       "\\begin{tabular}{r|llllllllllll}\n",
       "  & celltype & effect & group & term & log2FoldChange & std.error & statistic & df & p.value & gene & padj & sig\\\\\n",
       "  & <chr> & <chr> & <lgl> & <chr> & <dbl> & <dbl> & <dbl> & <dbl> & <dbl> & <chr> & <dbl> & <chr>\\\\\n",
       "\\hline\n",
       "\t1 & Core naive CD8 T cell & fixed & NA & days\\_to\\_conversion & -3.36506e-04 & 0.0001393532 & -2.4147715 & 42.52827 & 0.02012128 & A1BG & 0.1248817 & <0.2\\\\\n",
       "\t2 & Core naive CD8 T cell & fixed & NA & days\\_to\\_conversion & -3.90451e-05 & 0.0001720038 & -0.2270014 & 46.00000 & 0.82142850 & AAK1 & 0.4652312 & ns  \\\\\n",
       "\\end{tabular}\n"
      ],
      "text/markdown": [
       "\n",
       "A data.frame: 2 × 12\n",
       "\n",
       "| <!--/--> | celltype &lt;chr&gt; | effect &lt;chr&gt; | group &lt;lgl&gt; | term &lt;chr&gt; | log2FoldChange &lt;dbl&gt; | std.error &lt;dbl&gt; | statistic &lt;dbl&gt; | df &lt;dbl&gt; | p.value &lt;dbl&gt; | gene &lt;chr&gt; | padj &lt;dbl&gt; | sig &lt;chr&gt; |\n",
       "|---|---|---|---|---|---|---|---|---|---|---|---|---|\n",
       "| 1 | Core naive CD8 T cell | fixed | NA | days_to_conversion | -3.36506e-04 | 0.0001393532 | -2.4147715 | 42.52827 | 0.02012128 | A1BG | 0.1248817 | &lt;0.2 |\n",
       "| 2 | Core naive CD8 T cell | fixed | NA | days_to_conversion | -3.90451e-05 | 0.0001720038 | -0.2270014 | 46.00000 | 0.82142850 | AAK1 | 0.4652312 | ns   |\n",
       "\n"
      ],
      "text/plain": [
       "  celltype              effect group term               log2FoldChange\n",
       "1 Core naive CD8 T cell fixed  NA    days_to_conversion -3.36506e-04  \n",
       "2 Core naive CD8 T cell fixed  NA    days_to_conversion -3.90451e-05  \n",
       "  std.error    statistic  df       p.value    gene padj      sig \n",
       "1 0.0001393532 -2.4147715 42.52827 0.02012128 A1BG 0.1248817 <0.2\n",
       "2 0.0001720038 -0.2270014 46.00000 0.82142850 AAK1 0.4652312 ns  "
      ]
     },
     "metadata": {},
     "output_type": "display_data"
    }
   ],
   "source": [
    "##renaming the columns to plot \n",
    "\n",
    "deg_a3 <- deg_a3 %>%\n",
    "  rename(\n",
    "    log2FoldChange = estimate,\n",
    "    padj = q_values\n",
    "  )\n",
    "deg_a3%>%head(2)"
   ]
  },
  {
   "cell_type": "code",
   "execution_count": 11,
   "id": "1c13742d-c5c7-401b-bfa7-4a2a56572651",
   "metadata": {},
   "outputs": [
    {
     "data": {
      "text/html": [
       "<table class=\"dataframe\">\n",
       "<caption>A data.frame: 2 × 13</caption>\n",
       "<thead>\n",
       "\t<tr><th></th><th scope=col>celltype</th><th scope=col>effect</th><th scope=col>group</th><th scope=col>term</th><th scope=col>log2FoldChange</th><th scope=col>std.error</th><th scope=col>statistic</th><th scope=col>df</th><th scope=col>p.value</th><th scope=col>gene</th><th scope=col>padj</th><th scope=col>sig</th><th scope=col>logfc_by_year</th></tr>\n",
       "\t<tr><th></th><th scope=col>&lt;chr&gt;</th><th scope=col>&lt;chr&gt;</th><th scope=col>&lt;lgl&gt;</th><th scope=col>&lt;chr&gt;</th><th scope=col>&lt;dbl&gt;</th><th scope=col>&lt;dbl&gt;</th><th scope=col>&lt;dbl&gt;</th><th scope=col>&lt;dbl&gt;</th><th scope=col>&lt;dbl&gt;</th><th scope=col>&lt;chr&gt;</th><th scope=col>&lt;dbl&gt;</th><th scope=col>&lt;chr&gt;</th><th scope=col>&lt;dbl&gt;</th></tr>\n",
       "</thead>\n",
       "<tbody>\n",
       "\t<tr><th scope=row>1</th><td>Core naive CD8 T cell</td><td>fixed</td><td>NA</td><td>days_to_conversion</td><td>-3.36506e-04</td><td>0.0001393532</td><td>-2.4147715</td><td>42.52827</td><td>0.02012128</td><td>A1BG</td><td>0.1248817</td><td>&lt;0.2</td><td>-0.12282470</td></tr>\n",
       "\t<tr><th scope=row>2</th><td>Core naive CD8 T cell</td><td>fixed</td><td>NA</td><td>days_to_conversion</td><td>-3.90451e-05</td><td>0.0001720038</td><td>-0.2270014</td><td>46.00000</td><td>0.82142850</td><td>AAK1</td><td>0.4652312</td><td>ns  </td><td>-0.01425146</td></tr>\n",
       "</tbody>\n",
       "</table>\n"
      ],
      "text/latex": [
       "A data.frame: 2 × 13\n",
       "\\begin{tabular}{r|lllllllllllll}\n",
       "  & celltype & effect & group & term & log2FoldChange & std.error & statistic & df & p.value & gene & padj & sig & logfc\\_by\\_year\\\\\n",
       "  & <chr> & <chr> & <lgl> & <chr> & <dbl> & <dbl> & <dbl> & <dbl> & <dbl> & <chr> & <dbl> & <chr> & <dbl>\\\\\n",
       "\\hline\n",
       "\t1 & Core naive CD8 T cell & fixed & NA & days\\_to\\_conversion & -3.36506e-04 & 0.0001393532 & -2.4147715 & 42.52827 & 0.02012128 & A1BG & 0.1248817 & <0.2 & -0.12282470\\\\\n",
       "\t2 & Core naive CD8 T cell & fixed & NA & days\\_to\\_conversion & -3.90451e-05 & 0.0001720038 & -0.2270014 & 46.00000 & 0.82142850 & AAK1 & 0.4652312 & ns   & -0.01425146\\\\\n",
       "\\end{tabular}\n"
      ],
      "text/markdown": [
       "\n",
       "A data.frame: 2 × 13\n",
       "\n",
       "| <!--/--> | celltype &lt;chr&gt; | effect &lt;chr&gt; | group &lt;lgl&gt; | term &lt;chr&gt; | log2FoldChange &lt;dbl&gt; | std.error &lt;dbl&gt; | statistic &lt;dbl&gt; | df &lt;dbl&gt; | p.value &lt;dbl&gt; | gene &lt;chr&gt; | padj &lt;dbl&gt; | sig &lt;chr&gt; | logfc_by_year &lt;dbl&gt; |\n",
       "|---|---|---|---|---|---|---|---|---|---|---|---|---|---|\n",
       "| 1 | Core naive CD8 T cell | fixed | NA | days_to_conversion | -3.36506e-04 | 0.0001393532 | -2.4147715 | 42.52827 | 0.02012128 | A1BG | 0.1248817 | &lt;0.2 | -0.12282470 |\n",
       "| 2 | Core naive CD8 T cell | fixed | NA | days_to_conversion | -3.90451e-05 | 0.0001720038 | -0.2270014 | 46.00000 | 0.82142850 | AAK1 | 0.4652312 | ns   | -0.01425146 |\n",
       "\n"
      ],
      "text/plain": [
       "  celltype              effect group term               log2FoldChange\n",
       "1 Core naive CD8 T cell fixed  NA    days_to_conversion -3.36506e-04  \n",
       "2 Core naive CD8 T cell fixed  NA    days_to_conversion -3.90451e-05  \n",
       "  std.error    statistic  df       p.value    gene padj      sig  logfc_by_year\n",
       "1 0.0001393532 -2.4147715 42.52827 0.02012128 A1BG 0.1248817 <0.2 -0.12282470  \n",
       "2 0.0001720038 -0.2270014 46.00000 0.82142850 AAK1 0.4652312 ns   -0.01425146  "
      ]
     },
     "metadata": {},
     "output_type": "display_data"
    }
   ],
   "source": [
    "#adjusting the log2FC scale by multiplying by 365(1year) \n",
    "deg_a3 <- deg_a3 %>%\n",
    "  mutate(logfc_by_year= log2FoldChange * 365)\n",
    "deg_a3%>%head(2)"
   ]
  },
  {
   "cell_type": "code",
   "execution_count": 12,
   "id": "1f1186d8-b7d7-4fb1-bc26-68e4966f92dd",
   "metadata": {
    "scrolled": true
   },
   "outputs": [
    {
     "data": {
      "text/html": [
       "<table class=\"dataframe\">\n",
       "<caption>A data.frame: 28 × 13</caption>\n",
       "<thead>\n",
       "\t<tr><th scope=col>celltype</th><th scope=col>effect</th><th scope=col>group</th><th scope=col>term</th><th scope=col>log2FoldChange</th><th scope=col>std.error</th><th scope=col>statistic</th><th scope=col>df</th><th scope=col>p.value</th><th scope=col>gene</th><th scope=col>padj</th><th scope=col>sig</th><th scope=col>logfc_by_year</th></tr>\n",
       "\t<tr><th scope=col>&lt;chr&gt;</th><th scope=col>&lt;chr&gt;</th><th scope=col>&lt;lgl&gt;</th><th scope=col>&lt;chr&gt;</th><th scope=col>&lt;dbl&gt;</th><th scope=col>&lt;dbl&gt;</th><th scope=col>&lt;dbl&gt;</th><th scope=col>&lt;dbl&gt;</th><th scope=col>&lt;dbl&gt;</th><th scope=col>&lt;chr&gt;</th><th scope=col>&lt;dbl&gt;</th><th scope=col>&lt;chr&gt;</th><th scope=col>&lt;dbl&gt;</th></tr>\n",
       "</thead>\n",
       "<tbody>\n",
       "\t<tr><td>Core naive CD8 T cell</td><td>fixed</td><td>NA</td><td>days_to_conversion</td><td> 5.909115e-04</td><td>1.967237e-04</td><td> 3.0037641</td><td>45.90047</td><td>4.307739e-03</td><td><span style=white-space:pre-wrap>AKT3  </span></td><td>0.07972531</td><td>&lt;0.2</td><td> 0.21568271</td></tr>\n",
       "\t<tr><td>Core naive CD8 T cell</td><td>fixed</td><td>NA</td><td>days_to_conversion</td><td> 5.047967e-04</td><td>1.404996e-04</td><td> 3.5928694</td><td>43.73401</td><td>8.244061e-04</td><td>CASP8 </td><td>0.05525159</td><td>&lt;0.2</td><td> 0.18425081</td></tr>\n",
       "\t<tr><td>Core naive CD8 T cell</td><td>fixed</td><td>NA</td><td>days_to_conversion</td><td>-2.811464e-04</td><td>1.136197e-04</td><td>-2.4744511</td><td>44.74924</td><td>1.720227e-02</td><td>CD247 </td><td>0.11559314</td><td>&lt;0.2</td><td>-0.10261845</td></tr>\n",
       "\t<tr><td>Core naive CD8 T cell</td><td>fixed</td><td>NA</td><td>days_to_conversion</td><td> 2.680737e-04</td><td>1.575735e-04</td><td> 1.7012612</td><td>42.40663</td><td>9.621651e-02</td><td><span style=white-space:pre-wrap>CD28  </span></td><td>0.18535452</td><td>&lt;0.2</td><td> 0.09784690</td></tr>\n",
       "\t<tr><td>Core naive CD8 T cell</td><td>fixed</td><td>NA</td><td>days_to_conversion</td><td>-3.052838e-04</td><td>1.146512e-04</td><td>-2.6627173</td><td>45.64048</td><td>1.066953e-02</td><td><span style=white-space:pre-wrap>CD3D  </span></td><td>0.10002358</td><td>&lt;0.2</td><td>-0.11142860</td></tr>\n",
       "\t<tr><td>Core naive CD8 T cell</td><td>fixed</td><td>NA</td><td>days_to_conversion</td><td>-2.163710e-04</td><td>9.749214e-05</td><td>-2.2193690</td><td>45.97931</td><td>3.143510e-02</td><td><span style=white-space:pre-wrap>CD3E  </span></td><td>0.13459422</td><td>&lt;0.2</td><td>-0.07897543</td></tr>\n",
       "\t<tr><td>Core naive CD8 T cell</td><td>fixed</td><td>NA</td><td>days_to_conversion</td><td>-3.589835e-04</td><td>8.921899e-05</td><td>-4.0236217</td><td>40.39603</td><td>2.447929e-04</td><td><span style=white-space:pre-wrap>CD3G  </span></td><td>0.05525159</td><td>&lt;0.2</td><td>-0.13102897</td></tr>\n",
       "\t<tr><td>Core naive CD8 T cell</td><td>fixed</td><td>NA</td><td>days_to_conversion</td><td> 1.352590e-03</td><td>7.521886e-04</td><td> 1.7982052</td><td>44.10057</td><td>7.899188e-02</td><td><span style=white-space:pre-wrap>EGR1  </span></td><td>0.17153714</td><td>&lt;0.2</td><td> 0.49369518</td></tr>\n",
       "\t<tr><td>Core naive CD8 T cell</td><td>fixed</td><td>NA</td><td>days_to_conversion</td><td> 1.612655e-03</td><td>8.162011e-04</td><td> 1.9758065</td><td>44.01381</td><td>5.446655e-02</td><td><span style=white-space:pre-wrap>FOS   </span></td><td>0.15304708</td><td>&lt;0.2</td><td> 0.58861919</td></tr>\n",
       "\t<tr><td>Core naive CD8 T cell</td><td>fixed</td><td>NA</td><td>days_to_conversion</td><td> 1.460235e-03</td><td>5.801340e-04</td><td> 2.5170644</td><td>43.39904</td><td>1.560548e-02</td><td><span style=white-space:pre-wrap>FOSB  </span></td><td>0.11219740</td><td>&lt;0.2</td><td> 0.53298560</td></tr>\n",
       "\t<tr><td>Core naive CD8 T cell</td><td>fixed</td><td>NA</td><td>days_to_conversion</td><td> 3.126383e-04</td><td>1.619850e-04</td><td> 1.9300448</td><td>45.68163</td><td>5.982411e-02</td><td>GRAP2 </td><td>0.15736745</td><td>&lt;0.2</td><td> 0.11411298</td></tr>\n",
       "\t<tr><td>Core naive CD8 T cell</td><td>fixed</td><td>NA</td><td>days_to_conversion</td><td> 3.599505e-04</td><td>1.576692e-04</td><td> 2.2829473</td><td>46.00000</td><td>2.710253e-02</td><td>IKBKB </td><td>0.13130775</td><td>&lt;0.2</td><td> 0.13138193</td></tr>\n",
       "\t<tr><td>Core naive CD8 T cell</td><td>fixed</td><td>NA</td><td>days_to_conversion</td><td> 3.792882e-04</td><td>1.187153e-04</td><td> 3.1949389</td><td>38.63024</td><td>2.784614e-03</td><td>IL10RA</td><td>0.07465515</td><td>&lt;0.2</td><td> 0.13844018</td></tr>\n",
       "\t<tr><td>Core naive CD8 T cell</td><td>fixed</td><td>NA</td><td>days_to_conversion</td><td> 4.536045e-04</td><td>1.903480e-04</td><td> 2.3830271</td><td>43.00219</td><td>2.166003e-02</td><td>IL6ST </td><td>0.12686637</td><td>&lt;0.2</td><td> 0.16556565</td></tr>\n",
       "\t<tr><td>Core naive CD8 T cell</td><td>fixed</td><td>NA</td><td>days_to_conversion</td><td> 6.915842e-04</td><td>4.873329e-04</td><td> 1.4191208</td><td>43.13719</td><td>1.630496e-01</td><td>JUN   </td><td>0.22125507</td><td>ns  </td><td> 0.25242823</td></tr>\n",
       "\t<tr><td>Core naive CD8 T cell</td><td>fixed</td><td>NA</td><td>days_to_conversion</td><td> 2.804524e-04</td><td>1.863317e-04</td><td> 1.5051244</td><td>45.36592</td><td>1.392234e-01</td><td>NFAT5 </td><td>0.21120256</td><td>ns  </td><td> 0.10236512</td></tr>\n",
       "\t<tr><td>Core naive CD8 T cell</td><td>fixed</td><td>NA</td><td>days_to_conversion</td><td> 4.449581e-04</td><td>1.513681e-04</td><td> 2.9395766</td><td>41.18598</td><td>5.367734e-03</td><td>NFKB1 </td><td>0.08206516</td><td>&lt;0.2</td><td> 0.16240969</td></tr>\n",
       "\t<tr><td>Core naive CD8 T cell</td><td>fixed</td><td>NA</td><td>days_to_conversion</td><td> 5.062691e-04</td><td>1.026667e-04</td><td> 4.9311918</td><td>45.99314</td><td>1.107278e-05</td><td>PTPN4 </td><td>0.01058800</td><td>*   </td><td> 0.18478820</td></tr>\n",
       "\t<tr><td>Core naive CD8 T cell</td><td>fixed</td><td>NA</td><td>days_to_conversion</td><td> 1.814137e-04</td><td>9.501666e-05</td><td> 1.9092831</td><td>46.00000</td><td>6.247453e-02</td><td><span style=white-space:pre-wrap>RAF1  </span></td><td>0.15874045</td><td>&lt;0.2</td><td> 0.06621600</td></tr>\n",
       "\t<tr><td>Core naive CD8 T cell</td><td>fixed</td><td>NA</td><td>days_to_conversion</td><td> 4.175155e-04</td><td>1.695044e-04</td><td> 2.4631553</td><td>44.15222</td><td>1.774045e-02</td><td><span style=white-space:pre-wrap>RORA  </span></td><td>0.11672304</td><td>&lt;0.2</td><td> 0.15239317</td></tr>\n",
       "\t<tr><td>Core naive CD8 T cell</td><td>fixed</td><td>NA</td><td>days_to_conversion</td><td> 3.261513e-05</td><td>1.213817e-04</td><td> 0.2686990</td><td>46.00000</td><td>7.893628e-01</td><td>STAT2 </td><td>0.45825778</td><td>ns  </td><td> 0.01190452</td></tr>\n",
       "\t<tr><td>Core naive CD8 T cell</td><td>fixed</td><td>NA</td><td>days_to_conversion</td><td> 1.945660e-04</td><td>1.343769e-04</td><td> 1.4479127</td><td>45.98319</td><td>1.544258e-01</td><td>STAT4 </td><td>0.21754992</td><td>ns  </td><td> 0.07101658</td></tr>\n",
       "\t<tr><td>Core naive CD8 T cell</td><td>fixed</td><td>NA</td><td>days_to_conversion</td><td> 3.250590e-04</td><td>1.062199e-04</td><td> 3.0602468</td><td>45.52418</td><td>3.701255e-03</td><td>STAT5B</td><td>0.07714363</td><td>&lt;0.2</td><td> 0.11864655</td></tr>\n",
       "\t<tr><td>Core naive CD8 T cell</td><td>fixed</td><td>NA</td><td>days_to_conversion</td><td> 4.472267e-05</td><td>1.308851e-04</td><td> 0.3416942</td><td>46.00000</td><td>7.341372e-01</td><td>STAT6 </td><td>0.44411374</td><td>ns  </td><td> 0.01632377</td></tr>\n",
       "\t<tr><td>Core naive CD8 T cell</td><td>fixed</td><td>NA</td><td>days_to_conversion</td><td> 2.125452e-04</td><td>1.252292e-04</td><td> 1.6972488</td><td>45.40777</td><td>9.649470e-02</td><td>STIM1 </td><td>0.18535452</td><td>&lt;0.2</td><td> 0.07757899</td></tr>\n",
       "\t<tr><td>Core naive CD8 T cell</td><td>fixed</td><td>NA</td><td>days_to_conversion</td><td> 3.511995e-04</td><td>9.503513e-05</td><td> 3.6954699</td><td>45.46070</td><td>5.879985e-04</td><td>STIM2 </td><td>0.05525159</td><td>&lt;0.2</td><td> 0.12818780</td></tr>\n",
       "\t<tr><td>Core naive CD8 T cell</td><td>fixed</td><td>NA</td><td>days_to_conversion</td><td> 1.933112e-04</td><td>8.533228e-05</td><td> 2.2653931</td><td>45.81658</td><td>2.826112e-02</td><td><span style=white-space:pre-wrap>TCF7  </span></td><td>0.13159487</td><td>&lt;0.2</td><td> 0.07055857</td></tr>\n",
       "\t<tr><td>Core naive CD8 T cell</td><td>fixed</td><td>NA</td><td>days_to_conversion</td><td> 4.722253e-04</td><td>1.425670e-04</td><td> 3.3123055</td><td>45.99479</td><td>1.807764e-03</td><td>TRAF5 </td><td>0.06804931</td><td>&lt;0.2</td><td> 0.17236223</td></tr>\n",
       "</tbody>\n",
       "</table>\n"
      ],
      "text/latex": [
       "A data.frame: 28 × 13\n",
       "\\begin{tabular}{lllllllllllll}\n",
       " celltype & effect & group & term & log2FoldChange & std.error & statistic & df & p.value & gene & padj & sig & logfc\\_by\\_year\\\\\n",
       " <chr> & <chr> & <lgl> & <chr> & <dbl> & <dbl> & <dbl> & <dbl> & <dbl> & <chr> & <dbl> & <chr> & <dbl>\\\\\n",
       "\\hline\n",
       "\t Core naive CD8 T cell & fixed & NA & days\\_to\\_conversion &  5.909115e-04 & 1.967237e-04 &  3.0037641 & 45.90047 & 4.307739e-03 & AKT3   & 0.07972531 & <0.2 &  0.21568271\\\\\n",
       "\t Core naive CD8 T cell & fixed & NA & days\\_to\\_conversion &  5.047967e-04 & 1.404996e-04 &  3.5928694 & 43.73401 & 8.244061e-04 & CASP8  & 0.05525159 & <0.2 &  0.18425081\\\\\n",
       "\t Core naive CD8 T cell & fixed & NA & days\\_to\\_conversion & -2.811464e-04 & 1.136197e-04 & -2.4744511 & 44.74924 & 1.720227e-02 & CD247  & 0.11559314 & <0.2 & -0.10261845\\\\\n",
       "\t Core naive CD8 T cell & fixed & NA & days\\_to\\_conversion &  2.680737e-04 & 1.575735e-04 &  1.7012612 & 42.40663 & 9.621651e-02 & CD28   & 0.18535452 & <0.2 &  0.09784690\\\\\n",
       "\t Core naive CD8 T cell & fixed & NA & days\\_to\\_conversion & -3.052838e-04 & 1.146512e-04 & -2.6627173 & 45.64048 & 1.066953e-02 & CD3D   & 0.10002358 & <0.2 & -0.11142860\\\\\n",
       "\t Core naive CD8 T cell & fixed & NA & days\\_to\\_conversion & -2.163710e-04 & 9.749214e-05 & -2.2193690 & 45.97931 & 3.143510e-02 & CD3E   & 0.13459422 & <0.2 & -0.07897543\\\\\n",
       "\t Core naive CD8 T cell & fixed & NA & days\\_to\\_conversion & -3.589835e-04 & 8.921899e-05 & -4.0236217 & 40.39603 & 2.447929e-04 & CD3G   & 0.05525159 & <0.2 & -0.13102897\\\\\n",
       "\t Core naive CD8 T cell & fixed & NA & days\\_to\\_conversion &  1.352590e-03 & 7.521886e-04 &  1.7982052 & 44.10057 & 7.899188e-02 & EGR1   & 0.17153714 & <0.2 &  0.49369518\\\\\n",
       "\t Core naive CD8 T cell & fixed & NA & days\\_to\\_conversion &  1.612655e-03 & 8.162011e-04 &  1.9758065 & 44.01381 & 5.446655e-02 & FOS    & 0.15304708 & <0.2 &  0.58861919\\\\\n",
       "\t Core naive CD8 T cell & fixed & NA & days\\_to\\_conversion &  1.460235e-03 & 5.801340e-04 &  2.5170644 & 43.39904 & 1.560548e-02 & FOSB   & 0.11219740 & <0.2 &  0.53298560\\\\\n",
       "\t Core naive CD8 T cell & fixed & NA & days\\_to\\_conversion &  3.126383e-04 & 1.619850e-04 &  1.9300448 & 45.68163 & 5.982411e-02 & GRAP2  & 0.15736745 & <0.2 &  0.11411298\\\\\n",
       "\t Core naive CD8 T cell & fixed & NA & days\\_to\\_conversion &  3.599505e-04 & 1.576692e-04 &  2.2829473 & 46.00000 & 2.710253e-02 & IKBKB  & 0.13130775 & <0.2 &  0.13138193\\\\\n",
       "\t Core naive CD8 T cell & fixed & NA & days\\_to\\_conversion &  3.792882e-04 & 1.187153e-04 &  3.1949389 & 38.63024 & 2.784614e-03 & IL10RA & 0.07465515 & <0.2 &  0.13844018\\\\\n",
       "\t Core naive CD8 T cell & fixed & NA & days\\_to\\_conversion &  4.536045e-04 & 1.903480e-04 &  2.3830271 & 43.00219 & 2.166003e-02 & IL6ST  & 0.12686637 & <0.2 &  0.16556565\\\\\n",
       "\t Core naive CD8 T cell & fixed & NA & days\\_to\\_conversion &  6.915842e-04 & 4.873329e-04 &  1.4191208 & 43.13719 & 1.630496e-01 & JUN    & 0.22125507 & ns   &  0.25242823\\\\\n",
       "\t Core naive CD8 T cell & fixed & NA & days\\_to\\_conversion &  2.804524e-04 & 1.863317e-04 &  1.5051244 & 45.36592 & 1.392234e-01 & NFAT5  & 0.21120256 & ns   &  0.10236512\\\\\n",
       "\t Core naive CD8 T cell & fixed & NA & days\\_to\\_conversion &  4.449581e-04 & 1.513681e-04 &  2.9395766 & 41.18598 & 5.367734e-03 & NFKB1  & 0.08206516 & <0.2 &  0.16240969\\\\\n",
       "\t Core naive CD8 T cell & fixed & NA & days\\_to\\_conversion &  5.062691e-04 & 1.026667e-04 &  4.9311918 & 45.99314 & 1.107278e-05 & PTPN4  & 0.01058800 & *    &  0.18478820\\\\\n",
       "\t Core naive CD8 T cell & fixed & NA & days\\_to\\_conversion &  1.814137e-04 & 9.501666e-05 &  1.9092831 & 46.00000 & 6.247453e-02 & RAF1   & 0.15874045 & <0.2 &  0.06621600\\\\\n",
       "\t Core naive CD8 T cell & fixed & NA & days\\_to\\_conversion &  4.175155e-04 & 1.695044e-04 &  2.4631553 & 44.15222 & 1.774045e-02 & RORA   & 0.11672304 & <0.2 &  0.15239317\\\\\n",
       "\t Core naive CD8 T cell & fixed & NA & days\\_to\\_conversion &  3.261513e-05 & 1.213817e-04 &  0.2686990 & 46.00000 & 7.893628e-01 & STAT2  & 0.45825778 & ns   &  0.01190452\\\\\n",
       "\t Core naive CD8 T cell & fixed & NA & days\\_to\\_conversion &  1.945660e-04 & 1.343769e-04 &  1.4479127 & 45.98319 & 1.544258e-01 & STAT4  & 0.21754992 & ns   &  0.07101658\\\\\n",
       "\t Core naive CD8 T cell & fixed & NA & days\\_to\\_conversion &  3.250590e-04 & 1.062199e-04 &  3.0602468 & 45.52418 & 3.701255e-03 & STAT5B & 0.07714363 & <0.2 &  0.11864655\\\\\n",
       "\t Core naive CD8 T cell & fixed & NA & days\\_to\\_conversion &  4.472267e-05 & 1.308851e-04 &  0.3416942 & 46.00000 & 7.341372e-01 & STAT6  & 0.44411374 & ns   &  0.01632377\\\\\n",
       "\t Core naive CD8 T cell & fixed & NA & days\\_to\\_conversion &  2.125452e-04 & 1.252292e-04 &  1.6972488 & 45.40777 & 9.649470e-02 & STIM1  & 0.18535452 & <0.2 &  0.07757899\\\\\n",
       "\t Core naive CD8 T cell & fixed & NA & days\\_to\\_conversion &  3.511995e-04 & 9.503513e-05 &  3.6954699 & 45.46070 & 5.879985e-04 & STIM2  & 0.05525159 & <0.2 &  0.12818780\\\\\n",
       "\t Core naive CD8 T cell & fixed & NA & days\\_to\\_conversion &  1.933112e-04 & 8.533228e-05 &  2.2653931 & 45.81658 & 2.826112e-02 & TCF7   & 0.13159487 & <0.2 &  0.07055857\\\\\n",
       "\t Core naive CD8 T cell & fixed & NA & days\\_to\\_conversion &  4.722253e-04 & 1.425670e-04 &  3.3123055 & 45.99479 & 1.807764e-03 & TRAF5  & 0.06804931 & <0.2 &  0.17236223\\\\\n",
       "\\end{tabular}\n"
      ],
      "text/markdown": [
       "\n",
       "A data.frame: 28 × 13\n",
       "\n",
       "| celltype &lt;chr&gt; | effect &lt;chr&gt; | group &lt;lgl&gt; | term &lt;chr&gt; | log2FoldChange &lt;dbl&gt; | std.error &lt;dbl&gt; | statistic &lt;dbl&gt; | df &lt;dbl&gt; | p.value &lt;dbl&gt; | gene &lt;chr&gt; | padj &lt;dbl&gt; | sig &lt;chr&gt; | logfc_by_year &lt;dbl&gt; |\n",
       "|---|---|---|---|---|---|---|---|---|---|---|---|---|\n",
       "| Core naive CD8 T cell | fixed | NA | days_to_conversion |  5.909115e-04 | 1.967237e-04 |  3.0037641 | 45.90047 | 4.307739e-03 | AKT3   | 0.07972531 | &lt;0.2 |  0.21568271 |\n",
       "| Core naive CD8 T cell | fixed | NA | days_to_conversion |  5.047967e-04 | 1.404996e-04 |  3.5928694 | 43.73401 | 8.244061e-04 | CASP8  | 0.05525159 | &lt;0.2 |  0.18425081 |\n",
       "| Core naive CD8 T cell | fixed | NA | days_to_conversion | -2.811464e-04 | 1.136197e-04 | -2.4744511 | 44.74924 | 1.720227e-02 | CD247  | 0.11559314 | &lt;0.2 | -0.10261845 |\n",
       "| Core naive CD8 T cell | fixed | NA | days_to_conversion |  2.680737e-04 | 1.575735e-04 |  1.7012612 | 42.40663 | 9.621651e-02 | CD28   | 0.18535452 | &lt;0.2 |  0.09784690 |\n",
       "| Core naive CD8 T cell | fixed | NA | days_to_conversion | -3.052838e-04 | 1.146512e-04 | -2.6627173 | 45.64048 | 1.066953e-02 | CD3D   | 0.10002358 | &lt;0.2 | -0.11142860 |\n",
       "| Core naive CD8 T cell | fixed | NA | days_to_conversion | -2.163710e-04 | 9.749214e-05 | -2.2193690 | 45.97931 | 3.143510e-02 | CD3E   | 0.13459422 | &lt;0.2 | -0.07897543 |\n",
       "| Core naive CD8 T cell | fixed | NA | days_to_conversion | -3.589835e-04 | 8.921899e-05 | -4.0236217 | 40.39603 | 2.447929e-04 | CD3G   | 0.05525159 | &lt;0.2 | -0.13102897 |\n",
       "| Core naive CD8 T cell | fixed | NA | days_to_conversion |  1.352590e-03 | 7.521886e-04 |  1.7982052 | 44.10057 | 7.899188e-02 | EGR1   | 0.17153714 | &lt;0.2 |  0.49369518 |\n",
       "| Core naive CD8 T cell | fixed | NA | days_to_conversion |  1.612655e-03 | 8.162011e-04 |  1.9758065 | 44.01381 | 5.446655e-02 | FOS    | 0.15304708 | &lt;0.2 |  0.58861919 |\n",
       "| Core naive CD8 T cell | fixed | NA | days_to_conversion |  1.460235e-03 | 5.801340e-04 |  2.5170644 | 43.39904 | 1.560548e-02 | FOSB   | 0.11219740 | &lt;0.2 |  0.53298560 |\n",
       "| Core naive CD8 T cell | fixed | NA | days_to_conversion |  3.126383e-04 | 1.619850e-04 |  1.9300448 | 45.68163 | 5.982411e-02 | GRAP2  | 0.15736745 | &lt;0.2 |  0.11411298 |\n",
       "| Core naive CD8 T cell | fixed | NA | days_to_conversion |  3.599505e-04 | 1.576692e-04 |  2.2829473 | 46.00000 | 2.710253e-02 | IKBKB  | 0.13130775 | &lt;0.2 |  0.13138193 |\n",
       "| Core naive CD8 T cell | fixed | NA | days_to_conversion |  3.792882e-04 | 1.187153e-04 |  3.1949389 | 38.63024 | 2.784614e-03 | IL10RA | 0.07465515 | &lt;0.2 |  0.13844018 |\n",
       "| Core naive CD8 T cell | fixed | NA | days_to_conversion |  4.536045e-04 | 1.903480e-04 |  2.3830271 | 43.00219 | 2.166003e-02 | IL6ST  | 0.12686637 | &lt;0.2 |  0.16556565 |\n",
       "| Core naive CD8 T cell | fixed | NA | days_to_conversion |  6.915842e-04 | 4.873329e-04 |  1.4191208 | 43.13719 | 1.630496e-01 | JUN    | 0.22125507 | ns   |  0.25242823 |\n",
       "| Core naive CD8 T cell | fixed | NA | days_to_conversion |  2.804524e-04 | 1.863317e-04 |  1.5051244 | 45.36592 | 1.392234e-01 | NFAT5  | 0.21120256 | ns   |  0.10236512 |\n",
       "| Core naive CD8 T cell | fixed | NA | days_to_conversion |  4.449581e-04 | 1.513681e-04 |  2.9395766 | 41.18598 | 5.367734e-03 | NFKB1  | 0.08206516 | &lt;0.2 |  0.16240969 |\n",
       "| Core naive CD8 T cell | fixed | NA | days_to_conversion |  5.062691e-04 | 1.026667e-04 |  4.9311918 | 45.99314 | 1.107278e-05 | PTPN4  | 0.01058800 | *    |  0.18478820 |\n",
       "| Core naive CD8 T cell | fixed | NA | days_to_conversion |  1.814137e-04 | 9.501666e-05 |  1.9092831 | 46.00000 | 6.247453e-02 | RAF1   | 0.15874045 | &lt;0.2 |  0.06621600 |\n",
       "| Core naive CD8 T cell | fixed | NA | days_to_conversion |  4.175155e-04 | 1.695044e-04 |  2.4631553 | 44.15222 | 1.774045e-02 | RORA   | 0.11672304 | &lt;0.2 |  0.15239317 |\n",
       "| Core naive CD8 T cell | fixed | NA | days_to_conversion |  3.261513e-05 | 1.213817e-04 |  0.2686990 | 46.00000 | 7.893628e-01 | STAT2  | 0.45825778 | ns   |  0.01190452 |\n",
       "| Core naive CD8 T cell | fixed | NA | days_to_conversion |  1.945660e-04 | 1.343769e-04 |  1.4479127 | 45.98319 | 1.544258e-01 | STAT4  | 0.21754992 | ns   |  0.07101658 |\n",
       "| Core naive CD8 T cell | fixed | NA | days_to_conversion |  3.250590e-04 | 1.062199e-04 |  3.0602468 | 45.52418 | 3.701255e-03 | STAT5B | 0.07714363 | &lt;0.2 |  0.11864655 |\n",
       "| Core naive CD8 T cell | fixed | NA | days_to_conversion |  4.472267e-05 | 1.308851e-04 |  0.3416942 | 46.00000 | 7.341372e-01 | STAT6  | 0.44411374 | ns   |  0.01632377 |\n",
       "| Core naive CD8 T cell | fixed | NA | days_to_conversion |  2.125452e-04 | 1.252292e-04 |  1.6972488 | 45.40777 | 9.649470e-02 | STIM1  | 0.18535452 | &lt;0.2 |  0.07757899 |\n",
       "| Core naive CD8 T cell | fixed | NA | days_to_conversion |  3.511995e-04 | 9.503513e-05 |  3.6954699 | 45.46070 | 5.879985e-04 | STIM2  | 0.05525159 | &lt;0.2 |  0.12818780 |\n",
       "| Core naive CD8 T cell | fixed | NA | days_to_conversion |  1.933112e-04 | 8.533228e-05 |  2.2653931 | 45.81658 | 2.826112e-02 | TCF7   | 0.13159487 | &lt;0.2 |  0.07055857 |\n",
       "| Core naive CD8 T cell | fixed | NA | days_to_conversion |  4.722253e-04 | 1.425670e-04 |  3.3123055 | 45.99479 | 1.807764e-03 | TRAF5  | 0.06804931 | &lt;0.2 |  0.17236223 |\n",
       "\n"
      ],
      "text/plain": [
       "   celltype              effect group term               log2FoldChange\n",
       "1  Core naive CD8 T cell fixed  NA    days_to_conversion  5.909115e-04 \n",
       "2  Core naive CD8 T cell fixed  NA    days_to_conversion  5.047967e-04 \n",
       "3  Core naive CD8 T cell fixed  NA    days_to_conversion -2.811464e-04 \n",
       "4  Core naive CD8 T cell fixed  NA    days_to_conversion  2.680737e-04 \n",
       "5  Core naive CD8 T cell fixed  NA    days_to_conversion -3.052838e-04 \n",
       "6  Core naive CD8 T cell fixed  NA    days_to_conversion -2.163710e-04 \n",
       "7  Core naive CD8 T cell fixed  NA    days_to_conversion -3.589835e-04 \n",
       "8  Core naive CD8 T cell fixed  NA    days_to_conversion  1.352590e-03 \n",
       "9  Core naive CD8 T cell fixed  NA    days_to_conversion  1.612655e-03 \n",
       "10 Core naive CD8 T cell fixed  NA    days_to_conversion  1.460235e-03 \n",
       "11 Core naive CD8 T cell fixed  NA    days_to_conversion  3.126383e-04 \n",
       "12 Core naive CD8 T cell fixed  NA    days_to_conversion  3.599505e-04 \n",
       "13 Core naive CD8 T cell fixed  NA    days_to_conversion  3.792882e-04 \n",
       "14 Core naive CD8 T cell fixed  NA    days_to_conversion  4.536045e-04 \n",
       "15 Core naive CD8 T cell fixed  NA    days_to_conversion  6.915842e-04 \n",
       "16 Core naive CD8 T cell fixed  NA    days_to_conversion  2.804524e-04 \n",
       "17 Core naive CD8 T cell fixed  NA    days_to_conversion  4.449581e-04 \n",
       "18 Core naive CD8 T cell fixed  NA    days_to_conversion  5.062691e-04 \n",
       "19 Core naive CD8 T cell fixed  NA    days_to_conversion  1.814137e-04 \n",
       "20 Core naive CD8 T cell fixed  NA    days_to_conversion  4.175155e-04 \n",
       "21 Core naive CD8 T cell fixed  NA    days_to_conversion  3.261513e-05 \n",
       "22 Core naive CD8 T cell fixed  NA    days_to_conversion  1.945660e-04 \n",
       "23 Core naive CD8 T cell fixed  NA    days_to_conversion  3.250590e-04 \n",
       "24 Core naive CD8 T cell fixed  NA    days_to_conversion  4.472267e-05 \n",
       "25 Core naive CD8 T cell fixed  NA    days_to_conversion  2.125452e-04 \n",
       "26 Core naive CD8 T cell fixed  NA    days_to_conversion  3.511995e-04 \n",
       "27 Core naive CD8 T cell fixed  NA    days_to_conversion  1.933112e-04 \n",
       "28 Core naive CD8 T cell fixed  NA    days_to_conversion  4.722253e-04 \n",
       "   std.error    statistic  df       p.value      gene   padj       sig \n",
       "1  1.967237e-04  3.0037641 45.90047 4.307739e-03 AKT3   0.07972531 <0.2\n",
       "2  1.404996e-04  3.5928694 43.73401 8.244061e-04 CASP8  0.05525159 <0.2\n",
       "3  1.136197e-04 -2.4744511 44.74924 1.720227e-02 CD247  0.11559314 <0.2\n",
       "4  1.575735e-04  1.7012612 42.40663 9.621651e-02 CD28   0.18535452 <0.2\n",
       "5  1.146512e-04 -2.6627173 45.64048 1.066953e-02 CD3D   0.10002358 <0.2\n",
       "6  9.749214e-05 -2.2193690 45.97931 3.143510e-02 CD3E   0.13459422 <0.2\n",
       "7  8.921899e-05 -4.0236217 40.39603 2.447929e-04 CD3G   0.05525159 <0.2\n",
       "8  7.521886e-04  1.7982052 44.10057 7.899188e-02 EGR1   0.17153714 <0.2\n",
       "9  8.162011e-04  1.9758065 44.01381 5.446655e-02 FOS    0.15304708 <0.2\n",
       "10 5.801340e-04  2.5170644 43.39904 1.560548e-02 FOSB   0.11219740 <0.2\n",
       "11 1.619850e-04  1.9300448 45.68163 5.982411e-02 GRAP2  0.15736745 <0.2\n",
       "12 1.576692e-04  2.2829473 46.00000 2.710253e-02 IKBKB  0.13130775 <0.2\n",
       "13 1.187153e-04  3.1949389 38.63024 2.784614e-03 IL10RA 0.07465515 <0.2\n",
       "14 1.903480e-04  2.3830271 43.00219 2.166003e-02 IL6ST  0.12686637 <0.2\n",
       "15 4.873329e-04  1.4191208 43.13719 1.630496e-01 JUN    0.22125507 ns  \n",
       "16 1.863317e-04  1.5051244 45.36592 1.392234e-01 NFAT5  0.21120256 ns  \n",
       "17 1.513681e-04  2.9395766 41.18598 5.367734e-03 NFKB1  0.08206516 <0.2\n",
       "18 1.026667e-04  4.9311918 45.99314 1.107278e-05 PTPN4  0.01058800 *   \n",
       "19 9.501666e-05  1.9092831 46.00000 6.247453e-02 RAF1   0.15874045 <0.2\n",
       "20 1.695044e-04  2.4631553 44.15222 1.774045e-02 RORA   0.11672304 <0.2\n",
       "21 1.213817e-04  0.2686990 46.00000 7.893628e-01 STAT2  0.45825778 ns  \n",
       "22 1.343769e-04  1.4479127 45.98319 1.544258e-01 STAT4  0.21754992 ns  \n",
       "23 1.062199e-04  3.0602468 45.52418 3.701255e-03 STAT5B 0.07714363 <0.2\n",
       "24 1.308851e-04  0.3416942 46.00000 7.341372e-01 STAT6  0.44411374 ns  \n",
       "25 1.252292e-04  1.6972488 45.40777 9.649470e-02 STIM1  0.18535452 <0.2\n",
       "26 9.503513e-05  3.6954699 45.46070 5.879985e-04 STIM2  0.05525159 <0.2\n",
       "27 8.533228e-05  2.2653931 45.81658 2.826112e-02 TCF7   0.13159487 <0.2\n",
       "28 1.425670e-04  3.3123055 45.99479 1.807764e-03 TRAF5  0.06804931 <0.2\n",
       "   logfc_by_year\n",
       "1   0.21568271  \n",
       "2   0.18425081  \n",
       "3  -0.10261845  \n",
       "4   0.09784690  \n",
       "5  -0.11142860  \n",
       "6  -0.07897543  \n",
       "7  -0.13102897  \n",
       "8   0.49369518  \n",
       "9   0.58861919  \n",
       "10  0.53298560  \n",
       "11  0.11411298  \n",
       "12  0.13138193  \n",
       "13  0.13844018  \n",
       "14  0.16556565  \n",
       "15  0.25242823  \n",
       "16  0.10236512  \n",
       "17  0.16240969  \n",
       "18  0.18478820  \n",
       "19  0.06621600  \n",
       "20  0.15239317  \n",
       "21  0.01190452  \n",
       "22  0.07101658  \n",
       "23  0.11864655  \n",
       "24  0.01632377  \n",
       "25  0.07757899  \n",
       "26  0.12818780  \n",
       "27  0.07055857  \n",
       "28  0.17236223  "
      ]
     },
     "metadata": {},
     "output_type": "display_data"
    }
   ],
   "source": [
    "# filtering genes from deg_a3 based on custom genes_to_plot\n",
    "deg_a3_filtered=deg_a3 %>% filter(gene %in% genes_to_plot)\n",
    "deg_a3_filtered\n"
   ]
  },
  {
   "cell_type": "code",
   "execution_count": 13,
   "id": "3b481318-7c45-4479-8e42-30372d04f565",
   "metadata": {},
   "outputs": [
    {
     "data": {
      "text/html": [
       "<style>\n",
       ".list-inline {list-style: none; margin:0; padding: 0}\n",
       ".list-inline>li {display: inline-block}\n",
       ".list-inline>li:not(:last-child)::after {content: \"\\00b7\"; padding: 0 .5ex}\n",
       "</style>\n",
       "<ol class=list-inline><li>'AKT3'</li><li>'CASP8'</li><li>'CD3G'</li><li>'IL10RA'</li><li>'NFKB1'</li><li>'PTPN4'</li><li>'STAT5B'</li><li>'STIM2'</li><li>'TRAF5'</li></ol>\n"
      ],
      "text/latex": [
       "\\begin{enumerate*}\n",
       "\\item 'AKT3'\n",
       "\\item 'CASP8'\n",
       "\\item 'CD3G'\n",
       "\\item 'IL10RA'\n",
       "\\item 'NFKB1'\n",
       "\\item 'PTPN4'\n",
       "\\item 'STAT5B'\n",
       "\\item 'STIM2'\n",
       "\\item 'TRAF5'\n",
       "\\end{enumerate*}\n"
      ],
      "text/markdown": [
       "1. 'AKT3'\n",
       "2. 'CASP8'\n",
       "3. 'CD3G'\n",
       "4. 'IL10RA'\n",
       "5. 'NFKB1'\n",
       "6. 'PTPN4'\n",
       "7. 'STAT5B'\n",
       "8. 'STIM2'\n",
       "9. 'TRAF5'\n",
       "\n",
       "\n"
      ],
      "text/plain": [
       "[1] \"AKT3\"   \"CASP8\"  \"CD3G\"   \"IL10RA\" \"NFKB1\"  \"PTPN4\"  \"STAT5B\" \"STIM2\" \n",
       "[9] \"TRAF5\" "
      ]
     },
     "metadata": {},
     "output_type": "display_data"
    },
    {
     "data": {
      "text/html": [
       "9"
      ],
      "text/latex": [
       "9"
      ],
      "text/markdown": [
       "9"
      ],
      "text/plain": [
       "[1] 9"
      ]
     },
     "metadata": {},
     "output_type": "display_data"
    }
   ],
   "source": [
    "# filtering the significant genes from the custom genes to plot \n",
    "filtered_genes <- deg_a3_filtered %>% \n",
    "  filter(p.value <0.05 & padj < 0.1) %>% \n",
    "  pull(gene)\n",
    "filtered_genes\n",
    "filtered_genes%>%length"
   ]
  },
  {
   "cell_type": "code",
   "execution_count": 14,
   "id": "ee3b2ff8-d400-4fda-b7f7-318fbdaad02b",
   "metadata": {},
   "outputs": [
    {
     "data": {
      "text/html": [
       "<table class=\"dataframe\">\n",
       "<caption>A data.frame: 6 × 13</caption>\n",
       "<thead>\n",
       "\t<tr><th></th><th scope=col>celltype</th><th scope=col>effect</th><th scope=col>group</th><th scope=col>term</th><th scope=col>log2FoldChange</th><th scope=col>std.error</th><th scope=col>statistic</th><th scope=col>df</th><th scope=col>p.value</th><th scope=col>gene</th><th scope=col>padj</th><th scope=col>sig</th><th scope=col>logfc_by_year</th></tr>\n",
       "\t<tr><th></th><th scope=col>&lt;chr&gt;</th><th scope=col>&lt;chr&gt;</th><th scope=col>&lt;lgl&gt;</th><th scope=col>&lt;chr&gt;</th><th scope=col>&lt;dbl&gt;</th><th scope=col>&lt;dbl&gt;</th><th scope=col>&lt;dbl&gt;</th><th scope=col>&lt;dbl&gt;</th><th scope=col>&lt;dbl&gt;</th><th scope=col>&lt;chr&gt;</th><th scope=col>&lt;dbl&gt;</th><th scope=col>&lt;chr&gt;</th><th scope=col>&lt;dbl&gt;</th></tr>\n",
       "</thead>\n",
       "<tbody>\n",
       "\t<tr><th scope=row>1</th><td>Core naive CD8 T cell</td><td>fixed</td><td>NA</td><td>days_to_conversion</td><td> 0.0005909115</td><td>1.967237e-04</td><td> 3.003764</td><td>45.90047</td><td>4.307739e-03</td><td><span style=white-space:pre-wrap>AKT3  </span></td><td>0.07972531</td><td>&lt;0.2</td><td> 0.2156827</td></tr>\n",
       "\t<tr><th scope=row>2</th><td>Core naive CD8 T cell</td><td>fixed</td><td>NA</td><td>days_to_conversion</td><td> 0.0005047967</td><td>1.404996e-04</td><td> 3.592869</td><td>43.73401</td><td>8.244061e-04</td><td>CASP8 </td><td>0.05525159</td><td>&lt;0.2</td><td> 0.1842508</td></tr>\n",
       "\t<tr><th scope=row>7</th><td>Core naive CD8 T cell</td><td>fixed</td><td>NA</td><td>days_to_conversion</td><td>-0.0003589835</td><td>8.921899e-05</td><td>-4.023622</td><td>40.39603</td><td>2.447929e-04</td><td><span style=white-space:pre-wrap>CD3G  </span></td><td>0.05525159</td><td>&lt;0.2</td><td>-0.1310290</td></tr>\n",
       "\t<tr><th scope=row>13</th><td>Core naive CD8 T cell</td><td>fixed</td><td>NA</td><td>days_to_conversion</td><td> 0.0003792882</td><td>1.187153e-04</td><td> 3.194939</td><td>38.63024</td><td>2.784614e-03</td><td>IL10RA</td><td>0.07465515</td><td>&lt;0.2</td><td> 0.1384402</td></tr>\n",
       "\t<tr><th scope=row>17</th><td>Core naive CD8 T cell</td><td>fixed</td><td>NA</td><td>days_to_conversion</td><td> 0.0004449581</td><td>1.513681e-04</td><td> 2.939577</td><td>41.18598</td><td>5.367734e-03</td><td>NFKB1 </td><td>0.08206516</td><td>&lt;0.2</td><td> 0.1624097</td></tr>\n",
       "\t<tr><th scope=row>18</th><td>Core naive CD8 T cell</td><td>fixed</td><td>NA</td><td>days_to_conversion</td><td> 0.0005062691</td><td>1.026667e-04</td><td> 4.931192</td><td>45.99314</td><td>1.107278e-05</td><td>PTPN4 </td><td>0.01058800</td><td>*   </td><td> 0.1847882</td></tr>\n",
       "</tbody>\n",
       "</table>\n"
      ],
      "text/latex": [
       "A data.frame: 6 × 13\n",
       "\\begin{tabular}{r|lllllllllllll}\n",
       "  & celltype & effect & group & term & log2FoldChange & std.error & statistic & df & p.value & gene & padj & sig & logfc\\_by\\_year\\\\\n",
       "  & <chr> & <chr> & <lgl> & <chr> & <dbl> & <dbl> & <dbl> & <dbl> & <dbl> & <chr> & <dbl> & <chr> & <dbl>\\\\\n",
       "\\hline\n",
       "\t1 & Core naive CD8 T cell & fixed & NA & days\\_to\\_conversion &  0.0005909115 & 1.967237e-04 &  3.003764 & 45.90047 & 4.307739e-03 & AKT3   & 0.07972531 & <0.2 &  0.2156827\\\\\n",
       "\t2 & Core naive CD8 T cell & fixed & NA & days\\_to\\_conversion &  0.0005047967 & 1.404996e-04 &  3.592869 & 43.73401 & 8.244061e-04 & CASP8  & 0.05525159 & <0.2 &  0.1842508\\\\\n",
       "\t7 & Core naive CD8 T cell & fixed & NA & days\\_to\\_conversion & -0.0003589835 & 8.921899e-05 & -4.023622 & 40.39603 & 2.447929e-04 & CD3G   & 0.05525159 & <0.2 & -0.1310290\\\\\n",
       "\t13 & Core naive CD8 T cell & fixed & NA & days\\_to\\_conversion &  0.0003792882 & 1.187153e-04 &  3.194939 & 38.63024 & 2.784614e-03 & IL10RA & 0.07465515 & <0.2 &  0.1384402\\\\\n",
       "\t17 & Core naive CD8 T cell & fixed & NA & days\\_to\\_conversion &  0.0004449581 & 1.513681e-04 &  2.939577 & 41.18598 & 5.367734e-03 & NFKB1  & 0.08206516 & <0.2 &  0.1624097\\\\\n",
       "\t18 & Core naive CD8 T cell & fixed & NA & days\\_to\\_conversion &  0.0005062691 & 1.026667e-04 &  4.931192 & 45.99314 & 1.107278e-05 & PTPN4  & 0.01058800 & *    &  0.1847882\\\\\n",
       "\\end{tabular}\n"
      ],
      "text/markdown": [
       "\n",
       "A data.frame: 6 × 13\n",
       "\n",
       "| <!--/--> | celltype &lt;chr&gt; | effect &lt;chr&gt; | group &lt;lgl&gt; | term &lt;chr&gt; | log2FoldChange &lt;dbl&gt; | std.error &lt;dbl&gt; | statistic &lt;dbl&gt; | df &lt;dbl&gt; | p.value &lt;dbl&gt; | gene &lt;chr&gt; | padj &lt;dbl&gt; | sig &lt;chr&gt; | logfc_by_year &lt;dbl&gt; |\n",
       "|---|---|---|---|---|---|---|---|---|---|---|---|---|---|\n",
       "| 1 | Core naive CD8 T cell | fixed | NA | days_to_conversion |  0.0005909115 | 1.967237e-04 |  3.003764 | 45.90047 | 4.307739e-03 | AKT3   | 0.07972531 | &lt;0.2 |  0.2156827 |\n",
       "| 2 | Core naive CD8 T cell | fixed | NA | days_to_conversion |  0.0005047967 | 1.404996e-04 |  3.592869 | 43.73401 | 8.244061e-04 | CASP8  | 0.05525159 | &lt;0.2 |  0.1842508 |\n",
       "| 7 | Core naive CD8 T cell | fixed | NA | days_to_conversion | -0.0003589835 | 8.921899e-05 | -4.023622 | 40.39603 | 2.447929e-04 | CD3G   | 0.05525159 | &lt;0.2 | -0.1310290 |\n",
       "| 13 | Core naive CD8 T cell | fixed | NA | days_to_conversion |  0.0003792882 | 1.187153e-04 |  3.194939 | 38.63024 | 2.784614e-03 | IL10RA | 0.07465515 | &lt;0.2 |  0.1384402 |\n",
       "| 17 | Core naive CD8 T cell | fixed | NA | days_to_conversion |  0.0004449581 | 1.513681e-04 |  2.939577 | 41.18598 | 5.367734e-03 | NFKB1  | 0.08206516 | &lt;0.2 |  0.1624097 |\n",
       "| 18 | Core naive CD8 T cell | fixed | NA | days_to_conversion |  0.0005062691 | 1.026667e-04 |  4.931192 | 45.99314 | 1.107278e-05 | PTPN4  | 0.01058800 | *    |  0.1847882 |\n",
       "\n"
      ],
      "text/plain": [
       "   celltype              effect group term               log2FoldChange\n",
       "1  Core naive CD8 T cell fixed  NA    days_to_conversion  0.0005909115 \n",
       "2  Core naive CD8 T cell fixed  NA    days_to_conversion  0.0005047967 \n",
       "7  Core naive CD8 T cell fixed  NA    days_to_conversion -0.0003589835 \n",
       "13 Core naive CD8 T cell fixed  NA    days_to_conversion  0.0003792882 \n",
       "17 Core naive CD8 T cell fixed  NA    days_to_conversion  0.0004449581 \n",
       "18 Core naive CD8 T cell fixed  NA    days_to_conversion  0.0005062691 \n",
       "   std.error    statistic df       p.value      gene   padj       sig \n",
       "1  1.967237e-04  3.003764 45.90047 4.307739e-03 AKT3   0.07972531 <0.2\n",
       "2  1.404996e-04  3.592869 43.73401 8.244061e-04 CASP8  0.05525159 <0.2\n",
       "7  8.921899e-05 -4.023622 40.39603 2.447929e-04 CD3G   0.05525159 <0.2\n",
       "13 1.187153e-04  3.194939 38.63024 2.784614e-03 IL10RA 0.07465515 <0.2\n",
       "17 1.513681e-04  2.939577 41.18598 5.367734e-03 NFKB1  0.08206516 <0.2\n",
       "18 1.026667e-04  4.931192 45.99314 1.107278e-05 PTPN4  0.01058800 *   \n",
       "   logfc_by_year\n",
       "1   0.2156827   \n",
       "2   0.1842508   \n",
       "7  -0.1310290   \n",
       "13  0.1384402   \n",
       "17  0.1624097   \n",
       "18  0.1847882   "
      ]
     },
     "metadata": {},
     "output_type": "display_data"
    },
    {
     "data": {
      "text/html": [
       "<style>\n",
       ".list-inline {list-style: none; margin:0; padding: 0}\n",
       ".list-inline>li {display: inline-block}\n",
       ".list-inline>li:not(:last-child)::after {content: \"\\00b7\"; padding: 0 .5ex}\n",
       "</style>\n",
       "<ol class=list-inline><li>9</li><li>13</li></ol>\n"
      ],
      "text/latex": [
       "\\begin{enumerate*}\n",
       "\\item 9\n",
       "\\item 13\n",
       "\\end{enumerate*}\n"
      ],
      "text/markdown": [
       "1. 9\n",
       "2. 13\n",
       "\n",
       "\n"
      ],
      "text/plain": [
       "[1]  9 13"
      ]
     },
     "metadata": {},
     "output_type": "display_data"
    }
   ],
   "source": [
    "#subsetting the significant genes as df \n",
    "# Filter from  deg_a3 dataframe to include only the  filtered_genes to plot whos padj<0.1\n",
    "filtered_df_gene <- deg_a3_filtered[deg_a3_filtered$gene %in% filtered_genes, ]\n",
    "filtered_df_gene%>%head()\n",
    "filtered_df_gene%>%dim"
   ]
  },
  {
   "cell_type": "code",
   "execution_count": 15,
   "id": "2edc1b41-309f-4f8e-a11f-25b50d070788",
   "metadata": {},
   "outputs": [
    {
     "data": {
      "image/png": "[encoded data removed]",
      "text/plain": [
       "plot without title"
      ]
     },
     "metadata": {
      "image/png": {
       "height": 300,
       "width": 300
      }
     },
     "output_type": "display_data"
    }
   ],
   "source": [
    "plot_custom_volcano(data = deg_a3, logfc_column = \"logfc_by_year\", pval_column = \"p.value\", \n",
    "             padj_column = \"padj\", gene_column = \"gene\", filtered_genes = filtered_df_gene, \n",
    "             title = \"Core Naive CD8 T cells\", x_label = \"log 2 fold change by year\", y_label = \"-log10 (adjusted P value)\",\n",
    "             #x_limits = c(-0.5,0.5), y_limits = c(0.3, 2),\n",
    "                    max_overlaps = 35,\n",
    "             file_path = fig_path, file_name = \"Fig_5B.pdf\"\n",
    "                   )"
   ]
  },
  {
   "cell_type": "code",
   "execution_count": 16,
   "id": "4d99864a-e0e6-4e76-a8ea-22ebfcd4d5ed",
   "metadata": {},
   "outputs": [
    {
     "data": {
      "text/plain": [
       "R version 4.3.1 (2023-06-16)\n",
       "Platform: x86_64-conda-linux-gnu (64-bit)\n",
       "Running under: Ubuntu 20.04.6 LTS\n",
       "\n",
       "Matrix products: default\n",
       "BLAS/LAPACK: /home/jupyter/libs/r_scrna/lib/libopenblasp-r0.3.24.so;  LAPACK version 3.11.0\n",
       "\n",
       "locale:\n",
       " [1] LC_CTYPE=C.UTF-8       LC_NUMERIC=C           LC_TIME=C.UTF-8       \n",
       " [4] LC_COLLATE=C.UTF-8     LC_MONETARY=C.UTF-8    LC_MESSAGES=C.UTF-8   \n",
       " [7] LC_PAPER=C.UTF-8       LC_NAME=C              LC_ADDRESS=C          \n",
       "[10] LC_TELEPHONE=C         LC_MEASUREMENT=C.UTF-8 LC_IDENTIFICATION=C   \n",
       "\n",
       "time zone: Etc/UTC\n",
       "tzcode source: system (glibc)\n",
       "\n",
       "attached base packages:\n",
       "[1] stats4    stats     graphics  grDevices utils     datasets  methods  \n",
       "[8] base     \n",
       "\n",
       "other attached packages:\n",
       " [1] ggthemes_5.1.0              ggrepel_0.9.5              \n",
       " [3] lme4_1.1-34                 plotly_4.10.4              \n",
       " [5] knitr_1.47                  ggpubr_0.6.0               \n",
       " [7] SeuratDisk_0.0.0.9021       SingleCellExperiment_1.22.0\n",
       " [9] SummarizedExperiment_1.30.2 Biobase_2.60.0             \n",
       "[11] GenomicRanges_1.52.1        GenomeInfoDb_1.36.4        \n",
       "[13] IRanges_2.34.1              S4Vectors_0.38.2           \n",
       "[15] BiocGenerics_0.46.0         MatrixGenerics_1.12.3      \n",
       "[17] matrixStats_1.3.0           future.apply_1.11.2        \n",
       "[19] future_1.33.2               harmony_1.2.0              \n",
       "[21] Rcpp_1.0.12                 viridis_0.6.5              \n",
       "[23] viridisLite_0.4.2           Matrix_1.6-1.1             \n",
       "[25] SeuratObject_5.0.0          Seurat_4.4.0               \n",
       "[27] lubridate_1.9.3             forcats_1.0.0              \n",
       "[29] stringr_1.5.1               dplyr_1.1.4                \n",
       "[31] purrr_1.0.2                 readr_2.1.5                \n",
       "[33] tidyr_1.3.1                 tibble_3.2.1               \n",
       "[35] ggplot2_3.5.1               tidyverse_2.0.0            \n",
       "\n",
       "loaded via a namespace (and not attached):\n",
       "  [1] RcppAnnoy_0.0.22        splines_4.3.1           later_1.3.2            \n",
       "  [4] pbdZMQ_0.3-11           bitops_1.0-7            polyclip_1.10-6        \n",
       "  [7] lifecycle_1.0.4         rstatix_0.7.2           globals_0.16.3         \n",
       " [10] lattice_0.22-6          hdf5r_1.3.10            MASS_7.3-60            \n",
       " [13] backports_1.5.0         magrittr_2.0.3          httpuv_1.6.15          \n",
       " [16] sctransform_0.4.1       spam_2.10-0             sp_2.1-4               \n",
       " [19] spatstat.sparse_3.1-0   reticulate_1.38.0       cowplot_1.1.3          \n",
       " [22] pbapply_1.7-2           minqa_1.2.7             RColorBrewer_1.1-3     \n",
       " [25] abind_1.4-5             zlibbioc_1.46.0         Rtsne_0.17             \n",
       " [28] RCurl_1.98-1.14         GenomeInfoDbData_1.2.10 irlba_2.3.5.1          \n",
       " [31] listenv_0.9.1           spatstat.utils_3.0-5    goftest_1.2-3          \n",
       " [34] spatstat.random_3.2-3   fitdistrplus_1.1-11     parallelly_1.37.1      \n",
       " [37] leiden_0.4.3.1          codetools_0.2-20        DelayedArray_0.26.7    \n",
       " [40] tidyselect_1.2.1        farver_2.1.2            base64enc_0.1-3        \n",
       " [43] spatstat.explore_3.2-7  jsonlite_1.8.8          progressr_0.14.0       \n",
       " [46] ggridges_0.5.6          survival_3.7-0          systemfonts_1.1.0      \n",
       " [49] tools_4.3.1             ragg_1.2.5              ica_1.0-3              \n",
       " [52] glue_1.7.0              gridExtra_2.3           xfun_0.45              \n",
       " [55] IRdisplay_1.1           withr_3.0.0             fastmap_1.2.0          \n",
       " [58] boot_1.3-30             fansi_1.0.6             digest_0.6.36          \n",
       " [61] timechange_0.3.0        R6_2.5.1                mime_0.12              \n",
       " [64] textshaping_0.4.0       colorspace_2.1-0        Cairo_1.6-2            \n",
       " [67] scattermore_1.2         tensor_1.5              spatstat.data_3.1-2    \n",
       " [70] utf8_1.2.4              generics_0.1.3          data.table_1.15.4      \n",
       " [73] httr_1.4.7              htmlwidgets_1.6.4       S4Arrays_1.0.6         \n",
       " [76] uwot_0.2.2              pkgconfig_2.0.3         gtable_0.3.5           \n",
       " [79] lmtest_0.9-40           XVector_0.40.0          htmltools_0.5.8.1      \n",
       " [82] carData_3.0-5           dotCall64_1.1-1         scales_1.3.0           \n",
       " [85] png_0.1-8               tzdb_0.4.0              reshape2_1.4.4         \n",
       " [88] uuid_1.2-0              nlme_3.1-165            nloptr_2.0.3           \n",
       " [91] repr_1.1.7              zoo_1.8-12              KernSmooth_2.23-24     \n",
       " [94] parallel_4.3.1          miniUI_0.1.1.1          pillar_1.9.0           \n",
       " [97] grid_4.3.1              vctrs_0.6.5             RANN_2.6.1             \n",
       "[100] promises_1.3.0          car_3.1-2               xtable_1.8-4           \n",
       "[103] cluster_2.1.6           evaluate_0.24.0         cli_3.6.3              \n",
       "[106] compiler_4.3.1          rlang_1.1.4             crayon_1.5.3           \n",
       "[109] ggsignif_0.6.4          labeling_0.4.3          plyr_1.8.9             \n",
       "[112] stringi_1.8.4           deldir_2.0-4            munsell_0.5.1          \n",
       "[115] lazyeval_0.2.2          spatstat.geom_3.2-9     IRkernel_1.3.2         \n",
       "[118] hms_1.1.3               patchwork_1.2.0         bit64_4.0.5            \n",
       "[121] shiny_1.8.1.1           ROCR_1.0-11             igraph_2.0.3           \n",
       "[124] broom_1.0.6             bit_4.0.5              "
      ]
     },
     "metadata": {},
     "output_type": "display_data"
    }
   ],
   "source": [
    "sessionInfo()"
   ]
  },
  {
   "cell_type": "code",
   "execution_count": null,
   "id": "81a60e33-00ba-4fba-892f-b2f1af66b547",
   "metadata": {},
   "outputs": [],
   "source": []
  }
 ],
 "metadata": {
  "kernelspec": {
   "display_name": "r_scrna",
   "language": "R",
   "name": "r_scrna"
  },
  "language_info": {
   "codemirror_mode": "r",
   "file_extension": ".r",
   "mimetype": "text/x-r-source",
   "name": "R",
   "pygments_lexer": "r",
   "version": "4.3.1"
  }
 },
 "nbformat": 4,
 "nbformat_minor": 5
}
