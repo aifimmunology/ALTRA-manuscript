{
 "cells": [
  {
   "cell_type": "markdown",
   "id": "a8f36123-1b8f-48f7-976b-aeac87987a38",
   "metadata": {},
   "source": [
    "## CD8 Naive cells Gene module Plot"
   ]
  },
  {
   "cell_type": "code",
   "execution_count": 1,
   "id": "7ebc94f4-c2d5-43a7-8ff6-26ba7b6fc5b3",
   "metadata": {},
   "outputs": [],
   "source": [
    "\n",
    "# load libraries\n",
    "quiet_library <- function(...) {\n",
    "    suppressPackageStartupMessages(library(...))\n",
    "}\n",
    "quiet_library(tidyverse)\n",
    "quiet_library(Seurat)\n",
    "quiet_library(ggplot2)\n",
    "quiet_library(Matrix)\n",
    "quiet_library(dplyr)\n",
    "quiet_library(viridis)\n",
    "quiet_library(harmony)\n",
    "quiet_library(future)\n",
    "quiet_library(future.apply)\n",
    "quiet_library(SingleCellExperiment)\n",
    "quiet_library(SeuratDisk)\n",
    "quiet_library(ggpubr)\n",
    "quiet_library(knitr)\n",
    "quiet_library(plotly)\n",
    "quiet_library(lme4)\n",
    "quiet_library(ggpubr)\n",
    "quiet_library(ggrepel)\n",
    "quiet_library(ggthemes)\n",
    "quiet_library(GSVA)\n",
    "quiet_library(tidyr)\n",
    "quiet_library(SummarizedExperiment)"
   ]
  },
  {
   "cell_type": "code",
   "execution_count": 2,
   "id": "b135b251-d0e4-4123-b29b-76dc0ee8a2d1",
   "metadata": {},
   "outputs": [
    {
     "data": {
      "text/html": [
       "<strong>system:</strong> 64"
      ],
      "text/latex": [
       "\\textbf{system:} 64"
      ],
      "text/markdown": [
       "**system:** 64"
      ],
      "text/plain": [
       "system \n",
       "    64 "
      ]
     },
     "metadata": {},
     "output_type": "display_data"
    }
   ],
   "source": [
    "# Check number of cores\n",
    "future::availableCores()\n",
    "# Set up parallel processing to run when using 'future' functions \n",
    "future::plan(strategy = \"multicore\", workers = future::availableCores()-5)  \n",
    "options(future.globals.maxSize = 1000 * 1024^3)\n",
    "# to turn off parallel processing run line below\n",
    "# future::plan(strategy = \"sequential\")"
   ]
  },
  {
   "cell_type": "code",
   "execution_count": 3,
   "id": "a723f165-8cc0-4d6b-a175-c8cb5d5f9c47",
   "metadata": {},
   "outputs": [],
   "source": [
    "# define the color palette to be used\n",
    "npg_color <- c(\"#E64B35FF\", \"#4DBBD5FF\", \"#00A087FF\", \"#3C5488FF\", \"#F39B7FFF\", \n",
    "               \"#8491B4FF\", \"#91D1C2FF\", \"#DC0000FF\", \"#7E6148FF\", \"#B09C85FF\")\n",
    "nejm_color <- c(\"#BC3C29FF\", \"#0072B5FF\", \"#E18727FF\", \"#20854EFF\", \"#7876B1FF\", \"#6F99ADFF\", \"#FFDC91FF\", \"#EE4C97FF\")\n",
    "jama_color <- c(\"#374E55FF\", \"#DF8F44FF\", \"#00A1D5FF\", \"#B24745FF\", \"#79AF97FF\", \"#6A6599FF\", \"#80796BFF\")\n",
    "jco_color <- c(\"#0073C2FF\", \"#EFC000FF\", \"#868686FF\", \"#CD534CFF\", \"#7AA6DCFF\", \"#003C67FF\", \"#8F7700FF\")\n",
    "cluster_colors <- c(\"#DC050C\", \"#FB8072\", \"#1965B0\", \"#7BAFDE\", \"#882E72\", \"#B17BA6\", \"#FF7F00\", \"#FDB462\", \"#E7298A\", \n",
    "    \"#E78AC3\", \"#33A02C\", \"#B2DF8A\", \"#55A1B1\", \"#8DD3C7\", \"#A6761D\", \"#E6AB02\", \"#7570B3\", \"#BEAED4\", \"#666666\", \"#999999\", \n",
    "    \"#aa8282\", \"#d4b7b7\", \"#8600bf\", \"#ba5ce3\", \"#808000\", \"#aeae5c\", \"#1e90ff\", \"#00bfff\", \"#56ff0d\", \"#ffff00\")\n",
    "coolors_clrs<-c(\"#EFB0A1\",\"#009FF5\",\"#1A5E9B\",\"#42E2B8\",\"#4ECDC4\",\"#89B6A5\",\"#F1D26A\",\"#D5B0AC\",\"#EDABB1\",\"#02504D\",\"#AA9674\",\"#E64B35FF\",\"#4DBBD5FF\",\"#00A087FF\")\n",
    "\n",
    "cluster_colors_ext <- colorRampPalette(cluster_colors)(36)\n",
    "options(repr.plot.width =5, repr.plot.height =5)"
   ]
  },
  {
   "cell_type": "code",
   "execution_count": 4,
   "id": "f0b69866-0880-427f-9807-f1e90982d259",
   "metadata": {},
   "outputs": [],
   "source": [
    "fig_path=\"/home/jupyter/ALTRA_ANALYSIS/Deep_clean/Figure_files/Certpro_figures/Plots_for_manuscript/\""
   ]
  },
  {
   "cell_type": "code",
   "execution_count": 5,
   "id": "84567bef-7c50-4241-9b17-5358d608701f",
   "metadata": {},
   "outputs": [],
   "source": [
    "\n",
    "#' # Function: run_gsva_analysis\n",
    "#' # This function runs Gene Set Variation Analysis (GSVA) for pseudobulk objects with user-defined gene sets.\n",
    "#' # It filters metadata, runs GSVA, and merges results with external ALTRA data for further analysis.\n",
    "#'\n",
    "#' @param psb_object The pseudobulk object from which expression data will be extracted.\n",
    "#' @param cell_type The cell type to be analyzed.\n",
    "#' @param gene_csv CSV file containing the gene list with upregulated and downregulated genes.\n",
    "#' @param metadata_csv CSV file containing the metadata for samples.\n",
    "#' @param altra_csv CSV file containing ALTRA cohort data for merging.\n",
    "#' @param output_csv Path to save the GSVA results in CSV format.\n",
    "#' @param gsva_method The GSVA method to be used, default is \"gsva\".\n",
    "#'\n",
    "#' @return A list containing the GSVA results in wide format and the filtered metadata.\n",
    "#' \n",
    "#' @details \n",
    "#' This function performs GSVA on the specified cell type in the pseudobulk object, using upregulated and downregulated genes.\n",
    "#' It saves the GSVA results in a CSV and also merges the metadata with ALTRA cohort data for downstream analysis.\n",
    "#' The filtering steps remove male samples and limit the data to days_to_conversion >= -750.\n",
    "\n",
    "run_gsva_analysis <- function(psb_object, cell_type, gene_csv, metadata_csv, altra_csv, output_csv, gsva_method = \"gsva\") {\n",
    "  # Read pseudobulk object and gene list\n",
    "  psb_obj <- psb_object[[cell_type]]\n",
    "  act_df <- read.csv(gene_csv)\n",
    "  \n",
    "  # Create direction column\n",
    "  #act_df$direction <- ifelse(act_df$estimate > 0, \"up\", \"down\")\n",
    "  \n",
    "  # Extract gene lists\n",
    "  up_act_genes <- act_df$upreg_gene\n",
    "  down_act_genes <- act_df$downreg_gene\n",
    "  \n",
    "  # Extract expression matrix from pseudobulk object\n",
    "  expr_matrix <- assay(psb_obj, \"vst\")\n",
    "  \n",
    "  # Create gene set index list\n",
    "  gset.idx.list <- list(\n",
    "    up_act_genes = up_act_genes,\n",
    "    down_act_genes = down_act_genes\n",
    "  )\n",
    "  \n",
    "  # Run GSVA\n",
    "  gsva_results <- gsva(\n",
    "    expr = expr_matrix,\n",
    "    gset.idx.list = gset.idx.list,\n",
    "    #method = gsva_method,\n",
    "    abs.ranking = FALSE\n",
    "    #ssgsea.norm = TRUE\n",
    "  )\n",
    "  \n",
    "  # Convert results to DataFrame and long format\n",
    "  gsva_df <- as.data.frame(gsva_results) %>%\n",
    "    rownames_to_column(var = \"gene_type\") %>%\n",
    "    pivot_longer(cols = -gene_type, names_to = \"sample.sampleKitGuid\", values_to = \"expression\")\n",
    "  \n",
    "  # Convert to wide format\n",
    "  df_wide <- gsva_df %>%\n",
    "    pivot_wider(names_from = gene_type, values_from = expression)\n",
    "  \n",
    "  # Save GSVA results to CSV\n",
    "  write.csv(df_wide, output_csv)\n",
    "  \n",
    "  # Read and filter metadata\n",
    "  meta <- read.csv(metadata_csv) %>%\n",
    "    filter(subject.subjectGuid != \"CU1015\") %>%\n",
    "    filter(Status_Long %in% c(\"pre\", \"conversion\")) %>%\n",
    "    select(Status_Long, sample.sampleKitGuid, days_to_conversion, subject.biologicalSex, subject.subjectGuid, bmi_conv, age_conv)\n",
    "  \n",
    "  # Read and merge with ALTRA data\n",
    "  altra <- read.csv(altra_csv) %>%\n",
    "    select(sample.sampleKitGuid, s1_ids, Status_new)\n",
    "  \n",
    "  merged_df <- left_join(meta, altra, by = \"sample.sampleKitGuid\") %>%\n",
    "    filter(days_to_conversion >= -750) %>%\n",
    "    filter(subject.biologicalSex != \"Male\") %>%\n",
    "    drop_na()\n",
    "  \n",
    "  return(list(gsva_results = df_wide, merged_metadata = merged_df))\n",
    "}\n",
    "\n"
   ]
  },
  {
   "cell_type": "code",
   "execution_count": 6,
   "id": "7056245c-e1b1-48ba-9b16-c9393810c9d2",
   "metadata": {},
   "outputs": [],
   "source": [
    "#' # Example usage of PlotFreqLinePlot function\n",
    "#' # This function plots frequency line plots with model predictions.\n",
    "#' PlotFreqLinePlot1(frequency_table, model_fit, palette, fig_path = \"path/to/save\", fig_name = \"fig_name\",\n",
    "#'                  x_var = \"days_to_conversion\", y_var = \"clr\", color_var = \"subject.subjectGuid\",\n",
    "#'                  shape_var = \"sex\", title = \"Cluster 9\", x_label = \"Days to Conversion\", \n",
    "#'                  y_label = \"CLR\", annotation_text = \"p=0.055\", annotation_x = -600, \n",
    "#'                  annotation_y = 1, annotation_color = \"red\")\n",
    "#'\n",
    "#' @export\n",
    "#' @param frequency_table The input data frame containing frequency values to plot.\n",
    "#' @param model_fit A fitted model object for predictions.\n",
    "#' @param palette A color palette for the plot.\n",
    "#' @param fig_path The file path where the plot will be saved (optional).\n",
    "#' @param fig_name The name of the file where the plot will be saved (optional).\n",
    "#' @param x_var The variable for the x-axis (default is \"days_to_conversion\").\n",
    "#' @param y_var The variable for the y-axis (default is \"clr\").\n",
    "#' @param color_var The variable to determine line colors (default is \"subject.subjectGuid\").\n",
    "#' @param shape_var The variable to determine point shapes (default is \"sex\").\n",
    "#' @param title The title of the plot.\n",
    "#' @param x_label The x-axis label (default is \"Days to Conversion\").\n",
    "#' @param y_label The y-axis label (default is \"CLR\").\n",
    "#' @param annotation_text Text for annotation on the plot.\n",
    "#' @param annotation_x X coordinate for the annotation.\n",
    "#' @param annotation_y Y coordinate for the annotation.\n",
    "#' @param annotation_color Color of the annotation text.\n",
    "\n",
    "\n",
    "PlotFreqLinePlot1 <- function(frequency_table, model_fit, palette, fig_path = NULL, fig_name = NULL,\n",
    "                             x_var = \"days_to_conversion\", y_var = \"clr\", color_var = \"subject.subjectGuid\",\n",
    "                             shape_var = \"sex\", title = \"Cluster 9\", x_label = \"Days to Conversion\", \n",
    "                             y_label = \"CLR\", \n",
    "                              #annotation_text = \"padj=\", \n",
    "                              annotation_x = -600, \n",
    "                             annotation_y = 1, annotation_color = \"red\", x_limits = NULL, y_limits = NULL) {\n",
    "    require(ggplot2)\n",
    "    require(ggeffects)\n",
    "\n",
    "    # Extract the prediction data frame\n",
    "    pred.mm <- ggpredict(model_fit, terms = c(x_var))  # Adjusted to use x_var\n",
    "\n",
    "    # plot\n",
    "    p1 <- frequency_table %>%\n",
    "        ggplot() +\n",
    "        geom_line(aes(x = .data[[x_var]], y = .data[[y_var]], color = .data[[color_var]]), size = 1) + \n",
    "        geom_point(aes(x = .data[[x_var]], y = .data[[y_var]], shape = .data[[shape_var]])) + \n",
    "        geom_line(data = pred.mm, aes(x = x, y = predicted), color = \"#8F7700FF\", size = 2) +          \n",
    "        geom_ribbon(data = pred.mm, aes(x = x, ymin = predicted - 3 * std.error, ymax = predicted + 3 * std.error), \n",
    "                    fill = \"#8F7700FF\", alpha = 0.3) + \n",
    "        #annotate(geom = \"text\", x = annotation_x, y = annotation_y, label = annotation_text, size = 6,\n",
    "                # color = annotation_color) +\n",
    "        labs(title = title) + \n",
    "        xlab(x_label) +  \n",
    "        ylab(y_label) +\n",
    "        scale_color_manual(values = palette) + \n",
    "        theme_few()+\n",
    "        theme(\n",
    "            text = element_text(size = 10, face = \"bold\"),  \n",
    "            axis.title = element_text(size = 10, face = \"bold\"),  \n",
    "            axis.text = element_text(size = 10, face = \"bold\"),  \n",
    "            plot.title = element_text(size = 10, face = \"bold\"),  \n",
    "            legend.position = \"none\",  # Remove all legends\n",
    "            panel.grid.minor = element_blank(),\n",
    "            panel.grid.major = element_blank(),\n",
    "            panel.background = element_blank()\n",
    "        ) +\n",
    "        scale_shape_manual(values = c(1, 2))  # No need for guides() here\n",
    "\n",
    "    # Adjust the scale of x and y axes if limits are provided\n",
    "    if (!is.null(x_limits)) {\n",
    "        p1 <- p1 + scale_x_continuous(limits = x_limits)\n",
    "    }\n",
    "    if (!is.null(y_limits)) {\n",
    "        p1 <- p1 + scale_y_continuous(limits = y_limits)\n",
    "    }\n",
    "\n",
    "    # Code to save the plot if fig_path and fig_name are provided\n",
    "    if (!missing(fig_path) && !missing(fig_name) && nzchar(fig_path) && nzchar(fig_name)) {\n",
    "        # Construct the full file path with the figure name and desired file extension\n",
    "        file_name <- paste0(fig_path, \"/\", fig_name)\n",
    "        # Use ggsave to save the plot\n",
    "        ggsave(file_name, plot = p1, width = 4, height = 4, dpi = 300)\n",
    "    }\n",
    "    return(p1)\n",
    "}\n"
   ]
  },
  {
   "cell_type": "code",
   "execution_count": 7,
   "id": "31491274-bb6e-4f34-832f-e10309919d0e",
   "metadata": {},
   "outputs": [],
   "source": [
    "#reading the psb object\n",
    "a3_psb=readRDS(\"/home/jupyter/ALTRA_ANALYSIS/Deep_clean/certpro/input_files/Zi_pseudobulk obj/cache/710ae367-e37a-44f3-8e50-9b8d7c76a439/ALTRA_AIM3_certpro_scRNA_Pseudobulk_AIFI_l3__deseq2_norm_counts_list.rds\")"
   ]
  },
  {
   "cell_type": "code",
   "execution_count": 8,
   "id": "1d9e676c-ee51-48b9-9b37-6edeb807ef03",
   "metadata": {},
   "outputs": [
    {
     "name": "stdout",
     "output_type": "stream",
     "text": [
      "Estimating GSVA scores for 2 gene sets.\n",
      "Estimating ECDFs with Gaussian kernels\n",
      "  |======================================================================| 100%\n",
      "\n"
     ]
    }
   ],
   "source": [
    "# Example of how to use the function\n",
    "result <- run_gsva_analysis(\n",
    "  psb_object = a3_psb,\n",
    "  cell_type = \"Core naive CD8 T cell\",\n",
    "  gene_csv = \"/home/jupyter/ALTRA_ANALYSIS/Deep_clean/certpro/input_files/CSV_input_files/ALTRA_AIM3_certpro_scRNA_Pseudobulk_AIFI_l3_mixed_models_time_result_750days - FINAL COMBINED Activation Signature.csv\",\n",
    "  metadata_csv = \"/home/jupyter/ALTRA_ANALYSIS/Deep_clean/AIM3/input_csv_files/2023-11-22_ALTRA_Metadata_labs.csv\",\n",
    "  altra_csv = \"/home/jupyter/ALTRA_ANALYSIS/Deep_clean/Figure_notebooks/files/input_files/certpro_Zi_files/Figure_input_files/ALTRA_Fig1_Master_meta\n",
    "                    .csv\",\n",
    "  output_csv = \"/home/jupyter/ALTRA_ANALYSIS/Deep_clean/Figure_notebooks/files/outputfiles/ALTRA_CD8_naive_gsva_up_down_gene_module_scores.csv\"\n",
    ")\n",
    "\n",
    "# Access the results\n",
    "gsva_results_df <- result$gsva_results\n",
    "filtered_metadata_df <- result$merged_metadata\n"
   ]
  },
  {
   "cell_type": "code",
   "execution_count": 9,
   "id": "d6dc544e-2b2d-467c-9da3-e3f2efef8bce",
   "metadata": {},
   "outputs": [],
   "source": [
    "# Access the results\n",
    "gsva_results_df <- result$gsva_results\n",
    "filtered_metadata_df <- result$merged_metadata"
   ]
  },
  {
   "cell_type": "code",
   "execution_count": 10,
   "id": "f9f91f2f-82b2-4972-b975-6af200304d02",
   "metadata": {},
   "outputs": [
    {
     "data": {
      "text/html": [
       "<table class=\"dataframe\">\n",
       "<caption>A data.frame: 6 × 9</caption>\n",
       "<thead>\n",
       "\t<tr><th></th><th scope=col>Status_Long</th><th scope=col>sample.sampleKitGuid</th><th scope=col>days_to_conversion</th><th scope=col>subject.biologicalSex</th><th scope=col>subject.subjectGuid</th><th scope=col>bmi_conv</th><th scope=col>age_conv</th><th scope=col>s1_ids</th><th scope=col>Status_new</th></tr>\n",
       "\t<tr><th></th><th scope=col>&lt;chr&gt;</th><th scope=col>&lt;chr&gt;</th><th scope=col>&lt;int&gt;</th><th scope=col>&lt;chr&gt;</th><th scope=col>&lt;chr&gt;</th><th scope=col>&lt;dbl&gt;</th><th scope=col>&lt;int&gt;</th><th scope=col>&lt;chr&gt;</th><th scope=col>&lt;chr&gt;</th></tr>\n",
       "</thead>\n",
       "<tbody>\n",
       "\t<tr><th scope=row>1</th><td>pre</td><td>KT00052</td><td>-714</td><td>Female</td><td>CU1009</td><td>25.64892</td><td>58</td><td>ARI36</td><td>LONG</td></tr>\n",
       "\t<tr><th scope=row>2</th><td>pre</td><td>KT00056</td><td>-632</td><td>Female</td><td>CU1007</td><td>26.19498</td><td>44</td><td>ARI46</td><td>LONG</td></tr>\n",
       "\t<tr><th scope=row>3</th><td>pre</td><td>KT00057</td><td>-615</td><td>Female</td><td>CU1003</td><td>23.14306</td><td>23</td><td>ARI35</td><td>LONG</td></tr>\n",
       "\t<tr><th scope=row>4</th><td>pre</td><td>KT00082</td><td>-540</td><td>Female</td><td>CU1007</td><td>26.19498</td><td>44</td><td>ARI46</td><td>LONG</td></tr>\n",
       "\t<tr><th scope=row>5</th><td>pre</td><td>KT00084</td><td>-614</td><td>Female</td><td>CU1029</td><td>28.67547</td><td>66</td><td>ARI37</td><td>LONG</td></tr>\n",
       "\t<tr><th scope=row>6</th><td>pre</td><td>KT00099</td><td>-516</td><td>Female</td><td>CU1003</td><td>23.14306</td><td>23</td><td>ARI35</td><td>LONG</td></tr>\n",
       "</tbody>\n",
       "</table>\n"
      ],
      "text/latex": [
       "A data.frame: 6 × 9\n",
       "\\begin{tabular}{r|lllllllll}\n",
       "  & Status\\_Long & sample.sampleKitGuid & days\\_to\\_conversion & subject.biologicalSex & subject.subjectGuid & bmi\\_conv & age\\_conv & s1\\_ids & Status\\_new\\\\\n",
       "  & <chr> & <chr> & <int> & <chr> & <chr> & <dbl> & <int> & <chr> & <chr>\\\\\n",
       "\\hline\n",
       "\t1 & pre & KT00052 & -714 & Female & CU1009 & 25.64892 & 58 & ARI36 & LONG\\\\\n",
       "\t2 & pre & KT00056 & -632 & Female & CU1007 & 26.19498 & 44 & ARI46 & LONG\\\\\n",
       "\t3 & pre & KT00057 & -615 & Female & CU1003 & 23.14306 & 23 & ARI35 & LONG\\\\\n",
       "\t4 & pre & KT00082 & -540 & Female & CU1007 & 26.19498 & 44 & ARI46 & LONG\\\\\n",
       "\t5 & pre & KT00084 & -614 & Female & CU1029 & 28.67547 & 66 & ARI37 & LONG\\\\\n",
       "\t6 & pre & KT00099 & -516 & Female & CU1003 & 23.14306 & 23 & ARI35 & LONG\\\\\n",
       "\\end{tabular}\n"
      ],
      "text/markdown": [
       "\n",
       "A data.frame: 6 × 9\n",
       "\n",
       "| <!--/--> | Status_Long &lt;chr&gt; | sample.sampleKitGuid &lt;chr&gt; | days_to_conversion &lt;int&gt; | subject.biologicalSex &lt;chr&gt; | subject.subjectGuid &lt;chr&gt; | bmi_conv &lt;dbl&gt; | age_conv &lt;int&gt; | s1_ids &lt;chr&gt; | Status_new &lt;chr&gt; |\n",
       "|---|---|---|---|---|---|---|---|---|---|\n",
       "| 1 | pre | KT00052 | -714 | Female | CU1009 | 25.64892 | 58 | ARI36 | LONG |\n",
       "| 2 | pre | KT00056 | -632 | Female | CU1007 | 26.19498 | 44 | ARI46 | LONG |\n",
       "| 3 | pre | KT00057 | -615 | Female | CU1003 | 23.14306 | 23 | ARI35 | LONG |\n",
       "| 4 | pre | KT00082 | -540 | Female | CU1007 | 26.19498 | 44 | ARI46 | LONG |\n",
       "| 5 | pre | KT00084 | -614 | Female | CU1029 | 28.67547 | 66 | ARI37 | LONG |\n",
       "| 6 | pre | KT00099 | -516 | Female | CU1003 | 23.14306 | 23 | ARI35 | LONG |\n",
       "\n"
      ],
      "text/plain": [
       "  Status_Long sample.sampleKitGuid days_to_conversion subject.biologicalSex\n",
       "1 pre         KT00052              -714               Female               \n",
       "2 pre         KT00056              -632               Female               \n",
       "3 pre         KT00057              -615               Female               \n",
       "4 pre         KT00082              -540               Female               \n",
       "5 pre         KT00084              -614               Female               \n",
       "6 pre         KT00099              -516               Female               \n",
       "  subject.subjectGuid bmi_conv age_conv s1_ids Status_new\n",
       "1 CU1009              25.64892 58       ARI36  LONG      \n",
       "2 CU1007              26.19498 44       ARI46  LONG      \n",
       "3 CU1003              23.14306 23       ARI35  LONG      \n",
       "4 CU1007              26.19498 44       ARI46  LONG      \n",
       "5 CU1029              28.67547 66       ARI37  LONG      \n",
       "6 CU1003              23.14306 23       ARI35  LONG      "
      ]
     },
     "metadata": {},
     "output_type": "display_data"
    },
    {
     "data": {
      "text/html": [
       "<table class=\"dataframe\">\n",
       "<caption>A tibble: 6 × 3</caption>\n",
       "<thead>\n",
       "\t<tr><th scope=col>sample.sampleKitGuid</th><th scope=col>up_act_genes</th><th scope=col>down_act_genes</th></tr>\n",
       "\t<tr><th scope=col>&lt;chr&gt;</th><th scope=col>&lt;dbl&gt;</th><th scope=col>&lt;dbl&gt;</th></tr>\n",
       "</thead>\n",
       "<tbody>\n",
       "\t<tr><td>KT00052</td><td>-0.5979132</td><td> 0.5912985</td></tr>\n",
       "\t<tr><td>KT00056</td><td>-0.1793926</td><td> 0.4440656</td></tr>\n",
       "\t<tr><td>KT00057</td><td>-0.5064027</td><td> 0.6019766</td></tr>\n",
       "\t<tr><td>KT00082</td><td> 0.2813628</td><td>-0.1025245</td></tr>\n",
       "\t<tr><td>KT00084</td><td> 0.3584715</td><td>-0.1316312</td></tr>\n",
       "\t<tr><td>KT00099</td><td>-0.1780630</td><td> 0.2289557</td></tr>\n",
       "</tbody>\n",
       "</table>\n"
      ],
      "text/latex": [
       "A tibble: 6 × 3\n",
       "\\begin{tabular}{lll}\n",
       " sample.sampleKitGuid & up\\_act\\_genes & down\\_act\\_genes\\\\\n",
       " <chr> & <dbl> & <dbl>\\\\\n",
       "\\hline\n",
       "\t KT00052 & -0.5979132 &  0.5912985\\\\\n",
       "\t KT00056 & -0.1793926 &  0.4440656\\\\\n",
       "\t KT00057 & -0.5064027 &  0.6019766\\\\\n",
       "\t KT00082 &  0.2813628 & -0.1025245\\\\\n",
       "\t KT00084 &  0.3584715 & -0.1316312\\\\\n",
       "\t KT00099 & -0.1780630 &  0.2289557\\\\\n",
       "\\end{tabular}\n"
      ],
      "text/markdown": [
       "\n",
       "A tibble: 6 × 3\n",
       "\n",
       "| sample.sampleKitGuid &lt;chr&gt; | up_act_genes &lt;dbl&gt; | down_act_genes &lt;dbl&gt; |\n",
       "|---|---|---|\n",
       "| KT00052 | -0.5979132 |  0.5912985 |\n",
       "| KT00056 | -0.1793926 |  0.4440656 |\n",
       "| KT00057 | -0.5064027 |  0.6019766 |\n",
       "| KT00082 |  0.2813628 | -0.1025245 |\n",
       "| KT00084 |  0.3584715 | -0.1316312 |\n",
       "| KT00099 | -0.1780630 |  0.2289557 |\n",
       "\n"
      ],
      "text/plain": [
       "  sample.sampleKitGuid up_act_genes down_act_genes\n",
       "1 KT00052              -0.5979132    0.5912985    \n",
       "2 KT00056              -0.1793926    0.4440656    \n",
       "3 KT00057              -0.5064027    0.6019766    \n",
       "4 KT00082               0.2813628   -0.1025245    \n",
       "5 KT00084               0.3584715   -0.1316312    \n",
       "6 KT00099              -0.1780630    0.2289557    "
      ]
     },
     "metadata": {},
     "output_type": "display_data"
    }
   ],
   "source": [
    "filtered_metadata_df%>%head()\n",
    "gsva_results_df%>%head()"
   ]
  },
  {
   "cell_type": "code",
   "execution_count": 11,
   "id": "42c4f079-cff5-4b9d-97e0-3c1abc3fd772",
   "metadata": {},
   "outputs": [
    {
     "data": {
      "text/html": [
       "<style>\n",
       ".list-inline {list-style: none; margin:0; padding: 0}\n",
       ".list-inline>li {display: inline-block}\n",
       ".list-inline>li:not(:last-child)::after {content: \"\\00b7\"; padding: 0 .5ex}\n",
       "</style>\n",
       "<ol class=list-inline><li>58</li><li>11</li></ol>\n"
      ],
      "text/latex": [
       "\\begin{enumerate*}\n",
       "\\item 58\n",
       "\\item 11\n",
       "\\end{enumerate*}\n"
      ],
      "text/markdown": [
       "1. 58\n",
       "2. 11\n",
       "\n",
       "\n"
      ],
      "text/plain": [
       "[1] 58 11"
      ]
     },
     "metadata": {},
     "output_type": "display_data"
    },
    {
     "data": {
      "text/html": [
       "<table class=\"dataframe\">\n",
       "<caption>A data.frame: 3 × 11</caption>\n",
       "<thead>\n",
       "\t<tr><th></th><th scope=col>Status_Long</th><th scope=col>sample.sampleKitGuid</th><th scope=col>days_to_conversion</th><th scope=col>subject.biologicalSex</th><th scope=col>subject.subjectGuid</th><th scope=col>bmi_conv</th><th scope=col>age_conv</th><th scope=col>s1_ids</th><th scope=col>Status_new</th><th scope=col>up_act_genes</th><th scope=col>down_act_genes</th></tr>\n",
       "\t<tr><th></th><th scope=col>&lt;chr&gt;</th><th scope=col>&lt;chr&gt;</th><th scope=col>&lt;int&gt;</th><th scope=col>&lt;chr&gt;</th><th scope=col>&lt;chr&gt;</th><th scope=col>&lt;dbl&gt;</th><th scope=col>&lt;int&gt;</th><th scope=col>&lt;chr&gt;</th><th scope=col>&lt;chr&gt;</th><th scope=col>&lt;dbl&gt;</th><th scope=col>&lt;dbl&gt;</th></tr>\n",
       "</thead>\n",
       "<tbody>\n",
       "\t<tr><th scope=row>1</th><td>pre</td><td>KT00052</td><td>-714</td><td>Female</td><td>CU1009</td><td>25.64892</td><td>58</td><td>ARI36</td><td>LONG</td><td>-0.5979132</td><td>0.5912985</td></tr>\n",
       "\t<tr><th scope=row>2</th><td>pre</td><td>KT00056</td><td>-632</td><td>Female</td><td>CU1007</td><td>26.19498</td><td>44</td><td>ARI46</td><td>LONG</td><td>-0.1793926</td><td>0.4440656</td></tr>\n",
       "\t<tr><th scope=row>3</th><td>pre</td><td>KT00057</td><td>-615</td><td>Female</td><td>CU1003</td><td>23.14306</td><td>23</td><td>ARI35</td><td>LONG</td><td>-0.5064027</td><td>0.6019766</td></tr>\n",
       "</tbody>\n",
       "</table>\n"
      ],
      "text/latex": [
       "A data.frame: 3 × 11\n",
       "\\begin{tabular}{r|lllllllllll}\n",
       "  & Status\\_Long & sample.sampleKitGuid & days\\_to\\_conversion & subject.biologicalSex & subject.subjectGuid & bmi\\_conv & age\\_conv & s1\\_ids & Status\\_new & up\\_act\\_genes & down\\_act\\_genes\\\\\n",
       "  & <chr> & <chr> & <int> & <chr> & <chr> & <dbl> & <int> & <chr> & <chr> & <dbl> & <dbl>\\\\\n",
       "\\hline\n",
       "\t1 & pre & KT00052 & -714 & Female & CU1009 & 25.64892 & 58 & ARI36 & LONG & -0.5979132 & 0.5912985\\\\\n",
       "\t2 & pre & KT00056 & -632 & Female & CU1007 & 26.19498 & 44 & ARI46 & LONG & -0.1793926 & 0.4440656\\\\\n",
       "\t3 & pre & KT00057 & -615 & Female & CU1003 & 23.14306 & 23 & ARI35 & LONG & -0.5064027 & 0.6019766\\\\\n",
       "\\end{tabular}\n"
      ],
      "text/markdown": [
       "\n",
       "A data.frame: 3 × 11\n",
       "\n",
       "| <!--/--> | Status_Long &lt;chr&gt; | sample.sampleKitGuid &lt;chr&gt; | days_to_conversion &lt;int&gt; | subject.biologicalSex &lt;chr&gt; | subject.subjectGuid &lt;chr&gt; | bmi_conv &lt;dbl&gt; | age_conv &lt;int&gt; | s1_ids &lt;chr&gt; | Status_new &lt;chr&gt; | up_act_genes &lt;dbl&gt; | down_act_genes &lt;dbl&gt; |\n",
       "|---|---|---|---|---|---|---|---|---|---|---|---|\n",
       "| 1 | pre | KT00052 | -714 | Female | CU1009 | 25.64892 | 58 | ARI36 | LONG | -0.5979132 | 0.5912985 |\n",
       "| 2 | pre | KT00056 | -632 | Female | CU1007 | 26.19498 | 44 | ARI46 | LONG | -0.1793926 | 0.4440656 |\n",
       "| 3 | pre | KT00057 | -615 | Female | CU1003 | 23.14306 | 23 | ARI35 | LONG | -0.5064027 | 0.6019766 |\n",
       "\n"
      ],
      "text/plain": [
       "  Status_Long sample.sampleKitGuid days_to_conversion subject.biologicalSex\n",
       "1 pre         KT00052              -714               Female               \n",
       "2 pre         KT00056              -632               Female               \n",
       "3 pre         KT00057              -615               Female               \n",
       "  subject.subjectGuid bmi_conv age_conv s1_ids Status_new up_act_genes\n",
       "1 CU1009              25.64892 58       ARI36  LONG       -0.5979132  \n",
       "2 CU1007              26.19498 44       ARI46  LONG       -0.1793926  \n",
       "3 CU1003              23.14306 23       ARI35  LONG       -0.5064027  \n",
       "  down_act_genes\n",
       "1 0.5912985     \n",
       "2 0.4440656     \n",
       "3 0.6019766     "
      ]
     },
     "metadata": {},
     "output_type": "display_data"
    }
   ],
   "source": [
    "mdf=left_join(filtered_metadata_df,gsva_results_df,by=\"sample.sampleKitGuid\")\n",
    "mdf%>%dim\n",
    "mdf%>%head(3)"
   ]
  },
  {
   "cell_type": "code",
   "execution_count": 12,
   "id": "19f94354-55c6-49ff-8b42-e98b23499922",
   "metadata": {},
   "outputs": [
    {
     "data": {
      "text/html": [
       "<style>\n",
       ".list-inline {list-style: none; margin:0; padding: 0}\n",
       ".list-inline>li {display: inline-block}\n",
       ".list-inline>li:not(:last-child)::after {content: \"\\00b7\"; padding: 0 .5ex}\n",
       "</style>\n",
       "<ol class=list-inline><li>50</li><li>11</li></ol>\n"
      ],
      "text/latex": [
       "\\begin{enumerate*}\n",
       "\\item 50\n",
       "\\item 11\n",
       "\\end{enumerate*}\n"
      ],
      "text/markdown": [
       "1. 50\n",
       "2. 11\n",
       "\n",
       "\n"
      ],
      "text/plain": [
       "[1] 50 11"
      ]
     },
     "metadata": {},
     "output_type": "display_data"
    },
    {
     "data": {
      "text/html": [
       "<table class=\"dataframe\">\n",
       "<caption>A data.frame: 3 × 11</caption>\n",
       "<thead>\n",
       "\t<tr><th></th><th scope=col>Status_Long</th><th scope=col>sample.sampleKitGuid</th><th scope=col>days_to_conversion</th><th scope=col>subject.biologicalSex</th><th scope=col>subject.subjectGuid</th><th scope=col>bmi_conv</th><th scope=col>age_conv</th><th scope=col>s1_ids</th><th scope=col>Status_new</th><th scope=col>up_act_genes</th><th scope=col>down_act_genes</th></tr>\n",
       "\t<tr><th></th><th scope=col>&lt;chr&gt;</th><th scope=col>&lt;chr&gt;</th><th scope=col>&lt;int&gt;</th><th scope=col>&lt;chr&gt;</th><th scope=col>&lt;chr&gt;</th><th scope=col>&lt;dbl&gt;</th><th scope=col>&lt;int&gt;</th><th scope=col>&lt;chr&gt;</th><th scope=col>&lt;chr&gt;</th><th scope=col>&lt;dbl&gt;</th><th scope=col>&lt;dbl&gt;</th></tr>\n",
       "</thead>\n",
       "<tbody>\n",
       "\t<tr><th scope=row>1</th><td>pre</td><td>KT00052</td><td>-714</td><td>Female</td><td>CU1009</td><td>25.64892</td><td>58</td><td>ARI36</td><td>LONG</td><td>-0.5979132</td><td>0.5912985</td></tr>\n",
       "\t<tr><th scope=row>2</th><td>pre</td><td>KT00056</td><td>-632</td><td>Female</td><td>CU1007</td><td>26.19498</td><td>44</td><td>ARI46</td><td>LONG</td><td>-0.1793926</td><td>0.4440656</td></tr>\n",
       "\t<tr><th scope=row>3</th><td>pre</td><td>KT00057</td><td>-615</td><td>Female</td><td>CU1003</td><td>23.14306</td><td>23</td><td>ARI35</td><td>LONG</td><td>-0.5064027</td><td>0.6019766</td></tr>\n",
       "</tbody>\n",
       "</table>\n"
      ],
      "text/latex": [
       "A data.frame: 3 × 11\n",
       "\\begin{tabular}{r|lllllllllll}\n",
       "  & Status\\_Long & sample.sampleKitGuid & days\\_to\\_conversion & subject.biologicalSex & subject.subjectGuid & bmi\\_conv & age\\_conv & s1\\_ids & Status\\_new & up\\_act\\_genes & down\\_act\\_genes\\\\\n",
       "  & <chr> & <chr> & <int> & <chr> & <chr> & <dbl> & <int> & <chr> & <chr> & <dbl> & <dbl>\\\\\n",
       "\\hline\n",
       "\t1 & pre & KT00052 & -714 & Female & CU1009 & 25.64892 & 58 & ARI36 & LONG & -0.5979132 & 0.5912985\\\\\n",
       "\t2 & pre & KT00056 & -632 & Female & CU1007 & 26.19498 & 44 & ARI46 & LONG & -0.1793926 & 0.4440656\\\\\n",
       "\t3 & pre & KT00057 & -615 & Female & CU1003 & 23.14306 & 23 & ARI35 & LONG & -0.5064027 & 0.6019766\\\\\n",
       "\\end{tabular}\n"
      ],
      "text/markdown": [
       "\n",
       "A data.frame: 3 × 11\n",
       "\n",
       "| <!--/--> | Status_Long &lt;chr&gt; | sample.sampleKitGuid &lt;chr&gt; | days_to_conversion &lt;int&gt; | subject.biologicalSex &lt;chr&gt; | subject.subjectGuid &lt;chr&gt; | bmi_conv &lt;dbl&gt; | age_conv &lt;int&gt; | s1_ids &lt;chr&gt; | Status_new &lt;chr&gt; | up_act_genes &lt;dbl&gt; | down_act_genes &lt;dbl&gt; |\n",
       "|---|---|---|---|---|---|---|---|---|---|---|---|\n",
       "| 1 | pre | KT00052 | -714 | Female | CU1009 | 25.64892 | 58 | ARI36 | LONG | -0.5979132 | 0.5912985 |\n",
       "| 2 | pre | KT00056 | -632 | Female | CU1007 | 26.19498 | 44 | ARI46 | LONG | -0.1793926 | 0.4440656 |\n",
       "| 3 | pre | KT00057 | -615 | Female | CU1003 | 23.14306 | 23 | ARI35 | LONG | -0.5064027 | 0.6019766 |\n",
       "\n"
      ],
      "text/plain": [
       "  Status_Long sample.sampleKitGuid days_to_conversion subject.biologicalSex\n",
       "1 pre         KT00052              -714               Female               \n",
       "2 pre         KT00056              -632               Female               \n",
       "3 pre         KT00057              -615               Female               \n",
       "  subject.subjectGuid bmi_conv age_conv s1_ids Status_new up_act_genes\n",
       "1 CU1009              25.64892 58       ARI36  LONG       -0.5979132  \n",
       "2 CU1007              26.19498 44       ARI46  LONG       -0.1793926  \n",
       "3 CU1003              23.14306 23       ARI35  LONG       -0.5064027  \n",
       "  down_act_genes\n",
       "1 0.5912985     \n",
       "2 0.4440656     \n",
       "3 0.6019766     "
      ]
     },
     "metadata": {},
     "output_type": "display_data"
    }
   ],
   "source": [
    "# removing NA\n",
    "mdf2=mdf%>%drop_na()\n",
    "mdf2%>%dim\n",
    "mdf2%>%head(3)"
   ]
  },
  {
   "cell_type": "code",
   "execution_count": 13,
   "id": "c9772f6a-e695-4f9f-a3ed-e4df5bbf3793",
   "metadata": {},
   "outputs": [],
   "source": [
    " # Fit the linear mixed-effects model\n",
    "up_genes_model <- lmerTest::lmer(up_act_genes ~ age_conv + bmi_conv + days_to_conversion + (1 | subject.subjectGuid), data = mdf2)"
   ]
  },
  {
   "cell_type": "code",
   "execution_count": 16,
   "id": "f4389b10-46be-4f4b-bddf-06ea6233063e",
   "metadata": {},
   "outputs": [
    {
     "data": {
      "image/png": "[encoded data removed]",
      "text/plain": [
       "plot without title"
      ]
     },
     "metadata": {
      "image/png": {
       "height": 300,
       "width": 300
      }
     },
     "output_type": "display_data"
    }
   ],
   "source": [
    "options(repr.plot.width =5, repr.plot.height =5)\n",
    "PlotFreqLinePlot1(mdf2 %>% mutate(Sex=subject.biologicalSex), model_fit=up_genes_model, palette=cluster_colors,\n",
    "                 fig_path = fig_path,fig_name =\"Fig_5D.pdf\",\n",
    "                  x_var = \"days_to_conversion\", y_var = \"up_act_genes\", color_var = \"subject.subjectGuid\",\n",
    "                  shape_var = \"Sex\", title = \" CD8 Naive Upregulated gene modules\", x_label = \"Days to Conversion\", \n",
    "                  y_label = \"Upregulated genes module score\", \n",
    "                 #annotation_text = \"pval=0.014\", \n",
    "                 #y_limits=c(-1,1.5),\n",
    "                 annotation_x = -600, \n",
    "                  annotation_y =1.7, annotation_color = \"black\")"
   ]
  },
  {
   "cell_type": "code",
   "execution_count": 17,
   "id": "3667780d-c519-4539-84e9-e4b3429075e1",
   "metadata": {},
   "outputs": [
    {
     "data": {
      "text/plain": [
       "R version 4.3.1 (2023-06-16)\n",
       "Platform: x86_64-conda-linux-gnu (64-bit)\n",
       "Running under: Ubuntu 20.04.6 LTS\n",
       "\n",
       "Matrix products: default\n",
       "BLAS/LAPACK: /home/jupyter/libs/r_scrna/lib/libopenblasp-r0.3.24.so;  LAPACK version 3.11.0\n",
       "\n",
       "locale:\n",
       " [1] LC_CTYPE=C.UTF-8       LC_NUMERIC=C           LC_TIME=C.UTF-8       \n",
       " [4] LC_COLLATE=C.UTF-8     LC_MONETARY=C.UTF-8    LC_MESSAGES=C.UTF-8   \n",
       " [7] LC_PAPER=C.UTF-8       LC_NAME=C              LC_ADDRESS=C          \n",
       "[10] LC_TELEPHONE=C         LC_MEASUREMENT=C.UTF-8 LC_IDENTIFICATION=C   \n",
       "\n",
       "time zone: Etc/UTC\n",
       "tzcode source: system (glibc)\n",
       "\n",
       "attached base packages:\n",
       "[1] stats4    stats     graphics  grDevices utils     datasets  methods  \n",
       "[8] base     \n",
       "\n",
       "other attached packages:\n",
       " [1] ggeffects_1.7.0             GSVA_1.48.3                \n",
       " [3] ggthemes_5.1.0              ggrepel_0.9.5              \n",
       " [5] lme4_1.1-34                 plotly_4.10.4              \n",
       " [7] knitr_1.47                  ggpubr_0.6.0               \n",
       " [9] SeuratDisk_0.0.0.9021       SingleCellExperiment_1.22.0\n",
       "[11] SummarizedExperiment_1.30.2 Biobase_2.60.0             \n",
       "[13] GenomicRanges_1.52.1        GenomeInfoDb_1.36.4        \n",
       "[15] IRanges_2.34.1              S4Vectors_0.38.2           \n",
       "[17] BiocGenerics_0.46.0         MatrixGenerics_1.12.3      \n",
       "[19] matrixStats_1.3.0           future.apply_1.11.2        \n",
       "[21] future_1.33.2               harmony_1.2.0              \n",
       "[23] Rcpp_1.0.12                 viridis_0.6.5              \n",
       "[25] viridisLite_0.4.2           Matrix_1.6-1.1             \n",
       "[27] SeuratObject_5.0.0          Seurat_4.4.0               \n",
       "[29] lubridate_1.9.3             forcats_1.0.0              \n",
       "[31] stringr_1.5.1               dplyr_1.1.4                \n",
       "[33] purrr_1.0.2                 readr_2.1.5                \n",
       "[35] tidyr_1.3.1                 tibble_3.2.1               \n",
       "[37] ggplot2_3.5.1               tidyverse_2.0.0            \n",
       "\n",
       "loaded via a namespace (and not attached):\n",
       "  [1] spatstat.sparse_3.1-0     bitops_1.0-7             \n",
       "  [3] httr_1.4.7                RColorBrewer_1.1-3       \n",
       "  [5] insight_0.20.1            repr_1.1.7               \n",
       "  [7] numDeriv_2016.8-1.1       tools_4.3.1              \n",
       "  [9] sctransform_0.4.1         backports_1.5.0          \n",
       " [11] sjlabelled_1.2.0          utf8_1.2.4               \n",
       " [13] R6_2.5.1                  HDF5Array_1.28.1         \n",
       " [15] lazyeval_0.2.2            uwot_0.2.2               \n",
       " [17] rhdf5filters_1.12.1       withr_3.0.0              \n",
       " [19] sp_2.1-4                  gridExtra_2.3            \n",
       " [21] progressr_0.14.0          cli_3.6.3                \n",
       " [23] textshaping_0.4.0         Cairo_1.6-2              \n",
       " [25] spatstat.explore_3.2-7    labeling_0.4.3           \n",
       " [27] spatstat.data_3.1-2       ggridges_0.5.6           \n",
       " [29] pbapply_1.7-2             systemfonts_1.1.0        \n",
       " [31] pbdZMQ_0.3-11             parallelly_1.37.1        \n",
       " [33] RSQLite_2.3.7             generics_0.1.3           \n",
       " [35] ica_1.0-3                 spatstat.random_3.2-3    \n",
       " [37] car_3.1-2                 fansi_1.0.6              \n",
       " [39] abind_1.4-5               lifecycle_1.0.4          \n",
       " [41] snakecase_0.11.1          carData_3.0-5            \n",
       " [43] rhdf5_2.44.0              Rtsne_0.17               \n",
       " [45] grid_4.3.1                blob_1.2.4               \n",
       " [47] promises_1.3.0            crayon_1.5.3             \n",
       " [49] miniUI_0.1.1.1            lattice_0.22-6           \n",
       " [51] haven_2.5.4               beachmat_2.16.0          \n",
       " [53] cowplot_1.1.3             annotate_1.78.0          \n",
       " [55] KEGGREST_1.40.1           pillar_1.9.0             \n",
       " [57] boot_1.3-30               codetools_0.2-20         \n",
       " [59] leiden_0.4.3.1            glue_1.7.0               \n",
       " [61] data.table_1.15.4         vctrs_0.6.5              \n",
       " [63] png_0.1-8                 spam_2.10-0              \n",
       " [65] gtable_0.3.5              datawizard_0.11.0        \n",
       " [67] cachem_1.1.0              xfun_0.45                \n",
       " [69] S4Arrays_1.0.6            mime_0.12                \n",
       " [71] survival_3.7-0            fitdistrplus_1.1-11      \n",
       " [73] ROCR_1.0-11               nlme_3.1-165             \n",
       " [75] bit64_4.0.5               RcppAnnoy_0.0.22         \n",
       " [77] irlba_2.3.5.1             KernSmooth_2.23-24       \n",
       " [79] colorspace_2.1-0          DBI_1.2.3                \n",
       " [81] tidyselect_1.2.1          bit_4.0.5                \n",
       " [83] compiler_4.3.1            graph_1.78.0             \n",
       " [85] hdf5r_1.3.10              DelayedArray_0.26.7      \n",
       " [87] scales_1.3.0              lmtest_0.9-40            \n",
       " [89] digest_0.6.36             goftest_1.2-3            \n",
       " [91] spatstat.utils_3.0-5      minqa_1.2.7              \n",
       " [93] XVector_0.40.0            htmltools_0.5.8.1        \n",
       " [95] pkgconfig_2.0.3           base64enc_0.1-3          \n",
       " [97] sparseMatrixStats_1.12.2  fastmap_1.2.0            \n",
       " [99] rlang_1.1.4               htmlwidgets_1.6.4        \n",
       "[101] shiny_1.8.1.1             DelayedMatrixStats_1.22.6\n",
       "[103] farver_2.1.2              zoo_1.8-12               \n",
       "[105] jsonlite_1.8.8            BiocParallel_1.34.2      \n",
       "[107] BiocSingular_1.16.0       RCurl_1.98-1.14          \n",
       "[109] magrittr_2.0.3            GenomeInfoDbData_1.2.10  \n",
       "[111] dotCall64_1.1-1           patchwork_1.2.0          \n",
       "[113] Rhdf5lib_1.22.1           IRkernel_1.3.2           \n",
       "[115] munsell_0.5.1             reticulate_1.38.0        \n",
       "[117] stringi_1.8.4             zlibbioc_1.46.0          \n",
       "[119] MASS_7.3-60               plyr_1.8.9               \n",
       "[121] parallel_4.3.1            listenv_0.9.1            \n",
       "[123] deldir_2.0-4              Biostrings_2.68.1        \n",
       "[125] IRdisplay_1.1             splines_4.3.1            \n",
       "[127] tensor_1.5                hms_1.1.3                \n",
       "[129] igraph_2.0.3              uuid_1.2-0               \n",
       "[131] spatstat.geom_3.2-9       ggsignif_0.6.4           \n",
       "[133] reshape2_1.4.4            ScaledMatrix_1.8.1       \n",
       "[135] XML_3.99-0.17             evaluate_0.24.0          \n",
       "[137] nloptr_2.0.3              tzdb_0.4.0               \n",
       "[139] httpuv_1.6.15             RANN_2.6.1               \n",
       "[141] polyclip_1.10-6           scattermore_1.2          \n",
       "[143] rsvd_1.0.5                broom_1.0.6              \n",
       "[145] xtable_1.8-4              rstatix_0.7.2            \n",
       "[147] later_1.3.2               ragg_1.2.5               \n",
       "[149] lmerTest_3.1-3            memoise_2.0.1            \n",
       "[151] AnnotationDbi_1.62.2      cluster_2.1.6            \n",
       "[153] timechange_0.3.0          globals_0.16.3           \n",
       "[155] GSEABase_1.62.0          "
      ]
     },
     "metadata": {},
     "output_type": "display_data"
    }
   ],
   "source": [
    "sessionInfo()"
   ]
  },
  {
   "cell_type": "code",
   "execution_count": null,
   "id": "b4dc289e-320f-4a9e-a3c1-9e9dbe468648",
   "metadata": {},
   "outputs": [],
   "source": []
  },
  {
   "cell_type": "code",
   "execution_count": null,
   "id": "46a1d2b3-9478-429e-aa04-6c74abf43f12",
   "metadata": {},
   "outputs": [],
   "source": []
  },
  {
   "cell_type": "code",
   "execution_count": null,
   "id": "ffd8a590-b3d5-44bc-a058-61c3dfce5e7a",
   "metadata": {},
   "outputs": [],
   "source": []
  },
  {
   "cell_type": "code",
   "execution_count": null,
   "id": "b65f534e-140d-4fd1-a454-1e39adfc67cd",
   "metadata": {},
   "outputs": [],
   "source": []
  }
 ],
 "metadata": {
  "kernelspec": {
   "display_name": "r_scrna",
   "language": "R",
   "name": "r_scrna"
  },
  "language_info": {
   "codemirror_mode": "r",
   "file_extension": ".r",
   "mimetype": "text/x-r-source",
   "name": "R",
   "pygments_lexer": "r",
   "version": "4.3.1"
  }
 },
 "nbformat": 4,
 "nbformat_minor": 5
}
