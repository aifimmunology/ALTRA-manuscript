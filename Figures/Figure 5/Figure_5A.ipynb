{
 "cells": [
  {
   "cell_type": "markdown",
   "id": "ffa4ac19-533c-40e1-acda-03037d676824",
   "metadata": {},
   "source": [
    " ## DEG's in CD4 Naive Tcells "
   ]
  },
  {
   "cell_type": "code",
   "execution_count": 1,
   "id": "49544d47-6dd9-4d12-a1ba-8f8200df5a90",
   "metadata": {},
   "outputs": [],
   "source": [
    "\n",
    "# load libraries\n",
    "quiet_library <- function(...) {\n",
    "    suppressPackageStartupMessages(library(...))\n",
    "}\n",
    "quiet_library(tidyverse)\n",
    "quiet_library(Seurat)\n",
    "quiet_library(ggplot2)\n",
    "quiet_library(Matrix)\n",
    "quiet_library(dplyr)\n",
    "quiet_library(viridis)\n",
    "quiet_library(harmony)\n",
    "quiet_library(future)\n",
    "quiet_library(future.apply)\n",
    "quiet_library(SingleCellExperiment)\n",
    "quiet_library(SeuratDisk)\n",
    "quiet_library(ggpubr)\n",
    "quiet_library(knitr)\n",
    "quiet_library(plotly)\n",
    "quiet_library(lme4)\n",
    "quiet_library(ggpubr)\n",
    "quiet_library(ggrepel)\n",
    "quiet_library(ggthemes)\n",
    "options(warn = -1)"
   ]
  },
  {
   "cell_type": "code",
   "execution_count": 2,
   "id": "386703e2-56c5-4292-98f1-08b3a359be39",
   "metadata": {},
   "outputs": [
    {
     "data": {
      "text/html": [
       "<strong>system:</strong> 64"
      ],
      "text/latex": [
       "\\textbf{system:} 64"
      ],
      "text/markdown": [
       "**system:** 64"
      ],
      "text/plain": [
       "system \n",
       "    64 "
      ]
     },
     "metadata": {},
     "output_type": "display_data"
    }
   ],
   "source": [
    "# Check number of cores\n",
    "future::availableCores()\n",
    "# Set up parallel processing to run when using 'future' functions \n",
    "future::plan(strategy = \"multicore\", workers = future::availableCores()-5)  \n",
    "options(future.globals.maxSize = 1000 * 1024^3)\n",
    "# to turn off parallel processing run line below\n",
    "# future::plan(strategy = \"sequential\")"
   ]
  },
  {
   "cell_type": "code",
   "execution_count": 3,
   "id": "2422d3d2-77f7-4f77-88c8-d8c3bb8b0a94",
   "metadata": {},
   "outputs": [],
   "source": [
    "# define the color palette to be used\n",
    "npg_color <- c(\"#E64B35FF\", \"#4DBBD5FF\", \"#00A087FF\", \"#3C5488FF\", \"#F39B7FFF\", \n",
    "               \"#8491B4FF\", \"#91D1C2FF\", \"#DC0000FF\", \"#7E6148FF\", \"#B09C85FF\")\n",
    "nejm_color <- c(\"#BC3C29FF\", \"#0072B5FF\", \"#E18727FF\", \"#20854EFF\", \"#7876B1FF\", \"#6F99ADFF\", \"#FFDC91FF\", \"#EE4C97FF\")\n",
    "jama_color <- c(\"#374E55FF\", \"#DF8F44FF\", \"#00A1D5FF\", \"#B24745FF\", \"#79AF97FF\", \"#6A6599FF\", \"#80796BFF\")\n",
    "jco_color <- c(\"#0073C2FF\", \"#EFC000FF\", \"#868686FF\", \"#CD534CFF\", \"#7AA6DCFF\", \"#003C67FF\", \"#8F7700FF\")\n",
    "cluster_colors <- c(\"#DC050C\", \"#FB8072\", \"#1965B0\", \"#7BAFDE\", \"#882E72\", \"#B17BA6\", \"#FF7F00\", \"#FDB462\", \"#E7298A\", \n",
    "    \"#E78AC3\", \"#33A02C\", \"#B2DF8A\", \"#55A1B1\", \"#8DD3C7\", \"#A6761D\", \"#E6AB02\", \"#7570B3\", \"#BEAED4\", \"#666666\", \"#999999\", \n",
    "    \"#aa8282\", \"#d4b7b7\", \"#8600bf\", \"#ba5ce3\", \"#808000\", \"#aeae5c\", \"#1e90ff\", \"#00bfff\", \"#56ff0d\", \"#ffff00\")\n",
    "coolors_clrs<-c(\"#EFB0A1\",\"#009FF5\",\"#1A5E9B\",\"#42E2B8\",\"#4ECDC4\",\"#89B6A5\",\"#F1D26A\",\"#D5B0AC\",\"#EDABB1\",\"#02504D\",\"#AA9674\",\"#E64B35FF\",\"#4DBBD5FF\",\"#00A087FF\")\n",
    "\n",
    "cluster_colors_ext <- colorRampPalette(cluster_colors)(36)\n",
    "options(repr.plot.width =5, repr.plot.height =5)"
   ]
  },
  {
   "cell_type": "code",
   "execution_count": 4,
   "id": "55ea2e14-e370-4ca4-b5b1-84597d50f1ea",
   "metadata": {},
   "outputs": [],
   "source": [
    "fig_path=\"/home/jupyter/ALTRA_ANALYSIS/Deep_clean/Figure_files/Certpro_figures/Plots_for_manuscript/\""
   ]
  },
  {
   "cell_type": "code",
   "execution_count": 5,
   "id": "efdb2494-3dc2-46bf-a5d5-4c969688c19e",
   "metadata": {},
   "outputs": [],
   "source": [
    "# Function to generate a volcano plot with customized settings\n",
    "# \n",
    "# This function creates a volcano plot from gene expression data, highlighting significant genes \n",
    "# with specific colors based on their log fold change and adjusted p-values. It includes options \n",
    "# for customizing plot labels, axis limits, and saving the plot to a specified file path.\n",
    "#\n",
    "# Parameters:\n",
    "# - data: The main data frame containing the gene expression data.\n",
    "# - logfc_column: The name of the column in 'data' representing log fold change.\n",
    "# - pval_column: The name of the column in 'data' representing p-values.\n",
    "# - padj_column: The name of the column in 'data' representing adjusted p-values.\n",
    "# - gene_column: The name of the column in 'data' representing gene names.\n",
    "# - filtered_genes: A data frame containing a subset of genes to be highlighted on the plot.\n",
    "# - title: The title of the volcano plot.\n",
    "# - x_label: The label for the x-axis.\n",
    "# - y_label: The label for the y-axis.\n",
    "# - x_limits: A numeric vector of length 2 specifying the range of the x-axis (optional).\n",
    "# - y_limits: A numeric vector of length 2 specifying the range of the y-axis (optional).\n",
    "# - file_path: The directory path where the plot should be saved (optional).\n",
    "# - file_name: The name of the file to save the plot as (optional).\n",
    "# - max_overlaps: The maximum number of overlapping text labels allowed by geom_text_repel (default is 20).\n",
    "\n",
    "plot_custom_volcano <- function(data, logfc_column, pval_column, padj_column, gene_column, filtered_genes, \n",
    "                         title, x_label, y_label, x_limits = NULL, y_limits = NULL, file_path = NULL, file_name = NULL,max_overlaps) {\n",
    "  # Custom color mapping based on log fold change and padj significance\n",
    "  data$sig_color <- ifelse(data[[padj_column]] > 0.1, '#595959', #davy's grey\n",
    "                           ifelse(data[[logfc_column]] < 0 & data[[padj_column]] < 0.1, '#F59F00',\n",
    "                                  ifelse(data[[logfc_column]] > 0 & data[[padj_column]] < 0.1, '#840032', '#595959')))\n",
    "  # Print total number of genes\n",
    "  total_genes <- nrow(data)\n",
    "\n",
    "    p <- ggplot(data, aes_string(x = logfc_column, y = paste0(\"-log10(\", padj_column, \")\"), color = \"sig_color\")) +\n",
    "    geom_point(size = 3, alpha = 0.5,stroke=0) +  # Adjust size and transparency\n",
    "    geom_hline(yintercept = 1, linetype = \"dashed\", color = \"black\") +\n",
    "    geom_vline(xintercept = 0, linetype = \"dashed\") +  # Add significance threshold line\n",
    "    labs(x = x_label, y = y_label, title = title) +  # Labels and title\n",
    "    theme_minimal() +  # Minimal theme\n",
    "    geom_point(data = filtered_genes, aes_string(x = logfc_column, y = paste0(\"-log10(\", padj_column, \")\")), \n",
    "               fill = \"005E7A\",color=\"black\",size = 3, shape = 21, stroke = .5) +  # Overlay the filtered genes\n",
    "    geom_text_repel(data = filtered_genes, aes_string(x = logfc_column, y = paste0(\"-log10(\", padj_column, \")\"), label = gene_column),\n",
    "                    hjust = -0.4, vjust = -0.7, size = 5,color = \"black\",segment.size = .5, segment.color = \"black\", max.overlaps = max_overlaps,min.segment.length = 0) + # Add gene labels\n",
    "    scale_color_manual(values = c(\"#595959\" = \"#595959\", \"#F59F00\" = \"#F59F00\", \"#840032\" = \"#840032\")) + \n",
    "    # Manual color scale\n",
    "    theme_few()+\n",
    "    theme(legend.position = \"none\")+  # Remove the legend\n",
    "     annotate(\"text\", x = Inf, y = -Inf, label = paste(\"Total genes:\", total_genes), hjust = 1, vjust = -1,\n",
    "             color = \"black\", size = 5)\n",
    "      \n",
    "  \n",
    "  # Set x and y axis limits if specified\n",
    "  if (!is.null(x_limits)) {\n",
    "    p <- p + xlim(x_limits)\n",
    "  }\n",
    "  if (!is.null(y_limits)) {\n",
    "    p <- p + ylim(y_limits)\n",
    "  }\n",
    "  \n",
    "  # Save the plot if file_path and file_name \n",
    "  if (!is.null(file_path) & !is.null(file_name)) {\n",
    "    full_path <- file.path(file_path, file_name)\n",
    "    ggsave(full_path, plot = p, width = 5, height = 5)\n",
    "  }\n",
    "  \n",
    "  print(p)\n",
    "}\n",
    "# usage\n",
    "# plot_custom_volcano(data = deg_a3, logfc_column = \"logfc_by_year\", pval_column = \"p.value\", \n",
    "#              padj_column = \"padj\", gene_column = \"gene\", filtered_genes = filtered_df_gene, \n",
    "#              title = \"Core Naive CD4 T cells\", x_label = \"log2FC by year\", y_label = \"-log10(padj)\",\n",
    "#              x_limits = c(-0.8,0.8), y_limits = c(0.5, 2), max_overlaps = 35,\n",
    "#              file_path = fig_path, file_name = \"Fig_6A_CD4_naive_volcano_plot.pdf\")"
   ]
  },
  {
   "cell_type": "code",
   "execution_count": 6,
   "id": "88606bda-df58-40d0-9235-afe341b16e3d",
   "metadata": {},
   "outputs": [
    {
     "data": {
      "text/html": [
       "<style>\n",
       ".list-inline {list-style: none; margin:0; padding: 0}\n",
       ".list-inline>li {display: inline-block}\n",
       ".list-inline>li:not(:last-child)::after {content: \"\\00b7\"; padding: 0 .5ex}\n",
       "</style>\n",
       "<ol class=list-inline><li>267913</li><li>12</li></ol>\n"
      ],
      "text/latex": [
       "\\begin{enumerate*}\n",
       "\\item 267913\n",
       "\\item 12\n",
       "\\end{enumerate*}\n"
      ],
      "text/markdown": [
       "1. 267913\n",
       "2. 12\n",
       "\n",
       "\n"
      ],
      "text/plain": [
       "[1] 267913     12"
      ]
     },
     "metadata": {},
     "output_type": "display_data"
    },
    {
     "data": {
      "text/html": [
       "<table class=\"dataframe\">\n",
       "<caption>A data.frame: 3 × 12</caption>\n",
       "<thead>\n",
       "\t<tr><th></th><th scope=col>celltype</th><th scope=col>effect</th><th scope=col>group</th><th scope=col>term</th><th scope=col>estimate</th><th scope=col>std.error</th><th scope=col>statistic</th><th scope=col>df</th><th scope=col>p.value</th><th scope=col>gene</th><th scope=col>q_values</th><th scope=col>sig</th></tr>\n",
       "\t<tr><th></th><th scope=col>&lt;chr&gt;</th><th scope=col>&lt;chr&gt;</th><th scope=col>&lt;lgl&gt;</th><th scope=col>&lt;chr&gt;</th><th scope=col>&lt;dbl&gt;</th><th scope=col>&lt;dbl&gt;</th><th scope=col>&lt;dbl&gt;</th><th scope=col>&lt;dbl&gt;</th><th scope=col>&lt;dbl&gt;</th><th scope=col>&lt;chr&gt;</th><th scope=col>&lt;dbl&gt;</th><th scope=col>&lt;chr&gt;</th></tr>\n",
       "</thead>\n",
       "<tbody>\n",
       "\t<tr><th scope=row>1</th><td>Adaptive NK cell</td><td>fixed</td><td>NA</td><td>days_to_conversion</td><td>-4.601178e-04</td><td>0.0001726325</td><td>-2.6653027</td><td>43.00000</td><td>0.01079008</td><td>AAK1    </td><td>0.3471929</td><td>ns</td></tr>\n",
       "\t<tr><th scope=row>2</th><td>Adaptive NK cell</td><td>fixed</td><td>NA</td><td>days_to_conversion</td><td> 2.698218e-04</td><td>0.0001816877</td><td> 1.4850857</td><td>43.00000</td><td>0.14481591</td><td>AASDHPPT</td><td>0.5004335</td><td>ns</td></tr>\n",
       "\t<tr><th scope=row>3</th><td>Adaptive NK cell</td><td>fixed</td><td>NA</td><td>days_to_conversion</td><td>-1.742457e-05</td><td>0.0001246150</td><td>-0.1398272</td><td>42.98683</td><td>0.88944965</td><td>AATF    </td><td>0.7853112</td><td>ns</td></tr>\n",
       "</tbody>\n",
       "</table>\n"
      ],
      "text/latex": [
       "A data.frame: 3 × 12\n",
       "\\begin{tabular}{r|llllllllllll}\n",
       "  & celltype & effect & group & term & estimate & std.error & statistic & df & p.value & gene & q\\_values & sig\\\\\n",
       "  & <chr> & <chr> & <lgl> & <chr> & <dbl> & <dbl> & <dbl> & <dbl> & <dbl> & <chr> & <dbl> & <chr>\\\\\n",
       "\\hline\n",
       "\t1 & Adaptive NK cell & fixed & NA & days\\_to\\_conversion & -4.601178e-04 & 0.0001726325 & -2.6653027 & 43.00000 & 0.01079008 & AAK1     & 0.3471929 & ns\\\\\n",
       "\t2 & Adaptive NK cell & fixed & NA & days\\_to\\_conversion &  2.698218e-04 & 0.0001816877 &  1.4850857 & 43.00000 & 0.14481591 & AASDHPPT & 0.5004335 & ns\\\\\n",
       "\t3 & Adaptive NK cell & fixed & NA & days\\_to\\_conversion & -1.742457e-05 & 0.0001246150 & -0.1398272 & 42.98683 & 0.88944965 & AATF     & 0.7853112 & ns\\\\\n",
       "\\end{tabular}\n"
      ],
      "text/markdown": [
       "\n",
       "A data.frame: 3 × 12\n",
       "\n",
       "| <!--/--> | celltype &lt;chr&gt; | effect &lt;chr&gt; | group &lt;lgl&gt; | term &lt;chr&gt; | estimate &lt;dbl&gt; | std.error &lt;dbl&gt; | statistic &lt;dbl&gt; | df &lt;dbl&gt; | p.value &lt;dbl&gt; | gene &lt;chr&gt; | q_values &lt;dbl&gt; | sig &lt;chr&gt; |\n",
       "|---|---|---|---|---|---|---|---|---|---|---|---|---|\n",
       "| 1 | Adaptive NK cell | fixed | NA | days_to_conversion | -4.601178e-04 | 0.0001726325 | -2.6653027 | 43.00000 | 0.01079008 | AAK1     | 0.3471929 | ns |\n",
       "| 2 | Adaptive NK cell | fixed | NA | days_to_conversion |  2.698218e-04 | 0.0001816877 |  1.4850857 | 43.00000 | 0.14481591 | AASDHPPT | 0.5004335 | ns |\n",
       "| 3 | Adaptive NK cell | fixed | NA | days_to_conversion | -1.742457e-05 | 0.0001246150 | -0.1398272 | 42.98683 | 0.88944965 | AATF     | 0.7853112 | ns |\n",
       "\n"
      ],
      "text/plain": [
       "  celltype         effect group term               estimate      std.error   \n",
       "1 Adaptive NK cell fixed  NA    days_to_conversion -4.601178e-04 0.0001726325\n",
       "2 Adaptive NK cell fixed  NA    days_to_conversion  2.698218e-04 0.0001816877\n",
       "3 Adaptive NK cell fixed  NA    days_to_conversion -1.742457e-05 0.0001246150\n",
       "  statistic  df       p.value    gene     q_values  sig\n",
       "1 -2.6653027 43.00000 0.01079008 AAK1     0.3471929 ns \n",
       "2  1.4850857 43.00000 0.14481591 AASDHPPT 0.5004335 ns \n",
       "3 -0.1398272 42.98683 0.88944965 AATF     0.7853112 ns "
      ]
     },
     "metadata": {},
     "output_type": "display_data"
    }
   ],
   "source": [
    "## read the AIM 3 deg results \n",
    "deg_a3=read.csv(\"/home/jupyter/ALTRA_ANALYSIS/Deep_clean/Figure_notebooks/files/input_files/certpro_Zi_files/ALTRA_AIM3_certpro_scRNA_Pseudobulk_AIFI_l3_mixed_models_time_result_750days.csv\")\n",
    "deg_a3%>%dim\n",
    "deg_a3%>%head(3)"
   ]
  },
  {
   "cell_type": "code",
   "execution_count": 7,
   "id": "e7a79a1f-a9b5-4eee-baca-ac27926e3677",
   "metadata": {},
   "outputs": [
    {
     "data": {
      "text/html": [
       "<style>\n",
       ".list-inline {list-style: none; margin:0; padding: 0}\n",
       ".list-inline>li {display: inline-block}\n",
       ".list-inline>li:not(:last-child)::after {content: \"\\00b7\"; padding: 0 .5ex}\n",
       "</style>\n",
       "<ol class=list-inline><li>4950</li><li>12</li></ol>\n"
      ],
      "text/latex": [
       "\\begin{enumerate*}\n",
       "\\item 4950\n",
       "\\item 12\n",
       "\\end{enumerate*}\n"
      ],
      "text/markdown": [
       "1. 4950\n",
       "2. 12\n",
       "\n",
       "\n"
      ],
      "text/plain": [
       "[1] 4950   12"
      ]
     },
     "metadata": {},
     "output_type": "display_data"
    },
    {
     "data": {
      "text/html": [
       "<table class=\"dataframe\">\n",
       "<caption>A data.frame: 3 × 12</caption>\n",
       "<thead>\n",
       "\t<tr><th></th><th scope=col>celltype</th><th scope=col>effect</th><th scope=col>group</th><th scope=col>term</th><th scope=col>estimate</th><th scope=col>std.error</th><th scope=col>statistic</th><th scope=col>df</th><th scope=col>p.value</th><th scope=col>gene</th><th scope=col>q_values</th><th scope=col>sig</th></tr>\n",
       "\t<tr><th></th><th scope=col>&lt;chr&gt;</th><th scope=col>&lt;chr&gt;</th><th scope=col>&lt;lgl&gt;</th><th scope=col>&lt;chr&gt;</th><th scope=col>&lt;dbl&gt;</th><th scope=col>&lt;dbl&gt;</th><th scope=col>&lt;dbl&gt;</th><th scope=col>&lt;dbl&gt;</th><th scope=col>&lt;dbl&gt;</th><th scope=col>&lt;chr&gt;</th><th scope=col>&lt;dbl&gt;</th><th scope=col>&lt;chr&gt;</th></tr>\n",
       "</thead>\n",
       "<tbody>\n",
       "\t<tr><th scope=row>1</th><td>Core naive CD4 T cell</td><td>fixed</td><td>NA</td><td>days_to_conversion</td><td>-3.377828e-04</td><td>0.0001303560</td><td>-2.59123334</td><td>38.52058</td><td>0.0134362</td><td>A1BG</td><td>0.03888719</td><td>*   </td></tr>\n",
       "\t<tr><th scope=row>2</th><td>Core naive CD4 T cell</td><td>fixed</td><td>NA</td><td>days_to_conversion</td><td> 5.778606e-06</td><td>0.0001718983</td><td> 0.03361642</td><td>46.00000</td><td>0.9733285</td><td>AAK1</td><td>0.32250224</td><td>ns  </td></tr>\n",
       "\t<tr><th scope=row>3</th><td>Core naive CD4 T cell</td><td>fixed</td><td>NA</td><td>days_to_conversion</td><td>-1.619124e-04</td><td>0.0001019456</td><td>-1.58822357</td><td>46.00000</td><td>0.1190865</td><td>AAMP</td><td>0.08462192</td><td>&lt;0.2</td></tr>\n",
       "</tbody>\n",
       "</table>\n"
      ],
      "text/latex": [
       "A data.frame: 3 × 12\n",
       "\\begin{tabular}{r|llllllllllll}\n",
       "  & celltype & effect & group & term & estimate & std.error & statistic & df & p.value & gene & q\\_values & sig\\\\\n",
       "  & <chr> & <chr> & <lgl> & <chr> & <dbl> & <dbl> & <dbl> & <dbl> & <dbl> & <chr> & <dbl> & <chr>\\\\\n",
       "\\hline\n",
       "\t1 & Core naive CD4 T cell & fixed & NA & days\\_to\\_conversion & -3.377828e-04 & 0.0001303560 & -2.59123334 & 38.52058 & 0.0134362 & A1BG & 0.03888719 & *   \\\\\n",
       "\t2 & Core naive CD4 T cell & fixed & NA & days\\_to\\_conversion &  5.778606e-06 & 0.0001718983 &  0.03361642 & 46.00000 & 0.9733285 & AAK1 & 0.32250224 & ns  \\\\\n",
       "\t3 & Core naive CD4 T cell & fixed & NA & days\\_to\\_conversion & -1.619124e-04 & 0.0001019456 & -1.58822357 & 46.00000 & 0.1190865 & AAMP & 0.08462192 & <0.2\\\\\n",
       "\\end{tabular}\n"
      ],
      "text/markdown": [
       "\n",
       "A data.frame: 3 × 12\n",
       "\n",
       "| <!--/--> | celltype &lt;chr&gt; | effect &lt;chr&gt; | group &lt;lgl&gt; | term &lt;chr&gt; | estimate &lt;dbl&gt; | std.error &lt;dbl&gt; | statistic &lt;dbl&gt; | df &lt;dbl&gt; | p.value &lt;dbl&gt; | gene &lt;chr&gt; | q_values &lt;dbl&gt; | sig &lt;chr&gt; |\n",
       "|---|---|---|---|---|---|---|---|---|---|---|---|---|\n",
       "| 1 | Core naive CD4 T cell | fixed | NA | days_to_conversion | -3.377828e-04 | 0.0001303560 | -2.59123334 | 38.52058 | 0.0134362 | A1BG | 0.03888719 | *    |\n",
       "| 2 | Core naive CD4 T cell | fixed | NA | days_to_conversion |  5.778606e-06 | 0.0001718983 |  0.03361642 | 46.00000 | 0.9733285 | AAK1 | 0.32250224 | ns   |\n",
       "| 3 | Core naive CD4 T cell | fixed | NA | days_to_conversion | -1.619124e-04 | 0.0001019456 | -1.58822357 | 46.00000 | 0.1190865 | AAMP | 0.08462192 | &lt;0.2 |\n",
       "\n"
      ],
      "text/plain": [
       "  celltype              effect group term               estimate     \n",
       "1 Core naive CD4 T cell fixed  NA    days_to_conversion -3.377828e-04\n",
       "2 Core naive CD4 T cell fixed  NA    days_to_conversion  5.778606e-06\n",
       "3 Core naive CD4 T cell fixed  NA    days_to_conversion -1.619124e-04\n",
       "  std.error    statistic   df       p.value   gene q_values   sig \n",
       "1 0.0001303560 -2.59123334 38.52058 0.0134362 A1BG 0.03888719 *   \n",
       "2 0.0001718983  0.03361642 46.00000 0.9733285 AAK1 0.32250224 ns  \n",
       "3 0.0001019456 -1.58822357 46.00000 0.1190865 AAMP 0.08462192 <0.2"
      ]
     },
     "metadata": {},
     "output_type": "display_data"
    }
   ],
   "source": [
    "# filter CD4 Naive cell type \n",
    "deg_a3=deg_a3%>%filter(celltype==\"Core naive CD4 T cell\")\n",
    "deg_a3%>%dim\n",
    "deg_a3%>%head(3)"
   ]
  },
  {
   "cell_type": "code",
   "execution_count": 8,
   "id": "97393e77-574a-46c8-a785-c072b6553714",
   "metadata": {
    "scrolled": true
   },
   "outputs": [],
   "source": [
    "#customized genes to plot \n",
    "genes_to_plot <- c(\"CD3G\", \"CD3D\", \"CD3E\", \"CD247\", \"STAT2\", \"STAT5B\", \"STAT4\", \"MAF\", \"STIM2\", \n",
    "           \"ICOS\", \"CD28\", \"EGR1\", \"FOS\", \"FOSB\", \"AKT3\", \"IL6ST\", \"GRAP2\", \"NFAT5\", \n",
    "           \"STAT6\", \"STIM1\", \"RORA\", \"NFKB1\", \"IKBKB\", \"JUN\", \"TRAF5\", \"IL10RA\", \n",
    "           \"PTPN4\", \"TCF7\", \"RAF1\", \"CASP8\")"
   ]
  },
  {
   "cell_type": "code",
   "execution_count": 9,
   "id": "b00e682f-dff1-4c93-b205-43fa8700fd4b",
   "metadata": {},
   "outputs": [
    {
     "data": {
      "text/html": [
       "<table class=\"dataframe\">\n",
       "<caption>A data.frame: 2 × 12</caption>\n",
       "<thead>\n",
       "\t<tr><th></th><th scope=col>celltype</th><th scope=col>effect</th><th scope=col>group</th><th scope=col>term</th><th scope=col>log2FoldChange</th><th scope=col>std.error</th><th scope=col>statistic</th><th scope=col>df</th><th scope=col>p.value</th><th scope=col>gene</th><th scope=col>padj</th><th scope=col>sig</th></tr>\n",
       "\t<tr><th></th><th scope=col>&lt;chr&gt;</th><th scope=col>&lt;chr&gt;</th><th scope=col>&lt;lgl&gt;</th><th scope=col>&lt;chr&gt;</th><th scope=col>&lt;dbl&gt;</th><th scope=col>&lt;dbl&gt;</th><th scope=col>&lt;dbl&gt;</th><th scope=col>&lt;dbl&gt;</th><th scope=col>&lt;dbl&gt;</th><th scope=col>&lt;chr&gt;</th><th scope=col>&lt;dbl&gt;</th><th scope=col>&lt;chr&gt;</th></tr>\n",
       "</thead>\n",
       "<tbody>\n",
       "\t<tr><th scope=row>1</th><td>Core naive CD4 T cell</td><td>fixed</td><td>NA</td><td>days_to_conversion</td><td>-3.377828e-04</td><td>0.0001303560</td><td>-2.59123334</td><td>38.52058</td><td>0.0134362</td><td>A1BG</td><td>0.03888719</td><td>* </td></tr>\n",
       "\t<tr><th scope=row>2</th><td>Core naive CD4 T cell</td><td>fixed</td><td>NA</td><td>days_to_conversion</td><td> 5.778606e-06</td><td>0.0001718983</td><td> 0.03361642</td><td>46.00000</td><td>0.9733285</td><td>AAK1</td><td>0.32250224</td><td>ns</td></tr>\n",
       "</tbody>\n",
       "</table>\n"
      ],
      "text/latex": [
       "A data.frame: 2 × 12\n",
       "\\begin{tabular}{r|llllllllllll}\n",
       "  & celltype & effect & group & term & log2FoldChange & std.error & statistic & df & p.value & gene & padj & sig\\\\\n",
       "  & <chr> & <chr> & <lgl> & <chr> & <dbl> & <dbl> & <dbl> & <dbl> & <dbl> & <chr> & <dbl> & <chr>\\\\\n",
       "\\hline\n",
       "\t1 & Core naive CD4 T cell & fixed & NA & days\\_to\\_conversion & -3.377828e-04 & 0.0001303560 & -2.59123334 & 38.52058 & 0.0134362 & A1BG & 0.03888719 & * \\\\\n",
       "\t2 & Core naive CD4 T cell & fixed & NA & days\\_to\\_conversion &  5.778606e-06 & 0.0001718983 &  0.03361642 & 46.00000 & 0.9733285 & AAK1 & 0.32250224 & ns\\\\\n",
       "\\end{tabular}\n"
      ],
      "text/markdown": [
       "\n",
       "A data.frame: 2 × 12\n",
       "\n",
       "| <!--/--> | celltype &lt;chr&gt; | effect &lt;chr&gt; | group &lt;lgl&gt; | term &lt;chr&gt; | log2FoldChange &lt;dbl&gt; | std.error &lt;dbl&gt; | statistic &lt;dbl&gt; | df &lt;dbl&gt; | p.value &lt;dbl&gt; | gene &lt;chr&gt; | padj &lt;dbl&gt; | sig &lt;chr&gt; |\n",
       "|---|---|---|---|---|---|---|---|---|---|---|---|---|\n",
       "| 1 | Core naive CD4 T cell | fixed | NA | days_to_conversion | -3.377828e-04 | 0.0001303560 | -2.59123334 | 38.52058 | 0.0134362 | A1BG | 0.03888719 | *  |\n",
       "| 2 | Core naive CD4 T cell | fixed | NA | days_to_conversion |  5.778606e-06 | 0.0001718983 |  0.03361642 | 46.00000 | 0.9733285 | AAK1 | 0.32250224 | ns |\n",
       "\n"
      ],
      "text/plain": [
       "  celltype              effect group term               log2FoldChange\n",
       "1 Core naive CD4 T cell fixed  NA    days_to_conversion -3.377828e-04 \n",
       "2 Core naive CD4 T cell fixed  NA    days_to_conversion  5.778606e-06 \n",
       "  std.error    statistic   df       p.value   gene padj       sig\n",
       "1 0.0001303560 -2.59123334 38.52058 0.0134362 A1BG 0.03888719 *  \n",
       "2 0.0001718983  0.03361642 46.00000 0.9733285 AAK1 0.32250224 ns "
      ]
     },
     "metadata": {},
     "output_type": "display_data"
    }
   ],
   "source": [
    "##renaming the columns to plot \n",
    "deg_a3 <- deg_a3 %>%\n",
    "  rename(\n",
    "    log2FoldChange = estimate,\n",
    "    padj = q_values\n",
    "  )\n",
    "deg_a3%>%head(2)"
   ]
  },
  {
   "cell_type": "code",
   "execution_count": 10,
   "id": "9f37fee8-150f-4fde-9121-31ca96952116",
   "metadata": {},
   "outputs": [
    {
     "data": {
      "text/html": [
       "<table class=\"dataframe\">\n",
       "<caption>A data.frame: 2 × 13</caption>\n",
       "<thead>\n",
       "\t<tr><th></th><th scope=col>celltype</th><th scope=col>effect</th><th scope=col>group</th><th scope=col>term</th><th scope=col>log2FoldChange</th><th scope=col>std.error</th><th scope=col>statistic</th><th scope=col>df</th><th scope=col>p.value</th><th scope=col>gene</th><th scope=col>padj</th><th scope=col>sig</th><th scope=col>logfc_by_year</th></tr>\n",
       "\t<tr><th></th><th scope=col>&lt;chr&gt;</th><th scope=col>&lt;chr&gt;</th><th scope=col>&lt;lgl&gt;</th><th scope=col>&lt;chr&gt;</th><th scope=col>&lt;dbl&gt;</th><th scope=col>&lt;dbl&gt;</th><th scope=col>&lt;dbl&gt;</th><th scope=col>&lt;dbl&gt;</th><th scope=col>&lt;dbl&gt;</th><th scope=col>&lt;chr&gt;</th><th scope=col>&lt;dbl&gt;</th><th scope=col>&lt;chr&gt;</th><th scope=col>&lt;dbl&gt;</th></tr>\n",
       "</thead>\n",
       "<tbody>\n",
       "\t<tr><th scope=row>1</th><td>Core naive CD4 T cell</td><td>fixed</td><td>NA</td><td>days_to_conversion</td><td>-3.377828e-04</td><td>0.0001303560</td><td>-2.59123334</td><td>38.52058</td><td>0.0134362</td><td>A1BG</td><td>0.03888719</td><td>* </td><td>-0.123290716</td></tr>\n",
       "\t<tr><th scope=row>2</th><td>Core naive CD4 T cell</td><td>fixed</td><td>NA</td><td>days_to_conversion</td><td> 5.778606e-06</td><td>0.0001718983</td><td> 0.03361642</td><td>46.00000</td><td>0.9733285</td><td>AAK1</td><td>0.32250224</td><td>ns</td><td> 0.002109191</td></tr>\n",
       "</tbody>\n",
       "</table>\n"
      ],
      "text/latex": [
       "A data.frame: 2 × 13\n",
       "\\begin{tabular}{r|lllllllllllll}\n",
       "  & celltype & effect & group & term & log2FoldChange & std.error & statistic & df & p.value & gene & padj & sig & logfc\\_by\\_year\\\\\n",
       "  & <chr> & <chr> & <lgl> & <chr> & <dbl> & <dbl> & <dbl> & <dbl> & <dbl> & <chr> & <dbl> & <chr> & <dbl>\\\\\n",
       "\\hline\n",
       "\t1 & Core naive CD4 T cell & fixed & NA & days\\_to\\_conversion & -3.377828e-04 & 0.0001303560 & -2.59123334 & 38.52058 & 0.0134362 & A1BG & 0.03888719 & *  & -0.123290716\\\\\n",
       "\t2 & Core naive CD4 T cell & fixed & NA & days\\_to\\_conversion &  5.778606e-06 & 0.0001718983 &  0.03361642 & 46.00000 & 0.9733285 & AAK1 & 0.32250224 & ns &  0.002109191\\\\\n",
       "\\end{tabular}\n"
      ],
      "text/markdown": [
       "\n",
       "A data.frame: 2 × 13\n",
       "\n",
       "| <!--/--> | celltype &lt;chr&gt; | effect &lt;chr&gt; | group &lt;lgl&gt; | term &lt;chr&gt; | log2FoldChange &lt;dbl&gt; | std.error &lt;dbl&gt; | statistic &lt;dbl&gt; | df &lt;dbl&gt; | p.value &lt;dbl&gt; | gene &lt;chr&gt; | padj &lt;dbl&gt; | sig &lt;chr&gt; | logfc_by_year &lt;dbl&gt; |\n",
       "|---|---|---|---|---|---|---|---|---|---|---|---|---|---|\n",
       "| 1 | Core naive CD4 T cell | fixed | NA | days_to_conversion | -3.377828e-04 | 0.0001303560 | -2.59123334 | 38.52058 | 0.0134362 | A1BG | 0.03888719 | *  | -0.123290716 |\n",
       "| 2 | Core naive CD4 T cell | fixed | NA | days_to_conversion |  5.778606e-06 | 0.0001718983 |  0.03361642 | 46.00000 | 0.9733285 | AAK1 | 0.32250224 | ns |  0.002109191 |\n",
       "\n"
      ],
      "text/plain": [
       "  celltype              effect group term               log2FoldChange\n",
       "1 Core naive CD4 T cell fixed  NA    days_to_conversion -3.377828e-04 \n",
       "2 Core naive CD4 T cell fixed  NA    days_to_conversion  5.778606e-06 \n",
       "  std.error    statistic   df       p.value   gene padj       sig logfc_by_year\n",
       "1 0.0001303560 -2.59123334 38.52058 0.0134362 A1BG 0.03888719 *   -0.123290716 \n",
       "2 0.0001718983  0.03361642 46.00000 0.9733285 AAK1 0.32250224 ns   0.002109191 "
      ]
     },
     "metadata": {},
     "output_type": "display_data"
    }
   ],
   "source": [
    "#adjusting the log2FC scale by multiplying by 365(1year) \n",
    "deg_a3 <- deg_a3 %>%\n",
    "  mutate(logfc_by_year= log2FoldChange * 365)\n",
    "deg_a3%>%head(2)"
   ]
  },
  {
   "cell_type": "code",
   "execution_count": 11,
   "id": "7d860aa2-bc26-4c2f-b9a8-cceaf225cf2b",
   "metadata": {
    "scrolled": true
   },
   "outputs": [
    {
     "data": {
      "text/html": [
       "<table class=\"dataframe\">\n",
       "<caption>A data.frame: 29 × 13</caption>\n",
       "<thead>\n",
       "\t<tr><th scope=col>celltype</th><th scope=col>effect</th><th scope=col>group</th><th scope=col>term</th><th scope=col>log2FoldChange</th><th scope=col>std.error</th><th scope=col>statistic</th><th scope=col>df</th><th scope=col>p.value</th><th scope=col>gene</th><th scope=col>padj</th><th scope=col>sig</th><th scope=col>logfc_by_year</th></tr>\n",
       "\t<tr><th scope=col>&lt;chr&gt;</th><th scope=col>&lt;chr&gt;</th><th scope=col>&lt;lgl&gt;</th><th scope=col>&lt;chr&gt;</th><th scope=col>&lt;dbl&gt;</th><th scope=col>&lt;dbl&gt;</th><th scope=col>&lt;dbl&gt;</th><th scope=col>&lt;dbl&gt;</th><th scope=col>&lt;dbl&gt;</th><th scope=col>&lt;chr&gt;</th><th scope=col>&lt;dbl&gt;</th><th scope=col>&lt;chr&gt;</th><th scope=col>&lt;dbl&gt;</th></tr>\n",
       "</thead>\n",
       "<tbody>\n",
       "\t<tr><td>Core naive CD4 T cell</td><td>fixed</td><td>NA</td><td>days_to_conversion</td><td> 0.0005263800</td><td>1.967998e-04</td><td> 2.674697</td><td>43.48119</td><td>1.049880e-02</td><td>AKT3  </td><td>0.03720433</td><td>*   </td><td> 0.19212871</td></tr>\n",
       "\t<tr><td>Core naive CD4 T cell</td><td>fixed</td><td>NA</td><td>days_to_conversion</td><td> 0.0002890586</td><td>9.584918e-05</td><td> 3.015765</td><td>40.31872</td><td>4.422017e-03</td><td>CASP8 </td><td>0.03168552</td><td>*   </td><td> 0.10550640</td></tr>\n",
       "\t<tr><td>Core naive CD4 T cell</td><td>fixed</td><td>NA</td><td>days_to_conversion</td><td>-0.0002544154</td><td>1.086740e-04</td><td>-2.341089</td><td>42.34323</td><td>2.400828e-02</td><td>CD247 </td><td>0.04443523</td><td>*   </td><td>-0.09286162</td></tr>\n",
       "\t<tr><td>Core naive CD4 T cell</td><td>fixed</td><td>NA</td><td>days_to_conversion</td><td> 0.0003369934</td><td>1.496021e-04</td><td> 2.252598</td><td>42.94973</td><td>2.944906e-02</td><td>CD28  </td><td>0.04628044</td><td>*   </td><td> 0.12300258</td></tr>\n",
       "\t<tr><td>Core naive CD4 T cell</td><td>fixed</td><td>NA</td><td>days_to_conversion</td><td>-0.0002965159</td><td>1.121504e-04</td><td>-2.643912</td><td>45.44790</td><td>1.120908e-02</td><td>CD3D  </td><td>0.03820139</td><td>*   </td><td>-0.10822830</td></tr>\n",
       "\t<tr><td>Core naive CD4 T cell</td><td>fixed</td><td>NA</td><td>days_to_conversion</td><td>-0.0002768529</td><td>8.788824e-05</td><td>-3.150056</td><td>44.19848</td><td>2.926250e-03</td><td>CD3E  </td><td>0.02785470</td><td>*   </td><td>-0.10105130</td></tr>\n",
       "\t<tr><td>Core naive CD4 T cell</td><td>fixed</td><td>NA</td><td>days_to_conversion</td><td>-0.0004035372</td><td>8.885693e-05</td><td>-4.541427</td><td>40.43869</td><td>4.947792e-05</td><td>CD3G  </td><td>0.01492877</td><td>*   </td><td>-0.14729109</td></tr>\n",
       "\t<tr><td>Core naive CD4 T cell</td><td>fixed</td><td>NA</td><td>days_to_conversion</td><td> 0.0016511656</td><td>8.033993e-04</td><td> 2.055224</td><td>43.72880</td><td>4.586049e-02</td><td><span style=white-space:pre-wrap>EGR1  </span></td><td>0.05529592</td><td>&lt;0.2</td><td> 0.60267544</td></tr>\n",
       "\t<tr><td>Core naive CD4 T cell</td><td>fixed</td><td>NA</td><td>days_to_conversion</td><td> 0.0018137397</td><td>8.515426e-04</td><td> 2.129946</td><td>44.47366</td><td>3.874517e-02</td><td><span style=white-space:pre-wrap>FOS   </span></td><td>0.05115325</td><td>&lt;0.2</td><td> 0.66201498</td></tr>\n",
       "\t<tr><td>Core naive CD4 T cell</td><td>fixed</td><td>NA</td><td>days_to_conversion</td><td> 0.0017216025</td><td>6.395260e-04</td><td> 2.691998</td><td>43.90302</td><td>1.001409e-02</td><td>FOSB  </td><td>0.03709047</td><td>*   </td><td> 0.62838492</td></tr>\n",
       "\t<tr><td>Core naive CD4 T cell</td><td>fixed</td><td>NA</td><td>days_to_conversion</td><td> 0.0002157864</td><td>1.247033e-04</td><td> 1.730399</td><td>45.21633</td><td>9.037962e-02</td><td>GRAP2 </td><td>0.07347729</td><td>&lt;0.2</td><td> 0.07876204</td></tr>\n",
       "\t<tr><td>Core naive CD4 T cell</td><td>fixed</td><td>NA</td><td>days_to_conversion</td><td> 0.0002439515</td><td>1.256207e-04</td><td> 1.941969</td><td>43.49158</td><td>5.863544e-02</td><td><span style=white-space:pre-wrap>ICOS  </span></td><td>0.06063142</td><td>&lt;0.2</td><td> 0.08904228</td></tr>\n",
       "\t<tr><td>Core naive CD4 T cell</td><td>fixed</td><td>NA</td><td>days_to_conversion</td><td> 0.0002655282</td><td>1.585009e-04</td><td> 1.675247</td><td>46.00000</td><td>1.006716e-01</td><td>IKBKB </td><td>0.07760522</td><td>&lt;0.2</td><td> 0.09691780</td></tr>\n",
       "\t<tr><td>Core naive CD4 T cell</td><td>fixed</td><td>NA</td><td>days_to_conversion</td><td> 0.0002099937</td><td>1.123651e-04</td><td> 1.868852</td><td>39.19279</td><td>6.913017e-02</td><td>IL10RA</td><td>0.06537407</td><td>&lt;0.2</td><td> 0.07664772</td></tr>\n",
       "\t<tr><td>Core naive CD4 T cell</td><td>fixed</td><td>NA</td><td>days_to_conversion</td><td> 0.0004835631</td><td>2.031143e-04</td><td> 2.380744</td><td>44.47755</td><td>2.162405e-02</td><td>IL6ST </td><td>0.04307838</td><td>*   </td><td> 0.17650053</td></tr>\n",
       "\t<tr><td>Core naive CD4 T cell</td><td>fixed</td><td>NA</td><td>days_to_conversion</td><td> 0.0008808745</td><td>5.263213e-04</td><td> 1.673644</td><td>43.52880</td><td>1.013730e-01</td><td><span style=white-space:pre-wrap>JUN   </span></td><td>0.07788752</td><td>&lt;0.2</td><td> 0.32151918</td></tr>\n",
       "\t<tr><td>Core naive CD4 T cell</td><td>fixed</td><td>NA</td><td>days_to_conversion</td><td> 0.0003058825</td><td>1.858840e-04</td><td> 1.645556</td><td>44.86955</td><td>1.068436e-01</td><td>NFAT5 </td><td>0.08019657</td><td>&lt;0.2</td><td> 0.11164710</td></tr>\n",
       "\t<tr><td>Core naive CD4 T cell</td><td>fixed</td><td>NA</td><td>days_to_conversion</td><td> 0.0004447077</td><td>1.340436e-04</td><td> 3.317635</td><td>40.56658</td><td>1.923128e-03</td><td>NFKB1 </td><td>0.02543135</td><td>*   </td><td> 0.16231830</td></tr>\n",
       "\t<tr><td>Core naive CD4 T cell</td><td>fixed</td><td>NA</td><td>days_to_conversion</td><td> 0.0003035708</td><td>7.987098e-05</td><td> 3.800765</td><td>45.39132</td><td>4.275740e-04</td><td>PTPN4 </td><td>0.02093277</td><td>*   </td><td> 0.11080336</td></tr>\n",
       "\t<tr><td>Core naive CD4 T cell</td><td>fixed</td><td>NA</td><td>days_to_conversion</td><td> 0.0002989843</td><td>8.899580e-05</td><td> 3.359533</td><td>42.17354</td><td>1.665821e-03</td><td>RAF1  </td><td>0.02542518</td><td>*   </td><td> 0.10912929</td></tr>\n",
       "\t<tr><td>Core naive CD4 T cell</td><td>fixed</td><td>NA</td><td>days_to_conversion</td><td> 0.0003060449</td><td>1.422876e-04</td><td> 2.150889</td><td>43.49804</td><td>3.708188e-02</td><td><span style=white-space:pre-wrap>RORA  </span></td><td>0.05034672</td><td>&lt;0.2</td><td> 0.11170637</td></tr>\n",
       "\t<tr><td>Core naive CD4 T cell</td><td>fixed</td><td>NA</td><td>days_to_conversion</td><td> 0.0002869178</td><td>1.089561e-04</td><td> 2.633334</td><td>45.99397</td><td>1.147696e-02</td><td>STAT2 </td><td>0.03820139</td><td>*   </td><td> 0.10472498</td></tr>\n",
       "\t<tr><td>Core naive CD4 T cell</td><td>fixed</td><td>NA</td><td>days_to_conversion</td><td> 0.0003988003</td><td>1.443226e-04</td><td> 2.763256</td><td>43.42159</td><td>8.361335e-03</td><td>STAT4 </td><td>0.03626740</td><td>*   </td><td> 0.14556211</td></tr>\n",
       "\t<tr><td>Core naive CD4 T cell</td><td>fixed</td><td>NA</td><td>days_to_conversion</td><td> 0.0003203948</td><td>1.133097e-04</td><td> 2.827603</td><td>44.19388</td><td>7.021486e-03</td><td>STAT5B</td><td>0.03567915</td><td>*   </td><td> 0.11694412</td></tr>\n",
       "\t<tr><td>Core naive CD4 T cell</td><td>fixed</td><td>NA</td><td>days_to_conversion</td><td> 0.0002273110</td><td>1.395599e-04</td><td> 1.628770</td><td>45.18141</td><td>1.103156e-01</td><td>STAT6 </td><td>0.08137567</td><td>&lt;0.2</td><td> 0.08296850</td></tr>\n",
       "\t<tr><td>Core naive CD4 T cell</td><td>fixed</td><td>NA</td><td>days_to_conversion</td><td> 0.0001967482</td><td>8.446200e-05</td><td> 2.329429</td><td>45.95303</td><td>2.428639e-02</td><td>STIM1 </td><td>0.04443523</td><td>*   </td><td> 0.07181310</td></tr>\n",
       "\t<tr><td>Core naive CD4 T cell</td><td>fixed</td><td>NA</td><td>days_to_conversion</td><td> 0.0002696015</td><td>8.224771e-05</td><td> 3.277920</td><td>42.77197</td><td>2.081340e-03</td><td>STIM2 </td><td>0.02653349</td><td>*   </td><td> 0.09840453</td></tr>\n",
       "\t<tr><td>Core naive CD4 T cell</td><td>fixed</td><td>NA</td><td>days_to_conversion</td><td> 0.0001353352</td><td>8.249778e-05</td><td> 1.640471</td><td>45.99944</td><td>1.077287e-01</td><td><span style=white-space:pre-wrap>TCF7  </span></td><td>0.08056354</td><td>&lt;0.2</td><td> 0.04939736</td></tr>\n",
       "\t<tr><td>Core naive CD4 T cell</td><td>fixed</td><td>NA</td><td>days_to_conversion</td><td> 0.0004133662</td><td>1.237516e-04</td><td> 3.340290</td><td>43.92478</td><td>1.715030e-03</td><td>TRAF5 </td><td>0.02542518</td><td>*   </td><td> 0.15087868</td></tr>\n",
       "</tbody>\n",
       "</table>\n"
      ],
      "text/latex": [
       "A data.frame: 29 × 13\n",
       "\\begin{tabular}{lllllllllllll}\n",
       " celltype & effect & group & term & log2FoldChange & std.error & statistic & df & p.value & gene & padj & sig & logfc\\_by\\_year\\\\\n",
       " <chr> & <chr> & <lgl> & <chr> & <dbl> & <dbl> & <dbl> & <dbl> & <dbl> & <chr> & <dbl> & <chr> & <dbl>\\\\\n",
       "\\hline\n",
       "\t Core naive CD4 T cell & fixed & NA & days\\_to\\_conversion &  0.0005263800 & 1.967998e-04 &  2.674697 & 43.48119 & 1.049880e-02 & AKT3   & 0.03720433 & *    &  0.19212871\\\\\n",
       "\t Core naive CD4 T cell & fixed & NA & days\\_to\\_conversion &  0.0002890586 & 9.584918e-05 &  3.015765 & 40.31872 & 4.422017e-03 & CASP8  & 0.03168552 & *    &  0.10550640\\\\\n",
       "\t Core naive CD4 T cell & fixed & NA & days\\_to\\_conversion & -0.0002544154 & 1.086740e-04 & -2.341089 & 42.34323 & 2.400828e-02 & CD247  & 0.04443523 & *    & -0.09286162\\\\\n",
       "\t Core naive CD4 T cell & fixed & NA & days\\_to\\_conversion &  0.0003369934 & 1.496021e-04 &  2.252598 & 42.94973 & 2.944906e-02 & CD28   & 0.04628044 & *    &  0.12300258\\\\\n",
       "\t Core naive CD4 T cell & fixed & NA & days\\_to\\_conversion & -0.0002965159 & 1.121504e-04 & -2.643912 & 45.44790 & 1.120908e-02 & CD3D   & 0.03820139 & *    & -0.10822830\\\\\n",
       "\t Core naive CD4 T cell & fixed & NA & days\\_to\\_conversion & -0.0002768529 & 8.788824e-05 & -3.150056 & 44.19848 & 2.926250e-03 & CD3E   & 0.02785470 & *    & -0.10105130\\\\\n",
       "\t Core naive CD4 T cell & fixed & NA & days\\_to\\_conversion & -0.0004035372 & 8.885693e-05 & -4.541427 & 40.43869 & 4.947792e-05 & CD3G   & 0.01492877 & *    & -0.14729109\\\\\n",
       "\t Core naive CD4 T cell & fixed & NA & days\\_to\\_conversion &  0.0016511656 & 8.033993e-04 &  2.055224 & 43.72880 & 4.586049e-02 & EGR1   & 0.05529592 & <0.2 &  0.60267544\\\\\n",
       "\t Core naive CD4 T cell & fixed & NA & days\\_to\\_conversion &  0.0018137397 & 8.515426e-04 &  2.129946 & 44.47366 & 3.874517e-02 & FOS    & 0.05115325 & <0.2 &  0.66201498\\\\\n",
       "\t Core naive CD4 T cell & fixed & NA & days\\_to\\_conversion &  0.0017216025 & 6.395260e-04 &  2.691998 & 43.90302 & 1.001409e-02 & FOSB   & 0.03709047 & *    &  0.62838492\\\\\n",
       "\t Core naive CD4 T cell & fixed & NA & days\\_to\\_conversion &  0.0002157864 & 1.247033e-04 &  1.730399 & 45.21633 & 9.037962e-02 & GRAP2  & 0.07347729 & <0.2 &  0.07876204\\\\\n",
       "\t Core naive CD4 T cell & fixed & NA & days\\_to\\_conversion &  0.0002439515 & 1.256207e-04 &  1.941969 & 43.49158 & 5.863544e-02 & ICOS   & 0.06063142 & <0.2 &  0.08904228\\\\\n",
       "\t Core naive CD4 T cell & fixed & NA & days\\_to\\_conversion &  0.0002655282 & 1.585009e-04 &  1.675247 & 46.00000 & 1.006716e-01 & IKBKB  & 0.07760522 & <0.2 &  0.09691780\\\\\n",
       "\t Core naive CD4 T cell & fixed & NA & days\\_to\\_conversion &  0.0002099937 & 1.123651e-04 &  1.868852 & 39.19279 & 6.913017e-02 & IL10RA & 0.06537407 & <0.2 &  0.07664772\\\\\n",
       "\t Core naive CD4 T cell & fixed & NA & days\\_to\\_conversion &  0.0004835631 & 2.031143e-04 &  2.380744 & 44.47755 & 2.162405e-02 & IL6ST  & 0.04307838 & *    &  0.17650053\\\\\n",
       "\t Core naive CD4 T cell & fixed & NA & days\\_to\\_conversion &  0.0008808745 & 5.263213e-04 &  1.673644 & 43.52880 & 1.013730e-01 & JUN    & 0.07788752 & <0.2 &  0.32151918\\\\\n",
       "\t Core naive CD4 T cell & fixed & NA & days\\_to\\_conversion &  0.0003058825 & 1.858840e-04 &  1.645556 & 44.86955 & 1.068436e-01 & NFAT5  & 0.08019657 & <0.2 &  0.11164710\\\\\n",
       "\t Core naive CD4 T cell & fixed & NA & days\\_to\\_conversion &  0.0004447077 & 1.340436e-04 &  3.317635 & 40.56658 & 1.923128e-03 & NFKB1  & 0.02543135 & *    &  0.16231830\\\\\n",
       "\t Core naive CD4 T cell & fixed & NA & days\\_to\\_conversion &  0.0003035708 & 7.987098e-05 &  3.800765 & 45.39132 & 4.275740e-04 & PTPN4  & 0.02093277 & *    &  0.11080336\\\\\n",
       "\t Core naive CD4 T cell & fixed & NA & days\\_to\\_conversion &  0.0002989843 & 8.899580e-05 &  3.359533 & 42.17354 & 1.665821e-03 & RAF1   & 0.02542518 & *    &  0.10912929\\\\\n",
       "\t Core naive CD4 T cell & fixed & NA & days\\_to\\_conversion &  0.0003060449 & 1.422876e-04 &  2.150889 & 43.49804 & 3.708188e-02 & RORA   & 0.05034672 & <0.2 &  0.11170637\\\\\n",
       "\t Core naive CD4 T cell & fixed & NA & days\\_to\\_conversion &  0.0002869178 & 1.089561e-04 &  2.633334 & 45.99397 & 1.147696e-02 & STAT2  & 0.03820139 & *    &  0.10472498\\\\\n",
       "\t Core naive CD4 T cell & fixed & NA & days\\_to\\_conversion &  0.0003988003 & 1.443226e-04 &  2.763256 & 43.42159 & 8.361335e-03 & STAT4  & 0.03626740 & *    &  0.14556211\\\\\n",
       "\t Core naive CD4 T cell & fixed & NA & days\\_to\\_conversion &  0.0003203948 & 1.133097e-04 &  2.827603 & 44.19388 & 7.021486e-03 & STAT5B & 0.03567915 & *    &  0.11694412\\\\\n",
       "\t Core naive CD4 T cell & fixed & NA & days\\_to\\_conversion &  0.0002273110 & 1.395599e-04 &  1.628770 & 45.18141 & 1.103156e-01 & STAT6  & 0.08137567 & <0.2 &  0.08296850\\\\\n",
       "\t Core naive CD4 T cell & fixed & NA & days\\_to\\_conversion &  0.0001967482 & 8.446200e-05 &  2.329429 & 45.95303 & 2.428639e-02 & STIM1  & 0.04443523 & *    &  0.07181310\\\\\n",
       "\t Core naive CD4 T cell & fixed & NA & days\\_to\\_conversion &  0.0002696015 & 8.224771e-05 &  3.277920 & 42.77197 & 2.081340e-03 & STIM2  & 0.02653349 & *    &  0.09840453\\\\\n",
       "\t Core naive CD4 T cell & fixed & NA & days\\_to\\_conversion &  0.0001353352 & 8.249778e-05 &  1.640471 & 45.99944 & 1.077287e-01 & TCF7   & 0.08056354 & <0.2 &  0.04939736\\\\\n",
       "\t Core naive CD4 T cell & fixed & NA & days\\_to\\_conversion &  0.0004133662 & 1.237516e-04 &  3.340290 & 43.92478 & 1.715030e-03 & TRAF5  & 0.02542518 & *    &  0.15087868\\\\\n",
       "\\end{tabular}\n"
      ],
      "text/markdown": [
       "\n",
       "A data.frame: 29 × 13\n",
       "\n",
       "| celltype &lt;chr&gt; | effect &lt;chr&gt; | group &lt;lgl&gt; | term &lt;chr&gt; | log2FoldChange &lt;dbl&gt; | std.error &lt;dbl&gt; | statistic &lt;dbl&gt; | df &lt;dbl&gt; | p.value &lt;dbl&gt; | gene &lt;chr&gt; | padj &lt;dbl&gt; | sig &lt;chr&gt; | logfc_by_year &lt;dbl&gt; |\n",
       "|---|---|---|---|---|---|---|---|---|---|---|---|---|\n",
       "| Core naive CD4 T cell | fixed | NA | days_to_conversion |  0.0005263800 | 1.967998e-04 |  2.674697 | 43.48119 | 1.049880e-02 | AKT3   | 0.03720433 | *    |  0.19212871 |\n",
       "| Core naive CD4 T cell | fixed | NA | days_to_conversion |  0.0002890586 | 9.584918e-05 |  3.015765 | 40.31872 | 4.422017e-03 | CASP8  | 0.03168552 | *    |  0.10550640 |\n",
       "| Core naive CD4 T cell | fixed | NA | days_to_conversion | -0.0002544154 | 1.086740e-04 | -2.341089 | 42.34323 | 2.400828e-02 | CD247  | 0.04443523 | *    | -0.09286162 |\n",
       "| Core naive CD4 T cell | fixed | NA | days_to_conversion |  0.0003369934 | 1.496021e-04 |  2.252598 | 42.94973 | 2.944906e-02 | CD28   | 0.04628044 | *    |  0.12300258 |\n",
       "| Core naive CD4 T cell | fixed | NA | days_to_conversion | -0.0002965159 | 1.121504e-04 | -2.643912 | 45.44790 | 1.120908e-02 | CD3D   | 0.03820139 | *    | -0.10822830 |\n",
       "| Core naive CD4 T cell | fixed | NA | days_to_conversion | -0.0002768529 | 8.788824e-05 | -3.150056 | 44.19848 | 2.926250e-03 | CD3E   | 0.02785470 | *    | -0.10105130 |\n",
       "| Core naive CD4 T cell | fixed | NA | days_to_conversion | -0.0004035372 | 8.885693e-05 | -4.541427 | 40.43869 | 4.947792e-05 | CD3G   | 0.01492877 | *    | -0.14729109 |\n",
       "| Core naive CD4 T cell | fixed | NA | days_to_conversion |  0.0016511656 | 8.033993e-04 |  2.055224 | 43.72880 | 4.586049e-02 | EGR1   | 0.05529592 | &lt;0.2 |  0.60267544 |\n",
       "| Core naive CD4 T cell | fixed | NA | days_to_conversion |  0.0018137397 | 8.515426e-04 |  2.129946 | 44.47366 | 3.874517e-02 | FOS    | 0.05115325 | &lt;0.2 |  0.66201498 |\n",
       "| Core naive CD4 T cell | fixed | NA | days_to_conversion |  0.0017216025 | 6.395260e-04 |  2.691998 | 43.90302 | 1.001409e-02 | FOSB   | 0.03709047 | *    |  0.62838492 |\n",
       "| Core naive CD4 T cell | fixed | NA | days_to_conversion |  0.0002157864 | 1.247033e-04 |  1.730399 | 45.21633 | 9.037962e-02 | GRAP2  | 0.07347729 | &lt;0.2 |  0.07876204 |\n",
       "| Core naive CD4 T cell | fixed | NA | days_to_conversion |  0.0002439515 | 1.256207e-04 |  1.941969 | 43.49158 | 5.863544e-02 | ICOS   | 0.06063142 | &lt;0.2 |  0.08904228 |\n",
       "| Core naive CD4 T cell | fixed | NA | days_to_conversion |  0.0002655282 | 1.585009e-04 |  1.675247 | 46.00000 | 1.006716e-01 | IKBKB  | 0.07760522 | &lt;0.2 |  0.09691780 |\n",
       "| Core naive CD4 T cell | fixed | NA | days_to_conversion |  0.0002099937 | 1.123651e-04 |  1.868852 | 39.19279 | 6.913017e-02 | IL10RA | 0.06537407 | &lt;0.2 |  0.07664772 |\n",
       "| Core naive CD4 T cell | fixed | NA | days_to_conversion |  0.0004835631 | 2.031143e-04 |  2.380744 | 44.47755 | 2.162405e-02 | IL6ST  | 0.04307838 | *    |  0.17650053 |\n",
       "| Core naive CD4 T cell | fixed | NA | days_to_conversion |  0.0008808745 | 5.263213e-04 |  1.673644 | 43.52880 | 1.013730e-01 | JUN    | 0.07788752 | &lt;0.2 |  0.32151918 |\n",
       "| Core naive CD4 T cell | fixed | NA | days_to_conversion |  0.0003058825 | 1.858840e-04 |  1.645556 | 44.86955 | 1.068436e-01 | NFAT5  | 0.08019657 | &lt;0.2 |  0.11164710 |\n",
       "| Core naive CD4 T cell | fixed | NA | days_to_conversion |  0.0004447077 | 1.340436e-04 |  3.317635 | 40.56658 | 1.923128e-03 | NFKB1  | 0.02543135 | *    |  0.16231830 |\n",
       "| Core naive CD4 T cell | fixed | NA | days_to_conversion |  0.0003035708 | 7.987098e-05 |  3.800765 | 45.39132 | 4.275740e-04 | PTPN4  | 0.02093277 | *    |  0.11080336 |\n",
       "| Core naive CD4 T cell | fixed | NA | days_to_conversion |  0.0002989843 | 8.899580e-05 |  3.359533 | 42.17354 | 1.665821e-03 | RAF1   | 0.02542518 | *    |  0.10912929 |\n",
       "| Core naive CD4 T cell | fixed | NA | days_to_conversion |  0.0003060449 | 1.422876e-04 |  2.150889 | 43.49804 | 3.708188e-02 | RORA   | 0.05034672 | &lt;0.2 |  0.11170637 |\n",
       "| Core naive CD4 T cell | fixed | NA | days_to_conversion |  0.0002869178 | 1.089561e-04 |  2.633334 | 45.99397 | 1.147696e-02 | STAT2  | 0.03820139 | *    |  0.10472498 |\n",
       "| Core naive CD4 T cell | fixed | NA | days_to_conversion |  0.0003988003 | 1.443226e-04 |  2.763256 | 43.42159 | 8.361335e-03 | STAT4  | 0.03626740 | *    |  0.14556211 |\n",
       "| Core naive CD4 T cell | fixed | NA | days_to_conversion |  0.0003203948 | 1.133097e-04 |  2.827603 | 44.19388 | 7.021486e-03 | STAT5B | 0.03567915 | *    |  0.11694412 |\n",
       "| Core naive CD4 T cell | fixed | NA | days_to_conversion |  0.0002273110 | 1.395599e-04 |  1.628770 | 45.18141 | 1.103156e-01 | STAT6  | 0.08137567 | &lt;0.2 |  0.08296850 |\n",
       "| Core naive CD4 T cell | fixed | NA | days_to_conversion |  0.0001967482 | 8.446200e-05 |  2.329429 | 45.95303 | 2.428639e-02 | STIM1  | 0.04443523 | *    |  0.07181310 |\n",
       "| Core naive CD4 T cell | fixed | NA | days_to_conversion |  0.0002696015 | 8.224771e-05 |  3.277920 | 42.77197 | 2.081340e-03 | STIM2  | 0.02653349 | *    |  0.09840453 |\n",
       "| Core naive CD4 T cell | fixed | NA | days_to_conversion |  0.0001353352 | 8.249778e-05 |  1.640471 | 45.99944 | 1.077287e-01 | TCF7   | 0.08056354 | &lt;0.2 |  0.04939736 |\n",
       "| Core naive CD4 T cell | fixed | NA | days_to_conversion |  0.0004133662 | 1.237516e-04 |  3.340290 | 43.92478 | 1.715030e-03 | TRAF5  | 0.02542518 | *    |  0.15087868 |\n",
       "\n"
      ],
      "text/plain": [
       "   celltype              effect group term               log2FoldChange\n",
       "1  Core naive CD4 T cell fixed  NA    days_to_conversion  0.0005263800 \n",
       "2  Core naive CD4 T cell fixed  NA    days_to_conversion  0.0002890586 \n",
       "3  Core naive CD4 T cell fixed  NA    days_to_conversion -0.0002544154 \n",
       "4  Core naive CD4 T cell fixed  NA    days_to_conversion  0.0003369934 \n",
       "5  Core naive CD4 T cell fixed  NA    days_to_conversion -0.0002965159 \n",
       "6  Core naive CD4 T cell fixed  NA    days_to_conversion -0.0002768529 \n",
       "7  Core naive CD4 T cell fixed  NA    days_to_conversion -0.0004035372 \n",
       "8  Core naive CD4 T cell fixed  NA    days_to_conversion  0.0016511656 \n",
       "9  Core naive CD4 T cell fixed  NA    days_to_conversion  0.0018137397 \n",
       "10 Core naive CD4 T cell fixed  NA    days_to_conversion  0.0017216025 \n",
       "11 Core naive CD4 T cell fixed  NA    days_to_conversion  0.0002157864 \n",
       "12 Core naive CD4 T cell fixed  NA    days_to_conversion  0.0002439515 \n",
       "13 Core naive CD4 T cell fixed  NA    days_to_conversion  0.0002655282 \n",
       "14 Core naive CD4 T cell fixed  NA    days_to_conversion  0.0002099937 \n",
       "15 Core naive CD4 T cell fixed  NA    days_to_conversion  0.0004835631 \n",
       "16 Core naive CD4 T cell fixed  NA    days_to_conversion  0.0008808745 \n",
       "17 Core naive CD4 T cell fixed  NA    days_to_conversion  0.0003058825 \n",
       "18 Core naive CD4 T cell fixed  NA    days_to_conversion  0.0004447077 \n",
       "19 Core naive CD4 T cell fixed  NA    days_to_conversion  0.0003035708 \n",
       "20 Core naive CD4 T cell fixed  NA    days_to_conversion  0.0002989843 \n",
       "21 Core naive CD4 T cell fixed  NA    days_to_conversion  0.0003060449 \n",
       "22 Core naive CD4 T cell fixed  NA    days_to_conversion  0.0002869178 \n",
       "23 Core naive CD4 T cell fixed  NA    days_to_conversion  0.0003988003 \n",
       "24 Core naive CD4 T cell fixed  NA    days_to_conversion  0.0003203948 \n",
       "25 Core naive CD4 T cell fixed  NA    days_to_conversion  0.0002273110 \n",
       "26 Core naive CD4 T cell fixed  NA    days_to_conversion  0.0001967482 \n",
       "27 Core naive CD4 T cell fixed  NA    days_to_conversion  0.0002696015 \n",
       "28 Core naive CD4 T cell fixed  NA    days_to_conversion  0.0001353352 \n",
       "29 Core naive CD4 T cell fixed  NA    days_to_conversion  0.0004133662 \n",
       "   std.error    statistic df       p.value      gene   padj       sig \n",
       "1  1.967998e-04  2.674697 43.48119 1.049880e-02 AKT3   0.03720433 *   \n",
       "2  9.584918e-05  3.015765 40.31872 4.422017e-03 CASP8  0.03168552 *   \n",
       "3  1.086740e-04 -2.341089 42.34323 2.400828e-02 CD247  0.04443523 *   \n",
       "4  1.496021e-04  2.252598 42.94973 2.944906e-02 CD28   0.04628044 *   \n",
       "5  1.121504e-04 -2.643912 45.44790 1.120908e-02 CD3D   0.03820139 *   \n",
       "6  8.788824e-05 -3.150056 44.19848 2.926250e-03 CD3E   0.02785470 *   \n",
       "7  8.885693e-05 -4.541427 40.43869 4.947792e-05 CD3G   0.01492877 *   \n",
       "8  8.033993e-04  2.055224 43.72880 4.586049e-02 EGR1   0.05529592 <0.2\n",
       "9  8.515426e-04  2.129946 44.47366 3.874517e-02 FOS    0.05115325 <0.2\n",
       "10 6.395260e-04  2.691998 43.90302 1.001409e-02 FOSB   0.03709047 *   \n",
       "11 1.247033e-04  1.730399 45.21633 9.037962e-02 GRAP2  0.07347729 <0.2\n",
       "12 1.256207e-04  1.941969 43.49158 5.863544e-02 ICOS   0.06063142 <0.2\n",
       "13 1.585009e-04  1.675247 46.00000 1.006716e-01 IKBKB  0.07760522 <0.2\n",
       "14 1.123651e-04  1.868852 39.19279 6.913017e-02 IL10RA 0.06537407 <0.2\n",
       "15 2.031143e-04  2.380744 44.47755 2.162405e-02 IL6ST  0.04307838 *   \n",
       "16 5.263213e-04  1.673644 43.52880 1.013730e-01 JUN    0.07788752 <0.2\n",
       "17 1.858840e-04  1.645556 44.86955 1.068436e-01 NFAT5  0.08019657 <0.2\n",
       "18 1.340436e-04  3.317635 40.56658 1.923128e-03 NFKB1  0.02543135 *   \n",
       "19 7.987098e-05  3.800765 45.39132 4.275740e-04 PTPN4  0.02093277 *   \n",
       "20 8.899580e-05  3.359533 42.17354 1.665821e-03 RAF1   0.02542518 *   \n",
       "21 1.422876e-04  2.150889 43.49804 3.708188e-02 RORA   0.05034672 <0.2\n",
       "22 1.089561e-04  2.633334 45.99397 1.147696e-02 STAT2  0.03820139 *   \n",
       "23 1.443226e-04  2.763256 43.42159 8.361335e-03 STAT4  0.03626740 *   \n",
       "24 1.133097e-04  2.827603 44.19388 7.021486e-03 STAT5B 0.03567915 *   \n",
       "25 1.395599e-04  1.628770 45.18141 1.103156e-01 STAT6  0.08137567 <0.2\n",
       "26 8.446200e-05  2.329429 45.95303 2.428639e-02 STIM1  0.04443523 *   \n",
       "27 8.224771e-05  3.277920 42.77197 2.081340e-03 STIM2  0.02653349 *   \n",
       "28 8.249778e-05  1.640471 45.99944 1.077287e-01 TCF7   0.08056354 <0.2\n",
       "29 1.237516e-04  3.340290 43.92478 1.715030e-03 TRAF5  0.02542518 *   \n",
       "   logfc_by_year\n",
       "1   0.19212871  \n",
       "2   0.10550640  \n",
       "3  -0.09286162  \n",
       "4   0.12300258  \n",
       "5  -0.10822830  \n",
       "6  -0.10105130  \n",
       "7  -0.14729109  \n",
       "8   0.60267544  \n",
       "9   0.66201498  \n",
       "10  0.62838492  \n",
       "11  0.07876204  \n",
       "12  0.08904228  \n",
       "13  0.09691780  \n",
       "14  0.07664772  \n",
       "15  0.17650053  \n",
       "16  0.32151918  \n",
       "17  0.11164710  \n",
       "18  0.16231830  \n",
       "19  0.11080336  \n",
       "20  0.10912929  \n",
       "21  0.11170637  \n",
       "22  0.10472498  \n",
       "23  0.14556211  \n",
       "24  0.11694412  \n",
       "25  0.08296850  \n",
       "26  0.07181310  \n",
       "27  0.09840453  \n",
       "28  0.04939736  \n",
       "29  0.15087868  "
      ]
     },
     "metadata": {},
     "output_type": "display_data"
    }
   ],
   "source": [
    "# filtering genes from deg_a3 based on custom genes_to_plot\n",
    "deg_a3_filtered=deg_a3 %>% filter(gene %in% genes_to_plot)\n",
    "deg_a3_filtered"
   ]
  },
  {
   "cell_type": "code",
   "execution_count": 12,
   "id": "87d7690e-1a77-49e8-b74b-9d2ab05e0aec",
   "metadata": {},
   "outputs": [
    {
     "data": {
      "text/html": [
       "<style>\n",
       ".list-inline {list-style: none; margin:0; padding: 0}\n",
       ".list-inline>li {display: inline-block}\n",
       ".list-inline>li:not(:last-child)::after {content: \"\\00b7\"; padding: 0 .5ex}\n",
       "</style>\n",
       "<ol class=list-inline><li>'AKT3'</li><li>'CASP8'</li><li>'CD247'</li><li>'CD28'</li><li>'CD3D'</li><li>'CD3E'</li><li>'CD3G'</li><li>'EGR1'</li><li>'FOS'</li><li>'FOSB'</li><li>'IL6ST'</li><li>'NFKB1'</li><li>'PTPN4'</li><li>'RAF1'</li><li>'RORA'</li><li>'STAT2'</li><li>'STAT4'</li><li>'STAT5B'</li><li>'STIM1'</li><li>'STIM2'</li><li>'TRAF5'</li></ol>\n"
      ],
      "text/latex": [
       "\\begin{enumerate*}\n",
       "\\item 'AKT3'\n",
       "\\item 'CASP8'\n",
       "\\item 'CD247'\n",
       "\\item 'CD28'\n",
       "\\item 'CD3D'\n",
       "\\item 'CD3E'\n",
       "\\item 'CD3G'\n",
       "\\item 'EGR1'\n",
       "\\item 'FOS'\n",
       "\\item 'FOSB'\n",
       "\\item 'IL6ST'\n",
       "\\item 'NFKB1'\n",
       "\\item 'PTPN4'\n",
       "\\item 'RAF1'\n",
       "\\item 'RORA'\n",
       "\\item 'STAT2'\n",
       "\\item 'STAT4'\n",
       "\\item 'STAT5B'\n",
       "\\item 'STIM1'\n",
       "\\item 'STIM2'\n",
       "\\item 'TRAF5'\n",
       "\\end{enumerate*}\n"
      ],
      "text/markdown": [
       "1. 'AKT3'\n",
       "2. 'CASP8'\n",
       "3. 'CD247'\n",
       "4. 'CD28'\n",
       "5. 'CD3D'\n",
       "6. 'CD3E'\n",
       "7. 'CD3G'\n",
       "8. 'EGR1'\n",
       "9. 'FOS'\n",
       "10. 'FOSB'\n",
       "11. 'IL6ST'\n",
       "12. 'NFKB1'\n",
       "13. 'PTPN4'\n",
       "14. 'RAF1'\n",
       "15. 'RORA'\n",
       "16. 'STAT2'\n",
       "17. 'STAT4'\n",
       "18. 'STAT5B'\n",
       "19. 'STIM1'\n",
       "20. 'STIM2'\n",
       "21. 'TRAF5'\n",
       "\n",
       "\n"
      ],
      "text/plain": [
       " [1] \"AKT3\"   \"CASP8\"  \"CD247\"  \"CD28\"   \"CD3D\"   \"CD3E\"   \"CD3G\"   \"EGR1\"  \n",
       " [9] \"FOS\"    \"FOSB\"   \"IL6ST\"  \"NFKB1\"  \"PTPN4\"  \"RAF1\"   \"RORA\"   \"STAT2\" \n",
       "[17] \"STAT4\"  \"STAT5B\" \"STIM1\"  \"STIM2\"  \"TRAF5\" "
      ]
     },
     "metadata": {},
     "output_type": "display_data"
    },
    {
     "data": {
      "text/html": [
       "21"
      ],
      "text/latex": [
       "21"
      ],
      "text/markdown": [
       "21"
      ],
      "text/plain": [
       "[1] 21"
      ]
     },
     "metadata": {},
     "output_type": "display_data"
    }
   ],
   "source": [
    "# filtering the significant genes from the custom genes to plot \n",
    "filtered_genes <- deg_a3_filtered %>% \n",
    "  filter(p.value <0.05 & padj < 0.1) %>% \n",
    "  pull(gene)\n",
    "filtered_genes\n",
    "filtered_genes%>%length"
   ]
  },
  {
   "cell_type": "code",
   "execution_count": 13,
   "id": "a62e2692-c278-47bb-b5c6-77c18440f2a0",
   "metadata": {
    "scrolled": true
   },
   "outputs": [
    {
     "data": {
      "text/html": [
       "<table class=\"dataframe\">\n",
       "<caption>A data.frame: 6 × 13</caption>\n",
       "<thead>\n",
       "\t<tr><th></th><th scope=col>celltype</th><th scope=col>effect</th><th scope=col>group</th><th scope=col>term</th><th scope=col>log2FoldChange</th><th scope=col>std.error</th><th scope=col>statistic</th><th scope=col>df</th><th scope=col>p.value</th><th scope=col>gene</th><th scope=col>padj</th><th scope=col>sig</th><th scope=col>logfc_by_year</th></tr>\n",
       "\t<tr><th></th><th scope=col>&lt;chr&gt;</th><th scope=col>&lt;chr&gt;</th><th scope=col>&lt;lgl&gt;</th><th scope=col>&lt;chr&gt;</th><th scope=col>&lt;dbl&gt;</th><th scope=col>&lt;dbl&gt;</th><th scope=col>&lt;dbl&gt;</th><th scope=col>&lt;dbl&gt;</th><th scope=col>&lt;dbl&gt;</th><th scope=col>&lt;chr&gt;</th><th scope=col>&lt;dbl&gt;</th><th scope=col>&lt;chr&gt;</th><th scope=col>&lt;dbl&gt;</th></tr>\n",
       "</thead>\n",
       "<tbody>\n",
       "\t<tr><th scope=row>1</th><td>Core naive CD4 T cell</td><td>fixed</td><td>NA</td><td>days_to_conversion</td><td> 0.0005263800</td><td>1.967998e-04</td><td> 2.674697</td><td>43.48119</td><td>0.010498803</td><td>AKT3 </td><td>0.03720433</td><td>*</td><td> 0.19212871</td></tr>\n",
       "\t<tr><th scope=row>2</th><td>Core naive CD4 T cell</td><td>fixed</td><td>NA</td><td>days_to_conversion</td><td> 0.0002890586</td><td>9.584918e-05</td><td> 3.015765</td><td>40.31872</td><td>0.004422017</td><td>CASP8</td><td>0.03168552</td><td>*</td><td> 0.10550640</td></tr>\n",
       "\t<tr><th scope=row>3</th><td>Core naive CD4 T cell</td><td>fixed</td><td>NA</td><td>days_to_conversion</td><td>-0.0002544154</td><td>1.086740e-04</td><td>-2.341089</td><td>42.34323</td><td>0.024008285</td><td>CD247</td><td>0.04443523</td><td>*</td><td>-0.09286162</td></tr>\n",
       "\t<tr><th scope=row>4</th><td>Core naive CD4 T cell</td><td>fixed</td><td>NA</td><td>days_to_conversion</td><td> 0.0003369934</td><td>1.496021e-04</td><td> 2.252598</td><td>42.94973</td><td>0.029449061</td><td>CD28 </td><td>0.04628044</td><td>*</td><td> 0.12300258</td></tr>\n",
       "\t<tr><th scope=row>5</th><td>Core naive CD4 T cell</td><td>fixed</td><td>NA</td><td>days_to_conversion</td><td>-0.0002965159</td><td>1.121504e-04</td><td>-2.643912</td><td>45.44790</td><td>0.011209079</td><td>CD3D </td><td>0.03820139</td><td>*</td><td>-0.10822830</td></tr>\n",
       "\t<tr><th scope=row>6</th><td>Core naive CD4 T cell</td><td>fixed</td><td>NA</td><td>days_to_conversion</td><td>-0.0002768529</td><td>8.788824e-05</td><td>-3.150056</td><td>44.19848</td><td>0.002926250</td><td>CD3E </td><td>0.02785470</td><td>*</td><td>-0.10105130</td></tr>\n",
       "</tbody>\n",
       "</table>\n"
      ],
      "text/latex": [
       "A data.frame: 6 × 13\n",
       "\\begin{tabular}{r|lllllllllllll}\n",
       "  & celltype & effect & group & term & log2FoldChange & std.error & statistic & df & p.value & gene & padj & sig & logfc\\_by\\_year\\\\\n",
       "  & <chr> & <chr> & <lgl> & <chr> & <dbl> & <dbl> & <dbl> & <dbl> & <dbl> & <chr> & <dbl> & <chr> & <dbl>\\\\\n",
       "\\hline\n",
       "\t1 & Core naive CD4 T cell & fixed & NA & days\\_to\\_conversion &  0.0005263800 & 1.967998e-04 &  2.674697 & 43.48119 & 0.010498803 & AKT3  & 0.03720433 & * &  0.19212871\\\\\n",
       "\t2 & Core naive CD4 T cell & fixed & NA & days\\_to\\_conversion &  0.0002890586 & 9.584918e-05 &  3.015765 & 40.31872 & 0.004422017 & CASP8 & 0.03168552 & * &  0.10550640\\\\\n",
       "\t3 & Core naive CD4 T cell & fixed & NA & days\\_to\\_conversion & -0.0002544154 & 1.086740e-04 & -2.341089 & 42.34323 & 0.024008285 & CD247 & 0.04443523 & * & -0.09286162\\\\\n",
       "\t4 & Core naive CD4 T cell & fixed & NA & days\\_to\\_conversion &  0.0003369934 & 1.496021e-04 &  2.252598 & 42.94973 & 0.029449061 & CD28  & 0.04628044 & * &  0.12300258\\\\\n",
       "\t5 & Core naive CD4 T cell & fixed & NA & days\\_to\\_conversion & -0.0002965159 & 1.121504e-04 & -2.643912 & 45.44790 & 0.011209079 & CD3D  & 0.03820139 & * & -0.10822830\\\\\n",
       "\t6 & Core naive CD4 T cell & fixed & NA & days\\_to\\_conversion & -0.0002768529 & 8.788824e-05 & -3.150056 & 44.19848 & 0.002926250 & CD3E  & 0.02785470 & * & -0.10105130\\\\\n",
       "\\end{tabular}\n"
      ],
      "text/markdown": [
       "\n",
       "A data.frame: 6 × 13\n",
       "\n",
       "| <!--/--> | celltype &lt;chr&gt; | effect &lt;chr&gt; | group &lt;lgl&gt; | term &lt;chr&gt; | log2FoldChange &lt;dbl&gt; | std.error &lt;dbl&gt; | statistic &lt;dbl&gt; | df &lt;dbl&gt; | p.value &lt;dbl&gt; | gene &lt;chr&gt; | padj &lt;dbl&gt; | sig &lt;chr&gt; | logfc_by_year &lt;dbl&gt; |\n",
       "|---|---|---|---|---|---|---|---|---|---|---|---|---|---|\n",
       "| 1 | Core naive CD4 T cell | fixed | NA | days_to_conversion |  0.0005263800 | 1.967998e-04 |  2.674697 | 43.48119 | 0.010498803 | AKT3  | 0.03720433 | * |  0.19212871 |\n",
       "| 2 | Core naive CD4 T cell | fixed | NA | days_to_conversion |  0.0002890586 | 9.584918e-05 |  3.015765 | 40.31872 | 0.004422017 | CASP8 | 0.03168552 | * |  0.10550640 |\n",
       "| 3 | Core naive CD4 T cell | fixed | NA | days_to_conversion | -0.0002544154 | 1.086740e-04 | -2.341089 | 42.34323 | 0.024008285 | CD247 | 0.04443523 | * | -0.09286162 |\n",
       "| 4 | Core naive CD4 T cell | fixed | NA | days_to_conversion |  0.0003369934 | 1.496021e-04 |  2.252598 | 42.94973 | 0.029449061 | CD28  | 0.04628044 | * |  0.12300258 |\n",
       "| 5 | Core naive CD4 T cell | fixed | NA | days_to_conversion | -0.0002965159 | 1.121504e-04 | -2.643912 | 45.44790 | 0.011209079 | CD3D  | 0.03820139 | * | -0.10822830 |\n",
       "| 6 | Core naive CD4 T cell | fixed | NA | days_to_conversion | -0.0002768529 | 8.788824e-05 | -3.150056 | 44.19848 | 0.002926250 | CD3E  | 0.02785470 | * | -0.10105130 |\n",
       "\n"
      ],
      "text/plain": [
       "  celltype              effect group term               log2FoldChange\n",
       "1 Core naive CD4 T cell fixed  NA    days_to_conversion  0.0005263800 \n",
       "2 Core naive CD4 T cell fixed  NA    days_to_conversion  0.0002890586 \n",
       "3 Core naive CD4 T cell fixed  NA    days_to_conversion -0.0002544154 \n",
       "4 Core naive CD4 T cell fixed  NA    days_to_conversion  0.0003369934 \n",
       "5 Core naive CD4 T cell fixed  NA    days_to_conversion -0.0002965159 \n",
       "6 Core naive CD4 T cell fixed  NA    days_to_conversion -0.0002768529 \n",
       "  std.error    statistic df       p.value     gene  padj       sig\n",
       "1 1.967998e-04  2.674697 43.48119 0.010498803 AKT3  0.03720433 *  \n",
       "2 9.584918e-05  3.015765 40.31872 0.004422017 CASP8 0.03168552 *  \n",
       "3 1.086740e-04 -2.341089 42.34323 0.024008285 CD247 0.04443523 *  \n",
       "4 1.496021e-04  2.252598 42.94973 0.029449061 CD28  0.04628044 *  \n",
       "5 1.121504e-04 -2.643912 45.44790 0.011209079 CD3D  0.03820139 *  \n",
       "6 8.788824e-05 -3.150056 44.19848 0.002926250 CD3E  0.02785470 *  \n",
       "  logfc_by_year\n",
       "1  0.19212871  \n",
       "2  0.10550640  \n",
       "3 -0.09286162  \n",
       "4  0.12300258  \n",
       "5 -0.10822830  \n",
       "6 -0.10105130  "
      ]
     },
     "metadata": {},
     "output_type": "display_data"
    },
    {
     "data": {
      "text/html": [
       "<style>\n",
       ".list-inline {list-style: none; margin:0; padding: 0}\n",
       ".list-inline>li {display: inline-block}\n",
       ".list-inline>li:not(:last-child)::after {content: \"\\00b7\"; padding: 0 .5ex}\n",
       "</style>\n",
       "<ol class=list-inline><li>21</li><li>13</li></ol>\n"
      ],
      "text/latex": [
       "\\begin{enumerate*}\n",
       "\\item 21\n",
       "\\item 13\n",
       "\\end{enumerate*}\n"
      ],
      "text/markdown": [
       "1. 21\n",
       "2. 13\n",
       "\n",
       "\n"
      ],
      "text/plain": [
       "[1] 21 13"
      ]
     },
     "metadata": {},
     "output_type": "display_data"
    }
   ],
   "source": [
    "#subsetting the significant genes as df \n",
    "# Filter from  deg_a3 dataframe to include only the  filtered_genes to plot whos padj<0.1\n",
    "filtered_df_gene <- deg_a3_filtered[deg_a3_filtered$gene %in% filtered_genes, ]\n",
    "filtered_df_gene%>%head()\n",
    "filtered_df_gene%>%dim"
   ]
  },
  {
   "cell_type": "code",
   "execution_count": 14,
   "id": "913c4b44-fb52-45ea-8197-38991c99a472",
   "metadata": {
    "scrolled": true
   },
   "outputs": [
    {
     "data": {
      "image/png": "[encoded data removed]",
      "text/plain": [
       "plot without title"
      ]
     },
     "metadata": {
      "image/png": {
       "height": 300,
       "width": 300
      }
     },
     "output_type": "display_data"
    }
   ],
   "source": [
    "plot_custom_volcano(data = deg_a3, logfc_column = \"logfc_by_year\", pval_column = \"p.value\", \n",
    "             padj_column = \"padj\", gene_column = \"gene\", filtered_genes = filtered_df_gene, \n",
    "             title = \"Core Naive CD4 T cells\", x_label = \"log 2 fold change by year\", y_label = \"-log10 (adjusted P value)\",\n",
    "             #x_limits = c(-0.6,0.6), \n",
    "                    #y_limits = c(0.3, 2), \n",
    "                    max_overlaps = 35,\n",
    "             file_path = fig_path, file_name = \"Fig_5A.pdf\"\n",
    "                   )"
   ]
  },
  {
   "cell_type": "code",
   "execution_count": 15,
   "id": "41c71580-976c-4735-974d-4cd4d94172f2",
   "metadata": {},
   "outputs": [
    {
     "data": {
      "text/plain": [
       "R version 4.3.1 (2023-06-16)\n",
       "Platform: x86_64-conda-linux-gnu (64-bit)\n",
       "Running under: Ubuntu 20.04.6 LTS\n",
       "\n",
       "Matrix products: default\n",
       "BLAS/LAPACK: /home/jupyter/libs/r_scrna/lib/libopenblasp-r0.3.24.so;  LAPACK version 3.11.0\n",
       "\n",
       "locale:\n",
       " [1] LC_CTYPE=C.UTF-8       LC_NUMERIC=C           LC_TIME=C.UTF-8       \n",
       " [4] LC_COLLATE=C.UTF-8     LC_MONETARY=C.UTF-8    LC_MESSAGES=C.UTF-8   \n",
       " [7] LC_PAPER=C.UTF-8       LC_NAME=C              LC_ADDRESS=C          \n",
       "[10] LC_TELEPHONE=C         LC_MEASUREMENT=C.UTF-8 LC_IDENTIFICATION=C   \n",
       "\n",
       "time zone: Etc/UTC\n",
       "tzcode source: system (glibc)\n",
       "\n",
       "attached base packages:\n",
       "[1] stats4    stats     graphics  grDevices utils     datasets  methods  \n",
       "[8] base     \n",
       "\n",
       "other attached packages:\n",
       " [1] ggthemes_5.1.0              ggrepel_0.9.5              \n",
       " [3] lme4_1.1-34                 plotly_4.10.4              \n",
       " [5] knitr_1.47                  ggpubr_0.6.0               \n",
       " [7] SeuratDisk_0.0.0.9021       SingleCellExperiment_1.22.0\n",
       " [9] SummarizedExperiment_1.30.2 Biobase_2.60.0             \n",
       "[11] GenomicRanges_1.52.1        GenomeInfoDb_1.36.4        \n",
       "[13] IRanges_2.34.1              S4Vectors_0.38.2           \n",
       "[15] BiocGenerics_0.46.0         MatrixGenerics_1.12.3      \n",
       "[17] matrixStats_1.3.0           future.apply_1.11.2        \n",
       "[19] future_1.33.2               harmony_1.2.0              \n",
       "[21] Rcpp_1.0.12                 viridis_0.6.5              \n",
       "[23] viridisLite_0.4.2           Matrix_1.6-1.1             \n",
       "[25] SeuratObject_5.0.0          Seurat_4.4.0               \n",
       "[27] lubridate_1.9.3             forcats_1.0.0              \n",
       "[29] stringr_1.5.1               dplyr_1.1.4                \n",
       "[31] purrr_1.0.2                 readr_2.1.5                \n",
       "[33] tidyr_1.3.1                 tibble_3.2.1               \n",
       "[35] ggplot2_3.5.1               tidyverse_2.0.0            \n",
       "\n",
       "loaded via a namespace (and not attached):\n",
       "  [1] RcppAnnoy_0.0.22        splines_4.3.1           later_1.3.2            \n",
       "  [4] pbdZMQ_0.3-11           bitops_1.0-7            polyclip_1.10-6        \n",
       "  [7] lifecycle_1.0.4         rstatix_0.7.2           globals_0.16.3         \n",
       " [10] lattice_0.22-6          hdf5r_1.3.10            MASS_7.3-60            \n",
       " [13] backports_1.5.0         magrittr_2.0.3          httpuv_1.6.15          \n",
       " [16] sctransform_0.4.1       spam_2.10-0             sp_2.1-4               \n",
       " [19] spatstat.sparse_3.1-0   reticulate_1.38.0       cowplot_1.1.3          \n",
       " [22] pbapply_1.7-2           minqa_1.2.7             RColorBrewer_1.1-3     \n",
       " [25] abind_1.4-5             zlibbioc_1.46.0         Rtsne_0.17             \n",
       " [28] RCurl_1.98-1.14         GenomeInfoDbData_1.2.10 irlba_2.3.5.1          \n",
       " [31] listenv_0.9.1           spatstat.utils_3.0-5    goftest_1.2-3          \n",
       " [34] spatstat.random_3.2-3   fitdistrplus_1.1-11     parallelly_1.37.1      \n",
       " [37] leiden_0.4.3.1          codetools_0.2-20        DelayedArray_0.26.7    \n",
       " [40] tidyselect_1.2.1        farver_2.1.2            base64enc_0.1-3        \n",
       " [43] spatstat.explore_3.2-7  jsonlite_1.8.8          progressr_0.14.0       \n",
       " [46] ggridges_0.5.6          survival_3.7-0          systemfonts_1.1.0      \n",
       " [49] tools_4.3.1             ragg_1.2.5              ica_1.0-3              \n",
       " [52] glue_1.7.0              gridExtra_2.3           xfun_0.45              \n",
       " [55] IRdisplay_1.1           withr_3.0.0             fastmap_1.2.0          \n",
       " [58] boot_1.3-30             fansi_1.0.6             digest_0.6.36          \n",
       " [61] timechange_0.3.0        R6_2.5.1                mime_0.12              \n",
       " [64] textshaping_0.4.0       colorspace_2.1-0        Cairo_1.6-2            \n",
       " [67] scattermore_1.2         tensor_1.5              spatstat.data_3.1-2    \n",
       " [70] utf8_1.2.4              generics_0.1.3          data.table_1.15.4      \n",
       " [73] httr_1.4.7              htmlwidgets_1.6.4       S4Arrays_1.0.6         \n",
       " [76] uwot_0.2.2              pkgconfig_2.0.3         gtable_0.3.5           \n",
       " [79] lmtest_0.9-40           XVector_0.40.0          htmltools_0.5.8.1      \n",
       " [82] carData_3.0-5           dotCall64_1.1-1         scales_1.3.0           \n",
       " [85] png_0.1-8               tzdb_0.4.0              reshape2_1.4.4         \n",
       " [88] uuid_1.2-0              nlme_3.1-165            nloptr_2.0.3           \n",
       " [91] repr_1.1.7              zoo_1.8-12              KernSmooth_2.23-24     \n",
       " [94] parallel_4.3.1          miniUI_0.1.1.1          pillar_1.9.0           \n",
       " [97] grid_4.3.1              vctrs_0.6.5             RANN_2.6.1             \n",
       "[100] promises_1.3.0          car_3.1-2               xtable_1.8-4           \n",
       "[103] cluster_2.1.6           evaluate_0.24.0         cli_3.6.3              \n",
       "[106] compiler_4.3.1          rlang_1.1.4             crayon_1.5.3           \n",
       "[109] ggsignif_0.6.4          labeling_0.4.3          plyr_1.8.9             \n",
       "[112] stringi_1.8.4           deldir_2.0-4            munsell_0.5.1          \n",
       "[115] lazyeval_0.2.2          spatstat.geom_3.2-9     IRkernel_1.3.2         \n",
       "[118] hms_1.1.3               patchwork_1.2.0         bit64_4.0.5            \n",
       "[121] shiny_1.8.1.1           ROCR_1.0-11             igraph_2.0.3           \n",
       "[124] broom_1.0.6             bit_4.0.5              "
      ]
     },
     "metadata": {},
     "output_type": "display_data"
    }
   ],
   "source": [
    "sessionInfo()"
   ]
  },
  {
   "cell_type": "code",
   "execution_count": null,
   "id": "236312c5-2e82-4f92-9186-1a503a5146aa",
   "metadata": {},
   "outputs": [],
   "source": []
  },
  {
   "cell_type": "code",
   "execution_count": null,
   "id": "6ce95db5-6bc7-40cf-9fbd-0d7a44df67c8",
   "metadata": {},
   "outputs": [],
   "source": []
  },
  {
   "cell_type": "code",
   "execution_count": null,
   "id": "0dbd4c98-f30a-4ebd-8919-873306685202",
   "metadata": {},
   "outputs": [],
   "source": []
  },
  {
   "cell_type": "code",
   "execution_count": null,
   "id": "dcd2241e-d248-4e22-a911-0b5e5c48e485",
   "metadata": {},
   "outputs": [],
   "source": []
  }
 ],
 "metadata": {
  "kernelspec": {
   "display_name": "r_scrna",
   "language": "R",
   "name": "r_scrna"
  },
  "language_info": {
   "codemirror_mode": "r",
   "file_extension": ".r",
   "mimetype": "text/x-r-source",
   "name": "R",
   "pygments_lexer": "r",
   "version": "4.3.1"
  }
 },
 "nbformat": 4,
 "nbformat_minor": 5
}
