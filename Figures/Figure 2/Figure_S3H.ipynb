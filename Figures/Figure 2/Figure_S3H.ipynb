{
 "cells": [
  {
   "cell_type": "markdown",
   "id": "1053befd-9a2a-4c8a-88d3-ae15645e298f",
   "metadata": {},
   "source": [
    "## DEG for Monocyte population"
   ]
  },
  {
   "cell_type": "code",
   "execution_count": 1,
   "id": "be083041-5dc8-4d8b-b690-a45d35de3c97",
   "metadata": {},
   "outputs": [],
   "source": [
    "\n",
    "# load libraries\n",
    "quiet_library <- function(...) {\n",
    "    suppressPackageStartupMessages(library(...))\n",
    "}\n",
    "quiet_library(tidyverse)\n",
    "quiet_library(Seurat)\n",
    "quiet_library(ggplot2)\n",
    "quiet_library(Matrix)\n",
    "quiet_library(dplyr)\n",
    "quiet_library(viridis)\n",
    "quiet_library(harmony)\n",
    "quiet_library(future)\n",
    "quiet_library(future.apply)\n",
    "quiet_library(SingleCellExperiment)\n",
    "quiet_library(SeuratDisk)\n",
    "quiet_library(ggpubr)\n",
    "quiet_library(knitr)\n",
    "quiet_library(plotly)\n",
    "quiet_library(lme4)\n",
    "quiet_library(ggpubr)\n",
    "quiet_library(ggrepel)\n",
    "quiet_library(ggthemes)"
   ]
  },
  {
   "cell_type": "code",
   "execution_count": 2,
   "id": "7d224fe5-30fb-4564-861f-a705ca0db518",
   "metadata": {},
   "outputs": [
    {
     "data": {
      "text/html": [
       "<strong>system:</strong> 64"
      ],
      "text/latex": [
       "\\textbf{system:} 64"
      ],
      "text/markdown": [
       "**system:** 64"
      ],
      "text/plain": [
       "system \n",
       "    64 "
      ]
     },
     "metadata": {},
     "output_type": "display_data"
    }
   ],
   "source": [
    "# Check number of cores\n",
    "future::availableCores()\n",
    "# Set up parallel processing to run when using 'future' functions \n",
    "future::plan(strategy = \"multicore\", workers = future::availableCores()-5)  \n",
    "options(future.globals.maxSize = 1000 * 1024^3)\n",
    "# to turn off parallel processing run line below\n",
    "# future::plan(strategy = \"sequential\")"
   ]
  },
  {
   "cell_type": "code",
   "execution_count": 3,
   "id": "a338a2f0-0e3d-49c1-bda0-546dc3943442",
   "metadata": {},
   "outputs": [],
   "source": [
    "# define the color palette to be used\n",
    "npg_color <- c(\"#E64B35FF\", \"#4DBBD5FF\", \"#00A087FF\", \"#3C5488FF\", \"#F39B7FFF\", \n",
    "               \"#8491B4FF\", \"#91D1C2FF\", \"#DC0000FF\", \"#7E6148FF\", \"#B09C85FF\")\n",
    "nejm_color <- c(\"#BC3C29FF\", \"#0072B5FF\", \"#E18727FF\", \"#20854EFF\", \"#7876B1FF\", \"#6F99ADFF\", \"#FFDC91FF\", \"#EE4C97FF\")\n",
    "jama_color <- c(\"#374E55FF\", \"#DF8F44FF\", \"#00A1D5FF\", \"#B24745FF\", \"#79AF97FF\", \"#6A6599FF\", \"#80796BFF\")\n",
    "jco_color <- c(\"#0073C2FF\", \"#EFC000FF\", \"#868686FF\", \"#CD534CFF\", \"#7AA6DCFF\", \"#003C67FF\", \"#8F7700FF\")\n",
    "cluster_colors <- c(\"#DC050C\", \"#FB8072\", \"#1965B0\", \"#7BAFDE\", \"#882E72\", \"#B17BA6\", \"#FF7F00\", \"#FDB462\", \"#E7298A\", \n",
    "    \"#E78AC3\", \"#33A02C\", \"#B2DF8A\", \"#55A1B1\", \"#8DD3C7\", \"#A6761D\", \"#E6AB02\", \"#7570B3\", \"#BEAED4\", \"#666666\", \"#999999\", \n",
    "    \"#aa8282\", \"#d4b7b7\", \"#8600bf\", \"#ba5ce3\", \"#808000\", \"#aeae5c\", \"#1e90ff\", \"#00bfff\", \"#56ff0d\", \"#ffff00\")\n",
    "coolors_clrs<-c(\"#EFB0A1\",\"#009FF5\",\"#1A5E9B\",\"#42E2B8\",\"#4ECDC4\",\"#89B6A5\",\"#F1D26A\",\"#D5B0AC\",\"#EDABB1\",\"#02504D\",\"#AA9674\",\"#E64B35FF\",\"#4DBBD5FF\",\"#00A087FF\")\n",
    "\n",
    "cluster_colors_ext <- colorRampPalette(cluster_colors)(36)\n",
    "options(repr.plot.width =5, repr.plot.height =5)"
   ]
  },
  {
   "cell_type": "code",
   "execution_count": 4,
   "id": "650ee798-5fc8-48eb-91de-79ca2a7a7688",
   "metadata": {},
   "outputs": [
    {
     "data": {
      "text/html": [
       "<table class=\"dataframe\">\n",
       "<caption>A data.frame: 6 × 6</caption>\n",
       "<thead>\n",
       "\t<tr><th></th><th scope=col>X</th><th scope=col>names</th><th scope=col>scores</th><th scope=col>logfoldchanges</th><th scope=col>pvals</th><th scope=col>pvals_adj</th></tr>\n",
       "\t<tr><th></th><th scope=col>&lt;int&gt;</th><th scope=col>&lt;chr&gt;</th><th scope=col>&lt;dbl&gt;</th><th scope=col>&lt;dbl&gt;</th><th scope=col>&lt;dbl&gt;</th><th scope=col>&lt;dbl&gt;</th></tr>\n",
       "</thead>\n",
       "<tbody>\n",
       "\t<tr><th scope=row>1</th><td>0</td><td>BTG2  </td><td>36.72996</td><td>2.686426</td><td>2.428947e-295</td><td>8.146201e-291</td></tr>\n",
       "\t<tr><th scope=row>2</th><td>1</td><td>ZFP36 </td><td>35.65667</td><td>1.831412</td><td>1.856960e-278</td><td>3.113936e-274</td></tr>\n",
       "\t<tr><th scope=row>3</th><td>2</td><td>NAMPT </td><td>34.04606</td><td>2.431517</td><td>4.641935e-254</td><td>5.189374e-250</td></tr>\n",
       "\t<tr><th scope=row>4</th><td>3</td><td>EGR1  </td><td>32.23386</td><td>2.667222</td><td>5.923545e-228</td><td>4.966597e-224</td></tr>\n",
       "\t<tr><th scope=row>5</th><td>4</td><td>NFKBIA</td><td>30.46304</td><td>1.924873</td><td>8.048464e-204</td><td>5.398587e-200</td></tr>\n",
       "\t<tr><th scope=row>6</th><td>5</td><td>IER2  </td><td>30.20532</td><td>1.526077</td><td>2.016486e-200</td><td>1.127148e-196</td></tr>\n",
       "</tbody>\n",
       "</table>\n"
      ],
      "text/latex": [
       "A data.frame: 6 × 6\n",
       "\\begin{tabular}{r|llllll}\n",
       "  & X & names & scores & logfoldchanges & pvals & pvals\\_adj\\\\\n",
       "  & <int> & <chr> & <dbl> & <dbl> & <dbl> & <dbl>\\\\\n",
       "\\hline\n",
       "\t1 & 0 & BTG2   & 36.72996 & 2.686426 & 2.428947e-295 & 8.146201e-291\\\\\n",
       "\t2 & 1 & ZFP36  & 35.65667 & 1.831412 & 1.856960e-278 & 3.113936e-274\\\\\n",
       "\t3 & 2 & NAMPT  & 34.04606 & 2.431517 & 4.641935e-254 & 5.189374e-250\\\\\n",
       "\t4 & 3 & EGR1   & 32.23386 & 2.667222 & 5.923545e-228 & 4.966597e-224\\\\\n",
       "\t5 & 4 & NFKBIA & 30.46304 & 1.924873 & 8.048464e-204 & 5.398587e-200\\\\\n",
       "\t6 & 5 & IER2   & 30.20532 & 1.526077 & 2.016486e-200 & 1.127148e-196\\\\\n",
       "\\end{tabular}\n"
      ],
      "text/markdown": [
       "\n",
       "A data.frame: 6 × 6\n",
       "\n",
       "| <!--/--> | X &lt;int&gt; | names &lt;chr&gt; | scores &lt;dbl&gt; | logfoldchanges &lt;dbl&gt; | pvals &lt;dbl&gt; | pvals_adj &lt;dbl&gt; |\n",
       "|---|---|---|---|---|---|---|\n",
       "| 1 | 0 | BTG2   | 36.72996 | 2.686426 | 2.428947e-295 | 8.146201e-291 |\n",
       "| 2 | 1 | ZFP36  | 35.65667 | 1.831412 | 1.856960e-278 | 3.113936e-274 |\n",
       "| 3 | 2 | NAMPT  | 34.04606 | 2.431517 | 4.641935e-254 | 5.189374e-250 |\n",
       "| 4 | 3 | EGR1   | 32.23386 | 2.667222 | 5.923545e-228 | 4.966597e-224 |\n",
       "| 5 | 4 | NFKBIA | 30.46304 | 1.924873 | 8.048464e-204 | 5.398587e-200 |\n",
       "| 6 | 5 | IER2   | 30.20532 | 1.526077 | 2.016486e-200 | 1.127148e-196 |\n",
       "\n"
      ],
      "text/plain": [
       "  X names  scores   logfoldchanges pvals         pvals_adj    \n",
       "1 0 BTG2   36.72996 2.686426       2.428947e-295 8.146201e-291\n",
       "2 1 ZFP36  35.65667 1.831412       1.856960e-278 3.113936e-274\n",
       "3 2 NAMPT  34.04606 2.431517       4.641935e-254 5.189374e-250\n",
       "4 3 EGR1   32.23386 2.667222       5.923545e-228 4.966597e-224\n",
       "5 4 NFKBIA 30.46304 1.924873       8.048464e-204 5.398587e-200\n",
       "6 5 IER2   30.20532 1.526077       2.016486e-200 1.127148e-196"
      ]
     },
     "metadata": {},
     "output_type": "display_data"
    },
    {
     "data": {
      "text/html": [
       "<style>\n",
       ".list-inline {list-style: none; margin:0; padding: 0}\n",
       ".list-inline>li {display: inline-block}\n",
       ".list-inline>li:not(:last-child)::after {content: \"\\00b7\"; padding: 0 .5ex}\n",
       "</style>\n",
       "<ol class=list-inline><li>791</li><li>6</li></ol>\n"
      ],
      "text/latex": [
       "\\begin{enumerate*}\n",
       "\\item 791\n",
       "\\item 6\n",
       "\\end{enumerate*}\n"
      ],
      "text/markdown": [
       "1. 791\n",
       "2. 6\n",
       "\n",
       "\n"
      ],
      "text/plain": [
       "[1] 791   6"
      ]
     },
     "metadata": {},
     "output_type": "display_data"
    }
   ],
   "source": [
    "# reading the DEG's results\n",
    "degs_C3=read.csv(\"/home/jupyter/ALTRA_ANALYSIS/Deep_clean/Figure_notebooks/files/input_files/ALTRA_scRNA_il1bvscore_cd14mono_wilcoxon_sig_degs.csv\")\n",
    "degs_C3%>%head()\n",
    "degs_C3%>%dim"
   ]
  },
  {
   "cell_type": "code",
   "execution_count": 5,
   "id": "746838d9-6e85-4444-83e8-c23a82d8d6d1",
   "metadata": {},
   "outputs": [
    {
     "data": {
      "text/html": [
       "<table class=\"dataframe\">\n",
       "<caption>A data.frame: 3 × 6</caption>\n",
       "<thead>\n",
       "\t<tr><th></th><th scope=col>X</th><th scope=col>gene</th><th scope=col>scores</th><th scope=col>log2FoldChange</th><th scope=col>p.value</th><th scope=col>padj</th></tr>\n",
       "\t<tr><th></th><th scope=col>&lt;int&gt;</th><th scope=col>&lt;chr&gt;</th><th scope=col>&lt;dbl&gt;</th><th scope=col>&lt;dbl&gt;</th><th scope=col>&lt;dbl&gt;</th><th scope=col>&lt;dbl&gt;</th></tr>\n",
       "</thead>\n",
       "<tbody>\n",
       "\t<tr><th scope=row>1</th><td>0</td><td>BTG2 </td><td>36.72996</td><td>2.686426</td><td>2.428947e-295</td><td>8.146201e-291</td></tr>\n",
       "\t<tr><th scope=row>2</th><td>1</td><td>ZFP36</td><td>35.65667</td><td>1.831412</td><td>1.856960e-278</td><td>3.113936e-274</td></tr>\n",
       "\t<tr><th scope=row>3</th><td>2</td><td>NAMPT</td><td>34.04606</td><td>2.431517</td><td>4.641935e-254</td><td>5.189374e-250</td></tr>\n",
       "</tbody>\n",
       "</table>\n"
      ],
      "text/latex": [
       "A data.frame: 3 × 6\n",
       "\\begin{tabular}{r|llllll}\n",
       "  & X & gene & scores & log2FoldChange & p.value & padj\\\\\n",
       "  & <int> & <chr> & <dbl> & <dbl> & <dbl> & <dbl>\\\\\n",
       "\\hline\n",
       "\t1 & 0 & BTG2  & 36.72996 & 2.686426 & 2.428947e-295 & 8.146201e-291\\\\\n",
       "\t2 & 1 & ZFP36 & 35.65667 & 1.831412 & 1.856960e-278 & 3.113936e-274\\\\\n",
       "\t3 & 2 & NAMPT & 34.04606 & 2.431517 & 4.641935e-254 & 5.189374e-250\\\\\n",
       "\\end{tabular}\n"
      ],
      "text/markdown": [
       "\n",
       "A data.frame: 3 × 6\n",
       "\n",
       "| <!--/--> | X &lt;int&gt; | gene &lt;chr&gt; | scores &lt;dbl&gt; | log2FoldChange &lt;dbl&gt; | p.value &lt;dbl&gt; | padj &lt;dbl&gt; |\n",
       "|---|---|---|---|---|---|---|\n",
       "| 1 | 0 | BTG2  | 36.72996 | 2.686426 | 2.428947e-295 | 8.146201e-291 |\n",
       "| 2 | 1 | ZFP36 | 35.65667 | 1.831412 | 1.856960e-278 | 3.113936e-274 |\n",
       "| 3 | 2 | NAMPT | 34.04606 | 2.431517 | 4.641935e-254 | 5.189374e-250 |\n",
       "\n"
      ],
      "text/plain": [
       "  X gene  scores   log2FoldChange p.value       padj         \n",
       "1 0 BTG2  36.72996 2.686426       2.428947e-295 8.146201e-291\n",
       "2 1 ZFP36 35.65667 1.831412       1.856960e-278 3.113936e-274\n",
       "3 2 NAMPT 34.04606 2.431517       4.641935e-254 5.189374e-250"
      ]
     },
     "metadata": {},
     "output_type": "display_data"
    }
   ],
   "source": [
    "## renaming the columns\n",
    "degs_C3 <- degs_C3 %>%\n",
    "  rename(\n",
    "    log2FoldChange = logfoldchanges,\n",
    "    p.value = pvals,\n",
    "    padj = pvals_adj,\n",
    "    gene=names\n",
    "  )\n",
    "degs_C3%>%head(3)"
   ]
  },
  {
   "cell_type": "code",
   "execution_count": 6,
   "id": "d36e1571-865f-43f5-a439-2f9f554fb587",
   "metadata": {},
   "outputs": [
    {
     "data": {
      "text/html": [
       "<table class=\"dataframe\">\n",
       "<caption>A data.frame: 6 × 6</caption>\n",
       "<thead>\n",
       "\t<tr><th></th><th scope=col>X</th><th scope=col>gene</th><th scope=col>scores</th><th scope=col>log2FoldChange</th><th scope=col>p.value</th><th scope=col>padj</th></tr>\n",
       "\t<tr><th></th><th scope=col>&lt;int&gt;</th><th scope=col>&lt;chr&gt;</th><th scope=col>&lt;dbl&gt;</th><th scope=col>&lt;dbl&gt;</th><th scope=col>&lt;dbl&gt;</th><th scope=col>&lt;dbl&gt;</th></tr>\n",
       "</thead>\n",
       "<tbody>\n",
       "\t<tr><th scope=row>5</th><td> 4</td><td>NFKBIA</td><td>30.46304</td><td>1.9248729</td><td>8.048464e-204</td><td>5.398587e-200</td></tr>\n",
       "\t<tr><th scope=row>7</th><td> 6</td><td>IL1B  </td><td>28.88865</td><td>4.3995170</td><td>1.657785e-183</td><td>7.942684e-180</td></tr>\n",
       "\t<tr><th scope=row>9</th><td> 8</td><td>DUSP1 </td><td>27.87844</td><td>1.3179054</td><td>4.871589e-171</td><td>1.815371e-167</td></tr>\n",
       "\t<tr><th scope=row>14</th><td>13</td><td>CCL3  </td><td>25.16932</td><td>3.9536767</td><td>8.684956e-140</td><td>2.080543e-136</td></tr>\n",
       "\t<tr><th scope=row>25</th><td>24</td><td>CXCL8 </td><td>21.12499</td><td>3.5799384</td><td> 4.687395e-99</td><td> 6.288235e-96</td></tr>\n",
       "\t<tr><th scope=row>33</th><td>32</td><td>KLF6  </td><td>16.91758</td><td>0.9022796</td><td> 3.338368e-64</td><td> 3.392794e-61</td></tr>\n",
       "</tbody>\n",
       "</table>\n"
      ],
      "text/latex": [
       "A data.frame: 6 × 6\n",
       "\\begin{tabular}{r|llllll}\n",
       "  & X & gene & scores & log2FoldChange & p.value & padj\\\\\n",
       "  & <int> & <chr> & <dbl> & <dbl> & <dbl> & <dbl>\\\\\n",
       "\\hline\n",
       "\t5 &  4 & NFKBIA & 30.46304 & 1.9248729 & 8.048464e-204 & 5.398587e-200\\\\\n",
       "\t7 &  6 & IL1B   & 28.88865 & 4.3995170 & 1.657785e-183 & 7.942684e-180\\\\\n",
       "\t9 &  8 & DUSP1  & 27.87844 & 1.3179054 & 4.871589e-171 & 1.815371e-167\\\\\n",
       "\t14 & 13 & CCL3   & 25.16932 & 3.9536767 & 8.684956e-140 & 2.080543e-136\\\\\n",
       "\t25 & 24 & CXCL8  & 21.12499 & 3.5799384 &  4.687395e-99 &  6.288235e-96\\\\\n",
       "\t33 & 32 & KLF6   & 16.91758 & 0.9022796 &  3.338368e-64 &  3.392794e-61\\\\\n",
       "\\end{tabular}\n"
      ],
      "text/markdown": [
       "\n",
       "A data.frame: 6 × 6\n",
       "\n",
       "| <!--/--> | X &lt;int&gt; | gene &lt;chr&gt; | scores &lt;dbl&gt; | log2FoldChange &lt;dbl&gt; | p.value &lt;dbl&gt; | padj &lt;dbl&gt; |\n",
       "|---|---|---|---|---|---|---|\n",
       "| 5 |  4 | NFKBIA | 30.46304 | 1.9248729 | 8.048464e-204 | 5.398587e-200 |\n",
       "| 7 |  6 | IL1B   | 28.88865 | 4.3995170 | 1.657785e-183 | 7.942684e-180 |\n",
       "| 9 |  8 | DUSP1  | 27.87844 | 1.3179054 | 4.871589e-171 | 1.815371e-167 |\n",
       "| 14 | 13 | CCL3   | 25.16932 | 3.9536767 | 8.684956e-140 | 2.080543e-136 |\n",
       "| 25 | 24 | CXCL8  | 21.12499 | 3.5799384 |  4.687395e-99 |  6.288235e-96 |\n",
       "| 33 | 32 | KLF6   | 16.91758 | 0.9022796 |  3.338368e-64 |  3.392794e-61 |\n",
       "\n"
      ],
      "text/plain": [
       "   X  gene   scores   log2FoldChange p.value       padj         \n",
       "5   4 NFKBIA 30.46304 1.9248729      8.048464e-204 5.398587e-200\n",
       "7   6 IL1B   28.88865 4.3995170      1.657785e-183 7.942684e-180\n",
       "9   8 DUSP1  27.87844 1.3179054      4.871589e-171 1.815371e-167\n",
       "14 13 CCL3   25.16932 3.9536767      8.684956e-140 2.080543e-136\n",
       "25 24 CXCL8  21.12499 3.5799384       4.687395e-99  6.288235e-96\n",
       "33 32 KLF6   16.91758 0.9022796       3.338368e-64  3.392794e-61"
      ]
     },
     "metadata": {},
     "output_type": "display_data"
    },
    {
     "data": {
      "text/html": [
       "<style>\n",
       ".list-inline {list-style: none; margin:0; padding: 0}\n",
       ".list-inline>li {display: inline-block}\n",
       ".list-inline>li:not(:last-child)::after {content: \"\\00b7\"; padding: 0 .5ex}\n",
       "</style>\n",
       "<ol class=list-inline><li>16</li><li>6</li></ol>\n"
      ],
      "text/latex": [
       "\\begin{enumerate*}\n",
       "\\item 16\n",
       "\\item 6\n",
       "\\end{enumerate*}\n"
      ],
      "text/markdown": [
       "1. 16\n",
       "2. 6\n",
       "\n",
       "\n"
      ],
      "text/plain": [
       "[1] 16  6"
      ]
     },
     "metadata": {},
     "output_type": "display_data"
    }
   ],
   "source": [
    "genes_to_plot =c(\"IL1B\", \"TNF\", \"CCL3\", \"CCL4\",\"CXCL3\", \"CXCL8\", \"CXCL10\", \"ICAM1\", \n",
    "           \"FOLR2\", \"NFKBIA\",\"NLRP3\", \"CD14\", \"FCGR3A\", \"HLA-DRA\", \"CCR2\", \"KLF6\", \n",
    "           \"NR4A1\", \"DUSP1\", \"RORA\", \"ATF3\")\n",
    "#subsetting the significant genes as df \n",
    "# Filter from  deg_a3 dataframe to include only the  filtered_genes to plot whos padj<0.1\n",
    "\n",
    "filtered_df_gene <- degs_C3[degs_C3$gene %in% genes_to_plot, ]\n",
    "filtered_df_gene%>%head()\n",
    "filtered_df_gene%>%dim"
   ]
  },
  {
   "cell_type": "code",
   "execution_count": 7,
   "id": "80e832f5-b676-4cae-b59c-0b07e5c17bb6",
   "metadata": {},
   "outputs": [
    {
     "data": {
      "text/html": [
       "<table class=\"dataframe\">\n",
       "<caption>A data.frame: 16 × 6</caption>\n",
       "<thead>\n",
       "\t<tr><th></th><th scope=col>X</th><th scope=col>gene</th><th scope=col>scores</th><th scope=col>log2FoldChange</th><th scope=col>p.value</th><th scope=col>padj</th></tr>\n",
       "\t<tr><th></th><th scope=col>&lt;int&gt;</th><th scope=col>&lt;chr&gt;</th><th scope=col>&lt;dbl&gt;</th><th scope=col>&lt;dbl&gt;</th><th scope=col>&lt;dbl&gt;</th><th scope=col>&lt;dbl&gt;</th></tr>\n",
       "</thead>\n",
       "<tbody>\n",
       "\t<tr><th scope=row>5</th><td>  4</td><td>NFKBIA </td><td>30.463043</td><td> 1.9248729</td><td>8.048464e-204</td><td>5.398587e-200</td></tr>\n",
       "\t<tr><th scope=row>7</th><td>  6</td><td>IL1B   </td><td>28.888653</td><td> 4.3995170</td><td>1.657785e-183</td><td>7.942684e-180</td></tr>\n",
       "\t<tr><th scope=row>9</th><td>  8</td><td>DUSP1  </td><td>27.878439</td><td> 1.3179054</td><td>4.871589e-171</td><td>1.815371e-167</td></tr>\n",
       "\t<tr><th scope=row>14</th><td> 13</td><td>CCL3   </td><td>25.169320</td><td> 3.9536767</td><td>8.684956e-140</td><td>2.080543e-136</td></tr>\n",
       "\t<tr><th scope=row>25</th><td> 24</td><td>CXCL8  </td><td>21.124989</td><td> 3.5799384</td><td> 4.687395e-99</td><td> 6.288235e-96</td></tr>\n",
       "\t<tr><th scope=row>33</th><td> 32</td><td>KLF6   </td><td>16.917585</td><td> 0.9022796</td><td> 3.338368e-64</td><td> 3.392794e-61</td></tr>\n",
       "\t<tr><th scope=row>101</th><td> 59</td><td>HLA-DRA</td><td>12.156189</td><td> 0.5125745</td><td> 5.318242e-34</td><td> 1.765972e-31</td></tr>\n",
       "\t<tr><th scope=row>102</th><td> 60</td><td>NR4A1  </td><td>12.055490</td><td> 2.2402184</td><td> 1.814507e-33</td><td> 5.966170e-31</td></tr>\n",
       "\t<tr><th scope=row>104</th><td> 61</td><td>CD14   </td><td>11.958722</td><td> 0.4249720</td><td> 5.845431e-33</td><td> 1.885039e-30</td></tr>\n",
       "\t<tr><th scope=row>182</th><td> 97</td><td>ICAM1  </td><td> 8.512612</td><td> 1.3773873</td><td> 1.700573e-17</td><td> 3.133726e-15</td></tr>\n",
       "\t<tr><th scope=row>207</th><td>113</td><td>NLRP3  </td><td> 7.922886</td><td> 0.8865106</td><td> 2.320605e-15</td><td> 3.759829e-13</td></tr>\n",
       "\t<tr><th scope=row>241</th><td>131</td><td>CCL4   </td><td> 7.394026</td><td> 4.4402695</td><td> 1.424490e-13</td><td> 1.982346e-11</td></tr>\n",
       "\t<tr><th scope=row>253</th><td>139</td><td>ATF3   </td><td> 7.137030</td><td> 2.0799122</td><td> 9.536885e-13</td><td> 1.264221e-10</td></tr>\n",
       "\t<tr><th scope=row>291</th><td>163</td><td>TNF    </td><td> 6.516695</td><td> 2.3012195</td><td> 7.187338e-11</td><td> 8.283469e-09</td></tr>\n",
       "\t<tr><th scope=row>346</th><td>638</td><td>CCR2   </td><td>-5.766850</td><td>-0.5545097</td><td> 8.076697e-09</td><td> 7.828794e-07</td></tr>\n",
       "\t<tr><th scope=row>583</th><td>311</td><td>FCGR3A </td><td> 3.990669</td><td> 1.2577237</td><td> 6.588721e-05</td><td> 3.790790e-03</td></tr>\n",
       "</tbody>\n",
       "</table>\n"
      ],
      "text/latex": [
       "A data.frame: 16 × 6\n",
       "\\begin{tabular}{r|llllll}\n",
       "  & X & gene & scores & log2FoldChange & p.value & padj\\\\\n",
       "  & <int> & <chr> & <dbl> & <dbl> & <dbl> & <dbl>\\\\\n",
       "\\hline\n",
       "\t5 &   4 & NFKBIA  & 30.463043 &  1.9248729 & 8.048464e-204 & 5.398587e-200\\\\\n",
       "\t7 &   6 & IL1B    & 28.888653 &  4.3995170 & 1.657785e-183 & 7.942684e-180\\\\\n",
       "\t9 &   8 & DUSP1   & 27.878439 &  1.3179054 & 4.871589e-171 & 1.815371e-167\\\\\n",
       "\t14 &  13 & CCL3    & 25.169320 &  3.9536767 & 8.684956e-140 & 2.080543e-136\\\\\n",
       "\t25 &  24 & CXCL8   & 21.124989 &  3.5799384 &  4.687395e-99 &  6.288235e-96\\\\\n",
       "\t33 &  32 & KLF6    & 16.917585 &  0.9022796 &  3.338368e-64 &  3.392794e-61\\\\\n",
       "\t101 &  59 & HLA-DRA & 12.156189 &  0.5125745 &  5.318242e-34 &  1.765972e-31\\\\\n",
       "\t102 &  60 & NR4A1   & 12.055490 &  2.2402184 &  1.814507e-33 &  5.966170e-31\\\\\n",
       "\t104 &  61 & CD14    & 11.958722 &  0.4249720 &  5.845431e-33 &  1.885039e-30\\\\\n",
       "\t182 &  97 & ICAM1   &  8.512612 &  1.3773873 &  1.700573e-17 &  3.133726e-15\\\\\n",
       "\t207 & 113 & NLRP3   &  7.922886 &  0.8865106 &  2.320605e-15 &  3.759829e-13\\\\\n",
       "\t241 & 131 & CCL4    &  7.394026 &  4.4402695 &  1.424490e-13 &  1.982346e-11\\\\\n",
       "\t253 & 139 & ATF3    &  7.137030 &  2.0799122 &  9.536885e-13 &  1.264221e-10\\\\\n",
       "\t291 & 163 & TNF     &  6.516695 &  2.3012195 &  7.187338e-11 &  8.283469e-09\\\\\n",
       "\t346 & 638 & CCR2    & -5.766850 & -0.5545097 &  8.076697e-09 &  7.828794e-07\\\\\n",
       "\t583 & 311 & FCGR3A  &  3.990669 &  1.2577237 &  6.588721e-05 &  3.790790e-03\\\\\n",
       "\\end{tabular}\n"
      ],
      "text/markdown": [
       "\n",
       "A data.frame: 16 × 6\n",
       "\n",
       "| <!--/--> | X &lt;int&gt; | gene &lt;chr&gt; | scores &lt;dbl&gt; | log2FoldChange &lt;dbl&gt; | p.value &lt;dbl&gt; | padj &lt;dbl&gt; |\n",
       "|---|---|---|---|---|---|---|\n",
       "| 5 |   4 | NFKBIA  | 30.463043 |  1.9248729 | 8.048464e-204 | 5.398587e-200 |\n",
       "| 7 |   6 | IL1B    | 28.888653 |  4.3995170 | 1.657785e-183 | 7.942684e-180 |\n",
       "| 9 |   8 | DUSP1   | 27.878439 |  1.3179054 | 4.871589e-171 | 1.815371e-167 |\n",
       "| 14 |  13 | CCL3    | 25.169320 |  3.9536767 | 8.684956e-140 | 2.080543e-136 |\n",
       "| 25 |  24 | CXCL8   | 21.124989 |  3.5799384 |  4.687395e-99 |  6.288235e-96 |\n",
       "| 33 |  32 | KLF6    | 16.917585 |  0.9022796 |  3.338368e-64 |  3.392794e-61 |\n",
       "| 101 |  59 | HLA-DRA | 12.156189 |  0.5125745 |  5.318242e-34 |  1.765972e-31 |\n",
       "| 102 |  60 | NR4A1   | 12.055490 |  2.2402184 |  1.814507e-33 |  5.966170e-31 |\n",
       "| 104 |  61 | CD14    | 11.958722 |  0.4249720 |  5.845431e-33 |  1.885039e-30 |\n",
       "| 182 |  97 | ICAM1   |  8.512612 |  1.3773873 |  1.700573e-17 |  3.133726e-15 |\n",
       "| 207 | 113 | NLRP3   |  7.922886 |  0.8865106 |  2.320605e-15 |  3.759829e-13 |\n",
       "| 241 | 131 | CCL4    |  7.394026 |  4.4402695 |  1.424490e-13 |  1.982346e-11 |\n",
       "| 253 | 139 | ATF3    |  7.137030 |  2.0799122 |  9.536885e-13 |  1.264221e-10 |\n",
       "| 291 | 163 | TNF     |  6.516695 |  2.3012195 |  7.187338e-11 |  8.283469e-09 |\n",
       "| 346 | 638 | CCR2    | -5.766850 | -0.5545097 |  8.076697e-09 |  7.828794e-07 |\n",
       "| 583 | 311 | FCGR3A  |  3.990669 |  1.2577237 |  6.588721e-05 |  3.790790e-03 |\n",
       "\n"
      ],
      "text/plain": [
       "    X   gene    scores    log2FoldChange p.value       padj         \n",
       "5     4 NFKBIA  30.463043  1.9248729     8.048464e-204 5.398587e-200\n",
       "7     6 IL1B    28.888653  4.3995170     1.657785e-183 7.942684e-180\n",
       "9     8 DUSP1   27.878439  1.3179054     4.871589e-171 1.815371e-167\n",
       "14   13 CCL3    25.169320  3.9536767     8.684956e-140 2.080543e-136\n",
       "25   24 CXCL8   21.124989  3.5799384      4.687395e-99  6.288235e-96\n",
       "33   32 KLF6    16.917585  0.9022796      3.338368e-64  3.392794e-61\n",
       "101  59 HLA-DRA 12.156189  0.5125745      5.318242e-34  1.765972e-31\n",
       "102  60 NR4A1   12.055490  2.2402184      1.814507e-33  5.966170e-31\n",
       "104  61 CD14    11.958722  0.4249720      5.845431e-33  1.885039e-30\n",
       "182  97 ICAM1    8.512612  1.3773873      1.700573e-17  3.133726e-15\n",
       "207 113 NLRP3    7.922886  0.8865106      2.320605e-15  3.759829e-13\n",
       "241 131 CCL4     7.394026  4.4402695      1.424490e-13  1.982346e-11\n",
       "253 139 ATF3     7.137030  2.0799122      9.536885e-13  1.264221e-10\n",
       "291 163 TNF      6.516695  2.3012195      7.187338e-11  8.283469e-09\n",
       "346 638 CCR2    -5.766850 -0.5545097      8.076697e-09  7.828794e-07\n",
       "583 311 FCGR3A   3.990669  1.2577237      6.588721e-05  3.790790e-03"
      ]
     },
     "metadata": {},
     "output_type": "display_data"
    }
   ],
   "source": [
    "filtered_df_gene"
   ]
  },
  {
   "cell_type": "code",
   "execution_count": 8,
   "id": "c8bc5728-5a61-44ce-9d86-ab4207664177",
   "metadata": {},
   "outputs": [
    {
     "data": {
      "image/png": "[encoded data removed]",
      "text/plain": [
       "plot without title"
      ]
     },
     "metadata": {
      "image/png": {
       "height": 300,
       "width": 300
      }
     },
     "output_type": "display_data"
    }
   ],
   "source": [
    "# Define the y-axis threshold for -log10(padj) significant threshold to be considered as significant gene is -log10(0.01) which is 2\n",
    "y_threshold <- 2 \n",
    "\n",
    "degs_C3 <- degs_C3 %>% mutate(\n",
    "  sig_color1 = case_when(\n",
    "    abs(log2FoldChange) < 0.1 | -log10(padj) < y_threshold ~ '#595959',\n",
    "    log2FoldChange < 0.1 & -log10(padj) >= y_threshold ~ '#1f77b4', # blue\n",
    "    log2FoldChange > 0.1 & -log10(padj) >= y_threshold ~ '#d62728', # red\n",
    "    TRUE ~ 'grey'\n",
    "  )\n",
    ")\n",
    "\n",
    "p1 <- ggplot(degs_C3, aes(x = log2FoldChange, y = -log10(padj), color = sig_color1)) +\n",
    "  geom_point(size = 3, alpha = 0.5,stroke=0) +  # Adjust alpha for transparency\n",
    "  geom_hline(yintercept = y_threshold, linetype = \"dashed\", color = \"black\") +\n",
    "  geom_vline(xintercept = c(-0.1, 0.1), linetype = \"dashed\") +\n",
    "  labs(x = \"log 2 fold change\", y = \"-log10 (adjusted P value)\", title = \"\") +\n",
    "  theme_minimal() +\n",
    "  geom_point(data = filtered_df_gene, aes(x = log2FoldChange, y = -log10(padj)), \n",
    "             fill = \"#fee090\", color = \"black\", size = 3, shape = 21, stroke = .5) +  # Yellow fill with black outline\n",
    "  geom_text_repel(data = filtered_df_gene, aes(x = log2FoldChange, y = -log10(padj), label = gene),\n",
    "                  hjust = -0.4, vjust = -0.7, size = 5, color = \"black\", segment.size = .5, segment.color = \"black\", force = 5, max.overlaps = 35, min.segment.length = 0)+\n",
    "  scale_color_manual(values = c('#595959' = '#595959', '#d62728' = '#d62728', '#1f77b4' = '#1f77b4')) +\n",
    "  theme_few() +\n",
    "  theme(\n",
    "    legend.position = \"none\",\n",
    "  #   panel.grid.major = element_blank(),  # Remove major grid lines\n",
    "  #   panel.grid.minor = element_blank()   # Remove minor grid lines\n",
    "  ) +\n",
    "  annotate(\"text\", x = Inf, y = -Inf, label = paste(\"Total genes:\", nrow(degs_C3)), hjust = 1, vjust = -1,\n",
    "           color = \"black\", size = 5) +\n",
    "  xlim(-2, 6)\n",
    "\n",
    "print(p1)\n",
    "ggsave(\"/home/jupyter/ALTRA_ANALYSIS/Deep_clean/Figure_files/Certpro_figures/Plots_for_manuscript/Fig_S3_H.pdf\", plot = p1, width = 5, height = 5, units = \"in\")"
   ]
  },
  {
   "cell_type": "code",
   "execution_count": 9,
   "id": "f30a660e-94f6-4cc5-a29a-ed454fe80021",
   "metadata": {},
   "outputs": [
    {
     "data": {
      "text/plain": [
       "R version 4.3.1 (2023-06-16)\n",
       "Platform: x86_64-conda-linux-gnu (64-bit)\n",
       "Running under: Ubuntu 20.04.6 LTS\n",
       "\n",
       "Matrix products: default\n",
       "BLAS/LAPACK: /home/jupyter/libs/r_scrna/lib/libopenblasp-r0.3.24.so;  LAPACK version 3.11.0\n",
       "\n",
       "locale:\n",
       " [1] LC_CTYPE=C.UTF-8       LC_NUMERIC=C           LC_TIME=C.UTF-8       \n",
       " [4] LC_COLLATE=C.UTF-8     LC_MONETARY=C.UTF-8    LC_MESSAGES=C.UTF-8   \n",
       " [7] LC_PAPER=C.UTF-8       LC_NAME=C              LC_ADDRESS=C          \n",
       "[10] LC_TELEPHONE=C         LC_MEASUREMENT=C.UTF-8 LC_IDENTIFICATION=C   \n",
       "\n",
       "time zone: Etc/UTC\n",
       "tzcode source: system (glibc)\n",
       "\n",
       "attached base packages:\n",
       "[1] stats4    stats     graphics  grDevices utils     datasets  methods  \n",
       "[8] base     \n",
       "\n",
       "other attached packages:\n",
       " [1] ggthemes_5.1.0              ggrepel_0.9.5              \n",
       " [3] lme4_1.1-34                 plotly_4.10.4              \n",
       " [5] knitr_1.47                  ggpubr_0.6.0               \n",
       " [7] SeuratDisk_0.0.0.9021       SingleCellExperiment_1.22.0\n",
       " [9] SummarizedExperiment_1.30.2 Biobase_2.60.0             \n",
       "[11] GenomicRanges_1.52.1        GenomeInfoDb_1.36.4        \n",
       "[13] IRanges_2.34.1              S4Vectors_0.38.2           \n",
       "[15] BiocGenerics_0.46.0         MatrixGenerics_1.12.3      \n",
       "[17] matrixStats_1.3.0           future.apply_1.11.2        \n",
       "[19] future_1.33.2               harmony_1.2.0              \n",
       "[21] Rcpp_1.0.12                 viridis_0.6.5              \n",
       "[23] viridisLite_0.4.2           Matrix_1.6-1.1             \n",
       "[25] SeuratObject_5.0.0          Seurat_4.4.0               \n",
       "[27] lubridate_1.9.3             forcats_1.0.0              \n",
       "[29] stringr_1.5.1               dplyr_1.1.4                \n",
       "[31] purrr_1.0.2                 readr_2.1.5                \n",
       "[33] tidyr_1.3.1                 tibble_3.2.1               \n",
       "[35] ggplot2_3.5.1               tidyverse_2.0.0            \n",
       "\n",
       "loaded via a namespace (and not attached):\n",
       "  [1] RcppAnnoy_0.0.22        splines_4.3.1           later_1.3.2            \n",
       "  [4] pbdZMQ_0.3-11           bitops_1.0-7            polyclip_1.10-6        \n",
       "  [7] lifecycle_1.0.4         rstatix_0.7.2           globals_0.16.3         \n",
       " [10] lattice_0.22-6          hdf5r_1.3.10            MASS_7.3-60            \n",
       " [13] backports_1.5.0         magrittr_2.0.3          httpuv_1.6.15          \n",
       " [16] sctransform_0.4.1       spam_2.10-0             sp_2.1-4               \n",
       " [19] spatstat.sparse_3.1-0   reticulate_1.38.0       cowplot_1.1.3          \n",
       " [22] pbapply_1.7-2           minqa_1.2.7             RColorBrewer_1.1-3     \n",
       " [25] abind_1.4-5             zlibbioc_1.46.0         Rtsne_0.17             \n",
       " [28] RCurl_1.98-1.14         GenomeInfoDbData_1.2.10 irlba_2.3.5.1          \n",
       " [31] listenv_0.9.1           spatstat.utils_3.0-5    goftest_1.2-3          \n",
       " [34] spatstat.random_3.2-3   fitdistrplus_1.1-11     parallelly_1.37.1      \n",
       " [37] leiden_0.4.3.1          codetools_0.2-20        DelayedArray_0.26.7    \n",
       " [40] tidyselect_1.2.1        farver_2.1.2            base64enc_0.1-3        \n",
       " [43] spatstat.explore_3.2-7  jsonlite_1.8.8          progressr_0.14.0       \n",
       " [46] ggridges_0.5.6          survival_3.7-0          systemfonts_1.1.0      \n",
       " [49] tools_4.3.1             ragg_1.2.5              ica_1.0-3              \n",
       " [52] glue_1.7.0              gridExtra_2.3           xfun_0.45              \n",
       " [55] IRdisplay_1.1           withr_3.0.0             fastmap_1.2.0          \n",
       " [58] boot_1.3-30             fansi_1.0.6             digest_0.6.36          \n",
       " [61] timechange_0.3.0        R6_2.5.1                mime_0.12              \n",
       " [64] textshaping_0.4.0       colorspace_2.1-0        Cairo_1.6-2            \n",
       " [67] scattermore_1.2         tensor_1.5              spatstat.data_3.1-2    \n",
       " [70] utf8_1.2.4              generics_0.1.3          data.table_1.15.4      \n",
       " [73] httr_1.4.7              htmlwidgets_1.6.4       S4Arrays_1.0.6         \n",
       " [76] uwot_0.2.2              pkgconfig_2.0.3         gtable_0.3.5           \n",
       " [79] lmtest_0.9-40           XVector_0.40.0          htmltools_0.5.8.1      \n",
       " [82] carData_3.0-5           dotCall64_1.1-1         scales_1.3.0           \n",
       " [85] png_0.1-8               tzdb_0.4.0              reshape2_1.4.4         \n",
       " [88] uuid_1.2-0              nlme_3.1-165            nloptr_2.0.3           \n",
       " [91] repr_1.1.7              zoo_1.8-12              KernSmooth_2.23-24     \n",
       " [94] parallel_4.3.1          miniUI_0.1.1.1          pillar_1.9.0           \n",
       " [97] grid_4.3.1              vctrs_0.6.5             RANN_2.6.1             \n",
       "[100] promises_1.3.0          car_3.1-2               xtable_1.8-4           \n",
       "[103] cluster_2.1.6           evaluate_0.24.0         cli_3.6.3              \n",
       "[106] compiler_4.3.1          rlang_1.1.4             crayon_1.5.3           \n",
       "[109] ggsignif_0.6.4          labeling_0.4.3          plyr_1.8.9             \n",
       "[112] stringi_1.8.4           deldir_2.0-4            munsell_0.5.1          \n",
       "[115] lazyeval_0.2.2          spatstat.geom_3.2-9     IRkernel_1.3.2         \n",
       "[118] hms_1.1.3               patchwork_1.2.0         bit64_4.0.5            \n",
       "[121] shiny_1.8.1.1           ROCR_1.0-11             igraph_2.0.3           \n",
       "[124] broom_1.0.6             bit_4.0.5              "
      ]
     },
     "metadata": {},
     "output_type": "display_data"
    }
   ],
   "source": [
    "sessionInfo()"
   ]
  },
  {
   "cell_type": "code",
   "execution_count": null,
   "id": "5fb77c04-74b6-40b5-b4ac-6836fb231efd",
   "metadata": {},
   "outputs": [],
   "source": []
  },
  {
   "cell_type": "code",
   "execution_count": null,
   "id": "d1cc6fa8-09cc-4aa0-ae34-89155ba5e5d8",
   "metadata": {},
   "outputs": [],
   "source": []
  },
  {
   "cell_type": "code",
   "execution_count": null,
   "id": "08944099-092f-45b8-abac-3ffc3d2e12ec",
   "metadata": {},
   "outputs": [],
   "source": []
  },
  {
   "cell_type": "code",
   "execution_count": null,
   "id": "25a2cdc4-c171-46c8-9775-e15343f1c196",
   "metadata": {},
   "outputs": [],
   "source": []
  },
  {
   "cell_type": "code",
   "execution_count": null,
   "id": "223d3ae1-e50a-4e4a-9cdd-309fd3462377",
   "metadata": {},
   "outputs": [],
   "source": []
  },
  {
   "cell_type": "code",
   "execution_count": null,
   "id": "cd189709-0fda-4c0f-8161-f2ff1ea6e124",
   "metadata": {},
   "outputs": [],
   "source": []
  },
  {
   "cell_type": "code",
   "execution_count": null,
   "id": "a5cf449c-3537-4c57-a5ff-256a59163001",
   "metadata": {},
   "outputs": [],
   "source": []
  },
  {
   "cell_type": "code",
   "execution_count": null,
   "id": "9c7f5703-fc53-478e-9747-99c6f38071a3",
   "metadata": {},
   "outputs": [],
   "source": []
  },
  {
   "cell_type": "code",
   "execution_count": null,
   "id": "66f152c2-d26f-4735-885b-a7c73b895519",
   "metadata": {},
   "outputs": [],
   "source": []
  },
  {
   "cell_type": "code",
   "execution_count": null,
   "id": "b0bde501-9057-4c59-926a-a5a2b31983c0",
   "metadata": {},
   "outputs": [],
   "source": []
  },
  {
   "cell_type": "code",
   "execution_count": null,
   "id": "d7096826-3f42-4b26-a51d-f15087634fc8",
   "metadata": {},
   "outputs": [],
   "source": []
  },
  {
   "cell_type": "code",
   "execution_count": null,
   "id": "866f28e6-0b79-41b5-99ff-435a732409c3",
   "metadata": {},
   "outputs": [],
   "source": []
  },
  {
   "cell_type": "code",
   "execution_count": null,
   "id": "eeb846aa-931a-4696-aca5-824911eb2b1b",
   "metadata": {},
   "outputs": [],
   "source": []
  },
  {
   "cell_type": "code",
   "execution_count": null,
   "id": "ed3ce216-0fce-4eaa-9eb9-91a014c9d637",
   "metadata": {},
   "outputs": [],
   "source": []
  },
  {
   "cell_type": "code",
   "execution_count": null,
   "id": "24111458-d06d-476d-a9f1-2abc8cc5287a",
   "metadata": {},
   "outputs": [],
   "source": []
  },
  {
   "cell_type": "code",
   "execution_count": null,
   "id": "0d488caa-c76b-4d07-8ab3-75e906bfd74d",
   "metadata": {},
   "outputs": [],
   "source": []
  },
  {
   "cell_type": "code",
   "execution_count": null,
   "id": "8090e548-2552-4077-8c7e-1ed9fae0a675",
   "metadata": {},
   "outputs": [],
   "source": []
  },
  {
   "cell_type": "code",
   "execution_count": null,
   "id": "6c7cbaf6-d5ad-4de8-8971-5c3fec7c30e1",
   "metadata": {},
   "outputs": [],
   "source": []
  },
  {
   "cell_type": "code",
   "execution_count": null,
   "id": "255c89bb-17f2-449e-8ac2-fcb28d6b6f07",
   "metadata": {},
   "outputs": [],
   "source": []
  },
  {
   "cell_type": "code",
   "execution_count": null,
   "id": "426cccba-c0e7-4677-9904-3f2869ae528e",
   "metadata": {},
   "outputs": [],
   "source": []
  },
  {
   "cell_type": "code",
   "execution_count": null,
   "id": "ec76ae1b-a459-4abb-ad21-27a0641899dd",
   "metadata": {},
   "outputs": [],
   "source": []
  },
  {
   "cell_type": "code",
   "execution_count": null,
   "id": "445c89a7-4740-46a3-9302-de58ee35bc58",
   "metadata": {},
   "outputs": [],
   "source": []
  },
  {
   "cell_type": "code",
   "execution_count": null,
   "id": "be0175cd-8b54-4c59-aa3c-b5cb3ed176af",
   "metadata": {},
   "outputs": [],
   "source": []
  },
  {
   "cell_type": "code",
   "execution_count": null,
   "id": "525d8fa7-d51e-4efb-bd1e-4f79ecf39a02",
   "metadata": {},
   "outputs": [],
   "source": []
  },
  {
   "cell_type": "code",
   "execution_count": null,
   "id": "da0d9234-8ca2-44e8-a25f-cdc96e6f08de",
   "metadata": {},
   "outputs": [],
   "source": []
  },
  {
   "cell_type": "code",
   "execution_count": null,
   "id": "43cd6952-d3f5-4c39-9727-189202cee737",
   "metadata": {},
   "outputs": [],
   "source": []
  },
  {
   "cell_type": "code",
   "execution_count": null,
   "id": "f1cc9a75-ec1a-40f1-a962-f0470e96ac99",
   "metadata": {},
   "outputs": [],
   "source": []
  },
  {
   "cell_type": "code",
   "execution_count": null,
   "id": "21991992-eabb-44e0-8ee2-48a12706ab8e",
   "metadata": {},
   "outputs": [],
   "source": []
  },
  {
   "cell_type": "code",
   "execution_count": null,
   "id": "452389dd-cc87-4d5d-9aab-7299f4745767",
   "metadata": {},
   "outputs": [],
   "source": []
  },
  {
   "cell_type": "code",
   "execution_count": null,
   "id": "011d46b3-6770-4b61-8d5b-b9d72d6b809c",
   "metadata": {},
   "outputs": [],
   "source": []
  },
  {
   "cell_type": "code",
   "execution_count": null,
   "id": "1dd7876f-a8a8-408c-89b0-a4af39df5cd0",
   "metadata": {},
   "outputs": [],
   "source": []
  },
  {
   "cell_type": "code",
   "execution_count": null,
   "id": "5d38e2ba-9cc9-4dff-84df-ceefbe6d30f0",
   "metadata": {},
   "outputs": [],
   "source": []
  },
  {
   "cell_type": "code",
   "execution_count": null,
   "id": "8ee440d8-1014-44cb-a955-f4ca57ed0658",
   "metadata": {},
   "outputs": [],
   "source": []
  },
  {
   "cell_type": "code",
   "execution_count": null,
   "id": "15880ba4-3c09-4b41-9e56-e1c7fc5c6164",
   "metadata": {},
   "outputs": [],
   "source": []
  },
  {
   "cell_type": "code",
   "execution_count": null,
   "id": "6fb7325c-9c44-423c-82a4-05a0f0094ede",
   "metadata": {},
   "outputs": [],
   "source": []
  },
  {
   "cell_type": "code",
   "execution_count": null,
   "id": "f943eb5d-fba1-481c-9cae-a1fbf87ba27c",
   "metadata": {},
   "outputs": [],
   "source": []
  },
  {
   "cell_type": "code",
   "execution_count": null,
   "id": "18537a2b-7905-4c6e-b261-bfbcb7bf2971",
   "metadata": {},
   "outputs": [],
   "source": []
  },
  {
   "cell_type": "code",
   "execution_count": null,
   "id": "11019952-bea7-4fef-ba94-0e3dec5f0be1",
   "metadata": {},
   "outputs": [],
   "source": []
  },
  {
   "cell_type": "code",
   "execution_count": null,
   "id": "3f0b0e33-8c1b-4bb1-bc07-19bbf1ff43a5",
   "metadata": {},
   "outputs": [],
   "source": []
  },
  {
   "cell_type": "code",
   "execution_count": null,
   "id": "36867ea7-8336-4fd7-bc97-2a54cdec2328",
   "metadata": {},
   "outputs": [],
   "source": []
  },
  {
   "cell_type": "code",
   "execution_count": null,
   "id": "8e6ee4be-5282-4a99-80e4-4331967071e3",
   "metadata": {},
   "outputs": [],
   "source": []
  },
  {
   "cell_type": "code",
   "execution_count": null,
   "id": "bcfcf7c3-940c-4be8-8f9b-66ddb936a0c6",
   "metadata": {},
   "outputs": [],
   "source": []
  },
  {
   "cell_type": "code",
   "execution_count": null,
   "id": "59304ee7-95d0-4f20-9f16-096477b321d6",
   "metadata": {},
   "outputs": [],
   "source": []
  },
  {
   "cell_type": "code",
   "execution_count": null,
   "id": "997b3771-65d6-4d79-9c3a-f6f4af2dfb58",
   "metadata": {},
   "outputs": [],
   "source": []
  },
  {
   "cell_type": "code",
   "execution_count": null,
   "id": "47c52f73-3432-4cb7-b673-01797b403dfe",
   "metadata": {},
   "outputs": [],
   "source": []
  },
  {
   "cell_type": "code",
   "execution_count": null,
   "id": "bc45aca6-2c39-42d0-bef1-cf49ca7c8fcc",
   "metadata": {},
   "outputs": [],
   "source": []
  },
  {
   "cell_type": "code",
   "execution_count": null,
   "id": "33183839-0d8d-4b04-9874-f72e4471f8f2",
   "metadata": {},
   "outputs": [],
   "source": []
  },
  {
   "cell_type": "code",
   "execution_count": null,
   "id": "0fd5ecda-9206-471a-b594-85f173e6f8c0",
   "metadata": {},
   "outputs": [],
   "source": []
  },
  {
   "cell_type": "code",
   "execution_count": null,
   "id": "b58aab50-4a5a-4f5c-9059-5b9772438a6b",
   "metadata": {},
   "outputs": [],
   "source": []
  },
  {
   "cell_type": "code",
   "execution_count": null,
   "id": "c67f1855-0c92-4c3e-98a8-c910ab0a1126",
   "metadata": {},
   "outputs": [],
   "source": []
  },
  {
   "cell_type": "code",
   "execution_count": null,
   "id": "b8c76f15-addf-4a42-8213-9677e53a2fe0",
   "metadata": {},
   "outputs": [],
   "source": []
  },
  {
   "cell_type": "code",
   "execution_count": null,
   "id": "4492fd72-1976-4b30-845d-0fae9965b0a1",
   "metadata": {},
   "outputs": [],
   "source": []
  },
  {
   "cell_type": "code",
   "execution_count": null,
   "id": "ac042090-b6f5-49ac-a485-4ce1999d097d",
   "metadata": {},
   "outputs": [],
   "source": []
  },
  {
   "cell_type": "code",
   "execution_count": null,
   "id": "ef11a09a-b548-4105-95f7-6bae5e0c8b3e",
   "metadata": {},
   "outputs": [],
   "source": []
  },
  {
   "cell_type": "code",
   "execution_count": null,
   "id": "952f8b8d-02b7-4214-b75f-e1724ae6fd2a",
   "metadata": {},
   "outputs": [],
   "source": []
  },
  {
   "cell_type": "code",
   "execution_count": null,
   "id": "5defe4c0-6903-43f2-86cc-444881b26cea",
   "metadata": {},
   "outputs": [],
   "source": []
  },
  {
   "cell_type": "code",
   "execution_count": null,
   "id": "9886358d-0344-48ec-aef9-651d4b317f34",
   "metadata": {},
   "outputs": [],
   "source": []
  },
  {
   "cell_type": "code",
   "execution_count": null,
   "id": "fe3c8be7-2897-4d1a-b18c-2cdcabc4302a",
   "metadata": {},
   "outputs": [],
   "source": []
  },
  {
   "cell_type": "code",
   "execution_count": null,
   "id": "f4f85cb6-e87c-49e4-880e-28526dccb748",
   "metadata": {},
   "outputs": [],
   "source": []
  },
  {
   "cell_type": "code",
   "execution_count": null,
   "id": "a6b72acd-d47e-4d6b-8f97-41b79a5f8009",
   "metadata": {},
   "outputs": [],
   "source": []
  },
  {
   "cell_type": "code",
   "execution_count": null,
   "id": "338d71e7-63ce-461f-aa34-fa13c86cffa6",
   "metadata": {},
   "outputs": [],
   "source": []
  },
  {
   "cell_type": "code",
   "execution_count": null,
   "id": "c0e330f3-38a1-4d48-8efb-4740fc20a207",
   "metadata": {},
   "outputs": [],
   "source": []
  },
  {
   "cell_type": "code",
   "execution_count": null,
   "id": "bcad0ccb-e197-4937-8bd8-ea75e8c5c092",
   "metadata": {},
   "outputs": [],
   "source": []
  },
  {
   "cell_type": "code",
   "execution_count": null,
   "id": "3efdc5c6-c96c-4897-90a0-42e5d971df91",
   "metadata": {},
   "outputs": [],
   "source": []
  },
  {
   "cell_type": "code",
   "execution_count": null,
   "id": "e466a82c-b28d-49cb-af79-aa974b74a1bd",
   "metadata": {},
   "outputs": [],
   "source": []
  },
  {
   "cell_type": "code",
   "execution_count": null,
   "id": "5abb1fd4-08d6-40fc-8a4c-156b918da1f2",
   "metadata": {},
   "outputs": [],
   "source": []
  },
  {
   "cell_type": "code",
   "execution_count": null,
   "id": "e0c5cf31-5617-440f-9d39-ac889d5eb664",
   "metadata": {},
   "outputs": [],
   "source": []
  },
  {
   "cell_type": "code",
   "execution_count": null,
   "id": "73f0d7fb-c006-481e-85b5-7b56244f38c7",
   "metadata": {},
   "outputs": [],
   "source": []
  },
  {
   "cell_type": "code",
   "execution_count": null,
   "id": "d61f9eb9-5a81-4179-b938-a59f7891298e",
   "metadata": {},
   "outputs": [],
   "source": []
  },
  {
   "cell_type": "code",
   "execution_count": null,
   "id": "9ce5348f-b181-45ff-bf41-1b9e885dbb45",
   "metadata": {},
   "outputs": [],
   "source": []
  },
  {
   "cell_type": "code",
   "execution_count": null,
   "id": "6432faea-5a69-4725-b997-59b4bd6e99be",
   "metadata": {},
   "outputs": [],
   "source": []
  },
  {
   "cell_type": "code",
   "execution_count": null,
   "id": "499a93c1-e8e8-4946-a2a3-485570ee4fa4",
   "metadata": {},
   "outputs": [],
   "source": []
  },
  {
   "cell_type": "code",
   "execution_count": null,
   "id": "7bc9d9a6-82c1-4e81-a509-1917d2575a80",
   "metadata": {},
   "outputs": [],
   "source": []
  },
  {
   "cell_type": "code",
   "execution_count": null,
   "id": "87a126d7-188f-4ba8-8e79-866a85643763",
   "metadata": {},
   "outputs": [],
   "source": []
  },
  {
   "cell_type": "code",
   "execution_count": null,
   "id": "e1865ddd-b55f-4b65-984b-e5047a2e79a8",
   "metadata": {},
   "outputs": [],
   "source": []
  },
  {
   "cell_type": "code",
   "execution_count": null,
   "id": "beaffe92-f41c-4eda-92e8-0b29ebe7a8b6",
   "metadata": {},
   "outputs": [],
   "source": []
  },
  {
   "cell_type": "code",
   "execution_count": null,
   "id": "359b9872-7562-46fe-95cf-d9fdc4b7a079",
   "metadata": {},
   "outputs": [],
   "source": []
  },
  {
   "cell_type": "code",
   "execution_count": null,
   "id": "2b0d37aa-9a8c-4d96-99e4-da316065fe78",
   "metadata": {},
   "outputs": [],
   "source": []
  },
  {
   "cell_type": "code",
   "execution_count": null,
   "id": "9ce9ce37-995a-494f-9e51-35b873005f11",
   "metadata": {},
   "outputs": [],
   "source": []
  },
  {
   "cell_type": "code",
   "execution_count": null,
   "id": "041c9f85-7405-48fa-8351-f820aa01f442",
   "metadata": {},
   "outputs": [],
   "source": []
  },
  {
   "cell_type": "code",
   "execution_count": null,
   "id": "1055ff11-71e4-4654-83ca-6383ec4cf587",
   "metadata": {},
   "outputs": [],
   "source": []
  },
  {
   "cell_type": "code",
   "execution_count": null,
   "id": "e6fe64a6-c47c-41f1-a9c7-08a5e6972f8a",
   "metadata": {},
   "outputs": [],
   "source": []
  },
  {
   "cell_type": "code",
   "execution_count": null,
   "id": "9821b01c-3b8c-461d-a6da-8141077f01a8",
   "metadata": {},
   "outputs": [],
   "source": []
  },
  {
   "cell_type": "code",
   "execution_count": null,
   "id": "0579f069-e8ce-4f1b-9fb1-0adcea675df7",
   "metadata": {},
   "outputs": [],
   "source": []
  }
 ],
 "metadata": {
  "kernelspec": {
   "display_name": "r_scrna",
   "language": "R",
   "name": "r_scrna"
  },
  "language_info": {
   "codemirror_mode": "r",
   "file_extension": ".r",
   "mimetype": "text/x-r-source",
   "name": "R",
   "pygments_lexer": "r",
   "version": "4.3.1"
  }
 },
 "nbformat": 4,
 "nbformat_minor": 5
}
