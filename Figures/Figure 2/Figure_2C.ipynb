{
 "cells": [
  {
   "cell_type": "markdown",
   "id": "65f81789-972e-480e-8972-0aff83e0e286",
   "metadata": {},
   "source": [
    "## Plot for Frequency change overtime and their corresponding DEG counts In ARI "
   ]
  },
  {
   "cell_type": "code",
   "execution_count": 1,
   "id": "8f137920-c9a4-4d71-98c0-96b13725386a",
   "metadata": {},
   "outputs": [],
   "source": [
    "\n",
    "# load libraries\n",
    "quiet_library <- function(...) {\n",
    "    suppressPackageStartupMessages(library(...))\n",
    "}\n",
    "quiet_library(tidyverse)\n",
    "quiet_library(Seurat)\n",
    "quiet_library(ggplot2)\n",
    "quiet_library(Matrix)\n",
    "quiet_library(dplyr)\n",
    "quiet_library(viridis)\n",
    "quiet_library(harmony)\n",
    "quiet_library(future)\n",
    "quiet_library(future.apply)\n",
    "quiet_library(SingleCellExperiment)\n",
    "quiet_library(SeuratDisk)\n",
    "quiet_library(ggpubr)\n",
    "quiet_library(knitr)\n",
    "quiet_library(plotly)\n",
    "quiet_library(ggrepel)\n",
    "options(warn = -1)\n"
   ]
  },
  {
   "cell_type": "code",
   "execution_count": 2,
   "id": "08d807d4-3368-4e06-b704-c08b9d4a24f4",
   "metadata": {},
   "outputs": [
    {
     "data": {
      "text/html": [
       "<strong>system:</strong> 64"
      ],
      "text/latex": [
       "\\textbf{system:} 64"
      ],
      "text/markdown": [
       "**system:** 64"
      ],
      "text/plain": [
       "system \n",
       "    64 "
      ]
     },
     "metadata": {},
     "output_type": "display_data"
    }
   ],
   "source": [
    "# Check number of cores\n",
    "future::availableCores()\n",
    "# Set up parallel processing to run when using 'future' functions \n",
    "future::plan(strategy \n",
    "             = \"multicore\", workers = future::availableCores()-5)  \n",
    "options(future.globals.maxSize = 1000 * 1024^3)\n",
    "# to turn off parallel processing run line below\n",
    "# future::plan(strategy = \"sequential\")"
   ]
  },
  {
   "cell_type": "code",
   "execution_count": 3,
   "id": "af7f2847-183a-44f3-801e-9c26cadf92be",
   "metadata": {},
   "outputs": [],
   "source": [
    "# define the color palette to be used\n",
    "npg_color <- c(\"#E64B35FF\", \"#4DBBD5FF\", \"#00A087FF\", \"#3C5488FF\", \"#F39B7FFF\", \n",
    "               \"#8491B4FF\", \"#91D1C2FF\", \"#DC0000FF\", \"#7E6148FF\", \"#B09C85FF\")\n",
    "nejm_color <- c(\"#BC3C29FF\", \"#0072B5FF\", \"#E18727FF\", \"#20854EFF\", \"#7876B1FF\", \"#6F99ADFF\", \"#FFDC91FF\", \"#EE4C97FF\")\n",
    "jama_color <- c(\"#374E55FF\", \"#DF8F44FF\", \"#00A1D5FF\", \"#B24745FF\", \"#79AF97FF\", \"#6A6599FF\", \"#80796BFF\")\n",
    "jco_color <- c(\"#0073C2FF\", \"#EFC000FF\", \"#868686FF\", \"#CD534CFF\", \"#7AA6DCFF\", \"#003C67FF\", \"#8F7700FF\")\n",
    "cluster_colors <- c(\"#DC050C\", \"#FB8072\", \"#1965B0\", \"#7BAFDE\", \"#882E72\", \"#B17BA6\", \"#FF7F00\", \"#FDB462\", \"#E7298A\", \n",
    "    \"#E78AC3\", \"#33A02C\", \"#B2DF8A\", \"#55A1B1\", \"#8DD3C7\", \"#A6761D\", \"#E6AB02\", \"#7570B3\", \"#BEAED4\", \"#666666\", \"#999999\", \n",
    "    \"#aa8282\", \"#d4b7b7\", \"#8600bf\", \"#ba5ce3\", \"#808000\", \"#aeae5c\", \"#1e90ff\", \"#00bfff\", \"#56ff0d\", \"#ffff00\")\n",
    "\n",
    "cluster_colors_ext <- colorRampPalette(cluster_colors)(75)\n",
    "options(repr.plot.width = 20, repr.plot.height = 15)"
   ]
  },
  {
   "cell_type": "code",
   "execution_count": 4,
   "id": "2efc6594-8f5d-4425-80ca-7cc1aea81c5f",
   "metadata": {},
   "outputs": [
    {
     "data": {
      "text/html": [
       "<table class=\"dataframe\">\n",
       "<caption>A data.frame: 3 × 12</caption>\n",
       "<thead>\n",
       "\t<tr><th></th><th scope=col>celltype</th><th scope=col>effect</th><th scope=col>group</th><th scope=col>term</th><th scope=col>estimate</th><th scope=col>std.error</th><th scope=col>statistic</th><th scope=col>df</th><th scope=col>p.value</th><th scope=col>gene</th><th scope=col>q_values</th><th scope=col>sig</th></tr>\n",
       "\t<tr><th></th><th scope=col>&lt;chr&gt;</th><th scope=col>&lt;chr&gt;</th><th scope=col>&lt;lgl&gt;</th><th scope=col>&lt;chr&gt;</th><th scope=col>&lt;dbl&gt;</th><th scope=col>&lt;dbl&gt;</th><th scope=col>&lt;dbl&gt;</th><th scope=col>&lt;dbl&gt;</th><th scope=col>&lt;dbl&gt;</th><th scope=col>&lt;chr&gt;</th><th scope=col>&lt;dbl&gt;</th><th scope=col>&lt;chr&gt;</th></tr>\n",
       "</thead>\n",
       "<tbody>\n",
       "\t<tr><th scope=row>1</th><td>Adaptive NK cell</td><td>fixed</td><td>NA</td><td>days_to_conversion</td><td>-4.601178e-04</td><td>0.0001726325</td><td>-2.6653027</td><td>43.00000</td><td>0.01079008</td><td>AAK1    </td><td>0.3471929</td><td>ns</td></tr>\n",
       "\t<tr><th scope=row>2</th><td>Adaptive NK cell</td><td>fixed</td><td>NA</td><td>days_to_conversion</td><td> 2.698218e-04</td><td>0.0001816877</td><td> 1.4850857</td><td>43.00000</td><td>0.14481591</td><td>AASDHPPT</td><td>0.5004335</td><td>ns</td></tr>\n",
       "\t<tr><th scope=row>3</th><td>Adaptive NK cell</td><td>fixed</td><td>NA</td><td>days_to_conversion</td><td>-1.742457e-05</td><td>0.0001246150</td><td>-0.1398272</td><td>42.98683</td><td>0.88944965</td><td>AATF    </td><td>0.7853112</td><td>ns</td></tr>\n",
       "</tbody>\n",
       "</table>\n"
      ],
      "text/latex": [
       "A data.frame: 3 × 12\n",
       "\\begin{tabular}{r|llllllllllll}\n",
       "  & celltype & effect & group & term & estimate & std.error & statistic & df & p.value & gene & q\\_values & sig\\\\\n",
       "  & <chr> & <chr> & <lgl> & <chr> & <dbl> & <dbl> & <dbl> & <dbl> & <dbl> & <chr> & <dbl> & <chr>\\\\\n",
       "\\hline\n",
       "\t1 & Adaptive NK cell & fixed & NA & days\\_to\\_conversion & -4.601178e-04 & 0.0001726325 & -2.6653027 & 43.00000 & 0.01079008 & AAK1     & 0.3471929 & ns\\\\\n",
       "\t2 & Adaptive NK cell & fixed & NA & days\\_to\\_conversion &  2.698218e-04 & 0.0001816877 &  1.4850857 & 43.00000 & 0.14481591 & AASDHPPT & 0.5004335 & ns\\\\\n",
       "\t3 & Adaptive NK cell & fixed & NA & days\\_to\\_conversion & -1.742457e-05 & 0.0001246150 & -0.1398272 & 42.98683 & 0.88944965 & AATF     & 0.7853112 & ns\\\\\n",
       "\\end{tabular}\n"
      ],
      "text/markdown": [
       "\n",
       "A data.frame: 3 × 12\n",
       "\n",
       "| <!--/--> | celltype &lt;chr&gt; | effect &lt;chr&gt; | group &lt;lgl&gt; | term &lt;chr&gt; | estimate &lt;dbl&gt; | std.error &lt;dbl&gt; | statistic &lt;dbl&gt; | df &lt;dbl&gt; | p.value &lt;dbl&gt; | gene &lt;chr&gt; | q_values &lt;dbl&gt; | sig &lt;chr&gt; |\n",
       "|---|---|---|---|---|---|---|---|---|---|---|---|---|\n",
       "| 1 | Adaptive NK cell | fixed | NA | days_to_conversion | -4.601178e-04 | 0.0001726325 | -2.6653027 | 43.00000 | 0.01079008 | AAK1     | 0.3471929 | ns |\n",
       "| 2 | Adaptive NK cell | fixed | NA | days_to_conversion |  2.698218e-04 | 0.0001816877 |  1.4850857 | 43.00000 | 0.14481591 | AASDHPPT | 0.5004335 | ns |\n",
       "| 3 | Adaptive NK cell | fixed | NA | days_to_conversion | -1.742457e-05 | 0.0001246150 | -0.1398272 | 42.98683 | 0.88944965 | AATF     | 0.7853112 | ns |\n",
       "\n"
      ],
      "text/plain": [
       "  celltype         effect group term               estimate      std.error   \n",
       "1 Adaptive NK cell fixed  NA    days_to_conversion -4.601178e-04 0.0001726325\n",
       "2 Adaptive NK cell fixed  NA    days_to_conversion  2.698218e-04 0.0001816877\n",
       "3 Adaptive NK cell fixed  NA    days_to_conversion -1.742457e-05 0.0001246150\n",
       "  statistic  df       p.value    gene     q_values  sig\n",
       "1 -2.6653027 43.00000 0.01079008 AAK1     0.3471929 ns \n",
       "2  1.4850857 43.00000 0.14481591 AASDHPPT 0.5004335 ns \n",
       "3 -0.1398272 42.98683 0.88944965 AATF     0.7853112 ns "
      ]
     },
     "metadata": {},
     "output_type": "display_data"
    }
   ],
   "source": [
    "#loading aim 3 deg results file\n",
    "degs_a3=read.csv(\"/home/jupyter/ALTRA_ANALYSIS/Deep_clean/Figure_notebooks/files/input_files/certpro_Zi_files/ALTRA_AIM3_certpro_scRNA_Pseudobulk_AIFI_l3_mixed_models_time_result_750days.csv\")\n",
    "degs_a3%>%head(3)"
   ]
  },
  {
   "cell_type": "code",
   "execution_count": 5,
   "id": "1023fb7f-c83a-4d01-b82d-0c972657b8aa",
   "metadata": {},
   "outputs": [
    {
     "data": {
      "text/html": [
       "<table class=\"dataframe\">\n",
       "<caption>A data.frame: 3 × 13</caption>\n",
       "<thead>\n",
       "\t<tr><th></th><th scope=col>celltype</th><th scope=col>effect</th><th scope=col>group</th><th scope=col>term</th><th scope=col>estimate</th><th scope=col>std.error</th><th scope=col>statistic</th><th scope=col>df</th><th scope=col>p.value</th><th scope=col>gene</th><th scope=col>q_values</th><th scope=col>sig</th><th scope=col>direction</th></tr>\n",
       "\t<tr><th></th><th scope=col>&lt;chr&gt;</th><th scope=col>&lt;chr&gt;</th><th scope=col>&lt;lgl&gt;</th><th scope=col>&lt;chr&gt;</th><th scope=col>&lt;dbl&gt;</th><th scope=col>&lt;dbl&gt;</th><th scope=col>&lt;dbl&gt;</th><th scope=col>&lt;dbl&gt;</th><th scope=col>&lt;dbl&gt;</th><th scope=col>&lt;chr&gt;</th><th scope=col>&lt;dbl&gt;</th><th scope=col>&lt;chr&gt;</th><th scope=col>&lt;chr&gt;</th></tr>\n",
       "</thead>\n",
       "<tbody>\n",
       "\t<tr><th scope=row>1</th><td>Adaptive NK cell</td><td>fixed</td><td>NA</td><td>days_to_conversion</td><td>-4.601178e-04</td><td>0.0001726325</td><td>-2.6653027</td><td>43.00000</td><td>0.01079008</td><td>AAK1    </td><td>0.3471929</td><td>ns</td><td>negative</td></tr>\n",
       "\t<tr><th scope=row>2</th><td>Adaptive NK cell</td><td>fixed</td><td>NA</td><td>days_to_conversion</td><td> 2.698218e-04</td><td>0.0001816877</td><td> 1.4850857</td><td>43.00000</td><td>0.14481591</td><td>AASDHPPT</td><td>0.5004335</td><td>ns</td><td>positive</td></tr>\n",
       "\t<tr><th scope=row>3</th><td>Adaptive NK cell</td><td>fixed</td><td>NA</td><td>days_to_conversion</td><td>-1.742457e-05</td><td>0.0001246150</td><td>-0.1398272</td><td>42.98683</td><td>0.88944965</td><td>AATF    </td><td>0.7853112</td><td>ns</td><td>negative</td></tr>\n",
       "</tbody>\n",
       "</table>\n"
      ],
      "text/latex": [
       "A data.frame: 3 × 13\n",
       "\\begin{tabular}{r|lllllllllllll}\n",
       "  & celltype & effect & group & term & estimate & std.error & statistic & df & p.value & gene & q\\_values & sig & direction\\\\\n",
       "  & <chr> & <chr> & <lgl> & <chr> & <dbl> & <dbl> & <dbl> & <dbl> & <dbl> & <chr> & <dbl> & <chr> & <chr>\\\\\n",
       "\\hline\n",
       "\t1 & Adaptive NK cell & fixed & NA & days\\_to\\_conversion & -4.601178e-04 & 0.0001726325 & -2.6653027 & 43.00000 & 0.01079008 & AAK1     & 0.3471929 & ns & negative\\\\\n",
       "\t2 & Adaptive NK cell & fixed & NA & days\\_to\\_conversion &  2.698218e-04 & 0.0001816877 &  1.4850857 & 43.00000 & 0.14481591 & AASDHPPT & 0.5004335 & ns & positive\\\\\n",
       "\t3 & Adaptive NK cell & fixed & NA & days\\_to\\_conversion & -1.742457e-05 & 0.0001246150 & -0.1398272 & 42.98683 & 0.88944965 & AATF     & 0.7853112 & ns & negative\\\\\n",
       "\\end{tabular}\n"
      ],
      "text/markdown": [
       "\n",
       "A data.frame: 3 × 13\n",
       "\n",
       "| <!--/--> | celltype &lt;chr&gt; | effect &lt;chr&gt; | group &lt;lgl&gt; | term &lt;chr&gt; | estimate &lt;dbl&gt; | std.error &lt;dbl&gt; | statistic &lt;dbl&gt; | df &lt;dbl&gt; | p.value &lt;dbl&gt; | gene &lt;chr&gt; | q_values &lt;dbl&gt; | sig &lt;chr&gt; | direction &lt;chr&gt; |\n",
       "|---|---|---|---|---|---|---|---|---|---|---|---|---|---|\n",
       "| 1 | Adaptive NK cell | fixed | NA | days_to_conversion | -4.601178e-04 | 0.0001726325 | -2.6653027 | 43.00000 | 0.01079008 | AAK1     | 0.3471929 | ns | negative |\n",
       "| 2 | Adaptive NK cell | fixed | NA | days_to_conversion |  2.698218e-04 | 0.0001816877 |  1.4850857 | 43.00000 | 0.14481591 | AASDHPPT | 0.5004335 | ns | positive |\n",
       "| 3 | Adaptive NK cell | fixed | NA | days_to_conversion | -1.742457e-05 | 0.0001246150 | -0.1398272 | 42.98683 | 0.88944965 | AATF     | 0.7853112 | ns | negative |\n",
       "\n"
      ],
      "text/plain": [
       "  celltype         effect group term               estimate      std.error   \n",
       "1 Adaptive NK cell fixed  NA    days_to_conversion -4.601178e-04 0.0001726325\n",
       "2 Adaptive NK cell fixed  NA    days_to_conversion  2.698218e-04 0.0001816877\n",
       "3 Adaptive NK cell fixed  NA    days_to_conversion -1.742457e-05 0.0001246150\n",
       "  statistic  df       p.value    gene     q_values  sig direction\n",
       "1 -2.6653027 43.00000 0.01079008 AAK1     0.3471929 ns  negative \n",
       "2  1.4850857 43.00000 0.14481591 AASDHPPT 0.5004335 ns  positive \n",
       "3 -0.1398272 42.98683 0.88944965 AATF     0.7853112 ns  negative "
      ]
     },
     "metadata": {},
     "output_type": "display_data"
    }
   ],
   "source": [
    "##adding the direction column\n",
    "\n",
    "degs_a3=degs_a3%>%\n",
    "    filter(!is.na(p.value) & !is.na(estimate)) %>% mutate(direction=if_else(estimate>0, 'positive', 'negative'))\n",
    "degs_a3 %>% head(3)"
   ]
  },
  {
   "cell_type": "code",
   "execution_count": 6,
   "id": "3846f150-d199-4bc8-8b0d-f7ae28cc500f",
   "metadata": {},
   "outputs": [
    {
     "name": "stderr",
     "output_type": "stream",
     "text": [
      "\u001b[1m\u001b[22m`summarise()` has grouped output by 'celltype'. You can override using the\n",
      "`.groups` argument.\n"
     ]
    },
    {
     "data": {
      "text/html": [
       "<table class=\"dataframe\">\n",
       "<caption>A grouped_df: 6 × 3</caption>\n",
       "<thead>\n",
       "\t<tr><th scope=col>celltype</th><th scope=col>direction</th><th scope=col>deg_counts</th></tr>\n",
       "\t<tr><th scope=col>&lt;chr&gt;</th><th scope=col>&lt;chr&gt;</th><th scope=col>&lt;int&gt;</th></tr>\n",
       "</thead>\n",
       "<tbody>\n",
       "\t<tr><td>CD27+ effector B cell</td><td>negative</td><td>   1</td></tr>\n",
       "\t<tr><td>CD27+ effector B cell</td><td>positive</td><td>   3</td></tr>\n",
       "\t<tr><td>CM CD4 T cell        </td><td>negative</td><td>1418</td></tr>\n",
       "\t<tr><td>CM CD4 T cell        </td><td>positive</td><td>1294</td></tr>\n",
       "\t<tr><td>CM CD4 T cell_uk1_CD8</td><td>positive</td><td>   1</td></tr>\n",
       "\t<tr><td>CM CD8 T cell        </td><td>negative</td><td>  31</td></tr>\n",
       "</tbody>\n",
       "</table>\n"
      ],
      "text/latex": [
       "A grouped\\_df: 6 × 3\n",
       "\\begin{tabular}{lll}\n",
       " celltype & direction & deg\\_counts\\\\\n",
       " <chr> & <chr> & <int>\\\\\n",
       "\\hline\n",
       "\t CD27+ effector B cell & negative &    1\\\\\n",
       "\t CD27+ effector B cell & positive &    3\\\\\n",
       "\t CM CD4 T cell         & negative & 1418\\\\\n",
       "\t CM CD4 T cell         & positive & 1294\\\\\n",
       "\t CM CD4 T cell\\_uk1\\_CD8 & positive &    1\\\\\n",
       "\t CM CD8 T cell         & negative &   31\\\\\n",
       "\\end{tabular}\n"
      ],
      "text/markdown": [
       "\n",
       "A grouped_df: 6 × 3\n",
       "\n",
       "| celltype &lt;chr&gt; | direction &lt;chr&gt; | deg_counts &lt;int&gt; |\n",
       "|---|---|---|\n",
       "| CD27+ effector B cell | negative |    1 |\n",
       "| CD27+ effector B cell | positive |    3 |\n",
       "| CM CD4 T cell         | negative | 1418 |\n",
       "| CM CD4 T cell         | positive | 1294 |\n",
       "| CM CD4 T cell_uk1_CD8 | positive |    1 |\n",
       "| CM CD8 T cell         | negative |   31 |\n",
       "\n"
      ],
      "text/plain": [
       "  celltype              direction deg_counts\n",
       "1 CD27+ effector B cell negative     1      \n",
       "2 CD27+ effector B cell positive     3      \n",
       "3 CM CD4 T cell         negative  1418      \n",
       "4 CM CD4 T cell         positive  1294      \n",
       "5 CM CD4 T cell_uk1_CD8 positive     1      \n",
       "6 CM CD8 T cell         negative    31      "
      ]
     },
     "metadata": {},
     "output_type": "display_data"
    }
   ],
   "source": [
    "deg_counts <- degs_a3 %>%dplyr::filter(q_values<0.1) %>% \n",
    "  group_by(celltype, direction) %>%\n",
    "  summarise(deg_counts = n())\n",
    "deg_counts %>% head()\n"
   ]
  },
  {
   "cell_type": "code",
   "execution_count": 7,
   "id": "38d936c3-b677-4030-b0ad-e80112c8d184",
   "metadata": {},
   "outputs": [
    {
     "data": {
      "text/html": [
       "<style>\n",
       ".list-inline {list-style: none; margin:0; padding: 0}\n",
       ".list-inline>li {display: inline-block}\n",
       ".list-inline>li:not(:last-child)::after {content: \"\\00b7\"; padding: 0 .5ex}\n",
       "</style>\n",
       "<ol class=list-inline><li>19</li><li>2</li></ol>\n"
      ],
      "text/latex": [
       "\\begin{enumerate*}\n",
       "\\item 19\n",
       "\\item 2\n",
       "\\end{enumerate*}\n"
      ],
      "text/markdown": [
       "1. 19\n",
       "2. 2\n",
       "\n",
       "\n"
      ],
      "text/plain": [
       "[1] 19  2"
      ]
     },
     "metadata": {},
     "output_type": "display_data"
    },
    {
     "data": {
      "text/html": [
       "<table class=\"dataframe\">\n",
       "<caption>A tibble: 6 × 2</caption>\n",
       "<thead>\n",
       "\t<tr><th scope=col>celltype</th><th scope=col>total_degs_counts</th></tr>\n",
       "\t<tr><th scope=col>&lt;chr&gt;</th><th scope=col>&lt;int&gt;</th></tr>\n",
       "</thead>\n",
       "<tbody>\n",
       "\t<tr><td>CM CD4 T cell                   </td><td>2712</td></tr>\n",
       "\t<tr><td>Core naive CD4 T cell           </td><td>2651</td></tr>\n",
       "\t<tr><td>Core naive CD8 T cell           </td><td> 305</td></tr>\n",
       "\t<tr><td>KLRF1+ GZMB+ CD27- EM CD8 T cell</td><td> 209</td></tr>\n",
       "\t<tr><td>KLRF1- GZMB+ CD27- EM CD8 T cell</td><td> 181</td></tr>\n",
       "\t<tr><td>GZMK+ CD27+ EM CD8 T cell       </td><td>  59</td></tr>\n",
       "</tbody>\n",
       "</table>\n"
      ],
      "text/latex": [
       "A tibble: 6 × 2\n",
       "\\begin{tabular}{ll}\n",
       " celltype & total\\_degs\\_counts\\\\\n",
       " <chr> & <int>\\\\\n",
       "\\hline\n",
       "\t CM CD4 T cell                    & 2712\\\\\n",
       "\t Core naive CD4 T cell            & 2651\\\\\n",
       "\t Core naive CD8 T cell            &  305\\\\\n",
       "\t KLRF1+ GZMB+ CD27- EM CD8 T cell &  209\\\\\n",
       "\t KLRF1- GZMB+ CD27- EM CD8 T cell &  181\\\\\n",
       "\t GZMK+ CD27+ EM CD8 T cell        &   59\\\\\n",
       "\\end{tabular}\n"
      ],
      "text/markdown": [
       "\n",
       "A tibble: 6 × 2\n",
       "\n",
       "| celltype &lt;chr&gt; | total_degs_counts &lt;int&gt; |\n",
       "|---|---|\n",
       "| CM CD4 T cell                    | 2712 |\n",
       "| Core naive CD4 T cell            | 2651 |\n",
       "| Core naive CD8 T cell            |  305 |\n",
       "| KLRF1+ GZMB+ CD27- EM CD8 T cell |  209 |\n",
       "| KLRF1- GZMB+ CD27- EM CD8 T cell |  181 |\n",
       "| GZMK+ CD27+ EM CD8 T cell        |   59 |\n",
       "\n"
      ],
      "text/plain": [
       "  celltype                         total_degs_counts\n",
       "1 CM CD4 T cell                    2712             \n",
       "2 Core naive CD4 T cell            2651             \n",
       "3 Core naive CD8 T cell             305             \n",
       "4 KLRF1+ GZMB+ CD27- EM CD8 T cell  209             \n",
       "5 KLRF1- GZMB+ CD27- EM CD8 T cell  181             \n",
       "6 GZMK+ CD27+ EM CD8 T cell          59             "
      ]
     },
     "metadata": {},
     "output_type": "display_data"
    }
   ],
   "source": [
    "# getting the absolute count of DEGs \n",
    "total_degs<- deg_counts %>% \n",
    "    group_by(celltype) %>% \n",
    "    summarize(total_degs_counts = sum(abs(deg_counts))) %>%\n",
    "    arrange(desc(total_degs_counts))\n",
    "total_degs%>%dim\n",
    "total_degs%>%head()"
   ]
  },
  {
   "cell_type": "code",
   "execution_count": 8,
   "id": "7a0f8851-0aa9-4fde-af76-f09c3c9e1256",
   "metadata": {},
   "outputs": [
    {
     "data": {
      "text/html": [
       "<table class=\"dataframe\">\n",
       "<caption>A data.frame: 3 × 11</caption>\n",
       "<thead>\n",
       "\t<tr><th></th><th scope=col>AIFI_L3_new</th><th scope=col>effect</th><th scope=col>group</th><th scope=col>term</th><th scope=col>estimate</th><th scope=col>std.error</th><th scope=col>statistic</th><th scope=col>df</th><th scope=col>p.value</th><th scope=col>celltype</th><th scope=col>p.value.adj</th></tr>\n",
       "\t<tr><th></th><th scope=col>&lt;chr&gt;</th><th scope=col>&lt;chr&gt;</th><th scope=col>&lt;lgl&gt;</th><th scope=col>&lt;chr&gt;</th><th scope=col>&lt;dbl&gt;</th><th scope=col>&lt;dbl&gt;</th><th scope=col>&lt;dbl&gt;</th><th scope=col>&lt;dbl&gt;</th><th scope=col>&lt;dbl&gt;</th><th scope=col>&lt;chr&gt;</th><th scope=col>&lt;dbl&gt;</th></tr>\n",
       "</thead>\n",
       "<tbody>\n",
       "\t<tr><th scope=row>1</th><td>ASDC_uk1_B            </td><td>fixed</td><td>NA</td><td>days_to_conversion</td><td>-0.0009195660</td><td>0.0003201099</td><td>-2.872657</td><td>46.00000</td><td>0.006138637</td><td>ASDC_uk1_B            </td><td>0.3157688</td></tr>\n",
       "\t<tr><th scope=row>2</th><td>ISG+ cDC2             </td><td>fixed</td><td>NA</td><td>days_to_conversion</td><td>-0.0008794109</td><td>0.0003189739</td><td>-2.757000</td><td>42.68049</td><td>0.008548418</td><td>ISG+ cDC2             </td><td>0.3157688</td></tr>\n",
       "\t<tr><th scope=row>3</th><td>SOX4+ naive CD4 T cell</td><td>fixed</td><td>NA</td><td>days_to_conversion</td><td>-0.0006232588</td><td>0.0002460128</td><td>-2.533440</td><td>37.18069</td><td>0.015640822</td><td>SOX4+ naive CD4 T cell</td><td>0.3157688</td></tr>\n",
       "</tbody>\n",
       "</table>\n"
      ],
      "text/latex": [
       "A data.frame: 3 × 11\n",
       "\\begin{tabular}{r|lllllllllll}\n",
       "  & AIFI\\_L3\\_new & effect & group & term & estimate & std.error & statistic & df & p.value & celltype & p.value.adj\\\\\n",
       "  & <chr> & <chr> & <lgl> & <chr> & <dbl> & <dbl> & <dbl> & <dbl> & <dbl> & <chr> & <dbl>\\\\\n",
       "\\hline\n",
       "\t1 & ASDC\\_uk1\\_B             & fixed & NA & days\\_to\\_conversion & -0.0009195660 & 0.0003201099 & -2.872657 & 46.00000 & 0.006138637 & ASDC\\_uk1\\_B             & 0.3157688\\\\\n",
       "\t2 & ISG+ cDC2              & fixed & NA & days\\_to\\_conversion & -0.0008794109 & 0.0003189739 & -2.757000 & 42.68049 & 0.008548418 & ISG+ cDC2              & 0.3157688\\\\\n",
       "\t3 & SOX4+ naive CD4 T cell & fixed & NA & days\\_to\\_conversion & -0.0006232588 & 0.0002460128 & -2.533440 & 37.18069 & 0.015640822 & SOX4+ naive CD4 T cell & 0.3157688\\\\\n",
       "\\end{tabular}\n"
      ],
      "text/markdown": [
       "\n",
       "A data.frame: 3 × 11\n",
       "\n",
       "| <!--/--> | AIFI_L3_new &lt;chr&gt; | effect &lt;chr&gt; | group &lt;lgl&gt; | term &lt;chr&gt; | estimate &lt;dbl&gt; | std.error &lt;dbl&gt; | statistic &lt;dbl&gt; | df &lt;dbl&gt; | p.value &lt;dbl&gt; | celltype &lt;chr&gt; | p.value.adj &lt;dbl&gt; |\n",
       "|---|---|---|---|---|---|---|---|---|---|---|---|\n",
       "| 1 | ASDC_uk1_B             | fixed | NA | days_to_conversion | -0.0009195660 | 0.0003201099 | -2.872657 | 46.00000 | 0.006138637 | ASDC_uk1_B             | 0.3157688 |\n",
       "| 2 | ISG+ cDC2              | fixed | NA | days_to_conversion | -0.0008794109 | 0.0003189739 | -2.757000 | 42.68049 | 0.008548418 | ISG+ cDC2              | 0.3157688 |\n",
       "| 3 | SOX4+ naive CD4 T cell | fixed | NA | days_to_conversion | -0.0006232588 | 0.0002460128 | -2.533440 | 37.18069 | 0.015640822 | SOX4+ naive CD4 T cell | 0.3157688 |\n",
       "\n"
      ],
      "text/plain": [
       "  AIFI_L3_new            effect group term               estimate     \n",
       "1 ASDC_uk1_B             fixed  NA    days_to_conversion -0.0009195660\n",
       "2 ISG+ cDC2              fixed  NA    days_to_conversion -0.0008794109\n",
       "3 SOX4+ naive CD4 T cell fixed  NA    days_to_conversion -0.0006232588\n",
       "  std.error    statistic df       p.value     celltype              \n",
       "1 0.0003201099 -2.872657 46.00000 0.006138637 ASDC_uk1_B            \n",
       "2 0.0003189739 -2.757000 42.68049 0.008548418 ISG+ cDC2             \n",
       "3 0.0002460128 -2.533440 37.18069 0.015640822 SOX4+ naive CD4 T cell\n",
       "  p.value.adj\n",
       "1 0.3157688  \n",
       "2 0.3157688  \n",
       "3 0.3157688  "
      ]
     },
     "metadata": {},
     "output_type": "display_data"
    },
    {
     "data": {
      "text/html": [
       "<style>\n",
       ".list-inline {list-style: none; margin:0; padding: 0}\n",
       ".list-inline>li {display: inline-block}\n",
       ".list-inline>li:not(:last-child)::after {content: \"\\00b7\"; padding: 0 .5ex}\n",
       "</style>\n",
       "<ol class=list-inline><li>80</li><li>11</li></ol>\n"
      ],
      "text/latex": [
       "\\begin{enumerate*}\n",
       "\\item 80\n",
       "\\item 11\n",
       "\\end{enumerate*}\n"
      ],
      "text/markdown": [
       "1. 80\n",
       "2. 11\n",
       "\n",
       "\n"
      ],
      "text/plain": [
       "[1] 80 11"
      ]
     },
     "metadata": {},
     "output_type": "display_data"
    }
   ],
   "source": [
    "# Loading the DA results\n",
    "frequency_a3=read.csv(\"/home/jupyter/ALTRA_ANALYSIS/Deep_clean/Figure_notebooks/files/input_files/certpro_Zi_files/DA_results/ALTRA_scRNA_AIFI_L3_deepclean_certpro_AIM3_DA_mixed_model_female_results.csv\")\n",
    "frequency_a3%>%head(3)\n",
    "frequency_a3%>%dim"
   ]
  },
  {
   "cell_type": "code",
   "execution_count": 9,
   "id": "a57612d5-3c98-4edb-af19-6da19997fc37",
   "metadata": {},
   "outputs": [
    {
     "data": {
      "text/html": [
       "<table class=\"dataframe\">\n",
       "<caption>A data.frame: 3 × 12</caption>\n",
       "<thead>\n",
       "\t<tr><th></th><th scope=col>AIFI_L3_new</th><th scope=col>effect</th><th scope=col>group</th><th scope=col>term</th><th scope=col>estimate</th><th scope=col>std.error</th><th scope=col>statistic</th><th scope=col>df</th><th scope=col>p.value</th><th scope=col>celltype</th><th scope=col>p.value.adj</th><th scope=col>total_degs_counts</th></tr>\n",
       "\t<tr><th></th><th scope=col>&lt;chr&gt;</th><th scope=col>&lt;chr&gt;</th><th scope=col>&lt;lgl&gt;</th><th scope=col>&lt;chr&gt;</th><th scope=col>&lt;dbl&gt;</th><th scope=col>&lt;dbl&gt;</th><th scope=col>&lt;dbl&gt;</th><th scope=col>&lt;dbl&gt;</th><th scope=col>&lt;dbl&gt;</th><th scope=col>&lt;chr&gt;</th><th scope=col>&lt;dbl&gt;</th><th scope=col>&lt;int&gt;</th></tr>\n",
       "</thead>\n",
       "<tbody>\n",
       "\t<tr><th scope=row>1</th><td>ASDC_uk1_B            </td><td>fixed</td><td>NA</td><td>days_to_conversion</td><td>-0.0009195660</td><td>0.0003201099</td><td>-2.872657</td><td>46.00000</td><td>0.006138637</td><td>ASDC_uk1_B            </td><td>0.3157688</td><td>NA</td></tr>\n",
       "\t<tr><th scope=row>2</th><td>ISG+ cDC2             </td><td>fixed</td><td>NA</td><td>days_to_conversion</td><td>-0.0008794109</td><td>0.0003189739</td><td>-2.757000</td><td>42.68049</td><td>0.008548418</td><td>ISG+ cDC2             </td><td>0.3157688</td><td>NA</td></tr>\n",
       "\t<tr><th scope=row>3</th><td>SOX4+ naive CD4 T cell</td><td>fixed</td><td>NA</td><td>days_to_conversion</td><td>-0.0006232588</td><td>0.0002460128</td><td>-2.533440</td><td>37.18069</td><td>0.015640822</td><td>SOX4+ naive CD4 T cell</td><td>0.3157688</td><td>NA</td></tr>\n",
       "</tbody>\n",
       "</table>\n"
      ],
      "text/latex": [
       "A data.frame: 3 × 12\n",
       "\\begin{tabular}{r|llllllllllll}\n",
       "  & AIFI\\_L3\\_new & effect & group & term & estimate & std.error & statistic & df & p.value & celltype & p.value.adj & total\\_degs\\_counts\\\\\n",
       "  & <chr> & <chr> & <lgl> & <chr> & <dbl> & <dbl> & <dbl> & <dbl> & <dbl> & <chr> & <dbl> & <int>\\\\\n",
       "\\hline\n",
       "\t1 & ASDC\\_uk1\\_B             & fixed & NA & days\\_to\\_conversion & -0.0009195660 & 0.0003201099 & -2.872657 & 46.00000 & 0.006138637 & ASDC\\_uk1\\_B             & 0.3157688 & NA\\\\\n",
       "\t2 & ISG+ cDC2              & fixed & NA & days\\_to\\_conversion & -0.0008794109 & 0.0003189739 & -2.757000 & 42.68049 & 0.008548418 & ISG+ cDC2              & 0.3157688 & NA\\\\\n",
       "\t3 & SOX4+ naive CD4 T cell & fixed & NA & days\\_to\\_conversion & -0.0006232588 & 0.0002460128 & -2.533440 & 37.18069 & 0.015640822 & SOX4+ naive CD4 T cell & 0.3157688 & NA\\\\\n",
       "\\end{tabular}\n"
      ],
      "text/markdown": [
       "\n",
       "A data.frame: 3 × 12\n",
       "\n",
       "| <!--/--> | AIFI_L3_new &lt;chr&gt; | effect &lt;chr&gt; | group &lt;lgl&gt; | term &lt;chr&gt; | estimate &lt;dbl&gt; | std.error &lt;dbl&gt; | statistic &lt;dbl&gt; | df &lt;dbl&gt; | p.value &lt;dbl&gt; | celltype &lt;chr&gt; | p.value.adj &lt;dbl&gt; | total_degs_counts &lt;int&gt; |\n",
       "|---|---|---|---|---|---|---|---|---|---|---|---|---|\n",
       "| 1 | ASDC_uk1_B             | fixed | NA | days_to_conversion | -0.0009195660 | 0.0003201099 | -2.872657 | 46.00000 | 0.006138637 | ASDC_uk1_B             | 0.3157688 | NA |\n",
       "| 2 | ISG+ cDC2              | fixed | NA | days_to_conversion | -0.0008794109 | 0.0003189739 | -2.757000 | 42.68049 | 0.008548418 | ISG+ cDC2              | 0.3157688 | NA |\n",
       "| 3 | SOX4+ naive CD4 T cell | fixed | NA | days_to_conversion | -0.0006232588 | 0.0002460128 | -2.533440 | 37.18069 | 0.015640822 | SOX4+ naive CD4 T cell | 0.3157688 | NA |\n",
       "\n"
      ],
      "text/plain": [
       "  AIFI_L3_new            effect group term               estimate     \n",
       "1 ASDC_uk1_B             fixed  NA    days_to_conversion -0.0009195660\n",
       "2 ISG+ cDC2              fixed  NA    days_to_conversion -0.0008794109\n",
       "3 SOX4+ naive CD4 T cell fixed  NA    days_to_conversion -0.0006232588\n",
       "  std.error    statistic df       p.value     celltype              \n",
       "1 0.0003201099 -2.872657 46.00000 0.006138637 ASDC_uk1_B            \n",
       "2 0.0003189739 -2.757000 42.68049 0.008548418 ISG+ cDC2             \n",
       "3 0.0002460128 -2.533440 37.18069 0.015640822 SOX4+ naive CD4 T cell\n",
       "  p.value.adj total_degs_counts\n",
       "1 0.3157688   NA               \n",
       "2 0.3157688   NA               \n",
       "3 0.3157688   NA               "
      ]
     },
     "metadata": {},
     "output_type": "display_data"
    },
    {
     "data": {
      "text/html": [
       "<style>\n",
       ".list-inline {list-style: none; margin:0; padding: 0}\n",
       ".list-inline>li {display: inline-block}\n",
       ".list-inline>li:not(:last-child)::after {content: \"\\00b7\"; padding: 0 .5ex}\n",
       "</style>\n",
       "<ol class=list-inline><li>80</li><li>12</li></ol>\n"
      ],
      "text/latex": [
       "\\begin{enumerate*}\n",
       "\\item 80\n",
       "\\item 12\n",
       "\\end{enumerate*}\n"
      ],
      "text/markdown": [
       "1. 80\n",
       "2. 12\n",
       "\n",
       "\n"
      ],
      "text/plain": [
       "[1] 80 12"
      ]
     },
     "metadata": {},
     "output_type": "display_data"
    }
   ],
   "source": [
    "merged_df <- left_join(frequency_a3, total_degs, by = \"celltype\")\n",
    "merged_df%>%head(3)\n",
    "merged_df%>%dim"
   ]
  },
  {
   "cell_type": "code",
   "execution_count": 10,
   "id": "a7948f9e-c2cc-4a76-afd4-3d79375722c6",
   "metadata": {},
   "outputs": [
    {
     "data": {
      "text/html": [
       "<table class=\"dataframe\">\n",
       "<caption>A data.frame: 2 × 13</caption>\n",
       "<thead>\n",
       "\t<tr><th></th><th scope=col>AIFI_L3_new</th><th scope=col>effect</th><th scope=col>group</th><th scope=col>term</th><th scope=col>estimate</th><th scope=col>std.error</th><th scope=col>statistic</th><th scope=col>df</th><th scope=col>p.value</th><th scope=col>celltype</th><th scope=col>p.value.adj</th><th scope=col>total_degs_counts</th><th scope=col>Total_DEGs</th></tr>\n",
       "\t<tr><th></th><th scope=col>&lt;chr&gt;</th><th scope=col>&lt;chr&gt;</th><th scope=col>&lt;lgl&gt;</th><th scope=col>&lt;chr&gt;</th><th scope=col>&lt;dbl&gt;</th><th scope=col>&lt;dbl&gt;</th><th scope=col>&lt;dbl&gt;</th><th scope=col>&lt;dbl&gt;</th><th scope=col>&lt;dbl&gt;</th><th scope=col>&lt;chr&gt;</th><th scope=col>&lt;dbl&gt;</th><th scope=col>&lt;int&gt;</th><th scope=col>&lt;dbl&gt;</th></tr>\n",
       "</thead>\n",
       "<tbody>\n",
       "\t<tr><th scope=row>1</th><td>ASDC_uk1_B</td><td>fixed</td><td>NA</td><td>days_to_conversion</td><td>-0.0009195660</td><td>0.0003201099</td><td>-2.872657</td><td>46.00000</td><td>0.006138637</td><td>ASDC_uk1_B</td><td>0.3157688</td><td>NA</td><td>0</td></tr>\n",
       "\t<tr><th scope=row>2</th><td>ISG+ cDC2 </td><td>fixed</td><td>NA</td><td>days_to_conversion</td><td>-0.0008794109</td><td>0.0003189739</td><td>-2.757000</td><td>42.68049</td><td>0.008548418</td><td>ISG+ cDC2 </td><td>0.3157688</td><td>NA</td><td>0</td></tr>\n",
       "</tbody>\n",
       "</table>\n"
      ],
      "text/latex": [
       "A data.frame: 2 × 13\n",
       "\\begin{tabular}{r|lllllllllllll}\n",
       "  & AIFI\\_L3\\_new & effect & group & term & estimate & std.error & statistic & df & p.value & celltype & p.value.adj & total\\_degs\\_counts & Total\\_DEGs\\\\\n",
       "  & <chr> & <chr> & <lgl> & <chr> & <dbl> & <dbl> & <dbl> & <dbl> & <dbl> & <chr> & <dbl> & <int> & <dbl>\\\\\n",
       "\\hline\n",
       "\t1 & ASDC\\_uk1\\_B & fixed & NA & days\\_to\\_conversion & -0.0009195660 & 0.0003201099 & -2.872657 & 46.00000 & 0.006138637 & ASDC\\_uk1\\_B & 0.3157688 & NA & 0\\\\\n",
       "\t2 & ISG+ cDC2  & fixed & NA & days\\_to\\_conversion & -0.0008794109 & 0.0003189739 & -2.757000 & 42.68049 & 0.008548418 & ISG+ cDC2  & 0.3157688 & NA & 0\\\\\n",
       "\\end{tabular}\n"
      ],
      "text/markdown": [
       "\n",
       "A data.frame: 2 × 13\n",
       "\n",
       "| <!--/--> | AIFI_L3_new &lt;chr&gt; | effect &lt;chr&gt; | group &lt;lgl&gt; | term &lt;chr&gt; | estimate &lt;dbl&gt; | std.error &lt;dbl&gt; | statistic &lt;dbl&gt; | df &lt;dbl&gt; | p.value &lt;dbl&gt; | celltype &lt;chr&gt; | p.value.adj &lt;dbl&gt; | total_degs_counts &lt;int&gt; | Total_DEGs &lt;dbl&gt; |\n",
       "|---|---|---|---|---|---|---|---|---|---|---|---|---|---|\n",
       "| 1 | ASDC_uk1_B | fixed | NA | days_to_conversion | -0.0009195660 | 0.0003201099 | -2.872657 | 46.00000 | 0.006138637 | ASDC_uk1_B | 0.3157688 | NA | 0 |\n",
       "| 2 | ISG+ cDC2  | fixed | NA | days_to_conversion | -0.0008794109 | 0.0003189739 | -2.757000 | 42.68049 | 0.008548418 | ISG+ cDC2  | 0.3157688 | NA | 0 |\n",
       "\n"
      ],
      "text/plain": [
       "  AIFI_L3_new effect group term               estimate      std.error   \n",
       "1 ASDC_uk1_B  fixed  NA    days_to_conversion -0.0009195660 0.0003201099\n",
       "2 ISG+ cDC2   fixed  NA    days_to_conversion -0.0008794109 0.0003189739\n",
       "  statistic df       p.value     celltype   p.value.adj total_degs_counts\n",
       "1 -2.872657 46.00000 0.006138637 ASDC_uk1_B 0.3157688   NA               \n",
       "2 -2.757000 42.68049 0.008548418 ISG+ cDC2  0.3157688   NA               \n",
       "  Total_DEGs\n",
       "1 0         \n",
       "2 0         "
      ]
     },
     "metadata": {},
     "output_type": "display_data"
    },
    {
     "data": {
      "text/html": [
       "<style>\n",
       ".list-inline {list-style: none; margin:0; padding: 0}\n",
       ".list-inline>li {display: inline-block}\n",
       ".list-inline>li:not(:last-child)::after {content: \"\\00b7\"; padding: 0 .5ex}\n",
       "</style>\n",
       "<ol class=list-inline><li>0</li><li>13</li></ol>\n"
      ],
      "text/latex": [
       "\\begin{enumerate*}\n",
       "\\item 0\n",
       "\\item 13\n",
       "\\end{enumerate*}\n"
      ],
      "text/markdown": [
       "1. 0\n",
       "2. 13\n",
       "\n",
       "\n"
      ],
      "text/plain": [
       "[1]  0 13"
      ]
     },
     "metadata": {},
     "output_type": "display_data"
    }
   ],
   "source": [
    "#Creating a new column \"Total_DEGs\" and fill 0 for NA values in total_degs_counts\n",
    "merged_df <- merged_df %>% mutate(Total_DEGs = ifelse(is.na(total_degs_counts), 0, total_degs_counts))\n",
    "merged_df%>%head(2)\n",
    "merged_df %>%filter(is.na(Total_DEGs))%>%dim"
   ]
  },
  {
   "cell_type": "code",
   "execution_count": 11,
   "id": "b48656ce-7ad8-482f-8fba-d6e24cf228b2",
   "metadata": {},
   "outputs": [
    {
     "data": {
      "text/html": [
       "<table class=\"dataframe\">\n",
       "<caption>A data.frame: 3 × 3</caption>\n",
       "<thead>\n",
       "\t<tr><th></th><th scope=col>xpos</th><th scope=col>celltype</th><th scope=col>color</th></tr>\n",
       "\t<tr><th></th><th scope=col>&lt;int&gt;</th><th scope=col>&lt;chr&gt;</th><th scope=col>&lt;chr&gt;</th></tr>\n",
       "</thead>\n",
       "<tbody>\n",
       "\t<tr><th scope=row>1</th><td>1</td><td>SOX4+ naive CD4 T cell</td><td>#2B5777</td></tr>\n",
       "\t<tr><th scope=row>2</th><td>2</td><td>Core naive CD4 T cell </td><td>#597FC6</td></tr>\n",
       "\t<tr><th scope=row>3</th><td>3</td><td>ISG+ naive CD4 T cell </td><td>#072E77</td></tr>\n",
       "</tbody>\n",
       "</table>\n"
      ],
      "text/latex": [
       "A data.frame: 3 × 3\n",
       "\\begin{tabular}{r|lll}\n",
       "  & xpos & celltype & color\\\\\n",
       "  & <int> & <chr> & <chr>\\\\\n",
       "\\hline\n",
       "\t1 & 1 & SOX4+ naive CD4 T cell & \\#2B5777\\\\\n",
       "\t2 & 2 & Core naive CD4 T cell  & \\#597FC6\\\\\n",
       "\t3 & 3 & ISG+ naive CD4 T cell  & \\#072E77\\\\\n",
       "\\end{tabular}\n"
      ],
      "text/markdown": [
       "\n",
       "A data.frame: 3 × 3\n",
       "\n",
       "| <!--/--> | xpos &lt;int&gt; | celltype &lt;chr&gt; | color &lt;chr&gt; |\n",
       "|---|---|---|---|\n",
       "| 1 | 1 | SOX4+ naive CD4 T cell | #2B5777 |\n",
       "| 2 | 2 | Core naive CD4 T cell  | #597FC6 |\n",
       "| 3 | 3 | ISG+ naive CD4 T cell  | #072E77 |\n",
       "\n"
      ],
      "text/plain": [
       "  xpos celltype               color  \n",
       "1 1    SOX4+ naive CD4 T cell #2B5777\n",
       "2 2    Core naive CD4 T cell  #597FC6\n",
       "3 3    ISG+ naive CD4 T cell  #072E77"
      ]
     },
     "metadata": {},
     "output_type": "display_data"
    }
   ],
   "source": [
    "# Reading the IH color file\n",
    "IH_color_df=read.csv(\"/home/jupyter/ALTRA_ANALYSIS/Deep_clean/Figure_notebooks/files/input_files/Color_Annotation_and_Order_FINAL 1.csv\")\n",
    "IH_color_df <- IH_color_df %>% rename(celltype = label)\n",
    "IH_color_df%>%head(3)"
   ]
  },
  {
   "cell_type": "code",
   "execution_count": 12,
   "id": "15b7a35e-a735-4062-a9ba-4aef24e3613d",
   "metadata": {},
   "outputs": [
    {
     "data": {
      "text/html": [
       "<table class=\"dataframe\">\n",
       "<caption>A data.frame: 3 × 15</caption>\n",
       "<thead>\n",
       "\t<tr><th></th><th scope=col>AIFI_L3_new</th><th scope=col>effect</th><th scope=col>group</th><th scope=col>term</th><th scope=col>estimate</th><th scope=col>std.error</th><th scope=col>statistic</th><th scope=col>df</th><th scope=col>p.value</th><th scope=col>celltype</th><th scope=col>p.value.adj</th><th scope=col>total_degs_counts</th><th scope=col>Total_DEGs</th><th scope=col>xpos</th><th scope=col>color</th></tr>\n",
       "\t<tr><th></th><th scope=col>&lt;chr&gt;</th><th scope=col>&lt;chr&gt;</th><th scope=col>&lt;lgl&gt;</th><th scope=col>&lt;chr&gt;</th><th scope=col>&lt;dbl&gt;</th><th scope=col>&lt;dbl&gt;</th><th scope=col>&lt;dbl&gt;</th><th scope=col>&lt;dbl&gt;</th><th scope=col>&lt;dbl&gt;</th><th scope=col>&lt;chr&gt;</th><th scope=col>&lt;dbl&gt;</th><th scope=col>&lt;int&gt;</th><th scope=col>&lt;dbl&gt;</th><th scope=col>&lt;int&gt;</th><th scope=col>&lt;chr&gt;</th></tr>\n",
       "</thead>\n",
       "<tbody>\n",
       "\t<tr><th scope=row>1</th><td>ASDC_uk1_B            </td><td>fixed</td><td>NA</td><td>days_to_conversion</td><td>-0.0009195660</td><td>0.0003201099</td><td>-2.872657</td><td>46.00000</td><td>0.006138637</td><td>ASDC_uk1_B            </td><td>0.3157688</td><td>NA</td><td>0</td><td>NA</td><td>NA     </td></tr>\n",
       "\t<tr><th scope=row>2</th><td>ISG+ cDC2             </td><td>fixed</td><td>NA</td><td>days_to_conversion</td><td>-0.0008794109</td><td>0.0003189739</td><td>-2.757000</td><td>42.68049</td><td>0.008548418</td><td>ISG+ cDC2             </td><td>0.3157688</td><td>NA</td><td>0</td><td>62</td><td>#8C6527</td></tr>\n",
       "\t<tr><th scope=row>3</th><td>SOX4+ naive CD4 T cell</td><td>fixed</td><td>NA</td><td>days_to_conversion</td><td>-0.0006232588</td><td>0.0002460128</td><td>-2.533440</td><td>37.18069</td><td>0.015640822</td><td>SOX4+ naive CD4 T cell</td><td>0.3157688</td><td>NA</td><td>0</td><td> 1</td><td>#2B5777</td></tr>\n",
       "</tbody>\n",
       "</table>\n"
      ],
      "text/latex": [
       "A data.frame: 3 × 15\n",
       "\\begin{tabular}{r|lllllllllllllll}\n",
       "  & AIFI\\_L3\\_new & effect & group & term & estimate & std.error & statistic & df & p.value & celltype & p.value.adj & total\\_degs\\_counts & Total\\_DEGs & xpos & color\\\\\n",
       "  & <chr> & <chr> & <lgl> & <chr> & <dbl> & <dbl> & <dbl> & <dbl> & <dbl> & <chr> & <dbl> & <int> & <dbl> & <int> & <chr>\\\\\n",
       "\\hline\n",
       "\t1 & ASDC\\_uk1\\_B             & fixed & NA & days\\_to\\_conversion & -0.0009195660 & 0.0003201099 & -2.872657 & 46.00000 & 0.006138637 & ASDC\\_uk1\\_B             & 0.3157688 & NA & 0 & NA & NA     \\\\\n",
       "\t2 & ISG+ cDC2              & fixed & NA & days\\_to\\_conversion & -0.0008794109 & 0.0003189739 & -2.757000 & 42.68049 & 0.008548418 & ISG+ cDC2              & 0.3157688 & NA & 0 & 62 & \\#8C6527\\\\\n",
       "\t3 & SOX4+ naive CD4 T cell & fixed & NA & days\\_to\\_conversion & -0.0006232588 & 0.0002460128 & -2.533440 & 37.18069 & 0.015640822 & SOX4+ naive CD4 T cell & 0.3157688 & NA & 0 &  1 & \\#2B5777\\\\\n",
       "\\end{tabular}\n"
      ],
      "text/markdown": [
       "\n",
       "A data.frame: 3 × 15\n",
       "\n",
       "| <!--/--> | AIFI_L3_new &lt;chr&gt; | effect &lt;chr&gt; | group &lt;lgl&gt; | term &lt;chr&gt; | estimate &lt;dbl&gt; | std.error &lt;dbl&gt; | statistic &lt;dbl&gt; | df &lt;dbl&gt; | p.value &lt;dbl&gt; | celltype &lt;chr&gt; | p.value.adj &lt;dbl&gt; | total_degs_counts &lt;int&gt; | Total_DEGs &lt;dbl&gt; | xpos &lt;int&gt; | color &lt;chr&gt; |\n",
       "|---|---|---|---|---|---|---|---|---|---|---|---|---|---|---|---|\n",
       "| 1 | ASDC_uk1_B             | fixed | NA | days_to_conversion | -0.0009195660 | 0.0003201099 | -2.872657 | 46.00000 | 0.006138637 | ASDC_uk1_B             | 0.3157688 | NA | 0 | NA | NA      |\n",
       "| 2 | ISG+ cDC2              | fixed | NA | days_to_conversion | -0.0008794109 | 0.0003189739 | -2.757000 | 42.68049 | 0.008548418 | ISG+ cDC2              | 0.3157688 | NA | 0 | 62 | #8C6527 |\n",
       "| 3 | SOX4+ naive CD4 T cell | fixed | NA | days_to_conversion | -0.0006232588 | 0.0002460128 | -2.533440 | 37.18069 | 0.015640822 | SOX4+ naive CD4 T cell | 0.3157688 | NA | 0 |  1 | #2B5777 |\n",
       "\n"
      ],
      "text/plain": [
       "  AIFI_L3_new            effect group term               estimate     \n",
       "1 ASDC_uk1_B             fixed  NA    days_to_conversion -0.0009195660\n",
       "2 ISG+ cDC2              fixed  NA    days_to_conversion -0.0008794109\n",
       "3 SOX4+ naive CD4 T cell fixed  NA    days_to_conversion -0.0006232588\n",
       "  std.error    statistic df       p.value     celltype              \n",
       "1 0.0003201099 -2.872657 46.00000 0.006138637 ASDC_uk1_B            \n",
       "2 0.0003189739 -2.757000 42.68049 0.008548418 ISG+ cDC2             \n",
       "3 0.0002460128 -2.533440 37.18069 0.015640822 SOX4+ naive CD4 T cell\n",
       "  p.value.adj total_degs_counts Total_DEGs xpos color  \n",
       "1 0.3157688   NA                0          NA   NA     \n",
       "2 0.3157688   NA                0          62   #8C6527\n",
       "3 0.3157688   NA                0           1   #2B5777"
      ]
     },
     "metadata": {},
     "output_type": "display_data"
    },
    {
     "data": {
      "text/html": [
       "<style>\n",
       ".list-inline {list-style: none; margin:0; padding: 0}\n",
       ".list-inline>li {display: inline-block}\n",
       ".list-inline>li:not(:last-child)::after {content: \"\\00b7\"; padding: 0 .5ex}\n",
       "</style>\n",
       "<ol class=list-inline><li>80</li><li>15</li></ol>\n"
      ],
      "text/latex": [
       "\\begin{enumerate*}\n",
       "\\item 80\n",
       "\\item 15\n",
       "\\end{enumerate*}\n"
      ],
      "text/markdown": [
       "1. 80\n",
       "2. 15\n",
       "\n",
       "\n"
      ],
      "text/plain": [
       "[1] 80 15"
      ]
     },
     "metadata": {},
     "output_type": "display_data"
    }
   ],
   "source": [
    "# merging it with the merged df of DA and DEG results\n",
    "merged_df<- left_join(merged_df, IH_color_df, by = \"celltype\")\n",
    "merged_df%>%head(3)\n",
    "merged_df%>%dim"
   ]
  },
  {
   "cell_type": "code",
   "execution_count": 13,
   "id": "2781b73f-8ab2-4468-ba8f-0295f45389e7",
   "metadata": {},
   "outputs": [
    {
     "data": {
      "text/html": [
       "<table class=\"dataframe\">\n",
       "<caption>A data.frame: 3 × 16</caption>\n",
       "<thead>\n",
       "\t<tr><th></th><th scope=col>AIFI_L3_new</th><th scope=col>effect</th><th scope=col>group</th><th scope=col>term</th><th scope=col>estimate</th><th scope=col>std.error</th><th scope=col>statistic</th><th scope=col>df</th><th scope=col>p.value</th><th scope=col>celltype</th><th scope=col>p.value.adj</th><th scope=col>total_degs_counts</th><th scope=col>Total_DEGs</th><th scope=col>xpos</th><th scope=col>color</th><th scope=col>adjP_degs_combined_value</th></tr>\n",
       "\t<tr><th></th><th scope=col>&lt;chr&gt;</th><th scope=col>&lt;chr&gt;</th><th scope=col>&lt;lgl&gt;</th><th scope=col>&lt;chr&gt;</th><th scope=col>&lt;dbl&gt;</th><th scope=col>&lt;dbl&gt;</th><th scope=col>&lt;dbl&gt;</th><th scope=col>&lt;dbl&gt;</th><th scope=col>&lt;dbl&gt;</th><th scope=col>&lt;chr&gt;</th><th scope=col>&lt;dbl&gt;</th><th scope=col>&lt;int&gt;</th><th scope=col>&lt;dbl&gt;</th><th scope=col>&lt;int&gt;</th><th scope=col>&lt;chr&gt;</th><th scope=col>&lt;dbl&gt;</th></tr>\n",
       "</thead>\n",
       "<tbody>\n",
       "\t<tr><th scope=row>1</th><td>ASDC_uk1_B            </td><td>fixed</td><td>NA</td><td>days_to_conversion</td><td>-0.0009195660</td><td>0.0003201099</td><td>-2.872657</td><td>46.00000</td><td>0.006138637</td><td>ASDC_uk1_B            </td><td>0.3157688</td><td>NA</td><td>0</td><td>NA</td><td>NA     </td><td>0</td></tr>\n",
       "\t<tr><th scope=row>2</th><td>ISG+ cDC2             </td><td>fixed</td><td>NA</td><td>days_to_conversion</td><td>-0.0008794109</td><td>0.0003189739</td><td>-2.757000</td><td>42.68049</td><td>0.008548418</td><td>ISG+ cDC2             </td><td>0.3157688</td><td>NA</td><td>0</td><td>62</td><td>#8C6527</td><td>0</td></tr>\n",
       "\t<tr><th scope=row>3</th><td>SOX4+ naive CD4 T cell</td><td>fixed</td><td>NA</td><td>days_to_conversion</td><td>-0.0006232588</td><td>0.0002460128</td><td>-2.533440</td><td>37.18069</td><td>0.015640822</td><td>SOX4+ naive CD4 T cell</td><td>0.3157688</td><td>NA</td><td>0</td><td> 1</td><td>#2B5777</td><td>0</td></tr>\n",
       "</tbody>\n",
       "</table>\n"
      ],
      "text/latex": [
       "A data.frame: 3 × 16\n",
       "\\begin{tabular}{r|llllllllllllllll}\n",
       "  & AIFI\\_L3\\_new & effect & group & term & estimate & std.error & statistic & df & p.value & celltype & p.value.adj & total\\_degs\\_counts & Total\\_DEGs & xpos & color & adjP\\_degs\\_combined\\_value\\\\\n",
       "  & <chr> & <chr> & <lgl> & <chr> & <dbl> & <dbl> & <dbl> & <dbl> & <dbl> & <chr> & <dbl> & <int> & <dbl> & <int> & <chr> & <dbl>\\\\\n",
       "\\hline\n",
       "\t1 & ASDC\\_uk1\\_B             & fixed & NA & days\\_to\\_conversion & -0.0009195660 & 0.0003201099 & -2.872657 & 46.00000 & 0.006138637 & ASDC\\_uk1\\_B             & 0.3157688 & NA & 0 & NA & NA      & 0\\\\\n",
       "\t2 & ISG+ cDC2              & fixed & NA & days\\_to\\_conversion & -0.0008794109 & 0.0003189739 & -2.757000 & 42.68049 & 0.008548418 & ISG+ cDC2              & 0.3157688 & NA & 0 & 62 & \\#8C6527 & 0\\\\\n",
       "\t3 & SOX4+ naive CD4 T cell & fixed & NA & days\\_to\\_conversion & -0.0006232588 & 0.0002460128 & -2.533440 & 37.18069 & 0.015640822 & SOX4+ naive CD4 T cell & 0.3157688 & NA & 0 &  1 & \\#2B5777 & 0\\\\\n",
       "\\end{tabular}\n"
      ],
      "text/markdown": [
       "\n",
       "A data.frame: 3 × 16\n",
       "\n",
       "| <!--/--> | AIFI_L3_new &lt;chr&gt; | effect &lt;chr&gt; | group &lt;lgl&gt; | term &lt;chr&gt; | estimate &lt;dbl&gt; | std.error &lt;dbl&gt; | statistic &lt;dbl&gt; | df &lt;dbl&gt; | p.value &lt;dbl&gt; | celltype &lt;chr&gt; | p.value.adj &lt;dbl&gt; | total_degs_counts &lt;int&gt; | Total_DEGs &lt;dbl&gt; | xpos &lt;int&gt; | color &lt;chr&gt; | adjP_degs_combined_value &lt;dbl&gt; |\n",
       "|---|---|---|---|---|---|---|---|---|---|---|---|---|---|---|---|---|\n",
       "| 1 | ASDC_uk1_B             | fixed | NA | days_to_conversion | -0.0009195660 | 0.0003201099 | -2.872657 | 46.00000 | 0.006138637 | ASDC_uk1_B             | 0.3157688 | NA | 0 | NA | NA      | 0 |\n",
       "| 2 | ISG+ cDC2              | fixed | NA | days_to_conversion | -0.0008794109 | 0.0003189739 | -2.757000 | 42.68049 | 0.008548418 | ISG+ cDC2              | 0.3157688 | NA | 0 | 62 | #8C6527 | 0 |\n",
       "| 3 | SOX4+ naive CD4 T cell | fixed | NA | days_to_conversion | -0.0006232588 | 0.0002460128 | -2.533440 | 37.18069 | 0.015640822 | SOX4+ naive CD4 T cell | 0.3157688 | NA | 0 |  1 | #2B5777 | 0 |\n",
       "\n"
      ],
      "text/plain": [
       "  AIFI_L3_new            effect group term               estimate     \n",
       "1 ASDC_uk1_B             fixed  NA    days_to_conversion -0.0009195660\n",
       "2 ISG+ cDC2              fixed  NA    days_to_conversion -0.0008794109\n",
       "3 SOX4+ naive CD4 T cell fixed  NA    days_to_conversion -0.0006232588\n",
       "  std.error    statistic df       p.value     celltype              \n",
       "1 0.0003201099 -2.872657 46.00000 0.006138637 ASDC_uk1_B            \n",
       "2 0.0003189739 -2.757000 42.68049 0.008548418 ISG+ cDC2             \n",
       "3 0.0002460128 -2.533440 37.18069 0.015640822 SOX4+ naive CD4 T cell\n",
       "  p.value.adj total_degs_counts Total_DEGs xpos color  \n",
       "1 0.3157688   NA                0          NA   NA     \n",
       "2 0.3157688   NA                0          62   #8C6527\n",
       "3 0.3157688   NA                0           1   #2B5777\n",
       "  adjP_degs_combined_value\n",
       "1 0                       \n",
       "2 0                       \n",
       "3 0                       "
      ]
     },
     "metadata": {},
     "output_type": "display_data"
    },
    {
     "data": {
      "text/html": [
       "<style>\n",
       ".list-inline {list-style: none; margin:0; padding: 0}\n",
       ".list-inline>li {display: inline-block}\n",
       ".list-inline>li:not(:last-child)::after {content: \"\\00b7\"; padding: 0 .5ex}\n",
       "</style>\n",
       "<ol class=list-inline><li>80</li><li>16</li></ol>\n"
      ],
      "text/latex": [
       "\\begin{enumerate*}\n",
       "\\item 80\n",
       "\\item 16\n",
       "\\end{enumerate*}\n"
      ],
      "text/markdown": [
       "1. 80\n",
       "2. 16\n",
       "\n",
       "\n"
      ],
      "text/plain": [
       "[1] 80 16"
      ]
     },
     "metadata": {},
     "output_type": "display_data"
    }
   ],
   "source": [
    "# Aggregate score for the size of the bubble \n",
    "merged_df <- merged_df %>%\n",
    "  mutate(adjP_degs_combined_value = -log10(p.value.adj) * Total_DEGs)\n",
    "merged_df%>%head(3)\n",
    "merged_df%>%dim"
   ]
  },
  {
   "cell_type": "code",
   "execution_count": 14,
   "id": "38dfb56b-71fa-4896-8695-f1dfdea44dd0",
   "metadata": {},
   "outputs": [
    {
     "data": {
      "text/html": [
       "<table class=\"dataframe\">\n",
       "<caption>A data.frame: 3 × 17</caption>\n",
       "<thead>\n",
       "\t<tr><th></th><th scope=col>AIFI_L3_new</th><th scope=col>effect</th><th scope=col>group</th><th scope=col>term</th><th scope=col>estimate</th><th scope=col>std.error</th><th scope=col>statistic</th><th scope=col>df</th><th scope=col>p.value</th><th scope=col>celltype</th><th scope=col>p.value.adj</th><th scope=col>total_degs_counts</th><th scope=col>Total_DEGs</th><th scope=col>xpos</th><th scope=col>color</th><th scope=col>adjP_degs_combined_value</th><th scope=col>sig_L3</th></tr>\n",
       "\t<tr><th></th><th scope=col>&lt;chr&gt;</th><th scope=col>&lt;chr&gt;</th><th scope=col>&lt;lgl&gt;</th><th scope=col>&lt;chr&gt;</th><th scope=col>&lt;dbl&gt;</th><th scope=col>&lt;dbl&gt;</th><th scope=col>&lt;dbl&gt;</th><th scope=col>&lt;dbl&gt;</th><th scope=col>&lt;dbl&gt;</th><th scope=col>&lt;chr&gt;</th><th scope=col>&lt;dbl&gt;</th><th scope=col>&lt;int&gt;</th><th scope=col>&lt;dbl&gt;</th><th scope=col>&lt;int&gt;</th><th scope=col>&lt;chr&gt;</th><th scope=col>&lt;dbl&gt;</th><th scope=col>&lt;chr&gt;</th></tr>\n",
       "</thead>\n",
       "<tbody>\n",
       "\t<tr><th scope=row>1</th><td>ASDC_uk1_B            </td><td>fixed</td><td>NA</td><td>days_to_conversion</td><td>-0.0009195660</td><td>0.0003201099</td><td>-2.872657</td><td>46.00000</td><td>0.006138637</td><td>ASDC_uk1_B            </td><td>0.3157688</td><td>NA</td><td>0</td><td>NA</td><td>NA     </td><td>0</td><td>NA</td></tr>\n",
       "\t<tr><th scope=row>2</th><td>ISG+ cDC2             </td><td>fixed</td><td>NA</td><td>days_to_conversion</td><td>-0.0008794109</td><td>0.0003189739</td><td>-2.757000</td><td>42.68049</td><td>0.008548418</td><td>ISG+ cDC2             </td><td>0.3157688</td><td>NA</td><td>0</td><td>62</td><td>#8C6527</td><td>0</td><td>NA</td></tr>\n",
       "\t<tr><th scope=row>3</th><td>SOX4+ naive CD4 T cell</td><td>fixed</td><td>NA</td><td>days_to_conversion</td><td>-0.0006232588</td><td>0.0002460128</td><td>-2.533440</td><td>37.18069</td><td>0.015640822</td><td>SOX4+ naive CD4 T cell</td><td>0.3157688</td><td>NA</td><td>0</td><td> 1</td><td>#2B5777</td><td>0</td><td>NA</td></tr>\n",
       "</tbody>\n",
       "</table>\n"
      ],
      "text/latex": [
       "A data.frame: 3 × 17\n",
       "\\begin{tabular}{r|lllllllllllllllll}\n",
       "  & AIFI\\_L3\\_new & effect & group & term & estimate & std.error & statistic & df & p.value & celltype & p.value.adj & total\\_degs\\_counts & Total\\_DEGs & xpos & color & adjP\\_degs\\_combined\\_value & sig\\_L3\\\\\n",
       "  & <chr> & <chr> & <lgl> & <chr> & <dbl> & <dbl> & <dbl> & <dbl> & <dbl> & <chr> & <dbl> & <int> & <dbl> & <int> & <chr> & <dbl> & <chr>\\\\\n",
       "\\hline\n",
       "\t1 & ASDC\\_uk1\\_B             & fixed & NA & days\\_to\\_conversion & -0.0009195660 & 0.0003201099 & -2.872657 & 46.00000 & 0.006138637 & ASDC\\_uk1\\_B             & 0.3157688 & NA & 0 & NA & NA      & 0 & NA\\\\\n",
       "\t2 & ISG+ cDC2              & fixed & NA & days\\_to\\_conversion & -0.0008794109 & 0.0003189739 & -2.757000 & 42.68049 & 0.008548418 & ISG+ cDC2              & 0.3157688 & NA & 0 & 62 & \\#8C6527 & 0 & NA\\\\\n",
       "\t3 & SOX4+ naive CD4 T cell & fixed & NA & days\\_to\\_conversion & -0.0006232588 & 0.0002460128 & -2.533440 & 37.18069 & 0.015640822 & SOX4+ naive CD4 T cell & 0.3157688 & NA & 0 &  1 & \\#2B5777 & 0 & NA\\\\\n",
       "\\end{tabular}\n"
      ],
      "text/markdown": [
       "\n",
       "A data.frame: 3 × 17\n",
       "\n",
       "| <!--/--> | AIFI_L3_new &lt;chr&gt; | effect &lt;chr&gt; | group &lt;lgl&gt; | term &lt;chr&gt; | estimate &lt;dbl&gt; | std.error &lt;dbl&gt; | statistic &lt;dbl&gt; | df &lt;dbl&gt; | p.value &lt;dbl&gt; | celltype &lt;chr&gt; | p.value.adj &lt;dbl&gt; | total_degs_counts &lt;int&gt; | Total_DEGs &lt;dbl&gt; | xpos &lt;int&gt; | color &lt;chr&gt; | adjP_degs_combined_value &lt;dbl&gt; | sig_L3 &lt;chr&gt; |\n",
       "|---|---|---|---|---|---|---|---|---|---|---|---|---|---|---|---|---|---|\n",
       "| 1 | ASDC_uk1_B             | fixed | NA | days_to_conversion | -0.0009195660 | 0.0003201099 | -2.872657 | 46.00000 | 0.006138637 | ASDC_uk1_B             | 0.3157688 | NA | 0 | NA | NA      | 0 | NA |\n",
       "| 2 | ISG+ cDC2              | fixed | NA | days_to_conversion | -0.0008794109 | 0.0003189739 | -2.757000 | 42.68049 | 0.008548418 | ISG+ cDC2              | 0.3157688 | NA | 0 | 62 | #8C6527 | 0 | NA |\n",
       "| 3 | SOX4+ naive CD4 T cell | fixed | NA | days_to_conversion | -0.0006232588 | 0.0002460128 | -2.533440 | 37.18069 | 0.015640822 | SOX4+ naive CD4 T cell | 0.3157688 | NA | 0 |  1 | #2B5777 | 0 | NA |\n",
       "\n"
      ],
      "text/plain": [
       "  AIFI_L3_new            effect group term               estimate     \n",
       "1 ASDC_uk1_B             fixed  NA    days_to_conversion -0.0009195660\n",
       "2 ISG+ cDC2              fixed  NA    days_to_conversion -0.0008794109\n",
       "3 SOX4+ naive CD4 T cell fixed  NA    days_to_conversion -0.0006232588\n",
       "  std.error    statistic df       p.value     celltype              \n",
       "1 0.0003201099 -2.872657 46.00000 0.006138637 ASDC_uk1_B            \n",
       "2 0.0003189739 -2.757000 42.68049 0.008548418 ISG+ cDC2             \n",
       "3 0.0002460128 -2.533440 37.18069 0.015640822 SOX4+ naive CD4 T cell\n",
       "  p.value.adj total_degs_counts Total_DEGs xpos color  \n",
       "1 0.3157688   NA                0          NA   NA     \n",
       "2 0.3157688   NA                0          62   #8C6527\n",
       "3 0.3157688   NA                0           1   #2B5777\n",
       "  adjP_degs_combined_value sig_L3\n",
       "1 0                        NA    \n",
       "2 0                        NA    \n",
       "3 0                        NA    "
      ]
     },
     "metadata": {},
     "output_type": "display_data"
    }
   ],
   "source": [
    "# to display the name of only signifcant celltype names in the plot \n",
    "merged_df <- merged_df %>%\n",
    "  mutate(sig_L3 = if_else(adjP_degs_combined_value > 1, celltype, NA_character_))\n",
    "merged_df%>%head(3)"
   ]
  },
  {
   "cell_type": "code",
   "execution_count": 15,
   "id": "7bb7a99f-d7e2-476d-9d20-79cd60fbc437",
   "metadata": {},
   "outputs": [
    {
     "data": {
      "text/html": [
       "<table class=\"dataframe\">\n",
       "<caption>A data.frame: 6 × 18</caption>\n",
       "<thead>\n",
       "\t<tr><th></th><th scope=col>AIFI_L3_new</th><th scope=col>effect</th><th scope=col>group</th><th scope=col>term</th><th scope=col>estimate</th><th scope=col>std.error</th><th scope=col>statistic</th><th scope=col>df</th><th scope=col>p.value</th><th scope=col>celltype</th><th scope=col>p.value.adj</th><th scope=col>total_degs_counts</th><th scope=col>Total_DEGs</th><th scope=col>xpos</th><th scope=col>color</th><th scope=col>adjP_degs_combined_value</th><th scope=col>sig_L3</th><th scope=col>estimate_by_year</th></tr>\n",
       "\t<tr><th></th><th scope=col>&lt;chr&gt;</th><th scope=col>&lt;chr&gt;</th><th scope=col>&lt;lgl&gt;</th><th scope=col>&lt;chr&gt;</th><th scope=col>&lt;dbl&gt;</th><th scope=col>&lt;dbl&gt;</th><th scope=col>&lt;dbl&gt;</th><th scope=col>&lt;dbl&gt;</th><th scope=col>&lt;dbl&gt;</th><th scope=col>&lt;chr&gt;</th><th scope=col>&lt;dbl&gt;</th><th scope=col>&lt;int&gt;</th><th scope=col>&lt;dbl&gt;</th><th scope=col>&lt;int&gt;</th><th scope=col>&lt;chr&gt;</th><th scope=col>&lt;dbl&gt;</th><th scope=col>&lt;chr&gt;</th><th scope=col>&lt;dbl&gt;</th></tr>\n",
       "</thead>\n",
       "<tbody>\n",
       "\t<tr><th scope=row>1</th><td>ASDC_uk1_B            </td><td>fixed</td><td>NA</td><td>days_to_conversion</td><td>-0.0009195660</td><td>0.0003201099</td><td>-2.872657</td><td>46.00000</td><td>0.006138637</td><td>ASDC_uk1_B            </td><td>0.3157688</td><td>NA</td><td>0</td><td>NA</td><td>NA     </td><td>0</td><td>NA</td><td>-0.3356416</td></tr>\n",
       "\t<tr><th scope=row>2</th><td>ISG+ cDC2             </td><td>fixed</td><td>NA</td><td>days_to_conversion</td><td>-0.0008794109</td><td>0.0003189739</td><td>-2.757000</td><td>42.68049</td><td>0.008548418</td><td>ISG+ cDC2             </td><td>0.3157688</td><td>NA</td><td>0</td><td>62</td><td>#8C6527</td><td>0</td><td>NA</td><td>-0.3209850</td></tr>\n",
       "\t<tr><th scope=row>3</th><td>SOX4+ naive CD4 T cell</td><td>fixed</td><td>NA</td><td>days_to_conversion</td><td>-0.0006232588</td><td>0.0002460128</td><td>-2.533440</td><td>37.18069</td><td>0.015640822</td><td>SOX4+ naive CD4 T cell</td><td>0.3157688</td><td>NA</td><td>0</td><td> 1</td><td>#2B5777</td><td>0</td><td>NA</td><td>-0.2274894</td></tr>\n",
       "\t<tr><th scope=row>4</th><td>DN T cell             </td><td>fixed</td><td>NA</td><td>days_to_conversion</td><td> 0.0004714277</td><td>0.0001865621</td><td> 2.526921</td><td>38.01167</td><td>0.015788439</td><td>DN T cell             </td><td>0.3157688</td><td>NA</td><td>0</td><td>15</td><td>#656E68</td><td>0</td><td>NA</td><td> 0.1720711</td></tr>\n",
       "\t<tr><th scope=row>5</th><td>Intermediate monocyte </td><td>fixed</td><td>NA</td><td>days_to_conversion</td><td>-0.0010331483</td><td>0.0004630083</td><td>-2.231382</td><td>46.00000</td><td>0.030570438</td><td>Intermediate monocyte </td><td>0.3587922</td><td>NA</td><td>0</td><td>56</td><td>#B75228</td><td>0</td><td>NA</td><td>-0.3770991</td></tr>\n",
       "\t<tr><th scope=row>6</th><td>Plasma cell           </td><td>fixed</td><td>NA</td><td>days_to_conversion</td><td> 0.0007494933</td><td>0.0003448256</td><td> 2.173543</td><td>44.75029</td><td>0.035071132</td><td>Plasma cell           </td><td>0.3587922</td><td>NA</td><td>0</td><td>46</td><td>#784D47</td><td>0</td><td>NA</td><td> 0.2735650</td></tr>\n",
       "</tbody>\n",
       "</table>\n"
      ],
      "text/latex": [
       "A data.frame: 6 × 18\n",
       "\\begin{tabular}{r|llllllllllllllllll}\n",
       "  & AIFI\\_L3\\_new & effect & group & term & estimate & std.error & statistic & df & p.value & celltype & p.value.adj & total\\_degs\\_counts & Total\\_DEGs & xpos & color & adjP\\_degs\\_combined\\_value & sig\\_L3 & estimate\\_by\\_year\\\\\n",
       "  & <chr> & <chr> & <lgl> & <chr> & <dbl> & <dbl> & <dbl> & <dbl> & <dbl> & <chr> & <dbl> & <int> & <dbl> & <int> & <chr> & <dbl> & <chr> & <dbl>\\\\\n",
       "\\hline\n",
       "\t1 & ASDC\\_uk1\\_B             & fixed & NA & days\\_to\\_conversion & -0.0009195660 & 0.0003201099 & -2.872657 & 46.00000 & 0.006138637 & ASDC\\_uk1\\_B             & 0.3157688 & NA & 0 & NA & NA      & 0 & NA & -0.3356416\\\\\n",
       "\t2 & ISG+ cDC2              & fixed & NA & days\\_to\\_conversion & -0.0008794109 & 0.0003189739 & -2.757000 & 42.68049 & 0.008548418 & ISG+ cDC2              & 0.3157688 & NA & 0 & 62 & \\#8C6527 & 0 & NA & -0.3209850\\\\\n",
       "\t3 & SOX4+ naive CD4 T cell & fixed & NA & days\\_to\\_conversion & -0.0006232588 & 0.0002460128 & -2.533440 & 37.18069 & 0.015640822 & SOX4+ naive CD4 T cell & 0.3157688 & NA & 0 &  1 & \\#2B5777 & 0 & NA & -0.2274894\\\\\n",
       "\t4 & DN T cell              & fixed & NA & days\\_to\\_conversion &  0.0004714277 & 0.0001865621 &  2.526921 & 38.01167 & 0.015788439 & DN T cell              & 0.3157688 & NA & 0 & 15 & \\#656E68 & 0 & NA &  0.1720711\\\\\n",
       "\t5 & Intermediate monocyte  & fixed & NA & days\\_to\\_conversion & -0.0010331483 & 0.0004630083 & -2.231382 & 46.00000 & 0.030570438 & Intermediate monocyte  & 0.3587922 & NA & 0 & 56 & \\#B75228 & 0 & NA & -0.3770991\\\\\n",
       "\t6 & Plasma cell            & fixed & NA & days\\_to\\_conversion &  0.0007494933 & 0.0003448256 &  2.173543 & 44.75029 & 0.035071132 & Plasma cell            & 0.3587922 & NA & 0 & 46 & \\#784D47 & 0 & NA &  0.2735650\\\\\n",
       "\\end{tabular}\n"
      ],
      "text/markdown": [
       "\n",
       "A data.frame: 6 × 18\n",
       "\n",
       "| <!--/--> | AIFI_L3_new &lt;chr&gt; | effect &lt;chr&gt; | group &lt;lgl&gt; | term &lt;chr&gt; | estimate &lt;dbl&gt; | std.error &lt;dbl&gt; | statistic &lt;dbl&gt; | df &lt;dbl&gt; | p.value &lt;dbl&gt; | celltype &lt;chr&gt; | p.value.adj &lt;dbl&gt; | total_degs_counts &lt;int&gt; | Total_DEGs &lt;dbl&gt; | xpos &lt;int&gt; | color &lt;chr&gt; | adjP_degs_combined_value &lt;dbl&gt; | sig_L3 &lt;chr&gt; | estimate_by_year &lt;dbl&gt; |\n",
       "|---|---|---|---|---|---|---|---|---|---|---|---|---|---|---|---|---|---|---|\n",
       "| 1 | ASDC_uk1_B             | fixed | NA | days_to_conversion | -0.0009195660 | 0.0003201099 | -2.872657 | 46.00000 | 0.006138637 | ASDC_uk1_B             | 0.3157688 | NA | 0 | NA | NA      | 0 | NA | -0.3356416 |\n",
       "| 2 | ISG+ cDC2              | fixed | NA | days_to_conversion | -0.0008794109 | 0.0003189739 | -2.757000 | 42.68049 | 0.008548418 | ISG+ cDC2              | 0.3157688 | NA | 0 | 62 | #8C6527 | 0 | NA | -0.3209850 |\n",
       "| 3 | SOX4+ naive CD4 T cell | fixed | NA | days_to_conversion | -0.0006232588 | 0.0002460128 | -2.533440 | 37.18069 | 0.015640822 | SOX4+ naive CD4 T cell | 0.3157688 | NA | 0 |  1 | #2B5777 | 0 | NA | -0.2274894 |\n",
       "| 4 | DN T cell              | fixed | NA | days_to_conversion |  0.0004714277 | 0.0001865621 |  2.526921 | 38.01167 | 0.015788439 | DN T cell              | 0.3157688 | NA | 0 | 15 | #656E68 | 0 | NA |  0.1720711 |\n",
       "| 5 | Intermediate monocyte  | fixed | NA | days_to_conversion | -0.0010331483 | 0.0004630083 | -2.231382 | 46.00000 | 0.030570438 | Intermediate monocyte  | 0.3587922 | NA | 0 | 56 | #B75228 | 0 | NA | -0.3770991 |\n",
       "| 6 | Plasma cell            | fixed | NA | days_to_conversion |  0.0007494933 | 0.0003448256 |  2.173543 | 44.75029 | 0.035071132 | Plasma cell            | 0.3587922 | NA | 0 | 46 | #784D47 | 0 | NA |  0.2735650 |\n",
       "\n"
      ],
      "text/plain": [
       "  AIFI_L3_new            effect group term               estimate     \n",
       "1 ASDC_uk1_B             fixed  NA    days_to_conversion -0.0009195660\n",
       "2 ISG+ cDC2              fixed  NA    days_to_conversion -0.0008794109\n",
       "3 SOX4+ naive CD4 T cell fixed  NA    days_to_conversion -0.0006232588\n",
       "4 DN T cell              fixed  NA    days_to_conversion  0.0004714277\n",
       "5 Intermediate monocyte  fixed  NA    days_to_conversion -0.0010331483\n",
       "6 Plasma cell            fixed  NA    days_to_conversion  0.0007494933\n",
       "  std.error    statistic df       p.value     celltype              \n",
       "1 0.0003201099 -2.872657 46.00000 0.006138637 ASDC_uk1_B            \n",
       "2 0.0003189739 -2.757000 42.68049 0.008548418 ISG+ cDC2             \n",
       "3 0.0002460128 -2.533440 37.18069 0.015640822 SOX4+ naive CD4 T cell\n",
       "4 0.0001865621  2.526921 38.01167 0.015788439 DN T cell             \n",
       "5 0.0004630083 -2.231382 46.00000 0.030570438 Intermediate monocyte \n",
       "6 0.0003448256  2.173543 44.75029 0.035071132 Plasma cell           \n",
       "  p.value.adj total_degs_counts Total_DEGs xpos color  \n",
       "1 0.3157688   NA                0          NA   NA     \n",
       "2 0.3157688   NA                0          62   #8C6527\n",
       "3 0.3157688   NA                0           1   #2B5777\n",
       "4 0.3157688   NA                0          15   #656E68\n",
       "5 0.3587922   NA                0          56   #B75228\n",
       "6 0.3587922   NA                0          46   #784D47\n",
       "  adjP_degs_combined_value sig_L3 estimate_by_year\n",
       "1 0                        NA     -0.3356416      \n",
       "2 0                        NA     -0.3209850      \n",
       "3 0                        NA     -0.2274894      \n",
       "4 0                        NA      0.1720711      \n",
       "5 0                        NA     -0.3770991      \n",
       "6 0                        NA      0.2735650      "
      ]
     },
     "metadata": {},
     "output_type": "display_data"
    }
   ],
   "source": [
    "#scaling the estimate by year \n",
    "merged_df <- merged_df %>% mutate(estimate_by_year = estimate*365)\n",
    "merged_df%>%head()"
   ]
  },
  {
   "cell_type": "code",
   "execution_count": 17,
   "id": "adcd7316-a41f-417e-af1c-21053f9cf1b3",
   "metadata": {},
   "outputs": [
    {
     "data": {
      "image/png": "[encoded data removed]",
      "text/plain": [
       "plot without title"
      ]
     },
     "metadata": {
      "image/png": {
       "height": 300,
       "width": 360
      }
     },
     "output_type": "display_data"
    }
   ],
   "source": [
    "options(repr.plot.width = 6, repr.plot.height = 5)\n",
    "cell_type_colors <- setNames(merged_df$color, merged_df$celltype)\n",
    "p <- ggplot(merged_df, aes(x =estimate_by_year, y = Total_DEGs, size = adjP_degs_combined_value, fill = celltype)) +\n",
    "  geom_hline(yintercept = 0, color = \"lightgray\", size = 0.5) + \n",
    "  geom_vline(xintercept = 0, color = \"lightgray\", size = 0.5) + \n",
    "  geom_point(shape = 21, colour = \"black\") +\n",
    "  theme_classic() +\n",
    "  scale_size_continuous(range = c(0.02, 15), limits = c(0, max(merged_df$adjP_degs_combined_value))) +\n",
    " \n",
    "  xlab(\"Estimate by Year (CLR)\") +\n",
    "  ylab(\"DEG Counts\") +\n",
    "  theme(legend.position = \"right\") +\n",
    "  scale_fill_manual(values = cell_type_colors) +\n",
    "  scale_x_continuous(limits = c(-0.3, 0.3)) +\n",
    "  guides(fill = \"none\", size = guide_legend(\"Aggregate Score\")) + \n",
    "  geom_text_repel(\n",
    "    data = merged_df %>% filter(celltype %in% sig_L3),\n",
    "    box.padding = 0.5,\n",
    "    force = 0.5,\n",
    "    max.overlaps = 50,\n",
    "    nudge_x = 0.1,\n",
    "    nudge_y=2,\n",
    "    hjust = 0.1,\n",
    "    segment.size = 0.5,\n",
    "    mapping = aes(label = celltype),\n",
    "    size = 4\n",
    "  ) +\n",
    "  theme(\n",
    "    panel.grid.major = element_blank(),  # Remove major grid lines\n",
    "    panel.grid.minor = element_blank()   # Remove minor grid lines\n",
    "  )+\n",
    "  scale_y_continuous(expand = expansion(mult = c(0.05, 0.2)))\n",
    "p"
   ]
  },
  {
   "cell_type": "code",
   "execution_count": 18,
   "id": "ee1b44da-a307-440c-af4f-51b401dfe4a4",
   "metadata": {},
   "outputs": [],
   "source": [
    "ggsave(\"/home/jupyter//ALTRA_ANALYSIS/Deep_clean/Figure_files/Certpro_figures/Plots_for_manuscript/Fig_2C.pdf\", plot = p, width = 6, height = 5)\n"
   ]
  },
  {
   "cell_type": "code",
   "execution_count": 19,
   "id": "3e85675e-8a66-4961-8380-7f459cd0b082",
   "metadata": {},
   "outputs": [
    {
     "data": {
      "text/plain": [
       "R version 4.3.1 (2023-06-16)\n",
       "Platform: x86_64-conda-linux-gnu (64-bit)\n",
       "Running under: Ubuntu 20.04.6 LTS\n",
       "\n",
       "Matrix products: default\n",
       "BLAS/LAPACK: /home/jupyter/libs/r_scrna/lib/libopenblasp-r0.3.24.so;  LAPACK version 3.11.0\n",
       "\n",
       "locale:\n",
       " [1] LC_CTYPE=C.UTF-8       LC_NUMERIC=C           LC_TIME=C.UTF-8       \n",
       " [4] LC_COLLATE=C.UTF-8     LC_MONETARY=C.UTF-8    LC_MESSAGES=C.UTF-8   \n",
       " [7] LC_PAPER=C.UTF-8       LC_NAME=C              LC_ADDRESS=C          \n",
       "[10] LC_TELEPHONE=C         LC_MEASUREMENT=C.UTF-8 LC_IDENTIFICATION=C   \n",
       "\n",
       "time zone: Etc/UTC\n",
       "tzcode source: system (glibc)\n",
       "\n",
       "attached base packages:\n",
       "[1] stats4    stats     graphics  grDevices utils     datasets  methods  \n",
       "[8] base     \n",
       "\n",
       "other attached packages:\n",
       " [1] ggrepel_0.9.5               plotly_4.10.4              \n",
       " [3] knitr_1.47                  ggpubr_0.6.0               \n",
       " [5] SeuratDisk_0.0.0.9021       SingleCellExperiment_1.22.0\n",
       " [7] SummarizedExperiment_1.30.2 Biobase_2.60.0             \n",
       " [9] GenomicRanges_1.52.1        GenomeInfoDb_1.36.4        \n",
       "[11] IRanges_2.34.1              S4Vectors_0.38.2           \n",
       "[13] BiocGenerics_0.46.0         MatrixGenerics_1.12.3      \n",
       "[15] matrixStats_1.3.0           future.apply_1.11.2        \n",
       "[17] future_1.33.2               harmony_1.2.0              \n",
       "[19] Rcpp_1.0.12                 viridis_0.6.5              \n",
       "[21] viridisLite_0.4.2           Matrix_1.6-1.1             \n",
       "[23] SeuratObject_5.0.0          Seurat_4.4.0               \n",
       "[25] lubridate_1.9.3             forcats_1.0.0              \n",
       "[27] stringr_1.5.1               dplyr_1.1.4                \n",
       "[29] purrr_1.0.2                 readr_2.1.5                \n",
       "[31] tidyr_1.3.1                 tibble_3.2.1               \n",
       "[33] ggplot2_3.5.1               tidyverse_2.0.0            \n",
       "\n",
       "loaded via a namespace (and not attached):\n",
       "  [1] RcppAnnoy_0.0.22        splines_4.3.1           later_1.3.2            \n",
       "  [4] pbdZMQ_0.3-11           bitops_1.0-7            polyclip_1.10-6        \n",
       "  [7] lifecycle_1.0.4         rstatix_0.7.2           globals_0.16.3         \n",
       " [10] lattice_0.22-6          hdf5r_1.3.10            MASS_7.3-60            \n",
       " [13] backports_1.5.0         magrittr_2.0.3          httpuv_1.6.15          \n",
       " [16] sctransform_0.4.1       spam_2.10-0             sp_2.1-4               \n",
       " [19] spatstat.sparse_3.1-0   reticulate_1.38.0       cowplot_1.1.3          \n",
       " [22] pbapply_1.7-2           RColorBrewer_1.1-3      abind_1.4-5            \n",
       " [25] zlibbioc_1.46.0         Rtsne_0.17              RCurl_1.98-1.14        \n",
       " [28] GenomeInfoDbData_1.2.10 irlba_2.3.5.1           listenv_0.9.1          \n",
       " [31] spatstat.utils_3.0-5    goftest_1.2-3           spatstat.random_3.2-3  \n",
       " [34] fitdistrplus_1.1-11     parallelly_1.37.1       leiden_0.4.3.1         \n",
       " [37] codetools_0.2-20        DelayedArray_0.26.7     tidyselect_1.2.1       \n",
       " [40] farver_2.1.2            base64enc_0.1-3         spatstat.explore_3.2-7 \n",
       " [43] jsonlite_1.8.8          progressr_0.14.0        ggridges_0.5.6         \n",
       " [46] survival_3.7-0          systemfonts_1.1.0       tools_4.3.1            \n",
       " [49] ragg_1.2.5              ica_1.0-3               glue_1.7.0             \n",
       " [52] gridExtra_2.3           xfun_0.45               IRdisplay_1.1          \n",
       " [55] withr_3.0.0             fastmap_1.2.0           fansi_1.0.6            \n",
       " [58] digest_0.6.36           timechange_0.3.0        R6_2.5.1               \n",
       " [61] mime_0.12               textshaping_0.4.0       colorspace_2.1-0       \n",
       " [64] scattermore_1.2         Cairo_1.6-2             tensor_1.5             \n",
       " [67] spatstat.data_3.1-2     utf8_1.2.4              generics_0.1.3         \n",
       " [70] data.table_1.15.4       httr_1.4.7              htmlwidgets_1.6.4      \n",
       " [73] S4Arrays_1.0.6          uwot_0.2.2              pkgconfig_2.0.3        \n",
       " [76] gtable_0.3.5            lmtest_0.9-40           XVector_0.40.0         \n",
       " [79] htmltools_0.5.8.1       carData_3.0-5           dotCall64_1.1-1        \n",
       " [82] scales_1.3.0            png_0.1-8               tzdb_0.4.0             \n",
       " [85] reshape2_1.4.4          uuid_1.2-0              nlme_3.1-165           \n",
       " [88] repr_1.1.7              zoo_1.8-12              KernSmooth_2.23-24     \n",
       " [91] parallel_4.3.1          miniUI_0.1.1.1          pillar_1.9.0           \n",
       " [94] grid_4.3.1              vctrs_0.6.5             RANN_2.6.1             \n",
       " [97] promises_1.3.0          car_3.1-2               xtable_1.8-4           \n",
       "[100] cluster_2.1.6           evaluate_0.24.0         cli_3.6.3              \n",
       "[103] compiler_4.3.1          rlang_1.1.4             crayon_1.5.3           \n",
       "[106] ggsignif_0.6.4          labeling_0.4.3          plyr_1.8.9             \n",
       "[109] stringi_1.8.4           deldir_2.0-4            munsell_0.5.1          \n",
       "[112] lazyeval_0.2.2          spatstat.geom_3.2-9     IRkernel_1.3.2         \n",
       "[115] hms_1.1.3               patchwork_1.2.0         bit64_4.0.5            \n",
       "[118] shiny_1.8.1.1           ROCR_1.0-11             igraph_2.0.3           \n",
       "[121] broom_1.0.6             bit_4.0.5              "
      ]
     },
     "metadata": {},
     "output_type": "display_data"
    }
   ],
   "source": [
    "sessionInfo()"
   ]
  },
  {
   "cell_type": "code",
   "execution_count": null,
   "id": "81fa1d27-790c-4c48-b812-23d33e7330ae",
   "metadata": {},
   "outputs": [],
   "source": []
  },
  {
   "cell_type": "code",
   "execution_count": null,
   "id": "3f85b592-eaf4-414b-89fa-a10d5f0e7072",
   "metadata": {},
   "outputs": [],
   "source": []
  },
  {
   "cell_type": "code",
   "execution_count": null,
   "id": "db27ea95-3df5-4e46-9fe4-5bc0c0bbe73b",
   "metadata": {},
   "outputs": [],
   "source": []
  }
 ],
 "metadata": {
  "kernelspec": {
   "display_name": "r_scrna",
   "language": "R",
   "name": "r_scrna"
  },
  "language_info": {
   "codemirror_mode": "r",
   "file_extension": ".r",
   "mimetype": "text/x-r-source",
   "name": "R",
   "pygments_lexer": "r",
   "version": "4.3.1"
  }
 },
 "nbformat": 4,
 "nbformat_minor": 5
}
