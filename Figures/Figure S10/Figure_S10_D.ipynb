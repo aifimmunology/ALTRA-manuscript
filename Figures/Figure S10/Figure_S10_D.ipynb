{
 "cells": [
  {
   "cell_type": "code",
   "execution_count": 1,
   "id": "10cd3191-bf6f-4a66-9cb3-18aa0473d569",
   "metadata": {},
   "outputs": [],
   "source": [
    "\n",
    "# load libraries\n",
    "quiet_library <- function(...) {\n",
    "    suppressPackageStartupMessages(library(...))\n",
    "}\n",
    "quiet_library(tidyverse)\n",
    "quiet_library(Seurat)\n",
    "quiet_library(ggplot2)\n",
    "quiet_library(Matrix)\n",
    "quiet_library(dplyr)\n",
    "quiet_library(viridis)\n",
    "quiet_library(harmony)\n",
    "quiet_library(future)\n",
    "quiet_library(future.apply)\n",
    "quiet_library(SingleCellExperiment)\n",
    "quiet_library(SeuratDisk)\n",
    "quiet_library(ggpubr)\n",
    "quiet_library(knitr)\n",
    "quiet_library(plotly)\n",
    "quiet_library(lme4)\n",
    "quiet_library(ggpubr)\n",
    "quiet_library(ggrepel)\n",
    "quiet_library(ggthemes)\n",
    "quiet_library(scater)\n",
    "quiet_library(patchwork)\n",
    "options(warn = -1)"
   ]
  },
  {
   "cell_type": "code",
   "execution_count": 2,
   "id": "bd631cd4-9b46-4254-b4c6-cba7fbf1ff7a",
   "metadata": {},
   "outputs": [
    {
     "data": {
      "text/html": [
       "<strong>system:</strong> 64"
      ],
      "text/latex": [
       "\\textbf{system:} 64"
      ],
      "text/markdown": [
       "**system:** 64"
      ],
      "text/plain": [
       "system \n",
       "    64 "
      ]
     },
     "metadata": {},
     "output_type": "display_data"
    }
   ],
   "source": [
    "# Check number of cores\n",
    "future::availableCores()\n",
    "# Set up parallel processing to run when using 'future' functions \n",
    "future::plan(strategy = \"multicore\", workers = future::availableCores()-5)  \n",
    "options(future.globals.maxSize = 1000 * 1024^3)\n",
    "# to turn off parallel processing run line below\n",
    "# future::plan(strategy = \"sequential\")"
   ]
  },
  {
   "cell_type": "code",
   "execution_count": 3,
   "id": "334803a9-b7f7-4b8c-88f6-5e1d7a578d19",
   "metadata": {},
   "outputs": [],
   "source": [
    "# define the color palette to be used\n",
    "npg_color <- c(\"#E64B35FF\", \"#4DBBD5FF\", \"#00A087FF\", \"#3C5488FF\", \"#F39B7FFF\", \n",
    "               \"#8491B4FF\", \"#91D1C2FF\", \"#DC0000FF\", \"#7E6148FF\", \"#B09C85FF\")\n",
    "nejm_color <- c(\"#BC3C29FF\", \"#0072B5FF\", \"#E18727FF\", \"#20854EFF\", \"#7876B1FF\", \"#6F99ADFF\", \"#FFDC91FF\", \"#EE4C97FF\")\n",
    "jama_color <- c(\"#374E55FF\", \"#DF8F44FF\", \"#00A1D5FF\", \"#B24745FF\", \"#79AF97FF\", \"#6A6599FF\", \"#80796BFF\")\n",
    "jco_color <- c(\"#0073C2FF\", \"#EFC000FF\", \"#868686FF\", \"#CD534CFF\", \"#7AA6DCFF\", \"#003C67FF\", \"#8F7700FF\")\n",
    "cluster_colors <- c(\"#DC050C\", \"#FB8072\", \"#1965B0\", \"#7BAFDE\", \"#882E72\", \"#B17BA6\", \"#FF7F00\", \"#FDB462\", \"#E7298A\", \n",
    "    \"#E78AC3\", \"#33A02C\", \"#B2DF8A\", \"#55A1B1\", \"#8DD3C7\", \"#A6761D\", \"#E6AB02\", \"#7570B3\", \"#BEAED4\", \"#666666\", \"#999999\", \n",
    "    \"#aa8282\", \"#d4b7b7\", \"#8600bf\", \"#ba5ce3\", \"#808000\", \"#aeae5c\", \"#1e90ff\", \"#00bfff\", \"#56ff0d\", \"#ffff00\")\n",
    "coolors_clrs<-c(\"#EFB0A1\",\"#009FF5\",\"#1A5E9B\",\"#42E2B8\",\"#4ECDC4\",\"#89B6A5\",\"#F1D26A\",\"#D5B0AC\",\"#EDABB1\",\"#02504D\",\"#AA9674\",\"#E64B35FF\",\"#4DBBD5FF\",\"#00A087FF\")\n",
    "\n",
    "cluster_colors_ext <- colorRampPalette(cluster_colors)(36)\n",
    "options(repr.plot.width =5, repr.plot.height =5)"
   ]
  },
  {
   "cell_type": "code",
   "execution_count": 4,
   "id": "36d5b471-2713-46ff-af36-a8e311ba9775",
   "metadata": {},
   "outputs": [],
   "source": [
    "## reading pseudobulk Aim1 object\n",
    "a1_psb=readRDS(\"/home/jupyter/ALTRA_ANALYSIS/Deep_clean/certpro/input_files/Zi_pseudobulk obj/cache/5e5886cc-454c-4e3c-b858-4bbb3701dfb8/ALTRA_scRNA_AIFI_L3_Pseudobulk_certPro_AIM1_norm_counts_SE_list.rds\")"
   ]
  },
  {
   "cell_type": "code",
   "execution_count": 5,
   "id": "847e4bd3-8a4d-4599-9841-b065374e61d3",
   "metadata": {
    "scrolled": true
   },
   "outputs": [
    {
     "data": {
      "text/plain": [
       "$`CM CD4 T cell`\n",
       "class: SummarizedExperiment \n",
       "dim: 5948 76 \n",
       "metadata(0):\n",
       "assays(2): counts normalized_counts\n",
       "rownames(5948): A1BG AAED1 ... ZYX ZZEF1\n",
       "rowData names(0):\n",
       "colnames: NULL\n",
       "colData names(39): index batch_id ... scale_age scale_bmi\n",
       "\n",
       "$`Core CD16 monocyte`\n",
       "class: SummarizedExperiment \n",
       "dim: 7996 75 \n",
       "metadata(0):\n",
       "assays(2): counts normalized_counts\n",
       "rownames(7996): A1BG AAAS ... ZYX ZZEF1\n",
       "rowData names(0):\n",
       "colnames: NULL\n",
       "colData names(39): index batch_id ... scale_age scale_bmi\n",
       "\n",
       "$`Core memory B cell`\n",
       "class: SummarizedExperiment \n",
       "dim: 6506 76 \n",
       "metadata(0):\n",
       "assays(2): counts normalized_counts\n",
       "rownames(6506): A1BG AAED1 ... ZYG11B ZZEF1\n",
       "rowData names(0):\n",
       "colnames: NULL\n",
       "colData names(39): index batch_id ... scale_age scale_bmi\n",
       "\n",
       "$`Core naive CD4 T cell`\n",
       "class: SummarizedExperiment \n",
       "dim: 5446 76 \n",
       "metadata(0):\n",
       "assays(2): counts normalized_counts\n",
       "rownames(5446): A1BG AAK1 ... ZYX ZZEF1\n",
       "rowData names(0):\n",
       "colnames: NULL\n",
       "colData names(39): index batch_id ... scale_age scale_bmi\n"
      ]
     },
     "metadata": {},
     "output_type": "display_data"
    }
   ],
   "source": [
    "a1_psb_filt <- a1_psb[names(a1_psb) %in% c('Core memory B cell','CM CD4 T cell','Core naive CD4 T cell','Core CD16 monocyte')]\n",
    "a1_psb_filt"
   ]
  },
  {
   "cell_type": "code",
   "execution_count": 6,
   "id": "b17253fb-05f4-4a62-8155-9e87259812be",
   "metadata": {},
   "outputs": [],
   "source": [
    "sce_list <- lapply(a1_psb_filt, function(se) {\n",
    "  # Convert SummarizedExperiment to SingleCellExperiment\n",
    "  sce <- SingleCellExperiment(\n",
    "    assays = assays(se),        # Copy assays\n",
    "    colData = colData(se),      # Copy colData\n",
    "    rowData = rowData(se),      # Copy rowData (if any)\n",
    "    metadata = metadata(se)     # Copy metadata (if any)\n",
    "  )\n",
    "  \n",
    "  # Return the SingleCellExperiment object\n",
    "  return(sce)\n",
    "})"
   ]
  },
  {
   "cell_type": "code",
   "execution_count": 7,
   "id": "87f06c04-eac2-47d2-9943-6ffc852564a2",
   "metadata": {
    "scrolled": true
   },
   "outputs": [
    {
     "data": {
      "text/plain": [
       "$`CM CD4 T cell`\n",
       "class: SingleCellExperiment \n",
       "dim: 5948 76 \n",
       "metadata(0):\n",
       "assays(2): counts normalized_counts\n",
       "rownames(5948): A1BG AAED1 ... ZYX ZZEF1\n",
       "rowData names(0):\n",
       "colnames: NULL\n",
       "colData names(39): index batch_id ... scale_age scale_bmi\n",
       "reducedDimNames(0):\n",
       "mainExpName: NULL\n",
       "altExpNames(0):\n",
       "\n",
       "$`Core CD16 monocyte`\n",
       "class: SingleCellExperiment \n",
       "dim: 7996 75 \n",
       "metadata(0):\n",
       "assays(2): counts normalized_counts\n",
       "rownames(7996): A1BG AAAS ... ZYX ZZEF1\n",
       "rowData names(0):\n",
       "colnames: NULL\n",
       "colData names(39): index batch_id ... scale_age scale_bmi\n",
       "reducedDimNames(0):\n",
       "mainExpName: NULL\n",
       "altExpNames(0):\n",
       "\n",
       "$`Core memory B cell`\n",
       "class: SingleCellExperiment \n",
       "dim: 6506 76 \n",
       "metadata(0):\n",
       "assays(2): counts normalized_counts\n",
       "rownames(6506): A1BG AAED1 ... ZYG11B ZZEF1\n",
       "rowData names(0):\n",
       "colnames: NULL\n",
       "colData names(39): index batch_id ... scale_age scale_bmi\n",
       "reducedDimNames(0):\n",
       "mainExpName: NULL\n",
       "altExpNames(0):\n",
       "\n",
       "$`Core naive CD4 T cell`\n",
       "class: SingleCellExperiment \n",
       "dim: 5446 76 \n",
       "metadata(0):\n",
       "assays(2): counts normalized_counts\n",
       "rownames(5446): A1BG AAK1 ... ZYX ZZEF1\n",
       "rowData names(0):\n",
       "colnames: NULL\n",
       "colData names(39): index batch_id ... scale_age scale_bmi\n",
       "reducedDimNames(0):\n",
       "mainExpName: NULL\n",
       "altExpNames(0):\n"
      ]
     },
     "metadata": {},
     "output_type": "display_data"
    }
   ],
   "source": [
    "sce_list"
   ]
  },
  {
   "cell_type": "code",
   "execution_count": 8,
   "id": "76e0ad6a-f998-4826-a532-c7ae9ac0e92a",
   "metadata": {},
   "outputs": [],
   "source": [
    "process_sce <- function(sce) {\n",
    "  # Access colData from the SingleCellExperiment object\n",
    "  col_data <- colData(sce)\n",
    "  \n",
    "  # Create or update batch_corr column based on batch_id\n",
    "  col_data$batch_corr <- ifelse(col_data$batch_id == \"B182\", \n",
    "                                \"B182\", \n",
    "                                \"Other Batches\")\n",
    "  \n",
    "  # Assign updated colData back to the SingleCellExperiment object\n",
    "  colData(sce) <- col_data\n",
    "  \n",
    "  return(sce)\n",
    "}\n",
    "\n",
    "# Apply the function to each SingleCellExperiment object in the list\n",
    "sce_list <- lapply(sce_list, process_sce)\n"
   ]
  },
  {
   "cell_type": "code",
   "execution_count": 9,
   "id": "16166fe9-4748-4c21-9cf5-60a3bf138cc4",
   "metadata": {},
   "outputs": [],
   "source": [
    "# Create an empty list to store results\n",
    "reducedDim_results <- vector(\"list\", length = length(sce_list))\n",
    "\n",
    "# Loop through each SCE object\n",
    "for (i in seq_along(sce_list)) {\n",
    "  # Perform PCA\n",
    "  px <- prcomp(t(assay(sce_list[[i]], 'normalized_counts')))\n",
    "  \n",
    "  # Get the predicted cell type for the current SCE object\n",
    "  cell_type <- colData(sce_list[[i]])$AIFI_L3[1]  # Adjust to match your actual column name\n",
    "  \n",
    "  # Assign PCA results to the corresponding reducedDims slot\n",
    "  reducedDims(sce_list[[i]])$PCA <- px$x[, 1:20]\n",
    "  \n",
    "  # Save the results in the list\n",
    "  reducedDim_results[[i]] <- sce_list[[i]]\n",
    "}\n"
   ]
  },
  {
   "cell_type": "code",
   "execution_count": 10,
   "id": "e4ba581d-bc1b-4e10-90d9-62683b6a53ba",
   "metadata": {},
   "outputs": [
    {
     "data": {
      "image/png": "[encoded data removed]",
      "text/plain": [
       "plot without title"
      ]
     },
     "metadata": {
      "image/png": {
       "height": 300,
       "width": 300
      }
     },
     "output_type": "display_data"
    }
   ],
   "source": [
    "# Helper function to extract PCA results and metadata\n",
    "extract_pca_data <- function(sce, dimred = \"PCA\", colour_by = \"batch_corr\") {\n",
    "  pca_data <- as.data.frame(reducedDim(sce, dimred))  # Extract PCA\n",
    "  pca_data$batch_corr <- colData(sce)[[colour_by]]    # Extract batch_corr\n",
    "  pca_data$AIFI_L3 <- colData(sce)$AIFI_L3            # Extract AIFI_L3 (titles)\n",
    "  return(pca_data)\n",
    "}\n",
    "\n",
    "# Extract PCA data for each reducedDim result\n",
    "pca_df1 <- extract_pca_data(reducedDim_results[[1]])\n",
    "pca_df2 <- extract_pca_data(reducedDim_results[[2]])\n",
    "pca_df3 <- extract_pca_data(reducedDim_results[[3]])\n",
    "pca_df4 <- extract_pca_data(reducedDim_results[[4]])\n",
    "\n",
    "# Create individual PCA plots\n",
    "p1 <- ggplot(pca_df1, aes(x = PC1, y = PC2, colour = batch_corr)) +\n",
    "  geom_point() +\n",
    "  ggtitle(unique(pca_df1$AIFI_L3)) +\n",
    "  theme_classic() +\n",
    "  theme(axis.title.x = element_blank(), axis.text.x = element_blank(), \n",
    "        axis.title.y = element_blank(), legend.position = \"none\")\n",
    "\n",
    "p2 <- ggplot(pca_df2, aes(x = PC1, y = PC2, colour = batch_corr)) +\n",
    "  geom_point() +\n",
    "  ggtitle(unique(pca_df2$AIFI_L3)) +\n",
    "  theme_classic() +\n",
    "  theme(axis.title.x = element_blank(), axis.text.x = element_blank(), \n",
    "        axis.title.y = element_blank())\n",
    "\n",
    "p3 <- ggplot(pca_df3, aes(x = PC1, y = PC2, colour = batch_corr)) +\n",
    "  geom_point() +\n",
    "  ggtitle(unique(pca_df3$AIFI_L3)) +\n",
    "  theme_classic() +\n",
    "  theme(axis.title.y = element_blank(), legend.position = \"none\", \n",
    "        plot.margin = margin(5.5, 5.5, 10, 5.5))\n",
    "\n",
    "p4 <- ggplot(pca_df4, aes(x = PC1, y = PC2, colour = batch_corr)) +\n",
    "  geom_point() +\n",
    "  ggtitle(unique(pca_df4$AIFI_L3)) +\n",
    "  theme_classic() +\n",
    "  theme(axis.title.y = element_blank(), legend.position = \"none\", \n",
    "        plot.margin = margin(5.5, 5.5, 10, 5.5))\n",
    "\n",
    "# Combine plots using patchwork\n",
    "combined_plot <- (p1 | p2) / (p3 | p4)\n",
    "\n",
    "# Display the combined plot\n",
    "print(combined_plot)"
   ]
  },
  {
   "cell_type": "code",
   "execution_count": 11,
   "id": "0a39d440-4924-4946-adf4-5b59f7b82ce4",
   "metadata": {},
   "outputs": [],
   "source": [
    "ggsave(\"/home/jupyter/ALTRA_ANALYSIS/Deep_clean/Figure_files/Certpro_figures/Plots_for_manuscript/Fig_S10_D.pdf\", plot = combined_plot, width = 6, height = 5, units = \"in\")"
   ]
  },
  {
   "cell_type": "code",
   "execution_count": 12,
   "id": "8a934b0c-067a-4a06-b88b-ab1b38acf895",
   "metadata": {},
   "outputs": [
    {
     "data": {
      "text/plain": [
       "R version 4.3.1 (2023-06-16)\n",
       "Platform: x86_64-conda-linux-gnu (64-bit)\n",
       "Running under: Ubuntu 20.04.6 LTS\n",
       "\n",
       "Matrix products: default\n",
       "BLAS/LAPACK: /home/jupyter/libs/r_scrna/lib/libopenblasp-r0.3.24.so;  LAPACK version 3.11.0\n",
       "\n",
       "locale:\n",
       " [1] LC_CTYPE=C.UTF-8       LC_NUMERIC=C           LC_TIME=C.UTF-8       \n",
       " [4] LC_COLLATE=C.UTF-8     LC_MONETARY=C.UTF-8    LC_MESSAGES=C.UTF-8   \n",
       " [7] LC_PAPER=C.UTF-8       LC_NAME=C              LC_ADDRESS=C          \n",
       "[10] LC_TELEPHONE=C         LC_MEASUREMENT=C.UTF-8 LC_IDENTIFICATION=C   \n",
       "\n",
       "time zone: Etc/UTC\n",
       "tzcode source: system (glibc)\n",
       "\n",
       "attached base packages:\n",
       "[1] stats4    stats     graphics  grDevices utils     datasets  methods  \n",
       "[8] base     \n",
       "\n",
       "other attached packages:\n",
       " [1] patchwork_1.2.0             scater_1.28.0              \n",
       " [3] scuttle_1.10.3              ggthemes_5.1.0             \n",
       " [5] ggrepel_0.9.5               lme4_1.1-34                \n",
       " [7] plotly_4.10.4               knitr_1.47                 \n",
       " [9] ggpubr_0.6.0                SeuratDisk_0.0.0.9021      \n",
       "[11] SingleCellExperiment_1.22.0 SummarizedExperiment_1.30.2\n",
       "[13] Biobase_2.60.0              GenomicRanges_1.52.1       \n",
       "[15] GenomeInfoDb_1.36.4         IRanges_2.34.1             \n",
       "[17] S4Vectors_0.38.2            BiocGenerics_0.46.0        \n",
       "[19] MatrixGenerics_1.12.3       matrixStats_1.3.0          \n",
       "[21] future.apply_1.11.2         future_1.33.2              \n",
       "[23] harmony_1.2.0               Rcpp_1.0.12                \n",
       "[25] viridis_0.6.5               viridisLite_0.4.2          \n",
       "[27] Matrix_1.6-1.1              SeuratObject_5.0.0         \n",
       "[29] Seurat_4.4.0                lubridate_1.9.3            \n",
       "[31] forcats_1.0.0               stringr_1.5.1              \n",
       "[33] dplyr_1.1.4                 purrr_1.0.2                \n",
       "[35] readr_2.1.5                 tidyr_1.3.1                \n",
       "[37] tibble_3.2.1                ggplot2_3.5.1              \n",
       "[39] tidyverse_2.0.0            \n",
       "\n",
       "loaded via a namespace (and not attached):\n",
       "  [1] RcppAnnoy_0.0.22          splines_4.3.1            \n",
       "  [3] later_1.3.2               pbdZMQ_0.3-11            \n",
       "  [5] bitops_1.0-7              polyclip_1.10-6          \n",
       "  [7] lifecycle_1.0.4           rstatix_0.7.2            \n",
       "  [9] globals_0.16.3            lattice_0.22-6           \n",
       " [11] hdf5r_1.3.10              MASS_7.3-60              \n",
       " [13] backports_1.5.0           magrittr_2.0.3           \n",
       " [15] httpuv_1.6.15             sctransform_0.4.1        \n",
       " [17] spam_2.10-0               sp_2.1-4                 \n",
       " [19] spatstat.sparse_3.1-0     reticulate_1.38.0        \n",
       " [21] cowplot_1.1.3             pbapply_1.7-2            \n",
       " [23] minqa_1.2.7               RColorBrewer_1.1-3       \n",
       " [25] abind_1.4-5               zlibbioc_1.46.0          \n",
       " [27] Rtsne_0.17                RCurl_1.98-1.14          \n",
       " [29] GenomeInfoDbData_1.2.10   irlba_2.3.5.1            \n",
       " [31] listenv_0.9.1             spatstat.utils_3.0-5     \n",
       " [33] goftest_1.2-3             spatstat.random_3.2-3    \n",
       " [35] fitdistrplus_1.1-11       parallelly_1.37.1        \n",
       " [37] DelayedMatrixStats_1.22.6 leiden_0.4.3.1           \n",
       " [39] codetools_0.2-20          DelayedArray_0.26.7      \n",
       " [41] tidyselect_1.2.1          farver_2.1.2             \n",
       " [43] ScaledMatrix_1.8.1        base64enc_0.1-3          \n",
       " [45] spatstat.explore_3.2-7    jsonlite_1.8.8           \n",
       " [47] BiocNeighbors_1.18.0      progressr_0.14.0         \n",
       " [49] ggridges_0.5.6            survival_3.7-0           \n",
       " [51] systemfonts_1.1.0         tools_4.3.1              \n",
       " [53] ragg_1.2.5                ica_1.0-3                \n",
       " [55] glue_1.7.0                gridExtra_2.3            \n",
       " [57] xfun_0.45                 IRdisplay_1.1            \n",
       " [59] withr_3.0.0               fastmap_1.2.0            \n",
       " [61] boot_1.3-30               fansi_1.0.6              \n",
       " [63] rsvd_1.0.5                digest_0.6.36            \n",
       " [65] timechange_0.3.0          R6_2.5.1                 \n",
       " [67] mime_0.12                 textshaping_0.4.0        \n",
       " [69] colorspace_2.1-0          Cairo_1.6-2              \n",
       " [71] scattermore_1.2           tensor_1.5               \n",
       " [73] spatstat.data_3.1-2       utf8_1.2.4               \n",
       " [75] generics_0.1.3            data.table_1.15.4        \n",
       " [77] httr_1.4.7                htmlwidgets_1.6.4        \n",
       " [79] S4Arrays_1.0.6            uwot_0.2.2               \n",
       " [81] pkgconfig_2.0.3           gtable_0.3.5             \n",
       " [83] lmtest_0.9-40             XVector_0.40.0           \n",
       " [85] htmltools_0.5.8.1         carData_3.0-5            \n",
       " [87] dotCall64_1.1-1           scales_1.3.0             \n",
       " [89] png_0.1-8                 tzdb_0.4.0               \n",
       " [91] reshape2_1.4.4            uuid_1.2-0               \n",
       " [93] nlme_3.1-165              nloptr_2.0.3             \n",
       " [95] repr_1.1.7                zoo_1.8-12               \n",
       " [97] KernSmooth_2.23-24        vipor_0.4.7              \n",
       " [99] parallel_4.3.1            miniUI_0.1.1.1           \n",
       "[101] pillar_1.9.0              grid_4.3.1               \n",
       "[103] vctrs_0.6.5               RANN_2.6.1               \n",
       "[105] promises_1.3.0            BiocSingular_1.16.0      \n",
       "[107] car_3.1-2                 beachmat_2.16.0          \n",
       "[109] xtable_1.8-4              cluster_2.1.6            \n",
       "[111] beeswarm_0.4.0            evaluate_0.24.0          \n",
       "[113] cli_3.6.3                 compiler_4.3.1           \n",
       "[115] rlang_1.1.4               crayon_1.5.3             \n",
       "[117] ggsignif_0.6.4            labeling_0.4.3           \n",
       "[119] ggbeeswarm_0.7.2          plyr_1.8.9               \n",
       "[121] stringi_1.8.4             BiocParallel_1.34.2      \n",
       "[123] deldir_2.0-4              munsell_0.5.1            \n",
       "[125] lazyeval_0.2.2            spatstat.geom_3.2-9      \n",
       "[127] IRkernel_1.3.2            hms_1.1.3                \n",
       "[129] sparseMatrixStats_1.12.2  bit64_4.0.5              \n",
       "[131] shiny_1.8.1.1             ROCR_1.0-11              \n",
       "[133] igraph_2.0.3              broom_1.0.6              \n",
       "[135] bit_4.0.5                "
      ]
     },
     "metadata": {},
     "output_type": "display_data"
    }
   ],
   "source": [
    "sessionInfo()"
   ]
  },
  {
   "cell_type": "code",
   "execution_count": null,
   "id": "ba9972d9-e86d-42eb-8c18-272570e04175",
   "metadata": {},
   "outputs": [],
   "source": []
  },
  {
   "cell_type": "code",
   "execution_count": null,
   "id": "6fd35d1a-b497-4361-88be-65f3e109c196",
   "metadata": {},
   "outputs": [],
   "source": []
  },
  {
   "cell_type": "code",
   "execution_count": null,
   "id": "d3228aab-f34a-44c1-83ba-dbd3c0e55786",
   "metadata": {},
   "outputs": [],
   "source": []
  },
  {
   "cell_type": "code",
   "execution_count": null,
   "id": "6a228aba-8a65-4e2f-8a90-0e89b170583b",
   "metadata": {},
   "outputs": [],
   "source": []
  }
 ],
 "metadata": {
  "kernelspec": {
   "display_name": "r_scrna",
   "language": "R",
   "name": "r_scrna"
  },
  "language_info": {
   "codemirror_mode": "r",
   "file_extension": ".r",
   "mimetype": "text/x-r-source",
   "name": "R",
   "pygments_lexer": "r",
   "version": "4.3.1"
  }
 },
 "nbformat": 4,
 "nbformat_minor": 5
}
