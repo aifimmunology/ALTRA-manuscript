{
  "cells": [
    {
      "cell_type": "markdown",
      "id": "f8ff4cf7-fa5b-4f38-8e33-5bbceab0b5e5",
      "metadata": {},
      "source": [
        "# Run MOFA analysis in Teaseq data for CD4 Naive cells\n",
        "- CD4 naive cells ARI vs CON2"
      ]
    },
    {
      "cell_type": "markdown",
      "id": "5efc17e1-a184-4ba9-b883-ba6fed6f95a3",
      "metadata": {},
      "source": [
        "1. preprocess clinical lab, olink, scRNA, scATAC data\n",
        "    - extract the sample pseudobulk level data\n",
        "    - for atac-seq data, TF activivies infered from chromVAR is used\n",
        "2. run MOFA\n",
        "3. examine MOFA factor 1"
      ]
    },
    {
      "cell_type": "markdown",
      "id": "132690e1-606b-41b3-b358-8b723344da50",
      "metadata": {},
      "source": [
        "# set up"
      ]
    },
    {
      "cell_type": "code",
      "execution_count": null,
      "id": "bd281c45-0115-4565-82bf-a78cf3bc40e1",
      "metadata": {
        "vscode": {
          "languageId": "r"
        }
      },
      "outputs": [],
      "source": [
        "# import libraries\n",
        "quiet_library <- function(...) {\n",
        "    suppressPackageStartupMessages(library(...))\n",
        "}\n",
        "quiet_library(\"tidyverse\")\n",
        "quiet_library(\"Matrix\")\n",
        "quiet_library(\"viridis\")\n",
        "quiet_library(\"scran\")\n",
        "quiet_library(\"scater\")\n",
        "quiet_library(\"MOFA2\")\n",
        "quiet_library(\"data.table\")\n",
        "quiet_library(\"jsonlite\")\n",
        "quiet_library(\"parallel\")\n",
        "quiet_library(\"Seurat\")\n",
        "quiet_library(\"ggpubr\")\n"
      ]
    },
    {
      "cell_type": "code",
      "execution_count": null,
      "id": "77a1d94f-526a-4ab6-a46e-5e6a1ea2ba7f",
      "metadata": {
        "vscode": {
          "languageId": "r"
        }
      },
      "outputs": [],
      "source": [
        "# define file path\n",
        "fig_path <- \"/home/jupyter/figures/preRA_teaseq/MOFA\"\n",
        "data_path <- \"/home/jupyter/data/preRA_teaseq/EXP-00243\"\n",
        "meta_path <- \"/home/jupyter/data/preRA_teaseq/meta_data\"\n",
        "output_path <- \"/home/jupyter/data/preRA_teaseq/output_results/MOFA\"\n",
        "if (!dir.exists(fig_path)) (dir.create(fig_path, recursive = TRUE))\n",
        "if (!dir.exists(output_path)) (dir.create(output_path, recursive = TRUE))\n",
        "# define a project name\n",
        "proj_name <- \"PreRA_teaseq_MOFA_cd4na\"\n"
      ]
    },
    {
      "cell_type": "code",
      "execution_count": null,
      "id": "6e97f976-2169-4291-9549-5aa7ccd8f67b",
      "metadata": {
        "tags": [],
        "vscode": {
          "languageId": "r"
        }
      },
      "outputs": [],
      "source": [
        "# define the color palette to be used\n",
        "npg_color <- c(\n",
        "    \"#E64B35FF\", \"#4DBBD5FF\", \"#00A087FF\", \"#3C5488FF\", \"#F39B7FFF\",\n",
        "    \"#8491B4FF\", \"#91D1C2FF\", \"#DC0000FF\", \"#7E6148FF\", \"#B09C85FF\"\n",
        ")\n",
        "nejm_color <- c(\"#BC3C29FF\", \"#0072B5FF\", \"#E18727FF\", \"#20854EFF\", \"#7876B1FF\", \"#6F99ADFF\", \"#FFDC91FF\", \"#EE4C97FF\")\n",
        "jama_color <- c(\"#374E55FF\", \"#DF8F44FF\", \"#00A1D5FF\", \"#B24745FF\", \"#79AF97FF\", \"#6A6599FF\", \"#80796BFF\")\n",
        "jco_color <- c(\"#0073C2FF\", \"#EFC000FF\", \"#868686FF\", \"#CD534CFF\", \"#7AA6DCFF\", \"#003C67FF\", \"#8F7700FF\")\n",
        "cluster_colors <- c(\n",
        "    \"#DC050C\", \"#FB8072\", \"#1965B0\", \"#7BAFDE\", \"#882E72\", \"#B17BA6\", \"#FF7F00\", \"#FDB462\", \"#E7298A\",\n",
        "    \"#E78AC3\", \"#33A02C\", \"#B2DF8A\", \"#55A1B1\", \"#8DD3C7\", \"#A6761D\", \"#E6AB02\", \"#7570B3\", \"#BEAED4\", \"#666666\", \"#999999\",\n",
        "    \"#aa8282\", \"#d4b7b7\", \"#8600bf\", \"#ba5ce3\", \"#808000\", \"#aeae5c\", \"#1e90ff\", \"#00bfff\", \"#56ff0d\", \"#ffff00\"\n",
        ")\n",
        "con_ari_colors <- c(\"#5AAA46\", \"#F59F00\")\n",
        "cluster_colors_ext <- colorRampPalette(cluster_colors)(36)\n",
        "options(repr.plot.width = 20, repr.plot.height = 15)\n"
      ]
    },
    {
      "cell_type": "code",
      "execution_count": null,
      "id": "07b9a4e5-354e-40be-a77e-f4725e5566c6",
      "metadata": {
        "vscode": {
          "languageId": "r"
        }
      },
      "outputs": [],
      "source": [
        "# source the helper functions\n",
        "source(\"/home/jupyter/github/Teaseq-analysis/scRNA_teaseq_ananlysis_helper_functions.r\")\n"
      ]
    },
    {
      "cell_type": "markdown",
      "id": "5efc4ad4-5943-4da5-b053-5474fcd0c103",
      "metadata": {},
      "source": [
        "# downstream analysis"
      ]
    },
    {
      "cell_type": "code",
      "execution_count": null,
      "id": "836db3c5-0ee3-4fd6-b384-492d9bda79f6",
      "metadata": {
        "vscode": {
          "languageId": "r"
        }
      },
      "outputs": [],
      "source": [
        "# load the trained model\n",
        "model <- load_model(file.path(output_path, \"mofa_preRA_cd4_rna_adt_olink_tf_pseudobulk_model_09202023.hdf5\"))\n"
      ]
    },
    {
      "cell_type": "code",
      "execution_count": null,
      "id": "1d0959e6-e957-404c-abdf-f916c2a8af09",
      "metadata": {
        "vscode": {
          "languageId": "r"
        }
      },
      "outputs": [],
      "source": [
        "plot_data_overview(model)\n",
        "ggsave(file.path(fig_path, paste0(proj_name, \"_data_overview.png\")),\n",
        "       width = 4, height = 4\n",
        ")\n"
      ]
    },
    {
      "cell_type": "code",
      "execution_count": null,
      "id": "37fc8d46-7924-4a40-aeac-9b0c669f5b4e",
      "metadata": {
        "vscode": {
          "languageId": "r"
        }
      },
      "outputs": [],
      "source": [
        "# add metadata to the model\n",
        "meta_data <- meta_data %>%\n",
        "    filter(sample != \"BR2024\") %>%\n",
        "    mutate(status = factor(recode(cohort, \"at_risk\" = \"ARI\", \"healthy\" = \"CON2\"),\n",
        "        levels = c(\"CON2\", \"ARI\")\n",
        "    ))\n",
        "meta_data\n"
      ]
    },
    {
      "cell_type": "code",
      "execution_count": null,
      "id": "41259fa9-ed42-4bb4-9a35-3d1f50a94fa7",
      "metadata": {
        "vscode": {
          "languageId": "r"
        }
      },
      "outputs": [],
      "source": [
        "# add metadata to the model\n",
        "samples_metadata(model) <- meta_data\n"
      ]
    },
    {
      "cell_type": "code",
      "execution_count": null,
      "id": "3eab0ca5-3745-4fb4-b9d0-62400eba1d5f",
      "metadata": {
        "tags": [],
        "vscode": {
          "languageId": "r"
        }
      },
      "outputs": [],
      "source": [
        "# extract the facot\n",
        "factors_values <- get_factors(model,\n",
        "  factors = \"all\",\n",
        "  as.data.frame = TRUE\n",
        ") %>%\n",
        "  as_tibble() %>%\n",
        "  left_join(samples_metadata(model), by = \"sample\") %>%\n",
        "  mutate(cohort = factor(cohort, levels = c(\"healthy\", \"at_risk\")))\n",
        "head(factors_values)\n"
      ]
    },
    {
      "cell_type": "code",
      "execution_count": null,
      "id": "fe448a2e-7486-4e6a-9187-08dba6030a8c",
      "metadata": {
        "vscode": {
          "languageId": "r"
        }
      },
      "outputs": [],
      "source": [
        "# check if the factors are correlated with each other\n",
        "plot_factor_cor(model)\n"
      ]
    },
    {
      "cell_type": "code",
      "execution_count": null,
      "id": "0b0f74fa-dd08-4bcc-9722-f41558b390ea",
      "metadata": {
        "vscode": {
          "languageId": "r"
        }
      },
      "outputs": [],
      "source": [
        "# Variance explained for every factor in per view and group\n",
        "variance_exp <- model@cache$variance_explained$r2_per_factor[[1]] %>% as_tibble(rownames = \"factor\")\n",
        "variance_exp %>% head()\n"
      ]
    },
    {
      "cell_type": "code",
      "execution_count": null,
      "id": "45ad301d-368b-4aef-9b0d-b4984e87788d",
      "metadata": {
        "vscode": {
          "languageId": "r"
        }
      },
      "outputs": [],
      "source": [
        "# plot the total variance explained\n",
        "total_variance <- calculate_variance_explained(model)$r2_total$single_group %>%\n",
        "    as_tibble(rownames = \"modality\") %>%\n",
        "    dplyr::rename(\"variance\" = \"value\")\n",
        "total_variance %>% ggbarplot(x = \"modality\", y = \"variance\", fill = \"steelblue\")\n"
      ]
    },
    {
      "cell_type": "code",
      "execution_count": null,
      "id": "96467dc3-9b62-41e5-bf5a-431fc11250f4",
      "metadata": {
        "vscode": {
          "languageId": "r"
        }
      },
      "outputs": [],
      "source": [
        "calculate_variance_explained(model)\n"
      ]
    },
    {
      "cell_type": "code",
      "execution_count": null,
      "id": "e7198196-3937-4eb1-a9b5-4ded45467c8a",
      "metadata": {
        "vscode": {
          "languageId": "r"
        }
      },
      "outputs": [],
      "source": [
        "# plot the variance explained by factor 1\n",
        "f1_variance <- calculate_variance_explained(model)$r2_per_factor$single_group %>%\n",
        "    as_tibble(rownames = \"factor\") %>%\n",
        "    filter(factor == \"Factor1\") %>%\n",
        "    pivot_longer(cols = -factor, names_to = \"modality\", values_to = \"variance\") %>%\n",
        "    mutate(modality = factor(modality, levels = c(\"olink\", \"rna\", \"tf\", \"adt\")))\n",
        "f1_variance %>% ggbarplot(\n",
        "    x = \"modality\", y = \"variance\", ylab = \"\", xlab = \"\", title = \"% variance \\nexplained by F1\",\n",
        "    fill = \"modality\", legend = \"none\", rotate = TRUE,\n",
        "    palette = npg_color\n",
        ")\n",
        "ggsave(file.path(fig_path, paste0(proj_name, \"_variance_decomposition_f1.pdf\")), width = 3, height = 3)\n"
      ]
    },
    {
      "cell_type": "code",
      "execution_count": null,
      "id": "71397e12-0ef2-4eea-a902-6e9295dfbbaa",
      "metadata": {
        "vscode": {
          "languageId": "r"
        }
      },
      "outputs": [],
      "source": [
        "# plot the variance in each modality explained by the mofa factors\n",
        "p1 <- plot_variance_explained(model, x = \"view\", y = \"factor\") +\n",
        "    scale_x_discrete(labels = c(\n",
        "        \"adt\" = \"ADT\", \"olink\" = \"OLINK\",\n",
        "        \"rna\" = \"RNA\", \"tf\" = \"ATAC (tf)\"\n",
        "    )) +\n",
        "    scale_y_discrete(labels = c(\n",
        "        \"Factor1\" = \"F1\", \"Factor2\" = \"F2\", \"Factor3\" = \"F3\",\n",
        "        \"Factor4\" = \"F4\", \"Factor5\" = \"F5\", \"Factor6\" = \"F6\"\n",
        "    )) +\n",
        "    theme(\n",
        "        axis.text.x = element_text(\n",
        "            size = 16, angle = 45, hjust = 1\n",
        "        ),\n",
        "        axis.text.y = element_text(\n",
        "            size = 16\n",
        "        )\n",
        "    )\n",
        "p1\n",
        "ggsave(file.path(fig_path, paste0(proj_name, \"_variance_decomposition_factor_heatmap.pdf\")), width = 3, height = 3)\n"
      ]
    },
    {
      "cell_type": "code",
      "execution_count": null,
      "id": "bece9c0d-cb56-4611-a2c2-2ff986bd47e3",
      "metadata": {
        "vscode": {
          "languageId": "r"
        }
      },
      "outputs": [],
      "source": [
        "# plot the variaiance explained\n",
        "p1 <- plot_variance_explained(model, x = \"view\", y = \"factor\")\n",
        "p1 + ylab(\"Factors\") + xlab(\"Modalities\") + scale_x_discrete(labels = c(\"ADT\", \"Plasma\\nProtein\", \"RNA\", \"TF\")) +\n",
        "    theme(\n",
        "        axis.title = element_text(size = 24),\n",
        "        axis.text.x = element_blank(),\n",
        "        axis.text.y = element_blank(),\n",
        "        axis.ticks.y = element_blank()\n",
        "    )\n",
        "ggsave(file.path(fig_path, paste0(proj_name, \"_variance_decomposition_facoter_modality.pdf\")), width = 4, height = 4)\n"
      ]
    },
    {
      "cell_type": "code",
      "execution_count": null,
      "id": "94f7bd83-393d-44f6-95a8-9c88ff6eacdb",
      "metadata": {
        "vscode": {
          "languageId": "r"
        }
      },
      "outputs": [],
      "source": [
        "plot_variance_explained(model, x = \"group\", y = \"factor\", plot_total = T)[[2]]\n",
        "ggsave(file.path(fig_path, paste0(proj_name, \"_total_variance_explained.pdf\")), width = 4, height = 4)\n"
      ]
    },
    {
      "cell_type": "code",
      "execution_count": null,
      "id": "6126434f-29b5-4e71-a2ec-5e3bb6b1c85c",
      "metadata": {
        "vscode": {
          "languageId": "r"
        }
      },
      "outputs": [],
      "source": [
        "# run glm ARI vs healthy\n",
        "glm_test <- function(data, formula) {\n",
        "    glm_res <- broom::tidy(stats::glm(as.formula(formula), data = data))\n",
        "    return(glm_res)\n",
        "}\n",
        "stats_glm <- factors_values %>%\n",
        "    mutate(status = factor(status, levels = c(\"CON2\", \"ARI\"))) %>%\n",
        "    group_by(factor) %>%\n",
        "    group_modify(~ glm_test(.x, formula = \"value ~ status + age\"))\n",
        "stats_glm %>%\n",
        "    filter(term != \"(Intercept)\") %>%\n",
        "    rstatix::adjust_pvalue(p.col = \"p.value\", method = \"BH\") %>%\n",
        "    arrange(p.value.adj) %>%\n",
        "    filter(term == \"statusARI\")\n",
        "# factor 1 significant different between ARI and healthy\n"
      ]
    },
    {
      "cell_type": "code",
      "execution_count": null,
      "id": "5e233f33-29e3-4089-84ee-debcded9735c",
      "metadata": {
        "vscode": {
          "languageId": "r"
        }
      },
      "outputs": [],
      "source": [
        "# plot factor1\n",
        "factors_values %>%\n",
        "    filter(factor == \"Factor1\") %>%\n",
        "    ggpubr::ggboxplot(\n",
        "        x = \"status\", y = \"value\", add = \"jitter\",\n",
        "        color = \"status\", palette = con_ari_colors\n",
        "    ) +\n",
        "    # ggpubr::stat_compare_means() +\n",
        "    NoLegend() + ggtitle(\"F1\") +\n",
        "    theme(\n",
        "        plot.title = element_text(hjust = 0.5, size = 16),\n",
        "        axis.text.x = element_text(size = 16),\n",
        "        axis.title.y = element_text(size = 16),\n",
        "        axis.text.y = element_text(size = 16)\n",
        "    ) + xlab(\"\") + ylab(\"Factor score\")\n",
        "\n",
        "ggsave(file.path(fig_path, paste0(proj_name, \"_factor1_status.pdf\")), width = 3, height = 3)\n"
      ]
    },
    {
      "cell_type": "code",
      "execution_count": null,
      "id": "0ea8465c-f32a-42ad-b138-6084c1cf8b02",
      "metadata": {
        "vscode": {
          "languageId": "r"
        }
      },
      "outputs": [],
      "source": [
        "# plot other factors for comparison\n",
        "factors_values %>%\n",
        "  filter(factor != \"Factor1\") %>%\n",
        "  ggpubr::ggviolin(\n",
        "    x = \"status\", y = \"value\", add = \"dotplot\",\n",
        "    color = \"status\", palette = con_ari_colors\n",
        "  ) +\n",
        "  # ggpubr::stat_compare_means() +ß\n",
        "  NoLegend() + # ggtitle('Factor 1')+\n",
        "  theme(plot.title = element_text(hjust = 0.5)) + xlab(\"\") + ylab(\"Factor score\") + facet_wrap(vars(factor))\n",
        "ggsave(file.path(fig_path, paste0(proj_name, \"_notsig_factor_status.pdf\")), width = 4, height = 4)\n"
      ]
    },
    {
      "cell_type": "markdown",
      "id": "ee3eff54-eee0-4d34-869d-76b623129a2c",
      "metadata": {},
      "source": [
        "## analyze Factor1"
      ]
    },
    {
      "cell_type": "code",
      "execution_count": null,
      "id": "ed418e77-3ea1-4732-9f71-46207fa491ec",
      "metadata": {
        "vscode": {
          "languageId": "r"
        }
      },
      "outputs": [],
      "source": [
        "# plot the top features of foctor1\n",
        "factor <- 1\n",
        "p1 <- plot_weights(model,\n",
        "  view = \"rna\",\n",
        "  factor = factor,\n",
        "  nfeatures = 10, # Number of features to highlight\n",
        "  scale = T, # Scale weights from -1 to 1\n",
        "  abs = F # Take the absolute value?\n",
        ")\n",
        "p2 <- plot_weights(model,\n",
        "  view = \"adt\",\n",
        "  factor = factor,\n",
        "  nfeatures = 10, # Number of features to highlight\n",
        "  scale = T, # Scale weights from -1 to 1\n",
        "  abs = F # Take the absolute value?\n",
        ")\n",
        "p3 <- plot_weights(model,\n",
        "  view = \"olink\",\n",
        "  factor = factor,\n",
        "  nfeatures = 10, # Number of features to highlight\n",
        "  scale = T, # Scale weights from -1 to 1\n",
        "  abs = F # Take the absolute value?\n",
        ")\n",
        "p4 <- plot_weights(model,\n",
        "  view = \"tf\",\n",
        "  factor = factor,\n",
        "  nfeatures = 10, # Number of features to highlightß\n",
        "  scale = T, # Scale weights from -1 to 1\n",
        "  abs = F # Take the absolute value?\n",
        ")\n",
        "cowplot::plot_grid(p1, p2, p3, p4, nrow = 2)\n",
        "ggsave(file.path(fig_path, paste0(proj_name, \"_cd4na_factor1_weights.png\")),\n",
        "  width = 12, height = 8\n",
        ")\n"
      ]
    },
    {
      "cell_type": "code",
      "execution_count": null,
      "id": "a7e3b7d3-524a-4847-b4e3-7bc85e261a54",
      "metadata": {
        "vscode": {
          "languageId": "r"
        }
      },
      "outputs": [],
      "source": [
        "# extract the weight of the models\n",
        "weight <- get_weights(model, views = \"all\", as.data.frame = TRUE) %>%\n",
        "    mutate(direction = if_else(value > 0, \"up\", \"down\"))\n",
        "weight %>% head()\n"
      ]
    },
    {
      "cell_type": "code",
      "execution_count": null,
      "id": "805c979a-85c5-4f99-ba76-9890809ef1dc",
      "metadata": {
        "vscode": {
          "languageId": "r"
        }
      },
      "outputs": [],
      "source": [
        "# save feature weights\n",
        "weight %>% write_tsv(file.path(output_path, \"Mofa_preRA_cd4na_09202023_factor_weights.tsv\"))\n"
      ]
    },
    {
      "cell_type": "code",
      "execution_count": null,
      "id": "6e84d753-c28f-4f35-bbf1-4edf294a3897",
      "metadata": {
        "vscode": {
          "languageId": "r"
        }
      },
      "outputs": [],
      "source": [
        "# plot dot plot of top features\n",
        "f1_top_weights <- weight %>%\n",
        "  filter(factor == \"Factor1\") %>%\n",
        "  group_by(view) %>%\n",
        "  slice_max(order_by = value, n = 10) %>%\n",
        "  arrange(desc(value)) %>%\n",
        "  mutate(\n",
        "    view = recode(view,\n",
        "      \"rna\" = \"RNA\", \"tf\" = \"Transcription Factor\",\n",
        "      \"adt\" = \"Surface protein\", \"olink\" = \"plasma protein\"\n",
        "    ),\n",
        "    feature = str_split(feature, pattern = \"_\", simplify = TRUE)[, 2]\n",
        "  )\n",
        "ggdotchart(f1_top_weights,\n",
        "  x = \"feature\", y = \"value\",\n",
        "  color = \"view\", # Color by groups\n",
        "  palette = npg_color, # Custom color palette\n",
        "  sorting = \"descending\", # Sort value in descending order\n",
        "  rotate = TRUE, # Rotate vertically\n",
        "  dot.size = 3, # Large dot size\n",
        "  y.text.col = TRUE, # Color y text by groups\n",
        "  ggtheme = theme_pubr() # ggplot2 theme\n",
        ") +\n",
        "  theme_cleveland()\n",
        "ggsave(file.path(fig_path, paste0(proj_name, \"_cd4na_factor1_weights_dotplot.pdf\")),\n",
        "  width = 6, height = 8\n",
        ")\n"
      ]
    },
    {
      "cell_type": "markdown",
      "id": "e62a919a-ec3e-4d0b-9514-f45c31723db0",
      "metadata": {},
      "source": [
        "### check TF acitivity associated with factor 1"
      ]
    },
    {
      "cell_type": "code",
      "execution_count": null,
      "id": "7bbdba6d-1c9e-4046-b1fe-bb50f9c4ba1d",
      "metadata": {
        "vscode": {
          "languageId": "r"
        }
      },
      "outputs": [],
      "source": [
        "# plot dot plot of top features\n",
        "f1_tf_weights <- weight %>%\n",
        "    filter(factor == \"Factor1\" & view == \"tf\") %>%\n",
        "    group_by(direction) %>%\n",
        "    arrange(desc(value)) %>%\n",
        "    mutate(`Transcription factors` = str_remove(if_else(feature %in% c(\"tf_NFATC3\", \"tf_NFATC2\", \"tf_NFATC1\", \"tf_NFATC4\"),\n",
        "        \"NFATs\", \"Other TFs\"\n",
        "    ), \"tf_\")) %>%\n",
        "    mutate(\n",
        "        view = recode(view,\n",
        "            \"rna\" = \"RNA\", \"tf\" = \"Transcription Factor\",\n",
        "            \"adt\" = \"Surface protein\", \"olink\" = \"plasma protein\"\n",
        "        ),\n",
        "        feature = str_split(feature, pattern = \"_\", simplify = TRUE)[, 2]\n",
        "    ) %>%\n",
        "    mutate(\n",
        "        `Transcription Factor Activity` = factor(if_else(direction == \"up\", \"Enriched in ARI\", \"Enriched in Controls\"),\n",
        "            levels = c(\"Enriched in Controls\", \"Enriched in ARI\")\n",
        "        ),\n",
        "        rank = rank(value, )\n",
        "    )\n",
        "f1_tf_weights %>% head()\n",
        "# f1_tf_weights%>%ggplot(aes(x=value, y=))\n"
      ]
    },
    {
      "cell_type": "markdown",
      "id": "225f8587",
      "metadata": {},
      "source": [
        "#### plot fig "
      ]
    },
    {
      "cell_type": "code",
      "execution_count": null,
      "id": "96bf7485-bdbd-4ff2-b03e-0dd173b81e3f",
      "metadata": {
        "vscode": {
          "languageId": "r"
        }
      },
      "outputs": [],
      "source": [
        "# plot dot plot of top features\n",
        "options(repr.plot.width = 5, repr.plot.height = 5)\n",
        "f1_top_tf_weights <- weight %>%\n",
        "  filter(factor == \"Factor1\" & view == \"tf\") %>%\n",
        "  group_by(direction) %>%\n",
        "  slice_max(order_by = abs(value), n = 15) %>%\n",
        "  arrange(desc(value)) %>%\n",
        "  mutate(`Transcription factors` = str_remove(if_else(feature %in% c(\"tf_NFATC3\", \"tf_NFATC2\", \"tf_NFATC1\", \"tf_NFATC4\"),\n",
        "    \"NFATs\", \"Other TFs\"\n",
        "  ), \"tf_\")) %>%\n",
        "  mutate(\n",
        "    view = recode(view,\n",
        "      \"rna\" = \"RNA\", \"tf\" = \"Transcription Factor\",\n",
        "      \"adt\" = \"Surface protein\", \"olink\" = \"plasma protein\"\n",
        "    ),\n",
        "    feature = str_split(feature, pattern = \"_\", simplify = TRUE)[, 2]\n",
        "  ) %>%\n",
        "  mutate(`TF Activity` = factor(if_else(direction == \"up\", \"Enriched in ARI\", \"Enriched in Controls\"),\n",
        "    levels = c(\"Enriched in Controls\", \"Enriched in ARI\")\n",
        "  ))\n",
        "\n",
        "ggdotchart(f1_top_tf_weights,\n",
        "  x = \"feature\", y = \"value\",\n",
        "  color = \"TF Activity\", # Color by groups\n",
        "  palette = con_ari_colors, # Custom color palette\n",
        "  sorting = \"descending\", # Sort value in descending order\n",
        "  rotate = TRUE, # Rotate vertically\n",
        "  dot.size = 3, # Large dot size\n",
        "  y.text.col = TRUE, # Color y text by groups\n",
        "  # ggtheme = theme_bw(),                    # ggplot2 theme\n",
        "  ylab = \"Weight associated with Factor 1\"\n",
        ") +\n",
        "  theme_cleveland() + geom_hline(yintercept = 0, linetype = 2) +\n",
        "  theme(\n",
        "    legend.position = \"top\", legend.box = \"vertical\", legend.margin = margin(),\n",
        "    axis.text.y = element_text(color = \"black\")\n",
        "  ) + guides(color = guide_legend(nrow = 2))\n",
        "ggsave(file.path(fig_path, paste0(proj_name, \"_cd4na_factor1_tf_weights_dotplot.pdf\")),\n",
        "  width = 5, height = 5\n",
        ")\n"
      ]
    },
    {
      "cell_type": "code",
      "execution_count": null,
      "id": "41d390a1",
      "metadata": {
        "vscode": {
          "languageId": "r"
        }
      },
      "outputs": [],
      "source": [
        "### plot fig S7D"
      ]
    },
    {
      "cell_type": "code",
      "execution_count": null,
      "id": "cd5035b4",
      "metadata": {
        "vscode": {
          "languageId": "r"
        }
      },
      "outputs": [],
      "source": [
        "p1 <- chromvar_tf %>%\n",
        "    mutate(status = factor(if_else(str_detect(subject_id, \"CU\"), \"ARI\", \"CON2\"),\n",
        "        levels = c(\"CON2\", \"ARI\")\n",
        "    )) %>%\n",
        "    filter(tf %in% c(\"NFATC3\", \"NFATC1\", \"NFATC2\", \"FOXP3\")) %>%\n",
        "    ggpubr::ggboxplot(\n",
        "        x = \"status\", y = \"value\", palette = con_ari_colors,\n",
        "        ylab = \"Chromvar Z scores\", xlab = \"\",\n",
        "        color = \"status\", add = \"jitter\"\n",
        "    ) +\n",
        "    ggpubr::stat_compare_means(\n",
        "        method = \"wilcox.test\", label.y = 2.5,\n",
        "        aes(label = paste0(\"p = \", after_stat(p.format)))\n",
        "    ) +\n",
        "    facet_wrap(vars(tf), ncol = 2)\n",
        "p1\n",
        "ggsave(file.path(fig_path, paste0(proj_name, \"_NFATs_Chromvar_zscores.pdf\")), width = 4, height = 4)\n"
      ]
    },
    {
      "cell_type": "code",
      "execution_count": null,
      "id": "ef65bbac-a500-442c-b608-4e3d0e96c891",
      "metadata": {
        "vscode": {
          "languageId": "r"
        }
      },
      "outputs": [],
      "source": [
        "# plot f1 tf values\n",
        "f1_tf_values <- weight %>%\n",
        "  filter(view == \"tf\" & factor == \"Factor1\") %>%\n",
        "  arrange(desc(value)) %>%\n",
        "  mutate(\n",
        "    rank = 1:length(value),\n",
        "    label_feature = if_else(str_remove(feature, \"tf_\") %in% c(\"NFATC3\", \"NFATC2\", \"NFATC1\", \"NFATC4\", \"FOXP3\", \"BATF3\", \"EGR2\"),\n",
        "      feature, NA\n",
        "    )\n",
        "  )\n",
        "f1_tf_values %>% ggplot(aes(x = value, y = rank, label = label_feature, color = label_feature)) +\n",
        "  ggrepel::geom_text_repel(size = 6, nudge_x = 0.1) +\n",
        "  geom_vline(xintercept = 0.4) +\n",
        "  scale_y_reverse() +\n",
        "  geom_point(size = 0.8) +\n",
        "  theme_bw() +\n",
        "  theme(\n",
        "    legend.position = \"none\",\n",
        "    axis.text.y = element_blank(),\n",
        "    axis.ticks.y = element_blank()\n",
        "  )\n",
        "ggsave(\n",
        "  file.path(fig_path, paste0(\n",
        "    proj_name,\n",
        "    \"_cd4na_factor1_TF_weights_NFAT.pdf\"\n",
        "  )),\n",
        "  width = 4, height = 4\n",
        ")\n"
      ]
    },
    {
      "cell_type": "code",
      "execution_count": null,
      "id": "0d743b93-2354-4fc9-8bfe-e26b556b76a2",
      "metadata": {
        "tags": [],
        "vscode": {
          "languageId": "r"
        }
      },
      "outputs": [],
      "source": [
        "# check the Natural cutoff for tf\n",
        "p1 <- plot_weights(model,\n",
        "  view = \"tf\",\n",
        "  factor = 1,\n",
        "  manual = c(\"tf_NFATC3\", \"tf_NFATC2\", \"tf_NFATC1\", \"tf_NFATC4\"),\n",
        "  text_size = 4,\n",
        "  nfeatures = 20, # Number of features to highlight\n",
        "  scale = T, # Scale weights from -1 to 1\n",
        "  abs = F # Take the absolute value?\n",
        ")\n",
        "\n",
        "p1 + geom_vline(xintercept = 0.4) + ggrepel::geom_label_repel(aes(label = feature)) #+ scale_color_manual(values = cluster_colors)\n",
        "ggsave(\n",
        "  file.path(fig_path, paste0(\n",
        "    proj_name,\n",
        "    \"_cd4na_factor1_TF_weights.pdf\"\n",
        "  )),\n",
        "  width = 4, height = 4\n",
        ")\n"
      ]
    },
    {
      "cell_type": "code",
      "execution_count": null,
      "id": "db2292a1-2e10-4eaa-986d-c84d49326f91",
      "metadata": {
        "vscode": {
          "languageId": "r"
        }
      },
      "outputs": [],
      "source": [
        "factor1_tf <- weight %>%\n",
        "    filter(factor == \"Factor1\" & view == \"tf\") %>%\n",
        "    mutate(direction = if_else(value > 0, \"healthy\", \"at-risk\")) %>%\n",
        "    arrange(desc(abs(value))) %>%\n",
        "    filter(!str_detect(feature, \"ENSG|DUX\"))\n",
        "# factor1_tf %>% group_by(direction) %>% slice_max(order_by = abs(value),n = 60)\n"
      ]
    },
    {
      "cell_type": "code",
      "execution_count": null,
      "id": "e68fb253-8806-4773-a72f-4b2a54391a09",
      "metadata": {
        "vscode": {
          "languageId": "r"
        }
      },
      "outputs": [],
      "source": [
        "plot_data_scatter(model,\n",
        "     factor = 1,\n",
        "     features = c(\n",
        "          \"tf_NFATC3\", \"tf_STAT5A\", \"tf_STAT3\", \"tf_JUND\", \"tf_BCL6\", \"tf_FOS\", \"tf_JUNB\",\n",
        "          \"tf_BATF\"\n",
        "     ),\n",
        "     view = \"tf\", color_by = \"cohort\"\n",
        ")\n",
        "ggsave(file.path(fig_path, paste0(proj_name, \"_facoter1_tf_correlation_cohort_nfat_partners.png\")),\n",
        "     width = 8, height = 4\n",
        ")\n"
      ]
    },
    {
      "cell_type": "code",
      "execution_count": null,
      "id": "dc767158-c1b4-432e-9606-68f3e5932842",
      "metadata": {
        "vscode": {
          "languageId": "r"
        }
      },
      "outputs": [],
      "source": [
        "# get factor 1 and tf data\n",
        "f1_tf_data <- get_data(model,\n",
        "    as.data.frame = TRUE,\n",
        "    view = \"tf\"\n",
        ") %>%\n",
        "    mutate(feature = str_remove(feature, \"tf_\")) %>%\n",
        "    dplyr::rename(\"TF_activity\" = \"value\") %>%\n",
        "    left_join(filter(factors_values, factor == \"Factor1\") %>%\n",
        "        dplyr::rename(\"Factor_score\" = \"value\"), by = \"sample\")\n",
        "f1_tf_data %>% head()\n"
      ]
    },
    {
      "cell_type": "code",
      "execution_count": null,
      "id": "ff6b07b5-f204-4890-9cea-4f2e073bdb75",
      "metadata": {
        "vscode": {
          "languageId": "r"
        }
      },
      "outputs": [],
      "source": [
        "options(repr.plot.width = 5, repr.plot.height = 5)\n",
        "f1_tf_data_nfat <- f1_tf_data %>% filter(feature %in% c(\"FOXP3\", \"NFATC1\", \"NFATC2\", \"NFATC3\"))\n",
        "ggpubr::ggscatter(f1_tf_data_nfat,\n",
        "       x = \"Factor_score\", y = \"TF_activity\",\n",
        "       xlab = \"Factor1 score\", ylab = \"ChromVAR activity\",\n",
        "       color = \"status\", facet.by = \"feature\", palette = con_ari_colors,\n",
        "       add = \"reg.line\", # Add regressin line\n",
        "       add.params = list(color = \"blue\", fill = \"lightgray\"), # Customize reg. line\n",
        "       conf.int = TRUE, # Add confidence interval\n",
        "       cor.coef = TRUE, # Add correlation coefficient. see ?stat_cor\n",
        "       cor.coeff.args = list(method = \"spearman\", label.x = -0.8, label.y = 1.5, label.sep = \"\\n\"),\n",
        "       ggtheme = theme_classic2()\n",
        ") + scale_fill_manual(values = con_ari_colors) + theme(legend.position = \"top\")\n",
        "ggsave(file.path(fig_path, paste0(proj_name, \"_facoter1_tf_correlation_cohort_nfat_foxp3.pdf\")),\n",
        "       width = 5, height = 5\n",
        ")\n"
      ]
    },
    {
      "cell_type": "markdown",
      "id": "317fd933-9628-4b44-a828-5b37d71ca98e",
      "metadata": {},
      "source": [
        "### check RNA"
      ]
    },
    {
      "cell_type": "code",
      "execution_count": null,
      "id": "a607eb61-ca37-4ef1-89a3-b07329566af3",
      "metadata": {
        "vscode": {
          "languageId": "r"
        }
      },
      "outputs": [],
      "source": [
        "factor1_rna <- weight %>%\n",
        "    filter(factor == \"Factor1\" & view == \"rna\") %>%\n",
        "    mutate(direction = if_else(value > 0, \"healthy\", \"at-risk\")) %>%\n",
        "    arrange(desc(abs(value)))\n",
        "factor1_rna_sel <- factor1_rna %>%\n",
        "    group_by(direction) %>%\n",
        "    slice_max(order_by = abs(value), n = 50)\n"
      ]
    },
    {
      "cell_type": "code",
      "execution_count": null,
      "id": "e4aa2af0-4fae-4f93-869a-cf61568d0597",
      "metadata": {
        "vscode": {
          "languageId": "r"
        }
      },
      "outputs": [],
      "source": [
        "p1 <- plot_data_scatter(model,\n",
        "      factor = 1,\n",
        "      features = c(\"rna_STIM1\", \"rna_STIM2\"),\n",
        "      view = \"rna\", color_by = \"cohort\"\n",
        ")\n",
        "p1\n",
        "ggsave(file.path(fig_path, paste0(proj_name, \"_facoter1_rna_correlation_Ca_channel.png\")),\n",
        "      width = 6, height = 3\n",
        ")\n"
      ]
    },
    {
      "cell_type": "code",
      "execution_count": null,
      "id": "0d8b5667-be86-4671-ab52-85e544191c40",
      "metadata": {
        "vscode": {
          "languageId": "r"
        }
      },
      "outputs": [],
      "source": [
        "# check il\n",
        "il_rna <- factor1_rna %>%\n",
        "       filter(str_detect(feature, \"IL\\\\d|IFN.R|TGF|CD28|CD69\") &\n",
        "              abs(value) > 0.6 & feature != \"rna_PPIL4\")\n",
        "il_rna\n",
        "p1 <- plot_data_scatter(model,\n",
        "       factor = 1,\n",
        "       features = il_rna$feature %>% as.character(),\n",
        "       view = \"rna\", color_by = \"cohort\"\n",
        ")\n",
        "p1\n",
        "# il_rna <- factor1_rna %>%\n",
        "#     filter(str_detect(feature, 'IL\\\\d|IFN.R|TGF|CD28|CD69')&\n",
        "#            abs(value)>0.5)\n",
        "# p2 <- plot_data_scatter(model, factor=1,\n",
        "#                   features = il_rna$feature %>% as.character(),\n",
        "#                         view='rna', color_by='cohort')\n",
        "ggsave(file.path(fig_path, paste0(proj_name, \"_facoter1_rna_correlation_cohort_il_receptor.png\")),\n",
        "       width = 8, height = 6\n",
        ")\n"
      ]
    },
    {
      "cell_type": "code",
      "execution_count": null,
      "id": "94ad2ab2-6c2b-402b-8390-ad66dd89f225",
      "metadata": {
        "vscode": {
          "languageId": "r"
        }
      },
      "outputs": [],
      "source": [
        "# check exhaustion\n",
        "exh_rna <- factor1_rna %>%\n",
        "       filter(str_detect(feature, \"IL\\\\d|IFN.R|TGF|CD28|CD69\") &\n",
        "              abs(value) > 0.6 & feature != \"rna_PPIL4\")\n",
        "il_rna\n",
        "p1 <- plot_data_scatter(model,\n",
        "       factor = 1,\n",
        "       features = il_rna$feature %>% as.character(),\n",
        "       view = \"rna\", color_by = \"cohort\"\n",
        ")\n",
        "p1\n",
        "# il_rna <- factor1_rna %>%\n",
        "#     filter(str_detect(feature, 'IL\\\\d|IFN.R|TGF|CD28|CD69')&\n",
        "#            abs(value)>0.5)\n",
        "# p2 <- plot_data_scatter(model, factor=1,\n",
        "#                   features = il_rna$feature %>% as.character(),\n",
        "#                         view='rna', color_by='cohort')\n",
        "ggsave(file.path(fig_path, paste0(proj_name, \"_facoter1_rna_correlation_cohort_il_receptor.png\")),\n",
        "       width = 8, height = 6\n",
        ")\n"
      ]
    },
    {
      "cell_type": "code",
      "execution_count": null,
      "id": "54288d91-3d9f-45f1-816a-4e4bfac25dae",
      "metadata": {
        "tags": [],
        "vscode": {
          "languageId": "r"
        }
      },
      "outputs": [],
      "source": [
        "# plot ca2+ related gene expression\n",
        "tcr_gene <- paste0(\"rna_\", c(\n",
        "       \"VAV1\", \"GRB2\", \"GRAP2\", \"NFATC2\", \"NFAT5\", \"CBL\",\n",
        "       \"CARD11\", \"LCK\", \"IKBKB\", \"CD4\", \"PIK3R1\", \"MALT1\",\n",
        "       \"RAF1\", \"SOS1\", \"NCK2\", \"CD3G\", \"LCP2\", \"LAT\", \"NCK1\", \"CD3D\", \"CD3E\", \"RASGRP1\", \"MAP2K1\",\n",
        "       \"PTPRC\", \"NFATC3\", \"MAP3K7\", \"PPP3CC\", \"PPP3CA\", \"GSK3B\"\n",
        "))\n",
        "factor1_rna %>%\n",
        "       filter(str_detect(feature, \"PPP3CC|PLCG2|CALM1\") | feature %in% tcr_gene) %>%\n",
        "       filter(abs(value) > 0.6)\n",
        "\n",
        "p1 <- plot_data_scatter(model,\n",
        "       factor = 1,\n",
        "       features = paste0(\"rna_\", c(\"PPP3CC\", \"PLCG2\", \"PPP3CA\", \"LCK\", \"CD4\", \"CD3G\", \"CD3D\")),\n",
        "       view = \"rna\", color_by = \"cohort\"\n",
        ")\n",
        "p1\n",
        "ggsave(file.path(fig_path, paste0(proj_name, \"_facoter1_rna_correlation_cohort_ca_signaling_pos.png\")),\n",
        "       width = 8, height = 6\n",
        ")\n",
        "p2 <- plot_data_scatter(model,\n",
        "       factor = 1,\n",
        "       features = paste0(\"rna_\", c(\"CABIN1\", \"CSNK1A1\")),\n",
        "       view = \"rna\", color_by = \"cohort\"\n",
        ")\n",
        "p2\n",
        "ggsave(file.path(fig_path, paste0(proj_name, \"_facoter1_rna_correlation_cohort_ca_signaling_neg.png\")),\n",
        "       width = 6, height = 3\n",
        ")\n"
      ]
    },
    {
      "cell_type": "code",
      "execution_count": null,
      "id": "0d289c2c-a0f0-470c-9cf9-5203d1a251f2",
      "metadata": {
        "vscode": {
          "languageId": "r"
        }
      },
      "outputs": [],
      "source": [
        "# check NFAT gene expression\n",
        "# factor1_rna %>%  filter(str_detect(feature,'NFAT|FOXP3'))\n",
        "\n",
        "# c('rna_STAT3',  'rna_NFATC3', 'rna_BATF') %in% weight$feature\n",
        "plot_data_scatter(model,\n",
        "      factor = 1,\n",
        "      features = factor1_rna %>% filter(str_detect(feature, \"NFAT|FOXP3\")) %>% pull(feature) %>% as.character(),\n",
        "      view = \"rna\", color_by = \"cohort\"\n",
        ")\n",
        "ggsave(file.path(fig_path, paste0(proj_name, \"_facoter1_rna_correlation_cohort_NFATs.png\")),\n",
        "      width = 8, height = 4\n",
        ")\n"
      ]
    },
    {
      "cell_type": "code",
      "execution_count": null,
      "id": "dbdd5fa6-1de2-485b-9bc2-cd50a3155e4f",
      "metadata": {
        "vscode": {
          "languageId": "r"
        }
      },
      "outputs": [],
      "source": [
        "# change the row names for plotting\n",
        "rownames(model@data$rna$single_group) <- rownames(model@data$rna$single_group) %>% str_remove(\"rna_\")\n"
      ]
    },
    {
      "cell_type": "code",
      "execution_count": null,
      "id": "8d4425ea-b0d7-4b06-9158-10f6b116ce81",
      "metadata": {
        "vscode": {
          "languageId": "r"
        }
      },
      "outputs": [],
      "source": [
        "# plot heatmap results for deg psudobulk\n",
        "PlotDegHeatmap <- function(pseudo, genes, gene_meta = NULL, genes_hightlight = NULL,\n",
        "                           assay = \"normalized_counts\", celltype_col,\n",
        "                           celltype_colors = cluster_colors, batch_colors = cluster_colors_ext, scale = TRUE) {\n",
        "    require(\"ComplexHeatmap\")\n",
        "\n",
        "    # set up the data matrix\n",
        "    gex_matrix <- assay(pseudo, assay)[genes, ] %>% as.matrix()\n",
        "\n",
        "    # set up the column annotation\n",
        "    metadata <- colData(pseudo) %>% as.data.frame()\n",
        "    # set up column annotation\n",
        "    col_anno <- rowAnnotation(\n",
        "        df = metadata %>% dplyr::select(c(status)) %>%\n",
        "            as.data.frame(),\n",
        "        col = list(status = c(\"CON2\" = con_ari_colors[1], \"ARI\" = con_ari_colors[2])),\n",
        "        annotation_legend_param =\n",
        "            list(\n",
        "                status = list(direction = \"horizontal\") # ,\n",
        "                # title_gp = gpar(fontsize = 12),\n",
        "                # label_gp = gpar(fontsize = 12),\n",
        "                # grid_height = unit(1, \"cm\"),\n",
        "                #    legend_height = unit(1, \"cm\"),\n",
        "            )\n",
        "    )\n",
        "    # set up row annotation - gene labels at the right side\n",
        "    if (!is.null(genes_hightlight)) {\n",
        "        if (!all(genes_hightlight %in% genes)) {\n",
        "            (stop(\"gene(s) to hightlight are not in the deg list.\"))\n",
        "        } else {\n",
        "            gene_index_tb <- tibble(\"index\" = 1:length(rownames(gex_matrix)), gene = rownames(gex_matrix))\n",
        "            gene_hightlight_index <- gene_index_tb %>%\n",
        "                filter(gene %in% gene_hightlight) %>%\n",
        "                pull(index)\n",
        "            hightlight_labels <- gene_index_tb %>%\n",
        "                filter(gene %in% gene_hightlight) %>%\n",
        "                pull(gene)\n",
        "            genename_anno <- rowAnnotation(foo = anno_mark(\n",
        "                at = gene_hightlight_index,\n",
        "                labels = hightlight_labels, gpar(fontsize = 12)\n",
        "            ))\n",
        "        }\n",
        "    } else {\n",
        "        (genename_anno <- NULL)\n",
        "    }\n",
        "    set.seed(1221)\n",
        "    if (scale) (gex_matrix <- t(scale(t(gex_matrix))))\n",
        "\n",
        "    p1 <- ComplexHeatmap::Heatmap(gex_matrix %>% t(),\n",
        "        left_annotation = col_anno,\n",
        "        cluster_rows = TRUE,\n",
        "        col = colorRampPalette(c(nejm_color[2], \"white\", nejm_color[1]))(100),\n",
        "        row_names_max_width = unit(10, \"cm\"),\n",
        "        #    left_annotation = row_anno,\n",
        "        right_annotation = genename_anno, #  column_names_rot = 45,\n",
        "        show_column_names = TRUE, show_row_names = TRUE,\n",
        "        column_names_gp = gpar(fontsize = 12),\n",
        "        row_names_gp = gpar(fontsize = 12),\n",
        "        heatmap_legend_param = list(\n",
        "            title = \"Scaled\\nexpression\", title_gp = gpar(fontsize = 12),\n",
        "            legend_height = unit(6, \"cm\"), direction = \"horizontal\"\n",
        "        )\n",
        "    )\n",
        "    return(p1)\n",
        "}\n"
      ]
    },
    {
      "cell_type": "code",
      "execution_count": null,
      "id": "f885d845-5b60-4a57-91c3-52407ce6d7d8",
      "metadata": {
        "scrolled": true,
        "vscode": {
          "languageId": "r"
        }
      },
      "outputs": [],
      "source": [
        "colData(cd4na_rna_psudo)$cohort %>% unique()\n",
        "colData(cd4na_rna_psudo)$status <- factor(if_else(colData(cd4na_rna_psudo)$cohort == \"at_risk\", \"ARI\", \"CON2\"),\n",
        "    levels = c(\"CON2\", \"ARI\")\n",
        ")\n",
        "colData(cd4na_rna_psudo)$status %>% unique()\n"
      ]
    },
    {
      "cell_type": "code",
      "execution_count": null,
      "id": "32082866-0d9c-4cb6-9ae5-b2517e214494",
      "metadata": {
        "vscode": {
          "languageId": "r"
        }
      },
      "outputs": [],
      "source": [
        "# specify tcr and calsium related genes\n",
        "tcr_gene <- c(\n",
        "    \"VAV1\", \"GRB2\", \"GRAP2\", \"NFATC2\", \"NFAT5\", \"CBL\",\n",
        "    \"CARD11\", \"LCK\", \"IKBKB\", \"CD4\", \"PIK3R1\", \"MALT1\",\n",
        "    \"RAF1\", \"SOS1\", \"NCK2\", \"LCP2\", \"LAT\", \"NCK1\", \"RASGRP1\", \"MAP2K1\",\n",
        "    \"PTPRC\", \"NFATC3\", \"MAP3K7\", \"PPP3CC\", \"PPP3CA\", \"GSK3B\", \"PPP3CC\", \"PLCG2\", \"PPP3CA\", \"CABIN1\", \"STIM1\", \"STIM2\",\n",
        "    \"CSNK1A1\", \"LCK\", \"CD4\", \"NFATC1\",\n",
        "    \"NFATC2IP\"\n",
        ") %>% unique()\n"
      ]
    },
    {
      "cell_type": "code",
      "execution_count": null,
      "id": "a1f04017-9686-4520-a800-536c8dd1c574",
      "metadata": {
        "vscode": {
          "languageId": "r"
        }
      },
      "outputs": [],
      "source": [
        "# plot the gene heatmap in horizontal\n",
        "pdf(file.path(fig_path, paste0(proj_name, \"_facoter1_rna_tcr_ca_heatmap.pdf\")),\n",
        "    width = 6, height = 4\n",
        ")\n",
        "p1 <- PlotDegHeatmap(cd4na_rna_psudo, genes = tcr_gene)\n",
        "draw(p1, heatmap_legend_side = \"top\")\n",
        "dev.off()\n"
      ]
    },
    {
      "cell_type": "code",
      "execution_count": null,
      "id": "83dac435-33e1-4e87-8208-c9e15c764710",
      "metadata": {
        "vscode": {
          "languageId": "r"
        }
      },
      "outputs": [],
      "source": [
        "options(repr.plot.width = 6, repr.plot.height = 4)\n",
        "draw(p1, heatmap_legend_side = \"top\")\n"
      ]
    },
    {
      "cell_type": "markdown",
      "id": "f1ee1264-b2a2-48b1-8f79-49b5971f694b",
      "metadata": {},
      "source": [
        "### check ADT"
      ]
    },
    {
      "cell_type": "code",
      "execution_count": null,
      "id": "eb3b5250-e4ef-4126-a358-aa327909bf1c",
      "metadata": {
        "vscode": {
          "languageId": "r"
        }
      },
      "outputs": [],
      "source": [
        "# check the Natural cutoff for tf\n",
        "p1 <- plot_weights(model,\n",
        "  view = \"adt\",\n",
        "  factor = 1,\n",
        "  nfeatures = 30, # Number of features to highlight\n",
        "  scale = T, # Scale weights from -1 to 1\n",
        "  abs = F # Take the absolute value?\n",
        ")\n",
        "p1 + geom_vline(xintercept = 0.5)\n",
        "ggsave(file.path(fig_path, paste0(proj_name, \"_facoter1_adts.png\")),\n",
        "  width = 5, height = 5\n",
        ")\n"
      ]
    },
    {
      "cell_type": "code",
      "execution_count": null,
      "id": "dca4502b-af4a-4cb1-ae31-9b6898d844e4",
      "metadata": {
        "tags": [],
        "vscode": {
          "languageId": "r"
        }
      },
      "outputs": [],
      "source": [
        "factor1_adt <- weight %>%\n",
        "    filter(factor == \"Factor1\" & view == \"adt\") %>%\n",
        "    mutate(direction = if_else(value > 0, \"healthy\", \"at-risk\")) %>%\n",
        "    arrange(desc(abs(value)))\n",
        "factor1_adt_sel <- factor1_adt %>%\n",
        "    group_by(direction) %>%\n",
        "    slice_max(order_by = abs(value), n = 25)\n",
        "factor1_adt_sel %>%\n",
        "    arrange(desc(value)) %>%\n",
        "    head(20)\n"
      ]
    },
    {
      "cell_type": "code",
      "execution_count": null,
      "id": "7979a3be-2754-4361-b4b4-05bb77132f86",
      "metadata": {
        "vscode": {
          "languageId": "r"
        }
      },
      "outputs": [],
      "source": [
        "# check exhustion\n",
        "p1 <- plot_data_scatter(model,\n",
        "      factor = 1,\n",
        "      features = c(\"adt_TIGIT\", \"adt_CD278\", \"adt_CD279\"),\n",
        "      view = \"adt\", color_by = \"cohort\"\n",
        ")\n",
        "# p2 <- plot_data_scatter(model, factor=1,\n",
        "#                   features = c('rna_TIGIT', 'rna_HAVCR2', 'adt_PDCD1'),\n",
        "#                         view='rna', color_by='cohort')\n",
        "# cowplot::plot_grid(p1, p2, nrow = 2)\n",
        "p1\n",
        "ggsave(file.path(fig_path, paste0(proj_name, \"_facoter1_adt_correlation_cohort_cd278_cd279_TIGIT.png\")),\n",
        "      width = 9, height = 3\n",
        ")\n"
      ]
    },
    {
      "cell_type": "code",
      "execution_count": null,
      "id": "c1d38fe6-bfda-4f2c-b7c6-682103c784f0",
      "metadata": {
        "vscode": {
          "languageId": "r"
        }
      },
      "outputs": [],
      "source": [
        "plot_data_scatter(model,\n",
        "       factor = 1, features = c(\"adt_CX3CR1\", \"adt_CD64\", \"adt_Ig-light-chain-k\"),\n",
        "       view = \"adt\", color_by = \"cohort\"\n",
        ")\n",
        "ggsave(file.path(fig_path, paste0(proj_name, \"_facoter1_adt_correlation_cohort_CX3CR1_fc.png\")),\n",
        "       width = 8, height = 4\n",
        ")\n"
      ]
    },
    {
      "cell_type": "code",
      "execution_count": null,
      "id": "feb07679-eec9-4cee-b04e-9be71031b950",
      "metadata": {
        "vscode": {
          "languageId": "r"
        }
      },
      "outputs": [],
      "source": [
        "p1 <- plot_data_heatmap(model, # max.value = 3,\n",
        "  view = \"olink\",\n",
        "  factor = 1, main = \"olink\", fontsize_row = 6,\n",
        "  features = 20, denoise = FALSE,\n",
        "  cluster_rows = TRUE, cluster_cols = TRUE,\n",
        "  show_rownames = TRUE, show_colnames = TRUE,\n",
        "  scale = \"row\"\n",
        ")\n",
        "png(file.path(fig_path, paste0(proj_name, \"_facoter1_olink_top20_heatmap.png\")),\n",
        "  units = \"in\", res = 300, width = 5, height = 5\n",
        ")\n",
        "print(p1)\n",
        "dev.off()\n"
      ]
    },
    {
      "cell_type": "code",
      "execution_count": null,
      "id": "2662c710-aca9-43ab-8e33-2b22c0e91445",
      "metadata": {
        "vscode": {
          "languageId": "r"
        }
      },
      "outputs": [],
      "source": [
        "plot_data_scatter(model,\n",
        "       factor = 1, features = c(\"olink_IL17D\"),\n",
        "       view = \"olink\", color_by = \"cohort\"\n",
        ")\n",
        "ggsave(file.path(fig_path, paste0(proj_name, \"_facoter1_olink_correlation_cohort_IL17D.pdf\")),\n",
        "       width = 5, height = 4\n",
        ")\n"
      ]
    }
  ],
  "metadata": {
    "kernelspec": {
      "display_name": "seurat_v5",
      "language": "R",
      "name": "seurat_v5"
    },
    "language_info": {
      "codemirror_mode": "r",
      "file_extension": ".r",
      "mimetype": "text/x-r-source",
      "name": "R",
      "pygments_lexer": "r",
      "version": "4.3.3"
    },
    "nteract": {
      "version": "0.28.0"
    }
  },
  "nbformat": 4,
  "nbformat_minor": 5
}
