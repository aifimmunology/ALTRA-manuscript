{
 "cells": [
  {
   "cell_type": "markdown",
   "id": "7e52be3d-9b67-4f3c-b0e9-744a8f8929c8",
   "metadata": {},
   "source": [
    "## Plotting the Frequency change over time between the CON1 and ARI"
   ]
  },
  {
   "cell_type": "code",
   "execution_count": 1,
   "id": "2e77a862-d0b8-4871-819b-de3274dc87c7",
   "metadata": {},
   "outputs": [],
   "source": [
    "\n",
    "# load libraries\n",
    "quiet_library <- function(...) {\n",
    "    suppressPackageStartupMessages(library(...))\n",
    "}\n",
    "quiet_library(tidyverse)\n",
    "quiet_library(Seurat)\n",
    "quiet_library(ggplot2)\n",
    "quiet_library(Matrix)\n",
    "quiet_library(dplyr)\n",
    "quiet_library(viridis)\n",
    "quiet_library(harmony)\n",
    "quiet_library(future)\n",
    "quiet_library(future.apply)\n",
    "quiet_library(SingleCellExperiment)\n",
    "quiet_library(SeuratDisk)\n",
    "quiet_library(ggpubr)\n",
    "quiet_library(knitr)\n",
    "quiet_library(plotly)\n",
    "quiet_library(ggrepel)\n",
    "options(warn = -1)\n",
    "\n"
   ]
  },
  {
   "cell_type": "code",
   "execution_count": 2,
   "id": "0ded1583-2fe2-43f2-a6a8-42b934b2acd8",
   "metadata": {},
   "outputs": [
    {
     "data": {
      "text/html": [
       "<strong>system:</strong> 64"
      ],
      "text/latex": [
       "\\textbf{system:} 64"
      ],
      "text/markdown": [
       "**system:** 64"
      ],
      "text/plain": [
       "system \n",
       "    64 "
      ]
     },
     "metadata": {},
     "output_type": "display_data"
    }
   ],
   "source": [
    "# Check number of cores\n",
    "future::availableCores()\n",
    "# Set up parallel processing to run when using 'future' functions \n",
    "future::plan(strategy = \"multicore\", workers = future::availableCores()-5)  \n",
    "options(future.globals.maxSize = 1000 * 1024^3)\n",
    "# to turn off parallel processing run line below\n",
    "# future::plan(strategy = \"sequential\")"
   ]
  },
  {
   "cell_type": "code",
   "execution_count": 3,
   "id": "a145492b-1fb0-4300-a507-e7bc908d8560",
   "metadata": {},
   "outputs": [],
   "source": [
    "# define the color palette to be used\n",
    "npg_color <- c(\"#E64B35FF\", \"#4DBBD5FF\", \"#00A087FF\", \"#3C5488FF\", \"#F39B7FFF\", \n",
    "               \"#8491B4FF\", \"#91D1C2FF\", \"#DC0000FF\", \"#7E6148FF\", \"#B09C85FF\")\n",
    "nejm_color <- c(\"#BC3C29FF\", \"#0072B5FF\", \"#E18727FF\", \"#20854EFF\", \"#7876B1FF\", \"#6F99ADFF\", \"#FFDC91FF\", \"#EE4C97FF\")\n",
    "jama_color <- c(\"#374E55FF\", \"#DF8F44FF\", \"#00A1D5FF\", \"#B24745FF\", \"#79AF97FF\", \"#6A6599FF\", \"#80796BFF\")\n",
    "jco_color <- c(\"#0073C2FF\", \"#EFC000FF\", \"#868686FF\", \"#CD534CFF\", \"#7AA6DCFF\", \"#003C67FF\", \"#8F7700FF\")\n",
    "cluster_colors <- c(\"#DC050C\", \"#FB8072\", \"#1965B0\", \"#7BAFDE\", \"#882E72\", \"#B17BA6\", \"#FF7F00\", \"#FDB462\", \"#E7298A\", \n",
    "    \"#E78AC3\", \"#33A02C\", \"#B2DF8A\", \"#55A1B1\", \"#8DD3C7\", \"#A6761D\", \"#E6AB02\", \"#7570B3\", \"#BEAED4\", \"#666666\", \"#999999\", \n",
    "    \"#aa8282\", \"#d4b7b7\", \"#8600bf\", \"#ba5ce3\", \"#808000\", \"#aeae5c\", \"#1e90ff\", \"#00bfff\", \"#56ff0d\", \"#ffff00\")\n",
    "\n",
    "cluster_colors_ext <- colorRampPalette(cluster_colors)(75)\n",
    "options(repr.plot.width = 20, repr.plot.height = 15)"
   ]
  },
  {
   "cell_type": "code",
   "execution_count": 4,
   "id": "044e6746-3427-4f53-89ab-64e1fde7e590",
   "metadata": {},
   "outputs": [
    {
     "data": {
      "text/html": [
       "<table class=\"dataframe\">\n",
       "<caption>A data.frame: 3 × 10</caption>\n",
       "<thead>\n",
       "\t<tr><th></th><th scope=col>cell_type</th><th scope=col>gene</th><th scope=col>baseMean</th><th scope=col>log2FoldChange</th><th scope=col>lfcSE</th><th scope=col>stat</th><th scope=col>pvalue</th><th scope=col>padj</th><th scope=col>q_values</th><th scope=col>sig</th></tr>\n",
       "\t<tr><th></th><th scope=col>&lt;chr&gt;</th><th scope=col>&lt;chr&gt;</th><th scope=col>&lt;dbl&gt;</th><th scope=col>&lt;dbl&gt;</th><th scope=col>&lt;dbl&gt;</th><th scope=col>&lt;dbl&gt;</th><th scope=col>&lt;dbl&gt;</th><th scope=col>&lt;dbl&gt;</th><th scope=col>&lt;dbl&gt;</th><th scope=col>&lt;chr&gt;</th></tr>\n",
       "</thead>\n",
       "<tbody>\n",
       "\t<tr><th scope=row>1</th><td>Adaptive NK cell</td><td>AAK1   </td><td> 44.80038</td><td>0.146387776</td><td>0.12186225</td><td>1.2012561</td><td>0.2296519</td><td>0.6852282</td><td>0.5630065</td><td>ns</td></tr>\n",
       "\t<tr><th scope=row>2</th><td>Adaptive NK cell</td><td>ABCF1  </td><td> 25.40334</td><td>0.084321320</td><td>0.11284745</td><td>0.7472151</td><td>0.4549337</td><td>0.8511353</td><td>0.6973416</td><td>ns</td></tr>\n",
       "\t<tr><th scope=row>3</th><td>Adaptive NK cell</td><td>ABHD17A</td><td>102.88741</td><td>0.008860484</td><td>0.06349922</td><td>0.1395369</td><td>0.8890259</td><td>0.9761770</td><td>0.7940845</td><td>ns</td></tr>\n",
       "</tbody>\n",
       "</table>\n"
      ],
      "text/latex": [
       "A data.frame: 3 × 10\n",
       "\\begin{tabular}{r|llllllllll}\n",
       "  & cell\\_type & gene & baseMean & log2FoldChange & lfcSE & stat & pvalue & padj & q\\_values & sig\\\\\n",
       "  & <chr> & <chr> & <dbl> & <dbl> & <dbl> & <dbl> & <dbl> & <dbl> & <dbl> & <chr>\\\\\n",
       "\\hline\n",
       "\t1 & Adaptive NK cell & AAK1    &  44.80038 & 0.146387776 & 0.12186225 & 1.2012561 & 0.2296519 & 0.6852282 & 0.5630065 & ns\\\\\n",
       "\t2 & Adaptive NK cell & ABCF1   &  25.40334 & 0.084321320 & 0.11284745 & 0.7472151 & 0.4549337 & 0.8511353 & 0.6973416 & ns\\\\\n",
       "\t3 & Adaptive NK cell & ABHD17A & 102.88741 & 0.008860484 & 0.06349922 & 0.1395369 & 0.8890259 & 0.9761770 & 0.7940845 & ns\\\\\n",
       "\\end{tabular}\n"
      ],
      "text/markdown": [
       "\n",
       "A data.frame: 3 × 10\n",
       "\n",
       "| <!--/--> | cell_type &lt;chr&gt; | gene &lt;chr&gt; | baseMean &lt;dbl&gt; | log2FoldChange &lt;dbl&gt; | lfcSE &lt;dbl&gt; | stat &lt;dbl&gt; | pvalue &lt;dbl&gt; | padj &lt;dbl&gt; | q_values &lt;dbl&gt; | sig &lt;chr&gt; |\n",
       "|---|---|---|---|---|---|---|---|---|---|---|\n",
       "| 1 | Adaptive NK cell | AAK1    |  44.80038 | 0.146387776 | 0.12186225 | 1.2012561 | 0.2296519 | 0.6852282 | 0.5630065 | ns |\n",
       "| 2 | Adaptive NK cell | ABCF1   |  25.40334 | 0.084321320 | 0.11284745 | 0.7472151 | 0.4549337 | 0.8511353 | 0.6973416 | ns |\n",
       "| 3 | Adaptive NK cell | ABHD17A | 102.88741 | 0.008860484 | 0.06349922 | 0.1395369 | 0.8890259 | 0.9761770 | 0.7940845 | ns |\n",
       "\n"
      ],
      "text/plain": [
       "  cell_type        gene    baseMean  log2FoldChange lfcSE      stat     \n",
       "1 Adaptive NK cell AAK1     44.80038 0.146387776    0.12186225 1.2012561\n",
       "2 Adaptive NK cell ABCF1    25.40334 0.084321320    0.11284745 0.7472151\n",
       "3 Adaptive NK cell ABHD17A 102.88741 0.008860484    0.06349922 0.1395369\n",
       "  pvalue    padj      q_values  sig\n",
       "1 0.2296519 0.6852282 0.5630065 ns \n",
       "2 0.4549337 0.8511353 0.6973416 ns \n",
       "3 0.8890259 0.9761770 0.7940845 ns "
      ]
     },
     "metadata": {},
     "output_type": "display_data"
    }
   ],
   "source": [
    "# Loading the aim 1 DEG results file\n",
    "degs_a1=read.csv(\"/home/jupyter/ALTRA_ANALYSIS/Deep_clean/Figure_notebooks/files/input_files/certpro_Zi_files/ALTRA_scRNA_AIFI_L3_Pseudobulk_certPro_AIM1_BMI_deg_results.csv\")\n",
    "degs_a1%>%head(3)"
   ]
  },
  {
   "cell_type": "code",
   "execution_count": 5,
   "id": "98a22276-fce2-4da3-8b2e-904877417354",
   "metadata": {},
   "outputs": [
    {
     "data": {
      "text/html": [
       "<table class=\"dataframe\">\n",
       "<caption>A data.frame: 2 × 10</caption>\n",
       "<thead>\n",
       "\t<tr><th></th><th scope=col>celltype</th><th scope=col>gene</th><th scope=col>baseMean</th><th scope=col>log2FoldChange</th><th scope=col>lfcSE</th><th scope=col>stat</th><th scope=col>pvalue</th><th scope=col>padj</th><th scope=col>q_values</th><th scope=col>sig</th></tr>\n",
       "\t<tr><th></th><th scope=col>&lt;chr&gt;</th><th scope=col>&lt;chr&gt;</th><th scope=col>&lt;dbl&gt;</th><th scope=col>&lt;dbl&gt;</th><th scope=col>&lt;dbl&gt;</th><th scope=col>&lt;dbl&gt;</th><th scope=col>&lt;dbl&gt;</th><th scope=col>&lt;dbl&gt;</th><th scope=col>&lt;dbl&gt;</th><th scope=col>&lt;chr&gt;</th></tr>\n",
       "</thead>\n",
       "<tbody>\n",
       "\t<tr><th scope=row>1</th><td>Adaptive NK cell</td><td>AAK1 </td><td>44.80038</td><td>0.14638778</td><td>0.1218623</td><td>1.2012561</td><td>0.2296519</td><td>0.6852282</td><td>0.5630065</td><td>ns</td></tr>\n",
       "\t<tr><th scope=row>2</th><td>Adaptive NK cell</td><td>ABCF1</td><td>25.40334</td><td>0.08432132</td><td>0.1128475</td><td>0.7472151</td><td>0.4549337</td><td>0.8511353</td><td>0.6973416</td><td>ns</td></tr>\n",
       "</tbody>\n",
       "</table>\n"
      ],
      "text/latex": [
       "A data.frame: 2 × 10\n",
       "\\begin{tabular}{r|llllllllll}\n",
       "  & celltype & gene & baseMean & log2FoldChange & lfcSE & stat & pvalue & padj & q\\_values & sig\\\\\n",
       "  & <chr> & <chr> & <dbl> & <dbl> & <dbl> & <dbl> & <dbl> & <dbl> & <dbl> & <chr>\\\\\n",
       "\\hline\n",
       "\t1 & Adaptive NK cell & AAK1  & 44.80038 & 0.14638778 & 0.1218623 & 1.2012561 & 0.2296519 & 0.6852282 & 0.5630065 & ns\\\\\n",
       "\t2 & Adaptive NK cell & ABCF1 & 25.40334 & 0.08432132 & 0.1128475 & 0.7472151 & 0.4549337 & 0.8511353 & 0.6973416 & ns\\\\\n",
       "\\end{tabular}\n"
      ],
      "text/markdown": [
       "\n",
       "A data.frame: 2 × 10\n",
       "\n",
       "| <!--/--> | celltype &lt;chr&gt; | gene &lt;chr&gt; | baseMean &lt;dbl&gt; | log2FoldChange &lt;dbl&gt; | lfcSE &lt;dbl&gt; | stat &lt;dbl&gt; | pvalue &lt;dbl&gt; | padj &lt;dbl&gt; | q_values &lt;dbl&gt; | sig &lt;chr&gt; |\n",
       "|---|---|---|---|---|---|---|---|---|---|---|\n",
       "| 1 | Adaptive NK cell | AAK1  | 44.80038 | 0.14638778 | 0.1218623 | 1.2012561 | 0.2296519 | 0.6852282 | 0.5630065 | ns |\n",
       "| 2 | Adaptive NK cell | ABCF1 | 25.40334 | 0.08432132 | 0.1128475 | 0.7472151 | 0.4549337 | 0.8511353 | 0.6973416 | ns |\n",
       "\n"
      ],
      "text/plain": [
       "  celltype         gene  baseMean log2FoldChange lfcSE     stat      pvalue   \n",
       "1 Adaptive NK cell AAK1  44.80038 0.14638778     0.1218623 1.2012561 0.2296519\n",
       "2 Adaptive NK cell ABCF1 25.40334 0.08432132     0.1128475 0.7472151 0.4549337\n",
       "  padj      q_values  sig\n",
       "1 0.6852282 0.5630065 ns \n",
       "2 0.8511353 0.6973416 ns "
      ]
     },
     "metadata": {},
     "output_type": "display_data"
    }
   ],
   "source": [
    "## renaming the cell_type column as \"celltype\" for easy downstream analysis\n",
    "degs_a1=degs_a1%>%rename(celltype=cell_type)\n",
    "degs_a1%>%head(2)"
   ]
  },
  {
   "cell_type": "code",
   "execution_count": 6,
   "id": "3f12632f-4e1f-4927-8e1b-71e1b484617e",
   "metadata": {},
   "outputs": [
    {
     "data": {
      "text/html": [
       "<table class=\"dataframe\">\n",
       "<caption>A data.frame: 2 × 11</caption>\n",
       "<thead>\n",
       "\t<tr><th></th><th scope=col>celltype</th><th scope=col>gene</th><th scope=col>baseMean</th><th scope=col>log2FoldChange</th><th scope=col>lfcSE</th><th scope=col>stat</th><th scope=col>pvalue</th><th scope=col>padj</th><th scope=col>q_values</th><th scope=col>sig</th><th scope=col>direction</th></tr>\n",
       "\t<tr><th></th><th scope=col>&lt;chr&gt;</th><th scope=col>&lt;chr&gt;</th><th scope=col>&lt;dbl&gt;</th><th scope=col>&lt;dbl&gt;</th><th scope=col>&lt;dbl&gt;</th><th scope=col>&lt;dbl&gt;</th><th scope=col>&lt;dbl&gt;</th><th scope=col>&lt;dbl&gt;</th><th scope=col>&lt;dbl&gt;</th><th scope=col>&lt;chr&gt;</th><th scope=col>&lt;chr&gt;</th></tr>\n",
       "</thead>\n",
       "<tbody>\n",
       "\t<tr><th scope=row>1</th><td>Adaptive NK cell</td><td>AAK1 </td><td>44.80038</td><td>0.14638778</td><td>0.1218623</td><td>1.2012561</td><td>0.2296519</td><td>0.6852282</td><td>0.5630065</td><td>ns</td><td>up</td></tr>\n",
       "\t<tr><th scope=row>2</th><td>Adaptive NK cell</td><td>ABCF1</td><td>25.40334</td><td>0.08432132</td><td>0.1128475</td><td>0.7472151</td><td>0.4549337</td><td>0.8511353</td><td>0.6973416</td><td>ns</td><td>up</td></tr>\n",
       "</tbody>\n",
       "</table>\n"
      ],
      "text/latex": [
       "A data.frame: 2 × 11\n",
       "\\begin{tabular}{r|lllllllllll}\n",
       "  & celltype & gene & baseMean & log2FoldChange & lfcSE & stat & pvalue & padj & q\\_values & sig & direction\\\\\n",
       "  & <chr> & <chr> & <dbl> & <dbl> & <dbl> & <dbl> & <dbl> & <dbl> & <dbl> & <chr> & <chr>\\\\\n",
       "\\hline\n",
       "\t1 & Adaptive NK cell & AAK1  & 44.80038 & 0.14638778 & 0.1218623 & 1.2012561 & 0.2296519 & 0.6852282 & 0.5630065 & ns & up\\\\\n",
       "\t2 & Adaptive NK cell & ABCF1 & 25.40334 & 0.08432132 & 0.1128475 & 0.7472151 & 0.4549337 & 0.8511353 & 0.6973416 & ns & up\\\\\n",
       "\\end{tabular}\n"
      ],
      "text/markdown": [
       "\n",
       "A data.frame: 2 × 11\n",
       "\n",
       "| <!--/--> | celltype &lt;chr&gt; | gene &lt;chr&gt; | baseMean &lt;dbl&gt; | log2FoldChange &lt;dbl&gt; | lfcSE &lt;dbl&gt; | stat &lt;dbl&gt; | pvalue &lt;dbl&gt; | padj &lt;dbl&gt; | q_values &lt;dbl&gt; | sig &lt;chr&gt; | direction &lt;chr&gt; |\n",
       "|---|---|---|---|---|---|---|---|---|---|---|---|\n",
       "| 1 | Adaptive NK cell | AAK1  | 44.80038 | 0.14638778 | 0.1218623 | 1.2012561 | 0.2296519 | 0.6852282 | 0.5630065 | ns | up |\n",
       "| 2 | Adaptive NK cell | ABCF1 | 25.40334 | 0.08432132 | 0.1128475 | 0.7472151 | 0.4549337 | 0.8511353 | 0.6973416 | ns | up |\n",
       "\n"
      ],
      "text/plain": [
       "  celltype         gene  baseMean log2FoldChange lfcSE     stat      pvalue   \n",
       "1 Adaptive NK cell AAK1  44.80038 0.14638778     0.1218623 1.2012561 0.2296519\n",
       "2 Adaptive NK cell ABCF1 25.40334 0.08432132     0.1128475 0.7472151 0.4549337\n",
       "  padj      q_values  sig direction\n",
       "1 0.6852282 0.5630065 ns  up       \n",
       "2 0.8511353 0.6973416 ns  up       "
      ]
     },
     "metadata": {},
     "output_type": "display_data"
    }
   ],
   "source": [
    "##adding the direction column\n",
    "degs_a1=degs_a1%>%\n",
    "    filter(!is.na(padj) & !is.na(log2FoldChange)) %>% mutate(direction=if_else(log2FoldChange>0, 'up', 'down'))\n",
    "degs_a1 %>% head(2)"
   ]
  },
  {
   "cell_type": "code",
   "execution_count": 7,
   "id": "d279540c-baff-4909-a808-1be05bc5d4e5",
   "metadata": {},
   "outputs": [
    {
     "data": {
      "text/html": [
       "67"
      ],
      "text/latex": [
       "67"
      ],
      "text/markdown": [
       "67"
      ],
      "text/plain": [
       "[1] 67"
      ]
     },
     "metadata": {},
     "output_type": "display_data"
    },
    {
     "data": {
      "text/html": [
       "<style>\n",
       ".list-inline {list-style: none; margin:0; padding: 0}\n",
       ".list-inline>li {display: inline-block}\n",
       ".list-inline>li:not(:last-child)::after {content: \"\\00b7\"; padding: 0 .5ex}\n",
       "</style>\n",
       "<ol class=list-inline><li>'Adaptive NK cell'</li><li>'Adaptive NK cell_uk1_T'</li><li>'C1Q+ CD16 monocyte'</li><li>'CD14+ cDC2'</li><li>'CD27+ effector B cell'</li><li>'CD27- effector B cell'</li><li>'CD4 MAIT'</li><li>'CD56bright NK cell'</li><li>'CD8 MAIT'</li><li>'CD8aa'</li><li>'CD95 memory B cell'</li><li>'CM CD4 T cell'</li><li>'CM CD4 T cell_uk1_CD8'</li><li>'CM CD4 T cell_uk2'</li><li>'CM CD8 T cell'</li><li>'CMP cell'</li><li>'Core CD14 monocyte'</li><li>'Core CD16 monocyte'</li><li>'Core memory B cell'</li><li>'Core naive B cell'</li><li>'Core naive CD4 T cell'</li><li>'Core naive CD8 T cell'</li><li>'DN T cell'</li><li>'Early memory B cell'</li><li>'Erythrocyte'</li><li>'GZMB+ Vd2 gdT'</li><li>'GZMB- CD27+ EM CD4 T cell'</li><li>'GZMB- CD27+ EM CD4 T cell_uk1_CD8'</li><li>'GZMB- CD27- EM CD4 T cell'</li><li>'GZMB- CD27- EM CD4 T cell_uk1_CD8'</li><li>'GZMK+ CD27+ EM CD8 T cell'</li><li>'GZMK+ CD27+ EM CD8 T cell_uk1_gdt'</li><li>'GZMK+ CD56dim NK cell'</li><li>'GZMK+ Vd2 gdT'</li><li>'GZMK- CD27+ EM CD8 T cell'</li><li>'GZMK- CD56dim NK cell'</li><li>'HLA-DRhi cDC2'</li><li>'IL1B+ CD14 monocyte'</li><li>'ISG+ CD14 monocyte'</li><li>'ISG+ CD16 monocyte'</li><li>'ISG+ CD56dim NK cell'</li><li>'ISG+ cDC2'</li><li>'ISG+ memory CD4 T cell'</li><li>'ISG+ memory CD8 T cell'</li><li>'ISG+ naive B cell'</li><li>'ISG+ naive CD4 T cell'</li><li>'Intermediate monocyte'</li><li>'KLRB1+ memory CD4 Treg'</li><li>'KLRF1+ GZMB+ CD27- EM CD8 T cell'</li><li>'KLRF1+ effector Vd1 gdT'</li><li>'KLRF1+GZMB+_CD27-_EM_CD8_uk3'</li><li>'KLRF1- GZMB+ CD27- EM CD8 T cell'</li><li>'KLRF1- GZMB+ CD27- memory CD4 T cell'</li><li>'KLRF1- effector Vd1 gdT'</li><li>'Memory CD4 Treg'</li><li>'Naive CD4 Treg'</li><li>'Naive Vd1 gdT'</li><li>'Plasma cell'</li><li>'Platelet'</li><li>'Proliferating NK cell'</li><li>'Proliferating T cell'</li><li>'SOX4+ naive CD4 T cell'</li><li>'SOX4+ naive CD8 T cell'</li><li>'Transitional B cell'</li><li>'Type 2 polarized memory B cell'</li><li>'cDC1'</li><li>'pDC'</li></ol>\n"
      ],
      "text/latex": [
       "\\begin{enumerate*}\n",
       "\\item 'Adaptive NK cell'\n",
       "\\item 'Adaptive NK cell\\_uk1\\_T'\n",
       "\\item 'C1Q+ CD16 monocyte'\n",
       "\\item 'CD14+ cDC2'\n",
       "\\item 'CD27+ effector B cell'\n",
       "\\item 'CD27- effector B cell'\n",
       "\\item 'CD4 MAIT'\n",
       "\\item 'CD56bright NK cell'\n",
       "\\item 'CD8 MAIT'\n",
       "\\item 'CD8aa'\n",
       "\\item 'CD95 memory B cell'\n",
       "\\item 'CM CD4 T cell'\n",
       "\\item 'CM CD4 T cell\\_uk1\\_CD8'\n",
       "\\item 'CM CD4 T cell\\_uk2'\n",
       "\\item 'CM CD8 T cell'\n",
       "\\item 'CMP cell'\n",
       "\\item 'Core CD14 monocyte'\n",
       "\\item 'Core CD16 monocyte'\n",
       "\\item 'Core memory B cell'\n",
       "\\item 'Core naive B cell'\n",
       "\\item 'Core naive CD4 T cell'\n",
       "\\item 'Core naive CD8 T cell'\n",
       "\\item 'DN T cell'\n",
       "\\item 'Early memory B cell'\n",
       "\\item 'Erythrocyte'\n",
       "\\item 'GZMB+ Vd2 gdT'\n",
       "\\item 'GZMB- CD27+ EM CD4 T cell'\n",
       "\\item 'GZMB- CD27+ EM CD4 T cell\\_uk1\\_CD8'\n",
       "\\item 'GZMB- CD27- EM CD4 T cell'\n",
       "\\item 'GZMB- CD27- EM CD4 T cell\\_uk1\\_CD8'\n",
       "\\item 'GZMK+ CD27+ EM CD8 T cell'\n",
       "\\item 'GZMK+ CD27+ EM CD8 T cell\\_uk1\\_gdt'\n",
       "\\item 'GZMK+ CD56dim NK cell'\n",
       "\\item 'GZMK+ Vd2 gdT'\n",
       "\\item 'GZMK- CD27+ EM CD8 T cell'\n",
       "\\item 'GZMK- CD56dim NK cell'\n",
       "\\item 'HLA-DRhi cDC2'\n",
       "\\item 'IL1B+ CD14 monocyte'\n",
       "\\item 'ISG+ CD14 monocyte'\n",
       "\\item 'ISG+ CD16 monocyte'\n",
       "\\item 'ISG+ CD56dim NK cell'\n",
       "\\item 'ISG+ cDC2'\n",
       "\\item 'ISG+ memory CD4 T cell'\n",
       "\\item 'ISG+ memory CD8 T cell'\n",
       "\\item 'ISG+ naive B cell'\n",
       "\\item 'ISG+ naive CD4 T cell'\n",
       "\\item 'Intermediate monocyte'\n",
       "\\item 'KLRB1+ memory CD4 Treg'\n",
       "\\item 'KLRF1+ GZMB+ CD27- EM CD8 T cell'\n",
       "\\item 'KLRF1+ effector Vd1 gdT'\n",
       "\\item 'KLRF1+GZMB+\\_CD27-\\_EM\\_CD8\\_uk3'\n",
       "\\item 'KLRF1- GZMB+ CD27- EM CD8 T cell'\n",
       "\\item 'KLRF1- GZMB+ CD27- memory CD4 T cell'\n",
       "\\item 'KLRF1- effector Vd1 gdT'\n",
       "\\item 'Memory CD4 Treg'\n",
       "\\item 'Naive CD4 Treg'\n",
       "\\item 'Naive Vd1 gdT'\n",
       "\\item 'Plasma cell'\n",
       "\\item 'Platelet'\n",
       "\\item 'Proliferating NK cell'\n",
       "\\item 'Proliferating T cell'\n",
       "\\item 'SOX4+ naive CD4 T cell'\n",
       "\\item 'SOX4+ naive CD8 T cell'\n",
       "\\item 'Transitional B cell'\n",
       "\\item 'Type 2 polarized memory B cell'\n",
       "\\item 'cDC1'\n",
       "\\item 'pDC'\n",
       "\\end{enumerate*}\n"
      ],
      "text/markdown": [
       "1. 'Adaptive NK cell'\n",
       "2. 'Adaptive NK cell_uk1_T'\n",
       "3. 'C1Q+ CD16 monocyte'\n",
       "4. 'CD14+ cDC2'\n",
       "5. 'CD27+ effector B cell'\n",
       "6. 'CD27- effector B cell'\n",
       "7. 'CD4 MAIT'\n",
       "8. 'CD56bright NK cell'\n",
       "9. 'CD8 MAIT'\n",
       "10. 'CD8aa'\n",
       "11. 'CD95 memory B cell'\n",
       "12. 'CM CD4 T cell'\n",
       "13. 'CM CD4 T cell_uk1_CD8'\n",
       "14. 'CM CD4 T cell_uk2'\n",
       "15. 'CM CD8 T cell'\n",
       "16. 'CMP cell'\n",
       "17. 'Core CD14 monocyte'\n",
       "18. 'Core CD16 monocyte'\n",
       "19. 'Core memory B cell'\n",
       "20. 'Core naive B cell'\n",
       "21. 'Core naive CD4 T cell'\n",
       "22. 'Core naive CD8 T cell'\n",
       "23. 'DN T cell'\n",
       "24. 'Early memory B cell'\n",
       "25. 'Erythrocyte'\n",
       "26. 'GZMB+ Vd2 gdT'\n",
       "27. 'GZMB- CD27+ EM CD4 T cell'\n",
       "28. 'GZMB- CD27+ EM CD4 T cell_uk1_CD8'\n",
       "29. 'GZMB- CD27- EM CD4 T cell'\n",
       "30. 'GZMB- CD27- EM CD4 T cell_uk1_CD8'\n",
       "31. 'GZMK+ CD27+ EM CD8 T cell'\n",
       "32. 'GZMK+ CD27+ EM CD8 T cell_uk1_gdt'\n",
       "33. 'GZMK+ CD56dim NK cell'\n",
       "34. 'GZMK+ Vd2 gdT'\n",
       "35. 'GZMK- CD27+ EM CD8 T cell'\n",
       "36. 'GZMK- CD56dim NK cell'\n",
       "37. 'HLA-DRhi cDC2'\n",
       "38. 'IL1B+ CD14 monocyte'\n",
       "39. 'ISG+ CD14 monocyte'\n",
       "40. 'ISG+ CD16 monocyte'\n",
       "41. 'ISG+ CD56dim NK cell'\n",
       "42. 'ISG+ cDC2'\n",
       "43. 'ISG+ memory CD4 T cell'\n",
       "44. 'ISG+ memory CD8 T cell'\n",
       "45. 'ISG+ naive B cell'\n",
       "46. 'ISG+ naive CD4 T cell'\n",
       "47. 'Intermediate monocyte'\n",
       "48. 'KLRB1+ memory CD4 Treg'\n",
       "49. 'KLRF1+ GZMB+ CD27- EM CD8 T cell'\n",
       "50. 'KLRF1+ effector Vd1 gdT'\n",
       "51. 'KLRF1+GZMB+_CD27-_EM_CD8_uk3'\n",
       "52. 'KLRF1- GZMB+ CD27- EM CD8 T cell'\n",
       "53. 'KLRF1- GZMB+ CD27- memory CD4 T cell'\n",
       "54. 'KLRF1- effector Vd1 gdT'\n",
       "55. 'Memory CD4 Treg'\n",
       "56. 'Naive CD4 Treg'\n",
       "57. 'Naive Vd1 gdT'\n",
       "58. 'Plasma cell'\n",
       "59. 'Platelet'\n",
       "60. 'Proliferating NK cell'\n",
       "61. 'Proliferating T cell'\n",
       "62. 'SOX4+ naive CD4 T cell'\n",
       "63. 'SOX4+ naive CD8 T cell'\n",
       "64. 'Transitional B cell'\n",
       "65. 'Type 2 polarized memory B cell'\n",
       "66. 'cDC1'\n",
       "67. 'pDC'\n",
       "\n",
       "\n"
      ],
      "text/plain": [
       " [1] \"Adaptive NK cell\"                    \n",
       " [2] \"Adaptive NK cell_uk1_T\"              \n",
       " [3] \"C1Q+ CD16 monocyte\"                  \n",
       " [4] \"CD14+ cDC2\"                          \n",
       " [5] \"CD27+ effector B cell\"               \n",
       " [6] \"CD27- effector B cell\"               \n",
       " [7] \"CD4 MAIT\"                            \n",
       " [8] \"CD56bright NK cell\"                  \n",
       " [9] \"CD8 MAIT\"                            \n",
       "[10] \"CD8aa\"                               \n",
       "[11] \"CD95 memory B cell\"                  \n",
       "[12] \"CM CD4 T cell\"                       \n",
       "[13] \"CM CD4 T cell_uk1_CD8\"               \n",
       "[14] \"CM CD4 T cell_uk2\"                   \n",
       "[15] \"CM CD8 T cell\"                       \n",
       "[16] \"CMP cell\"                            \n",
       "[17] \"Core CD14 monocyte\"                  \n",
       "[18] \"Core CD16 monocyte\"                  \n",
       "[19] \"Core memory B cell\"                  \n",
       "[20] \"Core naive B cell\"                   \n",
       "[21] \"Core naive CD4 T cell\"               \n",
       "[22] \"Core naive CD8 T cell\"               \n",
       "[23] \"DN T cell\"                           \n",
       "[24] \"Early memory B cell\"                 \n",
       "[25] \"Erythrocyte\"                         \n",
       "[26] \"GZMB+ Vd2 gdT\"                       \n",
       "[27] \"GZMB- CD27+ EM CD4 T cell\"           \n",
       "[28] \"GZMB- CD27+ EM CD4 T cell_uk1_CD8\"   \n",
       "[29] \"GZMB- CD27- EM CD4 T cell\"           \n",
       "[30] \"GZMB- CD27- EM CD4 T cell_uk1_CD8\"   \n",
       "[31] \"GZMK+ CD27+ EM CD8 T cell\"           \n",
       "[32] \"GZMK+ CD27+ EM CD8 T cell_uk1_gdt\"   \n",
       "[33] \"GZMK+ CD56dim NK cell\"               \n",
       "[34] \"GZMK+ Vd2 gdT\"                       \n",
       "[35] \"GZMK- CD27+ EM CD8 T cell\"           \n",
       "[36] \"GZMK- CD56dim NK cell\"               \n",
       "[37] \"HLA-DRhi cDC2\"                       \n",
       "[38] \"IL1B+ CD14 monocyte\"                 \n",
       "[39] \"ISG+ CD14 monocyte\"                  \n",
       "[40] \"ISG+ CD16 monocyte\"                  \n",
       "[41] \"ISG+ CD56dim NK cell\"                \n",
       "[42] \"ISG+ cDC2\"                           \n",
       "[43] \"ISG+ memory CD4 T cell\"              \n",
       "[44] \"ISG+ memory CD8 T cell\"              \n",
       "[45] \"ISG+ naive B cell\"                   \n",
       "[46] \"ISG+ naive CD4 T cell\"               \n",
       "[47] \"Intermediate monocyte\"               \n",
       "[48] \"KLRB1+ memory CD4 Treg\"              \n",
       "[49] \"KLRF1+ GZMB+ CD27- EM CD8 T cell\"    \n",
       "[50] \"KLRF1+ effector Vd1 gdT\"             \n",
       "[51] \"KLRF1+GZMB+_CD27-_EM_CD8_uk3\"        \n",
       "[52] \"KLRF1- GZMB+ CD27- EM CD8 T cell\"    \n",
       "[53] \"KLRF1- GZMB+ CD27- memory CD4 T cell\"\n",
       "[54] \"KLRF1- effector Vd1 gdT\"             \n",
       "[55] \"Memory CD4 Treg\"                     \n",
       "[56] \"Naive CD4 Treg\"                      \n",
       "[57] \"Naive Vd1 gdT\"                       \n",
       "[58] \"Plasma cell\"                         \n",
       "[59] \"Platelet\"                            \n",
       "[60] \"Proliferating NK cell\"               \n",
       "[61] \"Proliferating T cell\"                \n",
       "[62] \"SOX4+ naive CD4 T cell\"              \n",
       "[63] \"SOX4+ naive CD8 T cell\"              \n",
       "[64] \"Transitional B cell\"                 \n",
       "[65] \"Type 2 polarized memory B cell\"      \n",
       "[66] \"cDC1\"                                \n",
       "[67] \"pDC\"                                 "
      ]
     },
     "metadata": {},
     "output_type": "display_data"
    }
   ],
   "source": [
    "degs_a1$celltype%>%unique()%>%length\n",
    "degs_a1$celltype%>%unique()"
   ]
  },
  {
   "cell_type": "code",
   "execution_count": 8,
   "id": "cdb8dfa2-3043-42b6-853d-ec6bbd370196",
   "metadata": {},
   "outputs": [
    {
     "name": "stderr",
     "output_type": "stream",
     "text": [
      "\u001b[1m\u001b[22m`summarise()` has grouped output by 'celltype'. You can override using the\n",
      "`.groups` argument.\n"
     ]
    },
    {
     "data": {
      "text/html": [
       "<table class=\"dataframe\">\n",
       "<caption>A grouped_df: 3 × 3</caption>\n",
       "<thead>\n",
       "\t<tr><th scope=col>celltype</th><th scope=col>direction</th><th scope=col>deg_counts</th></tr>\n",
       "\t<tr><th scope=col>&lt;chr&gt;</th><th scope=col>&lt;chr&gt;</th><th scope=col>&lt;int&gt;</th></tr>\n",
       "</thead>\n",
       "<tbody>\n",
       "\t<tr><td>Adaptive NK cell  </td><td>down</td><td>15</td></tr>\n",
       "\t<tr><td>Adaptive NK cell  </td><td>up  </td><td>14</td></tr>\n",
       "\t<tr><td>C1Q+ CD16 monocyte</td><td>down</td><td>10</td></tr>\n",
       "</tbody>\n",
       "</table>\n"
      ],
      "text/latex": [
       "A grouped\\_df: 3 × 3\n",
       "\\begin{tabular}{lll}\n",
       " celltype & direction & deg\\_counts\\\\\n",
       " <chr> & <chr> & <int>\\\\\n",
       "\\hline\n",
       "\t Adaptive NK cell   & down & 15\\\\\n",
       "\t Adaptive NK cell   & up   & 14\\\\\n",
       "\t C1Q+ CD16 monocyte & down & 10\\\\\n",
       "\\end{tabular}\n"
      ],
      "text/markdown": [
       "\n",
       "A grouped_df: 3 × 3\n",
       "\n",
       "| celltype &lt;chr&gt; | direction &lt;chr&gt; | deg_counts &lt;int&gt; |\n",
       "|---|---|---|\n",
       "| Adaptive NK cell   | down | 15 |\n",
       "| Adaptive NK cell   | up   | 14 |\n",
       "| C1Q+ CD16 monocyte | down | 10 |\n",
       "\n"
      ],
      "text/plain": [
       "  celltype           direction deg_counts\n",
       "1 Adaptive NK cell   down      15        \n",
       "2 Adaptive NK cell   up        14        \n",
       "3 C1Q+ CD16 monocyte down      10        "
      ]
     },
     "metadata": {},
     "output_type": "display_data"
    },
    {
     "data": {
      "text/html": [
       "<style>\n",
       ".list-inline {list-style: none; margin:0; padding: 0}\n",
       ".list-inline>li {display: inline-block}\n",
       ".list-inline>li:not(:last-child)::after {content: \"\\00b7\"; padding: 0 .5ex}\n",
       "</style>\n",
       "<ol class=list-inline><li>119</li><li>3</li></ol>\n"
      ],
      "text/latex": [
       "\\begin{enumerate*}\n",
       "\\item 119\n",
       "\\item 3\n",
       "\\end{enumerate*}\n"
      ],
      "text/markdown": [
       "1. 119\n",
       "2. 3\n",
       "\n",
       "\n"
      ],
      "text/plain": [
       "[1] 119   3"
      ]
     },
     "metadata": {},
     "output_type": "display_data"
    }
   ],
   "source": [
    "# filtering the DEG's based on the standared set cutoff\n",
    "deg_counts <- degs_a1 %>%dplyr::filter(abs(log2FoldChange) >= 0.1 & q_values<0.1) %>% \n",
    "  group_by(celltype, direction) %>%\n",
    "  summarise(deg_counts = n())\n",
    "\n",
    "deg_counts %>% head(3)\n",
    "\n",
    "deg_counts%>%dim"
   ]
  },
  {
   "cell_type": "code",
   "execution_count": 9,
   "id": "49d08873-8f33-4472-af26-5adf0ba65e0d",
   "metadata": {},
   "outputs": [
    {
     "data": {
      "text/html": [
       "<style>\n",
       ".list-inline {list-style: none; margin:0; padding: 0}\n",
       ".list-inline>li {display: inline-block}\n",
       ".list-inline>li:not(:last-child)::after {content: \"\\00b7\"; padding: 0 .5ex}\n",
       "</style>\n",
       "<ol class=list-inline><li>63</li><li>2</li></ol>\n"
      ],
      "text/latex": [
       "\\begin{enumerate*}\n",
       "\\item 63\n",
       "\\item 2\n",
       "\\end{enumerate*}\n"
      ],
      "text/markdown": [
       "1. 63\n",
       "2. 2\n",
       "\n",
       "\n"
      ],
      "text/plain": [
       "[1] 63  2"
      ]
     },
     "metadata": {},
     "output_type": "display_data"
    },
    {
     "data": {
      "text/html": [
       "<table class=\"dataframe\">\n",
       "<caption>A tibble: 6 × 2</caption>\n",
       "<thead>\n",
       "\t<tr><th scope=col>celltype</th><th scope=col>total_degs_counts</th></tr>\n",
       "\t<tr><th scope=col>&lt;chr&gt;</th><th scope=col>&lt;int&gt;</th></tr>\n",
       "</thead>\n",
       "<tbody>\n",
       "\t<tr><td>CM CD4 T cell            </td><td>2393</td></tr>\n",
       "\t<tr><td>Core naive CD4 T cell    </td><td>2282</td></tr>\n",
       "\t<tr><td>Core CD16 monocyte       </td><td>2019</td></tr>\n",
       "\t<tr><td>Core naive CD8 T cell    </td><td>1713</td></tr>\n",
       "\t<tr><td>GZMK+ CD27+ EM CD8 T cell</td><td>1478</td></tr>\n",
       "\t<tr><td>Core naive B cell        </td><td>1421</td></tr>\n",
       "</tbody>\n",
       "</table>\n"
      ],
      "text/latex": [
       "A tibble: 6 × 2\n",
       "\\begin{tabular}{ll}\n",
       " celltype & total\\_degs\\_counts\\\\\n",
       " <chr> & <int>\\\\\n",
       "\\hline\n",
       "\t CM CD4 T cell             & 2393\\\\\n",
       "\t Core naive CD4 T cell     & 2282\\\\\n",
       "\t Core CD16 monocyte        & 2019\\\\\n",
       "\t Core naive CD8 T cell     & 1713\\\\\n",
       "\t GZMK+ CD27+ EM CD8 T cell & 1478\\\\\n",
       "\t Core naive B cell         & 1421\\\\\n",
       "\\end{tabular}\n"
      ],
      "text/markdown": [
       "\n",
       "A tibble: 6 × 2\n",
       "\n",
       "| celltype &lt;chr&gt; | total_degs_counts &lt;int&gt; |\n",
       "|---|---|\n",
       "| CM CD4 T cell             | 2393 |\n",
       "| Core naive CD4 T cell     | 2282 |\n",
       "| Core CD16 monocyte        | 2019 |\n",
       "| Core naive CD8 T cell     | 1713 |\n",
       "| GZMK+ CD27+ EM CD8 T cell | 1478 |\n",
       "| Core naive B cell         | 1421 |\n",
       "\n"
      ],
      "text/plain": [
       "  celltype                  total_degs_counts\n",
       "1 CM CD4 T cell             2393             \n",
       "2 Core naive CD4 T cell     2282             \n",
       "3 Core CD16 monocyte        2019             \n",
       "4 Core naive CD8 T cell     1713             \n",
       "5 GZMK+ CD27+ EM CD8 T cell 1478             \n",
       "6 Core naive B cell         1421             "
      ]
     },
     "metadata": {},
     "output_type": "display_data"
    }
   ],
   "source": [
    "# getting the absolute count of DEGs \n",
    "total_degs<- deg_counts %>% \n",
    "    group_by(celltype) %>% \n",
    "    summarize(total_degs_counts = sum(abs(deg_counts))) %>%\n",
    "    arrange(desc(total_degs_counts))\n",
    "total_degs%>%dim\n",
    "total_degs%>%head()"
   ]
  },
  {
   "cell_type": "code",
   "execution_count": 10,
   "id": "d144d800-ec32-4188-bc6f-fa8ccd718afd",
   "metadata": {},
   "outputs": [
    {
     "data": {
      "text/html": [
       "<table class=\"dataframe\">\n",
       "<caption>A data.frame: 3 × 8</caption>\n",
       "<thead>\n",
       "\t<tr><th></th><th scope=col>AIFI_L3_new</th><th scope=col>term</th><th scope=col>estimate</th><th scope=col>std.error</th><th scope=col>statistic</th><th scope=col>p.value</th><th scope=col>cell_type</th><th scope=col>p.value.adj</th></tr>\n",
       "\t<tr><th></th><th scope=col>&lt;chr&gt;</th><th scope=col>&lt;chr&gt;</th><th scope=col>&lt;dbl&gt;</th><th scope=col>&lt;dbl&gt;</th><th scope=col>&lt;dbl&gt;</th><th scope=col>&lt;dbl&gt;</th><th scope=col>&lt;chr&gt;</th><th scope=col>&lt;dbl&gt;</th></tr>\n",
       "</thead>\n",
       "<tbody>\n",
       "\t<tr><th scope=row>1</th><td>Intermediate monocyte</td><td>Status_Xsecat_risk</td><td>0.8433456</td><td>0.2063163</td><td>4.087634</td><td>0.0001132528</td><td>Intermediate monocyte</td><td>0.009060224</td></tr>\n",
       "\t<tr><th scope=row>2</th><td>CM CD4 T cell        </td><td>Status_Xsecat_risk</td><td>0.3046737</td><td>0.0983913</td><td>3.096551</td><td>0.0028026796</td><td>CM CD4 T cell        </td><td>0.112107186</td></tr>\n",
       "\t<tr><th scope=row>3</th><td>HLA-DRhi cDC2        </td><td>Status_Xsecat_risk</td><td>0.3801467</td><td>0.1535190</td><td>2.476219</td><td>0.0156638157</td><td>HLA-DRhi cDC2        </td><td>0.250621051</td></tr>\n",
       "</tbody>\n",
       "</table>\n"
      ],
      "text/latex": [
       "A data.frame: 3 × 8\n",
       "\\begin{tabular}{r|llllllll}\n",
       "  & AIFI\\_L3\\_new & term & estimate & std.error & statistic & p.value & cell\\_type & p.value.adj\\\\\n",
       "  & <chr> & <chr> & <dbl> & <dbl> & <dbl> & <dbl> & <chr> & <dbl>\\\\\n",
       "\\hline\n",
       "\t1 & Intermediate monocyte & Status\\_Xsecat\\_risk & 0.8433456 & 0.2063163 & 4.087634 & 0.0001132528 & Intermediate monocyte & 0.009060224\\\\\n",
       "\t2 & CM CD4 T cell         & Status\\_Xsecat\\_risk & 0.3046737 & 0.0983913 & 3.096551 & 0.0028026796 & CM CD4 T cell         & 0.112107186\\\\\n",
       "\t3 & HLA-DRhi cDC2         & Status\\_Xsecat\\_risk & 0.3801467 & 0.1535190 & 2.476219 & 0.0156638157 & HLA-DRhi cDC2         & 0.250621051\\\\\n",
       "\\end{tabular}\n"
      ],
      "text/markdown": [
       "\n",
       "A data.frame: 3 × 8\n",
       "\n",
       "| <!--/--> | AIFI_L3_new &lt;chr&gt; | term &lt;chr&gt; | estimate &lt;dbl&gt; | std.error &lt;dbl&gt; | statistic &lt;dbl&gt; | p.value &lt;dbl&gt; | cell_type &lt;chr&gt; | p.value.adj &lt;dbl&gt; |\n",
       "|---|---|---|---|---|---|---|---|---|\n",
       "| 1 | Intermediate monocyte | Status_Xsecat_risk | 0.8433456 | 0.2063163 | 4.087634 | 0.0001132528 | Intermediate monocyte | 0.009060224 |\n",
       "| 2 | CM CD4 T cell         | Status_Xsecat_risk | 0.3046737 | 0.0983913 | 3.096551 | 0.0028026796 | CM CD4 T cell         | 0.112107186 |\n",
       "| 3 | HLA-DRhi cDC2         | Status_Xsecat_risk | 0.3801467 | 0.1535190 | 2.476219 | 0.0156638157 | HLA-DRhi cDC2         | 0.250621051 |\n",
       "\n"
      ],
      "text/plain": [
       "  AIFI_L3_new           term               estimate  std.error statistic\n",
       "1 Intermediate monocyte Status_Xsecat_risk 0.8433456 0.2063163 4.087634 \n",
       "2 CM CD4 T cell         Status_Xsecat_risk 0.3046737 0.0983913 3.096551 \n",
       "3 HLA-DRhi cDC2         Status_Xsecat_risk 0.3801467 0.1535190 2.476219 \n",
       "  p.value      cell_type             p.value.adj\n",
       "1 0.0001132528 Intermediate monocyte 0.009060224\n",
       "2 0.0028026796 CM CD4 T cell         0.112107186\n",
       "3 0.0156638157 HLA-DRhi cDC2         0.250621051"
      ]
     },
     "metadata": {},
     "output_type": "display_data"
    },
    {
     "data": {
      "text/html": [
       "<style>\n",
       ".list-inline {list-style: none; margin:0; padding: 0}\n",
       ".list-inline>li {display: inline-block}\n",
       ".list-inline>li:not(:last-child)::after {content: \"\\00b7\"; padding: 0 .5ex}\n",
       "</style>\n",
       "<ol class=list-inline><li>80</li><li>8</li></ol>\n"
      ],
      "text/latex": [
       "\\begin{enumerate*}\n",
       "\\item 80\n",
       "\\item 8\n",
       "\\end{enumerate*}\n"
      ],
      "text/markdown": [
       "1. 80\n",
       "2. 8\n",
       "\n",
       "\n"
      ],
      "text/plain": [
       "[1] 80  8"
      ]
     },
     "metadata": {},
     "output_type": "display_data"
    }
   ],
   "source": [
    "# Loading the DA results\n",
    "frequency_a1=read.csv(\"/home/jupyter/ALTRA_ANALYSIS/Deep_clean/Figure_notebooks/files/input_files/certpro_Zi_files/DA_results/ALTRA_scRNA_AIFI_L3_deepclean_certpro_AIM1_frequency_DA_results.csv\")\n",
    "frequency_a1%>%head(3)\n",
    "frequency_a1%>%dim"
   ]
  },
  {
   "cell_type": "code",
   "execution_count": 11,
   "id": "e0d91c22-00bf-44f0-af16-20972619567a",
   "metadata": {},
   "outputs": [
    {
     "data": {
      "text/html": [
       "<table class=\"dataframe\">\n",
       "<caption>A data.frame: 2 × 8</caption>\n",
       "<thead>\n",
       "\t<tr><th></th><th scope=col>AIFI_L3_new</th><th scope=col>term</th><th scope=col>estimate</th><th scope=col>std.error</th><th scope=col>statistic</th><th scope=col>p.value</th><th scope=col>celltype</th><th scope=col>p.value.adj</th></tr>\n",
       "\t<tr><th></th><th scope=col>&lt;chr&gt;</th><th scope=col>&lt;chr&gt;</th><th scope=col>&lt;dbl&gt;</th><th scope=col>&lt;dbl&gt;</th><th scope=col>&lt;dbl&gt;</th><th scope=col>&lt;dbl&gt;</th><th scope=col>&lt;chr&gt;</th><th scope=col>&lt;dbl&gt;</th></tr>\n",
       "</thead>\n",
       "<tbody>\n",
       "\t<tr><th scope=row>1</th><td>Intermediate monocyte</td><td>Status_Xsecat_risk</td><td>0.8433456</td><td>0.2063163</td><td>4.087634</td><td>0.0001132528</td><td>Intermediate monocyte</td><td>0.009060224</td></tr>\n",
       "\t<tr><th scope=row>2</th><td>CM CD4 T cell        </td><td>Status_Xsecat_risk</td><td>0.3046737</td><td>0.0983913</td><td>3.096551</td><td>0.0028026796</td><td>CM CD4 T cell        </td><td>0.112107186</td></tr>\n",
       "</tbody>\n",
       "</table>\n"
      ],
      "text/latex": [
       "A data.frame: 2 × 8\n",
       "\\begin{tabular}{r|llllllll}\n",
       "  & AIFI\\_L3\\_new & term & estimate & std.error & statistic & p.value & celltype & p.value.adj\\\\\n",
       "  & <chr> & <chr> & <dbl> & <dbl> & <dbl> & <dbl> & <chr> & <dbl>\\\\\n",
       "\\hline\n",
       "\t1 & Intermediate monocyte & Status\\_Xsecat\\_risk & 0.8433456 & 0.2063163 & 4.087634 & 0.0001132528 & Intermediate monocyte & 0.009060224\\\\\n",
       "\t2 & CM CD4 T cell         & Status\\_Xsecat\\_risk & 0.3046737 & 0.0983913 & 3.096551 & 0.0028026796 & CM CD4 T cell         & 0.112107186\\\\\n",
       "\\end{tabular}\n"
      ],
      "text/markdown": [
       "\n",
       "A data.frame: 2 × 8\n",
       "\n",
       "| <!--/--> | AIFI_L3_new &lt;chr&gt; | term &lt;chr&gt; | estimate &lt;dbl&gt; | std.error &lt;dbl&gt; | statistic &lt;dbl&gt; | p.value &lt;dbl&gt; | celltype &lt;chr&gt; | p.value.adj &lt;dbl&gt; |\n",
       "|---|---|---|---|---|---|---|---|---|\n",
       "| 1 | Intermediate monocyte | Status_Xsecat_risk | 0.8433456 | 0.2063163 | 4.087634 | 0.0001132528 | Intermediate monocyte | 0.009060224 |\n",
       "| 2 | CM CD4 T cell         | Status_Xsecat_risk | 0.3046737 | 0.0983913 | 3.096551 | 0.0028026796 | CM CD4 T cell         | 0.112107186 |\n",
       "\n"
      ],
      "text/plain": [
       "  AIFI_L3_new           term               estimate  std.error statistic\n",
       "1 Intermediate monocyte Status_Xsecat_risk 0.8433456 0.2063163 4.087634 \n",
       "2 CM CD4 T cell         Status_Xsecat_risk 0.3046737 0.0983913 3.096551 \n",
       "  p.value      celltype              p.value.adj\n",
       "1 0.0001132528 Intermediate monocyte 0.009060224\n",
       "2 0.0028026796 CM CD4 T cell         0.112107186"
      ]
     },
     "metadata": {},
     "output_type": "display_data"
    }
   ],
   "source": [
    "## renaming the cell_type column as \"celltype\" for easy downstream analysis\n",
    "frequency_a1=frequency_a1%>%rename(celltype=cell_type)\n",
    "frequency_a1%>%head(2)"
   ]
  },
  {
   "cell_type": "code",
   "execution_count": 12,
   "id": "7a0b3397-e02a-40c3-8b85-5f5dfeda2e3b",
   "metadata": {},
   "outputs": [
    {
     "data": {
      "text/html": [
       "<table class=\"dataframe\">\n",
       "<caption>A data.frame: 3 × 9</caption>\n",
       "<thead>\n",
       "\t<tr><th></th><th scope=col>AIFI_L3_new</th><th scope=col>term</th><th scope=col>estimate</th><th scope=col>std.error</th><th scope=col>statistic</th><th scope=col>p.value</th><th scope=col>celltype</th><th scope=col>p.value.adj</th><th scope=col>total_degs_counts</th></tr>\n",
       "\t<tr><th></th><th scope=col>&lt;chr&gt;</th><th scope=col>&lt;chr&gt;</th><th scope=col>&lt;dbl&gt;</th><th scope=col>&lt;dbl&gt;</th><th scope=col>&lt;dbl&gt;</th><th scope=col>&lt;dbl&gt;</th><th scope=col>&lt;chr&gt;</th><th scope=col>&lt;dbl&gt;</th><th scope=col>&lt;int&gt;</th></tr>\n",
       "</thead>\n",
       "<tbody>\n",
       "\t<tr><th scope=row>1</th><td>Intermediate monocyte</td><td>Status_Xsecat_risk</td><td>0.8433456</td><td>0.2063163</td><td>4.087634</td><td>0.0001132528</td><td>Intermediate monocyte</td><td>0.009060224</td><td> 100</td></tr>\n",
       "\t<tr><th scope=row>2</th><td>CM CD4 T cell        </td><td>Status_Xsecat_risk</td><td>0.3046737</td><td>0.0983913</td><td>3.096551</td><td>0.0028026796</td><td>CM CD4 T cell        </td><td>0.112107186</td><td>2393</td></tr>\n",
       "\t<tr><th scope=row>3</th><td>HLA-DRhi cDC2        </td><td>Status_Xsecat_risk</td><td>0.3801467</td><td>0.1535190</td><td>2.476219</td><td>0.0156638157</td><td>HLA-DRhi cDC2        </td><td>0.250621051</td><td> 641</td></tr>\n",
       "</tbody>\n",
       "</table>\n"
      ],
      "text/latex": [
       "A data.frame: 3 × 9\n",
       "\\begin{tabular}{r|lllllllll}\n",
       "  & AIFI\\_L3\\_new & term & estimate & std.error & statistic & p.value & celltype & p.value.adj & total\\_degs\\_counts\\\\\n",
       "  & <chr> & <chr> & <dbl> & <dbl> & <dbl> & <dbl> & <chr> & <dbl> & <int>\\\\\n",
       "\\hline\n",
       "\t1 & Intermediate monocyte & Status\\_Xsecat\\_risk & 0.8433456 & 0.2063163 & 4.087634 & 0.0001132528 & Intermediate monocyte & 0.009060224 &  100\\\\\n",
       "\t2 & CM CD4 T cell         & Status\\_Xsecat\\_risk & 0.3046737 & 0.0983913 & 3.096551 & 0.0028026796 & CM CD4 T cell         & 0.112107186 & 2393\\\\\n",
       "\t3 & HLA-DRhi cDC2         & Status\\_Xsecat\\_risk & 0.3801467 & 0.1535190 & 2.476219 & 0.0156638157 & HLA-DRhi cDC2         & 0.250621051 &  641\\\\\n",
       "\\end{tabular}\n"
      ],
      "text/markdown": [
       "\n",
       "A data.frame: 3 × 9\n",
       "\n",
       "| <!--/--> | AIFI_L3_new &lt;chr&gt; | term &lt;chr&gt; | estimate &lt;dbl&gt; | std.error &lt;dbl&gt; | statistic &lt;dbl&gt; | p.value &lt;dbl&gt; | celltype &lt;chr&gt; | p.value.adj &lt;dbl&gt; | total_degs_counts &lt;int&gt; |\n",
       "|---|---|---|---|---|---|---|---|---|---|\n",
       "| 1 | Intermediate monocyte | Status_Xsecat_risk | 0.8433456 | 0.2063163 | 4.087634 | 0.0001132528 | Intermediate monocyte | 0.009060224 |  100 |\n",
       "| 2 | CM CD4 T cell         | Status_Xsecat_risk | 0.3046737 | 0.0983913 | 3.096551 | 0.0028026796 | CM CD4 T cell         | 0.112107186 | 2393 |\n",
       "| 3 | HLA-DRhi cDC2         | Status_Xsecat_risk | 0.3801467 | 0.1535190 | 2.476219 | 0.0156638157 | HLA-DRhi cDC2         | 0.250621051 |  641 |\n",
       "\n"
      ],
      "text/plain": [
       "  AIFI_L3_new           term               estimate  std.error statistic\n",
       "1 Intermediate monocyte Status_Xsecat_risk 0.8433456 0.2063163 4.087634 \n",
       "2 CM CD4 T cell         Status_Xsecat_risk 0.3046737 0.0983913 3.096551 \n",
       "3 HLA-DRhi cDC2         Status_Xsecat_risk 0.3801467 0.1535190 2.476219 \n",
       "  p.value      celltype              p.value.adj total_degs_counts\n",
       "1 0.0001132528 Intermediate monocyte 0.009060224  100             \n",
       "2 0.0028026796 CM CD4 T cell         0.112107186 2393             \n",
       "3 0.0156638157 HLA-DRhi cDC2         0.250621051  641             "
      ]
     },
     "metadata": {},
     "output_type": "display_data"
    },
    {
     "data": {
      "text/html": [
       "<style>\n",
       ".list-inline {list-style: none; margin:0; padding: 0}\n",
       ".list-inline>li {display: inline-block}\n",
       ".list-inline>li:not(:last-child)::after {content: \"\\00b7\"; padding: 0 .5ex}\n",
       "</style>\n",
       "<ol class=list-inline><li>80</li><li>9</li></ol>\n"
      ],
      "text/latex": [
       "\\begin{enumerate*}\n",
       "\\item 80\n",
       "\\item 9\n",
       "\\end{enumerate*}\n"
      ],
      "text/markdown": [
       "1. 80\n",
       "2. 9\n",
       "\n",
       "\n"
      ],
      "text/plain": [
       "[1] 80  9"
      ]
     },
     "metadata": {},
     "output_type": "display_data"
    }
   ],
   "source": [
    "# mering the DA and DEG results \n",
    "merged_df <- left_join(frequency_a1, total_degs, by = \"celltype\")\n",
    "merged_df%>%head(3)\n",
    "merged_df%>%dim"
   ]
  },
  {
   "cell_type": "code",
   "execution_count": 13,
   "id": "ffdeb67c-182c-4969-9db9-9a1583839463",
   "metadata": {},
   "outputs": [
    {
     "data": {
      "text/html": [
       "<table class=\"dataframe\">\n",
       "<caption>A data.frame: 2 × 10</caption>\n",
       "<thead>\n",
       "\t<tr><th></th><th scope=col>AIFI_L3_new</th><th scope=col>term</th><th scope=col>estimate</th><th scope=col>std.error</th><th scope=col>statistic</th><th scope=col>p.value</th><th scope=col>celltype</th><th scope=col>p.value.adj</th><th scope=col>total_degs_counts</th><th scope=col>Total_DEGs</th></tr>\n",
       "\t<tr><th></th><th scope=col>&lt;chr&gt;</th><th scope=col>&lt;chr&gt;</th><th scope=col>&lt;dbl&gt;</th><th scope=col>&lt;dbl&gt;</th><th scope=col>&lt;dbl&gt;</th><th scope=col>&lt;dbl&gt;</th><th scope=col>&lt;chr&gt;</th><th scope=col>&lt;dbl&gt;</th><th scope=col>&lt;int&gt;</th><th scope=col>&lt;dbl&gt;</th></tr>\n",
       "</thead>\n",
       "<tbody>\n",
       "\t<tr><th scope=row>1</th><td>Intermediate monocyte</td><td>Status_Xsecat_risk</td><td>0.8433456</td><td>0.2063163</td><td>4.087634</td><td>0.0001132528</td><td>Intermediate monocyte</td><td>0.009060224</td><td> 100</td><td> 100</td></tr>\n",
       "\t<tr><th scope=row>2</th><td>CM CD4 T cell        </td><td>Status_Xsecat_risk</td><td>0.3046737</td><td>0.0983913</td><td>3.096551</td><td>0.0028026796</td><td>CM CD4 T cell        </td><td>0.112107186</td><td>2393</td><td>2393</td></tr>\n",
       "</tbody>\n",
       "</table>\n"
      ],
      "text/latex": [
       "A data.frame: 2 × 10\n",
       "\\begin{tabular}{r|llllllllll}\n",
       "  & AIFI\\_L3\\_new & term & estimate & std.error & statistic & p.value & celltype & p.value.adj & total\\_degs\\_counts & Total\\_DEGs\\\\\n",
       "  & <chr> & <chr> & <dbl> & <dbl> & <dbl> & <dbl> & <chr> & <dbl> & <int> & <dbl>\\\\\n",
       "\\hline\n",
       "\t1 & Intermediate monocyte & Status\\_Xsecat\\_risk & 0.8433456 & 0.2063163 & 4.087634 & 0.0001132528 & Intermediate monocyte & 0.009060224 &  100 &  100\\\\\n",
       "\t2 & CM CD4 T cell         & Status\\_Xsecat\\_risk & 0.3046737 & 0.0983913 & 3.096551 & 0.0028026796 & CM CD4 T cell         & 0.112107186 & 2393 & 2393\\\\\n",
       "\\end{tabular}\n"
      ],
      "text/markdown": [
       "\n",
       "A data.frame: 2 × 10\n",
       "\n",
       "| <!--/--> | AIFI_L3_new &lt;chr&gt; | term &lt;chr&gt; | estimate &lt;dbl&gt; | std.error &lt;dbl&gt; | statistic &lt;dbl&gt; | p.value &lt;dbl&gt; | celltype &lt;chr&gt; | p.value.adj &lt;dbl&gt; | total_degs_counts &lt;int&gt; | Total_DEGs &lt;dbl&gt; |\n",
       "|---|---|---|---|---|---|---|---|---|---|---|\n",
       "| 1 | Intermediate monocyte | Status_Xsecat_risk | 0.8433456 | 0.2063163 | 4.087634 | 0.0001132528 | Intermediate monocyte | 0.009060224 |  100 |  100 |\n",
       "| 2 | CM CD4 T cell         | Status_Xsecat_risk | 0.3046737 | 0.0983913 | 3.096551 | 0.0028026796 | CM CD4 T cell         | 0.112107186 | 2393 | 2393 |\n",
       "\n"
      ],
      "text/plain": [
       "  AIFI_L3_new           term               estimate  std.error statistic\n",
       "1 Intermediate monocyte Status_Xsecat_risk 0.8433456 0.2063163 4.087634 \n",
       "2 CM CD4 T cell         Status_Xsecat_risk 0.3046737 0.0983913 3.096551 \n",
       "  p.value      celltype              p.value.adj total_degs_counts Total_DEGs\n",
       "1 0.0001132528 Intermediate monocyte 0.009060224  100               100      \n",
       "2 0.0028026796 CM CD4 T cell         0.112107186 2393              2393      "
      ]
     },
     "metadata": {},
     "output_type": "display_data"
    },
    {
     "data": {
      "text/html": [
       "<style>\n",
       ".list-inline {list-style: none; margin:0; padding: 0}\n",
       ".list-inline>li {display: inline-block}\n",
       ".list-inline>li:not(:last-child)::after {content: \"\\00b7\"; padding: 0 .5ex}\n",
       "</style>\n",
       "<ol class=list-inline><li>0</li><li>10</li></ol>\n"
      ],
      "text/latex": [
       "\\begin{enumerate*}\n",
       "\\item 0\n",
       "\\item 10\n",
       "\\end{enumerate*}\n"
      ],
      "text/markdown": [
       "1. 0\n",
       "2. 10\n",
       "\n",
       "\n"
      ],
      "text/plain": [
       "[1]  0 10"
      ]
     },
     "metadata": {},
     "output_type": "display_data"
    }
   ],
   "source": [
    "#Creating a new column \"Total_DEGs\" and fill 0 for NA values in total_degs_counts\n",
    "merged_df <- merged_df %>% mutate(Total_DEGs = ifelse(is.na(total_degs_counts), 0, total_degs_counts))\n",
    "merged_df%>%head(2)\n",
    "merged_df %>%filter(is.na(Total_DEGs))%>%dim"
   ]
  },
  {
   "cell_type": "code",
   "execution_count": 14,
   "id": "0df44eb1-f11a-4f41-9107-f753c903f735",
   "metadata": {},
   "outputs": [
    {
     "data": {
      "text/html": [
       "<style>\n",
       ".list-inline {list-style: none; margin:0; padding: 0}\n",
       ".list-inline>li {display: inline-block}\n",
       ".list-inline>li:not(:last-child)::after {content: \"\\00b7\"; padding: 0 .5ex}\n",
       "</style>\n",
       "<ol class=list-inline><li>80</li><li>10</li></ol>\n"
      ],
      "text/latex": [
       "\\begin{enumerate*}\n",
       "\\item 80\n",
       "\\item 10\n",
       "\\end{enumerate*}\n"
      ],
      "text/markdown": [
       "1. 80\n",
       "2. 10\n",
       "\n",
       "\n"
      ],
      "text/plain": [
       "[1] 80 10"
      ]
     },
     "metadata": {},
     "output_type": "display_data"
    }
   ],
   "source": [
    "merged_df%>%dim"
   ]
  },
  {
   "cell_type": "code",
   "execution_count": 15,
   "id": "d101374f-d01b-410a-811f-df8e02e68c96",
   "metadata": {},
   "outputs": [
    {
     "data": {
      "text/html": [
       "<table class=\"dataframe\">\n",
       "<caption>A data.frame: 3 × 3</caption>\n",
       "<thead>\n",
       "\t<tr><th></th><th scope=col>xpos</th><th scope=col>celltype</th><th scope=col>color</th></tr>\n",
       "\t<tr><th></th><th scope=col>&lt;int&gt;</th><th scope=col>&lt;chr&gt;</th><th scope=col>&lt;chr&gt;</th></tr>\n",
       "</thead>\n",
       "<tbody>\n",
       "\t<tr><th scope=row>1</th><td>1</td><td>SOX4+ naive CD4 T cell</td><td>#2B5777</td></tr>\n",
       "\t<tr><th scope=row>2</th><td>2</td><td>Core naive CD4 T cell </td><td>#597FC6</td></tr>\n",
       "\t<tr><th scope=row>3</th><td>3</td><td>ISG+ naive CD4 T cell </td><td>#072E77</td></tr>\n",
       "</tbody>\n",
       "</table>\n"
      ],
      "text/latex": [
       "A data.frame: 3 × 3\n",
       "\\begin{tabular}{r|lll}\n",
       "  & xpos & celltype & color\\\\\n",
       "  & <int> & <chr> & <chr>\\\\\n",
       "\\hline\n",
       "\t1 & 1 & SOX4+ naive CD4 T cell & \\#2B5777\\\\\n",
       "\t2 & 2 & Core naive CD4 T cell  & \\#597FC6\\\\\n",
       "\t3 & 3 & ISG+ naive CD4 T cell  & \\#072E77\\\\\n",
       "\\end{tabular}\n"
      ],
      "text/markdown": [
       "\n",
       "A data.frame: 3 × 3\n",
       "\n",
       "| <!--/--> | xpos &lt;int&gt; | celltype &lt;chr&gt; | color &lt;chr&gt; |\n",
       "|---|---|---|---|\n",
       "| 1 | 1 | SOX4+ naive CD4 T cell | #2B5777 |\n",
       "| 2 | 2 | Core naive CD4 T cell  | #597FC6 |\n",
       "| 3 | 3 | ISG+ naive CD4 T cell  | #072E77 |\n",
       "\n"
      ],
      "text/plain": [
       "  xpos celltype               color  \n",
       "1 1    SOX4+ naive CD4 T cell #2B5777\n",
       "2 2    Core naive CD4 T cell  #597FC6\n",
       "3 3    ISG+ naive CD4 T cell  #072E77"
      ]
     },
     "metadata": {},
     "output_type": "display_data"
    }
   ],
   "source": [
    "# Reading the IH color file\n",
    "IH_color_df=read.csv(\"/home/jupyter/ALTRA_ANALYSIS/Deep_clean/Figure_notebooks/files/input_files/Color_Annotation_and_Order_FINAL 1.csv\")\n",
    "IH_color_df <- IH_color_df %>% rename(celltype = label)\n",
    "IH_color_df%>%head(3)"
   ]
  },
  {
   "cell_type": "code",
   "execution_count": 16,
   "id": "ebf9801e-c1b5-46c4-9019-66757b1b7149",
   "metadata": {},
   "outputs": [
    {
     "data": {
      "text/html": [
       "<table class=\"dataframe\">\n",
       "<caption>A data.frame: 3 × 12</caption>\n",
       "<thead>\n",
       "\t<tr><th></th><th scope=col>AIFI_L3_new</th><th scope=col>term</th><th scope=col>estimate</th><th scope=col>std.error</th><th scope=col>statistic</th><th scope=col>p.value</th><th scope=col>celltype</th><th scope=col>p.value.adj</th><th scope=col>total_degs_counts</th><th scope=col>Total_DEGs</th><th scope=col>xpos</th><th scope=col>color</th></tr>\n",
       "\t<tr><th></th><th scope=col>&lt;chr&gt;</th><th scope=col>&lt;chr&gt;</th><th scope=col>&lt;dbl&gt;</th><th scope=col>&lt;dbl&gt;</th><th scope=col>&lt;dbl&gt;</th><th scope=col>&lt;dbl&gt;</th><th scope=col>&lt;chr&gt;</th><th scope=col>&lt;dbl&gt;</th><th scope=col>&lt;int&gt;</th><th scope=col>&lt;dbl&gt;</th><th scope=col>&lt;int&gt;</th><th scope=col>&lt;chr&gt;</th></tr>\n",
       "</thead>\n",
       "<tbody>\n",
       "\t<tr><th scope=row>1</th><td>Intermediate monocyte</td><td>Status_Xsecat_risk</td><td>0.8433456</td><td>0.2063163</td><td>4.087634</td><td>0.0001132528</td><td>Intermediate monocyte</td><td>0.009060224</td><td> 100</td><td> 100</td><td>56</td><td>#B75228</td></tr>\n",
       "\t<tr><th scope=row>2</th><td>CM CD4 T cell        </td><td>Status_Xsecat_risk</td><td>0.3046737</td><td>0.0983913</td><td>3.096551</td><td>0.0028026796</td><td>CM CD4 T cell        </td><td>0.112107186</td><td>2393</td><td>2393</td><td> 4</td><td>#6793A4</td></tr>\n",
       "\t<tr><th scope=row>3</th><td>HLA-DRhi cDC2        </td><td>Status_Xsecat_risk</td><td>0.3801467</td><td>0.1535190</td><td>2.476219</td><td>0.0156638157</td><td>HLA-DRhi cDC2        </td><td>0.250621051</td><td> 641</td><td> 641</td><td>61</td><td>#BE6E23</td></tr>\n",
       "</tbody>\n",
       "</table>\n"
      ],
      "text/latex": [
       "A data.frame: 3 × 12\n",
       "\\begin{tabular}{r|llllllllllll}\n",
       "  & AIFI\\_L3\\_new & term & estimate & std.error & statistic & p.value & celltype & p.value.adj & total\\_degs\\_counts & Total\\_DEGs & xpos & color\\\\\n",
       "  & <chr> & <chr> & <dbl> & <dbl> & <dbl> & <dbl> & <chr> & <dbl> & <int> & <dbl> & <int> & <chr>\\\\\n",
       "\\hline\n",
       "\t1 & Intermediate monocyte & Status\\_Xsecat\\_risk & 0.8433456 & 0.2063163 & 4.087634 & 0.0001132528 & Intermediate monocyte & 0.009060224 &  100 &  100 & 56 & \\#B75228\\\\\n",
       "\t2 & CM CD4 T cell         & Status\\_Xsecat\\_risk & 0.3046737 & 0.0983913 & 3.096551 & 0.0028026796 & CM CD4 T cell         & 0.112107186 & 2393 & 2393 &  4 & \\#6793A4\\\\\n",
       "\t3 & HLA-DRhi cDC2         & Status\\_Xsecat\\_risk & 0.3801467 & 0.1535190 & 2.476219 & 0.0156638157 & HLA-DRhi cDC2         & 0.250621051 &  641 &  641 & 61 & \\#BE6E23\\\\\n",
       "\\end{tabular}\n"
      ],
      "text/markdown": [
       "\n",
       "A data.frame: 3 × 12\n",
       "\n",
       "| <!--/--> | AIFI_L3_new &lt;chr&gt; | term &lt;chr&gt; | estimate &lt;dbl&gt; | std.error &lt;dbl&gt; | statistic &lt;dbl&gt; | p.value &lt;dbl&gt; | celltype &lt;chr&gt; | p.value.adj &lt;dbl&gt; | total_degs_counts &lt;int&gt; | Total_DEGs &lt;dbl&gt; | xpos &lt;int&gt; | color &lt;chr&gt; |\n",
       "|---|---|---|---|---|---|---|---|---|---|---|---|---|\n",
       "| 1 | Intermediate monocyte | Status_Xsecat_risk | 0.8433456 | 0.2063163 | 4.087634 | 0.0001132528 | Intermediate monocyte | 0.009060224 |  100 |  100 | 56 | #B75228 |\n",
       "| 2 | CM CD4 T cell         | Status_Xsecat_risk | 0.3046737 | 0.0983913 | 3.096551 | 0.0028026796 | CM CD4 T cell         | 0.112107186 | 2393 | 2393 |  4 | #6793A4 |\n",
       "| 3 | HLA-DRhi cDC2         | Status_Xsecat_risk | 0.3801467 | 0.1535190 | 2.476219 | 0.0156638157 | HLA-DRhi cDC2         | 0.250621051 |  641 |  641 | 61 | #BE6E23 |\n",
       "\n"
      ],
      "text/plain": [
       "  AIFI_L3_new           term               estimate  std.error statistic\n",
       "1 Intermediate monocyte Status_Xsecat_risk 0.8433456 0.2063163 4.087634 \n",
       "2 CM CD4 T cell         Status_Xsecat_risk 0.3046737 0.0983913 3.096551 \n",
       "3 HLA-DRhi cDC2         Status_Xsecat_risk 0.3801467 0.1535190 2.476219 \n",
       "  p.value      celltype              p.value.adj total_degs_counts Total_DEGs\n",
       "1 0.0001132528 Intermediate monocyte 0.009060224  100               100      \n",
       "2 0.0028026796 CM CD4 T cell         0.112107186 2393              2393      \n",
       "3 0.0156638157 HLA-DRhi cDC2         0.250621051  641               641      \n",
       "  xpos color  \n",
       "1 56   #B75228\n",
       "2  4   #6793A4\n",
       "3 61   #BE6E23"
      ]
     },
     "metadata": {},
     "output_type": "display_data"
    },
    {
     "data": {
      "text/html": [
       "<style>\n",
       ".list-inline {list-style: none; margin:0; padding: 0}\n",
       ".list-inline>li {display: inline-block}\n",
       ".list-inline>li:not(:last-child)::after {content: \"\\00b7\"; padding: 0 .5ex}\n",
       "</style>\n",
       "<ol class=list-inline><li>80</li><li>12</li></ol>\n"
      ],
      "text/latex": [
       "\\begin{enumerate*}\n",
       "\\item 80\n",
       "\\item 12\n",
       "\\end{enumerate*}\n"
      ],
      "text/markdown": [
       "1. 80\n",
       "2. 12\n",
       "\n",
       "\n"
      ],
      "text/plain": [
       "[1] 80 12"
      ]
     },
     "metadata": {},
     "output_type": "display_data"
    }
   ],
   "source": [
    "# merging it with the merged df of DA and DEG results\n",
    "merged_df<- left_join(merged_df, IH_color_df, by = \"celltype\")\n",
    "merged_df%>%head(3)\n",
    "merged_df%>%dim"
   ]
  },
  {
   "cell_type": "code",
   "execution_count": 17,
   "id": "eb070432-7f70-4c85-b3d7-629b456973af",
   "metadata": {},
   "outputs": [
    {
     "data": {
      "text/html": [
       "<table class=\"dataframe\">\n",
       "<caption>A data.frame: 3 × 13</caption>\n",
       "<thead>\n",
       "\t<tr><th></th><th scope=col>AIFI_L3_new</th><th scope=col>term</th><th scope=col>estimate</th><th scope=col>std.error</th><th scope=col>statistic</th><th scope=col>p.value</th><th scope=col>celltype</th><th scope=col>p.value.adj</th><th scope=col>total_degs_counts</th><th scope=col>Total_DEGs</th><th scope=col>xpos</th><th scope=col>color</th><th scope=col>adjP_degs_combined_value</th></tr>\n",
       "\t<tr><th></th><th scope=col>&lt;chr&gt;</th><th scope=col>&lt;chr&gt;</th><th scope=col>&lt;dbl&gt;</th><th scope=col>&lt;dbl&gt;</th><th scope=col>&lt;dbl&gt;</th><th scope=col>&lt;dbl&gt;</th><th scope=col>&lt;chr&gt;</th><th scope=col>&lt;dbl&gt;</th><th scope=col>&lt;int&gt;</th><th scope=col>&lt;dbl&gt;</th><th scope=col>&lt;int&gt;</th><th scope=col>&lt;chr&gt;</th><th scope=col>&lt;dbl&gt;</th></tr>\n",
       "</thead>\n",
       "<tbody>\n",
       "\t<tr><th scope=row>1</th><td>Intermediate monocyte</td><td>Status_Xsecat_risk</td><td>0.8433456</td><td>0.2063163</td><td>4.087634</td><td>0.0001132528</td><td>Intermediate monocyte</td><td>0.009060224</td><td> 100</td><td> 100</td><td>56</td><td>#B75228</td><td> 204.2861</td></tr>\n",
       "\t<tr><th scope=row>2</th><td>CM CD4 T cell        </td><td>Status_Xsecat_risk</td><td>0.3046737</td><td>0.0983913</td><td>3.096551</td><td>0.0028026796</td><td>CM CD4 T cell        </td><td>0.112107186</td><td>2393</td><td>2393</td><td> 4</td><td>#6793A4</td><td>2274.2272</td></tr>\n",
       "\t<tr><th scope=row>3</th><td>HLA-DRhi cDC2        </td><td>Status_Xsecat_risk</td><td>0.3801467</td><td>0.1535190</td><td>2.476219</td><td>0.0156638157</td><td>HLA-DRhi cDC2        </td><td>0.250621051</td><td> 641</td><td> 641</td><td>61</td><td>#BE6E23</td><td> 385.2298</td></tr>\n",
       "</tbody>\n",
       "</table>\n"
      ],
      "text/latex": [
       "A data.frame: 3 × 13\n",
       "\\begin{tabular}{r|lllllllllllll}\n",
       "  & AIFI\\_L3\\_new & term & estimate & std.error & statistic & p.value & celltype & p.value.adj & total\\_degs\\_counts & Total\\_DEGs & xpos & color & adjP\\_degs\\_combined\\_value\\\\\n",
       "  & <chr> & <chr> & <dbl> & <dbl> & <dbl> & <dbl> & <chr> & <dbl> & <int> & <dbl> & <int> & <chr> & <dbl>\\\\\n",
       "\\hline\n",
       "\t1 & Intermediate monocyte & Status\\_Xsecat\\_risk & 0.8433456 & 0.2063163 & 4.087634 & 0.0001132528 & Intermediate monocyte & 0.009060224 &  100 &  100 & 56 & \\#B75228 &  204.2861\\\\\n",
       "\t2 & CM CD4 T cell         & Status\\_Xsecat\\_risk & 0.3046737 & 0.0983913 & 3.096551 & 0.0028026796 & CM CD4 T cell         & 0.112107186 & 2393 & 2393 &  4 & \\#6793A4 & 2274.2272\\\\\n",
       "\t3 & HLA-DRhi cDC2         & Status\\_Xsecat\\_risk & 0.3801467 & 0.1535190 & 2.476219 & 0.0156638157 & HLA-DRhi cDC2         & 0.250621051 &  641 &  641 & 61 & \\#BE6E23 &  385.2298\\\\\n",
       "\\end{tabular}\n"
      ],
      "text/markdown": [
       "\n",
       "A data.frame: 3 × 13\n",
       "\n",
       "| <!--/--> | AIFI_L3_new &lt;chr&gt; | term &lt;chr&gt; | estimate &lt;dbl&gt; | std.error &lt;dbl&gt; | statistic &lt;dbl&gt; | p.value &lt;dbl&gt; | celltype &lt;chr&gt; | p.value.adj &lt;dbl&gt; | total_degs_counts &lt;int&gt; | Total_DEGs &lt;dbl&gt; | xpos &lt;int&gt; | color &lt;chr&gt; | adjP_degs_combined_value &lt;dbl&gt; |\n",
       "|---|---|---|---|---|---|---|---|---|---|---|---|---|---|\n",
       "| 1 | Intermediate monocyte | Status_Xsecat_risk | 0.8433456 | 0.2063163 | 4.087634 | 0.0001132528 | Intermediate monocyte | 0.009060224 |  100 |  100 | 56 | #B75228 |  204.2861 |\n",
       "| 2 | CM CD4 T cell         | Status_Xsecat_risk | 0.3046737 | 0.0983913 | 3.096551 | 0.0028026796 | CM CD4 T cell         | 0.112107186 | 2393 | 2393 |  4 | #6793A4 | 2274.2272 |\n",
       "| 3 | HLA-DRhi cDC2         | Status_Xsecat_risk | 0.3801467 | 0.1535190 | 2.476219 | 0.0156638157 | HLA-DRhi cDC2         | 0.250621051 |  641 |  641 | 61 | #BE6E23 |  385.2298 |\n",
       "\n"
      ],
      "text/plain": [
       "  AIFI_L3_new           term               estimate  std.error statistic\n",
       "1 Intermediate monocyte Status_Xsecat_risk 0.8433456 0.2063163 4.087634 \n",
       "2 CM CD4 T cell         Status_Xsecat_risk 0.3046737 0.0983913 3.096551 \n",
       "3 HLA-DRhi cDC2         Status_Xsecat_risk 0.3801467 0.1535190 2.476219 \n",
       "  p.value      celltype              p.value.adj total_degs_counts Total_DEGs\n",
       "1 0.0001132528 Intermediate monocyte 0.009060224  100               100      \n",
       "2 0.0028026796 CM CD4 T cell         0.112107186 2393              2393      \n",
       "3 0.0156638157 HLA-DRhi cDC2         0.250621051  641               641      \n",
       "  xpos color   adjP_degs_combined_value\n",
       "1 56   #B75228  204.2861               \n",
       "2  4   #6793A4 2274.2272               \n",
       "3 61   #BE6E23  385.2298               "
      ]
     },
     "metadata": {},
     "output_type": "display_data"
    },
    {
     "data": {
      "text/html": [
       "<style>\n",
       ".list-inline {list-style: none; margin:0; padding: 0}\n",
       ".list-inline>li {display: inline-block}\n",
       ".list-inline>li:not(:last-child)::after {content: \"\\00b7\"; padding: 0 .5ex}\n",
       "</style>\n",
       "<ol class=list-inline><li>80</li><li>13</li></ol>\n"
      ],
      "text/latex": [
       "\\begin{enumerate*}\n",
       "\\item 80\n",
       "\\item 13\n",
       "\\end{enumerate*}\n"
      ],
      "text/markdown": [
       "1. 80\n",
       "2. 13\n",
       "\n",
       "\n"
      ],
      "text/plain": [
       "[1] 80 13"
      ]
     },
     "metadata": {},
     "output_type": "display_data"
    }
   ],
   "source": [
    "# common column to combine the deg and DA results \n",
    "merged_df <- merged_df %>%\n",
    "  mutate(adjP_degs_combined_value = -log10(p.value.adj) * Total_DEGs)\n",
    "merged_df%>%head(3)\n",
    "merged_df%>%dim"
   ]
  },
  {
   "cell_type": "code",
   "execution_count": 18,
   "id": "959eddb1-3ae3-41af-bad4-504604455854",
   "metadata": {},
   "outputs": [
    {
     "data": {
      "text/html": [
       "<table class=\"dataframe\">\n",
       "<caption>A data.frame: 3 × 14</caption>\n",
       "<thead>\n",
       "\t<tr><th></th><th scope=col>AIFI_L3_new</th><th scope=col>term</th><th scope=col>estimate</th><th scope=col>std.error</th><th scope=col>statistic</th><th scope=col>p.value</th><th scope=col>celltype</th><th scope=col>p.value.adj</th><th scope=col>total_degs_counts</th><th scope=col>Total_DEGs</th><th scope=col>xpos</th><th scope=col>color</th><th scope=col>adjP_degs_combined_value</th><th scope=col>sig_L3</th></tr>\n",
       "\t<tr><th></th><th scope=col>&lt;chr&gt;</th><th scope=col>&lt;chr&gt;</th><th scope=col>&lt;dbl&gt;</th><th scope=col>&lt;dbl&gt;</th><th scope=col>&lt;dbl&gt;</th><th scope=col>&lt;dbl&gt;</th><th scope=col>&lt;chr&gt;</th><th scope=col>&lt;dbl&gt;</th><th scope=col>&lt;int&gt;</th><th scope=col>&lt;dbl&gt;</th><th scope=col>&lt;int&gt;</th><th scope=col>&lt;chr&gt;</th><th scope=col>&lt;dbl&gt;</th><th scope=col>&lt;chr&gt;</th></tr>\n",
       "</thead>\n",
       "<tbody>\n",
       "\t<tr><th scope=row>1</th><td>Intermediate monocyte</td><td>Status_Xsecat_risk</td><td>0.8433456</td><td>0.2063163</td><td>4.087634</td><td>0.0001132528</td><td>Intermediate monocyte</td><td>0.009060224</td><td> 100</td><td> 100</td><td>56</td><td>#B75228</td><td> 204.2861</td><td>Intermediate monocyte</td></tr>\n",
       "\t<tr><th scope=row>2</th><td>CM CD4 T cell        </td><td>Status_Xsecat_risk</td><td>0.3046737</td><td>0.0983913</td><td>3.096551</td><td>0.0028026796</td><td>CM CD4 T cell        </td><td>0.112107186</td><td>2393</td><td>2393</td><td> 4</td><td>#6793A4</td><td>2274.2272</td><td>CM CD4 T cell        </td></tr>\n",
       "\t<tr><th scope=row>3</th><td>HLA-DRhi cDC2        </td><td>Status_Xsecat_risk</td><td>0.3801467</td><td>0.1535190</td><td>2.476219</td><td>0.0156638157</td><td>HLA-DRhi cDC2        </td><td>0.250621051</td><td> 641</td><td> 641</td><td>61</td><td>#BE6E23</td><td> 385.2298</td><td>HLA-DRhi cDC2        </td></tr>\n",
       "</tbody>\n",
       "</table>\n"
      ],
      "text/latex": [
       "A data.frame: 3 × 14\n",
       "\\begin{tabular}{r|llllllllllllll}\n",
       "  & AIFI\\_L3\\_new & term & estimate & std.error & statistic & p.value & celltype & p.value.adj & total\\_degs\\_counts & Total\\_DEGs & xpos & color & adjP\\_degs\\_combined\\_value & sig\\_L3\\\\\n",
       "  & <chr> & <chr> & <dbl> & <dbl> & <dbl> & <dbl> & <chr> & <dbl> & <int> & <dbl> & <int> & <chr> & <dbl> & <chr>\\\\\n",
       "\\hline\n",
       "\t1 & Intermediate monocyte & Status\\_Xsecat\\_risk & 0.8433456 & 0.2063163 & 4.087634 & 0.0001132528 & Intermediate monocyte & 0.009060224 &  100 &  100 & 56 & \\#B75228 &  204.2861 & Intermediate monocyte\\\\\n",
       "\t2 & CM CD4 T cell         & Status\\_Xsecat\\_risk & 0.3046737 & 0.0983913 & 3.096551 & 0.0028026796 & CM CD4 T cell         & 0.112107186 & 2393 & 2393 &  4 & \\#6793A4 & 2274.2272 & CM CD4 T cell        \\\\\n",
       "\t3 & HLA-DRhi cDC2         & Status\\_Xsecat\\_risk & 0.3801467 & 0.1535190 & 2.476219 & 0.0156638157 & HLA-DRhi cDC2         & 0.250621051 &  641 &  641 & 61 & \\#BE6E23 &  385.2298 & HLA-DRhi cDC2        \\\\\n",
       "\\end{tabular}\n"
      ],
      "text/markdown": [
       "\n",
       "A data.frame: 3 × 14\n",
       "\n",
       "| <!--/--> | AIFI_L3_new &lt;chr&gt; | term &lt;chr&gt; | estimate &lt;dbl&gt; | std.error &lt;dbl&gt; | statistic &lt;dbl&gt; | p.value &lt;dbl&gt; | celltype &lt;chr&gt; | p.value.adj &lt;dbl&gt; | total_degs_counts &lt;int&gt; | Total_DEGs &lt;dbl&gt; | xpos &lt;int&gt; | color &lt;chr&gt; | adjP_degs_combined_value &lt;dbl&gt; | sig_L3 &lt;chr&gt; |\n",
       "|---|---|---|---|---|---|---|---|---|---|---|---|---|---|---|\n",
       "| 1 | Intermediate monocyte | Status_Xsecat_risk | 0.8433456 | 0.2063163 | 4.087634 | 0.0001132528 | Intermediate monocyte | 0.009060224 |  100 |  100 | 56 | #B75228 |  204.2861 | Intermediate monocyte |\n",
       "| 2 | CM CD4 T cell         | Status_Xsecat_risk | 0.3046737 | 0.0983913 | 3.096551 | 0.0028026796 | CM CD4 T cell         | 0.112107186 | 2393 | 2393 |  4 | #6793A4 | 2274.2272 | CM CD4 T cell         |\n",
       "| 3 | HLA-DRhi cDC2         | Status_Xsecat_risk | 0.3801467 | 0.1535190 | 2.476219 | 0.0156638157 | HLA-DRhi cDC2         | 0.250621051 |  641 |  641 | 61 | #BE6E23 |  385.2298 | HLA-DRhi cDC2         |\n",
       "\n"
      ],
      "text/plain": [
       "  AIFI_L3_new           term               estimate  std.error statistic\n",
       "1 Intermediate monocyte Status_Xsecat_risk 0.8433456 0.2063163 4.087634 \n",
       "2 CM CD4 T cell         Status_Xsecat_risk 0.3046737 0.0983913 3.096551 \n",
       "3 HLA-DRhi cDC2         Status_Xsecat_risk 0.3801467 0.1535190 2.476219 \n",
       "  p.value      celltype              p.value.adj total_degs_counts Total_DEGs\n",
       "1 0.0001132528 Intermediate monocyte 0.009060224  100               100      \n",
       "2 0.0028026796 CM CD4 T cell         0.112107186 2393              2393      \n",
       "3 0.0156638157 HLA-DRhi cDC2         0.250621051  641               641      \n",
       "  xpos color   adjP_degs_combined_value sig_L3               \n",
       "1 56   #B75228  204.2861                Intermediate monocyte\n",
       "2  4   #6793A4 2274.2272                CM CD4 T cell        \n",
       "3 61   #BE6E23  385.2298                HLA-DRhi cDC2        "
      ]
     },
     "metadata": {},
     "output_type": "display_data"
    }
   ],
   "source": [
    "# to display the name of only signifcant celltype names in the plot \n",
    "merged_df <- merged_df %>%\n",
    "  mutate(sig_L3 = if_else(adjP_degs_combined_value > 1, celltype, NA_character_))\n",
    "merged_df%>%head(3)"
   ]
  },
  {
   "cell_type": "code",
   "execution_count": 19,
   "id": "54deb847-9735-44af-b124-6f26eae49414",
   "metadata": {},
   "outputs": [
    {
     "data": {
      "text/html": [
       "<table class=\"dataframe\">\n",
       "<caption>A data.frame: 6 × 15</caption>\n",
       "<thead>\n",
       "\t<tr><th></th><th scope=col>AIFI_L3_new</th><th scope=col>term</th><th scope=col>estimate</th><th scope=col>std.error</th><th scope=col>statistic</th><th scope=col>p.value</th><th scope=col>celltype</th><th scope=col>p.value.adj</th><th scope=col>total_degs_counts</th><th scope=col>Total_DEGs</th><th scope=col>xpos</th><th scope=col>color</th><th scope=col>adjP_degs_combined_value</th><th scope=col>sig_L3</th><th scope=col>estimate_by_year</th></tr>\n",
       "\t<tr><th></th><th scope=col>&lt;chr&gt;</th><th scope=col>&lt;chr&gt;</th><th scope=col>&lt;dbl&gt;</th><th scope=col>&lt;dbl&gt;</th><th scope=col>&lt;dbl&gt;</th><th scope=col>&lt;dbl&gt;</th><th scope=col>&lt;chr&gt;</th><th scope=col>&lt;dbl&gt;</th><th scope=col>&lt;int&gt;</th><th scope=col>&lt;dbl&gt;</th><th scope=col>&lt;int&gt;</th><th scope=col>&lt;chr&gt;</th><th scope=col>&lt;dbl&gt;</th><th scope=col>&lt;chr&gt;</th><th scope=col>&lt;dbl&gt;</th></tr>\n",
       "</thead>\n",
       "<tbody>\n",
       "\t<tr><th scope=row>1</th><td>Intermediate monocyte </td><td>Status_Xsecat_risk</td><td> 0.8433456</td><td>0.2063163</td><td> 4.087634</td><td>0.0001132528</td><td>Intermediate monocyte </td><td>0.009060224</td><td> 100</td><td> 100</td><td>56</td><td>#B75228</td><td> 204.28611</td><td>Intermediate monocyte</td><td> 307.8211</td></tr>\n",
       "\t<tr><th scope=row>2</th><td>CM CD4 T cell         </td><td>Status_Xsecat_risk</td><td> 0.3046737</td><td>0.0983913</td><td> 3.096551</td><td>0.0028026796</td><td>CM CD4 T cell         </td><td>0.112107186</td><td>2393</td><td>2393</td><td> 4</td><td>#6793A4</td><td>2274.22715</td><td>CM CD4 T cell        </td><td> 111.2059</td></tr>\n",
       "\t<tr><th scope=row>3</th><td>HLA-DRhi cDC2         </td><td>Status_Xsecat_risk</td><td> 0.3801467</td><td>0.1535190</td><td> 2.476219</td><td>0.0156638157</td><td>HLA-DRhi cDC2         </td><td>0.250621051</td><td> 641</td><td> 641</td><td>61</td><td>#BE6E23</td><td> 385.22975</td><td>HLA-DRhi cDC2        </td><td> 138.7536</td></tr>\n",
       "\t<tr><th scope=row>4</th><td>KLRB1+ memory CD8 Treg</td><td>Status_Xsecat_risk</td><td>-0.3444241</td><td>0.1382262</td><td>-2.491744</td><td>0.0150492359</td><td>KLRB1+ memory CD8 Treg</td><td>0.250621051</td><td>  NA</td><td>   0</td><td>14</td><td>#C7E0C6</td><td>   0.00000</td><td>NA                   </td><td>-125.7148</td></tr>\n",
       "\t<tr><th scope=row>5</th><td>Proliferating T cell  </td><td>Status_Xsecat_risk</td><td> 0.3212666</td><td>0.1257583</td><td> 2.554636</td><td>0.0127754780</td><td>Proliferating T cell  </td><td>0.250621051</td><td>  20</td><td>  20</td><td>16</td><td>#AEAEB0</td><td>  12.01965</td><td>Proliferating T cell </td><td> 117.2623</td></tr>\n",
       "\t<tr><th scope=row>6</th><td>CM CD4 T cell_uk1_CD8 </td><td>Status_Xsecat_risk</td><td> 0.4177172</td><td>0.1999798</td><td> 2.088797</td><td>0.0403121398</td><td>CM CD4 T cell_uk1_CD8 </td><td>0.327910275</td><td> 159</td><td> 159</td><td>NA</td><td>NA     </td><td>  76.99495</td><td>CM CD4 T cell_uk1_CD8</td><td> 152.4668</td></tr>\n",
       "</tbody>\n",
       "</table>\n"
      ],
      "text/latex": [
       "A data.frame: 6 × 15\n",
       "\\begin{tabular}{r|lllllllllllllll}\n",
       "  & AIFI\\_L3\\_new & term & estimate & std.error & statistic & p.value & celltype & p.value.adj & total\\_degs\\_counts & Total\\_DEGs & xpos & color & adjP\\_degs\\_combined\\_value & sig\\_L3 & estimate\\_by\\_year\\\\\n",
       "  & <chr> & <chr> & <dbl> & <dbl> & <dbl> & <dbl> & <chr> & <dbl> & <int> & <dbl> & <int> & <chr> & <dbl> & <chr> & <dbl>\\\\\n",
       "\\hline\n",
       "\t1 & Intermediate monocyte  & Status\\_Xsecat\\_risk &  0.8433456 & 0.2063163 &  4.087634 & 0.0001132528 & Intermediate monocyte  & 0.009060224 &  100 &  100 & 56 & \\#B75228 &  204.28611 & Intermediate monocyte &  307.8211\\\\\n",
       "\t2 & CM CD4 T cell          & Status\\_Xsecat\\_risk &  0.3046737 & 0.0983913 &  3.096551 & 0.0028026796 & CM CD4 T cell          & 0.112107186 & 2393 & 2393 &  4 & \\#6793A4 & 2274.22715 & CM CD4 T cell         &  111.2059\\\\\n",
       "\t3 & HLA-DRhi cDC2          & Status\\_Xsecat\\_risk &  0.3801467 & 0.1535190 &  2.476219 & 0.0156638157 & HLA-DRhi cDC2          & 0.250621051 &  641 &  641 & 61 & \\#BE6E23 &  385.22975 & HLA-DRhi cDC2         &  138.7536\\\\\n",
       "\t4 & KLRB1+ memory CD8 Treg & Status\\_Xsecat\\_risk & -0.3444241 & 0.1382262 & -2.491744 & 0.0150492359 & KLRB1+ memory CD8 Treg & 0.250621051 &   NA &    0 & 14 & \\#C7E0C6 &    0.00000 & NA                    & -125.7148\\\\\n",
       "\t5 & Proliferating T cell   & Status\\_Xsecat\\_risk &  0.3212666 & 0.1257583 &  2.554636 & 0.0127754780 & Proliferating T cell   & 0.250621051 &   20 &   20 & 16 & \\#AEAEB0 &   12.01965 & Proliferating T cell  &  117.2623\\\\\n",
       "\t6 & CM CD4 T cell\\_uk1\\_CD8  & Status\\_Xsecat\\_risk &  0.4177172 & 0.1999798 &  2.088797 & 0.0403121398 & CM CD4 T cell\\_uk1\\_CD8  & 0.327910275 &  159 &  159 & NA & NA      &   76.99495 & CM CD4 T cell\\_uk1\\_CD8 &  152.4668\\\\\n",
       "\\end{tabular}\n"
      ],
      "text/markdown": [
       "\n",
       "A data.frame: 6 × 15\n",
       "\n",
       "| <!--/--> | AIFI_L3_new &lt;chr&gt; | term &lt;chr&gt; | estimate &lt;dbl&gt; | std.error &lt;dbl&gt; | statistic &lt;dbl&gt; | p.value &lt;dbl&gt; | celltype &lt;chr&gt; | p.value.adj &lt;dbl&gt; | total_degs_counts &lt;int&gt; | Total_DEGs &lt;dbl&gt; | xpos &lt;int&gt; | color &lt;chr&gt; | adjP_degs_combined_value &lt;dbl&gt; | sig_L3 &lt;chr&gt; | estimate_by_year &lt;dbl&gt; |\n",
       "|---|---|---|---|---|---|---|---|---|---|---|---|---|---|---|---|\n",
       "| 1 | Intermediate monocyte  | Status_Xsecat_risk |  0.8433456 | 0.2063163 |  4.087634 | 0.0001132528 | Intermediate monocyte  | 0.009060224 |  100 |  100 | 56 | #B75228 |  204.28611 | Intermediate monocyte |  307.8211 |\n",
       "| 2 | CM CD4 T cell          | Status_Xsecat_risk |  0.3046737 | 0.0983913 |  3.096551 | 0.0028026796 | CM CD4 T cell          | 0.112107186 | 2393 | 2393 |  4 | #6793A4 | 2274.22715 | CM CD4 T cell         |  111.2059 |\n",
       "| 3 | HLA-DRhi cDC2          | Status_Xsecat_risk |  0.3801467 | 0.1535190 |  2.476219 | 0.0156638157 | HLA-DRhi cDC2          | 0.250621051 |  641 |  641 | 61 | #BE6E23 |  385.22975 | HLA-DRhi cDC2         |  138.7536 |\n",
       "| 4 | KLRB1+ memory CD8 Treg | Status_Xsecat_risk | -0.3444241 | 0.1382262 | -2.491744 | 0.0150492359 | KLRB1+ memory CD8 Treg | 0.250621051 |   NA |    0 | 14 | #C7E0C6 |    0.00000 | NA                    | -125.7148 |\n",
       "| 5 | Proliferating T cell   | Status_Xsecat_risk |  0.3212666 | 0.1257583 |  2.554636 | 0.0127754780 | Proliferating T cell   | 0.250621051 |   20 |   20 | 16 | #AEAEB0 |   12.01965 | Proliferating T cell  |  117.2623 |\n",
       "| 6 | CM CD4 T cell_uk1_CD8  | Status_Xsecat_risk |  0.4177172 | 0.1999798 |  2.088797 | 0.0403121398 | CM CD4 T cell_uk1_CD8  | 0.327910275 |  159 |  159 | NA | NA      |   76.99495 | CM CD4 T cell_uk1_CD8 |  152.4668 |\n",
       "\n"
      ],
      "text/plain": [
       "  AIFI_L3_new            term               estimate   std.error statistic\n",
       "1 Intermediate monocyte  Status_Xsecat_risk  0.8433456 0.2063163  4.087634\n",
       "2 CM CD4 T cell          Status_Xsecat_risk  0.3046737 0.0983913  3.096551\n",
       "3 HLA-DRhi cDC2          Status_Xsecat_risk  0.3801467 0.1535190  2.476219\n",
       "4 KLRB1+ memory CD8 Treg Status_Xsecat_risk -0.3444241 0.1382262 -2.491744\n",
       "5 Proliferating T cell   Status_Xsecat_risk  0.3212666 0.1257583  2.554636\n",
       "6 CM CD4 T cell_uk1_CD8  Status_Xsecat_risk  0.4177172 0.1999798  2.088797\n",
       "  p.value      celltype               p.value.adj total_degs_counts Total_DEGs\n",
       "1 0.0001132528 Intermediate monocyte  0.009060224  100               100      \n",
       "2 0.0028026796 CM CD4 T cell          0.112107186 2393              2393      \n",
       "3 0.0156638157 HLA-DRhi cDC2          0.250621051  641               641      \n",
       "4 0.0150492359 KLRB1+ memory CD8 Treg 0.250621051   NA                 0      \n",
       "5 0.0127754780 Proliferating T cell   0.250621051   20                20      \n",
       "6 0.0403121398 CM CD4 T cell_uk1_CD8  0.327910275  159               159      \n",
       "  xpos color   adjP_degs_combined_value sig_L3                estimate_by_year\n",
       "1 56   #B75228  204.28611               Intermediate monocyte  307.8211       \n",
       "2  4   #6793A4 2274.22715               CM CD4 T cell          111.2059       \n",
       "3 61   #BE6E23  385.22975               HLA-DRhi cDC2          138.7536       \n",
       "4 14   #C7E0C6    0.00000               NA                    -125.7148       \n",
       "5 16   #AEAEB0   12.01965               Proliferating T cell   117.2623       \n",
       "6 NA   NA        76.99495               CM CD4 T cell_uk1_CD8  152.4668       "
      ]
     },
     "metadata": {},
     "output_type": "display_data"
    }
   ],
   "source": [
    "#scaling the estimate by year \n",
    "merged_df <- merged_df %>% mutate(estimate_by_year = estimate*365)\n",
    "merged_df%>%head()"
   ]
  },
  {
   "cell_type": "code",
   "execution_count": 20,
   "id": "7a83ea70-c913-4de0-bb00-e7ba41231f7e",
   "metadata": {
    "scrolled": true
   },
   "outputs": [
    {
     "data": {
      "text/html": [
       "<table class=\"dataframe\">\n",
       "<caption>A data.frame: 10 × 15</caption>\n",
       "<thead>\n",
       "\t<tr><th scope=col>AIFI_L3_new</th><th scope=col>term</th><th scope=col>estimate</th><th scope=col>std.error</th><th scope=col>statistic</th><th scope=col>p.value</th><th scope=col>celltype</th><th scope=col>p.value.adj</th><th scope=col>total_degs_counts</th><th scope=col>Total_DEGs</th><th scope=col>xpos</th><th scope=col>color</th><th scope=col>adjP_degs_combined_value</th><th scope=col>sig_L3</th><th scope=col>estimate_by_year</th></tr>\n",
       "\t<tr><th scope=col>&lt;chr&gt;</th><th scope=col>&lt;chr&gt;</th><th scope=col>&lt;dbl&gt;</th><th scope=col>&lt;dbl&gt;</th><th scope=col>&lt;dbl&gt;</th><th scope=col>&lt;dbl&gt;</th><th scope=col>&lt;chr&gt;</th><th scope=col>&lt;dbl&gt;</th><th scope=col>&lt;int&gt;</th><th scope=col>&lt;dbl&gt;</th><th scope=col>&lt;int&gt;</th><th scope=col>&lt;chr&gt;</th><th scope=col>&lt;dbl&gt;</th><th scope=col>&lt;chr&gt;</th><th scope=col>&lt;dbl&gt;</th></tr>\n",
       "</thead>\n",
       "<tbody>\n",
       "\t<tr><td>CM CD4 T cell_uk1_CD8            </td><td>Status_Xsecat_risk</td><td> 0.41771724</td><td>0.1999798</td><td> 2.08879670</td><td>0.04031214</td><td>CM CD4 T cell_uk1_CD8            </td><td>0.3279103</td><td>159</td><td>159</td><td>NA</td><td>NA</td><td>76.9949510</td><td>CM CD4 T cell_uk1_CD8            </td><td>152.46679</td></tr>\n",
       "\t<tr><td>KLRF1+GZMB+_CD27-_EM_CD8_uk3     </td><td>Status_Xsecat_risk</td><td> 0.41958822</td><td>0.2291921</td><td> 1.83072720</td><td>0.07133771</td><td>KLRF1+GZMB+_CD27-_EM_CD8_uk3     </td><td>0.3566885</td><td>  1</td><td>  1</td><td>NA</td><td>NA</td><td> 0.4477109</td><td>NA                               </td><td>153.14970</td></tr>\n",
       "\t<tr><td>ASDC_uk1_B                       </td><td>Status_Xsecat_risk</td><td> 0.17713512</td><td>0.1280085</td><td> 1.38377637</td><td>0.17076194</td><td>ASDC_uk1_B                       </td><td>0.4645617</td><td> NA</td><td>  0</td><td>NA</td><td>NA</td><td> 0.0000000</td><td>NA                               </td><td> 64.65432</td></tr>\n",
       "\t<tr><td>GZMB- CD27+ EM CD4 T cell_uk1_CD8</td><td>Status_Xsecat_risk</td><td>-0.18956426</td><td>0.1478440</td><td>-1.28219082</td><td>0.20394651</td><td>GZMB- CD27+ EM CD4 T cell_uk1_CD8</td><td>0.4944158</td><td> 19</td><td> 19</td><td>NA</td><td>NA</td><td> 5.8122460</td><td>GZMB- CD27+ EM CD4 T cell_uk1_CD8</td><td>-69.19095</td></tr>\n",
       "\t<tr><td>GZMK+ CD27+ EM CD8 T cell_uk1_gdt</td><td>Status_Xsecat_risk</td><td> 0.16117814</td><td>0.1402738</td><td> 1.14902489</td><td>0.25440188</td><td>GZMK+ CD27+ EM CD8 T cell_uk1_gdt</td><td>0.5700390</td><td> 26</td><td> 26</td><td>NA</td><td>NA</td><td> 6.3464812</td><td>GZMK+ CD27+ EM CD8 T cell_uk1_gdt</td><td> 58.83002</td></tr>\n",
       "\t<tr><td>KLRF1+_GZMB+_CD27-_EM_CD8_uk2    </td><td>Status_Xsecat_risk</td><td>-0.21810546</td><td>0.2038727</td><td>-1.06981192</td><td>0.28832751</td><td>KLRF1+_GZMB+_CD27-_EM_CD8_uk2    </td><td>0.5766550</td><td> NA</td><td>  0</td><td>NA</td><td>NA</td><td> 0.0000000</td><td>NA                               </td><td>-79.60849</td></tr>\n",
       "\t<tr><td>CM CD4 T cell_uk2                </td><td>Status_Xsecat_risk</td><td>-0.16241992</td><td>0.1597909</td><td>-1.01645267</td><td>0.31286516</td><td>CM CD4 T cell_uk2                </td><td>0.6079470</td><td>  1</td><td>  1</td><td>NA</td><td>NA</td><td> 0.2161342</td><td>NA                               </td><td>-59.28327</td></tr>\n",
       "\t<tr><td>ISG+ memory CD4 T cell_uk1_CD8   </td><td>Status_Xsecat_risk</td><td>-0.16404822</td><td>0.1915078</td><td>-0.85661380</td><td>0.39454036</td><td>ISG+ memory CD4 T cell_uk1_CD8   </td><td>0.6644809</td><td> NA</td><td>  0</td><td>NA</td><td>NA</td><td> 0.0000000</td><td>NA                               </td><td>-59.87760</td></tr>\n",
       "\t<tr><td>GZMB- CD27- EM CD4 T cell_uk1_CD8</td><td>Status_Xsecat_risk</td><td>-0.09770599</td><td>0.1745704</td><td>-0.55969406</td><td>0.57744965</td><td>GZMB- CD27- EM CD4 T cell_uk1_CD8</td><td>0.7829826</td><td> 18</td><td> 18</td><td>NA</td><td>NA</td><td> 1.9124622</td><td>GZMB- CD27- EM CD4 T cell_uk1_CD8</td><td>-35.66269</td></tr>\n",
       "\t<tr><td>Adaptive NK cell_uk1_T           </td><td>Status_Xsecat_risk</td><td>-0.03265593</td><td>0.3347292</td><td>-0.09755927</td><td>0.92255716</td><td>Adaptive NK cell_uk1_T           </td><td>0.9482429</td><td> NA</td><td>  0</td><td>NA</td><td>NA</td><td> 0.0000000</td><td>NA                               </td><td>-11.91942</td></tr>\n",
       "</tbody>\n",
       "</table>\n"
      ],
      "text/latex": [
       "A data.frame: 10 × 15\n",
       "\\begin{tabular}{lllllllllllllll}\n",
       " AIFI\\_L3\\_new & term & estimate & std.error & statistic & p.value & celltype & p.value.adj & total\\_degs\\_counts & Total\\_DEGs & xpos & color & adjP\\_degs\\_combined\\_value & sig\\_L3 & estimate\\_by\\_year\\\\\n",
       " <chr> & <chr> & <dbl> & <dbl> & <dbl> & <dbl> & <chr> & <dbl> & <int> & <dbl> & <int> & <chr> & <dbl> & <chr> & <dbl>\\\\\n",
       "\\hline\n",
       "\t CM CD4 T cell\\_uk1\\_CD8             & Status\\_Xsecat\\_risk &  0.41771724 & 0.1999798 &  2.08879670 & 0.04031214 & CM CD4 T cell\\_uk1\\_CD8             & 0.3279103 & 159 & 159 & NA & NA & 76.9949510 & CM CD4 T cell\\_uk1\\_CD8             & 152.46679\\\\\n",
       "\t KLRF1+GZMB+\\_CD27-\\_EM\\_CD8\\_uk3      & Status\\_Xsecat\\_risk &  0.41958822 & 0.2291921 &  1.83072720 & 0.07133771 & KLRF1+GZMB+\\_CD27-\\_EM\\_CD8\\_uk3      & 0.3566885 &   1 &   1 & NA & NA &  0.4477109 & NA                                & 153.14970\\\\\n",
       "\t ASDC\\_uk1\\_B                        & Status\\_Xsecat\\_risk &  0.17713512 & 0.1280085 &  1.38377637 & 0.17076194 & ASDC\\_uk1\\_B                        & 0.4645617 &  NA &   0 & NA & NA &  0.0000000 & NA                                &  64.65432\\\\\n",
       "\t GZMB- CD27+ EM CD4 T cell\\_uk1\\_CD8 & Status\\_Xsecat\\_risk & -0.18956426 & 0.1478440 & -1.28219082 & 0.20394651 & GZMB- CD27+ EM CD4 T cell\\_uk1\\_CD8 & 0.4944158 &  19 &  19 & NA & NA &  5.8122460 & GZMB- CD27+ EM CD4 T cell\\_uk1\\_CD8 & -69.19095\\\\\n",
       "\t GZMK+ CD27+ EM CD8 T cell\\_uk1\\_gdt & Status\\_Xsecat\\_risk &  0.16117814 & 0.1402738 &  1.14902489 & 0.25440188 & GZMK+ CD27+ EM CD8 T cell\\_uk1\\_gdt & 0.5700390 &  26 &  26 & NA & NA &  6.3464812 & GZMK+ CD27+ EM CD8 T cell\\_uk1\\_gdt &  58.83002\\\\\n",
       "\t KLRF1+\\_GZMB+\\_CD27-\\_EM\\_CD8\\_uk2     & Status\\_Xsecat\\_risk & -0.21810546 & 0.2038727 & -1.06981192 & 0.28832751 & KLRF1+\\_GZMB+\\_CD27-\\_EM\\_CD8\\_uk2     & 0.5766550 &  NA &   0 & NA & NA &  0.0000000 & NA                                & -79.60849\\\\\n",
       "\t CM CD4 T cell\\_uk2                 & Status\\_Xsecat\\_risk & -0.16241992 & 0.1597909 & -1.01645267 & 0.31286516 & CM CD4 T cell\\_uk2                 & 0.6079470 &   1 &   1 & NA & NA &  0.2161342 & NA                                & -59.28327\\\\\n",
       "\t ISG+ memory CD4 T cell\\_uk1\\_CD8    & Status\\_Xsecat\\_risk & -0.16404822 & 0.1915078 & -0.85661380 & 0.39454036 & ISG+ memory CD4 T cell\\_uk1\\_CD8    & 0.6644809 &  NA &   0 & NA & NA &  0.0000000 & NA                                & -59.87760\\\\\n",
       "\t GZMB- CD27- EM CD4 T cell\\_uk1\\_CD8 & Status\\_Xsecat\\_risk & -0.09770599 & 0.1745704 & -0.55969406 & 0.57744965 & GZMB- CD27- EM CD4 T cell\\_uk1\\_CD8 & 0.7829826 &  18 &  18 & NA & NA &  1.9124622 & GZMB- CD27- EM CD4 T cell\\_uk1\\_CD8 & -35.66269\\\\\n",
       "\t Adaptive NK cell\\_uk1\\_T            & Status\\_Xsecat\\_risk & -0.03265593 & 0.3347292 & -0.09755927 & 0.92255716 & Adaptive NK cell\\_uk1\\_T            & 0.9482429 &  NA &   0 & NA & NA &  0.0000000 & NA                                & -11.91942\\\\\n",
       "\\end{tabular}\n"
      ],
      "text/markdown": [
       "\n",
       "A data.frame: 10 × 15\n",
       "\n",
       "| AIFI_L3_new &lt;chr&gt; | term &lt;chr&gt; | estimate &lt;dbl&gt; | std.error &lt;dbl&gt; | statistic &lt;dbl&gt; | p.value &lt;dbl&gt; | celltype &lt;chr&gt; | p.value.adj &lt;dbl&gt; | total_degs_counts &lt;int&gt; | Total_DEGs &lt;dbl&gt; | xpos &lt;int&gt; | color &lt;chr&gt; | adjP_degs_combined_value &lt;dbl&gt; | sig_L3 &lt;chr&gt; | estimate_by_year &lt;dbl&gt; |\n",
       "|---|---|---|---|---|---|---|---|---|---|---|---|---|---|---|\n",
       "| CM CD4 T cell_uk1_CD8             | Status_Xsecat_risk |  0.41771724 | 0.1999798 |  2.08879670 | 0.04031214 | CM CD4 T cell_uk1_CD8             | 0.3279103 | 159 | 159 | NA | NA | 76.9949510 | CM CD4 T cell_uk1_CD8             | 152.46679 |\n",
       "| KLRF1+GZMB+_CD27-_EM_CD8_uk3      | Status_Xsecat_risk |  0.41958822 | 0.2291921 |  1.83072720 | 0.07133771 | KLRF1+GZMB+_CD27-_EM_CD8_uk3      | 0.3566885 |   1 |   1 | NA | NA |  0.4477109 | NA                                | 153.14970 |\n",
       "| ASDC_uk1_B                        | Status_Xsecat_risk |  0.17713512 | 0.1280085 |  1.38377637 | 0.17076194 | ASDC_uk1_B                        | 0.4645617 |  NA |   0 | NA | NA |  0.0000000 | NA                                |  64.65432 |\n",
       "| GZMB- CD27+ EM CD4 T cell_uk1_CD8 | Status_Xsecat_risk | -0.18956426 | 0.1478440 | -1.28219082 | 0.20394651 | GZMB- CD27+ EM CD4 T cell_uk1_CD8 | 0.4944158 |  19 |  19 | NA | NA |  5.8122460 | GZMB- CD27+ EM CD4 T cell_uk1_CD8 | -69.19095 |\n",
       "| GZMK+ CD27+ EM CD8 T cell_uk1_gdt | Status_Xsecat_risk |  0.16117814 | 0.1402738 |  1.14902489 | 0.25440188 | GZMK+ CD27+ EM CD8 T cell_uk1_gdt | 0.5700390 |  26 |  26 | NA | NA |  6.3464812 | GZMK+ CD27+ EM CD8 T cell_uk1_gdt |  58.83002 |\n",
       "| KLRF1+_GZMB+_CD27-_EM_CD8_uk2     | Status_Xsecat_risk | -0.21810546 | 0.2038727 | -1.06981192 | 0.28832751 | KLRF1+_GZMB+_CD27-_EM_CD8_uk2     | 0.5766550 |  NA |   0 | NA | NA |  0.0000000 | NA                                | -79.60849 |\n",
       "| CM CD4 T cell_uk2                 | Status_Xsecat_risk | -0.16241992 | 0.1597909 | -1.01645267 | 0.31286516 | CM CD4 T cell_uk2                 | 0.6079470 |   1 |   1 | NA | NA |  0.2161342 | NA                                | -59.28327 |\n",
       "| ISG+ memory CD4 T cell_uk1_CD8    | Status_Xsecat_risk | -0.16404822 | 0.1915078 | -0.85661380 | 0.39454036 | ISG+ memory CD4 T cell_uk1_CD8    | 0.6644809 |  NA |   0 | NA | NA |  0.0000000 | NA                                | -59.87760 |\n",
       "| GZMB- CD27- EM CD4 T cell_uk1_CD8 | Status_Xsecat_risk | -0.09770599 | 0.1745704 | -0.55969406 | 0.57744965 | GZMB- CD27- EM CD4 T cell_uk1_CD8 | 0.7829826 |  18 |  18 | NA | NA |  1.9124622 | GZMB- CD27- EM CD4 T cell_uk1_CD8 | -35.66269 |\n",
       "| Adaptive NK cell_uk1_T            | Status_Xsecat_risk | -0.03265593 | 0.3347292 | -0.09755927 | 0.92255716 | Adaptive NK cell_uk1_T            | 0.9482429 |  NA |   0 | NA | NA |  0.0000000 | NA                                | -11.91942 |\n",
       "\n"
      ],
      "text/plain": [
       "   AIFI_L3_new                       term               estimate    std.error\n",
       "1  CM CD4 T cell_uk1_CD8             Status_Xsecat_risk  0.41771724 0.1999798\n",
       "2  KLRF1+GZMB+_CD27-_EM_CD8_uk3      Status_Xsecat_risk  0.41958822 0.2291921\n",
       "3  ASDC_uk1_B                        Status_Xsecat_risk  0.17713512 0.1280085\n",
       "4  GZMB- CD27+ EM CD4 T cell_uk1_CD8 Status_Xsecat_risk -0.18956426 0.1478440\n",
       "5  GZMK+ CD27+ EM CD8 T cell_uk1_gdt Status_Xsecat_risk  0.16117814 0.1402738\n",
       "6  KLRF1+_GZMB+_CD27-_EM_CD8_uk2     Status_Xsecat_risk -0.21810546 0.2038727\n",
       "7  CM CD4 T cell_uk2                 Status_Xsecat_risk -0.16241992 0.1597909\n",
       "8  ISG+ memory CD4 T cell_uk1_CD8    Status_Xsecat_risk -0.16404822 0.1915078\n",
       "9  GZMB- CD27- EM CD4 T cell_uk1_CD8 Status_Xsecat_risk -0.09770599 0.1745704\n",
       "10 Adaptive NK cell_uk1_T            Status_Xsecat_risk -0.03265593 0.3347292\n",
       "   statistic   p.value    celltype                          p.value.adj\n",
       "1   2.08879670 0.04031214 CM CD4 T cell_uk1_CD8             0.3279103  \n",
       "2   1.83072720 0.07133771 KLRF1+GZMB+_CD27-_EM_CD8_uk3      0.3566885  \n",
       "3   1.38377637 0.17076194 ASDC_uk1_B                        0.4645617  \n",
       "4  -1.28219082 0.20394651 GZMB- CD27+ EM CD4 T cell_uk1_CD8 0.4944158  \n",
       "5   1.14902489 0.25440188 GZMK+ CD27+ EM CD8 T cell_uk1_gdt 0.5700390  \n",
       "6  -1.06981192 0.28832751 KLRF1+_GZMB+_CD27-_EM_CD8_uk2     0.5766550  \n",
       "7  -1.01645267 0.31286516 CM CD4 T cell_uk2                 0.6079470  \n",
       "8  -0.85661380 0.39454036 ISG+ memory CD4 T cell_uk1_CD8    0.6644809  \n",
       "9  -0.55969406 0.57744965 GZMB- CD27- EM CD4 T cell_uk1_CD8 0.7829826  \n",
       "10 -0.09755927 0.92255716 Adaptive NK cell_uk1_T            0.9482429  \n",
       "   total_degs_counts Total_DEGs xpos color adjP_degs_combined_value\n",
       "1  159               159        NA   NA    76.9949510              \n",
       "2    1                 1        NA   NA     0.4477109              \n",
       "3   NA                 0        NA   NA     0.0000000              \n",
       "4   19                19        NA   NA     5.8122460              \n",
       "5   26                26        NA   NA     6.3464812              \n",
       "6   NA                 0        NA   NA     0.0000000              \n",
       "7    1                 1        NA   NA     0.2161342              \n",
       "8   NA                 0        NA   NA     0.0000000              \n",
       "9   18                18        NA   NA     1.9124622              \n",
       "10  NA                 0        NA   NA     0.0000000              \n",
       "   sig_L3                            estimate_by_year\n",
       "1  CM CD4 T cell_uk1_CD8             152.46679       \n",
       "2  NA                                153.14970       \n",
       "3  NA                                 64.65432       \n",
       "4  GZMB- CD27+ EM CD4 T cell_uk1_CD8 -69.19095       \n",
       "5  GZMK+ CD27+ EM CD8 T cell_uk1_gdt  58.83002       \n",
       "6  NA                                -79.60849       \n",
       "7  NA                                -59.28327       \n",
       "8  NA                                -59.87760       \n",
       "9  GZMB- CD27- EM CD4 T cell_uk1_CD8 -35.66269       \n",
       "10 NA                                -11.91942       "
      ]
     },
     "metadata": {},
     "output_type": "display_data"
    }
   ],
   "source": [
    "merged_df %>%\n",
    "  filter(is.na(color))"
   ]
  },
  {
   "cell_type": "code",
   "execution_count": 21,
   "id": "994d561a-e000-4f0f-9948-065ff7232a1f",
   "metadata": {},
   "outputs": [
    {
     "data": {
      "image/png": "[encoded data removed]",
      "text/plain": [
       "plot without title"
      ]
     },
     "metadata": {
      "image/png": {
       "height": 300,
       "width": 360
      }
     },
     "output_type": "display_data"
    }
   ],
   "source": [
    "options(repr.plot.width = 6, repr.plot.height = 5)\n",
    "cell_type_colors <- setNames(merged_df$color, merged_df$celltype)\n",
    "p1 <- ggplot(merged_df, aes(x =estimate, y = Total_DEGs, size = adjP_degs_combined_value, fill = celltype)) +\n",
    "  geom_hline(yintercept = 0, color = \"lightgray\", size = 0.5) + \n",
    "  geom_vline(xintercept = 0, color = \"lightgray\", size = 0.5) + \n",
    "  geom_point(shape = 21, colour = \"black\") +\n",
    "  theme_classic() +\n",
    "  scale_size_continuous(range = c(0.02, 15), limits = c(0, max(merged_df$adjP_degs_combined_value))) +\n",
    " \n",
    "  xlab(\"Estimate (CLR)\") +\n",
    "  ylab(\"DEG Counts\") +\n",
    "  theme(legend.position = \"right\") +\n",
    "  scale_fill_manual(values = cell_type_colors) +\n",
    "  scale_x_continuous(limits = c(-1, 1)) +\n",
    "  guides(fill = \"none\", size = guide_legend(\"Aggregate Score\")) + \n",
    "  geom_text_repel(\n",
    "    data = merged_df %>% filter(celltype %in% sig_L3),\n",
    "    box.padding = 0.5,\n",
    "    force = 0.5,\n",
    "    max.overlaps = 50,\n",
    "    min.segment.length = 0,\n",
    "    nudge_x = 0.15,\n",
    "    hjust = 0.1,\n",
    "    segment.size = 0.1,\n",
    "    mapping = aes(label = celltype),\n",
    "    size = 2\n",
    "  ) +\n",
    "  theme(\n",
    "    panel.grid.major = element_blank(),  # Remove major grid lines\n",
    "    panel.grid.minor = element_blank()   # Remove minor grid lines\n",
    "  )+\n",
    "  scale_y_continuous(expand = expansion(mult = c(0.05, 0.2)))\n",
    "p1"
   ]
  },
  {
   "cell_type": "code",
   "execution_count": 22,
   "id": "372037a4-9454-4b8b-8095-a49222fa3289",
   "metadata": {},
   "outputs": [],
   "source": [
    "ggsave(\"/home/jupyter/ALTRA_ANALYSIS/Deep_clean/Figure_files/Certpro_figures/Plots_for_manuscript/Fig_S2D_Xsec_bubbleplot_Estimate.pdf\", plot = p1, width = 6, height = 5)"
   ]
  },
  {
   "cell_type": "code",
   "execution_count": 25,
   "id": "75a7fed6-d5f0-412a-ae1d-d8bbceb5182f",
   "metadata": {},
   "outputs": [
    {
     "data": {
      "text/plain": [
       "R version 4.3.1 (2023-06-16)\n",
       "Platform: x86_64-conda-linux-gnu (64-bit)\n",
       "Running under: Ubuntu 20.04.6 LTS\n",
       "\n",
       "Matrix products: default\n",
       "BLAS/LAPACK: /home/jupyter/libs/r_scrna/lib/libopenblasp-r0.3.24.so;  LAPACK version 3.11.0\n",
       "\n",
       "locale:\n",
       " [1] LC_CTYPE=C.UTF-8       LC_NUMERIC=C           LC_TIME=C.UTF-8       \n",
       " [4] LC_COLLATE=C.UTF-8     LC_MONETARY=C.UTF-8    LC_MESSAGES=C.UTF-8   \n",
       " [7] LC_PAPER=C.UTF-8       LC_NAME=C              LC_ADDRESS=C          \n",
       "[10] LC_TELEPHONE=C         LC_MEASUREMENT=C.UTF-8 LC_IDENTIFICATION=C   \n",
       "\n",
       "time zone: Etc/UTC\n",
       "tzcode source: system (glibc)\n",
       "\n",
       "attached base packages:\n",
       "[1] stats4    stats     graphics  grDevices utils     datasets  methods  \n",
       "[8] base     \n",
       "\n",
       "other attached packages:\n",
       " [1] ggrepel_0.9.5               plotly_4.10.4              \n",
       " [3] knitr_1.47                  ggpubr_0.6.0               \n",
       " [5] SeuratDisk_0.0.0.9021       SingleCellExperiment_1.22.0\n",
       " [7] SummarizedExperiment_1.30.2 Biobase_2.60.0             \n",
       " [9] GenomicRanges_1.52.1        GenomeInfoDb_1.36.4        \n",
       "[11] IRanges_2.34.1              S4Vectors_0.38.2           \n",
       "[13] BiocGenerics_0.46.0         MatrixGenerics_1.12.3      \n",
       "[15] matrixStats_1.3.0           future.apply_1.11.2        \n",
       "[17] future_1.33.2               harmony_1.2.0              \n",
       "[19] Rcpp_1.0.12                 viridis_0.6.5              \n",
       "[21] viridisLite_0.4.2           Matrix_1.6-1.1             \n",
       "[23] SeuratObject_5.0.0          Seurat_4.4.0               \n",
       "[25] lubridate_1.9.3             forcats_1.0.0              \n",
       "[27] stringr_1.5.1               dplyr_1.1.4                \n",
       "[29] purrr_1.0.2                 readr_2.1.5                \n",
       "[31] tidyr_1.3.1                 tibble_3.2.1               \n",
       "[33] ggplot2_3.5.1               tidyverse_2.0.0            \n",
       "\n",
       "loaded via a namespace (and not attached):\n",
       "  [1] RcppAnnoy_0.0.22        splines_4.3.1           later_1.3.2            \n",
       "  [4] pbdZMQ_0.3-11           bitops_1.0-7            polyclip_1.10-6        \n",
       "  [7] lifecycle_1.0.4         rstatix_0.7.2           globals_0.16.3         \n",
       " [10] lattice_0.22-6          hdf5r_1.3.10            MASS_7.3-60            \n",
       " [13] backports_1.5.0         magrittr_2.0.3          httpuv_1.6.15          \n",
       " [16] sctransform_0.4.1       spam_2.10-0             sp_2.1-4               \n",
       " [19] spatstat.sparse_3.1-0   reticulate_1.38.0       cowplot_1.1.3          \n",
       " [22] pbapply_1.7-2           RColorBrewer_1.1-3      abind_1.4-5            \n",
       " [25] zlibbioc_1.46.0         Rtsne_0.17              RCurl_1.98-1.14        \n",
       " [28] GenomeInfoDbData_1.2.10 irlba_2.3.5.1           listenv_0.9.1          \n",
       " [31] spatstat.utils_3.0-5    goftest_1.2-3           spatstat.random_3.2-3  \n",
       " [34] fitdistrplus_1.1-11     parallelly_1.37.1       leiden_0.4.3.1         \n",
       " [37] codetools_0.2-20        DelayedArray_0.26.7     tidyselect_1.2.1       \n",
       " [40] farver_2.1.2            base64enc_0.1-3         spatstat.explore_3.2-7 \n",
       " [43] jsonlite_1.8.8          progressr_0.14.0        ggridges_0.5.6         \n",
       " [46] survival_3.7-0          systemfonts_1.1.0       tools_4.3.1            \n",
       " [49] ragg_1.2.5              ica_1.0-3               glue_1.7.0             \n",
       " [52] gridExtra_2.3           xfun_0.45               IRdisplay_1.1          \n",
       " [55] withr_3.0.0             fastmap_1.2.0           fansi_1.0.6            \n",
       " [58] digest_0.6.36           timechange_0.3.0        R6_2.5.1               \n",
       " [61] mime_0.12               textshaping_0.4.0       colorspace_2.1-0       \n",
       " [64] scattermore_1.2         Cairo_1.6-2             tensor_1.5             \n",
       " [67] spatstat.data_3.1-2     utf8_1.2.4              generics_0.1.3         \n",
       " [70] data.table_1.15.4       httr_1.4.7              htmlwidgets_1.6.4      \n",
       " [73] S4Arrays_1.0.6          uwot_0.2.2              pkgconfig_2.0.3        \n",
       " [76] gtable_0.3.5            lmtest_0.9-40           XVector_0.40.0         \n",
       " [79] htmltools_0.5.8.1       carData_3.0-5           dotCall64_1.1-1        \n",
       " [82] scales_1.3.0            png_0.1-8               tzdb_0.4.0             \n",
       " [85] reshape2_1.4.4          uuid_1.2-0              nlme_3.1-165           \n",
       " [88] repr_1.1.7              zoo_1.8-12              KernSmooth_2.23-24     \n",
       " [91] parallel_4.3.1          miniUI_0.1.1.1          pillar_1.9.0           \n",
       " [94] grid_4.3.1              vctrs_0.6.5             RANN_2.6.1             \n",
       " [97] promises_1.3.0          car_3.1-2               xtable_1.8-4           \n",
       "[100] cluster_2.1.6           evaluate_0.24.0         cli_3.6.3              \n",
       "[103] compiler_4.3.1          rlang_1.1.4             crayon_1.5.3           \n",
       "[106] ggsignif_0.6.4          labeling_0.4.3          plyr_1.8.9             \n",
       "[109] stringi_1.8.4           deldir_2.0-4            munsell_0.5.1          \n",
       "[112] lazyeval_0.2.2          spatstat.geom_3.2-9     IRkernel_1.3.2         \n",
       "[115] hms_1.1.3               patchwork_1.2.0         bit64_4.0.5            \n",
       "[118] shiny_1.8.1.1           ROCR_1.0-11             igraph_2.0.3           \n",
       "[121] broom_1.0.6             bit_4.0.5              "
      ]
     },
     "metadata": {},
     "output_type": "display_data"
    }
   ],
   "source": [
    "sessionInfo()"
   ]
  },
  {
   "cell_type": "code",
   "execution_count": null,
   "id": "04a50034-6586-4389-aee4-042d65bd953a",
   "metadata": {},
   "outputs": [],
   "source": []
  },
  {
   "cell_type": "code",
   "execution_count": null,
   "id": "ed991900-3ef3-4231-8e27-3db328d8d92e",
   "metadata": {},
   "outputs": [],
   "source": []
  },
  {
   "cell_type": "code",
   "execution_count": null,
   "id": "afa49da6-4afe-4937-8180-6f22d49dfb65",
   "metadata": {},
   "outputs": [],
   "source": []
  },
  {
   "cell_type": "code",
   "execution_count": null,
   "id": "06c8320f-cec7-4426-85c0-64b31b94d947",
   "metadata": {},
   "outputs": [],
   "source": []
  },
  {
   "cell_type": "code",
   "execution_count": null,
   "id": "bbf91896-e044-42b1-b586-d6e91e99c9f3",
   "metadata": {},
   "outputs": [],
   "source": []
  },
  {
   "cell_type": "code",
   "execution_count": null,
   "id": "8108b46d-2791-4736-9bcf-b97cc9d69163",
   "metadata": {},
   "outputs": [],
   "source": []
  },
  {
   "cell_type": "code",
   "execution_count": null,
   "id": "537dde04-5367-4650-ace8-06542e15b714",
   "metadata": {},
   "outputs": [],
   "source": []
  },
  {
   "cell_type": "code",
   "execution_count": null,
   "id": "cf2243cd-05aa-4eac-a49d-f2cbf5a0ce59",
   "metadata": {},
   "outputs": [],
   "source": []
  },
  {
   "cell_type": "code",
   "execution_count": null,
   "id": "d20492f9-d6fc-4eac-a8e0-eb484e7f4188",
   "metadata": {},
   "outputs": [],
   "source": []
  },
  {
   "cell_type": "code",
   "execution_count": null,
   "id": "45d62eac-dcd4-4be7-bc42-c5d9115f758c",
   "metadata": {},
   "outputs": [],
   "source": []
  },
  {
   "cell_type": "code",
   "execution_count": null,
   "id": "7be2b0ba-74f9-4ea0-8b55-d05ea432220f",
   "metadata": {},
   "outputs": [],
   "source": []
  },
  {
   "cell_type": "code",
   "execution_count": null,
   "id": "970e66e9-88d8-4e37-bf6f-d234e1a15dd7",
   "metadata": {},
   "outputs": [],
   "source": []
  },
  {
   "cell_type": "code",
   "execution_count": null,
   "id": "398b2b6d-71e7-4c05-aa34-055933a54f4d",
   "metadata": {},
   "outputs": [],
   "source": []
  },
  {
   "cell_type": "code",
   "execution_count": null,
   "id": "c57c92b4-844e-4a36-a441-ff8a69c1e4d0",
   "metadata": {},
   "outputs": [],
   "source": []
  },
  {
   "cell_type": "code",
   "execution_count": null,
   "id": "76203556-d4bb-4052-bb45-25f2b86e9689",
   "metadata": {},
   "outputs": [],
   "source": []
  },
  {
   "cell_type": "code",
   "execution_count": null,
   "id": "610e0c55-d095-4839-aa0a-dd33e70bce2c",
   "metadata": {},
   "outputs": [],
   "source": []
  },
  {
   "cell_type": "code",
   "execution_count": null,
   "id": "539d41db-34f0-48a4-bf84-ef699ddcdc82",
   "metadata": {},
   "outputs": [],
   "source": []
  },
  {
   "cell_type": "code",
   "execution_count": null,
   "id": "457d728a-e8a0-4401-95ca-7a4f583be336",
   "metadata": {},
   "outputs": [],
   "source": []
  },
  {
   "cell_type": "code",
   "execution_count": null,
   "id": "296d58d2-4a46-4a28-9b70-601dd7e743ad",
   "metadata": {},
   "outputs": [],
   "source": []
  },
  {
   "cell_type": "code",
   "execution_count": null,
   "id": "212f5bc3-8cb0-400d-8205-4eaa98183364",
   "metadata": {},
   "outputs": [],
   "source": []
  },
  {
   "cell_type": "code",
   "execution_count": null,
   "id": "6f639a54-d451-4844-a38d-13e7ab7ae676",
   "metadata": {},
   "outputs": [],
   "source": [
    "\n"
   ]
  }
 ],
 "metadata": {
  "kernelspec": {
   "display_name": "r_scrna",
   "language": "R",
   "name": "r_scrna"
  },
  "language_info": {
   "codemirror_mode": "r",
   "file_extension": ".r",
   "mimetype": "text/x-r-source",
   "name": "R",
   "pygments_lexer": "r",
   "version": "4.3.1"
  }
 },
 "nbformat": 4,
 "nbformat_minor": 5
}
