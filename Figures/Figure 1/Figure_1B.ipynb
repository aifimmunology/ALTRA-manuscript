{
 "cells": [
  {
   "cell_type": "markdown",
   "id": "2b6d4bd4-e629-42ad-8cc3-59a3610a9fc4",
   "metadata": {},
   "source": [
    "### Plotting the ANTI-CCP3 levels across disease status"
   ]
  },
  {
   "cell_type": "code",
   "execution_count": 1,
   "id": "61d453ff-570f-4ca5-90b3-a02100212667",
   "metadata": {},
   "outputs": [],
   "source": [
    "\n",
    "# load libraries\n",
    "quiet_library <- function(...) {\n",
    "    suppressPackageStartupMessages(library(...))\n",
    "}\n",
    "quiet_library(tidyverse)\n",
    "quiet_library(Seurat)\n",
    "quiet_library(ggplot2)\n",
    "quiet_library(Matrix)\n",
    "quiet_library(dplyr)\n",
    "quiet_library(viridis)\n",
    "quiet_library(harmony)\n",
    "quiet_library(future)\n",
    "quiet_library(future.apply)\n",
    "quiet_library(SingleCellExperiment)\n",
    "quiet_library(SeuratDisk)\n",
    "quiet_library(ggpubr)\n",
    "quiet_library(knitr)\n",
    "quiet_library(plotly)\n",
    "options(warn = -1)\n",
    "\n"
   ]
  },
  {
   "cell_type": "code",
   "execution_count": 2,
   "id": "4ee1900b-3159-4bd5-b698-c834a58e0fbe",
   "metadata": {},
   "outputs": [
    {
     "data": {
      "text/html": [
       "<strong>system:</strong> 64"
      ],
      "text/latex": [
       "\\textbf{system:} 64"
      ],
      "text/markdown": [
       "**system:** 64"
      ],
      "text/plain": [
       "system \n",
       "    64 "
      ]
     },
     "metadata": {},
     "output_type": "display_data"
    }
   ],
   "source": [
    "# Check number of cores\n",
    "future::availableCores()\n",
    "# Set up parallel processing to run when using 'future' functions \n",
    "future::plan(strategy = \"multicore\", workers = future::availableCores()-5)  \n",
    "options(future.globals.maxSize = 1000 * 1024^3)\n",
    "# to turn off parallel processing run line below\n",
    "# future::plan(strategy = \"sequential\")"
   ]
  },
  {
   "cell_type": "code",
   "execution_count": 3,
   "id": "51b8ac96-2629-4f34-bf85-5398b60cef5c",
   "metadata": {},
   "outputs": [],
   "source": [
    "# define the color palette to be used\n",
    "npg_color <- c(\"#E64B35FF\", \"#4DBBD5FF\", \"#00A087FF\", \"#3C5488FF\", \"#F39B7FFF\", \n",
    "               \"#8491B4FF\", \"#91D1C2FF\", \"#DC0000FF\", \"#7E6148FF\", \"#B09C85FF\")\n",
    "nejm_color <- c(\"#BC3C29FF\", \"#0072B5FF\", \"#E18727FF\", \"#20854EFF\", \"#7876B1FF\", \"#6F99ADFF\", \"#FFDC91FF\", \"#EE4C97FF\")\n",
    "jama_color <- c(\"#374E55FF\", \"#DF8F44FF\", \"#00A1D5FF\", \"#B24745FF\", \"#79AF97FF\", \"#6A6599FF\", \"#80796BFF\")\n",
    "jco_color <- c(\"#0073C2FF\", \"#EFC000FF\", \"#868686FF\", \"#CD534CFF\", \"#7AA6DCFF\", \"#003C67FF\", \"#8F7700FF\")\n",
    "cluster_colors <- c(\"#DC050C\", \"#FB8072\", \"#1965B0\", \"#7BAFDE\", \"#882E72\", \"#B17BA6\", \"#FF7F00\", \"#FDB462\", \"#E7298A\", \n",
    "    \"#E78AC3\", \"#33A02C\", \"#B2DF8A\", \"#55A1B1\", \"#8DD3C7\", \"#A6761D\", \"#E6AB02\", \"#7570B3\", \"#BEAED4\", \"#666666\", \"#999999\", \n",
    "    \"#aa8282\", \"#d4b7b7\", \"#8600bf\", \"#ba5ce3\", \"#808000\", \"#aeae5c\", \"#1e90ff\", \"#00bfff\", \"#56ff0d\", \"#ffff00\")\n",
    "\n",
    "cluster_colors_ext <- colorRampPalette(cluster_colors)(75)\n",
    "options(repr.plot.width = 5, repr.plot.height = 5)"
   ]
  },
  {
   "cell_type": "markdown",
   "id": "851407f1-6d3b-49dc-9368-6444144088ac",
   "metadata": {},
   "source": [
    "## 1B recreation "
   ]
  },
  {
   "cell_type": "code",
   "execution_count": 4,
   "id": "51a008fa-3fc3-420c-89d4-fbbdc1cd44d9",
   "metadata": {},
   "outputs": [
    {
     "data": {
      "text/html": [
       "<table class=\"dataframe\">\n",
       "<caption>A data.frame: 3 × 17</caption>\n",
       "<thead>\n",
       "\t<tr><th></th><th scope=col>X</th><th scope=col>Status_Xsec</th><th scope=col>Status_Long</th><th scope=col>sample.sampleKitGuid</th><th scope=col>sample.drawDate</th><th scope=col>sample.daysSinceFirstVisit</th><th scope=col>subject.subjectGuid</th><th scope=col>subject.biologicalSex</th><th scope=col>subject.birthYear</th><th scope=col>days_to_conversion</th><th scope=col>number_of_days_to_from_ra_conversion_cu</th><th scope=col>anti_ccp3_finalCombined</th><th scope=col>status</th><th scope=col>time</th><th scope=col>s1</th><th scope=col>s1_ids</th><th scope=col>Status_new</th></tr>\n",
       "\t<tr><th></th><th scope=col>&lt;int&gt;</th><th scope=col>&lt;chr&gt;</th><th scope=col>&lt;chr&gt;</th><th scope=col>&lt;chr&gt;</th><th scope=col>&lt;chr&gt;</th><th scope=col>&lt;int&gt;</th><th scope=col>&lt;chr&gt;</th><th scope=col>&lt;chr&gt;</th><th scope=col>&lt;int&gt;</th><th scope=col>&lt;int&gt;</th><th scope=col>&lt;int&gt;</th><th scope=col>&lt;int&gt;</th><th scope=col>&lt;chr&gt;</th><th scope=col>&lt;int&gt;</th><th scope=col>&lt;chr&gt;</th><th scope=col>&lt;chr&gt;</th><th scope=col>&lt;chr&gt;</th></tr>\n",
       "</thead>\n",
       "<tbody>\n",
       "\t<tr><th scope=row>1</th><td>1</td><td>ALTRA_healthy</td><td>NA</td><td>KT02284</td><td>2022-10-01</td><td>0</td><td>SD1021</td><td>Female</td><td>1971</td><td>NA</td><td>NA</td><td>0</td><td>ALTRA_healthy</td><td>-2000</td><td>CON1</td><td>CON101</td><td>CON1</td></tr>\n",
       "\t<tr><th scope=row>2</th><td>2</td><td>ALTRA_healthy</td><td>NA</td><td>KT02286</td><td>2022-08-01</td><td>0</td><td>SD1022</td><td>Female</td><td>1985</td><td>NA</td><td>NA</td><td>2</td><td>ALTRA_healthy</td><td>-2000</td><td>CON1</td><td>CON102</td><td>CON1</td></tr>\n",
       "\t<tr><th scope=row>3</th><td>3</td><td>ALTRA_healthy</td><td>NA</td><td>KT02287</td><td>2022-05-01</td><td>0</td><td>SD1015</td><td>Female</td><td>1963</td><td>NA</td><td>NA</td><td>0</td><td>ALTRA_healthy</td><td>-2000</td><td>CON1</td><td>CON103</td><td>CON1</td></tr>\n",
       "</tbody>\n",
       "</table>\n"
      ],
      "text/latex": [
       "A data.frame: 3 × 17\n",
       "\\begin{tabular}{r|lllllllllllllllll}\n",
       "  & X & Status\\_Xsec & Status\\_Long & sample.sampleKitGuid & sample.drawDate & sample.daysSinceFirstVisit & subject.subjectGuid & subject.biologicalSex & subject.birthYear & days\\_to\\_conversion & number\\_of\\_days\\_to\\_from\\_ra\\_conversion\\_cu & anti\\_ccp3\\_finalCombined & status & time & s1 & s1\\_ids & Status\\_new\\\\\n",
       "  & <int> & <chr> & <chr> & <chr> & <chr> & <int> & <chr> & <chr> & <int> & <int> & <int> & <int> & <chr> & <int> & <chr> & <chr> & <chr>\\\\\n",
       "\\hline\n",
       "\t1 & 1 & ALTRA\\_healthy & NA & KT02284 & 2022-10-01 & 0 & SD1021 & Female & 1971 & NA & NA & 0 & ALTRA\\_healthy & -2000 & CON1 & CON101 & CON1\\\\\n",
       "\t2 & 2 & ALTRA\\_healthy & NA & KT02286 & 2022-08-01 & 0 & SD1022 & Female & 1985 & NA & NA & 2 & ALTRA\\_healthy & -2000 & CON1 & CON102 & CON1\\\\\n",
       "\t3 & 3 & ALTRA\\_healthy & NA & KT02287 & 2022-05-01 & 0 & SD1015 & Female & 1963 & NA & NA & 0 & ALTRA\\_healthy & -2000 & CON1 & CON103 & CON1\\\\\n",
       "\\end{tabular}\n"
      ],
      "text/markdown": [
       "\n",
       "A data.frame: 3 × 17\n",
       "\n",
       "| <!--/--> | X &lt;int&gt; | Status_Xsec &lt;chr&gt; | Status_Long &lt;chr&gt; | sample.sampleKitGuid &lt;chr&gt; | sample.drawDate &lt;chr&gt; | sample.daysSinceFirstVisit &lt;int&gt; | subject.subjectGuid &lt;chr&gt; | subject.biologicalSex &lt;chr&gt; | subject.birthYear &lt;int&gt; | days_to_conversion &lt;int&gt; | number_of_days_to_from_ra_conversion_cu &lt;int&gt; | anti_ccp3_finalCombined &lt;int&gt; | status &lt;chr&gt; | time &lt;int&gt; | s1 &lt;chr&gt; | s1_ids &lt;chr&gt; | Status_new &lt;chr&gt; |\n",
       "|---|---|---|---|---|---|---|---|---|---|---|---|---|---|---|---|---|---|\n",
       "| 1 | 1 | ALTRA_healthy | NA | KT02284 | 2022-10-01 | 0 | SD1021 | Female | 1971 | NA | NA | 0 | ALTRA_healthy | -2000 | CON1 | CON101 | CON1 |\n",
       "| 2 | 2 | ALTRA_healthy | NA | KT02286 | 2022-08-01 | 0 | SD1022 | Female | 1985 | NA | NA | 2 | ALTRA_healthy | -2000 | CON1 | CON102 | CON1 |\n",
       "| 3 | 3 | ALTRA_healthy | NA | KT02287 | 2022-05-01 | 0 | SD1015 | Female | 1963 | NA | NA | 0 | ALTRA_healthy | -2000 | CON1 | CON103 | CON1 |\n",
       "\n"
      ],
      "text/plain": [
       "  X Status_Xsec   Status_Long sample.sampleKitGuid sample.drawDate\n",
       "1 1 ALTRA_healthy NA          KT02284              2022-10-01     \n",
       "2 2 ALTRA_healthy NA          KT02286              2022-08-01     \n",
       "3 3 ALTRA_healthy NA          KT02287              2022-05-01     \n",
       "  sample.daysSinceFirstVisit subject.subjectGuid subject.biologicalSex\n",
       "1 0                          SD1021              Female               \n",
       "2 0                          SD1022              Female               \n",
       "3 0                          SD1015              Female               \n",
       "  subject.birthYear days_to_conversion number_of_days_to_from_ra_conversion_cu\n",
       "1 1971              NA                 NA                                     \n",
       "2 1985              NA                 NA                                     \n",
       "3 1963              NA                 NA                                     \n",
       "  anti_ccp3_finalCombined status        time  s1   s1_ids Status_new\n",
       "1 0                       ALTRA_healthy -2000 CON1 CON101 CON1      \n",
       "2 2                       ALTRA_healthy -2000 CON1 CON102 CON1      \n",
       "3 0                       ALTRA_healthy -2000 CON1 CON103 CON1      "
      ]
     },
     "metadata": {},
     "output_type": "display_data"
    }
   ],
   "source": [
    "master_meta=read.csv(\"/home/jupyter/ALTRA_ANALYSIS/Deep_clean/Figure_notebooks/files/input_files/certpro_Zi_files/Figure_input_files/ALTRA_Fig1_Master_meta_bri_Updated\n",
    "                    .csv\")\n",
    "master_meta%>%head(3)"
   ]
  },
  {
   "cell_type": "markdown",
   "id": "3c31c1cb-effe-4ca5-bfab-5a69ec388388",
   "metadata": {},
   "source": [
    "#### MARK code for coding the new early RA status\n"
   ]
  },
  {
   "cell_type": "code",
   "execution_count": 5,
   "id": "cdbf99f9-ac97-4060-9200-a6c635b9bb6b",
   "metadata": {},
   "outputs": [],
   "source": [
    "# Subset df based on the disease status to plot \n",
    "altra_Xsec_v1 <- master_meta %>%\n",
    "  filter(Status_Xsec %in% c(\"ALTRA_healthy\", \"at_risk\", \"early_RA\"))"
   ]
  },
  {
   "cell_type": "code",
   "execution_count": 6,
   "id": "30ea90db-f49d-4393-8524-7072ddd4784a",
   "metadata": {},
   "outputs": [
    {
     "data": {
      "text/html": [
       "<table class=\"dataframe\">\n",
       "<caption>A data.frame: 6 × 18</caption>\n",
       "<thead>\n",
       "\t<tr><th></th><th scope=col>X</th><th scope=col>Status_Xsec</th><th scope=col>Status_Long</th><th scope=col>sample.sampleKitGuid</th><th scope=col>sample.drawDate</th><th scope=col>sample.daysSinceFirstVisit</th><th scope=col>subject.subjectGuid</th><th scope=col>subject.biologicalSex</th><th scope=col>subject.birthYear</th><th scope=col>days_to_conversion</th><th scope=col>number_of_days_to_from_ra_conversion_cu</th><th scope=col>anti_ccp3_finalCombined</th><th scope=col>status</th><th scope=col>time</th><th scope=col>s1</th><th scope=col>s1_ids</th><th scope=col>Status_new</th><th scope=col>subStatus</th></tr>\n",
       "\t<tr><th></th><th scope=col>&lt;int&gt;</th><th scope=col>&lt;chr&gt;</th><th scope=col>&lt;chr&gt;</th><th scope=col>&lt;chr&gt;</th><th scope=col>&lt;chr&gt;</th><th scope=col>&lt;int&gt;</th><th scope=col>&lt;chr&gt;</th><th scope=col>&lt;chr&gt;</th><th scope=col>&lt;int&gt;</th><th scope=col>&lt;int&gt;</th><th scope=col>&lt;int&gt;</th><th scope=col>&lt;int&gt;</th><th scope=col>&lt;chr&gt;</th><th scope=col>&lt;int&gt;</th><th scope=col>&lt;chr&gt;</th><th scope=col>&lt;chr&gt;</th><th scope=col>&lt;chr&gt;</th><th scope=col>&lt;chr&gt;</th></tr>\n",
       "</thead>\n",
       "<tbody>\n",
       "\t<tr><th scope=row>1</th><td>1</td><td>ALTRA_healthy</td><td>NA</td><td>KT02284</td><td>2022-10-01</td><td>0</td><td>SD1021</td><td>Female</td><td>1971</td><td>NA</td><td>NA</td><td> 0</td><td>ALTRA_healthy</td><td>-2000</td><td>CON1</td><td>CON101</td><td>CON1</td><td>ALTRA_healthy</td></tr>\n",
       "\t<tr><th scope=row>2</th><td>2</td><td>ALTRA_healthy</td><td>NA</td><td>KT02286</td><td>2022-08-01</td><td>0</td><td>SD1022</td><td>Female</td><td>1985</td><td>NA</td><td>NA</td><td> 2</td><td>ALTRA_healthy</td><td>-2000</td><td>CON1</td><td>CON102</td><td>CON1</td><td>ALTRA_healthy</td></tr>\n",
       "\t<tr><th scope=row>3</th><td>3</td><td>ALTRA_healthy</td><td>NA</td><td>KT02287</td><td>2022-05-01</td><td>0</td><td>SD1015</td><td>Female</td><td>1963</td><td>NA</td><td>NA</td><td> 0</td><td>ALTRA_healthy</td><td>-2000</td><td>CON1</td><td>CON103</td><td>CON1</td><td>ALTRA_healthy</td></tr>\n",
       "\t<tr><th scope=row>4</th><td>4</td><td>ALTRA_healthy</td><td>NA</td><td>KT02292</td><td>2022-09-01</td><td>0</td><td>SD1020</td><td>Female</td><td>1986</td><td>NA</td><td>NA</td><td> 3</td><td>ALTRA_healthy</td><td>-2000</td><td>CON1</td><td>CON104</td><td>CON1</td><td>ALTRA_healthy</td></tr>\n",
       "\t<tr><th scope=row>5</th><td>5</td><td>ALTRA_healthy</td><td>NA</td><td>KT02298</td><td>2022-09-01</td><td>0</td><td>SD1026</td><td>Female</td><td>1965</td><td>NA</td><td>NA</td><td>NA</td><td>ALTRA_healthy</td><td>-2000</td><td>CON1</td><td>CON105</td><td>CON1</td><td>ALTRA_healthy</td></tr>\n",
       "\t<tr><th scope=row>6</th><td>6</td><td>ALTRA_healthy</td><td>NA</td><td>KT02303</td><td>2022-09-01</td><td>0</td><td>SD1024</td><td>Female</td><td>1944</td><td>NA</td><td>NA</td><td> 4</td><td>ALTRA_healthy</td><td>-2000</td><td>CON1</td><td>CON106</td><td>CON1</td><td>ALTRA_healthy</td></tr>\n",
       "</tbody>\n",
       "</table>\n"
      ],
      "text/latex": [
       "A data.frame: 6 × 18\n",
       "\\begin{tabular}{r|llllllllllllllllll}\n",
       "  & X & Status\\_Xsec & Status\\_Long & sample.sampleKitGuid & sample.drawDate & sample.daysSinceFirstVisit & subject.subjectGuid & subject.biologicalSex & subject.birthYear & days\\_to\\_conversion & number\\_of\\_days\\_to\\_from\\_ra\\_conversion\\_cu & anti\\_ccp3\\_finalCombined & status & time & s1 & s1\\_ids & Status\\_new & subStatus\\\\\n",
       "  & <int> & <chr> & <chr> & <chr> & <chr> & <int> & <chr> & <chr> & <int> & <int> & <int> & <int> & <chr> & <int> & <chr> & <chr> & <chr> & <chr>\\\\\n",
       "\\hline\n",
       "\t1 & 1 & ALTRA\\_healthy & NA & KT02284 & 2022-10-01 & 0 & SD1021 & Female & 1971 & NA & NA &  0 & ALTRA\\_healthy & -2000 & CON1 & CON101 & CON1 & ALTRA\\_healthy\\\\\n",
       "\t2 & 2 & ALTRA\\_healthy & NA & KT02286 & 2022-08-01 & 0 & SD1022 & Female & 1985 & NA & NA &  2 & ALTRA\\_healthy & -2000 & CON1 & CON102 & CON1 & ALTRA\\_healthy\\\\\n",
       "\t3 & 3 & ALTRA\\_healthy & NA & KT02287 & 2022-05-01 & 0 & SD1015 & Female & 1963 & NA & NA &  0 & ALTRA\\_healthy & -2000 & CON1 & CON103 & CON1 & ALTRA\\_healthy\\\\\n",
       "\t4 & 4 & ALTRA\\_healthy & NA & KT02292 & 2022-09-01 & 0 & SD1020 & Female & 1986 & NA & NA &  3 & ALTRA\\_healthy & -2000 & CON1 & CON104 & CON1 & ALTRA\\_healthy\\\\\n",
       "\t5 & 5 & ALTRA\\_healthy & NA & KT02298 & 2022-09-01 & 0 & SD1026 & Female & 1965 & NA & NA & NA & ALTRA\\_healthy & -2000 & CON1 & CON105 & CON1 & ALTRA\\_healthy\\\\\n",
       "\t6 & 6 & ALTRA\\_healthy & NA & KT02303 & 2022-09-01 & 0 & SD1024 & Female & 1944 & NA & NA &  4 & ALTRA\\_healthy & -2000 & CON1 & CON106 & CON1 & ALTRA\\_healthy\\\\\n",
       "\\end{tabular}\n"
      ],
      "text/markdown": [
       "\n",
       "A data.frame: 6 × 18\n",
       "\n",
       "| <!--/--> | X &lt;int&gt; | Status_Xsec &lt;chr&gt; | Status_Long &lt;chr&gt; | sample.sampleKitGuid &lt;chr&gt; | sample.drawDate &lt;chr&gt; | sample.daysSinceFirstVisit &lt;int&gt; | subject.subjectGuid &lt;chr&gt; | subject.biologicalSex &lt;chr&gt; | subject.birthYear &lt;int&gt; | days_to_conversion &lt;int&gt; | number_of_days_to_from_ra_conversion_cu &lt;int&gt; | anti_ccp3_finalCombined &lt;int&gt; | status &lt;chr&gt; | time &lt;int&gt; | s1 &lt;chr&gt; | s1_ids &lt;chr&gt; | Status_new &lt;chr&gt; | subStatus &lt;chr&gt; |\n",
       "|---|---|---|---|---|---|---|---|---|---|---|---|---|---|---|---|---|---|---|\n",
       "| 1 | 1 | ALTRA_healthy | NA | KT02284 | 2022-10-01 | 0 | SD1021 | Female | 1971 | NA | NA |  0 | ALTRA_healthy | -2000 | CON1 | CON101 | CON1 | ALTRA_healthy |\n",
       "| 2 | 2 | ALTRA_healthy | NA | KT02286 | 2022-08-01 | 0 | SD1022 | Female | 1985 | NA | NA |  2 | ALTRA_healthy | -2000 | CON1 | CON102 | CON1 | ALTRA_healthy |\n",
       "| 3 | 3 | ALTRA_healthy | NA | KT02287 | 2022-05-01 | 0 | SD1015 | Female | 1963 | NA | NA |  0 | ALTRA_healthy | -2000 | CON1 | CON103 | CON1 | ALTRA_healthy |\n",
       "| 4 | 4 | ALTRA_healthy | NA | KT02292 | 2022-09-01 | 0 | SD1020 | Female | 1986 | NA | NA |  3 | ALTRA_healthy | -2000 | CON1 | CON104 | CON1 | ALTRA_healthy |\n",
       "| 5 | 5 | ALTRA_healthy | NA | KT02298 | 2022-09-01 | 0 | SD1026 | Female | 1965 | NA | NA | NA | ALTRA_healthy | -2000 | CON1 | CON105 | CON1 | ALTRA_healthy |\n",
       "| 6 | 6 | ALTRA_healthy | NA | KT02303 | 2022-09-01 | 0 | SD1024 | Female | 1944 | NA | NA |  4 | ALTRA_healthy | -2000 | CON1 | CON106 | CON1 | ALTRA_healthy |\n",
       "\n"
      ],
      "text/plain": [
       "  X Status_Xsec   Status_Long sample.sampleKitGuid sample.drawDate\n",
       "1 1 ALTRA_healthy NA          KT02284              2022-10-01     \n",
       "2 2 ALTRA_healthy NA          KT02286              2022-08-01     \n",
       "3 3 ALTRA_healthy NA          KT02287              2022-05-01     \n",
       "4 4 ALTRA_healthy NA          KT02292              2022-09-01     \n",
       "5 5 ALTRA_healthy NA          KT02298              2022-09-01     \n",
       "6 6 ALTRA_healthy NA          KT02303              2022-09-01     \n",
       "  sample.daysSinceFirstVisit subject.subjectGuid subject.biologicalSex\n",
       "1 0                          SD1021              Female               \n",
       "2 0                          SD1022              Female               \n",
       "3 0                          SD1015              Female               \n",
       "4 0                          SD1020              Female               \n",
       "5 0                          SD1026              Female               \n",
       "6 0                          SD1024              Female               \n",
       "  subject.birthYear days_to_conversion number_of_days_to_from_ra_conversion_cu\n",
       "1 1971              NA                 NA                                     \n",
       "2 1985              NA                 NA                                     \n",
       "3 1963              NA                 NA                                     \n",
       "4 1986              NA                 NA                                     \n",
       "5 1965              NA                 NA                                     \n",
       "6 1944              NA                 NA                                     \n",
       "  anti_ccp3_finalCombined status        time  s1   s1_ids Status_new\n",
       "1  0                      ALTRA_healthy -2000 CON1 CON101 CON1      \n",
       "2  2                      ALTRA_healthy -2000 CON1 CON102 CON1      \n",
       "3  0                      ALTRA_healthy -2000 CON1 CON103 CON1      \n",
       "4  3                      ALTRA_healthy -2000 CON1 CON104 CON1      \n",
       "5 NA                      ALTRA_healthy -2000 CON1 CON105 CON1      \n",
       "6  4                      ALTRA_healthy -2000 CON1 CON106 CON1      \n",
       "  subStatus    \n",
       "1 ALTRA_healthy\n",
       "2 ALTRA_healthy\n",
       "3 ALTRA_healthy\n",
       "4 ALTRA_healthy\n",
       "5 ALTRA_healthy\n",
       "6 ALTRA_healthy"
      ]
     },
     "metadata": {},
     "output_type": "display_data"
    },
    {
     "data": {
      "text/html": [
       "110"
      ],
      "text/latex": [
       "110"
      ],
      "text/markdown": [
       "110"
      ],
      "text/plain": [
       "[1] 110"
      ]
     },
     "metadata": {},
     "output_type": "display_data"
    },
    {
     "data": {
      "text/plain": [
       "               \n",
       "                ALTRA_healthy at_risk Converter early_RA\n",
       "  ALTRA_healthy            38       0         0        0\n",
       "  at_risk                   0      45         0        0\n",
       "  early_RA                  0       0        16       11"
      ]
     },
     "metadata": {},
     "output_type": "display_data"
    }
   ],
   "source": [
    "# updating the converters for plotting \n",
    "conv <- c('CU1003', 'CU1007', 'CU1009', 'CU1010', 'CU1015', 'CU1021', 'CU1029', \n",
    "          'CU1033', 'CU1037', 'CU1039', 'CU1044', 'CU1050', 'CU1052', 'CU1053', \n",
    "          'SD1003', 'SD1007')\n",
    "\n",
    "\n",
    "altra_Xsec_v2 <- altra_Xsec_v1 %>%\n",
    "    mutate(subStatus = ifelse(Status_Xsec == 'early_RA' & subject.subjectGuid %in% conv, \n",
    "                              'Converter', \n",
    "                              Status_Xsec)) %>%\n",
    "    filter(!is.na(subStatus), # remove longitudinal samples\n",
    "           sample.sampleKitGuid != 'KT04113') # remove duplicate CU1009 (post-conversion) entry to match other analyses\n",
    "\n",
    "\n",
    "# i do not have updated info to correctly determine IA vs RA at this time\n",
    "\n",
    "\n",
    "head(altra_Xsec_v2)\n",
    "nrow(altra_Xsec_v2)\n",
    "\n",
    "table(altra_Xsec_v2$Status_Xsec, altra_Xsec_v2$subStatus)"
   ]
  },
  {
   "cell_type": "code",
   "execution_count": 7,
   "id": "d3d1b80b-59b9-4b28-9983-df0547273ccb",
   "metadata": {},
   "outputs": [
    {
     "data": {
      "text/html": [
       "<table class=\"dataframe\">\n",
       "<caption>A data.frame: 3 × 19</caption>\n",
       "<thead>\n",
       "\t<tr><th></th><th scope=col>X</th><th scope=col>Status_Xsec</th><th scope=col>Status_Long</th><th scope=col>sample.sampleKitGuid</th><th scope=col>sample.drawDate</th><th scope=col>sample.daysSinceFirstVisit</th><th scope=col>subject.subjectGuid</th><th scope=col>subject.biologicalSex</th><th scope=col>subject.birthYear</th><th scope=col>days_to_conversion</th><th scope=col>number_of_days_to_from_ra_conversion_cu</th><th scope=col>anti_ccp3_finalCombined</th><th scope=col>status</th><th scope=col>time</th><th scope=col>s1</th><th scope=col>s1_ids</th><th scope=col>Status_new</th><th scope=col>subStatus</th><th scope=col>log2_anti_ccp3_finalCombined</th></tr>\n",
       "\t<tr><th></th><th scope=col>&lt;int&gt;</th><th scope=col>&lt;chr&gt;</th><th scope=col>&lt;chr&gt;</th><th scope=col>&lt;chr&gt;</th><th scope=col>&lt;chr&gt;</th><th scope=col>&lt;int&gt;</th><th scope=col>&lt;chr&gt;</th><th scope=col>&lt;chr&gt;</th><th scope=col>&lt;int&gt;</th><th scope=col>&lt;int&gt;</th><th scope=col>&lt;int&gt;</th><th scope=col>&lt;int&gt;</th><th scope=col>&lt;chr&gt;</th><th scope=col>&lt;int&gt;</th><th scope=col>&lt;chr&gt;</th><th scope=col>&lt;chr&gt;</th><th scope=col>&lt;chr&gt;</th><th scope=col>&lt;chr&gt;</th><th scope=col>&lt;dbl&gt;</th></tr>\n",
       "</thead>\n",
       "<tbody>\n",
       "\t<tr><th scope=row>1</th><td>1</td><td>ALTRA_healthy</td><td>NA</td><td>KT02284</td><td>2022-10-01</td><td>0</td><td>SD1021</td><td>Female</td><td>1971</td><td>NA</td><td>NA</td><td>0</td><td>ALTRA_healthy</td><td>-2000</td><td>CON1</td><td>CON101</td><td>CON1</td><td>ALTRA_healthy</td><td>-Inf</td></tr>\n",
       "\t<tr><th scope=row>2</th><td>2</td><td>ALTRA_healthy</td><td>NA</td><td>KT02286</td><td>2022-08-01</td><td>0</td><td>SD1022</td><td>Female</td><td>1985</td><td>NA</td><td>NA</td><td>2</td><td>ALTRA_healthy</td><td>-2000</td><td>CON1</td><td>CON102</td><td>CON1</td><td>ALTRA_healthy</td><td>   1</td></tr>\n",
       "\t<tr><th scope=row>3</th><td>3</td><td>ALTRA_healthy</td><td>NA</td><td>KT02287</td><td>2022-05-01</td><td>0</td><td>SD1015</td><td>Female</td><td>1963</td><td>NA</td><td>NA</td><td>0</td><td>ALTRA_healthy</td><td>-2000</td><td>CON1</td><td>CON103</td><td>CON1</td><td>ALTRA_healthy</td><td>-Inf</td></tr>\n",
       "</tbody>\n",
       "</table>\n"
      ],
      "text/latex": [
       "A data.frame: 3 × 19\n",
       "\\begin{tabular}{r|lllllllllllllllllll}\n",
       "  & X & Status\\_Xsec & Status\\_Long & sample.sampleKitGuid & sample.drawDate & sample.daysSinceFirstVisit & subject.subjectGuid & subject.biologicalSex & subject.birthYear & days\\_to\\_conversion & number\\_of\\_days\\_to\\_from\\_ra\\_conversion\\_cu & anti\\_ccp3\\_finalCombined & status & time & s1 & s1\\_ids & Status\\_new & subStatus & log2\\_anti\\_ccp3\\_finalCombined\\\\\n",
       "  & <int> & <chr> & <chr> & <chr> & <chr> & <int> & <chr> & <chr> & <int> & <int> & <int> & <int> & <chr> & <int> & <chr> & <chr> & <chr> & <chr> & <dbl>\\\\\n",
       "\\hline\n",
       "\t1 & 1 & ALTRA\\_healthy & NA & KT02284 & 2022-10-01 & 0 & SD1021 & Female & 1971 & NA & NA & 0 & ALTRA\\_healthy & -2000 & CON1 & CON101 & CON1 & ALTRA\\_healthy & -Inf\\\\\n",
       "\t2 & 2 & ALTRA\\_healthy & NA & KT02286 & 2022-08-01 & 0 & SD1022 & Female & 1985 & NA & NA & 2 & ALTRA\\_healthy & -2000 & CON1 & CON102 & CON1 & ALTRA\\_healthy &    1\\\\\n",
       "\t3 & 3 & ALTRA\\_healthy & NA & KT02287 & 2022-05-01 & 0 & SD1015 & Female & 1963 & NA & NA & 0 & ALTRA\\_healthy & -2000 & CON1 & CON103 & CON1 & ALTRA\\_healthy & -Inf\\\\\n",
       "\\end{tabular}\n"
      ],
      "text/markdown": [
       "\n",
       "A data.frame: 3 × 19\n",
       "\n",
       "| <!--/--> | X &lt;int&gt; | Status_Xsec &lt;chr&gt; | Status_Long &lt;chr&gt; | sample.sampleKitGuid &lt;chr&gt; | sample.drawDate &lt;chr&gt; | sample.daysSinceFirstVisit &lt;int&gt; | subject.subjectGuid &lt;chr&gt; | subject.biologicalSex &lt;chr&gt; | subject.birthYear &lt;int&gt; | days_to_conversion &lt;int&gt; | number_of_days_to_from_ra_conversion_cu &lt;int&gt; | anti_ccp3_finalCombined &lt;int&gt; | status &lt;chr&gt; | time &lt;int&gt; | s1 &lt;chr&gt; | s1_ids &lt;chr&gt; | Status_new &lt;chr&gt; | subStatus &lt;chr&gt; | log2_anti_ccp3_finalCombined &lt;dbl&gt; |\n",
       "|---|---|---|---|---|---|---|---|---|---|---|---|---|---|---|---|---|---|---|---|\n",
       "| 1 | 1 | ALTRA_healthy | NA | KT02284 | 2022-10-01 | 0 | SD1021 | Female | 1971 | NA | NA | 0 | ALTRA_healthy | -2000 | CON1 | CON101 | CON1 | ALTRA_healthy | -Inf |\n",
       "| 2 | 2 | ALTRA_healthy | NA | KT02286 | 2022-08-01 | 0 | SD1022 | Female | 1985 | NA | NA | 2 | ALTRA_healthy | -2000 | CON1 | CON102 | CON1 | ALTRA_healthy |    1 |\n",
       "| 3 | 3 | ALTRA_healthy | NA | KT02287 | 2022-05-01 | 0 | SD1015 | Female | 1963 | NA | NA | 0 | ALTRA_healthy | -2000 | CON1 | CON103 | CON1 | ALTRA_healthy | -Inf |\n",
       "\n"
      ],
      "text/plain": [
       "  X Status_Xsec   Status_Long sample.sampleKitGuid sample.drawDate\n",
       "1 1 ALTRA_healthy NA          KT02284              2022-10-01     \n",
       "2 2 ALTRA_healthy NA          KT02286              2022-08-01     \n",
       "3 3 ALTRA_healthy NA          KT02287              2022-05-01     \n",
       "  sample.daysSinceFirstVisit subject.subjectGuid subject.biologicalSex\n",
       "1 0                          SD1021              Female               \n",
       "2 0                          SD1022              Female               \n",
       "3 0                          SD1015              Female               \n",
       "  subject.birthYear days_to_conversion number_of_days_to_from_ra_conversion_cu\n",
       "1 1971              NA                 NA                                     \n",
       "2 1985              NA                 NA                                     \n",
       "3 1963              NA                 NA                                     \n",
       "  anti_ccp3_finalCombined status        time  s1   s1_ids Status_new\n",
       "1 0                       ALTRA_healthy -2000 CON1 CON101 CON1      \n",
       "2 2                       ALTRA_healthy -2000 CON1 CON102 CON1      \n",
       "3 0                       ALTRA_healthy -2000 CON1 CON103 CON1      \n",
       "  subStatus     log2_anti_ccp3_finalCombined\n",
       "1 ALTRA_healthy -Inf                        \n",
       "2 ALTRA_healthy    1                        \n",
       "3 ALTRA_healthy -Inf                        "
      ]
     },
     "metadata": {},
     "output_type": "display_data"
    }
   ],
   "source": [
    "# taking log of anti-ccp3 levels for plotting \n",
    "altra_Xsec_v2 <- altra_Xsec_v2 %>%\n",
    "  mutate(log2_anti_ccp3_finalCombined = log2(anti_ccp3_finalCombined))\n",
    "altra_Xsec_v2%>%head(3)"
   ]
  },
  {
   "cell_type": "code",
   "execution_count": 8,
   "id": "3ff776b1-756d-4e75-869e-62b3a30c75cb",
   "metadata": {},
   "outputs": [],
   "source": [
    "altra_Xsec_v2 <- altra_Xsec_v2 %>%\n",
    "  mutate(Substatus_MS = case_when(\n",
    "    subStatus == \"ALTRA_healthy\" ~ \"CON1\",\n",
    "    subStatus %in% c(\"at_risk\", \"Converter\") ~ \"ARI\",\n",
    "    subStatus == \"early_RA\" ~ \"ERA\",\n",
    "    TRUE ~ NA_character_ # This ensures that if none of the conditions match, NA is returned\n",
    "  ))"
   ]
  },
  {
   "cell_type": "code",
   "execution_count": 9,
   "id": "ec1437d5-9bb6-4d5e-8445-a00fe0f13bc5",
   "metadata": {},
   "outputs": [
    {
     "data": {
      "text/html": [
       "<table class=\"dataframe\">\n",
       "<caption>A data.frame: 3 × 20</caption>\n",
       "<thead>\n",
       "\t<tr><th></th><th scope=col>X</th><th scope=col>Status_Xsec</th><th scope=col>Status_Long</th><th scope=col>sample.sampleKitGuid</th><th scope=col>sample.drawDate</th><th scope=col>sample.daysSinceFirstVisit</th><th scope=col>subject.subjectGuid</th><th scope=col>subject.biologicalSex</th><th scope=col>subject.birthYear</th><th scope=col>days_to_conversion</th><th scope=col>number_of_days_to_from_ra_conversion_cu</th><th scope=col>anti_ccp3_finalCombined</th><th scope=col>status</th><th scope=col>time</th><th scope=col>s1</th><th scope=col>s1_ids</th><th scope=col>Status_new</th><th scope=col>subStatus</th><th scope=col>log2_anti_ccp3_finalCombined</th><th scope=col>Substatus_MS</th></tr>\n",
       "\t<tr><th></th><th scope=col>&lt;int&gt;</th><th scope=col>&lt;chr&gt;</th><th scope=col>&lt;chr&gt;</th><th scope=col>&lt;chr&gt;</th><th scope=col>&lt;chr&gt;</th><th scope=col>&lt;int&gt;</th><th scope=col>&lt;chr&gt;</th><th scope=col>&lt;chr&gt;</th><th scope=col>&lt;int&gt;</th><th scope=col>&lt;int&gt;</th><th scope=col>&lt;int&gt;</th><th scope=col>&lt;int&gt;</th><th scope=col>&lt;chr&gt;</th><th scope=col>&lt;int&gt;</th><th scope=col>&lt;chr&gt;</th><th scope=col>&lt;chr&gt;</th><th scope=col>&lt;chr&gt;</th><th scope=col>&lt;chr&gt;</th><th scope=col>&lt;dbl&gt;</th><th scope=col>&lt;chr&gt;</th></tr>\n",
       "</thead>\n",
       "<tbody>\n",
       "\t<tr><th scope=row>1</th><td>1</td><td>ALTRA_healthy</td><td>NA</td><td>KT02284</td><td>2022-10-01</td><td>0</td><td>SD1021</td><td>Female</td><td>1971</td><td>NA</td><td>NA</td><td>0</td><td>ALTRA_healthy</td><td>-2000</td><td>CON1</td><td>CON101</td><td>CON1</td><td>ALTRA_healthy</td><td>-Inf</td><td>CON1</td></tr>\n",
       "\t<tr><th scope=row>2</th><td>2</td><td>ALTRA_healthy</td><td>NA</td><td>KT02286</td><td>2022-08-01</td><td>0</td><td>SD1022</td><td>Female</td><td>1985</td><td>NA</td><td>NA</td><td>2</td><td>ALTRA_healthy</td><td>-2000</td><td>CON1</td><td>CON102</td><td>CON1</td><td>ALTRA_healthy</td><td>   1</td><td>CON1</td></tr>\n",
       "\t<tr><th scope=row>3</th><td>3</td><td>ALTRA_healthy</td><td>NA</td><td>KT02287</td><td>2022-05-01</td><td>0</td><td>SD1015</td><td>Female</td><td>1963</td><td>NA</td><td>NA</td><td>0</td><td>ALTRA_healthy</td><td>-2000</td><td>CON1</td><td>CON103</td><td>CON1</td><td>ALTRA_healthy</td><td>-Inf</td><td>CON1</td></tr>\n",
       "</tbody>\n",
       "</table>\n"
      ],
      "text/latex": [
       "A data.frame: 3 × 20\n",
       "\\begin{tabular}{r|llllllllllllllllllll}\n",
       "  & X & Status\\_Xsec & Status\\_Long & sample.sampleKitGuid & sample.drawDate & sample.daysSinceFirstVisit & subject.subjectGuid & subject.biologicalSex & subject.birthYear & days\\_to\\_conversion & number\\_of\\_days\\_to\\_from\\_ra\\_conversion\\_cu & anti\\_ccp3\\_finalCombined & status & time & s1 & s1\\_ids & Status\\_new & subStatus & log2\\_anti\\_ccp3\\_finalCombined & Substatus\\_MS\\\\\n",
       "  & <int> & <chr> & <chr> & <chr> & <chr> & <int> & <chr> & <chr> & <int> & <int> & <int> & <int> & <chr> & <int> & <chr> & <chr> & <chr> & <chr> & <dbl> & <chr>\\\\\n",
       "\\hline\n",
       "\t1 & 1 & ALTRA\\_healthy & NA & KT02284 & 2022-10-01 & 0 & SD1021 & Female & 1971 & NA & NA & 0 & ALTRA\\_healthy & -2000 & CON1 & CON101 & CON1 & ALTRA\\_healthy & -Inf & CON1\\\\\n",
       "\t2 & 2 & ALTRA\\_healthy & NA & KT02286 & 2022-08-01 & 0 & SD1022 & Female & 1985 & NA & NA & 2 & ALTRA\\_healthy & -2000 & CON1 & CON102 & CON1 & ALTRA\\_healthy &    1 & CON1\\\\\n",
       "\t3 & 3 & ALTRA\\_healthy & NA & KT02287 & 2022-05-01 & 0 & SD1015 & Female & 1963 & NA & NA & 0 & ALTRA\\_healthy & -2000 & CON1 & CON103 & CON1 & ALTRA\\_healthy & -Inf & CON1\\\\\n",
       "\\end{tabular}\n"
      ],
      "text/markdown": [
       "\n",
       "A data.frame: 3 × 20\n",
       "\n",
       "| <!--/--> | X &lt;int&gt; | Status_Xsec &lt;chr&gt; | Status_Long &lt;chr&gt; | sample.sampleKitGuid &lt;chr&gt; | sample.drawDate &lt;chr&gt; | sample.daysSinceFirstVisit &lt;int&gt; | subject.subjectGuid &lt;chr&gt; | subject.biologicalSex &lt;chr&gt; | subject.birthYear &lt;int&gt; | days_to_conversion &lt;int&gt; | number_of_days_to_from_ra_conversion_cu &lt;int&gt; | anti_ccp3_finalCombined &lt;int&gt; | status &lt;chr&gt; | time &lt;int&gt; | s1 &lt;chr&gt; | s1_ids &lt;chr&gt; | Status_new &lt;chr&gt; | subStatus &lt;chr&gt; | log2_anti_ccp3_finalCombined &lt;dbl&gt; | Substatus_MS &lt;chr&gt; |\n",
       "|---|---|---|---|---|---|---|---|---|---|---|---|---|---|---|---|---|---|---|---|---|\n",
       "| 1 | 1 | ALTRA_healthy | NA | KT02284 | 2022-10-01 | 0 | SD1021 | Female | 1971 | NA | NA | 0 | ALTRA_healthy | -2000 | CON1 | CON101 | CON1 | ALTRA_healthy | -Inf | CON1 |\n",
       "| 2 | 2 | ALTRA_healthy | NA | KT02286 | 2022-08-01 | 0 | SD1022 | Female | 1985 | NA | NA | 2 | ALTRA_healthy | -2000 | CON1 | CON102 | CON1 | ALTRA_healthy |    1 | CON1 |\n",
       "| 3 | 3 | ALTRA_healthy | NA | KT02287 | 2022-05-01 | 0 | SD1015 | Female | 1963 | NA | NA | 0 | ALTRA_healthy | -2000 | CON1 | CON103 | CON1 | ALTRA_healthy | -Inf | CON1 |\n",
       "\n"
      ],
      "text/plain": [
       "  X Status_Xsec   Status_Long sample.sampleKitGuid sample.drawDate\n",
       "1 1 ALTRA_healthy NA          KT02284              2022-10-01     \n",
       "2 2 ALTRA_healthy NA          KT02286              2022-08-01     \n",
       "3 3 ALTRA_healthy NA          KT02287              2022-05-01     \n",
       "  sample.daysSinceFirstVisit subject.subjectGuid subject.biologicalSex\n",
       "1 0                          SD1021              Female               \n",
       "2 0                          SD1022              Female               \n",
       "3 0                          SD1015              Female               \n",
       "  subject.birthYear days_to_conversion number_of_days_to_from_ra_conversion_cu\n",
       "1 1971              NA                 NA                                     \n",
       "2 1985              NA                 NA                                     \n",
       "3 1963              NA                 NA                                     \n",
       "  anti_ccp3_finalCombined status        time  s1   s1_ids Status_new\n",
       "1 0                       ALTRA_healthy -2000 CON1 CON101 CON1      \n",
       "2 2                       ALTRA_healthy -2000 CON1 CON102 CON1      \n",
       "3 0                       ALTRA_healthy -2000 CON1 CON103 CON1      \n",
       "  subStatus     log2_anti_ccp3_finalCombined Substatus_MS\n",
       "1 ALTRA_healthy -Inf                         CON1        \n",
       "2 ALTRA_healthy    1                         CON1        \n",
       "3 ALTRA_healthy -Inf                         CON1        "
      ]
     },
     "metadata": {},
     "output_type": "display_data"
    },
    {
     "data": {
      "text/html": [
       "<style>\n",
       ".list-inline {list-style: none; margin:0; padding: 0}\n",
       ".list-inline>li {display: inline-block}\n",
       ".list-inline>li:not(:last-child)::after {content: \"\\00b7\"; padding: 0 .5ex}\n",
       "</style>\n",
       "<ol class=list-inline><li>94</li><li>20</li></ol>\n"
      ],
      "text/latex": [
       "\\begin{enumerate*}\n",
       "\\item 94\n",
       "\\item 20\n",
       "\\end{enumerate*}\n"
      ],
      "text/markdown": [
       "1. 94\n",
       "2. 20\n",
       "\n",
       "\n"
      ],
      "text/plain": [
       "[1] 94 20"
      ]
     },
     "metadata": {},
     "output_type": "display_data"
    }
   ],
   "source": [
    "# Subset df based on the cross-sectional disease status\n",
    "altra_Xsec_v3 <- altra_Xsec_v2 %>%\n",
    "  filter(subStatus %in% c(\"ALTRA_healthy\", \"at_risk\", \"early_RA\"))\n",
    "altra_Xsec_v3%>%head(3)\n",
    "altra_Xsec_v3%>%dim"
   ]
  },
  {
   "cell_type": "code",
   "execution_count": 10,
   "id": "bf472d1b-a0fe-4b18-8317-a11961a54bd8",
   "metadata": {},
   "outputs": [
    {
     "data": {
      "image/png": "[encoded data removed]",
      "text/plain": [
       "plot without title"
      ]
     },
     "metadata": {
      "image/png": {
       "height": 300,
       "width": 270
      }
     },
     "output_type": "display_data"
    }
   ],
   "source": [
    "options(repr.plot.width = 4.5, repr.plot.height = 5)\n",
    "\n",
    "pal3 = c(\"#F59F00\",\"#4C8CBD\",\"#840032\")\n",
    "\n",
    "# Use position_jitterdodge with a set jitter width and dodge width\n",
    "pl_vl_rc <- ggplot(altra_Xsec_v3, aes(x = log2_anti_ccp3_finalCombined, y = factor(Substatus_MS, levels = c(\"ERA\", \"ARI\", \"CON1\")), color = Substatus_MS)) +\n",
    "  geom_violin(width = 0.7) +  # Adjust the width of the violins\n",
    "  geom_point(position = position_jitterdodge(jitter.width = 0.5, dodge.width =0.9), size = 0.3) +  # Apply controlled jitter\n",
    "  theme_classic() +\n",
    "  labs(x = \"Log2 anti-CCP3\", y = \"Status\", color = \"Status\") +\n",
    "  theme(\n",
    "    axis.text = element_text(size = 12, face = 'bold'),  # Adjust x and y axis text properties\n",
    "    axis.title = element_text(size = 14, face = 'bold'),  # Adjust axis title properties\n",
    "    legend.text = element_text(size = 12, face = 'bold'),  # Adjust legend text properties\n",
    "    legend.title = element_text(size = 14, face = 'bold'),  # Adjust legend title properties\n",
    "    panel.grid.minor = element_blank()  # Remove minor grid lines\n",
    "  ) +\n",
    "  scale_color_manual(values = pal3)\n",
    "\n",
    "# Display the plot\n",
    "pl_vl_rc\n",
    "\n",
    "# Save the plot\n",
    "ggsave(\"/home/jupyter/ALTRA_ANALYSIS/Deep_clean/Figure_files/Certpro_figures/Plots_for_manuscript/Fig_1B_Xsec_ViolinPlot_UPDATED.pdf\", plot = pl_vl_rc, width = 4, height = 4, units = \"in\")\n"
   ]
  },
  {
   "cell_type": "code",
   "execution_count": 11,
   "id": "fa019033-732e-431c-9ab9-2eac21baf7d8",
   "metadata": {},
   "outputs": [
    {
     "data": {
      "text/plain": [
       "R version 4.3.1 (2023-06-16)\n",
       "Platform: x86_64-conda-linux-gnu (64-bit)\n",
       "Running under: Ubuntu 20.04.6 LTS\n",
       "\n",
       "Matrix products: default\n",
       "BLAS/LAPACK: /home/jupyter/libs/r_scrna/lib/libopenblasp-r0.3.24.so;  LAPACK version 3.11.0\n",
       "\n",
       "locale:\n",
       " [1] LC_CTYPE=C.UTF-8       LC_NUMERIC=C           LC_TIME=C.UTF-8       \n",
       " [4] LC_COLLATE=C.UTF-8     LC_MONETARY=C.UTF-8    LC_MESSAGES=C.UTF-8   \n",
       " [7] LC_PAPER=C.UTF-8       LC_NAME=C              LC_ADDRESS=C          \n",
       "[10] LC_TELEPHONE=C         LC_MEASUREMENT=C.UTF-8 LC_IDENTIFICATION=C   \n",
       "\n",
       "time zone: Etc/UTC\n",
       "tzcode source: system (glibc)\n",
       "\n",
       "attached base packages:\n",
       "[1] stats4    stats     graphics  grDevices utils     datasets  methods  \n",
       "[8] base     \n",
       "\n",
       "other attached packages:\n",
       " [1] plotly_4.10.4               knitr_1.47                 \n",
       " [3] ggpubr_0.6.0                SeuratDisk_0.0.0.9021      \n",
       " [5] SingleCellExperiment_1.22.0 SummarizedExperiment_1.30.2\n",
       " [7] Biobase_2.60.0              GenomicRanges_1.52.1       \n",
       " [9] GenomeInfoDb_1.36.4         IRanges_2.34.1             \n",
       "[11] S4Vectors_0.38.2            BiocGenerics_0.46.0        \n",
       "[13] MatrixGenerics_1.12.3       matrixStats_1.3.0          \n",
       "[15] future.apply_1.11.2         future_1.33.2              \n",
       "[17] harmony_1.2.0               Rcpp_1.0.12                \n",
       "[19] viridis_0.6.5               viridisLite_0.4.2          \n",
       "[21] Matrix_1.6-1.1              SeuratObject_5.0.0         \n",
       "[23] Seurat_4.4.0                lubridate_1.9.3            \n",
       "[25] forcats_1.0.0               stringr_1.5.1              \n",
       "[27] dplyr_1.1.4                 purrr_1.0.2                \n",
       "[29] readr_2.1.5                 tidyr_1.3.1                \n",
       "[31] tibble_3.2.1                ggplot2_3.5.1              \n",
       "[33] tidyverse_2.0.0            \n",
       "\n",
       "loaded via a namespace (and not attached):\n",
       "  [1] RcppAnnoy_0.0.22        splines_4.3.1           later_1.3.2            \n",
       "  [4] pbdZMQ_0.3-11           bitops_1.0-7            polyclip_1.10-6        \n",
       "  [7] lifecycle_1.0.4         rstatix_0.7.2           globals_0.16.3         \n",
       " [10] lattice_0.22-6          hdf5r_1.3.10            MASS_7.3-60            \n",
       " [13] backports_1.5.0         magrittr_2.0.3          httpuv_1.6.15          \n",
       " [16] sctransform_0.4.1       spam_2.10-0             sp_2.1-4               \n",
       " [19] spatstat.sparse_3.1-0   reticulate_1.38.0       cowplot_1.1.3          \n",
       " [22] pbapply_1.7-2           RColorBrewer_1.1-3      abind_1.4-5            \n",
       " [25] zlibbioc_1.46.0         Rtsne_0.17              RCurl_1.98-1.14        \n",
       " [28] GenomeInfoDbData_1.2.10 ggrepel_0.9.5           irlba_2.3.5.1          \n",
       " [31] listenv_0.9.1           spatstat.utils_3.0-5    goftest_1.2-3          \n",
       " [34] spatstat.random_3.2-3   fitdistrplus_1.1-11     parallelly_1.37.1      \n",
       " [37] leiden_0.4.3.1          codetools_0.2-20        DelayedArray_0.26.7    \n",
       " [40] tidyselect_1.2.1        farver_2.1.2            base64enc_0.1-3        \n",
       " [43] spatstat.explore_3.2-7  jsonlite_1.8.8          progressr_0.14.0       \n",
       " [46] ggridges_0.5.6          survival_3.7-0          systemfonts_1.1.0      \n",
       " [49] tools_4.3.1             ragg_1.2.5              ica_1.0-3              \n",
       " [52] glue_1.7.0              gridExtra_2.3           xfun_0.45              \n",
       " [55] IRdisplay_1.1           withr_3.0.0             fastmap_1.2.0          \n",
       " [58] fansi_1.0.6             digest_0.6.36           timechange_0.3.0       \n",
       " [61] R6_2.5.1                mime_0.12               textshaping_0.4.0      \n",
       " [64] colorspace_2.1-0        Cairo_1.6-2             scattermore_1.2        \n",
       " [67] tensor_1.5              spatstat.data_3.1-2     utf8_1.2.4             \n",
       " [70] generics_0.1.3          data.table_1.15.4       httr_1.4.7             \n",
       " [73] htmlwidgets_1.6.4       S4Arrays_1.0.6          uwot_0.2.2             \n",
       " [76] pkgconfig_2.0.3         gtable_0.3.5            lmtest_0.9-40          \n",
       " [79] XVector_0.40.0          htmltools_0.5.8.1       carData_3.0-5          \n",
       " [82] dotCall64_1.1-1         scales_1.3.0            png_0.1-8              \n",
       " [85] tzdb_0.4.0              reshape2_1.4.4          uuid_1.2-0             \n",
       " [88] nlme_3.1-165            repr_1.1.7              zoo_1.8-12             \n",
       " [91] KernSmooth_2.23-24      parallel_4.3.1          miniUI_0.1.1.1         \n",
       " [94] pillar_1.9.0            grid_4.3.1              vctrs_0.6.5            \n",
       " [97] RANN_2.6.1              promises_1.3.0          car_3.1-2              \n",
       "[100] xtable_1.8-4            cluster_2.1.6           evaluate_0.24.0        \n",
       "[103] cli_3.6.3               compiler_4.3.1          rlang_1.1.4            \n",
       "[106] crayon_1.5.3            ggsignif_0.6.4          labeling_0.4.3         \n",
       "[109] plyr_1.8.9              stringi_1.8.4           deldir_2.0-4           \n",
       "[112] munsell_0.5.1           lazyeval_0.2.2          spatstat.geom_3.2-9    \n",
       "[115] IRkernel_1.3.2          hms_1.1.3               patchwork_1.2.0        \n",
       "[118] bit64_4.0.5             shiny_1.8.1.1           ROCR_1.0-11            \n",
       "[121] igraph_2.0.3            broom_1.0.6             bit_4.0.5              "
      ]
     },
     "metadata": {},
     "output_type": "display_data"
    }
   ],
   "source": [
    "sessionInfo()"
   ]
  },
  {
   "cell_type": "code",
   "execution_count": null,
   "id": "7a529d7b-e6e2-4a1c-82f2-9820d0749cb1",
   "metadata": {},
   "outputs": [],
   "source": []
  }
 ],
 "metadata": {
  "kernelspec": {
   "display_name": "r_scrna",
   "language": "R",
   "name": "r_scrna"
  },
  "language_info": {
   "codemirror_mode": "r",
   "file_extension": ".r",
   "mimetype": "text/x-r-source",
   "name": "R",
   "pygments_lexer": "r",
   "version": "4.3.1"
  }
 },
 "nbformat": 4,
 "nbformat_minor": 5
}
