{
 "cells": [
  {
   "cell_type": "markdown",
   "id": "9a6f64d7-caab-4b77-a0b7-e225e77a04c9",
   "metadata": {},
   "source": [
    "## Plotting the Protein Clusters "
   ]
  },
  {
   "cell_type": "code",
   "execution_count": 1,
   "id": "57ec0d32-f02e-4020-87de-54acec8b1943",
   "metadata": {},
   "outputs": [],
   "source": [
    "\n",
    "# load libraries\n",
    "quiet_library <- function(...) {\n",
    "    suppressPackageStartupMessages(library(...))\n",
    "}\n",
    "quiet_library(tidyverse)\n",
    "quiet_library(Seurat)\n",
    "quiet_library(ggplot2)\n",
    "quiet_library(Matrix)\n",
    "quiet_library(dplyr)\n",
    "quiet_library(viridis)\n",
    "quiet_library(harmony)\n",
    "quiet_library(future)\n",
    "quiet_library(future.apply)\n",
    "quiet_library(SingleCellExperiment)\n",
    "quiet_library(SeuratDisk)\n",
    "quiet_library(ggpubr)\n",
    "quiet_library(knitr)\n",
    "quiet_library(plotly)\n",
    "quiet_library(lme4)\n",
    "quiet_library(ggpubr)\n",
    "quiet_library(ggrepel)\n",
    "quiet_library(ggthemes)\n",
    "quiet_library(GSVA)\n",
    "quiet_library(tidyr)\n",
    "quiet_library(SummarizedExperiment)"
   ]
  },
  {
   "cell_type": "code",
   "execution_count": 2,
   "id": "aaf4cbfb-01a9-41f9-a68d-28d8cb237657",
   "metadata": {},
   "outputs": [
    {
     "data": {
      "text/html": [
       "<strong>system:</strong> 64"
      ],
      "text/latex": [
       "\\textbf{system:} 64"
      ],
      "text/markdown": [
       "**system:** 64"
      ],
      "text/plain": [
       "system \n",
       "    64 "
      ]
     },
     "metadata": {},
     "output_type": "display_data"
    }
   ],
   "source": [
    "# Check number of cores\n",
    "future::availableCores()\n",
    "# Set up parallel processing to run when using 'future' functions \n",
    "future::plan(strategy = \"multicore\", workers = future::availableCores()-5)  \n",
    "options(future.globals.maxSize = 1000 * 1024^3)\n",
    "# to turn off parallel processing run line below\n",
    "# future::plan(strategy = \"sequential\")"
   ]
  },
  {
   "cell_type": "code",
   "execution_count": 3,
   "id": "dc4a2d45-bd95-4a42-bba1-77a7d7aecdf4",
   "metadata": {},
   "outputs": [],
   "source": [
    "# define the color palette to be used\n",
    "npg_color <- c(\"#E64B35FF\", \"#4DBBD5FF\", \"#00A087FF\", \"#3C5488FF\", \"#F39B7FFF\", \n",
    "               \"#8491B4FF\", \"#91D1C2FF\", \"#DC0000FF\", \"#7E6148FF\", \"#B09C85FF\")\n",
    "nejm_color <- c(\"#BC3C29FF\", \"#0072B5FF\", \"#E18727FF\", \"#20854EFF\", \"#7876B1FF\", \"#6F99ADFF\", \"#FFDC91FF\", \"#EE4C97FF\")\n",
    "jama_color <- c(\"#374E55FF\", \"#DF8F44FF\", \"#00A1D5FF\", \"#B24745FF\", \"#79AF97FF\", \"#6A6599FF\", \"#80796BFF\")\n",
    "jco_color <- c(\"#0073C2FF\", \"#EFC000FF\", \"#868686FF\", \"#CD534CFF\", \"#7AA6DCFF\", \"#003C67FF\", \"#8F7700FF\")\n",
    "cluster_colors <- c(\"#DC050C\", \"#FB8072\", \"#1965B0\", \"#7BAFDE\", \"#882E72\", \"#B17BA6\", \"#FF7F00\", \"#FDB462\", \"#E7298A\", \n",
    "    \"#E78AC3\", \"#33A02C\", \"#B2DF8A\", \"#55A1B1\", \"#8DD3C7\", \"#A6761D\", \"#E6AB02\", \"#7570B3\", \"#BEAED4\", \"#666666\", \"#999999\", \n",
    "    \"#aa8282\", \"#d4b7b7\", \"#8600bf\", \"#ba5ce3\", \"#808000\", \"#aeae5c\", \"#1e90ff\", \"#00bfff\", \"#56ff0d\", \"#ffff00\")\n",
    "\n",
    "cluster_colors_ext <- colorRampPalette(cluster_colors)(75)\n",
    "options(repr.plot.width = 5, repr.plot.height = 5)"
   ]
  },
  {
   "cell_type": "code",
   "execution_count": 4,
   "id": "42c2068c-4ea5-4d68-8c15-c64519eec5b4",
   "metadata": {},
   "outputs": [
    {
     "data": {
      "text/html": [
       "<table class=\"dataframe\">\n",
       "<caption>A data.frame: 3 × 5</caption>\n",
       "<thead>\n",
       "\t<tr><th></th><th scope=col>Order</th><th scope=col>Cluster</th><th scope=col>subject.SubjectGuid</th><th scope=col>sample.sampleKitGuid</th><th scope=col>Subject_Sample</th></tr>\n",
       "\t<tr><th></th><th scope=col>&lt;int&gt;</th><th scope=col>&lt;chr&gt;</th><th scope=col>&lt;chr&gt;</th><th scope=col>&lt;chr&gt;</th><th scope=col>&lt;chr&gt;</th></tr>\n",
       "</thead>\n",
       "<tbody>\n",
       "\t<tr><th scope=row>1</th><td>85</td><td>C1</td><td>CU1101</td><td>KT04671</td><td>CU1101_KT04671</td></tr>\n",
       "\t<tr><th scope=row>2</th><td>86</td><td>C1</td><td>CU1104</td><td>KT04905</td><td>CU1104_KT04905</td></tr>\n",
       "\t<tr><th scope=row>3</th><td>78</td><td>C1</td><td>CU1092</td><td>KT04652</td><td>CU1092_KT04652</td></tr>\n",
       "</tbody>\n",
       "</table>\n"
      ],
      "text/latex": [
       "A data.frame: 3 × 5\n",
       "\\begin{tabular}{r|lllll}\n",
       "  & Order & Cluster & subject.SubjectGuid & sample.sampleKitGuid & Subject\\_Sample\\\\\n",
       "  & <int> & <chr> & <chr> & <chr> & <chr>\\\\\n",
       "\\hline\n",
       "\t1 & 85 & C1 & CU1101 & KT04671 & CU1101\\_KT04671\\\\\n",
       "\t2 & 86 & C1 & CU1104 & KT04905 & CU1104\\_KT04905\\\\\n",
       "\t3 & 78 & C1 & CU1092 & KT04652 & CU1092\\_KT04652\\\\\n",
       "\\end{tabular}\n"
      ],
      "text/markdown": [
       "\n",
       "A data.frame: 3 × 5\n",
       "\n",
       "| <!--/--> | Order &lt;int&gt; | Cluster &lt;chr&gt; | subject.SubjectGuid &lt;chr&gt; | sample.sampleKitGuid &lt;chr&gt; | Subject_Sample &lt;chr&gt; |\n",
       "|---|---|---|---|---|---|\n",
       "| 1 | 85 | C1 | CU1101 | KT04671 | CU1101_KT04671 |\n",
       "| 2 | 86 | C1 | CU1104 | KT04905 | CU1104_KT04905 |\n",
       "| 3 | 78 | C1 | CU1092 | KT04652 | CU1092_KT04652 |\n",
       "\n"
      ],
      "text/plain": [
       "  Order Cluster subject.SubjectGuid sample.sampleKitGuid Subject_Sample\n",
       "1 85    C1      CU1101              KT04671              CU1101_KT04671\n",
       "2 86    C1      CU1104              KT04905              CU1104_KT04905\n",
       "3 78    C1      CU1092              KT04652              CU1092_KT04652"
      ]
     },
     "metadata": {},
     "output_type": "display_data"
    },
    {
     "data": {
      "text/html": [
       "<style>\n",
       ".list-inline {list-style: none; margin:0; padding: 0}\n",
       ".list-inline>li {display: inline-block}\n",
       ".list-inline>li:not(:last-child)::after {content: \"\\00b7\"; padding: 0 .5ex}\n",
       "</style>\n",
       "<ol class=list-inline><li>93</li><li>5</li></ol>\n"
      ],
      "text/latex": [
       "\\begin{enumerate*}\n",
       "\\item 93\n",
       "\\item 5\n",
       "\\end{enumerate*}\n"
      ],
      "text/markdown": [
       "1. 93\n",
       "2. 5\n",
       "\n",
       "\n"
      ],
      "text/plain": [
       "[1] 93  5"
      ]
     },
     "metadata": {},
     "output_type": "display_data"
    }
   ],
   "source": [
    "## reading the protein cluster results\n",
    "ol=read.csv(\"/home/jupyter/ALTRA_ANALYSIS/Deep_clean/olink_validation/2024-04-24_samplesByCluster_noConv.csv\")\n",
    "ol%>%head(3)\n",
    "ol%>%dim"
   ]
  },
  {
   "cell_type": "code",
   "execution_count": 5,
   "id": "b27b2c26-839b-4a3e-b3fa-7ff30ba0ff90",
   "metadata": {},
   "outputs": [
    {
     "data": {
      "text/html": [
       "<table class=\"dataframe\">\n",
       "<caption>A data.frame: 6 × 17</caption>\n",
       "<thead>\n",
       "\t<tr><th></th><th scope=col>X</th><th scope=col>Status_Xsec</th><th scope=col>Status_Long</th><th scope=col>sample.sampleKitGuid</th><th scope=col>sample.drawDate</th><th scope=col>sample.daysSinceFirstVisit</th><th scope=col>subject.subjectGuid</th><th scope=col>subject.biologicalSex</th><th scope=col>subject.birthYear</th><th scope=col>days_to_conversion</th><th scope=col>number_of_days_to_from_ra_conversion_cu</th><th scope=col>anti_ccp3_finalCombined</th><th scope=col>status</th><th scope=col>time</th><th scope=col>s1</th><th scope=col>s1_ids</th><th scope=col>Status_new</th></tr>\n",
       "\t<tr><th></th><th scope=col>&lt;int&gt;</th><th scope=col>&lt;chr&gt;</th><th scope=col>&lt;chr&gt;</th><th scope=col>&lt;chr&gt;</th><th scope=col>&lt;chr&gt;</th><th scope=col>&lt;int&gt;</th><th scope=col>&lt;chr&gt;</th><th scope=col>&lt;chr&gt;</th><th scope=col>&lt;int&gt;</th><th scope=col>&lt;int&gt;</th><th scope=col>&lt;int&gt;</th><th scope=col>&lt;int&gt;</th><th scope=col>&lt;chr&gt;</th><th scope=col>&lt;int&gt;</th><th scope=col>&lt;chr&gt;</th><th scope=col>&lt;chr&gt;</th><th scope=col>&lt;chr&gt;</th></tr>\n",
       "</thead>\n",
       "<tbody>\n",
       "\t<tr><th scope=row>1</th><td>1</td><td>ALTRA_healthy</td><td>NA</td><td>KT02284</td><td>2022-10-01</td><td>0</td><td>SD1021</td><td>Female</td><td>1971</td><td>NA</td><td>NA</td><td> 0</td><td>ALTRA_healthy</td><td>-2000</td><td>CON1</td><td>CON101</td><td>CON1</td></tr>\n",
       "\t<tr><th scope=row>2</th><td>2</td><td>ALTRA_healthy</td><td>NA</td><td>KT02286</td><td>2022-08-01</td><td>0</td><td>SD1022</td><td>Female</td><td>1985</td><td>NA</td><td>NA</td><td> 2</td><td>ALTRA_healthy</td><td>-2000</td><td>CON1</td><td>CON102</td><td>CON1</td></tr>\n",
       "\t<tr><th scope=row>3</th><td>3</td><td>ALTRA_healthy</td><td>NA</td><td>KT02287</td><td>2022-05-01</td><td>0</td><td>SD1015</td><td>Female</td><td>1963</td><td>NA</td><td>NA</td><td> 0</td><td>ALTRA_healthy</td><td>-2000</td><td>CON1</td><td>CON103</td><td>CON1</td></tr>\n",
       "\t<tr><th scope=row>4</th><td>4</td><td>ALTRA_healthy</td><td>NA</td><td>KT02292</td><td>2022-09-01</td><td>0</td><td>SD1020</td><td>Female</td><td>1986</td><td>NA</td><td>NA</td><td> 3</td><td>ALTRA_healthy</td><td>-2000</td><td>CON1</td><td>CON104</td><td>CON1</td></tr>\n",
       "\t<tr><th scope=row>5</th><td>5</td><td>ALTRA_healthy</td><td>NA</td><td>KT02298</td><td>2022-09-01</td><td>0</td><td>SD1026</td><td>Female</td><td>1965</td><td>NA</td><td>NA</td><td>NA</td><td>ALTRA_healthy</td><td>-2000</td><td>CON1</td><td>CON105</td><td>CON1</td></tr>\n",
       "\t<tr><th scope=row>6</th><td>6</td><td>ALTRA_healthy</td><td>NA</td><td>KT02303</td><td>2022-09-01</td><td>0</td><td>SD1024</td><td>Female</td><td>1944</td><td>NA</td><td>NA</td><td> 4</td><td>ALTRA_healthy</td><td>-2000</td><td>CON1</td><td>CON106</td><td>CON1</td></tr>\n",
       "</tbody>\n",
       "</table>\n"
      ],
      "text/latex": [
       "A data.frame: 6 × 17\n",
       "\\begin{tabular}{r|lllllllllllllllll}\n",
       "  & X & Status\\_Xsec & Status\\_Long & sample.sampleKitGuid & sample.drawDate & sample.daysSinceFirstVisit & subject.subjectGuid & subject.biologicalSex & subject.birthYear & days\\_to\\_conversion & number\\_of\\_days\\_to\\_from\\_ra\\_conversion\\_cu & anti\\_ccp3\\_finalCombined & status & time & s1 & s1\\_ids & Status\\_new\\\\\n",
       "  & <int> & <chr> & <chr> & <chr> & <chr> & <int> & <chr> & <chr> & <int> & <int> & <int> & <int> & <chr> & <int> & <chr> & <chr> & <chr>\\\\\n",
       "\\hline\n",
       "\t1 & 1 & ALTRA\\_healthy & NA & KT02284 & 2022-10-01 & 0 & SD1021 & Female & 1971 & NA & NA &  0 & ALTRA\\_healthy & -2000 & CON1 & CON101 & CON1\\\\\n",
       "\t2 & 2 & ALTRA\\_healthy & NA & KT02286 & 2022-08-01 & 0 & SD1022 & Female & 1985 & NA & NA &  2 & ALTRA\\_healthy & -2000 & CON1 & CON102 & CON1\\\\\n",
       "\t3 & 3 & ALTRA\\_healthy & NA & KT02287 & 2022-05-01 & 0 & SD1015 & Female & 1963 & NA & NA &  0 & ALTRA\\_healthy & -2000 & CON1 & CON103 & CON1\\\\\n",
       "\t4 & 4 & ALTRA\\_healthy & NA & KT02292 & 2022-09-01 & 0 & SD1020 & Female & 1986 & NA & NA &  3 & ALTRA\\_healthy & -2000 & CON1 & CON104 & CON1\\\\\n",
       "\t5 & 5 & ALTRA\\_healthy & NA & KT02298 & 2022-09-01 & 0 & SD1026 & Female & 1965 & NA & NA & NA & ALTRA\\_healthy & -2000 & CON1 & CON105 & CON1\\\\\n",
       "\t6 & 6 & ALTRA\\_healthy & NA & KT02303 & 2022-09-01 & 0 & SD1024 & Female & 1944 & NA & NA &  4 & ALTRA\\_healthy & -2000 & CON1 & CON106 & CON1\\\\\n",
       "\\end{tabular}\n"
      ],
      "text/markdown": [
       "\n",
       "A data.frame: 6 × 17\n",
       "\n",
       "| <!--/--> | X &lt;int&gt; | Status_Xsec &lt;chr&gt; | Status_Long &lt;chr&gt; | sample.sampleKitGuid &lt;chr&gt; | sample.drawDate &lt;chr&gt; | sample.daysSinceFirstVisit &lt;int&gt; | subject.subjectGuid &lt;chr&gt; | subject.biologicalSex &lt;chr&gt; | subject.birthYear &lt;int&gt; | days_to_conversion &lt;int&gt; | number_of_days_to_from_ra_conversion_cu &lt;int&gt; | anti_ccp3_finalCombined &lt;int&gt; | status &lt;chr&gt; | time &lt;int&gt; | s1 &lt;chr&gt; | s1_ids &lt;chr&gt; | Status_new &lt;chr&gt; |\n",
       "|---|---|---|---|---|---|---|---|---|---|---|---|---|---|---|---|---|---|\n",
       "| 1 | 1 | ALTRA_healthy | NA | KT02284 | 2022-10-01 | 0 | SD1021 | Female | 1971 | NA | NA |  0 | ALTRA_healthy | -2000 | CON1 | CON101 | CON1 |\n",
       "| 2 | 2 | ALTRA_healthy | NA | KT02286 | 2022-08-01 | 0 | SD1022 | Female | 1985 | NA | NA |  2 | ALTRA_healthy | -2000 | CON1 | CON102 | CON1 |\n",
       "| 3 | 3 | ALTRA_healthy | NA | KT02287 | 2022-05-01 | 0 | SD1015 | Female | 1963 | NA | NA |  0 | ALTRA_healthy | -2000 | CON1 | CON103 | CON1 |\n",
       "| 4 | 4 | ALTRA_healthy | NA | KT02292 | 2022-09-01 | 0 | SD1020 | Female | 1986 | NA | NA |  3 | ALTRA_healthy | -2000 | CON1 | CON104 | CON1 |\n",
       "| 5 | 5 | ALTRA_healthy | NA | KT02298 | 2022-09-01 | 0 | SD1026 | Female | 1965 | NA | NA | NA | ALTRA_healthy | -2000 | CON1 | CON105 | CON1 |\n",
       "| 6 | 6 | ALTRA_healthy | NA | KT02303 | 2022-09-01 | 0 | SD1024 | Female | 1944 | NA | NA |  4 | ALTRA_healthy | -2000 | CON1 | CON106 | CON1 |\n",
       "\n"
      ],
      "text/plain": [
       "  X Status_Xsec   Status_Long sample.sampleKitGuid sample.drawDate\n",
       "1 1 ALTRA_healthy NA          KT02284              2022-10-01     \n",
       "2 2 ALTRA_healthy NA          KT02286              2022-08-01     \n",
       "3 3 ALTRA_healthy NA          KT02287              2022-05-01     \n",
       "4 4 ALTRA_healthy NA          KT02292              2022-09-01     \n",
       "5 5 ALTRA_healthy NA          KT02298              2022-09-01     \n",
       "6 6 ALTRA_healthy NA          KT02303              2022-09-01     \n",
       "  sample.daysSinceFirstVisit subject.subjectGuid subject.biologicalSex\n",
       "1 0                          SD1021              Female               \n",
       "2 0                          SD1022              Female               \n",
       "3 0                          SD1015              Female               \n",
       "4 0                          SD1020              Female               \n",
       "5 0                          SD1026              Female               \n",
       "6 0                          SD1024              Female               \n",
       "  subject.birthYear days_to_conversion number_of_days_to_from_ra_conversion_cu\n",
       "1 1971              NA                 NA                                     \n",
       "2 1985              NA                 NA                                     \n",
       "3 1963              NA                 NA                                     \n",
       "4 1986              NA                 NA                                     \n",
       "5 1965              NA                 NA                                     \n",
       "6 1944              NA                 NA                                     \n",
       "  anti_ccp3_finalCombined status        time  s1   s1_ids Status_new\n",
       "1  0                      ALTRA_healthy -2000 CON1 CON101 CON1      \n",
       "2  2                      ALTRA_healthy -2000 CON1 CON102 CON1      \n",
       "3  0                      ALTRA_healthy -2000 CON1 CON103 CON1      \n",
       "4  3                      ALTRA_healthy -2000 CON1 CON104 CON1      \n",
       "5 NA                      ALTRA_healthy -2000 CON1 CON105 CON1      \n",
       "6  4                      ALTRA_healthy -2000 CON1 CON106 CON1      "
      ]
     },
     "metadata": {},
     "output_type": "display_data"
    },
    {
     "data": {
      "text/html": [
       "<style>\n",
       ".list-inline {list-style: none; margin:0; padding: 0}\n",
       ".list-inline>li {display: inline-block}\n",
       ".list-inline>li:not(:last-child)::after {content: \"\\00b7\"; padding: 0 .5ex}\n",
       "</style>\n",
       "<ol class=list-inline><li>'anti_ccp3_finalCombined'</li><li>'days_to_conversion'</li><li>'number_of_days_to_from_ra_conversion_cu'</li><li>'s1'</li><li>'s1_ids'</li><li>'sample.daysSinceFirstVisit'</li><li>'sample.drawDate'</li><li>'sample.sampleKitGuid'</li><li>'status'</li><li>'Status_Long'</li><li>'Status_new'</li><li>'Status_Xsec'</li><li>'subject.biologicalSex'</li><li>'subject.birthYear'</li><li>'subject.subjectGuid'</li><li>'time'</li><li>'X'</li></ol>\n"
      ],
      "text/latex": [
       "\\begin{enumerate*}\n",
       "\\item 'anti\\_ccp3\\_finalCombined'\n",
       "\\item 'days\\_to\\_conversion'\n",
       "\\item 'number\\_of\\_days\\_to\\_from\\_ra\\_conversion\\_cu'\n",
       "\\item 's1'\n",
       "\\item 's1\\_ids'\n",
       "\\item 'sample.daysSinceFirstVisit'\n",
       "\\item 'sample.drawDate'\n",
       "\\item 'sample.sampleKitGuid'\n",
       "\\item 'status'\n",
       "\\item 'Status\\_Long'\n",
       "\\item 'Status\\_new'\n",
       "\\item 'Status\\_Xsec'\n",
       "\\item 'subject.biologicalSex'\n",
       "\\item 'subject.birthYear'\n",
       "\\item 'subject.subjectGuid'\n",
       "\\item 'time'\n",
       "\\item 'X'\n",
       "\\end{enumerate*}\n"
      ],
      "text/markdown": [
       "1. 'anti_ccp3_finalCombined'\n",
       "2. 'days_to_conversion'\n",
       "3. 'number_of_days_to_from_ra_conversion_cu'\n",
       "4. 's1'\n",
       "5. 's1_ids'\n",
       "6. 'sample.daysSinceFirstVisit'\n",
       "7. 'sample.drawDate'\n",
       "8. 'sample.sampleKitGuid'\n",
       "9. 'status'\n",
       "10. 'Status_Long'\n",
       "11. 'Status_new'\n",
       "12. 'Status_Xsec'\n",
       "13. 'subject.biologicalSex'\n",
       "14. 'subject.birthYear'\n",
       "15. 'subject.subjectGuid'\n",
       "16. 'time'\n",
       "17. 'X'\n",
       "\n",
       "\n"
      ],
      "text/plain": [
       " [1] \"anti_ccp3_finalCombined\"                \n",
       " [2] \"days_to_conversion\"                     \n",
       " [3] \"number_of_days_to_from_ra_conversion_cu\"\n",
       " [4] \"s1\"                                     \n",
       " [5] \"s1_ids\"                                 \n",
       " [6] \"sample.daysSinceFirstVisit\"             \n",
       " [7] \"sample.drawDate\"                        \n",
       " [8] \"sample.sampleKitGuid\"                   \n",
       " [9] \"status\"                                 \n",
       "[10] \"Status_Long\"                            \n",
       "[11] \"Status_new\"                             \n",
       "[12] \"Status_Xsec\"                            \n",
       "[13] \"subject.biologicalSex\"                  \n",
       "[14] \"subject.birthYear\"                      \n",
       "[15] \"subject.subjectGuid\"                    \n",
       "[16] \"time\"                                   \n",
       "[17] \"X\"                                      "
      ]
     },
     "metadata": {},
     "output_type": "display_data"
    }
   ],
   "source": [
    "## reading the metadata ALTRA metadata file\n",
    "altra_csv=read.csv(\"/home/jupyter/ALTRA_ANALYSIS/Deep_clean/Figure_notebooks/files/input_files/certpro_Zi_files/Figure_input_files/ALTRA_Fig1_Master_meta\n",
    "                    .csv\")\n",
    "altra_csv%>%head()\n",
    "altra_csv%>%colnames%>%sort()"
   ]
  },
  {
   "cell_type": "code",
   "execution_count": 6,
   "id": "3820c8ce-1316-4cd2-a7a1-b1a589ef4900",
   "metadata": {},
   "outputs": [
    {
     "data": {
      "text/html": [
       "<table class=\"dataframe\">\n",
       "<caption>A data.frame: 3 × 6</caption>\n",
       "<thead>\n",
       "\t<tr><th></th><th scope=col>Status_Xsec</th><th scope=col>Status_Long</th><th scope=col>status</th><th scope=col>s1_ids</th><th scope=col>sample.sampleKitGuid</th><th scope=col>s1</th></tr>\n",
       "\t<tr><th></th><th scope=col>&lt;chr&gt;</th><th scope=col>&lt;chr&gt;</th><th scope=col>&lt;chr&gt;</th><th scope=col>&lt;chr&gt;</th><th scope=col>&lt;chr&gt;</th><th scope=col>&lt;chr&gt;</th></tr>\n",
       "</thead>\n",
       "<tbody>\n",
       "\t<tr><th scope=row>1</th><td>ALTRA_healthy</td><td>NA</td><td>ALTRA_healthy</td><td>CON101</td><td>KT02284</td><td>CON1</td></tr>\n",
       "\t<tr><th scope=row>2</th><td>ALTRA_healthy</td><td>NA</td><td>ALTRA_healthy</td><td>CON102</td><td>KT02286</td><td>CON1</td></tr>\n",
       "\t<tr><th scope=row>3</th><td>ALTRA_healthy</td><td>NA</td><td>ALTRA_healthy</td><td>CON103</td><td>KT02287</td><td>CON1</td></tr>\n",
       "</tbody>\n",
       "</table>\n"
      ],
      "text/latex": [
       "A data.frame: 3 × 6\n",
       "\\begin{tabular}{r|llllll}\n",
       "  & Status\\_Xsec & Status\\_Long & status & s1\\_ids & sample.sampleKitGuid & s1\\\\\n",
       "  & <chr> & <chr> & <chr> & <chr> & <chr> & <chr>\\\\\n",
       "\\hline\n",
       "\t1 & ALTRA\\_healthy & NA & ALTRA\\_healthy & CON101 & KT02284 & CON1\\\\\n",
       "\t2 & ALTRA\\_healthy & NA & ALTRA\\_healthy & CON102 & KT02286 & CON1\\\\\n",
       "\t3 & ALTRA\\_healthy & NA & ALTRA\\_healthy & CON103 & KT02287 & CON1\\\\\n",
       "\\end{tabular}\n"
      ],
      "text/markdown": [
       "\n",
       "A data.frame: 3 × 6\n",
       "\n",
       "| <!--/--> | Status_Xsec &lt;chr&gt; | Status_Long &lt;chr&gt; | status &lt;chr&gt; | s1_ids &lt;chr&gt; | sample.sampleKitGuid &lt;chr&gt; | s1 &lt;chr&gt; |\n",
       "|---|---|---|---|---|---|---|\n",
       "| 1 | ALTRA_healthy | NA | ALTRA_healthy | CON101 | KT02284 | CON1 |\n",
       "| 2 | ALTRA_healthy | NA | ALTRA_healthy | CON102 | KT02286 | CON1 |\n",
       "| 3 | ALTRA_healthy | NA | ALTRA_healthy | CON103 | KT02287 | CON1 |\n",
       "\n"
      ],
      "text/plain": [
       "  Status_Xsec   Status_Long status        s1_ids sample.sampleKitGuid s1  \n",
       "1 ALTRA_healthy NA          ALTRA_healthy CON101 KT02284              CON1\n",
       "2 ALTRA_healthy NA          ALTRA_healthy CON102 KT02286              CON1\n",
       "3 ALTRA_healthy NA          ALTRA_healthy CON103 KT02287              CON1"
      ]
     },
     "metadata": {},
     "output_type": "display_data"
    }
   ],
   "source": [
    "## Subsetting the altra_csv \n",
    "altra_sub=altra_csv%>%select(Status_Xsec,Status_Long,status,s1_ids,sample.sampleKitGuid,s1)\n",
    "altra_sub%>%head(3)"
   ]
  },
  {
   "cell_type": "code",
   "execution_count": 7,
   "id": "c525a125-829b-4286-9f05-a4ac1644b611",
   "metadata": {},
   "outputs": [],
   "source": [
    "## merging 2 dfs for plotting \n",
    "olink_df=left_join(ol,altra_sub,by=\"sample.sampleKitGuid\")"
   ]
  },
  {
   "cell_type": "code",
   "execution_count": 8,
   "id": "6dcec125-0b56-4e1a-be02-0771b017f31d",
   "metadata": {},
   "outputs": [
    {
     "data": {
      "text/html": [
       "<style>\n",
       ".list-inline {list-style: none; margin:0; padding: 0}\n",
       ".list-inline>li {display: inline-block}\n",
       ".list-inline>li:not(:last-child)::after {content: \"\\00b7\"; padding: 0 .5ex}\n",
       "</style>\n",
       "<ol class=list-inline><li>93</li><li>10</li></ol>\n"
      ],
      "text/latex": [
       "\\begin{enumerate*}\n",
       "\\item 93\n",
       "\\item 10\n",
       "\\end{enumerate*}\n"
      ],
      "text/markdown": [
       "1. 93\n",
       "2. 10\n",
       "\n",
       "\n"
      ],
      "text/plain": [
       "[1] 93 10"
      ]
     },
     "metadata": {},
     "output_type": "display_data"
    },
    {
     "data": {
      "text/html": [
       "<table class=\"dataframe\">\n",
       "<caption>A data.frame: 6 × 10</caption>\n",
       "<thead>\n",
       "\t<tr><th></th><th scope=col>Order</th><th scope=col>Cluster</th><th scope=col>subject.SubjectGuid</th><th scope=col>sample.sampleKitGuid</th><th scope=col>Subject_Sample</th><th scope=col>Status_Xsec</th><th scope=col>Status_Long</th><th scope=col>status</th><th scope=col>s1_ids</th><th scope=col>s1</th></tr>\n",
       "\t<tr><th></th><th scope=col>&lt;int&gt;</th><th scope=col>&lt;chr&gt;</th><th scope=col>&lt;chr&gt;</th><th scope=col>&lt;chr&gt;</th><th scope=col>&lt;chr&gt;</th><th scope=col>&lt;chr&gt;</th><th scope=col>&lt;chr&gt;</th><th scope=col>&lt;chr&gt;</th><th scope=col>&lt;chr&gt;</th><th scope=col>&lt;chr&gt;</th></tr>\n",
       "</thead>\n",
       "<tbody>\n",
       "\t<tr><th scope=row>1</th><td>85</td><td>C1</td><td>CU1101</td><td>KT04671</td><td>CU1101_KT04671</td><td>ALTRA_healthy</td><td>NA</td><td>ALTRA_healthy</td><td>CON132</td><td>CON1</td></tr>\n",
       "\t<tr><th scope=row>2</th><td>86</td><td>C1</td><td>CU1104</td><td>KT04905</td><td>CU1104_KT04905</td><td>ALTRA_healthy</td><td>NA</td><td>ALTRA_healthy</td><td>CON134</td><td>CON1</td></tr>\n",
       "\t<tr><th scope=row>3</th><td>78</td><td>C1</td><td>CU1092</td><td>KT04652</td><td>CU1092_KT04652</td><td>ALTRA_healthy</td><td>NA</td><td>ALTRA_healthy</td><td>CON129</td><td>CON1</td></tr>\n",
       "\t<tr><th scope=row>4</th><td>42</td><td>C1</td><td>CU1034</td><td>KT00420</td><td>CU1034_KT00420</td><td>at_risk      </td><td>NA</td><td>at_risk      </td><td>ARI25 </td><td>ARI </td></tr>\n",
       "\t<tr><th scope=row>5</th><td>57</td><td>C1</td><td>CU1054</td><td>KT04115</td><td>CU1054_KT04115</td><td>ALTRA_healthy</td><td>NA</td><td>ALTRA_healthy</td><td>CON123</td><td>CON1</td></tr>\n",
       "\t<tr><th scope=row>6</th><td>75</td><td>C1</td><td>CU1088</td><td>KT04633</td><td>CU1088_KT04633</td><td>ALTRA_healthy</td><td>NA</td><td>ALTRA_healthy</td><td>CON127</td><td>CON1</td></tr>\n",
       "</tbody>\n",
       "</table>\n"
      ],
      "text/latex": [
       "A data.frame: 6 × 10\n",
       "\\begin{tabular}{r|llllllllll}\n",
       "  & Order & Cluster & subject.SubjectGuid & sample.sampleKitGuid & Subject\\_Sample & Status\\_Xsec & Status\\_Long & status & s1\\_ids & s1\\\\\n",
       "  & <int> & <chr> & <chr> & <chr> & <chr> & <chr> & <chr> & <chr> & <chr> & <chr>\\\\\n",
       "\\hline\n",
       "\t1 & 85 & C1 & CU1101 & KT04671 & CU1101\\_KT04671 & ALTRA\\_healthy & NA & ALTRA\\_healthy & CON132 & CON1\\\\\n",
       "\t2 & 86 & C1 & CU1104 & KT04905 & CU1104\\_KT04905 & ALTRA\\_healthy & NA & ALTRA\\_healthy & CON134 & CON1\\\\\n",
       "\t3 & 78 & C1 & CU1092 & KT04652 & CU1092\\_KT04652 & ALTRA\\_healthy & NA & ALTRA\\_healthy & CON129 & CON1\\\\\n",
       "\t4 & 42 & C1 & CU1034 & KT00420 & CU1034\\_KT00420 & at\\_risk       & NA & at\\_risk       & ARI25  & ARI \\\\\n",
       "\t5 & 57 & C1 & CU1054 & KT04115 & CU1054\\_KT04115 & ALTRA\\_healthy & NA & ALTRA\\_healthy & CON123 & CON1\\\\\n",
       "\t6 & 75 & C1 & CU1088 & KT04633 & CU1088\\_KT04633 & ALTRA\\_healthy & NA & ALTRA\\_healthy & CON127 & CON1\\\\\n",
       "\\end{tabular}\n"
      ],
      "text/markdown": [
       "\n",
       "A data.frame: 6 × 10\n",
       "\n",
       "| <!--/--> | Order &lt;int&gt; | Cluster &lt;chr&gt; | subject.SubjectGuid &lt;chr&gt; | sample.sampleKitGuid &lt;chr&gt; | Subject_Sample &lt;chr&gt; | Status_Xsec &lt;chr&gt; | Status_Long &lt;chr&gt; | status &lt;chr&gt; | s1_ids &lt;chr&gt; | s1 &lt;chr&gt; |\n",
       "|---|---|---|---|---|---|---|---|---|---|---|\n",
       "| 1 | 85 | C1 | CU1101 | KT04671 | CU1101_KT04671 | ALTRA_healthy | NA | ALTRA_healthy | CON132 | CON1 |\n",
       "| 2 | 86 | C1 | CU1104 | KT04905 | CU1104_KT04905 | ALTRA_healthy | NA | ALTRA_healthy | CON134 | CON1 |\n",
       "| 3 | 78 | C1 | CU1092 | KT04652 | CU1092_KT04652 | ALTRA_healthy | NA | ALTRA_healthy | CON129 | CON1 |\n",
       "| 4 | 42 | C1 | CU1034 | KT00420 | CU1034_KT00420 | at_risk       | NA | at_risk       | ARI25  | ARI  |\n",
       "| 5 | 57 | C1 | CU1054 | KT04115 | CU1054_KT04115 | ALTRA_healthy | NA | ALTRA_healthy | CON123 | CON1 |\n",
       "| 6 | 75 | C1 | CU1088 | KT04633 | CU1088_KT04633 | ALTRA_healthy | NA | ALTRA_healthy | CON127 | CON1 |\n",
       "\n"
      ],
      "text/plain": [
       "  Order Cluster subject.SubjectGuid sample.sampleKitGuid Subject_Sample\n",
       "1 85    C1      CU1101              KT04671              CU1101_KT04671\n",
       "2 86    C1      CU1104              KT04905              CU1104_KT04905\n",
       "3 78    C1      CU1092              KT04652              CU1092_KT04652\n",
       "4 42    C1      CU1034              KT00420              CU1034_KT00420\n",
       "5 57    C1      CU1054              KT04115              CU1054_KT04115\n",
       "6 75    C1      CU1088              KT04633              CU1088_KT04633\n",
       "  Status_Xsec   Status_Long status        s1_ids s1  \n",
       "1 ALTRA_healthy NA          ALTRA_healthy CON132 CON1\n",
       "2 ALTRA_healthy NA          ALTRA_healthy CON134 CON1\n",
       "3 ALTRA_healthy NA          ALTRA_healthy CON129 CON1\n",
       "4 at_risk       NA          at_risk       ARI25  ARI \n",
       "5 ALTRA_healthy NA          ALTRA_healthy CON123 CON1\n",
       "6 ALTRA_healthy NA          ALTRA_healthy CON127 CON1"
      ]
     },
     "metadata": {},
     "output_type": "display_data"
    }
   ],
   "source": [
    "olink_df%>%dim\n",
    "olink_df%>%head()"
   ]
  },
  {
   "cell_type": "code",
   "execution_count": 9,
   "id": "063a753b-43c7-4b36-ae58-917cf5ac566f",
   "metadata": {},
   "outputs": [
    {
     "name": "stderr",
     "output_type": "stream",
     "text": [
      "\u001b[1m\u001b[22m`summarise()` has grouped output by 'Cluster'. You can override using the\n",
      "`.groups` argument.\n"
     ]
    },
    {
     "data": {
      "text/html": [
       "<table class=\"dataframe\">\n",
       "<caption>A grouped_df: 15 × 4</caption>\n",
       "<thead>\n",
       "\t<tr><th scope=col>Cluster</th><th scope=col>s1</th><th scope=col>count</th><th scope=col>percentage</th></tr>\n",
       "\t<tr><th scope=col>&lt;chr&gt;</th><th scope=col>&lt;chr&gt;</th><th scope=col>&lt;int&gt;</th><th scope=col>&lt;dbl&gt;</th></tr>\n",
       "</thead>\n",
       "<tbody>\n",
       "\t<tr><td>C1</td><td>ARI </td><td> 1</td><td> 10.000000</td></tr>\n",
       "\t<tr><td>C1</td><td>CON1</td><td> 8</td><td> 80.000000</td></tr>\n",
       "\t<tr><td>C1</td><td>ERA </td><td> 1</td><td> 10.000000</td></tr>\n",
       "\t<tr><td>C2</td><td>ARI </td><td> 7</td><td> 28.000000</td></tr>\n",
       "\t<tr><td>C2</td><td>CON1</td><td>15</td><td> 60.000000</td></tr>\n",
       "\t<tr><td>C2</td><td>ERA </td><td> 3</td><td> 12.000000</td></tr>\n",
       "\t<tr><td>C3</td><td>ARI </td><td> 3</td><td> 27.272727</td></tr>\n",
       "\t<tr><td>C3</td><td>CON1</td><td> 7</td><td> 63.636364</td></tr>\n",
       "\t<tr><td>C3</td><td>ERA </td><td> 1</td><td>  9.090909</td></tr>\n",
       "\t<tr><td>C4</td><td>ARI </td><td> 5</td><td>100.000000</td></tr>\n",
       "\t<tr><td>C5</td><td>ARI </td><td>25</td><td> 71.428571</td></tr>\n",
       "\t<tr><td>C5</td><td>CON1</td><td> 7</td><td> 20.000000</td></tr>\n",
       "\t<tr><td>C5</td><td>ERA </td><td> 3</td><td>  8.571429</td></tr>\n",
       "\t<tr><td>C6</td><td>ARI </td><td> 4</td><td> 57.142857</td></tr>\n",
       "\t<tr><td>C6</td><td>ERA </td><td> 3</td><td> 42.857143</td></tr>\n",
       "</tbody>\n",
       "</table>\n"
      ],
      "text/latex": [
       "A grouped\\_df: 15 × 4\n",
       "\\begin{tabular}{llll}\n",
       " Cluster & s1 & count & percentage\\\\\n",
       " <chr> & <chr> & <int> & <dbl>\\\\\n",
       "\\hline\n",
       "\t C1 & ARI  &  1 &  10.000000\\\\\n",
       "\t C1 & CON1 &  8 &  80.000000\\\\\n",
       "\t C1 & ERA  &  1 &  10.000000\\\\\n",
       "\t C2 & ARI  &  7 &  28.000000\\\\\n",
       "\t C2 & CON1 & 15 &  60.000000\\\\\n",
       "\t C2 & ERA  &  3 &  12.000000\\\\\n",
       "\t C3 & ARI  &  3 &  27.272727\\\\\n",
       "\t C3 & CON1 &  7 &  63.636364\\\\\n",
       "\t C3 & ERA  &  1 &   9.090909\\\\\n",
       "\t C4 & ARI  &  5 & 100.000000\\\\\n",
       "\t C5 & ARI  & 25 &  71.428571\\\\\n",
       "\t C5 & CON1 &  7 &  20.000000\\\\\n",
       "\t C5 & ERA  &  3 &   8.571429\\\\\n",
       "\t C6 & ARI  &  4 &  57.142857\\\\\n",
       "\t C6 & ERA  &  3 &  42.857143\\\\\n",
       "\\end{tabular}\n"
      ],
      "text/markdown": [
       "\n",
       "A grouped_df: 15 × 4\n",
       "\n",
       "| Cluster &lt;chr&gt; | s1 &lt;chr&gt; | count &lt;int&gt; | percentage &lt;dbl&gt; |\n",
       "|---|---|---|---|\n",
       "| C1 | ARI  |  1 |  10.000000 |\n",
       "| C1 | CON1 |  8 |  80.000000 |\n",
       "| C1 | ERA  |  1 |  10.000000 |\n",
       "| C2 | ARI  |  7 |  28.000000 |\n",
       "| C2 | CON1 | 15 |  60.000000 |\n",
       "| C2 | ERA  |  3 |  12.000000 |\n",
       "| C3 | ARI  |  3 |  27.272727 |\n",
       "| C3 | CON1 |  7 |  63.636364 |\n",
       "| C3 | ERA  |  1 |   9.090909 |\n",
       "| C4 | ARI  |  5 | 100.000000 |\n",
       "| C5 | ARI  | 25 |  71.428571 |\n",
       "| C5 | CON1 |  7 |  20.000000 |\n",
       "| C5 | ERA  |  3 |   8.571429 |\n",
       "| C6 | ARI  |  4 |  57.142857 |\n",
       "| C6 | ERA  |  3 |  42.857143 |\n",
       "\n"
      ],
      "text/plain": [
       "   Cluster s1   count percentage\n",
       "1  C1      ARI   1     10.000000\n",
       "2  C1      CON1  8     80.000000\n",
       "3  C1      ERA   1     10.000000\n",
       "4  C2      ARI   7     28.000000\n",
       "5  C2      CON1 15     60.000000\n",
       "6  C2      ERA   3     12.000000\n",
       "7  C3      ARI   3     27.272727\n",
       "8  C3      CON1  7     63.636364\n",
       "9  C3      ERA   1      9.090909\n",
       "10 C4      ARI   5    100.000000\n",
       "11 C5      ARI  25     71.428571\n",
       "12 C5      CON1  7     20.000000\n",
       "13 C5      ERA   3      8.571429\n",
       "14 C6      ARI   4     57.142857\n",
       "15 C6      ERA   3     42.857143"
      ]
     },
     "metadata": {},
     "output_type": "display_data"
    }
   ],
   "source": [
    "# Calculate proportions\n",
    "df_proportion <- olink_df %>%\n",
    "  group_by(Cluster, s1) %>%\n",
    "  summarise(count = n()) %>%\n",
    "  mutate(percentage = count / sum(count) * 100)\n",
    "df_proportion"
   ]
  },
  {
   "cell_type": "code",
   "execution_count": 10,
   "id": "00ca61d9-cd3a-418e-beb3-16e0dda416d4",
   "metadata": {},
   "outputs": [
    {
     "data": {
      "image/png": "[encoded data removed]",
      "text/plain": [
       "plot without title"
      ]
     },
     "metadata": {
      "image/png": {
       "height": 240,
       "width": 180
      }
     },
     "output_type": "display_data"
    }
   ],
   "source": [
    "options(repr.plot.width = 3, repr.plot.height = 4)\n",
    "p <- ggplot(df_proportion, aes(x = Cluster, y = percentage, fill = s1)) +\n",
    "  geom_bar(stat = \"identity\") + \n",
    "  labs(x = \"Clusters\", y = \"Percentage\", fill = \"Status\") +\n",
    "  scale_y_continuous(labels = scales::percent_format(scale = 1)) +\n",
    "  scale_fill_manual(values = c(\"CON1\" = \"#4C8CBD\", \"ARI\" = \"#F59F00\", \"ERA\" = \"#840032\")) +\n",
    "  theme_classic() +\n",
    "  theme(legend.position = \"top\")\n",
    "p\n",
    "# Save the plot\n",
    "ggsave(\"/home/jupyter/ALTRA_ANALYSIS/Deep_clean/Figure_files/Certpro_figures/Plots_for_manuscript/Figure_S1G.pdf\", plot = p, width = 3, height = 4, dpi = 300)"
   ]
  },
  {
   "cell_type": "code",
   "execution_count": 11,
   "id": "7175ed46-fa3f-4493-825a-5ece394b195b",
   "metadata": {},
   "outputs": [
    {
     "data": {
      "text/plain": [
       "R version 4.3.1 (2023-06-16)\n",
       "Platform: x86_64-conda-linux-gnu (64-bit)\n",
       "Running under: Ubuntu 20.04.6 LTS\n",
       "\n",
       "Matrix products: default\n",
       "BLAS/LAPACK: /home/jupyter/libs/r_scrna/lib/libopenblasp-r0.3.24.so;  LAPACK version 3.11.0\n",
       "\n",
       "locale:\n",
       " [1] LC_CTYPE=C.UTF-8       LC_NUMERIC=C           LC_TIME=C.UTF-8       \n",
       " [4] LC_COLLATE=C.UTF-8     LC_MONETARY=C.UTF-8    LC_MESSAGES=C.UTF-8   \n",
       " [7] LC_PAPER=C.UTF-8       LC_NAME=C              LC_ADDRESS=C          \n",
       "[10] LC_TELEPHONE=C         LC_MEASUREMENT=C.UTF-8 LC_IDENTIFICATION=C   \n",
       "\n",
       "time zone: Etc/UTC\n",
       "tzcode source: system (glibc)\n",
       "\n",
       "attached base packages:\n",
       "[1] stats4    stats     graphics  grDevices utils     datasets  methods  \n",
       "[8] base     \n",
       "\n",
       "other attached packages:\n",
       " [1] GSVA_1.48.3                 ggthemes_5.1.0             \n",
       " [3] ggrepel_0.9.5               lme4_1.1-34                \n",
       " [5] plotly_4.10.4               knitr_1.47                 \n",
       " [7] ggpubr_0.6.0                SeuratDisk_0.0.0.9021      \n",
       " [9] SingleCellExperiment_1.22.0 SummarizedExperiment_1.30.2\n",
       "[11] Biobase_2.60.0              GenomicRanges_1.52.1       \n",
       "[13] GenomeInfoDb_1.36.4         IRanges_2.34.1             \n",
       "[15] S4Vectors_0.38.2            BiocGenerics_0.46.0        \n",
       "[17] MatrixGenerics_1.12.3       matrixStats_1.3.0          \n",
       "[19] future.apply_1.11.2         future_1.33.2              \n",
       "[21] harmony_1.2.0               Rcpp_1.0.12                \n",
       "[23] viridis_0.6.5               viridisLite_0.4.2          \n",
       "[25] Matrix_1.6-1.1              SeuratObject_5.0.0         \n",
       "[27] Seurat_4.4.0                lubridate_1.9.3            \n",
       "[29] forcats_1.0.0               stringr_1.5.1              \n",
       "[31] dplyr_1.1.4                 purrr_1.0.2                \n",
       "[33] readr_2.1.5                 tidyr_1.3.1                \n",
       "[35] tibble_3.2.1                ggplot2_3.5.1              \n",
       "[37] tidyverse_2.0.0            \n",
       "\n",
       "loaded via a namespace (and not attached):\n",
       "  [1] RcppAnnoy_0.0.22          splines_4.3.1            \n",
       "  [3] later_1.3.2               pbdZMQ_0.3-11            \n",
       "  [5] bitops_1.0-7              polyclip_1.10-6          \n",
       "  [7] graph_1.78.0              XML_3.99-0.17            \n",
       "  [9] lifecycle_1.0.4           rstatix_0.7.2            \n",
       " [11] globals_0.16.3            lattice_0.22-6           \n",
       " [13] hdf5r_1.3.10              MASS_7.3-60              \n",
       " [15] backports_1.5.0           magrittr_2.0.3           \n",
       " [17] httpuv_1.6.15             sctransform_0.4.1        \n",
       " [19] spam_2.10-0               sp_2.1-4                 \n",
       " [21] spatstat.sparse_3.1-0     reticulate_1.38.0        \n",
       " [23] DBI_1.2.3                 cowplot_1.1.3            \n",
       " [25] pbapply_1.7-2             minqa_1.2.7              \n",
       " [27] RColorBrewer_1.1-3        abind_1.4-5              \n",
       " [29] zlibbioc_1.46.0           Rtsne_0.17               \n",
       " [31] RCurl_1.98-1.14           GenomeInfoDbData_1.2.10  \n",
       " [33] irlba_2.3.5.1             listenv_0.9.1            \n",
       " [35] spatstat.utils_3.0-5      goftest_1.2-3            \n",
       " [37] annotate_1.78.0           spatstat.random_3.2-3    \n",
       " [39] fitdistrplus_1.1-11       parallelly_1.37.1        \n",
       " [41] DelayedMatrixStats_1.22.6 leiden_0.4.3.1           \n",
       " [43] codetools_0.2-20          DelayedArray_0.26.7      \n",
       " [45] tidyselect_1.2.1          farver_2.1.2             \n",
       " [47] ScaledMatrix_1.8.1        base64enc_0.1-3          \n",
       " [49] spatstat.explore_3.2-7    jsonlite_1.8.8           \n",
       " [51] progressr_0.14.0          ggridges_0.5.6           \n",
       " [53] survival_3.7-0            systemfonts_1.1.0        \n",
       " [55] tools_4.3.1               ragg_1.2.5               \n",
       " [57] ica_1.0-3                 glue_1.7.0               \n",
       " [59] gridExtra_2.3             xfun_0.45                \n",
       " [61] IRdisplay_1.1             HDF5Array_1.28.1         \n",
       " [63] withr_3.0.0               fastmap_1.2.0            \n",
       " [65] rhdf5filters_1.12.1       boot_1.3-30              \n",
       " [67] fansi_1.0.6               rsvd_1.0.5               \n",
       " [69] digest_0.6.36             timechange_0.3.0         \n",
       " [71] R6_2.5.1                  mime_0.12                \n",
       " [73] textshaping_0.4.0         colorspace_2.1-0         \n",
       " [75] Cairo_1.6-2               scattermore_1.2          \n",
       " [77] tensor_1.5                RSQLite_2.3.7            \n",
       " [79] spatstat.data_3.1-2       utf8_1.2.4               \n",
       " [81] generics_0.1.3            data.table_1.15.4        \n",
       " [83] httr_1.4.7                htmlwidgets_1.6.4        \n",
       " [85] S4Arrays_1.0.6            uwot_0.2.2               \n",
       " [87] pkgconfig_2.0.3           gtable_0.3.5             \n",
       " [89] blob_1.2.4                lmtest_0.9-40            \n",
       " [91] XVector_0.40.0            htmltools_0.5.8.1        \n",
       " [93] carData_3.0-5             dotCall64_1.1-1          \n",
       " [95] GSEABase_1.62.0           scales_1.3.0             \n",
       " [97] png_0.1-8                 tzdb_0.4.0               \n",
       " [99] reshape2_1.4.4            uuid_1.2-0               \n",
       "[101] nlme_3.1-165              nloptr_2.0.3             \n",
       "[103] rhdf5_2.44.0              cachem_1.1.0             \n",
       "[105] repr_1.1.7                zoo_1.8-12               \n",
       "[107] KernSmooth_2.23-24        parallel_4.3.1           \n",
       "[109] miniUI_0.1.1.1            AnnotationDbi_1.62.2     \n",
       "[111] pillar_1.9.0              grid_4.3.1               \n",
       "[113] vctrs_0.6.5               RANN_2.6.1               \n",
       "[115] promises_1.3.0            BiocSingular_1.16.0      \n",
       "[117] car_3.1-2                 beachmat_2.16.0          \n",
       "[119] xtable_1.8-4              cluster_2.1.6            \n",
       "[121] evaluate_0.24.0           cli_3.6.3                \n",
       "[123] compiler_4.3.1            rlang_1.1.4              \n",
       "[125] crayon_1.5.3              ggsignif_0.6.4           \n",
       "[127] labeling_0.4.3            plyr_1.8.9               \n",
       "[129] stringi_1.8.4             BiocParallel_1.34.2      \n",
       "[131] deldir_2.0-4              Biostrings_2.68.1        \n",
       "[133] munsell_0.5.1             lazyeval_0.2.2           \n",
       "[135] spatstat.geom_3.2-9       IRkernel_1.3.2           \n",
       "[137] hms_1.1.3                 patchwork_1.2.0          \n",
       "[139] sparseMatrixStats_1.12.2  bit64_4.0.5              \n",
       "[141] Rhdf5lib_1.22.1           KEGGREST_1.40.1          \n",
       "[143] shiny_1.8.1.1             ROCR_1.0-11              \n",
       "[145] memoise_2.0.1             igraph_2.0.3             \n",
       "[147] broom_1.0.6               bit_4.0.5                "
      ]
     },
     "metadata": {},
     "output_type": "display_data"
    }
   ],
   "source": [
    "sessionInfo()"
   ]
  },
  {
   "cell_type": "code",
   "execution_count": null,
   "id": "8976d72e-260d-4f90-8494-92c044633880",
   "metadata": {},
   "outputs": [],
   "source": []
  }
 ],
 "metadata": {
  "kernelspec": {
   "display_name": "r_scrna",
   "language": "R",
   "name": "r_scrna"
  },
  "language_info": {
   "codemirror_mode": "r",
   "file_extension": ".r",
   "mimetype": "text/x-r-source",
   "name": "R",
   "pygments_lexer": "r",
   "version": "4.3.1"
  }
 },
 "nbformat": 4,
 "nbformat_minor": 5
}
