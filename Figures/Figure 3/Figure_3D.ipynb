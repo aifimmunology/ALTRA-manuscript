{
 "cells": [
  {
   "cell_type": "markdown",
   "id": "316f4109-2610-44a5-8527-d75d506fbbdc",
   "metadata": {},
   "source": [
    "# Fig 3D Plots"
   ]
  },
  {
   "cell_type": "markdown",
   "id": "efa63f98-5f1b-4890-ae8d-6d278c0136cb",
   "metadata": {},
   "source": [
    "## Set Up"
   ]
  },
  {
   "cell_type": "code",
   "execution_count": 1,
   "id": "00fe4218-95a7-4a31-8292-18009de1b90c",
   "metadata": {},
   "outputs": [
    {
     "name": "stderr",
     "output_type": "stream",
     "text": [
      "Warning message:\n",
      "“package ‘ggplot2’ was built under R version 4.3.3”\n",
      "Warning message:\n",
      "“package ‘tidyr’ was built under R version 4.3.2”\n",
      "Warning message:\n",
      "“package ‘readr’ was built under R version 4.3.2”\n",
      "Warning message:\n",
      "“package ‘dplyr’ was built under R version 4.3.2”\n",
      "Warning message:\n",
      "“package ‘stringr’ was built under R version 4.3.2”\n",
      "── \u001b[1mAttaching core tidyverse packages\u001b[22m ──────────────────────── tidyverse 2.0.0 ──\n",
      "\u001b[32m✔\u001b[39m \u001b[34mdplyr    \u001b[39m 1.1.4     \u001b[32m✔\u001b[39m \u001b[34mreadr    \u001b[39m 2.1.5\n",
      "\u001b[32m✔\u001b[39m \u001b[34mforcats  \u001b[39m 1.0.0     \u001b[32m✔\u001b[39m \u001b[34mstringr  \u001b[39m 1.5.1\n",
      "\u001b[32m✔\u001b[39m \u001b[34mggplot2  \u001b[39m 3.5.1     \u001b[32m✔\u001b[39m \u001b[34mtibble   \u001b[39m 3.2.1\n",
      "\u001b[32m✔\u001b[39m \u001b[34mlubridate\u001b[39m 1.9.3     \u001b[32m✔\u001b[39m \u001b[34mtidyr    \u001b[39m 1.3.1\n",
      "\u001b[32m✔\u001b[39m \u001b[34mpurrr    \u001b[39m 1.0.2     \n",
      "── \u001b[1mConflicts\u001b[22m ────────────────────────────────────────── tidyverse_conflicts() ──\n",
      "\u001b[31m✖\u001b[39m \u001b[34mdplyr\u001b[39m::\u001b[32mfilter()\u001b[39m masks \u001b[34mstats\u001b[39m::filter()\n",
      "\u001b[31m✖\u001b[39m \u001b[34mdplyr\u001b[39m::\u001b[32mlag()\u001b[39m    masks \u001b[34mstats\u001b[39m::lag()\n",
      "\u001b[36mℹ\u001b[39m Use the conflicted package (\u001b[3m\u001b[34m<http://conflicted.r-lib.org/>\u001b[39m\u001b[23m) to force all conflicts to become errors\n",
      "Warning message:\n",
      "“package ‘patchwork’ was built under R version 4.3.2”\n"
     ]
    }
   ],
   "source": [
    "library(tidyverse)\n",
    "library(patchwork)\n",
    "library(hise)\n",
    "plotdim <- function(w=7, h=7){\n",
    "    options(repr.plot.height = h, repr.plot.width = w)\n",
    "}"
   ]
  },
  {
   "cell_type": "markdown",
   "id": "66503628-86a0-4f61-ad70-46c2d48d20c7",
   "metadata": {},
   "source": [
    "## Variables"
   ]
  },
  {
   "cell_type": "code",
   "execution_count": 2,
   "id": "d195fb4e-d4bb-47da-9823-7604e4cdeb2b",
   "metadata": {},
   "outputs": [],
   "source": [
    "ig_genes <- c('IGHG1','IGHG2','IGHG3','IGHG4','IGHA1','IGHA2','IGHM','IGHD','IGHE')"
   ]
  },
  {
   "cell_type": "code",
   "execution_count": 3,
   "id": "5cf0c9ec-1df8-4b20-ba82-2dafd50062c2",
   "metadata": {},
   "outputs": [],
   "source": [
    "isotype_lev <- c('IGHM','IGHM;IGHD','IGHD','IGHG1','IGHG2','IGHG3','IGHG4','IGHA1','IGHA2','IGHE','undetermined')\n",
    "isotype_cols <- c('#664a5b','#d3764a','#b64e3e','#c5d996','#99c087','#568a6a','#337066','#012a36','#a5bdca','#8A2E4C','#D1D2D4')\n",
    "names(isotype_cols) <- isotype_lev"
   ]
  },
  {
   "cell_type": "code",
   "execution_count": 4,
   "id": "f9fdc961-723c-45b7-998a-27e2b69adf1c",
   "metadata": {},
   "outputs": [],
   "source": [
    "b_types = c(\n",
    "    'Core naive B cell','Core memory B cell','Transitional B cell','CD27+ effector B cell',\n",
    "    'ISG+ naive B cell','CD27- effector B cell','Type 2 polarized memory B cell',\n",
    "    'Plasma cell','CD95 memory B cell','Early memory B cell','Activated memory B cell',\n",
    "    'Activated memory B cell_uk1'\n",
    ")\n",
    "bmem_types = c(\n",
    "    'Core memory B cell','CD27+ effector B cell','CD27- effector B cell','Type 2 polarized memory B cell',\n",
    "    'CD95 memory B cell','Early memory B cell','Activated memory B cell'\n",
    ")\n",
    "bother_types = c(\n",
    "    'Core naive B cell','Transitional B cell','ISG+ naive B cell','Plasma cell'\n",
    ")"
   ]
  },
  {
   "cell_type": "markdown",
   "id": "4446eca1-dd05-4595-88ac-5f5f2ca5fcb8",
   "metadata": {},
   "source": [
    "## Data "
   ]
  },
  {
   "cell_type": "markdown",
   "id": "24906985-03bc-41f3-a1dc-8ba2df777489",
   "metadata": {},
   "source": [
    "### Download"
   ]
  },
  {
   "cell_type": "code",
   "execution_count": 5,
   "id": "2590f8c7-0a31-4248-b290-b8c2d95b3d9f",
   "metadata": {},
   "outputs": [],
   "source": [
    "in_fid <- list('388f0c99-51c9-4c6e-b476-8d76ff9eff8a')"
   ]
  },
  {
   "cell_type": "code",
   "execution_count": 6,
   "id": "07d3b3b4-c930-4e35-85cc-72b1a6c32d8a",
   "metadata": {},
   "outputs": [
    {
     "name": "stderr",
     "output_type": "stream",
     "text": [
      "Failed to download files:\n",
      "\n"
     ]
    }
   ],
   "source": [
    "hise::cacheFiles(in_fid)"
   ]
  },
  {
   "cell_type": "markdown",
   "id": "853b1115-acf9-48d9-975b-72a30d5949b6",
   "metadata": {},
   "source": [
    "### Read and Format"
   ]
  },
  {
   "cell_type": "code",
   "execution_count": 7,
   "id": "c1d0adfc-e0f5-4ee4-bc50-64bbcbe34b1c",
   "metadata": {},
   "outputs": [],
   "source": [
    "counts05 <- read.csv(\"./cache/388f0c99-51c9-4c6e-b476-8d76ff9eff8a/adata-all-b_isotypes_cutoff0.5.csv\")%>%\n",
    "    mutate(type = ifelse(grepl(\"naive\", AIFI_L3_new), \"Naive\",\n",
    "                         ifelse(grepl(\"Transitional\", AIFI_L3_new), \"Trans.\",\"Memory\")))%>%\n",
    "    mutate(sample_celltype = paste0(sample.sampleKitGuid, \"_\", AIFI_L3_new)) "
   ]
  },
  {
   "cell_type": "code",
   "execution_count": 8,
   "id": "8003f847-ef52-446c-8f2a-367e833817a0",
   "metadata": {},
   "outputs": [],
   "source": [
    "dat_long0.5 <- counts05 %>%\n",
    "    gather(key = gene, value = norm_counts, all_of(ig_genes))"
   ]
  },
  {
   "cell_type": "code",
   "execution_count": 10,
   "id": "a2e82ec5-dcbb-4b1b-b283-e5aeeffb17f5",
   "metadata": {},
   "outputs": [],
   "source": [
    "bmem_counts05 <- counts05 %>%\n",
    "    filter(AIFI_L3_new %in% bmem_types)"
   ]
  },
  {
   "cell_type": "markdown",
   "id": "c7e29500-d677-4f56-ab79-4beb5edc961c",
   "metadata": {},
   "source": [
    "## Panel D"
   ]
  },
  {
   "cell_type": "code",
   "execution_count": 11,
   "id": "789d520e-a57b-4e1d-83ae-87f377d74b43",
   "metadata": {},
   "outputs": [
    {
     "data": {
      "image/png": "[encoded data removed]",
      "text/plain": [
       "plot without title"
      ]
     },
     "metadata": {
      "image/png": {
       "height": 300,
       "width": 360
      }
     },
     "output_type": "display_data"
    }
   ],
   "source": [
    "plotdim(6,5)\n",
    "g_bmem_cluster_05_89 <- bmem_counts05 %>%\n",
    "    filter(leiden_0_8 %in% c(8,9)) %>%\n",
    "    ggplot(aes(factor(leiden_0_8), fill =isotype)) +\n",
    "        geom_bar(position = 'fill') +\n",
    "        labs(x='leiden_0_8', y = 'frequency') +\n",
    "        scale_fill_manual(values = isotype_cols, breaks = names(isotype_cols)) +\n",
    "        theme_bw(base_size = 14) +\n",
    "        xlab(\"Leiden clusters\") +\n",
    "        ylab(\"Frequency\") +\n",
    "        theme(panel.grid = element_blank())\n",
    "        \n",
    "g_bmem_cluster_05_89"
   ]
  },
  {
   "cell_type": "code",
   "execution_count": 12,
   "id": "0d0797bd-94ad-4145-a2b5-e40edef19fc6",
   "metadata": {},
   "outputs": [],
   "source": [
    "ggsave(\"_output/certpro/fig/altra_Bmem_leiden0.8-89_isotype_composition_cutoff0.5_4x4_bw-nogrid.pdf\", plot = g_bmem_cluster_05_89, \n",
    "       device = 'pdf', height = 4, width = 4, dpi = 600)"
   ]
  },
  {
   "cell_type": "markdown",
   "id": "d676b3de-3ce7-4f33-b0a5-7204b5f45518",
   "metadata": {},
   "source": [
    "## Session Info"
   ]
  },
  {
   "cell_type": "code",
   "execution_count": 13,
   "id": "b5da8ce7-cb51-4dc9-85a8-5b4bd265a585",
   "metadata": {},
   "outputs": [
    {
     "data": {
      "text/plain": [
       "R version 4.3.1 (2023-06-16)\n",
       "Platform: x86_64-conda-linux-gnu (64-bit)\n",
       "Running under: Ubuntu 20.04.5 LTS\n",
       "\n",
       "Matrix products: default\n",
       "BLAS/LAPACK: /home/jupyter/env/ra_scrna/lib/libopenblasp-r0.3.21.so;  LAPACK version 3.9.0\n",
       "\n",
       "locale:\n",
       " [1] LC_CTYPE=C.UTF-8       LC_NUMERIC=C           LC_TIME=C.UTF-8       \n",
       " [4] LC_COLLATE=C.UTF-8     LC_MONETARY=C.UTF-8    LC_MESSAGES=C.UTF-8   \n",
       " [7] LC_PAPER=C.UTF-8       LC_NAME=C              LC_ADDRESS=C          \n",
       "[10] LC_TELEPHONE=C         LC_MEASUREMENT=C.UTF-8 LC_IDENTIFICATION=C   \n",
       "\n",
       "time zone: Etc/UTC\n",
       "tzcode source: system (glibc)\n",
       "\n",
       "attached base packages:\n",
       "[1] stats     graphics  grDevices utils     datasets  methods   base     \n",
       "\n",
       "other attached packages:\n",
       " [1] hise_2.16.0     patchwork_1.2.0 lubridate_1.9.3 forcats_1.0.0  \n",
       " [5] stringr_1.5.1   dplyr_1.1.4     purrr_1.0.2     readr_2.1.5    \n",
       " [9] tidyr_1.3.1     tibble_3.2.1    ggplot2_3.5.1   tidyverse_2.0.0\n",
       "\n",
       "loaded via a namespace (and not attached):\n",
       " [1] utf8_1.2.4        generics_0.1.3    bitops_1.0-7      stringi_1.8.4    \n",
       " [5] hms_1.1.3         digest_0.6.35     magrittr_2.0.3    evaluate_0.23    \n",
       " [9] grid_4.3.1        timechange_0.3.0  pbdZMQ_0.3-11     fastmap_1.2.0    \n",
       "[13] jsonlite_1.8.8    httr_1.4.7        fansi_1.0.6       scales_1.3.0     \n",
       "[17] textshaping_0.3.7 cli_3.6.2         rlang_1.1.3       crayon_1.5.2     \n",
       "[21] munsell_0.5.1     base64enc_0.1-3   withr_3.0.0       repr_1.1.7       \n",
       "[25] tools_4.3.1       tzdb_0.4.0        uuid_1.2-0        colorspace_2.1-0 \n",
       "[29] curl_5.1.0        assertthat_0.2.1  IRdisplay_1.1     vctrs_0.6.5      \n",
       "[33] R6_2.5.1          lifecycle_1.0.4   ragg_1.2.6        pkgconfig_2.0.3  \n",
       "[37] pillar_1.9.0      gtable_0.3.5      glue_1.7.0        systemfonts_1.0.5\n",
       "[41] tidyselect_1.2.1  IRkernel_1.3.2    farver_2.1.2      htmltools_0.5.8.1\n",
       "[45] labeling_0.4.3    compiler_4.3.1    RCurl_1.98-1.14  "
      ]
     },
     "metadata": {},
     "output_type": "display_data"
    }
   ],
   "source": [
    "sessionInfo()"
   ]
  },
  {
   "cell_type": "code",
   "execution_count": null,
   "id": "b510ef05-f1fe-4664-a034-f0918cb1d0d0",
   "metadata": {},
   "outputs": [],
   "source": []
  }
 ],
 "metadata": {
  "kernelspec": {
   "display_name": "ra_scrna",
   "language": "R",
   "name": "ra_scrna"
  },
  "language_info": {
   "codemirror_mode": "r",
   "file_extension": ".r",
   "mimetype": "text/x-r-source",
   "name": "R",
   "pygments_lexer": "r",
   "version": "4.3.1"
  }
 },
 "nbformat": 4,
 "nbformat_minor": 5
}
