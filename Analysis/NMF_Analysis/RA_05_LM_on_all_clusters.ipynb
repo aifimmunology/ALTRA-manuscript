{
 "cells": [
  {
   "cell_type": "markdown",
   "id": "df9d2cd3-4fc4-44a3-880f-b101424ad8e3",
   "metadata": {},
   "source": [
    "# Linear mixed models analyis\n",
    " - mixed model results for CLR and Frequency"
   ]
  },
  {
   "cell_type": "code",
   "execution_count": 1,
   "id": "52d80b9c-d700-437e-91e6-c8625c47a731",
   "metadata": {},
   "outputs": [],
   "source": [
    "\n",
    "# load libraries\n",
    "quiet_library <- function(...) {\n",
    "    suppressPackageStartupMessages(library(...))\n",
    "}\n",
    "quiet_library(tidyverse)\n",
    "quiet_library(Seurat)\n",
    "quiet_library(ggplot2)\n",
    "quiet_library(Matrix)\n",
    "quiet_library(dplyr)\n",
    "quiet_library(viridis)\n",
    "quiet_library(harmony)\n",
    "quiet_library(future)\n",
    "quiet_library(future.apply)\n",
    "quiet_library(SingleCellExperiment)\n",
    "quiet_library(SeuratDisk)\n",
    "quiet_library(ggpubr)\n",
    "quiet_library(knitr)\n",
    "quiet_library(plotly)\n",
    "quiet_library(lme4)\n",
    "quiet_library(ggpubr)\n",
    "quiet_library(lmerTest)\n",
    "quiet_library(broom)"
   ]
  },
  {
   "cell_type": "code",
   "execution_count": 2,
   "id": "cf85472c-5b2f-4ab1-98b1-22abff1b9097",
   "metadata": {},
   "outputs": [
    {
     "data": {
      "text/html": [
       "<strong>system:</strong> 64"
      ],
      "text/latex": [
       "\\textbf{system:} 64"
      ],
      "text/markdown": [
       "**system:** 64"
      ],
      "text/plain": [
       "system \n",
       "    64 "
      ]
     },
     "metadata": {},
     "output_type": "display_data"
    }
   ],
   "source": [
    "# Check number of cores\n",
    "future::availableCores()\n",
    "# Set up parallel processing to run when using 'future' functions \n",
    "future::plan(strategy = \"multicore\", workers = future::availableCores()-5)  \n",
    "options(future.globals.maxSize = 1000 * 1024^3)\n",
    "# to turn off parallel processing run line below\n",
    "# future::plan(strategy = \"sequential\")"
   ]
  },
  {
   "cell_type": "code",
   "execution_count": 3,
   "id": "8f28bb3d-bf64-464b-b1ff-e2bb61822228",
   "metadata": {},
   "outputs": [],
   "source": [
    "# define the color palette to be used\n",
    "npg_color <- c(\"#E64B35FF\", \"#4DBBD5FF\", \"#00A087FF\", \"#3C5488FF\", \"#F39B7FFF\", \n",
    "               \"#8491B4FF\", \"#91D1C2FF\", \"#DC0000FF\", \"#7E6148FF\", \"#B09C85FF\")\n",
    "nejm_color <- c(\"#BC3C29FF\", \"#0072B5FF\", \"#E18727FF\", \"#20854EFF\", \"#7876B1FF\", \"#6F99ADFF\", \"#FFDC91FF\", \"#EE4C97FF\")\n",
    "jama_color <- c(\"#374E55FF\", \"#DF8F44FF\", \"#00A1D5FF\", \"#B24745FF\", \"#79AF97FF\", \"#6A6599FF\", \"#80796BFF\")\n",
    "jco_color <- c(\"#0073C2FF\", \"#EFC000FF\", \"#868686FF\", \"#CD534CFF\", \"#7AA6DCFF\", \"#003C67FF\", \"#8F7700FF\")\n",
    "cluster_colors <- c(\"#DC050C\", \"#FB8072\", \"#1965B0\", \"#7BAFDE\", \"#882E72\", \"#B17BA6\", \"#FF7F00\", \"#FDB462\", \"#E7298A\", \n",
    "    \"#E78AC3\", \"#33A02C\", \"#B2DF8A\", \"#55A1B1\", \"#8DD3C7\", \"#A6761D\", \"#E6AB02\", \"#7570B3\", \"#BEAED4\", \"#666666\", \"#999999\", \n",
    "    \"#aa8282\", \"#d4b7b7\", \"#8600bf\", \"#ba5ce3\", \"#808000\", \"#aeae5c\", \"#1e90ff\", \"#00bfff\", \"#56ff0d\", \"#ffff00\")\n",
    "\n",
    "cluster_colors_ext <- colorRampPalette(cluster_colors)(36)\n",
    "options(repr.plot.width = 10, repr.plot.height = 10)"
   ]
  },
  {
   "cell_type": "markdown",
   "id": "f6903252-816b-4ef8-b312-2fd63c689362",
   "metadata": {},
   "source": [
    "# Helper Function"
   ]
  },
  {
   "cell_type": "code",
   "execution_count": 4,
   "id": "b74487cb-6578-46c0-8643-3367e2e925ff",
   "metadata": {},
   "outputs": [],
   "source": [
    "#' This function fits a linear mixed-effects model to each cluster in a given dataframe\n",
    "#' and extracts the summary statistics for the specified term (`days_to_conversion`).\n",
    "#' The function performs the following steps:\n",
    "#' 1. Identifies unique clusters in the specified column.\n",
    "#' 2. Fits a linear mixed-effects model for each cluster.\n",
    "#' 3. Extracts and tidies the model summary for each cluster.\n",
    "#' 4. Filters the summary to retain rows corresponding to `days_to_conversion`.\n",
    "#' 5. Combines the modified summaries for all clusters.\n",
    "#' 6. Takes the p-value column and produces adjusts p-values using the Benjamini-Hochberg method.\n",
    "#'\n",
    "#' @param df A data frame containing the data to be analyzed.\n",
    "#' @param cluster_column The name of the column containing cluster identifiers.\n",
    "#' @param formula A formula specifying the linear mixed-effects model to be fitted.\n",
    "#' @param subject_column The name of the column containing subject identifiers for the random effect.\n",
    "#' \n",
    "#' @return A data frame with the combined modified summaries for all clusters,\n",
    "#' including the adjusted p-values.\n",
    "#' \n",
    "#' @examples\n",
    "#' # Assuming A3_clr_v2 is your data frame\n",
    "#' result <- analyze_clusters(A3_clr_v2, \"clusters\", clr ~ age_conv + bmi_conv + days_to_conversion + (1 | subject.subjectGuid), \"subject.subjectGuid\")\n",
    "#' print(result)\n",
    "#' \n",
    "#' @export\n",
    "LM_on_clusters <- function(df, cluster_column, formula, subject_column) {\n",
    "  # Unique clusters in the dataframe\n",
    "  unique_clusters <- unique(df[[cluster_column]])\n",
    "  \n",
    "  # Initialize a list to store model summaries for each cluster\n",
    "  model_summaries <- list()\n",
    "  \n",
    "  # Loop through each cluster\n",
    "  for (cluster in unique_clusters) {\n",
    "    # Filter the dataframe for the current cluster\n",
    "    cluster_data <- df %>% filter(!!sym(cluster_column) == cluster)\n",
    "    \n",
    "    # Fit the linear mixed-effects model\n",
    "    model <- lmerTest::lmer(formula, data = cluster_data)\n",
    "    \n",
    "    # Get the summary of the model\n",
    "    summary_model <- summary(model)\n",
    "    \n",
    "    # Store the summary in the list\n",
    "    model_summaries[[as.character(cluster)]] <- summary_model\n",
    "  }\n",
    "  \n",
    "  # Initialize a list to store tidy summaries for each cluster\n",
    "  tidy_summaries <- list()\n",
    "  \n",
    "  # Loop through each model summary in model_summaries\n",
    "  for (i in seq_along(model_summaries)) {\n",
    "    # Extract relevant information from the summary\n",
    "    coef_summary <- coef(summary(model_summaries[[i]]))\n",
    "    \n",
    "    # Tidy up the coefficient summary using broom\n",
    "    tidy_summary <- as.data.frame(coef_summary)\n",
    "    tidy_summary$cluster <- names(model_summaries)[i]\n",
    "    \n",
    "    # Store the tidy summary in the list\n",
    "    tidy_summaries[[i]] <- tidy_summary\n",
    "  }\n",
    "  \n",
    "  # Initialize a list to store modified summaries for each cluster\n",
    "  modified_summaries <- list()\n",
    "  \n",
    "  # Loop through each data frame in tidy_summaries\n",
    "  for (i in seq_along(tidy_summaries)) {\n",
    "    # Filter rows to retain only days_to_conversion\n",
    "    days_summary <- subset(tidy_summaries[[i]], rownames(tidy_summaries[[i]]) == \"days_to_conversion\")\n",
    "    \n",
    "    # Make cluster name the row name\n",
    "    rownames(days_summary) <- days_summary$cluster\n",
    "    \n",
    "    # Remove the 'cluster' column\n",
    "    days_summary <- days_summary[, -ncol(days_summary)]\n",
    "    \n",
    "    # Store modified summary in the list\n",
    "    modified_summaries[[i]] <- days_summary\n",
    "  }\n",
    "  \n",
    "  # Combine all modified summaries into a single data frame\n",
    "  combined_modified_summary <- do.call(rbind, modified_summaries)\n",
    "  \n",
    "  # Rename the p-value column\n",
    "  combined_modified_summary <- combined_modified_summary %>%\n",
    "    rename(Pval_lm_DTC = `Pr(>|t|)`)\n",
    "  \n",
    "  # Arrange by p-value\n",
    "  combined_modified_summary <- combined_modified_summary %>%\n",
    "    arrange(Pval_lm_DTC)\n",
    "  \n",
    "  # Adjust p-values using Benjamini-Hochberg method\n",
    "  combined_modified_summary$p_adj_BH <- p.adjust(combined_modified_summary$Pval_lm_DTC, method = \"BH\")\n",
    "  \n",
    "  # Return the final combined summary\n",
    "  return(combined_modified_summary)\n",
    "}\n"
   ]
  },
  {
   "cell_type": "code",
   "execution_count": 5,
   "id": "d4553613-b1a8-4333-864a-7dc4ae6061b8",
   "metadata": {},
   "outputs": [
    {
     "data": {
      "text/html": [
       "<table class=\"dataframe\">\n",
       "<caption>A data.frame: 3 × 18</caption>\n",
       "<thead>\n",
       "\t<tr><th></th><th scope=col>X</th><th scope=col>sample.sampleKitGuid</th><th scope=col>BMI</th><th scope=col>days_to_conversion</th><th scope=col>ageAtDraw</th><th scope=col>subject.biologicalSex</th><th scope=col>subject.subjectGuid</th><th scope=col>bmi_conv</th><th scope=col>age_conv</th><th scope=col>Status_Long</th><th scope=col>Status_Xsec</th><th scope=col>Age2023</th><th scope=col>anti_ccp3</th><th scope=col>anti_ccp3_finalCombined</th><th scope=col>anti_ccp31</th><th scope=col>clusters</th><th scope=col>frequency_live</th><th scope=col>clr</th></tr>\n",
       "\t<tr><th></th><th scope=col>&lt;int&gt;</th><th scope=col>&lt;chr&gt;</th><th scope=col>&lt;dbl&gt;</th><th scope=col>&lt;int&gt;</th><th scope=col>&lt;int&gt;</th><th scope=col>&lt;chr&gt;</th><th scope=col>&lt;chr&gt;</th><th scope=col>&lt;dbl&gt;</th><th scope=col>&lt;int&gt;</th><th scope=col>&lt;chr&gt;</th><th scope=col>&lt;chr&gt;</th><th scope=col>&lt;int&gt;</th><th scope=col>&lt;int&gt;</th><th scope=col>&lt;int&gt;</th><th scope=col>&lt;int&gt;</th><th scope=col>&lt;chr&gt;</th><th scope=col>&lt;dbl&gt;</th><th scope=col>&lt;dbl&gt;</th></tr>\n",
       "</thead>\n",
       "<tbody>\n",
       "\t<tr><th scope=row>1</th><td>1</td><td>KT00052</td><td>24.65716</td><td>-714</td><td>56</td><td>Female</td><td>CU1009</td><td>25.64892</td><td>58</td><td>pre</td><td>at_risk</td><td>60</td><td>88</td><td>88</td><td>74</td><td>cluster0</td><td>0.10423826</td><td>0.9848633</td></tr>\n",
       "\t<tr><th scope=row>2</th><td>2</td><td>KT00052</td><td>24.65716</td><td>-714</td><td>56</td><td>Female</td><td>CU1009</td><td>25.64892</td><td>58</td><td>pre</td><td>at_risk</td><td>60</td><td>88</td><td>88</td><td>74</td><td>cluster1</td><td>0.07073310</td><td>0.5970978</td></tr>\n",
       "\t<tr><th scope=row>3</th><td>3</td><td>KT00052</td><td>24.65716</td><td>-714</td><td>56</td><td>Female</td><td>CU1009</td><td>25.64892</td><td>58</td><td>pre</td><td>at_risk</td><td>60</td><td>88</td><td>88</td><td>74</td><td>cluster2</td><td>0.09621993</td><td>0.9048206</td></tr>\n",
       "</tbody>\n",
       "</table>\n"
      ],
      "text/latex": [
       "A data.frame: 3 × 18\n",
       "\\begin{tabular}{r|llllllllllllllllll}\n",
       "  & X & sample.sampleKitGuid & BMI & days\\_to\\_conversion & ageAtDraw & subject.biologicalSex & subject.subjectGuid & bmi\\_conv & age\\_conv & Status\\_Long & Status\\_Xsec & Age2023 & anti\\_ccp3 & anti\\_ccp3\\_finalCombined & anti\\_ccp31 & clusters & frequency\\_live & clr\\\\\n",
       "  & <int> & <chr> & <dbl> & <int> & <int> & <chr> & <chr> & <dbl> & <int> & <chr> & <chr> & <int> & <int> & <int> & <int> & <chr> & <dbl> & <dbl>\\\\\n",
       "\\hline\n",
       "\t1 & 1 & KT00052 & 24.65716 & -714 & 56 & Female & CU1009 & 25.64892 & 58 & pre & at\\_risk & 60 & 88 & 88 & 74 & cluster0 & 0.10423826 & 0.9848633\\\\\n",
       "\t2 & 2 & KT00052 & 24.65716 & -714 & 56 & Female & CU1009 & 25.64892 & 58 & pre & at\\_risk & 60 & 88 & 88 & 74 & cluster1 & 0.07073310 & 0.5970978\\\\\n",
       "\t3 & 3 & KT00052 & 24.65716 & -714 & 56 & Female & CU1009 & 25.64892 & 58 & pre & at\\_risk & 60 & 88 & 88 & 74 & cluster2 & 0.09621993 & 0.9048206\\\\\n",
       "\\end{tabular}\n"
      ],
      "text/markdown": [
       "\n",
       "A data.frame: 3 × 18\n",
       "\n",
       "| <!--/--> | X &lt;int&gt; | sample.sampleKitGuid &lt;chr&gt; | BMI &lt;dbl&gt; | days_to_conversion &lt;int&gt; | ageAtDraw &lt;int&gt; | subject.biologicalSex &lt;chr&gt; | subject.subjectGuid &lt;chr&gt; | bmi_conv &lt;dbl&gt; | age_conv &lt;int&gt; | Status_Long &lt;chr&gt; | Status_Xsec &lt;chr&gt; | Age2023 &lt;int&gt; | anti_ccp3 &lt;int&gt; | anti_ccp3_finalCombined &lt;int&gt; | anti_ccp31 &lt;int&gt; | clusters &lt;chr&gt; | frequency_live &lt;dbl&gt; | clr &lt;dbl&gt; |\n",
       "|---|---|---|---|---|---|---|---|---|---|---|---|---|---|---|---|---|---|---|\n",
       "| 1 | 1 | KT00052 | 24.65716 | -714 | 56 | Female | CU1009 | 25.64892 | 58 | pre | at_risk | 60 | 88 | 88 | 74 | cluster0 | 0.10423826 | 0.9848633 |\n",
       "| 2 | 2 | KT00052 | 24.65716 | -714 | 56 | Female | CU1009 | 25.64892 | 58 | pre | at_risk | 60 | 88 | 88 | 74 | cluster1 | 0.07073310 | 0.5970978 |\n",
       "| 3 | 3 | KT00052 | 24.65716 | -714 | 56 | Female | CU1009 | 25.64892 | 58 | pre | at_risk | 60 | 88 | 88 | 74 | cluster2 | 0.09621993 | 0.9048206 |\n",
       "\n"
      ],
      "text/plain": [
       "  X sample.sampleKitGuid BMI      days_to_conversion ageAtDraw\n",
       "1 1 KT00052              24.65716 -714               56       \n",
       "2 2 KT00052              24.65716 -714               56       \n",
       "3 3 KT00052              24.65716 -714               56       \n",
       "  subject.biologicalSex subject.subjectGuid bmi_conv age_conv Status_Long\n",
       "1 Female                CU1009              25.64892 58       pre        \n",
       "2 Female                CU1009              25.64892 58       pre        \n",
       "3 Female                CU1009              25.64892 58       pre        \n",
       "  Status_Xsec Age2023 anti_ccp3 anti_ccp3_finalCombined anti_ccp31 clusters\n",
       "1 at_risk     60      88        88                      74         cluster0\n",
       "2 at_risk     60      88        88                      74         cluster1\n",
       "3 at_risk     60      88        88                      74         cluster2\n",
       "  frequency_live clr      \n",
       "1 0.10423826     0.9848633\n",
       "2 0.07073310     0.5970978\n",
       "3 0.09621993     0.9048206"
      ]
     },
     "metadata": {},
     "output_type": "display_data"
    }
   ],
   "source": [
    "#reading the freq/Clr outputfile \n",
    "fq_clr=read.csv(\"/home/jupyter/ALTRA_ANALYSIS/Deep_clean/certpro/output_files/CD4T_mem_certpro_Frq_clr_res_0_4(c0-c18)_R.csv\")\n",
    "fq_clr%>%head(3)"
   ]
  },
  {
   "cell_type": "code",
   "execution_count": 6,
   "id": "9f95d337-620c-40d4-80e8-9ddd74f5443e",
   "metadata": {},
   "outputs": [],
   "source": [
    "meta=read.csv(\"/home/jupyter/ALTRA_ANALYSIS/Deep_clean/AIM3/input_csv_files/2023-11-22_ALTRA_Metadata_labs.csv\")"
   ]
  },
  {
   "cell_type": "code",
   "execution_count": 7,
   "id": "a0226033-bb15-4806-b11e-f726300d338c",
   "metadata": {},
   "outputs": [],
   "source": [
    "meta_filtered <- meta %>% \n",
    "  filter(subject.subjectGuid != \"CU1015\")\n",
    "## becuase CU1015 is not used in long analysis"
   ]
  },
  {
   "cell_type": "code",
   "execution_count": 8,
   "id": "95ebd86c-8ffd-465b-82a0-b80f7d12e253",
   "metadata": {},
   "outputs": [
    {
     "data": {
      "text/html": [
       "<style>\n",
       ".list-inline {list-style: none; margin:0; padding: 0}\n",
       ".list-inline>li {display: inline-block}\n",
       ".list-inline>li:not(:last-child)::after {content: \"\\00b7\"; padding: 0 .5ex}\n",
       "</style>\n",
       "<ol class=list-inline><li>73</li><li>2</li></ol>\n"
      ],
      "text/latex": [
       "\\begin{enumerate*}\n",
       "\\item 73\n",
       "\\item 2\n",
       "\\end{enumerate*}\n"
      ],
      "text/markdown": [
       "1. 73\n",
       "2. 2\n",
       "\n",
       "\n"
      ],
      "text/plain": [
       "[1] 73  2"
      ]
     },
     "metadata": {},
     "output_type": "display_data"
    },
    {
     "data": {
      "text/html": [
       "<table class=\"dataframe\">\n",
       "<caption>A data.frame: 2 × 2</caption>\n",
       "<thead>\n",
       "\t<tr><th></th><th scope=col>Status_Long</th><th scope=col>sample.sampleKitGuid</th></tr>\n",
       "\t<tr><th></th><th scope=col>&lt;chr&gt;</th><th scope=col>&lt;chr&gt;</th></tr>\n",
       "</thead>\n",
       "<tbody>\n",
       "\t<tr><th scope=row>1</th><td>pre</td><td>KT00052</td></tr>\n",
       "\t<tr><th scope=row>2</th><td>pre</td><td>KT00056</td></tr>\n",
       "</tbody>\n",
       "</table>\n"
      ],
      "text/latex": [
       "A data.frame: 2 × 2\n",
       "\\begin{tabular}{r|ll}\n",
       "  & Status\\_Long & sample.sampleKitGuid\\\\\n",
       "  & <chr> & <chr>\\\\\n",
       "\\hline\n",
       "\t1 & pre & KT00052\\\\\n",
       "\t2 & pre & KT00056\\\\\n",
       "\\end{tabular}\n"
      ],
      "text/markdown": [
       "\n",
       "A data.frame: 2 × 2\n",
       "\n",
       "| <!--/--> | Status_Long &lt;chr&gt; | sample.sampleKitGuid &lt;chr&gt; |\n",
       "|---|---|---|\n",
       "| 1 | pre | KT00052 |\n",
       "| 2 | pre | KT00056 |\n",
       "\n"
      ],
      "text/plain": [
       "  Status_Long sample.sampleKitGuid\n",
       "1 pre         KT00052             \n",
       "2 pre         KT00056             "
      ]
     },
     "metadata": {},
     "output_type": "display_data"
    }
   ],
   "source": [
    "meta_a3=meta_filtered%>%filter(Status_Long %in% c(\"pre\",\"conversion\"))\n",
    "meta_a3=select(meta_a3,c(Status_Long,sample.sampleKitGuid))\n",
    "meta_a3%>%dim\n",
    "meta_a3%>%head(2)"
   ]
  },
  {
   "cell_type": "code",
   "execution_count": 9,
   "id": "28358cde-f058-4a48-8b69-78164c60ebdd",
   "metadata": {},
   "outputs": [
    {
     "data": {
      "text/html": [
       "<style>\n",
       ".list-inline {list-style: none; margin:0; padding: 0}\n",
       ".list-inline>li {display: inline-block}\n",
       ".list-inline>li:not(:last-child)::after {content: \"\\00b7\"; padding: 0 .5ex}\n",
       "</style>\n",
       "<ol class=list-inline><li>1243</li><li>19</li></ol>\n"
      ],
      "text/latex": [
       "\\begin{enumerate*}\n",
       "\\item 1243\n",
       "\\item 19\n",
       "\\end{enumerate*}\n"
      ],
      "text/markdown": [
       "1. 1243\n",
       "2. 19\n",
       "\n",
       "\n"
      ],
      "text/plain": [
       "[1] 1243   19"
      ]
     },
     "metadata": {},
     "output_type": "display_data"
    },
    {
     "data": {
      "text/html": [
       "<table class=\"dataframe\">\n",
       "<caption>A data.frame: 6 × 19</caption>\n",
       "<thead>\n",
       "\t<tr><th></th><th scope=col>sample.sampleKitGuid</th><th scope=col>Status_Long.x</th><th scope=col>X</th><th scope=col>BMI</th><th scope=col>days_to_conversion</th><th scope=col>ageAtDraw</th><th scope=col>subject.biologicalSex</th><th scope=col>subject.subjectGuid</th><th scope=col>bmi_conv</th><th scope=col>age_conv</th><th scope=col>Status_Long.y</th><th scope=col>Status_Xsec</th><th scope=col>Age2023</th><th scope=col>anti_ccp3</th><th scope=col>anti_ccp3_finalCombined</th><th scope=col>anti_ccp31</th><th scope=col>clusters</th><th scope=col>frequency_live</th><th scope=col>clr</th></tr>\n",
       "\t<tr><th></th><th scope=col>&lt;chr&gt;</th><th scope=col>&lt;chr&gt;</th><th scope=col>&lt;int&gt;</th><th scope=col>&lt;dbl&gt;</th><th scope=col>&lt;int&gt;</th><th scope=col>&lt;int&gt;</th><th scope=col>&lt;chr&gt;</th><th scope=col>&lt;chr&gt;</th><th scope=col>&lt;dbl&gt;</th><th scope=col>&lt;int&gt;</th><th scope=col>&lt;chr&gt;</th><th scope=col>&lt;chr&gt;</th><th scope=col>&lt;int&gt;</th><th scope=col>&lt;int&gt;</th><th scope=col>&lt;int&gt;</th><th scope=col>&lt;int&gt;</th><th scope=col>&lt;chr&gt;</th><th scope=col>&lt;dbl&gt;</th><th scope=col>&lt;dbl&gt;</th></tr>\n",
       "</thead>\n",
       "<tbody>\n",
       "\t<tr><th scope=row>1</th><td>KT00052</td><td>pre</td><td> 3</td><td>24.65716</td><td>-714</td><td>56</td><td>Female</td><td>CU1009</td><td>25.64892</td><td>58</td><td>pre</td><td>at_risk</td><td>60</td><td>88</td><td>88</td><td>74</td><td>cluster2 </td><td>0.09621993</td><td> 0.9048206</td></tr>\n",
       "\t<tr><th scope=row>2</th><td>KT00052</td><td>pre</td><td> 1</td><td>24.65716</td><td>-714</td><td>56</td><td>Female</td><td>CU1009</td><td>25.64892</td><td>58</td><td>pre</td><td>at_risk</td><td>60</td><td>88</td><td>88</td><td>74</td><td>cluster0 </td><td>0.10423826</td><td> 0.9848633</td></tr>\n",
       "\t<tr><th scope=row>3</th><td>KT00052</td><td>pre</td><td> 4</td><td>24.65716</td><td>-714</td><td>56</td><td>Female</td><td>CU1009</td><td>25.64892</td><td>58</td><td>pre</td><td>at_risk</td><td>60</td><td>88</td><td>88</td><td>74</td><td>cluster3 </td><td>0.06872852</td><td> 0.5683484</td></tr>\n",
       "\t<tr><th scope=row>4</th><td>KT00052</td><td>pre</td><td>13</td><td>24.65716</td><td>-714</td><td>56</td><td>Female</td><td>CU1009</td><td>25.64892</td><td>58</td><td>pre</td><td>at_risk</td><td>60</td><td>88</td><td>88</td><td>74</td><td>cluster12</td><td>0.04696449</td><td> 0.1875759</td></tr>\n",
       "\t<tr><th scope=row>5</th><td>KT00052</td><td>pre</td><td> 2</td><td>24.65716</td><td>-714</td><td>56</td><td>Female</td><td>CU1009</td><td>25.64892</td><td>58</td><td>pre</td><td>at_risk</td><td>60</td><td>88</td><td>88</td><td>74</td><td>cluster1 </td><td>0.07073310</td><td> 0.5970978</td></tr>\n",
       "\t<tr><th scope=row>6</th><td>KT00052</td><td>pre</td><td>17</td><td>24.65716</td><td>-714</td><td>56</td><td>Female</td><td>CU1009</td><td>25.64892</td><td>58</td><td>pre</td><td>at_risk</td><td>60</td><td>88</td><td>88</td><td>74</td><td>cluster16</td><td>0.02290951</td><td>-0.5302639</td></tr>\n",
       "</tbody>\n",
       "</table>\n"
      ],
      "text/latex": [
       "A data.frame: 6 × 19\n",
       "\\begin{tabular}{r|lllllllllllllllllll}\n",
       "  & sample.sampleKitGuid & Status\\_Long.x & X & BMI & days\\_to\\_conversion & ageAtDraw & subject.biologicalSex & subject.subjectGuid & bmi\\_conv & age\\_conv & Status\\_Long.y & Status\\_Xsec & Age2023 & anti\\_ccp3 & anti\\_ccp3\\_finalCombined & anti\\_ccp31 & clusters & frequency\\_live & clr\\\\\n",
       "  & <chr> & <chr> & <int> & <dbl> & <int> & <int> & <chr> & <chr> & <dbl> & <int> & <chr> & <chr> & <int> & <int> & <int> & <int> & <chr> & <dbl> & <dbl>\\\\\n",
       "\\hline\n",
       "\t1 & KT00052 & pre &  3 & 24.65716 & -714 & 56 & Female & CU1009 & 25.64892 & 58 & pre & at\\_risk & 60 & 88 & 88 & 74 & cluster2  & 0.09621993 &  0.9048206\\\\\n",
       "\t2 & KT00052 & pre &  1 & 24.65716 & -714 & 56 & Female & CU1009 & 25.64892 & 58 & pre & at\\_risk & 60 & 88 & 88 & 74 & cluster0  & 0.10423826 &  0.9848633\\\\\n",
       "\t3 & KT00052 & pre &  4 & 24.65716 & -714 & 56 & Female & CU1009 & 25.64892 & 58 & pre & at\\_risk & 60 & 88 & 88 & 74 & cluster3  & 0.06872852 &  0.5683484\\\\\n",
       "\t4 & KT00052 & pre & 13 & 24.65716 & -714 & 56 & Female & CU1009 & 25.64892 & 58 & pre & at\\_risk & 60 & 88 & 88 & 74 & cluster12 & 0.04696449 &  0.1875759\\\\\n",
       "\t5 & KT00052 & pre &  2 & 24.65716 & -714 & 56 & Female & CU1009 & 25.64892 & 58 & pre & at\\_risk & 60 & 88 & 88 & 74 & cluster1  & 0.07073310 &  0.5970978\\\\\n",
       "\t6 & KT00052 & pre & 17 & 24.65716 & -714 & 56 & Female & CU1009 & 25.64892 & 58 & pre & at\\_risk & 60 & 88 & 88 & 74 & cluster16 & 0.02290951 & -0.5302639\\\\\n",
       "\\end{tabular}\n"
      ],
      "text/markdown": [
       "\n",
       "A data.frame: 6 × 19\n",
       "\n",
       "| <!--/--> | sample.sampleKitGuid &lt;chr&gt; | Status_Long.x &lt;chr&gt; | X &lt;int&gt; | BMI &lt;dbl&gt; | days_to_conversion &lt;int&gt; | ageAtDraw &lt;int&gt; | subject.biologicalSex &lt;chr&gt; | subject.subjectGuid &lt;chr&gt; | bmi_conv &lt;dbl&gt; | age_conv &lt;int&gt; | Status_Long.y &lt;chr&gt; | Status_Xsec &lt;chr&gt; | Age2023 &lt;int&gt; | anti_ccp3 &lt;int&gt; | anti_ccp3_finalCombined &lt;int&gt; | anti_ccp31 &lt;int&gt; | clusters &lt;chr&gt; | frequency_live &lt;dbl&gt; | clr &lt;dbl&gt; |\n",
       "|---|---|---|---|---|---|---|---|---|---|---|---|---|---|---|---|---|---|---|---|\n",
       "| 1 | KT00052 | pre |  3 | 24.65716 | -714 | 56 | Female | CU1009 | 25.64892 | 58 | pre | at_risk | 60 | 88 | 88 | 74 | cluster2  | 0.09621993 |  0.9048206 |\n",
       "| 2 | KT00052 | pre |  1 | 24.65716 | -714 | 56 | Female | CU1009 | 25.64892 | 58 | pre | at_risk | 60 | 88 | 88 | 74 | cluster0  | 0.10423826 |  0.9848633 |\n",
       "| 3 | KT00052 | pre |  4 | 24.65716 | -714 | 56 | Female | CU1009 | 25.64892 | 58 | pre | at_risk | 60 | 88 | 88 | 74 | cluster3  | 0.06872852 |  0.5683484 |\n",
       "| 4 | KT00052 | pre | 13 | 24.65716 | -714 | 56 | Female | CU1009 | 25.64892 | 58 | pre | at_risk | 60 | 88 | 88 | 74 | cluster12 | 0.04696449 |  0.1875759 |\n",
       "| 5 | KT00052 | pre |  2 | 24.65716 | -714 | 56 | Female | CU1009 | 25.64892 | 58 | pre | at_risk | 60 | 88 | 88 | 74 | cluster1  | 0.07073310 |  0.5970978 |\n",
       "| 6 | KT00052 | pre | 17 | 24.65716 | -714 | 56 | Female | CU1009 | 25.64892 | 58 | pre | at_risk | 60 | 88 | 88 | 74 | cluster16 | 0.02290951 | -0.5302639 |\n",
       "\n"
      ],
      "text/plain": [
       "  sample.sampleKitGuid Status_Long.x X  BMI      days_to_conversion ageAtDraw\n",
       "1 KT00052              pre            3 24.65716 -714               56       \n",
       "2 KT00052              pre            1 24.65716 -714               56       \n",
       "3 KT00052              pre            4 24.65716 -714               56       \n",
       "4 KT00052              pre           13 24.65716 -714               56       \n",
       "5 KT00052              pre            2 24.65716 -714               56       \n",
       "6 KT00052              pre           17 24.65716 -714               56       \n",
       "  subject.biologicalSex subject.subjectGuid bmi_conv age_conv Status_Long.y\n",
       "1 Female                CU1009              25.64892 58       pre          \n",
       "2 Female                CU1009              25.64892 58       pre          \n",
       "3 Female                CU1009              25.64892 58       pre          \n",
       "4 Female                CU1009              25.64892 58       pre          \n",
       "5 Female                CU1009              25.64892 58       pre          \n",
       "6 Female                CU1009              25.64892 58       pre          \n",
       "  Status_Xsec Age2023 anti_ccp3 anti_ccp3_finalCombined anti_ccp31 clusters \n",
       "1 at_risk     60      88        88                      74         cluster2 \n",
       "2 at_risk     60      88        88                      74         cluster0 \n",
       "3 at_risk     60      88        88                      74         cluster3 \n",
       "4 at_risk     60      88        88                      74         cluster12\n",
       "5 at_risk     60      88        88                      74         cluster1 \n",
       "6 at_risk     60      88        88                      74         cluster16\n",
       "  frequency_live clr       \n",
       "1 0.09621993      0.9048206\n",
       "2 0.10423826      0.9848633\n",
       "3 0.06872852      0.5683484\n",
       "4 0.04696449      0.1875759\n",
       "5 0.07073310      0.5970978\n",
       "6 0.02290951     -0.5302639"
      ]
     },
     "metadata": {},
     "output_type": "display_data"
    }
   ],
   "source": [
    "A3_clr <- merge(meta_a3, fq_clr, by='sample.sampleKitGuid', all.x=TRUE)\n",
    "A3_clr%>%dim\n",
    "A3_clr%>%head"
   ]
  },
  {
   "cell_type": "code",
   "execution_count": 10,
   "id": "e982c5b0-11b7-4e15-9fa4-289fa15d3d67",
   "metadata": {},
   "outputs": [
    {
     "data": {
      "text/html": [
       "<table class=\"dataframe\">\n",
       "<caption>A data.frame: 3 × 17</caption>\n",
       "<thead>\n",
       "\t<tr><th></th><th scope=col>X</th><th scope=col>Status_Xsec</th><th scope=col>Status_Long</th><th scope=col>sample.sampleKitGuid</th><th scope=col>sample.drawDate</th><th scope=col>sample.daysSinceFirstVisit</th><th scope=col>subject.subjectGuid</th><th scope=col>subject.biologicalSex</th><th scope=col>subject.birthYear</th><th scope=col>days_to_conversion</th><th scope=col>number_of_days_to_from_ra_conversion_cu</th><th scope=col>anti_ccp3_finalCombined</th><th scope=col>status</th><th scope=col>time</th><th scope=col>s1</th><th scope=col>s1_ids</th><th scope=col>Status_new</th></tr>\n",
       "\t<tr><th></th><th scope=col>&lt;int&gt;</th><th scope=col>&lt;chr&gt;</th><th scope=col>&lt;chr&gt;</th><th scope=col>&lt;chr&gt;</th><th scope=col>&lt;chr&gt;</th><th scope=col>&lt;int&gt;</th><th scope=col>&lt;chr&gt;</th><th scope=col>&lt;chr&gt;</th><th scope=col>&lt;int&gt;</th><th scope=col>&lt;int&gt;</th><th scope=col>&lt;int&gt;</th><th scope=col>&lt;int&gt;</th><th scope=col>&lt;chr&gt;</th><th scope=col>&lt;int&gt;</th><th scope=col>&lt;chr&gt;</th><th scope=col>&lt;chr&gt;</th><th scope=col>&lt;chr&gt;</th></tr>\n",
       "</thead>\n",
       "<tbody>\n",
       "\t<tr><th scope=row>1</th><td>1</td><td>ALTRA_healthy</td><td>NA</td><td>KT02284</td><td>2022-10-01</td><td>0</td><td>SD1021</td><td>Female</td><td>1971</td><td>NA</td><td>NA</td><td>0</td><td>ALTRA_healthy</td><td>-2000</td><td>CON1</td><td>CON101</td><td>CON1</td></tr>\n",
       "\t<tr><th scope=row>2</th><td>2</td><td>ALTRA_healthy</td><td>NA</td><td>KT02286</td><td>2022-08-01</td><td>0</td><td>SD1022</td><td>Female</td><td>1985</td><td>NA</td><td>NA</td><td>2</td><td>ALTRA_healthy</td><td>-2000</td><td>CON1</td><td>CON102</td><td>CON1</td></tr>\n",
       "\t<tr><th scope=row>3</th><td>3</td><td>ALTRA_healthy</td><td>NA</td><td>KT02287</td><td>2022-05-01</td><td>0</td><td>SD1015</td><td>Female</td><td>1963</td><td>NA</td><td>NA</td><td>0</td><td>ALTRA_healthy</td><td>-2000</td><td>CON1</td><td>CON103</td><td>CON1</td></tr>\n",
       "</tbody>\n",
       "</table>\n"
      ],
      "text/latex": [
       "A data.frame: 3 × 17\n",
       "\\begin{tabular}{r|lllllllllllllllll}\n",
       "  & X & Status\\_Xsec & Status\\_Long & sample.sampleKitGuid & sample.drawDate & sample.daysSinceFirstVisit & subject.subjectGuid & subject.biologicalSex & subject.birthYear & days\\_to\\_conversion & number\\_of\\_days\\_to\\_from\\_ra\\_conversion\\_cu & anti\\_ccp3\\_finalCombined & status & time & s1 & s1\\_ids & Status\\_new\\\\\n",
       "  & <int> & <chr> & <chr> & <chr> & <chr> & <int> & <chr> & <chr> & <int> & <int> & <int> & <int> & <chr> & <int> & <chr> & <chr> & <chr>\\\\\n",
       "\\hline\n",
       "\t1 & 1 & ALTRA\\_healthy & NA & KT02284 & 2022-10-01 & 0 & SD1021 & Female & 1971 & NA & NA & 0 & ALTRA\\_healthy & -2000 & CON1 & CON101 & CON1\\\\\n",
       "\t2 & 2 & ALTRA\\_healthy & NA & KT02286 & 2022-08-01 & 0 & SD1022 & Female & 1985 & NA & NA & 2 & ALTRA\\_healthy & -2000 & CON1 & CON102 & CON1\\\\\n",
       "\t3 & 3 & ALTRA\\_healthy & NA & KT02287 & 2022-05-01 & 0 & SD1015 & Female & 1963 & NA & NA & 0 & ALTRA\\_healthy & -2000 & CON1 & CON103 & CON1\\\\\n",
       "\\end{tabular}\n"
      ],
      "text/markdown": [
       "\n",
       "A data.frame: 3 × 17\n",
       "\n",
       "| <!--/--> | X &lt;int&gt; | Status_Xsec &lt;chr&gt; | Status_Long &lt;chr&gt; | sample.sampleKitGuid &lt;chr&gt; | sample.drawDate &lt;chr&gt; | sample.daysSinceFirstVisit &lt;int&gt; | subject.subjectGuid &lt;chr&gt; | subject.biologicalSex &lt;chr&gt; | subject.birthYear &lt;int&gt; | days_to_conversion &lt;int&gt; | number_of_days_to_from_ra_conversion_cu &lt;int&gt; | anti_ccp3_finalCombined &lt;int&gt; | status &lt;chr&gt; | time &lt;int&gt; | s1 &lt;chr&gt; | s1_ids &lt;chr&gt; | Status_new &lt;chr&gt; |\n",
       "|---|---|---|---|---|---|---|---|---|---|---|---|---|---|---|---|---|---|\n",
       "| 1 | 1 | ALTRA_healthy | NA | KT02284 | 2022-10-01 | 0 | SD1021 | Female | 1971 | NA | NA | 0 | ALTRA_healthy | -2000 | CON1 | CON101 | CON1 |\n",
       "| 2 | 2 | ALTRA_healthy | NA | KT02286 | 2022-08-01 | 0 | SD1022 | Female | 1985 | NA | NA | 2 | ALTRA_healthy | -2000 | CON1 | CON102 | CON1 |\n",
       "| 3 | 3 | ALTRA_healthy | NA | KT02287 | 2022-05-01 | 0 | SD1015 | Female | 1963 | NA | NA | 0 | ALTRA_healthy | -2000 | CON1 | CON103 | CON1 |\n",
       "\n"
      ],
      "text/plain": [
       "  X Status_Xsec   Status_Long sample.sampleKitGuid sample.drawDate\n",
       "1 1 ALTRA_healthy NA          KT02284              2022-10-01     \n",
       "2 2 ALTRA_healthy NA          KT02286              2022-08-01     \n",
       "3 3 ALTRA_healthy NA          KT02287              2022-05-01     \n",
       "  sample.daysSinceFirstVisit subject.subjectGuid subject.biologicalSex\n",
       "1 0                          SD1021              Female               \n",
       "2 0                          SD1022              Female               \n",
       "3 0                          SD1015              Female               \n",
       "  subject.birthYear days_to_conversion number_of_days_to_from_ra_conversion_cu\n",
       "1 1971              NA                 NA                                     \n",
       "2 1985              NA                 NA                                     \n",
       "3 1963              NA                 NA                                     \n",
       "  anti_ccp3_finalCombined status        time  s1   s1_ids Status_new\n",
       "1 0                       ALTRA_healthy -2000 CON1 CON101 CON1      \n",
       "2 2                       ALTRA_healthy -2000 CON1 CON102 CON1      \n",
       "3 0                       ALTRA_healthy -2000 CON1 CON103 CON1      "
      ]
     },
     "metadata": {},
     "output_type": "display_data"
    },
    {
     "data": {
      "text/html": [
       "<table class=\"dataframe\">\n",
       "<caption>A data.frame: 3 × 3</caption>\n",
       "<thead>\n",
       "\t<tr><th></th><th scope=col>sample.sampleKitGuid</th><th scope=col>s1_ids</th><th scope=col>Status_new</th></tr>\n",
       "\t<tr><th></th><th scope=col>&lt;chr&gt;</th><th scope=col>&lt;chr&gt;</th><th scope=col>&lt;chr&gt;</th></tr>\n",
       "</thead>\n",
       "<tbody>\n",
       "\t<tr><th scope=row>1</th><td>KT02284</td><td>CON101</td><td>CON1</td></tr>\n",
       "\t<tr><th scope=row>2</th><td>KT02286</td><td>CON102</td><td>CON1</td></tr>\n",
       "\t<tr><th scope=row>3</th><td>KT02287</td><td>CON103</td><td>CON1</td></tr>\n",
       "</tbody>\n",
       "</table>\n"
      ],
      "text/latex": [
       "A data.frame: 3 × 3\n",
       "\\begin{tabular}{r|lll}\n",
       "  & sample.sampleKitGuid & s1\\_ids & Status\\_new\\\\\n",
       "  & <chr> & <chr> & <chr>\\\\\n",
       "\\hline\n",
       "\t1 & KT02284 & CON101 & CON1\\\\\n",
       "\t2 & KT02286 & CON102 & CON1\\\\\n",
       "\t3 & KT02287 & CON103 & CON1\\\\\n",
       "\\end{tabular}\n"
      ],
      "text/markdown": [
       "\n",
       "A data.frame: 3 × 3\n",
       "\n",
       "| <!--/--> | sample.sampleKitGuid &lt;chr&gt; | s1_ids &lt;chr&gt; | Status_new &lt;chr&gt; |\n",
       "|---|---|---|---|\n",
       "| 1 | KT02284 | CON101 | CON1 |\n",
       "| 2 | KT02286 | CON102 | CON1 |\n",
       "| 3 | KT02287 | CON103 | CON1 |\n",
       "\n"
      ],
      "text/plain": [
       "  sample.sampleKitGuid s1_ids Status_new\n",
       "1 KT02284              CON101 CON1      \n",
       "2 KT02286              CON102 CON1      \n",
       "3 KT02287              CON103 CON1      "
      ]
     },
     "metadata": {},
     "output_type": "display_data"
    }
   ],
   "source": [
    "altra=read.csv(\"/home/jupyter/ALTRA_ANALYSIS/Deep_clean/Figure_notebooks/files/input_files/certpro_Zi_files/Figure_input_files/ALTRA_Fig1_Master_meta\n",
    "                    .csv\")\n",
    "altra%>%head(3)\n",
    "a1=select(altra,c(\"sample.sampleKitGuid\",\"s1_ids\",\"Status_new\"))\n",
    "a1%>%head(3)\n"
   ]
  },
  {
   "cell_type": "code",
   "execution_count": 11,
   "id": "c85a007e-ab3c-4463-a756-8f42e887be32",
   "metadata": {},
   "outputs": [
    {
     "data": {
      "text/html": [
       "<style>\n",
       ".list-inline {list-style: none; margin:0; padding: 0}\n",
       ".list-inline>li {display: inline-block}\n",
       ".list-inline>li:not(:last-child)::after {content: \"\\00b7\"; padding: 0 .5ex}\n",
       "</style>\n",
       "<ol class=list-inline><li>1243</li><li>21</li></ol>\n"
      ],
      "text/latex": [
       "\\begin{enumerate*}\n",
       "\\item 1243\n",
       "\\item 21\n",
       "\\end{enumerate*}\n"
      ],
      "text/markdown": [
       "1. 1243\n",
       "2. 21\n",
       "\n",
       "\n"
      ],
      "text/plain": [
       "[1] 1243   21"
      ]
     },
     "metadata": {},
     "output_type": "display_data"
    },
    {
     "data": {
      "text/html": [
       "<table class=\"dataframe\">\n",
       "<caption>A data.frame: 3 × 21</caption>\n",
       "<thead>\n",
       "\t<tr><th></th><th scope=col>sample.sampleKitGuid</th><th scope=col>Status_Long.x</th><th scope=col>X</th><th scope=col>BMI</th><th scope=col>days_to_conversion</th><th scope=col>ageAtDraw</th><th scope=col>subject.biologicalSex</th><th scope=col>subject.subjectGuid</th><th scope=col>bmi_conv</th><th scope=col>age_conv</th><th scope=col>⋯</th><th scope=col>Status_Xsec</th><th scope=col>Age2023</th><th scope=col>anti_ccp3</th><th scope=col>anti_ccp3_finalCombined</th><th scope=col>anti_ccp31</th><th scope=col>clusters</th><th scope=col>frequency_live</th><th scope=col>clr</th><th scope=col>s1_ids</th><th scope=col>Status_new</th></tr>\n",
       "\t<tr><th></th><th scope=col>&lt;chr&gt;</th><th scope=col>&lt;chr&gt;</th><th scope=col>&lt;int&gt;</th><th scope=col>&lt;dbl&gt;</th><th scope=col>&lt;int&gt;</th><th scope=col>&lt;int&gt;</th><th scope=col>&lt;chr&gt;</th><th scope=col>&lt;chr&gt;</th><th scope=col>&lt;dbl&gt;</th><th scope=col>&lt;int&gt;</th><th scope=col>⋯</th><th scope=col>&lt;chr&gt;</th><th scope=col>&lt;int&gt;</th><th scope=col>&lt;int&gt;</th><th scope=col>&lt;int&gt;</th><th scope=col>&lt;int&gt;</th><th scope=col>&lt;chr&gt;</th><th scope=col>&lt;dbl&gt;</th><th scope=col>&lt;dbl&gt;</th><th scope=col>&lt;chr&gt;</th><th scope=col>&lt;chr&gt;</th></tr>\n",
       "</thead>\n",
       "<tbody>\n",
       "\t<tr><th scope=row>1</th><td>KT00052</td><td>pre</td><td>3</td><td>24.65716</td><td>-714</td><td>56</td><td>Female</td><td>CU1009</td><td>25.64892</td><td>58</td><td>⋯</td><td>at_risk</td><td>60</td><td>88</td><td>88</td><td>74</td><td>cluster2</td><td>0.09621993</td><td>0.9048206</td><td>ARI36</td><td>LONG</td></tr>\n",
       "\t<tr><th scope=row>2</th><td>KT00052</td><td>pre</td><td>1</td><td>24.65716</td><td>-714</td><td>56</td><td>Female</td><td>CU1009</td><td>25.64892</td><td>58</td><td>⋯</td><td>at_risk</td><td>60</td><td>88</td><td>88</td><td>74</td><td>cluster0</td><td>0.10423826</td><td>0.9848633</td><td>ARI36</td><td>LONG</td></tr>\n",
       "\t<tr><th scope=row>3</th><td>KT00052</td><td>pre</td><td>4</td><td>24.65716</td><td>-714</td><td>56</td><td>Female</td><td>CU1009</td><td>25.64892</td><td>58</td><td>⋯</td><td>at_risk</td><td>60</td><td>88</td><td>88</td><td>74</td><td>cluster3</td><td>0.06872852</td><td>0.5683484</td><td>ARI36</td><td>LONG</td></tr>\n",
       "</tbody>\n",
       "</table>\n"
      ],
      "text/latex": [
       "A data.frame: 3 × 21\n",
       "\\begin{tabular}{r|lllllllllllllllllllll}\n",
       "  & sample.sampleKitGuid & Status\\_Long.x & X & BMI & days\\_to\\_conversion & ageAtDraw & subject.biologicalSex & subject.subjectGuid & bmi\\_conv & age\\_conv & ⋯ & Status\\_Xsec & Age2023 & anti\\_ccp3 & anti\\_ccp3\\_finalCombined & anti\\_ccp31 & clusters & frequency\\_live & clr & s1\\_ids & Status\\_new\\\\\n",
       "  & <chr> & <chr> & <int> & <dbl> & <int> & <int> & <chr> & <chr> & <dbl> & <int> & ⋯ & <chr> & <int> & <int> & <int> & <int> & <chr> & <dbl> & <dbl> & <chr> & <chr>\\\\\n",
       "\\hline\n",
       "\t1 & KT00052 & pre & 3 & 24.65716 & -714 & 56 & Female & CU1009 & 25.64892 & 58 & ⋯ & at\\_risk & 60 & 88 & 88 & 74 & cluster2 & 0.09621993 & 0.9048206 & ARI36 & LONG\\\\\n",
       "\t2 & KT00052 & pre & 1 & 24.65716 & -714 & 56 & Female & CU1009 & 25.64892 & 58 & ⋯ & at\\_risk & 60 & 88 & 88 & 74 & cluster0 & 0.10423826 & 0.9848633 & ARI36 & LONG\\\\\n",
       "\t3 & KT00052 & pre & 4 & 24.65716 & -714 & 56 & Female & CU1009 & 25.64892 & 58 & ⋯ & at\\_risk & 60 & 88 & 88 & 74 & cluster3 & 0.06872852 & 0.5683484 & ARI36 & LONG\\\\\n",
       "\\end{tabular}\n"
      ],
      "text/markdown": [
       "\n",
       "A data.frame: 3 × 21\n",
       "\n",
       "| <!--/--> | sample.sampleKitGuid &lt;chr&gt; | Status_Long.x &lt;chr&gt; | X &lt;int&gt; | BMI &lt;dbl&gt; | days_to_conversion &lt;int&gt; | ageAtDraw &lt;int&gt; | subject.biologicalSex &lt;chr&gt; | subject.subjectGuid &lt;chr&gt; | bmi_conv &lt;dbl&gt; | age_conv &lt;int&gt; | ⋯ ⋯ | Status_Xsec &lt;chr&gt; | Age2023 &lt;int&gt; | anti_ccp3 &lt;int&gt; | anti_ccp3_finalCombined &lt;int&gt; | anti_ccp31 &lt;int&gt; | clusters &lt;chr&gt; | frequency_live &lt;dbl&gt; | clr &lt;dbl&gt; | s1_ids &lt;chr&gt; | Status_new &lt;chr&gt; |\n",
       "|---|---|---|---|---|---|---|---|---|---|---|---|---|---|---|---|---|---|---|---|---|---|\n",
       "| 1 | KT00052 | pre | 3 | 24.65716 | -714 | 56 | Female | CU1009 | 25.64892 | 58 | ⋯ | at_risk | 60 | 88 | 88 | 74 | cluster2 | 0.09621993 | 0.9048206 | ARI36 | LONG |\n",
       "| 2 | KT00052 | pre | 1 | 24.65716 | -714 | 56 | Female | CU1009 | 25.64892 | 58 | ⋯ | at_risk | 60 | 88 | 88 | 74 | cluster0 | 0.10423826 | 0.9848633 | ARI36 | LONG |\n",
       "| 3 | KT00052 | pre | 4 | 24.65716 | -714 | 56 | Female | CU1009 | 25.64892 | 58 | ⋯ | at_risk | 60 | 88 | 88 | 74 | cluster3 | 0.06872852 | 0.5683484 | ARI36 | LONG |\n",
       "\n"
      ],
      "text/plain": [
       "  sample.sampleKitGuid Status_Long.x X BMI      days_to_conversion ageAtDraw\n",
       "1 KT00052              pre           3 24.65716 -714               56       \n",
       "2 KT00052              pre           1 24.65716 -714               56       \n",
       "3 KT00052              pre           4 24.65716 -714               56       \n",
       "  subject.biologicalSex subject.subjectGuid bmi_conv age_conv ⋯ Status_Xsec\n",
       "1 Female                CU1009              25.64892 58       ⋯ at_risk    \n",
       "2 Female                CU1009              25.64892 58       ⋯ at_risk    \n",
       "3 Female                CU1009              25.64892 58       ⋯ at_risk    \n",
       "  Age2023 anti_ccp3 anti_ccp3_finalCombined anti_ccp31 clusters frequency_live\n",
       "1 60      88        88                      74         cluster2 0.09621993    \n",
       "2 60      88        88                      74         cluster0 0.10423826    \n",
       "3 60      88        88                      74         cluster3 0.06872852    \n",
       "  clr       s1_ids Status_new\n",
       "1 0.9048206 ARI36  LONG      \n",
       "2 0.9848633 ARI36  LONG      \n",
       "3 0.5683484 ARI36  LONG      "
      ]
     },
     "metadata": {},
     "output_type": "display_data"
    }
   ],
   "source": [
    "A3_clr1 <- left_join(A3_clr, a1, by = \"sample.sampleKitGuid\")\n",
    "A3_clr1%>%dim\n",
    "A3_clr1%>%head(3)"
   ]
  },
  {
   "cell_type": "code",
   "execution_count": 12,
   "id": "af880999-12e0-4f05-b53a-d7b01cf3f396",
   "metadata": {},
   "outputs": [
    {
     "data": {
      "text/html": [
       "<style>\n",
       ".list-inline {list-style: none; margin:0; padding: 0}\n",
       ".list-inline>li {display: inline-block}\n",
       ".list-inline>li:not(:last-child)::after {content: \"\\00b7\"; padding: 0 .5ex}\n",
       "</style>\n",
       "<ol class=list-inline><li>1121</li><li>21</li></ol>\n"
      ],
      "text/latex": [
       "\\begin{enumerate*}\n",
       "\\item 1121\n",
       "\\item 21\n",
       "\\end{enumerate*}\n"
      ],
      "text/markdown": [
       "1. 1121\n",
       "2. 21\n",
       "\n",
       "\n"
      ],
      "text/plain": [
       "[1] 1121   21"
      ]
     },
     "metadata": {},
     "output_type": "display_data"
    }
   ],
   "source": [
    "##filtering out samples having less than -750 days to conversion\n",
    "A3_clr_v1<- A3_clr1 %>%\n",
    "  filter(days_to_conversion >= -750)\n",
    "A3_clr_v1%>%dim"
   ]
  },
  {
   "cell_type": "code",
   "execution_count": 13,
   "id": "cb898deb-53ab-4140-94e4-678ede9efc53",
   "metadata": {},
   "outputs": [
    {
     "data": {
      "text/html": [
       "<style>\n",
       ".list-inline {list-style: none; margin:0; padding: 0}\n",
       ".list-inline>li {display: inline-block}\n",
       ".list-inline>li:not(:last-child)::after {content: \"\\00b7\"; padding: 0 .5ex}\n",
       "</style>\n",
       "<ol class=list-inline><li>950</li><li>21</li></ol>\n"
      ],
      "text/latex": [
       "\\begin{enumerate*}\n",
       "\\item 950\n",
       "\\item 21\n",
       "\\end{enumerate*}\n"
      ],
      "text/markdown": [
       "1. 950\n",
       "2. 21\n",
       "\n",
       "\n"
      ],
      "text/plain": [
       "[1] 950  21"
      ]
     },
     "metadata": {},
     "output_type": "display_data"
    }
   ],
   "source": [
    "## removing the male samples to run the lm model\n",
    "A3_clr_v2 <- A3_clr_v1 %>%\n",
    "  filter(subject.biologicalSex != \"Male\")\n",
    "A3_clr_v2%>%dim"
   ]
  },
  {
   "cell_type": "code",
   "execution_count": 14,
   "id": "95614201-66b4-49f7-bf90-979c2849eb42",
   "metadata": {},
   "outputs": [
    {
     "data": {
      "text/html": [
       "<table class=\"dataframe\">\n",
       "<caption>A data.frame: 6 × 21</caption>\n",
       "<thead>\n",
       "\t<tr><th></th><th scope=col>sample.sampleKitGuid</th><th scope=col>Status_Long.x</th><th scope=col>X</th><th scope=col>BMI</th><th scope=col>days_to_conversion</th><th scope=col>ageAtDraw</th><th scope=col>subject.biologicalSex</th><th scope=col>subject.subjectGuid</th><th scope=col>bmi_conv</th><th scope=col>age_conv</th><th scope=col>⋯</th><th scope=col>Status_Xsec</th><th scope=col>Age2023</th><th scope=col>anti_ccp3</th><th scope=col>anti_ccp3_finalCombined</th><th scope=col>anti_ccp31</th><th scope=col>clusters</th><th scope=col>frequency_live</th><th scope=col>clr</th><th scope=col>s1_ids</th><th scope=col>Status_new</th></tr>\n",
       "\t<tr><th></th><th scope=col>&lt;chr&gt;</th><th scope=col>&lt;chr&gt;</th><th scope=col>&lt;int&gt;</th><th scope=col>&lt;dbl&gt;</th><th scope=col>&lt;int&gt;</th><th scope=col>&lt;int&gt;</th><th scope=col>&lt;chr&gt;</th><th scope=col>&lt;chr&gt;</th><th scope=col>&lt;dbl&gt;</th><th scope=col>&lt;int&gt;</th><th scope=col>⋯</th><th scope=col>&lt;chr&gt;</th><th scope=col>&lt;int&gt;</th><th scope=col>&lt;int&gt;</th><th scope=col>&lt;int&gt;</th><th scope=col>&lt;int&gt;</th><th scope=col>&lt;chr&gt;</th><th scope=col>&lt;dbl&gt;</th><th scope=col>&lt;dbl&gt;</th><th scope=col>&lt;chr&gt;</th><th scope=col>&lt;chr&gt;</th></tr>\n",
       "</thead>\n",
       "<tbody>\n",
       "\t<tr><th scope=row>1</th><td>KT00052</td><td>pre</td><td> 3</td><td>24.65716</td><td>-714</td><td>56</td><td>Female</td><td>CU1009</td><td>25.64892</td><td>58</td><td>⋯</td><td>at_risk</td><td>60</td><td>88</td><td>88</td><td>74</td><td>cluster2 </td><td>0.09621993</td><td> 0.9048206</td><td>ARI36</td><td>LONG</td></tr>\n",
       "\t<tr><th scope=row>2</th><td>KT00052</td><td>pre</td><td> 1</td><td>24.65716</td><td>-714</td><td>56</td><td>Female</td><td>CU1009</td><td>25.64892</td><td>58</td><td>⋯</td><td>at_risk</td><td>60</td><td>88</td><td>88</td><td>74</td><td>cluster0 </td><td>0.10423826</td><td> 0.9848633</td><td>ARI36</td><td>LONG</td></tr>\n",
       "\t<tr><th scope=row>3</th><td>KT00052</td><td>pre</td><td> 4</td><td>24.65716</td><td>-714</td><td>56</td><td>Female</td><td>CU1009</td><td>25.64892</td><td>58</td><td>⋯</td><td>at_risk</td><td>60</td><td>88</td><td>88</td><td>74</td><td>cluster3 </td><td>0.06872852</td><td> 0.5683484</td><td>ARI36</td><td>LONG</td></tr>\n",
       "\t<tr><th scope=row>4</th><td>KT00052</td><td>pre</td><td>13</td><td>24.65716</td><td>-714</td><td>56</td><td>Female</td><td>CU1009</td><td>25.64892</td><td>58</td><td>⋯</td><td>at_risk</td><td>60</td><td>88</td><td>88</td><td>74</td><td>cluster12</td><td>0.04696449</td><td> 0.1875759</td><td>ARI36</td><td>LONG</td></tr>\n",
       "\t<tr><th scope=row>5</th><td>KT00052</td><td>pre</td><td> 2</td><td>24.65716</td><td>-714</td><td>56</td><td>Female</td><td>CU1009</td><td>25.64892</td><td>58</td><td>⋯</td><td>at_risk</td><td>60</td><td>88</td><td>88</td><td>74</td><td>cluster1 </td><td>0.07073310</td><td> 0.5970978</td><td>ARI36</td><td>LONG</td></tr>\n",
       "\t<tr><th scope=row>6</th><td>KT00052</td><td>pre</td><td>17</td><td>24.65716</td><td>-714</td><td>56</td><td>Female</td><td>CU1009</td><td>25.64892</td><td>58</td><td>⋯</td><td>at_risk</td><td>60</td><td>88</td><td>88</td><td>74</td><td>cluster16</td><td>0.02290951</td><td>-0.5302639</td><td>ARI36</td><td>LONG</td></tr>\n",
       "</tbody>\n",
       "</table>\n"
      ],
      "text/latex": [
       "A data.frame: 6 × 21\n",
       "\\begin{tabular}{r|lllllllllllllllllllll}\n",
       "  & sample.sampleKitGuid & Status\\_Long.x & X & BMI & days\\_to\\_conversion & ageAtDraw & subject.biologicalSex & subject.subjectGuid & bmi\\_conv & age\\_conv & ⋯ & Status\\_Xsec & Age2023 & anti\\_ccp3 & anti\\_ccp3\\_finalCombined & anti\\_ccp31 & clusters & frequency\\_live & clr & s1\\_ids & Status\\_new\\\\\n",
       "  & <chr> & <chr> & <int> & <dbl> & <int> & <int> & <chr> & <chr> & <dbl> & <int> & ⋯ & <chr> & <int> & <int> & <int> & <int> & <chr> & <dbl> & <dbl> & <chr> & <chr>\\\\\n",
       "\\hline\n",
       "\t1 & KT00052 & pre &  3 & 24.65716 & -714 & 56 & Female & CU1009 & 25.64892 & 58 & ⋯ & at\\_risk & 60 & 88 & 88 & 74 & cluster2  & 0.09621993 &  0.9048206 & ARI36 & LONG\\\\\n",
       "\t2 & KT00052 & pre &  1 & 24.65716 & -714 & 56 & Female & CU1009 & 25.64892 & 58 & ⋯ & at\\_risk & 60 & 88 & 88 & 74 & cluster0  & 0.10423826 &  0.9848633 & ARI36 & LONG\\\\\n",
       "\t3 & KT00052 & pre &  4 & 24.65716 & -714 & 56 & Female & CU1009 & 25.64892 & 58 & ⋯ & at\\_risk & 60 & 88 & 88 & 74 & cluster3  & 0.06872852 &  0.5683484 & ARI36 & LONG\\\\\n",
       "\t4 & KT00052 & pre & 13 & 24.65716 & -714 & 56 & Female & CU1009 & 25.64892 & 58 & ⋯ & at\\_risk & 60 & 88 & 88 & 74 & cluster12 & 0.04696449 &  0.1875759 & ARI36 & LONG\\\\\n",
       "\t5 & KT00052 & pre &  2 & 24.65716 & -714 & 56 & Female & CU1009 & 25.64892 & 58 & ⋯ & at\\_risk & 60 & 88 & 88 & 74 & cluster1  & 0.07073310 &  0.5970978 & ARI36 & LONG\\\\\n",
       "\t6 & KT00052 & pre & 17 & 24.65716 & -714 & 56 & Female & CU1009 & 25.64892 & 58 & ⋯ & at\\_risk & 60 & 88 & 88 & 74 & cluster16 & 0.02290951 & -0.5302639 & ARI36 & LONG\\\\\n",
       "\\end{tabular}\n"
      ],
      "text/markdown": [
       "\n",
       "A data.frame: 6 × 21\n",
       "\n",
       "| <!--/--> | sample.sampleKitGuid &lt;chr&gt; | Status_Long.x &lt;chr&gt; | X &lt;int&gt; | BMI &lt;dbl&gt; | days_to_conversion &lt;int&gt; | ageAtDraw &lt;int&gt; | subject.biologicalSex &lt;chr&gt; | subject.subjectGuid &lt;chr&gt; | bmi_conv &lt;dbl&gt; | age_conv &lt;int&gt; | ⋯ ⋯ | Status_Xsec &lt;chr&gt; | Age2023 &lt;int&gt; | anti_ccp3 &lt;int&gt; | anti_ccp3_finalCombined &lt;int&gt; | anti_ccp31 &lt;int&gt; | clusters &lt;chr&gt; | frequency_live &lt;dbl&gt; | clr &lt;dbl&gt; | s1_ids &lt;chr&gt; | Status_new &lt;chr&gt; |\n",
       "|---|---|---|---|---|---|---|---|---|---|---|---|---|---|---|---|---|---|---|---|---|---|\n",
       "| 1 | KT00052 | pre |  3 | 24.65716 | -714 | 56 | Female | CU1009 | 25.64892 | 58 | ⋯ | at_risk | 60 | 88 | 88 | 74 | cluster2  | 0.09621993 |  0.9048206 | ARI36 | LONG |\n",
       "| 2 | KT00052 | pre |  1 | 24.65716 | -714 | 56 | Female | CU1009 | 25.64892 | 58 | ⋯ | at_risk | 60 | 88 | 88 | 74 | cluster0  | 0.10423826 |  0.9848633 | ARI36 | LONG |\n",
       "| 3 | KT00052 | pre |  4 | 24.65716 | -714 | 56 | Female | CU1009 | 25.64892 | 58 | ⋯ | at_risk | 60 | 88 | 88 | 74 | cluster3  | 0.06872852 |  0.5683484 | ARI36 | LONG |\n",
       "| 4 | KT00052 | pre | 13 | 24.65716 | -714 | 56 | Female | CU1009 | 25.64892 | 58 | ⋯ | at_risk | 60 | 88 | 88 | 74 | cluster12 | 0.04696449 |  0.1875759 | ARI36 | LONG |\n",
       "| 5 | KT00052 | pre |  2 | 24.65716 | -714 | 56 | Female | CU1009 | 25.64892 | 58 | ⋯ | at_risk | 60 | 88 | 88 | 74 | cluster1  | 0.07073310 |  0.5970978 | ARI36 | LONG |\n",
       "| 6 | KT00052 | pre | 17 | 24.65716 | -714 | 56 | Female | CU1009 | 25.64892 | 58 | ⋯ | at_risk | 60 | 88 | 88 | 74 | cluster16 | 0.02290951 | -0.5302639 | ARI36 | LONG |\n",
       "\n"
      ],
      "text/plain": [
       "  sample.sampleKitGuid Status_Long.x X  BMI      days_to_conversion ageAtDraw\n",
       "1 KT00052              pre            3 24.65716 -714               56       \n",
       "2 KT00052              pre            1 24.65716 -714               56       \n",
       "3 KT00052              pre            4 24.65716 -714               56       \n",
       "4 KT00052              pre           13 24.65716 -714               56       \n",
       "5 KT00052              pre            2 24.65716 -714               56       \n",
       "6 KT00052              pre           17 24.65716 -714               56       \n",
       "  subject.biologicalSex subject.subjectGuid bmi_conv age_conv ⋯ Status_Xsec\n",
       "1 Female                CU1009              25.64892 58       ⋯ at_risk    \n",
       "2 Female                CU1009              25.64892 58       ⋯ at_risk    \n",
       "3 Female                CU1009              25.64892 58       ⋯ at_risk    \n",
       "4 Female                CU1009              25.64892 58       ⋯ at_risk    \n",
       "5 Female                CU1009              25.64892 58       ⋯ at_risk    \n",
       "6 Female                CU1009              25.64892 58       ⋯ at_risk    \n",
       "  Age2023 anti_ccp3 anti_ccp3_finalCombined anti_ccp31 clusters  frequency_live\n",
       "1 60      88        88                      74         cluster2  0.09621993    \n",
       "2 60      88        88                      74         cluster0  0.10423826    \n",
       "3 60      88        88                      74         cluster3  0.06872852    \n",
       "4 60      88        88                      74         cluster12 0.04696449    \n",
       "5 60      88        88                      74         cluster1  0.07073310    \n",
       "6 60      88        88                      74         cluster16 0.02290951    \n",
       "  clr        s1_ids Status_new\n",
       "1  0.9048206 ARI36  LONG      \n",
       "2  0.9848633 ARI36  LONG      \n",
       "3  0.5683484 ARI36  LONG      \n",
       "4  0.1875759 ARI36  LONG      \n",
       "5  0.5970978 ARI36  LONG      \n",
       "6 -0.5302639 ARI36  LONG      "
      ]
     },
     "metadata": {},
     "output_type": "display_data"
    }
   ],
   "source": [
    "A3_clr_v2%>%head()"
   ]
  },
  {
   "cell_type": "code",
   "execution_count": 15,
   "id": "cf28d4e7-e47b-4a04-9a9a-a7e4f7f96103",
   "metadata": {},
   "outputs": [
    {
     "name": "stderr",
     "output_type": "stream",
     "text": [
      "boundary (singular) fit: see help('isSingular')\n",
      "\n",
      "boundary (singular) fit: see help('isSingular')\n",
      "\n"
     ]
    },
    {
     "data": {
      "text/html": [
       "<table class=\"dataframe\">\n",
       "<caption>A data.frame: 19 × 6</caption>\n",
       "<thead>\n",
       "\t<tr><th></th><th scope=col>Estimate</th><th scope=col>Std. Error</th><th scope=col>df</th><th scope=col>t value</th><th scope=col>Pval_lm_DTC</th><th scope=col>p_adj_BH</th></tr>\n",
       "\t<tr><th></th><th scope=col>&lt;dbl&gt;</th><th scope=col>&lt;dbl&gt;</th><th scope=col>&lt;dbl&gt;</th><th scope=col>&lt;dbl&gt;</th><th scope=col>&lt;dbl&gt;</th><th scope=col>&lt;dbl&gt;</th></tr>\n",
       "</thead>\n",
       "<tbody>\n",
       "\t<tr><th scope=row>cluster3</th><td> 7.396233e-04</td><td>0.0002207685</td><td>46.00000</td><td> 3.35022125</td><td>0.001620179</td><td>0.03078339</td></tr>\n",
       "\t<tr><th scope=row>cluster14</th><td> 6.451755e-04</td><td>0.0002390432</td><td>39.54410</td><td> 2.69899078</td><td>0.010179236</td><td>0.09670275</td></tr>\n",
       "\t<tr><th scope=row>cluster11</th><td> 7.296530e-04</td><td>0.0002898915</td><td>42.90755</td><td> 2.51698667</td><td>0.015653879</td><td>0.09914123</td></tr>\n",
       "\t<tr><th scope=row>cluster7</th><td> 5.710264e-04</td><td>0.0002409182</td><td>46.00000</td><td> 2.37020882</td><td>0.022026453</td><td>0.10462565</td></tr>\n",
       "\t<tr><th scope=row>cluster10</th><td>-5.955815e-04</td><td>0.0002851934</td><td>43.50566</td><td>-2.08834241</td><td>0.042653896</td><td>0.15687735</td></tr>\n",
       "\t<tr><th scope=row>cluster6</th><td>-5.620883e-04</td><td>0.0002826097</td><td>44.69436</td><td>-1.98892071</td><td>0.052852712</td><td>0.15687735</td></tr>\n",
       "\t<tr><th scope=row>cluster8</th><td>-5.438683e-04</td><td>0.0002792639</td><td>44.52471</td><td>-1.94750658</td><td>0.057796919</td><td>0.15687735</td></tr>\n",
       "\t<tr><th scope=row>cluster9</th><td>-3.046205e-04</td><td>0.0001732263</td><td>45.72862</td><td>-1.75851174</td><td>0.085351511</td><td>0.20270984</td></tr>\n",
       "\t<tr><th scope=row>cluster5</th><td>-3.683013e-04</td><td>0.0002425921</td><td>45.10196</td><td>-1.51819162</td><td>0.135945249</td><td>0.27260336</td></tr>\n",
       "\t<tr><th scope=row>cluster16</th><td>-5.347036e-04</td><td>0.0003592527</td><td>45.99971</td><td>-1.48837744</td><td>0.143475452</td><td>0.27260336</td></tr>\n",
       "\t<tr><th scope=row>cluster2</th><td> 1.270832e-04</td><td>0.0001235386</td><td>37.01671</td><td> 1.02869268</td><td>0.310299267</td><td>0.53597146</td></tr>\n",
       "\t<tr><th scope=row>cluster1</th><td> 1.082100e-04</td><td>0.0001211826</td><td>39.67483</td><td> 0.89295038</td><td>0.377268209</td><td>0.58037197</td></tr>\n",
       "\t<tr><th scope=row>cluster12</th><td>-1.255382e-04</td><td>0.0001467430</td><td>42.29453</td><td>-0.85549713</td><td>0.397096613</td><td>0.58037197</td></tr>\n",
       "\t<tr><th scope=row>cluster13</th><td> 1.687906e-04</td><td>0.0003134913</td><td>36.99698</td><td> 0.53842184</td><td>0.593510752</td><td>0.80547888</td></tr>\n",
       "\t<tr><th scope=row>cluster15</th><td>-4.058268e-05</td><td>0.0001416538</td><td>40.79041</td><td>-0.28649195</td><td>0.775951509</td><td>0.89442640</td></tr>\n",
       "\t<tr><th scope=row>cluster4</th><td>-3.354841e-05</td><td>0.0001258411</td><td>39.19852</td><td>-0.26659335</td><td>0.791179742</td><td>0.89442640</td></tr>\n",
       "\t<tr><th scope=row>cluster17</th><td>-1.135123e-04</td><td>0.0004460550</td><td>45.29406</td><td>-0.25448043</td><td>0.800276257</td><td>0.89442640</td></tr>\n",
       "\t<tr><th scope=row>cluster0</th><td> 1.798576e-05</td><td>0.0001152579</td><td>37.24462</td><td> 0.15604789</td><td>0.876838029</td><td>0.92555125</td></tr>\n",
       "\t<tr><th scope=row>cluster18</th><td> 1.147157e-04</td><td>0.0012697200</td><td>45.99722</td><td> 0.09034724</td><td>0.928403563</td><td>0.92840356</td></tr>\n",
       "</tbody>\n",
       "</table>\n"
      ],
      "text/latex": [
       "A data.frame: 19 × 6\n",
       "\\begin{tabular}{r|llllll}\n",
       "  & Estimate & Std. Error & df & t value & Pval\\_lm\\_DTC & p\\_adj\\_BH\\\\\n",
       "  & <dbl> & <dbl> & <dbl> & <dbl> & <dbl> & <dbl>\\\\\n",
       "\\hline\n",
       "\tcluster3 &  7.396233e-04 & 0.0002207685 & 46.00000 &  3.35022125 & 0.001620179 & 0.03078339\\\\\n",
       "\tcluster14 &  6.451755e-04 & 0.0002390432 & 39.54410 &  2.69899078 & 0.010179236 & 0.09670275\\\\\n",
       "\tcluster11 &  7.296530e-04 & 0.0002898915 & 42.90755 &  2.51698667 & 0.015653879 & 0.09914123\\\\\n",
       "\tcluster7 &  5.710264e-04 & 0.0002409182 & 46.00000 &  2.37020882 & 0.022026453 & 0.10462565\\\\\n",
       "\tcluster10 & -5.955815e-04 & 0.0002851934 & 43.50566 & -2.08834241 & 0.042653896 & 0.15687735\\\\\n",
       "\tcluster6 & -5.620883e-04 & 0.0002826097 & 44.69436 & -1.98892071 & 0.052852712 & 0.15687735\\\\\n",
       "\tcluster8 & -5.438683e-04 & 0.0002792639 & 44.52471 & -1.94750658 & 0.057796919 & 0.15687735\\\\\n",
       "\tcluster9 & -3.046205e-04 & 0.0001732263 & 45.72862 & -1.75851174 & 0.085351511 & 0.20270984\\\\\n",
       "\tcluster5 & -3.683013e-04 & 0.0002425921 & 45.10196 & -1.51819162 & 0.135945249 & 0.27260336\\\\\n",
       "\tcluster16 & -5.347036e-04 & 0.0003592527 & 45.99971 & -1.48837744 & 0.143475452 & 0.27260336\\\\\n",
       "\tcluster2 &  1.270832e-04 & 0.0001235386 & 37.01671 &  1.02869268 & 0.310299267 & 0.53597146\\\\\n",
       "\tcluster1 &  1.082100e-04 & 0.0001211826 & 39.67483 &  0.89295038 & 0.377268209 & 0.58037197\\\\\n",
       "\tcluster12 & -1.255382e-04 & 0.0001467430 & 42.29453 & -0.85549713 & 0.397096613 & 0.58037197\\\\\n",
       "\tcluster13 &  1.687906e-04 & 0.0003134913 & 36.99698 &  0.53842184 & 0.593510752 & 0.80547888\\\\\n",
       "\tcluster15 & -4.058268e-05 & 0.0001416538 & 40.79041 & -0.28649195 & 0.775951509 & 0.89442640\\\\\n",
       "\tcluster4 & -3.354841e-05 & 0.0001258411 & 39.19852 & -0.26659335 & 0.791179742 & 0.89442640\\\\\n",
       "\tcluster17 & -1.135123e-04 & 0.0004460550 & 45.29406 & -0.25448043 & 0.800276257 & 0.89442640\\\\\n",
       "\tcluster0 &  1.798576e-05 & 0.0001152579 & 37.24462 &  0.15604789 & 0.876838029 & 0.92555125\\\\\n",
       "\tcluster18 &  1.147157e-04 & 0.0012697200 & 45.99722 &  0.09034724 & 0.928403563 & 0.92840356\\\\\n",
       "\\end{tabular}\n"
      ],
      "text/markdown": [
       "\n",
       "A data.frame: 19 × 6\n",
       "\n",
       "| <!--/--> | Estimate &lt;dbl&gt; | Std. Error &lt;dbl&gt; | df &lt;dbl&gt; | t value &lt;dbl&gt; | Pval_lm_DTC &lt;dbl&gt; | p_adj_BH &lt;dbl&gt; |\n",
       "|---|---|---|---|---|---|---|\n",
       "| cluster3 |  7.396233e-04 | 0.0002207685 | 46.00000 |  3.35022125 | 0.001620179 | 0.03078339 |\n",
       "| cluster14 |  6.451755e-04 | 0.0002390432 | 39.54410 |  2.69899078 | 0.010179236 | 0.09670275 |\n",
       "| cluster11 |  7.296530e-04 | 0.0002898915 | 42.90755 |  2.51698667 | 0.015653879 | 0.09914123 |\n",
       "| cluster7 |  5.710264e-04 | 0.0002409182 | 46.00000 |  2.37020882 | 0.022026453 | 0.10462565 |\n",
       "| cluster10 | -5.955815e-04 | 0.0002851934 | 43.50566 | -2.08834241 | 0.042653896 | 0.15687735 |\n",
       "| cluster6 | -5.620883e-04 | 0.0002826097 | 44.69436 | -1.98892071 | 0.052852712 | 0.15687735 |\n",
       "| cluster8 | -5.438683e-04 | 0.0002792639 | 44.52471 | -1.94750658 | 0.057796919 | 0.15687735 |\n",
       "| cluster9 | -3.046205e-04 | 0.0001732263 | 45.72862 | -1.75851174 | 0.085351511 | 0.20270984 |\n",
       "| cluster5 | -3.683013e-04 | 0.0002425921 | 45.10196 | -1.51819162 | 0.135945249 | 0.27260336 |\n",
       "| cluster16 | -5.347036e-04 | 0.0003592527 | 45.99971 | -1.48837744 | 0.143475452 | 0.27260336 |\n",
       "| cluster2 |  1.270832e-04 | 0.0001235386 | 37.01671 |  1.02869268 | 0.310299267 | 0.53597146 |\n",
       "| cluster1 |  1.082100e-04 | 0.0001211826 | 39.67483 |  0.89295038 | 0.377268209 | 0.58037197 |\n",
       "| cluster12 | -1.255382e-04 | 0.0001467430 | 42.29453 | -0.85549713 | 0.397096613 | 0.58037197 |\n",
       "| cluster13 |  1.687906e-04 | 0.0003134913 | 36.99698 |  0.53842184 | 0.593510752 | 0.80547888 |\n",
       "| cluster15 | -4.058268e-05 | 0.0001416538 | 40.79041 | -0.28649195 | 0.775951509 | 0.89442640 |\n",
       "| cluster4 | -3.354841e-05 | 0.0001258411 | 39.19852 | -0.26659335 | 0.791179742 | 0.89442640 |\n",
       "| cluster17 | -1.135123e-04 | 0.0004460550 | 45.29406 | -0.25448043 | 0.800276257 | 0.89442640 |\n",
       "| cluster0 |  1.798576e-05 | 0.0001152579 | 37.24462 |  0.15604789 | 0.876838029 | 0.92555125 |\n",
       "| cluster18 |  1.147157e-04 | 0.0012697200 | 45.99722 |  0.09034724 | 0.928403563 | 0.92840356 |\n",
       "\n"
      ],
      "text/plain": [
       "          Estimate      Std. Error   df       t value     Pval_lm_DTC\n",
       "cluster3   7.396233e-04 0.0002207685 46.00000  3.35022125 0.001620179\n",
       "cluster14  6.451755e-04 0.0002390432 39.54410  2.69899078 0.010179236\n",
       "cluster11  7.296530e-04 0.0002898915 42.90755  2.51698667 0.015653879\n",
       "cluster7   5.710264e-04 0.0002409182 46.00000  2.37020882 0.022026453\n",
       "cluster10 -5.955815e-04 0.0002851934 43.50566 -2.08834241 0.042653896\n",
       "cluster6  -5.620883e-04 0.0002826097 44.69436 -1.98892071 0.052852712\n",
       "cluster8  -5.438683e-04 0.0002792639 44.52471 -1.94750658 0.057796919\n",
       "cluster9  -3.046205e-04 0.0001732263 45.72862 -1.75851174 0.085351511\n",
       "cluster5  -3.683013e-04 0.0002425921 45.10196 -1.51819162 0.135945249\n",
       "cluster16 -5.347036e-04 0.0003592527 45.99971 -1.48837744 0.143475452\n",
       "cluster2   1.270832e-04 0.0001235386 37.01671  1.02869268 0.310299267\n",
       "cluster1   1.082100e-04 0.0001211826 39.67483  0.89295038 0.377268209\n",
       "cluster12 -1.255382e-04 0.0001467430 42.29453 -0.85549713 0.397096613\n",
       "cluster13  1.687906e-04 0.0003134913 36.99698  0.53842184 0.593510752\n",
       "cluster15 -4.058268e-05 0.0001416538 40.79041 -0.28649195 0.775951509\n",
       "cluster4  -3.354841e-05 0.0001258411 39.19852 -0.26659335 0.791179742\n",
       "cluster17 -1.135123e-04 0.0004460550 45.29406 -0.25448043 0.800276257\n",
       "cluster0   1.798576e-05 0.0001152579 37.24462  0.15604789 0.876838029\n",
       "cluster18  1.147157e-04 0.0012697200 45.99722  0.09034724 0.928403563\n",
       "          p_adj_BH  \n",
       "cluster3  0.03078339\n",
       "cluster14 0.09670275\n",
       "cluster11 0.09914123\n",
       "cluster7  0.10462565\n",
       "cluster10 0.15687735\n",
       "cluster6  0.15687735\n",
       "cluster8  0.15687735\n",
       "cluster9  0.20270984\n",
       "cluster5  0.27260336\n",
       "cluster16 0.27260336\n",
       "cluster2  0.53597146\n",
       "cluster1  0.58037197\n",
       "cluster12 0.58037197\n",
       "cluster13 0.80547888\n",
       "cluster15 0.89442640\n",
       "cluster4  0.89442640\n",
       "cluster17 0.89442640\n",
       "cluster0  0.92555125\n",
       "cluster18 0.92840356"
      ]
     },
     "metadata": {},
     "output_type": "display_data"
    }
   ],
   "source": [
    "# CLR results\n",
    "CLR_result <- LM_on_clusters(A3_clr_v2, \"clusters\", clr ~ age_conv + bmi_conv + days_to_conversion + (1 | subject.subjectGuid), \"subject.subjectGuid\")\n",
    "CLR_result"
   ]
  },
  {
   "cell_type": "code",
   "execution_count": 16,
   "id": "94eb3747-4e7a-48fd-a1e2-a8ae42b37b04",
   "metadata": {},
   "outputs": [],
   "source": [
    "CLR_result%>%write.csv(\"/home/jupyter/ALTRA_ANALYSIS/Deep_clean/certpro/output_files/\n",
    "                                        CD4T_mem_certpro_LM_results_longitudinal_female_res_0_4_CLR.csv\")"
   ]
  },
  {
   "cell_type": "code",
   "execution_count": 17,
   "id": "d0756b6d-4441-4ea0-8cbb-bc8e74938e8b",
   "metadata": {},
   "outputs": [
    {
     "data": {
      "text/html": [
       "<table class=\"dataframe\">\n",
       "<caption>A data.frame: 3 × 21</caption>\n",
       "<thead>\n",
       "\t<tr><th></th><th scope=col>sample.sampleKitGuid</th><th scope=col>Status_Long.x</th><th scope=col>X</th><th scope=col>BMI</th><th scope=col>days_to_conversion</th><th scope=col>ageAtDraw</th><th scope=col>subject.biologicalSex</th><th scope=col>subject.subjectGuid</th><th scope=col>bmi_conv</th><th scope=col>age_conv</th><th scope=col>⋯</th><th scope=col>Status_Xsec</th><th scope=col>Age2023</th><th scope=col>anti_ccp3</th><th scope=col>anti_ccp3_finalCombined</th><th scope=col>anti_ccp31</th><th scope=col>clusters</th><th scope=col>frequency_live</th><th scope=col>clr</th><th scope=col>s1_ids</th><th scope=col>Status_new</th></tr>\n",
       "\t<tr><th></th><th scope=col>&lt;chr&gt;</th><th scope=col>&lt;chr&gt;</th><th scope=col>&lt;int&gt;</th><th scope=col>&lt;dbl&gt;</th><th scope=col>&lt;int&gt;</th><th scope=col>&lt;int&gt;</th><th scope=col>&lt;chr&gt;</th><th scope=col>&lt;chr&gt;</th><th scope=col>&lt;dbl&gt;</th><th scope=col>&lt;int&gt;</th><th scope=col>⋯</th><th scope=col>&lt;chr&gt;</th><th scope=col>&lt;int&gt;</th><th scope=col>&lt;int&gt;</th><th scope=col>&lt;int&gt;</th><th scope=col>&lt;int&gt;</th><th scope=col>&lt;chr&gt;</th><th scope=col>&lt;dbl&gt;</th><th scope=col>&lt;dbl&gt;</th><th scope=col>&lt;chr&gt;</th><th scope=col>&lt;chr&gt;</th></tr>\n",
       "</thead>\n",
       "<tbody>\n",
       "\t<tr><th scope=row>1</th><td>KT00052</td><td>pre</td><td>3</td><td>24.65716</td><td>-714</td><td>56</td><td>Female</td><td>CU1009</td><td>25.64892</td><td>58</td><td>⋯</td><td>at_risk</td><td>60</td><td>88</td><td>88</td><td>74</td><td>cluster2</td><td>0.09621993</td><td>0.9048206</td><td>ARI36</td><td>LONG</td></tr>\n",
       "\t<tr><th scope=row>2</th><td>KT00052</td><td>pre</td><td>1</td><td>24.65716</td><td>-714</td><td>56</td><td>Female</td><td>CU1009</td><td>25.64892</td><td>58</td><td>⋯</td><td>at_risk</td><td>60</td><td>88</td><td>88</td><td>74</td><td>cluster0</td><td>0.10423826</td><td>0.9848633</td><td>ARI36</td><td>LONG</td></tr>\n",
       "\t<tr><th scope=row>3</th><td>KT00052</td><td>pre</td><td>4</td><td>24.65716</td><td>-714</td><td>56</td><td>Female</td><td>CU1009</td><td>25.64892</td><td>58</td><td>⋯</td><td>at_risk</td><td>60</td><td>88</td><td>88</td><td>74</td><td>cluster3</td><td>0.06872852</td><td>0.5683484</td><td>ARI36</td><td>LONG</td></tr>\n",
       "</tbody>\n",
       "</table>\n"
      ],
      "text/latex": [
       "A data.frame: 3 × 21\n",
       "\\begin{tabular}{r|lllllllllllllllllllll}\n",
       "  & sample.sampleKitGuid & Status\\_Long.x & X & BMI & days\\_to\\_conversion & ageAtDraw & subject.biologicalSex & subject.subjectGuid & bmi\\_conv & age\\_conv & ⋯ & Status\\_Xsec & Age2023 & anti\\_ccp3 & anti\\_ccp3\\_finalCombined & anti\\_ccp31 & clusters & frequency\\_live & clr & s1\\_ids & Status\\_new\\\\\n",
       "  & <chr> & <chr> & <int> & <dbl> & <int> & <int> & <chr> & <chr> & <dbl> & <int> & ⋯ & <chr> & <int> & <int> & <int> & <int> & <chr> & <dbl> & <dbl> & <chr> & <chr>\\\\\n",
       "\\hline\n",
       "\t1 & KT00052 & pre & 3 & 24.65716 & -714 & 56 & Female & CU1009 & 25.64892 & 58 & ⋯ & at\\_risk & 60 & 88 & 88 & 74 & cluster2 & 0.09621993 & 0.9048206 & ARI36 & LONG\\\\\n",
       "\t2 & KT00052 & pre & 1 & 24.65716 & -714 & 56 & Female & CU1009 & 25.64892 & 58 & ⋯ & at\\_risk & 60 & 88 & 88 & 74 & cluster0 & 0.10423826 & 0.9848633 & ARI36 & LONG\\\\\n",
       "\t3 & KT00052 & pre & 4 & 24.65716 & -714 & 56 & Female & CU1009 & 25.64892 & 58 & ⋯ & at\\_risk & 60 & 88 & 88 & 74 & cluster3 & 0.06872852 & 0.5683484 & ARI36 & LONG\\\\\n",
       "\\end{tabular}\n"
      ],
      "text/markdown": [
       "\n",
       "A data.frame: 3 × 21\n",
       "\n",
       "| <!--/--> | sample.sampleKitGuid &lt;chr&gt; | Status_Long.x &lt;chr&gt; | X &lt;int&gt; | BMI &lt;dbl&gt; | days_to_conversion &lt;int&gt; | ageAtDraw &lt;int&gt; | subject.biologicalSex &lt;chr&gt; | subject.subjectGuid &lt;chr&gt; | bmi_conv &lt;dbl&gt; | age_conv &lt;int&gt; | ⋯ ⋯ | Status_Xsec &lt;chr&gt; | Age2023 &lt;int&gt; | anti_ccp3 &lt;int&gt; | anti_ccp3_finalCombined &lt;int&gt; | anti_ccp31 &lt;int&gt; | clusters &lt;chr&gt; | frequency_live &lt;dbl&gt; | clr &lt;dbl&gt; | s1_ids &lt;chr&gt; | Status_new &lt;chr&gt; |\n",
       "|---|---|---|---|---|---|---|---|---|---|---|---|---|---|---|---|---|---|---|---|---|---|\n",
       "| 1 | KT00052 | pre | 3 | 24.65716 | -714 | 56 | Female | CU1009 | 25.64892 | 58 | ⋯ | at_risk | 60 | 88 | 88 | 74 | cluster2 | 0.09621993 | 0.9048206 | ARI36 | LONG |\n",
       "| 2 | KT00052 | pre | 1 | 24.65716 | -714 | 56 | Female | CU1009 | 25.64892 | 58 | ⋯ | at_risk | 60 | 88 | 88 | 74 | cluster0 | 0.10423826 | 0.9848633 | ARI36 | LONG |\n",
       "| 3 | KT00052 | pre | 4 | 24.65716 | -714 | 56 | Female | CU1009 | 25.64892 | 58 | ⋯ | at_risk | 60 | 88 | 88 | 74 | cluster3 | 0.06872852 | 0.5683484 | ARI36 | LONG |\n",
       "\n"
      ],
      "text/plain": [
       "  sample.sampleKitGuid Status_Long.x X BMI      days_to_conversion ageAtDraw\n",
       "1 KT00052              pre           3 24.65716 -714               56       \n",
       "2 KT00052              pre           1 24.65716 -714               56       \n",
       "3 KT00052              pre           4 24.65716 -714               56       \n",
       "  subject.biologicalSex subject.subjectGuid bmi_conv age_conv ⋯ Status_Xsec\n",
       "1 Female                CU1009              25.64892 58       ⋯ at_risk    \n",
       "2 Female                CU1009              25.64892 58       ⋯ at_risk    \n",
       "3 Female                CU1009              25.64892 58       ⋯ at_risk    \n",
       "  Age2023 anti_ccp3 anti_ccp3_finalCombined anti_ccp31 clusters frequency_live\n",
       "1 60      88        88                      74         cluster2 0.09621993    \n",
       "2 60      88        88                      74         cluster0 0.10423826    \n",
       "3 60      88        88                      74         cluster3 0.06872852    \n",
       "  clr       s1_ids Status_new\n",
       "1 0.9048206 ARI36  LONG      \n",
       "2 0.9848633 ARI36  LONG      \n",
       "3 0.5683484 ARI36  LONG      "
      ]
     },
     "metadata": {},
     "output_type": "display_data"
    }
   ],
   "source": [
    "A3_clr_v2%>%head(3)"
   ]
  },
  {
   "cell_type": "code",
   "execution_count": 18,
   "id": "1642d617-47c7-48ae-a6e4-0b8c5a069497",
   "metadata": {},
   "outputs": [
    {
     "name": "stderr",
     "output_type": "stream",
     "text": [
      "boundary (singular) fit: see help('isSingular')\n",
      "\n"
     ]
    },
    {
     "data": {
      "text/html": [
       "<table class=\"dataframe\">\n",
       "<caption>A data.frame: 19 × 6</caption>\n",
       "<thead>\n",
       "\t<tr><th></th><th scope=col>Estimate</th><th scope=col>Std. Error</th><th scope=col>df</th><th scope=col>t value</th><th scope=col>Pval_lm_DTC</th><th scope=col>p_adj_BH</th></tr>\n",
       "\t<tr><th></th><th scope=col>&lt;dbl&gt;</th><th scope=col>&lt;dbl&gt;</th><th scope=col>&lt;dbl&gt;</th><th scope=col>&lt;dbl&gt;</th><th scope=col>&lt;dbl&gt;</th><th scope=col>&lt;dbl&gt;</th></tr>\n",
       "</thead>\n",
       "<tbody>\n",
       "\t<tr><th scope=row>cluster3</th><td> 4.972718e-05</td><td>1.530730e-05</td><td>45.99791</td><td> 3.2485920</td><td>0.002169847</td><td>0.04122709</td></tr>\n",
       "\t<tr><th scope=row>cluster9</th><td>-2.046281e-05</td><td>8.253105e-06</td><td>44.04027</td><td>-2.4794070</td><td>0.017058706</td><td>0.11186936</td></tr>\n",
       "\t<tr><th scope=row>cluster7</th><td> 3.806799e-05</td><td>1.578683e-05</td><td>46.00000</td><td> 2.4113758</td><td>0.019942453</td><td>0.11186936</td></tr>\n",
       "\t<tr><th scope=row>cluster14</th><td> 2.743627e-05</td><td>1.166386e-05</td><td>40.93061</td><td> 2.3522471</td><td>0.023551444</td><td>0.11186936</td></tr>\n",
       "\t<tr><th scope=row>cluster10</th><td>-2.451176e-05</td><td>1.181381e-05</td><td>40.22011</td><td>-2.0748396</td><td>0.044441705</td><td>0.13576276</td></tr>\n",
       "\t<tr><th scope=row>cluster11</th><td> 3.234471e-05</td><td>1.566561e-05</td><td>43.65912</td><td> 2.0646960</td><td>0.044923127</td><td>0.13576276</td></tr>\n",
       "\t<tr><th scope=row>cluster17</th><td>-5.016243e-06</td><td>2.489275e-06</td><td>44.04736</td><td>-2.0151423</td><td>0.050017859</td><td>0.13576276</td></tr>\n",
       "\t<tr><th scope=row>cluster18</th><td>-9.183091e-07</td><td>4.869945e-07</td><td>45.47680</td><td>-1.8856662</td><td>0.065737148</td><td>0.14737398</td></tr>\n",
       "\t<tr><th scope=row>cluster8</th><td>-2.421384e-05</td><td>1.302339e-05</td><td>43.20965</td><td>-1.8592576</td><td>0.069808728</td><td>0.14737398</td></tr>\n",
       "\t<tr><th scope=row>cluster6</th><td>-2.165236e-05</td><td>1.289313e-05</td><td>41.87024</td><td>-1.6793718</td><td>0.100528001</td><td>0.17991496</td></tr>\n",
       "\t<tr><th scope=row>cluster16</th><td>-5.243749e-06</td><td>3.198003e-06</td><td>44.41698</td><td>-1.6396949</td><td>0.108133137</td><td>0.17991496</td></tr>\n",
       "\t<tr><th scope=row>cluster5</th><td>-1.710983e-05</td><td>1.059116e-05</td><td>42.36472</td><td>-1.6154813</td><td>0.113630503</td><td>0.17991496</td></tr>\n",
       "\t<tr><th scope=row>cluster12</th><td>-4.647291e-06</td><td>5.530101e-06</td><td>40.11890</td><td>-0.8403627</td><td>0.405685680</td><td>0.59033519</td></tr>\n",
       "\t<tr><th scope=row>cluster15</th><td>-3.372428e-06</td><td>4.277058e-06</td><td>40.64423</td><td>-0.7884924</td><td>0.434983826</td><td>0.59033519</td></tr>\n",
       "\t<tr><th scope=row>cluster1</th><td> 3.834702e-06</td><td>7.720230e-06</td><td>38.19548</td><td> 0.4967083</td><td>0.622241634</td><td>0.78817274</td></tr>\n",
       "\t<tr><th scope=row>cluster0</th><td>-4.753375e-06</td><td>1.320562e-05</td><td>37.61378</td><td>-0.3599508</td><td>0.720897208</td><td>0.85394679</td></tr>\n",
       "\t<tr><th scope=row>cluster13</th><td>-2.925352e-06</td><td>9.674360e-06</td><td>36.92628</td><td>-0.3023820</td><td>0.764057655</td><td>0.85394679</td></tr>\n",
       "\t<tr><th scope=row>cluster4</th><td>-1.641991e-06</td><td>7.402172e-06</td><td>37.71167</td><td>-0.2218256</td><td>0.825646568</td><td>0.87151582</td></tr>\n",
       "\t<tr><th scope=row>cluster2</th><td> 1.021432e-06</td><td>6.606263e-06</td><td>36.61863</td><td> 0.1546157</td><td>0.877973395</td><td>0.87797339</td></tr>\n",
       "</tbody>\n",
       "</table>\n"
      ],
      "text/latex": [
       "A data.frame: 19 × 6\n",
       "\\begin{tabular}{r|llllll}\n",
       "  & Estimate & Std. Error & df & t value & Pval\\_lm\\_DTC & p\\_adj\\_BH\\\\\n",
       "  & <dbl> & <dbl> & <dbl> & <dbl> & <dbl> & <dbl>\\\\\n",
       "\\hline\n",
       "\tcluster3 &  4.972718e-05 & 1.530730e-05 & 45.99791 &  3.2485920 & 0.002169847 & 0.04122709\\\\\n",
       "\tcluster9 & -2.046281e-05 & 8.253105e-06 & 44.04027 & -2.4794070 & 0.017058706 & 0.11186936\\\\\n",
       "\tcluster7 &  3.806799e-05 & 1.578683e-05 & 46.00000 &  2.4113758 & 0.019942453 & 0.11186936\\\\\n",
       "\tcluster14 &  2.743627e-05 & 1.166386e-05 & 40.93061 &  2.3522471 & 0.023551444 & 0.11186936\\\\\n",
       "\tcluster10 & -2.451176e-05 & 1.181381e-05 & 40.22011 & -2.0748396 & 0.044441705 & 0.13576276\\\\\n",
       "\tcluster11 &  3.234471e-05 & 1.566561e-05 & 43.65912 &  2.0646960 & 0.044923127 & 0.13576276\\\\\n",
       "\tcluster17 & -5.016243e-06 & 2.489275e-06 & 44.04736 & -2.0151423 & 0.050017859 & 0.13576276\\\\\n",
       "\tcluster18 & -9.183091e-07 & 4.869945e-07 & 45.47680 & -1.8856662 & 0.065737148 & 0.14737398\\\\\n",
       "\tcluster8 & -2.421384e-05 & 1.302339e-05 & 43.20965 & -1.8592576 & 0.069808728 & 0.14737398\\\\\n",
       "\tcluster6 & -2.165236e-05 & 1.289313e-05 & 41.87024 & -1.6793718 & 0.100528001 & 0.17991496\\\\\n",
       "\tcluster16 & -5.243749e-06 & 3.198003e-06 & 44.41698 & -1.6396949 & 0.108133137 & 0.17991496\\\\\n",
       "\tcluster5 & -1.710983e-05 & 1.059116e-05 & 42.36472 & -1.6154813 & 0.113630503 & 0.17991496\\\\\n",
       "\tcluster12 & -4.647291e-06 & 5.530101e-06 & 40.11890 & -0.8403627 & 0.405685680 & 0.59033519\\\\\n",
       "\tcluster15 & -3.372428e-06 & 4.277058e-06 & 40.64423 & -0.7884924 & 0.434983826 & 0.59033519\\\\\n",
       "\tcluster1 &  3.834702e-06 & 7.720230e-06 & 38.19548 &  0.4967083 & 0.622241634 & 0.78817274\\\\\n",
       "\tcluster0 & -4.753375e-06 & 1.320562e-05 & 37.61378 & -0.3599508 & 0.720897208 & 0.85394679\\\\\n",
       "\tcluster13 & -2.925352e-06 & 9.674360e-06 & 36.92628 & -0.3023820 & 0.764057655 & 0.85394679\\\\\n",
       "\tcluster4 & -1.641991e-06 & 7.402172e-06 & 37.71167 & -0.2218256 & 0.825646568 & 0.87151582\\\\\n",
       "\tcluster2 &  1.021432e-06 & 6.606263e-06 & 36.61863 &  0.1546157 & 0.877973395 & 0.87797339\\\\\n",
       "\\end{tabular}\n"
      ],
      "text/markdown": [
       "\n",
       "A data.frame: 19 × 6\n",
       "\n",
       "| <!--/--> | Estimate &lt;dbl&gt; | Std. Error &lt;dbl&gt; | df &lt;dbl&gt; | t value &lt;dbl&gt; | Pval_lm_DTC &lt;dbl&gt; | p_adj_BH &lt;dbl&gt; |\n",
       "|---|---|---|---|---|---|---|\n",
       "| cluster3 |  4.972718e-05 | 1.530730e-05 | 45.99791 |  3.2485920 | 0.002169847 | 0.04122709 |\n",
       "| cluster9 | -2.046281e-05 | 8.253105e-06 | 44.04027 | -2.4794070 | 0.017058706 | 0.11186936 |\n",
       "| cluster7 |  3.806799e-05 | 1.578683e-05 | 46.00000 |  2.4113758 | 0.019942453 | 0.11186936 |\n",
       "| cluster14 |  2.743627e-05 | 1.166386e-05 | 40.93061 |  2.3522471 | 0.023551444 | 0.11186936 |\n",
       "| cluster10 | -2.451176e-05 | 1.181381e-05 | 40.22011 | -2.0748396 | 0.044441705 | 0.13576276 |\n",
       "| cluster11 |  3.234471e-05 | 1.566561e-05 | 43.65912 |  2.0646960 | 0.044923127 | 0.13576276 |\n",
       "| cluster17 | -5.016243e-06 | 2.489275e-06 | 44.04736 | -2.0151423 | 0.050017859 | 0.13576276 |\n",
       "| cluster18 | -9.183091e-07 | 4.869945e-07 | 45.47680 | -1.8856662 | 0.065737148 | 0.14737398 |\n",
       "| cluster8 | -2.421384e-05 | 1.302339e-05 | 43.20965 | -1.8592576 | 0.069808728 | 0.14737398 |\n",
       "| cluster6 | -2.165236e-05 | 1.289313e-05 | 41.87024 | -1.6793718 | 0.100528001 | 0.17991496 |\n",
       "| cluster16 | -5.243749e-06 | 3.198003e-06 | 44.41698 | -1.6396949 | 0.108133137 | 0.17991496 |\n",
       "| cluster5 | -1.710983e-05 | 1.059116e-05 | 42.36472 | -1.6154813 | 0.113630503 | 0.17991496 |\n",
       "| cluster12 | -4.647291e-06 | 5.530101e-06 | 40.11890 | -0.8403627 | 0.405685680 | 0.59033519 |\n",
       "| cluster15 | -3.372428e-06 | 4.277058e-06 | 40.64423 | -0.7884924 | 0.434983826 | 0.59033519 |\n",
       "| cluster1 |  3.834702e-06 | 7.720230e-06 | 38.19548 |  0.4967083 | 0.622241634 | 0.78817274 |\n",
       "| cluster0 | -4.753375e-06 | 1.320562e-05 | 37.61378 | -0.3599508 | 0.720897208 | 0.85394679 |\n",
       "| cluster13 | -2.925352e-06 | 9.674360e-06 | 36.92628 | -0.3023820 | 0.764057655 | 0.85394679 |\n",
       "| cluster4 | -1.641991e-06 | 7.402172e-06 | 37.71167 | -0.2218256 | 0.825646568 | 0.87151582 |\n",
       "| cluster2 |  1.021432e-06 | 6.606263e-06 | 36.61863 |  0.1546157 | 0.877973395 | 0.87797339 |\n",
       "\n"
      ],
      "text/plain": [
       "          Estimate      Std. Error   df       t value    Pval_lm_DTC p_adj_BH  \n",
       "cluster3   4.972718e-05 1.530730e-05 45.99791  3.2485920 0.002169847 0.04122709\n",
       "cluster9  -2.046281e-05 8.253105e-06 44.04027 -2.4794070 0.017058706 0.11186936\n",
       "cluster7   3.806799e-05 1.578683e-05 46.00000  2.4113758 0.019942453 0.11186936\n",
       "cluster14  2.743627e-05 1.166386e-05 40.93061  2.3522471 0.023551444 0.11186936\n",
       "cluster10 -2.451176e-05 1.181381e-05 40.22011 -2.0748396 0.044441705 0.13576276\n",
       "cluster11  3.234471e-05 1.566561e-05 43.65912  2.0646960 0.044923127 0.13576276\n",
       "cluster17 -5.016243e-06 2.489275e-06 44.04736 -2.0151423 0.050017859 0.13576276\n",
       "cluster18 -9.183091e-07 4.869945e-07 45.47680 -1.8856662 0.065737148 0.14737398\n",
       "cluster8  -2.421384e-05 1.302339e-05 43.20965 -1.8592576 0.069808728 0.14737398\n",
       "cluster6  -2.165236e-05 1.289313e-05 41.87024 -1.6793718 0.100528001 0.17991496\n",
       "cluster16 -5.243749e-06 3.198003e-06 44.41698 -1.6396949 0.108133137 0.17991496\n",
       "cluster5  -1.710983e-05 1.059116e-05 42.36472 -1.6154813 0.113630503 0.17991496\n",
       "cluster12 -4.647291e-06 5.530101e-06 40.11890 -0.8403627 0.405685680 0.59033519\n",
       "cluster15 -3.372428e-06 4.277058e-06 40.64423 -0.7884924 0.434983826 0.59033519\n",
       "cluster1   3.834702e-06 7.720230e-06 38.19548  0.4967083 0.622241634 0.78817274\n",
       "cluster0  -4.753375e-06 1.320562e-05 37.61378 -0.3599508 0.720897208 0.85394679\n",
       "cluster13 -2.925352e-06 9.674360e-06 36.92628 -0.3023820 0.764057655 0.85394679\n",
       "cluster4  -1.641991e-06 7.402172e-06 37.71167 -0.2218256 0.825646568 0.87151582\n",
       "cluster2   1.021432e-06 6.606263e-06 36.61863  0.1546157 0.877973395 0.87797339"
      ]
     },
     "metadata": {},
     "output_type": "display_data"
    }
   ],
   "source": [
    "#frequency Results\n",
    "frequncy_result <- LM_on_clusters(A3_clr_v2, \"clusters\", frequency_live ~ age_conv + bmi_conv + days_to_conversion + (1 | subject.subjectGuid), \"subject.subjectGuid\")\n",
    "frequncy_result"
   ]
  },
  {
   "cell_type": "code",
   "execution_count": 19,
   "id": "7c21ebe3-e1dc-426c-9a20-2e34d97cfae7",
   "metadata": {},
   "outputs": [],
   "source": [
    "frequncy_result%>%write.csv(\"/home/jupyter/ALTRA_ANALYSIS/Deep_clean/certpro/output_files/\n",
    "                                        CD4T_mem_certpro_LM_results_longitudinal_female_res_0_4_Frequency.csv\")"
   ]
  },
  {
   "cell_type": "code",
   "execution_count": null,
   "id": "e21d16df-f8e0-4ea4-829e-17989bb2b2f0",
   "metadata": {},
   "outputs": [],
   "source": []
  }
 ],
 "metadata": {
  "kernelspec": {
   "display_name": "r_scrna",
   "language": "R",
   "name": "r_scrna"
  },
  "language_info": {
   "codemirror_mode": "r",
   "file_extension": ".r",
   "mimetype": "text/x-r-source",
   "name": "R",
   "pygments_lexer": "r",
   "version": "4.3.1"
  }
 },
 "nbformat": 4,
 "nbformat_minor": 5
}
