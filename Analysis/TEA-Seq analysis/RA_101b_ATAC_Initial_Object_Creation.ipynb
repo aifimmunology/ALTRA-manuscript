{
  "cells": [
    {
      "cell_type": "markdown",
      "source": [
        "# Create Archr object for ATAC analysis"
      ],
      "metadata": {},
      "id": "dd1b9b9d"
    },
    {
      "cell_type": "code",
      "source": [
        "# load libraries\n",
        "quiet_library <- function(...) {\n",
        "    suppressPackageStartupMessages(library(...))\n",
        "}\n",
        "quiet_library(\"tidyverse\")\n",
        "quiet_library(\"hise\")\n",
        "quiet_library(\"ArchR\")\n",
        "quiet_library(\"data.table\")\n",
        "quiet_library(\"jsonlite\")\n",
        "quiet_library(\"parallel\")\n",
        "quiet_library(\"Seurat\")\n"
      ],
      "outputs": [],
      "execution_count": null,
      "metadata": {
        "vscode": {
          "languageId": "r"
        }
      },
      "id": "7df3b229"
    },
    {
      "cell_type": "code",
      "source": [
        "# define work directories\n",
        "proj_path <- \"/home/jupyter/data/preRA_teaseq/EXP-00243\"\n",
        "setwd(proj_path)\n",
        "# define a project name\n",
        "proj_name <- \"Myeloid_tea_seq\"\n",
        "fig_path <- as.character(\"/home/jupyter/figures/preRA_teaseq/ATAC\")\n",
        "if (!dir.exists(fig_path)) (dir.create(fig_path, recursive = TRUE))\n"
      ],
      "outputs": [],
      "execution_count": null,
      "metadata": {
        "tags": [],
        "vscode": {
          "languageId": "r"
        }
      },
      "id": "2b326831"
    },
    {
      "cell_type": "code",
      "source": [
        "# set ArchR parameters\n",
        "addArchRThreads(threads = 55)\n",
        "addArchRGenome(\"hg38\")\n",
        "set.seed(1221)"
      ],
      "outputs": [],
      "execution_count": null,
      "metadata": {
        "vscode": {
          "languageId": "r"
        }
      },
      "id": "1413d075"
    },
    {
      "cell_type": "code",
      "source": [
        "# Find the arrow files within the cache we just downloaded\n",
        "arrows <- grep(\"atac_arrows/tempEXP00243Arrow\",\n",
        "    list.files(proj_path, pattern = \".arrow\", recursive = TRUE),\n",
        "    value = TRUE\n",
        ")\n",
        "names(arrows) <- gsub(\"_archr\", \"\", gsub(\".*/\", \"\", arrows))\n"
      ],
      "outputs": [],
      "execution_count": null,
      "metadata": {
        "vscode": {
          "languageId": "r"
        }
      },
      "id": "6663a75f"
    },
    {
      "cell_type": "code",
      "source": [
        "arrows"
      ],
      "outputs": [],
      "execution_count": null,
      "metadata": {
        "vscode": {
          "languageId": "r"
        }
      },
      "id": "f7e0dd1b-60fe-4efa-aa1b-38d472865caa"
    },
    {
      "cell_type": "code",
      "source": [
        "# name the arrow file list, because those names will become the sample names in the metadata\n",
        "# Standard ArchR Genome is the UCSC Known Gene track.\n",
        "# I would suggest changing to UCSC Ref Gene track, but we don't have time to cover that here.\n",
        "# If you change it, it would be changed when you make the ArchR Project or the arrows files.\n",
        "tea_atac <- ArchRProject(arrows, outputDirectory = \"atac_arrows\")\n"
      ],
      "outputs": [],
      "execution_count": null,
      "metadata": {
        "vscode": {
          "languageId": "r"
        }
      },
      "id": "cdd34cc2"
    },
    {
      "cell_type": "code",
      "source": [
        "######## Prep the ArchRProject for the demo\n",
        "# Add Doublet scores\n",
        "tea_atac <- addDoubletScores(tea_atac)\n"
      ],
      "outputs": [],
      "execution_count": null,
      "metadata": {
        "vscode": {
          "languageId": "r"
        }
      },
      "id": "58bc6f96"
    },
    {
      "cell_type": "code",
      "source": [
        "# load the ArchR project\n",
        "tea_atac <- loadArchRProject(path = \"/home/jupyter/data/preRA_teaseq/EXP-00243/atac_arrows\")\n"
      ],
      "outputs": [],
      "execution_count": null,
      "metadata": {
        "vscode": {
          "languageId": "r"
        }
      },
      "id": "cee41ea5"
    },
    {
      "cell_type": "code",
      "source": [
        "metadf <- getCellColData(tea_atac) %>%as_tibble()\n",
        "metadf %>% colnames()\n",
        "metadf %>% group_by(Sample) %>% tally()"
      ],
      "outputs": [],
      "execution_count": null,
      "metadata": {
        "vscode": {
          "languageId": "r"
        }
      },
      "id": "8b390392"
    },
    {
      "cell_type": "code",
      "source": [
        "meta_data <- metadf %>% as_tibble(rownames = 'cell_id') %>% \n",
        "    mutate(prec_mito=n_mito/n_fragments) \n",
        "meta_data %>% group_by(PassQC) %>% tally()"
      ],
      "outputs": [],
      "execution_count": null,
      "metadata": {
        "vscode": {
          "languageId": "r"
        }
      },
      "id": "b6873581"
    },
    {
      "cell_type": "code",
      "source": [
        "meta_data  %>% head()"
      ],
      "outputs": [],
      "execution_count": null,
      "metadata": {
        "vscode": {
          "languageId": "r"
        }
      },
      "id": "6348680a"
    },
    {
      "cell_type": "code",
      "source": [
        "saveArchRProject(tea_atac)"
      ],
      "outputs": [],
      "execution_count": null,
      "metadata": {
        "vscode": {
          "languageId": "r"
        }
      },
      "id": "c02537ea"
    },
    {
      "cell_type": "markdown",
      "source": [
        "## load the seurat obejct and filter out low quality cells"
      ],
      "metadata": {},
      "id": "34ae0685-915c-4af5-9b1a-1a78505d16f1"
    },
    {
      "cell_type": "code",
      "source": [
        "# load the seurat obejct \n",
        "all_so <- readRDS(file.path(proj_path, 'PreRA_teaseq_seurat_qc_filtered_cells.rds'))\n",
        "all_so"
      ],
      "outputs": [],
      "execution_count": null,
      "metadata": {
        "vscode": {
          "languageId": "r"
        }
      },
      "id": "b984db85"
    },
    {
      "cell_type": "code",
      "source": [
        "# pull the cell barcodes from the qc'ed seurat object\n",
        "seurat_barcodes <- all_so@meta.data %>% pull(barcodes)\n",
        "seurat_barcodes %>% length()\n",
        "# subset the arachR project to just the cells in seurat\n",
        "idxSample <- BiocGenerics::which(tea_atac$barcodes %in% seurat_barcodes)\n",
        "cellsSample <- tea_atac$cellNames[idxSample]\n",
        "tea_atac <- tea_atac[cellsSample, ]\n",
        "getCellColData(tea_atac) %>% nrow()\n"
      ],
      "outputs": [],
      "execution_count": null,
      "metadata": {
        "vscode": {
          "languageId": "r"
        }
      },
      "id": "4c560108-cfca-4d20-81c4-2d5650f934de"
    },
    {
      "cell_type": "code",
      "source": [
        "tea_atac$barcodes %in% seurat_barcodes %>% length()\n"
      ],
      "outputs": [],
      "execution_count": null,
      "metadata": {
        "vscode": {
          "languageId": "r"
        }
      },
      "id": "b569a59b-6734-4f24-94c3-9596ccdfffa8"
    },
    {
      "cell_type": "code",
      "source": [
        "tea_atac <- addIterativeLSI(\n",
        "  ArchRProj = tea_atac,\n",
        "  useMatrix = \"TileMatrix\",\n",
        "  name = \"IterativeLSI\",\n",
        "  iterations = 2,\n",
        "  # varFeatures = 75000, # increase the viable features\n",
        "  force = TRUE\n",
        ")\n",
        "\n",
        "tea_atac <- addClusters(\n",
        "  input = tea_atac,\n",
        "  reducedDims = \"IterativeLSI\",\n",
        "  method = \"Seurat\",\n",
        "  name = \"Clusters\",\n",
        "  resolution = 3,\n",
        "  force = TRUE\n",
        ")\n",
        "\n",
        "tea_atac <- addUMAP(\n",
        "  ArchRProj = tea_atac,\n",
        "  reducedDims = \"IterativeLSI\", force = TRUE\n",
        ")\n"
      ],
      "outputs": [],
      "execution_count": null,
      "metadata": {
        "vscode": {
          "languageId": "r"
        }
      },
      "id": "90886379"
    },
    {
      "cell_type": "code",
      "source": [
        "# add seurat predicted labels\n",
        "# Loads our Seurat reference\n",
        "ref <- readRDS(\"/home/jupyter/data/reference/AIFI-2021-10-26T00:31:31.197552669Z/reference_atac.rds\")\n",
        "\n",
        "tea_atac <- addGeneIntegrationMatrix(\n",
        "  ArchRProj = tea_atac,\n",
        "  useMatrix = \"GeneScoreMatrix\", # You can change this\n",
        "  matrixName = \"GeneIntegrationMatrix\", # This is the name of a matrix generated by this function. It contains RNA expression data from scATAC cell to RNA cell\n",
        "  reducedDims = \"IterativeLSI\",\n",
        "  seRNA = ref,\n",
        "  addToArrow = FALSE, # Use this setting to avoid HDF5 errors.\n",
        "  groupRNA = \"celltype.l1\",\n",
        "  nameCell = \"predictedCell_Un\",\n",
        "  nameGroup = \"predictedGroup_Un\", # Name of metadata column to be created with the ATAC cell labels\n",
        "  nameScore = \"predictedScore_Un\", # Name of metadata column to be created with the ATAC cell label scores.\n",
        "  force = TRUE\n",
        ")\n"
      ],
      "outputs": [],
      "execution_count": null,
      "metadata": {
        "vscode": {
          "languageId": "r"
        }
      },
      "id": "95b9bc34"
    },
    {
      "cell_type": "code",
      "source": [
        "plotEmbedding(tea_atac,\n",
        "    embedding = \"UMAP\",\n",
        "    colorBy = \"cellColData\", name = \"well_id\",\n",
        "    labelMeans = FALSE\n",
        ")\n",
        "ggsave(file.path(fig_path, paste0(proj_name, \"_atac_umap_well_id.pdf\")))\n",
        "# p2 <- plotEmbedding(tea_atac, embedding = \"UMAP\", colorBy = \"cellColData\",name = \"predictedGroup_Un\")\n",
        "# ggsave(file.path(fig_path, paste0(proj_name, '_atac_umap_predictedGroup_Un.pdf')))\n",
        "# p3 <- plotEmbedding(tea_atac, embedding = \"UMAP\", colorBy = \"cellColData\",name = \"DoubletEnrichment\")\n",
        "# ggsave(file.path(fig_path, paste0(proj_name, '_atac_umap_DoubletEnrichment.pdf')))\n",
        "# p4 <- plotEmbedding(tea_atac, embedding = \"UMAP\", colorBy = \"cellColData\",name = \"Clusters\")\n",
        "# ggsave(file.path(fig_path, paste0(proj_name, '_atac_umap_cluster.pdf')))\n"
      ],
      "outputs": [],
      "execution_count": null,
      "metadata": {
        "vscode": {
          "languageId": "r"
        }
      },
      "id": "c1f4530e"
    },
    {
      "cell_type": "code",
      "source": [
        "plotEmbedding(tea_atac,\n",
        "    embedding = \"UMAP\", colorBy = \"cellColData\", name = \"peaks_frac\",\n",
        "    labelMeans = FALSE\n",
        ")\n",
        "ggsave(file.path(fig_path, paste0(proj_name, \"_atac_umap_peaks_frac.pdf\")))\n",
        "plotEmbedding(tea_atac,\n",
        "    embedding = \"UMAP\", colorBy = \"cellColData\", name = \"altius_frac\",\n",
        "    labelMeans = FALSE\n",
        ")\n",
        "ggsave(file.path(fig_path, paste0(proj_name, \"_atac_umap_altius_frac.pdf\")))\n"
      ],
      "outputs": [],
      "execution_count": null,
      "metadata": {
        "vscode": {
          "languageId": "r"
        }
      },
      "id": "8965b49a"
    },
    {
      "cell_type": "code",
      "source": [
        "metadf %>%\n",
        "    as_tibble() %>%\n",
        "    ggplot(aes(x = log10(n_unique), y = peaks_frac, col = Sample)) +\n",
        "    scattermore::geom_scattermore()\n",
        "ggsave(file.path(fig_path, paste0(proj_name, \"_atac_umap_peaks_frac_nfrag.pdf\")))\n"
      ],
      "outputs": [],
      "execution_count": null,
      "metadata": {
        "vscode": {
          "languageId": "r"
        }
      },
      "id": "87a0852e"
    },
    {
      "cell_type": "code",
      "source": [
        "metadf %>% colnames()"
      ],
      "outputs": [],
      "execution_count": null,
      "metadata": {
        "vscode": {
          "languageId": "r"
        }
      },
      "id": "bb583c81"
    },
    {
      "cell_type": "code",
      "source": [
        "saveArchRProject(tea_atac)"
      ],
      "outputs": [],
      "execution_count": null,
      "metadata": {
        "vscode": {
          "languageId": "r"
        }
      },
      "id": "23c6e1b1"
    },
    {
      "cell_type": "markdown",
      "source": [
        "## extra atca information from the archr object and save back in seurat"
      ],
      "metadata": {},
      "id": "9bceb5c0"
    },
    {
      "cell_type": "code",
      "source": [
        "proj_path"
      ],
      "outputs": [],
      "execution_count": null,
      "metadata": {
        "vscode": {
          "languageId": "r"
        }
      },
      "id": "faebc885-970e-401f-888b-6f82f78bf9ba"
    },
    {
      "cell_type": "code",
      "source": [
        "all_so[[]] %>% as_tibble(rownames = 'cell_id') %>% nrow()\n",
        "getCellColData(tea_atac) %>% nrow()\n"
      ],
      "outputs": [],
      "execution_count": null,
      "metadata": {
        "vscode": {
          "languageId": "r"
        }
      },
      "id": "4d2523d2"
    },
    {
      "cell_type": "code",
      "source": [
        "# number of cells filtered from ATAC pipeline\n",
        "(118035 - 96595) / 118035\n"
      ],
      "outputs": [],
      "execution_count": null,
      "metadata": {
        "vscode": {
          "languageId": "r"
        }
      },
      "id": "b85a4627"
    },
    {
      "cell_type": "code",
      "source": [
        "getCellColData(tea_atac) %>% colnames() %>% sort()"
      ],
      "outputs": [],
      "execution_count": null,
      "metadata": {
        "vscode": {
          "languageId": "r"
        }
      },
      "id": "a4a19cf7"
    },
    {
      "cell_type": "code",
      "source": [
        "# exract the umap info from atac\n",
        "atac_umap <- tea_atac@embeddings$UMAP$df %>%\n",
        "    as_tibble(rownames = \"atac_cell_id\") %>%\n",
        "    janitor::clean_names()\n",
        "# save the umap and cluster/doublet scores from atac into the seurat object\n",
        "atac_seurat <- getCellColData(tea_atac) %>%\n",
        "    as_tibble(rownames = \"atac_cell_id\") %>%\n",
        "    mutate(prec_mito = n_mito / n_fragments) %>%\n",
        "    select(\n",
        "        atac_cell_id, n_mito, n_fragments, peaks_frac, altius_frac, barcodes,\n",
        "        DoubletScore, DoubletEnrichment, Clusters\n",
        "    ) %>%\n",
        "    left_join(atac_umap, by = \"atac_cell_id\")\n",
        "atac_seurat %>% head()\n"
      ],
      "outputs": [],
      "execution_count": null,
      "metadata": {
        "vscode": {
          "languageId": "r"
        }
      },
      "id": "041f958a"
    },
    {
      "cell_type": "code",
      "source": [
        "# check if the cell_id mathes\n",
        "cell_id <- all_so[[]] %>% rownames()\n",
        "all(atac_seurat$barcodes %in% cell_id)\n",
        "all(cell_id %in% atac_seurat$barcodes) # some cells are filtered out in the atac data in the ata pipeline\n"
      ],
      "outputs": [],
      "execution_count": null,
      "metadata": {
        "vscode": {
          "languageId": "r"
        }
      },
      "id": "30bfaaae"
    },
    {
      "cell_type": "code",
      "source": [
        "# add atac data back to seurat obeject\n",
        "cell_id <- all_so@meta.data %>% rownames()\n",
        "all_so@meta.data <- all_so@meta.data %>%\n",
        "    left_join(atac_seurat, by = \"barcodes\") %>%\n",
        "    as.data.frame()\n",
        "rownames(all_so@meta.data) <- cell_id\n"
      ],
      "outputs": [],
      "execution_count": null,
      "metadata": {
        "vscode": {
          "languageId": "r"
        }
      },
      "id": "5291663f"
    },
    {
      "cell_type": "code",
      "source": [
        "# filter out cells which didn't pass atac qc\n",
        "all_so_fl <- subset(all_so, barcodes %in% atac_seurat$barcodes)"
      ],
      "outputs": [],
      "execution_count": null,
      "metadata": {
        "vscode": {
          "languageId": "r"
        }
      },
      "id": "553e503a"
    },
    {
      "cell_type": "code",
      "source": [
        "all_so\n",
        "all_so_fl"
      ],
      "outputs": [],
      "execution_count": null,
      "metadata": {
        "vscode": {
          "languageId": "r"
        }
      },
      "id": "fea20e6d"
    },
    {
      "cell_type": "markdown",
      "source": [
        "#### import LSI from atac to seurat"
      ],
      "metadata": {},
      "id": "df1d842e"
    },
    {
      "cell_type": "code",
      "source": [
        "# get lsi data from atac\n",
        "lsi_data <- getReducedDims(tea_atac)"
      ],
      "outputs": [],
      "execution_count": null,
      "metadata": {
        "vscode": {
          "languageId": "r"
        }
      },
      "id": "25cf3859"
    },
    {
      "cell_type": "code",
      "source": [
        "rownames(lsi_data) <- str_split(rownames(lsi_data), '#', simplify = TRUE)[, 2]\n",
        "lsi_data %>% head()\n",
        "lsi_data %>% nrow()"
      ],
      "outputs": [],
      "execution_count": null,
      "metadata": {
        "vscode": {
          "languageId": "r"
        }
      },
      "id": "cd9aa582"
    },
    {
      "cell_type": "code",
      "source": [
        "# create a dummy assay slot for lsi\n",
        "tile_mtx <- matrix(data = 1, nrow = 5, ncol = nrow(lsi_data))\n",
        "colnames(tile_mtx) <- all_so_fl@meta.data %>% rownames()\n",
        "rownames(tile_mtx) <- c(\"A\",\"B\",\"C\",'D','E')"
      ],
      "outputs": [],
      "execution_count": null,
      "metadata": {
        "vscode": {
          "languageId": "r"
        }
      },
      "id": "b9bbabd4"
    },
    {
      "cell_type": "code",
      "source": [
        "all_so_fl[['Tiles']] <- CreateAssayObject(counts = tile_mtx)\n",
        "all_so_fl[[\"lsit\"]] <- CreateDimReducObject(embeddings = lsi_data, key = \"lsit_\", assay = \"Tiles\")"
      ],
      "outputs": [],
      "execution_count": null,
      "metadata": {
        "vscode": {
          "languageId": "r"
        }
      },
      "id": "7e1ffe29"
    },
    {
      "cell_type": "code",
      "source": [
        "# save the seurat obejct \n",
        "all_so_fl %>% saveRDS(file.path(proj_path, 'PreRA_teaseq_seurat_qc_filtered_cells_lsi.rds'))"
      ],
      "outputs": [],
      "execution_count": null,
      "metadata": {
        "vscode": {
          "languageId": "r"
        }
      },
      "id": "a7f0383e"
    },
    {
      "cell_type": "code",
      "source": [
        "tea_atac\n",
        "all_so_fl"
      ],
      "outputs": [],
      "execution_count": null,
      "metadata": {
        "vscode": {
          "languageId": "r"
        }
      },
      "id": "9d608897-433f-47b9-977f-8de9372f0b1a"
    },
    {
      "cell_type": "code",
      "source": [
        "sessionInfo()"
      ],
      "outputs": [],
      "execution_count": null,
      "metadata": {
        "vscode": {
          "languageId": "r"
        }
      },
      "id": "ea362583-327d-4691-8977-65723da62e77"
    }
  ],
  "metadata": {
    "kernelspec": {
      "display_name": "seurat_v5",
      "language": "R",
      "name": "seurat_v5"
    },
    "language_info": {
      "codemirror_mode": "r",
      "file_extension": ".r",
      "mimetype": "text/x-r-source",
      "name": "R",
      "pygments_lexer": "r",
      "version": "4.3.3"
    },
    "nteract": {
      "version": "0.28.0"
    }
  },
  "nbformat": 4,
  "nbformat_minor": 5
}