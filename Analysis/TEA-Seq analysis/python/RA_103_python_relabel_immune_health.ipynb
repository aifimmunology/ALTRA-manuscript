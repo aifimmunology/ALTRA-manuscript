{
 "cells": [
  {
   "cell_type": "markdown",
   "id": "a30b69f6-a6fd-470d-8fba-6b9d5144cc49",
   "metadata": {},
   "source": [
    "# build a muon dataset to analyze the prera teaseq data"
   ]
  },
  {
   "cell_type": "code",
   "execution_count": 2,
   "id": "4eb41a99-b8dc-42dc-9ed6-748eab18555b",
   "metadata": {},
   "outputs": [],
   "source": [
    "import numpy as np\n",
    "import pandas as pd\n",
    "import scanpy as sc\n",
    "import muon as mu\n",
    "import muon.atac as ac\n",
    "import muon.prot as pt\n",
    "import seaborn as sns"
   ]
  },
  {
   "cell_type": "code",
   "execution_count": 3,
   "id": "bcceefbe-8f6b-49a7-bb49-2a1712a4d02b",
   "metadata": {},
   "outputs": [],
   "source": [
    "# define working path\n",
    "data_path = '/home/jupyter/data/preRA_teaseq/EXP-00243/totalVI/'\n",
    "fig_path = '/home/jupyter/data/preRA_teaseq/EXP-00243/totalVI/figures/'\n",
    "output_path = '/home/jupyter/data/preRA_teaseq/EXP-00243/totalVI/output_results/'\n",
    "# os.mkdir(fig_path)\n",
    "# os.mkdir(output_path)\n",
    "# define a project name\n",
    "proj_name = 'PreRA_TEASeq_'\n",
    "sc.settings.figdir = fig_path\n",
    "sc.settings.autosave = False\n",
    "sc.set_figure_params(vector_friendly=True, dpi_save=300)"
   ]
  },
  {
   "cell_type": "code",
   "execution_count": 4,
   "id": "2e43e8e5-e4ea-4045-abea-c5c2b23d5b76",
   "metadata": {},
   "outputs": [],
   "source": [
    "import matplotlib\n",
    "from matplotlib import pyplot as plt\n",
    "plt.rcParams['figure.dpi'] = 100"
   ]
  },
  {
   "cell_type": "code",
   "execution_count": 5,
   "id": "bb470b68-cf8a-43f2-8153-99737ed3583c",
   "metadata": {},
   "outputs": [],
   "source": [
    "# set fig size\n",
    "plt.rcParams['figure.figsize'] = [10, 8]"
   ]
  },
  {
   "cell_type": "code",
   "execution_count": 6,
   "id": "2a1815d9-1145-4642-8615-ea7e0f9c843c",
   "metadata": {},
   "outputs": [],
   "source": [
    "npg_color = [\"#E64B35FF\", \"#4DBBD5FF\", \"#00A087FF\", \"#3C5488FF\", \"#F39B7FFF\",\n",
    "             \"#8491B4FF\", \"#91D1C2FF\", \"#DC0000FF\", \"#7E6148FF\", \"#B09C85FF\"]\n",
    "cluster_colors = [\"#DC050C\", \"#FB8072\", \"#1965B0\", \"#7BAFDE\", \"#882E72\", \"#B17BA6\", \"#FF7F00\", \"#FDB462\", \"#E7298A\",\n",
    "                  \"#E78AC3\", \"#33A02C\", \"#B2DF8A\", \"#55A1B1\", \"#8DD3C7\", \"#A6761D\", \"#E6AB02\", \"#7570B3\", \"#BEAED4\", \"#666666\", \"#999999\",\n",
    "                  \"#aa8282\", \"#d4b7b7\", \"#8600bf\", \"#ba5ce3\", \"#808000\", \"#aeae5c\", \"#1e90ff\", \"#00bfff\", \"#56ff0d\", \"#ffff00\"]\n",
    "ari_colors = ['#5AAA46', '#F59F00']\n",
    "cluster_colors_32 = ['#DC050C', '#F9786B', '#3668A8', '#68A0D5', '#844F8D',\n",
    "                     '#A36295', '#E07D40', '#FD9C35', '#F27075', '#E751A1',\n",
    "                     '#A7918D', '#57B247', '#9CD192', '#5EA9B4', '#8FCAB6',\n",
    "                     '#A8771C', '#E3A902', '#7F75A1', '#B2A3CE', '#79767E',\n",
    "                     '#8A8A8A', '#A38A8A', '#C2A0A0', '#AB58BB', '#9D29CF',\n",
    "                     '#A3698B', '#8E8E1D', '#88A686', '#1899FF', '#0BC7DF', '#60FF0C', '#FFFF00']"
   ]
  },
  {
   "cell_type": "markdown",
   "id": "1647441c-90ec-492b-aee2-ed3a69c0b48a",
   "metadata": {},
   "source": [
    "# Processing individual modalities"
   ]
  },
  {
   "cell_type": "code",
   "execution_count": 7,
   "id": "0eac9284-ecc9-4226-a108-d4a661704a3e",
   "metadata": {},
   "outputs": [
    {
     "name": "stderr",
     "output_type": "stream",
     "text": [
      "/home/jupyter/libs/muon/lib/python3.10/site-packages/mudata/_core/mudata.py:457: UserWarning: Cannot join columns with the same name because var_names are intersecting.\n",
      "  warnings.warn(\n"
     ]
    }
   ],
   "source": [
    "# load the three modalities data\n",
    "prera_tea = mu.read(\n",
    "    data_path + 'PreRA_teaseq_qc_filtered_cells_3modality_rmBR2024.h5mu')"
   ]
  },
  {
   "cell_type": "code",
   "execution_count": 11,
   "id": "5661e13a-a932-455b-ac84-1bae12ad342b",
   "metadata": {},
   "outputs": [
    {
     "data": {
      "text/html": [
       "<pre>MuData object with n_obs × n_vars = 88967 × 674626\n",
       "  obs:\t&#x27;orig.ident&#x27;, &#x27;nCount_RNA&#x27;, &#x27;nFeature_RNA&#x27;, &#x27;barcodes&#x27;, &#x27;adt_qc_flag&#x27;, &#x27;adt_umis&#x27;, &#x27;batch_id&#x27;, &#x27;cell_name&#x27;, &#x27;chip_id&#x27;, &#x27;hto_barcode&#x27;, &#x27;hto_category&#x27;, &#x27;n_genes&#x27;, &#x27;n_mito_umis&#x27;, &#x27;n_reads&#x27;, &#x27;n_umis&#x27;, &#x27;original_barcodes&#x27;, &#x27;pbmc_sample_id&#x27;, &#x27;pool_id&#x27;, &#x27;rna_cell_uuid&#x27;, &#x27;seurat_pbmc_type&#x27;, &#x27;seurat_pbmc_type_score&#x27;, &#x27;umap_1&#x27;, &#x27;umap_2&#x27;, &#x27;well_id&#x27;, &#x27;nCount_ADT&#x27;, &#x27;nFeature_ADT&#x27;, &#x27;percent.mt&#x27;, &#x27;cluster ratio&#x27;, &#x27;subject_id&#x27;, &#x27;Ethnicity&#x27;, &#x27;Race&#x27;, &#x27;Birth Year&#x27;, &#x27;Sex&#x27;, &#x27;cohort&#x27;, &#x27;nCount_SCT&#x27;, &#x27;nFeature_SCT&#x27;, &#x27;SCT_snn_res.0.5&#x27;, &#x27;seurat_clusters&#x27;, &#x27;predicted.celltype.l1.score&#x27;, &#x27;predicted.celltype.l1&#x27;, &#x27;predicted.celltype.l2.score&#x27;, &#x27;predicted.celltype.l2&#x27;, &#x27;predicted.celltype.l3.score&#x27;, &#x27;predicted.celltype.l3&#x27;, &#x27;ADT_snn_res.0.5&#x27;, &#x27;atac_cell_id&#x27;, &#x27;n_mito&#x27;, &#x27;n_fragments&#x27;, &#x27;peaks_frac&#x27;, &#x27;altius_frac&#x27;, &#x27;DoubletScore&#x27;, &#x27;DoubletEnrichment&#x27;, &#x27;Clusters&#x27;, &#x27;iterative_lsi_number_umap_dimension_1&#x27;, &#x27;iterative_lsi_number_umap_dimension_2&#x27;, &#x27;nCount_Tiles&#x27;, &#x27;nFeature_Tiles&#x27;, &#x27;nCount_cleanadt&#x27;, &#x27;nFeature_cleanadt&#x27;, &#x27;cleanadt_snn_res.0.5&#x27;, &#x27;Tiles_snn_res.0.8&#x27;, &#x27;SCT.weight&#x27;, &#x27;ADT.weight&#x27;, &#x27;Tiles.weight&#x27;, &#x27;wsnn_res.0.5&#x27;, &#x27;wsnn_res.0.8&#x27;, &#x27;l1_cell_types&#x27;, &#x27;l2_cell_types&#x27;, &#x27;clean_l2_cell_types&#x27;, &#x27;nCount_rna&#x27;, &#x27;nFeature_rna&#x27;, &#x27;immunehealth_l1&#x27;, &#x27;immunehealth_l1_conf_score&#x27;, &#x27;immunehealth_l2&#x27;, &#x27;immunehealth_l2_conf_score&#x27;, &#x27;immunehealth_l3&#x27;, &#x27;immunehealth_l3_conf_score&#x27;, &#x27;leiden_wnn_0_5&#x27;, &#x27;manual_labels&#x27;\n",
       "  uns:\t&#x27;clean_l2_cell_types_colors&#x27;, &#x27;immunehealth_l2_colors&#x27;, &#x27;immunehealth_l3_colors&#x27;, &#x27;l2_cell_types_colors&#x27;, &#x27;leiden&#x27;, &#x27;manual_labels_colors&#x27;, &#x27;umap&#x27;, &#x27;wnn&#x27;\n",
       "  obsm:\t&#x27;X_umap&#x27;\n",
       "  obsp:\t&#x27;wnn_connectivities&#x27;, &#x27;wnn_distances&#x27;\n",
       "  3 modalities\n",
       "    rna:\t88967 x 36601\n",
       "      obs:\t&#x27;log10umi&#x27;, &#x27;n_genes_by_counts&#x27;, &#x27;total_counts&#x27;, &#x27;total_counts_mt&#x27;, &#x27;pct_counts_mt&#x27;, &#x27;leiden&#x27;, &#x27;predicted_labels&#x27;, &#x27;conf_score&#x27;, &#x27;majority_voting&#x27;, &#x27;over_clustering&#x27;\n",
       "      var:\t&#x27;mt&#x27;, &#x27;n_cells_by_counts&#x27;, &#x27;mean_counts&#x27;, &#x27;pct_dropout_by_counts&#x27;, &#x27;total_counts&#x27;, &#x27;highly_variable&#x27;, &#x27;means&#x27;, &#x27;dispersions&#x27;, &#x27;dispersions_norm&#x27;, &#x27;mean&#x27;, &#x27;std&#x27;\n",
       "      uns:\t&#x27;Archr_naive_wilcoxon&#x27;, &#x27;clean_l2_cell_types_colors&#x27;, &#x27;cohort_colors&#x27;, &#x27;dendrogram_leiden&#x27;, &#x27;hvg&#x27;, &#x27;immunehealth_l1_colors&#x27;, &#x27;immunehealth_l2_colors&#x27;, &#x27;immunehealth_l3_colors&#x27;, &#x27;leiden&#x27;, &#x27;leiden_colors&#x27;, &#x27;leiden_wilcoxon&#x27;, &#x27;leiden_wilcoxon_C10vsC0&#x27;, &#x27;log1p&#x27;, &#x27;neighbors&#x27;, &#x27;pca&#x27;, &#x27;rna:leiden_colors&#x27;, &#x27;umap&#x27;\n",
       "      obsm:\t&#x27;X_pca&#x27;, &#x27;X_umap&#x27;\n",
       "      varm:\t&#x27;PCs&#x27;\n",
       "      layers:\t&#x27;counts&#x27;\n",
       "      obsp:\t&#x27;connectivities&#x27;, &#x27;distances&#x27;\n",
       "    prot:\t88967 x 166\n",
       "      var:\t&#x27;highly_variable&#x27;, &#x27;means&#x27;, &#x27;dispersions&#x27;, &#x27;dispersions_norm&#x27;\n",
       "      uns:\t&#x27;clean_l2_cell_types_colors&#x27;, &#x27;hvg&#x27;, &#x27;immunehealth_l1_colors&#x27;, &#x27;immunehealth_l2_colors&#x27;, &#x27;immunehealth_l3_colors&#x27;, &#x27;l2_cell_types_colors&#x27;, &#x27;neighbors&#x27;, &#x27;pca&#x27;, &#x27;umap&#x27;\n",
       "      obsm:\t&#x27;X_pca&#x27;, &#x27;X_umap&#x27;\n",
       "      varm:\t&#x27;PCs&#x27;\n",
       "      layers:\t&#x27;counts&#x27;, &#x27;dsb&#x27;\n",
       "      obsp:\t&#x27;connectivities&#x27;, &#x27;distances&#x27;\n",
       "    atac:\t88967 x 637859\n",
       "      obs:\t&#x27;altius_count&#x27;, &#x27;altius_frac&#x27;, &#x27;barcodes&#x27;, &#x27;batch_id&#x27;, &#x27;BlacklistRatio&#x27;, &#x27;cell_name&#x27;, &#x27;chip_id&#x27;, &#x27;DoubletEnrichment&#x27;, &#x27;DoubletScore&#x27;, &#x27;gene_bodies_count&#x27;, &#x27;gene_bodies_frac&#x27;, &#x27;Gex_MitoRatio&#x27;, &#x27;Gex_nGenes&#x27;, &#x27;Gex_nUMI&#x27;, &#x27;Gex_RiboRatio&#x27;, &#x27;n_duplicate&#x27;, &#x27;n_fragments&#x27;, &#x27;n_mito&#x27;, &#x27;n_unique&#x27;, &#x27;nDiFrags&#x27;, &#x27;nFrags&#x27;, &#x27;nMonoFrags&#x27;, &#x27;nMultiFrags&#x27;, &#x27;NucleosomeRatio&#x27;, &#x27;original_barcodes&#x27;, &#x27;PassQC&#x27;, &#x27;pbmc_sample_id&#x27;, &#x27;peaks_count&#x27;, &#x27;peaks_frac&#x27;, &#x27;pool_id&#x27;, &#x27;PromoterRatio&#x27;, &#x27;ReadsInBlacklist&#x27;, &#x27;ReadsInPromoter&#x27;, &#x27;ReadsInTSS&#x27;, &#x27;singlet&#x27;, &#x27;tss_count&#x27;, &#x27;tss_frac&#x27;, &#x27;TSSEnrichment&#x27;, &#x27;well_id&#x27;, &#x27;Clusters&#x27;, &#x27;subject_id&#x27;, &#x27;cohort&#x27;, &#x27;Birth.Year&#x27;, &#x27;Sex&#x27;, &#x27;wsnn_res.0.5&#x27;, &#x27;l1_cell_types&#x27;, &#x27;l2_cell_types&#x27;, &#x27;clean_l2_cell_types&#x27;, &#x27;ReadsInPeaks&#x27;, &#x27;FRIP&#x27;, &#x27;MochaPeak_clusters_1&#x27;, &#x27;n_genes_by_counts&#x27;, &#x27;total_counts&#x27;, &#x27;leiden&#x27;\n",
       "      var:\t&#x27;n_cells_by_counts&#x27;, &#x27;mean_counts&#x27;, &#x27;pct_dropout_by_counts&#x27;, &#x27;total_counts&#x27;\n",
       "      uns:\t&#x27;X_name&#x27;, &#x27;leiden&#x27;, &#x27;neighbors&#x27;, &#x27;umap&#x27;\n",
       "      obsm:\t&#x27;X_LSI&#x27;, &#x27;X_umap&#x27;\n",
       "      obsp:\t&#x27;connectivities&#x27;, &#x27;distances&#x27;</pre>"
      ],
      "text/plain": [
       "MuData object with n_obs × n_vars = 88967 × 674626\n",
       "  obs:\t'orig.ident', 'nCount_RNA', 'nFeature_RNA', 'barcodes', 'adt_qc_flag', 'adt_umis', 'batch_id', 'cell_name', 'chip_id', 'hto_barcode', 'hto_category', 'n_genes', 'n_mito_umis', 'n_reads', 'n_umis', 'original_barcodes', 'pbmc_sample_id', 'pool_id', 'rna_cell_uuid', 'seurat_pbmc_type', 'seurat_pbmc_type_score', 'umap_1', 'umap_2', 'well_id', 'nCount_ADT', 'nFeature_ADT', 'percent.mt', 'cluster ratio', 'subject_id', 'Ethnicity', 'Race', 'Birth Year', 'Sex', 'cohort', 'nCount_SCT', 'nFeature_SCT', 'SCT_snn_res.0.5', 'seurat_clusters', 'predicted.celltype.l1.score', 'predicted.celltype.l1', 'predicted.celltype.l2.score', 'predicted.celltype.l2', 'predicted.celltype.l3.score', 'predicted.celltype.l3', 'ADT_snn_res.0.5', 'atac_cell_id', 'n_mito', 'n_fragments', 'peaks_frac', 'altius_frac', 'DoubletScore', 'DoubletEnrichment', 'Clusters', 'iterative_lsi_number_umap_dimension_1', 'iterative_lsi_number_umap_dimension_2', 'nCount_Tiles', 'nFeature_Tiles', 'nCount_cleanadt', 'nFeature_cleanadt', 'cleanadt_snn_res.0.5', 'Tiles_snn_res.0.8', 'SCT.weight', 'ADT.weight', 'Tiles.weight', 'wsnn_res.0.5', 'wsnn_res.0.8', 'l1_cell_types', 'l2_cell_types', 'clean_l2_cell_types', 'nCount_rna', 'nFeature_rna', 'immunehealth_l1', 'immunehealth_l1_conf_score', 'immunehealth_l2', 'immunehealth_l2_conf_score', 'immunehealth_l3', 'immunehealth_l3_conf_score', 'leiden_wnn_0_5', 'manual_labels'\n",
       "  uns:\t'clean_l2_cell_types_colors', 'immunehealth_l2_colors', 'immunehealth_l3_colors', 'l2_cell_types_colors', 'leiden', 'manual_labels_colors', 'umap', 'wnn'\n",
       "  obsm:\t'X_umap'\n",
       "  obsp:\t'wnn_connectivities', 'wnn_distances'\n",
       "  3 modalities\n",
       "    rna:\t88967 x 36601\n",
       "      obs:\t'log10umi', 'n_genes_by_counts', 'total_counts', 'total_counts_mt', 'pct_counts_mt', 'leiden', 'predicted_labels', 'conf_score', 'majority_voting', 'over_clustering'\n",
       "      var:\t'mt', 'n_cells_by_counts', 'mean_counts', 'pct_dropout_by_counts', 'total_counts', 'highly_variable', 'means', 'dispersions', 'dispersions_norm', 'mean', 'std'\n",
       "      uns:\t'Archr_naive_wilcoxon', 'clean_l2_cell_types_colors', 'cohort_colors', 'dendrogram_leiden', 'hvg', 'immunehealth_l1_colors', 'immunehealth_l2_colors', 'immunehealth_l3_colors', 'leiden', 'leiden_colors', 'leiden_wilcoxon', 'leiden_wilcoxon_C10vsC0', 'log1p', 'neighbors', 'pca', 'rna:leiden_colors', 'umap'\n",
       "      obsm:\t'X_pca', 'X_umap'\n",
       "      varm:\t'PCs'\n",
       "      layers:\t'counts'\n",
       "      obsp:\t'connectivities', 'distances'\n",
       "    prot:\t88967 x 166\n",
       "      var:\t'highly_variable', 'means', 'dispersions', 'dispersions_norm'\n",
       "      uns:\t'clean_l2_cell_types_colors', 'hvg', 'immunehealth_l1_colors', 'immunehealth_l2_colors', 'immunehealth_l3_colors', 'l2_cell_types_colors', 'neighbors', 'pca', 'umap'\n",
       "      obsm:\t'X_pca', 'X_umap'\n",
       "      varm:\t'PCs'\n",
       "      layers:\t'counts', 'dsb'\n",
       "      obsp:\t'connectivities', 'distances'\n",
       "    atac:\t88967 x 637859\n",
       "      obs:\t'altius_count', 'altius_frac', 'barcodes', 'batch_id', 'BlacklistRatio', 'cell_name', 'chip_id', 'DoubletEnrichment', 'DoubletScore', 'gene_bodies_count', 'gene_bodies_frac', 'Gex_MitoRatio', 'Gex_nGenes', 'Gex_nUMI', 'Gex_RiboRatio', 'n_duplicate', 'n_fragments', 'n_mito', 'n_unique', 'nDiFrags', 'nFrags', 'nMonoFrags', 'nMultiFrags', 'NucleosomeRatio', 'original_barcodes', 'PassQC', 'pbmc_sample_id', 'peaks_count', 'peaks_frac', 'pool_id', 'PromoterRatio', 'ReadsInBlacklist', 'ReadsInPromoter', 'ReadsInTSS', 'singlet', 'tss_count', 'tss_frac', 'TSSEnrichment', 'well_id', 'Clusters', 'subject_id', 'cohort', 'Birth.Year', 'Sex', 'wsnn_res.0.5', 'l1_cell_types', 'l2_cell_types', 'clean_l2_cell_types', 'ReadsInPeaks', 'FRIP', 'MochaPeak_clusters_1', 'n_genes_by_counts', 'total_counts', 'leiden'\n",
       "      var:\t'n_cells_by_counts', 'mean_counts', 'pct_dropout_by_counts', 'total_counts'\n",
       "      uns:\t'X_name', 'leiden', 'neighbors', 'umap'\n",
       "      obsm:\t'X_LSI', 'X_umap'\n",
       "      obsp:\t'connectivities', 'distances'"
      ]
     },
     "execution_count": 11,
     "metadata": {},
     "output_type": "execute_result"
    }
   ],
   "source": [
    "prera_tea"
   ]
  },
  {
   "cell_type": "code",
   "execution_count": null,
   "id": "7ddd262b-2f8f-4286-b59f-1fc494c8ec6e",
   "metadata": {},
   "outputs": [],
   "source": []
  },
  {
   "cell_type": "markdown",
   "id": "6a64e0d2-0cae-4dfa-8e0f-3a8474f141ab",
   "metadata": {
    "tags": []
   },
   "source": [
    "### protein"
   ]
  },
  {
   "cell_type": "code",
   "execution_count": null,
   "id": "f65bf8c6-9d81-40e0-a8ad-d6b4f972e1e7",
   "metadata": {},
   "outputs": [],
   "source": [
    "# get protein information from ADT slot\n",
    "prot = prera_tea.mod[\"prot\"]"
   ]
  },
  {
   "cell_type": "code",
   "execution_count": null,
   "id": "17c7e429-f7d1-4ec8-aaaf-d37966c92101",
   "metadata": {},
   "outputs": [],
   "source": [
    "(prot.X == prot.layers['dsb']).all()"
   ]
  },
  {
   "cell_type": "code",
   "execution_count": null,
   "id": "2da901dc-41c1-4f83-a0e0-0854adac9e4c",
   "metadata": {},
   "outputs": [],
   "source": [
    "sc.pp.highly_variable_genes(prot)"
   ]
  },
  {
   "cell_type": "code",
   "execution_count": null,
   "id": "c85181d0-7c69-4773-aaac-2878cd5accb3",
   "metadata": {},
   "outputs": [],
   "source": [
    "isotypes = prot.var_names.values[[\"Isotype\" in v for v in prot.var_names]]\n",
    "print(isotypes)"
   ]
  },
  {
   "cell_type": "code",
   "execution_count": null,
   "id": "d04bdd94-a450-4d28-8ee8-f00935dc177b",
   "metadata": {},
   "outputs": [],
   "source": [
    "# set highly variable protein to all and remove isotype\n",
    "prot.var['highly_variable'] = True\n",
    "prot.var.loc[isotypes, 'highly_variable'] = False"
   ]
  },
  {
   "cell_type": "code",
   "execution_count": null,
   "id": "dd5cba25-f7d6-425f-847b-da75aa3aec8f",
   "metadata": {},
   "outputs": [],
   "source": [
    "# # run pca, clustering umap in protein\n",
    "sc.tl.pca(prot)\n",
    "sc.pl.pca_variance_ratio(rna, log=True)"
   ]
  },
  {
   "cell_type": "code",
   "execution_count": null,
   "id": "8a3243ce-2dab-4a3d-bfd6-730c1f9062c1",
   "metadata": {},
   "outputs": [],
   "source": [
    "sc.pp.neighbors(prot)\n",
    "sc.tl.umap(prot, random_state=1)"
   ]
  },
  {
   "cell_type": "code",
   "execution_count": null,
   "id": "1fafd9f6-b57a-4987-9872-ba9055bdc973",
   "metadata": {},
   "outputs": [],
   "source": [
    "sc.pl.umap(prot, color=['CD3', 'CD19', 'HLA_DR', 'CD56', 'CD14'])"
   ]
  },
  {
   "cell_type": "code",
   "execution_count": null,
   "id": "c4e2630f-8c40-4a36-87d4-9fa89f2258b2",
   "metadata": {},
   "outputs": [],
   "source": [
    "mu.pl.embedding(prera_tea, basis=\"prot:X_umap\",\n",
    "                color='clean_l2_cell_types', legend_loc='on data')"
   ]
  },
  {
   "cell_type": "code",
   "execution_count": null,
   "id": "dbaac64f-403a-4d02-954f-a70bc80183dd",
   "metadata": {},
   "outputs": [],
   "source": [
    "prera_tea.update()"
   ]
  },
  {
   "cell_type": "markdown",
   "id": "59d50172-e0a5-470e-990c-275e3f6901d5",
   "metadata": {},
   "source": [
    "### RNA"
   ]
  },
  {
   "cell_type": "code",
   "execution_count": null,
   "id": "27956b1c-9f16-4444-ac1d-69673e910a17",
   "metadata": {},
   "outputs": [],
   "source": [
    "rna = prera_tea.mod['rna']\n",
    "rna"
   ]
  },
  {
   "cell_type": "code",
   "execution_count": null,
   "id": "19aec4c7-78ff-4e79-a993-76dcb2836099",
   "metadata": {},
   "outputs": [],
   "source": [
    "rna.X = rna.layers['counts'].copy()"
   ]
  },
  {
   "cell_type": "code",
   "execution_count": null,
   "id": "e749dac0-880f-4c74-9024-1b747088dfd6",
   "metadata": {},
   "outputs": [],
   "source": [
    "# annotate the group of mitochondrial genes as 'mt'\n",
    "rna.var['mt'] = rna.var_names.str.startswith('MT-')\n",
    "sc.pp.calculate_qc_metrics(\n",
    "    rna, qc_vars=['mt'], percent_top=None, log1p=False, inplace=True)"
   ]
  },
  {
   "cell_type": "code",
   "execution_count": null,
   "id": "98792761-14ae-4115-8e04-00448198013c",
   "metadata": {},
   "outputs": [],
   "source": [
    "sc.pl.violin(rna, ['n_genes_by_counts', 'total_counts', 'pct_counts_mt'],\n",
    "             jitter=0.4, multi_panel=True)"
   ]
  },
  {
   "cell_type": "code",
   "execution_count": null,
   "id": "18aebff6-4b75-4c44-8444-52172842d141",
   "metadata": {},
   "outputs": [],
   "source": [
    "sc.pp.normalize_total(rna, target_sum=1e4)"
   ]
  },
  {
   "cell_type": "code",
   "execution_count": null,
   "id": "480d4d09-faa9-4f45-b03b-7ffd62b4bc5c",
   "metadata": {},
   "outputs": [],
   "source": [
    "sc.pp.log1p(rna)"
   ]
  },
  {
   "cell_type": "code",
   "execution_count": null,
   "id": "d9bc6c4a-49b1-4289-9677-83483d5853ab",
   "metadata": {},
   "outputs": [],
   "source": [
    "sc.pp.highly_variable_genes(rna, min_mean=0.02, max_mean=4, min_disp=0.5)"
   ]
  },
  {
   "cell_type": "code",
   "execution_count": null,
   "id": "3f15b205-d25e-4d60-8367-4ab8d7b0402f",
   "metadata": {},
   "outputs": [],
   "source": [
    "prera_tea.update()"
   ]
  },
  {
   "cell_type": "code",
   "execution_count": null,
   "id": "99cf2cf1-293b-449a-8358-9137b3bc868e",
   "metadata": {},
   "outputs": [],
   "source": [
    "sc.pl.highly_variable_genes(rna)\n",
    "np.sum(rna.var.highly_variable)"
   ]
  },
  {
   "cell_type": "code",
   "execution_count": null,
   "id": "1fb70a9d-3be3-4d38-8841-009555dc7b97",
   "metadata": {},
   "outputs": [],
   "source": [
    "# Scaling in RNA\n",
    "rna.raw = rna\n",
    "sc.pp.scale(rna, max_value=10)"
   ]
  },
  {
   "cell_type": "code",
   "execution_count": null,
   "id": "d5d9e321-300f-4bfa-9d51-370cd143b322",
   "metadata": {},
   "outputs": [],
   "source": [
    "sc.tl.pca(rna, svd_solver='arpack')"
   ]
  },
  {
   "cell_type": "code",
   "execution_count": null,
   "id": "d5234db2-4779-4735-a396-bb42a149887f",
   "metadata": {},
   "outputs": [],
   "source": [
    "sc.pl.pca(rna, color=['CD3G', 'CD19', 'HLA-DRA',  'CD14'])"
   ]
  },
  {
   "cell_type": "code",
   "execution_count": null,
   "id": "6b39e873-0a17-4be5-94b9-dab4c5160be1",
   "metadata": {},
   "outputs": [],
   "source": [
    "sc.pl.pca_variance_ratio(rna, log=True)"
   ]
  },
  {
   "cell_type": "code",
   "execution_count": null,
   "id": "e458e6b3-2b01-4ea5-8c98-74ad6d974378",
   "metadata": {},
   "outputs": [],
   "source": [
    "sc.pp.neighbors(rna, n_pcs=10)"
   ]
  },
  {
   "cell_type": "code",
   "execution_count": null,
   "id": "0f2e9184-8e86-4c9e-817d-36f3eec03c57",
   "metadata": {},
   "outputs": [],
   "source": [
    "sc.tl.umap(rna)"
   ]
  },
  {
   "cell_type": "code",
   "execution_count": null,
   "id": "9e2a44a2-e1a7-4483-a8f1-6d6af8da97ac",
   "metadata": {},
   "outputs": [],
   "source": [
    "sc.tl.leiden(rna, resolution=.75)"
   ]
  },
  {
   "cell_type": "code",
   "execution_count": null,
   "id": "b250cbaa-ca80-4686-a651-93f1378467a7",
   "metadata": {},
   "outputs": [],
   "source": [
    "sc.pl.umap(rna, color=[\"leiden\"], legend_loc=\"on data\")"
   ]
  },
  {
   "cell_type": "code",
   "execution_count": null,
   "id": "009a0be0-3be8-42fa-b2f6-e0cecc83e1b8",
   "metadata": {
    "scrolled": true
   },
   "outputs": [],
   "source": [
    "# check cluster 10\n",
    "sc.tl.rank_genes_groups(rna, groupby='leiden', groups=['10'], reference='0',\n",
    "                        method='wilcoxon', key_added='leiden_wilcoxon_C10vsC0')"
   ]
  },
  {
   "cell_type": "code",
   "execution_count": null,
   "id": "2a46785e-cadc-4eca-9696-349df14cca93",
   "metadata": {},
   "outputs": [],
   "source": [
    "# plot top degs\n",
    "sc.tl.dendrogram(rna, groupby=cluster_name)\n",
    "sc.pl.rank_genes_groups_dotplot(\n",
    "    rna, groupby=cluster_name, standard_scale=\"var\",\n",
    "    n_genes=10, key='leiden_wilcoxon_C10vsC0',\n",
    "    save='_' + proj_name + cluster_name+'_wilcoxon_top_genes_dotplot_scale.png'\n",
    ")"
   ]
  },
  {
   "cell_type": "code",
   "execution_count": null,
   "id": "4fdc4ec4-a517-485f-8723-464acf5f5058",
   "metadata": {},
   "outputs": [],
   "source": [
    "# output the deg list\n",
    "cluster_name = 'leiden'\n",
    "leiden_deg = sc.get.rank_genes_groups_df(rna, key='leiden_wilcoxon_C10vsC0',\n",
    "                                         pval_cutoff=None,  group=None).rename(\n",
    "    {'group': cluster_name},  axis='columns')\n",
    "leiden_deg['direction'] = np.where(\n",
    "    leiden_deg['logfoldchanges'] > 0, 'up', 'down')\n",
    "leiden_deg = leiden_deg.reindex(\n",
    "    leiden_deg['scores'].abs().sort_values(ascending=False).index)\n",
    "# leiden_deg.to_csv(output_path + proj_name + cluster_name+'_wilcoxon_degs.csv')\n",
    "# check cluster 10 degs\n",
    "c10_deg = leiden_deg.loc[(leiden_deg[cluster_name] == '10') &\n",
    "                         (leiden_deg['pvals_adj'] < 0.01)]\n",
    "c10_deg"
   ]
  },
  {
   "cell_type": "code",
   "execution_count": null,
   "id": "483f8ca4-69c2-49d5-b62b-0b0133edb5cf",
   "metadata": {},
   "outputs": [],
   "source": [
    "\n",
    "sc.pl.dotplot(rna, c10_deg['names'][0:29].to_list(), groupby=cluster_name, standard_scale='var',\n",
    "              dendrogram=True, swap_axes=False,\n",
    "              save='_' + proj_name + cluster_name + '_c10_dotplot_scale.png')"
   ]
  },
  {
   "cell_type": "code",
   "execution_count": null,
   "id": "1e81b767-2701-4e6c-93c7-c662db0cf405",
   "metadata": {},
   "outputs": [],
   "source": [
    "prera_tea.update()"
   ]
  },
  {
   "cell_type": "code",
   "execution_count": null,
   "id": "dc4d0c6a-3fba-4d1d-ab3d-0cc7131393c1",
   "metadata": {},
   "outputs": [],
   "source": [
    "p1 = mu.pl.embedding(prera_tea, basis=\"prot:X_umap\",\n",
    "                     color='clean_l2_cell_types', legend_loc=\"on data\")\n",
    "p2 = mu.pl.embedding(prera_tea, basis=\"rna:X_umap\",\n",
    "                     color='clean_l2_cell_types', legend_loc=\"on data\")"
   ]
  },
  {
   "cell_type": "code",
   "execution_count": null,
   "id": "a85d99a0-b59a-47a6-9d34-0e10ac1263c5",
   "metadata": {},
   "outputs": [],
   "source": [
    "p1 = mu.pl.embedding(prera_tea, basis=\"prot:X_umap\",\n",
    "                     color='clean_l2_cell_types', legend_loc=\"on data\")"
   ]
  },
  {
   "cell_type": "code",
   "execution_count": null,
   "id": "081afcf1-68b5-4af9-b9c8-6698f8c44f88",
   "metadata": {},
   "outputs": [],
   "source": [
    "mu.pl.embedding(prera_tea, basis=\"prot:X_umap\", color=['prot:CD185', 'rna:CXCR5'],\n",
    "                legend_loc=\"on data\", vmin='p1',  vmax='p99')"
   ]
  },
  {
   "cell_type": "code",
   "execution_count": null,
   "id": "413829db-5970-49c4-b606-1c2e3c2b48fa",
   "metadata": {},
   "outputs": [],
   "source": [
    "mu.pl.embedding(prera_tea, basis=\"prot:X_umap\", color=[\n",
    "                'clean_l2_cell_types', 'prot:CD185'], legend_loc=\"on data\")"
   ]
  },
  {
   "cell_type": "markdown",
   "id": "2c721803-4072-4d26-b975-3b588dfa8f20",
   "metadata": {},
   "source": [
    "### ATAC"
   ]
  },
  {
   "cell_type": "code",
   "execution_count": null,
   "id": "7b042b7c-2350-41d5-8f22-26aec18ba742",
   "metadata": {},
   "outputs": [],
   "source": [
    "atac = prera_tea.mod['atac']\n",
    "atac"
   ]
  },
  {
   "cell_type": "code",
   "execution_count": null,
   "id": "88c8639e-9b3e-426c-a50a-75d245f40d68",
   "metadata": {},
   "outputs": [],
   "source": [
    "atac.X[1:50, 1:50].toarray()"
   ]
  },
  {
   "cell_type": "code",
   "execution_count": null,
   "id": "70f326e5-75d1-4ded-9fd4-950513c716c6",
   "metadata": {},
   "outputs": [],
   "source": [
    "# import lsi coordinate from atac\n",
    "archr_lsi = pd.read_csv('/home/jupyter/data/preRA_teaseq/output_results/atac/preRA_teaseq_rbBR2024_lsi_matrix.tsv',\n",
    "                        sep='\\t',\n",
    "                        index_col='barcodes')\n",
    "# reorder to match the index\n",
    "archr_lsi = archr_lsi.reindex(prera_tea.obs.index)\n",
    "archr_lsi.head()"
   ]
  },
  {
   "cell_type": "code",
   "execution_count": null,
   "id": "2d9fcae0-80af-4884-9fca-6c6d865f42eb",
   "metadata": {},
   "outputs": [],
   "source": [
    "# add archr umap to anndata\n",
    "atac.obsm['X_LSI'] = archr_lsi.to_numpy()"
   ]
  },
  {
   "cell_type": "code",
   "execution_count": null,
   "id": "9daffcab-27ac-45a8-9e89-00ed2cd9dc9f",
   "metadata": {},
   "outputs": [],
   "source": [
    "prera_tea.update()"
   ]
  },
  {
   "cell_type": "code",
   "execution_count": null,
   "id": "8ddfb567-94c8-4b48-a2df-e2d18bde7a11",
   "metadata": {},
   "outputs": [],
   "source": [
    "atac.X[1:1000, 1:1000].toarray()"
   ]
  },
  {
   "cell_type": "code",
   "execution_count": null,
   "id": "dde339bc-77fe-48dd-a10c-b26e559b663b",
   "metadata": {},
   "outputs": [],
   "source": [
    "plt.hist(atac.X[1:1000, 1:1000].toarray(), bins='auto')"
   ]
  },
  {
   "cell_type": "code",
   "execution_count": null,
   "id": "403f5ea1-3f08-40cb-a81b-a82a637f1ffc",
   "metadata": {
    "scrolled": true
   },
   "outputs": [],
   "source": [
    "sc.pp.calculate_qc_metrics(atac, percent_top=None, log1p=False, inplace=True)\n",
    "sc.pl.violin(atac, ['total_counts', 'n_genes_by_counts'],\n",
    "             jitter=0.4, multi_panel=True)"
   ]
  },
  {
   "cell_type": "code",
   "execution_count": null,
   "id": "4efaef0c-c3e0-46e1-b8be-fca76eb82970",
   "metadata": {},
   "outputs": [],
   "source": [
    "sc.pp.neighbors(atac, use_rep='X_LSI')\n",
    "sc.tl.umap(atac)"
   ]
  },
  {
   "cell_type": "code",
   "execution_count": null,
   "id": "967712ee-6103-41f5-9d0c-52c3d6fe4f1a",
   "metadata": {},
   "outputs": [],
   "source": [
    "# run cluters and umap\n",
    "sc.tl.leiden(atac, resolution=0.8)"
   ]
  },
  {
   "cell_type": "code",
   "execution_count": null,
   "id": "de464fa0-f505-47ae-a00e-5363070c4e55",
   "metadata": {},
   "outputs": [],
   "source": [
    "prera_tea.update()"
   ]
  },
  {
   "cell_type": "markdown",
   "id": "e20fecd8-fbfc-4d5b-bdeb-0a5c20cf7983",
   "metadata": {},
   "source": [
    "## run 3wnn"
   ]
  },
  {
   "cell_type": "code",
   "execution_count": null,
   "id": "e53c5e1f-8d7f-4717-847e-7426785019f2",
   "metadata": {},
   "outputs": [],
   "source": [
    "prera_tea"
   ]
  },
  {
   "cell_type": "code",
   "execution_count": null,
   "id": "c8662a45-b294-4aec-9c3c-6c438b0b28a7",
   "metadata": {},
   "outputs": [],
   "source": [
    "mu.pp.neighbors(prera_tea, key_added='wnn')"
   ]
  },
  {
   "cell_type": "code",
   "execution_count": null,
   "id": "b8dd5b67-973c-46fb-8dea-6ae6bad785b6",
   "metadata": {},
   "outputs": [],
   "source": [
    "mu.tl.umap(prera_tea, neighbors_key='wnn', random_state=10)"
   ]
  },
  {
   "cell_type": "code",
   "execution_count": null,
   "id": "56057b89-d83d-40e4-9358-cb7232308022",
   "metadata": {},
   "outputs": [],
   "source": [
    "sc.tl.leiden(prera_tea, resolution=0.5, neighbors_key='wnn',\n",
    "             key_added='leiden_wnn_0_5')"
   ]
  },
  {
   "cell_type": "code",
   "execution_count": null,
   "id": "0741d00c-c83a-4331-86d0-6b7480ddac98",
   "metadata": {},
   "outputs": [],
   "source": [
    "mu.pl.umap(prera_tea, color=['rna:mod_weight',\n",
    "           'prot:mod_weight', 'atac:mod_weight'], cmap='RdBu')"
   ]
  },
  {
   "cell_type": "code",
   "execution_count": null,
   "id": "0bc9f588-2e71-44ac-b7aa-37432e9bf62a",
   "metadata": {},
   "outputs": [],
   "source": [
    "mu.pl.umap(prera_tea, color=['l2_cell_types'], legend_loc=\"on data\")"
   ]
  },
  {
   "cell_type": "code",
   "execution_count": null,
   "id": "6fce2564-9253-4ffd-a89f-3f035dfd26e2",
   "metadata": {},
   "outputs": [],
   "source": [
    "prera_tea.update()"
   ]
  },
  {
   "cell_type": "code",
   "execution_count": null,
   "id": "7400ad90-c201-49cb-98b8-da63b1df80bd",
   "metadata": {},
   "outputs": [],
   "source": [
    "prera_tea.write(\n",
    "    data_path + 'PreRA_teaseq_qc_filtered_cells_3modality_rmBR2024.h5mu')"
   ]
  },
  {
   "cell_type": "markdown",
   "id": "a230fb24-99cc-4e12-933e-d3bf0f93a61d",
   "metadata": {},
   "source": [
    "## label teaseq with AIFI labels"
   ]
  },
  {
   "cell_type": "code",
   "execution_count": null,
   "id": "8f1e14f1-e5db-4ba6-832a-d573f2398df8",
   "metadata": {},
   "outputs": [],
   "source": [
    "import celltypist\n",
    "from celltypist import models"
   ]
  },
  {
   "cell_type": "code",
   "execution_count": null,
   "id": "e5d3a7aa-c2d0-420c-8a8d-181bf006c3cd",
   "metadata": {},
   "outputs": [],
   "source": [
    "# load the immune healthy trained cell typiest model\n",
    "models.models_path = '/home/jupyter/data/Reference/celltypist/AIFI_CertPro/AIFI_Model_Celltypist_CertPro'\n",
    "# load all 3 levels of labels\n",
    "model_l1 = models.Model.load(\n",
    "    model='ref_pbmc_clean_celltypist_model_AIFI_L1_2024-04-18.pkl')\n",
    "model_l2 = models.Model.load(\n",
    "    model='ref_pbmc_clean_celltypist_model_AIFI_L2_2024-04-19.pkl')\n",
    "model_l3 = models.Model.load(\n",
    "    model='ref_pbmc_clean_celltypist_model_AIFI_L3_2024-04-19.pkl')"
   ]
  },
  {
   "cell_type": "code",
   "execution_count": null,
   "id": "8e0822d8-eab1-4ba6-8865-e762c1a655d1",
   "metadata": {},
   "outputs": [],
   "source": [
    "rna = prera_tea['rna']\n",
    "rna"
   ]
  },
  {
   "cell_type": "code",
   "execution_count": null,
   "id": "5d5d8b8a-c553-4952-ac98-8f3d6c4c019a",
   "metadata": {},
   "outputs": [],
   "source": [
    "rna.X"
   ]
  },
  {
   "cell_type": "code",
   "execution_count": null,
   "id": "b71c3aa8-37fe-4092-8844-16e8addf3e7b",
   "metadata": {},
   "outputs": [],
   "source": [
    "# do prediction for all 3 levels\n",
    "predictions_l1 = celltypist.annotate(\n",
    "    rna, model='ref_pbmc_clean_celltypist_model_AIFI_L1_2024-04-18.pkl', majority_voting=True)\n",
    "# get prediction labels and scores for all 3 levels\n",
    "pred_adata_l1 = predictions_l1.to_adata()\n",
    "\n",
    "# transfer the prediction label to the anndata\n",
    "prera_tea.obs[\"immunehealth_l1\"] = pred_adata_l1.obs.loc[\n",
    "    rna.obs.index, \"predicted_labels\"\n",
    "]\n",
    "prera_tea.obs[\"immunehealth_l1_conf_score\"] = pred_adata_l1.obs.loc[\n",
    "    rna.obs.index, \"conf_score\"\n",
    "]"
   ]
  },
  {
   "cell_type": "code",
   "execution_count": null,
   "id": "7683d2e6-ff7a-4012-a85d-2d61040846ab",
   "metadata": {},
   "outputs": [],
   "source": [
    "# do prediction for all 3 levels\n",
    "predictions_l2 = celltypist.annotate(rna, model='ref_pbmc_clean_celltypist_model_AIFI_L2_2024-04-19.pkl',\n",
    "                                     majority_voting=True)\n",
    "# get prediction labels and scores for all 3 levels\n",
    "pred_adata_l2 = predictions_l2.to_adata()\n",
    "\n",
    "# transfer the prediction label to the anndata\n",
    "prera_tea.obs[\"immunehealth_l2\"] = pred_adata_l2.obs.loc[\n",
    "    rna.obs.index, \"predicted_labels\"\n",
    "]\n",
    "prera_tea.obs[\"immunehealth_l2_conf_score\"] = pred_adata_l2.obs.loc[\n",
    "    rna.obs.index, \"conf_score\"\n",
    "]"
   ]
  },
  {
   "cell_type": "code",
   "execution_count": null,
   "id": "eb20d5b0-19e2-4917-a7ad-e9b836163407",
   "metadata": {},
   "outputs": [],
   "source": [
    "# do prediction for all 3 levels\n",
    "predictions_l3 = celltypist.annotate(rna, model='ref_pbmc_clean_celltypist_model_AIFI_L3_2024-04-19.pkl',\n",
    "                                     majority_voting=True)\n",
    "\n",
    "# get prediction labels and scores for all 3 levels\n",
    "pred_adata_l3 = predictions_l3.to_adata()\n",
    "\n",
    "# transfer the prediction label to the anndata\n",
    "prera_tea.obs[\"immunehealth_l3\"] = pred_adata_l3.obs.loc[\n",
    "    rna.obs.index, \"predicted_labels\"\n",
    "]\n",
    "prera_tea.obs[\"immunehealth_l3_conf_score\"] = pred_adata_l3.obs.loc[\n",
    "    rna.obs.index, \"conf_score\"\n",
    "]"
   ]
  },
  {
   "cell_type": "code",
   "execution_count": null,
   "id": "ca40c1a9-510d-49a9-b5db-672fb5beaf30",
   "metadata": {},
   "outputs": [],
   "source": [
    "prera_tea.update()"
   ]
  },
  {
   "cell_type": "code",
   "execution_count": null,
   "id": "78af5b73-0a1f-498f-8b1e-226168998eb7",
   "metadata": {},
   "outputs": [],
   "source": [
    "prera_tea"
   ]
  },
  {
   "cell_type": "code",
   "execution_count": null,
   "id": "b1c9a3f6-2129-41a6-bc9a-7e53133e5e75",
   "metadata": {},
   "outputs": [],
   "source": [
    "mu.pl.embedding(prera_tea, basis=\"rna:X_umap\", ncols=2,\n",
    "                color=['immunehealth_l1', 'immunehealth_l2',\n",
    "                       'immunehealth_l3', 'clean_l2_cell_types'],\n",
    "                legend_loc='on data')"
   ]
  },
  {
   "cell_type": "code",
   "execution_count": null,
   "id": "911e246e-1611-4d6f-b8b3-8bbfba976c8b",
   "metadata": {},
   "outputs": [],
   "source": [
    "mu.pl.embedding(prera_tea, basis=\"prot:X_umap\", ncols=2,\n",
    "                color=['immunehealth_l1', 'immunehealth_l2',\n",
    "                       'immunehealth_l3', 'clean_l2_cell_types'],\n",
    "                legend_loc='on data')"
   ]
  },
  {
   "cell_type": "code",
   "execution_count": null,
   "id": "414ea8f7-380b-4b28-98f8-ee8807caae9b",
   "metadata": {},
   "outputs": [],
   "source": [
    "prera_tea.obs['l2_cell_types'].unique()\n",
    "# create a new column for the manual labels"
   ]
  },
  {
   "cell_type": "code",
   "execution_count": null,
   "id": "5548b5cf-359c-4de5-ab6f-7ec63f48adda",
   "metadata": {},
   "outputs": [],
   "source": [
    "mu.pl.umap(prera_tea, color=['l2_cell_types'], legend_loc=\"on data\")"
   ]
  },
  {
   "cell_type": "code",
   "execution_count": null,
   "id": "63bc6009-bbc0-4344-81a4-6fd79f2fbc71",
   "metadata": {},
   "outputs": [],
   "source": [
    "prera_tea.obs['immunehealth_l2'].value_counts()"
   ]
  },
  {
   "cell_type": "code",
   "execution_count": null,
   "id": "dac55771-eba7-4c03-a2d2-ffc9d9aa7c4f",
   "metadata": {},
   "outputs": [],
   "source": [
    "mu.pl.embedding(prera_tea, basis=\"rna:X_umap\",\n",
    "                color=['immunehealth_l2', 'clean_l2_cell_types', 'rna:leiden'],\n",
    "                legend_fontsize=4, legend_loc='on data',\n",
    "                save=proj_name + 'rna_umap_aifi_l2_label.png')"
   ]
  },
  {
   "cell_type": "code",
   "execution_count": null,
   "id": "f6d57ccf-8d3d-4b29-aff7-9692c8d26399",
   "metadata": {},
   "outputs": [],
   "source": [
    "mu.pl.embedding(prera_tea, basis=\"rna:X_umap\", color=['immunehealth_l3'],\n",
    "                legend_loc='on data', legend_fontsize=4,\n",
    "                save=proj_name + 'rna_umap_aifi_l3_label.png')"
   ]
  },
  {
   "cell_type": "code",
   "execution_count": null,
   "id": "7b27e51b-7408-4c7b-afa9-8e74ce2686e5",
   "metadata": {},
   "outputs": [],
   "source": [
    "# set fig size\n",
    "plt.rcParams['figure.figsize'] = [4, 4]\n",
    "\n",
    "mu.pl.embedding(prera_tea, basis=\"rna:X_umap\", color=['immunehealth_l2'],\n",
    "                title='Cell Types',\n",
    "                legend_fontsize=6, legend_loc='on data',\n",
    "                save=proj_name + 'rna_umap_immunehealth_l2_cell_types.pdf')"
   ]
  },
  {
   "cell_type": "code",
   "execution_count": null,
   "id": "2eaf9fef-9a5e-4c52-a07e-e047fec6d78c",
   "metadata": {},
   "outputs": [],
   "source": [
    "mu.pl.embedding(prera_tea, basis=\"prot:X_umap\", color=['l2_cell_types'],\n",
    "                title='Adt_Umap_clean_l2',\n",
    "                legend_fontsize=4, legend_loc='on data',\n",
    "                save=proj_name + 'adt_umap_clean_l2_cell_types.pdf')"
   ]
  },
  {
   "cell_type": "code",
   "execution_count": null,
   "id": "2ee92713-abab-40e3-9a3f-480aa71432c2",
   "metadata": {},
   "outputs": [],
   "source": [
    "mu.pl.embedding(prera_tea, basis=\"rna:X_umap\", color=['clean_l2_cell_types'],\n",
    "                title='RNA_Umap_clean_l2',\n",
    "                legend_fontsize=4, legend_loc='on data',\n",
    "                save=proj_name + 'rna_umap_clean_l2_cell_types.png')"
   ]
  },
  {
   "cell_type": "code",
   "execution_count": null,
   "id": "3b4596e8-1b58-47e9-b6c5-7c0aecd02477",
   "metadata": {},
   "outputs": [],
   "source": [
    "# mu.pl.embedding(prera_tea, basis=\"atac:X_umap\", color= ['clean_l2_cell_types'],\n",
    "#                 title='ATAC_Umap_clean_l2',\n",
    "#                 legend_fontsize=4,legend_loc='on data',\n",
    "#                 save=proj_name + 'atac_umap_clean_l2_cell_types.png')"
   ]
  },
  {
   "cell_type": "code",
   "execution_count": null,
   "id": "237ae472-3250-4547-ab5d-761859bddf1c",
   "metadata": {
    "scrolled": true
   },
   "outputs": [],
   "source": [
    "prera_tea.write(\n",
    "    data_path+'PreRA_teaseq_qc_filtered_cells_3modality_rmBR2024.h5mu')"
   ]
  },
  {
   "cell_type": "code",
   "execution_count": null,
   "id": "8b8707de-cb0f-47f0-94fd-06e74519dd5e",
   "metadata": {},
   "outputs": [],
   "source": [
    "# save the immune health predicted labels\n",
    "tea_aifi_labels = prera_tea.obs[['immunehealth_l1',\n",
    "                                 'immunehealth_l1_conf_score', 'immunehealth_l2',\n",
    "                                 'immunehealth_l2_conf_score',\t'immunehealth_l3',\t'immunehealth_l3_conf_score']]\n",
    "tea_aifi_labels.to_csv(output_path + proj_name + 'aifi_labels.csv')"
   ]
  },
  {
   "cell_type": "code",
   "execution_count": null,
   "id": "1be7fdbc-ba3d-4124-806f-6e032b68128b",
   "metadata": {},
   "outputs": [],
   "source": [
    "output_path + proj_name + 'aifi_labels.csv'"
   ]
  },
  {
   "cell_type": "code",
   "execution_count": null,
   "id": "360d6bac-1906-44aa-8388-35769193997a",
   "metadata": {},
   "outputs": [],
   "source": [
    "# check l3 prediction\n",
    "cmtx = sc.metrics.confusion_matrix(\n",
    "    \"immunehealth_l2\", \"clean_l2_cell_types\", prera_tea.obs)\n",
    "# Now if we normalize it by column:\n",
    "cmtx_norm_col = (cmtx-cmtx.mean())/cmtx.std()\n",
    "sns.heatmap(cmtx_norm_col, xticklabels=True, yticklabels=True)"
   ]
  },
  {
   "cell_type": "code",
   "execution_count": null,
   "id": "86e60c2e-1196-4da9-8657-7b301af36aa6",
   "metadata": {},
   "outputs": [],
   "source": [
    "# Normalize it by row:\n",
    "cmtx_norm_row = cmtx.apply(lambda x: (x-x.mean())/x.std(), axis=1)\n",
    "sns.heatmap(cmtx_norm_row, xticklabels=True, yticklabels=True)"
   ]
  },
  {
   "cell_type": "code",
   "execution_count": null,
   "id": "da192850-0a54-435a-9ff7-7e27c18f8f45",
   "metadata": {},
   "outputs": [],
   "source": [
    "prera_tea.obs.loc[prera_tea.obs['immunehealth_l3'].astype('str').str.contains('mono'),\n",
    "                  'immunehealth_l3'].unique()"
   ]
  },
  {
   "cell_type": "code",
   "execution_count": null,
   "id": "d0ec8bb8-4afd-4f3b-8c27-ca605df3a47a",
   "metadata": {},
   "outputs": [],
   "source": [
    "prera_tea.obs.loc[prera_tea.obs['immunehealth_l3'] == 'IL1B+ CD14 monocyte']"
   ]
  },
  {
   "cell_type": "markdown",
   "id": "1efa7831-dade-499d-8048-faf1783074d0",
   "metadata": {},
   "source": [
    "### clean up the l2 cell type labels in teaseq"
   ]
  },
  {
   "cell_type": "code",
   "execution_count": null,
   "id": "99554e32-4290-4ce9-807f-5e30bbce7642",
   "metadata": {},
   "outputs": [],
   "source": [
    "prera_tea.obs['l2_cell_types'].unique().tolist()"
   ]
  },
  {
   "cell_type": "code",
   "execution_count": null,
   "id": "bb1f557f-75a8-4e47-8395-de782c70d714",
   "metadata": {},
   "outputs": [],
   "source": [
    "# clean up the labels\n",
    "prera_tea.obs['manual_labels'] = prera_tea.obs['l2_cell_types'].copy().astype(\n",
    "    'str')\n",
    "prera_tea.obs.loc[prera_tea.obs['manual_labels'].isin(\n",
    "    ['CD14mono_subA', 'CD14mono_subB', 'CD14mono_other']), 'manual_labels'] = 'CD14 mono'\n",
    "prera_tea.obs.loc[prera_tea.obs['manual_labels']\n",
    "                  == 'CD16mono', 'manual_labels'] = 'CD16 mono'\n",
    "prera_tea.obs.loc[prera_tea.obs['manual_labels'] ==\n",
    "                  'nk_proliferating', 'manual_labels'] = 'Proliferating NK'\n",
    "prera_tea.obs.loc[prera_tea.obs['manual_labels'] ==\n",
    "                  'nk_cd56dim', 'manual_labels'] = 'CD56dim NK'\n",
    "prera_tea.obs.loc[prera_tea.obs['manual_labels']\n",
    "                  == 'nk_cd56hi', 'manual_labels'] = 'CD56hi NK'\n",
    "prera_tea.obs.loc[prera_tea.obs['manual_labels'] ==\n",
    "                  't_proliferating', 'manual_labels'] = 'Proliferating T'\n",
    "prera_tea.obs.loc[prera_tea.obs['manual_labels'] ==\n",
    "                  'myeloid_other', 'manual_labels'] = 'Other myeloid'\n",
    "prera_tea.obs.loc[prera_tea.obs['manual_labels'] ==\n",
    "                  'int_mono', 'manual_labels'] = 'Intermediate mono'\n",
    "prera_tea.obs.loc[prera_tea.obs['manual_labels']\n",
    "                  == 'B cells C9', 'manual_labels'] = 'Other B'\n",
    "prera_tea.obs.loc[prera_tea.obs['manual_labels'] ==\n",
    "                  'CD4 TEMRA-like', 'manual_labels'] = 'CD4 CTL'\n",
    "prera_tea.obs.loc[prera_tea.obs['manual_labels']\n",
    "                  == 'nk_t', 'manual_labels'] = 'NKT'\n",
    "prera_tea.obs.loc[prera_tea.obs['manual_labels'] ==\n",
    "                  'Poor Performers', 'manual_labels'] = 'Other'\n",
    "prera_tea.obs['manual_labels'] = prera_tea.obs['manual_labels'].astype(\n",
    "    'category')"
   ]
  },
  {
   "cell_type": "code",
   "execution_count": null,
   "id": "c80d7b77-3e03-45ba-9798-92be50989bdc",
   "metadata": {},
   "outputs": [],
   "source": [
    "matplotlib.rcParams['pdf.fonttype'] = 42"
   ]
  },
  {
   "cell_type": "code",
   "execution_count": null,
   "id": "7c18651c-64b1-4c14-90b6-f47ffaef677d",
   "metadata": {},
   "outputs": [],
   "source": [
    "with plt.rc_context({\"figure.figsize\": (4, 4), \"figure.dpi\": (300)}):\n",
    "    mu.pl.umap(prera_tea, color=['manual_labels'], palette=cluster_colors_32,  # legend_loc=\"on data\", legend_fontsize='small',\n",
    "               save=proj_name + '_manual_labels_legend.pdf',\n",
    "               show=True)\n",
    "# p1.set_xlabel(\"WNN UMAP1\")\n",
    "# p1.set_ylabel(\"WNN UMAP2\")\n",
    "# p1.set_title('Cell types')\n",
    "# plt.tight_layout()\n",
    "# p1.figure.savefig(fig_path+proj_name + '_manual_labels.pdf')"
   ]
  },
  {
   "cell_type": "markdown",
   "id": "558ac41a-a5c7-4507-9d66-ea60d64bfa64",
   "metadata": {},
   "source": [
    "### plot S7A"
   ]
  },
  {
   "cell_type": "code",
   "execution_count": null,
   "id": "ce51bd08-15fd-416b-b403-9cd7156d7063",
   "metadata": {},
   "outputs": [],
   "source": [
    "from adjustText import adjust_text\n",
    "import matplotlib.patheffects as pe\n",
    "\n",
    "\n",
    "def gen_mpl_labels(\n",
    "    adata, groupby, exclude=(), ax=None, adjust_kwargs=None, text_kwargs=None, color_by_group=False\n",
    "):\n",
    "    if adjust_kwargs is None:\n",
    "        adjust_kwargs = {\"text_from_points\": False}\n",
    "    if text_kwargs is None:\n",
    "        text_kwargs = {}\n",
    "\n",
    "    medians = {}\n",
    "\n",
    "    for g, g_idx in adata.obs.groupby(groupby).groups.items():\n",
    "        if g in exclude:\n",
    "            continue\n",
    "        medians[g] = np.median(adata[g_idx].obsm[\"X_umap\"], axis=0)\n",
    "\n",
    "    # Fill the text colors dictionary\n",
    "    text_colors = {group: None for group in adata.obs[groupby].cat.categories}\n",
    "\n",
    "    if color_by_group and groupby + \"_colors\" in adata.uns:\n",
    "        for i, group in enumerate(adata.obs[groupby].cat.categories):\n",
    "            if group in exclude:\n",
    "                continue\n",
    "            text_colors[group] = adata.uns[groupby + \"_colors\"][i]\n",
    "\n",
    "    if ax is None:\n",
    "        texts = [\n",
    "            plt.text(x=x, y=y, s=k, color=text_colors[k], **text_kwargs) for k, (x, y) in medians.items()\n",
    "        ]\n",
    "    else:\n",
    "        texts = [ax.text(x=x, y=y, s=k, color=text_colors[k], **text_kwargs)\n",
    "                 for k, (x, y) in medians.items()]\n",
    "\n",
    "    adjust_text(texts, **adjust_kwargs)"
   ]
  },
  {
   "cell_type": "code",
   "execution_count": null,
   "id": "97897423-5e52-4a13-8c25-d92ac0758ac7",
   "metadata": {},
   "outputs": [],
   "source": [
    "cell_type_key = 'manual_labels'\n",
    "with plt.rc_context({\"figure.figsize\": (4, 4), \"figure.dpi\": 500, \"figure.frameon\": True}):\n",
    "    ax = mu.pl.umap(prera_tea, color=cell_type_key, show=False, palette=cluster_colors_32,\n",
    "                    legend_loc=None, frameon=False)\n",
    "    gen_mpl_labels(\n",
    "        prera_tea,\n",
    "        cell_type_key,\n",
    "        exclude=(\"None\",),  # This was before we had the `nan` behaviour\n",
    "        ax=ax,\n",
    "        adjust_kwargs=dict(arrowprops=dict(arrowstyle='-', color='black')),\n",
    "        text_kwargs=dict(fontsize=12  # , path_effects=[pe.withStroke(linewidth=1, foreground=\"darkgray\")]\n",
    "                         ),\n",
    "        color_by_group=False\n",
    "    )\n",
    "    ax.set_xlabel(\"WNN UMAP1\")\n",
    "    ax.set_ylabel(\"WNN UMAP2\")\n",
    "    ax.set_title('Cell types')\n",
    "    fig = ax.get_figure()\n",
    "    fig.tight_layout()\n",
    "    plt.show()\n",
    "    fig.savefig(fig_path+proj_name + '_3wnn_umap_manual_labels_repel.pdf')"
   ]
  },
  {
   "cell_type": "code",
   "execution_count": null,
   "id": "7362be98-5027-408f-98e6-e5d4203d9485",
   "metadata": {},
   "outputs": [],
   "source": [
    "prera_tea.write(\n",
    "    data_path + 'PreRA_teaseq_qc_filtered_cells_3modality_rmBR2024.h5mu')"
   ]
  },
  {
   "cell_type": "code",
   "execution_count": null,
   "id": "bbb99947-0d6b-4f70-81f7-42608fbcbc09",
   "metadata": {},
   "outputs": [],
   "source": [
    "prera_tea"
   ]
  },
  {
   "cell_type": "markdown",
   "id": "99560fec-df12-4ad5-a381-43422da87c3c",
   "metadata": {},
   "source": [
    "# susbet the dataset cd4 t cells"
   ]
  },
  {
   "cell_type": "code",
   "execution_count": null,
   "id": "f0e79f11-57c7-4ce4-8d8b-7deffb1ab01c",
   "metadata": {},
   "outputs": [],
   "source": [
    "prera_tea.obs.loc[prera_tea.obs.clean_l2_cell_types.str.contains(\n",
    "    'cd4|treg'), 'clean_l2_cell_types'].unique()"
   ]
  },
  {
   "cell_type": "code",
   "execution_count": null,
   "id": "4123003c-efc3-4f88-bde9-95921246e5c7",
   "metadata": {},
   "outputs": [],
   "source": [
    "prera_tea.obs.loc[prera_tea.obs.clean_l2_cell_types.str.contains(\n",
    "    'cd4|treg'), 'clean_l2_cell_types'].shape"
   ]
  },
  {
   "cell_type": "code",
   "execution_count": null,
   "id": "8c9614c3-2617-4409-8a7b-a7cd623d0169",
   "metadata": {},
   "outputs": [],
   "source": [
    "# load the metadata of cd4 t cells from h5seurat\n",
    "seurat_meta = pd.read_csv(\n",
    "    '/home/jupyter/data/preRA_teaseq/output_results/cd4_t/PreRA_teaseq_seurat_cd4_t_filtered_cells_rmBR2024_h5Seurat_metadata.csv')\n",
    "seurat_meta.shape"
   ]
  },
  {
   "cell_type": "code",
   "execution_count": null,
   "id": "d5be0184-06dc-4ea7-b0ad-83150e3ad219",
   "metadata": {},
   "outputs": [],
   "source": [
    "seurat_meta['barcodes'].isin(prera_tea.obs.index).value_counts()"
   ]
  },
  {
   "cell_type": "code",
   "execution_count": null,
   "id": "501734de-e607-4ad3-beb7-b628cdff5642",
   "metadata": {},
   "outputs": [],
   "source": [
    "# subset the cd4\n",
    "cd4_muon = prera_tea[prera_tea.obs.index.isin(seurat_meta['barcodes'])].copy()"
   ]
  },
  {
   "cell_type": "code",
   "execution_count": null,
   "id": "ebf1cf9c-82eb-4f27-803e-3f7d1d304d71",
   "metadata": {},
   "outputs": [],
   "source": [
    "cd4_muon"
   ]
  },
  {
   "cell_type": "code",
   "execution_count": null,
   "id": "3970713a-5b2d-45b1-a56c-62c8b3898599",
   "metadata": {},
   "outputs": [],
   "source": [
    "cd4_muon.write(data_path+'PreRA_teaseq_cd4_3modality.h5mu')"
   ]
  },
  {
   "cell_type": "markdown",
   "id": "31feb6b3-b092-4161-8886-1144eafafa29",
   "metadata": {},
   "source": [
    "# susbet the naive T cells"
   ]
  },
  {
   "cell_type": "code",
   "execution_count": 25,
   "id": "ef36dfb4-7a21-4ffa-b94d-858da3cbcf39",
   "metadata": {},
   "outputs": [
    {
     "data": {
      "text/plain": [
       "['cd4_naive', 'cd8_naive', 'naive_b_cells']\n",
       "Categories (35, object): ['activated_switched_memory_b_cells', 'b_cells_c9', 'cd4_ctl', 'cd4_memory', ..., 'switched_memory_b_cells', 't_proliferating', 'transitional_b_cells', 'treg']"
      ]
     },
     "execution_count": 25,
     "metadata": {},
     "output_type": "execute_result"
    }
   ],
   "source": [
    "prera_tea.obs.loc[prera_tea.obs.clean_l2_cell_types.str.contains(\n",
    "    'naive'), 'clean_l2_cell_types'].unique()"
   ]
  },
  {
   "cell_type": "code",
   "execution_count": null,
   "id": "3e524d53-064c-42e8-8efe-4219ace001a9",
   "metadata": {},
   "outputs": [],
   "source": [
    "prera_tea.obs.loc[prera_tea.obs.clean_l2_cell_types.str.contains(\n",
    "    'cd4|treg'), 'clean_l2_cell_types'].shape"
   ]
  },
  {
   "cell_type": "code",
   "execution_count": null,
   "id": "1e7fd0da-ebeb-46bc-b1b9-8d992b6bfe1d",
   "metadata": {},
   "outputs": [],
   "source": [
    "# load the metadata of cd4 t cells from h5seurat\n",
    "seurat_meta = pd.read_csv(\n",
    "    '/home/jupyter/data/preRA_teaseq/output_results/cd4_t/PreRA_teaseq_seurat_cd4_t_filtered_cells_rmBR2024_h5Seurat_metadata.csv')\n",
    "seurat_meta.shape"
   ]
  },
  {
   "cell_type": "code",
   "execution_count": null,
   "id": "ed3ea6da-905b-45e4-b41f-3afd81792af8",
   "metadata": {},
   "outputs": [],
   "source": [
    "seurat_meta['barcodes'].isin(prera_tea.obs.index).value_counts()"
   ]
  },
  {
   "cell_type": "code",
   "execution_count": null,
   "id": "f70137a9-63ac-4360-b2f6-03de8e4ebbe3",
   "metadata": {},
   "outputs": [],
   "source": [
    "# subset the cd4\n",
    "cd4_muon = prera_tea[prera_tea.obs.index.isin(seurat_meta['barcodes'])].copy()"
   ]
  },
  {
   "cell_type": "code",
   "execution_count": null,
   "id": "67e5af95-34ca-45c5-8361-c6e7c56fa7c7",
   "metadata": {},
   "outputs": [],
   "source": [
    "cd4_muon"
   ]
  },
  {
   "cell_type": "code",
   "execution_count": null,
   "id": "c4098d13-d68c-4e09-8553-40c59039b5d8",
   "metadata": {},
   "outputs": [],
   "source": [
    "cd4_muon.write(data_path+'PreRA_teaseq_cd4_3modality.h5mu')"
   ]
  },
  {
   "cell_type": "markdown",
   "id": "09ec59ab-7e17-43fe-9700-5b1727b15687",
   "metadata": {},
   "source": [
    "# test the multivi model"
   ]
  },
  {
   "cell_type": "code",
   "execution_count": null,
   "id": "de84180a-062a-4443-9fc3-a1d8b8fcbc5d",
   "metadata": {},
   "outputs": [],
   "source": [
    "prera_tea.write(data_path+'PreRA_teaseq_qc_filtered_cells_3modality.h5mu')"
   ]
  },
  {
   "cell_type": "code",
   "execution_count": null,
   "id": "e50c1391-3c92-4f55-aa3f-2642691552ed",
   "metadata": {},
   "outputs": [],
   "source": [
    "# ceate a new anndata dataset to have the format need for multivi"
   ]
  },
  {
   "cell_type": "code",
   "execution_count": null,
   "id": "df392904-c6b4-4a2b-b1a6-1a2b1cbb5f43",
   "metadata": {},
   "outputs": [],
   "source": [
    "prera_tea_rna = prera_tea.mod['RNA'].copy()"
   ]
  },
  {
   "cell_type": "code",
   "execution_count": null,
   "id": "988677d2-84fa-4e98-ac04-58481f27f2ff",
   "metadata": {},
   "outputs": [],
   "source": [
    "prera_tea_rna"
   ]
  },
  {
   "cell_type": "code",
   "execution_count": null,
   "id": "1ba02930-400b-4344-93ec-6bc9962c2ad9",
   "metadata": {},
   "outputs": [],
   "source": [
    "prera_tea.var[prera_tea.var.index.contains('ADT')]"
   ]
  },
  {
   "cell_type": "code",
   "execution_count": null,
   "id": "6dc5fb30-7b1e-49b5-a158-4846ff49b2de",
   "metadata": {},
   "outputs": [],
   "source": [
    "prera_tea.var.index"
   ]
  },
  {
   "cell_type": "markdown",
   "id": "832583fb-9827-4829-b331-ea8926f889a0",
   "metadata": {},
   "source": [
    "# plot B cells genes"
   ]
  },
  {
   "cell_type": "code",
   "execution_count": 12,
   "id": "c9792771-e27d-4079-ac63-c95d17ba4326",
   "metadata": {},
   "outputs": [
    {
     "data": {
      "text/plain": [
       "['cd4_naive',\n",
       " 'cd8_memory',\n",
       " 'treg',\n",
       " 'cd8_naive',\n",
       " 'cd4_memory',\n",
       " 'nk_cd56dim',\n",
       " 'naive_b_cells',\n",
       " 'cd14mono_sub_b',\n",
       " 't_proliferating',\n",
       " 'switched_memory_b_cells',\n",
       " 'myeloid_other',\n",
       " 'transitional_b_cells',\n",
       " 'cd4_ctl',\n",
       " 'int_mono',\n",
       " 'poor_performers',\n",
       " 'cd8_temra',\n",
       " 'nk_proliferating',\n",
       " 'cd14mono_sub_a',\n",
       " 'cd16mono',\n",
       " 'dn_t',\n",
       " 'nk_cd56hi',\n",
       " 'non_switched_memory_b_cells',\n",
       " 'mait',\n",
       " 'dcs',\n",
       " 'non_switched_effector_b_cells',\n",
       " 'plasma_cells',\n",
       " 'nk_like_t_nk',\n",
       " 'cd8_trm',\n",
       " 'b_cells_c9',\n",
       " 'nk_t',\n",
       " 'gd_t',\n",
       " 'cd14mono_other',\n",
       " 'hspcs',\n",
       " 'activated_switched_memory_b_cells',\n",
       " 'cd4_temra_like']"
      ]
     },
     "execution_count": 12,
     "metadata": {},
     "output_type": "execute_result"
    }
   ],
   "source": [
    "prera_tea.obs['clean_l2_cell_types'].unique().tolist()"
   ]
  },
  {
   "cell_type": "code",
   "execution_count": 13,
   "id": "5a2c6297-ffe5-4324-afba-98da7e8b1f53",
   "metadata": {},
   "outputs": [],
   "source": [
    "bna_tea = prera_tea[prera_tea.obs['clean_l2_cell_types'] == 'naive_b_cells']"
   ]
  },
  {
   "cell_type": "code",
   "execution_count": 14,
   "id": "eff858a4-a524-4fd8-85e6-509b0b34c8a7",
   "metadata": {},
   "outputs": [
    {
     "data": {
      "text/html": [
       "<pre>View of MuData object with n_obs × n_vars = 5755 × 674626\n",
       "  obs:\t&#x27;orig.ident&#x27;, &#x27;nCount_RNA&#x27;, &#x27;nFeature_RNA&#x27;, &#x27;barcodes&#x27;, &#x27;adt_qc_flag&#x27;, &#x27;adt_umis&#x27;, &#x27;batch_id&#x27;, &#x27;cell_name&#x27;, &#x27;chip_id&#x27;, &#x27;hto_barcode&#x27;, &#x27;hto_category&#x27;, &#x27;n_genes&#x27;, &#x27;n_mito_umis&#x27;, &#x27;n_reads&#x27;, &#x27;n_umis&#x27;, &#x27;original_barcodes&#x27;, &#x27;pbmc_sample_id&#x27;, &#x27;pool_id&#x27;, &#x27;rna_cell_uuid&#x27;, &#x27;seurat_pbmc_type&#x27;, &#x27;seurat_pbmc_type_score&#x27;, &#x27;umap_1&#x27;, &#x27;umap_2&#x27;, &#x27;well_id&#x27;, &#x27;nCount_ADT&#x27;, &#x27;nFeature_ADT&#x27;, &#x27;percent.mt&#x27;, &#x27;cluster ratio&#x27;, &#x27;subject_id&#x27;, &#x27;Ethnicity&#x27;, &#x27;Race&#x27;, &#x27;Birth Year&#x27;, &#x27;Sex&#x27;, &#x27;cohort&#x27;, &#x27;nCount_SCT&#x27;, &#x27;nFeature_SCT&#x27;, &#x27;SCT_snn_res.0.5&#x27;, &#x27;seurat_clusters&#x27;, &#x27;predicted.celltype.l1.score&#x27;, &#x27;predicted.celltype.l1&#x27;, &#x27;predicted.celltype.l2.score&#x27;, &#x27;predicted.celltype.l2&#x27;, &#x27;predicted.celltype.l3.score&#x27;, &#x27;predicted.celltype.l3&#x27;, &#x27;ADT_snn_res.0.5&#x27;, &#x27;atac_cell_id&#x27;, &#x27;n_mito&#x27;, &#x27;n_fragments&#x27;, &#x27;peaks_frac&#x27;, &#x27;altius_frac&#x27;, &#x27;DoubletScore&#x27;, &#x27;DoubletEnrichment&#x27;, &#x27;Clusters&#x27;, &#x27;iterative_lsi_number_umap_dimension_1&#x27;, &#x27;iterative_lsi_number_umap_dimension_2&#x27;, &#x27;nCount_Tiles&#x27;, &#x27;nFeature_Tiles&#x27;, &#x27;nCount_cleanadt&#x27;, &#x27;nFeature_cleanadt&#x27;, &#x27;cleanadt_snn_res.0.5&#x27;, &#x27;Tiles_snn_res.0.8&#x27;, &#x27;SCT.weight&#x27;, &#x27;ADT.weight&#x27;, &#x27;Tiles.weight&#x27;, &#x27;wsnn_res.0.5&#x27;, &#x27;wsnn_res.0.8&#x27;, &#x27;l1_cell_types&#x27;, &#x27;l2_cell_types&#x27;, &#x27;clean_l2_cell_types&#x27;, &#x27;nCount_rna&#x27;, &#x27;nFeature_rna&#x27;, &#x27;immunehealth_l1&#x27;, &#x27;immunehealth_l1_conf_score&#x27;, &#x27;immunehealth_l2&#x27;, &#x27;immunehealth_l2_conf_score&#x27;, &#x27;immunehealth_l3&#x27;, &#x27;immunehealth_l3_conf_score&#x27;, &#x27;leiden_wnn_0_5&#x27;, &#x27;manual_labels&#x27;\n",
       "  obsm:\t&#x27;X_umap&#x27;\n",
       "  obsp:\t&#x27;wnn_connectivities&#x27;, &#x27;wnn_distances&#x27;\n",
       "  3 modalities\n",
       "    rna:\t5755 x 36601\n",
       "      obs:\t&#x27;log10umi&#x27;, &#x27;n_genes_by_counts&#x27;, &#x27;total_counts&#x27;, &#x27;total_counts_mt&#x27;, &#x27;pct_counts_mt&#x27;, &#x27;leiden&#x27;, &#x27;predicted_labels&#x27;, &#x27;conf_score&#x27;, &#x27;majority_voting&#x27;, &#x27;over_clustering&#x27;\n",
       "      var:\t&#x27;mt&#x27;, &#x27;n_cells_by_counts&#x27;, &#x27;mean_counts&#x27;, &#x27;pct_dropout_by_counts&#x27;, &#x27;total_counts&#x27;, &#x27;highly_variable&#x27;, &#x27;means&#x27;, &#x27;dispersions&#x27;, &#x27;dispersions_norm&#x27;, &#x27;mean&#x27;, &#x27;std&#x27;\n",
       "      uns:\t&#x27;Archr_naive_wilcoxon&#x27;, &#x27;clean_l2_cell_types_colors&#x27;, &#x27;cohort_colors&#x27;, &#x27;dendrogram_leiden&#x27;, &#x27;hvg&#x27;, &#x27;immunehealth_l1_colors&#x27;, &#x27;immunehealth_l2_colors&#x27;, &#x27;immunehealth_l3_colors&#x27;, &#x27;leiden&#x27;, &#x27;leiden_colors&#x27;, &#x27;leiden_wilcoxon&#x27;, &#x27;leiden_wilcoxon_C10vsC0&#x27;, &#x27;log1p&#x27;, &#x27;neighbors&#x27;, &#x27;pca&#x27;, &#x27;rna:leiden_colors&#x27;, &#x27;umap&#x27;\n",
       "      obsm:\t&#x27;X_pca&#x27;, &#x27;X_umap&#x27;\n",
       "      varm:\t&#x27;PCs&#x27;\n",
       "      layers:\t&#x27;counts&#x27;\n",
       "      obsp:\t&#x27;connectivities&#x27;, &#x27;distances&#x27;\n",
       "    prot:\t5755 x 166\n",
       "      var:\t&#x27;highly_variable&#x27;, &#x27;means&#x27;, &#x27;dispersions&#x27;, &#x27;dispersions_norm&#x27;\n",
       "      uns:\t&#x27;clean_l2_cell_types_colors&#x27;, &#x27;hvg&#x27;, &#x27;immunehealth_l1_colors&#x27;, &#x27;immunehealth_l2_colors&#x27;, &#x27;immunehealth_l3_colors&#x27;, &#x27;l2_cell_types_colors&#x27;, &#x27;neighbors&#x27;, &#x27;pca&#x27;, &#x27;umap&#x27;\n",
       "      obsm:\t&#x27;X_pca&#x27;, &#x27;X_umap&#x27;\n",
       "      varm:\t&#x27;PCs&#x27;\n",
       "      layers:\t&#x27;counts&#x27;, &#x27;dsb&#x27;\n",
       "      obsp:\t&#x27;connectivities&#x27;, &#x27;distances&#x27;\n",
       "    atac:\t5755 x 637859\n",
       "      obs:\t&#x27;altius_count&#x27;, &#x27;altius_frac&#x27;, &#x27;barcodes&#x27;, &#x27;batch_id&#x27;, &#x27;BlacklistRatio&#x27;, &#x27;cell_name&#x27;, &#x27;chip_id&#x27;, &#x27;DoubletEnrichment&#x27;, &#x27;DoubletScore&#x27;, &#x27;gene_bodies_count&#x27;, &#x27;gene_bodies_frac&#x27;, &#x27;Gex_MitoRatio&#x27;, &#x27;Gex_nGenes&#x27;, &#x27;Gex_nUMI&#x27;, &#x27;Gex_RiboRatio&#x27;, &#x27;n_duplicate&#x27;, &#x27;n_fragments&#x27;, &#x27;n_mito&#x27;, &#x27;n_unique&#x27;, &#x27;nDiFrags&#x27;, &#x27;nFrags&#x27;, &#x27;nMonoFrags&#x27;, &#x27;nMultiFrags&#x27;, &#x27;NucleosomeRatio&#x27;, &#x27;original_barcodes&#x27;, &#x27;PassQC&#x27;, &#x27;pbmc_sample_id&#x27;, &#x27;peaks_count&#x27;, &#x27;peaks_frac&#x27;, &#x27;pool_id&#x27;, &#x27;PromoterRatio&#x27;, &#x27;ReadsInBlacklist&#x27;, &#x27;ReadsInPromoter&#x27;, &#x27;ReadsInTSS&#x27;, &#x27;singlet&#x27;, &#x27;tss_count&#x27;, &#x27;tss_frac&#x27;, &#x27;TSSEnrichment&#x27;, &#x27;well_id&#x27;, &#x27;Clusters&#x27;, &#x27;subject_id&#x27;, &#x27;cohort&#x27;, &#x27;Birth.Year&#x27;, &#x27;Sex&#x27;, &#x27;wsnn_res.0.5&#x27;, &#x27;l1_cell_types&#x27;, &#x27;l2_cell_types&#x27;, &#x27;clean_l2_cell_types&#x27;, &#x27;ReadsInPeaks&#x27;, &#x27;FRIP&#x27;, &#x27;MochaPeak_clusters_1&#x27;, &#x27;n_genes_by_counts&#x27;, &#x27;total_counts&#x27;, &#x27;leiden&#x27;\n",
       "      var:\t&#x27;n_cells_by_counts&#x27;, &#x27;mean_counts&#x27;, &#x27;pct_dropout_by_counts&#x27;, &#x27;total_counts&#x27;\n",
       "      uns:\t&#x27;X_name&#x27;, &#x27;leiden&#x27;, &#x27;neighbors&#x27;, &#x27;umap&#x27;\n",
       "      obsm:\t&#x27;X_LSI&#x27;, &#x27;X_umap&#x27;\n",
       "      obsp:\t&#x27;connectivities&#x27;, &#x27;distances&#x27;</pre>"
      ],
      "text/plain": [
       "View of MuData object with n_obs × n_vars = 5755 × 674626\n",
       "  obs:\t'orig.ident', 'nCount_RNA', 'nFeature_RNA', 'barcodes', 'adt_qc_flag', 'adt_umis', 'batch_id', 'cell_name', 'chip_id', 'hto_barcode', 'hto_category', 'n_genes', 'n_mito_umis', 'n_reads', 'n_umis', 'original_barcodes', 'pbmc_sample_id', 'pool_id', 'rna_cell_uuid', 'seurat_pbmc_type', 'seurat_pbmc_type_score', 'umap_1', 'umap_2', 'well_id', 'nCount_ADT', 'nFeature_ADT', 'percent.mt', 'cluster ratio', 'subject_id', 'Ethnicity', 'Race', 'Birth Year', 'Sex', 'cohort', 'nCount_SCT', 'nFeature_SCT', 'SCT_snn_res.0.5', 'seurat_clusters', 'predicted.celltype.l1.score', 'predicted.celltype.l1', 'predicted.celltype.l2.score', 'predicted.celltype.l2', 'predicted.celltype.l3.score', 'predicted.celltype.l3', 'ADT_snn_res.0.5', 'atac_cell_id', 'n_mito', 'n_fragments', 'peaks_frac', 'altius_frac', 'DoubletScore', 'DoubletEnrichment', 'Clusters', 'iterative_lsi_number_umap_dimension_1', 'iterative_lsi_number_umap_dimension_2', 'nCount_Tiles', 'nFeature_Tiles', 'nCount_cleanadt', 'nFeature_cleanadt', 'cleanadt_snn_res.0.5', 'Tiles_snn_res.0.8', 'SCT.weight', 'ADT.weight', 'Tiles.weight', 'wsnn_res.0.5', 'wsnn_res.0.8', 'l1_cell_types', 'l2_cell_types', 'clean_l2_cell_types', 'nCount_rna', 'nFeature_rna', 'immunehealth_l1', 'immunehealth_l1_conf_score', 'immunehealth_l2', 'immunehealth_l2_conf_score', 'immunehealth_l3', 'immunehealth_l3_conf_score', 'leiden_wnn_0_5', 'manual_labels'\n",
       "  obsm:\t'X_umap'\n",
       "  obsp:\t'wnn_connectivities', 'wnn_distances'\n",
       "  3 modalities\n",
       "    rna:\t5755 x 36601\n",
       "      obs:\t'log10umi', 'n_genes_by_counts', 'total_counts', 'total_counts_mt', 'pct_counts_mt', 'leiden', 'predicted_labels', 'conf_score', 'majority_voting', 'over_clustering'\n",
       "      var:\t'mt', 'n_cells_by_counts', 'mean_counts', 'pct_dropout_by_counts', 'total_counts', 'highly_variable', 'means', 'dispersions', 'dispersions_norm', 'mean', 'std'\n",
       "      uns:\t'Archr_naive_wilcoxon', 'clean_l2_cell_types_colors', 'cohort_colors', 'dendrogram_leiden', 'hvg', 'immunehealth_l1_colors', 'immunehealth_l2_colors', 'immunehealth_l3_colors', 'leiden', 'leiden_colors', 'leiden_wilcoxon', 'leiden_wilcoxon_C10vsC0', 'log1p', 'neighbors', 'pca', 'rna:leiden_colors', 'umap'\n",
       "      obsm:\t'X_pca', 'X_umap'\n",
       "      varm:\t'PCs'\n",
       "      layers:\t'counts'\n",
       "      obsp:\t'connectivities', 'distances'\n",
       "    prot:\t5755 x 166\n",
       "      var:\t'highly_variable', 'means', 'dispersions', 'dispersions_norm'\n",
       "      uns:\t'clean_l2_cell_types_colors', 'hvg', 'immunehealth_l1_colors', 'immunehealth_l2_colors', 'immunehealth_l3_colors', 'l2_cell_types_colors', 'neighbors', 'pca', 'umap'\n",
       "      obsm:\t'X_pca', 'X_umap'\n",
       "      varm:\t'PCs'\n",
       "      layers:\t'counts', 'dsb'\n",
       "      obsp:\t'connectivities', 'distances'\n",
       "    atac:\t5755 x 637859\n",
       "      obs:\t'altius_count', 'altius_frac', 'barcodes', 'batch_id', 'BlacklistRatio', 'cell_name', 'chip_id', 'DoubletEnrichment', 'DoubletScore', 'gene_bodies_count', 'gene_bodies_frac', 'Gex_MitoRatio', 'Gex_nGenes', 'Gex_nUMI', 'Gex_RiboRatio', 'n_duplicate', 'n_fragments', 'n_mito', 'n_unique', 'nDiFrags', 'nFrags', 'nMonoFrags', 'nMultiFrags', 'NucleosomeRatio', 'original_barcodes', 'PassQC', 'pbmc_sample_id', 'peaks_count', 'peaks_frac', 'pool_id', 'PromoterRatio', 'ReadsInBlacklist', 'ReadsInPromoter', 'ReadsInTSS', 'singlet', 'tss_count', 'tss_frac', 'TSSEnrichment', 'well_id', 'Clusters', 'subject_id', 'cohort', 'Birth.Year', 'Sex', 'wsnn_res.0.5', 'l1_cell_types', 'l2_cell_types', 'clean_l2_cell_types', 'ReadsInPeaks', 'FRIP', 'MochaPeak_clusters_1', 'n_genes_by_counts', 'total_counts', 'leiden'\n",
       "      var:\t'n_cells_by_counts', 'mean_counts', 'pct_dropout_by_counts', 'total_counts'\n",
       "      uns:\t'X_name', 'leiden', 'neighbors', 'umap'\n",
       "      obsm:\t'X_LSI', 'X_umap'\n",
       "      obsp:\t'connectivities', 'distances'"
      ]
     },
     "execution_count": 14,
     "metadata": {},
     "output_type": "execute_result"
    }
   ],
   "source": [
    "bna_tea"
   ]
  },
  {
   "cell_type": "code",
   "execution_count": 15,
   "id": "b9ea2023-7654-44d7-a97c-1a2635bac0d4",
   "metadata": {},
   "outputs": [
    {
     "name": "stderr",
     "output_type": "stream",
     "text": [
      "/tmp/ipykernel_1196/3244828500.py:1: ImplicitModificationWarning: Trying to modify attribute `.obs` of view, initializing view as actual.\n",
      "  bna_tea['rna'].obs['cohort']=bna_tea.obs['cohort']\n",
      "/tmp/ipykernel_1196/3244828500.py:2: FutureWarning: The behavior of Series.replace (and DataFrame.replace) with CategoricalDtype is deprecated. In a future version, replace will only be used for cases that preserve the categories. To change the categories, use ser.cat.rename_categories instead.\n",
      "  bna_tea['rna'].obs['status'] = bna_tea['rna'].obs['cohort'].replace({'Healthy': 'Control2', 'pre-RA': 'ARI'})\n"
     ]
    }
   ],
   "source": [
    "bna_tea['rna'].obs['cohort'] = bna_tea.obs['cohort']\n",
    "bna_tea['rna'].obs['status'] = bna_tea['rna'].obs['cohort'].replace(\n",
    "    {'Healthy': 'Control2', 'pre-RA': 'ARI'})"
   ]
  },
  {
   "cell_type": "code",
   "execution_count": 16,
   "id": "94ad0b5f-6326-4768-a526-eee2d94cee69",
   "metadata": {},
   "outputs": [
    {
     "name": "stderr",
     "output_type": "stream",
     "text": [
      "/tmp/ipykernel_1196/3263936273.py:1: FutureWarning: The behavior of Series.replace (and DataFrame.replace) with CategoricalDtype is deprecated. In a future version, replace will only be used for cases that preserve the categories. To change the categories, use ser.cat.rename_categories instead.\n",
      "  bna_tea['rna'].obs['cohort'].replace({'Healthy': 'Control2', 'pre-RA': 'ARI'})\n"
     ]
    },
    {
     "data": {
      "text/plain": [
       "bd6c2cd2867611ec8396aea599a86ab5         ARI\n",
       "bebfd250867611ec8396aea599a86ab5         ARI\n",
       "becfd45c867611ec8396aea599a86ab5         ARI\n",
       "bf0e7be4867611ec8396aea599a86ab5         ARI\n",
       "bfae8d28867611ec8396aea599a86ab5         ARI\n",
       "                                      ...   \n",
       "660ca306867911ecb648ee55e4236e76    Control2\n",
       "6620fcde867911ecb648ee55e4236e76    Control2\n",
       "66e2b82e867911ecb648ee55e4236e76    Control2\n",
       "671b95cc867911ecb648ee55e4236e76    Control2\n",
       "67891f98867911ecb648ee55e4236e76    Control2\n",
       "Name: cohort, Length: 5755, dtype: category\n",
       "Categories (2, object): ['Control2', 'ARI']"
      ]
     },
     "execution_count": 16,
     "metadata": {},
     "output_type": "execute_result"
    }
   ],
   "source": [
    "bna_tea['rna'].obs['cohort'].replace({'Healthy': 'Control2', 'pre-RA': 'ARI'})"
   ]
  },
  {
   "cell_type": "code",
   "execution_count": 24,
   "id": "1c7a89be-c60a-4674-b5cf-7aee9ff3a8ef",
   "metadata": {},
   "outputs": [
    {
     "name": "stdout",
     "output_type": "stream",
     "text": [
      "WARNING: saving figure to file /home/jupyter/data/preRA_teaseq/EXP-00243/totalVI/figures/violinPreRA_TEASeq_Bnaive_TLR9_violin.pdf\n"
     ]
    },
    {
     "name": "stderr",
     "output_type": "stream",
     "text": [
      "/home/jupyter/libs/muon/lib/python3.10/site-packages/seaborn/categorical.py:641: FutureWarning: The default of observed=False is deprecated and will be changed to True in a future version of pandas. Pass observed=False to retain current behavior or observed=True to adopt the future default and silence this warning.\n",
      "  grouped_vals = vals.groupby(grouper)\n",
      "/home/jupyter/libs/muon/lib/python3.10/site-packages/seaborn/_oldcore.py:1119: FutureWarning: use_inf_as_na option is deprecated and will be removed in a future version. Convert inf values to NaN before operating instead.\n",
      "  with pd.option_context('mode.use_inf_as_na', True):\n",
      "/home/jupyter/libs/muon/lib/python3.10/site-packages/seaborn/_oldcore.py:1119: FutureWarning: use_inf_as_na option is deprecated and will be removed in a future version. Convert inf values to NaN before operating instead.\n",
      "  with pd.option_context('mode.use_inf_as_na', True):\n",
      "/home/jupyter/libs/muon/lib/python3.10/site-packages/seaborn/_oldcore.py:1075: FutureWarning: When grouping with a length-1 list-like, you will need to pass a length-1 tuple to get_group in a future version of pandas. Pass `(name,)` instead of `name` to silence this warning.\n",
      "  data_subset = grouped_data.get_group(pd_key)\n",
      "/home/jupyter/libs/muon/lib/python3.10/site-packages/seaborn/categorical.py:641: FutureWarning: The default of observed=False is deprecated and will be changed to True in a future version of pandas. Pass observed=False to retain current behavior or observed=True to adopt the future default and silence this warning.\n",
      "  grouped_vals = vals.groupby(grouper)\n",
      "/home/jupyter/libs/muon/lib/python3.10/site-packages/seaborn/_oldcore.py:1119: FutureWarning: use_inf_as_na option is deprecated and will be removed in a future version. Convert inf values to NaN before operating instead.\n",
      "  with pd.option_context('mode.use_inf_as_na', True):\n",
      "/home/jupyter/libs/muon/lib/python3.10/site-packages/seaborn/_oldcore.py:1119: FutureWarning: use_inf_as_na option is deprecated and will be removed in a future version. Convert inf values to NaN before operating instead.\n",
      "  with pd.option_context('mode.use_inf_as_na', True):\n",
      "/home/jupyter/libs/muon/lib/python3.10/site-packages/seaborn/_oldcore.py:1075: FutureWarning: When grouping with a length-1 list-like, you will need to pass a length-1 tuple to get_group in a future version of pandas. Pass `(name,)` instead of `name` to silence this warning.\n",
      "  data_subset = grouped_data.get_group(pd_key)\n"
     ]
    },
    {
     "data": {
      "image/png": "[encoded data removed]",
      "text/plain": [
       "<Figure size 930.6x400 with 2 Axes>"
      ]
     },
     "metadata": {
      "image/png": {
       "height": 377,
       "width": 731
      }
     },
     "output_type": "display_data"
    }
   ],
   "source": [
    "sc.pl.violin(bna_tea['rna'], keys=['TLR9', 'CD40'], groupby='status', save=proj_name+'Bnaive_TLR9_violin.pdf'\n",
    "             )"
   ]
  },
  {
   "cell_type": "code",
   "execution_count": null,
   "id": "036d1c22-1b47-4f91-b996-2e02d17cd423",
   "metadata": {},
   "outputs": [],
   "source": []
  },
  {
   "cell_type": "code",
   "execution_count": null,
   "id": "17e86858-7ce8-4b20-85e2-f1f34f80b2d5",
   "metadata": {},
   "outputs": [],
   "source": []
  }
 ],
 "metadata": {
  "kernelspec": {
   "display_name": "muon",
   "language": "python",
   "name": "muon"
  },
  "language_info": {
   "codemirror_mode": {
    "name": "ipython",
    "version": 3
   },
   "file_extension": ".py",
   "mimetype": "text/x-python",
   "name": "python",
   "nbconvert_exporter": "python",
   "pygments_lexer": "ipython3",
   "version": "3.10.11"
  }
 },
 "nbformat": 4,
 "nbformat_minor": 5
}
