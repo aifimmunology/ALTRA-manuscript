{
 "cells": [
  {
   "cell_type": "markdown",
   "metadata": {
    "tags": []
   },
   "source": [
    "# Setup"
   ]
  },
  {
   "cell_type": "code",
   "execution_count": 1,
   "metadata": {
    "vscode": {
     "languageId": "r"
    }
   },
   "outputs": [
    {
     "name": "stderr",
     "output_type": "stream",
     "text": [
      "\n",
      "                                                   / |\n",
      "                                                 /    \\\n",
      "            .                                  /      |.\n",
      "            \\\\\\                              /        |.\n",
      "              \\\\\\                          /           `|.\n",
      "                \\\\\\                      /              |.\n",
      "                  \\                    /                |\\\n",
      "                  \\\\#####\\           /                  ||\n",
      "                ==###########>      /                   ||\n",
      "                 \\\\##==......\\    /                     ||\n",
      "            ______ =       =|__ /__                     ||      \\\\\\\n",
      "        ,--' ,----`-,__ ___/'  --,-`-===================##========>\n",
      "       \\               '        ##_______ _____ ,--,__,=##,__   ///\n",
      "        ,    __==    ___,-,__,--'#'  ==='      `-'    | ##,-/\n",
      "        -,____,---'       \\\\####\\\\________________,--\\\\_##,/\n",
      "           ___      .______        ______  __    __  .______      \n",
      "          /   \\     |   _  \\      /      ||  |  |  | |   _  \\     \n",
      "         /  ^  \\    |  |_)  |    |  ,----'|  |__|  | |  |_)  |    \n",
      "        /  /_\\  \\   |      /     |  |     |   __   | |      /     \n",
      "       /  _____  \\  |  |\\  \\\\___ |  `----.|  |  |  | |  |\\  \\\\___.\n",
      "      /__/     \\__\\ | _| `._____| \\______||__|  |__| | _| `._____|\n",
      "    \n",
      "\n"
     ]
    }
   ],
   "source": [
    "quiet_library <- function(...) {\n",
    "    suppressPackageStartupMessages(library(...))\n",
    "}\n",
    "quiet_library(Seurat)\n",
    "quiet_library(tidyverse)\n",
    "quiet_library(H5weaver)\n",
    "quiet_library(dplyr)\n",
    "quiet_library(viridis)\n",
    "quiet_library(harmony)\n",
    "quiet_library(Nebulosa)\n",
    "quiet_library(future)\n",
    "quiet_library(future.apply)\n",
    "# quiet_library(dittoSeq)\n",
    "quiet_library(\"ArchR\")\n",
    "# quiet_library('ggpubr')\n",
    "quiet_library(\"rstatix\")\n",
    "quiet_library(\"chromVAR\")\n",
    "# quiet_library('scCustomize')\n"
   ]
  },
  {
   "cell_type": "code",
   "execution_count": 2,
   "metadata": {
    "vscode": {
     "languageId": "r"
    }
   },
   "outputs": [],
   "source": [
    "# Load scMACS and accompanying libraries\n",
    "quiet_library(MOCHA)\n",
    "quiet_library(data.table)\n",
    "quiet_library(GenomicRanges)\n",
    "quiet_library(plyranges)\n"
   ]
  },
  {
   "cell_type": "code",
   "execution_count": 3,
   "metadata": {
    "vscode": {
     "languageId": "r"
    }
   },
   "outputs": [
    {
     "data": {
      "text/plain": [
       "[1] ‘1.1.0’"
      ]
     },
     "metadata": {},
     "output_type": "display_data"
    }
   ],
   "source": [
    "packageVersion(\"MOCHA\")\n"
   ]
  },
  {
   "cell_type": "code",
   "execution_count": 4,
   "metadata": {
    "scrolled": true,
    "vscode": {
     "languageId": "r"
    }
   },
   "outputs": [
    {
     "name": "stderr",
     "output_type": "stream",
     "text": [
      "Loading required package: GenomicFeatures\n",
      "\n",
      "Loading required package: AnnotationDbi\n",
      "\n",
      "\n",
      "Attaching package: ‘AnnotationDbi’\n",
      "\n",
      "\n",
      "The following object is masked from ‘package:plyranges’:\n",
      "\n",
      "    select\n",
      "\n",
      "\n",
      "The following object is masked from ‘package:rstatix’:\n",
      "\n",
      "    select\n",
      "\n",
      "\n",
      "The following object is masked from ‘package:dplyr’:\n",
      "\n",
      "    select\n",
      "\n",
      "\n",
      "Loading required package: BSgenome\n",
      "\n",
      "Loading required package: Biostrings\n",
      "\n",
      "Loading required package: XVector\n",
      "\n",
      "\n",
      "Attaching package: ‘XVector’\n",
      "\n",
      "\n",
      "The following object is masked from ‘package:plyr’:\n",
      "\n",
      "    compact\n",
      "\n",
      "\n",
      "The following object is masked from ‘package:purrr’:\n",
      "\n",
      "    compact\n",
      "\n",
      "\n",
      "\n",
      "Attaching package: ‘Biostrings’\n",
      "\n",
      "\n",
      "The following object is masked from ‘package:grid’:\n",
      "\n",
      "    pattern\n",
      "\n",
      "\n",
      "The following object is masked from ‘package:base’:\n",
      "\n",
      "    strsplit\n",
      "\n",
      "\n",
      "Loading required package: BiocIO\n",
      "\n",
      "Loading required package: rtracklayer\n",
      "\n",
      "\n",
      "Attaching package: ‘rtracklayer’\n",
      "\n",
      "\n",
      "The following object is masked from ‘package:BiocIO’:\n",
      "\n",
      "    FileForFormat\n",
      "\n",
      "\n",
      "\n",
      "\n"
     ]
    }
   ],
   "source": [
    "# Define your annotation package for TxDb object(s)\n",
    "# and genome-wide annotation\n",
    "# Here our samples are human using hg38 as a reference.\n",
    "# For more info: https://bioconductor.org/packages/3.15/data/annotation/\n",
    "library(TxDb.Hsapiens.UCSC.hg38.refGene)\n",
    "library(BSgenome.Hsapiens.UCSC.hg38)\n",
    "library(org.Hs.eg.db)\n",
    "TxDb <- TxDb.Hsapiens.UCSC.hg38.refGene\n",
    "Org <- org.Hs.eg.db\n"
   ]
  },
  {
   "cell_type": "code",
   "execution_count": 5,
   "metadata": {
    "vscode": {
     "languageId": "r"
    }
   },
   "outputs": [
    {
     "data": {
      "text/html": [
       "<strong>system:</strong> 16"
      ],
      "text/latex": [
       "\\textbf{system:} 16"
      ],
      "text/markdown": [
       "**system:** 16"
      ],
      "text/plain": [
       "system \n",
       "    16 "
      ]
     },
     "metadata": {},
     "output_type": "display_data"
    }
   ],
   "source": [
    "# Check number of cores\n",
    "future::availableCores()\n",
    "# Set up parallel processing to run when using 'future' functions\n",
    "future::plan(strategy = \"multicore\", workers = future::availableCores() - 3)\n",
    "options(future.globals.maxSize = 1000 * 1024^5)\n",
    "# to turn off parallel processing run line below\n",
    "# future::plan(strategy = \"sequential\")\n"
   ]
  },
  {
   "cell_type": "code",
   "execution_count": 6,
   "metadata": {
    "vscode": {
     "languageId": "r"
    }
   },
   "outputs": [],
   "source": [
    "# define working path\n",
    "data_path <- \"/home/jupyter/data/preRA_teaseq/EXP-00243\"\n",
    "meta_path <- \"/home/jupyter/data/preRA_teaseq/meta_data\"\n",
    "output_path <- \"/home/jupyter/data/preRA_teaseq/output_results/cd4_t/atac\"\n",
    "fig_path <- \"/home/jupyter/data/preRA_teaseq/EXP-00243/cd4t_cells/Plots\"\n",
    "if (!dir.exists(fig_path)) (dir.create(fig_path, recursive = TRUE))\n",
    "if (!dir.exists(output_path)) (dir.create(output_path, recursive = TRUE))\n",
    "# define a project name\n",
    "proj_name <- \"PreRA_teaseq_cd4_t_atac\"\n"
   ]
  },
  {
   "cell_type": "code",
   "execution_count": 7,
   "metadata": {
    "vscode": {
     "languageId": "r"
    }
   },
   "outputs": [],
   "source": [
    "# define the color palette to be used\n",
    "npg_color <- c(\n",
    "    \"#E64B35FF\", \"#4DBBD5FF\", \"#00A087FF\", \"#3C5488FF\", \"#F39B7FFF\",\n",
    "    \"#8491B4FF\", \"#91D1C2FF\", \"#DC0000FF\", \"#7E6148FF\", \"#B09C85FF\"\n",
    ")\n",
    "nejm_color <- c(\"#BC3C29FF\", \"#0072B5FF\", \"#E18727FF\", \"#20854EFF\", \"#7876B1FF\", \"#6F99ADFF\", \"#FFDC91FF\", \"#EE4C97FF\")\n",
    "jama_color <- c(\"#374E55FF\", \"#DF8F44FF\", \"#00A1D5FF\", \"#B24745FF\", \"#79AF97FF\", \"#6A6599FF\", \"#80796BFF\")\n",
    "jco_color <- c(\"#0073C2FF\", \"#EFC000FF\", \"#868686FF\", \"#CD534CFF\", \"#7AA6DCFF\", \"#003C67FF\", \"#8F7700FF\")\n",
    "cluster_colors <- c(\n",
    "    \"#DC050C\", \"#FB8072\", \"#1965B0\", \"#7BAFDE\", \"#882E72\", \"#B17BA6\", \"#FF7F00\", \"#FDB462\", \"#E7298A\",\n",
    "    \"#E78AC3\", \"#33A02C\", \"#B2DF8A\", \"#55A1B1\", \"#8DD3C7\", \"#A6761D\", \"#E6AB02\", \"#7570B3\", \"#BEAED4\", \"#666666\", \"#999999\",\n",
    "    \"#aa8282\", \"#d4b7b7\", \"#8600bf\", \"#ba5ce3\", \"#808000\", \"#aeae5c\", \"#1e90ff\", \"#00bfff\", \"#56ff0d\", \"#ffff00\"\n",
    ")\n",
    "cluster_colors_ext <- colorRampPalette(cluster_colors)(36)\n",
    "options(repr.plot.width = 20, repr.plot.height = 15)\n"
   ]
  },
  {
   "cell_type": "code",
   "execution_count": 8,
   "metadata": {
    "vscode": {
     "languageId": "r"
    }
   },
   "outputs": [],
   "source": [
    "source(\"/home/jupyter/github/Teaseq-analysis/scRNA_teaseq_ananlysis_helper_functions.r\")\n"
   ]
  },
  {
   "cell_type": "code",
   "execution_count": 9,
   "metadata": {
    "vscode": {
     "languageId": "r"
    }
   },
   "outputs": [
    {
     "name": "stderr",
     "output_type": "stream",
     "text": [
      "Connection changed to https://maayanlab.cloud/Enrichr/\n",
      "\n",
      "Connection is Live!\n",
      "\n"
     ]
    }
   ],
   "source": [
    "# pathway analysis with enrichR\n",
    "quiet_library(enrichR)\n",
    "setEnrichrSite(\"Enrichr\")\n",
    "dbs <- listEnrichrDbs()\n",
    "# %% codecell|\n"
   ]
  },
  {
   "cell_type": "markdown",
   "metadata": {},
   "source": [
    "## Load data"
   ]
  },
  {
   "cell_type": "code",
   "execution_count": 10,
   "metadata": {
    "vscode": {
     "languageId": "r"
    }
   },
   "outputs": [],
   "source": [
    "# load the seurat object\n",
    "# ra_tea_cd4 <- readRDS(file.path(data_path, 'PreRA_teaseq_seurat_cd4_t_filtered_cells_rmBR2024.rds'))\n"
   ]
  },
  {
   "cell_type": "code",
   "execution_count": 11,
   "metadata": {
    "vscode": {
     "languageId": "r"
    }
   },
   "outputs": [
    {
     "name": "stderr",
     "output_type": "stream",
     "text": [
      "Input threads is equal to or greater than ncores minus 1 (15)\n",
      "Setting cores to ncores minus 2. Set force = TRUE to set above this number!\n",
      "\n",
      "Setting default number of Parallel threads to 14.\n",
      "\n",
      "Setting default genome to Hg38.\n",
      "\n"
     ]
    }
   ],
   "source": [
    "# set ArchR parameters\n",
    "addArchRThreads(threads = 55)\n",
    "addArchRGenome(\"hg38\")\n",
    "set.seed(1221)\n"
   ]
  },
  {
   "cell_type": "code",
   "execution_count": 22,
   "metadata": {
    "vscode": {
     "languageId": "r"
    }
   },
   "outputs": [
    {
     "name": "stderr",
     "output_type": "stream",
     "text": [
      "Successfully loaded ArchRProject!\n",
      "\n",
      "\n",
      "                                                   / |\n",
      "                                                 /    \\\n",
      "            .                                  /      |.\n",
      "            \\\\\\                              /        |.\n",
      "              \\\\\\                          /           `|.\n",
      "                \\\\\\                      /              |.\n",
      "                  \\                    /                |\\\n",
      "                  \\\\#####\\           /                  ||\n",
      "                ==###########>      /                   ||\n",
      "                 \\\\##==......\\    /                     ||\n",
      "            ______ =       =|__ /__                     ||      \\\\\\\n",
      "        ,--' ,----`-,__ ___/'  --,-`-===================##========>\n",
      "       \\               '        ##_______ _____ ,--,__,=##,__   ///\n",
      "        ,    __==    ___,-,__,--'#'  ==='      `-'    | ##,-/\n",
      "        -,____,---'       \\\\####\\\\________________,--\\\\_##,/\n",
      "           ___      .______        ______  __    __  .______      \n",
      "          /   \\     |   _  \\      /      ||  |  |  | |   _  \\     \n",
      "         /  ^  \\    |  |_)  |    |  ,----'|  |__|  | |  |_)  |    \n",
      "        /  /_\\  \\   |      /     |  |     |   __   | |      /     \n",
      "       /  _____  \\  |  |\\  \\\\___ |  `----.|  |  |  | |  |\\  \\\\___.\n",
      "      /__/     \\__\\ | _| `._____| \\______||__|  |__| | _| `._____|\n",
      "    \n",
      "\n"
     ]
    }
   ],
   "source": [
    "# load ATAC\n",
    "# load the ArchR project for CD4 t cells\n",
    "cd4t_atac <- loadArchRProject(path = \"/home/jupyter/data/preRA_teaseq/EXP-00243/cd4t_cells\")\n"
   ]
  },
  {
   "cell_type": "code",
   "execution_count": 23,
   "metadata": {
    "vscode": {
     "languageId": "r"
    }
   },
   "outputs": [
    {
     "name": "stderr",
     "output_type": "stream",
     "text": [
      "\n",
      "           ___      .______        ______  __    __  .______      \n",
      "          /   \\     |   _  \\      /      ||  |  |  | |   _  \\     \n",
      "         /  ^  \\    |  |_)  |    |  ,----'|  |__|  | |  |_)  |    \n",
      "        /  /_\\  \\   |      /     |  |     |   __   | |      /     \n",
      "       /  _____  \\  |  |\\  \\\\___ |  `----.|  |  |  | |  |\\  \\\\___.\n",
      "      /__/     \\__\\ | _| `._____| \\______||__|  |__| | _| `._____|\n",
      "    \n",
      "\n"
     ]
    },
    {
     "data": {
      "text/plain": [
       "class: ArchRProject \n",
       "outputDirectory: /home/jupyter/data/preRA_teaseq/EXP-00243/cd4t_cells \n",
       "samples(13): EXP-00243-P1_PB00067-03 EXP-00243-P1_PB00073-03 ...\n",
       "  EXP-00243-P1_PB00501-03 EXP-00243-P1_PB00212-03\n",
       "sampleColData names(1): ArrowFiles\n",
       "cellColData names(51): barcodes Sample ... Clusters_0.8 CD4TnaC2toC1\n",
       "numberOfCells(1): 44806\n",
       "medianTSS(1): 26.517\n",
       "medianFrags(1): 5364"
      ]
     },
     "metadata": {},
     "output_type": "display_data"
    }
   ],
   "source": [
    "cd4t_atac\n"
   ]
  },
  {
   "cell_type": "code",
   "execution_count": 24,
   "metadata": {
    "scrolled": true,
    "tags": [],
    "vscode": {
     "languageId": "r"
    }
   },
   "outputs": [],
   "source": [
    "# source('/home/jupyter/github/scATAC_Supplements/ArchR_Supplements.R')\n",
    "# source('/home/jupyter/github/scATAC_Supplements/AlternativeTSS_USage.R')\n"
   ]
  },
  {
   "cell_type": "markdown",
   "metadata": {},
   "source": [
    "## peak calls in the all cd4"
   ]
  },
  {
   "cell_type": "code",
   "execution_count": 25,
   "metadata": {
    "vscode": {
     "languageId": "r"
    }
   },
   "outputs": [
    {
     "data": {
      "text/plain": [
       "\n",
       "        cd4_ctl      cd4_memory       cd4_naive  cd4_temra_like      cd8_memory \n",
       "            245           17052           22954               9            1432 \n",
       "      cd8_naive       cd8_temra         cd8_trm            dn_t            gd_t \n",
       "            110             108               9              73              35 \n",
       "           mait    nk_like_t_nk t_proliferating            treg \n",
       "            187              13              35            2544 "
      ]
     },
     "metadata": {},
     "output_type": "display_data"
    }
   ],
   "source": [
    "table(cd4t_atac$clean_l2_cell_types)\n"
   ]
  },
  {
   "cell_type": "code",
   "execution_count": null,
   "metadata": {
    "vscode": {
     "languageId": "r"
    }
   },
   "outputs": [],
   "source": [
    "# # call peaks in total CD4 naive cells\n",
    "# cellPopulations <- cd4t_atac$clean_l2_cell_types %>% unique()\n",
    "# cellPopLabel <- \"t_anno_atac\"\n",
    "numCores <- 59\n",
    "# Parameters for generating the sample-tile matrices\n",
    "threshold <- 0.2\n",
    "groupColumn <- \"cohort\"\n",
    "join <- \"union\"\n"
   ]
  },
  {
   "cell_type": "code",
   "execution_count": null,
   "metadata": {
    "vscode": {
     "languageId": "r"
    }
   },
   "outputs": [],
   "source": [
    "cellPopLabel <- \"clean_l2_cell_types\"\n",
    "cd4t_atac$cohort %>% unique()\n",
    "cd4t_atac$clean_l2_cell_types %>% unique()\n",
    "cellPopulations <- c(\"cd4_naive\", \"cd4_memory\", \"treg\")\n",
    "# cellPopulations <- cd4t_atac$Clusters_0.8 %>% unique()\n",
    "# cellPopulations = cellPopulations[cellPopulations!='C1']\n",
    "# cellPopulations\n"
   ]
  },
  {
   "cell_type": "code",
   "execution_count": null,
   "metadata": {
    "scrolled": true,
    "vscode": {
     "languageId": "r"
    }
   },
   "outputs": [],
   "source": [
    "# cellPopulations\n",
    "# ?callOpenTiles\n"
   ]
  },
  {
   "cell_type": "code",
   "execution_count": null,
   "metadata": {
    "tags": [],
    "vscode": {
     "languageId": "r"
    }
   },
   "outputs": [],
   "source": [
    "####################################################\n",
    "# 2. Call open tiles (main peak calling step)\n",
    "#    Done once for all specified cell populations\n",
    "####################################################\n",
    "cd4_tileResults <- MOCHA::callOpenTiles(\n",
    "    cd4t_atac,\n",
    "    cellPopLabel = cellPopLabel,\n",
    "    cellPopulations = cellPopulations,\n",
    "    TxDb = \"TxDb.Hsapiens.UCSC.hg38.refGene\",\n",
    "    Org = \"org.Hs.eg.db\",\n",
    "    numCores = numCores,\n",
    "    outDir = output_path\n",
    ")\n"
   ]
  },
  {
   "cell_type": "code",
   "execution_count": null,
   "metadata": {
    "vscode": {
     "languageId": "r"
    }
   },
   "outputs": [],
   "source": [
    "cd4_tileResults\n"
   ]
  },
  {
   "cell_type": "code",
   "execution_count": null,
   "metadata": {
    "vscode": {
     "languageId": "r"
    }
   },
   "outputs": [],
   "source": [
    "# save the tile matrix from mocha\n",
    "cd4_tileResults %>% saveRDS(file.path(\n",
    "    output_path,\n",
    "    paste0(proj_name, \"_MOCHA_clean_l2_cell_types_tiles_matrix.rds\")\n",
    "))\n"
   ]
  },
  {
   "cell_type": "code",
   "execution_count": null,
   "metadata": {
    "vscode": {
     "languageId": "r"
    }
   },
   "outputs": [],
   "source": [
    "# load the tile matrix from mocha\n",
    "cd4_tileResults <- readRDS(file.path(\n",
    "    output_path,\n",
    "    paste0(proj_name, \"_MOCHA_clean_l2_cell_types_tiles_matrix.rds\")\n",
    "))\n"
   ]
  },
  {
   "cell_type": "code",
   "execution_count": null,
   "metadata": {
    "vscode": {
     "languageId": "r"
    }
   },
   "outputs": [],
   "source": [
    "plotConsensus(\n",
    "  tileObject,\n",
    "  cellPopulations = \"All\",\n",
    "  groupColumn = NULL,\n",
    "  returnPlotList = FALSE,\n",
    "  returnDFs = FALSE,\n",
    "  numCores = 1\n",
    ")\n"
   ]
  },
  {
   "cell_type": "code",
   "execution_count": null,
   "metadata": {
    "vscode": {
     "languageId": "r"
    }
   },
   "outputs": [],
   "source": [
    "# call sample tile matrix\n",
    "SampleTileMatrices <- MOCHA::getSampleTileMatrix(cd4_tileResults,\n",
    "    numCores = numCores,\n",
    "    cellPopulations = cellPopulations, groupColumn = groupColumn,\n",
    "    threshold = threshold, verbose = TRUE\n",
    ")\n"
   ]
  },
  {
   "cell_type": "code",
   "execution_count": null,
   "metadata": {
    "vscode": {
     "languageId": "r"
    }
   },
   "outputs": [],
   "source": [
    "SampleTileMatrices\n"
   ]
  },
  {
   "cell_type": "code",
   "execution_count": null,
   "metadata": {
    "scrolled": true,
    "vscode": {
     "languageId": "r"
    }
   },
   "outputs": [],
   "source": [
    "# This function can also take any GRanges object\n",
    "# and add annotations to its metadata.\n",
    "SampleTileMatricesAnnotated <- MOCHA::annotateTiles(SampleTileMatrices)\n",
    "\n",
    "# Load a curated motif set from library(chromVARmotifs)\n",
    "# included with ArchR installation\n",
    "library(chromVARmotifs)\n",
    "data(human_pwms_v2)\n",
    "\n",
    "SampleTileMatricesAnnotated <- MOCHA::addMotifSet(\n",
    "  SampleTileMatricesAnnotated,\n",
    "  pwms = human_pwms_v2,\n",
    "  w = 7 # weight parameter for motifmatchr\n",
    ")\n"
   ]
  },
  {
   "cell_type": "code",
   "execution_count": null,
   "metadata": {
    "vscode": {
     "languageId": "r"
    }
   },
   "outputs": [],
   "source": [
    "SampleTileMatricesAnnotated %>% saveRDS(file.path(\n",
    "    output_path,\n",
    "    paste0(proj_name, \"_MOCHA_total_clean_l2_cell_types_SampleTileMatrices.rds\")\n",
    "))\n"
   ]
  },
  {
   "cell_type": "code",
   "execution_count": 12,
   "metadata": {
    "vscode": {
     "languageId": "r"
    }
   },
   "outputs": [
    {
     "data": {
      "text/plain": [
       "class: RangedSummarizedExperiment \n",
       "dim: 671751 12 \n",
       "metadata(6): summarizedData Genome ... Directory History\n",
       "assays(3): cd4_naive cd4_memory treg\n",
       "rownames(671751): chr1:1000000-1000499 chr1:100006000-100006499 ...\n",
       "  chrX:9997500-9997999 chrY:26409000-26409499\n",
       "rowData names(5): cd4_naive cd4_memory treg tileType Gene\n",
       "colnames(12): EXP-00243-P1_PB00060-02 EXP-00243-P1_PB00065-05 ...\n",
       "  EXP-00243-P1_PB00561-03 EXP-00243-P1_PB00569-04\n",
       "colData names(9): Sample pool_id ... Sex l1_cell_types"
      ]
     },
     "metadata": {},
     "output_type": "display_data"
    }
   ],
   "source": [
    "# load sample peak matrix in\n",
    "SampleTileMatricesAnnotated <-\n",
    "    readRDS(file.path(\n",
    "        output_path,\n",
    "        \"PreRA_teaseq_cd4_t_atac_MOCHA_total_clean_l2_cell_types_SampleTileMatrices.rds\"\n",
    "    ))\n",
    "SampleTileMatricesAnnotated\n"
   ]
  },
  {
   "cell_type": "markdown",
   "metadata": {},
   "source": [
    "### plot region"
   ]
  },
  {
   "cell_type": "code",
   "execution_count": 13,
   "metadata": {
    "vscode": {
     "languageId": "r"
    }
   },
   "outputs": [
    {
     "name": "stderr",
     "output_type": "stream",
     "text": [
      "'select()' returned 1:1 mapping between keys and columns\n",
      "\n"
     ]
    }
   ],
   "source": [
    "# change the genome reference\n",
    "# library(TxDb.Hsapiens.UCSC.hg38.refGene)\n",
    "TxDb <- TxDb.Hsapiens.UCSC.hg38.refGene\n",
    "txList <- suppressWarnings(GenomicFeatures::transcriptsBy(TxDb, by = (\"gene\")))\n",
    "names(txList) <- suppressWarnings(AnnotationDbi::mapIds(Org, names(txList), \"SYMBOL\", \"ENTREZID\"))\n"
   ]
  },
  {
   "cell_type": "code",
   "execution_count": 14,
   "metadata": {
    "vscode": {
     "languageId": "r"
    }
   },
   "outputs": [
    {
     "data": {
      "text/html": [],
      "text/latex": [],
      "text/markdown": [],
      "text/plain": [
       "character(0)"
      ]
     },
     "metadata": {},
     "output_type": "display_data"
    }
   ],
   "source": [
    "names(txList) %>% str_subset(\"AL928768\")\n"
   ]
  },
  {
   "cell_type": "code",
   "execution_count": null,
   "metadata": {
    "vscode": {
     "languageId": "r"
    }
   },
   "outputs": [],
   "source": [
    "ArchR::getBlacklist(cd4t_atac) %>% plyranges::filter(seqnames == \"chr14\" & start > 105583731)\n"
   ]
  },
  {
   "cell_type": "code",
   "execution_count": null,
   "metadata": {
    "vscode": {
     "languageId": "r"
    }
   },
   "outputs": [],
   "source": [
    "names(txList)[names(txList) == \"3500\"]\n"
   ]
  },
  {
   "cell_type": "code",
   "execution_count": null,
   "metadata": {
    "vscode": {
     "languageId": "r"
    }
   },
   "outputs": [],
   "source": [
    "cytokines_genes <- c(\"IFNG-AS1\", \"IL17A\", \"IL17F\", \"IL22\", \"IFNG\", \"IL4\", \"CSF2\", \"IL12A\", \"IL10\", \"IL5\", \"IL13\")\n",
    "\n",
    "PlotPromoterRegion <- function(gene_name, SampleTileObj, cellPopulations, groupColumn, numCores = 15,\n",
    "                               sampleSpecific = FALSE) {\n",
    "    gene_ranges <- txList[[gene_name]] %>%\n",
    "        as_tibble() %>%\n",
    "        mutate(gene_range = paste0(seqnames, \":\", start - 2000, \"-\", end + 2000))\n",
    "    countSE <- MOCHA::extractRegion(\n",
    "        SampleTileObj = SampleTileObj,\n",
    "        cellPopulations = cellPopulations,\n",
    "        region = gene_ranges$gene_range[1],\n",
    "        groupColumn = groupColumn,\n",
    "        numCores = numCores,\n",
    "        sampleSpecific = sampleSpecific\n",
    "    )\n",
    "    # add delta\n",
    "    countSE <- addAccessibilityShift(countSE,\n",
    "        foreground = paste0(cellPopulations, \".pre-RA\"),\n",
    "        background = paste0(cellPopulations, \".Healthy\")\n",
    "    )\n",
    "    pdf(file.path(fig_path, paste0(\n",
    "        \"all_cd4_atac_annotate_\", cellPopulations,\n",
    "        gene_name, \"_gene_regions.pdf\"\n",
    "    )), width = 16, height = 12)\n",
    "    p1 <- MOCHA::plotRegion(countSE = countSE, whichGene = gene_name)\n",
    "    print(p1)\n",
    "    dev.off()\n",
    "    return(p1)\n",
    "}\n"
   ]
  },
  {
   "cell_type": "code",
   "execution_count": null,
   "metadata": {
    "vscode": {
     "languageId": "r"
    }
   },
   "outputs": [],
   "source": [
    "gene_ranges <- txList[[\"IL21\"]] %>%\n",
    "        as_tibble() %>%\n",
    "        mutate(gene_range = paste0(seqnames, \":\", start - 2000, \"-\", end + 2000))\n",
    "gene_ranges$gene_range[1]\n"
   ]
  },
  {
   "cell_type": "code",
   "execution_count": null,
   "metadata": {
    "vscode": {
     "languageId": "r"
    }
   },
   "outputs": [],
   "source": [
    "marker_genes <- c(\"PDCD1\", \"CXCL13\", \"CXCR5\", \"IL21\")\n"
   ]
  },
  {
   "cell_type": "code",
   "execution_count": null,
   "metadata": {
    "tags": [],
    "vscode": {
     "languageId": "r"
    }
   },
   "outputs": [],
   "source": [
    "p_list <- lapply(marker_genes, PlotPromoterRegion,\n",
    "        numCores = 50,\n",
    "        SampleTileObj = SampleTileMatricesAnnotated, cellPopulations = \"cd4_memory\", groupColumn = \"cohort\"\n",
    ")\n"
   ]
  },
  {
   "cell_type": "code",
   "execution_count": null,
   "metadata": {
    "vscode": {
     "languageId": "r"
    }
   },
   "outputs": [],
   "source": [
    "p_list[[3]]\n"
   ]
  },
  {
   "cell_type": "code",
   "execution_count": 15,
   "metadata": {
    "vscode": {
     "languageId": "r"
    }
   },
   "outputs": [
    {
     "data": {
      "text/plain": [
       "class: RangedSummarizedExperiment \n",
       "dim: 671751 12 \n",
       "metadata(6): summarizedData Genome ... Directory History\n",
       "assays(3): cd4_naive cd4_memory treg\n",
       "rownames(671751): chr1:1000000-1000499 chr1:100006000-100006499 ...\n",
       "  chrX:9997500-9997999 chrY:26409000-26409499\n",
       "rowData names(5): cd4_naive cd4_memory treg tileType Gene\n",
       "colnames(12): EXP-00243-P1_PB00060-02 EXP-00243-P1_PB00065-05 ...\n",
       "  EXP-00243-P1_PB00561-03 EXP-00243-P1_PB00569-04\n",
       "colData names(9): Sample pool_id ... Sex l1_cell_types"
      ]
     },
     "metadata": {},
     "output_type": "display_data"
    }
   ],
   "source": [
    "SampleTileMatricesAnnotated\n"
   ]
  },
  {
   "cell_type": "code",
   "execution_count": null,
   "metadata": {
    "vscode": {
     "languageId": "r"
    }
   },
   "outputs": [],
   "source": [
    "countSE <- MOCHA::extractRegion(\n",
    "  SampleTileObj = SampleTileMatricesAnnotated,\n",
    "  cellPopulations = \"cd4_memory\",\n",
    "  region = \"chr4:122615000-122619999\",\n",
    "  groupColumn = \"cohort\",\n",
    "  numCores = 50,\n",
    "  sampleSpecific = TRUE\n",
    ")\n"
   ]
  },
  {
   "cell_type": "code",
   "execution_count": null,
   "metadata": {
    "vscode": {
     "languageId": "r"
    }
   },
   "outputs": [],
   "source": [
    "# add delta\n",
    "countSE <- addAccessibilityShift(countSE,\n",
    "    foreground = \"cd4_memory.pre-RA\",\n",
    "    background = \"cd4_memory.Healthy\"\n",
    ")\n"
   ]
  },
  {
   "cell_type": "code",
   "execution_count": null,
   "metadata": {
    "vscode": {
     "languageId": "r"
    }
   },
   "outputs": [],
   "source": [
    "p1 <- MOCHA::plotRegion(countSE = countSE, whichGene = \"IL21\")\n",
    "p1\n"
   ]
  },
  {
   "cell_type": "code",
   "execution_count": null,
   "metadata": {
    "vscode": {
     "languageId": "r"
    }
   },
   "outputs": [],
   "source": [
    "head(SummarizedExperiment::assays(countSE)[[1]])\n"
   ]
  },
  {
   "cell_type": "code",
   "execution_count": null,
   "metadata": {
    "vscode": {
     "languageId": "r"
    }
   },
   "outputs": [],
   "source": [
    "# p1 <- MOCHA::plotRegion(countSE = countSE, whichGene = 'IL21')\n",
    "gene_name <- \"IL21\"\n",
    "pdf(file.path(fig_path, paste0(\n",
    "    \"cd4_memory_atac_annotate_\",\n",
    "    gene_name, \"_gene_regions.pdf\"\n",
    ")), width = 16, height = 12)\n",
    "MOCHA::plotRegion(countSE = countSE)\n",
    "dev.off()\n"
   ]
  },
  {
   "cell_type": "code",
   "execution_count": 16,
   "metadata": {
    "vscode": {
     "languageId": "r"
    }
   },
   "outputs": [
    {
     "data": {
      "text/html": [
       "<table class=\"dataframe\">\n",
       "<caption>A tibble: 2 × 8</caption>\n",
       "<thead>\n",
       "\t<tr><th scope=col>seqnames</th><th scope=col>start</th><th scope=col>end</th><th scope=col>width</th><th scope=col>strand</th><th scope=col>tx_id</th><th scope=col>tx_name</th><th scope=col>gene_range</th></tr>\n",
       "\t<tr><th scope=col>&lt;fct&gt;</th><th scope=col>&lt;int&gt;</th><th scope=col>&lt;int&gt;</th><th scope=col>&lt;int&gt;</th><th scope=col>&lt;fct&gt;</th><th scope=col>&lt;int&gt;</th><th scope=col>&lt;chr&gt;</th><th scope=col>&lt;chr&gt;</th></tr>\n",
       "</thead>\n",
       "<tbody>\n",
       "\t<tr><td>chr4</td><td>122610108</td><td>122621066</td><td>10959</td><td>-</td><td>20591</td><td>NM_021803   </td><td>chr4:122608108-122623066</td></tr>\n",
       "\t<tr><td>chr4</td><td>122612628</td><td>122621057</td><td> 8430</td><td>-</td><td>20592</td><td>NM_001207006</td><td>chr4:122610628-122623057</td></tr>\n",
       "</tbody>\n",
       "</table>\n"
      ],
      "text/latex": [
       "A tibble: 2 × 8\n",
       "\\begin{tabular}{llllllll}\n",
       " seqnames & start & end & width & strand & tx\\_id & tx\\_name & gene\\_range\\\\\n",
       " <fct> & <int> & <int> & <int> & <fct> & <int> & <chr> & <chr>\\\\\n",
       "\\hline\n",
       "\t chr4 & 122610108 & 122621066 & 10959 & - & 20591 & NM\\_021803    & chr4:122608108-122623066\\\\\n",
       "\t chr4 & 122612628 & 122621057 &  8430 & - & 20592 & NM\\_001207006 & chr4:122610628-122623057\\\\\n",
       "\\end{tabular}\n"
      ],
      "text/markdown": [
       "\n",
       "A tibble: 2 × 8\n",
       "\n",
       "| seqnames &lt;fct&gt; | start &lt;int&gt; | end &lt;int&gt; | width &lt;int&gt; | strand &lt;fct&gt; | tx_id &lt;int&gt; | tx_name &lt;chr&gt; | gene_range &lt;chr&gt; |\n",
       "|---|---|---|---|---|---|---|---|\n",
       "| chr4 | 122610108 | 122621066 | 10959 | - | 20591 | NM_021803    | chr4:122608108-122623066 |\n",
       "| chr4 | 122612628 | 122621057 |  8430 | - | 20592 | NM_001207006 | chr4:122610628-122623057 |\n",
       "\n"
      ],
      "text/plain": [
       "  seqnames start     end       width strand tx_id tx_name     \n",
       "1 chr4     122610108 122621066 10959 -      20591 NM_021803   \n",
       "2 chr4     122612628 122621057  8430 -      20592 NM_001207006\n",
       "  gene_range              \n",
       "1 chr4:122608108-122623066\n",
       "2 chr4:122610628-122623057"
      ]
     },
     "metadata": {},
     "output_type": "display_data"
    }
   ],
   "source": [
    "# get the gene names and gene ranges\n",
    "gene_name <- \"IL21\"\n",
    "gene_ranges <- txList[[gene_name]] %>%\n",
    "    as_tibble() %>%\n",
    "    mutate(gene_range = paste0(seqnames, \":\", start - 2000, \"-\", end + 2000))\n",
    "gene_ranges\n"
   ]
  },
  {
   "cell_type": "code",
   "execution_count": 17,
   "metadata": {
    "vscode": {
     "languageId": "r"
    }
   },
   "outputs": [],
   "source": [
    "####################################################\n",
    "# 5. (Optional) Plot a specific region's coverage.\n",
    "#    Here we plot coverage at a specific region and\n",
    "#    gene by infection stage.\n",
    "####################################################\n",
    "\n",
    "countSE <- MOCHA::extractRegion(\n",
    "  SampleTileObj = SampleTileMatricesAnnotated,\n",
    "  cellPopulations = \"cd4_naive\",\n",
    "  region = gene_ranges$gene_range[1],\n",
    "  groupColumn = \"cohort\",\n",
    "  numCores = 62,\n",
    "  sampleSpecific = FALSE\n",
    ")\n"
   ]
  },
  {
   "cell_type": "code",
   "execution_count": null,
   "metadata": {
    "tags": [],
    "vscode": {
     "languageId": "r"
    }
   },
   "outputs": [],
   "source": [
    "# add delta\n",
    "countSE <- addAccessibilityShift(countSE,\n",
    "    foreground = \"cd4_naive.pre-RA\",\n",
    "    background = \"cd4_naive.Healthy\"\n",
    ")\n"
   ]
  },
  {
   "cell_type": "code",
   "execution_count": null,
   "metadata": {
    "vscode": {
     "languageId": "r"
    }
   },
   "outputs": [],
   "source": [
    "pdf(file.path(fig_path, paste0(\n",
    "    \"cd4_naive_atac_annotate_\",\n",
    "    gene_name, \"_gene_regions.pdf\"\n",
    ")), width = 16, height = 12)\n",
    "MOCHA::plotRegion(countSE = countSE)\n",
    "dev.off()\n"
   ]
  },
  {
   "cell_type": "markdown",
   "metadata": {},
   "source": [
    "## run DAP analysis"
   ]
  },
  {
   "cell_type": "code",
   "execution_count": 12,
   "metadata": {
    "vscode": {
     "languageId": "r"
    }
   },
   "outputs": [
    {
     "data": {
      "text/plain": [
       "class: RangedSummarizedExperiment \n",
       "dim: 671751 12 \n",
       "metadata(6): summarizedData Genome ... Directory History\n",
       "assays(3): cd4_naive cd4_memory treg\n",
       "rownames(671751): chr1:1000000-1000499 chr1:100006000-100006499 ...\n",
       "  chrX:9997500-9997999 chrY:26409000-26409499\n",
       "rowData names(5): cd4_naive cd4_memory treg tileType Gene\n",
       "colnames(12): EXP-00243-P1_PB00060-02 EXP-00243-P1_PB00065-05 ...\n",
       "  EXP-00243-P1_PB00561-03 EXP-00243-P1_PB00569-04\n",
       "colData names(9): Sample pool_id ... Sex l1_cell_types"
      ]
     },
     "metadata": {},
     "output_type": "display_data"
    }
   ],
   "source": [
    "# load sample peak matrix in\n",
    "SampleTileMatricesAnnotated <-\n",
    "    readRDS(file.path(\n",
    "        output_path,\n",
    "        \"PreRA_teaseq_cd4_t_atac_MOCHA_total_clean_l2_cell_types_SampleTileMatrices.rds\"\n",
    "    ))\n",
    "SampleTileMatricesAnnotated\n"
   ]
  },
  {
   "cell_type": "code",
   "execution_count": 13,
   "metadata": {
    "vscode": {
     "languageId": "r"
    }
   },
   "outputs": [
    {
     "data": {
      "text/plain": [
       ".\n",
       " FALSE   TRUE \n",
       "143046 528705 "
      ]
     },
     "metadata": {},
     "output_type": "display_data"
    }
   ],
   "source": [
    "rowData(SampleTileMatricesAnnotated)$cd4_naive %>% table()\n"
   ]
  },
  {
   "cell_type": "markdown",
   "metadata": {},
   "source": [
    "### run DAP analysis for cd4 naive"
   ]
  },
  {
   "cell_type": "code",
   "execution_count": 12,
   "metadata": {
    "tags": [],
    "vscode": {
     "languageId": "r"
    }
   },
   "outputs": [],
   "source": [
    "# replace NA as 0\n",
    "cd4n_counts <- assay(SampleTileMatricesAnnotated, \"cd4_naive\") %>% as.data.frame()\n",
    "cd4n_counts[is.na(cd4n_counts)] <- 0\n",
    "assay(SampleTileMatricesAnnotated, \"cd4_naive\") <- cd4n_counts %>% as.matrix()\n"
   ]
  },
  {
   "cell_type": "code",
   "execution_count": 14,
   "metadata": {
    "vscode": {
     "languageId": "r"
    }
   },
   "outputs": [
    {
     "data": {
      "image/png": "[encoded data removed]",
      "text/plain": [
       "plot without title"
      ]
     },
     "metadata": {
      "image/png": {
       "height": 900,
       "width": 1200
      }
     },
     "output_type": "display_data"
    }
   ],
   "source": [
    "plotIntensityDistribution(\n",
    "  SampleTileMatricesAnnotated,\n",
    "  \"cd4_naive\",\n",
    "  returnDF = FALSE,\n",
    "  density = TRUE\n",
    ")\n"
   ]
  },
  {
   "cell_type": "code",
   "execution_count": 15,
   "metadata": {
    "vscode": {
     "languageId": "r"
    }
   },
   "outputs": [],
   "source": [
    "####################################################\n",
    "# 5. Get differential accessibility for specific\n",
    "#    cell populations. Here we are comparing MAIT\n",
    "#    cells between samples where our groupColumn\n",
    "#    \"COVID_status\" is Positive (our foreground)\n",
    "#    to Negative samples (our background).\n",
    "####################################################\n",
    "threshold <- 0.2\n",
    "groupColumn <- \"cohort\"\n",
    "join <- \"union\"\n",
    "numCores <- 15\n",
    "outputGRanges <- TRUE\n",
    "cd4na_diff <- MOCHA::getDifferentialAccessibleTiles(\n",
    "    SampleTileObj = SampleTileMatricesAnnotated,\n",
    "    cellPopulation = \"cd4_naive\",\n",
    "    groupColumn = groupColumn,\n",
    "    foreground = \"pre-RA\",\n",
    "    background = \"Healthy\",\n",
    "    fdrToDisplay = 0.2,\n",
    "    signalThreshold = 14,\n",
    "    minZeroDiff = 0.5,\n",
    "    outputGRanges = TRUE,\n",
    "    numCores = numCores\n",
    ")\n"
   ]
  },
  {
   "cell_type": "code",
   "execution_count": 60,
   "metadata": {
    "vscode": {
     "languageId": "r"
    }
   },
   "outputs": [],
   "source": [
    "# SampleTileMatricesAnnotated_diff <- subsetByOverlaps(SampleTileMatricesAnnotated,\n",
    "#                                                    cd4na_diff[(!is.na(elementMetadata(cd4na_diff)[,'FDR']))])\n"
   ]
  },
  {
   "cell_type": "code",
   "execution_count": 16,
   "metadata": {
    "vscode": {
     "languageId": "r"
    }
   },
   "outputs": [
    {
     "name": "stderr",
     "output_type": "stream",
     "text": [
      "'select()' returned 1:1 mapping between keys and columns\n",
      "\n"
     ]
    }
   ],
   "source": [
    "cd4na_diff <- annotateTiles(cd4na_diff, TxDb = TxDb, Org = Org)\n"
   ]
  },
  {
   "cell_type": "code",
   "execution_count": 19,
   "metadata": {
    "vscode": {
     "languageId": "r"
    }
   },
   "outputs": [
    {
     "data": {
      "text/html": [
       "<table class=\"dataframe\">\n",
       "<caption>A tibble: 2 × 2</caption>\n",
       "<thead>\n",
       "\t<tr><th scope=col>tileType</th><th scope=col>n</th></tr>\n",
       "\t<tr><th scope=col>&lt;chr&gt;</th><th scope=col>&lt;int&gt;</th></tr>\n",
       "</thead>\n",
       "<tbody>\n",
       "\t<tr><td>Distal  </td><td> 859</td></tr>\n",
       "\t<tr><td>Promoter</td><td>2300</td></tr>\n",
       "</tbody>\n",
       "</table>\n"
      ],
      "text/latex": [
       "A tibble: 2 × 2\n",
       "\\begin{tabular}{ll}\n",
       " tileType & n\\\\\n",
       " <chr> & <int>\\\\\n",
       "\\hline\n",
       "\t Distal   &  859\\\\\n",
       "\t Promoter & 2300\\\\\n",
       "\\end{tabular}\n"
      ],
      "text/markdown": [
       "\n",
       "A tibble: 2 × 2\n",
       "\n",
       "| tileType &lt;chr&gt; | n &lt;int&gt; |\n",
       "|---|---|\n",
       "| Distal   |  859 |\n",
       "| Promoter | 2300 |\n",
       "\n"
      ],
      "text/plain": [
       "  tileType n   \n",
       "1 Distal    859\n",
       "2 Promoter 2300"
      ]
     },
     "metadata": {},
     "output_type": "display_data"
    }
   ],
   "source": [
    "cd4na_diff %>%\n",
    "    as_tibble() %>%\n",
    "    filter(FDR < 0.1 & P_value < 0.05) %>%\n",
    "    group_by(tileType) %>%\n",
    "    tally()\n"
   ]
  },
  {
   "cell_type": "code",
   "execution_count": 18,
   "metadata": {
    "vscode": {
     "languageId": "r"
    }
   },
   "outputs": [],
   "source": [
    "# save the DAP results\n",
    "cd4na_diff %>% saveRDS(file.path(output_path, paste0(proj_name, \"cd4_naive_preRAvshealthy_DAPs_signal14.rds\")))\n"
   ]
  },
  {
   "cell_type": "code",
   "execution_count": 1,
   "metadata": {
    "vscode": {
     "languageId": "r"
    }
   },
   "outputs": [],
   "source": [
    "# load the DAP results\n",
    "cd4na_diff <- readRDS(file.path(\n",
    "    \"/home/jupyter/data/preRA_teaseq/output_results/cd4_t\",\n",
    "    \"PreRA_teaseq_cd4_t_cd4_naive_preRAvshealthy_DAPs.rds\"\n",
    "))\n"
   ]
  },
  {
   "cell_type": "code",
   "execution_count": 21,
   "metadata": {
    "vscode": {
     "languageId": "r"
    }
   },
   "outputs": [
    {
     "data": {
      "text/plain": [
       "GRanges object with 528705 ranges and 15 metadata columns:\n",
       "           seqnames              ranges strand |                   Tile\n",
       "              <Rle>           <IRanges>  <Rle> |            <character>\n",
       "       [1]     chr1     1000000-1000499      * |   chr1:1000000-1000499\n",
       "       [2]     chr1 100006000-100006499      * | chr1:100006000-10000..\n",
       "       [3]     chr1 100023500-100023999      * | chr1:100023500-10002..\n",
       "       [4]     chr1 100024500-100024999      * | chr1:100024500-10002..\n",
       "       [5]     chr1 100028000-100028499      * | chr1:100028000-10002..\n",
       "       ...      ...                 ...    ... .                    ...\n",
       "  [528701]     chrX     9996000-9996499      * |   chrX:9996000-9996499\n",
       "  [528702]     chrX     9996500-9996999      * |   chrX:9996500-9996999\n",
       "  [528703]     chrX     9997000-9997499      * |   chrX:9997000-9997499\n",
       "  [528704]     chrX     9997500-9997999      * |   chrX:9997500-9997999\n",
       "  [528705]     chrY   26409000-26409499      * | chrY:26409000-26409499\n",
       "           CellPopulation  Foreground  Background   P_value Test_Statistic\n",
       "              <character> <character> <character> <numeric>      <numeric>\n",
       "       [1]      cd4_naive      pre-RA     Healthy        NA             NA\n",
       "       [2]      cd4_naive      pre-RA     Healthy 0.0909689        2.85714\n",
       "       [3]      cd4_naive      pre-RA     Healthy        NA             NA\n",
       "       [4]      cd4_naive      pre-RA     Healthy        NA             NA\n",
       "       [5]      cd4_naive      pre-RA     Healthy        NA             NA\n",
       "       ...            ...         ...         ...       ...            ...\n",
       "  [528701]      cd4_naive      pre-RA     Healthy        NA             NA\n",
       "  [528702]      cd4_naive      pre-RA     Healthy        NA             NA\n",
       "  [528703]      cd4_naive      pre-RA     Healthy        NA             NA\n",
       "  [528704]      cd4_naive      pre-RA     Healthy        NA             NA\n",
       "  [528705]      cd4_naive      pre-RA     Healthy        NA             NA\n",
       "                 FDR  Log2FC_C  MeanDiff Avg_Intensity_Case Pct0_Case\n",
       "           <numeric> <numeric> <numeric>          <numeric> <numeric>\n",
       "       [1]        NA        NA        NA                 NA        NA\n",
       "       [2] 0.0813553        NA  -4.24618                 NA         1\n",
       "       [3]        NA        NA        NA                 NA        NA\n",
       "       [4]        NA        NA        NA                 NA        NA\n",
       "       [5]        NA        NA        NA                 NA        NA\n",
       "       ...       ...       ...       ...                ...       ...\n",
       "  [528701]        NA        NA        NA                 NA        NA\n",
       "  [528702]        NA        NA        NA                 NA        NA\n",
       "  [528703]        NA        NA        NA                 NA        NA\n",
       "  [528704]        NA        NA        NA                 NA        NA\n",
       "  [528705]        NA        NA        NA                 NA        NA\n",
       "           Avg_Intensity_Control Pct0_Control    tileType        Gene\n",
       "                       <numeric>    <numeric> <character> <character>\n",
       "       [1]                    NA           NA    Promoter        HES4\n",
       "       [2]               7.42505          0.4    Promoter     SLC35A3\n",
       "       [3]                    NA           NA    Promoter     SLC35A3\n",
       "       [4]                    NA           NA    Promoter     SLC35A3\n",
       "       [5]                    NA           NA    Promoter     SLC35A3\n",
       "       ...                   ...          ...         ...         ...\n",
       "  [528701]                    NA           NA      Distal        <NA>\n",
       "  [528702]                    NA           NA      Distal        <NA>\n",
       "  [528703]                    NA           NA      Distal        <NA>\n",
       "  [528704]                    NA           NA      Distal        <NA>\n",
       "  [528705]                    NA           NA      Distal        <NA>\n",
       "  -------\n",
       "  seqinfo: 24 sequences from an unspecified genome; no seqlengths"
      ]
     },
     "metadata": {},
     "output_type": "display_data"
    }
   ],
   "source": [
    "cd4na_diff\n"
   ]
  },
  {
   "cell_type": "code",
   "execution_count": 32,
   "metadata": {
    "vscode": {
     "languageId": "r"
    }
   },
   "outputs": [
    {
     "data": {
      "text/html": [
       "<table class=\"dataframe\">\n",
       "<caption>A tibble: 2 × 2</caption>\n",
       "<thead>\n",
       "\t<tr><th scope=col>tileType</th><th scope=col>n</th></tr>\n",
       "\t<tr><th scope=col>&lt;chr&gt;</th><th scope=col>&lt;int&gt;</th></tr>\n",
       "</thead>\n",
       "<tbody>\n",
       "\t<tr><td>Distal  </td><td> 859</td></tr>\n",
       "\t<tr><td>Promoter</td><td>2300</td></tr>\n",
       "</tbody>\n",
       "</table>\n"
      ],
      "text/latex": [
       "A tibble: 2 × 2\n",
       "\\begin{tabular}{ll}\n",
       " tileType & n\\\\\n",
       " <chr> & <int>\\\\\n",
       "\\hline\n",
       "\t Distal   &  859\\\\\n",
       "\t Promoter & 2300\\\\\n",
       "\\end{tabular}\n"
      ],
      "text/markdown": [
       "\n",
       "A tibble: 2 × 2\n",
       "\n",
       "| tileType &lt;chr&gt; | n &lt;int&gt; |\n",
       "|---|---|\n",
       "| Distal   |  859 |\n",
       "| Promoter | 2300 |\n",
       "\n"
      ],
      "text/plain": [
       "  tileType n   \n",
       "1 Distal    859\n",
       "2 Promoter 2300"
      ]
     },
     "metadata": {},
     "output_type": "display_data"
    }
   ],
   "source": [
    "cd4na_diff %>%\n",
    "    as_tibble() %>%\n",
    "    filter(FDR < 0.1 & P_value < 0.05) %>%\n",
    "    group_by(tileType) %>%\n",
    "    tally()\n"
   ]
  },
  {
   "cell_type": "code",
   "execution_count": 23,
   "metadata": {
    "vscode": {
     "languageId": "r"
    }
   },
   "outputs": [
    {
     "data": {
      "image/png": "[encoded data removed]",
      "text/plain": [
       "Plot with title \"Histogram of .\""
      ]
     },
     "metadata": {
      "image/png": {
       "height": 900,
       "width": 1200
      }
     },
     "output_type": "display_data"
    }
   ],
   "source": [
    "cd4na_diff$P_value %>% hist()\n"
   ]
  },
  {
   "cell_type": "code",
   "execution_count": 31,
   "metadata": {
    "vscode": {
     "languageId": "r"
    }
   },
   "outputs": [
    {
     "data": {
      "text/plain": [
       "GRanges object with 1 range and 15 metadata columns:\n",
       "      seqnames              ranges strand |                   Tile\n",
       "         <Rle>           <IRanges>  <Rle> |            <character>\n",
       "  [1]     chr4 122617500-122617999      * | chr4:122617500-12261..\n",
       "      CellPopulation  Foreground  Background   P_value Test_Statistic       FDR\n",
       "         <character> <character> <character> <numeric>      <numeric> <numeric>\n",
       "  [1]      cd4_naive      pre-RA     Healthy 0.0041014        8.23837 0.0705946\n",
       "       Log2FC_C  MeanDiff Avg_Intensity_Case Pct0_Case Avg_Intensity_Control\n",
       "      <numeric> <numeric>          <numeric> <numeric>             <numeric>\n",
       "  [1]        NA   7.78541            7.75858         0                    NA\n",
       "      Pct0_Control    tileType        Gene\n",
       "         <numeric> <character> <character>\n",
       "  [1]            1    Promoter        IL21\n",
       "  -------\n",
       "  seqinfo: 24 sequences from an unspecified genome; no seqlengths"
      ]
     },
     "metadata": {},
     "output_type": "display_data"
    }
   ],
   "source": [
    "cd4na_diff %>% filter(P_value < 0.05 & str_detect(Gene, \"IL21\"))\n"
   ]
  },
  {
   "cell_type": "code",
   "execution_count": 38,
   "metadata": {
    "tags": [],
    "vscode": {
     "languageId": "r"
    }
   },
   "outputs": [
    {
     "data": {
      "text/html": [
       "<table class=\"dataframe\">\n",
       "<caption>A tibble: 0 × 20</caption>\n",
       "<thead>\n",
       "\t<tr><th scope=col>seqnames</th><th scope=col>start</th><th scope=col>end</th><th scope=col>width</th><th scope=col>strand</th><th scope=col>Tile</th><th scope=col>CellPopulation</th><th scope=col>Foreground</th><th scope=col>Background</th><th scope=col>P_value</th><th scope=col>Test_Statistic</th><th scope=col>FDR</th><th scope=col>Log2FC_C</th><th scope=col>MeanDiff</th><th scope=col>Avg_Intensity_Case</th><th scope=col>Pct0_Case</th><th scope=col>Avg_Intensity_Control</th><th scope=col>Pct0_Control</th><th scope=col>tileType</th><th scope=col>Gene</th></tr>\n",
       "\t<tr><th scope=col>&lt;fct&gt;</th><th scope=col>&lt;int&gt;</th><th scope=col>&lt;int&gt;</th><th scope=col>&lt;int&gt;</th><th scope=col>&lt;fct&gt;</th><th scope=col>&lt;chr&gt;</th><th scope=col>&lt;chr&gt;</th><th scope=col>&lt;chr&gt;</th><th scope=col>&lt;chr&gt;</th><th scope=col>&lt;dbl&gt;</th><th scope=col>&lt;dbl&gt;</th><th scope=col>&lt;dbl&gt;</th><th scope=col>&lt;dbl&gt;</th><th scope=col>&lt;dbl&gt;</th><th scope=col>&lt;dbl&gt;</th><th scope=col>&lt;dbl&gt;</th><th scope=col>&lt;dbl&gt;</th><th scope=col>&lt;dbl&gt;</th><th scope=col>&lt;chr&gt;</th><th scope=col>&lt;chr&gt;</th></tr>\n",
       "</thead>\n",
       "<tbody>\n",
       "</tbody>\n",
       "</table>\n"
      ],
      "text/latex": [
       "A tibble: 0 × 20\n",
       "\\begin{tabular}{llllllllllllllllllll}\n",
       " seqnames & start & end & width & strand & Tile & CellPopulation & Foreground & Background & P\\_value & Test\\_Statistic & FDR & Log2FC\\_C & MeanDiff & Avg\\_Intensity\\_Case & Pct0\\_Case & Avg\\_Intensity\\_Control & Pct0\\_Control & tileType & Gene\\\\\n",
       " <fct> & <int> & <int> & <int> & <fct> & <chr> & <chr> & <chr> & <chr> & <dbl> & <dbl> & <dbl> & <dbl> & <dbl> & <dbl> & <dbl> & <dbl> & <dbl> & <chr> & <chr>\\\\\n",
       "\\hline\n",
       "\\end{tabular}\n"
      ],
      "text/markdown": [
       "\n",
       "A tibble: 0 × 20\n",
       "\n",
       "| seqnames &lt;fct&gt; | start &lt;int&gt; | end &lt;int&gt; | width &lt;int&gt; | strand &lt;fct&gt; | Tile &lt;chr&gt; | CellPopulation &lt;chr&gt; | Foreground &lt;chr&gt; | Background &lt;chr&gt; | P_value &lt;dbl&gt; | Test_Statistic &lt;dbl&gt; | FDR &lt;dbl&gt; | Log2FC_C &lt;dbl&gt; | MeanDiff &lt;dbl&gt; | Avg_Intensity_Case &lt;dbl&gt; | Pct0_Case &lt;dbl&gt; | Avg_Intensity_Control &lt;dbl&gt; | Pct0_Control &lt;dbl&gt; | tileType &lt;chr&gt; | Gene &lt;chr&gt; |\n",
       "|---|---|---|---|---|---|---|---|---|---|---|---|---|---|---|---|---|---|---|---|\n",
       "\n"
      ],
      "text/plain": [
       "     seqnames start end width strand Tile CellPopulation Foreground Background\n",
       "     P_value Test_Statistic FDR Log2FC_C MeanDiff Avg_Intensity_Case Pct0_Case\n",
       "     Avg_Intensity_Control Pct0_Control tileType Gene"
      ]
     },
     "metadata": {},
     "output_type": "display_data"
    }
   ],
   "source": [
    "cd4na_diff_sig <- cd4na_diff %>%\n",
    "    filter(FDR < 0.1 & P_value < 0.05) %>%\n",
    "    arrange(P_value)\n",
    "cd4na_diff_sig %>%\n",
    "    as_tibble() %>%\n",
    "    filter(is.na(P_value))\n"
   ]
  },
  {
   "cell_type": "code",
   "execution_count": 42,
   "metadata": {
    "vscode": {
     "languageId": "r"
    }
   },
   "outputs": [
    {
     "data": {
      "text/html": [
       "<table class=\"dataframe\">\n",
       "<caption>A tibble: 17 × 20</caption>\n",
       "<thead>\n",
       "\t<tr><th scope=col>seqnames</th><th scope=col>start</th><th scope=col>end</th><th scope=col>width</th><th scope=col>strand</th><th scope=col>Tile</th><th scope=col>CellPopulation</th><th scope=col>Foreground</th><th scope=col>Background</th><th scope=col>P_value</th><th scope=col>Test_Statistic</th><th scope=col>FDR</th><th scope=col>Log2FC_C</th><th scope=col>MeanDiff</th><th scope=col>Avg_Intensity_Case</th><th scope=col>Pct0_Case</th><th scope=col>Avg_Intensity_Control</th><th scope=col>Pct0_Control</th><th scope=col>tileType</th><th scope=col>Gene</th></tr>\n",
       "\t<tr><th scope=col>&lt;fct&gt;</th><th scope=col>&lt;int&gt;</th><th scope=col>&lt;int&gt;</th><th scope=col>&lt;int&gt;</th><th scope=col>&lt;fct&gt;</th><th scope=col>&lt;chr&gt;</th><th scope=col>&lt;chr&gt;</th><th scope=col>&lt;chr&gt;</th><th scope=col>&lt;chr&gt;</th><th scope=col>&lt;dbl&gt;</th><th scope=col>&lt;dbl&gt;</th><th scope=col>&lt;dbl&gt;</th><th scope=col>&lt;dbl&gt;</th><th scope=col>&lt;dbl&gt;</th><th scope=col>&lt;dbl&gt;</th><th scope=col>&lt;dbl&gt;</th><th scope=col>&lt;dbl&gt;</th><th scope=col>&lt;dbl&gt;</th><th scope=col>&lt;chr&gt;</th><th scope=col>&lt;chr&gt;</th></tr>\n",
       "</thead>\n",
       "<tbody>\n",
       "\t<tr><td>chr10</td><td>131956000</td><td>131956499</td><td>500</td><td>*</td><td>chr10:131956000-131956499</td><td>cd4_naive</td><td>pre-RA</td><td>Healthy</td><td>0.004101401</td><td>8.238367</td><td>0.07059460</td><td>         NA</td><td> 6.90200860</td><td> 7.006577</td><td>0.0000000</td><td>       NA</td><td>1.0</td><td>Promoter</td><td>PPP2R2D         </td></tr>\n",
       "\t<tr><td>chrX </td><td> 49286500</td><td> 49286999</td><td>500</td><td>*</td><td>chrX:49286500-49286999   </td><td>cd4_naive</td><td>pre-RA</td><td>Healthy</td><td>0.004101401</td><td>8.238367</td><td>0.07059460</td><td>         NA</td><td> 7.50467806</td><td> 7.176949</td><td>0.0000000</td><td>       NA</td><td>1.0</td><td>Promoter</td><td>PPP1R3F         </td></tr>\n",
       "\t<tr><td>chr6 </td><td> 30067000</td><td> 30067499</td><td>500</td><td>*</td><td>chr6:30067000-30067499   </td><td>cd4_naive</td><td>pre-RA</td><td>Healthy</td><td>0.009366112</td><td>6.751648</td><td>0.07059460</td><td>-0.11571156</td><td>-0.11166041</td><td>16.006189</td><td>0.0000000</td><td>16.079099</td><td>0.0</td><td>Promoter</td><td>PPP1R11         </td></tr>\n",
       "\t<tr><td>chr20</td><td> 59940000</td><td> 59940499</td><td>500</td><td>*</td><td>chr20:59940000-59940499  </td><td>cd4_naive</td><td>pre-RA</td><td>Healthy</td><td>0.014850938</td><td>5.934066</td><td>0.07059460</td><td> 0.32618180</td><td> 0.29845521</td><td>14.061487</td><td>0.0000000</td><td>13.720650</td><td>0.0</td><td>Promoter</td><td>FAM217B, PPP1R3D</td></tr>\n",
       "\t<tr><td>chr19</td><td> 45141000</td><td> 45141499</td><td>500</td><td>*</td><td>chr19:45141000-45141499  </td><td>cd4_naive</td><td>pre-RA</td><td>Healthy</td><td>0.019172485</td><td>5.485714</td><td>0.07059460</td><td>         NA</td><td> 6.09967524</td><td> 7.295271</td><td>0.1428571</td><td>       NA</td><td>1.0</td><td>Promoter</td><td>PPP1R37         </td></tr>\n",
       "\t<tr><td>chr9 </td><td>125154000</td><td>125154499</td><td>500</td><td>*</td><td>chr9:125154000-125154499 </td><td>cd4_naive</td><td>pre-RA</td><td>Healthy</td><td>0.022773310</td><td>5.185714</td><td>0.07059460</td><td>         NA</td><td>-5.37774071</td><td>       NA</td><td>1.0000000</td><td> 6.541415</td><td>0.2</td><td>Promoter</td><td>PPP6C           </td></tr>\n",
       "\t<tr><td>chrX </td><td>   347000</td><td>   347499</td><td>500</td><td>*</td><td>chrX:347000-347499       </td><td>cd4_naive</td><td>pre-RA</td><td>Healthy</td><td>0.022773310</td><td>5.185714</td><td>0.07059460</td><td> 0.74353273</td><td> 5.85226290</td><td> 7.176949</td><td>0.0000000</td><td> 6.433416</td><td>0.8</td><td>Promoter</td><td>PPP2R3B         </td></tr>\n",
       "\t<tr><td>chrX </td><td>   361500</td><td>   361999</td><td>500</td><td>*</td><td>chrX:361500-361999       </td><td>cd4_naive</td><td>pre-RA</td><td>Healthy</td><td>0.022773310</td><td>5.185714</td><td>0.07059460</td><td>-0.89651852</td><td> 6.00772714</td><td> 7.647061</td><td>0.0000000</td><td> 8.543579</td><td>0.8</td><td>Promoter</td><td>PPP2R3B         </td></tr>\n",
       "\t<tr><td>chr17</td><td> 81833000</td><td> 81833499</td><td>500</td><td>*</td><td>chr17:81833000-81833499  </td><td>cd4_naive</td><td>pre-RA</td><td>Healthy</td><td>0.022990394</td><td>5.169231</td><td>0.07059460</td><td> 0.23187645</td><td> 0.22212064</td><td>14.937023</td><td>0.0000000</td><td>14.740606</td><td>0.0</td><td>Promoter</td><td>MCRIP1, PPP1R27 </td></tr>\n",
       "\t<tr><td>chr19</td><td> 46601000</td><td> 46601499</td><td>500</td><td>*</td><td>chr19:46601000-46601499  </td><td>cd4_naive</td><td>pre-RA</td><td>Healthy</td><td>0.022990394</td><td>5.169231</td><td>0.07059460</td><td>-0.08426531</td><td>-0.09664633</td><td>16.483693</td><td>0.0000000</td><td>16.584059</td><td>0.0</td><td>Promoter</td><td>PPP5D1P, CALM3  </td></tr>\n",
       "\t<tr><td>chr8 </td><td> 26291500</td><td> 26291999</td><td>500</td><td>*</td><td>chr8:26291500-26291999   </td><td>cd4_naive</td><td>pre-RA</td><td>Healthy</td><td>0.022990394</td><td>5.169231</td><td>0.07059460</td><td>-0.11391537</td><td>-0.11082572</td><td>15.331840</td><td>0.0000000</td><td>15.436432</td><td>0.0</td><td>Promoter</td><td>PPP2R2A         </td></tr>\n",
       "\t<tr><td>chr14</td><td>101810000</td><td>101810499</td><td>500</td><td>*</td><td>chr14:101810000-101810499</td><td>cd4_naive</td><td>pre-RA</td><td>Healthy</td><td>0.034755584</td><td>4.457143</td><td>0.08135527</td><td>-0.17210915</td><td>-0.16439161</td><td>14.662269</td><td>0.0000000</td><td>14.834378</td><td>0.0</td><td>Promoter</td><td>PPP2R5C         </td></tr>\n",
       "\t<tr><td>chr14</td><td> 35122500</td><td> 35122999</td><td>500</td><td>*</td><td>chr14:35122500-35122999  </td><td>cd4_naive</td><td>pre-RA</td><td>Healthy</td><td>0.034755584</td><td>4.457143</td><td>0.08135527</td><td>-0.16666492</td><td>-0.15627061</td><td>14.756388</td><td>0.0000000</td><td>14.923053</td><td>0.0</td><td>Promoter</td><td>PPP2R3C, PRORP  </td></tr>\n",
       "\t<tr><td>chr19</td><td> 46600500</td><td> 46600999</td><td>500</td><td>*</td><td>chr19:46600500-46600999  </td><td>cd4_naive</td><td>pre-RA</td><td>Healthy</td><td>0.034755584</td><td>4.457143</td><td>0.08135527</td><td>-0.07243690</td><td>-0.08320755</td><td>16.005343</td><td>0.0000000</td><td>16.055084</td><td>0.0</td><td>Promoter</td><td>PPP5D1P         </td></tr>\n",
       "\t<tr><td>chr4 </td><td>101347500</td><td>101347999</td><td>500</td><td>*</td><td>chr4:101347500-101347999 </td><td>cd4_naive</td><td>pre-RA</td><td>Healthy</td><td>0.034755584</td><td>4.457143</td><td>0.08135527</td><td>-0.06701887</td><td>-0.07773637</td><td>16.095367</td><td>0.0000000</td><td>16.134674</td><td>0.0</td><td>Promoter</td><td>PPP3CA, FLJ20021</td></tr>\n",
       "\t<tr><td>chr6 </td><td> 30679000</td><td> 30679499</td><td>500</td><td>*</td><td>chr6:30679000-30679499   </td><td>cd4_naive</td><td>pre-RA</td><td>Healthy</td><td>0.034755584</td><td>4.457143</td><td>0.08135527</td><td>-0.15940230</td><td>-0.14558655</td><td>13.850986</td><td>0.0000000</td><td>14.024717</td><td>0.0</td><td>Promoter</td><td>PPP1R18         </td></tr>\n",
       "\t<tr><td>chr7 </td><td>100436000</td><td>100436499</td><td>500</td><td>*</td><td>chr7:100436000-100436499 </td><td>cd4_naive</td><td>pre-RA</td><td>Healthy</td><td>0.034755584</td><td>4.457143</td><td>0.08135527</td><td>-0.08853723</td><td>-0.10268790</td><td>14.447265</td><td>0.0000000</td><td>14.501535</td><td>0.0</td><td>Promoter</td><td>PPP1R35         </td></tr>\n",
       "</tbody>\n",
       "</table>\n"
      ],
      "text/latex": [
       "A tibble: 17 × 20\n",
       "\\begin{tabular}{llllllllllllllllllll}\n",
       " seqnames & start & end & width & strand & Tile & CellPopulation & Foreground & Background & P\\_value & Test\\_Statistic & FDR & Log2FC\\_C & MeanDiff & Avg\\_Intensity\\_Case & Pct0\\_Case & Avg\\_Intensity\\_Control & Pct0\\_Control & tileType & Gene\\\\\n",
       " <fct> & <int> & <int> & <int> & <fct> & <chr> & <chr> & <chr> & <chr> & <dbl> & <dbl> & <dbl> & <dbl> & <dbl> & <dbl> & <dbl> & <dbl> & <dbl> & <chr> & <chr>\\\\\n",
       "\\hline\n",
       "\t chr10 & 131956000 & 131956499 & 500 & * & chr10:131956000-131956499 & cd4\\_naive & pre-RA & Healthy & 0.004101401 & 8.238367 & 0.07059460 &          NA &  6.90200860 &  7.006577 & 0.0000000 &        NA & 1.0 & Promoter & PPP2R2D         \\\\\n",
       "\t chrX  &  49286500 &  49286999 & 500 & * & chrX:49286500-49286999    & cd4\\_naive & pre-RA & Healthy & 0.004101401 & 8.238367 & 0.07059460 &          NA &  7.50467806 &  7.176949 & 0.0000000 &        NA & 1.0 & Promoter & PPP1R3F         \\\\\n",
       "\t chr6  &  30067000 &  30067499 & 500 & * & chr6:30067000-30067499    & cd4\\_naive & pre-RA & Healthy & 0.009366112 & 6.751648 & 0.07059460 & -0.11571156 & -0.11166041 & 16.006189 & 0.0000000 & 16.079099 & 0.0 & Promoter & PPP1R11         \\\\\n",
       "\t chr20 &  59940000 &  59940499 & 500 & * & chr20:59940000-59940499   & cd4\\_naive & pre-RA & Healthy & 0.014850938 & 5.934066 & 0.07059460 &  0.32618180 &  0.29845521 & 14.061487 & 0.0000000 & 13.720650 & 0.0 & Promoter & FAM217B, PPP1R3D\\\\\n",
       "\t chr19 &  45141000 &  45141499 & 500 & * & chr19:45141000-45141499   & cd4\\_naive & pre-RA & Healthy & 0.019172485 & 5.485714 & 0.07059460 &          NA &  6.09967524 &  7.295271 & 0.1428571 &        NA & 1.0 & Promoter & PPP1R37         \\\\\n",
       "\t chr9  & 125154000 & 125154499 & 500 & * & chr9:125154000-125154499  & cd4\\_naive & pre-RA & Healthy & 0.022773310 & 5.185714 & 0.07059460 &          NA & -5.37774071 &        NA & 1.0000000 &  6.541415 & 0.2 & Promoter & PPP6C           \\\\\n",
       "\t chrX  &    347000 &    347499 & 500 & * & chrX:347000-347499        & cd4\\_naive & pre-RA & Healthy & 0.022773310 & 5.185714 & 0.07059460 &  0.74353273 &  5.85226290 &  7.176949 & 0.0000000 &  6.433416 & 0.8 & Promoter & PPP2R3B         \\\\\n",
       "\t chrX  &    361500 &    361999 & 500 & * & chrX:361500-361999        & cd4\\_naive & pre-RA & Healthy & 0.022773310 & 5.185714 & 0.07059460 & -0.89651852 &  6.00772714 &  7.647061 & 0.0000000 &  8.543579 & 0.8 & Promoter & PPP2R3B         \\\\\n",
       "\t chr17 &  81833000 &  81833499 & 500 & * & chr17:81833000-81833499   & cd4\\_naive & pre-RA & Healthy & 0.022990394 & 5.169231 & 0.07059460 &  0.23187645 &  0.22212064 & 14.937023 & 0.0000000 & 14.740606 & 0.0 & Promoter & MCRIP1, PPP1R27 \\\\\n",
       "\t chr19 &  46601000 &  46601499 & 500 & * & chr19:46601000-46601499   & cd4\\_naive & pre-RA & Healthy & 0.022990394 & 5.169231 & 0.07059460 & -0.08426531 & -0.09664633 & 16.483693 & 0.0000000 & 16.584059 & 0.0 & Promoter & PPP5D1P, CALM3  \\\\\n",
       "\t chr8  &  26291500 &  26291999 & 500 & * & chr8:26291500-26291999    & cd4\\_naive & pre-RA & Healthy & 0.022990394 & 5.169231 & 0.07059460 & -0.11391537 & -0.11082572 & 15.331840 & 0.0000000 & 15.436432 & 0.0 & Promoter & PPP2R2A         \\\\\n",
       "\t chr14 & 101810000 & 101810499 & 500 & * & chr14:101810000-101810499 & cd4\\_naive & pre-RA & Healthy & 0.034755584 & 4.457143 & 0.08135527 & -0.17210915 & -0.16439161 & 14.662269 & 0.0000000 & 14.834378 & 0.0 & Promoter & PPP2R5C         \\\\\n",
       "\t chr14 &  35122500 &  35122999 & 500 & * & chr14:35122500-35122999   & cd4\\_naive & pre-RA & Healthy & 0.034755584 & 4.457143 & 0.08135527 & -0.16666492 & -0.15627061 & 14.756388 & 0.0000000 & 14.923053 & 0.0 & Promoter & PPP2R3C, PRORP  \\\\\n",
       "\t chr19 &  46600500 &  46600999 & 500 & * & chr19:46600500-46600999   & cd4\\_naive & pre-RA & Healthy & 0.034755584 & 4.457143 & 0.08135527 & -0.07243690 & -0.08320755 & 16.005343 & 0.0000000 & 16.055084 & 0.0 & Promoter & PPP5D1P         \\\\\n",
       "\t chr4  & 101347500 & 101347999 & 500 & * & chr4:101347500-101347999  & cd4\\_naive & pre-RA & Healthy & 0.034755584 & 4.457143 & 0.08135527 & -0.06701887 & -0.07773637 & 16.095367 & 0.0000000 & 16.134674 & 0.0 & Promoter & PPP3CA, FLJ20021\\\\\n",
       "\t chr6  &  30679000 &  30679499 & 500 & * & chr6:30679000-30679499    & cd4\\_naive & pre-RA & Healthy & 0.034755584 & 4.457143 & 0.08135527 & -0.15940230 & -0.14558655 & 13.850986 & 0.0000000 & 14.024717 & 0.0 & Promoter & PPP1R18         \\\\\n",
       "\t chr7  & 100436000 & 100436499 & 500 & * & chr7:100436000-100436499  & cd4\\_naive & pre-RA & Healthy & 0.034755584 & 4.457143 & 0.08135527 & -0.08853723 & -0.10268790 & 14.447265 & 0.0000000 & 14.501535 & 0.0 & Promoter & PPP1R35         \\\\\n",
       "\\end{tabular}\n"
      ],
      "text/markdown": [
       "\n",
       "A tibble: 17 × 20\n",
       "\n",
       "| seqnames &lt;fct&gt; | start &lt;int&gt; | end &lt;int&gt; | width &lt;int&gt; | strand &lt;fct&gt; | Tile &lt;chr&gt; | CellPopulation &lt;chr&gt; | Foreground &lt;chr&gt; | Background &lt;chr&gt; | P_value &lt;dbl&gt; | Test_Statistic &lt;dbl&gt; | FDR &lt;dbl&gt; | Log2FC_C &lt;dbl&gt; | MeanDiff &lt;dbl&gt; | Avg_Intensity_Case &lt;dbl&gt; | Pct0_Case &lt;dbl&gt; | Avg_Intensity_Control &lt;dbl&gt; | Pct0_Control &lt;dbl&gt; | tileType &lt;chr&gt; | Gene &lt;chr&gt; |\n",
       "|---|---|---|---|---|---|---|---|---|---|---|---|---|---|---|---|---|---|---|---|\n",
       "| chr10 | 131956000 | 131956499 | 500 | * | chr10:131956000-131956499 | cd4_naive | pre-RA | Healthy | 0.004101401 | 8.238367 | 0.07059460 |          NA |  6.90200860 |  7.006577 | 0.0000000 |        NA | 1.0 | Promoter | PPP2R2D          |\n",
       "| chrX  |  49286500 |  49286999 | 500 | * | chrX:49286500-49286999    | cd4_naive | pre-RA | Healthy | 0.004101401 | 8.238367 | 0.07059460 |          NA |  7.50467806 |  7.176949 | 0.0000000 |        NA | 1.0 | Promoter | PPP1R3F          |\n",
       "| chr6  |  30067000 |  30067499 | 500 | * | chr6:30067000-30067499    | cd4_naive | pre-RA | Healthy | 0.009366112 | 6.751648 | 0.07059460 | -0.11571156 | -0.11166041 | 16.006189 | 0.0000000 | 16.079099 | 0.0 | Promoter | PPP1R11          |\n",
       "| chr20 |  59940000 |  59940499 | 500 | * | chr20:59940000-59940499   | cd4_naive | pre-RA | Healthy | 0.014850938 | 5.934066 | 0.07059460 |  0.32618180 |  0.29845521 | 14.061487 | 0.0000000 | 13.720650 | 0.0 | Promoter | FAM217B, PPP1R3D |\n",
       "| chr19 |  45141000 |  45141499 | 500 | * | chr19:45141000-45141499   | cd4_naive | pre-RA | Healthy | 0.019172485 | 5.485714 | 0.07059460 |          NA |  6.09967524 |  7.295271 | 0.1428571 |        NA | 1.0 | Promoter | PPP1R37          |\n",
       "| chr9  | 125154000 | 125154499 | 500 | * | chr9:125154000-125154499  | cd4_naive | pre-RA | Healthy | 0.022773310 | 5.185714 | 0.07059460 |          NA | -5.37774071 |        NA | 1.0000000 |  6.541415 | 0.2 | Promoter | PPP6C            |\n",
       "| chrX  |    347000 |    347499 | 500 | * | chrX:347000-347499        | cd4_naive | pre-RA | Healthy | 0.022773310 | 5.185714 | 0.07059460 |  0.74353273 |  5.85226290 |  7.176949 | 0.0000000 |  6.433416 | 0.8 | Promoter | PPP2R3B          |\n",
       "| chrX  |    361500 |    361999 | 500 | * | chrX:361500-361999        | cd4_naive | pre-RA | Healthy | 0.022773310 | 5.185714 | 0.07059460 | -0.89651852 |  6.00772714 |  7.647061 | 0.0000000 |  8.543579 | 0.8 | Promoter | PPP2R3B          |\n",
       "| chr17 |  81833000 |  81833499 | 500 | * | chr17:81833000-81833499   | cd4_naive | pre-RA | Healthy | 0.022990394 | 5.169231 | 0.07059460 |  0.23187645 |  0.22212064 | 14.937023 | 0.0000000 | 14.740606 | 0.0 | Promoter | MCRIP1, PPP1R27  |\n",
       "| chr19 |  46601000 |  46601499 | 500 | * | chr19:46601000-46601499   | cd4_naive | pre-RA | Healthy | 0.022990394 | 5.169231 | 0.07059460 | -0.08426531 | -0.09664633 | 16.483693 | 0.0000000 | 16.584059 | 0.0 | Promoter | PPP5D1P, CALM3   |\n",
       "| chr8  |  26291500 |  26291999 | 500 | * | chr8:26291500-26291999    | cd4_naive | pre-RA | Healthy | 0.022990394 | 5.169231 | 0.07059460 | -0.11391537 | -0.11082572 | 15.331840 | 0.0000000 | 15.436432 | 0.0 | Promoter | PPP2R2A          |\n",
       "| chr14 | 101810000 | 101810499 | 500 | * | chr14:101810000-101810499 | cd4_naive | pre-RA | Healthy | 0.034755584 | 4.457143 | 0.08135527 | -0.17210915 | -0.16439161 | 14.662269 | 0.0000000 | 14.834378 | 0.0 | Promoter | PPP2R5C          |\n",
       "| chr14 |  35122500 |  35122999 | 500 | * | chr14:35122500-35122999   | cd4_naive | pre-RA | Healthy | 0.034755584 | 4.457143 | 0.08135527 | -0.16666492 | -0.15627061 | 14.756388 | 0.0000000 | 14.923053 | 0.0 | Promoter | PPP2R3C, PRORP   |\n",
       "| chr19 |  46600500 |  46600999 | 500 | * | chr19:46600500-46600999   | cd4_naive | pre-RA | Healthy | 0.034755584 | 4.457143 | 0.08135527 | -0.07243690 | -0.08320755 | 16.005343 | 0.0000000 | 16.055084 | 0.0 | Promoter | PPP5D1P          |\n",
       "| chr4  | 101347500 | 101347999 | 500 | * | chr4:101347500-101347999  | cd4_naive | pre-RA | Healthy | 0.034755584 | 4.457143 | 0.08135527 | -0.06701887 | -0.07773637 | 16.095367 | 0.0000000 | 16.134674 | 0.0 | Promoter | PPP3CA, FLJ20021 |\n",
       "| chr6  |  30679000 |  30679499 | 500 | * | chr6:30679000-30679499    | cd4_naive | pre-RA | Healthy | 0.034755584 | 4.457143 | 0.08135527 | -0.15940230 | -0.14558655 | 13.850986 | 0.0000000 | 14.024717 | 0.0 | Promoter | PPP1R18          |\n",
       "| chr7  | 100436000 | 100436499 | 500 | * | chr7:100436000-100436499  | cd4_naive | pre-RA | Healthy | 0.034755584 | 4.457143 | 0.08135527 | -0.08853723 | -0.10268790 | 14.447265 | 0.0000000 | 14.501535 | 0.0 | Promoter | PPP1R35          |\n",
       "\n"
      ],
      "text/plain": [
       "   seqnames start     end       width strand Tile                     \n",
       "1  chr10    131956000 131956499 500   *      chr10:131956000-131956499\n",
       "2  chrX      49286500  49286999 500   *      chrX:49286500-49286999   \n",
       "3  chr6      30067000  30067499 500   *      chr6:30067000-30067499   \n",
       "4  chr20     59940000  59940499 500   *      chr20:59940000-59940499  \n",
       "5  chr19     45141000  45141499 500   *      chr19:45141000-45141499  \n",
       "6  chr9     125154000 125154499 500   *      chr9:125154000-125154499 \n",
       "7  chrX        347000    347499 500   *      chrX:347000-347499       \n",
       "8  chrX        361500    361999 500   *      chrX:361500-361999       \n",
       "9  chr17     81833000  81833499 500   *      chr17:81833000-81833499  \n",
       "10 chr19     46601000  46601499 500   *      chr19:46601000-46601499  \n",
       "11 chr8      26291500  26291999 500   *      chr8:26291500-26291999   \n",
       "12 chr14    101810000 101810499 500   *      chr14:101810000-101810499\n",
       "13 chr14     35122500  35122999 500   *      chr14:35122500-35122999  \n",
       "14 chr19     46600500  46600999 500   *      chr19:46600500-46600999  \n",
       "15 chr4     101347500 101347999 500   *      chr4:101347500-101347999 \n",
       "16 chr6      30679000  30679499 500   *      chr6:30679000-30679499   \n",
       "17 chr7     100436000 100436499 500   *      chr7:100436000-100436499 \n",
       "   CellPopulation Foreground Background P_value     Test_Statistic FDR       \n",
       "1  cd4_naive      pre-RA     Healthy    0.004101401 8.238367       0.07059460\n",
       "2  cd4_naive      pre-RA     Healthy    0.004101401 8.238367       0.07059460\n",
       "3  cd4_naive      pre-RA     Healthy    0.009366112 6.751648       0.07059460\n",
       "4  cd4_naive      pre-RA     Healthy    0.014850938 5.934066       0.07059460\n",
       "5  cd4_naive      pre-RA     Healthy    0.019172485 5.485714       0.07059460\n",
       "6  cd4_naive      pre-RA     Healthy    0.022773310 5.185714       0.07059460\n",
       "7  cd4_naive      pre-RA     Healthy    0.022773310 5.185714       0.07059460\n",
       "8  cd4_naive      pre-RA     Healthy    0.022773310 5.185714       0.07059460\n",
       "9  cd4_naive      pre-RA     Healthy    0.022990394 5.169231       0.07059460\n",
       "10 cd4_naive      pre-RA     Healthy    0.022990394 5.169231       0.07059460\n",
       "11 cd4_naive      pre-RA     Healthy    0.022990394 5.169231       0.07059460\n",
       "12 cd4_naive      pre-RA     Healthy    0.034755584 4.457143       0.08135527\n",
       "13 cd4_naive      pre-RA     Healthy    0.034755584 4.457143       0.08135527\n",
       "14 cd4_naive      pre-RA     Healthy    0.034755584 4.457143       0.08135527\n",
       "15 cd4_naive      pre-RA     Healthy    0.034755584 4.457143       0.08135527\n",
       "16 cd4_naive      pre-RA     Healthy    0.034755584 4.457143       0.08135527\n",
       "17 cd4_naive      pre-RA     Healthy    0.034755584 4.457143       0.08135527\n",
       "   Log2FC_C    MeanDiff    Avg_Intensity_Case Pct0_Case Avg_Intensity_Control\n",
       "1           NA  6.90200860  7.006577          0.0000000        NA            \n",
       "2           NA  7.50467806  7.176949          0.0000000        NA            \n",
       "3  -0.11571156 -0.11166041 16.006189          0.0000000 16.079099            \n",
       "4   0.32618180  0.29845521 14.061487          0.0000000 13.720650            \n",
       "5           NA  6.09967524  7.295271          0.1428571        NA            \n",
       "6           NA -5.37774071        NA          1.0000000  6.541415            \n",
       "7   0.74353273  5.85226290  7.176949          0.0000000  6.433416            \n",
       "8  -0.89651852  6.00772714  7.647061          0.0000000  8.543579            \n",
       "9   0.23187645  0.22212064 14.937023          0.0000000 14.740606            \n",
       "10 -0.08426531 -0.09664633 16.483693          0.0000000 16.584059            \n",
       "11 -0.11391537 -0.11082572 15.331840          0.0000000 15.436432            \n",
       "12 -0.17210915 -0.16439161 14.662269          0.0000000 14.834378            \n",
       "13 -0.16666492 -0.15627061 14.756388          0.0000000 14.923053            \n",
       "14 -0.07243690 -0.08320755 16.005343          0.0000000 16.055084            \n",
       "15 -0.06701887 -0.07773637 16.095367          0.0000000 16.134674            \n",
       "16 -0.15940230 -0.14558655 13.850986          0.0000000 14.024717            \n",
       "17 -0.08853723 -0.10268790 14.447265          0.0000000 14.501535            \n",
       "   Pct0_Control tileType Gene            \n",
       "1  1.0          Promoter PPP2R2D         \n",
       "2  1.0          Promoter PPP1R3F         \n",
       "3  0.0          Promoter PPP1R11         \n",
       "4  0.0          Promoter FAM217B, PPP1R3D\n",
       "5  1.0          Promoter PPP1R37         \n",
       "6  0.2          Promoter PPP6C           \n",
       "7  0.8          Promoter PPP2R3B         \n",
       "8  0.8          Promoter PPP2R3B         \n",
       "9  0.0          Promoter MCRIP1, PPP1R27 \n",
       "10 0.0          Promoter PPP5D1P, CALM3  \n",
       "11 0.0          Promoter PPP2R2A         \n",
       "12 0.0          Promoter PPP2R5C         \n",
       "13 0.0          Promoter PPP2R3C, PRORP  \n",
       "14 0.0          Promoter PPP5D1P         \n",
       "15 0.0          Promoter PPP3CA, FLJ20021\n",
       "16 0.0          Promoter PPP1R18         \n",
       "17 0.0          Promoter PPP1R35         "
      ]
     },
     "metadata": {},
     "output_type": "display_data"
    }
   ],
   "source": [
    "cd4na_diff_sig %>%\n",
    "    as_tibble() %>%\n",
    "    filter(str_detect(Gene, \"PPP\"))\n"
   ]
  },
  {
   "cell_type": "code",
   "execution_count": 41,
   "metadata": {
    "vscode": {
     "languageId": "r"
    }
   },
   "outputs": [],
   "source": [
    "cd4na_diff_sig %>%\n",
    "    as_tibble() %>%\n",
    "    write_csv(file.path(output_path, paste0(proj_name, \"cd4na_atac_sig_daps.csv\")))\n"
   ]
  },
  {
   "cell_type": "markdown",
   "metadata": {},
   "source": [
    "### TSS start site analysis"
   ]
  },
  {
   "cell_type": "code",
   "execution_count": null,
   "metadata": {
    "vscode": {
     "languageId": "r"
    }
   },
   "outputs": [],
   "source": [
    "cd4na_diff_tss <- getAltTSS(cd4na_diff, returnAllTSS = TRUE, effectSize = \"Log2FC_C\")\n"
   ]
  },
  {
   "cell_type": "code",
   "execution_count": null,
   "metadata": {
    "tags": [],
    "vscode": {
     "languageId": "r"
    }
   },
   "outputs": [],
   "source": [
    "cd4na_diff_tss_tb <- cd4na_diff_tss %>%\n",
    "    as_tibble() %>%\n",
    "    distinct(Tile, .keep_all = TRUE) %>%\n",
    "    filter(!is.na(Gene) & !is.na(FDR) & !is.na(Log2FC_C)) %>%\n",
    "    distinct(name, .keep_all = TRUE) %>%\n",
    "    mutate(log10fdr_dir = -log10(FDR) * sign(Log2FC_C))\n",
    "cd4na_diff_tss_tb %>% head()\n"
   ]
  },
  {
   "cell_type": "code",
   "execution_count": null,
   "metadata": {
    "vscode": {
     "languageId": "r"
    }
   },
   "outputs": [],
   "source": [
    "marker_genes <- c(\"GATA3\", \"RORC\", \"FOXP3\", \"TBX21\", \"IKZF2\", \"STAT3\", \"RORA\", \"IFNG-AS1\", \"CCL5\")\n",
    "\n",
    "cd4na_diff_tss_tb %>% filter(FDR < 0.2 & str_detect(name, \"IL\\\\d|CD\\\\d|IFN|TNF\"))\n"
   ]
  },
  {
   "cell_type": "code",
   "execution_count": null,
   "metadata": {
    "vscode": {
     "languageId": "r"
    }
   },
   "outputs": [],
   "source": [
    "cd4na_diff_tss_tb %>% colnames()\n",
    "cd4na_diff_tss_tb$Test_Statistic %>% hist()\n"
   ]
  },
  {
   "cell_type": "code",
   "execution_count": null,
   "metadata": {
    "tags": [],
    "vscode": {
     "languageId": "r"
    }
   },
   "outputs": [],
   "source": [
    "p1 <- EnhancedVolcano::EnhancedVolcano(cd4na_diff_tss_tb,\n",
    "     title = NULL,\n",
    "     subtitle = NULL,\n",
    "     lab = cd4na_diff_tss_tb %>% pull(name),\n",
    "     x = \"Log2FC_C\",\n",
    "     FCcutoff = 0.1,\n",
    "     pCutoff = 0.2,\n",
    "     y = \"FDR\", labSize = 3.0\n",
    ") +\n",
    "     coord_cartesian(xlim = c(-2.5, 2.5), ylim = c(0, 0.8)) +\n",
    "     theme(\n",
    "          legend.position = \"bottom\", legend.title = element_blank(),\n",
    "          text = element_text(size = 12)\n",
    "     )\n",
    "p1\n",
    "ggsave(file.path(fig_path, paste0(proj_name, \"_cd4na_DA_TSS_valcano_plot.pdf\")),\n",
    "     width = 16, height = 12\n",
    ")\n"
   ]
  },
  {
   "cell_type": "code",
   "execution_count": null,
   "metadata": {
    "vscode": {
     "languageId": "r"
    }
   },
   "outputs": [],
   "source": [
    "cd4na_tss_gsea <- RunGSEA(\n",
    "    ranked_list = cd4na_diff_tss_tb, gmx = gmx,\n",
    "    gene_col = \"name\", rank_col = \"Log2FC_C\",\n",
    "    collapsePathways = TRUE\n",
    ")\n",
    "cd4na_tss_gsea\n"
   ]
  },
  {
   "cell_type": "code",
   "execution_count": null,
   "metadata": {
    "tags": [],
    "vscode": {
     "languageId": "r"
    }
   },
   "outputs": [],
   "source": [
    "# isolate the results for promotor\n",
    "cd4na_diff_prom <- cd4na_diff[(!is.na(elementMetadata(cd4na_diff)[, \"FDR\"])) &\n",
    "    elementMetadata(cd4na_diff)[, \"tileType\"] == \"Promoter\"]\n",
    "# cd4na_diff_prom$fdr_prom = p.adjust(cd4na_diff_prom$P_value, method='BH')\n",
    "# cd4na_diff_prom$FDR <- p.adjust(cd4na_diff_prom$P_value, method='BH')\n"
   ]
  },
  {
   "cell_type": "code",
   "execution_count": null,
   "metadata": {
    "vscode": {
     "languageId": "r"
    }
   },
   "outputs": [],
   "source": []
  },
  {
   "cell_type": "code",
   "execution_count": null,
   "metadata": {
    "tags": [],
    "vscode": {
     "languageId": "r"
    }
   },
   "outputs": [],
   "source": [
    "cd4na_diff_prom %>%\n",
    "    filter(FDR < 0.2 & abs(Log2FC_C) > 0.5) %>%\n",
    "    as_tibble() %>%\n",
    "    group_by(Gene) %>%\n",
    "    tally() %>%\n",
    "    arrange(desc(n))\n"
   ]
  },
  {
   "cell_type": "code",
   "execution_count": null,
   "metadata": {
    "tags": [],
    "vscode": {
     "languageId": "r"
    }
   },
   "outputs": [],
   "source": [
    "cd4na_diff_prom %>%\n",
    "    filter(FDR < 0.2) %>%\n",
    "    as_tibble() %>%\n",
    "    arrange(desc(Log2FC_C)) %>%\n",
    "    head(30)\n"
   ]
  },
  {
   "cell_type": "code",
   "execution_count": null,
   "metadata": {
    "tags": [],
    "vscode": {
     "languageId": "r"
    }
   },
   "outputs": [],
   "source": [
    "cd4na_diff_prom %>%\n",
    "    filter(str_detect(Gene, \"CD\\\\d|IL\\\\d|IL17|TGFBR\")) %>%\n",
    "    as_tibble() %>%\n",
    "    arrange(FDR) %>%\n",
    "    distinct(Gene) %>%\n",
    "    pull(Gene)\n"
   ]
  },
  {
   "cell_type": "code",
   "execution_count": null,
   "metadata": {
    "tags": [],
    "vscode": {
     "languageId": "r"
    }
   },
   "outputs": [],
   "source": [
    "marker_genes <- c(\n",
    "    \"IFNG-AS1\", \"IL17A\", \"IL17F\", \"IL22\", \"IFN\", \"IL4\", \"CSF\", \"IL\\\\d\",\n",
    "    \"IL12A\", \"IL10\", \"IL5\", \"IL13\", \"RORC\", \"STAT3\", \"RORA\", \"FOXP3\", \"TBX21\"\n",
    ")\n",
    "cd4na_diff_prom[str_detect(elementMetadata(cd4na_diff_prom)[, \"Gene\"], paste(marker_genes, collapse = \"|\"))] %>%\n",
    "    as_tibble() %>%\n",
    "    filter(FDR < 0.2)\n"
   ]
  },
  {
   "cell_type": "code",
   "execution_count": null,
   "metadata": {
    "vscode": {
     "languageId": "r"
    }
   },
   "outputs": [],
   "source": [
    "gene_name <- \"IL21\"\n",
    "sig_gene_diff <- cd4na_diff_prom %>%\n",
    "    filter(FDR < 0.2 & str_detect(Gene, gene_name)) %>%\n",
    "    as_tibble() %>%\n",
    "    arrange(desc(Log2FC_C))\n",
    "plot_gene_ranges <- paste0(\n",
    "    unique(sig_gene_diff$seqnames), \":\", min(sig_gene_diff$start) - 1000,\n",
    "    \"-\", max(sig_gene_diff$end) + 1000\n",
    ")\n",
    "plot_gene_ranges\n"
   ]
  },
  {
   "cell_type": "code",
   "execution_count": null,
   "metadata": {
    "vscode": {
     "languageId": "r"
    }
   },
   "outputs": [],
   "source": [
    "sig_gene_diff\n"
   ]
  },
  {
   "cell_type": "code",
   "execution_count": null,
   "metadata": {
    "vscode": {
     "languageId": "r"
    }
   },
   "outputs": [],
   "source": [
    "# plot DAP promoters region\n",
    "# get the gene names and gene ranges\n",
    "gene_name <- \"TGFBR1\"\n",
    "gene_ranges <- txList[[gene_name]] %>%\n",
    "    as_tibble() %>%\n",
    "    mutate(gene_range = paste0(seqnames, \":\", start - 2000, \"-\", end + 2000))\n",
    "# marker_genes='EIF1'\n",
    "# gene_ranges <- cd4na_diff_prom[str_detect(elementMetadata(cd4na_diff_prom)[,'Gene'],\n",
    "#                                           paste(marker_genes,collapse = '|'))] %>%\n",
    "#     as_tibble() %>% filter(FDR<0.2)\n",
    "plot_gene_ranges <- gene_ranges$gene_range[1]\n"
   ]
  },
  {
   "cell_type": "code",
   "execution_count": null,
   "metadata": {
    "vscode": {
     "languageId": "r"
    }
   },
   "outputs": [],
   "source": [
    "####################################################\n",
    "# 5. (Optional) Plot a specific region's coverage.\n",
    "#    Here we plot coverage at a specific region and\n",
    "#    gene by infection stage.\n",
    "####################################################\n",
    "countSE <- MOCHA::extractRegion(\n",
    "  SampleTileObj = SampleTileMatricesAnnotated,\n",
    "  cellPopulations = \"cd4_naive\",\n",
    "  region = plot_gene_ranges,\n",
    "  groupColumn = \"cohort\",\n",
    "  numCores = 62,\n",
    "  sampleSpecific = FALSE\n",
    ")\n"
   ]
  },
  {
   "cell_type": "code",
   "execution_count": null,
   "metadata": {
    "tags": [],
    "vscode": {
     "languageId": "r"
    }
   },
   "outputs": [],
   "source": [
    "countSE\n"
   ]
  },
  {
   "cell_type": "code",
   "execution_count": null,
   "metadata": {
    "tags": [],
    "vscode": {
     "languageId": "r"
    }
   },
   "outputs": [],
   "source": [
    "pdf(file.path(fig_path, paste0(\n",
    "    \"cd4_naive_atac_annotate_\",\n",
    "    gene_name, \"_gene_regions.pdf\"\n",
    ")), width = 16, height = 12)\n",
    "MOCHA::plotRegion(countSE = countSE)\n",
    "dev.off()\n"
   ]
  },
  {
   "cell_type": "code",
   "execution_count": null,
   "metadata": {
    "vscode": {
     "languageId": "r"
    }
   },
   "outputs": [],
   "source": [
    "countSE\n"
   ]
  },
  {
   "cell_type": "code",
   "execution_count": null,
   "metadata": {
    "vscode": {
     "languageId": "r"
    }
   },
   "outputs": [],
   "source": [
    "countSE <- MOCHA::addAccessibilityShift(CountSE = countSE, foreground = \"cd4_naive.pre-RA\", background = \"cd4_naive.Healthy\")\n"
   ]
  },
  {
   "cell_type": "code",
   "execution_count": null,
   "metadata": {
    "vscode": {
     "languageId": "r"
    }
   },
   "outputs": [],
   "source": [
    "pdf(file.path(fig_path, paste0(\n",
    "    \"cd4_naive_atac_annotate_\",\n",
    "    gene_name, \"_gene_regions.pdf\"\n",
    ")), width = 16, height = 12)\n",
    "MOCHA::plotRegion(countSE = countSE)\n",
    "dev.off()\n"
   ]
  },
  {
   "cell_type": "code",
   "execution_count": null,
   "metadata": {
    "vscode": {
     "languageId": "r"
    }
   },
   "outputs": [],
   "source": [
    "MOCHA::plotRegion(countSE = countSE)\n"
   ]
  },
  {
   "cell_type": "markdown",
   "metadata": {},
   "source": [
    "### take a look of the genes promoter and expression difference"
   ]
  },
  {
   "cell_type": "code",
   "execution_count": null,
   "metadata": {
    "vscode": {
     "languageId": "r"
    }
   },
   "outputs": [],
   "source": [
    "# get deg list of the cd4 naive\n",
    "cd4na_pseudo_degs <- ra_tea_cd4_pseudo_degs %>%\n",
    "    filter(cell_type == \"cd4_naive\") %>%\n",
    "    mutate(\"log10FDR\" = if_else(logFC > 0, -log10(FDR), log10(FDR)))\n",
    "cd4na_pseudo_degs %>% head()\n"
   ]
  },
  {
   "cell_type": "code",
   "execution_count": null,
   "metadata": {
    "vscode": {
     "languageId": "r"
    }
   },
   "outputs": [],
   "source": [
    "# get dap promoter list of the cd4 naive\n",
    "cd4na_dap_prom <- cd4na_diff_prom %>%\n",
    "    as_tibble() %>%\n",
    "    mutate(\"log10FDR\" = if_else(Log2FC_C > 0, -log10(FDR), log10(FDR))) %>%\n",
    "    dplyr::rename(\"gene\" = \"Gene\")\n",
    "cd4na_dap_prom %>%\n",
    "    filter(FDR < 0.2) %>%\n",
    "    head()\n",
    "cd4na_dap_prom %>%\n",
    "    filter(str_detect(gene, \",\")) %>%\n",
    "    nrow()\n",
    "cd4na_diff_prom %>%\n",
    "    as_tibble() %>%\n",
    "    nrow()\n"
   ]
  },
  {
   "cell_type": "code",
   "execution_count": null,
   "metadata": {
    "vscode": {
     "languageId": "r"
    }
   },
   "outputs": [],
   "source": [
    "# join two list\n",
    "cd4na_degs_dap_prom <- cd4na_pseudo_degs %>%\n",
    "    full_join(cd4na_dap_prom, by = \"gene\", suffix = c(\"_rna\", \"_atac\")) %>%\n",
    "    mutate(log10FDR_rna = replace_na(log10FDR_rna, 0), log10FDR_atac = replace_na(log10FDR_atac, 0)) %>%\n",
    "    filter(!str_detect(gene, \",\"))\n",
    "cd4na_degs_dap_prom %>% head()\n"
   ]
  },
  {
   "cell_type": "code",
   "execution_count": null,
   "metadata": {
    "vscode": {
     "languageId": "r"
    }
   },
   "outputs": [],
   "source": [
    "cd4na_degs_dap_prom %>% filter(str_detect(gene, \"TGFBR|CARD11|IL\\\\d\") & FDR_atac < 0.3)\n"
   ]
  },
  {
   "cell_type": "code",
   "execution_count": null,
   "metadata": {
    "vscode": {
     "languageId": "r"
    }
   },
   "outputs": [],
   "source": [
    "fig_path\n"
   ]
  },
  {
   "cell_type": "code",
   "execution_count": null,
   "metadata": {
    "vscode": {
     "languageId": "r"
    }
   },
   "outputs": [],
   "source": [
    "#\n",
    "cd4na_degs_dap_prom %>% ggplot(aes(x = log10FDR_rna, y = log10FDR_atac, label = gene)) +\n",
    "    geom_point() +\n",
    "    geom_hline(yintercept = -log10(0.2), linetype = \"dashed\", color = \"red\") +\n",
    "    geom_hline(yintercept = log10(0.2), linetype = \"dashed\", color = \"red\") +\n",
    "    geom_vline(xintercept = -log10(0.2), linetype = \"dashed\", color = \"red\") +\n",
    "    geom_vline(xintercept = log10(0.2), linetype = \"dashed\", color = \"red\")\n",
    "ggsave(file.path(fig_path, paste0(proj_name, \"_gene_exp_promotor_DA_promoters.pdf\")), width = 6, height = 6)\n"
   ]
  },
  {
   "cell_type": "code",
   "execution_count": null,
   "metadata": {
    "vscode": {
     "languageId": "r"
    }
   },
   "outputs": [],
   "source": [
    "poised_gene <- cd4na_degs_dap_prom %>%\n",
    "    filter(FDR_atac < 0.2 & FDR_rna > 0.05 & Log2FC_C > 0) %>%\n",
    "    pull(gene) %>%\n",
    "    str_split(\", \") %>%\n",
    "    unlist() %>%\n",
    "    unique()\n",
    "\n",
    "# pathway enrichment for cd4na\n",
    "enrich_cd4na_posied <- enrichr(poised_gene, c(\"KEGG_2021_Human\", \"MSigDB_Hallmark_2020\"))\n"
   ]
  },
  {
   "cell_type": "code",
   "execution_count": null,
   "metadata": {
    "tags": [],
    "vscode": {
     "languageId": "r"
    }
   },
   "outputs": [],
   "source": [
    "poised_gene\n"
   ]
  },
  {
   "cell_type": "code",
   "execution_count": null,
   "metadata": {
    "vscode": {
     "languageId": "r"
    }
   },
   "outputs": [],
   "source": [
    "enrich_cd4na_posied[[\"MSigDB_Hallmark_2020\"]] %>%\n",
    "    filter(Adjusted.P.value < 0.05) %>%\n",
    "    dplyr::select(-c(Old.P.value, Old.Adjusted.P.value))\n"
   ]
  },
  {
   "cell_type": "code",
   "execution_count": null,
   "metadata": {
    "vscode": {
     "languageId": "r"
    }
   },
   "outputs": [],
   "source": [
    "enrich_cd4na_posied[[\"KEGG_2021_Human\"]] %>%\n",
    "    filter(Adjusted.P.value < 0.05) %>%\n",
    "    dplyr::select(-c(Old.P.value, Old.Adjusted.P.value))\n"
   ]
  },
  {
   "cell_type": "code",
   "execution_count": null,
   "metadata": {
    "vscode": {
     "languageId": "r"
    }
   },
   "outputs": [],
   "source": [
    "# get dap promoter list of the cd4 naive\n",
    "cd4na_dap_prom <- cd4na_diff_prom %>%\n",
    "    as_tibble() %>%\n",
    "    mutate(\"log10FDR\" = if_else(Log2FC_C > 0, -log10(FDR), log10(FDR))) %>%\n",
    "    dplyr::rename(\"gene\" = \"Gene\")\n",
    "cd4na_dap_prom %>%\n",
    "    filter(FDR < 0.2) %>%\n",
    "    head()\n",
    "cd4na_dap_prom %>%\n",
    "    filter(str_detect(gene, \",\")) %>%\n",
    "    nrow()\n",
    "cd4na_diff_prom %>%\n",
    "    as_tibble() %>%\n",
    "    nrow()\n"
   ]
  },
  {
   "cell_type": "markdown",
   "metadata": {},
   "source": [
    "### run DAP analysis for cd4 memory"
   ]
  },
  {
   "cell_type": "code",
   "execution_count": null,
   "metadata": {
    "vscode": {
     "languageId": "r"
    }
   },
   "outputs": [],
   "source": [
    "SampleTileMatricesAnnotated\n"
   ]
  },
  {
   "cell_type": "code",
   "execution_count": null,
   "metadata": {
    "vscode": {
     "languageId": "r"
    }
   },
   "outputs": [],
   "source": [
    "# replace NA as 0\n",
    "cd4n_counts <- assay(SampleTileMatricesAnnotated, \"cd4_memory\") %>% as.data.frame()\n",
    "cd4n_counts[is.na(cd4n_counts)] <- 0\n",
    "assay(SampleTileMatricesAnnotated, \"cd4_memory\") <- cd4n_counts %>% as.matrix()\n"
   ]
  },
  {
   "cell_type": "code",
   "execution_count": null,
   "metadata": {
    "vscode": {
     "languageId": "r"
    }
   },
   "outputs": [],
   "source": [
    "assay(SampleTileMatricesAnnotated, \"cd4_memory\") %>% anyNA()\n"
   ]
  },
  {
   "cell_type": "code",
   "execution_count": null,
   "metadata": {
    "vscode": {
     "languageId": "r"
    }
   },
   "outputs": [],
   "source": [
    "####################################################\n",
    "# 5. Get differential accessibility for specific\n",
    "#    cell populations. Here we are comparing MAIT\n",
    "#    cells between samples where our groupColumn\n",
    "#    \"COVID_status\" is Positive (our foreground)\n",
    "#    to Negative samples (our background).\n",
    "####################################################\n",
    "threshold <- 0.2\n",
    "groupColumn <- \"cohort\"\n",
    "join <- \"union\"\n",
    "numCores <- 58\n",
    "outputGRanges <- TRUE\n",
    "cd4_tcm_diff <- MOCHA::getDifferentialAccessibleTiles(\n",
    "    SampleTileObj = SampleTileMatricesAnnotated,\n",
    "    cellPopulation = \"cd4_memory\",\n",
    "    groupColumn = groupColumn,\n",
    "    foreground = \"pre-RA\",\n",
    "    background = \"Healthy\",\n",
    "    fdrToDisplay = 0.2,\n",
    "    signalThreshold = 13,\n",
    "    minZeroDiff = 0.5,\n",
    "    outputGRanges = TRUE,\n",
    "    numCores = numCores\n",
    ")\n"
   ]
  },
  {
   "cell_type": "code",
   "execution_count": null,
   "metadata": {
    "vscode": {
     "languageId": "r"
    }
   },
   "outputs": [],
   "source": [
    "SampleTileMatricesAnnotated[str_detect(rowData(SampleTileMatricesAnnotated)$Gene, \"IL21\") %>% replace_na(FALSE), ]\n"
   ]
  },
  {
   "cell_type": "code",
   "execution_count": null,
   "metadata": {
    "vscode": {
     "languageId": "r"
    }
   },
   "outputs": [],
   "source": [
    "# str_detect(rowData(SampleTileMatricesAnnotated)$Gene, 'IL21|ZEB2|BCL6|IL\\\\d')%>%replace_na(FALSE)\n"
   ]
  },
  {
   "cell_type": "code",
   "execution_count": null,
   "metadata": {
    "vscode": {
     "languageId": "r"
    }
   },
   "outputs": [],
   "source": [
    "####################################################\n",
    "# test DAPs for IL21\n",
    "####################################################\n",
    "threshold <- 0.2\n",
    "groupColumn <- \"cohort\"\n",
    "join <- \"union\"\n",
    "numCores <- 58\n",
    "outputGRanges <- TRUE\n",
    "cd4_tcm_diff <- MOCHA::getDifferentialAccessibleTiles(\n",
    "    SampleTileObj = SampleTileMatricesAnnotated[str_detect(rowData(SampleTileMatricesAnnotated)$Gene, \"IL21\") %>% replace_na(FALSE), ],\n",
    "    cellPopulation = \"cd4_memory\",\n",
    "    groupColumn = groupColumn,\n",
    "    foreground = \"pre-RA\",\n",
    "    background = \"Healthy\",\n",
    "    fdrToDisplay = 0.2,\n",
    "    signalThreshold = 0,\n",
    "    minZeroDiff = 0.5,\n",
    "    outputGRanges = TRUE,\n",
    "    numCores = numCores\n",
    ")\n"
   ]
  },
  {
   "cell_type": "code",
   "execution_count": null,
   "metadata": {
    "vscode": {
     "languageId": "r"
    }
   },
   "outputs": [],
   "source": [
    "cd4_tcm_diff <- annotateTiles(cd4_tcm_diff, TxDb = TxDb, Org = Org)\n"
   ]
  },
  {
   "cell_type": "code",
   "execution_count": null,
   "metadata": {
    "vscode": {
     "languageId": "r"
    }
   },
   "outputs": [],
   "source": [
    "cd4_tcm_diff %>%\n",
    "    filter(P_value < 0.05) %>%\n",
    "    as_tibble()\n"
   ]
  },
  {
   "cell_type": "code",
   "execution_count": null,
   "metadata": {
    "vscode": {
     "languageId": "r"
    }
   },
   "outputs": [],
   "source": [
    "####################################################\n",
    "# 5. Get differential accessibility for specific\n",
    "#    cell populations. Here we are comparing MAIT\n",
    "#    cells between samples where our groupColumn\n",
    "#    \"COVID_status\" is Positive (our foreground)\n",
    "#    to Negative samples (our background).\n",
    "####################################################\n",
    "threshold <- 0.2\n",
    "groupColumn <- \"cohort\"\n",
    "join <- \"union\"\n",
    "numCores <- 30\n",
    "outputGRanges <- TRUE\n",
    "cd4_treg_diff <- MOCHA::getDifferentialAccessibleTiles(\n",
    "    SampleTileObj = SampleTileMatricesAnnotated,\n",
    "    cellPopulation = \"treg\",\n",
    "    groupColumn = groupColumn,\n",
    "    foreground = \"pre-RA\",\n",
    "    background = \"Healthy\",\n",
    "    fdrToDisplay = 0.2,\n",
    "    signalThreshold = 15,\n",
    "    minZeroDiff = 0.5,\n",
    "    outputGRanges = TRUE,\n",
    "    numCores = numCores\n",
    ")\n"
   ]
  },
  {
   "cell_type": "code",
   "execution_count": null,
   "metadata": {
    "vscode": {
     "languageId": "r"
    }
   },
   "outputs": [],
   "source": [
    "cd4_tem_diff <- annotateTiles(cd4_tem_diff,\n",
    "    TxDb = TxDb,\n",
    "    Org = Org\n",
    ")\n"
   ]
  },
  {
   "cell_type": "code",
   "execution_count": null,
   "metadata": {
    "vscode": {
     "languageId": "r"
    }
   },
   "outputs": [],
   "source": []
  },
  {
   "cell_type": "code",
   "execution_count": null,
   "metadata": {
    "vscode": {
     "languageId": "r"
    }
   },
   "outputs": [],
   "source": [
    "# save the DAP results\n",
    "cd4_tem_diff %>% saveRDS(file.path(output_path, paste0(proj_name, \"cd4_tem_preRAvshealthy_DAPs.rds\")))\n"
   ]
  },
  {
   "cell_type": "code",
   "execution_count": null,
   "metadata": {
    "vscode": {
     "languageId": "r"
    }
   },
   "outputs": [],
   "source": [
    "cd4_tem_prom_diff[cd4_tem_prom_diff$FDR < 0.2]$Gene %>%\n",
    "    str_subset(\"ROR|TBX|IKZF|FOXP|GATA|IL\\\\d\")\n"
   ]
  },
  {
   "cell_type": "code",
   "execution_count": null,
   "metadata": {
    "vscode": {
     "languageId": "r"
    }
   },
   "outputs": [],
   "source": [
    "# load the DAP results\n",
    "cd4_tem_diff <- readRDS(file.path(output_path, \"PreRA_teaseq_cd4_t_cd4_tem_preRAvshealthy_DAPs.rds\"))\n"
   ]
  },
  {
   "cell_type": "code",
   "execution_count": null,
   "metadata": {
    "tags": [],
    "vscode": {
     "languageId": "r"
    }
   },
   "outputs": [],
   "source": [
    "cd4_tem_diff %>%\n",
    "    filter(FDR < 0.2 & P_value < 0.05 & str_detect(Gene, \"IL\\\\d\")) %>%\n",
    "    as_tibble()\n"
   ]
  },
  {
   "cell_type": "markdown",
   "metadata": {},
   "source": [
    "### pathway enrichment of the promoter"
   ]
  },
  {
   "cell_type": "code",
   "execution_count": null,
   "metadata": {
    "tags": [],
    "vscode": {
     "languageId": "r"
    }
   },
   "outputs": [],
   "source": [
    "# isolate the results for promotor\n",
    "cd4na_prom <- cd4na_diff[(!is.na(elementMetadata(cd4na_diff)[, \"FDR\"])) &\n",
    "    elementMetadata(cd4na_diff)[, \"tileType\"] == \"Promoter\"]\n",
    "# cd4na_diff_prom$fdr_prom = p.adjust(cd4na_diff_prom$P_value, method='BH')\n",
    "# cd4na_prom %>% as_tibble() %>% filter(str_detect(Gene, ', '))\n",
    "cd4na_diff_prom <- cd4na_prom %>% filter(FDR < 0.2 & Log2FC_C > 0.1)\n",
    "cd4na_diff_prom_genes <- cd4na_diff_prom %>%\n",
    "    as_tibble() %>%\n",
    "    pull(Gene) %>%\n",
    "    str_split(\", \") %>%\n",
    "    unlist() %>%\n",
    "    unique()\n"
   ]
  },
  {
   "cell_type": "code",
   "execution_count": null,
   "metadata": {
    "vscode": {
     "languageId": "r"
    }
   },
   "outputs": [],
   "source": [
    "cd4na_prom %>%\n",
    "    filter(FDR < 0.2) %>%\n",
    "    as_tibble() %>%\n",
    "    pull(Log2FC_C) %>%\n",
    "    hist()\n"
   ]
  },
  {
   "cell_type": "code",
   "execution_count": null,
   "metadata": {
    "vscode": {
     "languageId": "r"
    }
   },
   "outputs": [],
   "source": [
    "cd4na_diff_prom_genes %>% length()\n",
    "cd4na_diff_prom_genes\n"
   ]
  },
  {
   "cell_type": "code",
   "execution_count": null,
   "metadata": {
    "vscode": {
     "languageId": "r"
    }
   },
   "outputs": [],
   "source": []
  },
  {
   "cell_type": "code",
   "execution_count": null,
   "metadata": {
    "vscode": {
     "languageId": "r"
    }
   },
   "outputs": [],
   "source": [
    "# pathway enrichment for cd4na\n",
    "enrich_cd4_na <- enrichr(cd4na_diff_prom_genes, c(\"KEGG_2021_Human\", \"MSigDB_Hallmark_2020\"))\n",
    "enrich_cd4_na[[\"KEGG_2021_Human\"]] %>% filter(Adjusted.P.value < 0.05)\n"
   ]
  },
  {
   "cell_type": "code",
   "execution_count": null,
   "metadata": {
    "vscode": {
     "languageId": "r"
    }
   },
   "outputs": [],
   "source": [
    "enrich_cd4_na[[\"MSigDB_Hallmark_2020\"]] %>% filter(Adjusted.P.value < 0.05)\n"
   ]
  },
  {
   "cell_type": "code",
   "execution_count": null,
   "metadata": {
    "vscode": {
     "languageId": "r"
    }
   },
   "outputs": [],
   "source": [
    "plotEnrich(enrich_cd4_na[[\"MSigDB_Hallmark_2020\"]],\n",
    "       title = \"CD4 Naive DA-promoters\",\n",
    "       showTerms = 7, numChar = 40, y = \"Count\", orderBy = \"Adjusted.P.value\"\n",
    ")\n",
    "ggsave(file.path(fig_path, paste0(proj_name, \"_CD4 Naive DA-promoters_hallmark_pathay.pdf\")),\n",
    "       width = 8, height = 6\n",
    ")\n"
   ]
  },
  {
   "cell_type": "code",
   "execution_count": null,
   "metadata": {
    "vscode": {
     "languageId": "r"
    }
   },
   "outputs": [],
   "source": [
    "cd4na_prom %>%\n",
    "    filter(!is.na(Log2FC_C) & Pct0_Control > 0.8 & Pct0_Case == 0) %>%\n",
    "    as_tibble()\n"
   ]
  },
  {
   "cell_type": "code",
   "execution_count": null,
   "metadata": {
    "vscode": {
     "languageId": "r"
    }
   },
   "outputs": [],
   "source": [
    "# create rank list based on lowest to higest gene fold-change\n",
    "DAPgsea <- function(logfc_list) {\n",
    "    rnkDF <- logfc_list %>%\n",
    "        filter(.data[[ct.col]] == ct) %>%\n",
    "        arrange(logFC)\n",
    "    rnk <- as.numeric(rnkDF$logFC)\n",
    "    names(rnk) <- rnkDF$gene\n",
    "    message(paste(\"run GSEA in\", length(rnk), \"genes\"))\n",
    "    # run GSEA by parallelization\n",
    "    fgseaRes <- fgsea::fgsea(\n",
    "        pathways = gmx,\n",
    "        stats = rnk,\n",
    "        minSize = 10,\n",
    "        maxSize = 500,\n",
    "        BPPARAM = param\n",
    "    )\n",
    "\n",
    "    # filter on pathways <0.05 adjusted p-value\n",
    "    fgseaRes2 <- fgseaRes %>%\n",
    "        as.data.frame() %>%\n",
    "        select(pathway, pval, padj, NES, leadingEdge) %>%\n",
    "        arrange(desc(NES)) %>%\n",
    "        mutate(celltype = ct)\n",
    "}\n"
   ]
  },
  {
   "cell_type": "code",
   "execution_count": null,
   "metadata": {
    "tags": [],
    "vscode": {
     "languageId": "r"
    }
   },
   "outputs": [],
   "source": [
    "# isolate the results for promotor\n",
    "cd4_tem_prom_diff <- cd4_tem_diff[(!is.na(elementMetadata(cd4_tem_diff)[, \"FDR\"])) &\n",
    "    elementMetadata(cd4_tem_diff)[, \"tileType\"] == \"Promoter\" &\n",
    "    elementMetadata(cd4_tem_diff)[, \"FDR\"] < 0.2] # %>%filter(Log2FC_C>0.1)\n",
    "cd4tem_diff_prom_genes <- cd4_tem_prom_diff %>%\n",
    "    as_tibble() %>%\n",
    "    pull(Gene) %>%\n",
    "    str_split(\", \") %>%\n",
    "    unlist() %>%\n",
    "    unique()\n",
    "cd4tem_diff_prom_genes %>% length()\n"
   ]
  },
  {
   "cell_type": "code",
   "execution_count": null,
   "metadata": {
    "tags": [],
    "vscode": {
     "languageId": "r"
    }
   },
   "outputs": [],
   "source": [
    "# pathway enrichment for cd4tem\n",
    "enrich_cd4_tem <- enrichr(cd4tem_diff_prom_genes, c(\"KEGG_2021_Human\", \"MSigDB_Hallmark_2020\"))\n",
    "enrich_cd4_tem[[\"MSigDB_Hallmark_2020\"]] %>% filter(Adjusted.P.value < 0.05)\n"
   ]
  },
  {
   "cell_type": "code",
   "execution_count": null,
   "metadata": {
    "vscode": {
     "languageId": "r"
    }
   },
   "outputs": [],
   "source": [
    "plotEnrich(enrich_cd4_tem[[\"MSigDB_Hallmark_2020\"]],\n",
    "       title = \"CD4 TEM DA-promoters\",\n",
    "       showTerms = 11, numChar = 40, y = \"Count\", orderBy = \"Adjusted.P.value\"\n",
    ")\n",
    "ggsave(file.path(fig_path, paste0(proj_name, \"_CD4 TEM DA-promoters_hallmark_pathay.pdf\")),\n",
    "       width = 8, height = 6\n",
    ")\n"
   ]
  },
  {
   "cell_type": "markdown",
   "metadata": {},
   "source": [
    "## motif analysis"
   ]
  },
  {
   "cell_type": "markdown",
   "metadata": {},
   "source": [
    "### motif enrichment of the DAPs"
   ]
  },
  {
   "cell_type": "code",
   "execution_count": null,
   "metadata": {
    "vscode": {
     "languageId": "r"
    }
   },
   "outputs": [],
   "source": [
    "# load the DAP results\n",
    "cd4na_diff <- readRDS(file.path(output_path, paste0(proj_name, \"cd4_naive_preRAvshealthy_DAPs.rds\")))\n"
   ]
  },
  {
   "cell_type": "code",
   "execution_count": null,
   "metadata": {
    "vscode": {
     "languageId": "r"
    }
   },
   "outputs": [],
   "source": [
    "cd4na_daps_up <- cd4na_diff %>% filter(FDR < 0.2 & Log2FC_C > 0)\n"
   ]
  },
  {
   "cell_type": "code",
   "execution_count": null,
   "metadata": {
    "tags": [],
    "vscode": {
     "languageId": "r"
    }
   },
   "outputs": [],
   "source": [
    "# cd4na_daps\n"
   ]
  },
  {
   "cell_type": "code",
   "execution_count": null,
   "metadata": {
    "vscode": {
     "languageId": "r"
    }
   },
   "outputs": [],
   "source": [
    "cd4na_daps_up_motif <- MOCHA::MotifEnrichment(\n",
    "    Group1 = cd4na_daps_up, cd4na_diff %>% filter(FDR > 0.2),\n",
    "    motifPosList = metadata(SampleTileMatricesAnnotated)$Motifs\n",
    ")\n"
   ]
  },
  {
   "cell_type": "code",
   "execution_count": null,
   "metadata": {
    "vscode": {
     "languageId": "r"
    }
   },
   "outputs": [],
   "source": [
    "cd4na_daps_up_motif %>% arrange(adjp_val)\n"
   ]
  },
  {
   "cell_type": "markdown",
   "metadata": {},
   "source": [
    "### chromvar deviation analysis"
   ]
  },
  {
   "cell_type": "code",
   "execution_count": null,
   "metadata": {
    "vscode": {
     "languageId": "r"
    }
   },
   "outputs": [],
   "source": [
    "## runChromVar is a wrapper for chromVAR from scMACS\n",
    "## Obj could be a ragged experiment or a sumarized experiment\n",
    "## motifGRangesList is a list of all motif positions in a GRangesList format\n",
    "## genome is the reference genome we use\n",
    "\n",
    "runChromvar <- function(SampleTileMatrices, cell_type, genome = BSgenome.Hsapiens.UCSC.hg38) {\n",
    "    require(chromVAR)\n",
    "    require(MOCHA)\n",
    "    # extract the mocha sampe tile matrix for the selected cell type\n",
    "    message(\"extracting mocha sample tile matrix...\")\n",
    "    assayList <- getCellPopMatrix(SampleTileMatrices, cell_type)\n",
    "    ATAC.se <- SummarizedExperiment(\n",
    "        assays = list(\"counts\" = assayList),\n",
    "        colData = colData(SampleTileMatrices),\n",
    "        rowRanges = rowRanges(SampleTileMatrices) %>% plyranges::filter(!!sym(cell_type) == TRUE),\n",
    "        metadata = SampleTileMatrices@metadata\n",
    "    )\n",
    "\n",
    "    message(\"add GC bias...\")\n",
    "    ATAC.se <- chromVAR::addGCBias(ATAC.se, genome = genome)\n",
    "    if (any(is.na(rowData(ATAC.se)$bias))) {\n",
    "        warning(\"There is NA in chromvar matched GC bias. \\n The peaks that contain NA will be removed.\")\n",
    "        ATAC.se <- ATAC.se[!is.na(rowData(ATAC.se)$bias), ]\n",
    "    }\n",
    "    message(\"run chromvar...\")\n",
    "    CisbpAnno <- chromVAR::getAnnotations(metadata(ATAC.se)$Motifs, rowRanges = rowRanges(ATAC.se))\n",
    "    dev <- chromVAR::computeDeviations(\n",
    "        object = ATAC.se,\n",
    "        annotations = CisbpAnno\n",
    "    )\n",
    "    return(dev)\n",
    "}\n"
   ]
  },
  {
   "cell_type": "code",
   "execution_count": null,
   "metadata": {
    "vscode": {
     "languageId": "r"
    }
   },
   "outputs": [],
   "source": [
    "metadata(SampleTileMatricesAnnotated)$Motifs\n"
   ]
  },
  {
   "cell_type": "code",
   "execution_count": null,
   "metadata": {
    "vscode": {
     "languageId": "r"
    }
   },
   "outputs": [],
   "source": [
    "cd4na_dev <- runChromvar(SampleTileMatricesAnnotated,\n",
    "    cell_type = \"cd4_naive\",\n",
    "    genome = BSgenome.Hsapiens.UCSC.hg38\n",
    ")\n"
   ]
  },
  {
   "cell_type": "code",
   "execution_count": null,
   "metadata": {
    "vscode": {
     "languageId": "r"
    }
   },
   "outputs": [],
   "source": [
    "cd4na_dev\n",
    "# save chromvar motif deviation in cd4 naive\n",
    "cd4na_dev %>% saveRDS(file.path(output_path, paste0(proj_name, \"_cd4naive_DAP_chromvar_deviation.rds\")))\n"
   ]
  },
  {
   "cell_type": "code",
   "execution_count": null,
   "metadata": {
    "vscode": {
     "languageId": "r"
    }
   },
   "outputs": [],
   "source": [
    "file.path(output_path, paste0(proj_name, \"_cd4naive_DAP_chromvar_deviation.rds\"))\n"
   ]
  },
  {
   "cell_type": "code",
   "execution_count": null,
   "metadata": {
    "vscode": {
     "languageId": "r"
    }
   },
   "outputs": [],
   "source": [
    "# save chromvar motif deviation in cd4 naive\n",
    "cd4na_dev <- readRDS(file.path(output_path, paste0(proj_name, \"_cd4naive_DAP_chromvar_deviation.rds\")))\n",
    "cd4na_dev\n"
   ]
  },
  {
   "cell_type": "code",
   "execution_count": null,
   "metadata": {
    "vscode": {
     "languageId": "r"
    }
   },
   "outputs": [],
   "source": [
    "tsne_results <- deviationsTsne(cd4na_dev,\n",
    "    threshold = 1.5, perplexity = 10,\n",
    "    shiny = FALSE\n",
    ")\n"
   ]
  },
  {
   "cell_type": "code",
   "execution_count": null,
   "metadata": {
    "vscode": {
     "languageId": "r"
    }
   },
   "outputs": [],
   "source": [
    "colData(cd4na_dev) %>% colnames()\n"
   ]
  },
  {
   "cell_type": "code",
   "execution_count": null,
   "metadata": {
    "vscode": {
     "languageId": "r"
    }
   },
   "outputs": [],
   "source": [
    "# extract the deviation score\n",
    "cd4na_dev_score <- deviations(cd4na_dev) %>%\n",
    "    as_tibble(rownames = \"motif\") %>%\n",
    "    pivot_longer(cols = -motif, names_to = \"Sample\", values_to = \"deviation_score\") %>%\n",
    "    left_join(as_tibble(colData(cd4na_dev)), by = \"Sample\") %>%\n",
    "    mutate(cohort = factor(cohort, levels = c(\"Healthy\", \"pre-RA\")))\n",
    "cd4na_dev_score %>% head()\n"
   ]
  },
  {
   "cell_type": "code",
   "execution_count": null,
   "metadata": {
    "vscode": {
     "languageId": "r"
    }
   },
   "outputs": [],
   "source": [
    "cd4na_dev_score %>% ggplot(aes(x = deviation_score, fill = cohort)) +\n",
    "    geom_histogram()\n"
   ]
  },
  {
   "cell_type": "code",
   "execution_count": null,
   "metadata": {
    "vscode": {
     "languageId": "r"
    }
   },
   "outputs": [],
   "source": [
    "# run wilcox test for the motif scores\n",
    "cd4na_dev_test <- cd4na_dev_score %>%\n",
    "    filter(!is.na(deviation_score)) %>%\n",
    "    mutate(cohort = factor(cohort, levels = c(\"pre-RA\", \"Healthy\"))) %>%\n",
    "    group_by(motif) %>%\n",
    "    rstatix::t_test(data = ., deviation_score ~ cohort) %>%\n",
    "    rstatix::adjust_pvalue(method = \"BH\") %>%\n",
    "    rstatix::add_significance(\"p.adj\") %>%\n",
    "    mutate(log10p_dir = -log10(p) * sign(statistic))\n"
   ]
  },
  {
   "cell_type": "code",
   "execution_count": null,
   "metadata": {
    "tags": [],
    "vscode": {
     "languageId": "r"
    }
   },
   "outputs": [],
   "source": [
    "motifs <- c(\"GATA3\", \"RORC\", \"FOXP3\", \"TBX21\", \"IKZF2\", \"STAT3\", \"STAT4\", \"STAT6\")\n",
    "\n",
    "cd4na_dev_test %>% filter((motif %in% motifs | str_detect(motif, \"IL\\\\d|CD\\\\d\")) & p < 0.05)\n"
   ]
  },
  {
   "cell_type": "code",
   "execution_count": null,
   "metadata": {
    "vscode": {
     "languageId": "r"
    }
   },
   "outputs": [],
   "source": [
    "cd4na_dev_sig <- cd4na_dev_test %>%\n",
    "    arrange(p.adj) %>%\n",
    "    filter(p.adj < 0.3)\n",
    "cd4na_dev_sig\n"
   ]
  },
  {
   "cell_type": "code",
   "execution_count": null,
   "metadata": {
    "vscode": {
     "languageId": "r"
    }
   },
   "outputs": [],
   "source": [
    "# run gsea by a customized ranked list\n",
    "\n",
    "RunGSEA <- function(ranked_list, gmx, gene_col = \"gene\", rank_col = \"logFC\", collapsePathways = FALSE, ncores = NULL) {\n",
    "    # setup parallelization parameters\n",
    "    if (is.null(ncores)) {\n",
    "        ncores <- parallel::detectCores() - 3\n",
    "    } else {\n",
    "        (ncores <- ncores)\n",
    "    }\n",
    "    param <- BiocParallel::MulticoreParam(workers = ncores, progressbar = TRUE)\n",
    "\n",
    "    # create rank list based on lowest to higest gene fold-change\n",
    "    rnkDF <- ranked_list %>% arrange(.data[[rank_col]])\n",
    "    rnk <- as.numeric(rnkDF %>% pull(.data[[rank_col]]))\n",
    "    names(rnk) <- rnkDF %>% pull(.data[[gene_col]])\n",
    "\n",
    "    message(paste(\"run GSEA in\", length(rnk), \"genes\"))\n",
    "    # run GSEA by parallelization\n",
    "    fgseaRes <- fgsea::fgsea(\n",
    "        pathways = gmx,\n",
    "        stats = rnk,\n",
    "        minSize = 10,\n",
    "        maxSize = 500,\n",
    "        BPPARAM = param\n",
    "    )\n",
    "\n",
    "    # filter on pathways <0.05 adjusted p-value\n",
    "    fgseaRes2 <- fgseaRes %>%\n",
    "        as.data.frame() %>%\n",
    "        dplyr::select(pathway, pval, padj, NES, leadingEdge) %>%\n",
    "        arrange(desc(NES)) %>%\n",
    "        dplyr::filter(padj < 0.05)\n",
    "    # if only keep the main pathway\n",
    "    if (collapsePathways) {\n",
    "        collapsedPathways <- fgsea::collapsePathways(\n",
    "            fgseaRes[order(pval)][padj < 0.05],\n",
    "            gmx, rnk\n",
    "        )\n",
    "        mainPathways <- fgseaRes[pathway %in% collapsedPathways$mainPathways][\n",
    "            order(-NES), pathway\n",
    "        ]\n",
    "        fgseaRes2 <- fgseaRes2 %>% dplyr::filter(pathway %in% mainPathways)\n",
    "    }\n",
    "\n",
    "    fgseaRes2$leadingEdge <- vapply(fgseaRes2$leadingEdge,\n",
    "        paste,\n",
    "        collapse = \", \",\n",
    "        character(1L)\n",
    "    )\n",
    "    return(fgseaRes2)\n",
    "}\n"
   ]
  },
  {
   "cell_type": "code",
   "execution_count": null,
   "metadata": {
    "vscode": {
     "languageId": "r"
    }
   },
   "outputs": [],
   "source": [
    "cd4na_dev_test %>% filter(str_detect(motif, \"STAT\"))\n"
   ]
  },
  {
   "cell_type": "code",
   "execution_count": null,
   "metadata": {
    "vscode": {
     "languageId": "r"
    }
   },
   "outputs": [],
   "source": [
    "cd4na_dev_gsea <- RunGSEA(\n",
    "    ranked_list = cd4na_dev_test, gmx = gmx,\n",
    "    gene_col = \"motif\", rank_col = \"log10p_dir\",\n",
    "    collapsePathways = TRUE\n",
    ")\n",
    "cd4na_dev_gsea\n"
   ]
  },
  {
   "cell_type": "code",
   "execution_count": null,
   "metadata": {
    "vscode": {
     "languageId": "r"
    }
   },
   "outputs": [],
   "source": [
    "cd4na_dev_score %>%\n",
    "    filter(!is.na(deviation_score) & motif %in% cd4na_dev_sig$motif) %>%\n",
    "    ggplot(aes(x = cohort, y = deviation_score)) +\n",
    "    geom_violin(aes(fill = cohort)) +\n",
    "    geom_jitter() +\n",
    "    facet_wrap(vars(motif), scales = \"free_y\")\n",
    "ggsave(file.path(fig_path, paste0(proj_name, \"_cd4_naive_chromvar_motif_sig.pdf\")),\n",
    "    width = 12, height = 6\n",
    ")\n"
   ]
  },
  {
   "cell_type": "code",
   "execution_count": null,
   "metadata": {
    "vscode": {
     "languageId": "r"
    }
   },
   "outputs": [],
   "source": [
    "cd4na_dev_score %>%\n",
    "    filter(!is.na(deviation_score) & motif %in% c(\"STAT3\", \"RORA\", \"RORC\", \"FOXP3\", \"TBX21\")) %>%\n",
    "    ggplot(aes(x = cohort, y = deviation_score)) +\n",
    "    geom_violin(aes(fill = cohort)) +\n",
    "    geom_jitter() +\n",
    "    facet_wrap(vars(motif), scales = \"free_y\")\n",
    "ggsave(file.path(fig_path, paste0(proj_name, \"_cd4_naive_chromvar_motif_selects.pdf\")),\n",
    "    width = 8, height = 6\n",
    ")\n"
   ]
  },
  {
   "cell_type": "code",
   "execution_count": null,
   "metadata": {
    "vscode": {
     "languageId": "r"
    }
   },
   "outputs": [],
   "source": [
    "# plot motif scores on umap space\n",
    "motifs <- cd4na_dev_sig$motif\n",
    "markerMotifs <- getFeatures(cd4t_atac, select = paste(motifs, collapse = \"|\"), useMatrix = \"MotifMatrix\")\n",
    "markerMotifs <- grep(\"z:\", markerMotifs, value = TRUE)\n",
    "markerMotifs\n",
    "p1 <- plotEmbedding(\n",
    "    ArchRProj = cd4t_atac,\n",
    "    colorBy = \"MotifMatrix\",\n",
    "    name = sort(markerMotifs),\n",
    "    embedding = \"UMAP\",\n",
    "    imputeWeights = getImputeWeights(cd4t_atac)\n",
    ")\n",
    "p2 <- plotEmbedding(\n",
    "    ArchRProj = cd4t_atac,\n",
    "    colorBy = \"GeneExpressionMatrix\",\n",
    "    name = \"NR3C1\",\n",
    "    embedding = \"UMAP\",\n",
    "    imputeWeights = getImputeWeights(cd4t_atac)\n",
    ")\n",
    "plotPDF(p1, p2,\n",
    "    name = paste0(proj_name, \"_atac_umap_cd4na_chrovar_motif_sig.pdf\"), ArchRProj = cd4t_atac,\n",
    "    addDOC = FALSE, width = 6, height = 6\n",
    ")\n"
   ]
  },
  {
   "cell_type": "code",
   "execution_count": null,
   "metadata": {
    "vscode": {
     "languageId": "r"
    }
   },
   "outputs": [],
   "source": [
    "# Chromvar for cd4 tem\n",
    "cd4tem_dev <- runChromvar(SampleTileMatricesAnnotated,\n",
    "    cell_type = \"cd4_tem\",\n",
    "    genome = BSgenome.Hsapiens.UCSC.hg38\n",
    ")\n"
   ]
  },
  {
   "cell_type": "code",
   "execution_count": null,
   "metadata": {
    "vscode": {
     "languageId": "r"
    }
   },
   "outputs": [],
   "source": [
    "# save chromvar motif deviation in cd4 naive\n",
    "cd4tem_dev %>% saveRDS(file.path(output_path, paste0(proj_name, \"_cd4tem_chromvar_deviation.rds\")))\n"
   ]
  },
  {
   "cell_type": "code",
   "execution_count": null,
   "metadata": {
    "vscode": {
     "languageId": "r"
    }
   },
   "outputs": [],
   "source": [
    "# extract the deviation score\n",
    "cd4tem_dev_score <- deviations(cd4tem_dev) %>%\n",
    "    as_tibble(rownames = \"motif\") %>%\n",
    "    pivot_longer(cols = -motif, names_to = \"Sample\", values_to = \"deviation_score\") %>%\n",
    "    left_join(as_tibble(colData(cd4tem_dev)), by = \"Sample\") %>%\n",
    "    mutate(cohort = factor(cohort, levels = c(\"Healthy\", \"pre-RA\")))\n",
    "cd4tem_dev_score %>% head()\n"
   ]
  },
  {
   "cell_type": "code",
   "execution_count": null,
   "metadata": {
    "vscode": {
     "languageId": "r"
    }
   },
   "outputs": [],
   "source": [
    "# run wilcox test for the motif scores\n",
    "cd4tem_dev_score_test <- cd4tem_dev_score %>%\n",
    "    filter(!is.na(deviation_score)) %>%\n",
    "    group_by(motif) %>%\n",
    "    rstatix::t_test(data = ., deviation_score ~ cohort) %>%\n",
    "    rstatix::adjust_pvalue(method = \"BH\") %>%\n",
    "    rstatix::add_significance(\"p.adj\")\n"
   ]
  },
  {
   "cell_type": "code",
   "execution_count": null,
   "metadata": {
    "vscode": {
     "languageId": "r"
    }
   },
   "outputs": [],
   "source": [
    "# run pathway ananlysis on the deviation socres\n"
   ]
  },
  {
   "cell_type": "code",
   "execution_count": null,
   "metadata": {
    "vscode": {
     "languageId": "r"
    }
   },
   "outputs": [],
   "source": [
    "cd4tem_dev_sig <- cd4tem_dev_score_test %>%\n",
    "    arrange(p.adj) %>%\n",
    "    filter(p.adj < 0.2)\n",
    "cd4tem_dev_sig\n",
    "cd4tem_dev_sig %>% filter(str_detect(motif, \"STAT|ROR|FOXP\"))\n"
   ]
  },
  {
   "cell_type": "code",
   "execution_count": null,
   "metadata": {
    "vscode": {
     "languageId": "r"
    }
   },
   "outputs": [],
   "source": [
    "cd4tem_dev_score %>%\n",
    "    filter(!is.na(deviation_score) & motif %in% cd4tem_dev_sig$motif) %>%\n",
    "    ggplot(aes(x = cohort, y = deviation_score)) +\n",
    "    geom_violin(aes(fill = cohort)) +\n",
    "    ggforce::geom_sina() +\n",
    "    facet_wrap(vars(motif), scales = \"free_y\")\n",
    "ggsave(file.path(fig_path, paste0(proj_name, \"_cd4_tem_chromvar_motif_sig.pdf\")),\n",
    "    width = 12, height = 8\n",
    ")\n"
   ]
  },
  {
   "cell_type": "code",
   "execution_count": null,
   "metadata": {
    "vscode": {
     "languageId": "r"
    }
   },
   "outputs": [],
   "source": [
    "# plot a heatmap for all the differential motif\n"
   ]
  },
  {
   "cell_type": "code",
   "execution_count": null,
   "metadata": {
    "vscode": {
     "languageId": "r"
    }
   },
   "outputs": [],
   "source": [
    "# Chromvar for cd4 TCM\n",
    "cd4tcm_dev <- runChromvar(SampleTileMatricesAnnotated,\n",
    "    cell_type = \"cd4_tcm\",\n",
    "    genome = BSgenome.Hsapiens.UCSC.hg38\n",
    ")\n"
   ]
  },
  {
   "cell_type": "code",
   "execution_count": null,
   "metadata": {
    "vscode": {
     "languageId": "r"
    }
   },
   "outputs": [],
   "source": [
    "# save chromvar motif deviation in cd4 naive\n",
    "cd4tcm_dev %>% saveRDS(file.path(output_path, paste0(proj_name, \"_cd4tcm_chromvar_deviation.rds\")))\n"
   ]
  },
  {
   "cell_type": "code",
   "execution_count": null,
   "metadata": {
    "vscode": {
     "languageId": "r"
    }
   },
   "outputs": [],
   "source": [
    "# extract the deviation score\n",
    "cd4tcm_dev_score <- deviations(cd4tcm_dev) %>%\n",
    "    as_tibble(rownames = \"motif\") %>%\n",
    "    pivot_longer(cols = -motif, names_to = \"Sample\", values_to = \"deviation_score\") %>%\n",
    "    left_join(as_tibble(colData(cd4tcm_dev)), by = \"Sample\") %>%\n",
    "    mutate(cohort = factor(cohort, levels = c(\"Healthy\", \"pre-RA\")))\n",
    "cd4tcm_dev_score %>% head()\n"
   ]
  },
  {
   "cell_type": "code",
   "execution_count": null,
   "metadata": {
    "vscode": {
     "languageId": "r"
    }
   },
   "outputs": [],
   "source": [
    "# run wilcox test for the motif scores\n",
    "cd4tcm_dev_score_test <- cd4tcm_dev_score %>%\n",
    "    filter(!is.na(deviation_score)) %>%\n",
    "    group_by(motif) %>%\n",
    "    rstatix::t_test(data = ., deviation_score ~ cohort) %>%\n",
    "    rstatix::adjust_pvalue(method = \"BH\") %>%\n",
    "    rstatix::add_significance(\"p.adj\")\n"
   ]
  },
  {
   "cell_type": "code",
   "execution_count": null,
   "metadata": {
    "vscode": {
     "languageId": "r"
    }
   },
   "outputs": [],
   "source": [
    "# cd4tcm_dev_score_test\n"
   ]
  },
  {
   "cell_type": "code",
   "execution_count": null,
   "metadata": {
    "vscode": {
     "languageId": "r"
    }
   },
   "outputs": [],
   "source": [
    "cd4tcm_dev_sig <- cd4tcm_dev_score_test %>%\n",
    "    arrange(p.adj) %>%\n",
    "    filter(p.adj < 0.05)\n",
    "cd4tcm_dev_sig\n"
   ]
  },
  {
   "cell_type": "code",
   "execution_count": null,
   "metadata": {
    "vscode": {
     "languageId": "r"
    }
   },
   "outputs": [],
   "source": [
    "cd4tcm_dev_sig %>% filter(str_detect(motif, \"STAT\"))\n"
   ]
  },
  {
   "cell_type": "code",
   "execution_count": null,
   "metadata": {
    "vscode": {
     "languageId": "r"
    }
   },
   "outputs": [],
   "source": [
    "# plot motif scores on umap space\n",
    "motifs <- cd4tcm_dev_score %>%\n",
    "    pull(motif) %>%\n",
    "    str_subset(\"STAT\") %>%\n",
    "    unique()\n",
    "markerMotifs <- getFeatures(cd4t_atac, select = paste(motifs, collapse = \"|\"), useMatrix = \"MotifMatrix\")\n",
    "markerMotifs <- grep(\"z:\", markerMotifs, value = TRUE)\n",
    "markerMotifs\n",
    "p <- plotEmbedding(\n",
    "    ArchRProj = cd4t_atac,\n",
    "    colorBy = \"MotifMatrix\",\n",
    "    name = sort(markerMotifs),\n",
    "    embedding = \"UMAP\",\n",
    "    imputeWeights = getImputeWeights(cd4t_atac)\n",
    ")\n",
    "plotPDF(p,\n",
    "    name = paste0(proj_name, \"_atac_umap_chrovar_STATs_motif.pdf\"), ArchRProj = cd4t_atac,\n",
    "    addDOC = FALSE, width = 6, height = 6\n",
    ")\n"
   ]
  },
  {
   "cell_type": "code",
   "execution_count": null,
   "metadata": {
    "vscode": {
     "languageId": "r"
    }
   },
   "outputs": [],
   "source": [
    "cd4tcm_dev_score %>%\n",
    "    filter(!is.na(deviation_score) & motif %in% cd4tcm_dev_sig$motif) %>%\n",
    "    ggplot(aes(x = cohort, y = deviation_score)) +\n",
    "    geom_violin(aes(fill = cohort)) +\n",
    "    geom_jitter() +\n",
    "    facet_wrap(vars(motif), scales = \"free_y\")\n",
    "ggsave(file.path(fig_path, paste0(proj_name, \"_cd4_tcm_chromvar_motif_sig.pdf\")),\n",
    "    width = 8, height = 6\n",
    ")\n"
   ]
  },
  {
   "cell_type": "code",
   "execution_count": null,
   "metadata": {
    "vscode": {
     "languageId": "r"
    }
   },
   "outputs": [],
   "source": [
    "p1 <- plotEmbedding(\n",
    "    ArchRProj = cd4t_atac,\n",
    "    colorBy = \"MotifMatrix\",\n",
    "    name = \"BCL6\",\n",
    "    embedding = \"UMAP\",\n",
    "    imputeWeights = getImputeWeights(cd4t_atac)\n",
    ")\n"
   ]
  },
  {
   "cell_type": "markdown",
   "metadata": {},
   "source": [
    "## trajectory analysis in ArchR"
   ]
  },
  {
   "cell_type": "code",
   "execution_count": null,
   "metadata": {
    "vscode": {
     "languageId": "r"
    }
   },
   "outputs": [],
   "source": [
    "getCellColData(cd4t_atac) %>% colnames()\n"
   ]
  },
  {
   "cell_type": "code",
   "execution_count": null,
   "metadata": {
    "vscode": {
     "languageId": "r"
    }
   },
   "outputs": [],
   "source": [
    "p1 <- plotEmbedding(cd4t_atac,\n",
    "        embedding = \"UMAP\",\n",
    "        colorBy = \"cellColData\", name = c(\n",
    "                \"t_anno_atac\", \"Clusters.0.5\",\n",
    "                \"Clusters_0.8\", \"MochaPeak_clusters_1\", \"cohort\"\n",
    "        )\n",
    ")\n",
    "p1\n",
    "plotPDF(p1,\n",
    "        name = paste0(proj_name, \"atac_umap.pdf\"), ArchRProj = cd4t_atac,\n",
    "        addDOC = FALSE, width = 6, height = 6\n",
    ")\n"
   ]
  },
  {
   "cell_type": "code",
   "execution_count": null,
   "metadata": {
    "vscode": {
     "languageId": "r"
    }
   },
   "outputs": [],
   "source": []
  },
  {
   "cell_type": "markdown",
   "metadata": {},
   "source": [
    "## figR peak2gene correlation"
   ]
  },
  {
   "cell_type": "code",
   "execution_count": null,
   "metadata": {
    "vscode": {
     "languageId": "r"
    }
   },
   "outputs": [],
   "source": [
    "quiet_library(FigR)\n"
   ]
  },
  {
   "cell_type": "code",
   "execution_count": null,
   "metadata": {
    "vscode": {
     "languageId": "r"
    }
   },
   "outputs": [],
   "source": [
    "# load the degs for cd4 naive\n",
    "# load the deg list\n",
    "ra_tea_l2_pseudo_degs <-\n",
    "    read_csv(\"/home/jupyter/data/preRA_teaseq/output_results/PreRA_teaseq_l2_annotation_PseudoBulk_degs_preRAvsHealthy.csv\",\n",
    "        show_col_types = FALSE\n",
    "    ) %>%\n",
    "    filter(!is.na(FDR) & !is.na(logFC)) %>%\n",
    "    mutate(direction = if_else(logFC > 0, \"up\", \"down\"))\n",
    "# filter cd4 naive\n",
    "# cd4na_pseudo_degs %>% head()\n",
    "ra_tea_cd4_pseudo_degs <- read_csv(file.path(\n",
    "    output_path,\n",
    "    paste0(proj_name, \"_t_anno_atac_PseudoBulk_degs_preRAvsHealthy.csv\")\n",
    ")) %>%\n",
    "    filter(!is.na(FDR) & !is.na(logFC)) %>%\n",
    "    mutate(direction = if_else(logFC > 0, \"up\", \"down\"))\n",
    "cd4mem_pseudo_degs <- ra_tea_cd4_pseudo_degs %>% filter(cell_type == \"cd4_naive\")\n",
    "cd4na_pseudo_degs <- ra_tea_cd4_pseudo_degs %>% filter(cell_type == \"cd4_naive\")\n"
   ]
  },
  {
   "cell_type": "code",
   "execution_count": null,
   "metadata": {
    "vscode": {
     "languageId": "r"
    }
   },
   "outputs": [],
   "source": [
    "cd4na_pseudo_degs %>% filter(str_detect(gene, \"IL\\\\d|CD\\\\d\") & FDR < 0.05)\n"
   ]
  },
  {
   "cell_type": "code",
   "execution_count": null,
   "metadata": {
    "vscode": {
     "languageId": "r"
    }
   },
   "outputs": [],
   "source": [
    "#' @title \\code{runFigRpeak2gene}\n",
    "#'\n",
    "#' @description \\code{runFigRpeak2gene} Run gene2peak correlation in figR by celltype sample psudobulk\n",
    "\n",
    "#' with mocha generate sample tile matrix and psudobulk average gene expression match seurat object\n",
    "#'\n",
    "#' @param mocha SampleTileMatrices object generate from MOCHA\n",
    "#' @param so the seurat object which already subset to the specific cell type\n",
    "#' @param sample.col default='pbmc_sample_id', a column in the metadata slot of the so obejct specify pbmc_sample_id in 'PB\\\\d\\\\d\\\\d\\\\d\\\\d-\\\\d\\\\d' format\n",
    "#' @param gene_list default=NULL, gene to run correlation default will be all the genes\n",
    "#' @param rna.assay default='SCT', assay name in the so object to pull gene expression from\n",
    "#' @param genome default='hg38', parameter for FigR::runGenePeakcorr function\n",
    "#' @param windowPadSize default='100000', parameter for FigR::runGenePeakcorr function\n",
    "#' @param nCores default=NULL, parameters for FigR::runGenePeakcorr function https://buenrostrolab.github.io/FigR/reference/runGenePeakcorr.html\n",
    "#' @param outputGRanges default=TURE, if this is true, return a grange object, FALSE will return a data.frame\n",
    "\n",
    "#' @return cisCor a grange or dataframe object contain peaks, genes, and peak2gene correlation stats\n",
    "\n",
    "#' @exmaple cisCor <- runFigRpeak2gene(SampleTileMatricesAnnotated, ra_tea_cd4tem,\n",
    "#' @exmaple                            cell_type='cd4_tem', sample.col='pbmc_sample_id',\n",
    "#' @exmaple                              gene_list=cd4mem_pseudo_degs %>%\n",
    "#' @exmaple                                   filter(FDR<0.05) %>% pull(gene),\n",
    "#' @exmaple                              rna.assay='SCT', nCores=40)\n",
    "\n",
    "runFigRpeak2gene <- function(SampleTileMatrices, so, cell_type, sample.col = \"pbmc_sample_id\",\n",
    "                             gene_list = NULL, rna.assay = \"SCT\",\n",
    "                             genome = \"hg38\", windowPadSize = 100000, nCores = NULL, outputGRanges = TRUE) {\n",
    "    require(BSgenome.Hsapiens.UCSC.hg38)\n",
    "    require(chromVAR)\n",
    "    require(FigR)\n",
    "    require(MOCHA)\n",
    "    # extract the mocha sampe tile matrix for the selected cell type\n",
    "    message(\"extracting mocha sample tile matrix...\")\n",
    "    assayList <- getCellPopMatrix(SampleTileMatrices, cell_type)\n",
    "    ATAC.se <- SummarizedExperiment(\n",
    "        assays = list(\"counts\" = assayList),\n",
    "        colData = colData(SampleTileMatrices),\n",
    "        rowRanges = rowRanges(SampleTileMatrices) %>% plyranges::filter(!!sym(cell_type) == TRUE),\n",
    "        metadata = SampleTileMatrices@metadata\n",
    "    )\n",
    "    if (sample.col == \"pbmc_sample_id\") {\n",
    "        # replace the archr sample names with the formar for sample id as in 'PB\\\\d\\\\d\\\\d\\\\d\\\\d-\\\\d\\\\d'\n",
    "        colData(ATAC.se)$sample_id <- str_extract(colData(ATAC.se)$Sample, \"PB\\\\d\\\\d\\\\d\\\\d\\\\d-\\\\d\\\\d\")\n",
    "        colnames(ATAC.se) <- colData(ATAC.se)$sample_id\n",
    "    } else if ((!sample.col %in% colnames(colData(ATAC.se))) | (!sample.col %in% colnames(so@meta.data))) {\n",
    "        stop(\"sample.col is not in the coldata of mocha object or in the metadata slot for the seurat object/\")\n",
    "    } else {\n",
    "        colnames(ATAC.se) <- colData(ATAC.se)[[sample.col]]\n",
    "        message(\"using cutomized sample id column to match atac and rna data. please check to make sure\")\n",
    "    }\n",
    "    # make sure the assay doesn't contain NA\n",
    "    assay(ATAC.se)[is.na(assay(ATAC.se))] <- 0\n",
    "\n",
    "    # prepare the gene expression matrix\n",
    "    # get sample level nomralized gene matrix from seurat object\n",
    "    so <- SetIdent(so, value = sample.col)\n",
    "    # get the sample average corrected SCT gene expression data for cd4 anive\n",
    "    so_gex_mx <- AverageExpression(so, features = gene_list, assays = rna.assay)[[rna.assay]]\n",
    "    # check if all the sample ids are matched between atac and gene expression\n",
    "    if (!all(colnames(so_gex_mx) %in% colnames(ATAC.se))) {\n",
    "        stop(\"sample ids from gene matrix and sample tile matrix do not match.\")\n",
    "    }\n",
    "    # match the order of gene expression matrix and sample tiles matrix\n",
    "    so_gex_mx <- so_gex_mx[, colnames(ATAC.se)]\n",
    "    # test to run chromVAR background peak matches\n",
    "    message(\"Run chromVAR addGCBias...\")\n",
    "    ATAC.se <- chromVAR::addGCBias(ATAC.se, genome = BSgenome.Hsapiens.UCSC.hg38)\n",
    "    if (any(is.na(rowData(ATAC.se)$bias))) {\n",
    "        warning(\"There is NA in chromvar matched GC bias. \\n The peaks that contain NA will be removed.\")\n",
    "        ATAC.se <- ATAC.se[!is.na(rowData(ATAC.se)$bias), ]\n",
    "    }\n",
    "    # run figR peak2gene correlation\n",
    "    # Run using multiple cores if parallel support\n",
    "    if (is.null(nCores)) {\n",
    "        nCores <- future::availableCores() - 3\n",
    "    }\n",
    "    message(\"Run FigR peak2gene correlation...\")\n",
    "    cisCor <- FigR::runGenePeakcorr(\n",
    "        ATAC.se = ATAC.se,\n",
    "        so_gex_mx,\n",
    "        genome = genome,\n",
    "        geneList = NULL,\n",
    "        windowPadSize = windowPadSize,\n",
    "        normalizeATACmat = FALSE,\n",
    "        nCores = nCores,\n",
    "        keepPosCorOnly = FALSE,\n",
    "        keepMultiMappingPeaks = FALSE,\n",
    "        n_bg = 100,\n",
    "        p.cut = NULL\n",
    "    )\n",
    "    if (outputGRanges) {\n",
    "        cisCor <- cisCor %>% mutate(correlated_gene = Gene)\n",
    "        cisCor <- MOCHA::differentialsToGRanges(cisCor, tileColumn = \"PeakRanges\")\n",
    "    }\n",
    "    return(cisCor)\n",
    "}\n"
   ]
  },
  {
   "cell_type": "markdown",
   "metadata": {},
   "source": [
    "### CD4 TEM peak2gene correlation"
   ]
  },
  {
   "cell_type": "code",
   "execution_count": null,
   "metadata": {
    "tags": [],
    "vscode": {
     "languageId": "r"
    }
   },
   "outputs": [],
   "source": [
    "# subset the seurat data by cell type\n",
    "ra_tea_cd4tem <- subset(ra_tea_cd4, t_anno_atac == \"cd4_tem\")\n"
   ]
  },
  {
   "cell_type": "code",
   "execution_count": null,
   "metadata": {
    "vscode": {
     "languageId": "r"
    }
   },
   "outputs": [],
   "source": [
    "rowData(SampleTileMatricesAnnotated) %>% colnames()\n"
   ]
  },
  {
   "cell_type": "code",
   "execution_count": null,
   "metadata": {
    "vscode": {
     "languageId": "r"
    }
   },
   "outputs": [],
   "source": [
    "# run peak2gene correlation\n",
    "cd4tem_cisCor <- runFigRpeak2gene(SampleTileMatricesAnnotated, ra_tea_cd4tem,\n",
    "     cell_type = \"cd4_tem\", sample.col = \"pbmc_sample_id\",\n",
    "     gene_list = cd4mem_pseudo_degs %>%\n",
    "          dplyr::filter(FDR < 0.05) %>% pull(gene),\n",
    "     rna.assay = \"SCT\", windowPadSize = 1000000, nCores = 60\n",
    ")\n"
   ]
  },
  {
   "cell_type": "code",
   "execution_count": null,
   "metadata": {
    "vscode": {
     "languageId": "r"
    }
   },
   "outputs": [],
   "source": [
    "all(cd4tem_cisCor$correlated_gene == cd4tem_cisCor$Gene)\n"
   ]
  },
  {
   "cell_type": "code",
   "execution_count": null,
   "metadata": {
    "vscode": {
     "languageId": "r"
    }
   },
   "outputs": [],
   "source": [
    "cd4tem_cisCor\n"
   ]
  },
  {
   "cell_type": "code",
   "execution_count": null,
   "metadata": {
    "tags": [],
    "vscode": {
     "languageId": "r"
    }
   },
   "outputs": [],
   "source": [
    "cd4tem_cisCor <- cd4tem_cisCor %>%\n",
    "    MOCHA::annotateTiles(TxDb = TxDb, Org = Org)\n",
    "cd4tem_cisCor %>% saveRDS(file.path(output_path, paste0(proj_name, \"_CD4tem_figR_cisCor_peak2gene_granges.rds\")))\n"
   ]
  },
  {
   "cell_type": "code",
   "execution_count": null,
   "metadata": {
    "vscode": {
     "languageId": "r"
    }
   },
   "outputs": [],
   "source": [
    "all(cd4tem_cisCor$correlated_gene == cd4tem_cisCor$Gene)\n"
   ]
  },
  {
   "cell_type": "markdown",
   "metadata": {},
   "source": [
    "### CD4 naive peak2gene correlation"
   ]
  },
  {
   "cell_type": "code",
   "execution_count": null,
   "metadata": {
    "tags": [],
    "vscode": {
     "languageId": "r"
    }
   },
   "outputs": [],
   "source": [
    "cd4na_pseudo_degs %>% filter(!is.na(logFC))\n"
   ]
  },
  {
   "cell_type": "code",
   "execution_count": null,
   "metadata": {
    "vscode": {
     "languageId": "r"
    }
   },
   "outputs": [],
   "source": [
    "# library(MOCHA)\n"
   ]
  },
  {
   "cell_type": "code",
   "execution_count": null,
   "metadata": {
    "vscode": {
     "languageId": "r"
    }
   },
   "outputs": [],
   "source": [
    "SubsetSampleTileMx <- function(SampleTileMatrices, cell_type, sample.col = \"pbmc_sample_id\") {\n",
    "    # extract the mocha sampe tile matrix for the selected cell type\n",
    "    message(\"extracting mocha sample tile matrix...\")\n",
    "    assayList <- MOCHA::getCellPopMatrix(SampleTileMatrices, cell_type)\n",
    "    ATAC.se <- SummarizedExperiment(\n",
    "        assays = list(\"counts\" = assayList),\n",
    "        colData = colData(SampleTileMatrices),\n",
    "        rowRanges = rowRanges(SampleTileMatrices) %>% plyranges::filter(!!sym(cell_type) == TRUE),\n",
    "        metadata = SampleTileMatrices@metadata\n",
    "    )\n",
    "    if (sample.col == \"pbmc_sample_id\") {\n",
    "        # replace the archr sample names with the formar for sample id as in 'PB\\\\d\\\\d\\\\d\\\\d\\\\d-\\\\d\\\\d'\n",
    "        colData(ATAC.se)$sample_id <- str_extract(colData(ATAC.se)$Sample, \"PB\\\\d\\\\d\\\\d\\\\d\\\\d-\\\\d\\\\d\")\n",
    "        colnames(ATAC.se) <- colData(ATAC.se)$sample_id\n",
    "    } else if ((!sample.col %in% colnames(colData(ATAC.se))) | (!sample.col %in% colnames(so@meta.data))) {\n",
    "        stop(\"sample.col is not in the coldata of mocha object or in the metadata slot for the seurat object/\")\n",
    "    } else {\n",
    "        colnames(ATAC.se) <- colData(ATAC.se)[[sample.col]]\n",
    "        message(\"using cutomized sample id column to match atac and rna data. please check to make sure\")\n",
    "    }\n",
    "    # make sure the assay doesn't contain NA\n",
    "    assay(ATAC.se)[is.na(assay(ATAC.se))] <- 0\n",
    "    return(ATAC.se)\n",
    "}\n"
   ]
  },
  {
   "cell_type": "code",
   "execution_count": null,
   "metadata": {
    "tags": [],
    "vscode": {
     "languageId": "r"
    }
   },
   "outputs": [],
   "source": [
    "assayList <- MOCHA::getCellPopMatrix(SampleTileMatricesAnnotated, \"cd4_naive\")\n"
   ]
  },
  {
   "cell_type": "code",
   "execution_count": null,
   "metadata": {
    "vscode": {
     "languageId": "r"
    }
   },
   "outputs": [],
   "source": [
    "cd4na_sampletile <- SubsetSampleTileMx(SampleTileMatricesAnnotated, cell_type = \"cd4_naive\", sample.col = \"pbmc_sample_id\")\n"
   ]
  },
  {
   "cell_type": "code",
   "execution_count": null,
   "metadata": {
    "vscode": {
     "languageId": "r"
    }
   },
   "outputs": [],
   "source": [
    "# subset the seurat data by cell type\n",
    "ra_tea_cd4na <- subset(ra_tea_cd4, t_anno_atac == \"cd4_naive\")\n",
    "cd4na_cisCor <- runFigRpeak2gene(SampleTileMatricesAnnotated, ra_tea_cd4na,\n",
    "  cell_type = \"cd4_naive\", sample.col = \"pbmc_sample_id\",\n",
    "  gene_list = cd4na_pseudo_degs %>%\n",
    "    filter(!is.na(logFC)) %>% pull(gene),\n",
    "  rna.assay = \"SCT\",\n",
    "  windowPadSize = 1000000, nCores = 60\n",
    ")\n"
   ]
  },
  {
   "cell_type": "code",
   "execution_count": null,
   "metadata": {
    "vscode": {
     "languageId": "r"
    }
   },
   "outputs": [],
   "source": [
    "cd4na_cisCor\n"
   ]
  },
  {
   "cell_type": "code",
   "execution_count": null,
   "metadata": {
    "vscode": {
     "languageId": "r"
    }
   },
   "outputs": [],
   "source": [
    "cd4na_cisCor <- cd4na_cisCor %>%\n",
    "    annotateTiles(TxDb = TxDb, Org = Org)\n",
    "cd4na_cisCor %>%\n",
    "    saveRDS(file.path(output_path, paste0(proj_name, \"_CD4na_figR_cisCor_peak2gene_granges.rds\")))\n"
   ]
  },
  {
   "cell_type": "code",
   "execution_count": null,
   "metadata": {
    "vscode": {
     "languageId": "r"
    }
   },
   "outputs": [],
   "source": [
    "cd4na_cisCor <-\n",
    "    readRDS(file.path(output_path, paste0(proj_name, \"_CD4na_figR_cisCor_peak2gene_granges.rds\")))\n"
   ]
  },
  {
   "cell_type": "code",
   "execution_count": null,
   "metadata": {
    "vscode": {
     "languageId": "r"
    }
   },
   "outputs": [],
   "source": [
    "cd4na_cisCor\n"
   ]
  },
  {
   "cell_type": "code",
   "execution_count": null,
   "metadata": {
    "vscode": {
     "languageId": "r"
    }
   },
   "outputs": [],
   "source": [
    "plcg2_cor <- cd4na_cisCor %>% filter(pvalZ < 0.05 & str_detect(correlated_gene, \"PLCG2\"))\n",
    "plcg2_cor_dap <- cd4na_diff %>% filter_by_overlaps(plcg2_cor)\n"
   ]
  },
  {
   "cell_type": "code",
   "execution_count": null,
   "metadata": {
    "tags": [],
    "vscode": {
     "languageId": "r"
    }
   },
   "outputs": [],
   "source": [
    "plcg2_cor_dap\n"
   ]
  },
  {
   "cell_type": "code",
   "execution_count": null,
   "metadata": {
    "vscode": {
     "languageId": "r"
    }
   },
   "outputs": [],
   "source": [
    "cd4na_cisCor %>%\n",
    "    filter(pvalZ < 0.05) %>%\n",
    "    as_tibble() %>%\n",
    "    group_by(tileType) %>%\n",
    "    tally()\n"
   ]
  },
  {
   "cell_type": "code",
   "execution_count": null,
   "metadata": {
    "tags": [],
    "vscode": {
     "languageId": "r"
    }
   },
   "outputs": [],
   "source": [
    "cd4na_cisCor %>%\n",
    "    filter(pvalZ < 0.05 & str_detect(correlated_gene, Gene)) %>%\n",
    "    as_tibble() %>%\n",
    "    rstatix::adjust_pvalue(p.col = \"pvalZ\") %>%\n",
    "    group_by(Gene) %>%\n",
    "    tally() %>%\n",
    "    arrange(desc(n)) %>%\n",
    "    head()\n"
   ]
  },
  {
   "cell_type": "code",
   "execution_count": null,
   "metadata": {
    "tags": [],
    "vscode": {
     "languageId": "r"
    }
   },
   "outputs": [],
   "source": [
    "cd4na_cisCor %>%\n",
    "    filter(pvalZ < 0.05 & str_detect(correlated_gene, \"IL\\\\d|PLCG|TGFB\")) %>%\n",
    "    as_tibble() %>%\n",
    "    group_by(correlated_gene) %>%\n",
    "    tally() %>%\n",
    "    arrange(desc(n))\n"
   ]
  },
  {
   "cell_type": "code",
   "execution_count": null,
   "metadata": {
    "tags": [],
    "vscode": {
     "languageId": "r"
    }
   },
   "outputs": [],
   "source": [
    "cd4na_cisCor %>%\n",
    "    filter(pvalZ < 0.05) %>%\n",
    "    as_tibble() %>%\n",
    "    group_by(correlated_gene) %>%\n",
    "    tally() %>%\n",
    "    arrange(desc(n)) %>%\n",
    "    head(10)\n"
   ]
  },
  {
   "cell_type": "code",
   "execution_count": null,
   "metadata": {
    "vscode": {
     "languageId": "r"
    }
   },
   "outputs": [],
   "source": [
    "cd4na_cisCor_sig$rObs %>% hist()\n",
    "cd4na_cisCor$pvalZ %>% hist()\n"
   ]
  },
  {
   "cell_type": "code",
   "execution_count": null,
   "metadata": {
    "tags": [],
    "vscode": {
     "languageId": "r"
    }
   },
   "outputs": [],
   "source": [
    "#\n",
    "cd4na_cisCor_sig <- cd4na_cisCor %>%\n",
    "    as_tibble() %>%\n",
    "    mutate(annotate_gene = Gene) %>%\n",
    "    mutate(Gene = correlated_gene) %>%\n",
    "    filter(pvalZ < 0.05)\n",
    "cd4na_pseudo_degs_sig <- cd4na_pseudo_degs %>%\n",
    "    filter(FDR < 0.05) %>%\n",
    "    dplyr::rename(\"Gene\" = \"gene\")\n",
    "cd4na_cisCor_sig <- cd4na_cisCor_sig %>% inner_join(cd4na_pseudo_degs_sig, by = \"Gene\")\n",
    "# rownames(cd4tem_cisCor_sig) = seq(1,nrow(cd4tem_cisCor_sig))\n",
    "cd4na_cisCor_sig_genes <- cd4na_cisCor_sig %>%\n",
    "    dorcJPlot(\n",
    "        cutoff = 50, labelTop = 50,\n",
    "        returnGeneList = TRUE\n",
    "    )\n",
    "ggsave(file.path(fig_path, paste0(proj_name, \"_cd4naive_DEGs_peak2gene_correlation.pdf\")),\n",
    "    width = 8, height = 8\n",
    ")\n"
   ]
  },
  {
   "cell_type": "code",
   "execution_count": null,
   "metadata": {
    "vscode": {
     "languageId": "r"
    }
   },
   "outputs": [],
   "source": [
    "cd4na_cisCor\n"
   ]
  },
  {
   "cell_type": "code",
   "execution_count": null,
   "metadata": {
    "vscode": {
     "languageId": "r"
    }
   },
   "outputs": [],
   "source": [
    "# check motif o the peaks\n",
    "cd4na_cisCor_peaks <- cd4na_cisCor %>% filter(pvalZ < 0.05 & correlated_gene %in% cd4na_pseudo_degs_sig$Gene)\n",
    "cd4na_cisCor_up_motif <- MOCHA::MotifEnrichment(\n",
    "    Group1 = cd4na_cisCor_peaks, cd4na_diff %>% filter(FDR > 0.2),\n",
    "    motifPosList = metadata(SampleTileMatricesAnnotated)$Motifs\n",
    ")\n"
   ]
  },
  {
   "cell_type": "code",
   "execution_count": null,
   "metadata": {
    "tags": [],
    "vscode": {
     "languageId": "r"
    }
   },
   "outputs": [],
   "source": [
    "cd4na_cisCor_up_motif\n"
   ]
  },
  {
   "cell_type": "code",
   "execution_count": null,
   "metadata": {
    "tags": [],
    "vscode": {
     "languageId": "r"
    }
   },
   "outputs": [],
   "source": [
    "# pathway enrichment for cd4na\n",
    "enrich_cd4na_cisCor_sig_genes <- enrichr(cd4na_cisCor_sig_genes, c(\"KEGG_2021_Human\", \"MSigDB_Hallmark_2020\"))\n",
    "enrich_cd4na_cisCor_sig_genes[[\"KEGG_2021_Human\"]] %>%\n",
    "    filter(Adjusted.P.value < 0.05) %>%\n",
    "    arrange(Adjusted.P.value) %>%\n",
    "    dplyr::select(-c(Old.P.value, Old.Adjusted.P.value))\n"
   ]
  },
  {
   "cell_type": "code",
   "execution_count": null,
   "metadata": {
    "vscode": {
     "languageId": "r"
    }
   },
   "outputs": [],
   "source": [
    "enrich_cd4na_cisCor_sig_genes[[\"MSigDB_Hallmark_2020\"]] %>%\n",
    "    filter(Adjusted.P.value < 0.05) %>%\n",
    "    arrange(Adjusted.P.value) %>%\n",
    "    dplyr::select(-c(Old.P.value, Old.Adjusted.P.value))\n"
   ]
  },
  {
   "cell_type": "code",
   "execution_count": null,
   "metadata": {
    "vscode": {
     "languageId": "r"
    }
   },
   "outputs": [],
   "source": [
    "cd4na_cisCor_dap %>% dim()\n"
   ]
  },
  {
   "cell_type": "code",
   "execution_count": null,
   "metadata": {
    "vscode": {
     "languageId": "r"
    }
   },
   "outputs": [],
   "source": [
    "# filter the correlated peak2gene with DAPs\n",
    "\n",
    "cd4na_cisCor_dap <- cd4na_cisCor %>%\n",
    "    filter(pvalZ < 0.05) %>%\n",
    "    plyranges::filter_by_overlaps(filter(cd4na_diff, FDR < 0.2)) %>%\n",
    "    as_tibble() %>%\n",
    "    mutate(annotate_gene = Gene) %>%\n",
    "    mutate(Gene = correlated_gene)\n",
    "# rownames(cd4tem_cisCor_sig) = seq(1,nrow(cd4tem_cisCor_sig))\n",
    "cd4na_cisCor_dap_genes <- cd4na_cisCor_dap %>%\n",
    "    dorcJPlot(\n",
    "        cutoff = 3, labelTop = 50,\n",
    "        returnGeneList = TRUE\n",
    "    )\n",
    "ggsave(file.path(fig_path, paste0(proj_name, \"_cd4naive_DEGs_peak2gene_DAPs_correlation.png\")),\n",
    "    width = 8, height = 8\n",
    ")\n"
   ]
  },
  {
   "cell_type": "code",
   "execution_count": null,
   "metadata": {
    "tags": [],
    "vscode": {
     "languageId": "r"
    }
   },
   "outputs": [],
   "source": [
    "cd4na_pseudo_degs_sig %>% filter(gene == \"CD4\")\n"
   ]
  },
  {
   "cell_type": "code",
   "execution_count": null,
   "metadata": {
    "vscode": {
     "languageId": "r"
    }
   },
   "outputs": [],
   "source": [
    "cd4na_pseudo_degs_sig %>% head()\n"
   ]
  },
  {
   "cell_type": "code",
   "execution_count": null,
   "metadata": {
    "tags": [],
    "vscode": {
     "languageId": "r"
    }
   },
   "outputs": [],
   "source": [
    "# get a clist of DEGs correlated with DAPs\n",
    "cd4na_pseudo_degs_sig <- cd4na_pseudo_degs %>% filter(FDR < 0.05)\n",
    "cd4na_cisCor_dap_degs <- cd4na_cisCor_dap %>%\n",
    "    inner_join(cd4na_pseudo_degs_sig,\n",
    "        by = c(\"correlated_gene\" = \"gene\")\n",
    "    )\n",
    "cd4na_cisCor_dap_degs %>% colnames()\n"
   ]
  },
  {
   "cell_type": "code",
   "execution_count": null,
   "metadata": {
    "vscode": {
     "languageId": "r"
    }
   },
   "outputs": [],
   "source": [
    "cd4na_cisCor_dap_degs %>% filter(correlated_gene == \"STAT3\")\n"
   ]
  },
  {
   "cell_type": "code",
   "execution_count": null,
   "metadata": {
    "vscode": {
     "languageId": "r"
    }
   },
   "outputs": [],
   "source": []
  },
  {
   "cell_type": "code",
   "execution_count": null,
   "metadata": {
    "vscode": {
     "languageId": "r"
    }
   },
   "outputs": [],
   "source": [
    "# pathway enrichment for cd4na\n",
    "enrich_cd4na_cisCor_sig_genes <- enrichR::enrichr(cd4na_cisCor_dap_degs$correlated_gene, c(\n",
    "    \"KEGG_2021_Human\",\n",
    "    \"MSigDB_Hallmark_2020\"\n",
    "))\n",
    "enrich_cd4na_cisCor_sig_genes[[\"KEGG_2021_Human\"]] %>%\n",
    "    filter(Adjusted.P.value < 0.05) %>%\n",
    "    arrange(Adjusted.P.value) %>%\n",
    "    dplyr::select(-c(Old.P.value, Old.Adjusted.P.value))\n"
   ]
  },
  {
   "cell_type": "code",
   "execution_count": null,
   "metadata": {
    "vscode": {
     "languageId": "r"
    }
   },
   "outputs": [],
   "source": [
    "getFeatures(cd4t_atac, \"MotifMatrix\") %>% str_subset(\"IL\")\n"
   ]
  },
  {
   "cell_type": "code",
   "execution_count": null,
   "metadata": {
    "vscode": {
     "languageId": "r"
    }
   },
   "outputs": [],
   "source": []
  },
  {
   "cell_type": "code",
   "execution_count": null,
   "metadata": {
    "vscode": {
     "languageId": "r"
    }
   },
   "outputs": [],
   "source": [
    "# filter gene that have DAPs in promoter region also correlated with gene expression\n",
    "cd4na_diff_sig_peaks <- cd4na_diff %>%\n",
    "    filter(FDR < 0.2) %>%\n",
    "    as_tibble() %>%\n",
    "    pull(Tile)\n",
    "cd4na_cisCor_dap_sig <- cd4na_cisCor_dap %>% filter( # correlated_gene==annotate_gene &\n",
    "    PeakRanges %in% cd4na_diff_sig_peaks\n",
    ")\n",
    "cd4na_cisCor_dap_genes <- cd4na_cisCor_dap_sig$correlated_gene\n"
   ]
  },
  {
   "cell_type": "code",
   "execution_count": null,
   "metadata": {
    "vscode": {
     "languageId": "r"
    }
   },
   "outputs": [],
   "source": [
    "# pathway enrichment for cd4na\n",
    "enrich_cd4na_cisCor_dap <- enrichr(cd4na_cisCor_dap_genes, c(\"KEGG_2021_Human\", \"MSigDB_Hallmark_2020\"))\n",
    "enrich_cd4na_cisCor_dap[[\"MSigDB_Hallmark_2020\"]] %>%\n",
    "    filter(Adjusted.P.value < 0.05) %>%\n",
    "    dplyr::select(-c(Old.P.value, Old.Adjusted.P.value))\n"
   ]
  },
  {
   "cell_type": "code",
   "execution_count": null,
   "metadata": {
    "vscode": {
     "languageId": "r"
    }
   },
   "outputs": [],
   "source": []
  },
  {
   "cell_type": "code",
   "execution_count": null,
   "metadata": {
    "vscode": {
     "languageId": "r"
    }
   },
   "outputs": [],
   "source": [
    "cd4na_cisCor_dap %>%\n",
    "    filter(pvalZ < 0.05) %>%\n",
    "    as_tibble() %>%\n",
    "    group_by(correlated_gene) %>%\n",
    "    tally() %>%\n",
    "    arrange(desc(n)) %>%\n",
    "    head(20)\n"
   ]
  },
  {
   "cell_type": "code",
   "execution_count": null,
   "metadata": {
    "vscode": {
     "languageId": "r"
    }
   },
   "outputs": [],
   "source": [
    "# pathway enrichment for cd4na\n",
    "enrich_cd4_na_peak2gene <- enrichr(cd4na_cisCor_dap$correlated_gene %>% unique(), \"KEGG_2021_Human\")\n",
    "enrich_cd4_na_peak2gene[[\"KEGG_2021_Human\"]] %>% filter(Adjusted.P.value < 0.05)\n"
   ]
  },
  {
   "cell_type": "code",
   "execution_count": null,
   "metadata": {
    "tags": [],
    "vscode": {
     "languageId": "r"
    }
   },
   "outputs": [],
   "source": [
    "cd4na_cisCor_dap %>%\n",
    "    group_by(Gene, tileType) %>%\n",
    "    summarise(counts = n())\n"
   ]
  },
  {
   "cell_type": "code",
   "execution_count": null,
   "metadata": {
    "vscode": {
     "languageId": "r"
    }
   },
   "outputs": [],
   "source": [
    "# filter the granges for DAPs and correlated with\n",
    "cd4na_cisCor_DAPs_sig <- cd4na_cisCor %>%\n",
    "    filter(pvalZ < 0.05 & correlated_gene %in% cd4na_cisCor_dap_genes) %>%\n",
    "    plyranges::filter_by_overlaps(filter(cd4na_diff, FDR < 0.2))\n",
    "cd4na_cisCor_DAPs_sig\n"
   ]
  },
  {
   "cell_type": "code",
   "execution_count": null,
   "metadata": {
    "tags": [],
    "vscode": {
     "languageId": "r"
    }
   },
   "outputs": [],
   "source": [
    "# cd4na_cisCor_DAPs_sig\n",
    "# cd4na_cisCor_DAPs_sig <- chromVAR::addGCBias(cd4na_cisCor_DAPs_sig,  genome = BSgenome.Hsapiens.UCSC.hg38)\n"
   ]
  },
  {
   "cell_type": "code",
   "execution_count": null,
   "metadata": {
    "vscode": {
     "languageId": "r"
    }
   },
   "outputs": [],
   "source": [
    "# run motif enrichment between the\n",
    "background <- cd4na_diff %>% plyranges::filter(FDR > 0.2)\n"
   ]
  },
  {
   "cell_type": "code",
   "execution_count": null,
   "metadata": {
    "tags": [],
    "vscode": {
     "languageId": "r"
    }
   },
   "outputs": [],
   "source": [
    "# cd4na_cisCor_dap %>% distinct(Gene)\n"
   ]
  },
  {
   "cell_type": "code",
   "execution_count": null,
   "metadata": {
    "vscode": {
     "languageId": "r"
    }
   },
   "outputs": [],
   "source": [
    "cd4na_cisCor_sig_counts <- cd4na_cisCor_sig %>%\n",
    "    group_by(correlated_gene) %>%\n",
    "    summarise(\n",
    "        counts = n(),\n",
    "        cell_type = unique(cell_type),\n",
    "        logFC = unique(logFC), FDR = unique(FDR)\n",
    "    )\n"
   ]
  },
  {
   "cell_type": "code",
   "execution_count": null,
   "metadata": {
    "vscode": {
     "languageId": "r"
    }
   },
   "outputs": [],
   "source": [
    "cd4na_cisCor_sig %>%\n",
    "    ggplot(aes(\n",
    "        x = logFC, y = rObs, color = -log10(pvalZ),\n",
    "        label = correlated_gene\n",
    "    )) +\n",
    "    geom_point() +\n",
    "    ggrepel::geom_text_repel()\n"
   ]
  },
  {
   "cell_type": "code",
   "execution_count": null,
   "metadata": {
    "vscode": {
     "languageId": "r"
    }
   },
   "outputs": [],
   "source": [
    "cd4tem_cisCor %>%\n",
    "    filter(pvalZ < 0.05) %>%\n",
    "    as_tibble() %>%\n",
    "    group_by(tileType) %>%\n",
    "    tally()\n"
   ]
  },
  {
   "cell_type": "code",
   "execution_count": null,
   "metadata": {
    "vscode": {
     "languageId": "r"
    }
   },
   "outputs": [],
   "source": [
    "cd4tem_cisCor %>%\n",
    "    filter(pvalZ < 0.05) %>%\n",
    "    as_tibble() %>%\n",
    "    group_by(tileType) %>%\n",
    "    tally()\n"
   ]
  },
  {
   "cell_type": "markdown",
   "metadata": {},
   "source": [
    "### Treg peak2gene correlation"
   ]
  },
  {
   "cell_type": "code",
   "execution_count": null,
   "metadata": {
    "vscode": {
     "languageId": "r"
    }
   },
   "outputs": [],
   "source": [
    "ra_tea_cd4@meta.data %>% distinct(t_anno_atac)\n"
   ]
  },
  {
   "cell_type": "code",
   "execution_count": null,
   "metadata": {
    "vscode": {
     "languageId": "r"
    }
   },
   "outputs": [],
   "source": [
    "# subset the seurat data by cell type\n",
    "ra_tea_treg <- subset(ra_tea_cd4, t_anno_atac == \"treg\")\n",
    "cd4na_cisCor <- runFigRpeak2gene(SampleTileMatricesAnnotated, ra_tea_cd4na,\n",
    "   cell_type = \"treg\", sample.col = \"pbmc_sample_id\",\n",
    "   gene_list = cd4na_pseudo_degs %>%\n",
    "      filter(FDR < 0.05) %>% pull(gene),\n",
    "   rna.assay = \"SCT\",\n",
    "   windowPadSize = 1000000, nCores = 60\n",
    ")\n"
   ]
  },
  {
   "cell_type": "code",
   "execution_count": null,
   "metadata": {
    "vscode": {
     "languageId": "r"
    }
   },
   "outputs": [],
   "source": []
  },
  {
   "cell_type": "markdown",
   "metadata": {},
   "source": [
    "### DORC identification"
   ]
  },
  {
   "cell_type": "code",
   "execution_count": null,
   "metadata": {
    "tags": [],
    "vscode": {
     "languageId": "r"
    }
   },
   "outputs": [],
   "source": [
    "cd4na_cisCor %>%\n",
    "    filter(pvalZ < 0.05) %>%\n",
    "    head()\n"
   ]
  },
  {
   "cell_type": "code",
   "execution_count": null,
   "metadata": {
    "vscode": {
     "languageId": "r"
    }
   },
   "outputs": [],
   "source": [
    "cd4na_cisCor_sig <- cd4na_cisCor %>%\n",
    "    as_tibble() %>%\n",
    "    mutate(annotate_gene = Gene) %>%\n",
    "    mutate(Gene = correlated_gene) %>%\n",
    "    filter(pvalZ < 0.05)\n",
    "cd4na_pseudo_degs_sig <- cd4na_pseudo_degs %>%\n",
    "    filter(FDR < 0.05) %>%\n",
    "    dplyr::rename(\"Gene\" = \"gene\")\n",
    "cd4na_cisCor_sig <- cd4na_cisCor_sig %>% left_join(cd4na_pseudo_degs_sig, by = \"Gene\")\n",
    "# rownames(cd4tem_cisCor_sig) = seq(1,nrow(cd4tem_cisCor_sig))\n",
    "cd4na_cisCor_sig_genes <- cd4na_cisCor_sig %>%\n",
    "    dorcJPlot(\n",
    "        cutoff = 50, labelTop = 50,\n",
    "        returnGeneList = TRUE\n",
    "    )\n",
    "ggsave(file.path(fig_path, paste0(proj_name, \"_cd4naive_DEGs_peak2gene_correlation.pdf\")),\n",
    "    width = 8, height = 8\n",
    ")\n"
   ]
  },
  {
   "cell_type": "code",
   "execution_count": null,
   "metadata": {
    "vscode": {
     "languageId": "r"
    }
   },
   "outputs": [],
   "source": [
    "# cd4na_cisCor_sig_genes\n"
   ]
  },
  {
   "cell_type": "code",
   "execution_count": null,
   "metadata": {
    "vscode": {
     "languageId": "r"
    }
   },
   "outputs": [],
   "source": [
    "# cd4na_cisCor <- read_csv(file.path(output_path,\n",
    "#                                    'preRA_tea_seq_cd4tna_figR_cisCor_degs_correlation.csv'))\n"
   ]
  },
  {
   "cell_type": "code",
   "execution_count": null,
   "metadata": {
    "tags": [],
    "vscode": {
     "languageId": "r"
    }
   },
   "outputs": [],
   "source": [
    "cisCor <- cd4na_cisCor %>% mutate(correlated_gene = Gene)\n",
    "cisCor <- MOCHA::differentialsToGRanges(cisCor, tileColumn = \"PeakRanges\")\n",
    "cisCor_anno <- cisCor %>%\n",
    "    MOCHA::annotateTiles(TxDb = TxDb, Org = Org)\n"
   ]
  },
  {
   "cell_type": "code",
   "execution_count": null,
   "metadata": {
    "vscode": {
     "languageId": "r"
    }
   },
   "outputs": [],
   "source": [
    "cisCor_anno %>%\n",
    "    filter(is.na(Gene) & pvalZ < 0.05) %>%\n",
    "    as_tibble() %>%\n",
    "    group_by(correlated_gene) %>%\n",
    "    tally() %>%\n",
    "    arrange(desc(n))\n"
   ]
  },
  {
   "cell_type": "code",
   "execution_count": null,
   "metadata": {
    "tags": [],
    "vscode": {
     "languageId": "r"
    }
   },
   "outputs": [],
   "source": [
    "cd4na_cisCor_grange %>%\n",
    "    filter(pvalZ < 0.05) %>%\n",
    "    as_tibble() %>%\n",
    "    group_by(tileType) %>%\n",
    "    tally()\n"
   ]
  },
  {
   "cell_type": "code",
   "execution_count": null,
   "metadata": {
    "tags": [],
    "vscode": {
     "languageId": "r"
    }
   },
   "outputs": [],
   "source": [
    "cd4na_cisCor_grange %>% as_tibble()\n"
   ]
  },
  {
   "cell_type": "code",
   "execution_count": null,
   "metadata": {
    "vscode": {
     "languageId": "r"
    }
   },
   "outputs": [],
   "source": [
    "dorcGenes <- cd4na_cisCor %>%\n",
    "    filter(pvalZ < 0.05) %>%\n",
    "    dorcJPlot(\n",
    "        cutoff = 5, # Default\n",
    "        returnGeneList = TRUE\n",
    "    )\n"
   ]
  },
  {
   "cell_type": "code",
   "execution_count": null,
   "metadata": {
    "vscode": {
     "languageId": "r"
    }
   },
   "outputs": [],
   "source": [
    "IRanges::findOverlaps(cd4na_cisCor_grange %>% filter(pvalZ < 0.05), )\n"
   ]
  },
  {
   "cell_type": "code",
   "execution_count": null,
   "metadata": {
    "vscode": {
     "languageId": "r"
    }
   },
   "outputs": [],
   "source": [
    "cisCor.filt <- cisCor %>% filter(pvalZ <= 0.05)\n",
    "cisCor.filt %>% dim()\n"
   ]
  },
  {
   "cell_type": "code",
   "execution_count": null,
   "metadata": {
    "vscode": {
     "languageId": "r"
    }
   },
   "outputs": [],
   "source": [
    "cisCor_grange %>%\n",
    "    filter(pvalZ < 0.05) %>%\n",
    "    as_tibble() %>%\n",
    "    group_by(tileType) %>%\n",
    "    tally()\n"
   ]
  },
  {
   "cell_type": "code",
   "execution_count": null,
   "metadata": {
    "vscode": {
     "languageId": "r"
    }
   },
   "outputs": [],
   "source": [
    "dorcGenes <- cisCor.filt %>% dorcJPlot(\n",
    "    cutoff = 5, # Default\n",
    "    returnGeneList = TRUE\n",
    ")\n"
   ]
  },
  {
   "cell_type": "code",
   "execution_count": null,
   "metadata": {
    "vscode": {
     "languageId": "r"
    }
   },
   "outputs": [],
   "source": [
    "# get sample level nomralized gene matrix from seurat object\n",
    "ra_tea_cd4tem <- subset(ra_tea_cd4, t_anno_atac == \"cd4_tem\")\n",
    "ra_tea_cd4tem <- SetIdent(ra_tea_cd4tem, value = \"pbmc_sample_id\")\n",
    "# get the sample average corrected SCT gene expression data for cd4 anive\n",
    "cd4tem_gex_mx <- AverageExpression(ra_tea_cd4tem, features = cd4mem_pseudo_degs %>%\n",
    "    filter(FDR < 0.2) %>% pull(gene), assays = \"SCT\")$SCT\n",
    "cd4tem_gex_mx %>% dim()\n",
    "names(colnames(cd4tem_gex_mx)) <- NULL\n"
   ]
  },
  {
   "cell_type": "code",
   "execution_count": null,
   "metadata": {
    "vscode": {
     "languageId": "r"
    }
   },
   "outputs": [],
   "source": [
    "gex <- AverageExpression(ra_tea_cd4tem, features = cd4mem_pseudo_degs %>%\n",
    "    filter(FDR < 0.2) %>% pull(gene), assays = \"SCT\")\n"
   ]
  },
  {
   "cell_type": "code",
   "execution_count": null,
   "metadata": {
    "vscode": {
     "languageId": "r"
    }
   },
   "outputs": [],
   "source": [
    "# gex[['SCT']]\n"
   ]
  },
  {
   "cell_type": "code",
   "execution_count": null,
   "metadata": {
    "tags": [],
    "vscode": {
     "languageId": "r"
    }
   },
   "outputs": [],
   "source": [
    "cd4mem_pseudo_degs %>% filter(FDR < 0.5)\n"
   ]
  },
  {
   "cell_type": "code",
   "execution_count": null,
   "metadata": {
    "vscode": {
     "languageId": "r"
    }
   },
   "outputs": [],
   "source": [
    "cell_type <- \"cd4_tem\"\n",
    "assayList <- getCellPopMatrix(SampleTileMatricesAnnotated, cell_type)\n",
    "Obj1 <- SummarizedExperiment(\n",
    "    assays = list(\"counts\" = assayList),\n",
    "    colData = colData(SampleTileMatricesAnnotated),\n",
    "    rowRanges = rowRanges(SampleTileMatricesAnnotated) %>% plyranges::filter(!!sym(cell_type) == TRUE),\n",
    "    metadata = SampleTileMatricesAnnotated@metadata\n",
    ")\n"
   ]
  },
  {
   "cell_type": "code",
   "execution_count": null,
   "metadata": {
    "vscode": {
     "languageId": "r"
    }
   },
   "outputs": [],
   "source": [
    "colData(Obj1)$sample_id <- str_extract(colData(Obj1)$Sample, \"PB\\\\d\\\\d\\\\d\\\\d\\\\d-\\\\d\\\\d\")\n"
   ]
  },
  {
   "cell_type": "code",
   "execution_count": null,
   "metadata": {
    "vscode": {
     "languageId": "r"
    }
   },
   "outputs": [],
   "source": [
    "colData(Obj1)\n"
   ]
  },
  {
   "cell_type": "code",
   "execution_count": null,
   "metadata": {
    "vscode": {
     "languageId": "r"
    }
   },
   "outputs": [],
   "source": [
    "rowRanges <- rowRanges(SampleTileMatricesAnnotated) %>% plyranges::filter(!!sym(\"cell_type\") == TRUE)\n"
   ]
  }
 ],
 "metadata": {
  "kernelspec": {
   "display_name": "R 4",
   "language": "R",
   "name": "ir4"
  },
  "language_info": {
   "codemirror_mode": "r",
   "file_extension": ".r",
   "mimetype": "text/x-r-source",
   "name": "R",
   "pygments_lexer": "r",
   "version": "4.3.2"
  },
  "widgets": {
   "application/vnd.jupyter.widget-state+json": {
    "state": {},
    "version_major": 2,
    "version_minor": 0
   }
  }
 },
 "nbformat": 4,
 "nbformat_minor": 4
}
