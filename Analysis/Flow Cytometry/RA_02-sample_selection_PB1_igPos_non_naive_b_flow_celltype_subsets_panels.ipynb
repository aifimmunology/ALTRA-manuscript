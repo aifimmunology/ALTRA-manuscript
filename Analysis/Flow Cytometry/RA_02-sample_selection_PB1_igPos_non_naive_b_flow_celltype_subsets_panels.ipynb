{
 "cells": [
  {
   "cell_type": "markdown",
   "id": "346b30d4-e2d1-4d39-897d-847682dc06d4",
   "metadata": {},
   "source": [
    "# Pre-RA Flow PB1: Cell type level subclustering"
   ]
  },
  {
   "cell_type": "markdown",
   "id": "c3e38082-38fa-48f3-a062-5cd592bea91f",
   "metadata": {},
   "source": [
    "This object excludes the naive b cells from the downstream analysis and includes IG positive markers for clustering"
   ]
  },
  {
   "cell_type": "markdown",
   "id": "6f033047-216f-4cee-a928-dd7981a512e8",
   "metadata": {},
   "source": [
    "## Setup"
   ]
  },
  {
   "cell_type": "code",
   "execution_count": 1,
   "id": "47b60da2-23aa-4238-b30d-1cb5dc99a6c2",
   "metadata": {
    "tags": []
   },
   "outputs": [
    {
     "name": "stderr",
     "output_type": "stream",
     "text": [
      "/home/jupyter/envs/libs/scyan/lib/python3.9/site-packages/tqdm/auto.py:21: TqdmWarning: IProgress not found. Please update jupyter and ipywidgets. See https://ipywidgets.readthedocs.io/en/stable/user_install.html\n",
      "  from .autonotebook import tqdm as notebook_tqdm\n",
      "Global seed set to 0\n"
     ]
    },
    {
     "name": "stdout",
     "output_type": "stream",
     "text": [
      "1.5.1\n",
      "0.10.6\n"
     ]
    }
   ],
   "source": [
    "import scyan as sy\n",
    "import os\n",
    "import glob\n",
    "import anndata\n",
    "import re\n",
    "import pandas as pd\n",
    "from matplotlib import pyplot as plt\n",
    "import numpy as np\n",
    "import scanpy as sc\n",
    "import scanpy.external as sce\n",
    "\n",
    "print(sy.__version__)\n",
    "print(anndata.__version__)\n"
   ]
  },
  {
   "cell_type": "code",
   "execution_count": 2,
   "id": "38419704-03d2-40e6-87fd-2cf4cc92a6df",
   "metadata": {
    "tags": []
   },
   "outputs": [],
   "source": [
    "#### ==== parameter set up ==== ####\n",
    "# define the working path\n",
    "panel = \"PB1\"\n",
    "# define l1 cell types to subset\n",
    "cell_types = [\"total_b_cells\"]\n",
    "# define additional l2 cell types to subset out\n",
    "l2_cell_types = ['naive_b_cells']\n",
    "data_path='/home/jupyter/projects/pre-ra/flow/raw-data/' + panel + '/labelled-expr/cache/'\n",
    "fig_path = '/home/jupyter/projects/pre-ra/flow/02-clustering/results/' + panel + '_celltype_subsample'  + \"/\"\n",
    "proj_name = 'pre-ra_flow_clustering_' + panel\n",
    "output_path = '/home/jupyter/projects/pre-ra/flow/02-clustering/data/' +panel + '/'\n",
    "\n",
    "if not os.path.exists(fig_path): os.makedirs(fig_path)\n",
    "    \n",
    "if not os.path.exists(output_path): os.makedirs(output_path)\n",
    "\n",
    "# define scanpy verbose levels\n",
    "sc.settings.verbosity = 3\n",
    "sc.settings.figdir = fig_path\n",
    "sc.settings.n_jobs = -1"
   ]
  },
  {
   "cell_type": "markdown",
   "id": "5645f78b-0c54-433c-a24f-50c122b684c6",
   "metadata": {
    "tags": []
   },
   "source": [
    "## Functions"
   ]
  },
  {
   "cell_type": "code",
   "execution_count": 3,
   "id": "3c30df4f-1132-401a-b4fc-f79d8fcb61ef",
   "metadata": {
    "tags": []
   },
   "outputs": [],
   "source": [
    "def subset_anndata_by_cell_types(anndata_obj, cell_types):\n",
    "    \"\"\"\n",
    "    Subset Anndata object by specific cell types from the metadata column \"labels\".\n",
    "\n",
    "    Parameters:\n",
    "        anndata_obj (anndata.AnnData): Anndata object containing single-cell genomics data.\n",
    "        cell_types (list): List of cell types to subset.\n",
    "\n",
    "    Returns:\n",
    "        dict: Dictionary containing cell types as keys and corresponding Anndata objects as values.\n",
    "    \"\"\"\n",
    "    split_anndata = {}\n",
    "    for cell_type in cell_types:\n",
    "        subset_indices = anndata_obj.obs['l1_labels'] == cell_type\n",
    "        subset_anndata = anndata_obj[subset_indices].copy()\n",
    "        split_anndata[cell_type] = subset_anndata\n",
    "    return split_anndata"
   ]
  },
  {
   "cell_type": "code",
   "execution_count": 4,
   "id": "f3f339c9-132f-4c93-8588-c03c8a55557a",
   "metadata": {
    "tags": []
   },
   "outputs": [],
   "source": [
    "def subsample_adata_by_group(anndata_obj, target_cells,cluster_key ):\n",
    "    \"\"\"\n",
    "    Subsample Anndata object by specific groupings from the metadata columns by fix target cells.\n",
    "\n",
    "    Parameters:\n",
    "        anndata_obj (anndata.AnnData): Anndata object containing single-cell genomics data.\n",
    "        cluster_key (list): List of cell groupings from metadata\n",
    "        target_cells (num): an integer of the fixed targeted number of cells per groupings\n",
    "\n",
    "    Returns:\n",
    "        Anndata object\n",
    "    \"\"\"\n",
    "    total_cells = len(anndata_obj)\n",
    "    if total_cells < 5000000:  # Check if total cells is less than 5 million\n",
    "        print(\"Total cells less than 5 million. No downsampling performed.\")\n",
    "        return anndata_obj  # Return the original Anndata object\n",
    "    \n",
    "    grouped = anndata_obj.obs.groupby(cluster_key)\n",
    "\n",
    "    downsampled_indices = []\n",
    "    for _, group in grouped:\n",
    "        if len(group) > target_cells:\n",
    "            downsampled_indices.extend(group.sample(target_cells).index)\n",
    "        else:\n",
    "            downsampled_indices.extend(group.index)\n",
    "        \n",
    "    adata_downsampled = adata_sub_celltype[downsampled_indices]\n",
    "    return(adata_downsampled)"
   ]
  },
  {
   "cell_type": "code",
   "execution_count": 5,
   "id": "965a44db-e195-4d3e-bdb8-6ea97a3cd6d5",
   "metadata": {
    "tags": []
   },
   "outputs": [],
   "source": [
    "def save_anndata_list(anndata_list, filenames):\n",
    "    \"\"\"\n",
    "    Save a list of Anndata objects to separate H5AD files.\n",
    "\n",
    "    Parameters:\n",
    "        anndata_list (list): List of Anndata objects to be saved.\n",
    "        filenames (list): List of filenames to save Anndata objects.\n",
    "\n",
    "    Returns:\n",
    "        None\n",
    "    \"\"\"\n",
    "    # zip() combines two lists into a single tuple\n",
    "    for anndata_obj, filename in zip(adata_downsampled_celltypes, filenames):\n",
    "        print(adata_downsampled_celltypes[anndata_obj])\n",
    "        adata_downsampled_celltypes[anndata_obj].write_h5ad(filename)"
   ]
  },
  {
   "cell_type": "code",
   "execution_count": 6,
   "id": "7562daf2-7345-4971-81c2-a58a7dc919cd",
   "metadata": {
    "tags": []
   },
   "outputs": [],
   "source": [
    "def read_anndata_files(file_tuples):\n",
    "    \"\"\"\n",
    "    Read Anndata objects from H5AD files and store them in a dictionary with custom names.\n",
    "\n",
    "    Parameters:\n",
    "        file_tuples (list of tuples): List of tuples where each tuple contains filename and desired name.\n",
    "\n",
    "    Returns:\n",
    "        dict: Dictionary containing Anndata objects with custom names.\n",
    "    \"\"\"\n",
    "    anndata_dict = {}\n",
    "    for filename, name in file_tuples:\n",
    "        anndata_obj = anndata.read_h5ad(filename)\n",
    "        anndata_dict[name] = anndata_obj\n",
    "    return anndata_dict"
   ]
  },
  {
   "cell_type": "markdown",
   "id": "cada2f9a-899d-48e1-b23b-824fc37d2b82",
   "metadata": {},
   "source": [
    "## Read in data "
   ]
  },
  {
   "cell_type": "code",
   "execution_count": 7,
   "id": "d2df43b8-aa39-41f0-a3b3-e0c64e8732a0",
   "metadata": {
    "tags": []
   },
   "outputs": [
    {
     "name": "stdout",
     "output_type": "stream",
     "text": [
      "READING IN ADATA\n",
      "/home/jupyter/projects/pre-ra/flow/02-clustering/data/PB1/adata_preprocess_unscaled_PB1.h5ad\n",
      "AnnData object with n_obs × n_vars = 57762311 × 24\n",
      "    obs: 'Unnamed: 0', 'sample_id', 'cell_id', 'barcode', 'Time', 'SSC-W', 'SSC-H', 'SSC-A', 'FSC-W', 'FSC-H', 'FSC-A', 'SSC-B-W', 'SSC-B-H', 'SSC-B-A', 'Viability_logicle', 'labels', 'batch', 'panel', 'sample.sampleKitGuid', 'l1_labels'\n"
     ]
    }
   ],
   "source": [
    "print(\"READING IN ADATA\")\n",
    "adata_file = output_path + \"adata_preprocess_unscaled_\" + panel + \".h5ad\"\n",
    "print(adata_file)\n",
    "adata = sc.read_h5ad(adata_file)\n",
    "print(adata)"
   ]
  },
  {
   "cell_type": "code",
   "execution_count": 8,
   "id": "23bf6098-b72b-4416-a71f-4cb7bf43c530",
   "metadata": {
    "tags": []
   },
   "outputs": [
    {
     "name": "stdout",
     "output_type": "stream",
     "text": [
      "['unknown', 't_cells', 'total_b_cells', 'debris', 'total_nk_cells', 'total_myeloid_cells']\n",
      "Categories (6, object): ['debris', 't_cells', 'total_b_cells', 'total_myeloid_cells', 'total_nk_cells', 'unknown']\n"
     ]
    }
   ],
   "source": [
    "cell_labels_to_subset_list = adata.obs['l1_labels'].unique()\n",
    "print(cell_labels_to_subset_list)"
   ]
  },
  {
   "cell_type": "code",
   "execution_count": 9,
   "id": "7bfe3e99-3ceb-4be4-93ac-5fdd78cc2190",
   "metadata": {
    "tags": []
   },
   "outputs": [
    {
     "data": {
      "text/plain": [
       "['Unknown', 't_cells', 'naive_b_cells', 'debris', 'nk_cells', ..., 'transitional_b_cells', 'non_switched_effector_b_cells', 'plasmablasts', 'other_b_cells', 'switched_effector_b_cells']\n",
       "Length: 14\n",
       "Categories (14, object): ['Unknown', 'cd14_monocytes', 'debris', 'naive_b_cells', ..., 'switched_effector_b_cells', 'switched_memory_b_cells', 't_cells', 'transitional_b_cells']"
      ]
     },
     "execution_count": 9,
     "metadata": {},
     "output_type": "execute_result"
    }
   ],
   "source": [
    "adata.obs['labels'].unique()"
   ]
  },
  {
   "cell_type": "code",
   "execution_count": 10,
   "id": "5dd87ff5-2232-418f-a206-2e0111dd7f30",
   "metadata": {
    "tags": []
   },
   "outputs": [
    {
     "name": "stdout",
     "output_type": "stream",
     "text": [
      "l1_labels    debris   t_cells  total_b_cells  total_myeloid_cells  \\\n",
      "sample_id                                                           \n",
      "PB00052-02    16422    135200          32554                13738   \n",
      "PB00055-02    13004    141077          45016                13014   \n",
      "PB00056-02    15007    121878          24877                40779   \n",
      "PB00057-02     6101     96300          23780                25493   \n",
      "PB00058-03     3604     98321          11800                70936   \n",
      "...             ...       ...            ...                  ...   \n",
      "PB04671-00    12696    213626          55552                80386   \n",
      "PB04906-00    16244    189658          74082                31518   \n",
      "PB04933-00    28682    189046          76284                43810   \n",
      "PB04937-00    25098    259354          50024                13830   \n",
      "All         1926711  19346675        4270985              7061586   \n",
      "\n",
      "l1_labels   total_nk_cells   unknown       All  \n",
      "sample_id                                       \n",
      "PB00052-02           66064    196588    460566  \n",
      "PB00055-02           19797    157100    389008  \n",
      "PB00056-02           42217    151930    396688  \n",
      "PB00057-02           24063    113278    289015  \n",
      "PB00058-03           21980     56482    263123  \n",
      "...                    ...       ...       ...  \n",
      "PB04671-00           52792    213414    628466  \n",
      "PB04906-00           66400    217178    595080  \n",
      "PB04933-00           20584    128288    486694  \n",
      "PB04937-00          139396    248400    736102  \n",
      "All                5813166  19343188  57762311  \n",
      "\n",
      "[139 rows x 7 columns]\n"
     ]
    }
   ],
   "source": [
    "print(pd.crosstab(adata.obs['sample_id'], adata.obs['l1_labels'], margins=True)) \n"
   ]
  },
  {
   "cell_type": "code",
   "execution_count": 11,
   "id": "2d99fc7a-bcec-40a4-8a41-06d02b399102",
   "metadata": {
    "tags": []
   },
   "outputs": [
    {
     "name": "stdout",
     "output_type": "stream",
     "text": [
      "panel                     PB1       All\n",
      "l1_labels                              \n",
      "debris                1926711   1926711\n",
      "t_cells              19346675  19346675\n",
      "total_b_cells         4270985   4270985\n",
      "total_myeloid_cells   7061586   7061586\n",
      "total_nk_cells        5813166   5813166\n",
      "unknown              19343188  19343188\n",
      "All                  57762311  57762311\n"
     ]
    }
   ],
   "source": [
    "print(pd.crosstab(adata.obs['l1_labels'], adata.obs['panel'], margins=True)) \n"
   ]
  },
  {
   "cell_type": "code",
   "execution_count": 12,
   "id": "3fd4fd3f-94d0-4809-9d30-56ea44c23402",
   "metadata": {
    "tags": []
   },
   "outputs": [],
   "source": [
    "### read in metadata \n",
    "meta = pd.read_csv(\"/home/jupyter/projects/pre-ra/flow/raw-data/2023-11-22_ALTRA_Metadata_labs_long-model-vars.csv\")"
   ]
  },
  {
   "cell_type": "code",
   "execution_count": 13,
   "id": "c5496cb9-2b92-47e1-a10c-c912972ee449",
   "metadata": {
    "tags": []
   },
   "outputs": [
    {
     "data": {
      "text/plain": [
       "0      KT00052\n",
       "1      KT00055\n",
       "2      KT00056\n",
       "3      KT00057\n",
       "4      KT00058\n",
       "        ...   \n",
       "152    KT04924\n",
       "153    KT04933\n",
       "154    KT04937\n",
       "155    KT02968\n",
       "156    KT04906\n",
       "Name: sample.sampleKitGuid, Length: 157, dtype: object"
      ]
     },
     "execution_count": 13,
     "metadata": {},
     "output_type": "execute_result"
    }
   ],
   "source": [
    "meta[\"sample.sampleKitGuid\"]"
   ]
  },
  {
   "cell_type": "code",
   "execution_count": 14,
   "id": "c8de87f7-ea18-40da-b253-c232d14dcd59",
   "metadata": {
    "tags": []
   },
   "outputs": [],
   "source": [
    "meta = meta[[ 'sample.sampleKitGuid','Status_Xsec','Status_Long', 'subject.biologicalSex', 'subject.subjectGuid', 'days_to_conversion', 'age_conv','bmi_conv','Age2023']]"
   ]
  },
  {
   "cell_type": "code",
   "execution_count": 15,
   "id": "9dd9fdae-9cd1-4592-bdf3-2ee7eb8f52bb",
   "metadata": {
    "tags": []
   },
   "outputs": [
    {
     "data": {
      "text/html": [
       "<div>\n",
       "<style scoped>\n",
       "    .dataframe tbody tr th:only-of-type {\n",
       "        vertical-align: middle;\n",
       "    }\n",
       "\n",
       "    .dataframe tbody tr th {\n",
       "        vertical-align: top;\n",
       "    }\n",
       "\n",
       "    .dataframe thead th {\n",
       "        text-align: right;\n",
       "    }\n",
       "</style>\n",
       "<table border=\"1\" class=\"dataframe\">\n",
       "  <thead>\n",
       "    <tr style=\"text-align: right;\">\n",
       "      <th></th>\n",
       "      <th>sample.sampleKitGuid</th>\n",
       "      <th>Status_Xsec</th>\n",
       "      <th>Status_Long</th>\n",
       "      <th>subject.biologicalSex</th>\n",
       "      <th>subject.subjectGuid</th>\n",
       "      <th>days_to_conversion</th>\n",
       "      <th>age_conv</th>\n",
       "      <th>bmi_conv</th>\n",
       "      <th>Age2023</th>\n",
       "    </tr>\n",
       "  </thead>\n",
       "  <tbody>\n",
       "    <tr>\n",
       "      <th>0</th>\n",
       "      <td>KT00052</td>\n",
       "      <td>at_risk</td>\n",
       "      <td>pre</td>\n",
       "      <td>Female</td>\n",
       "      <td>CU1009</td>\n",
       "      <td>-714.0</td>\n",
       "      <td>58.0</td>\n",
       "      <td>25.648918</td>\n",
       "      <td>60</td>\n",
       "    </tr>\n",
       "    <tr>\n",
       "      <th>1</th>\n",
       "      <td>KT00055</td>\n",
       "      <td>early_RA</td>\n",
       "      <td>NaN</td>\n",
       "      <td>Female</td>\n",
       "      <td>CU1008</td>\n",
       "      <td>NaN</td>\n",
       "      <td>NaN</td>\n",
       "      <td>NaN</td>\n",
       "      <td>57</td>\n",
       "    </tr>\n",
       "    <tr>\n",
       "      <th>2</th>\n",
       "      <td>KT00056</td>\n",
       "      <td>at_risk</td>\n",
       "      <td>pre</td>\n",
       "      <td>Female</td>\n",
       "      <td>CU1007</td>\n",
       "      <td>-632.0</td>\n",
       "      <td>44.0</td>\n",
       "      <td>26.194977</td>\n",
       "      <td>46</td>\n",
       "    </tr>\n",
       "    <tr>\n",
       "      <th>3</th>\n",
       "      <td>KT00057</td>\n",
       "      <td>at_risk</td>\n",
       "      <td>pre</td>\n",
       "      <td>Female</td>\n",
       "      <td>CU1003</td>\n",
       "      <td>-615.0</td>\n",
       "      <td>23.0</td>\n",
       "      <td>23.143062</td>\n",
       "      <td>25</td>\n",
       "    </tr>\n",
       "    <tr>\n",
       "      <th>4</th>\n",
       "      <td>KT00058</td>\n",
       "      <td>at_risk</td>\n",
       "      <td>NaN</td>\n",
       "      <td>Female</td>\n",
       "      <td>CU1002</td>\n",
       "      <td>NaN</td>\n",
       "      <td>NaN</td>\n",
       "      <td>NaN</td>\n",
       "      <td>82</td>\n",
       "    </tr>\n",
       "  </tbody>\n",
       "</table>\n",
       "</div>"
      ],
      "text/plain": [
       "  sample.sampleKitGuid Status_Xsec Status_Long subject.biologicalSex  \\\n",
       "0              KT00052     at_risk         pre                Female   \n",
       "1              KT00055    early_RA         NaN                Female   \n",
       "2              KT00056     at_risk         pre                Female   \n",
       "3              KT00057     at_risk         pre                Female   \n",
       "4              KT00058     at_risk         NaN                Female   \n",
       "\n",
       "  subject.subjectGuid  days_to_conversion  age_conv   bmi_conv  Age2023  \n",
       "0              CU1009              -714.0      58.0  25.648918       60  \n",
       "1              CU1008                 NaN       NaN        NaN       57  \n",
       "2              CU1007              -632.0      44.0  26.194977       46  \n",
       "3              CU1003              -615.0      23.0  23.143062       25  \n",
       "4              CU1002                 NaN       NaN        NaN       82  "
      ]
     },
     "execution_count": 15,
     "metadata": {},
     "output_type": "execute_result"
    }
   ],
   "source": [
    "meta.head()"
   ]
  },
  {
   "cell_type": "code",
   "execution_count": 16,
   "id": "8ee16ebe-0755-4269-ab5a-c2be708f3400",
   "metadata": {
    "tags": []
   },
   "outputs": [],
   "source": [
    "### add sample.sampleKitGuid to column metadata of anndata before merging metadata\n",
    "sample_id = adata.obs[\"sample_id\"]\n",
    "\n",
    "sliced_ids = [ids[2:7] for ids in sample_id]\n",
    "sampleKitGuid = [\"KT\" + ids for ids in sliced_ids]"
   ]
  },
  {
   "cell_type": "code",
   "execution_count": 17,
   "id": "69049d86-d6f1-4da4-857b-d136fcf46c39",
   "metadata": {
    "tags": []
   },
   "outputs": [],
   "source": [
    "adata.obs[\"sample.sampleKitGuid\"] = sampleKitGuid"
   ]
  },
  {
   "cell_type": "code",
   "execution_count": 18,
   "id": "0c23441d-8716-49dd-8ef8-3a806bfadc3e",
   "metadata": {
    "tags": []
   },
   "outputs": [
    {
     "data": {
      "text/html": [
       "<div>\n",
       "<style scoped>\n",
       "    .dataframe tbody tr th:only-of-type {\n",
       "        vertical-align: middle;\n",
       "    }\n",
       "\n",
       "    .dataframe tbody tr th {\n",
       "        vertical-align: top;\n",
       "    }\n",
       "\n",
       "    .dataframe thead th {\n",
       "        text-align: right;\n",
       "    }\n",
       "</style>\n",
       "<table border=\"1\" class=\"dataframe\">\n",
       "  <thead>\n",
       "    <tr style=\"text-align: right;\">\n",
       "      <th></th>\n",
       "      <th>sample.sampleKitGuid</th>\n",
       "      <th>sample_id</th>\n",
       "    </tr>\n",
       "  </thead>\n",
       "  <tbody>\n",
       "    <tr>\n",
       "      <th>0-0</th>\n",
       "      <td>KT00467</td>\n",
       "      <td>PB00467-01</td>\n",
       "    </tr>\n",
       "    <tr>\n",
       "      <th>1-0</th>\n",
       "      <td>KT00467</td>\n",
       "      <td>PB00467-01</td>\n",
       "    </tr>\n",
       "    <tr>\n",
       "      <th>2-0</th>\n",
       "      <td>KT00467</td>\n",
       "      <td>PB00467-01</td>\n",
       "    </tr>\n",
       "    <tr>\n",
       "      <th>3-0</th>\n",
       "      <td>KT00467</td>\n",
       "      <td>PB00467-01</td>\n",
       "    </tr>\n",
       "    <tr>\n",
       "      <th>4-0</th>\n",
       "      <td>KT00467</td>\n",
       "      <td>PB00467-01</td>\n",
       "    </tr>\n",
       "  </tbody>\n",
       "</table>\n",
       "</div>"
      ],
      "text/plain": [
       "    sample.sampleKitGuid   sample_id\n",
       "0-0              KT00467  PB00467-01\n",
       "1-0              KT00467  PB00467-01\n",
       "2-0              KT00467  PB00467-01\n",
       "3-0              KT00467  PB00467-01\n",
       "4-0              KT00467  PB00467-01"
      ]
     },
     "execution_count": 18,
     "metadata": {},
     "output_type": "execute_result"
    }
   ],
   "source": [
    "adata.obs[[\"sample.sampleKitGuid\", \"sample_id\"]].head()"
   ]
  },
  {
   "cell_type": "code",
   "execution_count": 19,
   "id": "09b194f0-6203-44c8-af4a-d6d9b5e80b55",
   "metadata": {
    "tags": []
   },
   "outputs": [],
   "source": [
    "### merge meta info back to adata obj\n",
    "adata.obs = pd.merge(adata.obs, meta, on='sample.sampleKitGuid', how='inner')\n"
   ]
  },
  {
   "cell_type": "code",
   "execution_count": 20,
   "id": "d7393c3b-65e1-4cf8-b3f3-32d89b3dd19d",
   "metadata": {
    "tags": []
   },
   "outputs": [
    {
     "data": {
      "text/html": [
       "<div>\n",
       "<style scoped>\n",
       "    .dataframe tbody tr th:only-of-type {\n",
       "        vertical-align: middle;\n",
       "    }\n",
       "\n",
       "    .dataframe tbody tr th {\n",
       "        vertical-align: top;\n",
       "    }\n",
       "\n",
       "    .dataframe thead th {\n",
       "        text-align: right;\n",
       "    }\n",
       "</style>\n",
       "<table border=\"1\" class=\"dataframe\">\n",
       "  <thead>\n",
       "    <tr style=\"text-align: right;\">\n",
       "      <th></th>\n",
       "      <th>Unnamed: 0</th>\n",
       "      <th>sample_id</th>\n",
       "      <th>cell_id</th>\n",
       "      <th>barcode</th>\n",
       "      <th>Time</th>\n",
       "      <th>SSC-W</th>\n",
       "      <th>SSC-H</th>\n",
       "      <th>SSC-A</th>\n",
       "      <th>FSC-W</th>\n",
       "      <th>FSC-H</th>\n",
       "      <th>...</th>\n",
       "      <th>sample.sampleKitGuid</th>\n",
       "      <th>l1_labels</th>\n",
       "      <th>Status_Xsec</th>\n",
       "      <th>Status_Long</th>\n",
       "      <th>subject.biologicalSex</th>\n",
       "      <th>subject.subjectGuid</th>\n",
       "      <th>days_to_conversion</th>\n",
       "      <th>age_conv</th>\n",
       "      <th>bmi_conv</th>\n",
       "      <th>Age2023</th>\n",
       "    </tr>\n",
       "  </thead>\n",
       "  <tbody>\n",
       "    <tr>\n",
       "      <th>0</th>\n",
       "      <td>0</td>\n",
       "      <td>PB00467-01</td>\n",
       "      <td>1</td>\n",
       "      <td>908e13a82a8411eda605fe22d8c79dde</td>\n",
       "      <td>48450.0</td>\n",
       "      <td>740557.9375</td>\n",
       "      <td>564999.0</td>\n",
       "      <td>697357.4375</td>\n",
       "      <td>716652.3750</td>\n",
       "      <td>1189311.0</td>\n",
       "      <td>...</td>\n",
       "      <td>KT00467</td>\n",
       "      <td>unknown</td>\n",
       "      <td>NaN</td>\n",
       "      <td>pre</td>\n",
       "      <td>Female</td>\n",
       "      <td>CU1033</td>\n",
       "      <td>-616.0</td>\n",
       "      <td>49.0</td>\n",
       "      <td>31.161374</td>\n",
       "      <td>49</td>\n",
       "    </tr>\n",
       "    <tr>\n",
       "      <th>1</th>\n",
       "      <td>1</td>\n",
       "      <td>PB00467-01</td>\n",
       "      <td>2</td>\n",
       "      <td>908e13d02a8411eda605fe22d8c79dde</td>\n",
       "      <td>48450.0</td>\n",
       "      <td>731824.6250</td>\n",
       "      <td>459221.0</td>\n",
       "      <td>560115.3750</td>\n",
       "      <td>708948.3750</td>\n",
       "      <td>996820.0</td>\n",
       "      <td>...</td>\n",
       "      <td>KT00467</td>\n",
       "      <td>t_cells</td>\n",
       "      <td>NaN</td>\n",
       "      <td>pre</td>\n",
       "      <td>Female</td>\n",
       "      <td>CU1033</td>\n",
       "      <td>-616.0</td>\n",
       "      <td>49.0</td>\n",
       "      <td>31.161374</td>\n",
       "      <td>49</td>\n",
       "    </tr>\n",
       "    <tr>\n",
       "      <th>2</th>\n",
       "      <td>2</td>\n",
       "      <td>PB00467-01</td>\n",
       "      <td>3</td>\n",
       "      <td>908e13f82a8411eda605fe22d8c79dde</td>\n",
       "      <td>48455.0</td>\n",
       "      <td>845166.8750</td>\n",
       "      <td>495960.0</td>\n",
       "      <td>698614.9375</td>\n",
       "      <td>763026.3750</td>\n",
       "      <td>634781.0</td>\n",
       "      <td>...</td>\n",
       "      <td>KT00467</td>\n",
       "      <td>unknown</td>\n",
       "      <td>NaN</td>\n",
       "      <td>pre</td>\n",
       "      <td>Female</td>\n",
       "      <td>CU1033</td>\n",
       "      <td>-616.0</td>\n",
       "      <td>49.0</td>\n",
       "      <td>31.161374</td>\n",
       "      <td>49</td>\n",
       "    </tr>\n",
       "    <tr>\n",
       "      <th>3</th>\n",
       "      <td>3</td>\n",
       "      <td>PB00467-01</td>\n",
       "      <td>4</td>\n",
       "      <td>908e14202a8411eda605fe22d8c79dde</td>\n",
       "      <td>48456.0</td>\n",
       "      <td>757639.6875</td>\n",
       "      <td>362719.0</td>\n",
       "      <td>458017.1875</td>\n",
       "      <td>725696.1250</td>\n",
       "      <td>949282.0</td>\n",
       "      <td>...</td>\n",
       "      <td>KT00467</td>\n",
       "      <td>t_cells</td>\n",
       "      <td>NaN</td>\n",
       "      <td>pre</td>\n",
       "      <td>Female</td>\n",
       "      <td>CU1033</td>\n",
       "      <td>-616.0</td>\n",
       "      <td>49.0</td>\n",
       "      <td>31.161374</td>\n",
       "      <td>49</td>\n",
       "    </tr>\n",
       "    <tr>\n",
       "      <th>4</th>\n",
       "      <td>4</td>\n",
       "      <td>PB00467-01</td>\n",
       "      <td>6</td>\n",
       "      <td>908e14702a8411eda605fe22d8c79dde</td>\n",
       "      <td>48460.0</td>\n",
       "      <td>746102.8750</td>\n",
       "      <td>502148.0</td>\n",
       "      <td>624423.4375</td>\n",
       "      <td>744195.0625</td>\n",
       "      <td>1243487.0</td>\n",
       "      <td>...</td>\n",
       "      <td>KT00467</td>\n",
       "      <td>unknown</td>\n",
       "      <td>NaN</td>\n",
       "      <td>pre</td>\n",
       "      <td>Female</td>\n",
       "      <td>CU1033</td>\n",
       "      <td>-616.0</td>\n",
       "      <td>49.0</td>\n",
       "      <td>31.161374</td>\n",
       "      <td>49</td>\n",
       "    </tr>\n",
       "  </tbody>\n",
       "</table>\n",
       "<p>5 rows × 28 columns</p>\n",
       "</div>"
      ],
      "text/plain": [
       "   Unnamed: 0   sample_id  cell_id                           barcode     Time  \\\n",
       "0           0  PB00467-01        1  908e13a82a8411eda605fe22d8c79dde  48450.0   \n",
       "1           1  PB00467-01        2  908e13d02a8411eda605fe22d8c79dde  48450.0   \n",
       "2           2  PB00467-01        3  908e13f82a8411eda605fe22d8c79dde  48455.0   \n",
       "3           3  PB00467-01        4  908e14202a8411eda605fe22d8c79dde  48456.0   \n",
       "4           4  PB00467-01        6  908e14702a8411eda605fe22d8c79dde  48460.0   \n",
       "\n",
       "         SSC-W     SSC-H        SSC-A        FSC-W      FSC-H  ...  \\\n",
       "0  740557.9375  564999.0  697357.4375  716652.3750  1189311.0  ...   \n",
       "1  731824.6250  459221.0  560115.3750  708948.3750   996820.0  ...   \n",
       "2  845166.8750  495960.0  698614.9375  763026.3750   634781.0  ...   \n",
       "3  757639.6875  362719.0  458017.1875  725696.1250   949282.0  ...   \n",
       "4  746102.8750  502148.0  624423.4375  744195.0625  1243487.0  ...   \n",
       "\n",
       "   sample.sampleKitGuid  l1_labels  Status_Xsec  Status_Long  \\\n",
       "0               KT00467    unknown          NaN          pre   \n",
       "1               KT00467    t_cells          NaN          pre   \n",
       "2               KT00467    unknown          NaN          pre   \n",
       "3               KT00467    t_cells          NaN          pre   \n",
       "4               KT00467    unknown          NaN          pre   \n",
       "\n",
       "   subject.biologicalSex subject.subjectGuid days_to_conversion age_conv  \\\n",
       "0                 Female              CU1033             -616.0     49.0   \n",
       "1                 Female              CU1033             -616.0     49.0   \n",
       "2                 Female              CU1033             -616.0     49.0   \n",
       "3                 Female              CU1033             -616.0     49.0   \n",
       "4                 Female              CU1033             -616.0     49.0   \n",
       "\n",
       "    bmi_conv Age2023  \n",
       "0  31.161374      49  \n",
       "1  31.161374      49  \n",
       "2  31.161374      49  \n",
       "3  31.161374      49  \n",
       "4  31.161374      49  \n",
       "\n",
       "[5 rows x 28 columns]"
      ]
     },
     "execution_count": 20,
     "metadata": {},
     "output_type": "execute_result"
    }
   ],
   "source": [
    "adata.obs.head()"
   ]
  },
  {
   "cell_type": "code",
   "execution_count": 21,
   "id": "0cd8f54a-22ca-44a3-93cc-45ee78abe4a7",
   "metadata": {
    "tags": []
   },
   "outputs": [
    {
     "name": "stdout",
     "output_type": "stream",
     "text": [
      "<class 'pandas.core.frame.DataFrame'>\n",
      "RangeIndex: 57762311 entries, 0 to 57762310\n",
      "Data columns (total 28 columns):\n",
      " #   Column                 Dtype   \n",
      "---  ------                 -----   \n",
      " 0   Unnamed: 0             int64   \n",
      " 1   sample_id              category\n",
      " 2   cell_id                int64   \n",
      " 3   barcode                object  \n",
      " 4   Time                   float64 \n",
      " 5   SSC-W                  float64 \n",
      " 6   SSC-H                  float64 \n",
      " 7   SSC-A                  float64 \n",
      " 8   FSC-W                  float64 \n",
      " 9   FSC-H                  float64 \n",
      " 10  FSC-A                  float64 \n",
      " 11  SSC-B-W                float64 \n",
      " 12  SSC-B-H                float64 \n",
      " 13  SSC-B-A                float64 \n",
      " 14  Viability_logicle      float64 \n",
      " 15  labels                 category\n",
      " 16  batch                  category\n",
      " 17  panel                  category\n",
      " 18  sample.sampleKitGuid   object  \n",
      " 19  l1_labels              category\n",
      " 20  Status_Xsec            object  \n",
      " 21  Status_Long            object  \n",
      " 22  subject.biologicalSex  object  \n",
      " 23  subject.subjectGuid    object  \n",
      " 24  days_to_conversion     float64 \n",
      " 25  age_conv               float64 \n",
      " 26  bmi_conv               float64 \n",
      " 27  Age2023                int64   \n",
      "dtypes: category(5), float64(14), int64(3), object(6)\n",
      "memory usage: 10.2+ GB\n"
     ]
    }
   ],
   "source": [
    "adata.obs.info()"
   ]
  },
  {
   "cell_type": "markdown",
   "id": "36ee5db0-cc8b-4d10-8bba-491c813442c3",
   "metadata": {},
   "source": [
    "## Subset by sample selection "
   ]
  },
  {
   "cell_type": "code",
   "execution_count": 22,
   "id": "e3025b20-3f44-4d1f-8df7-10cd0bbe19de",
   "metadata": {},
   "outputs": [
    {
     "data": {
      "text/html": [
       "<div>\n",
       "<style scoped>\n",
       "    .dataframe tbody tr th:only-of-type {\n",
       "        vertical-align: middle;\n",
       "    }\n",
       "\n",
       "    .dataframe tbody tr th {\n",
       "        vertical-align: top;\n",
       "    }\n",
       "\n",
       "    .dataframe thead th {\n",
       "        text-align: right;\n",
       "    }\n",
       "</style>\n",
       "<table border=\"1\" class=\"dataframe\">\n",
       "  <thead>\n",
       "    <tr style=\"text-align: right;\">\n",
       "      <th></th>\n",
       "      <th>sample.sampleKitGuid</th>\n",
       "      <th>Status_Xsec</th>\n",
       "      <th>Status_Long</th>\n",
       "      <th>subject.biologicalSex</th>\n",
       "      <th>subject.subjectGuid</th>\n",
       "      <th>days_to_conversion</th>\n",
       "      <th>age_conv</th>\n",
       "      <th>bmi_conv</th>\n",
       "      <th>Age2023</th>\n",
       "    </tr>\n",
       "  </thead>\n",
       "  <tbody>\n",
       "    <tr>\n",
       "      <th>7</th>\n",
       "      <td>KT00064</td>\n",
       "      <td>at_risk</td>\n",
       "      <td>pre</td>\n",
       "      <td>Female</td>\n",
       "      <td>CU1010</td>\n",
       "      <td>-1144.0</td>\n",
       "      <td>62.0</td>\n",
       "      <td>24.550265</td>\n",
       "      <td>62</td>\n",
       "    </tr>\n",
       "    <tr>\n",
       "      <th>16</th>\n",
       "      <td>KT00075</td>\n",
       "      <td>at_risk</td>\n",
       "      <td>pre</td>\n",
       "      <td>Male</td>\n",
       "      <td>CU1021</td>\n",
       "      <td>-1037.0</td>\n",
       "      <td>68.0</td>\n",
       "      <td>25.660730</td>\n",
       "      <td>69</td>\n",
       "    </tr>\n",
       "    <tr>\n",
       "      <th>27</th>\n",
       "      <td>KT00093</td>\n",
       "      <td>NaN</td>\n",
       "      <td>pre</td>\n",
       "      <td>Male</td>\n",
       "      <td>CU1021</td>\n",
       "      <td>-848.0</td>\n",
       "      <td>68.0</td>\n",
       "      <td>25.660730</td>\n",
       "      <td>69</td>\n",
       "    </tr>\n",
       "    <tr>\n",
       "      <th>29</th>\n",
       "      <td>KT00097</td>\n",
       "      <td>NaN</td>\n",
       "      <td>pre</td>\n",
       "      <td>Female</td>\n",
       "      <td>CU1010</td>\n",
       "      <td>-1035.0</td>\n",
       "      <td>62.0</td>\n",
       "      <td>24.550265</td>\n",
       "      <td>62</td>\n",
       "    </tr>\n",
       "    <tr>\n",
       "      <th>48</th>\n",
       "      <td>KT00424</td>\n",
       "      <td>NaN</td>\n",
       "      <td>pre</td>\n",
       "      <td>Male</td>\n",
       "      <td>CU1021</td>\n",
       "      <td>-778.0</td>\n",
       "      <td>68.0</td>\n",
       "      <td>25.660730</td>\n",
       "      <td>69</td>\n",
       "    </tr>\n",
       "    <tr>\n",
       "      <th>51</th>\n",
       "      <td>KT00443</td>\n",
       "      <td>at_risk</td>\n",
       "      <td>pre</td>\n",
       "      <td>Female</td>\n",
       "      <td>CU1033</td>\n",
       "      <td>-818.0</td>\n",
       "      <td>49.0</td>\n",
       "      <td>31.161374</td>\n",
       "      <td>49</td>\n",
       "    </tr>\n",
       "  </tbody>\n",
       "</table>\n",
       "</div>"
      ],
      "text/plain": [
       "   sample.sampleKitGuid Status_Xsec Status_Long subject.biologicalSex  \\\n",
       "7               KT00064     at_risk         pre                Female   \n",
       "16              KT00075     at_risk         pre                  Male   \n",
       "27              KT00093         NaN         pre                  Male   \n",
       "29              KT00097         NaN         pre                Female   \n",
       "48              KT00424         NaN         pre                  Male   \n",
       "51              KT00443     at_risk         pre                Female   \n",
       "\n",
       "   subject.subjectGuid  days_to_conversion  age_conv   bmi_conv  Age2023  \n",
       "7               CU1010             -1144.0      62.0  24.550265       62  \n",
       "16              CU1021             -1037.0      68.0  25.660730       69  \n",
       "27              CU1021              -848.0      68.0  25.660730       69  \n",
       "29              CU1010             -1035.0      62.0  24.550265       62  \n",
       "48              CU1021              -778.0      68.0  25.660730       69  \n",
       "51              CU1033              -818.0      49.0  31.161374       49  "
      ]
     },
     "execution_count": 22,
     "metadata": {},
     "output_type": "execute_result"
    }
   ],
   "source": [
    "meta[meta['days_to_conversion'] <= -750]"
   ]
  },
  {
   "cell_type": "code",
   "execution_count": 23,
   "id": "f3d79f9f-3d92-4b5c-be60-ffc35351a8b7",
   "metadata": {
    "tags": []
   },
   "outputs": [
    {
     "data": {
      "text/plain": [
       "157"
      ]
     },
     "execution_count": 23,
     "metadata": {},
     "output_type": "execute_result"
    }
   ],
   "source": [
    "len(meta['sample.sampleKitGuid'].unique())"
   ]
  },
  {
   "cell_type": "code",
   "execution_count": 24,
   "id": "c3642406-8df7-474c-b57d-b5ccaca11fb1",
   "metadata": {
    "tags": []
   },
   "outputs": [
    {
     "data": {
      "text/plain": [
       "138"
      ]
     },
     "execution_count": 24,
     "metadata": {},
     "output_type": "execute_result"
    }
   ],
   "source": [
    "len(adata.obs['sample.sampleKitGuid'].unique())"
   ]
  },
  {
   "cell_type": "code",
   "execution_count": 25,
   "id": "a5649127-63c6-4ca2-8b36-bf012c8ab673",
   "metadata": {
    "tags": []
   },
   "outputs": [],
   "source": [
    "samples_to_remove = meta[meta['days_to_conversion'] <= -750][\"sample.sampleKitGuid\"]"
   ]
  },
  {
   "cell_type": "code",
   "execution_count": 26,
   "id": "d200f4a5-513b-4daf-9054-41bc7fc1ce9b",
   "metadata": {
    "tags": []
   },
   "outputs": [
    {
     "data": {
      "text/plain": [
       "6"
      ]
     },
     "execution_count": 26,
     "metadata": {},
     "output_type": "execute_result"
    }
   ],
   "source": [
    "len(samples_to_remove)"
   ]
  },
  {
   "cell_type": "code",
   "execution_count": 27,
   "id": "0d2d79b2-2d1e-4c13-8079-09d694794396",
   "metadata": {
    "tags": []
   },
   "outputs": [],
   "source": [
    "# Convert the column to string type if it's not already\n",
    "adata.obs['sample.sampleKitGuid'] = adata.obs['sample.sampleKitGuid'].astype(str)"
   ]
  },
  {
   "cell_type": "code",
   "execution_count": 28,
   "id": "0f4481eb-0fa2-481c-979a-618b2c051736",
   "metadata": {
    "tags": []
   },
   "outputs": [],
   "source": [
    "# Define the condition based on the metadata in the \"obs\" slot\n",
    "condition = ~adata.obs['sample.sampleKitGuid'].isin(samples_to_remove)\n"
   ]
  },
  {
   "cell_type": "code",
   "execution_count": 29,
   "id": "a35042ce-deaa-4405-8646-a25d9e8afe30",
   "metadata": {
    "tags": []
   },
   "outputs": [],
   "source": [
    "# Use boolean indexing with the negation operator (~) to remove samples that meet the condition\n",
    "adata_sub = adata[condition]"
   ]
  },
  {
   "cell_type": "code",
   "execution_count": 30,
   "id": "119eade8-5745-406f-9b93-957fcc893451",
   "metadata": {
    "tags": []
   },
   "outputs": [
    {
     "data": {
      "text/plain": [
       "False"
      ]
     },
     "execution_count": 30,
     "metadata": {},
     "output_type": "execute_result"
    }
   ],
   "source": [
    "# check if samples to remove is still in filtered adata\n",
    "adata_sub.obs['sample.sampleKitGuid'].isin(samples_to_remove).any()"
   ]
  },
  {
   "cell_type": "code",
   "execution_count": 31,
   "id": "03a25a6f-5d74-4531-9748-f882fb101ee8",
   "metadata": {
    "tags": []
   },
   "outputs": [
    {
     "data": {
      "text/plain": [
       "132"
      ]
     },
     "execution_count": 31,
     "metadata": {},
     "output_type": "execute_result"
    }
   ],
   "source": [
    "len(adata_sub.obs['sample.sampleKitGuid'].unique())"
   ]
  },
  {
   "cell_type": "code",
   "execution_count": 32,
   "id": "b8cff818-ea04-4ce5-ba67-0d8990d9f3e4",
   "metadata": {
    "tags": []
   },
   "outputs": [],
   "source": [
    "adata_sub.write_h5ad(output_path + \"adata_preprocess_unscaled_sample_select_sub_\" + panel + \".h5ad\")"
   ]
  },
  {
   "cell_type": "code",
   "execution_count": 33,
   "id": "97f3b0ef-6e4d-4bb7-8a2c-b857d30d0cd8",
   "metadata": {
    "tags": []
   },
   "outputs": [
    {
     "data": {
      "text/plain": [
       "AnnData object with n_obs × n_vars = 55723956 × 24\n",
       "    obs: 'Unnamed: 0', 'sample_id', 'cell_id', 'barcode', 'Time', 'SSC-W', 'SSC-H', 'SSC-A', 'FSC-W', 'FSC-H', 'FSC-A', 'SSC-B-W', 'SSC-B-H', 'SSC-B-A', 'Viability_logicle', 'labels', 'batch', 'panel', 'sample.sampleKitGuid', 'l1_labels', 'Status_Xsec', 'Status_Long', 'subject.biologicalSex', 'subject.subjectGuid', 'days_to_conversion', 'age_conv', 'bmi_conv', 'Age2023'"
      ]
     },
     "execution_count": 33,
     "metadata": {},
     "output_type": "execute_result"
    }
   ],
   "source": [
    "adata_sub"
   ]
  },
  {
   "cell_type": "code",
   "execution_count": 34,
   "id": "e335fbf6-402c-4e3f-bd7f-51935d006d57",
   "metadata": {
    "tags": []
   },
   "outputs": [
    {
     "name": "stdout",
     "output_type": "stream",
     "text": [
      "panel                     PB1       All\n",
      "l1_labels                              \n",
      "debris                1841686   1841686\n",
      "t_cells              18712875  18712875\n",
      "total_b_cells         4129003   4129003\n",
      "total_myeloid_cells   6689022   6689022\n",
      "total_nk_cells        5565390   5565390\n",
      "unknown              18785980  18785980\n",
      "All                  55723956  55723956\n"
     ]
    }
   ],
   "source": [
    "print(pd.crosstab(adata_sub.obs['l1_labels'], adata_sub.obs['panel'], margins=True)) \n"
   ]
  },
  {
   "cell_type": "code",
   "execution_count": 35,
   "id": "5c036127-de20-44e2-bd3d-32b1af0f9820",
   "metadata": {
    "tags": []
   },
   "outputs": [],
   "source": [
    "cellcount_sampleselect = pd.crosstab(adata_sub.obs['sample_id'], adata_sub.obs['l1_labels'], margins=True)\n",
    "\n",
    "cellcount_sampleselect.reset_index().rename_axis(None, axis=1)\n",
    "\n",
    "cellcount_sampleselect = cellcount_sampleselect.add_prefix(\"sample_select_\")"
   ]
  },
  {
   "cell_type": "code",
   "execution_count": 36,
   "id": "6688c0a3-5e61-4b9a-b97c-2a97592f9663",
   "metadata": {
    "tags": []
   },
   "outputs": [
    {
     "data": {
      "text/html": [
       "<div>\n",
       "<style scoped>\n",
       "    .dataframe tbody tr th:only-of-type {\n",
       "        vertical-align: middle;\n",
       "    }\n",
       "\n",
       "    .dataframe tbody tr th {\n",
       "        vertical-align: top;\n",
       "    }\n",
       "\n",
       "    .dataframe thead th {\n",
       "        text-align: right;\n",
       "    }\n",
       "</style>\n",
       "<table border=\"1\" class=\"dataframe\">\n",
       "  <thead>\n",
       "    <tr style=\"text-align: right;\">\n",
       "      <th>l1_labels</th>\n",
       "      <th>sample_select_debris</th>\n",
       "      <th>sample_select_t_cells</th>\n",
       "      <th>sample_select_total_b_cells</th>\n",
       "      <th>sample_select_total_myeloid_cells</th>\n",
       "      <th>sample_select_total_nk_cells</th>\n",
       "      <th>sample_select_unknown</th>\n",
       "      <th>sample_select_All</th>\n",
       "    </tr>\n",
       "    <tr>\n",
       "      <th>sample_id</th>\n",
       "      <th></th>\n",
       "      <th></th>\n",
       "      <th></th>\n",
       "      <th></th>\n",
       "      <th></th>\n",
       "      <th></th>\n",
       "      <th></th>\n",
       "    </tr>\n",
       "  </thead>\n",
       "  <tbody>\n",
       "    <tr>\n",
       "      <th>PB00052-02</th>\n",
       "      <td>16422</td>\n",
       "      <td>135200</td>\n",
       "      <td>32554</td>\n",
       "      <td>13738</td>\n",
       "      <td>66064</td>\n",
       "      <td>196588</td>\n",
       "      <td>460566</td>\n",
       "    </tr>\n",
       "    <tr>\n",
       "      <th>PB00055-02</th>\n",
       "      <td>13004</td>\n",
       "      <td>141077</td>\n",
       "      <td>45016</td>\n",
       "      <td>13014</td>\n",
       "      <td>19797</td>\n",
       "      <td>157100</td>\n",
       "      <td>389008</td>\n",
       "    </tr>\n",
       "    <tr>\n",
       "      <th>PB00056-02</th>\n",
       "      <td>15007</td>\n",
       "      <td>121878</td>\n",
       "      <td>24877</td>\n",
       "      <td>40779</td>\n",
       "      <td>42217</td>\n",
       "      <td>151930</td>\n",
       "      <td>396688</td>\n",
       "    </tr>\n",
       "    <tr>\n",
       "      <th>PB00057-02</th>\n",
       "      <td>6101</td>\n",
       "      <td>96300</td>\n",
       "      <td>23780</td>\n",
       "      <td>25493</td>\n",
       "      <td>24063</td>\n",
       "      <td>113278</td>\n",
       "      <td>289015</td>\n",
       "    </tr>\n",
       "    <tr>\n",
       "      <th>PB00058-03</th>\n",
       "      <td>3604</td>\n",
       "      <td>98321</td>\n",
       "      <td>11800</td>\n",
       "      <td>70936</td>\n",
       "      <td>21980</td>\n",
       "      <td>56482</td>\n",
       "      <td>263123</td>\n",
       "    </tr>\n",
       "    <tr>\n",
       "      <th>...</th>\n",
       "      <td>...</td>\n",
       "      <td>...</td>\n",
       "      <td>...</td>\n",
       "      <td>...</td>\n",
       "      <td>...</td>\n",
       "      <td>...</td>\n",
       "      <td>...</td>\n",
       "    </tr>\n",
       "    <tr>\n",
       "      <th>PB04671-00</th>\n",
       "      <td>12696</td>\n",
       "      <td>213626</td>\n",
       "      <td>55552</td>\n",
       "      <td>80386</td>\n",
       "      <td>52792</td>\n",
       "      <td>213414</td>\n",
       "      <td>628466</td>\n",
       "    </tr>\n",
       "    <tr>\n",
       "      <th>PB04906-00</th>\n",
       "      <td>16244</td>\n",
       "      <td>189658</td>\n",
       "      <td>74082</td>\n",
       "      <td>31518</td>\n",
       "      <td>66400</td>\n",
       "      <td>217178</td>\n",
       "      <td>595080</td>\n",
       "    </tr>\n",
       "    <tr>\n",
       "      <th>PB04933-00</th>\n",
       "      <td>28682</td>\n",
       "      <td>189046</td>\n",
       "      <td>76284</td>\n",
       "      <td>43810</td>\n",
       "      <td>20584</td>\n",
       "      <td>128288</td>\n",
       "      <td>486694</td>\n",
       "    </tr>\n",
       "    <tr>\n",
       "      <th>PB04937-00</th>\n",
       "      <td>25098</td>\n",
       "      <td>259354</td>\n",
       "      <td>50024</td>\n",
       "      <td>13830</td>\n",
       "      <td>139396</td>\n",
       "      <td>248400</td>\n",
       "      <td>736102</td>\n",
       "    </tr>\n",
       "    <tr>\n",
       "      <th>All</th>\n",
       "      <td>1841686</td>\n",
       "      <td>18712875</td>\n",
       "      <td>4129003</td>\n",
       "      <td>6689022</td>\n",
       "      <td>5565390</td>\n",
       "      <td>18785980</td>\n",
       "      <td>55723956</td>\n",
       "    </tr>\n",
       "  </tbody>\n",
       "</table>\n",
       "<p>133 rows × 7 columns</p>\n",
       "</div>"
      ],
      "text/plain": [
       "l1_labels   sample_select_debris  sample_select_t_cells  \\\n",
       "sample_id                                                 \n",
       "PB00052-02                 16422                 135200   \n",
       "PB00055-02                 13004                 141077   \n",
       "PB00056-02                 15007                 121878   \n",
       "PB00057-02                  6101                  96300   \n",
       "PB00058-03                  3604                  98321   \n",
       "...                          ...                    ...   \n",
       "PB04671-00                 12696                 213626   \n",
       "PB04906-00                 16244                 189658   \n",
       "PB04933-00                 28682                 189046   \n",
       "PB04937-00                 25098                 259354   \n",
       "All                      1841686               18712875   \n",
       "\n",
       "l1_labels   sample_select_total_b_cells  sample_select_total_myeloid_cells  \\\n",
       "sample_id                                                                    \n",
       "PB00052-02                        32554                              13738   \n",
       "PB00055-02                        45016                              13014   \n",
       "PB00056-02                        24877                              40779   \n",
       "PB00057-02                        23780                              25493   \n",
       "PB00058-03                        11800                              70936   \n",
       "...                                 ...                                ...   \n",
       "PB04671-00                        55552                              80386   \n",
       "PB04906-00                        74082                              31518   \n",
       "PB04933-00                        76284                              43810   \n",
       "PB04937-00                        50024                              13830   \n",
       "All                             4129003                            6689022   \n",
       "\n",
       "l1_labels   sample_select_total_nk_cells  sample_select_unknown  \\\n",
       "sample_id                                                         \n",
       "PB00052-02                         66064                 196588   \n",
       "PB00055-02                         19797                 157100   \n",
       "PB00056-02                         42217                 151930   \n",
       "PB00057-02                         24063                 113278   \n",
       "PB00058-03                         21980                  56482   \n",
       "...                                  ...                    ...   \n",
       "PB04671-00                         52792                 213414   \n",
       "PB04906-00                         66400                 217178   \n",
       "PB04933-00                         20584                 128288   \n",
       "PB04937-00                        139396                 248400   \n",
       "All                              5565390               18785980   \n",
       "\n",
       "l1_labels   sample_select_All  \n",
       "sample_id                      \n",
       "PB00052-02             460566  \n",
       "PB00055-02             389008  \n",
       "PB00056-02             396688  \n",
       "PB00057-02             289015  \n",
       "PB00058-03             263123  \n",
       "...                       ...  \n",
       "PB04671-00             628466  \n",
       "PB04906-00             595080  \n",
       "PB04933-00             486694  \n",
       "PB04937-00             736102  \n",
       "All                  55723956  \n",
       "\n",
       "[133 rows x 7 columns]"
      ]
     },
     "execution_count": 36,
     "metadata": {},
     "output_type": "execute_result"
    }
   ],
   "source": [
    "cellcount_sampleselect"
   ]
  },
  {
   "cell_type": "markdown",
   "id": "dea6f704-6bef-4e8c-988c-1bfccda45f6c",
   "metadata": {},
   "source": [
    "## Subset Cell Types "
   ]
  },
  {
   "cell_type": "markdown",
   "id": "ed82c8e1-f0f7-4e3d-a431-2c39415d120f",
   "metadata": {},
   "source": [
    "### Sample composition in cell types"
   ]
  },
  {
   "cell_type": "code",
   "execution_count": 37,
   "id": "735a475a-99b9-4e9d-9c84-e0612360f2fe",
   "metadata": {
    "tags": []
   },
   "outputs": [],
   "source": [
    "# subset at l1 label level\n",
    "adata_sub_celltype = adata_sub[adata_sub.obs['l1_labels'].isin(cell_types)]"
   ]
  },
  {
   "cell_type": "code",
   "execution_count": 38,
   "id": "394438e5-4551-4600-a232-1a9df791e76d",
   "metadata": {
    "tags": []
   },
   "outputs": [
    {
     "data": {
      "text/plain": [
       "View of AnnData object with n_obs × n_vars = 4129003 × 24\n",
       "    obs: 'Unnamed: 0', 'sample_id', 'cell_id', 'barcode', 'Time', 'SSC-W', 'SSC-H', 'SSC-A', 'FSC-W', 'FSC-H', 'FSC-A', 'SSC-B-W', 'SSC-B-H', 'SSC-B-A', 'Viability_logicle', 'labels', 'batch', 'panel', 'sample.sampleKitGuid', 'l1_labels', 'Status_Xsec', 'Status_Long', 'subject.biologicalSex', 'subject.subjectGuid', 'days_to_conversion', 'age_conv', 'bmi_conv', 'Age2023'"
      ]
     },
     "execution_count": 38,
     "metadata": {},
     "output_type": "execute_result"
    }
   ],
   "source": [
    "adata_sub_celltype"
   ]
  },
  {
   "cell_type": "code",
   "execution_count": 40,
   "id": "b7d7dffd-3093-4f7c-8b28-c430fc6cd67d",
   "metadata": {
    "tags": []
   },
   "outputs": [
    {
     "data": {
      "text/html": [
       "<div>\n",
       "<style scoped>\n",
       "    .dataframe tbody tr th:only-of-type {\n",
       "        vertical-align: middle;\n",
       "    }\n",
       "\n",
       "    .dataframe tbody tr th {\n",
       "        vertical-align: top;\n",
       "    }\n",
       "\n",
       "    .dataframe thead th {\n",
       "        text-align: right;\n",
       "    }\n",
       "</style>\n",
       "<table border=\"1\" class=\"dataframe\">\n",
       "  <thead>\n",
       "    <tr style=\"text-align: right;\">\n",
       "      <th>panel</th>\n",
       "      <th>PB1</th>\n",
       "      <th>All</th>\n",
       "    </tr>\n",
       "    <tr>\n",
       "      <th>labels</th>\n",
       "      <th></th>\n",
       "      <th></th>\n",
       "    </tr>\n",
       "  </thead>\n",
       "  <tbody>\n",
       "    <tr>\n",
       "      <th>naive_b_cells</th>\n",
       "      <td>2274984</td>\n",
       "      <td>2274984</td>\n",
       "    </tr>\n",
       "    <tr>\n",
       "      <th>non_switched_effector_b_cells</th>\n",
       "      <td>52241</td>\n",
       "      <td>52241</td>\n",
       "    </tr>\n",
       "    <tr>\n",
       "      <th>non_switched_memory_b_cells</th>\n",
       "      <td>475711</td>\n",
       "      <td>475711</td>\n",
       "    </tr>\n",
       "    <tr>\n",
       "      <th>other_b_cells</th>\n",
       "      <td>28506</td>\n",
       "      <td>28506</td>\n",
       "    </tr>\n",
       "    <tr>\n",
       "      <th>plasmablasts</th>\n",
       "      <td>57317</td>\n",
       "      <td>57317</td>\n",
       "    </tr>\n",
       "    <tr>\n",
       "      <th>surface_ig_neg_memory_b_cells</th>\n",
       "      <td>233122</td>\n",
       "      <td>233122</td>\n",
       "    </tr>\n",
       "    <tr>\n",
       "      <th>switched_effector_b_cells</th>\n",
       "      <td>35021</td>\n",
       "      <td>35021</td>\n",
       "    </tr>\n",
       "    <tr>\n",
       "      <th>switched_memory_b_cells</th>\n",
       "      <td>478418</td>\n",
       "      <td>478418</td>\n",
       "    </tr>\n",
       "    <tr>\n",
       "      <th>transitional_b_cells</th>\n",
       "      <td>493683</td>\n",
       "      <td>493683</td>\n",
       "    </tr>\n",
       "    <tr>\n",
       "      <th>All</th>\n",
       "      <td>4129003</td>\n",
       "      <td>4129003</td>\n",
       "    </tr>\n",
       "  </tbody>\n",
       "</table>\n",
       "</div>"
      ],
      "text/plain": [
       "panel                              PB1      All\n",
       "labels                                         \n",
       "naive_b_cells                  2274984  2274984\n",
       "non_switched_effector_b_cells    52241    52241\n",
       "non_switched_memory_b_cells     475711   475711\n",
       "other_b_cells                    28506    28506\n",
       "plasmablasts                     57317    57317\n",
       "surface_ig_neg_memory_b_cells   233122   233122\n",
       "switched_effector_b_cells        35021    35021\n",
       "switched_memory_b_cells         478418   478418\n",
       "transitional_b_cells            493683   493683\n",
       "All                            4129003  4129003"
      ]
     },
     "execution_count": 40,
     "metadata": {},
     "output_type": "execute_result"
    }
   ],
   "source": [
    "pd.crosstab(adata_sub_celltype.obs['labels'], adata_sub_celltype.obs['panel'], margins=True)"
   ]
  },
  {
   "cell_type": "code",
   "execution_count": 41,
   "id": "e3ee7707-bff1-4bff-98ac-168e341fb125",
   "metadata": {
    "tags": []
   },
   "outputs": [],
   "source": [
    "# additional subset at l2 label level\n",
    "adata_sub_celltype = adata_sub_celltype[~adata_sub_celltype.obs['labels'].isin(l2_cell_types)]"
   ]
  },
  {
   "cell_type": "code",
   "execution_count": 42,
   "id": "d50516d2-d880-4498-b6e3-67a7f7c5eecc",
   "metadata": {
    "tags": []
   },
   "outputs": [
    {
     "data": {
      "text/html": [
       "<div>\n",
       "<style scoped>\n",
       "    .dataframe tbody tr th:only-of-type {\n",
       "        vertical-align: middle;\n",
       "    }\n",
       "\n",
       "    .dataframe tbody tr th {\n",
       "        vertical-align: top;\n",
       "    }\n",
       "\n",
       "    .dataframe thead th {\n",
       "        text-align: right;\n",
       "    }\n",
       "</style>\n",
       "<table border=\"1\" class=\"dataframe\">\n",
       "  <thead>\n",
       "    <tr style=\"text-align: right;\">\n",
       "      <th>panel</th>\n",
       "      <th>PB1</th>\n",
       "      <th>All</th>\n",
       "    </tr>\n",
       "    <tr>\n",
       "      <th>labels</th>\n",
       "      <th></th>\n",
       "      <th></th>\n",
       "    </tr>\n",
       "  </thead>\n",
       "  <tbody>\n",
       "    <tr>\n",
       "      <th>non_switched_effector_b_cells</th>\n",
       "      <td>52241</td>\n",
       "      <td>52241</td>\n",
       "    </tr>\n",
       "    <tr>\n",
       "      <th>non_switched_memory_b_cells</th>\n",
       "      <td>475711</td>\n",
       "      <td>475711</td>\n",
       "    </tr>\n",
       "    <tr>\n",
       "      <th>other_b_cells</th>\n",
       "      <td>28506</td>\n",
       "      <td>28506</td>\n",
       "    </tr>\n",
       "    <tr>\n",
       "      <th>plasmablasts</th>\n",
       "      <td>57317</td>\n",
       "      <td>57317</td>\n",
       "    </tr>\n",
       "    <tr>\n",
       "      <th>surface_ig_neg_memory_b_cells</th>\n",
       "      <td>233122</td>\n",
       "      <td>233122</td>\n",
       "    </tr>\n",
       "    <tr>\n",
       "      <th>switched_effector_b_cells</th>\n",
       "      <td>35021</td>\n",
       "      <td>35021</td>\n",
       "    </tr>\n",
       "    <tr>\n",
       "      <th>switched_memory_b_cells</th>\n",
       "      <td>478418</td>\n",
       "      <td>478418</td>\n",
       "    </tr>\n",
       "    <tr>\n",
       "      <th>transitional_b_cells</th>\n",
       "      <td>493683</td>\n",
       "      <td>493683</td>\n",
       "    </tr>\n",
       "    <tr>\n",
       "      <th>All</th>\n",
       "      <td>1854019</td>\n",
       "      <td>1854019</td>\n",
       "    </tr>\n",
       "  </tbody>\n",
       "</table>\n",
       "</div>"
      ],
      "text/plain": [
       "panel                              PB1      All\n",
       "labels                                         \n",
       "non_switched_effector_b_cells    52241    52241\n",
       "non_switched_memory_b_cells     475711   475711\n",
       "other_b_cells                    28506    28506\n",
       "plasmablasts                     57317    57317\n",
       "surface_ig_neg_memory_b_cells   233122   233122\n",
       "switched_effector_b_cells        35021    35021\n",
       "switched_memory_b_cells         478418   478418\n",
       "transitional_b_cells            493683   493683\n",
       "All                            1854019  1854019"
      ]
     },
     "execution_count": 42,
     "metadata": {},
     "output_type": "execute_result"
    }
   ],
   "source": [
    "pd.crosstab(adata_sub_celltype.obs['labels'], adata_sub_celltype.obs['panel'], margins=True)"
   ]
  },
  {
   "cell_type": "code",
   "execution_count": 43,
   "id": "924f075b-0bba-4fe5-ba8d-5c08ecdc660a",
   "metadata": {
    "tags": []
   },
   "outputs": [],
   "source": [
    "meta_adata_type_sub = adata_sub_celltype.obs[adata_sub_celltype.obs['l1_labels'].isin(cell_types)]"
   ]
  },
  {
   "cell_type": "code",
   "execution_count": 44,
   "id": "7a7e9720-8e5a-46c4-85ac-8156bc8503ff",
   "metadata": {
    "tags": []
   },
   "outputs": [
    {
     "data": {
      "text/html": [
       "<div>\n",
       "<style scoped>\n",
       "    .dataframe tbody tr th:only-of-type {\n",
       "        vertical-align: middle;\n",
       "    }\n",
       "\n",
       "    .dataframe tbody tr th {\n",
       "        vertical-align: top;\n",
       "    }\n",
       "\n",
       "    .dataframe thead th {\n",
       "        text-align: right;\n",
       "    }\n",
       "</style>\n",
       "<table border=\"1\" class=\"dataframe\">\n",
       "  <thead>\n",
       "    <tr style=\"text-align: right;\">\n",
       "      <th>l1_labels</th>\n",
       "      <th>total_b_cells</th>\n",
       "      <th>All</th>\n",
       "    </tr>\n",
       "    <tr>\n",
       "      <th>sample_id</th>\n",
       "      <th></th>\n",
       "      <th></th>\n",
       "    </tr>\n",
       "  </thead>\n",
       "  <tbody>\n",
       "    <tr>\n",
       "      <th>PB00052-02</th>\n",
       "      <td>13748</td>\n",
       "      <td>13748</td>\n",
       "    </tr>\n",
       "    <tr>\n",
       "      <th>PB00055-02</th>\n",
       "      <td>15998</td>\n",
       "      <td>15998</td>\n",
       "    </tr>\n",
       "    <tr>\n",
       "      <th>PB00056-02</th>\n",
       "      <td>13741</td>\n",
       "      <td>13741</td>\n",
       "    </tr>\n",
       "    <tr>\n",
       "      <th>PB00057-02</th>\n",
       "      <td>11891</td>\n",
       "      <td>11891</td>\n",
       "    </tr>\n",
       "    <tr>\n",
       "      <th>PB00058-03</th>\n",
       "      <td>7335</td>\n",
       "      <td>7335</td>\n",
       "    </tr>\n",
       "    <tr>\n",
       "      <th>...</th>\n",
       "      <td>...</td>\n",
       "      <td>...</td>\n",
       "    </tr>\n",
       "    <tr>\n",
       "      <th>PB04671-00</th>\n",
       "      <td>30302</td>\n",
       "      <td>30302</td>\n",
       "    </tr>\n",
       "    <tr>\n",
       "      <th>PB04906-00</th>\n",
       "      <td>26936</td>\n",
       "      <td>26936</td>\n",
       "    </tr>\n",
       "    <tr>\n",
       "      <th>PB04933-00</th>\n",
       "      <td>28360</td>\n",
       "      <td>28360</td>\n",
       "    </tr>\n",
       "    <tr>\n",
       "      <th>PB04937-00</th>\n",
       "      <td>31138</td>\n",
       "      <td>31138</td>\n",
       "    </tr>\n",
       "    <tr>\n",
       "      <th>All</th>\n",
       "      <td>1854019</td>\n",
       "      <td>1854019</td>\n",
       "    </tr>\n",
       "  </tbody>\n",
       "</table>\n",
       "<p>133 rows × 2 columns</p>\n",
       "</div>"
      ],
      "text/plain": [
       "l1_labels   total_b_cells      All\n",
       "sample_id                         \n",
       "PB00052-02          13748    13748\n",
       "PB00055-02          15998    15998\n",
       "PB00056-02          13741    13741\n",
       "PB00057-02          11891    11891\n",
       "PB00058-03           7335     7335\n",
       "...                   ...      ...\n",
       "PB04671-00          30302    30302\n",
       "PB04906-00          26936    26936\n",
       "PB04933-00          28360    28360\n",
       "PB04937-00          31138    31138\n",
       "All               1854019  1854019\n",
       "\n",
       "[133 rows x 2 columns]"
      ]
     },
     "execution_count": 44,
     "metadata": {},
     "output_type": "execute_result"
    }
   ],
   "source": [
    "pd.crosstab(meta_adata_type_sub['sample_id'], meta_adata_type_sub['l1_labels'], margins=True)\n"
   ]
  },
  {
   "cell_type": "code",
   "execution_count": 45,
   "id": "18f35529-9bfd-4d6b-bddc-da8f3dfd920c",
   "metadata": {
    "tags": []
   },
   "outputs": [
    {
     "data": {
      "text/html": [
       "<div>\n",
       "<style scoped>\n",
       "    .dataframe tbody tr th:only-of-type {\n",
       "        vertical-align: middle;\n",
       "    }\n",
       "\n",
       "    .dataframe tbody tr th {\n",
       "        vertical-align: top;\n",
       "    }\n",
       "\n",
       "    .dataframe thead th {\n",
       "        text-align: right;\n",
       "    }\n",
       "</style>\n",
       "<table border=\"1\" class=\"dataframe\">\n",
       "  <thead>\n",
       "    <tr style=\"text-align: right;\">\n",
       "      <th></th>\n",
       "      <th>sample_id</th>\n",
       "      <th>total_b_cells</th>\n",
       "      <th>All</th>\n",
       "    </tr>\n",
       "  </thead>\n",
       "  <tbody>\n",
       "    <tr>\n",
       "      <th>0</th>\n",
       "      <td>PB00052-02</td>\n",
       "      <td>13748</td>\n",
       "      <td>13748</td>\n",
       "    </tr>\n",
       "    <tr>\n",
       "      <th>1</th>\n",
       "      <td>PB00055-02</td>\n",
       "      <td>15998</td>\n",
       "      <td>15998</td>\n",
       "    </tr>\n",
       "    <tr>\n",
       "      <th>2</th>\n",
       "      <td>PB00056-02</td>\n",
       "      <td>13741</td>\n",
       "      <td>13741</td>\n",
       "    </tr>\n",
       "    <tr>\n",
       "      <th>3</th>\n",
       "      <td>PB00057-02</td>\n",
       "      <td>11891</td>\n",
       "      <td>11891</td>\n",
       "    </tr>\n",
       "    <tr>\n",
       "      <th>4</th>\n",
       "      <td>PB00058-03</td>\n",
       "      <td>7335</td>\n",
       "      <td>7335</td>\n",
       "    </tr>\n",
       "    <tr>\n",
       "      <th>...</th>\n",
       "      <td>...</td>\n",
       "      <td>...</td>\n",
       "      <td>...</td>\n",
       "    </tr>\n",
       "    <tr>\n",
       "      <th>128</th>\n",
       "      <td>PB04671-00</td>\n",
       "      <td>30302</td>\n",
       "      <td>30302</td>\n",
       "    </tr>\n",
       "    <tr>\n",
       "      <th>129</th>\n",
       "      <td>PB04906-00</td>\n",
       "      <td>26936</td>\n",
       "      <td>26936</td>\n",
       "    </tr>\n",
       "    <tr>\n",
       "      <th>130</th>\n",
       "      <td>PB04933-00</td>\n",
       "      <td>28360</td>\n",
       "      <td>28360</td>\n",
       "    </tr>\n",
       "    <tr>\n",
       "      <th>131</th>\n",
       "      <td>PB04937-00</td>\n",
       "      <td>31138</td>\n",
       "      <td>31138</td>\n",
       "    </tr>\n",
       "    <tr>\n",
       "      <th>132</th>\n",
       "      <td>All</td>\n",
       "      <td>1854019</td>\n",
       "      <td>1854019</td>\n",
       "    </tr>\n",
       "  </tbody>\n",
       "</table>\n",
       "<p>133 rows × 3 columns</p>\n",
       "</div>"
      ],
      "text/plain": [
       "      sample_id  total_b_cells      All\n",
       "0    PB00052-02          13748    13748\n",
       "1    PB00055-02          15998    15998\n",
       "2    PB00056-02          13741    13741\n",
       "3    PB00057-02          11891    11891\n",
       "4    PB00058-03           7335     7335\n",
       "..          ...            ...      ...\n",
       "128  PB04671-00          30302    30302\n",
       "129  PB04906-00          26936    26936\n",
       "130  PB04933-00          28360    28360\n",
       "131  PB04937-00          31138    31138\n",
       "132         All        1854019  1854019\n",
       "\n",
       "[133 rows x 3 columns]"
      ]
     },
     "execution_count": 45,
     "metadata": {},
     "output_type": "execute_result"
    }
   ],
   "source": [
    "celltype_counts = pd.crosstab(meta_adata_type_sub['sample_id'], meta_adata_type_sub['l1_labels'], margins=True)\n",
    "\n",
    "celltype_counts.reset_index().rename_axis(None, axis=1)"
   ]
  },
  {
   "cell_type": "code",
   "execution_count": 46,
   "id": "7db64225-0c8a-419f-86c4-a7ddfeb45235",
   "metadata": {
    "tags": []
   },
   "outputs": [
    {
     "data": {
      "text/html": [
       "<div>\n",
       "<style scoped>\n",
       "    .dataframe tbody tr th:only-of-type {\n",
       "        vertical-align: middle;\n",
       "    }\n",
       "\n",
       "    .dataframe tbody tr th {\n",
       "        vertical-align: top;\n",
       "    }\n",
       "\n",
       "    .dataframe thead th {\n",
       "        text-align: right;\n",
       "    }\n",
       "</style>\n",
       "<table border=\"1\" class=\"dataframe\">\n",
       "  <thead>\n",
       "    <tr style=\"text-align: right;\">\n",
       "      <th>l1_labels</th>\n",
       "      <th>total_b_cells</th>\n",
       "      <th>All</th>\n",
       "    </tr>\n",
       "  </thead>\n",
       "  <tbody>\n",
       "    <tr>\n",
       "      <th>count</th>\n",
       "      <td>1.330000e+02</td>\n",
       "      <td>1.330000e+02</td>\n",
       "    </tr>\n",
       "    <tr>\n",
       "      <th>mean</th>\n",
       "      <td>2.787998e+04</td>\n",
       "      <td>2.787998e+04</td>\n",
       "    </tr>\n",
       "    <tr>\n",
       "      <th>std</th>\n",
       "      <td>1.597840e+05</td>\n",
       "      <td>1.597840e+05</td>\n",
       "    </tr>\n",
       "    <tr>\n",
       "      <th>min</th>\n",
       "      <td>1.398000e+03</td>\n",
       "      <td>1.398000e+03</td>\n",
       "    </tr>\n",
       "    <tr>\n",
       "      <th>25%</th>\n",
       "      <td>7.486000e+03</td>\n",
       "      <td>7.486000e+03</td>\n",
       "    </tr>\n",
       "    <tr>\n",
       "      <th>50%</th>\n",
       "      <td>1.237600e+04</td>\n",
       "      <td>1.237600e+04</td>\n",
       "    </tr>\n",
       "    <tr>\n",
       "      <th>75%</th>\n",
       "      <td>1.702800e+04</td>\n",
       "      <td>1.702800e+04</td>\n",
       "    </tr>\n",
       "    <tr>\n",
       "      <th>max</th>\n",
       "      <td>1.854019e+06</td>\n",
       "      <td>1.854019e+06</td>\n",
       "    </tr>\n",
       "  </tbody>\n",
       "</table>\n",
       "</div>"
      ],
      "text/plain": [
       "l1_labels  total_b_cells           All\n",
       "count       1.330000e+02  1.330000e+02\n",
       "mean        2.787998e+04  2.787998e+04\n",
       "std         1.597840e+05  1.597840e+05\n",
       "min         1.398000e+03  1.398000e+03\n",
       "25%         7.486000e+03  7.486000e+03\n",
       "50%         1.237600e+04  1.237600e+04\n",
       "75%         1.702800e+04  1.702800e+04\n",
       "max         1.854019e+06  1.854019e+06"
      ]
     },
     "execution_count": 46,
     "metadata": {},
     "output_type": "execute_result"
    }
   ],
   "source": [
    "celltype_counts.describe()"
   ]
  },
  {
   "cell_type": "code",
   "execution_count": 47,
   "id": "9f1ec419-7ee8-48a8-ae26-dd7951d6206d",
   "metadata": {
    "tags": []
   },
   "outputs": [
    {
     "data": {
      "image/png": "[encoded data removed]",
      "text/plain": [
       "<Figure size 960x400 with 1 Axes>"
      ]
     },
     "metadata": {
      "image/png": {
       "height": 369,
       "width": 793
      }
     },
     "output_type": "display_data"
    }
   ],
   "source": [
    "for ct in cell_types:\n",
    "    plt.figure(figsize=(12, 5))\n",
    "    plt.title(\"Cell composition by samples: \" + ct)\n",
    "    plt.hist(celltype_counts[[ct]])\n",
    "    plt.axvline(40000, color='red', linestyle='dashed', linewidth=1)"
   ]
  },
  {
   "cell_type": "markdown",
   "id": "a9ffe3cc-9c9e-4f91-84a9-76d241480587",
   "metadata": {},
   "source": [
    "### Conditional cell type subsampling"
   ]
  },
  {
   "cell_type": "code",
   "execution_count": 48,
   "id": "8b6fd758-86e2-4a37-8e6d-aeec5831c943",
   "metadata": {
    "tags": []
   },
   "outputs": [
    {
     "name": "stdout",
     "output_type": "stream",
     "text": [
      "Total cells less than 5 million. No downsampling performed.\n"
     ]
    }
   ],
   "source": [
    "adata_downsampled = subsample_adata_by_group(adata_sub_celltype, target_cells = 40000,cluster_key= [\"sample_id\", \"l1_labels\"] )"
   ]
  },
  {
   "cell_type": "code",
   "execution_count": 49,
   "id": "7ee69cb3-b58a-4d4d-8133-8d182094d2f7",
   "metadata": {
    "tags": []
   },
   "outputs": [
    {
     "data": {
      "text/plain": [
       "View of AnnData object with n_obs × n_vars = 1854019 × 24\n",
       "    obs: 'Unnamed: 0', 'sample_id', 'cell_id', 'barcode', 'Time', 'SSC-W', 'SSC-H', 'SSC-A', 'FSC-W', 'FSC-H', 'FSC-A', 'SSC-B-W', 'SSC-B-H', 'SSC-B-A', 'Viability_logicle', 'labels', 'batch', 'panel', 'sample.sampleKitGuid', 'l1_labels', 'Status_Xsec', 'Status_Long', 'subject.biologicalSex', 'subject.subjectGuid', 'days_to_conversion', 'age_conv', 'bmi_conv', 'Age2023'"
      ]
     },
     "execution_count": 49,
     "metadata": {},
     "output_type": "execute_result"
    }
   ],
   "source": [
    "adata_downsampled"
   ]
  },
  {
   "cell_type": "code",
   "execution_count": 50,
   "id": "df8370d9-769a-4bb7-844f-b411a73d0c2e",
   "metadata": {
    "tags": []
   },
   "outputs": [],
   "source": [
    "celltype_counts_downsample =pd.crosstab(adata_downsampled.obs['sample_id'], adata_downsampled.obs[\"l1_labels\"],margins=True)"
   ]
  },
  {
   "cell_type": "code",
   "execution_count": 51,
   "id": "19f871e2-e434-42b2-99c7-c81eb4f50b08",
   "metadata": {
    "tags": []
   },
   "outputs": [
    {
     "data": {
      "text/html": [
       "<div>\n",
       "<style scoped>\n",
       "    .dataframe tbody tr th:only-of-type {\n",
       "        vertical-align: middle;\n",
       "    }\n",
       "\n",
       "    .dataframe tbody tr th {\n",
       "        vertical-align: top;\n",
       "    }\n",
       "\n",
       "    .dataframe thead th {\n",
       "        text-align: right;\n",
       "    }\n",
       "</style>\n",
       "<table border=\"1\" class=\"dataframe\">\n",
       "  <thead>\n",
       "    <tr style=\"text-align: right;\">\n",
       "      <th></th>\n",
       "      <th>sample_id</th>\n",
       "      <th>total_b_cells</th>\n",
       "      <th>All</th>\n",
       "    </tr>\n",
       "  </thead>\n",
       "  <tbody>\n",
       "    <tr>\n",
       "      <th>0</th>\n",
       "      <td>PB00052-02</td>\n",
       "      <td>13748</td>\n",
       "      <td>13748</td>\n",
       "    </tr>\n",
       "    <tr>\n",
       "      <th>1</th>\n",
       "      <td>PB00055-02</td>\n",
       "      <td>15998</td>\n",
       "      <td>15998</td>\n",
       "    </tr>\n",
       "    <tr>\n",
       "      <th>2</th>\n",
       "      <td>PB00056-02</td>\n",
       "      <td>13741</td>\n",
       "      <td>13741</td>\n",
       "    </tr>\n",
       "    <tr>\n",
       "      <th>3</th>\n",
       "      <td>PB00057-02</td>\n",
       "      <td>11891</td>\n",
       "      <td>11891</td>\n",
       "    </tr>\n",
       "    <tr>\n",
       "      <th>4</th>\n",
       "      <td>PB00058-03</td>\n",
       "      <td>7335</td>\n",
       "      <td>7335</td>\n",
       "    </tr>\n",
       "    <tr>\n",
       "      <th>...</th>\n",
       "      <td>...</td>\n",
       "      <td>...</td>\n",
       "      <td>...</td>\n",
       "    </tr>\n",
       "    <tr>\n",
       "      <th>128</th>\n",
       "      <td>PB04671-00</td>\n",
       "      <td>30302</td>\n",
       "      <td>30302</td>\n",
       "    </tr>\n",
       "    <tr>\n",
       "      <th>129</th>\n",
       "      <td>PB04906-00</td>\n",
       "      <td>26936</td>\n",
       "      <td>26936</td>\n",
       "    </tr>\n",
       "    <tr>\n",
       "      <th>130</th>\n",
       "      <td>PB04933-00</td>\n",
       "      <td>28360</td>\n",
       "      <td>28360</td>\n",
       "    </tr>\n",
       "    <tr>\n",
       "      <th>131</th>\n",
       "      <td>PB04937-00</td>\n",
       "      <td>31138</td>\n",
       "      <td>31138</td>\n",
       "    </tr>\n",
       "    <tr>\n",
       "      <th>132</th>\n",
       "      <td>All</td>\n",
       "      <td>1854019</td>\n",
       "      <td>1854019</td>\n",
       "    </tr>\n",
       "  </tbody>\n",
       "</table>\n",
       "<p>133 rows × 3 columns</p>\n",
       "</div>"
      ],
      "text/plain": [
       "      sample_id  total_b_cells      All\n",
       "0    PB00052-02          13748    13748\n",
       "1    PB00055-02          15998    15998\n",
       "2    PB00056-02          13741    13741\n",
       "3    PB00057-02          11891    11891\n",
       "4    PB00058-03           7335     7335\n",
       "..          ...            ...      ...\n",
       "128  PB04671-00          30302    30302\n",
       "129  PB04906-00          26936    26936\n",
       "130  PB04933-00          28360    28360\n",
       "131  PB04937-00          31138    31138\n",
       "132         All        1854019  1854019\n",
       "\n",
       "[133 rows x 3 columns]"
      ]
     },
     "execution_count": 51,
     "metadata": {},
     "output_type": "execute_result"
    }
   ],
   "source": [
    "celltype_counts_downsample.reset_index().rename_axis(None, axis=1)"
   ]
  },
  {
   "cell_type": "code",
   "execution_count": 52,
   "id": "803f5f62-6a09-43ac-83b4-db1e2db7c1b5",
   "metadata": {
    "tags": []
   },
   "outputs": [
    {
     "data": {
      "image/png": "[encoded data removed]",
      "text/plain": [
       "<Figure size 960x400 with 1 Axes>"
      ]
     },
     "metadata": {
      "image/png": {
       "height": 369,
       "width": 793
      }
     },
     "output_type": "display_data"
    }
   ],
   "source": [
    "for ct in cell_types:\n",
    "    plt.figure(figsize=(12, 5))\n",
    "    plt.title(\"Downsampled cell composition by samples: \" + ct)\n",
    "    plt.hist(celltype_counts_downsample[[ct]])\n",
    "    plt.axvline(40000, color='red', linestyle='dashed', linewidth=1)"
   ]
  },
  {
   "cell_type": "code",
   "execution_count": 53,
   "id": "3480c1d5-13a7-4354-98ad-586160994b96",
   "metadata": {
    "tags": []
   },
   "outputs": [],
   "source": [
    "celltype_counts_downsample = celltype_counts_downsample.add_prefix(\"downsample_\")"
   ]
  },
  {
   "cell_type": "code",
   "execution_count": 54,
   "id": "5f05ed7c-f86d-407c-bddb-6905ca097075",
   "metadata": {
    "tags": []
   },
   "outputs": [],
   "source": [
    "adata_downsampled_celltypes = subset_anndata_by_cell_types(adata_downsampled,cell_types)"
   ]
  },
  {
   "cell_type": "code",
   "execution_count": 55,
   "id": "56ff83b3-6ff0-4899-aa54-a039bab05e01",
   "metadata": {},
   "outputs": [
    {
     "data": {
      "text/plain": [
       "{'total_b_cells': AnnData object with n_obs × n_vars = 1854019 × 24\n",
       "     obs: 'Unnamed: 0', 'sample_id', 'cell_id', 'barcode', 'Time', 'SSC-W', 'SSC-H', 'SSC-A', 'FSC-W', 'FSC-H', 'FSC-A', 'SSC-B-W', 'SSC-B-H', 'SSC-B-A', 'Viability_logicle', 'labels', 'batch', 'panel', 'sample.sampleKitGuid', 'l1_labels', 'Status_Xsec', 'Status_Long', 'subject.biologicalSex', 'subject.subjectGuid', 'days_to_conversion', 'age_conv', 'bmi_conv', 'Age2023'}"
      ]
     },
     "execution_count": 55,
     "metadata": {},
     "output_type": "execute_result"
    }
   ],
   "source": [
    "adata_downsampled_celltypes"
   ]
  },
  {
   "cell_type": "code",
   "execution_count": 66,
   "id": "c71e7109-be7e-42fe-81e4-fb5fce29dc98",
   "metadata": {
    "tags": []
   },
   "outputs": [],
   "source": [
    "filenames = [output_path + \"adata_preprocess_unscaled_downsmpl_celltypes_\" + cell_type + \"_\" + panel + \"_igPos_non_naive_b.h5ad\" for cell_type in cell_types]"
   ]
  },
  {
   "cell_type": "code",
   "execution_count": 67,
   "id": "c2d8c326-bbb5-4e20-a79e-a41a9cf86534",
   "metadata": {
    "tags": []
   },
   "outputs": [
    {
     "name": "stdout",
     "output_type": "stream",
     "text": [
      "AnnData object with n_obs × n_vars = 1854019 × 24\n",
      "    obs: 'Unnamed: 0', 'sample_id', 'cell_id', 'barcode', 'Time', 'SSC-W', 'SSC-H', 'SSC-A', 'FSC-W', 'FSC-H', 'FSC-A', 'SSC-B-W', 'SSC-B-H', 'SSC-B-A', 'Viability_logicle', 'labels', 'batch', 'panel', 'sample.sampleKitGuid', 'l1_labels', 'Status_Xsec', 'Status_Long', 'subject.biologicalSex', 'subject.subjectGuid', 'days_to_conversion', 'age_conv', 'bmi_conv', 'Age2023'\n"
     ]
    }
   ],
   "source": [
    "save_anndata_list(adata_downsampled_celltypes, filenames)"
   ]
  },
  {
   "cell_type": "code",
   "execution_count": 59,
   "id": "26145786-6f46-4bbd-a6a0-f96a8baec157",
   "metadata": {
    "tags": []
   },
   "outputs": [
    {
     "data": {
      "text/plain": [
       "[('/home/jupyter/projects/pre-ra/flow/02-clustering/data/PB1/adata_preprocess_unscaled_downsmpl_celltypes_total_b_cells_PB1igPos_non_naive_b.h5ad',\n",
       "  'total_b_cells')]"
      ]
     },
     "execution_count": 59,
     "metadata": {},
     "output_type": "execute_result"
    }
   ],
   "source": [
    "file_tups = list(zip(filenames, cell_types))\n",
    "file_tups"
   ]
  },
  {
   "cell_type": "code",
   "execution_count": 60,
   "id": "7529a0b5-bdf5-44ba-bad7-66cccc52450c",
   "metadata": {
    "tags": []
   },
   "outputs": [
    {
     "data": {
      "text/plain": [
       "{'total_b_cells': AnnData object with n_obs × n_vars = 1854019 × 24\n",
       "     obs: 'Unnamed: 0', 'sample_id', 'cell_id', 'barcode', 'Time', 'SSC-W', 'SSC-H', 'SSC-A', 'FSC-W', 'FSC-H', 'FSC-A', 'SSC-B-W', 'SSC-B-H', 'SSC-B-A', 'Viability_logicle', 'labels', 'batch', 'panel', 'sample.sampleKitGuid', 'l1_labels', 'Status_Xsec', 'Status_Long', 'subject.biologicalSex', 'subject.subjectGuid', 'days_to_conversion', 'age_conv', 'bmi_conv', 'Age2023'}"
      ]
     },
     "execution_count": 60,
     "metadata": {},
     "output_type": "execute_result"
    }
   ],
   "source": [
    "### check anndata after exporting\n",
    "\n",
    "adata_downsampled_celltypes = read_anndata_files(file_tups)\n",
    "adata_downsampled_celltypes"
   ]
  },
  {
   "cell_type": "markdown",
   "id": "5e922366-f055-4994-8a96-0e4c55118bde",
   "metadata": {},
   "source": [
    "## Cell Frequency Tables"
   ]
  },
  {
   "cell_type": "code",
   "execution_count": 61,
   "id": "c036e28e-2920-423f-a95b-84e498231e82",
   "metadata": {
    "tags": []
   },
   "outputs": [],
   "source": [
    "cellcount_sampleselect.reset_index(inplace=True)"
   ]
  },
  {
   "cell_type": "code",
   "execution_count": 62,
   "id": "f81ff8c7-6912-4f13-b24a-6a34e2f3b289",
   "metadata": {
    "tags": []
   },
   "outputs": [],
   "source": [
    "celltype_counts_downsample.reset_index(inplace=True)"
   ]
  },
  {
   "cell_type": "code",
   "execution_count": 63,
   "id": "053f120d-bfa6-40cf-9f5d-0778d52a2c97",
   "metadata": {
    "tags": []
   },
   "outputs": [],
   "source": [
    "### merge total counts (after sample selection) to \n",
    "cellcounts_df = pd.merge(cellcount_sampleselect, celltype_counts_downsample)"
   ]
  },
  {
   "cell_type": "code",
   "execution_count": 64,
   "id": "d259a8a0-a8b3-4696-b28a-cf2b2b1121e9",
   "metadata": {
    "tags": []
   },
   "outputs": [
    {
     "data": {
      "text/html": [
       "<div>\n",
       "<style scoped>\n",
       "    .dataframe tbody tr th:only-of-type {\n",
       "        vertical-align: middle;\n",
       "    }\n",
       "\n",
       "    .dataframe tbody tr th {\n",
       "        vertical-align: top;\n",
       "    }\n",
       "\n",
       "    .dataframe thead th {\n",
       "        text-align: right;\n",
       "    }\n",
       "</style>\n",
       "<table border=\"1\" class=\"dataframe\">\n",
       "  <thead>\n",
       "    <tr style=\"text-align: right;\">\n",
       "      <th>l1_labels</th>\n",
       "      <th>sample_id</th>\n",
       "      <th>sample_select_debris</th>\n",
       "      <th>sample_select_t_cells</th>\n",
       "      <th>sample_select_total_b_cells</th>\n",
       "      <th>sample_select_total_myeloid_cells</th>\n",
       "      <th>sample_select_total_nk_cells</th>\n",
       "      <th>sample_select_unknown</th>\n",
       "      <th>sample_select_All</th>\n",
       "      <th>downsample_total_b_cells</th>\n",
       "      <th>downsample_All</th>\n",
       "    </tr>\n",
       "  </thead>\n",
       "  <tbody>\n",
       "    <tr>\n",
       "      <th>0</th>\n",
       "      <td>PB00052-02</td>\n",
       "      <td>16422</td>\n",
       "      <td>135200</td>\n",
       "      <td>32554</td>\n",
       "      <td>13738</td>\n",
       "      <td>66064</td>\n",
       "      <td>196588</td>\n",
       "      <td>460566</td>\n",
       "      <td>13748</td>\n",
       "      <td>13748</td>\n",
       "    </tr>\n",
       "    <tr>\n",
       "      <th>1</th>\n",
       "      <td>PB00055-02</td>\n",
       "      <td>13004</td>\n",
       "      <td>141077</td>\n",
       "      <td>45016</td>\n",
       "      <td>13014</td>\n",
       "      <td>19797</td>\n",
       "      <td>157100</td>\n",
       "      <td>389008</td>\n",
       "      <td>15998</td>\n",
       "      <td>15998</td>\n",
       "    </tr>\n",
       "    <tr>\n",
       "      <th>2</th>\n",
       "      <td>PB00056-02</td>\n",
       "      <td>15007</td>\n",
       "      <td>121878</td>\n",
       "      <td>24877</td>\n",
       "      <td>40779</td>\n",
       "      <td>42217</td>\n",
       "      <td>151930</td>\n",
       "      <td>396688</td>\n",
       "      <td>13741</td>\n",
       "      <td>13741</td>\n",
       "    </tr>\n",
       "    <tr>\n",
       "      <th>3</th>\n",
       "      <td>PB00057-02</td>\n",
       "      <td>6101</td>\n",
       "      <td>96300</td>\n",
       "      <td>23780</td>\n",
       "      <td>25493</td>\n",
       "      <td>24063</td>\n",
       "      <td>113278</td>\n",
       "      <td>289015</td>\n",
       "      <td>11891</td>\n",
       "      <td>11891</td>\n",
       "    </tr>\n",
       "    <tr>\n",
       "      <th>4</th>\n",
       "      <td>PB00058-03</td>\n",
       "      <td>3604</td>\n",
       "      <td>98321</td>\n",
       "      <td>11800</td>\n",
       "      <td>70936</td>\n",
       "      <td>21980</td>\n",
       "      <td>56482</td>\n",
       "      <td>263123</td>\n",
       "      <td>7335</td>\n",
       "      <td>7335</td>\n",
       "    </tr>\n",
       "    <tr>\n",
       "      <th>...</th>\n",
       "      <td>...</td>\n",
       "      <td>...</td>\n",
       "      <td>...</td>\n",
       "      <td>...</td>\n",
       "      <td>...</td>\n",
       "      <td>...</td>\n",
       "      <td>...</td>\n",
       "      <td>...</td>\n",
       "      <td>...</td>\n",
       "      <td>...</td>\n",
       "    </tr>\n",
       "    <tr>\n",
       "      <th>128</th>\n",
       "      <td>PB04671-00</td>\n",
       "      <td>12696</td>\n",
       "      <td>213626</td>\n",
       "      <td>55552</td>\n",
       "      <td>80386</td>\n",
       "      <td>52792</td>\n",
       "      <td>213414</td>\n",
       "      <td>628466</td>\n",
       "      <td>30302</td>\n",
       "      <td>30302</td>\n",
       "    </tr>\n",
       "    <tr>\n",
       "      <th>129</th>\n",
       "      <td>PB04906-00</td>\n",
       "      <td>16244</td>\n",
       "      <td>189658</td>\n",
       "      <td>74082</td>\n",
       "      <td>31518</td>\n",
       "      <td>66400</td>\n",
       "      <td>217178</td>\n",
       "      <td>595080</td>\n",
       "      <td>26936</td>\n",
       "      <td>26936</td>\n",
       "    </tr>\n",
       "    <tr>\n",
       "      <th>130</th>\n",
       "      <td>PB04933-00</td>\n",
       "      <td>28682</td>\n",
       "      <td>189046</td>\n",
       "      <td>76284</td>\n",
       "      <td>43810</td>\n",
       "      <td>20584</td>\n",
       "      <td>128288</td>\n",
       "      <td>486694</td>\n",
       "      <td>28360</td>\n",
       "      <td>28360</td>\n",
       "    </tr>\n",
       "    <tr>\n",
       "      <th>131</th>\n",
       "      <td>PB04937-00</td>\n",
       "      <td>25098</td>\n",
       "      <td>259354</td>\n",
       "      <td>50024</td>\n",
       "      <td>13830</td>\n",
       "      <td>139396</td>\n",
       "      <td>248400</td>\n",
       "      <td>736102</td>\n",
       "      <td>31138</td>\n",
       "      <td>31138</td>\n",
       "    </tr>\n",
       "    <tr>\n",
       "      <th>132</th>\n",
       "      <td>All</td>\n",
       "      <td>1841686</td>\n",
       "      <td>18712875</td>\n",
       "      <td>4129003</td>\n",
       "      <td>6689022</td>\n",
       "      <td>5565390</td>\n",
       "      <td>18785980</td>\n",
       "      <td>55723956</td>\n",
       "      <td>1854019</td>\n",
       "      <td>1854019</td>\n",
       "    </tr>\n",
       "  </tbody>\n",
       "</table>\n",
       "<p>133 rows × 10 columns</p>\n",
       "</div>"
      ],
      "text/plain": [
       "l1_labels   sample_id  sample_select_debris  sample_select_t_cells  \\\n",
       "0          PB00052-02                 16422                 135200   \n",
       "1          PB00055-02                 13004                 141077   \n",
       "2          PB00056-02                 15007                 121878   \n",
       "3          PB00057-02                  6101                  96300   \n",
       "4          PB00058-03                  3604                  98321   \n",
       "..                ...                   ...                    ...   \n",
       "128        PB04671-00                 12696                 213626   \n",
       "129        PB04906-00                 16244                 189658   \n",
       "130        PB04933-00                 28682                 189046   \n",
       "131        PB04937-00                 25098                 259354   \n",
       "132               All               1841686               18712875   \n",
       "\n",
       "l1_labels  sample_select_total_b_cells  sample_select_total_myeloid_cells  \\\n",
       "0                                32554                              13738   \n",
       "1                                45016                              13014   \n",
       "2                                24877                              40779   \n",
       "3                                23780                              25493   \n",
       "4                                11800                              70936   \n",
       "..                                 ...                                ...   \n",
       "128                              55552                              80386   \n",
       "129                              74082                              31518   \n",
       "130                              76284                              43810   \n",
       "131                              50024                              13830   \n",
       "132                            4129003                            6689022   \n",
       "\n",
       "l1_labels  sample_select_total_nk_cells  sample_select_unknown  \\\n",
       "0                                 66064                 196588   \n",
       "1                                 19797                 157100   \n",
       "2                                 42217                 151930   \n",
       "3                                 24063                 113278   \n",
       "4                                 21980                  56482   \n",
       "..                                  ...                    ...   \n",
       "128                               52792                 213414   \n",
       "129                               66400                 217178   \n",
       "130                               20584                 128288   \n",
       "131                              139396                 248400   \n",
       "132                             5565390               18785980   \n",
       "\n",
       "l1_labels  sample_select_All  downsample_total_b_cells  downsample_All  \n",
       "0                     460566                     13748           13748  \n",
       "1                     389008                     15998           15998  \n",
       "2                     396688                     13741           13741  \n",
       "3                     289015                     11891           11891  \n",
       "4                     263123                      7335            7335  \n",
       "..                       ...                       ...             ...  \n",
       "128                   628466                     30302           30302  \n",
       "129                   595080                     26936           26936  \n",
       "130                   486694                     28360           28360  \n",
       "131                   736102                     31138           31138  \n",
       "132                 55723956                   1854019         1854019  \n",
       "\n",
       "[133 rows x 10 columns]"
      ]
     },
     "execution_count": 64,
     "metadata": {},
     "output_type": "execute_result"
    }
   ],
   "source": [
    "cellcounts_df"
   ]
  },
  {
   "cell_type": "code",
   "execution_count": 65,
   "id": "a9fcdee3-ce59-468f-ad66-bf363612b652",
   "metadata": {
    "tags": []
   },
   "outputs": [],
   "source": [
    "cellcounts_df.to_csv(output_path + \"counts_freq_celltypes_sample_select_\" + panel + \"_igPos_non_naive_b.csv\")"
   ]
  },
  {
   "cell_type": "code",
   "execution_count": null,
   "id": "a0028a7d-d1d6-4a71-9dcc-f57deac86e03",
   "metadata": {},
   "outputs": [],
   "source": []
  }
 ],
 "metadata": {
  "kernelspec": {
   "display_name": "scyan",
   "language": "python",
   "name": "scyan"
  },
  "language_info": {
   "codemirror_mode": {
    "name": "ipython",
    "version": 3
   },
   "file_extension": ".py",
   "mimetype": "text/x-python",
   "name": "python",
   "nbconvert_exporter": "python",
   "pygments_lexer": "ipython3",
   "version": "3.9.18"
  }
 },
 "nbformat": 4,
 "nbformat_minor": 5
}
