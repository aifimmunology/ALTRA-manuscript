{
 "cells": [
  {
   "cell_type": "markdown",
   "id": "f0260320-c1f3-4fa2-a0b2-1727f589892c",
   "metadata": {},
   "source": [
    "# Set up"
   ]
  },
  {
   "cell_type": "code",
   "execution_count": 1,
   "id": "8454e977-b9be-42c3-b8a7-ac0cc8027735",
   "metadata": {
    "tags": []
   },
   "outputs": [
    {
     "name": "stderr",
     "output_type": "stream",
     "text": [
      "/home/jupyter/envs/libs/scyan/lib/python3.9/site-packages/tqdm/auto.py:21: TqdmWarning: IProgress not found. Please update jupyter and ipywidgets. See https://ipywidgets.readthedocs.io/en/stable/user_install.html\n",
      "  from .autonotebook import tqdm as notebook_tqdm\n",
      "Global seed set to 0\n"
     ]
    }
   ],
   "source": [
    "import scyan as sy\n",
    "import os\n",
    "import glob\n",
    "import anndata\n",
    "import re\n",
    "import pandas as pd\n",
    "from matplotlib import pyplot as plt\n",
    "import numpy as np\n",
    "import scanpy as sc\n",
    "import scanpy.external as sce\n"
   ]
  },
  {
   "cell_type": "code",
   "execution_count": 2,
   "id": "5ad33d83-11fd-4877-8496-4d42fff7958d",
   "metadata": {
    "tags": []
   },
   "outputs": [
    {
     "name": "stdout",
     "output_type": "stream",
     "text": [
      "1.5.1\n"
     ]
    }
   ],
   "source": [
    "print(sy.__version__)\n"
   ]
  },
  {
   "cell_type": "code",
   "execution_count": 3,
   "id": "48322340-f0b5-4bf8-80df-b362b504bda3",
   "metadata": {
    "tags": []
   },
   "outputs": [],
   "source": [
    "# define the working path\n",
    "panel = \"PB1\"\n",
    "data_path='/home/jupyter/projects/pre-ra/flow/raw-data/' + panel + '/labelled-expr/cache/'\n",
    "fig_path = '/home/jupyter/projects/pre-ra/flow/02-clustering/results/' + panel + '_global_subsample'  + \"/\"\"/\"\n",
    "proj_name = 'pre-ra_flow_clustering_' + panel\n",
    "output_path = '/home/jupyter/projects/pre-ra/flow/02-clustering/data/' +panel +'/'\n",
    "\n",
    "if not os.path.exists(fig_path):\n",
    "    os.makedirs(fig_path)\n",
    "    \n",
    "if not os.path.exists(output_path):\n",
    "    os.makedirs(output_path)\n",
    "    \n",
    "# define scanpy verbose levels\n",
    "sc.settings.verbosity = 3\n",
    "sc.settings.figdir = fig_path\n",
    "sc.settings.n_jobs = -1"
   ]
  },
  {
   "cell_type": "markdown",
   "id": "63dbdbf5-d5dd-497e-a9da-a2cd4e779012",
   "metadata": {},
   "source": [
    "# Helper Functions "
   ]
  },
  {
   "cell_type": "code",
   "execution_count": 4,
   "id": "4929f07d-b77a-4d4f-8a4e-179f50e3a5f6",
   "metadata": {
    "tags": []
   },
   "outputs": [],
   "source": [
    "# make a function to find files\n",
    "def get_filepaths_with_glob(root_path: str, file_regex: str):\n",
    "    return glob.glob(os.path.join(root_path, file_regex))\n",
    "\n",
    "\n",
    "def subset_files(file_names, substrings):\n",
    "    # Initialize an empty list to store the matching file names\n",
    "    matching_files = []\n",
    "\n",
    "    # Iterate through each file name\n",
    "    for file_name in file_names:\n",
    "        # Check if any substring is present in the file name\n",
    "        if any(substring in file_name for substring in substrings):\n",
    "            # If yes, add the file name to the matching list\n",
    "            matching_files.append(file_name)\n",
    "\n",
    "    return matching_files"
   ]
  },
  {
   "cell_type": "code",
   "execution_count": 19,
   "id": "7f0a48f0-56ed-4406-8f62-f8a854038c03",
   "metadata": {
    "tags": []
   },
   "outputs": [],
   "source": [
    "# load data from csv\n",
    "def read_one(file_path):\n",
    "    #print(file_path)\n",
    "    adata = sy.read_csv(file_path, marker_regex='^cd|^hla|tcr|ig|^ccr|klrg|^cx',  exclude_markers=None)\n",
    "    adata.obs[\"batch\"] = re.findall( 'B\\\\d\\\\d\\\\d', file_path)[0]\n",
    "    adata.obs[\"panel\"] = re.findall( 'PB1|PT1|PM1|PS1', file_path)[0]\n",
    "    sample_id = re.findall( 'PB\\\\d\\\\d\\\\d\\\\d\\\\d...', file_path)[0]\n",
    "    adata.obs[\"sample_id\"] = sample_id\n",
    "    adata.obs[\"sample.sampleKitGuid\"] = \"KT\" + sample_id[2:7]\n",
    "    return adata\n"
   ]
  },
  {
   "cell_type": "code",
   "execution_count": 6,
   "id": "ceca5b03-feb1-446e-9b3d-17c7fc744c5b",
   "metadata": {
    "tags": []
   },
   "outputs": [],
   "source": [
    "# Function to check if any substring is present in the file name\n",
    "def contains_substring(file_name, substrings):\n",
    "    return any(substring in file_name for substring in substrings)"
   ]
  },
  {
   "cell_type": "code",
   "execution_count": 7,
   "id": "9488f491-751a-460e-9ee7-78a5a93a8e7a",
   "metadata": {
    "tags": []
   },
   "outputs": [],
   "source": [
    "### UMAP helper plot, define a helper function to set a single column for our UMAP figure legends. \n",
    "def one_col_lgd(umap):\n",
    "    legend = umap.legend(bbox_to_anchor=[1.00, 0.5],\n",
    "    loc='center left', ncol=1, prop={'size': 6})\n",
    "    legend.get_frame().set_linewidth(0.0)\n",
    "    for handle in legend.legendHandles:\n",
    "        handle.set_sizes([25.0])\n",
    "    return legend"
   ]
  },
  {
   "cell_type": "markdown",
   "id": "ca6d9ad8-206b-4f3a-8d78-1b56c492a66e",
   "metadata": {},
   "source": [
    "# Load files"
   ]
  },
  {
   "cell_type": "code",
   "execution_count": 8,
   "id": "f984b5e7-8b2d-4f0f-b960-a0dd686e464d",
   "metadata": {
    "tags": []
   },
   "outputs": [],
   "source": [
    "flow_files=get_filepaths_with_glob(data_path, '*/*transform_labelled_expr.csv')\n"
   ]
  },
  {
   "cell_type": "code",
   "execution_count": 9,
   "id": "81952a2c-db62-4e48-ba42-8fdee83d3126",
   "metadata": {
    "tags": []
   },
   "outputs": [],
   "source": [
    "### read in meta data and pull only non duplicate samples to anndata\n",
    "\n",
    "freq_tbl = pd.read_csv('/home/jupyter/projects/pre-ra/flow/01-qc-reports/data/' + panel+ '/freq_tbl_sample_info_' + panel + '.csv')"
   ]
  },
  {
   "cell_type": "code",
   "execution_count": 10,
   "id": "429b89c7-82a6-4b1f-a778-aa20c9533efb",
   "metadata": {
    "tags": []
   },
   "outputs": [
    {
     "data": {
      "text/html": [
       "<div>\n",
       "<style scoped>\n",
       "    .dataframe tbody tr th:only-of-type {\n",
       "        vertical-align: middle;\n",
       "    }\n",
       "\n",
       "    .dataframe tbody tr th {\n",
       "        vertical-align: top;\n",
       "    }\n",
       "\n",
       "    .dataframe thead th {\n",
       "        text-align: right;\n",
       "    }\n",
       "</style>\n",
       "<table border=\"1\" class=\"dataframe\">\n",
       "  <thead>\n",
       "    <tr style=\"text-align: right;\">\n",
       "      <th></th>\n",
       "      <th>full_filename</th>\n",
       "      <th>labels</th>\n",
       "      <th>counts</th>\n",
       "      <th>frequency_live</th>\n",
       "      <th>total_counts</th>\n",
       "      <th>sample_id</th>\n",
       "      <th>barcode</th>\n",
       "      <th>l1_labels</th>\n",
       "      <th>filename</th>\n",
       "      <th>panel</th>\n",
       "      <th>...</th>\n",
       "      <th>file.fileType</th>\n",
       "      <th>file.majorVersion</th>\n",
       "      <th>subject.id</th>\n",
       "      <th>subject.biologicalSex</th>\n",
       "      <th>subject.birthYear</th>\n",
       "      <th>subject.ethnicity</th>\n",
       "      <th>subject.partnerCode</th>\n",
       "      <th>subject.race</th>\n",
       "      <th>subject.subjectGuid</th>\n",
       "      <th>cohort.cohortGuid</th>\n",
       "    </tr>\n",
       "  </thead>\n",
       "  <tbody>\n",
       "    <tr>\n",
       "      <th>0</th>\n",
       "      <td>/home//jupyter//projects/pre-ra//flow//raw-dat...</td>\n",
       "      <td>Unknown</td>\n",
       "      <td>98294</td>\n",
       "      <td>0.426840</td>\n",
       "      <td>230283</td>\n",
       "      <td>PB00052-02</td>\n",
       "      <td>4338bff0484111ee9968aeaf4c3a0897</td>\n",
       "      <td>unknown</td>\n",
       "      <td>Flow_Cyanno_PB1_PB00052-02_summary_frequency_s...</td>\n",
       "      <td>PB1</td>\n",
       "      <td>...</td>\n",
       "      <td>FlowCytometry-summary-frequency-stats</td>\n",
       "      <td>2</td>\n",
       "      <td>f8424819-e5c7-44fd-b19c-12d8a5dd0771</td>\n",
       "      <td>Female</td>\n",
       "      <td>1963</td>\n",
       "      <td>Non-Hispanic origin</td>\n",
       "      <td>CU</td>\n",
       "      <td>Caucasian</td>\n",
       "      <td>CU1009</td>\n",
       "      <td>CU1</td>\n",
       "    </tr>\n",
       "    <tr>\n",
       "      <th>1</th>\n",
       "      <td>/home//jupyter//projects/pre-ra//flow//raw-dat...</td>\n",
       "      <td>cd14_monocytes</td>\n",
       "      <td>6869</td>\n",
       "      <td>0.029829</td>\n",
       "      <td>230283</td>\n",
       "      <td>PB00052-02</td>\n",
       "      <td>4338c676484111ee9968aeaf4c3a0897</td>\n",
       "      <td>total_myeloid_cells</td>\n",
       "      <td>Flow_Cyanno_PB1_PB00052-02_summary_frequency_s...</td>\n",
       "      <td>PB1</td>\n",
       "      <td>...</td>\n",
       "      <td>FlowCytometry-summary-frequency-stats</td>\n",
       "      <td>2</td>\n",
       "      <td>f8424819-e5c7-44fd-b19c-12d8a5dd0771</td>\n",
       "      <td>Female</td>\n",
       "      <td>1963</td>\n",
       "      <td>Non-Hispanic origin</td>\n",
       "      <td>CU</td>\n",
       "      <td>Caucasian</td>\n",
       "      <td>CU1009</td>\n",
       "      <td>CU1</td>\n",
       "    </tr>\n",
       "    <tr>\n",
       "      <th>2</th>\n",
       "      <td>/home//jupyter//projects/pre-ra//flow//raw-dat...</td>\n",
       "      <td>debris</td>\n",
       "      <td>8211</td>\n",
       "      <td>0.035656</td>\n",
       "      <td>230283</td>\n",
       "      <td>PB00052-02</td>\n",
       "      <td>4338bfc8484111ee9968aeaf4c3a0897</td>\n",
       "      <td>debris</td>\n",
       "      <td>Flow_Cyanno_PB1_PB00052-02_summary_frequency_s...</td>\n",
       "      <td>PB1</td>\n",
       "      <td>...</td>\n",
       "      <td>FlowCytometry-summary-frequency-stats</td>\n",
       "      <td>2</td>\n",
       "      <td>f8424819-e5c7-44fd-b19c-12d8a5dd0771</td>\n",
       "      <td>Female</td>\n",
       "      <td>1963</td>\n",
       "      <td>Non-Hispanic origin</td>\n",
       "      <td>CU</td>\n",
       "      <td>Caucasian</td>\n",
       "      <td>CU1009</td>\n",
       "      <td>CU1</td>\n",
       "    </tr>\n",
       "    <tr>\n",
       "      <th>3</th>\n",
       "      <td>/home//jupyter//projects/pre-ra//flow//raw-dat...</td>\n",
       "      <td>naive_b_cells</td>\n",
       "      <td>9403</td>\n",
       "      <td>0.040832</td>\n",
       "      <td>230283</td>\n",
       "      <td>PB00052-02</td>\n",
       "      <td>4338c00e484111ee9968aeaf4c3a0897</td>\n",
       "      <td>total_b_cells</td>\n",
       "      <td>Flow_Cyanno_PB1_PB00052-02_summary_frequency_s...</td>\n",
       "      <td>PB1</td>\n",
       "      <td>...</td>\n",
       "      <td>FlowCytometry-summary-frequency-stats</td>\n",
       "      <td>2</td>\n",
       "      <td>f8424819-e5c7-44fd-b19c-12d8a5dd0771</td>\n",
       "      <td>Female</td>\n",
       "      <td>1963</td>\n",
       "      <td>Non-Hispanic origin</td>\n",
       "      <td>CU</td>\n",
       "      <td>Caucasian</td>\n",
       "      <td>CU1009</td>\n",
       "      <td>CU1</td>\n",
       "    </tr>\n",
       "    <tr>\n",
       "      <th>4</th>\n",
       "      <td>/home//jupyter//projects/pre-ra//flow//raw-dat...</td>\n",
       "      <td>nk_cells</td>\n",
       "      <td>33032</td>\n",
       "      <td>0.143441</td>\n",
       "      <td>230283</td>\n",
       "      <td>PB00052-02</td>\n",
       "      <td>4338c14e484111ee9968aeaf4c3a0897</td>\n",
       "      <td>total_nk_cells</td>\n",
       "      <td>Flow_Cyanno_PB1_PB00052-02_summary_frequency_s...</td>\n",
       "      <td>PB1</td>\n",
       "      <td>...</td>\n",
       "      <td>FlowCytometry-summary-frequency-stats</td>\n",
       "      <td>2</td>\n",
       "      <td>f8424819-e5c7-44fd-b19c-12d8a5dd0771</td>\n",
       "      <td>Female</td>\n",
       "      <td>1963</td>\n",
       "      <td>Non-Hispanic origin</td>\n",
       "      <td>CU</td>\n",
       "      <td>Caucasian</td>\n",
       "      <td>CU1009</td>\n",
       "      <td>CU1</td>\n",
       "    </tr>\n",
       "  </tbody>\n",
       "</table>\n",
       "<p>5 rows × 35 columns</p>\n",
       "</div>"
      ],
      "text/plain": [
       "                                       full_filename          labels  counts  \\\n",
       "0  /home//jupyter//projects/pre-ra//flow//raw-dat...         Unknown   98294   \n",
       "1  /home//jupyter//projects/pre-ra//flow//raw-dat...  cd14_monocytes    6869   \n",
       "2  /home//jupyter//projects/pre-ra//flow//raw-dat...          debris    8211   \n",
       "3  /home//jupyter//projects/pre-ra//flow//raw-dat...   naive_b_cells    9403   \n",
       "4  /home//jupyter//projects/pre-ra//flow//raw-dat...        nk_cells   33032   \n",
       "\n",
       "   frequency_live  total_counts   sample_id                           barcode  \\\n",
       "0        0.426840        230283  PB00052-02  4338bff0484111ee9968aeaf4c3a0897   \n",
       "1        0.029829        230283  PB00052-02  4338c676484111ee9968aeaf4c3a0897   \n",
       "2        0.035656        230283  PB00052-02  4338bfc8484111ee9968aeaf4c3a0897   \n",
       "3        0.040832        230283  PB00052-02  4338c00e484111ee9968aeaf4c3a0897   \n",
       "4        0.143441        230283  PB00052-02  4338c14e484111ee9968aeaf4c3a0897   \n",
       "\n",
       "             l1_labels                                           filename  \\\n",
       "0              unknown  Flow_Cyanno_PB1_PB00052-02_summary_frequency_s...   \n",
       "1  total_myeloid_cells  Flow_Cyanno_PB1_PB00052-02_summary_frequency_s...   \n",
       "2               debris  Flow_Cyanno_PB1_PB00052-02_summary_frequency_s...   \n",
       "3        total_b_cells  Flow_Cyanno_PB1_PB00052-02_summary_frequency_s...   \n",
       "4       total_nk_cells  Flow_Cyanno_PB1_PB00052-02_summary_frequency_s...   \n",
       "\n",
       "  panel  ...                          file.fileType file.majorVersion  \\\n",
       "0   PB1  ...  FlowCytometry-summary-frequency-stats                 2   \n",
       "1   PB1  ...  FlowCytometry-summary-frequency-stats                 2   \n",
       "2   PB1  ...  FlowCytometry-summary-frequency-stats                 2   \n",
       "3   PB1  ...  FlowCytometry-summary-frequency-stats                 2   \n",
       "4   PB1  ...  FlowCytometry-summary-frequency-stats                 2   \n",
       "\n",
       "                             subject.id subject.biologicalSex  \\\n",
       "0  f8424819-e5c7-44fd-b19c-12d8a5dd0771                Female   \n",
       "1  f8424819-e5c7-44fd-b19c-12d8a5dd0771                Female   \n",
       "2  f8424819-e5c7-44fd-b19c-12d8a5dd0771                Female   \n",
       "3  f8424819-e5c7-44fd-b19c-12d8a5dd0771                Female   \n",
       "4  f8424819-e5c7-44fd-b19c-12d8a5dd0771                Female   \n",
       "\n",
       "  subject.birthYear    subject.ethnicity subject.partnerCode subject.race  \\\n",
       "0              1963  Non-Hispanic origin                  CU    Caucasian   \n",
       "1              1963  Non-Hispanic origin                  CU    Caucasian   \n",
       "2              1963  Non-Hispanic origin                  CU    Caucasian   \n",
       "3              1963  Non-Hispanic origin                  CU    Caucasian   \n",
       "4              1963  Non-Hispanic origin                  CU    Caucasian   \n",
       "\n",
       "  subject.subjectGuid  cohort.cohortGuid  \n",
       "0              CU1009                CU1  \n",
       "1              CU1009                CU1  \n",
       "2              CU1009                CU1  \n",
       "3              CU1009                CU1  \n",
       "4              CU1009                CU1  \n",
       "\n",
       "[5 rows x 35 columns]"
      ]
     },
     "execution_count": 10,
     "metadata": {},
     "output_type": "execute_result"
    }
   ],
   "source": [
    "freq_tbl.head()"
   ]
  },
  {
   "cell_type": "code",
   "execution_count": 20,
   "id": "25cbd5e5-2160-433f-bd75-f87ce32cd392",
   "metadata": {
    "tags": []
   },
   "outputs": [
    {
     "data": {
      "text/plain": [
       "138"
      ]
     },
     "execution_count": 20,
     "metadata": {},
     "output_type": "execute_result"
    }
   ],
   "source": [
    "# subset flow files based on non duplicate files in meta data\n",
    "strings = freq_tbl['sample_id'].unique()\n",
    "\n",
    "# Subset file_names based on matching substrings\n",
    "matching_files = [file_name for file_name in flow_files if contains_substring(file_name, strings)]\n",
    "\n",
    "# Print the result\n",
    "len(matching_files)\n",
    "len(strings)"
   ]
  },
  {
   "cell_type": "code",
   "execution_count": 21,
   "id": "d5be362f-b9dd-4697-90dd-2b28a942c387",
   "metadata": {
    "tags": []
   },
   "outputs": [
    {
     "data": {
      "text/plain": [
       "['/home/jupyter/projects/pre-ra/flow/raw-data/PB1/labelled-expr/cache/3a448e90-a9ee-40e0-9afb-595f7bb92a45/B088_PB1_PB00467-01_live_logical_transform_labelled_expr.csv',\n",
       " '/home/jupyter/projects/pre-ra/flow/raw-data/PB1/labelled-expr/cache/06ba97cf-c5c3-4832-b123-2a70468ed4cb/B140_PB1_PB00063-05_live_logical_transform_labelled_expr.csv',\n",
       " '/home/jupyter/projects/pre-ra/flow/raw-data/PB1/labelled-expr/cache/aa619715-6657-4913-9dc4-9a01644d3617/B182_PB1_PB04671-001_live_logical_transform_labelled_expr.csv',\n",
       " '/home/jupyter/projects/pre-ra/flow/raw-data/PB1/labelled-expr/cache/e9dab109-aa04-4525-a726-31df06430799/B057_PB1_PB00436-02_live_logical_transform_labelled_expr.csv',\n",
       " '/home/jupyter/projects/pre-ra/flow/raw-data/PB1/labelled-expr/cache/aeb0ccc0-2b27-498a-bca4-37de84ecca7d/B139_PB1_PB04103-001_live_logical_transform_labelled_expr.csv']"
      ]
     },
     "execution_count": 21,
     "metadata": {},
     "output_type": "execute_result"
    }
   ],
   "source": [
    "flow_files[:5]"
   ]
  },
  {
   "cell_type": "code",
   "execution_count": 22,
   "id": "9e53f91a-e695-4748-a965-ec72e4576c17",
   "metadata": {
    "tags": []
   },
   "outputs": [],
   "source": [
    "\n",
    "adata = anndata.concat([read_one(p) for p in matching_files], index_unique=\"-\")"
   ]
  },
  {
   "cell_type": "code",
   "execution_count": 23,
   "id": "af991a7b-2027-43a4-bcee-0808dfad0874",
   "metadata": {
    "tags": []
   },
   "outputs": [
    {
     "data": {
      "text/plain": [
       "138"
      ]
     },
     "execution_count": 23,
     "metadata": {},
     "output_type": "execute_result"
    }
   ],
   "source": [
    "len(adata.obs['sample_id'].unique())"
   ]
  },
  {
   "cell_type": "code",
   "execution_count": 24,
   "id": "c3d05e4f-1221-4136-9c78-7cdd06c0fd81",
   "metadata": {
    "tags": []
   },
   "outputs": [
    {
     "data": {
      "text/plain": [
       "AnnData object with n_obs × n_vars = 57762311 × 24\n",
       "    obs: 'Unnamed: 0', 'sample_id', 'cell_id', 'barcode', 'Time', 'SSC-W', 'SSC-H', 'SSC-A', 'FSC-W', 'FSC-H', 'FSC-A', 'SSC-B-W', 'SSC-B-H', 'SSC-B-A', 'Viability_logicle', 'labels', 'batch', 'panel', 'sample.sampleKitGuid'"
      ]
     },
     "execution_count": 24,
     "metadata": {},
     "output_type": "execute_result"
    }
   ],
   "source": [
    "adata"
   ]
  },
  {
   "cell_type": "code",
   "execution_count": 25,
   "id": "587375f9-9ba2-4cc2-988f-2bd328d6d70f",
   "metadata": {
    "tags": []
   },
   "outputs": [
    {
     "data": {
      "text/html": [
       "<div>\n",
       "<style scoped>\n",
       "    .dataframe tbody tr th:only-of-type {\n",
       "        vertical-align: middle;\n",
       "    }\n",
       "\n",
       "    .dataframe tbody tr th {\n",
       "        vertical-align: top;\n",
       "    }\n",
       "\n",
       "    .dataframe thead th {\n",
       "        text-align: right;\n",
       "    }\n",
       "</style>\n",
       "<table border=\"1\" class=\"dataframe\">\n",
       "  <thead>\n",
       "    <tr style=\"text-align: right;\">\n",
       "      <th></th>\n",
       "      <th>Unnamed: 0</th>\n",
       "      <th>sample_id</th>\n",
       "      <th>cell_id</th>\n",
       "      <th>barcode</th>\n",
       "      <th>Time</th>\n",
       "      <th>SSC-W</th>\n",
       "      <th>SSC-H</th>\n",
       "      <th>SSC-A</th>\n",
       "      <th>FSC-W</th>\n",
       "      <th>FSC-H</th>\n",
       "      <th>FSC-A</th>\n",
       "      <th>SSC-B-W</th>\n",
       "      <th>SSC-B-H</th>\n",
       "      <th>SSC-B-A</th>\n",
       "      <th>Viability_logicle</th>\n",
       "      <th>labels</th>\n",
       "      <th>batch</th>\n",
       "      <th>panel</th>\n",
       "      <th>sample.sampleKitGuid</th>\n",
       "    </tr>\n",
       "  </thead>\n",
       "  <tbody>\n",
       "    <tr>\n",
       "      <th>0-0</th>\n",
       "      <td>0</td>\n",
       "      <td>PB00467-01</td>\n",
       "      <td>1</td>\n",
       "      <td>908e13a82a8411eda605fe22d8c79dde</td>\n",
       "      <td>48450.0</td>\n",
       "      <td>740557.9375</td>\n",
       "      <td>564999.0</td>\n",
       "      <td>6.973574e+05</td>\n",
       "      <td>716652.3750</td>\n",
       "      <td>1189311.0</td>\n",
       "      <td>1420537.500</td>\n",
       "      <td>741975.1875</td>\n",
       "      <td>418228.0</td>\n",
       "      <td>517191.34375</td>\n",
       "      <td>1.698486</td>\n",
       "      <td>Unknown</td>\n",
       "      <td>B088</td>\n",
       "      <td>PB1</td>\n",
       "      <td>KT00467</td>\n",
       "    </tr>\n",
       "    <tr>\n",
       "      <th>1-0</th>\n",
       "      <td>1</td>\n",
       "      <td>PB00467-01</td>\n",
       "      <td>2</td>\n",
       "      <td>908e13d02a8411eda605fe22d8c79dde</td>\n",
       "      <td>48450.0</td>\n",
       "      <td>731824.6250</td>\n",
       "      <td>459221.0</td>\n",
       "      <td>5.601154e+05</td>\n",
       "      <td>708948.3750</td>\n",
       "      <td>996820.0</td>\n",
       "      <td>1177823.250</td>\n",
       "      <td>721398.6250</td>\n",
       "      <td>426078.0</td>\n",
       "      <td>512286.81250</td>\n",
       "      <td>1.635329</td>\n",
       "      <td>t_cells</td>\n",
       "      <td>B088</td>\n",
       "      <td>PB1</td>\n",
       "      <td>KT00467</td>\n",
       "    </tr>\n",
       "    <tr>\n",
       "      <th>2-0</th>\n",
       "      <td>2</td>\n",
       "      <td>PB00467-01</td>\n",
       "      <td>3</td>\n",
       "      <td>908e13f82a8411eda605fe22d8c79dde</td>\n",
       "      <td>48455.0</td>\n",
       "      <td>845166.8750</td>\n",
       "      <td>495960.0</td>\n",
       "      <td>6.986149e+05</td>\n",
       "      <td>763026.3750</td>\n",
       "      <td>634781.0</td>\n",
       "      <td>807257.750</td>\n",
       "      <td>820858.0000</td>\n",
       "      <td>558711.0</td>\n",
       "      <td>764370.68750</td>\n",
       "      <td>0.916245</td>\n",
       "      <td>Unknown</td>\n",
       "      <td>B088</td>\n",
       "      <td>PB1</td>\n",
       "      <td>KT00467</td>\n",
       "    </tr>\n",
       "    <tr>\n",
       "      <th>3-0</th>\n",
       "      <td>3</td>\n",
       "      <td>PB00467-01</td>\n",
       "      <td>4</td>\n",
       "      <td>908e14202a8411eda605fe22d8c79dde</td>\n",
       "      <td>48456.0</td>\n",
       "      <td>757639.6875</td>\n",
       "      <td>362719.0</td>\n",
       "      <td>4.580172e+05</td>\n",
       "      <td>725696.1250</td>\n",
       "      <td>949282.0</td>\n",
       "      <td>1148150.375</td>\n",
       "      <td>741761.0000</td>\n",
       "      <td>343311.0</td>\n",
       "      <td>424424.50000</td>\n",
       "      <td>1.490283</td>\n",
       "      <td>t_cells</td>\n",
       "      <td>B088</td>\n",
       "      <td>PB1</td>\n",
       "      <td>KT00467</td>\n",
       "    </tr>\n",
       "    <tr>\n",
       "      <th>4-0</th>\n",
       "      <td>4</td>\n",
       "      <td>PB00467-01</td>\n",
       "      <td>6</td>\n",
       "      <td>908e14702a8411eda605fe22d8c79dde</td>\n",
       "      <td>48460.0</td>\n",
       "      <td>746102.8750</td>\n",
       "      <td>502148.0</td>\n",
       "      <td>6.244234e+05</td>\n",
       "      <td>744195.0625</td>\n",
       "      <td>1243487.0</td>\n",
       "      <td>1542328.125</td>\n",
       "      <td>751597.1250</td>\n",
       "      <td>466484.0</td>\n",
       "      <td>584346.68750</td>\n",
       "      <td>1.774413</td>\n",
       "      <td>Unknown</td>\n",
       "      <td>B088</td>\n",
       "      <td>PB1</td>\n",
       "      <td>KT00467</td>\n",
       "    </tr>\n",
       "    <tr>\n",
       "      <th>...</th>\n",
       "      <td>...</td>\n",
       "      <td>...</td>\n",
       "      <td>...</td>\n",
       "      <td>...</td>\n",
       "      <td>...</td>\n",
       "      <td>...</td>\n",
       "      <td>...</td>\n",
       "      <td>...</td>\n",
       "      <td>...</td>\n",
       "      <td>...</td>\n",
       "      <td>...</td>\n",
       "      <td>...</td>\n",
       "      <td>...</td>\n",
       "      <td>...</td>\n",
       "      <td>...</td>\n",
       "      <td>...</td>\n",
       "      <td>...</td>\n",
       "      <td>...</td>\n",
       "      <td>...</td>\n",
       "    </tr>\n",
       "    <tr>\n",
       "      <th>304361-178</th>\n",
       "      <td>304361</td>\n",
       "      <td>PB02292-00</td>\n",
       "      <td>347124</td>\n",
       "      <td>b7f2d2a25d9711ee9ec94e89935a78d6</td>\n",
       "      <td>1174455.0</td>\n",
       "      <td>670863.8750</td>\n",
       "      <td>418244.0</td>\n",
       "      <td>4.676413e+05</td>\n",
       "      <td>647108.1250</td>\n",
       "      <td>934053.0</td>\n",
       "      <td>1007388.750</td>\n",
       "      <td>644245.0000</td>\n",
       "      <td>324757.0</td>\n",
       "      <td>348705.12500</td>\n",
       "      <td>1.621018</td>\n",
       "      <td>Unknown</td>\n",
       "      <td>B158</td>\n",
       "      <td>PB1</td>\n",
       "      <td>KT02292</td>\n",
       "    </tr>\n",
       "    <tr>\n",
       "      <th>304362-178</th>\n",
       "      <td>304362</td>\n",
       "      <td>PB02292-00</td>\n",
       "      <td>347125</td>\n",
       "      <td>b7f2d2b65d9711ee9ec94e89935a78d6</td>\n",
       "      <td>1174460.0</td>\n",
       "      <td>706157.8125</td>\n",
       "      <td>362969.0</td>\n",
       "      <td>4.271890e+05</td>\n",
       "      <td>724599.0625</td>\n",
       "      <td>1363746.0</td>\n",
       "      <td>1646948.500</td>\n",
       "      <td>703045.1875</td>\n",
       "      <td>329698.0</td>\n",
       "      <td>386321.00000</td>\n",
       "      <td>1.208885</td>\n",
       "      <td>transitional_b_cells</td>\n",
       "      <td>B158</td>\n",
       "      <td>PB1</td>\n",
       "      <td>KT02292</td>\n",
       "    </tr>\n",
       "    <tr>\n",
       "      <th>304363-178</th>\n",
       "      <td>304363</td>\n",
       "      <td>PB02292-00</td>\n",
       "      <td>347126</td>\n",
       "      <td>b7f2d2d45d9711ee9ec94e89935a78d6</td>\n",
       "      <td>1174461.0</td>\n",
       "      <td>759415.5625</td>\n",
       "      <td>1179359.0</td>\n",
       "      <td>1.492706e+06</td>\n",
       "      <td>808968.0000</td>\n",
       "      <td>1092078.0</td>\n",
       "      <td>1472426.875</td>\n",
       "      <td>724650.5625</td>\n",
       "      <td>827733.0</td>\n",
       "      <td>999695.25000</td>\n",
       "      <td>2.054986</td>\n",
       "      <td>Unknown</td>\n",
       "      <td>B158</td>\n",
       "      <td>PB1</td>\n",
       "      <td>KT02292</td>\n",
       "    </tr>\n",
       "    <tr>\n",
       "      <th>304364-178</th>\n",
       "      <td>304364</td>\n",
       "      <td>PB02292-00</td>\n",
       "      <td>347127</td>\n",
       "      <td>b7f2d2f25d9711ee9ec94e89935a78d6</td>\n",
       "      <td>1174473.0</td>\n",
       "      <td>680054.4375</td>\n",
       "      <td>374818.0</td>\n",
       "      <td>4.248278e+05</td>\n",
       "      <td>699214.1875</td>\n",
       "      <td>1297234.0</td>\n",
       "      <td>1511740.750</td>\n",
       "      <td>649316.6250</td>\n",
       "      <td>300684.0</td>\n",
       "      <td>325398.53125</td>\n",
       "      <td>1.291036</td>\n",
       "      <td>transitional_b_cells</td>\n",
       "      <td>B158</td>\n",
       "      <td>PB1</td>\n",
       "      <td>KT02292</td>\n",
       "    </tr>\n",
       "    <tr>\n",
       "      <th>304365-178</th>\n",
       "      <td>304365</td>\n",
       "      <td>PB02292-00</td>\n",
       "      <td>347128</td>\n",
       "      <td>b7f2d3105d9711ee9ec94e89935a78d6</td>\n",
       "      <td>1174474.0</td>\n",
       "      <td>697835.7500</td>\n",
       "      <td>399560.0</td>\n",
       "      <td>4.647121e+05</td>\n",
       "      <td>695956.4375</td>\n",
       "      <td>1038559.0</td>\n",
       "      <td>1204653.000</td>\n",
       "      <td>656717.6250</td>\n",
       "      <td>343433.0</td>\n",
       "      <td>375897.53125</td>\n",
       "      <td>1.687474</td>\n",
       "      <td>t_cells</td>\n",
       "      <td>B158</td>\n",
       "      <td>PB1</td>\n",
       "      <td>KT02292</td>\n",
       "    </tr>\n",
       "  </tbody>\n",
       "</table>\n",
       "<p>57762311 rows × 19 columns</p>\n",
       "</div>"
      ],
      "text/plain": [
       "            Unnamed: 0   sample_id  cell_id                           barcode  \\\n",
       "0-0                  0  PB00467-01        1  908e13a82a8411eda605fe22d8c79dde   \n",
       "1-0                  1  PB00467-01        2  908e13d02a8411eda605fe22d8c79dde   \n",
       "2-0                  2  PB00467-01        3  908e13f82a8411eda605fe22d8c79dde   \n",
       "3-0                  3  PB00467-01        4  908e14202a8411eda605fe22d8c79dde   \n",
       "4-0                  4  PB00467-01        6  908e14702a8411eda605fe22d8c79dde   \n",
       "...                ...         ...      ...                               ...   \n",
       "304361-178      304361  PB02292-00   347124  b7f2d2a25d9711ee9ec94e89935a78d6   \n",
       "304362-178      304362  PB02292-00   347125  b7f2d2b65d9711ee9ec94e89935a78d6   \n",
       "304363-178      304363  PB02292-00   347126  b7f2d2d45d9711ee9ec94e89935a78d6   \n",
       "304364-178      304364  PB02292-00   347127  b7f2d2f25d9711ee9ec94e89935a78d6   \n",
       "304365-178      304365  PB02292-00   347128  b7f2d3105d9711ee9ec94e89935a78d6   \n",
       "\n",
       "                 Time        SSC-W      SSC-H         SSC-A        FSC-W  \\\n",
       "0-0           48450.0  740557.9375   564999.0  6.973574e+05  716652.3750   \n",
       "1-0           48450.0  731824.6250   459221.0  5.601154e+05  708948.3750   \n",
       "2-0           48455.0  845166.8750   495960.0  6.986149e+05  763026.3750   \n",
       "3-0           48456.0  757639.6875   362719.0  4.580172e+05  725696.1250   \n",
       "4-0           48460.0  746102.8750   502148.0  6.244234e+05  744195.0625   \n",
       "...               ...          ...        ...           ...          ...   \n",
       "304361-178  1174455.0  670863.8750   418244.0  4.676413e+05  647108.1250   \n",
       "304362-178  1174460.0  706157.8125   362969.0  4.271890e+05  724599.0625   \n",
       "304363-178  1174461.0  759415.5625  1179359.0  1.492706e+06  808968.0000   \n",
       "304364-178  1174473.0  680054.4375   374818.0  4.248278e+05  699214.1875   \n",
       "304365-178  1174474.0  697835.7500   399560.0  4.647121e+05  695956.4375   \n",
       "\n",
       "                FSC-H        FSC-A      SSC-B-W   SSC-B-H       SSC-B-A  \\\n",
       "0-0         1189311.0  1420537.500  741975.1875  418228.0  517191.34375   \n",
       "1-0          996820.0  1177823.250  721398.6250  426078.0  512286.81250   \n",
       "2-0          634781.0   807257.750  820858.0000  558711.0  764370.68750   \n",
       "3-0          949282.0  1148150.375  741761.0000  343311.0  424424.50000   \n",
       "4-0         1243487.0  1542328.125  751597.1250  466484.0  584346.68750   \n",
       "...               ...          ...          ...       ...           ...   \n",
       "304361-178   934053.0  1007388.750  644245.0000  324757.0  348705.12500   \n",
       "304362-178  1363746.0  1646948.500  703045.1875  329698.0  386321.00000   \n",
       "304363-178  1092078.0  1472426.875  724650.5625  827733.0  999695.25000   \n",
       "304364-178  1297234.0  1511740.750  649316.6250  300684.0  325398.53125   \n",
       "304365-178  1038559.0  1204653.000  656717.6250  343433.0  375897.53125   \n",
       "\n",
       "            Viability_logicle                labels batch panel  \\\n",
       "0-0                  1.698486               Unknown  B088   PB1   \n",
       "1-0                  1.635329               t_cells  B088   PB1   \n",
       "2-0                  0.916245               Unknown  B088   PB1   \n",
       "3-0                  1.490283               t_cells  B088   PB1   \n",
       "4-0                  1.774413               Unknown  B088   PB1   \n",
       "...                       ...                   ...   ...   ...   \n",
       "304361-178           1.621018               Unknown  B158   PB1   \n",
       "304362-178           1.208885  transitional_b_cells  B158   PB1   \n",
       "304363-178           2.054986               Unknown  B158   PB1   \n",
       "304364-178           1.291036  transitional_b_cells  B158   PB1   \n",
       "304365-178           1.687474               t_cells  B158   PB1   \n",
       "\n",
       "           sample.sampleKitGuid  \n",
       "0-0                     KT00467  \n",
       "1-0                     KT00467  \n",
       "2-0                     KT00467  \n",
       "3-0                     KT00467  \n",
       "4-0                     KT00467  \n",
       "...                         ...  \n",
       "304361-178              KT02292  \n",
       "304362-178              KT02292  \n",
       "304363-178              KT02292  \n",
       "304364-178              KT02292  \n",
       "304365-178              KT02292  \n",
       "\n",
       "[57762311 rows x 19 columns]"
      ]
     },
     "execution_count": 25,
     "metadata": {},
     "output_type": "execute_result"
    }
   ],
   "source": [
    "adata.obs"
   ]
  },
  {
   "cell_type": "markdown",
   "id": "601e0d2c-95f9-4066-8dd1-f388270606a8",
   "metadata": {},
   "source": [
    "## Merge L1 pop"
   ]
  },
  {
   "cell_type": "code",
   "execution_count": 26,
   "id": "86587237-4e1c-4b1b-95f4-652e442a1343",
   "metadata": {
    "tags": []
   },
   "outputs": [],
   "source": [
    "labels_df = freq_tbl[[\"labels\", \"l1_labels\"]].drop_duplicates()"
   ]
  },
  {
   "cell_type": "code",
   "execution_count": 27,
   "id": "23f8c8ee-c35b-41de-b3ba-7090e02c9fd6",
   "metadata": {
    "tags": []
   },
   "outputs": [],
   "source": [
    "adata.obs = adata.obs.join(labels_df.set_index('labels'), on='labels')"
   ]
  },
  {
   "cell_type": "code",
   "execution_count": 28,
   "id": "96950b7d-c8fa-4a9a-b027-2c737bbf91da",
   "metadata": {
    "tags": []
   },
   "outputs": [
    {
     "data": {
      "text/plain": [
       "array(['unknown', 't_cells', 'total_b_cells', 'debris', 'total_nk_cells',\n",
       "       'total_myeloid_cells'], dtype=object)"
      ]
     },
     "execution_count": 28,
     "metadata": {},
     "output_type": "execute_result"
    }
   ],
   "source": [
    "adata.obs['l1_labels'].unique()"
   ]
  },
  {
   "cell_type": "code",
   "execution_count": 29,
   "id": "d3ae9625-f128-486d-be1a-6150269630d1",
   "metadata": {
    "tags": []
   },
   "outputs": [
    {
     "data": {
      "text/plain": [
       "AnnData object with n_obs × n_vars = 57762311 × 24\n",
       "    obs: 'Unnamed: 0', 'sample_id', 'cell_id', 'barcode', 'Time', 'SSC-W', 'SSC-H', 'SSC-A', 'FSC-W', 'FSC-H', 'FSC-A', 'SSC-B-W', 'SSC-B-H', 'SSC-B-A', 'Viability_logicle', 'labels', 'batch', 'panel', 'sample.sampleKitGuid', 'l1_labels'"
      ]
     },
     "execution_count": 29,
     "metadata": {},
     "output_type": "execute_result"
    }
   ],
   "source": [
    "adata"
   ]
  },
  {
   "cell_type": "code",
   "execution_count": null,
   "id": "92b76bb7-51c8-4882-9bc2-01b9677d9079",
   "metadata": {
    "tags": []
   },
   "outputs": [],
   "source": [
    "# save unscaled adata for subsetting \n",
    "adata.write_h5ad(output_path + \"adata_preprocess_unscaled_\" + panel + \".h5ad\")"
   ]
  },
  {
   "cell_type": "markdown",
   "id": "13cbbedf-74b9-4d4e-9715-6cbdaef4cdd3",
   "metadata": {},
   "source": [
    "# QC check"
   ]
  },
  {
   "cell_type": "code",
   "execution_count": null,
   "id": "212eae43-f207-4444-ae4f-d07d0d421766",
   "metadata": {
    "tags": []
   },
   "outputs": [],
   "source": [
    "adata = sc.read_h5ad(output_path + \"adata_preprocess_unscaled_\" + panel + \".h5ad\")"
   ]
  },
  {
   "cell_type": "code",
   "execution_count": null,
   "id": "72c76878-8a3e-425a-b81f-900e9d79d615",
   "metadata": {
    "tags": []
   },
   "outputs": [],
   "source": [
    "adata"
   ]
  },
  {
   "cell_type": "code",
   "execution_count": null,
   "id": "3f14bdc7-9e24-42e6-a683-2e13afa45c03",
   "metadata": {
    "tags": []
   },
   "outputs": [],
   "source": [
    "# Important: data from the Cyanno pipeline are already logcile tranformed. \n",
    "# No need to redo the transformation\n",
    "adata.X\n"
   ]
  },
  {
   "cell_type": "code",
   "execution_count": null,
   "id": "263f3f58-2576-4676-88e8-27af0d72e492",
   "metadata": {
    "tags": []
   },
   "outputs": [],
   "source": [
    "## check for NAs in exp array, PM1 has NAns\n",
    "np.isnan((np.sum(adata.X)))"
   ]
  },
  {
   "cell_type": "code",
   "execution_count": null,
   "id": "f485764a-6f30-4314-8133-a33c73c07466",
   "metadata": {
    "tags": []
   },
   "outputs": [],
   "source": [
    "adata.to_df().notnull()"
   ]
  },
  {
   "cell_type": "markdown",
   "id": "1d6c68f4-fe16-4580-810b-d1018f074aa2",
   "metadata": {
    "tags": []
   },
   "source": [
    "# Define highly var markers"
   ]
  },
  {
   "cell_type": "code",
   "execution_count": null,
   "id": "121aaae7-1572-4da9-a8e5-6e6e5e0133ca",
   "metadata": {
    "tags": []
   },
   "outputs": [],
   "source": [
    "#### ==== DEFINE HIGHLY VAR MARKERS BASED ON PANEL DF ==== ####\n",
    "# load panel info for pt1\n",
    "panel_df = pd.read_csv('/home/jupyter/projects/pre-ra/flow/raw-data/AIFI_flow_' + panel + '_panel_breakdown.csv')\n",
    "gating_antigens = panel_df.loc[panel_df['used_for_clustering']=='Yes', 'antigen']\n",
    "\n",
    "gating_antigens = [s + '_logicle' for s in gating_antigens]\n",
    "\n",
    "\n",
    "# set up the variable\n",
    "adata.var['antigens'] = adata.var.index.str.replace('_logicle', '')\n",
    "adata.var[['gating_antigens']] = False\n",
    "adata.var.loc[adata.var.index.isin(gating_antigens),'gating_antigens'] = True\n",
    "adata.var[['highly_variable']] = adata.var[['gating_antigens']]\n",
    "adata.var\n"
   ]
  },
  {
   "cell_type": "markdown",
   "id": "9b7450a7-71a8-42b2-bdda-21d45a52acb0",
   "metadata": {},
   "source": [
    "# Subsample"
   ]
  },
  {
   "cell_type": "code",
   "execution_count": null,
   "id": "a39ce907-170f-4f9d-9152-dd3c47b778e8",
   "metadata": {
    "tags": []
   },
   "outputs": [],
   "source": [
    "#### ==== SUBSAMPLE ==== ####\n",
    "sc.pp.subsample(adata,n_obs=3500000, random_state = 123)\n",
    "print(adata)"
   ]
  },
  {
   "cell_type": "code",
   "execution_count": null,
   "id": "4ca1913a-cfaf-41b5-822b-261192f5ecc6",
   "metadata": {
    "tags": []
   },
   "outputs": [],
   "source": [
    "## check for NAs in exp array, PM1 has NAns\n",
    "np.isnan((np.sum(adata.X)))"
   ]
  },
  {
   "cell_type": "markdown",
   "id": "d428bcc4-01ca-484a-811e-24503e9399a2",
   "metadata": {},
   "source": [
    "# Scale"
   ]
  },
  {
   "cell_type": "code",
   "execution_count": null,
   "id": "caac9cfb-be86-4997-b000-d8e891d1531d",
   "metadata": {
    "tags": []
   },
   "outputs": [],
   "source": [
    "#### ==== SCALE ==== ####\n",
    "sy.preprocess.scale(adata)\n",
    "print(adata.X)"
   ]
  },
  {
   "cell_type": "code",
   "execution_count": null,
   "id": "a21469dd-e275-4a2a-8b5b-071f73a4f302",
   "metadata": {
    "tags": []
   },
   "outputs": [],
   "source": [
    "cell_labels_to_subset_list = adata.obs['l1_labels'].unique()\n",
    "print(cell_labels_to_subset_list)\n",
    "\n",
    "print(pd.crosstab(adata.obs['l1_labels'], adata.obs['panel'], margins=True)) "
   ]
  },
  {
   "cell_type": "markdown",
   "id": "29d64e42-cc71-4414-8f7a-c8b9ae2d0cec",
   "metadata": {},
   "source": [
    "# Save Scaled"
   ]
  },
  {
   "cell_type": "code",
   "execution_count": null,
   "id": "518a6cc0-b3cb-429e-b5df-4aadee7ecffc",
   "metadata": {
    "tags": []
   },
   "outputs": [],
   "source": [
    "adata.write_h5ad(output_path  + \"adata_preprocess_scaled_global_subsample_3.5mill_\" + panel + \".h5ad\")\n"
   ]
  },
  {
   "cell_type": "markdown",
   "id": "8fbb0491-094e-4cc6-a7ca-30a915e1a14a",
   "metadata": {},
   "source": [
    "# PCA"
   ]
  },
  {
   "cell_type": "code",
   "execution_count": null,
   "id": "10fd70c1-cb13-4982-b9f7-9874ceff3737",
   "metadata": {
    "tags": []
   },
   "outputs": [],
   "source": [
    "# setting highly variable as highly deviant to use scanpy 'use_highly_variable' argument in sc.pp.pca\n",
    "sc.pp.pca(adata, svd_solver=\"arpack\", use_highly_variable=True)"
   ]
  },
  {
   "cell_type": "code",
   "execution_count": null,
   "id": "d827264c-5a65-4bbe-a731-05174c1814fe",
   "metadata": {
    "tags": []
   },
   "outputs": [],
   "source": [
    "sce.pp.harmony_integrate(adata, 'batch', adjusted_basis='X_pca_harmony')\n"
   ]
  },
  {
   "cell_type": "code",
   "execution_count": null,
   "id": "57aea495-dd60-4ccf-8f7d-788c29ce77f2",
   "metadata": {
    "tags": []
   },
   "outputs": [],
   "source": [
    "# replace new pca slot\n",
    "adata.obsm['X_pca'] = adata.obsm['X_pca_harmony']"
   ]
  },
  {
   "cell_type": "code",
   "execution_count": null,
   "id": "a6886e5e-9dd4-44ed-a8a6-ab8975dcd1ab",
   "metadata": {
    "tags": []
   },
   "outputs": [],
   "source": [
    "sy.tools.umap(adata, markers=gating_antigens)\n"
   ]
  },
  {
   "cell_type": "code",
   "execution_count": null,
   "id": "8c15252d-3b75-4f42-b384-dd54d435d48d",
   "metadata": {
    "tags": []
   },
   "outputs": [],
   "source": [
    "p1 = sy.plot.umap(adata, color=['labels','l1_labels', 'batch','panel'], ncols = 2, return_fig = True, size = .5)\n",
    "p1.set_size_inches(16.5, 16.5)\n",
    "p1.savefig(fig_path + \"global_subsample_3.5mill_\" + \"_umap_labels_batch_panel_\" +panel + \".png\",\n",
    "               dpi=400, bbox_inches='tight')"
   ]
  },
  {
   "cell_type": "code",
   "execution_count": null,
   "id": "ca5c0508-eb88-4bf6-ba5f-944245616199",
   "metadata": {
    "tags": []
   },
   "outputs": [],
   "source": [
    "p1 = sy.plot.umap(adata, color=['batch'], ncols = 2, return_fig = True, size = .5)\n",
    "p1.savefig(fig_path + \"global_subsample_3.5mill_\" + \"_umap_batch_\" +panel + \".png\",\n",
    "               dpi=400, bbox_inches='tight')"
   ]
  },
  {
   "cell_type": "code",
   "execution_count": null,
   "id": "43ccec2a-9ecb-4f99-86eb-7488bbecd728",
   "metadata": {
    "tags": []
   },
   "outputs": [],
   "source": [
    "p1 = sy.plot.umap(adata, color=['l1_labels'], ncols = 2, return_fig = True, size = .5)\n",
    "p1.savefig(fig_path + \"global_subsample_3.5mill_\" + \"_umap_labels_l1_\" +panel + \".png\",\n",
    "               dpi=400, bbox_inches='tight')"
   ]
  },
  {
   "cell_type": "code",
   "execution_count": null,
   "id": "7afe6c86-f0a8-4b14-a9eb-416fc73b4b0e",
   "metadata": {
    "tags": []
   },
   "outputs": [],
   "source": [
    "p1 = sy.plot.umap(adata, color=['labels'], ncols = 2, return_fig = True, size = .5)\n",
    "p1.savefig(fig_path + \"global_subsample_3.5mill_\" + \"_umap_labels_l2_\" +panel + \".png\",\n",
    "               dpi=400, bbox_inches='tight')"
   ]
  },
  {
   "cell_type": "code",
   "execution_count": null,
   "id": "bd7cff75-37a4-4ef1-b200-b2766fd2fef9",
   "metadata": {
    "tags": []
   },
   "outputs": [],
   "source": [
    "adata.obs[\"Unknown\"] = np.nan\n",
    "adata.obs.loc[adata.obs['labels']=='Unknown',\"Unknown\"] = \"Unknown\"\n",
    "p1=sy.plot.umap(adata, color=['Unknown'], return_fig = True)\n",
    "p1.savefig(fig_path + \"global_subsample_3.5mill_\" + \"unknown_pop_\" +panel + \".png\",\n",
    "               dpi=400, bbox_inches='tight')"
   ]
  },
  {
   "cell_type": "code",
   "execution_count": null,
   "id": "506658e6-3237-4f09-8cf8-56fe272e5a60",
   "metadata": {
    "tags": []
   },
   "outputs": [],
   "source": [
    "p1=sy.plot.umap(adata, color=adata.var_names.sort_values(),\n",
    "             ncols=6, show=False, return_fig=True)\n",
    "p1.set_size_inches(18.5, 18.5)\n",
    "\n",
    "p1.savefig(fig_path + \"global_subsample_3.5mill_\" + \"_umap_expression_labels_corrected_panel_\" +panel + \".png\",\n",
    "               dpi=400, bbox_inches='tight')"
   ]
  },
  {
   "cell_type": "code",
   "execution_count": null,
   "id": "cab99872-1083-49ab-93a3-1ef37f2cb55f",
   "metadata": {
    "tags": []
   },
   "outputs": [],
   "source": [
    "adata"
   ]
  },
  {
   "cell_type": "code",
   "execution_count": null,
   "id": "95031d06-592d-4d13-8fab-fec77cdf57ad",
   "metadata": {
    "tags": []
   },
   "outputs": [],
   "source": [
    "adata.write_h5ad(output_path + \"adata_preprocess_global_subsample_3.5mill_\" + panel + \".h5ad\")"
   ]
  }
 ],
 "metadata": {
  "kernelspec": {
   "display_name": "Python 3 (ipykernel)",
   "language": "python",
   "name": "python3"
  },
  "language_info": {
   "codemirror_mode": {
    "name": "ipython",
    "version": 3
   },
   "file_extension": ".py",
   "mimetype": "text/x-python",
   "name": "python",
   "nbconvert_exporter": "python",
   "pygments_lexer": "ipython3",
   "version": "3.10.12"
  },
  "toc-autonumbering": true,
  "toc-showcode": true,
  "toc-showmarkdowntxt": true
 },
 "nbformat": 4,
 "nbformat_minor": 5
}
