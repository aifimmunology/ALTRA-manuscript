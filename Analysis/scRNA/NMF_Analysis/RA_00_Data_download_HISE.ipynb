{
 "cells": [
  {
   "cell_type": "markdown",
   "id": "f95ee988-1c87-4bdc-ac32-dfeb264acb13",
   "metadata": {},
   "source": [
    "# Object download\n",
    "- downloading scRNA object from HISE"
   ]
  },
  {
   "cell_type": "code",
   "execution_count": 1,
   "id": "88926faa-c75c-4271-b637-cadfc5b4cf78",
   "metadata": {},
   "outputs": [],
   "source": [
    "\n",
    "# load libraries\n",
    ".libPaths(\"/home/jupyter/local_lib\") \n",
    "quiet_library <- function(...) {\n",
    "    suppressPackageStartupMessages(library(...))\n",
    "}\n",
    "quiet_library(hise)\n",
    "quiet_library(tidyverse)\n",
    "quiet_library(ggplot2)\n",
    "quiet_library(Matrix)\n",
    "quiet_library(dplyr)\n",
    "quiet_library(viridis)\n",
    "quiet_library(harmony)\n",
    "quiet_library(future)\n",
    "quiet_library(future.apply)\n",
    "\n"
   ]
  },
  {
   "cell_type": "code",
   "execution_count": 2,
   "id": "cb5448d3-275f-4e47-bf11-8188d5d54f14",
   "metadata": {},
   "outputs": [],
   "source": [
    "# setting the working directory "
   ]
  },
  {
   "cell_type": "code",
   "execution_count": 3,
   "id": "3f4999c2-ea72-4579-acf1-6fe453849f18",
   "metadata": {},
   "outputs": [
    {
     "data": {
      "text/html": [
       "'/home/jupyter/ALTRA_ANALYSIS/Deep_clean/certpro/R_notebooks'"
      ],
      "text/latex": [
       "'/home/jupyter/ALTRA\\_ANALYSIS/Deep\\_clean/certpro/R\\_notebooks'"
      ],
      "text/markdown": [
       "'/home/jupyter/ALTRA_ANALYSIS/Deep_clean/certpro/R_notebooks'"
      ],
      "text/plain": [
       "[1] \"/home/jupyter/ALTRA_ANALYSIS/Deep_clean/certpro/R_notebooks\""
      ]
     },
     "metadata": {},
     "output_type": "display_data"
    },
    {
     "data": {
      "text/html": [
       "'/home/jupyter/ALTRA_ANALYSIS/Deep_clean/certpro/input_files/zi_scrna_obj'"
      ],
      "text/latex": [
       "'/home/jupyter/ALTRA\\_ANALYSIS/Deep\\_clean/certpro/input\\_files/zi\\_scrna\\_obj'"
      ],
      "text/markdown": [
       "'/home/jupyter/ALTRA_ANALYSIS/Deep_clean/certpro/input_files/zi_scrna_obj'"
      ],
      "text/plain": [
       "[1] \"/home/jupyter/ALTRA_ANALYSIS/Deep_clean/certpro/input_files/zi_scrna_obj\""
      ]
     },
     "metadata": {},
     "output_type": "display_data"
    }
   ],
   "source": [
    "getwd()\n",
    "setwd('/home/jupyter/ALTRA_ANALYSIS/Deep_clean/certpro/input_files/zi_scrna_obj/')\n",
    "getwd()"
   ]
  },
  {
   "cell_type": "code",
   "execution_count": 4,
   "id": "02b82a54-dfbb-4fc6-b772-f4c453460b6f",
   "metadata": {},
   "outputs": [
    {
     "name": "stderr",
     "output_type": "stream",
     "text": [
      "Querying and downloading data onto IDE.\n",
      "\n"
     ]
    },
    {
     "name": "stdout",
     "output_type": "stream",
     "text": [
      "[1] \"Initiating file download for ALTRA_certPro_scRNA_141_samples_combined_adata.h5ad\"\n",
      "[1] \"Download successful.\"\n"
     ]
    }
   ],
   "source": [
    "cp_dc<-hise::readFiles(list('609f7543-d4d5-41e9-a3d2-8e50c3e7c61d'))"
   ]
  },
  {
   "cell_type": "code",
   "execution_count": null,
   "id": "895d8063-0505-4061-830d-e3bef42daff8",
   "metadata": {},
   "outputs": [],
   "source": []
  }
 ],
 "metadata": {
  "kernelspec": {
   "display_name": "R 4",
   "language": "R",
   "name": "ir4"
  },
  "language_info": {
   "codemirror_mode": "r",
   "file_extension": ".r",
   "mimetype": "text/x-r-source",
   "name": "R",
   "pygments_lexer": "r",
   "version": "4.3.2"
  }
 },
 "nbformat": 4,
 "nbformat_minor": 5
}
