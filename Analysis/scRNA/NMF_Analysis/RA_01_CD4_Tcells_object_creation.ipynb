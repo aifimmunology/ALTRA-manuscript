{
 "cells": [
  {
   "cell_type": "markdown",
   "id": "6b082b2a-e17c-49f0-b731-600d531b7e81",
   "metadata": {},
   "source": [
    "# Creating CD4 T cell object\n",
    "- subsetting the CD4 T cells from the scRNA object"
   ]
  },
  {
   "cell_type": "code",
   "execution_count": 2,
   "id": "3edef696-b790-45fb-b4da-66b9f552cd48",
   "metadata": {},
   "outputs": [],
   "source": [
    "import pandas as pd\n",
    "import numpy as np\n",
    "import anndata\n",
    "import re\n",
    "import scipy.sparse as scs\n",
    "from concurrent.futures import ProcessPoolExecutor\n",
    "import copy\n",
    "import os\n",
    "import matplotlib.pyplot as plt\n",
    "import seaborn as sns\n",
    "from adjustText import adjust_text\n",
    "import warnings\n",
    "import math\n",
    "import scanpy as sc\n",
    "import plotly\n",
    "import matplotlib.pyplot as plt\n",
    "import matplotlib.patches as mpatches\n",
    "warnings.filterwarnings('ignore')\n",
    "import h5py\n",
    "import logging\n",
    "import glob\n",
    "import celltypist\n",
    "from celltypist import models\n",
    "from multiprocessing import Pool"
   ]
  },
  {
   "cell_type": "code",
   "execution_count": null,
   "id": "e119e52d-b7bb-4041-837c-43cf3d92f624",
   "metadata": {},
   "outputs": [],
   "source": [
    "## reading the data downloaded from hise "
   ]
  },
  {
   "cell_type": "code",
   "execution_count": 3,
   "id": "36a936ab-7b7e-406e-ac0f-c64ade713f1b",
   "metadata": {},
   "outputs": [],
   "source": [
    "adata=sc.read(\"/home/jupyter/ALTRA_ANALYSIS/Deep_clean/certpro/input_files/zi_scrna_obj/cache/609f7543-d4d5-41e9-a3d2-8e50c3e7c61d/ALTRA_certPro_scRNA_141_samples_combined_adata.h5ad\")"
   ]
  },
  {
   "cell_type": "code",
   "execution_count": 4,
   "id": "99785839-eecb-46fa-b49f-e047821a1246",
   "metadata": {},
   "outputs": [
    {
     "data": {
      "text/plain": [
       "AnnData object with n_obs × n_vars = 2059581 × 33538\n",
       "    obs: 'barcodes', 'batch_id', 'cell_name', 'cell_uuid', 'chip_id', 'hto_barcode', 'hto_category', 'n_genes', 'n_mito_umis', 'n_reads', 'n_umis', 'original_barcodes', 'pbmc_sample_id', 'pool_id', 'well_id', 'sample.sampleKitGuid', 'cohort.cohortGuid', 'subject.subjectGuid', 'subject.biologicalSex', 'subject.race', 'subject.ethnicity', 'subject.birthYear', 'sample.visitName', 'sample.drawDate', 'sample.diseaseStatesRecordedAtVisit', 'sample.daysSinceFirstVisit', 'file.id', 'subset_grp', 'predicted_doublet', 'doublet_score', 'AIFI_L1', 'AIFI_L1_score', 'AIFI_L2', 'AIFI_L2_score', 'AIFI_L3', 'AIFI_L3_score', 'n_genes_by_counts', 'log1p_n_genes_by_counts', 'total_counts', 'log1p_total_counts', 'pct_counts_in_top_50_genes', 'pct_counts_in_top_100_genes', 'pct_counts_in_top_200_genes', 'pct_counts_in_top_500_genes', 'total_counts_mito', 'log1p_total_counts_mito', 'pct_counts_mito', 'leiden_harmony_2', 'doublets_manual', 'AIFI_L3_new', 'Status_Xsec', 'Status_Long', 'anti_ccp3_finalCombined', 'days_to_conversion', 'BMI', 'CMV_Status_Subj', 'age_conv', 'bmi_conv', 'file.batchID', 'status'\n",
       "    obsm: 'X_pca', 'X_pca_harmony', 'X_umap'"
      ]
     },
     "execution_count": 4,
     "metadata": {},
     "output_type": "execute_result"
    }
   ],
   "source": [
    "adata"
   ]
  },
  {
   "cell_type": "markdown",
   "id": "291ee5fa-395a-4081-898a-d0124f2404dc",
   "metadata": {},
   "source": [
    "# Creating CD4 T cell object for NMF projection"
   ]
  },
  {
   "cell_type": "code",
   "execution_count": 10,
   "id": "95739f3e-ffa7-4f6a-9f80-50e7e3da12e9",
   "metadata": {},
   "outputs": [
    {
     "data": {
      "text/plain": [
       "AnnData object with n_obs × n_vars = 2059581 × 33538\n",
       "    obs: 'barcodes', 'batch_id', 'cell_name', 'cell_uuid', 'chip_id', 'hto_barcode', 'hto_category', 'n_genes', 'n_mito_umis', 'n_reads', 'n_umis', 'original_barcodes', 'pbmc_sample_id', 'pool_id', 'well_id', 'sample.sampleKitGuid', 'cohort.cohortGuid', 'subject.subjectGuid', 'subject.biologicalSex', 'subject.race', 'subject.ethnicity', 'subject.birthYear', 'sample.visitName', 'sample.drawDate', 'sample.diseaseStatesRecordedAtVisit', 'sample.daysSinceFirstVisit', 'file.id', 'subset_grp', 'predicted_doublet', 'doublet_score', 'AIFI_L1', 'AIFI_L1_score', 'AIFI_L2', 'AIFI_L2_score', 'AIFI_L3', 'AIFI_L3_score', 'n_genes_by_counts', 'log1p_n_genes_by_counts', 'total_counts', 'log1p_total_counts', 'pct_counts_in_top_50_genes', 'pct_counts_in_top_100_genes', 'pct_counts_in_top_200_genes', 'pct_counts_in_top_500_genes', 'total_counts_mito', 'log1p_total_counts_mito', 'pct_counts_mito', 'leiden_harmony_2', 'doublets_manual', 'AIFI_L3_new', 'Status_Xsec', 'Status_Long', 'anti_ccp3_finalCombined', 'days_to_conversion', 'BMI', 'CMV_Status_Subj', 'age_conv', 'bmi_conv', 'file.batchID', 'status'\n",
       "    obsm: 'X_pca', 'X_pca_harmony', 'X_umap'"
      ]
     },
     "execution_count": 10,
     "metadata": {},
     "output_type": "execute_result"
    }
   ],
   "source": [
    "adata"
   ]
  },
  {
   "cell_type": "code",
   "execution_count": 11,
   "id": "1c86fdea-80ef-4bd2-ab1b-f04aa594cafc",
   "metadata": {},
   "outputs": [
    {
     "name": "stdout",
     "output_type": "stream",
     "text": [
      "CPU times: user 13.3 s, sys: 16.8 s, total: 30.1 s\n",
      "Wall time: 30.1 s\n"
     ]
    }
   ],
   "source": [
    "%%time\n",
    "\n",
    "# preserve counts\n",
    "adata.layers[\"counts\"] = adata.X.copy()"
   ]
  },
  {
   "cell_type": "code",
   "execution_count": 12,
   "id": "90c57d84-c0c6-40df-b4af-7a7b48b5c9fe",
   "metadata": {},
   "outputs": [
    {
     "data": {
      "text/plain": [
       "AnnData object with n_obs × n_vars = 2059581 × 33538\n",
       "    obs: 'barcodes', 'batch_id', 'cell_name', 'cell_uuid', 'chip_id', 'hto_barcode', 'hto_category', 'n_genes', 'n_mito_umis', 'n_reads', 'n_umis', 'original_barcodes', 'pbmc_sample_id', 'pool_id', 'well_id', 'sample.sampleKitGuid', 'cohort.cohortGuid', 'subject.subjectGuid', 'subject.biologicalSex', 'subject.race', 'subject.ethnicity', 'subject.birthYear', 'sample.visitName', 'sample.drawDate', 'sample.diseaseStatesRecordedAtVisit', 'sample.daysSinceFirstVisit', 'file.id', 'subset_grp', 'predicted_doublet', 'doublet_score', 'AIFI_L1', 'AIFI_L1_score', 'AIFI_L2', 'AIFI_L2_score', 'AIFI_L3', 'AIFI_L3_score', 'n_genes_by_counts', 'log1p_n_genes_by_counts', 'total_counts', 'log1p_total_counts', 'pct_counts_in_top_50_genes', 'pct_counts_in_top_100_genes', 'pct_counts_in_top_200_genes', 'pct_counts_in_top_500_genes', 'total_counts_mito', 'log1p_total_counts_mito', 'pct_counts_mito', 'leiden_harmony_2', 'doublets_manual', 'AIFI_L3_new', 'Status_Xsec', 'Status_Long', 'anti_ccp3_finalCombined', 'days_to_conversion', 'BMI', 'CMV_Status_Subj', 'age_conv', 'bmi_conv', 'file.batchID', 'status'\n",
       "    obsm: 'X_pca', 'X_pca_harmony', 'X_umap'\n",
       "    layers: 'counts'"
      ]
     },
     "execution_count": 12,
     "metadata": {},
     "output_type": "execute_result"
    }
   ],
   "source": [
    "adata"
   ]
  },
  {
   "cell_type": "code",
   "execution_count": 13,
   "id": "6454931e-f360-4c09-a040-e3dafe23c61b",
   "metadata": {},
   "outputs": [],
   "source": [
    "## clearing the obsm slot to runn the fresh analsysis and save the results \n",
    "adata.obsm.clear()"
   ]
  },
  {
   "cell_type": "code",
   "execution_count": 14,
   "id": "b355e1f1-5427-44e0-9c1f-e5c3275dee78",
   "metadata": {},
   "outputs": [
    {
     "data": {
      "text/plain": [
       "AnnData object with n_obs × n_vars = 2059581 × 33538\n",
       "    obs: 'barcodes', 'batch_id', 'cell_name', 'cell_uuid', 'chip_id', 'hto_barcode', 'hto_category', 'n_genes', 'n_mito_umis', 'n_reads', 'n_umis', 'original_barcodes', 'pbmc_sample_id', 'pool_id', 'well_id', 'sample.sampleKitGuid', 'cohort.cohortGuid', 'subject.subjectGuid', 'subject.biologicalSex', 'subject.race', 'subject.ethnicity', 'subject.birthYear', 'sample.visitName', 'sample.drawDate', 'sample.diseaseStatesRecordedAtVisit', 'sample.daysSinceFirstVisit', 'file.id', 'subset_grp', 'predicted_doublet', 'doublet_score', 'AIFI_L1', 'AIFI_L1_score', 'AIFI_L2', 'AIFI_L2_score', 'AIFI_L3', 'AIFI_L3_score', 'n_genes_by_counts', 'log1p_n_genes_by_counts', 'total_counts', 'log1p_total_counts', 'pct_counts_in_top_50_genes', 'pct_counts_in_top_100_genes', 'pct_counts_in_top_200_genes', 'pct_counts_in_top_500_genes', 'total_counts_mito', 'log1p_total_counts_mito', 'pct_counts_mito', 'leiden_harmony_2', 'doublets_manual', 'AIFI_L3_new', 'Status_Xsec', 'Status_Long', 'anti_ccp3_finalCombined', 'days_to_conversion', 'BMI', 'CMV_Status_Subj', 'age_conv', 'bmi_conv', 'file.batchID', 'status'\n",
       "    layers: 'counts'"
      ]
     },
     "execution_count": 14,
     "metadata": {},
     "output_type": "execute_result"
    }
   ],
   "source": [
    "adata"
   ]
  },
  {
   "cell_type": "code",
   "execution_count": 39,
   "id": "db790ace-94ee-4f1e-b15f-ac1425222b0d",
   "metadata": {},
   "outputs": [],
   "source": [
    "# Define the values you want to subset\n",
    "subset_values = ['Core naive CD4 T cell',\n",
    " 'CM CD4 T cell',\n",
    " 'GZMB- CD27+ EM CD4 T cell',\n",
    " 'CD4 MAIT',\n",
    " 'KLRB1+ memory CD4 Treg',\n",
    " 'KLRF1- GZMB+ CD27- memory CD4 T cell',\n",
    " 'Naive CD4 Treg',\n",
    " 'GZMB- CD27- EM CD4 T cell',\n",
    " 'ISG+ naive CD4 T cell',\n",
    " 'Memory CD4 Treg',\n",
    " 'ISG+ memory CD4 T cell',\n",
    " 'GZMK+ memory CD4 Treg',\n",
    " 'SOX4+ naive CD4 T cell',\n",
    "'Proliferating T cell']\n",
    "\n",
    "subset_a_dc = adata[adata.obs['AIFI_L3_new'].isin(subset_values)]"
   ]
  },
  {
   "cell_type": "code",
   "execution_count": 24,
   "id": "cc043904-a555-455d-b7a3-79f5a98bfce6",
   "metadata": {},
   "outputs": [
    {
     "data": {
      "text/plain": [
       "View of AnnData object with n_obs × n_vars = 888858 × 33538\n",
       "    obs: 'barcodes', 'batch_id', 'cell_name', 'cell_uuid', 'chip_id', 'hto_barcode', 'hto_category', 'n_genes', 'n_mito_umis', 'n_reads', 'n_umis', 'original_barcodes', 'pbmc_sample_id', 'pool_id', 'well_id', 'sample.sampleKitGuid', 'cohort.cohortGuid', 'subject.subjectGuid', 'subject.biologicalSex', 'subject.race', 'subject.ethnicity', 'subject.birthYear', 'sample.visitName', 'sample.drawDate', 'sample.diseaseStatesRecordedAtVisit', 'sample.daysSinceFirstVisit', 'file.id', 'subset_grp', 'predicted_doublet', 'doublet_score', 'AIFI_L1', 'AIFI_L1_score', 'AIFI_L2', 'AIFI_L2_score', 'AIFI_L3', 'AIFI_L3_score', 'n_genes_by_counts', 'log1p_n_genes_by_counts', 'total_counts', 'log1p_total_counts', 'pct_counts_in_top_50_genes', 'pct_counts_in_top_100_genes', 'pct_counts_in_top_200_genes', 'pct_counts_in_top_500_genes', 'total_counts_mito', 'log1p_total_counts_mito', 'pct_counts_mito', 'leiden_harmony_2', 'doublets_manual', 'AIFI_L3_new', 'Status_Xsec', 'Status_Long', 'Age2023', 'days_to_conversion', 'age_conv', 'bmi_conv', 'anti_ccp3_finalCombined', 'BMI', 'CMV_Status_Subj', 'status', 'file.batchID'\n",
       "    layers: 'counts'"
      ]
     },
     "execution_count": 24,
     "metadata": {},
     "output_type": "execute_result"
    }
   ],
   "source": [
    "subset_a_dc"
   ]
  },
  {
   "cell_type": "code",
   "execution_count": null,
   "id": "7bbb7a51-364b-40a1-a9a6-94163c3aa582",
   "metadata": {},
   "outputs": [],
   "source": [
    "# saving the object"
   ]
  },
  {
   "cell_type": "code",
   "execution_count": 40,
   "id": "bc277100-2433-4642-a9d2-faa54bf03a2b",
   "metadata": {},
   "outputs": [],
   "source": [
    "subset_a_dc.write(\"/home/jupyter/ALTRA_ANALYSIS/Deep_clean/certpro/py_files/ALTRA_Certpro_CD4_Tcell.h5ad\")"
   ]
  },
  {
   "cell_type": "code",
   "execution_count": null,
   "id": "13c61100-8d69-4094-b5ed-b3951712824a",
   "metadata": {},
   "outputs": [],
   "source": []
  }
 ],
 "metadata": {
  "kernelspec": {
   "display_name": "py_scrna",
   "language": "python",
   "name": "py_scrna"
  },
  "language_info": {
   "codemirror_mode": {
    "name": "ipython",
    "version": 3
   },
   "file_extension": ".py",
   "mimetype": "text/x-python",
   "name": "python",
   "nbconvert_exporter": "python",
   "pygments_lexer": "ipython3",
   "version": "3.11.7"
  }
 },
 "nbformat": 4,
 "nbformat_minor": 5
}
