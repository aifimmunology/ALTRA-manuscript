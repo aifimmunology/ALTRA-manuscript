{
 "cells": [
  {
   "cell_type": "markdown",
   "id": "a21180e2-2e67-44df-aebb-fec910d1f3a0",
   "metadata": {},
   "source": [
    "# CLR analysis"
   ]
  },
  {
   "cell_type": "code",
   "execution_count": 1,
   "id": "fc3bdc4a-fb2b-42d7-93ca-4786e2f4cb92",
   "metadata": {},
   "outputs": [],
   "source": [
    "\n",
    "# load libraries\n",
    "quiet_library <- function(...) {\n",
    "    suppressPackageStartupMessages(library(...))\n",
    "}\n",
    "quiet_library(tidyverse)\n",
    "quiet_library(Seurat)\n",
    "quiet_library(ggplot2)\n",
    "quiet_library(Matrix)\n",
    "#quiet_library(H5weaver)\n",
    "quiet_library(dplyr)\n",
    "quiet_library(viridis)\n",
    "quiet_library(harmony)\n",
    "#quiet_library(Nebulosa)\n",
    "quiet_library(future)\n",
    "quiet_library(future.apply)\n",
    "#quiet_library(H5weaver)\n",
    "quiet_library(SingleCellExperiment)\n",
    "#quiet_library(scCustomize)\n",
    "quiet_library(SeuratDisk)\n",
    "#quiet_library(SeuratData)\n",
    "quiet_library(ggpubr)\n",
    "quiet_library(knitr)\n",
    "quiet_library(plotly)\n",
    "quiet_library(lme4)\n",
    "quiet_library(ggpubr)"
   ]
  },
  {
   "cell_type": "code",
   "execution_count": 2,
   "id": "3e58ae97-c35d-47a8-9b0a-c7d541a8f6e7",
   "metadata": {},
   "outputs": [
    {
     "data": {
      "text/html": [
       "<strong>system:</strong> 64"
      ],
      "text/latex": [
       "\\textbf{system:} 64"
      ],
      "text/markdown": [
       "**system:** 64"
      ],
      "text/plain": [
       "system \n",
       "    64 "
      ]
     },
     "metadata": {},
     "output_type": "display_data"
    }
   ],
   "source": [
    "# Check number of cores\n",
    "future::availableCores()\n",
    "# Set up parallel processing to run when using 'future' functions \n",
    "future::plan(strategy = \"multicore\", workers = future::availableCores()-5)  \n",
    "options(future.globals.maxSize = 1000 * 1024^3)\n",
    "# to turn off parallel processing run line below\n",
    "# future::plan(strategy = \"sequential\")"
   ]
  },
  {
   "cell_type": "code",
   "execution_count": 3,
   "id": "78c09f3f-d29a-4383-834b-029b858aa43f",
   "metadata": {},
   "outputs": [],
   "source": [
    "# define the color palette to be used\n",
    "npg_color <- c(\"#E64B35FF\", \"#4DBBD5FF\", \"#00A087FF\", \"#3C5488FF\", \"#F39B7FFF\", \n",
    "               \"#8491B4FF\", \"#91D1C2FF\", \"#DC0000FF\", \"#7E6148FF\", \"#B09C85FF\")\n",
    "nejm_color <- c(\"#BC3C29FF\", \"#0072B5FF\", \"#E18727FF\", \"#20854EFF\", \"#7876B1FF\", \"#6F99ADFF\", \"#FFDC91FF\", \"#EE4C97FF\")\n",
    "jama_color <- c(\"#374E55FF\", \"#DF8F44FF\", \"#00A1D5FF\", \"#B24745FF\", \"#79AF97FF\", \"#6A6599FF\", \"#80796BFF\")\n",
    "jco_color <- c(\"#0073C2FF\", \"#EFC000FF\", \"#868686FF\", \"#CD534CFF\", \"#7AA6DCFF\", \"#003C67FF\", \"#8F7700FF\")\n",
    "cluster_colors <- c(\"#DC050C\", \"#FB8072\", \"#1965B0\", \"#7BAFDE\", \"#882E72\", \"#B17BA6\", \"#FF7F00\", \"#FDB462\", \"#E7298A\", \n",
    "    \"#E78AC3\", \"#33A02C\", \"#B2DF8A\", \"#55A1B1\", \"#8DD3C7\", \"#A6761D\", \"#E6AB02\", \"#7570B3\", \"#BEAED4\", \"#666666\", \"#999999\", \n",
    "    \"#aa8282\", \"#d4b7b7\", \"#8600bf\", \"#ba5ce3\", \"#808000\", \"#aeae5c\", \"#1e90ff\", \"#00bfff\", \"#56ff0d\", \"#ffff00\")\n",
    "\n",
    "cluster_colors_ext <- colorRampPalette(cluster_colors)(36)\n",
    "options(repr.plot.width = 10, repr.plot.height = 10)"
   ]
  },
  {
   "cell_type": "markdown",
   "id": "2a75b7b6-9eee-4408-afee-b86720510bb7",
   "metadata": {},
   "source": [
    "# Helper functions"
   ]
  },
  {
   "cell_type": "code",
   "execution_count": 4,
   "id": "9c5ca51e-f9d1-4b8e-bf4b-672224d5cce9",
   "metadata": {},
   "outputs": [],
   "source": [
    "# Defnie a function to do clr transformatin from frequency table\n",
    "FreqClrTran <- function(freq_table, freq_col='frequency_live', celltype_col='labels', sample_col='sample_id'){\n",
    "    require('compositions')\n",
    "    freq <- freq_table %>% select(all_of(c(freq_col, celltype_col, sample_col))) %>% \n",
    "        pivot_wider(id_cols = .data[[sample_col]], names_from =.data[[celltype_col]],\n",
    "                    values_from = .data[[freq_col]], values_fill=0)\n",
    "    freq_mx <- freq %>% select(-.data[[sample_col]]) %>% as.matrix()\n",
    "    rownames(freq_mx) <- freq[[sample_col]]\n",
    "    freq_clr <- compositions::clr(freq_mx) %>% as_tibble(rownames = sample_col) %>% \n",
    "        pivot_longer(cols=c(-.data[[sample_col]]), names_to = celltype_col, values_to = 'clr') \n",
    "    freq_meta_clr <- freq_table %>% full_join(freq_clr, by = c(sample_col,celltype_col))\n",
    "    return(freq_meta_clr)\n",
    "}\n"
   ]
  },
  {
   "cell_type": "code",
   "execution_count": 23,
   "id": "5d72b161-cbd7-45bd-a8af-fcf3843f4c67",
   "metadata": {},
   "outputs": [
    {
     "data": {
      "text/html": [
       "<table class=\"dataframe\">\n",
       "<caption>A data.frame: 3 × 21</caption>\n",
       "<thead>\n",
       "\t<tr><th></th><th scope=col>X</th><th scope=col>X0</th><th scope=col>X1</th><th scope=col>X2</th><th scope=col>X3</th><th scope=col>X4</th><th scope=col>X5</th><th scope=col>X6</th><th scope=col>X7</th><th scope=col>X8</th><th scope=col>⋯</th><th scope=col>X10</th><th scope=col>X11</th><th scope=col>X12</th><th scope=col>X13</th><th scope=col>X14</th><th scope=col>X15</th><th scope=col>X16</th><th scope=col>X17</th><th scope=col>X18</th><th scope=col>sample.sampleKitGuid</th></tr>\n",
       "\t<tr><th></th><th scope=col>&lt;chr&gt;</th><th scope=col>&lt;dbl&gt;</th><th scope=col>&lt;dbl&gt;</th><th scope=col>&lt;dbl&gt;</th><th scope=col>&lt;dbl&gt;</th><th scope=col>&lt;dbl&gt;</th><th scope=col>&lt;dbl&gt;</th><th scope=col>&lt;dbl&gt;</th><th scope=col>&lt;dbl&gt;</th><th scope=col>&lt;dbl&gt;</th><th scope=col>⋯</th><th scope=col>&lt;dbl&gt;</th><th scope=col>&lt;dbl&gt;</th><th scope=col>&lt;dbl&gt;</th><th scope=col>&lt;dbl&gt;</th><th scope=col>&lt;dbl&gt;</th><th scope=col>&lt;dbl&gt;</th><th scope=col>&lt;dbl&gt;</th><th scope=col>&lt;dbl&gt;</th><th scope=col>&lt;dbl&gt;</th><th scope=col>&lt;chr&gt;</th></tr>\n",
       "</thead>\n",
       "<tbody>\n",
       "\t<tr><th scope=row>1</th><td>KT00052</td><td>0.1042383</td><td>0.07073310</td><td>0.09621993</td><td>0.06872852</td><td>0.07646048</td><td>0.09765178</td><td>0.07273769</td><td>0.05126002</td><td>0.06386025</td><td>⋯</td><td>0.06386025</td><td>0.02978236</td><td>0.04696449</td><td>0.005727377</td><td>0.02949599</td><td>0.02691867</td><td>0.02290951</td><td>0.016609393</td><td>0.002290951</td><td>KT00052</td></tr>\n",
       "\t<tr><th scope=row>2</th><td>KT00055</td><td>0.1823836</td><td>0.02367576</td><td>0.05136437</td><td>0.08667737</td><td>0.03972713</td><td>0.06059390</td><td>0.09731140</td><td>0.05457464</td><td>0.03390851</td><td>⋯</td><td>0.04313804</td><td>0.02929374</td><td>0.04674960</td><td>0.110152488</td><td>0.04373997</td><td>0.01444623</td><td>0.02407705</td><td>0.008226324</td><td>0.000000000</td><td>KT00055</td></tr>\n",
       "\t<tr><th scope=row>3</th><td>KT00056</td><td>0.1757411</td><td>0.04779189</td><td>0.12371446</td><td>0.06352087</td><td>0.08197217</td><td>0.06563823</td><td>0.07743497</td><td>0.03690260</td><td>0.05293406</td><td>⋯</td><td>0.06261343</td><td>0.02631579</td><td>0.02964307</td><td>0.002722323</td><td>0.03781004</td><td>0.02903811</td><td>0.01482154</td><td>0.007864489</td><td>0.000000000</td><td>KT00056</td></tr>\n",
       "</tbody>\n",
       "</table>\n"
      ],
      "text/latex": [
       "A data.frame: 3 × 21\n",
       "\\begin{tabular}{r|lllllllllllllllllllll}\n",
       "  & X & X0 & X1 & X2 & X3 & X4 & X5 & X6 & X7 & X8 & ⋯ & X10 & X11 & X12 & X13 & X14 & X15 & X16 & X17 & X18 & sample.sampleKitGuid\\\\\n",
       "  & <chr> & <dbl> & <dbl> & <dbl> & <dbl> & <dbl> & <dbl> & <dbl> & <dbl> & <dbl> & ⋯ & <dbl> & <dbl> & <dbl> & <dbl> & <dbl> & <dbl> & <dbl> & <dbl> & <dbl> & <chr>\\\\\n",
       "\\hline\n",
       "\t1 & KT00052 & 0.1042383 & 0.07073310 & 0.09621993 & 0.06872852 & 0.07646048 & 0.09765178 & 0.07273769 & 0.05126002 & 0.06386025 & ⋯ & 0.06386025 & 0.02978236 & 0.04696449 & 0.005727377 & 0.02949599 & 0.02691867 & 0.02290951 & 0.016609393 & 0.002290951 & KT00052\\\\\n",
       "\t2 & KT00055 & 0.1823836 & 0.02367576 & 0.05136437 & 0.08667737 & 0.03972713 & 0.06059390 & 0.09731140 & 0.05457464 & 0.03390851 & ⋯ & 0.04313804 & 0.02929374 & 0.04674960 & 0.110152488 & 0.04373997 & 0.01444623 & 0.02407705 & 0.008226324 & 0.000000000 & KT00055\\\\\n",
       "\t3 & KT00056 & 0.1757411 & 0.04779189 & 0.12371446 & 0.06352087 & 0.08197217 & 0.06563823 & 0.07743497 & 0.03690260 & 0.05293406 & ⋯ & 0.06261343 & 0.02631579 & 0.02964307 & 0.002722323 & 0.03781004 & 0.02903811 & 0.01482154 & 0.007864489 & 0.000000000 & KT00056\\\\\n",
       "\\end{tabular}\n"
      ],
      "text/markdown": [
       "\n",
       "A data.frame: 3 × 21\n",
       "\n",
       "| <!--/--> | X &lt;chr&gt; | X0 &lt;dbl&gt; | X1 &lt;dbl&gt; | X2 &lt;dbl&gt; | X3 &lt;dbl&gt; | X4 &lt;dbl&gt; | X5 &lt;dbl&gt; | X6 &lt;dbl&gt; | X7 &lt;dbl&gt; | X8 &lt;dbl&gt; | ⋯ ⋯ | X10 &lt;dbl&gt; | X11 &lt;dbl&gt; | X12 &lt;dbl&gt; | X13 &lt;dbl&gt; | X14 &lt;dbl&gt; | X15 &lt;dbl&gt; | X16 &lt;dbl&gt; | X17 &lt;dbl&gt; | X18 &lt;dbl&gt; | sample.sampleKitGuid &lt;chr&gt; |\n",
       "|---|---|---|---|---|---|---|---|---|---|---|---|---|---|---|---|---|---|---|---|---|---|\n",
       "| 1 | KT00052 | 0.1042383 | 0.07073310 | 0.09621993 | 0.06872852 | 0.07646048 | 0.09765178 | 0.07273769 | 0.05126002 | 0.06386025 | ⋯ | 0.06386025 | 0.02978236 | 0.04696449 | 0.005727377 | 0.02949599 | 0.02691867 | 0.02290951 | 0.016609393 | 0.002290951 | KT00052 |\n",
       "| 2 | KT00055 | 0.1823836 | 0.02367576 | 0.05136437 | 0.08667737 | 0.03972713 | 0.06059390 | 0.09731140 | 0.05457464 | 0.03390851 | ⋯ | 0.04313804 | 0.02929374 | 0.04674960 | 0.110152488 | 0.04373997 | 0.01444623 | 0.02407705 | 0.008226324 | 0.000000000 | KT00055 |\n",
       "| 3 | KT00056 | 0.1757411 | 0.04779189 | 0.12371446 | 0.06352087 | 0.08197217 | 0.06563823 | 0.07743497 | 0.03690260 | 0.05293406 | ⋯ | 0.06261343 | 0.02631579 | 0.02964307 | 0.002722323 | 0.03781004 | 0.02903811 | 0.01482154 | 0.007864489 | 0.000000000 | KT00056 |\n",
       "\n"
      ],
      "text/plain": [
       "  X       X0        X1         X2         X3         X4         X5        \n",
       "1 KT00052 0.1042383 0.07073310 0.09621993 0.06872852 0.07646048 0.09765178\n",
       "2 KT00055 0.1823836 0.02367576 0.05136437 0.08667737 0.03972713 0.06059390\n",
       "3 KT00056 0.1757411 0.04779189 0.12371446 0.06352087 0.08197217 0.06563823\n",
       "  X6         X7         X8         ⋯ X10        X11        X12       \n",
       "1 0.07273769 0.05126002 0.06386025 ⋯ 0.06386025 0.02978236 0.04696449\n",
       "2 0.09731140 0.05457464 0.03390851 ⋯ 0.04313804 0.02929374 0.04674960\n",
       "3 0.07743497 0.03690260 0.05293406 ⋯ 0.06261343 0.02631579 0.02964307\n",
       "  X13         X14        X15        X16        X17         X18        \n",
       "1 0.005727377 0.02949599 0.02691867 0.02290951 0.016609393 0.002290951\n",
       "2 0.110152488 0.04373997 0.01444623 0.02407705 0.008226324 0.000000000\n",
       "3 0.002722323 0.03781004 0.02903811 0.01482154 0.007864489 0.000000000\n",
       "  sample.sampleKitGuid\n",
       "1 KT00052             \n",
       "2 KT00055             \n",
       "3 KT00056             "
      ]
     },
     "metadata": {},
     "output_type": "display_data"
    }
   ],
   "source": [
    "# read the frequency file\n",
    "Freq_file=read.csv(\"/home/jupyter/ALTRA_ANALYSIS/Deep_clean/certpro/output_files/CD4T_mem_certpro_Cluster_freq_res_0.4_py.csv\")\n",
    "Freq_file%>%head(3)"
   ]
  },
  {
   "cell_type": "code",
   "execution_count": 24,
   "id": "1533bc11-1dab-4517-aa21-e11cdd6d4904",
   "metadata": {
    "scrolled": true
   },
   "outputs": [
    {
     "data": {
      "text/html": [
       "<table class=\"dataframe\">\n",
       "<caption>A data.frame: 3 × 20</caption>\n",
       "<thead>\n",
       "\t<tr><th></th><th scope=col>X0</th><th scope=col>X1</th><th scope=col>X2</th><th scope=col>X3</th><th scope=col>X4</th><th scope=col>X5</th><th scope=col>X6</th><th scope=col>X7</th><th scope=col>X8</th><th scope=col>X9</th><th scope=col>X10</th><th scope=col>X11</th><th scope=col>X12</th><th scope=col>X13</th><th scope=col>X14</th><th scope=col>X15</th><th scope=col>X16</th><th scope=col>X17</th><th scope=col>X18</th><th scope=col>sample.sampleKitGuid</th></tr>\n",
       "\t<tr><th></th><th scope=col>&lt;dbl&gt;</th><th scope=col>&lt;dbl&gt;</th><th scope=col>&lt;dbl&gt;</th><th scope=col>&lt;dbl&gt;</th><th scope=col>&lt;dbl&gt;</th><th scope=col>&lt;dbl&gt;</th><th scope=col>&lt;dbl&gt;</th><th scope=col>&lt;dbl&gt;</th><th scope=col>&lt;dbl&gt;</th><th scope=col>&lt;dbl&gt;</th><th scope=col>&lt;dbl&gt;</th><th scope=col>&lt;dbl&gt;</th><th scope=col>&lt;dbl&gt;</th><th scope=col>&lt;dbl&gt;</th><th scope=col>&lt;dbl&gt;</th><th scope=col>&lt;dbl&gt;</th><th scope=col>&lt;dbl&gt;</th><th scope=col>&lt;dbl&gt;</th><th scope=col>&lt;dbl&gt;</th><th scope=col>&lt;chr&gt;</th></tr>\n",
       "</thead>\n",
       "<tbody>\n",
       "\t<tr><th scope=row>1</th><td>0.1042383</td><td>0.07073310</td><td>0.09621993</td><td>0.06872852</td><td>0.07646048</td><td>0.09765178</td><td>0.07273769</td><td>0.05126002</td><td>0.06386025</td><td>0.05355097</td><td>0.06386025</td><td>0.02978236</td><td>0.04696449</td><td>0.005727377</td><td>0.02949599</td><td>0.02691867</td><td>0.02290951</td><td>0.016609393</td><td>0.002290951</td><td>KT00052</td></tr>\n",
       "\t<tr><th scope=row>2</th><td>0.1823836</td><td>0.02367576</td><td>0.05136437</td><td>0.08667737</td><td>0.03972713</td><td>0.06059390</td><td>0.09731140</td><td>0.05457464</td><td>0.03390851</td><td>0.04995987</td><td>0.04313804</td><td>0.02929374</td><td>0.04674960</td><td>0.110152488</td><td>0.04373997</td><td>0.01444623</td><td>0.02407705</td><td>0.008226324</td><td>0.000000000</td><td>KT00055</td></tr>\n",
       "\t<tr><th scope=row>3</th><td>0.1757411</td><td>0.04779189</td><td>0.12371446</td><td>0.06352087</td><td>0.08197217</td><td>0.06563823</td><td>0.07743497</td><td>0.03690260</td><td>0.05293406</td><td>0.06352087</td><td>0.06261343</td><td>0.02631579</td><td>0.02964307</td><td>0.002722323</td><td>0.03781004</td><td>0.02903811</td><td>0.01482154</td><td>0.007864489</td><td>0.000000000</td><td>KT00056</td></tr>\n",
       "</tbody>\n",
       "</table>\n"
      ],
      "text/latex": [
       "A data.frame: 3 × 20\n",
       "\\begin{tabular}{r|llllllllllllllllllll}\n",
       "  & X0 & X1 & X2 & X3 & X4 & X5 & X6 & X7 & X8 & X9 & X10 & X11 & X12 & X13 & X14 & X15 & X16 & X17 & X18 & sample.sampleKitGuid\\\\\n",
       "  & <dbl> & <dbl> & <dbl> & <dbl> & <dbl> & <dbl> & <dbl> & <dbl> & <dbl> & <dbl> & <dbl> & <dbl> & <dbl> & <dbl> & <dbl> & <dbl> & <dbl> & <dbl> & <dbl> & <chr>\\\\\n",
       "\\hline\n",
       "\t1 & 0.1042383 & 0.07073310 & 0.09621993 & 0.06872852 & 0.07646048 & 0.09765178 & 0.07273769 & 0.05126002 & 0.06386025 & 0.05355097 & 0.06386025 & 0.02978236 & 0.04696449 & 0.005727377 & 0.02949599 & 0.02691867 & 0.02290951 & 0.016609393 & 0.002290951 & KT00052\\\\\n",
       "\t2 & 0.1823836 & 0.02367576 & 0.05136437 & 0.08667737 & 0.03972713 & 0.06059390 & 0.09731140 & 0.05457464 & 0.03390851 & 0.04995987 & 0.04313804 & 0.02929374 & 0.04674960 & 0.110152488 & 0.04373997 & 0.01444623 & 0.02407705 & 0.008226324 & 0.000000000 & KT00055\\\\\n",
       "\t3 & 0.1757411 & 0.04779189 & 0.12371446 & 0.06352087 & 0.08197217 & 0.06563823 & 0.07743497 & 0.03690260 & 0.05293406 & 0.06352087 & 0.06261343 & 0.02631579 & 0.02964307 & 0.002722323 & 0.03781004 & 0.02903811 & 0.01482154 & 0.007864489 & 0.000000000 & KT00056\\\\\n",
       "\\end{tabular}\n"
      ],
      "text/markdown": [
       "\n",
       "A data.frame: 3 × 20\n",
       "\n",
       "| <!--/--> | X0 &lt;dbl&gt; | X1 &lt;dbl&gt; | X2 &lt;dbl&gt; | X3 &lt;dbl&gt; | X4 &lt;dbl&gt; | X5 &lt;dbl&gt; | X6 &lt;dbl&gt; | X7 &lt;dbl&gt; | X8 &lt;dbl&gt; | X9 &lt;dbl&gt; | X10 &lt;dbl&gt; | X11 &lt;dbl&gt; | X12 &lt;dbl&gt; | X13 &lt;dbl&gt; | X14 &lt;dbl&gt; | X15 &lt;dbl&gt; | X16 &lt;dbl&gt; | X17 &lt;dbl&gt; | X18 &lt;dbl&gt; | sample.sampleKitGuid &lt;chr&gt; |\n",
       "|---|---|---|---|---|---|---|---|---|---|---|---|---|---|---|---|---|---|---|---|---|\n",
       "| 1 | 0.1042383 | 0.07073310 | 0.09621993 | 0.06872852 | 0.07646048 | 0.09765178 | 0.07273769 | 0.05126002 | 0.06386025 | 0.05355097 | 0.06386025 | 0.02978236 | 0.04696449 | 0.005727377 | 0.02949599 | 0.02691867 | 0.02290951 | 0.016609393 | 0.002290951 | KT00052 |\n",
       "| 2 | 0.1823836 | 0.02367576 | 0.05136437 | 0.08667737 | 0.03972713 | 0.06059390 | 0.09731140 | 0.05457464 | 0.03390851 | 0.04995987 | 0.04313804 | 0.02929374 | 0.04674960 | 0.110152488 | 0.04373997 | 0.01444623 | 0.02407705 | 0.008226324 | 0.000000000 | KT00055 |\n",
       "| 3 | 0.1757411 | 0.04779189 | 0.12371446 | 0.06352087 | 0.08197217 | 0.06563823 | 0.07743497 | 0.03690260 | 0.05293406 | 0.06352087 | 0.06261343 | 0.02631579 | 0.02964307 | 0.002722323 | 0.03781004 | 0.02903811 | 0.01482154 | 0.007864489 | 0.000000000 | KT00056 |\n",
       "\n"
      ],
      "text/plain": [
       "  X0        X1         X2         X3         X4         X5         X6        \n",
       "1 0.1042383 0.07073310 0.09621993 0.06872852 0.07646048 0.09765178 0.07273769\n",
       "2 0.1823836 0.02367576 0.05136437 0.08667737 0.03972713 0.06059390 0.09731140\n",
       "3 0.1757411 0.04779189 0.12371446 0.06352087 0.08197217 0.06563823 0.07743497\n",
       "  X7         X8         X9         X10        X11        X12        X13        \n",
       "1 0.05126002 0.06386025 0.05355097 0.06386025 0.02978236 0.04696449 0.005727377\n",
       "2 0.05457464 0.03390851 0.04995987 0.04313804 0.02929374 0.04674960 0.110152488\n",
       "3 0.03690260 0.05293406 0.06352087 0.06261343 0.02631579 0.02964307 0.002722323\n",
       "  X14        X15        X16        X17         X18         sample.sampleKitGuid\n",
       "1 0.02949599 0.02691867 0.02290951 0.016609393 0.002290951 KT00052             \n",
       "2 0.04373997 0.01444623 0.02407705 0.008226324 0.000000000 KT00055             \n",
       "3 0.03781004 0.02903811 0.01482154 0.007864489 0.000000000 KT00056             "
      ]
     },
     "metadata": {},
     "output_type": "display_data"
    }
   ],
   "source": [
    "Freq_file1=Freq_file%>%select(-X)\n",
    "Freq_file1%>%head(3)"
   ]
  },
  {
   "cell_type": "code",
   "execution_count": 25,
   "id": "dc0ca774-1348-4d5f-8a28-da1c460dffc5",
   "metadata": {},
   "outputs": [],
   "source": [
    "# Replace column names starting with \"X\" with \"cluster\"\n",
    "new_colnames <- gsub(\"^X\", \"cluster\", colnames(Freq_file1))\n",
    "\n",
    "# Assign new column names to the data frame\n",
    "colnames(Freq_file1) <- new_colnames"
   ]
  },
  {
   "cell_type": "code",
   "execution_count": 26,
   "id": "8f8035ef-73c3-49d9-941e-2bd9c48b4ad5",
   "metadata": {},
   "outputs": [
    {
     "data": {
      "text/html": [
       "<table class=\"dataframe\">\n",
       "<caption>A data.frame: 3 × 20</caption>\n",
       "<thead>\n",
       "\t<tr><th></th><th scope=col>cluster0</th><th scope=col>cluster1</th><th scope=col>cluster2</th><th scope=col>cluster3</th><th scope=col>cluster4</th><th scope=col>cluster5</th><th scope=col>cluster6</th><th scope=col>cluster7</th><th scope=col>cluster8</th><th scope=col>cluster9</th><th scope=col>cluster10</th><th scope=col>cluster11</th><th scope=col>cluster12</th><th scope=col>cluster13</th><th scope=col>cluster14</th><th scope=col>cluster15</th><th scope=col>cluster16</th><th scope=col>cluster17</th><th scope=col>cluster18</th><th scope=col>sample.sampleKitGuid</th></tr>\n",
       "\t<tr><th></th><th scope=col>&lt;dbl&gt;</th><th scope=col>&lt;dbl&gt;</th><th scope=col>&lt;dbl&gt;</th><th scope=col>&lt;dbl&gt;</th><th scope=col>&lt;dbl&gt;</th><th scope=col>&lt;dbl&gt;</th><th scope=col>&lt;dbl&gt;</th><th scope=col>&lt;dbl&gt;</th><th scope=col>&lt;dbl&gt;</th><th scope=col>&lt;dbl&gt;</th><th scope=col>&lt;dbl&gt;</th><th scope=col>&lt;dbl&gt;</th><th scope=col>&lt;dbl&gt;</th><th scope=col>&lt;dbl&gt;</th><th scope=col>&lt;dbl&gt;</th><th scope=col>&lt;dbl&gt;</th><th scope=col>&lt;dbl&gt;</th><th scope=col>&lt;dbl&gt;</th><th scope=col>&lt;dbl&gt;</th><th scope=col>&lt;chr&gt;</th></tr>\n",
       "</thead>\n",
       "<tbody>\n",
       "\t<tr><th scope=row>1</th><td>0.1042383</td><td>0.07073310</td><td>0.09621993</td><td>0.06872852</td><td>0.07646048</td><td>0.09765178</td><td>0.07273769</td><td>0.05126002</td><td>0.06386025</td><td>0.05355097</td><td>0.06386025</td><td>0.02978236</td><td>0.04696449</td><td>0.005727377</td><td>0.02949599</td><td>0.02691867</td><td>0.02290951</td><td>0.016609393</td><td>0.002290951</td><td>KT00052</td></tr>\n",
       "\t<tr><th scope=row>2</th><td>0.1823836</td><td>0.02367576</td><td>0.05136437</td><td>0.08667737</td><td>0.03972713</td><td>0.06059390</td><td>0.09731140</td><td>0.05457464</td><td>0.03390851</td><td>0.04995987</td><td>0.04313804</td><td>0.02929374</td><td>0.04674960</td><td>0.110152488</td><td>0.04373997</td><td>0.01444623</td><td>0.02407705</td><td>0.008226324</td><td>0.000000000</td><td>KT00055</td></tr>\n",
       "\t<tr><th scope=row>3</th><td>0.1757411</td><td>0.04779189</td><td>0.12371446</td><td>0.06352087</td><td>0.08197217</td><td>0.06563823</td><td>0.07743497</td><td>0.03690260</td><td>0.05293406</td><td>0.06352087</td><td>0.06261343</td><td>0.02631579</td><td>0.02964307</td><td>0.002722323</td><td>0.03781004</td><td>0.02903811</td><td>0.01482154</td><td>0.007864489</td><td>0.000000000</td><td>KT00056</td></tr>\n",
       "</tbody>\n",
       "</table>\n"
      ],
      "text/latex": [
       "A data.frame: 3 × 20\n",
       "\\begin{tabular}{r|llllllllllllllllllll}\n",
       "  & cluster0 & cluster1 & cluster2 & cluster3 & cluster4 & cluster5 & cluster6 & cluster7 & cluster8 & cluster9 & cluster10 & cluster11 & cluster12 & cluster13 & cluster14 & cluster15 & cluster16 & cluster17 & cluster18 & sample.sampleKitGuid\\\\\n",
       "  & <dbl> & <dbl> & <dbl> & <dbl> & <dbl> & <dbl> & <dbl> & <dbl> & <dbl> & <dbl> & <dbl> & <dbl> & <dbl> & <dbl> & <dbl> & <dbl> & <dbl> & <dbl> & <dbl> & <chr>\\\\\n",
       "\\hline\n",
       "\t1 & 0.1042383 & 0.07073310 & 0.09621993 & 0.06872852 & 0.07646048 & 0.09765178 & 0.07273769 & 0.05126002 & 0.06386025 & 0.05355097 & 0.06386025 & 0.02978236 & 0.04696449 & 0.005727377 & 0.02949599 & 0.02691867 & 0.02290951 & 0.016609393 & 0.002290951 & KT00052\\\\\n",
       "\t2 & 0.1823836 & 0.02367576 & 0.05136437 & 0.08667737 & 0.03972713 & 0.06059390 & 0.09731140 & 0.05457464 & 0.03390851 & 0.04995987 & 0.04313804 & 0.02929374 & 0.04674960 & 0.110152488 & 0.04373997 & 0.01444623 & 0.02407705 & 0.008226324 & 0.000000000 & KT00055\\\\\n",
       "\t3 & 0.1757411 & 0.04779189 & 0.12371446 & 0.06352087 & 0.08197217 & 0.06563823 & 0.07743497 & 0.03690260 & 0.05293406 & 0.06352087 & 0.06261343 & 0.02631579 & 0.02964307 & 0.002722323 & 0.03781004 & 0.02903811 & 0.01482154 & 0.007864489 & 0.000000000 & KT00056\\\\\n",
       "\\end{tabular}\n"
      ],
      "text/markdown": [
       "\n",
       "A data.frame: 3 × 20\n",
       "\n",
       "| <!--/--> | cluster0 &lt;dbl&gt; | cluster1 &lt;dbl&gt; | cluster2 &lt;dbl&gt; | cluster3 &lt;dbl&gt; | cluster4 &lt;dbl&gt; | cluster5 &lt;dbl&gt; | cluster6 &lt;dbl&gt; | cluster7 &lt;dbl&gt; | cluster8 &lt;dbl&gt; | cluster9 &lt;dbl&gt; | cluster10 &lt;dbl&gt; | cluster11 &lt;dbl&gt; | cluster12 &lt;dbl&gt; | cluster13 &lt;dbl&gt; | cluster14 &lt;dbl&gt; | cluster15 &lt;dbl&gt; | cluster16 &lt;dbl&gt; | cluster17 &lt;dbl&gt; | cluster18 &lt;dbl&gt; | sample.sampleKitGuid &lt;chr&gt; |\n",
       "|---|---|---|---|---|---|---|---|---|---|---|---|---|---|---|---|---|---|---|---|---|\n",
       "| 1 | 0.1042383 | 0.07073310 | 0.09621993 | 0.06872852 | 0.07646048 | 0.09765178 | 0.07273769 | 0.05126002 | 0.06386025 | 0.05355097 | 0.06386025 | 0.02978236 | 0.04696449 | 0.005727377 | 0.02949599 | 0.02691867 | 0.02290951 | 0.016609393 | 0.002290951 | KT00052 |\n",
       "| 2 | 0.1823836 | 0.02367576 | 0.05136437 | 0.08667737 | 0.03972713 | 0.06059390 | 0.09731140 | 0.05457464 | 0.03390851 | 0.04995987 | 0.04313804 | 0.02929374 | 0.04674960 | 0.110152488 | 0.04373997 | 0.01444623 | 0.02407705 | 0.008226324 | 0.000000000 | KT00055 |\n",
       "| 3 | 0.1757411 | 0.04779189 | 0.12371446 | 0.06352087 | 0.08197217 | 0.06563823 | 0.07743497 | 0.03690260 | 0.05293406 | 0.06352087 | 0.06261343 | 0.02631579 | 0.02964307 | 0.002722323 | 0.03781004 | 0.02903811 | 0.01482154 | 0.007864489 | 0.000000000 | KT00056 |\n",
       "\n"
      ],
      "text/plain": [
       "  cluster0  cluster1   cluster2   cluster3   cluster4   cluster5   cluster6  \n",
       "1 0.1042383 0.07073310 0.09621993 0.06872852 0.07646048 0.09765178 0.07273769\n",
       "2 0.1823836 0.02367576 0.05136437 0.08667737 0.03972713 0.06059390 0.09731140\n",
       "3 0.1757411 0.04779189 0.12371446 0.06352087 0.08197217 0.06563823 0.07743497\n",
       "  cluster7   cluster8   cluster9   cluster10  cluster11  cluster12  cluster13  \n",
       "1 0.05126002 0.06386025 0.05355097 0.06386025 0.02978236 0.04696449 0.005727377\n",
       "2 0.05457464 0.03390851 0.04995987 0.04313804 0.02929374 0.04674960 0.110152488\n",
       "3 0.03690260 0.05293406 0.06352087 0.06261343 0.02631579 0.02964307 0.002722323\n",
       "  cluster14  cluster15  cluster16  cluster17   cluster18   sample.sampleKitGuid\n",
       "1 0.02949599 0.02691867 0.02290951 0.016609393 0.002290951 KT00052             \n",
       "2 0.04373997 0.01444623 0.02407705 0.008226324 0.000000000 KT00055             \n",
       "3 0.03781004 0.02903811 0.01482154 0.007864489 0.000000000 KT00056             "
      ]
     },
     "metadata": {},
     "output_type": "display_data"
    }
   ],
   "source": [
    "Freq_file1%>%head(3)"
   ]
  },
  {
   "cell_type": "code",
   "execution_count": 28,
   "id": "0b2a0ae6-e8ca-48ec-a8a4-133bd4fdcf19",
   "metadata": {},
   "outputs": [
    {
     "data": {
      "text/html": [
       "<table class=\"dataframe\">\n",
       "<caption>A tibble: 6 × 3</caption>\n",
       "<thead>\n",
       "\t<tr><th scope=col>sample.sampleKitGuid</th><th scope=col>clusters</th><th scope=col>frequency_live</th></tr>\n",
       "\t<tr><th scope=col>&lt;chr&gt;</th><th scope=col>&lt;chr&gt;</th><th scope=col>&lt;dbl&gt;</th></tr>\n",
       "</thead>\n",
       "<tbody>\n",
       "\t<tr><td>KT00052</td><td>cluster0</td><td>0.10423826</td></tr>\n",
       "\t<tr><td>KT00052</td><td>cluster1</td><td>0.07073310</td></tr>\n",
       "\t<tr><td>KT00052</td><td>cluster2</td><td>0.09621993</td></tr>\n",
       "\t<tr><td>KT00052</td><td>cluster3</td><td>0.06872852</td></tr>\n",
       "\t<tr><td>KT00052</td><td>cluster4</td><td>0.07646048</td></tr>\n",
       "\t<tr><td>KT00052</td><td>cluster5</td><td>0.09765178</td></tr>\n",
       "</tbody>\n",
       "</table>\n"
      ],
      "text/latex": [
       "A tibble: 6 × 3\n",
       "\\begin{tabular}{lll}\n",
       " sample.sampleKitGuid & clusters & frequency\\_live\\\\\n",
       " <chr> & <chr> & <dbl>\\\\\n",
       "\\hline\n",
       "\t KT00052 & cluster0 & 0.10423826\\\\\n",
       "\t KT00052 & cluster1 & 0.07073310\\\\\n",
       "\t KT00052 & cluster2 & 0.09621993\\\\\n",
       "\t KT00052 & cluster3 & 0.06872852\\\\\n",
       "\t KT00052 & cluster4 & 0.07646048\\\\\n",
       "\t KT00052 & cluster5 & 0.09765178\\\\\n",
       "\\end{tabular}\n"
      ],
      "text/markdown": [
       "\n",
       "A tibble: 6 × 3\n",
       "\n",
       "| sample.sampleKitGuid &lt;chr&gt; | clusters &lt;chr&gt; | frequency_live &lt;dbl&gt; |\n",
       "|---|---|---|\n",
       "| KT00052 | cluster0 | 0.10423826 |\n",
       "| KT00052 | cluster1 | 0.07073310 |\n",
       "| KT00052 | cluster2 | 0.09621993 |\n",
       "| KT00052 | cluster3 | 0.06872852 |\n",
       "| KT00052 | cluster4 | 0.07646048 |\n",
       "| KT00052 | cluster5 | 0.09765178 |\n",
       "\n"
      ],
      "text/plain": [
       "  sample.sampleKitGuid clusters frequency_live\n",
       "1 KT00052              cluster0 0.10423826    \n",
       "2 KT00052              cluster1 0.07073310    \n",
       "3 KT00052              cluster2 0.09621993    \n",
       "4 KT00052              cluster3 0.06872852    \n",
       "5 KT00052              cluster4 0.07646048    \n",
       "6 KT00052              cluster5 0.09765178    "
      ]
     },
     "metadata": {},
     "output_type": "display_data"
    }
   ],
   "source": [
    "\n",
    "value_vars <- c(\"cluster0\", \"cluster1\", \"cluster2\", \"cluster3\", \"cluster4\", \n",
    "                   \"cluster5\", \"cluster6\", \"cluster7\", \"cluster8\", \"cluster9\",\n",
    "                   \"cluster10\", \"cluster11\", \"cluster12\", \"cluster13\", \n",
    "                   \"cluster14\", \"cluster15\", \"cluster16\", \"cluster17\", \n",
    "                   \"cluster18\"#, \"cluster19\",\"cluster20\"\n",
    "                   )\n",
    "# Pivot the DataFrame long with 'clusters' as the new column\n",
    "pivoted_df <- Freq_file1 %>%\n",
    "  pivot_longer(cols = all_of(value_vars), names_to = 'clusters', values_to = 'frequency_live')\n",
    "\n",
    "# Display the pivoted DataFrame\n",
    "head(pivoted_df)"
   ]
  },
  {
   "cell_type": "code",
   "execution_count": 29,
   "id": "c27c73b6-0da4-471e-8f71-08d9e0594a14",
   "metadata": {},
   "outputs": [],
   "source": [
    "pivoted_df1_clr <- FreqClrTran(pivoted_df, freq_col='frequency_live',\n",
    "                                   celltype_col='clusters', \n",
    "                          sample_col='sample.sampleKitGuid')"
   ]
  },
  {
   "cell_type": "code",
   "execution_count": 30,
   "id": "f845c0d2-7f13-4ccb-aacf-9fff4ee7ec1e",
   "metadata": {},
   "outputs": [
    {
     "data": {
      "text/html": [
       "<table class=\"dataframe\">\n",
       "<caption>A tibble: 6 × 4</caption>\n",
       "<thead>\n",
       "\t<tr><th scope=col>sample.sampleKitGuid</th><th scope=col>clusters</th><th scope=col>frequency_live</th><th scope=col>clr</th></tr>\n",
       "\t<tr><th scope=col>&lt;chr&gt;</th><th scope=col>&lt;chr&gt;</th><th scope=col>&lt;dbl&gt;</th><th scope=col>&lt;dbl&gt;</th></tr>\n",
       "</thead>\n",
       "<tbody>\n",
       "\t<tr><td>KT00052</td><td>cluster0</td><td>0.10423826</td><td>0.9848633</td></tr>\n",
       "\t<tr><td>KT00052</td><td>cluster1</td><td>0.07073310</td><td>0.5970978</td></tr>\n",
       "\t<tr><td>KT00052</td><td>cluster2</td><td>0.09621993</td><td>0.9048206</td></tr>\n",
       "\t<tr><td>KT00052</td><td>cluster3</td><td>0.06872852</td><td>0.5683484</td></tr>\n",
       "\t<tr><td>KT00052</td><td>cluster4</td><td>0.07646048</td><td>0.6749581</td></tr>\n",
       "\t<tr><td>KT00052</td><td>cluster5</td><td>0.09765178</td><td>0.9195919</td></tr>\n",
       "</tbody>\n",
       "</table>\n"
      ],
      "text/latex": [
       "A tibble: 6 × 4\n",
       "\\begin{tabular}{llll}\n",
       " sample.sampleKitGuid & clusters & frequency\\_live & clr\\\\\n",
       " <chr> & <chr> & <dbl> & <dbl>\\\\\n",
       "\\hline\n",
       "\t KT00052 & cluster0 & 0.10423826 & 0.9848633\\\\\n",
       "\t KT00052 & cluster1 & 0.07073310 & 0.5970978\\\\\n",
       "\t KT00052 & cluster2 & 0.09621993 & 0.9048206\\\\\n",
       "\t KT00052 & cluster3 & 0.06872852 & 0.5683484\\\\\n",
       "\t KT00052 & cluster4 & 0.07646048 & 0.6749581\\\\\n",
       "\t KT00052 & cluster5 & 0.09765178 & 0.9195919\\\\\n",
       "\\end{tabular}\n"
      ],
      "text/markdown": [
       "\n",
       "A tibble: 6 × 4\n",
       "\n",
       "| sample.sampleKitGuid &lt;chr&gt; | clusters &lt;chr&gt; | frequency_live &lt;dbl&gt; | clr &lt;dbl&gt; |\n",
       "|---|---|---|---|\n",
       "| KT00052 | cluster0 | 0.10423826 | 0.9848633 |\n",
       "| KT00052 | cluster1 | 0.07073310 | 0.5970978 |\n",
       "| KT00052 | cluster2 | 0.09621993 | 0.9048206 |\n",
       "| KT00052 | cluster3 | 0.06872852 | 0.5683484 |\n",
       "| KT00052 | cluster4 | 0.07646048 | 0.6749581 |\n",
       "| KT00052 | cluster5 | 0.09765178 | 0.9195919 |\n",
       "\n"
      ],
      "text/plain": [
       "  sample.sampleKitGuid clusters frequency_live clr      \n",
       "1 KT00052              cluster0 0.10423826     0.9848633\n",
       "2 KT00052              cluster1 0.07073310     0.5970978\n",
       "3 KT00052              cluster2 0.09621993     0.9048206\n",
       "4 KT00052              cluster3 0.06872852     0.5683484\n",
       "5 KT00052              cluster4 0.07646048     0.6749581\n",
       "6 KT00052              cluster5 0.09765178     0.9195919"
      ]
     },
     "metadata": {},
     "output_type": "display_data"
    },
    {
     "data": {
      "text/html": [
       "<style>\n",
       ".list-inline {list-style: none; margin:0; padding: 0}\n",
       ".list-inline>li {display: inline-block}\n",
       ".list-inline>li:not(:last-child)::after {content: \"\\00b7\"; padding: 0 .5ex}\n",
       "</style>\n",
       "<ol class=list-inline><li>2679</li><li>4</li></ol>\n"
      ],
      "text/latex": [
       "\\begin{enumerate*}\n",
       "\\item 2679\n",
       "\\item 4\n",
       "\\end{enumerate*}\n"
      ],
      "text/markdown": [
       "1. 2679\n",
       "2. 4\n",
       "\n",
       "\n"
      ],
      "text/plain": [
       "[1] 2679    4"
      ]
     },
     "metadata": {},
     "output_type": "display_data"
    }
   ],
   "source": [
    "pivoted_df1_clr%>%head()\n",
    "pivoted_df1_clr%>%dim"
   ]
  },
  {
   "cell_type": "code",
   "execution_count": null,
   "id": "1f91b05f-ad61-4371-98c7-73433b91495e",
   "metadata": {},
   "outputs": [],
   "source": [
    "# read the ALTRA clinical Meta Data to add the required columns to the frequency table "
   ]
  },
  {
   "cell_type": "code",
   "execution_count": 31,
   "id": "f021f86c-a8cd-4b98-b64d-88d8aa6a00fc",
   "metadata": {},
   "outputs": [],
   "source": [
    "meta=read.csv(\"/home/jupyter/ALTRA_ANALYSIS/Deep_clean/AIM3/input_csv_files/2023-11-22_ALTRA_Metadata_labs.csv\")"
   ]
  },
  {
   "cell_type": "code",
   "execution_count": 32,
   "id": "0ece15b8-8b44-40b1-90bd-7c4d4bdfe5b2",
   "metadata": {},
   "outputs": [],
   "source": [
    "filt_meta_ot <- select(meta,BMI, days_to_conversion, ageAtDraw,sample.sampleKitGuid, subject.biologicalSex, subject.subjectGuid,bmi_conv,age_conv,Status_Long,Status_Xsec,Age2023,anti_ccp3,anti_ccp3_finalCombined,\n",
    "                    anti_ccp31  )"
   ]
  },
  {
   "cell_type": "code",
   "execution_count": 33,
   "id": "57824ff4-36ba-45cd-aa87-a1f6c2e8f53b",
   "metadata": {},
   "outputs": [
    {
     "data": {
      "text/html": [
       "<style>\n",
       ".list-inline {list-style: none; margin:0; padding: 0}\n",
       ".list-inline>li {display: inline-block}\n",
       ".list-inline>li:not(:last-child)::after {content: \"\\00b7\"; padding: 0 .5ex}\n",
       "</style>\n",
       "<ol class=list-inline><li>157</li><li>14</li></ol>\n"
      ],
      "text/latex": [
       "\\begin{enumerate*}\n",
       "\\item 157\n",
       "\\item 14\n",
       "\\end{enumerate*}\n"
      ],
      "text/markdown": [
       "1. 157\n",
       "2. 14\n",
       "\n",
       "\n"
      ],
      "text/plain": [
       "[1] 157  14"
      ]
     },
     "metadata": {},
     "output_type": "display_data"
    },
    {
     "data": {
      "text/html": [
       "<table class=\"dataframe\">\n",
       "<caption>A data.frame: 3 × 14</caption>\n",
       "<thead>\n",
       "\t<tr><th></th><th scope=col>BMI</th><th scope=col>days_to_conversion</th><th scope=col>ageAtDraw</th><th scope=col>sample.sampleKitGuid</th><th scope=col>subject.biologicalSex</th><th scope=col>subject.subjectGuid</th><th scope=col>bmi_conv</th><th scope=col>age_conv</th><th scope=col>Status_Long</th><th scope=col>Status_Xsec</th><th scope=col>Age2023</th><th scope=col>anti_ccp3</th><th scope=col>anti_ccp3_finalCombined</th><th scope=col>anti_ccp31</th></tr>\n",
       "\t<tr><th></th><th scope=col>&lt;dbl&gt;</th><th scope=col>&lt;int&gt;</th><th scope=col>&lt;int&gt;</th><th scope=col>&lt;chr&gt;</th><th scope=col>&lt;chr&gt;</th><th scope=col>&lt;chr&gt;</th><th scope=col>&lt;dbl&gt;</th><th scope=col>&lt;int&gt;</th><th scope=col>&lt;chr&gt;</th><th scope=col>&lt;chr&gt;</th><th scope=col>&lt;int&gt;</th><th scope=col>&lt;int&gt;</th><th scope=col>&lt;int&gt;</th><th scope=col>&lt;int&gt;</th></tr>\n",
       "</thead>\n",
       "<tbody>\n",
       "\t<tr><th scope=row>1</th><td>24.65716</td><td>-714</td><td>56</td><td>KT00052</td><td>Female</td><td>CU1009</td><td>25.64892</td><td>58</td><td>pre</td><td>at_risk </td><td>60</td><td> 88</td><td>  88</td><td> 74</td></tr>\n",
       "\t<tr><th scope=row>2</th><td>43.24286</td><td>  NA</td><td>53</td><td>KT00055</td><td>Female</td><td>CU1008</td><td>      NA</td><td>NA</td><td>NA </td><td>early_RA</td><td>57</td><td> 23</td><td>  23</td><td> 10</td></tr>\n",
       "\t<tr><th scope=row>3</th><td>25.94834</td><td>-632</td><td>42</td><td>KT00056</td><td>Female</td><td>CU1007</td><td>26.19498</td><td>44</td><td>pre</td><td>at_risk </td><td>46</td><td>262</td><td>2544</td><td>262</td></tr>\n",
       "</tbody>\n",
       "</table>\n"
      ],
      "text/latex": [
       "A data.frame: 3 × 14\n",
       "\\begin{tabular}{r|llllllllllllll}\n",
       "  & BMI & days\\_to\\_conversion & ageAtDraw & sample.sampleKitGuid & subject.biologicalSex & subject.subjectGuid & bmi\\_conv & age\\_conv & Status\\_Long & Status\\_Xsec & Age2023 & anti\\_ccp3 & anti\\_ccp3\\_finalCombined & anti\\_ccp31\\\\\n",
       "  & <dbl> & <int> & <int> & <chr> & <chr> & <chr> & <dbl> & <int> & <chr> & <chr> & <int> & <int> & <int> & <int>\\\\\n",
       "\\hline\n",
       "\t1 & 24.65716 & -714 & 56 & KT00052 & Female & CU1009 & 25.64892 & 58 & pre & at\\_risk  & 60 &  88 &   88 &  74\\\\\n",
       "\t2 & 43.24286 &   NA & 53 & KT00055 & Female & CU1008 &       NA & NA & NA  & early\\_RA & 57 &  23 &   23 &  10\\\\\n",
       "\t3 & 25.94834 & -632 & 42 & KT00056 & Female & CU1007 & 26.19498 & 44 & pre & at\\_risk  & 46 & 262 & 2544 & 262\\\\\n",
       "\\end{tabular}\n"
      ],
      "text/markdown": [
       "\n",
       "A data.frame: 3 × 14\n",
       "\n",
       "| <!--/--> | BMI &lt;dbl&gt; | days_to_conversion &lt;int&gt; | ageAtDraw &lt;int&gt; | sample.sampleKitGuid &lt;chr&gt; | subject.biologicalSex &lt;chr&gt; | subject.subjectGuid &lt;chr&gt; | bmi_conv &lt;dbl&gt; | age_conv &lt;int&gt; | Status_Long &lt;chr&gt; | Status_Xsec &lt;chr&gt; | Age2023 &lt;int&gt; | anti_ccp3 &lt;int&gt; | anti_ccp3_finalCombined &lt;int&gt; | anti_ccp31 &lt;int&gt; |\n",
       "|---|---|---|---|---|---|---|---|---|---|---|---|---|---|---|\n",
       "| 1 | 24.65716 | -714 | 56 | KT00052 | Female | CU1009 | 25.64892 | 58 | pre | at_risk  | 60 |  88 |   88 |  74 |\n",
       "| 2 | 43.24286 |   NA | 53 | KT00055 | Female | CU1008 |       NA | NA | NA  | early_RA | 57 |  23 |   23 |  10 |\n",
       "| 3 | 25.94834 | -632 | 42 | KT00056 | Female | CU1007 | 26.19498 | 44 | pre | at_risk  | 46 | 262 | 2544 | 262 |\n",
       "\n"
      ],
      "text/plain": [
       "  BMI      days_to_conversion ageAtDraw sample.sampleKitGuid\n",
       "1 24.65716 -714               56        KT00052             \n",
       "2 43.24286   NA               53        KT00055             \n",
       "3 25.94834 -632               42        KT00056             \n",
       "  subject.biologicalSex subject.subjectGuid bmi_conv age_conv Status_Long\n",
       "1 Female                CU1009              25.64892 58       pre        \n",
       "2 Female                CU1008                    NA NA       NA         \n",
       "3 Female                CU1007              26.19498 44       pre        \n",
       "  Status_Xsec Age2023 anti_ccp3 anti_ccp3_finalCombined anti_ccp31\n",
       "1 at_risk     60       88         88                     74       \n",
       "2 early_RA    57       23         23                     10       \n",
       "3 at_risk     46      262       2544                    262       "
      ]
     },
     "metadata": {},
     "output_type": "display_data"
    }
   ],
   "source": [
    "filt_meta_ot%>%dim()\n",
    "filt_meta_ot%>%head(3)"
   ]
  },
  {
   "cell_type": "code",
   "execution_count": 34,
   "id": "d2a4822b-4a4c-4975-953c-0ec367d927e6",
   "metadata": {},
   "outputs": [
    {
     "data": {
      "text/html": [
       "141"
      ],
      "text/latex": [
       "141"
      ],
      "text/markdown": [
       "141"
      ],
      "text/plain": [
       "[1] 141"
      ]
     },
     "metadata": {},
     "output_type": "display_data"
    }
   ],
   "source": [
    "intersection%>%length"
   ]
  },
  {
   "cell_type": "code",
   "execution_count": 35,
   "id": "dbb445f4-f528-4dfe-b09c-3e8ceb3cb927",
   "metadata": {},
   "outputs": [],
   "source": [
    "# Find the intersection of sample.sampleKitGuid values\n",
    "intersection <- intersect(filt_meta_ot$sample.sampleKitGuid, pivoted_df1_clr$sample.sampleKitGuid)\n",
    "\n",
    "# Subset filt_meta and merged_a3_th17 based on the intersection\n",
    "filt_meta_ot_intersect <- filt_meta_ot[filt_meta_ot$sample.sampleKitGuid %in% intersection, ]\n",
    "pivoted_df1_clr_intersect <- pivoted_df1_clr[pivoted_df1_clr$sample.sampleKitGuid %in% intersection, ]\n",
    "\n",
    "# Perform the merge based on the intersection\n",
    "merged_filt_ot<- merge(filt_meta_ot_intersect, pivoted_df1_clr_intersect, by = 'sample.sampleKitGuid', all.x = TRUE)"
   ]
  },
  {
   "cell_type": "code",
   "execution_count": 36,
   "id": "0754a081-c375-4ea2-bfb9-65ef86354790",
   "metadata": {},
   "outputs": [
    {
     "data": {
      "text/html": [
       "<style>\n",
       ".list-inline {list-style: none; margin:0; padding: 0}\n",
       ".list-inline>li {display: inline-block}\n",
       ".list-inline>li:not(:last-child)::after {content: \"\\00b7\"; padding: 0 .5ex}\n",
       "</style>\n",
       "<ol class=list-inline><li>2679</li><li>17</li></ol>\n"
      ],
      "text/latex": [
       "\\begin{enumerate*}\n",
       "\\item 2679\n",
       "\\item 17\n",
       "\\end{enumerate*}\n"
      ],
      "text/markdown": [
       "1. 2679\n",
       "2. 17\n",
       "\n",
       "\n"
      ],
      "text/plain": [
       "[1] 2679   17"
      ]
     },
     "metadata": {},
     "output_type": "display_data"
    },
    {
     "data": {
      "text/html": [
       "<table class=\"dataframe\">\n",
       "<caption>A data.frame: 3 × 17</caption>\n",
       "<thead>\n",
       "\t<tr><th></th><th scope=col>sample.sampleKitGuid</th><th scope=col>BMI</th><th scope=col>days_to_conversion</th><th scope=col>ageAtDraw</th><th scope=col>subject.biologicalSex</th><th scope=col>subject.subjectGuid</th><th scope=col>bmi_conv</th><th scope=col>age_conv</th><th scope=col>Status_Long</th><th scope=col>Status_Xsec</th><th scope=col>Age2023</th><th scope=col>anti_ccp3</th><th scope=col>anti_ccp3_finalCombined</th><th scope=col>anti_ccp31</th><th scope=col>clusters</th><th scope=col>frequency_live</th><th scope=col>clr</th></tr>\n",
       "\t<tr><th></th><th scope=col>&lt;chr&gt;</th><th scope=col>&lt;dbl&gt;</th><th scope=col>&lt;int&gt;</th><th scope=col>&lt;int&gt;</th><th scope=col>&lt;chr&gt;</th><th scope=col>&lt;chr&gt;</th><th scope=col>&lt;dbl&gt;</th><th scope=col>&lt;int&gt;</th><th scope=col>&lt;chr&gt;</th><th scope=col>&lt;chr&gt;</th><th scope=col>&lt;int&gt;</th><th scope=col>&lt;int&gt;</th><th scope=col>&lt;int&gt;</th><th scope=col>&lt;int&gt;</th><th scope=col>&lt;chr&gt;</th><th scope=col>&lt;dbl&gt;</th><th scope=col>&lt;dbl&gt;</th></tr>\n",
       "</thead>\n",
       "<tbody>\n",
       "\t<tr><th scope=row>1</th><td>KT00052</td><td>24.65716</td><td>-714</td><td>56</td><td>Female</td><td>CU1009</td><td>25.64892</td><td>58</td><td>pre</td><td>at_risk</td><td>60</td><td>88</td><td>88</td><td>74</td><td>cluster0</td><td>0.10423826</td><td>0.9848633</td></tr>\n",
       "\t<tr><th scope=row>2</th><td>KT00052</td><td>24.65716</td><td>-714</td><td>56</td><td>Female</td><td>CU1009</td><td>25.64892</td><td>58</td><td>pre</td><td>at_risk</td><td>60</td><td>88</td><td>88</td><td>74</td><td>cluster1</td><td>0.07073310</td><td>0.5970978</td></tr>\n",
       "\t<tr><th scope=row>3</th><td>KT00052</td><td>24.65716</td><td>-714</td><td>56</td><td>Female</td><td>CU1009</td><td>25.64892</td><td>58</td><td>pre</td><td>at_risk</td><td>60</td><td>88</td><td>88</td><td>74</td><td>cluster2</td><td>0.09621993</td><td>0.9048206</td></tr>\n",
       "</tbody>\n",
       "</table>\n"
      ],
      "text/latex": [
       "A data.frame: 3 × 17\n",
       "\\begin{tabular}{r|lllllllllllllllll}\n",
       "  & sample.sampleKitGuid & BMI & days\\_to\\_conversion & ageAtDraw & subject.biologicalSex & subject.subjectGuid & bmi\\_conv & age\\_conv & Status\\_Long & Status\\_Xsec & Age2023 & anti\\_ccp3 & anti\\_ccp3\\_finalCombined & anti\\_ccp31 & clusters & frequency\\_live & clr\\\\\n",
       "  & <chr> & <dbl> & <int> & <int> & <chr> & <chr> & <dbl> & <int> & <chr> & <chr> & <int> & <int> & <int> & <int> & <chr> & <dbl> & <dbl>\\\\\n",
       "\\hline\n",
       "\t1 & KT00052 & 24.65716 & -714 & 56 & Female & CU1009 & 25.64892 & 58 & pre & at\\_risk & 60 & 88 & 88 & 74 & cluster0 & 0.10423826 & 0.9848633\\\\\n",
       "\t2 & KT00052 & 24.65716 & -714 & 56 & Female & CU1009 & 25.64892 & 58 & pre & at\\_risk & 60 & 88 & 88 & 74 & cluster1 & 0.07073310 & 0.5970978\\\\\n",
       "\t3 & KT00052 & 24.65716 & -714 & 56 & Female & CU1009 & 25.64892 & 58 & pre & at\\_risk & 60 & 88 & 88 & 74 & cluster2 & 0.09621993 & 0.9048206\\\\\n",
       "\\end{tabular}\n"
      ],
      "text/markdown": [
       "\n",
       "A data.frame: 3 × 17\n",
       "\n",
       "| <!--/--> | sample.sampleKitGuid &lt;chr&gt; | BMI &lt;dbl&gt; | days_to_conversion &lt;int&gt; | ageAtDraw &lt;int&gt; | subject.biologicalSex &lt;chr&gt; | subject.subjectGuid &lt;chr&gt; | bmi_conv &lt;dbl&gt; | age_conv &lt;int&gt; | Status_Long &lt;chr&gt; | Status_Xsec &lt;chr&gt; | Age2023 &lt;int&gt; | anti_ccp3 &lt;int&gt; | anti_ccp3_finalCombined &lt;int&gt; | anti_ccp31 &lt;int&gt; | clusters &lt;chr&gt; | frequency_live &lt;dbl&gt; | clr &lt;dbl&gt; |\n",
       "|---|---|---|---|---|---|---|---|---|---|---|---|---|---|---|---|---|---|\n",
       "| 1 | KT00052 | 24.65716 | -714 | 56 | Female | CU1009 | 25.64892 | 58 | pre | at_risk | 60 | 88 | 88 | 74 | cluster0 | 0.10423826 | 0.9848633 |\n",
       "| 2 | KT00052 | 24.65716 | -714 | 56 | Female | CU1009 | 25.64892 | 58 | pre | at_risk | 60 | 88 | 88 | 74 | cluster1 | 0.07073310 | 0.5970978 |\n",
       "| 3 | KT00052 | 24.65716 | -714 | 56 | Female | CU1009 | 25.64892 | 58 | pre | at_risk | 60 | 88 | 88 | 74 | cluster2 | 0.09621993 | 0.9048206 |\n",
       "\n"
      ],
      "text/plain": [
       "  sample.sampleKitGuid BMI      days_to_conversion ageAtDraw\n",
       "1 KT00052              24.65716 -714               56       \n",
       "2 KT00052              24.65716 -714               56       \n",
       "3 KT00052              24.65716 -714               56       \n",
       "  subject.biologicalSex subject.subjectGuid bmi_conv age_conv Status_Long\n",
       "1 Female                CU1009              25.64892 58       pre        \n",
       "2 Female                CU1009              25.64892 58       pre        \n",
       "3 Female                CU1009              25.64892 58       pre        \n",
       "  Status_Xsec Age2023 anti_ccp3 anti_ccp3_finalCombined anti_ccp31 clusters\n",
       "1 at_risk     60      88        88                      74         cluster0\n",
       "2 at_risk     60      88        88                      74         cluster1\n",
       "3 at_risk     60      88        88                      74         cluster2\n",
       "  frequency_live clr      \n",
       "1 0.10423826     0.9848633\n",
       "2 0.07073310     0.5970978\n",
       "3 0.09621993     0.9048206"
      ]
     },
     "metadata": {},
     "output_type": "display_data"
    }
   ],
   "source": [
    "merged_filt_ot%>%dim()\n",
    "merged_filt_ot%>%head(3)"
   ]
  },
  {
   "cell_type": "code",
   "execution_count": 37,
   "id": "7490d1b7-6b9c-4ceb-bfba-e10408fce2ba",
   "metadata": {},
   "outputs": [],
   "source": [
    "merged_filt_ot%>%\n",
    "write.csv(\"/home/jupyter/ALTRA_ANALYSIS/Deep_clean/certpro/output_files/CD4T_mem_certpro_Frq_clr_res_0_4(c0-c18)_R.csv\")"
   ]
  },
  {
   "cell_type": "code",
   "execution_count": null,
   "id": "18e1b381-3775-49a5-a00e-559e6fb8475f",
   "metadata": {},
   "outputs": [],
   "source": []
  },
  {
   "cell_type": "code",
   "execution_count": null,
   "id": "215c995c-6891-4ee8-9dff-d19853a65d5e",
   "metadata": {},
   "outputs": [],
   "source": []
  },
  {
   "cell_type": "code",
   "execution_count": null,
   "id": "661e0166-971b-4188-8878-c6e385047400",
   "metadata": {},
   "outputs": [],
   "source": []
  },
  {
   "cell_type": "code",
   "execution_count": null,
   "id": "e5418c4a-f475-40de-b260-1acfac18f381",
   "metadata": {},
   "outputs": [],
   "source": []
  },
  {
   "cell_type": "code",
   "execution_count": null,
   "id": "c8d4bc23-f812-4d63-b3f4-ff1e6bc13f0d",
   "metadata": {},
   "outputs": [],
   "source": []
  }
 ],
 "metadata": {
  "kernelspec": {
   "display_name": "r_scrna",
   "language": "R",
   "name": "r_scrna"
  },
  "language_info": {
   "codemirror_mode": "r",
   "file_extension": ".r",
   "mimetype": "text/x-r-source",
   "name": "R",
   "pygments_lexer": "r",
   "version": "4.3.1"
  }
 },
 "nbformat": 4,
 "nbformat_minor": 5
}
