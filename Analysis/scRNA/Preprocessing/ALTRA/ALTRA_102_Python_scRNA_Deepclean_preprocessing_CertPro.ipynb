{
 "cells": [
  {
   "cell_type": "markdown",
   "metadata": {
    "tags": []
   },
   "source": [
    "# ALTRA data scRNA psedubulk in Python - Cert Pro deep clean data\n",
    "## preprocessing\n",
    "<a name = \"contents\"></a>\n",
    "\n",
    "### Contents\n",
    "\n",
    "- [Importing packages](#Importing-packages)\n",
    "- [Reading h5 files](#Reading-h5-files)\n",
    "    - [Gene x cell matrix](#Gene-x-cell-matrix)\n",
    "    - [Observation metadata](#Observation-metadata)\n",
    "- [Assembling AnnData](#Assembling-AnnData)\n",
    "- [Combining multiple files](#Combining-multiple-files)\n",
    "- [Saving and loading AnnData](#Saving-and-loading-AnnData)\n",
    "- [Basic analysis with scanpy](#Basic-analysis-with-scanpy)\n",
    "- [Session Info](#Session-Info)"
   ]
  },
  {
   "cell_type": "code",
   "execution_count": 1,
   "metadata": {},
   "outputs": [],
   "source": [
    "import h5py\n",
    "import scipy.sparse as scs\n",
    "import pandas as pd\n",
    "import anndata\n",
    "import os\n",
    "import glob\n",
    "from matplotlib import pyplot as plt\n",
    "import seaborn as sns\n",
    "import numpy as np\n",
    "from scipy.stats import median_abs_deviation\n",
    "import scanpy as sc\n",
    "import random\n",
    "# import sc_toolbox\n",
    "# import pertpy \n",
    "import decoupler as dc"
   ]
  },
  {
   "cell_type": "code",
   "execution_count": 2,
   "metadata": {},
   "outputs": [
    {
     "data": {
      "text/plain": [
       "'1.8.0'"
      ]
     },
     "execution_count": 2,
     "metadata": {},
     "output_type": "execute_result"
    }
   ],
   "source": [
    "anndata.__version__\n",
    "dc.__version__"
   ]
  },
  {
   "cell_type": "code",
   "execution_count": 3,
   "metadata": {},
   "outputs": [],
   "source": [
    "# sc.settings.n_jobs = 58"
   ]
  },
  {
   "cell_type": "code",
   "execution_count": 4,
   "metadata": {},
   "outputs": [],
   "source": [
    "# define some color patterns for plotting\n",
    "nejm_color = [\"#BC3C29FF\", \"#0072B5FF\", \"#E18727FF\", \"#20854EFF\", \"#7876B1FF\", \"#6F99ADFF\", \"#FFDC91FF\", \"#EE4C97FF\"]\n",
    "jama_color = [\"#374E55FF\", \"#DF8F44FF\", \"#00A1D5FF\", \"#B24745FF\", \"#79AF97FF\", \"#6A6599FF\", \"#80796BFF\"]"
   ]
  },
  {
   "cell_type": "code",
   "execution_count": 5,
   "metadata": {},
   "outputs": [],
   "source": [
    "# define working path\n",
    "data_path = '/home/jupyter/data/ra_longitudinal/scrna/'\n",
    "meta_path = '/home/jupyter/github/ra-longitudinal/metadata/'\n",
    "fig_path = '/home/jupyter/data/ra_longitudinal/figures/certPro/'\n",
    "output_path = '/home/jupyter/data/ra_longitudinal/output_results/certPro/'\n",
    "# os.mkdir(fig_path)\n",
    "# os.mkdir(output_path)\n",
    "# define a project name\n",
    "proj_name = 'ALTRA_scRNA_AIFI_L3_deepclean_certpro_'\n",
    "# sc.set_figure_params(fig_path)\n",
    "sc.settings.figdir = fig_path\n",
    "sc.settings.autosave=False\n",
    "sc.set_figure_params(vector_friendly=True, dpi_save=300)"
   ]
  },
  {
   "cell_type": "markdown",
   "metadata": {},
   "source": [
    "# load data"
   ]
  },
  {
   "cell_type": "code",
   "execution_count": 9,
   "metadata": {},
   "outputs": [],
   "source": [
    "# load the deep clean data\n",
    "joint_adata_fl = sc.read_h5ad(\n",
    "    '/home/jupyter/data/ra_longitudinal/scrna/cache/0bf38363-b9b7-40bf-96f8-3b9f1f958983/preRA_dc_sample_selection_combined_adata_2024-06-25.h5ad'\n",
    ")"
   ]
  },
  {
   "cell_type": "code",
   "execution_count": 10,
   "metadata": {},
   "outputs": [
    {
     "data": {
      "text/plain": [
       "AnnData object with n_obs × n_vars = 2059581 × 33538\n",
       "    obs: 'barcodes', 'batch_id', 'cell_name', 'cell_uuid', 'chip_id', 'hto_barcode', 'hto_category', 'n_genes', 'n_mito_umis', 'n_reads', 'n_umis', 'original_barcodes', 'pbmc_sample_id', 'pool_id', 'well_id', 'sample.sampleKitGuid', 'cohort.cohortGuid', 'subject.subjectGuid', 'subject.biologicalSex', 'subject.race', 'subject.ethnicity', 'subject.birthYear', 'sample.visitName', 'sample.drawDate', 'sample.diseaseStatesRecordedAtVisit', 'sample.daysSinceFirstVisit', 'file.id', 'subset_grp', 'predicted_doublet', 'doublet_score', 'AIFI_L1', 'AIFI_L1_score', 'AIFI_L2', 'AIFI_L2_score', 'AIFI_L3', 'AIFI_L3_score', 'n_genes_by_counts', 'log1p_n_genes_by_counts', 'total_counts', 'log1p_total_counts', 'pct_counts_in_top_50_genes', 'pct_counts_in_top_100_genes', 'pct_counts_in_top_200_genes', 'pct_counts_in_top_500_genes', 'total_counts_mito', 'log1p_total_counts_mito', 'pct_counts_mito', 'leiden_harmony_2', 'doublets_manual', 'AIFI_L3_new'\n",
       "    obsm: 'X_pca', 'X_pca_harmony', 'X_umap'"
      ]
     },
     "execution_count": 10,
     "metadata": {},
     "output_type": "execute_result"
    }
   ],
   "source": [
    "joint_adata_fl"
   ]
  },
  {
   "cell_type": "code",
   "execution_count": 11,
   "metadata": {},
   "outputs": [
    {
     "data": {
      "text/plain": [
       "['KT00118', 'KT00416', 'KT00103', 'KT02957', 'KT00068', ..., 'KT02974', 'KT00202', 'KT00467', 'KT04924', 'KT00055']\n",
       "Length: 141\n",
       "Categories (141, object): ['KT00052', 'KT00055', 'KT00056', 'KT00057', ..., 'KT04906', 'KT04924', 'KT04933', 'KT04937']"
      ]
     },
     "execution_count": 11,
     "metadata": {},
     "output_type": "execute_result"
    }
   ],
   "source": [
    "joint_adata_fl.obs['sample.sampleKitGuid'].unique()"
   ]
  },
  {
   "cell_type": "markdown",
   "metadata": {},
   "source": [
    "## add metadata"
   ]
  },
  {
   "cell_type": "code",
   "execution_count": 12,
   "metadata": {
    "scrolled": true
   },
   "outputs": [
    {
     "data": {
      "text/plain": [
       "['Status_Xsec',\n",
       " 'Status_Long',\n",
       " 'sample.sampleKitGuid',\n",
       " 'sample.visitName',\n",
       " 'sample.visitDetails',\n",
       " 'sample.drawDate',\n",
       " 'sample.daysSinceFirstVisit',\n",
       " 'subject.subjectGuid',\n",
       " 'subject.biologicalSex',\n",
       " 'subject.birthYear',\n",
       " 'subject.ethnicity',\n",
       " 'subject.race',\n",
       " 'cohort.cohortGuid',\n",
       " 'Age2023',\n",
       " 'ageAtDraw',\n",
       " 'timeOnStudy',\n",
       " 'timeOnStudyAsOf',\n",
       " 'percent_basophils',\n",
       " 'percent_eosinophils',\n",
       " 'percent_immature_granulocytes',\n",
       " 'percent_lymphocytes',\n",
       " 'percent_monocytes',\n",
       " 'percent_nucleated_red_blood_cells_nrbc',\n",
       " '0401_count',\n",
       " '0404_count',\n",
       " '0405_count',\n",
       " '0408_count',\n",
       " 'absolute_basophil_count',\n",
       " 'absolute_eosinophil_count_aec',\n",
       " 'absolute_immature_granulocyte_count',\n",
       " 'absolute_lymphocyte_count_alc',\n",
       " 'absolute_monocyte_count_amc',\n",
       " 'absolute_neutrophil_count_anc',\n",
       " 'alanine_transaminase_alt',\n",
       " 'albumin',\n",
       " 'alkaline_phosphatase',\n",
       " 'anion_gap',\n",
       " 'anti_ccp3',\n",
       " 'anti_ccp31',\n",
       " 'bilirubin_total_t_bili',\n",
       " 'c_reactive_protein_crp',\n",
       " 'calcium',\n",
       " 'carbon_dioxide_co2',\n",
       " 'cholesterol_hdl',\n",
       " 'cholesterol_ldl',\n",
       " 'cholesterol_total',\n",
       " 'converted_to_ia_during_course_of_study',\n",
       " 'converted_to_ra_during_study',\n",
       " 'covid_19_vaccine_company_name',\n",
       " 'covid_19_vaccine_ever_received',\n",
       " 'creatinine',\n",
       " 'estimated_glomerular_filtration_rate_egfr_non_african_american',\n",
       " 'glucose',\n",
       " 'has_the_patient_been_fasting?',\n",
       " 'height',\n",
       " 'hematocrit',\n",
       " 'hip_size',\n",
       " 'mean_corpuscular_hemoglobin_mch',\n",
       " 'mean_corpuscular_hemoglobin_concentration_mchc',\n",
       " 'mean_corpuscular_volume_mcv',\n",
       " 'nucleated_red_blood_cell_nrbc_count',\n",
       " 'number_of_days_to_from_initial_covid_19_vaccine',\n",
       " 'number_of_days_to_from_second_covid_19_vaccine',\n",
       " 'platelet_count',\n",
       " 'protein_total',\n",
       " 'rfiga_result',\n",
       " 'rfigm_result',\n",
       " 'red_blood_cell_count',\n",
       " 'se_count',\n",
       " 'sed_rate_westergren_esr',\n",
       " 'shared_epitope',\n",
       " 'sodium',\n",
       " 'sputum_collected?',\n",
       " 'stool_collection_kit_given?',\n",
       " 'triglycerides',\n",
       " 'waist_size',\n",
       " 'weight',\n",
       " 'white_blood_cell_count_wbc',\n",
       " 'number_of_days_to_from_third_covid_19_vaccine',\n",
       " 'numof_days_to_from_ia_conversion',\n",
       " 'number_of_days_to_from_ra_conversion_cu',\n",
       " 'serum_ccp3_finallevel',\n",
       " 'percent_neutrophils',\n",
       " 'aspartate_aminotransferase_ast',\n",
       " 'blood_urea_nitrogen_bun',\n",
       " 'c_reactive_protein_high_sensitivity_hs_crp',\n",
       " 'ccp3_interpretation',\n",
       " 'ccp31_interpretation',\n",
       " 'chloride_cl',\n",
       " 'cholesterol_non_hdl',\n",
       " 'cholesterol_hdl_ratio',\n",
       " 'estimated_glomerular_filtration_rate_egfr_african_american',\n",
       " 'globin',\n",
       " 'hemoglobin',\n",
       " 'mean_platelet_volume_mpv',\n",
       " 'potassium',\n",
       " 'rfiga_interpretation',\n",
       " 'rfigm_interpretation',\n",
       " 'red_cell_distribution_width_rdw',\n",
       " 'percent_segmented_neutrophils',\n",
       " 'albumin_serum_protein_electrophoresis',\n",
       " 'alpha_1_serum_protein_electrophoresis',\n",
       " 'alpha_2_serum_protein_electrophoresis',\n",
       " 'beta_serum_protein_electrophoresis',\n",
       " 'beta_2_microglobulin',\n",
       " 'cmv_igg_serology_result_elisa',\n",
       " 'cmv_igg_serology_result_interpretation',\n",
       " 'gamma_serum_protein_electrophoresis',\n",
       " 'immunofixation',\n",
       " 'immunoglobulin_a',\n",
       " 'immunoglobulin_g',\n",
       " 'immunoglobulin_m',\n",
       " 'interpretation_serum_protein_electrophoresis',\n",
       " 'kappa_free_light_chain',\n",
       " 'kappa_lambda_flc_ratio',\n",
       " 'lactate_dehydrogenase',\n",
       " 'lambda_free_light_chain',\n",
       " 'magnesium',\n",
       " 'monoclonal_1_id_serum',\n",
       " 'monoclonal_1_quantification_serum',\n",
       " 'phosphate',\n",
       " 'protein_total_serum_protein_electrophoresis',\n",
       " 'rheumatoid_factor_iga',\n",
       " 'rheumatoid_factor_igm',\n",
       " 'sars_cov_2_np_serology_interpretation',\n",
       " 'sars_cov_2_np_serology_signal_to_cutoff',\n",
       " 'cmv_igg_serology',\n",
       " 'record_id...112',\n",
       " 'percent_abnormal_plasma_cells_by_bone_marrow_morphology',\n",
       " 'percent_abnormal_plasma_cells_by_flowcytometry',\n",
       " 'investigator_assessed_response_category_based_on_available_data',\n",
       " 'was_percent_abnormal_plasma_cells_value_determined_by_ihc_cd138+?',\n",
       " 'allenid',\n",
       " 'kitid',\n",
       " 'allen_institute_name',\n",
       " 'record_id...120',\n",
       " 'cmv_ab_screen_index_value',\n",
       " 'cmv_ab_screen_result',\n",
       " 'rdwcv',\n",
       " 'record_id...114',\n",
       " 'record_id...123',\n",
       " 'BMI',\n",
       " 'CMV_Status_Subj',\n",
       " 'CMV_Value_Subj',\n",
       " 'anti_ccp3_finalCombined',\n",
       " 'days_to_conversion',\n",
       " 'age_conv',\n",
       " 'bmi_conv']"
      ]
     },
     "execution_count": 12,
     "metadata": {},
     "output_type": "execute_result"
    }
   ],
   "source": [
    "# load metadata and add to the overall dataset\n",
    "lab_meta = pd.read_csv('/home/jupyter/data/ra_longitudinal/metadata/2023-11-22_ALTRA_Metadata_labs.csv')\n",
    "lab_meta.columns.tolist()"
   ]
  },
  {
   "cell_type": "code",
   "execution_count": 13,
   "metadata": {},
   "outputs": [
    {
     "data": {
      "text/plain": [
       "(157, 148)"
      ]
     },
     "execution_count": 13,
     "metadata": {},
     "output_type": "execute_result"
    }
   ],
   "source": [
    "lab_meta.shape"
   ]
  },
  {
   "cell_type": "code",
   "execution_count": 14,
   "metadata": {},
   "outputs": [
    {
     "data": {
      "text/plain": [
       "['Status_Xsec',\n",
       " 'Status_Long',\n",
       " 'anti_ccp3_finalCombined',\n",
       " 'days_to_conversion',\n",
       " 'BMI',\n",
       " 'CMV_Status_Subj',\n",
       " 'age_conv',\n",
       " 'bmi_conv',\n",
       " 'sample.sampleKitGuid']"
      ]
     },
     "execution_count": 14,
     "metadata": {},
     "output_type": "execute_result"
    }
   ],
   "source": [
    "# add metadat in if not avaiable\n",
    "meta_cols = ['Status_Xsec','Status_Long',\n",
    "              'anti_ccp3_finalCombined', 'days_to_conversion',\n",
    "              'BMI', 'CMV_Status_Subj', 'age_conv', 'bmi_conv']\n",
    "# for i in meta_cols:\n",
    "#     if i not in joint_adata_fl.obs.columns:\n",
    "#         print(i)\n",
    "meta_cols = [x for x in meta_cols if x not in joint_adata_fl.obs.columns]\n",
    "meta_cols.append('sample.sampleKitGuid')\n",
    "meta_cols"
   ]
  },
  {
   "cell_type": "code",
   "execution_count": 15,
   "metadata": {},
   "outputs": [
    {
     "data": {
      "text/plain": [
       "AnnData object with n_obs × n_vars = 2059581 × 33538\n",
       "    obs: 'barcodes', 'batch_id', 'cell_name', 'cell_uuid', 'chip_id', 'hto_barcode', 'hto_category', 'n_genes', 'n_mito_umis', 'n_reads', 'n_umis', 'original_barcodes', 'pbmc_sample_id', 'pool_id', 'well_id', 'sample.sampleKitGuid', 'cohort.cohortGuid', 'subject.subjectGuid', 'subject.biologicalSex', 'subject.race', 'subject.ethnicity', 'subject.birthYear', 'sample.visitName', 'sample.drawDate', 'sample.diseaseStatesRecordedAtVisit', 'sample.daysSinceFirstVisit', 'file.id', 'subset_grp', 'predicted_doublet', 'doublet_score', 'AIFI_L1', 'AIFI_L1_score', 'AIFI_L2', 'AIFI_L2_score', 'AIFI_L3', 'AIFI_L3_score', 'n_genes_by_counts', 'log1p_n_genes_by_counts', 'total_counts', 'log1p_total_counts', 'pct_counts_in_top_50_genes', 'pct_counts_in_top_100_genes', 'pct_counts_in_top_200_genes', 'pct_counts_in_top_500_genes', 'total_counts_mito', 'log1p_total_counts_mito', 'pct_counts_mito', 'leiden_harmony_2', 'doublets_manual', 'AIFI_L3_new', 'Status_Xsec', 'Status_Long', 'anti_ccp3_finalCombined', 'days_to_conversion', 'BMI', 'CMV_Status_Subj', 'age_conv', 'bmi_conv'\n",
       "    obsm: 'X_pca', 'X_pca_harmony', 'X_umap'"
      ]
     },
     "execution_count": 15,
     "metadata": {},
     "output_type": "execute_result"
    }
   ],
   "source": [
    "# add metadata to the anndata object\n",
    "joint_adata_fl.obs = joint_adata_fl.obs.merge(\n",
    "    lab_meta[meta_cols],\n",
    "    how='left', on ='sample.sampleKitGuid')\n",
    "joint_adata_fl"
   ]
  },
  {
   "cell_type": "code",
   "execution_count": 16,
   "metadata": {},
   "outputs": [],
   "source": [
    "# load the scrna metadata\n",
    "scrna_meta = pd.read_csv(meta_path+'ALTRA_scRNA_combined_141_samples_info.csv', \n",
    "                              index_col='sample.sampleKitGuid')"
   ]
  },
  {
   "cell_type": "code",
   "execution_count": 17,
   "metadata": {},
   "outputs": [
    {
     "data": {
      "text/plain": [
       "(141, 32)"
      ]
     },
     "execution_count": 17,
     "metadata": {},
     "output_type": "execute_result"
    }
   ],
   "source": [
    "scrna_meta.shape"
   ]
  },
  {
   "cell_type": "code",
   "execution_count": 18,
   "metadata": {},
   "outputs": [
    {
     "data": {
      "text/plain": [
       "array([], dtype=object)"
      ]
     },
     "execution_count": 18,
     "metadata": {},
     "output_type": "execute_result"
    }
   ],
   "source": [
    "# 5 samples are not in the original scRNA data selection\n",
    "# decide to remove; stick to the original dataset\n",
    "joint_adata_fl.obs.loc[~joint_adata_fl.obs['sample.sampleKitGuid'].isin(scrna_meta.index), 'sample.sampleKitGuid'].unique()"
   ]
  },
  {
   "cell_type": "code",
   "execution_count": 19,
   "metadata": {},
   "outputs": [
    {
     "data": {
      "text/plain": [
       "array([], dtype=object)"
      ]
     },
     "execution_count": 19,
     "metadata": {},
     "output_type": "execute_result"
    }
   ],
   "source": [
    "joint_adata_fl.obs.loc[~joint_adata_fl.obs['sample.sampleKitGuid'].isin(lab_meta['sample.sampleKitGuid']),\n",
    "    'sample.sampleKitGuid'].unique()"
   ]
  },
  {
   "cell_type": "code",
   "execution_count": 34,
   "metadata": {},
   "outputs": [],
   "source": [
    "# remove the 5 extra sample\n",
    "# joint_adata_fl = joint_adata_fl[joint_adata_fl.obs['sample.sampleKitGuid'].isin(scrna_meta.index)].copy()"
   ]
  },
  {
   "cell_type": "code",
   "execution_count": 20,
   "metadata": {},
   "outputs": [
    {
     "data": {
      "text/plain": [
       "AnnData object with n_obs × n_vars = 2059581 × 33538\n",
       "    obs: 'barcodes', 'batch_id', 'cell_name', 'cell_uuid', 'chip_id', 'hto_barcode', 'hto_category', 'n_genes', 'n_mito_umis', 'n_reads', 'n_umis', 'original_barcodes', 'pbmc_sample_id', 'pool_id', 'well_id', 'sample.sampleKitGuid', 'cohort.cohortGuid', 'subject.subjectGuid', 'subject.biologicalSex', 'subject.race', 'subject.ethnicity', 'subject.birthYear', 'sample.visitName', 'sample.drawDate', 'sample.diseaseStatesRecordedAtVisit', 'sample.daysSinceFirstVisit', 'file.id', 'subset_grp', 'predicted_doublet', 'doublet_score', 'AIFI_L1', 'AIFI_L1_score', 'AIFI_L2', 'AIFI_L2_score', 'AIFI_L3', 'AIFI_L3_score', 'n_genes_by_counts', 'log1p_n_genes_by_counts', 'total_counts', 'log1p_total_counts', 'pct_counts_in_top_50_genes', 'pct_counts_in_top_100_genes', 'pct_counts_in_top_200_genes', 'pct_counts_in_top_500_genes', 'total_counts_mito', 'log1p_total_counts_mito', 'pct_counts_mito', 'leiden_harmony_2', 'doublets_manual', 'AIFI_L3_new', 'Status_Xsec', 'Status_Long', 'anti_ccp3_finalCombined', 'days_to_conversion', 'BMI', 'CMV_Status_Subj', 'age_conv', 'bmi_conv', 'file.batchID'\n",
       "    obsm: 'X_pca', 'X_pca_harmony', 'X_umap'"
      ]
     },
     "execution_count": 20,
     "metadata": {},
     "output_type": "execute_result"
    }
   ],
   "source": [
    "# add batch id back\n",
    "# add metadata to the anndata object\n",
    "joint_adata_fl.obs = joint_adata_fl.obs.merge(\n",
    "    scrna_meta[['file.batchID']],\n",
    "    how='left', left_on ='sample.sampleKitGuid', right_index=True)\n",
    "joint_adata_fl"
   ]
  },
  {
   "cell_type": "code",
   "execution_count": 21,
   "metadata": {},
   "outputs": [
    {
     "data": {
      "text/plain": [
       "View of AnnData object with n_obs × n_vars = 0 × 33538\n",
       "    obs: 'barcodes', 'batch_id', 'cell_name', 'cell_uuid', 'chip_id', 'hto_barcode', 'hto_category', 'n_genes', 'n_mito_umis', 'n_reads', 'n_umis', 'original_barcodes', 'pbmc_sample_id', 'pool_id', 'well_id', 'sample.sampleKitGuid', 'cohort.cohortGuid', 'subject.subjectGuid', 'subject.biologicalSex', 'subject.race', 'subject.ethnicity', 'subject.birthYear', 'sample.visitName', 'sample.drawDate', 'sample.diseaseStatesRecordedAtVisit', 'sample.daysSinceFirstVisit', 'file.id', 'subset_grp', 'predicted_doublet', 'doublet_score', 'AIFI_L1', 'AIFI_L1_score', 'AIFI_L2', 'AIFI_L2_score', 'AIFI_L3', 'AIFI_L3_score', 'n_genes_by_counts', 'log1p_n_genes_by_counts', 'total_counts', 'log1p_total_counts', 'pct_counts_in_top_50_genes', 'pct_counts_in_top_100_genes', 'pct_counts_in_top_200_genes', 'pct_counts_in_top_500_genes', 'total_counts_mito', 'log1p_total_counts_mito', 'pct_counts_mito', 'leiden_harmony_2', 'doublets_manual', 'AIFI_L3_new', 'Status_Xsec', 'Status_Long', 'anti_ccp3_finalCombined', 'days_to_conversion', 'BMI', 'CMV_Status_Subj', 'age_conv', 'bmi_conv', 'file.batchID'\n",
       "    obsm: 'X_pca', 'X_pca_harmony', 'X_umap'"
      ]
     },
     "execution_count": 21,
     "metadata": {},
     "output_type": "execute_result"
    }
   ],
   "source": [
    "joint_adata_fl[joint_adata_fl.obs['file.batchID'].isna()]"
   ]
  },
  {
   "cell_type": "code",
   "execution_count": 22,
   "metadata": {},
   "outputs": [
    {
     "data": {
      "text/plain": [
       "array(['at_risk', 'ALTRA_healthy', 'early_RA', 'conversion'], dtype=object)"
      ]
     },
     "execution_count": 22,
     "metadata": {},
     "output_type": "execute_result"
    }
   ],
   "source": [
    "# add a new column for status\n",
    "joint_adata_fl.obs['status'] = joint_adata_fl.obs['Status_Xsec'].astype('str')\n",
    "joint_adata_fl.obs.loc[(joint_adata_fl.obs['Status_Xsec'].isnull()) & \n",
    "    (joint_adata_fl.obs['Status_Long']=='pre'), 'status']  = 'at_risk'\n",
    "joint_adata_fl.obs.loc[joint_adata_fl.obs['Status_Long']=='conversion', 'status']  = 'conversion'\n",
    "joint_adata_fl.obs['status'].unique()"
   ]
  },
  {
   "cell_type": "code",
   "execution_count": 23,
   "metadata": {},
   "outputs": [
    {
     "data": {
      "text/plain": [
       "141"
      ]
     },
     "execution_count": 23,
     "metadata": {},
     "output_type": "execute_result"
    }
   ],
   "source": [
    "len(joint_adata_fl.obs['sample.sampleKitGuid'].unique())"
   ]
  },
  {
   "cell_type": "code",
   "execution_count": 24,
   "metadata": {},
   "outputs": [
    {
     "data": {
      "text/plain": [
       "AnnData object with n_obs × n_vars = 2059581 × 33538\n",
       "    obs: 'barcodes', 'batch_id', 'cell_name', 'cell_uuid', 'chip_id', 'hto_barcode', 'hto_category', 'n_genes', 'n_mito_umis', 'n_reads', 'n_umis', 'original_barcodes', 'pbmc_sample_id', 'pool_id', 'well_id', 'sample.sampleKitGuid', 'cohort.cohortGuid', 'subject.subjectGuid', 'subject.biologicalSex', 'subject.race', 'subject.ethnicity', 'subject.birthYear', 'sample.visitName', 'sample.drawDate', 'sample.diseaseStatesRecordedAtVisit', 'sample.daysSinceFirstVisit', 'file.id', 'subset_grp', 'predicted_doublet', 'doublet_score', 'AIFI_L1', 'AIFI_L1_score', 'AIFI_L2', 'AIFI_L2_score', 'AIFI_L3', 'AIFI_L3_score', 'n_genes_by_counts', 'log1p_n_genes_by_counts', 'total_counts', 'log1p_total_counts', 'pct_counts_in_top_50_genes', 'pct_counts_in_top_100_genes', 'pct_counts_in_top_200_genes', 'pct_counts_in_top_500_genes', 'total_counts_mito', 'log1p_total_counts_mito', 'pct_counts_mito', 'leiden_harmony_2', 'doublets_manual', 'AIFI_L3_new', 'Status_Xsec', 'Status_Long', 'anti_ccp3_finalCombined', 'days_to_conversion', 'BMI', 'CMV_Status_Subj', 'age_conv', 'bmi_conv', 'file.batchID', 'status'\n",
       "    obsm: 'X_pca', 'X_pca_harmony', 'X_umap'"
      ]
     },
     "execution_count": 24,
     "metadata": {},
     "output_type": "execute_result"
    }
   ],
   "source": [
    "joint_adata_fl"
   ]
  },
  {
   "cell_type": "code",
   "execution_count": 25,
   "metadata": {},
   "outputs": [
    {
     "data": {
      "text/plain": [
       "array([[0, 0, 0, ..., 0, 0, 1],\n",
       "       [0, 0, 0, ..., 1, 0, 0],\n",
       "       [0, 0, 0, ..., 0, 1, 0],\n",
       "       ...,\n",
       "       [0, 0, 0, ..., 0, 0, 0],\n",
       "       [0, 0, 0, ..., 0, 0, 0],\n",
       "       [0, 0, 0, ..., 0, 0, 0]], dtype=uint16)"
      ]
     },
     "execution_count": 25,
     "metadata": {},
     "output_type": "execute_result"
    }
   ],
   "source": [
    "# doouble check the raw counts data are stored in X\n",
    "joint_adata_fl.X[1:50, 1:50].toarray()"
   ]
  },
  {
   "cell_type": "code",
   "execution_count": 26,
   "metadata": {},
   "outputs": [],
   "source": [
    "# save the deep clean data with metadata\n",
    "joint_adata_fl.write_h5ad(\n",
    "    '/home/jupyter/data/ra_longitudinal/scrna/certPro/ALTRA_certPro_scRNA_141_samples_combined_adata.h5ad'\n",
    ")"
   ]
  },
  {
   "cell_type": "markdown",
   "metadata": {},
   "source": [
    "## check the overlap between the cert pro and old data "
   ]
  },
  {
   "cell_type": "code",
   "execution_count": 7,
   "metadata": {},
   "outputs": [
    {
     "name": "stderr",
     "output_type": "stream",
     "text": [
      "/home/jupyter/libs/scvi/lib/python3.11/site-packages/anndata/_core/anndata.py:183: ImplicitModificationWarning: Transforming to str index.\n",
      "  warnings.warn(\"Transforming to str index.\", ImplicitModificationWarning)\n"
     ]
    }
   ],
   "source": [
    "# load the deep clean data\n",
    "joint_adata_fl = sc.read_h5ad(\n",
    "    '/home/jupyter/data/ra_longitudinal/scrna/certPro/ALTRA_certPro_scRNA_141_samples_combined_adata.h5ad'\n",
    ")"
   ]
  },
  {
   "cell_type": "code",
   "execution_count": 8,
   "metadata": {},
   "outputs": [
    {
     "data": {
      "text/plain": [
       "AnnData object with n_obs × n_vars = 2059581 × 33538\n",
       "    obs: 'barcodes', 'batch_id', 'cell_name', 'cell_uuid', 'chip_id', 'hto_barcode', 'hto_category', 'n_genes', 'n_mito_umis', 'n_reads', 'n_umis', 'original_barcodes', 'pbmc_sample_id', 'pool_id', 'well_id', 'sample.sampleKitGuid', 'cohort.cohortGuid', 'subject.subjectGuid', 'subject.biologicalSex', 'subject.race', 'subject.ethnicity', 'subject.birthYear', 'sample.visitName', 'sample.drawDate', 'sample.diseaseStatesRecordedAtVisit', 'sample.daysSinceFirstVisit', 'file.id', 'subset_grp', 'predicted_doublet', 'doublet_score', 'AIFI_L1', 'AIFI_L1_score', 'AIFI_L2', 'AIFI_L2_score', 'AIFI_L3', 'AIFI_L3_score', 'n_genes_by_counts', 'log1p_n_genes_by_counts', 'total_counts', 'log1p_total_counts', 'pct_counts_in_top_50_genes', 'pct_counts_in_top_100_genes', 'pct_counts_in_top_200_genes', 'pct_counts_in_top_500_genes', 'total_counts_mito', 'log1p_total_counts_mito', 'pct_counts_mito', 'leiden_harmony_2', 'doublets_manual', 'AIFI_L3_new', 'Status_Xsec', 'Status_Long', 'anti_ccp3_finalCombined', 'days_to_conversion', 'BMI', 'CMV_Status_Subj', 'age_conv', 'bmi_conv', 'file.batchID', 'status'\n",
       "    obsm: 'X_pca', 'X_pca_harmony', 'X_umap'"
      ]
     },
     "execution_count": 8,
     "metadata": {},
     "output_type": "execute_result"
    }
   ],
   "source": [
    "joint_adata_fl"
   ]
  },
  {
   "cell_type": "code",
   "execution_count": null,
   "metadata": {},
   "outputs": [],
   "source": []
  },
  {
   "cell_type": "markdown",
   "metadata": {},
   "source": [
    "## output the cell type labels for DA analysis\n"
   ]
  },
  {
   "cell_type": "code",
   "execution_count": 30,
   "metadata": {},
   "outputs": [],
   "source": [
    "joint_adata_fl.obs.to_csv(output_path + proj_name + 'meta_data.tsv', sep=\"\\t\")"
   ]
  },
  {
   "cell_type": "markdown",
   "metadata": {},
   "source": [
    "# normalization"
   ]
  },
  {
   "cell_type": "code",
   "execution_count": 45,
   "metadata": {},
   "outputs": [],
   "source": [
    "# save the raw counts\n",
    "joint_adata_fl.layers['counts'] = joint_adata_fl.X.copy()"
   ]
  },
  {
   "cell_type": "code",
   "execution_count": null,
   "metadata": {},
   "outputs": [],
   "source": [
    "# mitochondrial genes\n",
    "joint_adata_fl.var[\"mt\"] = joint_adata_fl.var_names.str.startswith(\"MT-\")\n",
    "# ribosomal genes\n",
    "joint_adata_fl.var[\"ribo\"] = joint_adata_fl.var_names.str.startswith((\"RPS\", \"RPL\"))\n",
    "# hemoglobin genes\n",
    "joint_adata_fl.var[\"hb\"] = joint_adata_fl.var_names.str.contains((\"^HB[^(P)]\"))\n",
    "sc.pp.calculate_qc_metrics(\n",
    "    joint_adata_fl, qc_vars=[\"mt\", \"ribo\", \"hb\"], inplace=True, percent_top=[20], log1p=True\n",
    ")"
   ]
  },
  {
   "cell_type": "code",
   "execution_count": null,
   "metadata": {},
   "outputs": [],
   "source": [
    "joint_adata_fl.obs"
   ]
  },
  {
   "cell_type": "code",
   "execution_count": null,
   "metadata": {},
   "outputs": [],
   "source": [
    "plt.rcParams['figure.figsize'] = [12, 4]\n",
    "p1 = sc.pl.violin(joint_adata_fl, ['pct_counts_ribo'],\n",
    "                  save=proj_name+'pct_counts_ribo_batch_violin.png',\n",
    "                  rotation=45, groupby='file.batchID')"
   ]
  },
  {
   "cell_type": "code",
   "execution_count": null,
   "metadata": {},
   "outputs": [],
   "source": [
    "p1 = sc.pl.violin(joint_adata_fl, ['pct_counts_ribo'],\n",
    "                  save=proj_name+'pct_counts_ribo_cell_type_violin.png',\n",
    "                  rotation=90, groupby='predicted_labelsL2')"
   ]
  },
  {
   "cell_type": "code",
   "execution_count": null,
   "metadata": {},
   "outputs": [],
   "source": [
    "p1 = sc.pl.violin(joint_adata_fl, ['pct_counts_mt'],\n",
    "                  save=proj_name+'pct_counts_mt_batch_violin.png',\n",
    "                  rotation=45, groupby='file.batchID')"
   ]
  },
  {
   "cell_type": "code",
   "execution_count": null,
   "metadata": {},
   "outputs": [],
   "source": [
    "p1 = sc.pl.violin(joint_adata_fl, ['pct_counts_hb'],\n",
    "                  save=proj_name+'pct_counts_hb_batch_violin.png',\n",
    "                  rotation=45, groupby='file.batchID')"
   ]
  },
  {
   "cell_type": "code",
   "execution_count": null,
   "metadata": {},
   "outputs": [],
   "source": [
    "# apply some filtering\n",
    "sc.pp.filter_cells(joint_adata_fl, min_genes=200)\n",
    "sc.pp.filter_genes(joint_adata_fl, min_cells=3)"
   ]
  },
  {
   "cell_type": "code",
   "execution_count": null,
   "metadata": {},
   "outputs": [],
   "source": [
    "p1 = sns.histplot(joint_adata_fl.obs[\"total_counts\"], bins=100, kde=False)"
   ]
  },
  {
   "cell_type": "code",
   "execution_count": null,
   "metadata": {},
   "outputs": [],
   "source": [
    "# Shifted logarithm transform\n",
    "sc.pp.normalize_total(joint_adata_fl, target_sum=None)"
   ]
  },
  {
   "cell_type": "code",
   "execution_count": null,
   "metadata": {
    "scrolled": true
   },
   "outputs": [],
   "source": [
    "joint_adata_fl"
   ]
  },
  {
   "cell_type": "code",
   "execution_count": null,
   "metadata": {},
   "outputs": [],
   "source": [
    "# fig, axes = plt.subplots(1, 2, figsize=(10, 5))\n",
    "# p1 = sns.histplot(joint_adata_fl.obs[\"total_counts\"], bins=100, kde=False, ax=axes[0])\n",
    "# axes[0].set_title(\"Total counts\")\n",
    "# p2 = sns.histplot(joint_adata_fl.layers[\"log1p_norm\"].sum(1), bins=100, kde=False, ax=axes[1])\n",
    "# axes[1].set_title(\"Shifted logarithm\")\n",
    "# plt.show()"
   ]
  },
  {
   "cell_type": "code",
   "execution_count": null,
   "metadata": {},
   "outputs": [],
   "source": [
    "%%time\n",
    "# cpm normalization\n",
    "# sc.pp.normalize_total(joint_adata_fl, target_sum=1e4, inplace=True)\n",
    "sc.pp.log1p(joint_adata_fl)\n"
   ]
  },
  {
   "cell_type": "code",
   "execution_count": null,
   "metadata": {},
   "outputs": [],
   "source": [
    "# %%time\n",
    "sc.pp.highly_variable_genes(joint_adata_fl, min_mean=0.0125, max_mean=3, min_disp=0.5)"
   ]
  },
  {
   "cell_type": "code",
   "execution_count": null,
   "metadata": {},
   "outputs": [],
   "source": [
    "sc.pl.highly_variable_genes(joint_adata_fl)"
   ]
  },
  {
   "cell_type": "code",
   "execution_count": null,
   "metadata": {},
   "outputs": [],
   "source": [
    "joint_adata_fl.var.highly_variable.value_counts()"
   ]
  },
  {
   "cell_type": "code",
   "execution_count": null,
   "metadata": {},
   "outputs": [],
   "source": [
    "# joint_adata_fl.raw = joint_adata_fl"
   ]
  },
  {
   "cell_type": "code",
   "execution_count": null,
   "metadata": {},
   "outputs": [],
   "source": [
    "sc.pp.scale(joint_adata_fl, max_value=10)"
   ]
  },
  {
   "cell_type": "code",
   "execution_count": null,
   "metadata": {},
   "outputs": [],
   "source": [
    "# setting highly variable as highly deviant to use scanpy 'use_highly_variable' argument in sc.pp.pca\n",
    "sc.pp.pca(joint_adata_fl, svd_solver=\"arpack\", use_highly_variable=True)"
   ]
  },
  {
   "cell_type": "code",
   "execution_count": null,
   "metadata": {},
   "outputs": [],
   "source": [
    "# plot the principle component variance explained\n",
    "sc.pl.pca_variance_ratio(joint_adata_fl, log=True)"
   ]
  },
  {
   "cell_type": "code",
   "execution_count": null,
   "metadata": {},
   "outputs": [],
   "source": [
    "sc.pl.pca_scatter(joint_adata_fl, color=[\"pct_counts_ribo\", 'pct_counts_mt'])"
   ]
  },
  {
   "cell_type": "code",
   "execution_count": null,
   "metadata": {},
   "outputs": [],
   "source": [
    "# run harmony\n",
    "import scanpy.external as sce\n",
    "sce.pp.harmony_integrate(joint_adata_fl, 'file.batchID', adjusted_basis='X_pca_harmony')\n"
   ]
  },
  {
   "cell_type": "code",
   "execution_count": null,
   "metadata": {},
   "outputs": [],
   "source": [
    "sc.pp.neighbors( joint_adata_fl, n_pcs=30, use_rep='X_pca_harmony')\n",
    "sc.tl.umap(joint_adata_fl)"
   ]
  },
  {
   "cell_type": "code",
   "execution_count": null,
   "metadata": {},
   "outputs": [],
   "source": [
    "joint_adata_fl.obsm['X_harmony_umap'] = joint_adata_fl.obsm['X_umap'].copy()"
   ]
  },
  {
   "cell_type": "code",
   "execution_count": null,
   "metadata": {},
   "outputs": [],
   "source": [
    "sc.tl.leiden(joint_adata_fl, key_added=\"leiden_0_5\", resolution=0.5, n_iterations=2)"
   ]
  },
  {
   "cell_type": "code",
   "execution_count": null,
   "metadata": {},
   "outputs": [],
   "source": [
    "sc.pl.umap(\n",
    "    joint_adata_fl,\n",
    "    color=['file.batchID',  \"subject.subjectGuid\", 'status'],\n",
    "    ncols=3,\n",
    "    frameon=False,wspace=0.5,\n",
    "    save=  proj_name+'_rna_umap.png'\n",
    ")"
   ]
  },
  {
   "cell_type": "code",
   "execution_count": null,
   "metadata": {},
   "outputs": [],
   "source": [
    "sc.pl.umap(\n",
    "    joint_adata_fl, #legend_loc='on data',\n",
    "    color=['pred_manual'],\n",
    "    save= proj_name+'_immunehealth_l3_TBX21_umap.png'\n",
    ")"
   ]
  },
  {
   "cell_type": "code",
   "execution_count": null,
   "metadata": {},
   "outputs": [],
   "source": []
  }
 ],
 "metadata": {
  "kernelspec": {
   "display_name": "scvi",
   "language": "python",
   "name": "scvi"
  },
  "language_info": {
   "codemirror_mode": {
    "name": "ipython",
    "version": 3
   },
   "file_extension": ".py",
   "mimetype": "text/x-python",
   "name": "python",
   "nbconvert_exporter": "python",
   "pygments_lexer": "ipython3",
   "version": "3.11.5"
  }
 },
 "nbformat": 4,
 "nbformat_minor": 4
}
