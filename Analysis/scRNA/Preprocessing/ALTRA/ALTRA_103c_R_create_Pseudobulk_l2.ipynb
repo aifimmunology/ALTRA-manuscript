{
 "cells": [
  {
   "cell_type": "markdown",
   "id": "70f86d9c-7c47-4e0a-830d-ffecaed4865d",
   "metadata": {},
   "source": [
    "# Create Pseudobulk summarized experiment deg analysis for Longitudinal study\n",
    "## AIFI l2 CertPro data - all 3 aims"
   ]
  },
  {
   "cell_type": "code",
   "execution_count": 1,
   "id": "f42227cc-1297-4293-abf6-dbaf9ce7da18",
   "metadata": {},
   "outputs": [
    {
     "name": "stderr",
     "output_type": "stream",
     "text": [
      "Warning message:\n",
      "“package ‘scran’ was built under R version 4.3.3”\n",
      "Warning message:\n",
      "“package ‘DESeq2’ was built under R version 4.3.3”\n"
     ]
    }
   ],
   "source": [
    "# load library\n",
    "quiet_library <- function(...) {\n",
    "    suppressPackageStartupMessages(library(...))\n",
    "}\n",
    "quiet_library(Seurat)\n",
    "quiet_library(tidyverse)\n",
    "quiet_library(ggplot2)\n",
    "quiet_library(Matrix)\n",
    "quiet_library(dplyr)\n",
    "quiet_library(viridis)\n",
    "quiet_library('MAST')\n",
    "quiet_library('scran')\n",
    "quiet_library('data.table')\n",
    "quiet_library('SingleCellExperiment')\n",
    "quiet_library('SeuratDisk')\n",
    "quiet_library('tictoc')\n",
    "quiet_library('glmmSeq')\n",
    "quiet_library('DESeq2')\n",
    "quiet_library('knitr')\n",
    "quiet_library('kableExtra')\n",
    "quiet_library('SummarizedExperiment')"
   ]
  },
  {
   "cell_type": "code",
   "execution_count": 2,
   "id": "98bebe97-981b-4987-a10e-6733c73bef79",
   "metadata": {},
   "outputs": [
    {
     "data": {
      "text/plain": [
       "[1] ‘0.0.0.9021’"
      ]
     },
     "metadata": {},
     "output_type": "display_data"
    }
   ],
   "source": [
    "packageVersion('SeuratDisk')\n",
    "set.seed(1234)"
   ]
  },
  {
   "cell_type": "code",
   "execution_count": 8,
   "id": "547f5a97-6ccd-4270-91b8-b4bd333e3a03",
   "metadata": {},
   "outputs": [],
   "source": [
    "# define working path\n",
    "data_path = '/home/jupyter/data/ra_longitudinal/scrna/certPro/counts/aifi_l2'\n",
    "fig_path = '/home/jupyter/data/ra_longitudinal/figures'\n",
    "meta_path = '/home/jupyter/github/ra-longitudinal/metadata'\n",
    "output_path = '/home/jupyter/data/ra_longitudinal/output_results/pseudobulk/deepclean'\n",
    "proj_name = 'ALTRA_scRNA_AIFI_L2_Pseudobulk_'"
   ]
  },
  {
   "cell_type": "code",
   "execution_count": 9,
   "id": "b230bd68-d3ac-40e7-92e1-1aa15164072f",
   "metadata": {},
   "outputs": [],
   "source": [
    "# define the color palette to be used\n",
    "npg_color <- c(\"#E64B35FF\", \"#4DBBD5FF\", \"#00A087FF\", \"#3C5488FF\", \"#F39B7FFF\", \n",
    "               \"#8491B4FF\", \"#91D1C2FF\", \"#DC0000FF\", \"#7E6148FF\", \"#B09C85FF\")\n",
    "nejm_color <- c(\"#BC3C29FF\", \"#0072B5FF\", \"#E18727FF\", \"#20854EFF\", \"#7876B1FF\", \"#6F99ADFF\", \"#FFDC91FF\", \"#EE4C97FF\")\n",
    "jama_color <- c(\"#374E55FF\", \"#DF8F44FF\", \"#00A1D5FF\", \"#B24745FF\", \"#79AF97FF\", \"#6A6599FF\", \"#80796BFF\")\n",
    "jco_color <- c(\"#0073C2FF\", \"#EFC000FF\", \"#868686FF\", \"#CD534CFF\", \"#7AA6DCFF\", \"#003C67FF\", \"#8F7700FF\")\n",
    "cluster_colors <- c(\"#DC050C\", \"#FB8072\", \"#1965B0\", \"#7BAFDE\", \"#882E72\", \"#B17BA6\", \"#FF7F00\", \"#FDB462\", \"#E7298A\", \n",
    "    \"#E78AC3\", \"#33A02C\", \"#B2DF8A\", \"#55A1B1\", \"#8DD3C7\", \"#A6761D\", \"#E6AB02\", \"#7570B3\", \"#BEAED4\", \"#666666\", \"#999999\", \n",
    "    \"#aa8282\", \"#d4b7b7\", \"#8600bf\", \"#ba5ce3\", \"#808000\", \"#aeae5c\", \"#1e90ff\", \"#00bfff\", \"#56ff0d\", \"#ffff00\")\n",
    "cluster_colors_ext <- colorRampPalette(cluster_colors)(36)\n",
    "options(repr.plot.width = 20, repr.plot.height = 15)"
   ]
  },
  {
   "cell_type": "markdown",
   "id": "1f5c8626-20cc-4907-a738-c7e455d80434",
   "metadata": {},
   "source": [
    "## load psedocounts and metadata in each aim and cell types"
   ]
  },
  {
   "cell_type": "code",
   "execution_count": 11,
   "id": "b8d3094b-4a6c-4a32-8b14-ed93bd21fcb4",
   "metadata": {},
   "outputs": [
    {
     "data": {
      "text/html": [
       "TRUE"
      ],
      "text/latex": [
       "TRUE"
      ],
      "text/markdown": [
       "TRUE"
      ],
      "text/plain": [
       "[1] TRUE"
      ]
     },
     "metadata": {},
     "output_type": "display_data"
    },
    {
     "data": {
      "text/html": [
       "<table class=\"dataframe\">\n",
       "<caption>A tibble: 6 × 4</caption>\n",
       "<thead>\n",
       "\t<tr><th scope=col>Aim</th><th scope=col>cell_type</th><th scope=col>counts_file</th><th scope=col>meta_file</th></tr>\n",
       "\t<tr><th scope=col>&lt;chr&gt;</th><th scope=col>&lt;chr&gt;</th><th scope=col>&lt;chr&gt;</th><th scope=col>&lt;chr&gt;</th></tr>\n",
       "</thead>\n",
       "<tbody>\n",
       "\t<tr><td>aim3</td><td>ASDC              </td><td>aim3/ALTRA_scRNA_AIFI_L2_certpro_pseudobulk__ASDC_psbulk_counts.tsv              </td><td>aim3/ALTRA_scRNA_AIFI_L2_certpro_pseudobulk__ASDC_psbulk_metadata.csv              </td></tr>\n",
       "\t<tr><td>aim3</td><td>CD14 monocyte     </td><td>aim3/ALTRA_scRNA_AIFI_L2_certpro_pseudobulk__CD14 monocyte_psbulk_counts.tsv     </td><td>aim3/ALTRA_scRNA_AIFI_L2_certpro_pseudobulk__CD14 monocyte_psbulk_metadata.csv     </td></tr>\n",
       "\t<tr><td>aim3</td><td>CD16 monocyte     </td><td>aim3/ALTRA_scRNA_AIFI_L2_certpro_pseudobulk__CD16 monocyte_psbulk_counts.tsv     </td><td>aim3/ALTRA_scRNA_AIFI_L2_certpro_pseudobulk__CD16 monocyte_psbulk_metadata.csv     </td></tr>\n",
       "\t<tr><td>aim3</td><td>CD56bright NK cell</td><td>aim3/ALTRA_scRNA_AIFI_L2_certpro_pseudobulk__CD56bright NK cell_psbulk_counts.tsv</td><td>aim3/ALTRA_scRNA_AIFI_L2_certpro_pseudobulk__CD56bright NK cell_psbulk_metadata.csv</td></tr>\n",
       "\t<tr><td>aim3</td><td>CD56dim NK cell   </td><td>aim3/ALTRA_scRNA_AIFI_L2_certpro_pseudobulk__CD56dim NK cell_psbulk_counts.tsv   </td><td>aim3/ALTRA_scRNA_AIFI_L2_certpro_pseudobulk__CD56dim NK cell_psbulk_metadata.csv   </td></tr>\n",
       "\t<tr><td>aim3</td><td>CD8aa             </td><td>aim3/ALTRA_scRNA_AIFI_L2_certpro_pseudobulk__CD8aa_psbulk_counts.tsv             </td><td>aim3/ALTRA_scRNA_AIFI_L2_certpro_pseudobulk__CD8aa_psbulk_metadata.csv             </td></tr>\n",
       "</tbody>\n",
       "</table>\n"
      ],
      "text/latex": [
       "A tibble: 6 × 4\n",
       "\\begin{tabular}{llll}\n",
       " Aim & cell\\_type & counts\\_file & meta\\_file\\\\\n",
       " <chr> & <chr> & <chr> & <chr>\\\\\n",
       "\\hline\n",
       "\t aim3 & ASDC               & aim3/ALTRA\\_scRNA\\_AIFI\\_L2\\_certpro\\_pseudobulk\\_\\_ASDC\\_psbulk\\_counts.tsv               & aim3/ALTRA\\_scRNA\\_AIFI\\_L2\\_certpro\\_pseudobulk\\_\\_ASDC\\_psbulk\\_metadata.csv              \\\\\n",
       "\t aim3 & CD14 monocyte      & aim3/ALTRA\\_scRNA\\_AIFI\\_L2\\_certpro\\_pseudobulk\\_\\_CD14 monocyte\\_psbulk\\_counts.tsv      & aim3/ALTRA\\_scRNA\\_AIFI\\_L2\\_certpro\\_pseudobulk\\_\\_CD14 monocyte\\_psbulk\\_metadata.csv     \\\\\n",
       "\t aim3 & CD16 monocyte      & aim3/ALTRA\\_scRNA\\_AIFI\\_L2\\_certpro\\_pseudobulk\\_\\_CD16 monocyte\\_psbulk\\_counts.tsv      & aim3/ALTRA\\_scRNA\\_AIFI\\_L2\\_certpro\\_pseudobulk\\_\\_CD16 monocyte\\_psbulk\\_metadata.csv     \\\\\n",
       "\t aim3 & CD56bright NK cell & aim3/ALTRA\\_scRNA\\_AIFI\\_L2\\_certpro\\_pseudobulk\\_\\_CD56bright NK cell\\_psbulk\\_counts.tsv & aim3/ALTRA\\_scRNA\\_AIFI\\_L2\\_certpro\\_pseudobulk\\_\\_CD56bright NK cell\\_psbulk\\_metadata.csv\\\\\n",
       "\t aim3 & CD56dim NK cell    & aim3/ALTRA\\_scRNA\\_AIFI\\_L2\\_certpro\\_pseudobulk\\_\\_CD56dim NK cell\\_psbulk\\_counts.tsv    & aim3/ALTRA\\_scRNA\\_AIFI\\_L2\\_certpro\\_pseudobulk\\_\\_CD56dim NK cell\\_psbulk\\_metadata.csv   \\\\\n",
       "\t aim3 & CD8aa              & aim3/ALTRA\\_scRNA\\_AIFI\\_L2\\_certpro\\_pseudobulk\\_\\_CD8aa\\_psbulk\\_counts.tsv              & aim3/ALTRA\\_scRNA\\_AIFI\\_L2\\_certpro\\_pseudobulk\\_\\_CD8aa\\_psbulk\\_metadata.csv             \\\\\n",
       "\\end{tabular}\n"
      ],
      "text/markdown": [
       "\n",
       "A tibble: 6 × 4\n",
       "\n",
       "| Aim &lt;chr&gt; | cell_type &lt;chr&gt; | counts_file &lt;chr&gt; | meta_file &lt;chr&gt; |\n",
       "|---|---|---|---|\n",
       "| aim3 | ASDC               | aim3/ALTRA_scRNA_AIFI_L2_certpro_pseudobulk__ASDC_psbulk_counts.tsv               | aim3/ALTRA_scRNA_AIFI_L2_certpro_pseudobulk__ASDC_psbulk_metadata.csv               |\n",
       "| aim3 | CD14 monocyte      | aim3/ALTRA_scRNA_AIFI_L2_certpro_pseudobulk__CD14 monocyte_psbulk_counts.tsv      | aim3/ALTRA_scRNA_AIFI_L2_certpro_pseudobulk__CD14 monocyte_psbulk_metadata.csv      |\n",
       "| aim3 | CD16 monocyte      | aim3/ALTRA_scRNA_AIFI_L2_certpro_pseudobulk__CD16 monocyte_psbulk_counts.tsv      | aim3/ALTRA_scRNA_AIFI_L2_certpro_pseudobulk__CD16 monocyte_psbulk_metadata.csv      |\n",
       "| aim3 | CD56bright NK cell | aim3/ALTRA_scRNA_AIFI_L2_certpro_pseudobulk__CD56bright NK cell_psbulk_counts.tsv | aim3/ALTRA_scRNA_AIFI_L2_certpro_pseudobulk__CD56bright NK cell_psbulk_metadata.csv |\n",
       "| aim3 | CD56dim NK cell    | aim3/ALTRA_scRNA_AIFI_L2_certpro_pseudobulk__CD56dim NK cell_psbulk_counts.tsv    | aim3/ALTRA_scRNA_AIFI_L2_certpro_pseudobulk__CD56dim NK cell_psbulk_metadata.csv    |\n",
       "| aim3 | CD8aa              | aim3/ALTRA_scRNA_AIFI_L2_certpro_pseudobulk__CD8aa_psbulk_counts.tsv              | aim3/ALTRA_scRNA_AIFI_L2_certpro_pseudobulk__CD8aa_psbulk_metadata.csv              |\n",
       "\n"
      ],
      "text/plain": [
       "  Aim  cell_type         \n",
       "1 aim3 ASDC              \n",
       "2 aim3 CD14 monocyte     \n",
       "3 aim3 CD16 monocyte     \n",
       "4 aim3 CD56bright NK cell\n",
       "5 aim3 CD56dim NK cell   \n",
       "6 aim3 CD8aa             \n",
       "  counts_file                                                                      \n",
       "1 aim3/ALTRA_scRNA_AIFI_L2_certpro_pseudobulk__ASDC_psbulk_counts.tsv              \n",
       "2 aim3/ALTRA_scRNA_AIFI_L2_certpro_pseudobulk__CD14 monocyte_psbulk_counts.tsv     \n",
       "3 aim3/ALTRA_scRNA_AIFI_L2_certpro_pseudobulk__CD16 monocyte_psbulk_counts.tsv     \n",
       "4 aim3/ALTRA_scRNA_AIFI_L2_certpro_pseudobulk__CD56bright NK cell_psbulk_counts.tsv\n",
       "5 aim3/ALTRA_scRNA_AIFI_L2_certpro_pseudobulk__CD56dim NK cell_psbulk_counts.tsv   \n",
       "6 aim3/ALTRA_scRNA_AIFI_L2_certpro_pseudobulk__CD8aa_psbulk_counts.tsv             \n",
       "  meta_file                                                                          \n",
       "1 aim3/ALTRA_scRNA_AIFI_L2_certpro_pseudobulk__ASDC_psbulk_metadata.csv              \n",
       "2 aim3/ALTRA_scRNA_AIFI_L2_certpro_pseudobulk__CD14 monocyte_psbulk_metadata.csv     \n",
       "3 aim3/ALTRA_scRNA_AIFI_L2_certpro_pseudobulk__CD16 monocyte_psbulk_metadata.csv     \n",
       "4 aim3/ALTRA_scRNA_AIFI_L2_certpro_pseudobulk__CD56bright NK cell_psbulk_metadata.csv\n",
       "5 aim3/ALTRA_scRNA_AIFI_L2_certpro_pseudobulk__CD56dim NK cell_psbulk_metadata.csv   \n",
       "6 aim3/ALTRA_scRNA_AIFI_L2_certpro_pseudobulk__CD8aa_psbulk_metadata.csv             "
      ]
     },
     "metadata": {},
     "output_type": "display_data"
    }
   ],
   "source": [
    "# convert anndata into sce\n",
    "counts_files <- list.files(pattern = '*psbulk_counts.tsv', data_path, recursive = TRUE)\n",
    "meta_files <- list.files(pattern = '*psbulk_metadata.csv', data_path, recursive = TRUE)\n",
    "# double check the cell type matches\n",
    "cell_types = counts_files%>%str_remove('aim\\\\d/ALTRA_scRNA_AIFI_L2_certpro_pseudobulk__')%>%\n",
    "    str_remove('_psbulk_counts.tsv')\n",
    "cell_type2 = meta_files%>%str_remove('aim\\\\d/ALTRA_scRNA_AIFI_L2_certpro_pseudobulk__')%>%\n",
    "    str_remove('_psbulk_metadata.csv')\n",
    "all(cell_types==cell_type2)\n",
    "# create a table to point to all data\n",
    "files_tb <- tibble( 'Aim'=str_extract(counts_files, 'aim\\\\d'), 'cell_type' = cell_types,\n",
    "                   'counts_file'=counts_files, 'meta_file'=meta_files,)\n",
    "files_tb%>%head()"
   ]
  },
  {
   "cell_type": "code",
   "execution_count": 12,
   "id": "548a183d-3158-46ba-b92e-334cfb88c458",
   "metadata": {},
   "outputs": [
    {
     "data": {
      "text/html": [
       "<table class=\"dataframe\">\n",
       "<caption>A tibble: 6 × 4</caption>\n",
       "<thead>\n",
       "\t<tr><th scope=col>Aim</th><th scope=col>cell_type</th><th scope=col>counts_file</th><th scope=col>meta_file</th></tr>\n",
       "\t<tr><th scope=col>&lt;chr&gt;</th><th scope=col>&lt;chr&gt;</th><th scope=col>&lt;chr&gt;</th><th scope=col>&lt;chr&gt;</th></tr>\n",
       "</thead>\n",
       "<tbody>\n",
       "\t<tr><td>aim3</td><td>Platelet             </td><td>aim3/ALTRA_scRNA_AIFI_L2_certpro_pseudobulk__Platelet_psbulk_counts.tsv             </td><td>aim3/ALTRA_scRNA_AIFI_L2_certpro_pseudobulk__Platelet_psbulk_metadata.csv             </td></tr>\n",
       "\t<tr><td>aim3</td><td>Progenitor cell      </td><td>aim3/ALTRA_scRNA_AIFI_L2_certpro_pseudobulk__Progenitor cell_psbulk_counts.tsv      </td><td>aim3/ALTRA_scRNA_AIFI_L2_certpro_pseudobulk__Progenitor cell_psbulk_metadata.csv      </td></tr>\n",
       "\t<tr><td>aim3</td><td>Proliferating NK cell</td><td>aim3/ALTRA_scRNA_AIFI_L2_certpro_pseudobulk__Proliferating NK cell_psbulk_counts.tsv</td><td>aim3/ALTRA_scRNA_AIFI_L2_certpro_pseudobulk__Proliferating NK cell_psbulk_metadata.csv</td></tr>\n",
       "\t<tr><td>aim3</td><td>Proliferating T cell </td><td>aim3/ALTRA_scRNA_AIFI_L2_certpro_pseudobulk__Proliferating T cell_psbulk_counts.tsv </td><td>aim3/ALTRA_scRNA_AIFI_L2_certpro_pseudobulk__Proliferating T cell_psbulk_metadata.csv </td></tr>\n",
       "\t<tr><td>aim3</td><td>Transitional B cell  </td><td>aim3/ALTRA_scRNA_AIFI_L2_certpro_pseudobulk__Transitional B cell_psbulk_counts.tsv  </td><td>aim3/ALTRA_scRNA_AIFI_L2_certpro_pseudobulk__Transitional B cell_psbulk_metadata.csv  </td></tr>\n",
       "\t<tr><td>aim3</td><td>Treg                 </td><td>aim3/ALTRA_scRNA_AIFI_L2_certpro_pseudobulk__Treg_psbulk_counts.tsv                 </td><td>aim3/ALTRA_scRNA_AIFI_L2_certpro_pseudobulk__Treg_psbulk_metadata.csv                 </td></tr>\n",
       "</tbody>\n",
       "</table>\n"
      ],
      "text/latex": [
       "A tibble: 6 × 4\n",
       "\\begin{tabular}{llll}\n",
       " Aim & cell\\_type & counts\\_file & meta\\_file\\\\\n",
       " <chr> & <chr> & <chr> & <chr>\\\\\n",
       "\\hline\n",
       "\t aim3 & Platelet              & aim3/ALTRA\\_scRNA\\_AIFI\\_L2\\_certpro\\_pseudobulk\\_\\_Platelet\\_psbulk\\_counts.tsv              & aim3/ALTRA\\_scRNA\\_AIFI\\_L2\\_certpro\\_pseudobulk\\_\\_Platelet\\_psbulk\\_metadata.csv             \\\\\n",
       "\t aim3 & Progenitor cell       & aim3/ALTRA\\_scRNA\\_AIFI\\_L2\\_certpro\\_pseudobulk\\_\\_Progenitor cell\\_psbulk\\_counts.tsv       & aim3/ALTRA\\_scRNA\\_AIFI\\_L2\\_certpro\\_pseudobulk\\_\\_Progenitor cell\\_psbulk\\_metadata.csv      \\\\\n",
       "\t aim3 & Proliferating NK cell & aim3/ALTRA\\_scRNA\\_AIFI\\_L2\\_certpro\\_pseudobulk\\_\\_Proliferating NK cell\\_psbulk\\_counts.tsv & aim3/ALTRA\\_scRNA\\_AIFI\\_L2\\_certpro\\_pseudobulk\\_\\_Proliferating NK cell\\_psbulk\\_metadata.csv\\\\\n",
       "\t aim3 & Proliferating T cell  & aim3/ALTRA\\_scRNA\\_AIFI\\_L2\\_certpro\\_pseudobulk\\_\\_Proliferating T cell\\_psbulk\\_counts.tsv  & aim3/ALTRA\\_scRNA\\_AIFI\\_L2\\_certpro\\_pseudobulk\\_\\_Proliferating T cell\\_psbulk\\_metadata.csv \\\\\n",
       "\t aim3 & Transitional B cell   & aim3/ALTRA\\_scRNA\\_AIFI\\_L2\\_certpro\\_pseudobulk\\_\\_Transitional B cell\\_psbulk\\_counts.tsv   & aim3/ALTRA\\_scRNA\\_AIFI\\_L2\\_certpro\\_pseudobulk\\_\\_Transitional B cell\\_psbulk\\_metadata.csv  \\\\\n",
       "\t aim3 & Treg                  & aim3/ALTRA\\_scRNA\\_AIFI\\_L2\\_certpro\\_pseudobulk\\_\\_Treg\\_psbulk\\_counts.tsv                  & aim3/ALTRA\\_scRNA\\_AIFI\\_L2\\_certpro\\_pseudobulk\\_\\_Treg\\_psbulk\\_metadata.csv                 \\\\\n",
       "\\end{tabular}\n"
      ],
      "text/markdown": [
       "\n",
       "A tibble: 6 × 4\n",
       "\n",
       "| Aim &lt;chr&gt; | cell_type &lt;chr&gt; | counts_file &lt;chr&gt; | meta_file &lt;chr&gt; |\n",
       "|---|---|---|---|\n",
       "| aim3 | Platelet              | aim3/ALTRA_scRNA_AIFI_L2_certpro_pseudobulk__Platelet_psbulk_counts.tsv              | aim3/ALTRA_scRNA_AIFI_L2_certpro_pseudobulk__Platelet_psbulk_metadata.csv              |\n",
       "| aim3 | Progenitor cell       | aim3/ALTRA_scRNA_AIFI_L2_certpro_pseudobulk__Progenitor cell_psbulk_counts.tsv       | aim3/ALTRA_scRNA_AIFI_L2_certpro_pseudobulk__Progenitor cell_psbulk_metadata.csv       |\n",
       "| aim3 | Proliferating NK cell | aim3/ALTRA_scRNA_AIFI_L2_certpro_pseudobulk__Proliferating NK cell_psbulk_counts.tsv | aim3/ALTRA_scRNA_AIFI_L2_certpro_pseudobulk__Proliferating NK cell_psbulk_metadata.csv |\n",
       "| aim3 | Proliferating T cell  | aim3/ALTRA_scRNA_AIFI_L2_certpro_pseudobulk__Proliferating T cell_psbulk_counts.tsv  | aim3/ALTRA_scRNA_AIFI_L2_certpro_pseudobulk__Proliferating T cell_psbulk_metadata.csv  |\n",
       "| aim3 | Transitional B cell   | aim3/ALTRA_scRNA_AIFI_L2_certpro_pseudobulk__Transitional B cell_psbulk_counts.tsv   | aim3/ALTRA_scRNA_AIFI_L2_certpro_pseudobulk__Transitional B cell_psbulk_metadata.csv   |\n",
       "| aim3 | Treg                  | aim3/ALTRA_scRNA_AIFI_L2_certpro_pseudobulk__Treg_psbulk_counts.tsv                  | aim3/ALTRA_scRNA_AIFI_L2_certpro_pseudobulk__Treg_psbulk_metadata.csv                  |\n",
       "\n"
      ],
      "text/plain": [
       "  Aim  cell_type            \n",
       "1 aim3 Platelet             \n",
       "2 aim3 Progenitor cell      \n",
       "3 aim3 Proliferating NK cell\n",
       "4 aim3 Proliferating T cell \n",
       "5 aim3 Transitional B cell  \n",
       "6 aim3 Treg                 \n",
       "  counts_file                                                                         \n",
       "1 aim3/ALTRA_scRNA_AIFI_L2_certpro_pseudobulk__Platelet_psbulk_counts.tsv             \n",
       "2 aim3/ALTRA_scRNA_AIFI_L2_certpro_pseudobulk__Progenitor cell_psbulk_counts.tsv      \n",
       "3 aim3/ALTRA_scRNA_AIFI_L2_certpro_pseudobulk__Proliferating NK cell_psbulk_counts.tsv\n",
       "4 aim3/ALTRA_scRNA_AIFI_L2_certpro_pseudobulk__Proliferating T cell_psbulk_counts.tsv \n",
       "5 aim3/ALTRA_scRNA_AIFI_L2_certpro_pseudobulk__Transitional B cell_psbulk_counts.tsv  \n",
       "6 aim3/ALTRA_scRNA_AIFI_L2_certpro_pseudobulk__Treg_psbulk_counts.tsv                 \n",
       "  meta_file                                                                             \n",
       "1 aim3/ALTRA_scRNA_AIFI_L2_certpro_pseudobulk__Platelet_psbulk_metadata.csv             \n",
       "2 aim3/ALTRA_scRNA_AIFI_L2_certpro_pseudobulk__Progenitor cell_psbulk_metadata.csv      \n",
       "3 aim3/ALTRA_scRNA_AIFI_L2_certpro_pseudobulk__Proliferating NK cell_psbulk_metadata.csv\n",
       "4 aim3/ALTRA_scRNA_AIFI_L2_certpro_pseudobulk__Proliferating T cell_psbulk_metadata.csv \n",
       "5 aim3/ALTRA_scRNA_AIFI_L2_certpro_pseudobulk__Transitional B cell_psbulk_metadata.csv  \n",
       "6 aim3/ALTRA_scRNA_AIFI_L2_certpro_pseudobulk__Treg_psbulk_metadata.csv                 "
      ]
     },
     "metadata": {},
     "output_type": "display_data"
    }
   ],
   "source": [
    "files_tb%>%tail()"
   ]
  },
  {
   "cell_type": "code",
   "execution_count": 14,
   "id": "c7f9241f-cdab-4c9c-a950-56b269cf94b4",
   "metadata": {},
   "outputs": [
    {
     "data": {
      "text/plain": [
       "class: SummarizedExperiment \n",
       "dim: 7638 65 \n",
       "metadata(0):\n",
       "assays(1): counts\n",
       "rownames(7638): A1BG AAAS ... ZYX ZZEF1\n",
       "rowData names(0):\n",
       "colnames: NULL\n",
       "colData names(34): index batch_id ... psbulk_n_cells psbulk_counts"
      ]
     },
     "metadata": {},
     "output_type": "display_data"
    }
   ],
   "source": [
    "# load data for one cell type\n",
    "pb_counts <- fread(file.path(data_path, files_tb$counts_file[3]))%>% rename('V1'='index')\n",
    "# load the metadata\n",
    "pb_meta <- fread(file.path(data_path, files_tb$meta_file[3]))%>% rename('V1'='index')\n",
    "# check the index \n",
    "stopifnot(all(pb_counts$index==pb_meta$index))\n",
    "# make count matrix\n",
    "pb_counts_mx <- pb_counts %>% select(-index)%>%\n",
    "    as.data.frame()%>% t()\n",
    "# make summarized experiment\n",
    "pb_se <- SummarizedExperiment(assays=list(counts=pb_counts_mx), colData=pb_meta)\n",
    "pb_se"
   ]
  },
  {
   "cell_type": "code",
   "execution_count": 9,
   "id": "73937ddb-2f97-426f-bbd1-5b7d38caab2b",
   "metadata": {},
   "outputs": [],
   "source": [
    "# loop for all cell type in AIM1\n",
    "aim1_files <- files_tb %>% filter(Aim=='aim1')\n",
    "pb_se_aim1 <- lapply(1:nrow(aim1_files), function(x){\n",
    "    # load data for one cell type\n",
    "    pb_counts <- fread(file.path(data_path, aim1_files$counts_file[x]))%>% rename('V1'='index')\n",
    "    # load the metadata\n",
    "    pb_meta <- fread(file.path(data_path, aim1_files$meta_file[x]))%>% rename('V1'='index')\n",
    "    # check the index \n",
    "    stopifnot(all(pb_counts$index==pb_meta$index))\n",
    "    # make count matrix\n",
    "    pb_counts_mx <- pb_counts %>% select(-index)%>%\n",
    "        as.data.frame()%>% t()\n",
    "    # make summarized experiment\n",
    "    pb_se <- SummarizedExperiment(assays=list(counts=pb_counts_mx), colData=pb_meta)\n",
    "})\n",
    "names(pb_se_aim1) <- aim1_files$cell_type"
   ]
  },
  {
   "cell_type": "code",
   "execution_count": 10,
   "id": "1d397661-a878-47f9-be2e-c46f1442b40d",
   "metadata": {
    "scrolled": true
   },
   "outputs": [
    {
     "data": {
      "text/html": [
       "29"
      ],
      "text/latex": [
       "29"
      ],
      "text/markdown": [
       "29"
      ],
      "text/plain": [
       "[1] 29"
      ]
     },
     "metadata": {},
     "output_type": "display_data"
    }
   ],
   "source": [
    "length(pb_se_aim1)"
   ]
  },
  {
   "cell_type": "code",
   "execution_count": 11,
   "id": "93248c1e-5725-466b-b784-29b6395d5b5b",
   "metadata": {
    "scrolled": true
   },
   "outputs": [],
   "source": [
    "pb_se_aim1%>%saveRDS(file.path(output_path, paste0(proj_name, 'AIM1_psedobulk_object_list.rds')))"
   ]
  },
  {
   "cell_type": "code",
   "execution_count": 12,
   "id": "23b40569-e41d-4ff8-a8bb-5961cb81a469",
   "metadata": {},
   "outputs": [],
   "source": [
    "# loop for all cell type in AIM2\n",
    "aim_files <- files_tb %>% filter(Aim=='aim2')\n",
    "pb_se_aim2 <- lapply(1:nrow(aim_files), function(x){\n",
    "    # load data for one cell type\n",
    "    pb_counts <- fread(file.path(data_path, aim_files$counts_file[x]))%>% rename('V1'='index')\n",
    "    # load the metadata\n",
    "    pb_meta <- fread(file.path(data_path, aim_files$meta_file[x]))%>% rename('V1'='index')\n",
    "    # check the index \n",
    "    stopifnot(all(pb_counts$index==pb_meta$index))\n",
    "    # make count matrix\n",
    "    pb_counts_mx <- pb_counts %>% select(-index)%>%\n",
    "        as.data.frame()%>% t()\n",
    "    # make summarized experiment\n",
    "    pb_se <- SummarizedExperiment(assays=list(counts=pb_counts_mx), colData=pb_meta)\n",
    "})\n",
    "names(pb_se_aim2) <- aim_files$cell_type"
   ]
  },
  {
   "cell_type": "code",
   "execution_count": 13,
   "id": "13b6c2bb-7e79-46c2-8bc5-ed4a13242f39",
   "metadata": {
    "scrolled": true
   },
   "outputs": [
    {
     "data": {
      "text/html": [
       "29"
      ],
      "text/latex": [
       "29"
      ],
      "text/markdown": [
       "29"
      ],
      "text/plain": [
       "[1] 29"
      ]
     },
     "metadata": {},
     "output_type": "display_data"
    }
   ],
   "source": [
    "length(pb_se_aim2)"
   ]
  },
  {
   "cell_type": "code",
   "execution_count": 14,
   "id": "e5a5a5b8-b825-48e5-b0c3-76dcc003b3b1",
   "metadata": {},
   "outputs": [],
   "source": [
    "pb_se_aim2%>%saveRDS(file.path(output_path, paste0(proj_name, 'AIM2_psedobulk_object_list.rds')))"
   ]
  },
  {
   "cell_type": "code",
   "execution_count": 15,
   "id": "96fe5732-a60d-4e13-9ec3-a0f73c76b274",
   "metadata": {},
   "outputs": [],
   "source": [
    "# loop for all cell type in AIM2\n",
    "aim_files <- files_tb %>% filter(Aim=='aim3')\n",
    "pb_se_aim3 <- lapply(1:nrow(aim_files), function(x){\n",
    "    # load data for one cell type\n",
    "    pb_counts <- fread(file.path(data_path, aim_files$counts_file[x]))%>% rename('V1'='index')\n",
    "    # load the metadata\n",
    "    pb_meta <- fread(file.path(data_path, aim_files$meta_file[x]))%>% rename('V1'='index')\n",
    "    # check the index \n",
    "    stopifnot(all(pb_counts$index==pb_meta$index))\n",
    "    # make count matrix\n",
    "    pb_counts_mx <- pb_counts %>% select(-index)%>%\n",
    "        as.data.frame()%>% t()\n",
    "    # make summarized experiment\n",
    "    pb_se <- SummarizedExperiment(assays=list(counts=pb_counts_mx), colData=pb_meta)\n",
    "})\n",
    "names(pb_se_aim3) <- aim_files$cell_type"
   ]
  },
  {
   "cell_type": "code",
   "execution_count": 16,
   "id": "9a5229d5-5412-4ac5-bbed-ae02cda3b351",
   "metadata": {
    "scrolled": true
   },
   "outputs": [
    {
     "data": {
      "text/html": [
       "29"
      ],
      "text/latex": [
       "29"
      ],
      "text/markdown": [
       "29"
      ],
      "text/plain": [
       "[1] 29"
      ]
     },
     "metadata": {},
     "output_type": "display_data"
    }
   ],
   "source": [
    "length(pb_se_aim3)"
   ]
  },
  {
   "cell_type": "code",
   "execution_count": 17,
   "id": "8b0e560d-9f6e-445f-b554-1f4738845482",
   "metadata": {},
   "outputs": [],
   "source": [
    "pb_se_aim3 %>% saveRDS(file.path(output_path, paste0(proj_name, 'AIM3_object_list.rds')))"
   ]
  },
  {
   "cell_type": "code",
   "execution_count": 18,
   "id": "b56671e1-567f-4021-ae35-4e1ee21c3218",
   "metadata": {},
   "outputs": [
    {
     "data": {
      "text/html": [
       "'/home/jupyter/data/ra_longitudinal/output_results/pseudobulk/deepclean/ALTRA_scRNA_AIFI_L2_Pseudobulk_AIM3_object_list.rds'"
      ],
      "text/latex": [
       "'/home/jupyter/data/ra\\_longitudinal/output\\_results/pseudobulk/deepclean/ALTRA\\_scRNA\\_AIFI\\_L2\\_Pseudobulk\\_AIM3\\_object\\_list.rds'"
      ],
      "text/markdown": [
       "'/home/jupyter/data/ra_longitudinal/output_results/pseudobulk/deepclean/ALTRA_scRNA_AIFI_L2_Pseudobulk_AIM3_object_list.rds'"
      ],
      "text/plain": [
       "[1] \"/home/jupyter/data/ra_longitudinal/output_results/pseudobulk/deepclean/ALTRA_scRNA_AIFI_L2_Pseudobulk_AIM3_object_list.rds\""
      ]
     },
     "metadata": {},
     "output_type": "display_data"
    }
   ],
   "source": [
    "file.path(output_path, paste0(proj_name, 'AIM3_object_list.rds'))"
   ]
  },
  {
   "cell_type": "code",
   "execution_count": null,
   "id": "d26535f0-55f8-4b5c-b2ef-ba0842fb31fa",
   "metadata": {},
   "outputs": [],
   "source": []
  }
 ],
 "metadata": {
  "kernelspec": {
   "display_name": "seurat_v5",
   "language": "R",
   "name": "seurat_v5"
  },
  "language_info": {
   "codemirror_mode": "r",
   "file_extension": ".r",
   "mimetype": "text/x-r-source",
   "name": "R",
   "pygments_lexer": "r",
   "version": "4.3.2"
  }
 },
 "nbformat": 4,
 "nbformat_minor": 5
}
