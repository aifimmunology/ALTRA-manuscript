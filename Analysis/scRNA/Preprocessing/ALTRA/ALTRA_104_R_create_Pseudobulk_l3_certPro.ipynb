{
 "cells": [
  {
   "cell_type": "markdown",
   "id": "70f86d9c-7c47-4e0a-830d-ffecaed4865d",
   "metadata": {},
   "source": [
    "# create Pseudobulk summarized experiment deg analysis for Longitudinal study\n",
    "## AIFI l3 Cert pro deep clean data - all 3 aims"
   ]
  },
  {
   "cell_type": "code",
   "execution_count": 1,
   "id": "f42227cc-1297-4293-abf6-dbaf9ce7da18",
   "metadata": {},
   "outputs": [
    {
     "name": "stderr",
     "output_type": "stream",
     "text": [
      "Warning message:\n",
      "“package ‘scran’ was built under R version 4.3.3”\n",
      "Warning message:\n",
      "“package ‘DESeq2’ was built under R version 4.3.3”\n"
     ]
    }
   ],
   "source": [
    "# load library\n",
    "quiet_library <- function(...) {\n",
    "    suppressPackageStartupMessages(library(...))\n",
    "}\n",
    "quiet_library('Seurat')\n",
    "quiet_library('tidyverse')\n",
    "quiet_library('ggplot2')\n",
    "quiet_library('Matrix')\n",
    "quiet_library('dplyr')\n",
    "quiet_library('viridis')\n",
    "quiet_library('MAST')\n",
    "quiet_library('scran')\n",
    "quiet_library('data.table')\n",
    "quiet_library('SingleCellExperiment')\n",
    "quiet_library('SeuratDisk')\n",
    "quiet_library('DESeq2')\n",
    "quiet_library('SummarizedExperiment')"
   ]
  },
  {
   "cell_type": "code",
   "execution_count": 2,
   "id": "98bebe97-981b-4987-a10e-6733c73bef79",
   "metadata": {},
   "outputs": [
    {
     "data": {
      "text/plain": [
       "[1] ‘0.0.0.9021’"
      ]
     },
     "metadata": {},
     "output_type": "display_data"
    }
   ],
   "source": [
    "packageVersion('SeuratDisk')\n",
    "set.seed(1234)"
   ]
  },
  {
   "cell_type": "code",
   "execution_count": 3,
   "id": "547f5a97-6ccd-4270-91b8-b4bd333e3a03",
   "metadata": {},
   "outputs": [],
   "source": [
    "# define working path\n",
    "data_path = '/home/jupyter/data/ra_longitudinal/scrna/certPro/counts/aifi_l3'\n",
    "fig_path = '/home/jupyter/data/ra_longitudinal/figures'\n",
    "meta_path = '/home/jupyter/github/ra-longitudinal/metadata'\n",
    "output_path = '/home/jupyter/data/ra_longitudinal/scrna/certPro'\n",
    "proj_name = 'ALTRA_scRNA_AIFI_L3_Pseudobulk_certPro_'"
   ]
  },
  {
   "cell_type": "code",
   "execution_count": 4,
   "id": "b230bd68-d3ac-40e7-92e1-1aa15164072f",
   "metadata": {},
   "outputs": [],
   "source": [
    "# define the color palette to be used\n",
    "npg_color <- c(\"#E64B35FF\", \"#4DBBD5FF\", \"#00A087FF\", \"#3C5488FF\", \"#F39B7FFF\", \n",
    "               \"#8491B4FF\", \"#91D1C2FF\", \"#DC0000FF\", \"#7E6148FF\", \"#B09C85FF\")\n",
    "nejm_color <- c(\"#BC3C29FF\", \"#0072B5FF\", \"#E18727FF\", \"#20854EFF\", \"#7876B1FF\", \"#6F99ADFF\", \"#FFDC91FF\", \"#EE4C97FF\")\n",
    "jama_color <- c(\"#374E55FF\", \"#DF8F44FF\", \"#00A1D5FF\", \"#B24745FF\", \"#79AF97FF\", \"#6A6599FF\", \"#80796BFF\")\n",
    "jco_color <- c(\"#0073C2FF\", \"#EFC000FF\", \"#868686FF\", \"#CD534CFF\", \"#7AA6DCFF\", \"#003C67FF\", \"#8F7700FF\")\n",
    "cluster_colors <- c(\"#DC050C\", \"#FB8072\", \"#1965B0\", \"#7BAFDE\", \"#882E72\", \"#B17BA6\", \"#FF7F00\", \"#FDB462\", \"#E7298A\", \n",
    "    \"#E78AC3\", \"#33A02C\", \"#B2DF8A\", \"#55A1B1\", \"#8DD3C7\", \"#A6761D\", \"#E6AB02\", \"#7570B3\", \"#BEAED4\", \"#666666\", \"#999999\", \n",
    "    \"#aa8282\", \"#d4b7b7\", \"#8600bf\", \"#ba5ce3\", \"#808000\", \"#aeae5c\", \"#1e90ff\", \"#00bfff\", \"#56ff0d\", \"#ffff00\")\n",
    "cluster_colors_ext <- colorRampPalette(cluster_colors)(36)\n",
    "options(repr.plot.width = 20, repr.plot.height = 15)"
   ]
  },
  {
   "cell_type": "code",
   "execution_count": 5,
   "id": "05f5a9df-b972-4170-bfaf-4b00b4280cc8",
   "metadata": {},
   "outputs": [],
   "source": [
    "source('/home/jupyter/github/ra-longitudinal/scRNA/ALTRA_scRNA_R_helper_functions.r')"
   ]
  },
  {
   "cell_type": "markdown",
   "id": "1f5c8626-20cc-4907-a738-c7e455d80434",
   "metadata": {},
   "source": [
    "## load psedocounts and metadata in each aim and cell types"
   ]
  },
  {
   "cell_type": "code",
   "execution_count": 6,
   "id": "b8d3094b-4a6c-4a32-8b14-ed93bd21fcb4",
   "metadata": {},
   "outputs": [
    {
     "data": {
      "text/html": [
       "TRUE"
      ],
      "text/latex": [
       "TRUE"
      ],
      "text/markdown": [
       "TRUE"
      ],
      "text/plain": [
       "[1] TRUE"
      ]
     },
     "metadata": {},
     "output_type": "display_data"
    },
    {
     "data": {
      "text/html": [
       "<table class=\"dataframe\">\n",
       "<caption>A tibble: 6 × 4</caption>\n",
       "<thead>\n",
       "\t<tr><th scope=col>Aim</th><th scope=col>cell_type</th><th scope=col>counts_file</th><th scope=col>meta_file</th></tr>\n",
       "\t<tr><th scope=col>&lt;chr&gt;</th><th scope=col>&lt;chr&gt;</th><th scope=col>&lt;chr&gt;</th><th scope=col>&lt;chr&gt;</th></tr>\n",
       "</thead>\n",
       "<tbody>\n",
       "\t<tr><td>aim3</td><td>Proliferating T cell          </td><td>aim3/ALTRA_scRNA_AIFI_L3_certpro_pseudobulk__Proliferating T cell_psbulk_counts.tsv          </td><td>aim3/ALTRA_scRNA_AIFI_L3_certpro_pseudobulk__Proliferating T cell_psbulk_metadata.csv          </td></tr>\n",
       "\t<tr><td>aim3</td><td>SOX4+ naive CD4 T cell        </td><td>aim3/ALTRA_scRNA_AIFI_L3_certpro_pseudobulk__SOX4+ naive CD4 T cell_psbulk_counts.tsv        </td><td>aim3/ALTRA_scRNA_AIFI_L3_certpro_pseudobulk__SOX4+ naive CD4 T cell_psbulk_metadata.csv        </td></tr>\n",
       "\t<tr><td>aim3</td><td>SOX4+ naive CD8 T cell        </td><td>aim3/ALTRA_scRNA_AIFI_L3_certpro_pseudobulk__SOX4+ naive CD8 T cell_psbulk_counts.tsv        </td><td>aim3/ALTRA_scRNA_AIFI_L3_certpro_pseudobulk__SOX4+ naive CD8 T cell_psbulk_metadata.csv        </td></tr>\n",
       "\t<tr><td>aim3</td><td>SOX4+ Vd1 gdT                 </td><td>aim3/ALTRA_scRNA_AIFI_L3_certpro_pseudobulk__SOX4+ Vd1 gdT_psbulk_counts.tsv                 </td><td>aim3/ALTRA_scRNA_AIFI_L3_certpro_pseudobulk__SOX4+ Vd1 gdT_psbulk_metadata.csv                 </td></tr>\n",
       "\t<tr><td>aim3</td><td>Transitional B cell           </td><td>aim3/ALTRA_scRNA_AIFI_L3_certpro_pseudobulk__Transitional B cell_psbulk_counts.tsv           </td><td>aim3/ALTRA_scRNA_AIFI_L3_certpro_pseudobulk__Transitional B cell_psbulk_metadata.csv           </td></tr>\n",
       "\t<tr><td>aim3</td><td>Type 2 polarized memory B cell</td><td>aim3/ALTRA_scRNA_AIFI_L3_certpro_pseudobulk__Type 2 polarized memory B cell_psbulk_counts.tsv</td><td>aim3/ALTRA_scRNA_AIFI_L3_certpro_pseudobulk__Type 2 polarized memory B cell_psbulk_metadata.csv</td></tr>\n",
       "</tbody>\n",
       "</table>\n"
      ],
      "text/latex": [
       "A tibble: 6 × 4\n",
       "\\begin{tabular}{llll}\n",
       " Aim & cell\\_type & counts\\_file & meta\\_file\\\\\n",
       " <chr> & <chr> & <chr> & <chr>\\\\\n",
       "\\hline\n",
       "\t aim3 & Proliferating T cell           & aim3/ALTRA\\_scRNA\\_AIFI\\_L3\\_certpro\\_pseudobulk\\_\\_Proliferating T cell\\_psbulk\\_counts.tsv           & aim3/ALTRA\\_scRNA\\_AIFI\\_L3\\_certpro\\_pseudobulk\\_\\_Proliferating T cell\\_psbulk\\_metadata.csv          \\\\\n",
       "\t aim3 & SOX4+ naive CD4 T cell         & aim3/ALTRA\\_scRNA\\_AIFI\\_L3\\_certpro\\_pseudobulk\\_\\_SOX4+ naive CD4 T cell\\_psbulk\\_counts.tsv         & aim3/ALTRA\\_scRNA\\_AIFI\\_L3\\_certpro\\_pseudobulk\\_\\_SOX4+ naive CD4 T cell\\_psbulk\\_metadata.csv        \\\\\n",
       "\t aim3 & SOX4+ naive CD8 T cell         & aim3/ALTRA\\_scRNA\\_AIFI\\_L3\\_certpro\\_pseudobulk\\_\\_SOX4+ naive CD8 T cell\\_psbulk\\_counts.tsv         & aim3/ALTRA\\_scRNA\\_AIFI\\_L3\\_certpro\\_pseudobulk\\_\\_SOX4+ naive CD8 T cell\\_psbulk\\_metadata.csv        \\\\\n",
       "\t aim3 & SOX4+ Vd1 gdT                  & aim3/ALTRA\\_scRNA\\_AIFI\\_L3\\_certpro\\_pseudobulk\\_\\_SOX4+ Vd1 gdT\\_psbulk\\_counts.tsv                  & aim3/ALTRA\\_scRNA\\_AIFI\\_L3\\_certpro\\_pseudobulk\\_\\_SOX4+ Vd1 gdT\\_psbulk\\_metadata.csv                 \\\\\n",
       "\t aim3 & Transitional B cell            & aim3/ALTRA\\_scRNA\\_AIFI\\_L3\\_certpro\\_pseudobulk\\_\\_Transitional B cell\\_psbulk\\_counts.tsv            & aim3/ALTRA\\_scRNA\\_AIFI\\_L3\\_certpro\\_pseudobulk\\_\\_Transitional B cell\\_psbulk\\_metadata.csv           \\\\\n",
       "\t aim3 & Type 2 polarized memory B cell & aim3/ALTRA\\_scRNA\\_AIFI\\_L3\\_certpro\\_pseudobulk\\_\\_Type 2 polarized memory B cell\\_psbulk\\_counts.tsv & aim3/ALTRA\\_scRNA\\_AIFI\\_L3\\_certpro\\_pseudobulk\\_\\_Type 2 polarized memory B cell\\_psbulk\\_metadata.csv\\\\\n",
       "\\end{tabular}\n"
      ],
      "text/markdown": [
       "\n",
       "A tibble: 6 × 4\n",
       "\n",
       "| Aim &lt;chr&gt; | cell_type &lt;chr&gt; | counts_file &lt;chr&gt; | meta_file &lt;chr&gt; |\n",
       "|---|---|---|---|\n",
       "| aim3 | Proliferating T cell           | aim3/ALTRA_scRNA_AIFI_L3_certpro_pseudobulk__Proliferating T cell_psbulk_counts.tsv           | aim3/ALTRA_scRNA_AIFI_L3_certpro_pseudobulk__Proliferating T cell_psbulk_metadata.csv           |\n",
       "| aim3 | SOX4+ naive CD4 T cell         | aim3/ALTRA_scRNA_AIFI_L3_certpro_pseudobulk__SOX4+ naive CD4 T cell_psbulk_counts.tsv         | aim3/ALTRA_scRNA_AIFI_L3_certpro_pseudobulk__SOX4+ naive CD4 T cell_psbulk_metadata.csv         |\n",
       "| aim3 | SOX4+ naive CD8 T cell         | aim3/ALTRA_scRNA_AIFI_L3_certpro_pseudobulk__SOX4+ naive CD8 T cell_psbulk_counts.tsv         | aim3/ALTRA_scRNA_AIFI_L3_certpro_pseudobulk__SOX4+ naive CD8 T cell_psbulk_metadata.csv         |\n",
       "| aim3 | SOX4+ Vd1 gdT                  | aim3/ALTRA_scRNA_AIFI_L3_certpro_pseudobulk__SOX4+ Vd1 gdT_psbulk_counts.tsv                  | aim3/ALTRA_scRNA_AIFI_L3_certpro_pseudobulk__SOX4+ Vd1 gdT_psbulk_metadata.csv                  |\n",
       "| aim3 | Transitional B cell            | aim3/ALTRA_scRNA_AIFI_L3_certpro_pseudobulk__Transitional B cell_psbulk_counts.tsv            | aim3/ALTRA_scRNA_AIFI_L3_certpro_pseudobulk__Transitional B cell_psbulk_metadata.csv            |\n",
       "| aim3 | Type 2 polarized memory B cell | aim3/ALTRA_scRNA_AIFI_L3_certpro_pseudobulk__Type 2 polarized memory B cell_psbulk_counts.tsv | aim3/ALTRA_scRNA_AIFI_L3_certpro_pseudobulk__Type 2 polarized memory B cell_psbulk_metadata.csv |\n",
       "\n"
      ],
      "text/plain": [
       "  Aim  cell_type                     \n",
       "1 aim3 Proliferating T cell          \n",
       "2 aim3 SOX4+ naive CD4 T cell        \n",
       "3 aim3 SOX4+ naive CD8 T cell        \n",
       "4 aim3 SOX4+ Vd1 gdT                 \n",
       "5 aim3 Transitional B cell           \n",
       "6 aim3 Type 2 polarized memory B cell\n",
       "  counts_file                                                                                  \n",
       "1 aim3/ALTRA_scRNA_AIFI_L3_certpro_pseudobulk__Proliferating T cell_psbulk_counts.tsv          \n",
       "2 aim3/ALTRA_scRNA_AIFI_L3_certpro_pseudobulk__SOX4+ naive CD4 T cell_psbulk_counts.tsv        \n",
       "3 aim3/ALTRA_scRNA_AIFI_L3_certpro_pseudobulk__SOX4+ naive CD8 T cell_psbulk_counts.tsv        \n",
       "4 aim3/ALTRA_scRNA_AIFI_L3_certpro_pseudobulk__SOX4+ Vd1 gdT_psbulk_counts.tsv                 \n",
       "5 aim3/ALTRA_scRNA_AIFI_L3_certpro_pseudobulk__Transitional B cell_psbulk_counts.tsv           \n",
       "6 aim3/ALTRA_scRNA_AIFI_L3_certpro_pseudobulk__Type 2 polarized memory B cell_psbulk_counts.tsv\n",
       "  meta_file                                                                                      \n",
       "1 aim3/ALTRA_scRNA_AIFI_L3_certpro_pseudobulk__Proliferating T cell_psbulk_metadata.csv          \n",
       "2 aim3/ALTRA_scRNA_AIFI_L3_certpro_pseudobulk__SOX4+ naive CD4 T cell_psbulk_metadata.csv        \n",
       "3 aim3/ALTRA_scRNA_AIFI_L3_certpro_pseudobulk__SOX4+ naive CD8 T cell_psbulk_metadata.csv        \n",
       "4 aim3/ALTRA_scRNA_AIFI_L3_certpro_pseudobulk__SOX4+ Vd1 gdT_psbulk_metadata.csv                 \n",
       "5 aim3/ALTRA_scRNA_AIFI_L3_certpro_pseudobulk__Transitional B cell_psbulk_metadata.csv           \n",
       "6 aim3/ALTRA_scRNA_AIFI_L3_certpro_pseudobulk__Type 2 polarized memory B cell_psbulk_metadata.csv"
      ]
     },
     "metadata": {},
     "output_type": "display_data"
    }
   ],
   "source": [
    "# convert anndata into sce\n",
    "counts_files <- list.files(pattern = '*psbulk_counts.tsv', data_path, recursive = TRUE)\n",
    "meta_files <- list.files(pattern = '*psbulk_metadata.csv', data_path, recursive = TRUE)\n",
    "# double check the cell type matches\n",
    "cell_types = counts_files%>%str_remove('aim\\\\d/ALTRA_scRNA_AIFI_L3_certpro_pseudobulk__')%>%\n",
    "    str_remove('_psbulk_counts.tsv')\n",
    "cell_type2 = meta_files%>%str_remove('aim\\\\d/ALTRA_scRNA_AIFI_L3_certpro_pseudobulk__')%>%\n",
    "    str_remove('_psbulk_metadata.csv')\n",
    "all(cell_types==cell_type2)\n",
    "# create a table to point to all data\n",
    "files_tb <- tibble( 'Aim'=str_extract(counts_files, 'aim\\\\d'), 'cell_type' = cell_types,\n",
    "                   'counts_file'=counts_files, 'meta_file'=meta_files,)\n",
    "files_tb%>%tail()"
   ]
  },
  {
   "cell_type": "code",
   "execution_count": 7,
   "id": "548a183d-3158-46ba-b92e-334cfb88c458",
   "metadata": {},
   "outputs": [
    {
     "data": {
      "text/html": [
       "<table class=\"dataframe\">\n",
       "<caption>A tibble: 6 × 4</caption>\n",
       "<thead>\n",
       "\t<tr><th scope=col>Aim</th><th scope=col>cell_type</th><th scope=col>counts_file</th><th scope=col>meta_file</th></tr>\n",
       "\t<tr><th scope=col>&lt;chr&gt;</th><th scope=col>&lt;chr&gt;</th><th scope=col>&lt;chr&gt;</th><th scope=col>&lt;chr&gt;</th></tr>\n",
       "</thead>\n",
       "<tbody>\n",
       "\t<tr><td>aim3</td><td>Proliferating T cell          </td><td>aim3/ALTRA_scRNA_AIFI_L3_certpro_pseudobulk__Proliferating T cell_psbulk_counts.tsv          </td><td>aim3/ALTRA_scRNA_AIFI_L3_certpro_pseudobulk__Proliferating T cell_psbulk_metadata.csv          </td></tr>\n",
       "\t<tr><td>aim3</td><td>SOX4+ naive CD4 T cell        </td><td>aim3/ALTRA_scRNA_AIFI_L3_certpro_pseudobulk__SOX4+ naive CD4 T cell_psbulk_counts.tsv        </td><td>aim3/ALTRA_scRNA_AIFI_L3_certpro_pseudobulk__SOX4+ naive CD4 T cell_psbulk_metadata.csv        </td></tr>\n",
       "\t<tr><td>aim3</td><td>SOX4+ naive CD8 T cell        </td><td>aim3/ALTRA_scRNA_AIFI_L3_certpro_pseudobulk__SOX4+ naive CD8 T cell_psbulk_counts.tsv        </td><td>aim3/ALTRA_scRNA_AIFI_L3_certpro_pseudobulk__SOX4+ naive CD8 T cell_psbulk_metadata.csv        </td></tr>\n",
       "\t<tr><td>aim3</td><td>SOX4+ Vd1 gdT                 </td><td>aim3/ALTRA_scRNA_AIFI_L3_certpro_pseudobulk__SOX4+ Vd1 gdT_psbulk_counts.tsv                 </td><td>aim3/ALTRA_scRNA_AIFI_L3_certpro_pseudobulk__SOX4+ Vd1 gdT_psbulk_metadata.csv                 </td></tr>\n",
       "\t<tr><td>aim3</td><td>Transitional B cell           </td><td>aim3/ALTRA_scRNA_AIFI_L3_certpro_pseudobulk__Transitional B cell_psbulk_counts.tsv           </td><td>aim3/ALTRA_scRNA_AIFI_L3_certpro_pseudobulk__Transitional B cell_psbulk_metadata.csv           </td></tr>\n",
       "\t<tr><td>aim3</td><td>Type 2 polarized memory B cell</td><td>aim3/ALTRA_scRNA_AIFI_L3_certpro_pseudobulk__Type 2 polarized memory B cell_psbulk_counts.tsv</td><td>aim3/ALTRA_scRNA_AIFI_L3_certpro_pseudobulk__Type 2 polarized memory B cell_psbulk_metadata.csv</td></tr>\n",
       "</tbody>\n",
       "</table>\n"
      ],
      "text/latex": [
       "A tibble: 6 × 4\n",
       "\\begin{tabular}{llll}\n",
       " Aim & cell\\_type & counts\\_file & meta\\_file\\\\\n",
       " <chr> & <chr> & <chr> & <chr>\\\\\n",
       "\\hline\n",
       "\t aim3 & Proliferating T cell           & aim3/ALTRA\\_scRNA\\_AIFI\\_L3\\_certpro\\_pseudobulk\\_\\_Proliferating T cell\\_psbulk\\_counts.tsv           & aim3/ALTRA\\_scRNA\\_AIFI\\_L3\\_certpro\\_pseudobulk\\_\\_Proliferating T cell\\_psbulk\\_metadata.csv          \\\\\n",
       "\t aim3 & SOX4+ naive CD4 T cell         & aim3/ALTRA\\_scRNA\\_AIFI\\_L3\\_certpro\\_pseudobulk\\_\\_SOX4+ naive CD4 T cell\\_psbulk\\_counts.tsv         & aim3/ALTRA\\_scRNA\\_AIFI\\_L3\\_certpro\\_pseudobulk\\_\\_SOX4+ naive CD4 T cell\\_psbulk\\_metadata.csv        \\\\\n",
       "\t aim3 & SOX4+ naive CD8 T cell         & aim3/ALTRA\\_scRNA\\_AIFI\\_L3\\_certpro\\_pseudobulk\\_\\_SOX4+ naive CD8 T cell\\_psbulk\\_counts.tsv         & aim3/ALTRA\\_scRNA\\_AIFI\\_L3\\_certpro\\_pseudobulk\\_\\_SOX4+ naive CD8 T cell\\_psbulk\\_metadata.csv        \\\\\n",
       "\t aim3 & SOX4+ Vd1 gdT                  & aim3/ALTRA\\_scRNA\\_AIFI\\_L3\\_certpro\\_pseudobulk\\_\\_SOX4+ Vd1 gdT\\_psbulk\\_counts.tsv                  & aim3/ALTRA\\_scRNA\\_AIFI\\_L3\\_certpro\\_pseudobulk\\_\\_SOX4+ Vd1 gdT\\_psbulk\\_metadata.csv                 \\\\\n",
       "\t aim3 & Transitional B cell            & aim3/ALTRA\\_scRNA\\_AIFI\\_L3\\_certpro\\_pseudobulk\\_\\_Transitional B cell\\_psbulk\\_counts.tsv            & aim3/ALTRA\\_scRNA\\_AIFI\\_L3\\_certpro\\_pseudobulk\\_\\_Transitional B cell\\_psbulk\\_metadata.csv           \\\\\n",
       "\t aim3 & Type 2 polarized memory B cell & aim3/ALTRA\\_scRNA\\_AIFI\\_L3\\_certpro\\_pseudobulk\\_\\_Type 2 polarized memory B cell\\_psbulk\\_counts.tsv & aim3/ALTRA\\_scRNA\\_AIFI\\_L3\\_certpro\\_pseudobulk\\_\\_Type 2 polarized memory B cell\\_psbulk\\_metadata.csv\\\\\n",
       "\\end{tabular}\n"
      ],
      "text/markdown": [
       "\n",
       "A tibble: 6 × 4\n",
       "\n",
       "| Aim &lt;chr&gt; | cell_type &lt;chr&gt; | counts_file &lt;chr&gt; | meta_file &lt;chr&gt; |\n",
       "|---|---|---|---|\n",
       "| aim3 | Proliferating T cell           | aim3/ALTRA_scRNA_AIFI_L3_certpro_pseudobulk__Proliferating T cell_psbulk_counts.tsv           | aim3/ALTRA_scRNA_AIFI_L3_certpro_pseudobulk__Proliferating T cell_psbulk_metadata.csv           |\n",
       "| aim3 | SOX4+ naive CD4 T cell         | aim3/ALTRA_scRNA_AIFI_L3_certpro_pseudobulk__SOX4+ naive CD4 T cell_psbulk_counts.tsv         | aim3/ALTRA_scRNA_AIFI_L3_certpro_pseudobulk__SOX4+ naive CD4 T cell_psbulk_metadata.csv         |\n",
       "| aim3 | SOX4+ naive CD8 T cell         | aim3/ALTRA_scRNA_AIFI_L3_certpro_pseudobulk__SOX4+ naive CD8 T cell_psbulk_counts.tsv         | aim3/ALTRA_scRNA_AIFI_L3_certpro_pseudobulk__SOX4+ naive CD8 T cell_psbulk_metadata.csv         |\n",
       "| aim3 | SOX4+ Vd1 gdT                  | aim3/ALTRA_scRNA_AIFI_L3_certpro_pseudobulk__SOX4+ Vd1 gdT_psbulk_counts.tsv                  | aim3/ALTRA_scRNA_AIFI_L3_certpro_pseudobulk__SOX4+ Vd1 gdT_psbulk_metadata.csv                  |\n",
       "| aim3 | Transitional B cell            | aim3/ALTRA_scRNA_AIFI_L3_certpro_pseudobulk__Transitional B cell_psbulk_counts.tsv            | aim3/ALTRA_scRNA_AIFI_L3_certpro_pseudobulk__Transitional B cell_psbulk_metadata.csv            |\n",
       "| aim3 | Type 2 polarized memory B cell | aim3/ALTRA_scRNA_AIFI_L3_certpro_pseudobulk__Type 2 polarized memory B cell_psbulk_counts.tsv | aim3/ALTRA_scRNA_AIFI_L3_certpro_pseudobulk__Type 2 polarized memory B cell_psbulk_metadata.csv |\n",
       "\n"
      ],
      "text/plain": [
       "  Aim  cell_type                     \n",
       "1 aim3 Proliferating T cell          \n",
       "2 aim3 SOX4+ naive CD4 T cell        \n",
       "3 aim3 SOX4+ naive CD8 T cell        \n",
       "4 aim3 SOX4+ Vd1 gdT                 \n",
       "5 aim3 Transitional B cell           \n",
       "6 aim3 Type 2 polarized memory B cell\n",
       "  counts_file                                                                                  \n",
       "1 aim3/ALTRA_scRNA_AIFI_L3_certpro_pseudobulk__Proliferating T cell_psbulk_counts.tsv          \n",
       "2 aim3/ALTRA_scRNA_AIFI_L3_certpro_pseudobulk__SOX4+ naive CD4 T cell_psbulk_counts.tsv        \n",
       "3 aim3/ALTRA_scRNA_AIFI_L3_certpro_pseudobulk__SOX4+ naive CD8 T cell_psbulk_counts.tsv        \n",
       "4 aim3/ALTRA_scRNA_AIFI_L3_certpro_pseudobulk__SOX4+ Vd1 gdT_psbulk_counts.tsv                 \n",
       "5 aim3/ALTRA_scRNA_AIFI_L3_certpro_pseudobulk__Transitional B cell_psbulk_counts.tsv           \n",
       "6 aim3/ALTRA_scRNA_AIFI_L3_certpro_pseudobulk__Type 2 polarized memory B cell_psbulk_counts.tsv\n",
       "  meta_file                                                                                      \n",
       "1 aim3/ALTRA_scRNA_AIFI_L3_certpro_pseudobulk__Proliferating T cell_psbulk_metadata.csv          \n",
       "2 aim3/ALTRA_scRNA_AIFI_L3_certpro_pseudobulk__SOX4+ naive CD4 T cell_psbulk_metadata.csv        \n",
       "3 aim3/ALTRA_scRNA_AIFI_L3_certpro_pseudobulk__SOX4+ naive CD8 T cell_psbulk_metadata.csv        \n",
       "4 aim3/ALTRA_scRNA_AIFI_L3_certpro_pseudobulk__SOX4+ Vd1 gdT_psbulk_metadata.csv                 \n",
       "5 aim3/ALTRA_scRNA_AIFI_L3_certpro_pseudobulk__Transitional B cell_psbulk_metadata.csv           \n",
       "6 aim3/ALTRA_scRNA_AIFI_L3_certpro_pseudobulk__Type 2 polarized memory B cell_psbulk_metadata.csv"
      ]
     },
     "metadata": {},
     "output_type": "display_data"
    }
   ],
   "source": [
    "files_tb%>%tail()"
   ]
  },
  {
   "cell_type": "code",
   "execution_count": 8,
   "id": "c7f9241f-cdab-4c9c-a950-56b269cf94b4",
   "metadata": {},
   "outputs": [],
   "source": [
    "# testing\n",
    "# # load data for one cell type\n",
    "# pb_counts <- fread(file.path(data_path, files_tb$counts_file[3]))%>% rename('V1'='index')\n",
    "# # load the metadata\n",
    "# pb_meta <- fread(file.path(data_path, files_tb$meta_file[3]))%>% rename('V1'='index')\n",
    "# # check the index \n",
    "# stopifnot(all(pb_counts$index==pb_meta$index))\n",
    "# # make count matrix\n",
    "# pb_counts_mx <- pb_counts %>% select(-index)%>%\n",
    "#     as.data.frame()%>% t()\n",
    "# # make summarized experiment\n",
    "# pb_se <- SummarizedExperiment(assays=list(counts=pb_counts_mx), colData=pb_meta)\n",
    "# pb_se"
   ]
  },
  {
   "cell_type": "markdown",
   "id": "f945c9e3-25f4-43d9-a5d9-3747dd89c86e",
   "metadata": {},
   "source": [
    "# Construct SE objects for all cell type in all aims"
   ]
  },
  {
   "cell_type": "code",
   "execution_count": 9,
   "id": "73937ddb-2f97-426f-bbd1-5b7d38caab2b",
   "metadata": {},
   "outputs": [],
   "source": [
    "# loop for all cell type in AIM1\n",
    "aim1_files <- files_tb %>% filter(Aim=='aim1')\n",
    "pb_se_aim1 <- makePseudoSE(aim1_files)"
   ]
  },
  {
   "cell_type": "code",
   "execution_count": 10,
   "id": "1d397661-a878-47f9-be2e-c46f1442b40d",
   "metadata": {
    "scrolled": true
   },
   "outputs": [
    {
     "data": {
      "text/html": [
       "84"
      ],
      "text/latex": [
       "84"
      ],
      "text/markdown": [
       "84"
      ],
      "text/plain": [
       "[1] 84"
      ]
     },
     "metadata": {},
     "output_type": "display_data"
    }
   ],
   "source": [
    "length(pb_se_aim1)"
   ]
  },
  {
   "cell_type": "code",
   "execution_count": 11,
   "id": "93248c1e-5725-466b-b784-29b6395d5b5b",
   "metadata": {
    "scrolled": true
   },
   "outputs": [],
   "source": [
    "pb_se_aim1%>%saveRDS(file.path(output_path, paste0(proj_name, 'AIM1_psedobulk_object_list.rds')))"
   ]
  },
  {
   "cell_type": "code",
   "execution_count": 12,
   "id": "23b40569-e41d-4ff8-a8bb-5961cb81a469",
   "metadata": {},
   "outputs": [],
   "source": [
    "# loop for all cell type in AIM2\n",
    "aim2_files <- files_tb %>% filter(Aim=='aim2')\n",
    "pb_se_aim2 <- makePseudoSE(aim2_files)"
   ]
  },
  {
   "cell_type": "code",
   "execution_count": 13,
   "id": "13b6c2bb-7e79-46c2-8bc5-ed4a13242f39",
   "metadata": {
    "scrolled": true
   },
   "outputs": [
    {
     "data": {
      "text/html": [
       "79"
      ],
      "text/latex": [
       "79"
      ],
      "text/markdown": [
       "79"
      ],
      "text/plain": [
       "[1] 79"
      ]
     },
     "metadata": {},
     "output_type": "display_data"
    }
   ],
   "source": [
    "length(pb_se_aim2)"
   ]
  },
  {
   "cell_type": "code",
   "execution_count": 14,
   "id": "e5a5a5b8-b825-48e5-b0c3-76dcc003b3b1",
   "metadata": {},
   "outputs": [],
   "source": [
    "pb_se_aim2%>%saveRDS(file.path(output_path, paste0(proj_name, 'AIM2_psedobulk_object_list.rds')))"
   ]
  },
  {
   "cell_type": "code",
   "execution_count": 15,
   "id": "96fe5732-a60d-4e13-9ec3-a0f73c76b274",
   "metadata": {},
   "outputs": [],
   "source": [
    "# loop for all cell type in AIM3\n",
    "aim3_files <- files_tb %>% filter(Aim=='aim3')\n",
    "pb_se_aim3 <- makePseudoSE(aim3_files)"
   ]
  },
  {
   "cell_type": "code",
   "execution_count": 16,
   "id": "9a5229d5-5412-4ac5-bbed-ae02cda3b351",
   "metadata": {
    "scrolled": true
   },
   "outputs": [
    {
     "data": {
      "text/html": [
       "77"
      ],
      "text/latex": [
       "77"
      ],
      "text/markdown": [
       "77"
      ],
      "text/plain": [
       "[1] 77"
      ]
     },
     "metadata": {},
     "output_type": "display_data"
    }
   ],
   "source": [
    "length(pb_se_aim3)"
   ]
  },
  {
   "cell_type": "code",
   "execution_count": 17,
   "id": "8b0e560d-9f6e-445f-b554-1f4738845482",
   "metadata": {},
   "outputs": [],
   "source": [
    "pb_se_aim3%>%saveRDS(file.path(output_path, paste0(proj_name, 'AIM3_psedobulk_object_list.rds')))"
   ]
  },
  {
   "cell_type": "code",
   "execution_count": null,
   "id": "b56671e1-567f-4021-ae35-4e1ee21c3218",
   "metadata": {},
   "outputs": [],
   "source": []
  }
 ],
 "metadata": {
  "kernelspec": {
   "display_name": "R 4",
   "language": "R",
   "name": "ir4"
  },
  "language_info": {
   "codemirror_mode": "r",
   "file_extension": ".r",
   "mimetype": "text/x-r-source",
   "name": "R",
   "pygments_lexer": "r",
   "version": "4.3.2"
  }
 },
 "nbformat": 4,
 "nbformat_minor": 5
}
