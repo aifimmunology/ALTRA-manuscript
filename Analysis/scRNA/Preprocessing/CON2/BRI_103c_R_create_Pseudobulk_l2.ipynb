{
 "cells": [
  {
   "cell_type": "markdown",
   "id": "70f86d9c-7c47-4e0a-830d-ffecaed4865d",
   "metadata": {},
   "source": [
    "# create Pseudobulk summarized experiment deg analysis for Longitudinal study\n",
    "## AIFI l2 deep clean data - all 3 aims"
   ]
  },
  {
   "cell_type": "code",
   "execution_count": 1,
   "id": "f42227cc-1297-4293-abf6-dbaf9ce7da18",
   "metadata": {},
   "outputs": [
    {
     "name": "stderr",
     "output_type": "stream",
     "text": [
      "Warning message:\n",
      "“package ‘dplyr’ was built under R version 4.3.3”\n",
      "Warning message:\n",
      "“package ‘scran’ was built under R version 4.3.3”\n",
      "Warning message:\n",
      "“package ‘DESeq2’ was built under R version 4.3.3”\n"
     ]
    }
   ],
   "source": [
    "# load library\n",
    "quiet_library <- function(...) {\n",
    "    suppressPackageStartupMessages(library(...))\n",
    "}\n",
    "quiet_library(Seurat)\n",
    "quiet_library(tidyverse)\n",
    "quiet_library(ggplot2)\n",
    "quiet_library(Matrix)\n",
    "quiet_library(dplyr)\n",
    "quiet_library(viridis)\n",
    "quiet_library('MAST')\n",
    "quiet_library('scran')\n",
    "quiet_library('data.table')\n",
    "quiet_library('SingleCellExperiment')\n",
    "quiet_library('SeuratDisk')\n",
    "quiet_library('tictoc')\n",
    "quiet_library('glmmSeq')\n",
    "quiet_library('DESeq2')\n",
    "quiet_library('knitr')\n",
    "quiet_library('kableExtra')\n",
    "quiet_library('SummarizedExperiment')"
   ]
  },
  {
   "cell_type": "code",
   "execution_count": 2,
   "id": "98bebe97-981b-4987-a10e-6733c73bef79",
   "metadata": {},
   "outputs": [
    {
     "data": {
      "text/plain": [
       "[1] ‘0.0.0.9021’"
      ]
     },
     "metadata": {},
     "output_type": "display_data"
    }
   ],
   "source": [
    "packageVersion('SeuratDisk')\n",
    "set.seed(1234)"
   ]
  },
  {
   "cell_type": "code",
   "execution_count": 3,
   "id": "547f5a97-6ccd-4270-91b8-b4bd333e3a03",
   "metadata": {},
   "outputs": [],
   "source": [
    "# define working path\n",
    "data_path = '/home/jupyter/data/immune_health/scRNA/counts'\n",
    "fig_path = '/home/jupyter/data/immune_health/figures'\n",
    "meta_path = '/home/jupyter/github/ra-longitudinal/metadata'\n",
    "output_path = '/home/jupyter/data/immune_health/output_results'\n",
    "proj_name = 'BRI_scRNA_AIFI_L2_Pseudobulk_'"
   ]
  },
  {
   "cell_type": "code",
   "execution_count": 4,
   "id": "b230bd68-d3ac-40e7-92e1-1aa15164072f",
   "metadata": {},
   "outputs": [],
   "source": [
    "# define the color palette to be used\n",
    "npg_color <- c(\"#E64B35FF\", \"#4DBBD5FF\", \"#00A087FF\", \"#3C5488FF\", \"#F39B7FFF\", \n",
    "               \"#8491B4FF\", \"#91D1C2FF\", \"#DC0000FF\", \"#7E6148FF\", \"#B09C85FF\")\n",
    "nejm_color <- c(\"#BC3C29FF\", \"#0072B5FF\", \"#E18727FF\", \"#20854EFF\", \"#7876B1FF\", \"#6F99ADFF\", \"#FFDC91FF\", \"#EE4C97FF\")\n",
    "jama_color <- c(\"#374E55FF\", \"#DF8F44FF\", \"#00A1D5FF\", \"#B24745FF\", \"#79AF97FF\", \"#6A6599FF\", \"#80796BFF\")\n",
    "jco_color <- c(\"#0073C2FF\", \"#EFC000FF\", \"#868686FF\", \"#CD534CFF\", \"#7AA6DCFF\", \"#003C67FF\", \"#8F7700FF\")\n",
    "cluster_colors <- c(\"#DC050C\", \"#FB8072\", \"#1965B0\", \"#7BAFDE\", \"#882E72\", \"#B17BA6\", \"#FF7F00\", \"#FDB462\", \"#E7298A\", \n",
    "    \"#E78AC3\", \"#33A02C\", \"#B2DF8A\", \"#55A1B1\", \"#8DD3C7\", \"#A6761D\", \"#E6AB02\", \"#7570B3\", \"#BEAED4\", \"#666666\", \"#999999\", \n",
    "    \"#aa8282\", \"#d4b7b7\", \"#8600bf\", \"#ba5ce3\", \"#808000\", \"#aeae5c\", \"#1e90ff\", \"#00bfff\", \"#56ff0d\", \"#ffff00\")\n",
    "cluster_colors_ext <- colorRampPalette(cluster_colors)(36)\n",
    "options(repr.plot.width = 20, repr.plot.height = 15)"
   ]
  },
  {
   "cell_type": "markdown",
   "id": "1f5c8626-20cc-4907-a738-c7e455d80434",
   "metadata": {},
   "source": [
    "## load psedocounts and metadata in each aim and cell types"
   ]
  },
  {
   "cell_type": "code",
   "execution_count": 5,
   "id": "b8d3094b-4a6c-4a32-8b14-ed93bd21fcb4",
   "metadata": {},
   "outputs": [
    {
     "data": {
      "text/html": [
       "TRUE"
      ],
      "text/latex": [
       "TRUE"
      ],
      "text/markdown": [
       "TRUE"
      ],
      "text/plain": [
       "[1] TRUE"
      ]
     },
     "metadata": {},
     "output_type": "display_data"
    },
    {
     "data": {
      "text/html": [
       "<table class=\"dataframe\">\n",
       "<caption>A tibble: 6 × 5</caption>\n",
       "<thead>\n",
       "\t<tr><th scope=col>cell_type</th><th scope=col>counts_file</th><th scope=col>meta_file</th><th scope=col>cohort</th><th scope=col>status</th></tr>\n",
       "\t<tr><th scope=col>&lt;chr&gt;</th><th scope=col>&lt;chr&gt;</th><th scope=col>&lt;chr&gt;</th><th scope=col>&lt;chr&gt;</th><th scope=col>&lt;chr&gt;</th></tr>\n",
       "</thead>\n",
       "<tbody>\n",
       "\t<tr><td>ASDC              </td><td>BRI_scRNA_AIFI_L2_deepclean_Pseudobulk__ASDC_psbulk_counts.tsv              </td><td>BRI_scRNA_AIFI_L2_deepclean_Pseudobulk__ASDC_psbulk_metadata.csv              </td><td>BRI</td><td>health</td></tr>\n",
       "\t<tr><td>CD14 monocyte     </td><td>BRI_scRNA_AIFI_L2_deepclean_Pseudobulk__CD14 monocyte_psbulk_counts.tsv     </td><td>BRI_scRNA_AIFI_L2_deepclean_Pseudobulk__CD14 monocyte_psbulk_metadata.csv     </td><td>BRI</td><td>health</td></tr>\n",
       "\t<tr><td>CD16 monocyte     </td><td>BRI_scRNA_AIFI_L2_deepclean_Pseudobulk__CD16 monocyte_psbulk_counts.tsv     </td><td>BRI_scRNA_AIFI_L2_deepclean_Pseudobulk__CD16 monocyte_psbulk_metadata.csv     </td><td>BRI</td><td>health</td></tr>\n",
       "\t<tr><td>CD56bright NK cell</td><td>BRI_scRNA_AIFI_L2_deepclean_Pseudobulk__CD56bright NK cell_psbulk_counts.tsv</td><td>BRI_scRNA_AIFI_L2_deepclean_Pseudobulk__CD56bright NK cell_psbulk_metadata.csv</td><td>BRI</td><td>health</td></tr>\n",
       "\t<tr><td>CD56dim NK cell   </td><td>BRI_scRNA_AIFI_L2_deepclean_Pseudobulk__CD56dim NK cell_psbulk_counts.tsv   </td><td>BRI_scRNA_AIFI_L2_deepclean_Pseudobulk__CD56dim NK cell_psbulk_metadata.csv   </td><td>BRI</td><td>health</td></tr>\n",
       "\t<tr><td>CD8aa             </td><td>BRI_scRNA_AIFI_L2_deepclean_Pseudobulk__CD8aa_psbulk_counts.tsv             </td><td>BRI_scRNA_AIFI_L2_deepclean_Pseudobulk__CD8aa_psbulk_metadata.csv             </td><td>BRI</td><td>health</td></tr>\n",
       "</tbody>\n",
       "</table>\n"
      ],
      "text/latex": [
       "A tibble: 6 × 5\n",
       "\\begin{tabular}{lllll}\n",
       " cell\\_type & counts\\_file & meta\\_file & cohort & status\\\\\n",
       " <chr> & <chr> & <chr> & <chr> & <chr>\\\\\n",
       "\\hline\n",
       "\t ASDC               & BRI\\_scRNA\\_AIFI\\_L2\\_deepclean\\_Pseudobulk\\_\\_ASDC\\_psbulk\\_counts.tsv               & BRI\\_scRNA\\_AIFI\\_L2\\_deepclean\\_Pseudobulk\\_\\_ASDC\\_psbulk\\_metadata.csv               & BRI & health\\\\\n",
       "\t CD14 monocyte      & BRI\\_scRNA\\_AIFI\\_L2\\_deepclean\\_Pseudobulk\\_\\_CD14 monocyte\\_psbulk\\_counts.tsv      & BRI\\_scRNA\\_AIFI\\_L2\\_deepclean\\_Pseudobulk\\_\\_CD14 monocyte\\_psbulk\\_metadata.csv      & BRI & health\\\\\n",
       "\t CD16 monocyte      & BRI\\_scRNA\\_AIFI\\_L2\\_deepclean\\_Pseudobulk\\_\\_CD16 monocyte\\_psbulk\\_counts.tsv      & BRI\\_scRNA\\_AIFI\\_L2\\_deepclean\\_Pseudobulk\\_\\_CD16 monocyte\\_psbulk\\_metadata.csv      & BRI & health\\\\\n",
       "\t CD56bright NK cell & BRI\\_scRNA\\_AIFI\\_L2\\_deepclean\\_Pseudobulk\\_\\_CD56bright NK cell\\_psbulk\\_counts.tsv & BRI\\_scRNA\\_AIFI\\_L2\\_deepclean\\_Pseudobulk\\_\\_CD56bright NK cell\\_psbulk\\_metadata.csv & BRI & health\\\\\n",
       "\t CD56dim NK cell    & BRI\\_scRNA\\_AIFI\\_L2\\_deepclean\\_Pseudobulk\\_\\_CD56dim NK cell\\_psbulk\\_counts.tsv    & BRI\\_scRNA\\_AIFI\\_L2\\_deepclean\\_Pseudobulk\\_\\_CD56dim NK cell\\_psbulk\\_metadata.csv    & BRI & health\\\\\n",
       "\t CD8aa              & BRI\\_scRNA\\_AIFI\\_L2\\_deepclean\\_Pseudobulk\\_\\_CD8aa\\_psbulk\\_counts.tsv              & BRI\\_scRNA\\_AIFI\\_L2\\_deepclean\\_Pseudobulk\\_\\_CD8aa\\_psbulk\\_metadata.csv              & BRI & health\\\\\n",
       "\\end{tabular}\n"
      ],
      "text/markdown": [
       "\n",
       "A tibble: 6 × 5\n",
       "\n",
       "| cell_type &lt;chr&gt; | counts_file &lt;chr&gt; | meta_file &lt;chr&gt; | cohort &lt;chr&gt; | status &lt;chr&gt; |\n",
       "|---|---|---|---|---|\n",
       "| ASDC               | BRI_scRNA_AIFI_L2_deepclean_Pseudobulk__ASDC_psbulk_counts.tsv               | BRI_scRNA_AIFI_L2_deepclean_Pseudobulk__ASDC_psbulk_metadata.csv               | BRI | health |\n",
       "| CD14 monocyte      | BRI_scRNA_AIFI_L2_deepclean_Pseudobulk__CD14 monocyte_psbulk_counts.tsv      | BRI_scRNA_AIFI_L2_deepclean_Pseudobulk__CD14 monocyte_psbulk_metadata.csv      | BRI | health |\n",
       "| CD16 monocyte      | BRI_scRNA_AIFI_L2_deepclean_Pseudobulk__CD16 monocyte_psbulk_counts.tsv      | BRI_scRNA_AIFI_L2_deepclean_Pseudobulk__CD16 monocyte_psbulk_metadata.csv      | BRI | health |\n",
       "| CD56bright NK cell | BRI_scRNA_AIFI_L2_deepclean_Pseudobulk__CD56bright NK cell_psbulk_counts.tsv | BRI_scRNA_AIFI_L2_deepclean_Pseudobulk__CD56bright NK cell_psbulk_metadata.csv | BRI | health |\n",
       "| CD56dim NK cell    | BRI_scRNA_AIFI_L2_deepclean_Pseudobulk__CD56dim NK cell_psbulk_counts.tsv    | BRI_scRNA_AIFI_L2_deepclean_Pseudobulk__CD56dim NK cell_psbulk_metadata.csv    | BRI | health |\n",
       "| CD8aa              | BRI_scRNA_AIFI_L2_deepclean_Pseudobulk__CD8aa_psbulk_counts.tsv              | BRI_scRNA_AIFI_L2_deepclean_Pseudobulk__CD8aa_psbulk_metadata.csv              | BRI | health |\n",
       "\n"
      ],
      "text/plain": [
       "  cell_type         \n",
       "1 ASDC              \n",
       "2 CD14 monocyte     \n",
       "3 CD16 monocyte     \n",
       "4 CD56bright NK cell\n",
       "5 CD56dim NK cell   \n",
       "6 CD8aa             \n",
       "  counts_file                                                                 \n",
       "1 BRI_scRNA_AIFI_L2_deepclean_Pseudobulk__ASDC_psbulk_counts.tsv              \n",
       "2 BRI_scRNA_AIFI_L2_deepclean_Pseudobulk__CD14 monocyte_psbulk_counts.tsv     \n",
       "3 BRI_scRNA_AIFI_L2_deepclean_Pseudobulk__CD16 monocyte_psbulk_counts.tsv     \n",
       "4 BRI_scRNA_AIFI_L2_deepclean_Pseudobulk__CD56bright NK cell_psbulk_counts.tsv\n",
       "5 BRI_scRNA_AIFI_L2_deepclean_Pseudobulk__CD56dim NK cell_psbulk_counts.tsv   \n",
       "6 BRI_scRNA_AIFI_L2_deepclean_Pseudobulk__CD8aa_psbulk_counts.tsv             \n",
       "  meta_file                                                                     \n",
       "1 BRI_scRNA_AIFI_L2_deepclean_Pseudobulk__ASDC_psbulk_metadata.csv              \n",
       "2 BRI_scRNA_AIFI_L2_deepclean_Pseudobulk__CD14 monocyte_psbulk_metadata.csv     \n",
       "3 BRI_scRNA_AIFI_L2_deepclean_Pseudobulk__CD16 monocyte_psbulk_metadata.csv     \n",
       "4 BRI_scRNA_AIFI_L2_deepclean_Pseudobulk__CD56bright NK cell_psbulk_metadata.csv\n",
       "5 BRI_scRNA_AIFI_L2_deepclean_Pseudobulk__CD56dim NK cell_psbulk_metadata.csv   \n",
       "6 BRI_scRNA_AIFI_L2_deepclean_Pseudobulk__CD8aa_psbulk_metadata.csv             \n",
       "  cohort status\n",
       "1 BRI    health\n",
       "2 BRI    health\n",
       "3 BRI    health\n",
       "4 BRI    health\n",
       "5 BRI    health\n",
       "6 BRI    health"
      ]
     },
     "metadata": {},
     "output_type": "display_data"
    }
   ],
   "source": [
    "# convert anndata into sce\n",
    "counts_files <- list.files(pattern = '*psbulk_counts.tsv', data_path, recursive = TRUE)\n",
    "meta_files <- list.files(pattern = '*psbulk_metadata.csv', data_path, recursive = TRUE)\n",
    "# double check the cell type matches\n",
    "cell_types = counts_files%>%str_remove('BRI_scRNA_AIFI_L2_deepclean_Pseudobulk__')%>%\n",
    "    str_remove('_psbulk_counts.tsv')\n",
    "cell_type2 = meta_files%>%str_remove('BRI_scRNA_AIFI_L2_deepclean_Pseudobulk__')%>%\n",
    "    str_remove('_psbulk_metadata.csv')\n",
    "all(cell_types==cell_type2)\n",
    "# create a table to point to all data\n",
    "files_tb_bri <- tibble('cell_type' = cell_types,\n",
    "                   'counts_file'=counts_files, 'meta_file'=meta_files,\n",
    "                      'cohort' = 'BRI', status='health')\n",
    "files_tb_bri%>%head()"
   ]
  },
  {
   "cell_type": "code",
   "execution_count": 29,
   "id": "c7f9241f-cdab-4c9c-a950-56b269cf94b4",
   "metadata": {},
   "outputs": [
    {
     "data": {
      "text/plain": [
       "class: SummarizedExperiment \n",
       "dim: 2410 3 \n",
       "metadata(0):\n",
       "assays(1): counts\n",
       "rownames(2410): AASDHPPT AATF ... ZSWIM7 ZYX\n",
       "rowData names(0):\n",
       "colnames: NULL\n",
       "colData names(28): index sample.sampleKitGuid ... lib_size log_lib_size"
      ]
     },
     "metadata": {},
     "output_type": "display_data"
    }
   ],
   "source": [
    "# load data for one cell type\n",
    "pb_counts <- fread(file.path(data_path, files_tb_bri$counts_file[1]))%>% rename('V1'='index')\n",
    "# load the metadata\n",
    "pb_meta <- fread(file.path(data_path, files_tb_bri$meta_file[1]))%>% rename('V1'='index')\n",
    "# check the index \n",
    "stopifnot(all(pb_counts$index==pb_meta$index))\n",
    "# make count matrix\n",
    "pb_counts_mx <- pb_counts %>% select(-index)%>%\n",
    "    as.data.frame()%>% t()\n",
    "# make summarized experiment\n",
    "pb_se <- SummarizedExperiment(assays=list(counts=pb_counts_mx), colData=pb_meta)\n",
    "pb_se"
   ]
  },
  {
   "cell_type": "code",
   "execution_count": 30,
   "id": "da0667e2-bc88-40e7-b2a4-8ebdc3804bf5",
   "metadata": {},
   "outputs": [
    {
     "data": {
      "text/html": [
       "<style>\n",
       ".list-inline {list-style: none; margin:0; padding: 0}\n",
       ".list-inline>li {display: inline-block}\n",
       ".list-inline>li:not(:last-child)::after {content: \"\\00b7\"; padding: 0 .5ex}\n",
       "</style>\n",
       "<ol class=list-inline><li>'index'</li><li>'sample.sampleKitGuid'</li><li>'AIFI_L2'</li><li>'batch_id'</li><li>'pool_id'</li><li>'AIFI_L1'</li><li>'cohort.cohortGuid'</li><li>'subject.subjectGuid'</li><li>'subject.biologicalSex'</li><li>'subject.cmv'</li><li>'subject.race'</li><li>'subject.ethnicity'</li><li>'subject.birthYear'</li><li>'subject.ageAtFirstDraw'</li><li>'sample.visitName'</li><li>'sample.drawDate'</li><li>'sample.subjectAgeAtDraw'</li><li>'specimen.specimenGuid'</li><li>'pipeline.fileGuid'</li><li>'age'</li><li>'BMI'</li><li>'sample.daysSinceFirstVisit'</li><li>'days_since_first'</li><li>'file.batchID'</li><li>'psbulk_n_cells'</li><li>'psbulk_counts'</li><li>'lib_size'</li><li>'log_lib_size'</li></ol>\n"
      ],
      "text/latex": [
       "\\begin{enumerate*}\n",
       "\\item 'index'\n",
       "\\item 'sample.sampleKitGuid'\n",
       "\\item 'AIFI\\_L2'\n",
       "\\item 'batch\\_id'\n",
       "\\item 'pool\\_id'\n",
       "\\item 'AIFI\\_L1'\n",
       "\\item 'cohort.cohortGuid'\n",
       "\\item 'subject.subjectGuid'\n",
       "\\item 'subject.biologicalSex'\n",
       "\\item 'subject.cmv'\n",
       "\\item 'subject.race'\n",
       "\\item 'subject.ethnicity'\n",
       "\\item 'subject.birthYear'\n",
       "\\item 'subject.ageAtFirstDraw'\n",
       "\\item 'sample.visitName'\n",
       "\\item 'sample.drawDate'\n",
       "\\item 'sample.subjectAgeAtDraw'\n",
       "\\item 'specimen.specimenGuid'\n",
       "\\item 'pipeline.fileGuid'\n",
       "\\item 'age'\n",
       "\\item 'BMI'\n",
       "\\item 'sample.daysSinceFirstVisit'\n",
       "\\item 'days\\_since\\_first'\n",
       "\\item 'file.batchID'\n",
       "\\item 'psbulk\\_n\\_cells'\n",
       "\\item 'psbulk\\_counts'\n",
       "\\item 'lib\\_size'\n",
       "\\item 'log\\_lib\\_size'\n",
       "\\end{enumerate*}\n"
      ],
      "text/markdown": [
       "1. 'index'\n",
       "2. 'sample.sampleKitGuid'\n",
       "3. 'AIFI_L2'\n",
       "4. 'batch_id'\n",
       "5. 'pool_id'\n",
       "6. 'AIFI_L1'\n",
       "7. 'cohort.cohortGuid'\n",
       "8. 'subject.subjectGuid'\n",
       "9. 'subject.biologicalSex'\n",
       "10. 'subject.cmv'\n",
       "11. 'subject.race'\n",
       "12. 'subject.ethnicity'\n",
       "13. 'subject.birthYear'\n",
       "14. 'subject.ageAtFirstDraw'\n",
       "15. 'sample.visitName'\n",
       "16. 'sample.drawDate'\n",
       "17. 'sample.subjectAgeAtDraw'\n",
       "18. 'specimen.specimenGuid'\n",
       "19. 'pipeline.fileGuid'\n",
       "20. 'age'\n",
       "21. 'BMI'\n",
       "22. 'sample.daysSinceFirstVisit'\n",
       "23. 'days_since_first'\n",
       "24. 'file.batchID'\n",
       "25. 'psbulk_n_cells'\n",
       "26. 'psbulk_counts'\n",
       "27. 'lib_size'\n",
       "28. 'log_lib_size'\n",
       "\n",
       "\n"
      ],
      "text/plain": [
       " [1] \"index\"                      \"sample.sampleKitGuid\"      \n",
       " [3] \"AIFI_L2\"                    \"batch_id\"                  \n",
       " [5] \"pool_id\"                    \"AIFI_L1\"                   \n",
       " [7] \"cohort.cohortGuid\"          \"subject.subjectGuid\"       \n",
       " [9] \"subject.biologicalSex\"      \"subject.cmv\"               \n",
       "[11] \"subject.race\"               \"subject.ethnicity\"         \n",
       "[13] \"subject.birthYear\"          \"subject.ageAtFirstDraw\"    \n",
       "[15] \"sample.visitName\"           \"sample.drawDate\"           \n",
       "[17] \"sample.subjectAgeAtDraw\"    \"specimen.specimenGuid\"     \n",
       "[19] \"pipeline.fileGuid\"          \"age\"                       \n",
       "[21] \"BMI\"                        \"sample.daysSinceFirstVisit\"\n",
       "[23] \"days_since_first\"           \"file.batchID\"              \n",
       "[25] \"psbulk_n_cells\"             \"psbulk_counts\"             \n",
       "[27] \"lib_size\"                   \"log_lib_size\"              "
      ]
     },
     "metadata": {},
     "output_type": "display_data"
    }
   ],
   "source": [
    "pb_meta%>%colnames()"
   ]
  },
  {
   "cell_type": "code",
   "execution_count": 9,
   "id": "73937ddb-2f97-426f-bbd1-5b7d38caab2b",
   "metadata": {},
   "outputs": [],
   "source": [
    "# loop for all cell type in BRI longitudinal data\n",
    "pb_se <- lapply(1:nrow(files_tb_bri), function(x){\n",
    "    # load data for one cell type\n",
    "    pb_counts <- fread(file.path(data_path, files_tb_bri$counts_file[x]))%>% rename('V1'='index')\n",
    "    # load the metadata\n",
    "    pb_meta <- fread(file.path(data_path, files_tb_bri$meta_file[x]))%>% rename('V1'='index')\n",
    "    # check the index \n",
    "    stopifnot(all(pb_counts$index==pb_meta$index))\n",
    "    # make count matrix\n",
    "    pb_counts_mx <- pb_counts %>% select(-index)%>%\n",
    "        as.data.frame()%>% t()\n",
    "    # make summarized experiment\n",
    "    pb_se <- SummarizedExperiment(assays=list(counts=pb_counts_mx), colData=pb_meta)\n",
    "})\n",
    "names(pb_se) <- files_tb_bri$cell_type"
   ]
  },
  {
   "cell_type": "code",
   "execution_count": 10,
   "id": "1d397661-a878-47f9-be2e-c46f1442b40d",
   "metadata": {
    "scrolled": true
   },
   "outputs": [
    {
     "data": {
      "text/html": [
       "29"
      ],
      "text/latex": [
       "29"
      ],
      "text/markdown": [
       "29"
      ],
      "text/plain": [
       "[1] 29"
      ]
     },
     "metadata": {},
     "output_type": "display_data"
    },
    {
     "data": {
      "text/html": [
       "'BRI_scRNA_AIFI_L2_Pseudobulk_'"
      ],
      "text/latex": [
       "'BRI\\_scRNA\\_AIFI\\_L2\\_Pseudobulk\\_'"
      ],
      "text/markdown": [
       "'BRI_scRNA_AIFI_L2_Pseudobulk_'"
      ],
      "text/plain": [
       "[1] \"BRI_scRNA_AIFI_L2_Pseudobulk_\""
      ]
     },
     "metadata": {},
     "output_type": "display_data"
    }
   ],
   "source": [
    "pb_se%>%length()\n",
    "proj_name"
   ]
  },
  {
   "cell_type": "code",
   "execution_count": 11,
   "id": "93248c1e-5725-466b-b784-29b6395d5b5b",
   "metadata": {
    "scrolled": true
   },
   "outputs": [],
   "source": [
    "pb_se%>%saveRDS(file.path(output_path, paste0(proj_name, 'longitudinal_object_list_090324.rds')))"
   ]
  },
  {
   "cell_type": "markdown",
   "id": "41754cd2-7b68-4d7a-ac6d-4bf917602395",
   "metadata": {},
   "source": [
    "## combine the data from BRI and ALTRA"
   ]
  },
  {
   "cell_type": "code",
   "execution_count": 12,
   "id": "971687ca-cda2-41bd-a6ca-157b00419b66",
   "metadata": {},
   "outputs": [
    {
     "data": {
      "text/html": [
       "TRUE"
      ],
      "text/latex": [
       "TRUE"
      ],
      "text/markdown": [
       "TRUE"
      ],
      "text/plain": [
       "[1] TRUE"
      ]
     },
     "metadata": {},
     "output_type": "display_data"
    },
    {
     "data": {
      "text/html": [
       "<table class=\"dataframe\">\n",
       "<caption>A tibble: 6 × 5</caption>\n",
       "<thead>\n",
       "\t<tr><th scope=col>cell_type</th><th scope=col>counts_file</th><th scope=col>meta_file</th><th scope=col>cohort</th><th scope=col>status</th></tr>\n",
       "\t<tr><th scope=col>&lt;chr&gt;</th><th scope=col>&lt;chr&gt;</th><th scope=col>&lt;chr&gt;</th><th scope=col>&lt;chr&gt;</th><th scope=col>&lt;chr&gt;</th></tr>\n",
       "</thead>\n",
       "<tbody>\n",
       "\t<tr><td>ASDC              </td><td>ALTRA_scRNA_AIFI_L2_certpro_pseudobulk__ASDC_psbulk_counts.tsv              </td><td>ALTRA_scRNA_AIFI_L2_certpro_pseudobulk__ASDC_psbulk_metadata.csv              </td><td>ALTRA</td><td>RA_conveters</td></tr>\n",
       "\t<tr><td>CD14 monocyte     </td><td>ALTRA_scRNA_AIFI_L2_certpro_pseudobulk__CD14 monocyte_psbulk_counts.tsv     </td><td>ALTRA_scRNA_AIFI_L2_certpro_pseudobulk__CD14 monocyte_psbulk_metadata.csv     </td><td>ALTRA</td><td>RA_conveters</td></tr>\n",
       "\t<tr><td>CD16 monocyte     </td><td>ALTRA_scRNA_AIFI_L2_certpro_pseudobulk__CD16 monocyte_psbulk_counts.tsv     </td><td>ALTRA_scRNA_AIFI_L2_certpro_pseudobulk__CD16 monocyte_psbulk_metadata.csv     </td><td>ALTRA</td><td>RA_conveters</td></tr>\n",
       "\t<tr><td>CD56bright NK cell</td><td>ALTRA_scRNA_AIFI_L2_certpro_pseudobulk__CD56bright NK cell_psbulk_counts.tsv</td><td>ALTRA_scRNA_AIFI_L2_certpro_pseudobulk__CD56bright NK cell_psbulk_metadata.csv</td><td>ALTRA</td><td>RA_conveters</td></tr>\n",
       "\t<tr><td>CD56dim NK cell   </td><td>ALTRA_scRNA_AIFI_L2_certpro_pseudobulk__CD56dim NK cell_psbulk_counts.tsv   </td><td>ALTRA_scRNA_AIFI_L2_certpro_pseudobulk__CD56dim NK cell_psbulk_metadata.csv   </td><td>ALTRA</td><td>RA_conveters</td></tr>\n",
       "\t<tr><td>CD8aa             </td><td>ALTRA_scRNA_AIFI_L2_certpro_pseudobulk__CD8aa_psbulk_counts.tsv             </td><td>ALTRA_scRNA_AIFI_L2_certpro_pseudobulk__CD8aa_psbulk_metadata.csv             </td><td>ALTRA</td><td>RA_conveters</td></tr>\n",
       "</tbody>\n",
       "</table>\n"
      ],
      "text/latex": [
       "A tibble: 6 × 5\n",
       "\\begin{tabular}{lllll}\n",
       " cell\\_type & counts\\_file & meta\\_file & cohort & status\\\\\n",
       " <chr> & <chr> & <chr> & <chr> & <chr>\\\\\n",
       "\\hline\n",
       "\t ASDC               & ALTRA\\_scRNA\\_AIFI\\_L2\\_certpro\\_pseudobulk\\_\\_ASDC\\_psbulk\\_counts.tsv               & ALTRA\\_scRNA\\_AIFI\\_L2\\_certpro\\_pseudobulk\\_\\_ASDC\\_psbulk\\_metadata.csv               & ALTRA & RA\\_conveters\\\\\n",
       "\t CD14 monocyte      & ALTRA\\_scRNA\\_AIFI\\_L2\\_certpro\\_pseudobulk\\_\\_CD14 monocyte\\_psbulk\\_counts.tsv      & ALTRA\\_scRNA\\_AIFI\\_L2\\_certpro\\_pseudobulk\\_\\_CD14 monocyte\\_psbulk\\_metadata.csv      & ALTRA & RA\\_conveters\\\\\n",
       "\t CD16 monocyte      & ALTRA\\_scRNA\\_AIFI\\_L2\\_certpro\\_pseudobulk\\_\\_CD16 monocyte\\_psbulk\\_counts.tsv      & ALTRA\\_scRNA\\_AIFI\\_L2\\_certpro\\_pseudobulk\\_\\_CD16 monocyte\\_psbulk\\_metadata.csv      & ALTRA & RA\\_conveters\\\\\n",
       "\t CD56bright NK cell & ALTRA\\_scRNA\\_AIFI\\_L2\\_certpro\\_pseudobulk\\_\\_CD56bright NK cell\\_psbulk\\_counts.tsv & ALTRA\\_scRNA\\_AIFI\\_L2\\_certpro\\_pseudobulk\\_\\_CD56bright NK cell\\_psbulk\\_metadata.csv & ALTRA & RA\\_conveters\\\\\n",
       "\t CD56dim NK cell    & ALTRA\\_scRNA\\_AIFI\\_L2\\_certpro\\_pseudobulk\\_\\_CD56dim NK cell\\_psbulk\\_counts.tsv    & ALTRA\\_scRNA\\_AIFI\\_L2\\_certpro\\_pseudobulk\\_\\_CD56dim NK cell\\_psbulk\\_metadata.csv    & ALTRA & RA\\_conveters\\\\\n",
       "\t CD8aa              & ALTRA\\_scRNA\\_AIFI\\_L2\\_certpro\\_pseudobulk\\_\\_CD8aa\\_psbulk\\_counts.tsv              & ALTRA\\_scRNA\\_AIFI\\_L2\\_certpro\\_pseudobulk\\_\\_CD8aa\\_psbulk\\_metadata.csv              & ALTRA & RA\\_conveters\\\\\n",
       "\\end{tabular}\n"
      ],
      "text/markdown": [
       "\n",
       "A tibble: 6 × 5\n",
       "\n",
       "| cell_type &lt;chr&gt; | counts_file &lt;chr&gt; | meta_file &lt;chr&gt; | cohort &lt;chr&gt; | status &lt;chr&gt; |\n",
       "|---|---|---|---|---|\n",
       "| ASDC               | ALTRA_scRNA_AIFI_L2_certpro_pseudobulk__ASDC_psbulk_counts.tsv               | ALTRA_scRNA_AIFI_L2_certpro_pseudobulk__ASDC_psbulk_metadata.csv               | ALTRA | RA_conveters |\n",
       "| CD14 monocyte      | ALTRA_scRNA_AIFI_L2_certpro_pseudobulk__CD14 monocyte_psbulk_counts.tsv      | ALTRA_scRNA_AIFI_L2_certpro_pseudobulk__CD14 monocyte_psbulk_metadata.csv      | ALTRA | RA_conveters |\n",
       "| CD16 monocyte      | ALTRA_scRNA_AIFI_L2_certpro_pseudobulk__CD16 monocyte_psbulk_counts.tsv      | ALTRA_scRNA_AIFI_L2_certpro_pseudobulk__CD16 monocyte_psbulk_metadata.csv      | ALTRA | RA_conveters |\n",
       "| CD56bright NK cell | ALTRA_scRNA_AIFI_L2_certpro_pseudobulk__CD56bright NK cell_psbulk_counts.tsv | ALTRA_scRNA_AIFI_L2_certpro_pseudobulk__CD56bright NK cell_psbulk_metadata.csv | ALTRA | RA_conveters |\n",
       "| CD56dim NK cell    | ALTRA_scRNA_AIFI_L2_certpro_pseudobulk__CD56dim NK cell_psbulk_counts.tsv    | ALTRA_scRNA_AIFI_L2_certpro_pseudobulk__CD56dim NK cell_psbulk_metadata.csv    | ALTRA | RA_conveters |\n",
       "| CD8aa              | ALTRA_scRNA_AIFI_L2_certpro_pseudobulk__CD8aa_psbulk_counts.tsv              | ALTRA_scRNA_AIFI_L2_certpro_pseudobulk__CD8aa_psbulk_metadata.csv              | ALTRA | RA_conveters |\n",
       "\n"
      ],
      "text/plain": [
       "  cell_type         \n",
       "1 ASDC              \n",
       "2 CD14 monocyte     \n",
       "3 CD16 monocyte     \n",
       "4 CD56bright NK cell\n",
       "5 CD56dim NK cell   \n",
       "6 CD8aa             \n",
       "  counts_file                                                                 \n",
       "1 ALTRA_scRNA_AIFI_L2_certpro_pseudobulk__ASDC_psbulk_counts.tsv              \n",
       "2 ALTRA_scRNA_AIFI_L2_certpro_pseudobulk__CD14 monocyte_psbulk_counts.tsv     \n",
       "3 ALTRA_scRNA_AIFI_L2_certpro_pseudobulk__CD16 monocyte_psbulk_counts.tsv     \n",
       "4 ALTRA_scRNA_AIFI_L2_certpro_pseudobulk__CD56bright NK cell_psbulk_counts.tsv\n",
       "5 ALTRA_scRNA_AIFI_L2_certpro_pseudobulk__CD56dim NK cell_psbulk_counts.tsv   \n",
       "6 ALTRA_scRNA_AIFI_L2_certpro_pseudobulk__CD8aa_psbulk_counts.tsv             \n",
       "  meta_file                                                                     \n",
       "1 ALTRA_scRNA_AIFI_L2_certpro_pseudobulk__ASDC_psbulk_metadata.csv              \n",
       "2 ALTRA_scRNA_AIFI_L2_certpro_pseudobulk__CD14 monocyte_psbulk_metadata.csv     \n",
       "3 ALTRA_scRNA_AIFI_L2_certpro_pseudobulk__CD16 monocyte_psbulk_metadata.csv     \n",
       "4 ALTRA_scRNA_AIFI_L2_certpro_pseudobulk__CD56bright NK cell_psbulk_metadata.csv\n",
       "5 ALTRA_scRNA_AIFI_L2_certpro_pseudobulk__CD56dim NK cell_psbulk_metadata.csv   \n",
       "6 ALTRA_scRNA_AIFI_L2_certpro_pseudobulk__CD8aa_psbulk_metadata.csv             \n",
       "  cohort status      \n",
       "1 ALTRA  RA_conveters\n",
       "2 ALTRA  RA_conveters\n",
       "3 ALTRA  RA_conveters\n",
       "4 ALTRA  RA_conveters\n",
       "5 ALTRA  RA_conveters\n",
       "6 ALTRA  RA_conveters"
      ]
     },
     "metadata": {},
     "output_type": "display_data"
    }
   ],
   "source": [
    "# load counts data from altra\n",
    "altra_path = '/home/jupyter/data/ra_longitudinal/scrna/certPro/counts/aifi_l2/aim3'\n",
    "# convert anndata into sce\n",
    "counts_files <- list.files(pattern = '*psbulk_counts.tsv', altra_path, recursive = TRUE)\n",
    "meta_files <- list.files(pattern = '*psbulk_metadata.csv', altra_path, recursive = TRUE)\n",
    "# double check the cell type matches\n",
    "cell_types = counts_files%>%str_remove('ALTRA_scRNA_AIFI_L2_certpro_pseudobulk__')%>%\n",
    "    str_remove('_psbulk_counts.tsv')\n",
    "cell_type2 = meta_files%>%str_remove('ALTRA_scRNA_AIFI_L2_certpro_pseudobulk__')%>%\n",
    "    str_remove('_psbulk_metadata.csv')\n",
    "all(cell_types==cell_type2)\n",
    "\n",
    "# create a table to point to all data\n",
    "files_altra <- tibble('cell_type' = cell_types,\n",
    "                   'counts_file'=counts_files, 'meta_file'=meta_files,\n",
    "                  'cohort'='ALTRA', status='RA_conveters')\n",
    "files_altra%>%head()"
   ]
  },
  {
   "cell_type": "code",
   "execution_count": 13,
   "id": "8bfdc160-36c8-4847-9226-0cebd60429be",
   "metadata": {},
   "outputs": [
    {
     "data": {
      "text/html": [
       "29"
      ],
      "text/latex": [
       "29"
      ],
      "text/markdown": [
       "29"
      ],
      "text/plain": [
       "[1] 29"
      ]
     },
     "metadata": {},
     "output_type": "display_data"
    }
   ],
   "source": [
    "files_altra%>%nrow()"
   ]
  },
  {
   "cell_type": "code",
   "execution_count": 14,
   "id": "492b3acc-9609-4925-8086-85dbaa3d4b53",
   "metadata": {},
   "outputs": [
    {
     "data": {
      "text/html": [
       "<table class=\"dataframe\">\n",
       "<caption>A tibble: 20 × 5</caption>\n",
       "<thead>\n",
       "\t<tr><th scope=col>cell_type</th><th scope=col>counts_file</th><th scope=col>meta_file</th><th scope=col>cohort</th><th scope=col>status</th></tr>\n",
       "\t<tr><th scope=col>&lt;chr&gt;</th><th scope=col>&lt;chr&gt;</th><th scope=col>&lt;chr&gt;</th><th scope=col>&lt;chr&gt;</th><th scope=col>&lt;chr&gt;</th></tr>\n",
       "</thead>\n",
       "<tbody>\n",
       "\t<tr><td>ASDC                 </td><td>ALTRA_scRNA_AIFI_L2_certpro_pseudobulk__ASDC_psbulk_counts.tsv                 </td><td>ALTRA_scRNA_AIFI_L2_certpro_pseudobulk__ASDC_psbulk_metadata.csv                 </td><td>ALTRA</td><td>RA_conveters</td></tr>\n",
       "\t<tr><td>CD14 monocyte        </td><td>ALTRA_scRNA_AIFI_L2_certpro_pseudobulk__CD14 monocyte_psbulk_counts.tsv        </td><td>ALTRA_scRNA_AIFI_L2_certpro_pseudobulk__CD14 monocyte_psbulk_metadata.csv        </td><td>ALTRA</td><td>RA_conveters</td></tr>\n",
       "\t<tr><td>CD16 monocyte        </td><td>ALTRA_scRNA_AIFI_L2_certpro_pseudobulk__CD16 monocyte_psbulk_counts.tsv        </td><td>ALTRA_scRNA_AIFI_L2_certpro_pseudobulk__CD16 monocyte_psbulk_metadata.csv        </td><td>ALTRA</td><td>RA_conveters</td></tr>\n",
       "\t<tr><td>CD56bright NK cell   </td><td>ALTRA_scRNA_AIFI_L2_certpro_pseudobulk__CD56bright NK cell_psbulk_counts.tsv   </td><td>ALTRA_scRNA_AIFI_L2_certpro_pseudobulk__CD56bright NK cell_psbulk_metadata.csv   </td><td>ALTRA</td><td>RA_conveters</td></tr>\n",
       "\t<tr><td>CD56dim NK cell      </td><td>ALTRA_scRNA_AIFI_L2_certpro_pseudobulk__CD56dim NK cell_psbulk_counts.tsv      </td><td>ALTRA_scRNA_AIFI_L2_certpro_pseudobulk__CD56dim NK cell_psbulk_metadata.csv      </td><td>ALTRA</td><td>RA_conveters</td></tr>\n",
       "\t<tr><td>CD8aa                </td><td>ALTRA_scRNA_AIFI_L2_certpro_pseudobulk__CD8aa_psbulk_counts.tsv                </td><td>ALTRA_scRNA_AIFI_L2_certpro_pseudobulk__CD8aa_psbulk_metadata.csv                </td><td>ALTRA</td><td>RA_conveters</td></tr>\n",
       "\t<tr><td>cDC1                 </td><td>ALTRA_scRNA_AIFI_L2_certpro_pseudobulk__cDC1_psbulk_counts.tsv                 </td><td>ALTRA_scRNA_AIFI_L2_certpro_pseudobulk__cDC1_psbulk_metadata.csv                 </td><td>ALTRA</td><td>RA_conveters</td></tr>\n",
       "\t<tr><td>cDC2                 </td><td>ALTRA_scRNA_AIFI_L2_certpro_pseudobulk__cDC2_psbulk_counts.tsv                 </td><td>ALTRA_scRNA_AIFI_L2_certpro_pseudobulk__cDC2_psbulk_metadata.csv                 </td><td>ALTRA</td><td>RA_conveters</td></tr>\n",
       "\t<tr><td>DN T cell            </td><td>ALTRA_scRNA_AIFI_L2_certpro_pseudobulk__DN T cell_psbulk_counts.tsv            </td><td>ALTRA_scRNA_AIFI_L2_certpro_pseudobulk__DN T cell_psbulk_metadata.csv            </td><td>ALTRA</td><td>RA_conveters</td></tr>\n",
       "\t<tr><td>Effector B cell      </td><td>ALTRA_scRNA_AIFI_L2_certpro_pseudobulk__Effector B cell_psbulk_counts.tsv      </td><td>ALTRA_scRNA_AIFI_L2_certpro_pseudobulk__Effector B cell_psbulk_metadata.csv      </td><td>ALTRA</td><td>RA_conveters</td></tr>\n",
       "\t<tr><td>Erythrocyte          </td><td>ALTRA_scRNA_AIFI_L2_certpro_pseudobulk__Erythrocyte_psbulk_counts.tsv          </td><td>ALTRA_scRNA_AIFI_L2_certpro_pseudobulk__Erythrocyte_psbulk_metadata.csv          </td><td>ALTRA</td><td>RA_conveters</td></tr>\n",
       "\t<tr><td>gdT                  </td><td>ALTRA_scRNA_AIFI_L2_certpro_pseudobulk__gdT_psbulk_counts.tsv                  </td><td>ALTRA_scRNA_AIFI_L2_certpro_pseudobulk__gdT_psbulk_metadata.csv                  </td><td>ALTRA</td><td>RA_conveters</td></tr>\n",
       "\t<tr><td>ILC                  </td><td>ALTRA_scRNA_AIFI_L2_certpro_pseudobulk__ILC_psbulk_counts.tsv                  </td><td>ALTRA_scRNA_AIFI_L2_certpro_pseudobulk__ILC_psbulk_metadata.csv                  </td><td>ALTRA</td><td>RA_conveters</td></tr>\n",
       "\t<tr><td>Intermediate monocyte</td><td>ALTRA_scRNA_AIFI_L2_certpro_pseudobulk__Intermediate monocyte_psbulk_counts.tsv</td><td>ALTRA_scRNA_AIFI_L2_certpro_pseudobulk__Intermediate monocyte_psbulk_metadata.csv</td><td>ALTRA</td><td>RA_conveters</td></tr>\n",
       "\t<tr><td>MAIT                 </td><td>ALTRA_scRNA_AIFI_L2_certpro_pseudobulk__MAIT_psbulk_counts.tsv                 </td><td>ALTRA_scRNA_AIFI_L2_certpro_pseudobulk__MAIT_psbulk_metadata.csv                 </td><td>ALTRA</td><td>RA_conveters</td></tr>\n",
       "\t<tr><td>Memory B cell        </td><td>ALTRA_scRNA_AIFI_L2_certpro_pseudobulk__Memory B cell_psbulk_counts.tsv        </td><td>ALTRA_scRNA_AIFI_L2_certpro_pseudobulk__Memory B cell_psbulk_metadata.csv        </td><td>ALTRA</td><td>RA_conveters</td></tr>\n",
       "\t<tr><td>Memory CD4 T cell    </td><td>ALTRA_scRNA_AIFI_L2_certpro_pseudobulk__Memory CD4 T cell_psbulk_counts.tsv    </td><td>ALTRA_scRNA_AIFI_L2_certpro_pseudobulk__Memory CD4 T cell_psbulk_metadata.csv    </td><td>ALTRA</td><td>RA_conveters</td></tr>\n",
       "\t<tr><td>Memory CD8 T cell    </td><td>ALTRA_scRNA_AIFI_L2_certpro_pseudobulk__Memory CD8 T cell_psbulk_counts.tsv    </td><td>ALTRA_scRNA_AIFI_L2_certpro_pseudobulk__Memory CD8 T cell_psbulk_metadata.csv    </td><td>ALTRA</td><td>RA_conveters</td></tr>\n",
       "\t<tr><td>Naive B cell         </td><td>ALTRA_scRNA_AIFI_L2_certpro_pseudobulk__Naive B cell_psbulk_counts.tsv         </td><td>ALTRA_scRNA_AIFI_L2_certpro_pseudobulk__Naive B cell_psbulk_metadata.csv         </td><td>ALTRA</td><td>RA_conveters</td></tr>\n",
       "\t<tr><td>Naive CD4 T cell     </td><td>ALTRA_scRNA_AIFI_L2_certpro_pseudobulk__Naive CD4 T cell_psbulk_counts.tsv     </td><td>ALTRA_scRNA_AIFI_L2_certpro_pseudobulk__Naive CD4 T cell_psbulk_metadata.csv     </td><td>ALTRA</td><td>RA_conveters</td></tr>\n",
       "</tbody>\n",
       "</table>\n"
      ],
      "text/latex": [
       "A tibble: 20 × 5\n",
       "\\begin{tabular}{lllll}\n",
       " cell\\_type & counts\\_file & meta\\_file & cohort & status\\\\\n",
       " <chr> & <chr> & <chr> & <chr> & <chr>\\\\\n",
       "\\hline\n",
       "\t ASDC                  & ALTRA\\_scRNA\\_AIFI\\_L2\\_certpro\\_pseudobulk\\_\\_ASDC\\_psbulk\\_counts.tsv                  & ALTRA\\_scRNA\\_AIFI\\_L2\\_certpro\\_pseudobulk\\_\\_ASDC\\_psbulk\\_metadata.csv                  & ALTRA & RA\\_conveters\\\\\n",
       "\t CD14 monocyte         & ALTRA\\_scRNA\\_AIFI\\_L2\\_certpro\\_pseudobulk\\_\\_CD14 monocyte\\_psbulk\\_counts.tsv         & ALTRA\\_scRNA\\_AIFI\\_L2\\_certpro\\_pseudobulk\\_\\_CD14 monocyte\\_psbulk\\_metadata.csv         & ALTRA & RA\\_conveters\\\\\n",
       "\t CD16 monocyte         & ALTRA\\_scRNA\\_AIFI\\_L2\\_certpro\\_pseudobulk\\_\\_CD16 monocyte\\_psbulk\\_counts.tsv         & ALTRA\\_scRNA\\_AIFI\\_L2\\_certpro\\_pseudobulk\\_\\_CD16 monocyte\\_psbulk\\_metadata.csv         & ALTRA & RA\\_conveters\\\\\n",
       "\t CD56bright NK cell    & ALTRA\\_scRNA\\_AIFI\\_L2\\_certpro\\_pseudobulk\\_\\_CD56bright NK cell\\_psbulk\\_counts.tsv    & ALTRA\\_scRNA\\_AIFI\\_L2\\_certpro\\_pseudobulk\\_\\_CD56bright NK cell\\_psbulk\\_metadata.csv    & ALTRA & RA\\_conveters\\\\\n",
       "\t CD56dim NK cell       & ALTRA\\_scRNA\\_AIFI\\_L2\\_certpro\\_pseudobulk\\_\\_CD56dim NK cell\\_psbulk\\_counts.tsv       & ALTRA\\_scRNA\\_AIFI\\_L2\\_certpro\\_pseudobulk\\_\\_CD56dim NK cell\\_psbulk\\_metadata.csv       & ALTRA & RA\\_conveters\\\\\n",
       "\t CD8aa                 & ALTRA\\_scRNA\\_AIFI\\_L2\\_certpro\\_pseudobulk\\_\\_CD8aa\\_psbulk\\_counts.tsv                 & ALTRA\\_scRNA\\_AIFI\\_L2\\_certpro\\_pseudobulk\\_\\_CD8aa\\_psbulk\\_metadata.csv                 & ALTRA & RA\\_conveters\\\\\n",
       "\t cDC1                  & ALTRA\\_scRNA\\_AIFI\\_L2\\_certpro\\_pseudobulk\\_\\_cDC1\\_psbulk\\_counts.tsv                  & ALTRA\\_scRNA\\_AIFI\\_L2\\_certpro\\_pseudobulk\\_\\_cDC1\\_psbulk\\_metadata.csv                  & ALTRA & RA\\_conveters\\\\\n",
       "\t cDC2                  & ALTRA\\_scRNA\\_AIFI\\_L2\\_certpro\\_pseudobulk\\_\\_cDC2\\_psbulk\\_counts.tsv                  & ALTRA\\_scRNA\\_AIFI\\_L2\\_certpro\\_pseudobulk\\_\\_cDC2\\_psbulk\\_metadata.csv                  & ALTRA & RA\\_conveters\\\\\n",
       "\t DN T cell             & ALTRA\\_scRNA\\_AIFI\\_L2\\_certpro\\_pseudobulk\\_\\_DN T cell\\_psbulk\\_counts.tsv             & ALTRA\\_scRNA\\_AIFI\\_L2\\_certpro\\_pseudobulk\\_\\_DN T cell\\_psbulk\\_metadata.csv             & ALTRA & RA\\_conveters\\\\\n",
       "\t Effector B cell       & ALTRA\\_scRNA\\_AIFI\\_L2\\_certpro\\_pseudobulk\\_\\_Effector B cell\\_psbulk\\_counts.tsv       & ALTRA\\_scRNA\\_AIFI\\_L2\\_certpro\\_pseudobulk\\_\\_Effector B cell\\_psbulk\\_metadata.csv       & ALTRA & RA\\_conveters\\\\\n",
       "\t Erythrocyte           & ALTRA\\_scRNA\\_AIFI\\_L2\\_certpro\\_pseudobulk\\_\\_Erythrocyte\\_psbulk\\_counts.tsv           & ALTRA\\_scRNA\\_AIFI\\_L2\\_certpro\\_pseudobulk\\_\\_Erythrocyte\\_psbulk\\_metadata.csv           & ALTRA & RA\\_conveters\\\\\n",
       "\t gdT                   & ALTRA\\_scRNA\\_AIFI\\_L2\\_certpro\\_pseudobulk\\_\\_gdT\\_psbulk\\_counts.tsv                   & ALTRA\\_scRNA\\_AIFI\\_L2\\_certpro\\_pseudobulk\\_\\_gdT\\_psbulk\\_metadata.csv                   & ALTRA & RA\\_conveters\\\\\n",
       "\t ILC                   & ALTRA\\_scRNA\\_AIFI\\_L2\\_certpro\\_pseudobulk\\_\\_ILC\\_psbulk\\_counts.tsv                   & ALTRA\\_scRNA\\_AIFI\\_L2\\_certpro\\_pseudobulk\\_\\_ILC\\_psbulk\\_metadata.csv                   & ALTRA & RA\\_conveters\\\\\n",
       "\t Intermediate monocyte & ALTRA\\_scRNA\\_AIFI\\_L2\\_certpro\\_pseudobulk\\_\\_Intermediate monocyte\\_psbulk\\_counts.tsv & ALTRA\\_scRNA\\_AIFI\\_L2\\_certpro\\_pseudobulk\\_\\_Intermediate monocyte\\_psbulk\\_metadata.csv & ALTRA & RA\\_conveters\\\\\n",
       "\t MAIT                  & ALTRA\\_scRNA\\_AIFI\\_L2\\_certpro\\_pseudobulk\\_\\_MAIT\\_psbulk\\_counts.tsv                  & ALTRA\\_scRNA\\_AIFI\\_L2\\_certpro\\_pseudobulk\\_\\_MAIT\\_psbulk\\_metadata.csv                  & ALTRA & RA\\_conveters\\\\\n",
       "\t Memory B cell         & ALTRA\\_scRNA\\_AIFI\\_L2\\_certpro\\_pseudobulk\\_\\_Memory B cell\\_psbulk\\_counts.tsv         & ALTRA\\_scRNA\\_AIFI\\_L2\\_certpro\\_pseudobulk\\_\\_Memory B cell\\_psbulk\\_metadata.csv         & ALTRA & RA\\_conveters\\\\\n",
       "\t Memory CD4 T cell     & ALTRA\\_scRNA\\_AIFI\\_L2\\_certpro\\_pseudobulk\\_\\_Memory CD4 T cell\\_psbulk\\_counts.tsv     & ALTRA\\_scRNA\\_AIFI\\_L2\\_certpro\\_pseudobulk\\_\\_Memory CD4 T cell\\_psbulk\\_metadata.csv     & ALTRA & RA\\_conveters\\\\\n",
       "\t Memory CD8 T cell     & ALTRA\\_scRNA\\_AIFI\\_L2\\_certpro\\_pseudobulk\\_\\_Memory CD8 T cell\\_psbulk\\_counts.tsv     & ALTRA\\_scRNA\\_AIFI\\_L2\\_certpro\\_pseudobulk\\_\\_Memory CD8 T cell\\_psbulk\\_metadata.csv     & ALTRA & RA\\_conveters\\\\\n",
       "\t Naive B cell          & ALTRA\\_scRNA\\_AIFI\\_L2\\_certpro\\_pseudobulk\\_\\_Naive B cell\\_psbulk\\_counts.tsv          & ALTRA\\_scRNA\\_AIFI\\_L2\\_certpro\\_pseudobulk\\_\\_Naive B cell\\_psbulk\\_metadata.csv          & ALTRA & RA\\_conveters\\\\\n",
       "\t Naive CD4 T cell      & ALTRA\\_scRNA\\_AIFI\\_L2\\_certpro\\_pseudobulk\\_\\_Naive CD4 T cell\\_psbulk\\_counts.tsv      & ALTRA\\_scRNA\\_AIFI\\_L2\\_certpro\\_pseudobulk\\_\\_Naive CD4 T cell\\_psbulk\\_metadata.csv      & ALTRA & RA\\_conveters\\\\\n",
       "\\end{tabular}\n"
      ],
      "text/markdown": [
       "\n",
       "A tibble: 20 × 5\n",
       "\n",
       "| cell_type &lt;chr&gt; | counts_file &lt;chr&gt; | meta_file &lt;chr&gt; | cohort &lt;chr&gt; | status &lt;chr&gt; |\n",
       "|---|---|---|---|---|\n",
       "| ASDC                  | ALTRA_scRNA_AIFI_L2_certpro_pseudobulk__ASDC_psbulk_counts.tsv                  | ALTRA_scRNA_AIFI_L2_certpro_pseudobulk__ASDC_psbulk_metadata.csv                  | ALTRA | RA_conveters |\n",
       "| CD14 monocyte         | ALTRA_scRNA_AIFI_L2_certpro_pseudobulk__CD14 monocyte_psbulk_counts.tsv         | ALTRA_scRNA_AIFI_L2_certpro_pseudobulk__CD14 monocyte_psbulk_metadata.csv         | ALTRA | RA_conveters |\n",
       "| CD16 monocyte         | ALTRA_scRNA_AIFI_L2_certpro_pseudobulk__CD16 monocyte_psbulk_counts.tsv         | ALTRA_scRNA_AIFI_L2_certpro_pseudobulk__CD16 monocyte_psbulk_metadata.csv         | ALTRA | RA_conveters |\n",
       "| CD56bright NK cell    | ALTRA_scRNA_AIFI_L2_certpro_pseudobulk__CD56bright NK cell_psbulk_counts.tsv    | ALTRA_scRNA_AIFI_L2_certpro_pseudobulk__CD56bright NK cell_psbulk_metadata.csv    | ALTRA | RA_conveters |\n",
       "| CD56dim NK cell       | ALTRA_scRNA_AIFI_L2_certpro_pseudobulk__CD56dim NK cell_psbulk_counts.tsv       | ALTRA_scRNA_AIFI_L2_certpro_pseudobulk__CD56dim NK cell_psbulk_metadata.csv       | ALTRA | RA_conveters |\n",
       "| CD8aa                 | ALTRA_scRNA_AIFI_L2_certpro_pseudobulk__CD8aa_psbulk_counts.tsv                 | ALTRA_scRNA_AIFI_L2_certpro_pseudobulk__CD8aa_psbulk_metadata.csv                 | ALTRA | RA_conveters |\n",
       "| cDC1                  | ALTRA_scRNA_AIFI_L2_certpro_pseudobulk__cDC1_psbulk_counts.tsv                  | ALTRA_scRNA_AIFI_L2_certpro_pseudobulk__cDC1_psbulk_metadata.csv                  | ALTRA | RA_conveters |\n",
       "| cDC2                  | ALTRA_scRNA_AIFI_L2_certpro_pseudobulk__cDC2_psbulk_counts.tsv                  | ALTRA_scRNA_AIFI_L2_certpro_pseudobulk__cDC2_psbulk_metadata.csv                  | ALTRA | RA_conveters |\n",
       "| DN T cell             | ALTRA_scRNA_AIFI_L2_certpro_pseudobulk__DN T cell_psbulk_counts.tsv             | ALTRA_scRNA_AIFI_L2_certpro_pseudobulk__DN T cell_psbulk_metadata.csv             | ALTRA | RA_conveters |\n",
       "| Effector B cell       | ALTRA_scRNA_AIFI_L2_certpro_pseudobulk__Effector B cell_psbulk_counts.tsv       | ALTRA_scRNA_AIFI_L2_certpro_pseudobulk__Effector B cell_psbulk_metadata.csv       | ALTRA | RA_conveters |\n",
       "| Erythrocyte           | ALTRA_scRNA_AIFI_L2_certpro_pseudobulk__Erythrocyte_psbulk_counts.tsv           | ALTRA_scRNA_AIFI_L2_certpro_pseudobulk__Erythrocyte_psbulk_metadata.csv           | ALTRA | RA_conveters |\n",
       "| gdT                   | ALTRA_scRNA_AIFI_L2_certpro_pseudobulk__gdT_psbulk_counts.tsv                   | ALTRA_scRNA_AIFI_L2_certpro_pseudobulk__gdT_psbulk_metadata.csv                   | ALTRA | RA_conveters |\n",
       "| ILC                   | ALTRA_scRNA_AIFI_L2_certpro_pseudobulk__ILC_psbulk_counts.tsv                   | ALTRA_scRNA_AIFI_L2_certpro_pseudobulk__ILC_psbulk_metadata.csv                   | ALTRA | RA_conveters |\n",
       "| Intermediate monocyte | ALTRA_scRNA_AIFI_L2_certpro_pseudobulk__Intermediate monocyte_psbulk_counts.tsv | ALTRA_scRNA_AIFI_L2_certpro_pseudobulk__Intermediate monocyte_psbulk_metadata.csv | ALTRA | RA_conveters |\n",
       "| MAIT                  | ALTRA_scRNA_AIFI_L2_certpro_pseudobulk__MAIT_psbulk_counts.tsv                  | ALTRA_scRNA_AIFI_L2_certpro_pseudobulk__MAIT_psbulk_metadata.csv                  | ALTRA | RA_conveters |\n",
       "| Memory B cell         | ALTRA_scRNA_AIFI_L2_certpro_pseudobulk__Memory B cell_psbulk_counts.tsv         | ALTRA_scRNA_AIFI_L2_certpro_pseudobulk__Memory B cell_psbulk_metadata.csv         | ALTRA | RA_conveters |\n",
       "| Memory CD4 T cell     | ALTRA_scRNA_AIFI_L2_certpro_pseudobulk__Memory CD4 T cell_psbulk_counts.tsv     | ALTRA_scRNA_AIFI_L2_certpro_pseudobulk__Memory CD4 T cell_psbulk_metadata.csv     | ALTRA | RA_conveters |\n",
       "| Memory CD8 T cell     | ALTRA_scRNA_AIFI_L2_certpro_pseudobulk__Memory CD8 T cell_psbulk_counts.tsv     | ALTRA_scRNA_AIFI_L2_certpro_pseudobulk__Memory CD8 T cell_psbulk_metadata.csv     | ALTRA | RA_conveters |\n",
       "| Naive B cell          | ALTRA_scRNA_AIFI_L2_certpro_pseudobulk__Naive B cell_psbulk_counts.tsv          | ALTRA_scRNA_AIFI_L2_certpro_pseudobulk__Naive B cell_psbulk_metadata.csv          | ALTRA | RA_conveters |\n",
       "| Naive CD4 T cell      | ALTRA_scRNA_AIFI_L2_certpro_pseudobulk__Naive CD4 T cell_psbulk_counts.tsv      | ALTRA_scRNA_AIFI_L2_certpro_pseudobulk__Naive CD4 T cell_psbulk_metadata.csv      | ALTRA | RA_conveters |\n",
       "\n"
      ],
      "text/plain": [
       "   cell_type            \n",
       "1  ASDC                 \n",
       "2  CD14 monocyte        \n",
       "3  CD16 monocyte        \n",
       "4  CD56bright NK cell   \n",
       "5  CD56dim NK cell      \n",
       "6  CD8aa                \n",
       "7  cDC1                 \n",
       "8  cDC2                 \n",
       "9  DN T cell            \n",
       "10 Effector B cell      \n",
       "11 Erythrocyte          \n",
       "12 gdT                  \n",
       "13 ILC                  \n",
       "14 Intermediate monocyte\n",
       "15 MAIT                 \n",
       "16 Memory B cell        \n",
       "17 Memory CD4 T cell    \n",
       "18 Memory CD8 T cell    \n",
       "19 Naive B cell         \n",
       "20 Naive CD4 T cell     \n",
       "   counts_file                                                                    \n",
       "1  ALTRA_scRNA_AIFI_L2_certpro_pseudobulk__ASDC_psbulk_counts.tsv                 \n",
       "2  ALTRA_scRNA_AIFI_L2_certpro_pseudobulk__CD14 monocyte_psbulk_counts.tsv        \n",
       "3  ALTRA_scRNA_AIFI_L2_certpro_pseudobulk__CD16 monocyte_psbulk_counts.tsv        \n",
       "4  ALTRA_scRNA_AIFI_L2_certpro_pseudobulk__CD56bright NK cell_psbulk_counts.tsv   \n",
       "5  ALTRA_scRNA_AIFI_L2_certpro_pseudobulk__CD56dim NK cell_psbulk_counts.tsv      \n",
       "6  ALTRA_scRNA_AIFI_L2_certpro_pseudobulk__CD8aa_psbulk_counts.tsv                \n",
       "7  ALTRA_scRNA_AIFI_L2_certpro_pseudobulk__cDC1_psbulk_counts.tsv                 \n",
       "8  ALTRA_scRNA_AIFI_L2_certpro_pseudobulk__cDC2_psbulk_counts.tsv                 \n",
       "9  ALTRA_scRNA_AIFI_L2_certpro_pseudobulk__DN T cell_psbulk_counts.tsv            \n",
       "10 ALTRA_scRNA_AIFI_L2_certpro_pseudobulk__Effector B cell_psbulk_counts.tsv      \n",
       "11 ALTRA_scRNA_AIFI_L2_certpro_pseudobulk__Erythrocyte_psbulk_counts.tsv          \n",
       "12 ALTRA_scRNA_AIFI_L2_certpro_pseudobulk__gdT_psbulk_counts.tsv                  \n",
       "13 ALTRA_scRNA_AIFI_L2_certpro_pseudobulk__ILC_psbulk_counts.tsv                  \n",
       "14 ALTRA_scRNA_AIFI_L2_certpro_pseudobulk__Intermediate monocyte_psbulk_counts.tsv\n",
       "15 ALTRA_scRNA_AIFI_L2_certpro_pseudobulk__MAIT_psbulk_counts.tsv                 \n",
       "16 ALTRA_scRNA_AIFI_L2_certpro_pseudobulk__Memory B cell_psbulk_counts.tsv        \n",
       "17 ALTRA_scRNA_AIFI_L2_certpro_pseudobulk__Memory CD4 T cell_psbulk_counts.tsv    \n",
       "18 ALTRA_scRNA_AIFI_L2_certpro_pseudobulk__Memory CD8 T cell_psbulk_counts.tsv    \n",
       "19 ALTRA_scRNA_AIFI_L2_certpro_pseudobulk__Naive B cell_psbulk_counts.tsv         \n",
       "20 ALTRA_scRNA_AIFI_L2_certpro_pseudobulk__Naive CD4 T cell_psbulk_counts.tsv     \n",
       "   meta_file                                                                        \n",
       "1  ALTRA_scRNA_AIFI_L2_certpro_pseudobulk__ASDC_psbulk_metadata.csv                 \n",
       "2  ALTRA_scRNA_AIFI_L2_certpro_pseudobulk__CD14 monocyte_psbulk_metadata.csv        \n",
       "3  ALTRA_scRNA_AIFI_L2_certpro_pseudobulk__CD16 monocyte_psbulk_metadata.csv        \n",
       "4  ALTRA_scRNA_AIFI_L2_certpro_pseudobulk__CD56bright NK cell_psbulk_metadata.csv   \n",
       "5  ALTRA_scRNA_AIFI_L2_certpro_pseudobulk__CD56dim NK cell_psbulk_metadata.csv      \n",
       "6  ALTRA_scRNA_AIFI_L2_certpro_pseudobulk__CD8aa_psbulk_metadata.csv                \n",
       "7  ALTRA_scRNA_AIFI_L2_certpro_pseudobulk__cDC1_psbulk_metadata.csv                 \n",
       "8  ALTRA_scRNA_AIFI_L2_certpro_pseudobulk__cDC2_psbulk_metadata.csv                 \n",
       "9  ALTRA_scRNA_AIFI_L2_certpro_pseudobulk__DN T cell_psbulk_metadata.csv            \n",
       "10 ALTRA_scRNA_AIFI_L2_certpro_pseudobulk__Effector B cell_psbulk_metadata.csv      \n",
       "11 ALTRA_scRNA_AIFI_L2_certpro_pseudobulk__Erythrocyte_psbulk_metadata.csv          \n",
       "12 ALTRA_scRNA_AIFI_L2_certpro_pseudobulk__gdT_psbulk_metadata.csv                  \n",
       "13 ALTRA_scRNA_AIFI_L2_certpro_pseudobulk__ILC_psbulk_metadata.csv                  \n",
       "14 ALTRA_scRNA_AIFI_L2_certpro_pseudobulk__Intermediate monocyte_psbulk_metadata.csv\n",
       "15 ALTRA_scRNA_AIFI_L2_certpro_pseudobulk__MAIT_psbulk_metadata.csv                 \n",
       "16 ALTRA_scRNA_AIFI_L2_certpro_pseudobulk__Memory B cell_psbulk_metadata.csv        \n",
       "17 ALTRA_scRNA_AIFI_L2_certpro_pseudobulk__Memory CD4 T cell_psbulk_metadata.csv    \n",
       "18 ALTRA_scRNA_AIFI_L2_certpro_pseudobulk__Memory CD8 T cell_psbulk_metadata.csv    \n",
       "19 ALTRA_scRNA_AIFI_L2_certpro_pseudobulk__Naive B cell_psbulk_metadata.csv         \n",
       "20 ALTRA_scRNA_AIFI_L2_certpro_pseudobulk__Naive CD4 T cell_psbulk_metadata.csv     \n",
       "   cohort status      \n",
       "1  ALTRA  RA_conveters\n",
       "2  ALTRA  RA_conveters\n",
       "3  ALTRA  RA_conveters\n",
       "4  ALTRA  RA_conveters\n",
       "5  ALTRA  RA_conveters\n",
       "6  ALTRA  RA_conveters\n",
       "7  ALTRA  RA_conveters\n",
       "8  ALTRA  RA_conveters\n",
       "9  ALTRA  RA_conveters\n",
       "10 ALTRA  RA_conveters\n",
       "11 ALTRA  RA_conveters\n",
       "12 ALTRA  RA_conveters\n",
       "13 ALTRA  RA_conveters\n",
       "14 ALTRA  RA_conveters\n",
       "15 ALTRA  RA_conveters\n",
       "16 ALTRA  RA_conveters\n",
       "17 ALTRA  RA_conveters\n",
       "18 ALTRA  RA_conveters\n",
       "19 ALTRA  RA_conveters\n",
       "20 ALTRA  RA_conveters"
      ]
     },
     "metadata": {},
     "output_type": "display_data"
    }
   ],
   "source": [
    "# combine the files\n",
    "files_comb <- bind_rows(files_altra, files_tb_bri)\n",
    "files_comb%>%head(20)"
   ]
  },
  {
   "cell_type": "code",
   "execution_count": 15,
   "id": "62a21fba-a0bf-4c52-a12e-2c597836c8e6",
   "metadata": {},
   "outputs": [
    {
     "data": {
      "text/html": [
       "'ALTRA_scRNA_AIFI_L2_certpro_pseudobulk__Naive CD4 T cell_psbulk_metadata.csv'"
      ],
      "text/latex": [
       "'ALTRA\\_scRNA\\_AIFI\\_L2\\_certpro\\_pseudobulk\\_\\_Naive CD4 T cell\\_psbulk\\_metadata.csv'"
      ],
      "text/markdown": [
       "'ALTRA_scRNA_AIFI_L2_certpro_pseudobulk__Naive CD4 T cell_psbulk_metadata.csv'"
      ],
      "text/plain": [
       "[1] \"ALTRA_scRNA_AIFI_L2_certpro_pseudobulk__Naive CD4 T cell_psbulk_metadata.csv\""
      ]
     },
     "metadata": {},
     "output_type": "display_data"
    }
   ],
   "source": [
    "celltype = 'Naive CD4 T cell'\n",
    "files_altra%>%filter(cell_type==celltype)%>%\n",
    "                                    pull(meta_file)"
   ]
  },
  {
   "cell_type": "code",
   "execution_count": 31,
   "id": "d20f38ee-3343-481a-9305-beafe3515d69",
   "metadata": {
    "scrolled": true
   },
   "outputs": [],
   "source": [
    "# load data for one cell type and comebine\n",
    "\n",
    "CreateSE <- function(celltype){\n",
    "    message(paste('Create dataset for', celltype))\n",
    "    altra_counts <- fread(file.path(altra_path, \n",
    "                                    files_altra%>%filter(cell_type==celltype)%>%\n",
    "                                    pull(counts_file)))%>% \n",
    "        rename('V1'='index')%>%mutate(index=as.character(index))\n",
    "    \n",
    "    # load the metadata\n",
    "    altra_meta <- fread(file.path(altra_path,  files_altra%>%filter(cell_type==celltype)%>%\n",
    "                                    pull(meta_file)))%>% rename('V1'='index')%>%\n",
    "        mutate(index=as.character(index), \n",
    "               sample.drawDate=as.character(sample.drawDate),\n",
    "                BMI=as.character(BMI),\n",
    "                   cohort='ALTRA')\n",
    "    # check the index \n",
    "    stopifnot(all(altra_counts$index==altra_meta$index))\n",
    "    \n",
    "    # load data for one cell type in bri\n",
    "    bri_counts <- fread(file.path(data_path, \n",
    "                                    files_tb_bri%>%filter(cell_type==celltype)%>%\n",
    "                                    pull(counts_file)))%>% \n",
    "        rename('V1'='index')\n",
    "    \n",
    "    # load the metadata\n",
    "    bri_meta <- fread(file.path(data_path, files_tb_bri%>%filter(cell_type==celltype)%>%\n",
    "                                pull(meta_file)))%>% rename('V1'='index')%>%\n",
    "        mutate(#sample.diseaseStatesRecordedAtVisit=as.character(sample.diseaseStatesRecordedAtVisit), \n",
    "                sample.drawDate=as.character(sample.drawDate),\n",
    "               BMI=as.character(BMI),\n",
    "                   cohort='BRI')\n",
    "    # add last BMI and age for BRI\n",
    "    bri_meta_age_bmi <- bri_meta%>% \n",
    "        group_by(subject.subjectGuid)%>%slice_max(order_by = sample.daysSinceFirstVisit)%>%\n",
    "        mutate(age_last=age, bmi_last = BMI)%>%select(subject.subjectGuid, age_last, bmi_last, \n",
    "                                                      sample.daysSinceFirstVisit)%>%\n",
    "        rename('sample.daysSinceFirstVisit'='last_visit_day')%>%distinct(.keep_all = TRUE)\n",
    "    #return(bri_meta_age_bmi)\n",
    "    bri_meta<- bri_meta%>%left_join(bri_meta_age_bmi, by='subject.subjectGuid',\n",
    "                                       relationship = \"many-to-one\")%>%\n",
    "        mutate(days_since_last=sample.daysSinceFirstVisit-last_visit_day)\n",
    "    \n",
    "    # check the index \n",
    "    stopifnot(all(bri_counts$index==bri_meta$index))\n",
    "    # combine the count table\n",
    "    comb_meta <- bind_rows(altra_meta, bri_meta)%>%\n",
    "        mutate(cell_type = AIFI_L2,\n",
    "               bmi_conv_cat = cut(bmi_conv,\n",
    "                                  breaks = c(0, 25, 30, +Inf), \n",
    "                                           labels = c('<25-BMI', '>25-30BMI', '>30BMI')), \n",
    "                       bmi_last=coalesce(bmi_last, bmi_conv_cat),\n",
    "               age_last = coalesce(age_last, age_conv),\n",
    "              days_since_last=coalesce(days_since_last,days_to_conversion))\n",
    "    # take the overlap genes\n",
    "    overlap_genes = intersect(colnames(altra_counts), colnames(bri_counts))\n",
    "    # combine the count table\n",
    "    comb_counts <- bind_rows(select(altra_counts, all_of(overlap_genes)), \n",
    "                             select(bri_counts, all_of(overlap_genes)))\n",
    "    \n",
    "    # check the index of combined object\n",
    "    stopifnot(all(comb_counts$index==comb_meta$index))\n",
    "    \n",
    "    # make count matrix\n",
    "    counts_mx <- comb_counts %>% select(-index)%>%\n",
    "        as.data.frame()%>% t()\n",
    "    # make summarized experiment\n",
    "    pb_se <- SummarizedExperiment(assays=list(counts=counts_mx), colData=comb_meta)\n",
    "    \n",
    "    colnames(pb_se) = colData(pb_se)$sample.sampleKitGuid    \n",
    "    return(pb_se)\n",
    "}"
   ]
  },
  {
   "cell_type": "code",
   "execution_count": 32,
   "id": "bb1a0672-a020-4ac2-90c9-34d9384a6790",
   "metadata": {},
   "outputs": [],
   "source": [
    "# pb_se = CreateSE('Naive CD4 T cell')"
   ]
  },
  {
   "cell_type": "code",
   "execution_count": 33,
   "id": "7dc3e91c-9fc8-47ed-b1a5-f6430835cba8",
   "metadata": {},
   "outputs": [],
   "source": [
    "# pb_se"
   ]
  },
  {
   "cell_type": "code",
   "execution_count": 34,
   "id": "358b644d-d00b-4cb4-a418-e1ba0d97121f",
   "metadata": {},
   "outputs": [],
   "source": [
    "# p1<-colData(pb_se[['Naive CD4 T cell']])%>%as_tibble()%>%\n",
    "#     ggplot(aes(x=days_since_last, fill=cohort)) +\n",
    "#     geom_histogram()\n",
    "# p2<-colData(pb_se[['Naive CD4 T cell']])%>%as_tibble()%>%\n",
    "#     ggplot(aes(x=age_last, fill=cohort)) +\n",
    "#     geom_histogram()\n",
    "# p1"
   ]
  },
  {
   "cell_type": "code",
   "execution_count": 35,
   "id": "929a3bfe-00a1-43b1-bd82-259ea810c930",
   "metadata": {
    "scrolled": true
   },
   "outputs": [],
   "source": [
    "# # loop to all cell type \n",
    "# # load data for one cell type and comebine\n",
    "# celltypes = intersect(files_altra$cell_type, files_tb_bri$cell_type)%>%unique()\n",
    "# comb_se <- lapply(celltypes, function(celltype){\n",
    "#     message(paste('Create dataset for', celltype))\n",
    "#     altra_counts <- fread(file.path(altra_path, \n",
    "#                                     files_altra%>%filter(cell_type==celltype)%>%\n",
    "#                                     pull(counts_file)))%>% \n",
    "#         rename('V1'='index')%>%mutate(index=as.character(index))\n",
    "    \n",
    "#     # load the metadata\n",
    "#     altra_meta <- fread(file.path(altra_path,  files_altra%>%filter(cell_type==celltype)%>%\n",
    "#                                     pull(meta_file)))%>% rename('V1'='index')%>%\n",
    "#         mutate(index=as.character(index), \n",
    "#                 sample.drawDate=as.character(sample.drawDate), \n",
    "#                cohort='ALTRA')\n",
    "#     # check the index \n",
    "#     stopifnot(all(altra_counts$index==altra_meta$index))\n",
    "    \n",
    "#     # load data for one cell type in bri\n",
    "#     bri_counts <- fread(file.path(data_path, \n",
    "#                                     files_tb_bri%>%filter(cell_type==celltype)%>%\n",
    "#                                     pull(counts_file)))%>% \n",
    "#         rename('V1'='index')\n",
    "    \n",
    "#     # load the metadata\n",
    "#     bri_meta <- fread(file.path(data_path, files_tb_bri%>%filter(cell_type==celltype)%>%\n",
    "#                                     pull(meta_file)))%>% rename('V1'='index')%>%\n",
    "#         mutate(sample.diseaseStatesRecordedAtVisit=as.character(sample.daysSinceFirstVisit), \n",
    "#                 sample.drawDate=as.character(sample.drawDate), \n",
    "#                cohort='BRI')\n",
    "#     # add last BMI and age for BRI\n",
    "#     bri_meta_age_bmi <- bri_meta%>% \n",
    "#         group_by(subject.subjectGuid)%>%slice_max(order_by = sample.diseaseStatesRecordedAtVisit)%>%\n",
    "#         mutate(age_last=age, bmi_last = BMI)%>%\n",
    "#         select(subject.subjectGuid, age_last, bmi_last,sample.daysSinceFirstVisit)%>%\n",
    "#         rename('sample.daysSinceFirstVisit'='last_visit_day')\n",
    "#     bri_meta<- bri_meta%>%left_join(bri_meta_age_bmi, by='subject.subjectGuid',\n",
    "#                                    relationship = \"many-to-many\")%>%\n",
    "#         mutate(days_since_last=sample.daysSinceFirstVisit-last_visit_day)\n",
    "\n",
    "#     # check the index \n",
    "#     stopifnot(all(bri_counts$index==bri_meta$index))\n",
    "#     # combine the count table\n",
    "#     comb_meta <- bind_rows(altra_meta, bri_meta) %>% \n",
    "#         mutate(cell_type = coalesce(pred_manual, AIFI_L3), \n",
    "#               age_last = coalesce(age_last, age_conv))%>% \n",
    "#         mutate(bmi_conv_cat = cut(bmi_conv,  breaks = c(0, 25, 30, +Inf), \n",
    "#                                        labels = c('<25-BMI', '>25-30BMI', '>30BMI')), \n",
    "#                    bmi_last=coalesce(bmi_last, bmi_conv_cat),\n",
    "#           days_since_last=coalesce(days_since_last, days_to_conversion)) \n",
    "#     # take the overlap genes\n",
    "#     overlap_genes = intersect(colnames(altra_counts), colnames(bri_counts))\n",
    "#     # combine the count table\n",
    "#     comb_counts <- bind_rows(select(altra_counts, all_of(overlap_genes)), select(bri_counts, all_of(overlap_genes)))\n",
    "    \n",
    "#     # check the index of combined object\n",
    "#     stopifnot(all(comb_counts$index==comb_meta$index))\n",
    "    \n",
    "#     # make count matrix\n",
    "#     counts_mx <- comb_counts %>% select(-index)%>%\n",
    "#         as.data.frame()%>% t()\n",
    "#     # make summarized experiment\n",
    "#     pb_se <- SummarizedExperiment(assays=list(counts=counts_mx), colData=comb_meta)\n",
    "    \n",
    "#     colnames(pb_se) = colData(pb_se)$sample.sampleKitGuid\n",
    "#     return(pb_se)\n",
    "# })\n",
    "# names(comb_se) = celltypes"
   ]
  },
  {
   "cell_type": "code",
   "execution_count": 36,
   "id": "d12d3c00-df74-4ade-bbb1-324883912bb3",
   "metadata": {},
   "outputs": [
    {
     "name": "stderr",
     "output_type": "stream",
     "text": [
      "Create dataset for ASDC\n",
      "\n",
      "Create dataset for CD14 monocyte\n",
      "\n",
      "Create dataset for CD16 monocyte\n",
      "\n",
      "Create dataset for CD56bright NK cell\n",
      "\n",
      "Create dataset for CD56dim NK cell\n",
      "\n",
      "Create dataset for CD8aa\n",
      "\n",
      "Create dataset for cDC1\n",
      "\n",
      "Create dataset for cDC2\n",
      "\n",
      "Create dataset for DN T cell\n",
      "\n",
      "Create dataset for Effector B cell\n",
      "\n",
      "Create dataset for Erythrocyte\n",
      "\n",
      "Create dataset for gdT\n",
      "\n",
      "Create dataset for ILC\n",
      "\n",
      "Create dataset for Intermediate monocyte\n",
      "\n",
      "Create dataset for MAIT\n",
      "\n",
      "Create dataset for Memory B cell\n",
      "\n",
      "Create dataset for Memory CD4 T cell\n",
      "\n",
      "Create dataset for Memory CD8 T cell\n",
      "\n",
      "Create dataset for Naive B cell\n",
      "\n",
      "Create dataset for Naive CD4 T cell\n",
      "\n",
      "Create dataset for Naive CD8 T cell\n",
      "\n",
      "Create dataset for pDC\n",
      "\n",
      "Create dataset for Plasma cell\n",
      "\n",
      "Create dataset for Platelet\n",
      "\n",
      "Create dataset for Progenitor cell\n",
      "\n",
      "Create dataset for Proliferating NK cell\n",
      "\n",
      "Create dataset for Proliferating T cell\n",
      "\n",
      "Create dataset for Transitional B cell\n",
      "\n",
      "Create dataset for Treg\n",
      "\n"
     ]
    }
   ],
   "source": [
    "# loop to all cell type \n",
    "# load data for one cell type and comebine\n",
    "celltypes = intersect(files_altra$cell_type, files_tb_bri$cell_type)%>%unique()\n",
    "comb_se <- lapply(celltypes, CreateSE)\n",
    "names(comb_se) = celltypes"
   ]
  },
  {
   "cell_type": "code",
   "execution_count": 40,
   "id": "d1a5a6d6-6deb-491e-8285-601df540173e",
   "metadata": {},
   "outputs": [
    {
     "data": {
      "text/plain": [
       ".\n",
       "ALTRA   BRI \n",
       "   65    86 "
      ]
     },
     "metadata": {},
     "output_type": "display_data"
    }
   ],
   "source": [
    "colData(comb_se[['Naive CD4 T cell']])$cohort%>%table()"
   ]
  },
  {
   "cell_type": "code",
   "execution_count": 41,
   "id": "f39ccef8-d330-47aa-917d-d98f1af35b0b",
   "metadata": {},
   "outputs": [
    {
     "name": "stderr",
     "output_type": "stream",
     "text": [
      "\u001b[1m\u001b[22m`stat_bin()` using `bins = 30`. Pick better value with `binwidth`.\n"
     ]
    },
    {
     "data": {
      "image/png": "[encoded data removed]",
      "text/plain": [
       "plot without title"
      ]
     },
     "metadata": {
      "image/png": {
       "height": 900,
       "width": 1200
      }
     },
     "output_type": "display_data"
    }
   ],
   "source": [
    "colData(comb_se[['Naive CD4 T cell']])%>%as_tibble()%>%\n",
    "    ggplot(aes(x=days_since_last, fill=cohort)) +\n",
    "    geom_histogram()"
   ]
  },
  {
   "cell_type": "code",
   "execution_count": 42,
   "id": "e7bb6ab1-66d8-46fe-af9c-99b34e1b8bc3",
   "metadata": {},
   "outputs": [],
   "source": [
    "comb_se%>%saveRDS(file.path(output_path,  'ALTRA_BRI_longitudinal_psedobulk_object_list_090324.rds'))"
   ]
  },
  {
   "cell_type": "markdown",
   "id": "143e1eb5-17ac-4070-9529-6fc7940c65bb",
   "metadata": {},
   "source": [
    "# make psudobulk object for ALTRA longitduinal and BRI for all cell types combined for variablility test"
   ]
  },
  {
   "cell_type": "code",
   "execution_count": 46,
   "id": "80519db1-7f8b-4372-ae0c-a245851f8140",
   "metadata": {},
   "outputs": [],
   "source": [
    "# load data for one cell type and comebine\n",
    "\n",
    "CreateSEAll <- function(altra_count_path, altra_meta_path, bri_count_path, bri_meta_path){\n",
    "    altra_counts <- fread(altra_count_path)%>% \n",
    "        rename('V1'='index')%>%mutate(index=as.character(index))\n",
    "    \n",
    "    # load the metadata\n",
    "    altra_meta <- fread(altra_meta_path)%>% rename('V1'='index')%>%\n",
    "        mutate(index=as.character(index), \n",
    "               sample.drawDate=as.character(sample.drawDate),\n",
    "                BMI=as.character(BMI),\n",
    "                   cohort='ALTRA')\n",
    "    # check the index \n",
    "    stopifnot(all(altra_counts$index==altra_meta$index))\n",
    "    \n",
    "    # load data for one cell type in bri\n",
    "    bri_counts <- fread(bri_count_path)%>% \n",
    "        rename('V1'='index')\n",
    "    \n",
    "    # load the metadata\n",
    "    bri_meta <- fread(bri_meta_path)%>% rename('V1'='index')%>%\n",
    "        mutate(#sample.diseaseStatesRecordedAtVisit=as.character(sample.diseaseStatesRecordedAtVisit), \n",
    "                sample.drawDate=as.character(sample.drawDate),\n",
    "               BMI=as.character(BMI),\n",
    "                   cohort='BRI')\n",
    "    # add last BMI and age for BRI\n",
    "    bri_meta_age_bmi <- bri_meta%>% \n",
    "        group_by(subject.subjectGuid)%>%slice_max(order_by = sample.daysSinceFirstVisit)%>%\n",
    "        mutate(age_last=age, bmi_last = BMI)%>%select(subject.subjectGuid, age_last, bmi_last, \n",
    "                                                      sample.daysSinceFirstVisit)%>%\n",
    "        rename('sample.daysSinceFirstVisit'='last_visit_day')%>%distinct(.keep_all = TRUE)\n",
    "    #return(bri_meta_age_bmi)\n",
    "    bri_meta<- bri_meta%>%left_join(bri_meta_age_bmi, by='subject.subjectGuid',\n",
    "                                       relationship = \"many-to-one\")%>%\n",
    "        mutate(days_since_last=sample.daysSinceFirstVisit-last_visit_day)\n",
    "    \n",
    "    # check the index \n",
    "    stopifnot(all(bri_counts$index==bri_meta$index))\n",
    "    # combine the count table\n",
    "    comb_meta <- bind_rows(altra_meta, bri_meta)%>%\n",
    "        mutate(cell_type = AIFI_L2,\n",
    "               bmi_conv_cat = cut(bmi_conv,\n",
    "                                  breaks = c(0, 25, 30, +Inf), \n",
    "                                           labels = c('<25-BMI', '>25-30BMI', '>30BMI')), \n",
    "                       bmi_last=coalesce(bmi_last, bmi_conv_cat),\n",
    "               age_last = coalesce(age_last, age_conv),\n",
    "              days_since_last=coalesce(days_since_last,days_to_conversion))\n",
    "    # take the overlap genes\n",
    "    overlap_genes = intersect(colnames(altra_counts), colnames(bri_counts))\n",
    "    # combine the count table\n",
    "    comb_counts <- bind_rows(select(altra_counts, all_of(overlap_genes)), \n",
    "                             select(bri_counts, all_of(overlap_genes)))\n",
    "    \n",
    "    # check the index of combined object\n",
    "    stopifnot(all(comb_counts$index==comb_meta$index))\n",
    "    \n",
    "    # make count matrix\n",
    "    counts_mx <- comb_counts %>% select(-index)%>%\n",
    "        as.data.frame()%>% t()\n",
    "    # make summarized experiment\n",
    "    pb_se <- SummarizedExperiment(assays=list(counts=counts_mx), colData=comb_meta)\n",
    "    \n",
    "    colnames(pb_se) = colData(pb_se)$sample.sampleKitGuid    \n",
    "    return(pb_se)\n",
    "}"
   ]
  },
  {
   "cell_type": "code",
   "execution_count": 49,
   "id": "535b924a-8a5a-4913-b1f5-3558cfb2d27f",
   "metadata": {},
   "outputs": [],
   "source": [
    "altra_count_path = '/home/jupyter/data/ra_longitudinal/scrna/certPro/counts/aifi_l2/ALTRA_scRNA_AIFI_L2_certpro_pseudobulk_aim3_psbulk_counts.tsv'\n",
    "altra_meta_path = '/home/jupyter/data/ra_longitudinal/scrna/certPro/counts/aifi_l2/ALTRA_scRNA_AIFI_L2_certpro_pseudobulk_aim3_psbulk_metadata.csv'\n",
    "bri_count_path = '/home/jupyter/data/immune_health/output_results/BRI_scRNA_AIFI_L2_deepclean_Pseudobulk__counts.tsv'\n",
    "bri_meta_path = '/home/jupyter/data/immune_health/output_results/BRI_scRNA_AIFI_L2_deepclean_Pseudobulk__metadata.csv'\n",
    "\n",
    "l2_se <- CreateSEAll(altra_count_path, altra_meta_path, bri_count_path, bri_meta_path)"
   ]
  },
  {
   "cell_type": "code",
   "execution_count": 51,
   "id": "600dcb4b-4ff6-4949-a206-f149737b1dd7",
   "metadata": {},
   "outputs": [
    {
     "data": {
      "text/html": [
       "<style>\n",
       ".list-inline {list-style: none; margin:0; padding: 0}\n",
       ".list-inline>li {display: inline-block}\n",
       ".list-inline>li:not(:last-child)::after {content: \"\\00b7\"; padding: 0 .5ex}\n",
       "</style>\n",
       "<ol class=list-inline><li>'index'</li><li>'batch_id'</li><li>'hto_barcode'</li><li>'hto_category'</li><li>'pbmc_sample_id'</li><li>'pool_id'</li><li>'sample.sampleKitGuid'</li><li>'cohort.cohortGuid'</li><li>'subject.subjectGuid'</li><li>'subject.biologicalSex'</li><li>'subject.race'</li><li>'subject.ethnicity'</li><li>'subject.birthYear'</li><li>'sample.visitName'</li><li>'sample.drawDate'</li><li>'sample.diseaseStatesRecordedAtVisit'</li><li>'sample.daysSinceFirstVisit'</li><li>'file.id'</li><li>'subset_grp'</li><li>'predicted_doublet'</li><li>'AIFI_L2'</li><li>'doublets_manual'</li><li>'Status_Xsec'</li><li>'Status_Long'</li><li>'anti_ccp3_finalCombined'</li><li>'days_to_conversion'</li><li>'BMI'</li><li>'CMV_Status_Subj'</li><li>'age_conv'</li><li>'bmi_conv'</li><li>'file.batchID'</li><li>'status'</li><li>'psbulk_n_cells'</li><li>'psbulk_counts'</li><li>'cohort'</li><li>'AIFI_L1'</li><li>'subject.cmv'</li><li>'subject.ageAtFirstDraw'</li><li>'sample.subjectAgeAtDraw'</li><li>'specimen.specimenGuid'</li><li>'pipeline.fileGuid'</li><li>'age'</li><li>'days_since_first'</li><li>'lib_size'</li><li>'log_lib_size'</li><li>'age_last'</li><li>'bmi_last'</li><li>'last_visit_day'</li><li>'days_since_last'</li><li>'cell_type'</li><li>'bmi_conv_cat'</li></ol>\n"
      ],
      "text/latex": [
       "\\begin{enumerate*}\n",
       "\\item 'index'\n",
       "\\item 'batch\\_id'\n",
       "\\item 'hto\\_barcode'\n",
       "\\item 'hto\\_category'\n",
       "\\item 'pbmc\\_sample\\_id'\n",
       "\\item 'pool\\_id'\n",
       "\\item 'sample.sampleKitGuid'\n",
       "\\item 'cohort.cohortGuid'\n",
       "\\item 'subject.subjectGuid'\n",
       "\\item 'subject.biologicalSex'\n",
       "\\item 'subject.race'\n",
       "\\item 'subject.ethnicity'\n",
       "\\item 'subject.birthYear'\n",
       "\\item 'sample.visitName'\n",
       "\\item 'sample.drawDate'\n",
       "\\item 'sample.diseaseStatesRecordedAtVisit'\n",
       "\\item 'sample.daysSinceFirstVisit'\n",
       "\\item 'file.id'\n",
       "\\item 'subset\\_grp'\n",
       "\\item 'predicted\\_doublet'\n",
       "\\item 'AIFI\\_L2'\n",
       "\\item 'doublets\\_manual'\n",
       "\\item 'Status\\_Xsec'\n",
       "\\item 'Status\\_Long'\n",
       "\\item 'anti\\_ccp3\\_finalCombined'\n",
       "\\item 'days\\_to\\_conversion'\n",
       "\\item 'BMI'\n",
       "\\item 'CMV\\_Status\\_Subj'\n",
       "\\item 'age\\_conv'\n",
       "\\item 'bmi\\_conv'\n",
       "\\item 'file.batchID'\n",
       "\\item 'status'\n",
       "\\item 'psbulk\\_n\\_cells'\n",
       "\\item 'psbulk\\_counts'\n",
       "\\item 'cohort'\n",
       "\\item 'AIFI\\_L1'\n",
       "\\item 'subject.cmv'\n",
       "\\item 'subject.ageAtFirstDraw'\n",
       "\\item 'sample.subjectAgeAtDraw'\n",
       "\\item 'specimen.specimenGuid'\n",
       "\\item 'pipeline.fileGuid'\n",
       "\\item 'age'\n",
       "\\item 'days\\_since\\_first'\n",
       "\\item 'lib\\_size'\n",
       "\\item 'log\\_lib\\_size'\n",
       "\\item 'age\\_last'\n",
       "\\item 'bmi\\_last'\n",
       "\\item 'last\\_visit\\_day'\n",
       "\\item 'days\\_since\\_last'\n",
       "\\item 'cell\\_type'\n",
       "\\item 'bmi\\_conv\\_cat'\n",
       "\\end{enumerate*}\n"
      ],
      "text/markdown": [
       "1. 'index'\n",
       "2. 'batch_id'\n",
       "3. 'hto_barcode'\n",
       "4. 'hto_category'\n",
       "5. 'pbmc_sample_id'\n",
       "6. 'pool_id'\n",
       "7. 'sample.sampleKitGuid'\n",
       "8. 'cohort.cohortGuid'\n",
       "9. 'subject.subjectGuid'\n",
       "10. 'subject.biologicalSex'\n",
       "11. 'subject.race'\n",
       "12. 'subject.ethnicity'\n",
       "13. 'subject.birthYear'\n",
       "14. 'sample.visitName'\n",
       "15. 'sample.drawDate'\n",
       "16. 'sample.diseaseStatesRecordedAtVisit'\n",
       "17. 'sample.daysSinceFirstVisit'\n",
       "18. 'file.id'\n",
       "19. 'subset_grp'\n",
       "20. 'predicted_doublet'\n",
       "21. 'AIFI_L2'\n",
       "22. 'doublets_manual'\n",
       "23. 'Status_Xsec'\n",
       "24. 'Status_Long'\n",
       "25. 'anti_ccp3_finalCombined'\n",
       "26. 'days_to_conversion'\n",
       "27. 'BMI'\n",
       "28. 'CMV_Status_Subj'\n",
       "29. 'age_conv'\n",
       "30. 'bmi_conv'\n",
       "31. 'file.batchID'\n",
       "32. 'status'\n",
       "33. 'psbulk_n_cells'\n",
       "34. 'psbulk_counts'\n",
       "35. 'cohort'\n",
       "36. 'AIFI_L1'\n",
       "37. 'subject.cmv'\n",
       "38. 'subject.ageAtFirstDraw'\n",
       "39. 'sample.subjectAgeAtDraw'\n",
       "40. 'specimen.specimenGuid'\n",
       "41. 'pipeline.fileGuid'\n",
       "42. 'age'\n",
       "43. 'days_since_first'\n",
       "44. 'lib_size'\n",
       "45. 'log_lib_size'\n",
       "46. 'age_last'\n",
       "47. 'bmi_last'\n",
       "48. 'last_visit_day'\n",
       "49. 'days_since_last'\n",
       "50. 'cell_type'\n",
       "51. 'bmi_conv_cat'\n",
       "\n",
       "\n"
      ],
      "text/plain": [
       " [1] \"index\"                               \"batch_id\"                           \n",
       " [3] \"hto_barcode\"                         \"hto_category\"                       \n",
       " [5] \"pbmc_sample_id\"                      \"pool_id\"                            \n",
       " [7] \"sample.sampleKitGuid\"                \"cohort.cohortGuid\"                  \n",
       " [9] \"subject.subjectGuid\"                 \"subject.biologicalSex\"              \n",
       "[11] \"subject.race\"                        \"subject.ethnicity\"                  \n",
       "[13] \"subject.birthYear\"                   \"sample.visitName\"                   \n",
       "[15] \"sample.drawDate\"                     \"sample.diseaseStatesRecordedAtVisit\"\n",
       "[17] \"sample.daysSinceFirstVisit\"          \"file.id\"                            \n",
       "[19] \"subset_grp\"                          \"predicted_doublet\"                  \n",
       "[21] \"AIFI_L2\"                             \"doublets_manual\"                    \n",
       "[23] \"Status_Xsec\"                         \"Status_Long\"                        \n",
       "[25] \"anti_ccp3_finalCombined\"             \"days_to_conversion\"                 \n",
       "[27] \"BMI\"                                 \"CMV_Status_Subj\"                    \n",
       "[29] \"age_conv\"                            \"bmi_conv\"                           \n",
       "[31] \"file.batchID\"                        \"status\"                             \n",
       "[33] \"psbulk_n_cells\"                      \"psbulk_counts\"                      \n",
       "[35] \"cohort\"                              \"AIFI_L1\"                            \n",
       "[37] \"subject.cmv\"                         \"subject.ageAtFirstDraw\"             \n",
       "[39] \"sample.subjectAgeAtDraw\"             \"specimen.specimenGuid\"              \n",
       "[41] \"pipeline.fileGuid\"                   \"age\"                                \n",
       "[43] \"days_since_first\"                    \"lib_size\"                           \n",
       "[45] \"log_lib_size\"                        \"age_last\"                           \n",
       "[47] \"bmi_last\"                            \"last_visit_day\"                     \n",
       "[49] \"days_since_last\"                     \"cell_type\"                          \n",
       "[51] \"bmi_conv_cat\"                       "
      ]
     },
     "metadata": {},
     "output_type": "display_data"
    }
   ],
   "source": [
    "colData(l2_se)%>%as_tibble()%>%colnames()"
   ]
  },
  {
   "cell_type": "code",
   "execution_count": 53,
   "id": "5bc9a036-c261-46f4-878c-5f018ccc2ede",
   "metadata": {},
   "outputs": [
    {
     "data": {
      "text/html": [
       "<table class=\"dataframe\">\n",
       "<caption>A tibble: 2 × 2</caption>\n",
       "<thead>\n",
       "\t<tr><th scope=col>cohort</th><th scope=col>n</th></tr>\n",
       "\t<tr><th scope=col>&lt;chr&gt;</th><th scope=col>&lt;int&gt;</th></tr>\n",
       "</thead>\n",
       "<tbody>\n",
       "\t<tr><td>ALTRA</td><td>65</td></tr>\n",
       "\t<tr><td>BRI  </td><td>86</td></tr>\n",
       "</tbody>\n",
       "</table>\n"
      ],
      "text/latex": [
       "A tibble: 2 × 2\n",
       "\\begin{tabular}{ll}\n",
       " cohort & n\\\\\n",
       " <chr> & <int>\\\\\n",
       "\\hline\n",
       "\t ALTRA & 65\\\\\n",
       "\t BRI   & 86\\\\\n",
       "\\end{tabular}\n"
      ],
      "text/markdown": [
       "\n",
       "A tibble: 2 × 2\n",
       "\n",
       "| cohort &lt;chr&gt; | n &lt;int&gt; |\n",
       "|---|---|\n",
       "| ALTRA | 65 |\n",
       "| BRI   | 86 |\n",
       "\n"
      ],
      "text/plain": [
       "  cohort n \n",
       "1 ALTRA  65\n",
       "2 BRI    86"
      ]
     },
     "metadata": {},
     "output_type": "display_data"
    }
   ],
   "source": [
    "colData(l2_se)%>%as_tibble()%>%filter(cell_type=='CD14 monocyte')%>%group_by(cohort)%>%tally()"
   ]
  },
  {
   "cell_type": "code",
   "execution_count": 54,
   "id": "8e7316b9-6252-406c-bc2f-80e95547b8e9",
   "metadata": {},
   "outputs": [],
   "source": [
    "l2_se%>%saveRDS(file.path(output_path,  'ALTRA_BRI_longitudinal_l2_psedobulk_object_090324.rds'))"
   ]
  },
  {
   "cell_type": "code",
   "execution_count": null,
   "id": "847a3dd8-9416-4f38-bc57-5ac010ccd9fb",
   "metadata": {},
   "outputs": [],
   "source": []
  }
 ],
 "metadata": {
  "kernelspec": {
   "display_name": "seurat_v5",
   "language": "R",
   "name": "seurat_v5"
  },
  "language_info": {
   "codemirror_mode": "r",
   "file_extension": ".r",
   "mimetype": "text/x-r-source",
   "name": "R",
   "pygments_lexer": "r",
   "version": "4.3.2"
  }
 },
 "nbformat": 4,
 "nbformat_minor": 5
}
