{
 "cells": [
  {
   "cell_type": "markdown",
   "metadata": {
    "tags": []
   },
   "source": [
    "# BRI data scRNA analysis in Python - deep clean data\n",
    "## make psedubulk data by AIFI l3 labels for all aims\n",
    "<a name = \"contents\"></a>\n",
    "\n",
    "### Contents\n",
    "\n",
    "- [Importing packages](#Importing-packages)\n",
    "- [Reading h5 files](#Reading-h5-files)\n",
    "    - [Gene x cell matrix](#Gene-x-cell-matrix)\n",
    "    - [Observation metadata](#Observation-metadata)\n",
    "- [Assembling AnnData](#Assembling-AnnData)\n",
    "- [Combining multiple files](#Combining-multiple-files)\n",
    "- [Saving and loading AnnData](#Saving-and-loading-AnnData)\n",
    "- [Basic analysis with scanpy](#Basic-analysis-with-scanpy)\n",
    "- [Session Info](#Session-Info)"
   ]
  },
  {
   "cell_type": "code",
   "execution_count": 1,
   "metadata": {},
   "outputs": [],
   "source": [
    "import h5py\n",
    "import scipy.sparse as scs\n",
    "import pandas as pd\n",
    "import anndata\n",
    "import os\n",
    "import glob\n",
    "from matplotlib import pyplot as plt\n",
    "import seaborn as sns\n",
    "import numpy as np\n",
    "from scipy.stats import median_abs_deviation\n",
    "import scanpy as sc\n",
    "import random\n",
    "# import sc_toolbox\n",
    "# import pertpy \n",
    "import decoupler as dc\n",
    "import anndata as ad"
   ]
  },
  {
   "cell_type": "code",
   "execution_count": 2,
   "metadata": {},
   "outputs": [
    {
     "data": {
      "text/plain": [
       "'1.8.0'"
      ]
     },
     "execution_count": 2,
     "metadata": {},
     "output_type": "execute_result"
    }
   ],
   "source": [
    "anndata.__version__\n",
    "dc.__version__"
   ]
  },
  {
   "cell_type": "code",
   "execution_count": 3,
   "metadata": {},
   "outputs": [],
   "source": [
    "# sc.settings.n_jobs = 58"
   ]
  },
  {
   "cell_type": "code",
   "execution_count": 4,
   "metadata": {},
   "outputs": [],
   "source": [
    "# define some color patterns for plotting\n",
    "nejm_color = [\"#BC3C29FF\", \"#0072B5FF\", \"#E18727FF\", \"#20854EFF\", \"#7876B1FF\", \"#6F99ADFF\", \"#FFDC91FF\", \"#EE4C97FF\"]\n",
    "jama_color = [\"#374E55FF\", \"#DF8F44FF\", \"#00A1D5FF\", \"#B24745FF\", \"#79AF97FF\", \"#6A6599FF\", \"#80796BFF\"]"
   ]
  },
  {
   "cell_type": "code",
   "execution_count": 5,
   "metadata": {},
   "outputs": [],
   "source": [
    "# define working path\n",
    "data_path = '/home/jupyterdata/immune_health/scRNA/BRI/h5ad/sample_h5ad/'\n",
    "meta_path = '/home/jupyter/data/immune_health/'\n",
    "fig_path = '/home/jupyter/data/ra_longitudinal/figures/BRI/'\n",
    "output_path = '/home/jupyter/data/immune_health/output_results/'\n",
    "# os.mkdir(fig_path)\n",
    "# os.mkdir(output_path)\n",
    "# define a project name\n",
    "proj_name = 'BRI_scRNA_AIFI_L2_deepclean_Pseudobulk_'\n",
    "# sc.set_figure_params(fig_path)\n",
    "sc.settings.figdir = fig_path\n",
    "sc.settings.autosave=False\n",
    "sc.set_figure_params(vector_friendly=True, dpi_save=300)"
   ]
  },
  {
   "cell_type": "code",
   "execution_count": 6,
   "metadata": {},
   "outputs": [],
   "source": [
    "# import the helper functions\n",
    "# importing the sys module\n",
    "import sys         \n",
    " \n",
    "# appending the directory of mod.py \n",
    "# in the sys.path list\n",
    "sys.path.append('/home/jupyter/github/ra-longitudinal/scRNA/')        \n",
    "# now we can import mod\n",
    "\n",
    "from ALTRA_scRNA_py_helper_functions import generate_pseudobulk_data"
   ]
  },
  {
   "cell_type": "markdown",
   "metadata": {},
   "source": [
    "# Perform DEG analysis longitudinal analysis based on the cell types"
   ]
  },
  {
   "cell_type": "code",
   "execution_count": 7,
   "metadata": {},
   "outputs": [],
   "source": [
    "# load the samples selection\n",
    "bri_meta = pd.read_csv(meta_path + 'BRI_longitudinal_matching_converters_090324.csv')"
   ]
  },
  {
   "cell_type": "code",
   "execution_count": 8,
   "metadata": {},
   "outputs": [
    {
     "data": {
      "text/plain": [
       "29"
      ]
     },
     "execution_count": 8,
     "metadata": {},
     "output_type": "execute_result"
    }
   ],
   "source": [
    "len(bri_meta['subject.subjectGuid'].unique())"
   ]
  },
  {
   "cell_type": "code",
   "execution_count": 9,
   "metadata": {},
   "outputs": [
    {
     "data": {
      "text/plain": [
       "0     /home/jupyter/data/immune_health/scRNA/BRI/h5a...\n",
       "1     /home/jupyter/data/immune_health/scRNA/BRI/h5a...\n",
       "2     /home/jupyter/data/immune_health/scRNA/BRI/h5a...\n",
       "3     /home/jupyter/data/immune_health/scRNA/BRI/h5a...\n",
       "4     /home/jupyter/data/immune_health/scRNA/BRI/h5a...\n",
       "                            ...                        \n",
       "81    /home/jupyter/data/immune_health/scRNA/BRI/h5a...\n",
       "82    /home/jupyter/data/immune_health/scRNA/BRI/h5a...\n",
       "83    /home/jupyter/data/immune_health/scRNA/BRI/h5a...\n",
       "84    /home/jupyter/data/immune_health/scRNA/BRI/h5a...\n",
       "85    /home/jupyter/data/immune_health/scRNA/BRI/h5a...\n",
       "Name: file_path, Length: 86, dtype: object"
      ]
     },
     "execution_count": 9,
     "metadata": {},
     "output_type": "execute_result"
    }
   ],
   "source": [
    "bri_meta['file_path']"
   ]
  },
  {
   "cell_type": "code",
   "execution_count": 10,
   "metadata": {},
   "outputs": [],
   "source": [
    "# read all the files\n",
    "adata = [sc.read_h5ad(filename) for filename in bri_meta['file_path']]"
   ]
  },
  {
   "cell_type": "code",
   "execution_count": 11,
   "metadata": {},
   "outputs": [
    {
     "data": {
      "text/plain": [
       "86"
      ]
     },
     "execution_count": 11,
     "metadata": {},
     "output_type": "execute_result"
    }
   ],
   "source": [
    "len(adata)"
   ]
  },
  {
   "cell_type": "code",
   "execution_count": 12,
   "metadata": {
    "scrolled": true
   },
   "outputs": [],
   "source": [
    "# merge them into a anndata file toghether\n",
    "bri_adata = ad.concat(adata)"
   ]
  },
  {
   "cell_type": "code",
   "execution_count": 13,
   "metadata": {},
   "outputs": [
    {
     "data": {
      "text/plain": [
       "AnnData object with n_obs × n_vars = 1356099 × 33538\n",
       "    obs: 'barcodes', 'original_barcodes', 'cell_name', 'batch_id', 'pool_id', 'chip_id', 'well_id', 'n_genes', 'n_reads', 'n_umis', 'total_counts_mito', 'pct_counts_mito', 'doublet_score', 'predicted_AIFI_L1', 'AIFI_L1_score', 'AIFI_L1', 'predicted_AIFI_L2', 'AIFI_L2_score', 'AIFI_L2', 'predicted_AIFI_L3', 'AIFI_L3_score', 'AIFI_L3', 'sample.sampleKitGuid', 'cohort.cohortGuid', 'subject.subjectGuid', 'subject.biologicalSex', 'subject.cmv', 'subject.bmi', 'subject.race', 'subject.ethnicity', 'subject.birthYear', 'subject.ageAtFirstDraw', 'sample.visitName', 'sample.drawDate', 'sample.subjectAgeAtDraw', 'specimen.specimenGuid', 'pipeline.fileGuid'"
      ]
     },
     "execution_count": 13,
     "metadata": {},
     "output_type": "execute_result"
    }
   ],
   "source": [
    "bri_adata"
   ]
  },
  {
   "cell_type": "code",
   "execution_count": 14,
   "metadata": {},
   "outputs": [
    {
     "data": {
      "text/plain": [
       "['GZMB- CD27+ EM CD4 T cell', 'ISG+ CD14 monocyte', 'GZMK+ Vd2 gdT', 'GZMB- CD27- EM CD4 T cell', 'CD56bright NK cell', ..., 'CMP cell', 'SOX4+ Vd1 gdT', 'BaEoMaP cell', 'CD4 MAIT', 'KLRF1- effector Vd1 gdT']\n",
       "Length: 71\n",
       "Categories (71, object): ['ASDC', 'Activated memory B cell', 'Adaptive NK cell', 'BaEoMaP cell', ..., 'Transitional B cell', 'Type 2 polarized memory B cell', 'cDC1', 'pDC']"
      ]
     },
     "execution_count": 14,
     "metadata": {},
     "output_type": "execute_result"
    }
   ],
   "source": [
    "bri_adata.obs['AIFI_L3'].unique()"
   ]
  },
  {
   "cell_type": "code",
   "execution_count": 15,
   "metadata": {},
   "outputs": [
    {
     "data": {
      "text/plain": [
       "Index(['...1', 'X', 'lastUpdated', 'sample.id', 'sample.bridgingControl',\n",
       "       'sample.visitDetails', 'sample.daysSinceFirstVisit', 'file.id',\n",
       "       'file.name', 'file.batchID', 'file.panel', 'file.pool', 'file.fileType',\n",
       "       'file.majorVersion', 'subject.id', 'subject.partnerCode',\n",
       "       'sample.diseaseStatesRecordedAtVisit', 'pbmc_sample_id', 'Sample_ID',\n",
       "       'Sample_Draw_date', 'Covid_Dose_1', 'Covid_Dose_2', 'Covid_exlcusion',\n",
       "       'CMV.IgG.Serology.Result.Interpretation', 'BMI', 'file.name.downloaded',\n",
       "       'file.path', 'sample_numbers', 'age', 'days_since_first', 'file_name',\n",
       "       'file_path'],\n",
       "      dtype='object')"
      ]
     },
     "execution_count": 15,
     "metadata": {},
     "output_type": "execute_result"
    }
   ],
   "source": [
    "bri_meta.loc[:,~bri_meta.columns.isin(adata[1].obs.columns)].columns"
   ]
  },
  {
   "cell_type": "code",
   "execution_count": 16,
   "metadata": {},
   "outputs": [
    {
     "data": {
      "text/plain": [
       "0    True\n",
       "1    True\n",
       "2    True\n",
       "3    True\n",
       "4    True\n",
       "5    True\n",
       "dtype: bool"
      ]
     },
     "execution_count": 16,
     "metadata": {},
     "output_type": "execute_result"
    }
   ],
   "source": [
    "# add metadata\n",
    "meta_cols = ['age','BMI', 'sample.daysSinceFirstVisit',\n",
    "                               'sample.diseaseStatesRecordedAtVisit',\n",
    "                'days_since_first', 'file.batchID']\n",
    "pd.Series(meta_cols).isin(bri_meta.loc[:,~bri_meta.columns.isin(adata[1].obs.columns)].columns)"
   ]
  },
  {
   "cell_type": "code",
   "execution_count": 17,
   "metadata": {},
   "outputs": [],
   "source": [
    "# add metadata\n",
    "meta_cols.append('sample.sampleKitGuid')\n",
    "bri_meta_add = bri_meta.loc[:,meta_cols]\n",
    "bri_adata.obs = bri_adata.obs.merge(bri_meta_add, how='left', on='sample.sampleKitGuid')"
   ]
  },
  {
   "cell_type": "code",
   "execution_count": 18,
   "metadata": {},
   "outputs": [
    {
     "data": {
      "text/plain": [
       "array([[0, 0, 0, 0, 0, 0, 0, 0, 0, 0, 0, 0, 0, 0, 0, 0, 0, 0, 2, 0],\n",
       "       [0, 0, 0, 0, 1, 0, 0, 0, 0, 0, 0, 0, 0, 0, 1, 1, 0, 0, 2, 0],\n",
       "       [0, 0, 0, 0, 1, 0, 0, 0, 0, 0, 0, 0, 0, 0, 0, 1, 0, 0, 2, 0],\n",
       "       [0, 0, 0, 0, 0, 0, 0, 0, 0, 0, 0, 0, 0, 0, 0, 0, 0, 0, 1, 0],\n",
       "       [0, 0, 0, 0, 1, 0, 0, 0, 0, 0, 0, 0, 0, 0, 0, 6, 0, 0, 1, 0],\n",
       "       [0, 0, 0, 0, 1, 0, 0, 0, 0, 0, 0, 0, 0, 0, 1, 2, 1, 0, 0, 0],\n",
       "       [0, 0, 0, 0, 0, 0, 0, 0, 0, 0, 0, 0, 0, 0, 0, 0, 0, 0, 3, 0],\n",
       "       [0, 0, 0, 1, 0, 0, 0, 0, 0, 0, 0, 0, 0, 0, 0, 3, 0, 0, 3, 0],\n",
       "       [0, 0, 0, 0, 1, 0, 0, 0, 0, 0, 0, 0, 0, 0, 0, 0, 0, 0, 0, 0],\n",
       "       [0, 0, 0, 0, 0, 0, 0, 0, 0, 0, 0, 0, 0, 0, 1, 2, 0, 0, 0, 0],\n",
       "       [0, 0, 0, 0, 1, 0, 0, 0, 0, 0, 0, 0, 0, 0, 0, 2, 0, 0, 3, 0],\n",
       "       [1, 0, 0, 1, 1, 0, 0, 0, 0, 0, 0, 0, 0, 0, 0, 0, 0, 0, 0, 0],\n",
       "       [0, 0, 0, 0, 0, 0, 0, 0, 0, 0, 0, 0, 0, 0, 0, 0, 0, 0, 0, 0],\n",
       "       [0, 0, 0, 1, 0, 0, 0, 0, 0, 0, 0, 0, 0, 0, 0, 2, 0, 0, 0, 0],\n",
       "       [0, 0, 0, 0, 0, 0, 0, 0, 0, 0, 0, 0, 0, 0, 0, 0, 0, 0, 2, 0],\n",
       "       [0, 0, 0, 0, 0, 0, 0, 0, 0, 0, 0, 0, 0, 0, 0, 0, 0, 0, 0, 0],\n",
       "       [0, 0, 0, 0, 0, 0, 0, 0, 0, 0, 0, 0, 0, 0, 0, 0, 0, 0, 3, 0],\n",
       "       [0, 0, 0, 0, 0, 0, 0, 0, 0, 0, 0, 0, 0, 0, 0, 0, 0, 0, 1, 0],\n",
       "       [0, 0, 0, 1, 0, 0, 0, 0, 0, 0, 0, 0, 0, 0, 0, 0, 0, 0, 1, 0],\n",
       "       [0, 0, 0, 0, 0, 0, 0, 0, 0, 0, 0, 0, 0, 0, 0, 0, 0, 0, 1, 0]],\n",
       "      dtype=uint16)"
      ]
     },
     "execution_count": 18,
     "metadata": {},
     "output_type": "execute_result"
    }
   ],
   "source": [
    "# doouble check the raw counts data is stored in X\n",
    "bri_adata.X[100:120, 500:520].toarray()"
   ]
  },
  {
   "cell_type": "code",
   "execution_count": 19,
   "metadata": {},
   "outputs": [
    {
     "data": {
      "text/plain": [
       "AnnData object with n_obs × n_vars = 1356099 × 33538\n",
       "    obs: 'barcodes', 'original_barcodes', 'cell_name', 'batch_id', 'pool_id', 'chip_id', 'well_id', 'n_genes', 'n_reads', 'n_umis', 'total_counts_mito', 'pct_counts_mito', 'doublet_score', 'predicted_AIFI_L1', 'AIFI_L1_score', 'AIFI_L1', 'predicted_AIFI_L2', 'AIFI_L2_score', 'AIFI_L2', 'predicted_AIFI_L3', 'AIFI_L3_score', 'AIFI_L3', 'sample.sampleKitGuid', 'cohort.cohortGuid', 'subject.subjectGuid', 'subject.biologicalSex', 'subject.cmv', 'subject.bmi', 'subject.race', 'subject.ethnicity', 'subject.birthYear', 'subject.ageAtFirstDraw', 'sample.visitName', 'sample.drawDate', 'sample.subjectAgeAtDraw', 'specimen.specimenGuid', 'pipeline.fileGuid', 'age', 'BMI', 'sample.daysSinceFirstVisit', 'sample.diseaseStatesRecordedAtVisit', 'days_since_first', 'file.batchID'"
      ]
     },
     "execution_count": 19,
     "metadata": {},
     "output_type": "execute_result"
    }
   ],
   "source": [
    "bri_adata"
   ]
  },
  {
   "cell_type": "code",
   "execution_count": 20,
   "metadata": {},
   "outputs": [],
   "source": [
    "# save the BRI matching single cell data\n",
    "bri_adata.write_h5ad('/home/jupyter/data/immune_health/BRI_scRNA_AIFI_L3_deepclean_match_RAconv_090324.h5ad')"
   ]
  },
  {
   "cell_type": "markdown",
   "metadata": {},
   "source": [
    "## Pseudobulk by cell type and smaples"
   ]
  },
  {
   "cell_type": "code",
   "execution_count": 21,
   "metadata": {},
   "outputs": [
    {
     "name": "stderr",
     "output_type": "stream",
     "text": [
      "/home/jupyter/libs/scvi/lib/python3.11/site-packages/anndata/_core/anndata.py:183: ImplicitModificationWarning: Transforming to str index.\n",
      "  warnings.warn(\"Transforming to str index.\", ImplicitModificationWarning)\n"
     ]
    }
   ],
   "source": [
    "# load the BRI matching single cell data\n",
    "bri_adata = sc.read_h5ad('/home/jupyter/data/immune_health/BRI_scRNA_AIFI_L3_deepclean_match_RAconv_090324.h5ad')"
   ]
  },
  {
   "cell_type": "code",
   "execution_count": 22,
   "metadata": {},
   "outputs": [
    {
     "data": {
      "text/plain": [
       "AnnData object with n_obs × n_vars = 1356099 × 33538\n",
       "    obs: 'barcodes', 'original_barcodes', 'cell_name', 'batch_id', 'pool_id', 'chip_id', 'well_id', 'n_genes', 'n_reads', 'n_umis', 'total_counts_mito', 'pct_counts_mito', 'doublet_score', 'predicted_AIFI_L1', 'AIFI_L1_score', 'AIFI_L1', 'predicted_AIFI_L2', 'AIFI_L2_score', 'AIFI_L2', 'predicted_AIFI_L3', 'AIFI_L3_score', 'AIFI_L3', 'sample.sampleKitGuid', 'cohort.cohortGuid', 'subject.subjectGuid', 'subject.biologicalSex', 'subject.cmv', 'subject.bmi', 'subject.race', 'subject.ethnicity', 'subject.birthYear', 'subject.ageAtFirstDraw', 'sample.visitName', 'sample.drawDate', 'sample.subjectAgeAtDraw', 'specimen.specimenGuid', 'pipeline.fileGuid', 'age', 'BMI', 'sample.daysSinceFirstVisit', 'sample.diseaseStatesRecordedAtVisit', 'days_since_first', 'file.batchID'"
      ]
     },
     "execution_count": 22,
     "metadata": {},
     "output_type": "execute_result"
    }
   ],
   "source": [
    "bri_adata"
   ]
  },
  {
   "cell_type": "code",
   "execution_count": 23,
   "metadata": {},
   "outputs": [],
   "source": [
    "# define the cell type column \n",
    "# cell_type_col = 'celltypist_majority_label_pbmc'\n",
    "cell_type_col = 'AIFI_L2'"
   ]
  },
  {
   "cell_type": "code",
   "execution_count": 24,
   "metadata": {},
   "outputs": [
    {
     "name": "stderr",
     "output_type": "stream",
     "text": [
      "/tmp/ipykernel_13261/2204486110.py:1: FutureWarning: The default of observed=False is deprecated and will be changed to True in a future version of pandas. Pass observed=False to retain current behavior or observed=True to adopt the future default and silence this warning.\n",
      "  bri_adata.obs.groupby(cell_type_col).size()\n"
     ]
    },
    {
     "data": {
      "text/plain": [
       "AIFI_L2\n",
       "ASDC                        355\n",
       "CD8aa                      1597\n",
       "CD14 monocyte            209963\n",
       "CD16 monocyte             35238\n",
       "CD56bright NK cell         8629\n",
       "CD56dim NK cell          102324\n",
       "DN T cell                  1770\n",
       "Effector B cell            6433\n",
       "Erythrocyte                1954\n",
       "ILC                         545\n",
       "Intermediate monocyte     10020\n",
       "MAIT                      30555\n",
       "Memory B cell             33899\n",
       "Memory CD4 T cell        254766\n",
       "Memory CD8 T cell        155977\n",
       "Naive B cell              67440\n",
       "Naive CD4 T cell         270298\n",
       "Naive CD8 T cell          68935\n",
       "Plasma cell                1821\n",
       "Platelet                   6335\n",
       "Progenitor cell            1003\n",
       "Proliferating NK cell      2397\n",
       "Proliferating T cell       2195\n",
       "Transitional B cell        8011\n",
       "Treg                      30754\n",
       "cDC1                        707\n",
       "cDC2                      11553\n",
       "gdT                       25388\n",
       "pDC                        5237\n",
       "dtype: int64"
      ]
     },
     "execution_count": 24,
     "metadata": {},
     "output_type": "execute_result"
    }
   ],
   "source": [
    "bri_adata.obs.groupby(cell_type_col).size()"
   ]
  },
  {
   "cell_type": "code",
   "execution_count": 25,
   "metadata": {},
   "outputs": [],
   "source": [
    "# clean up the cell type names from R to python\n",
    "# bri_adata.obs[cell_type_col] = [ct.replace(\" \", \"_\") for ct in bri_adata.obs[cell_type_col]]"
   ]
  },
  {
   "cell_type": "code",
   "execution_count": 26,
   "metadata": {},
   "outputs": [
    {
     "data": {
      "text/plain": [
       "AnnData object with n_obs × n_vars = 1356099 × 33538\n",
       "    obs: 'barcodes', 'original_barcodes', 'cell_name', 'batch_id', 'pool_id', 'chip_id', 'well_id', 'n_genes', 'n_reads', 'n_umis', 'total_counts_mito', 'pct_counts_mito', 'doublet_score', 'predicted_AIFI_L1', 'AIFI_L1_score', 'AIFI_L1', 'predicted_AIFI_L2', 'AIFI_L2_score', 'AIFI_L2', 'predicted_AIFI_L3', 'AIFI_L3_score', 'AIFI_L3', 'sample.sampleKitGuid', 'cohort.cohortGuid', 'subject.subjectGuid', 'subject.biologicalSex', 'subject.cmv', 'subject.bmi', 'subject.race', 'subject.ethnicity', 'subject.birthYear', 'subject.ageAtFirstDraw', 'sample.visitName', 'sample.drawDate', 'sample.subjectAgeAtDraw', 'specimen.specimenGuid', 'pipeline.fileGuid', 'age', 'BMI', 'sample.daysSinceFirstVisit', 'sample.diseaseStatesRecordedAtVisit', 'days_since_first', 'file.batchID'"
      ]
     },
     "execution_count": 26,
     "metadata": {},
     "output_type": "execute_result"
    }
   ],
   "source": [
    "bri_adata"
   ]
  },
  {
   "cell_type": "code",
   "execution_count": 27,
   "metadata": {},
   "outputs": [],
   "source": [
    "# make sure the count data are in X\n",
    "# bri_adata.X = bri_adata.layers[\"counts\"].copy()"
   ]
  },
  {
   "cell_type": "code",
   "execution_count": 28,
   "metadata": {},
   "outputs": [
    {
     "data": {
      "text/plain": [
       "array([[0, 0, 0, 0, 0, 0, 0, 0, 0, 0, 0, 0, 0, 0, 0, 0, 0, 0, 0],\n",
       "       [0, 0, 0, 0, 0, 0, 0, 0, 0, 0, 0, 0, 0, 0, 0, 0, 0, 0, 0],\n",
       "       [0, 0, 0, 0, 0, 0, 0, 0, 0, 0, 0, 0, 0, 0, 0, 0, 0, 0, 0],\n",
       "       [0, 0, 0, 0, 0, 0, 0, 0, 0, 0, 0, 0, 0, 0, 0, 0, 0, 0, 0],\n",
       "       [0, 0, 0, 0, 0, 0, 0, 0, 0, 0, 0, 1, 0, 0, 0, 0, 0, 0, 0],\n",
       "       [0, 0, 0, 0, 0, 0, 0, 0, 0, 0, 0, 0, 0, 0, 0, 0, 0, 0, 0],\n",
       "       [0, 0, 0, 0, 0, 0, 0, 0, 0, 0, 0, 0, 0, 0, 0, 0, 0, 0, 0],\n",
       "       [0, 0, 0, 0, 0, 0, 0, 0, 0, 0, 0, 0, 0, 0, 0, 0, 0, 0, 0],\n",
       "       [0, 0, 0, 0, 0, 0, 0, 0, 0, 0, 0, 0, 0, 0, 0, 0, 0, 0, 0],\n",
       "       [0, 0, 0, 0, 0, 0, 0, 0, 0, 0, 0, 0, 0, 0, 0, 0, 0, 0, 0],\n",
       "       [0, 0, 0, 0, 0, 0, 0, 0, 0, 0, 0, 0, 0, 0, 0, 0, 0, 0, 0],\n",
       "       [0, 0, 0, 0, 0, 0, 0, 0, 0, 0, 0, 0, 0, 0, 0, 0, 0, 0, 0],\n",
       "       [0, 0, 0, 0, 0, 0, 0, 0, 0, 0, 0, 0, 0, 0, 0, 0, 0, 0, 0],\n",
       "       [0, 0, 0, 0, 0, 0, 0, 0, 0, 0, 0, 1, 0, 0, 0, 0, 0, 0, 0],\n",
       "       [0, 0, 0, 0, 0, 0, 0, 0, 0, 0, 0, 0, 0, 0, 0, 0, 0, 0, 0],\n",
       "       [0, 0, 0, 0, 0, 0, 0, 0, 0, 0, 0, 0, 0, 0, 0, 0, 0, 0, 0],\n",
       "       [0, 0, 0, 0, 0, 0, 0, 0, 0, 0, 0, 0, 0, 0, 0, 0, 0, 0, 0],\n",
       "       [0, 0, 0, 0, 0, 0, 0, 0, 0, 0, 0, 0, 0, 0, 0, 0, 0, 0, 0],\n",
       "       [0, 0, 0, 0, 0, 0, 0, 0, 0, 0, 0, 0, 0, 0, 0, 0, 0, 0, 0],\n",
       "       [0, 0, 0, 0, 0, 0, 0, 0, 0, 0, 0, 0, 0, 0, 0, 0, 0, 0, 0]],\n",
       "      dtype=uint16)"
      ]
     },
     "execution_count": 28,
     "metadata": {},
     "output_type": "execute_result"
    }
   ],
   "source": [
    "# check to make sure this is count data\n",
    "bri_adata.X[2000:2020, 1:20].toarray()"
   ]
  },
  {
   "cell_type": "code",
   "execution_count": 29,
   "metadata": {},
   "outputs": [],
   "source": [
    "# # format the metadata columns\n",
    "# bri_adata.obs[\"sample.sampleKitGuid\"] = bri_adata.obs[\"sample.sampleKitGuid\"].astype(\"category\")\n",
    "# bri_adata.obs[\"subject.subjectGuid\"] = bri_adata.obs[\"subject.subjectGuid\"].astype(\"category\")\n",
    "# bri_adata.obs[\"subject.biologicalSex\"] = bri_adata.obs[\"subject.biologicalSex\"].astype(\"category\")\n",
    "# bri_adata.obs[\"file.batchID\"] = bri_adata.obs[\"file.batchID\"].astype(\"category\")\n",
    "# #bri_adata.obs[\"status\"] = bri_adata.obs[\"status\"].astype(\"category\")\n",
    "# bri_adata.obs[cell_type_col] = bri_adata.obs[cell_type_col].astype(\"category\")\n",
    "# bri_adata.obs[\"seurat_pbmc_type\"] = bri_adata.obs[\"seurat_pbmc_type\"].astype(\"category\")"
   ]
  },
  {
   "cell_type": "code",
   "execution_count": 30,
   "metadata": {},
   "outputs": [
    {
     "data": {
      "text/plain": [
       "View of AnnData object with n_obs × n_vars = 355 × 33538\n",
       "    obs: 'barcodes', 'original_barcodes', 'cell_name', 'batch_id', 'pool_id', 'chip_id', 'well_id', 'n_genes', 'n_reads', 'n_umis', 'total_counts_mito', 'pct_counts_mito', 'doublet_score', 'predicted_AIFI_L1', 'AIFI_L1_score', 'AIFI_L1', 'predicted_AIFI_L2', 'AIFI_L2_score', 'AIFI_L2', 'predicted_AIFI_L3', 'AIFI_L3_score', 'AIFI_L3', 'sample.sampleKitGuid', 'cohort.cohortGuid', 'subject.subjectGuid', 'subject.biologicalSex', 'subject.cmv', 'subject.bmi', 'subject.race', 'subject.ethnicity', 'subject.birthYear', 'subject.ageAtFirstDraw', 'sample.visitName', 'sample.drawDate', 'sample.subjectAgeAtDraw', 'specimen.specimenGuid', 'pipeline.fileGuid', 'age', 'BMI', 'sample.daysSinceFirstVisit', 'sample.diseaseStatesRecordedAtVisit', 'days_since_first', 'file.batchID'"
      ]
     },
     "execution_count": 30,
     "metadata": {},
     "output_type": "execute_result"
    }
   ],
   "source": [
    "bri_adata[bri_adata.obs[cell_type_col]=='ASDC']"
   ]
  },
  {
   "cell_type": "code",
   "execution_count": 31,
   "metadata": {},
   "outputs": [],
   "source": [
    "# use decoupler to make pseudobulk\n",
    "adata_pb = dc.get_pseudobulk(bri_adata, sample_col=\"sample.sampleKitGuid\", \n",
    "                             groups_col=cell_type_col, \n",
    "                             min_cells=10, min_counts=1000,\n",
    "                              mode='sum')"
   ]
  },
  {
   "cell_type": "code",
   "execution_count": 32,
   "metadata": {},
   "outputs": [],
   "source": [
    "# # use decoupler to make pseudobulk by average\n",
    "# adata_pb = dc.get_pseudobulk(bri_adata, sample_col=\"sample.sampleKitGuid\", \n",
    "#                              groups_col=cell_type_col, min_cells=10, min_counts=1000,\n",
    "#                               mode='sum')"
   ]
  },
  {
   "cell_type": "code",
   "execution_count": 33,
   "metadata": {},
   "outputs": [
    {
     "data": {
      "text/plain": [
       "AIFI_L2\n",
       "ASDC                      3\n",
       "CD14 monocyte            86\n",
       "CD16 monocyte            86\n",
       "CD56bright NK cell       85\n",
       "CD56dim NK cell          86\n",
       "CD8aa                    41\n",
       "DN T cell                66\n",
       "Effector B cell          84\n",
       "Erythrocyte              24\n",
       "ILC                      21\n",
       "Intermediate monocyte    85\n",
       "MAIT                     85\n",
       "Memory B cell            86\n",
       "Memory CD4 T cell        86\n",
       "Memory CD8 T cell        86\n",
       "Naive B cell             84\n",
       "Naive CD4 T cell         86\n",
       "Naive CD8 T cell         86\n",
       "Plasma cell              48\n",
       "Platelet                 79\n",
       "Progenitor cell          46\n",
       "Proliferating NK cell    76\n",
       "Proliferating T cell     69\n",
       "Transitional B cell      85\n",
       "Treg                     86\n",
       "cDC1                     32\n",
       "cDC2                     86\n",
       "gdT                      86\n",
       "pDC                      83\n",
       "dtype: int64"
      ]
     },
     "execution_count": 33,
     "metadata": {},
     "output_type": "execute_result"
    }
   ],
   "source": [
    "adata_pb.obs.groupby([cell_type_col]).size()"
   ]
  },
  {
   "cell_type": "code",
   "execution_count": 34,
   "metadata": {},
   "outputs": [
    {
     "data": {
      "text/plain": [
       "<Axes: >"
      ]
     },
     "execution_count": 34,
     "metadata": {},
     "output_type": "execute_result"
    },
    {
     "data": {
      "image/png": "[encoded data removed]",
      "text/plain": [
       "<Figure size 320x320 with 1 Axes>"
      ]
     },
     "metadata": {
      "image/png": {
       "height": 282,
       "width": 293
      }
     },
     "output_type": "display_data"
    }
   ],
   "source": [
    "adata_pb.obs.groupby([cell_type_col]).size().hist(bins=100)"
   ]
  },
  {
   "cell_type": "code",
   "execution_count": 35,
   "metadata": {},
   "outputs": [
    {
     "data": {
      "text/plain": [
       "<Axes: >"
      ]
     },
     "execution_count": 35,
     "metadata": {},
     "output_type": "execute_result"
    },
    {
     "data": {
      "image/png": "[encoded data removed]",
      "text/plain": [
       "<Figure size 320x320 with 1 Axes>"
      ]
     },
     "metadata": {
      "image/png": {
       "height": 301,
       "width": 303
      }
     },
     "output_type": "display_data"
    }
   ],
   "source": [
    "adata_pb.obs['psbulk_counts'].hist(bins=100)"
   ]
  },
  {
   "cell_type": "code",
   "execution_count": 36,
   "metadata": {},
   "outputs": [
    {
     "data": {
      "text/plain": [
       "<Axes: >"
      ]
     },
     "execution_count": 36,
     "metadata": {},
     "output_type": "execute_result"
    },
    {
     "data": {
      "image/png": "[encoded data removed]",
      "text/plain": [
       "<Figure size 320x320 with 1 Axes>"
      ]
     },
     "metadata": {
      "image/png": {
       "height": 282,
       "width": 311
      }
     },
     "output_type": "display_data"
    }
   ],
   "source": [
    "adata_pb.obs['psbulk_n_cells'].hist(bins=100)"
   ]
  },
  {
   "cell_type": "code",
   "execution_count": 37,
   "metadata": {},
   "outputs": [
    {
     "data": {
      "text/plain": [
       "AnnData object with n_obs × n_vars = 2042 × 29268\n",
       "    obs: 'sample.sampleKitGuid', 'AIFI_L2', 'batch_id', 'pool_id', 'AIFI_L1', 'cohort.cohortGuid', 'subject.subjectGuid', 'subject.biologicalSex', 'subject.cmv', 'subject.race', 'subject.ethnicity', 'subject.birthYear', 'subject.ageAtFirstDraw', 'sample.visitName', 'sample.drawDate', 'sample.subjectAgeAtDraw', 'specimen.specimenGuid', 'pipeline.fileGuid', 'age', 'BMI', 'sample.daysSinceFirstVisit', 'days_since_first', 'file.batchID', 'psbulk_n_cells', 'psbulk_counts'\n",
       "    layers: 'psbulk_props'"
      ]
     },
     "execution_count": 37,
     "metadata": {},
     "output_type": "execute_result"
    }
   ],
   "source": [
    "adata_pb"
   ]
  },
  {
   "cell_type": "code",
   "execution_count": 38,
   "metadata": {},
   "outputs": [
    {
     "data": {
      "text/plain": [
       "array([[0.35714286, 0.        , 0.        , ..., 0.28571429, 0.85714286,\n",
       "        0.21428571],\n",
       "       [0.45454545, 0.45454545, 0.        , ..., 0.27272727, 0.63636364,\n",
       "        0.36363636],\n",
       "       [0.31578947, 0.05263158, 0.        , ..., 0.31578947, 0.68421053,\n",
       "        0.21052632],\n",
       "       ...,\n",
       "       [0.75409836, 0.06557377, 0.        , ..., 0.1147541 , 0.37704918,\n",
       "        0.14754098],\n",
       "       [0.91666667, 0.05555556, 0.        , ..., 0.11111111, 0.30555556,\n",
       "        0.11111111],\n",
       "       [0.76271186, 0.08474576, 0.        , ..., 0.05084746, 0.15254237,\n",
       "        0.13559322]])"
      ]
     },
     "execution_count": 38,
     "metadata": {},
     "output_type": "execute_result"
    }
   ],
   "source": [
    "adata_pb.layers['psbulk_props']"
   ]
  },
  {
   "cell_type": "code",
   "execution_count": 39,
   "metadata": {},
   "outputs": [],
   "source": [
    "# adata_pb.var"
   ]
  },
  {
   "cell_type": "code",
   "execution_count": 40,
   "metadata": {},
   "outputs": [],
   "source": [
    "# run and processing for the pseudobulk object\n",
    "adata_pb.layers['counts'] = adata_pb.X.copy()\n",
    "# sc.pp.normalize_total(adata_pb, target_sum=1e6)\n",
    "# sc.pp.log1p(adata_pb)\n",
    "# sc.pp.pca(adata_pb)"
   ]
  },
  {
   "cell_type": "code",
   "execution_count": 41,
   "metadata": {},
   "outputs": [],
   "source": [
    "# calcualte the lib size\n",
    "adata_pb.obs[\"lib_size\"] = np.sum(adata_pb.layers[\"counts\"], axis=1).astype(float)\n",
    "adata_pb.obs[\"log_lib_size\"] = np.log(adata_pb.obs[\"lib_size\"])"
   ]
  },
  {
   "cell_type": "code",
   "execution_count": 42,
   "metadata": {},
   "outputs": [],
   "source": [
    "adata_pb.obs = adata_pb.obs.astype(str)"
   ]
  },
  {
   "cell_type": "code",
   "execution_count": 43,
   "metadata": {},
   "outputs": [],
   "source": [
    "# save the h5ad file\n",
    "adata_pb.write_h5ad(output_path+proj_name+'IH_l2_psbulk_090324.h5ad')"
   ]
  },
  {
   "cell_type": "code",
   "execution_count": 44,
   "metadata": {},
   "outputs": [
    {
     "data": {
      "text/plain": [
       "AnnData object with n_obs × n_vars = 2042 × 29268\n",
       "    obs: 'sample.sampleKitGuid', 'AIFI_L2', 'batch_id', 'pool_id', 'AIFI_L1', 'cohort.cohortGuid', 'subject.subjectGuid', 'subject.biologicalSex', 'subject.cmv', 'subject.race', 'subject.ethnicity', 'subject.birthYear', 'subject.ageAtFirstDraw', 'sample.visitName', 'sample.drawDate', 'sample.subjectAgeAtDraw', 'specimen.specimenGuid', 'pipeline.fileGuid', 'age', 'BMI', 'sample.daysSinceFirstVisit', 'days_since_first', 'file.batchID', 'psbulk_n_cells', 'psbulk_counts', 'lib_size', 'log_lib_size'\n",
       "    layers: 'psbulk_props', 'counts'"
      ]
     },
     "execution_count": 44,
     "metadata": {},
     "output_type": "execute_result"
    }
   ],
   "source": [
    "adata_pb"
   ]
  },
  {
   "cell_type": "code",
   "execution_count": 45,
   "metadata": {},
   "outputs": [
    {
     "data": {
      "text/plain": [
       "'BRI_scRNA_AIFI_L2_deepclean_Pseudobulk_'"
      ]
     },
     "execution_count": 45,
     "metadata": {},
     "output_type": "execute_result"
    }
   ],
   "source": [
    "proj_name"
   ]
  },
  {
   "cell_type": "code",
   "execution_count": 48,
   "metadata": {},
   "outputs": [
    {
     "data": {
      "text/plain": [
       "AnnData object with n_obs × n_vars = 2042 × 29268\n",
       "    obs: 'sample.sampleKitGuid', 'AIFI_L2', 'batch_id', 'pool_id', 'AIFI_L1', 'cohort.cohortGuid', 'subject.subjectGuid', 'subject.biologicalSex', 'subject.cmv', 'subject.race', 'subject.ethnicity', 'subject.birthYear', 'subject.ageAtFirstDraw', 'sample.visitName', 'sample.drawDate', 'sample.subjectAgeAtDraw', 'specimen.specimenGuid', 'pipeline.fileGuid', 'age', 'BMI', 'sample.daysSinceFirstVisit', 'days_since_first', 'file.batchID', 'psbulk_n_cells', 'psbulk_counts', 'lib_size', 'log_lib_size'\n",
       "    layers: 'counts', 'psbulk_props'"
      ]
     },
     "execution_count": 48,
     "metadata": {},
     "output_type": "execute_result"
    }
   ],
   "source": [
    "# load the h5ad file\n",
    "adata_pb = sc.read_h5ad(output_path+proj_name+'IH_l2_psbulk_090324.h5ad')\n",
    "adata_pb"
   ]
  },
  {
   "cell_type": "code",
   "execution_count": 55,
   "metadata": {},
   "outputs": [
    {
     "data": {
      "text/plain": [
       "['BR1025', 'BR1013', 'BR1003', 'BR1008', 'BR2002', ..., 'BR1051', 'BR2046', 'BR1041', 'BR2052', 'BR2051']\n",
       "Length: 29\n",
       "Categories (29, object): ['BR1003', 'BR1008', 'BR1010', 'BR1013', ..., 'BR2042', 'BR2046', 'BR2051', 'BR2052']"
      ]
     },
     "execution_count": 55,
     "metadata": {},
     "output_type": "execute_result"
    }
   ],
   "source": [
    "adata_pb.obs['subject.subjectGuid'].unique()"
   ]
  },
  {
   "cell_type": "code",
   "execution_count": null,
   "metadata": {},
   "outputs": [],
   "source": [
    "# combine with ALTRA L2 psedubulk data"
   ]
  },
  {
   "cell_type": "code",
   "execution_count": 49,
   "metadata": {},
   "outputs": [],
   "source": [
    "# save the counts data for all samples\n",
    "adata_pb_counts = pd.DataFrame(index=adata_pb.obs.index, columns=adata_pb.var.index,\n",
    "                                           data=adata_pb.layers['counts'])\n",
    "adata_pb_counts.to_csv(output_path + proj_name + '_counts.tsv', sep=\"\\t\")\n",
    "# save the meta data\n",
    "adata_pb.obs.to_csv(output_path + proj_name \n",
    "                                       +'_metadata.csv')"
   ]
  },
  {
   "cell_type": "code",
   "execution_count": 53,
   "metadata": {},
   "outputs": [
    {
     "data": {
      "text/plain": [
       "'/home/jupyter/data/immune_health/scRNA/counts/BRI_scRNA_AIFI_L2_deepclean_Pseudobulk__counts.tsv'"
      ]
     },
     "execution_count": 53,
     "metadata": {},
     "output_type": "execute_result"
    }
   ],
   "source": [
    "output_path + proj_name + '_counts.tsv'"
   ]
  },
  {
   "cell_type": "markdown",
   "metadata": {},
   "source": [
    "## loop to make L2 cell type specific counts table and metadata"
   ]
  },
  {
   "cell_type": "code",
   "execution_count": 50,
   "metadata": {},
   "outputs": [
    {
     "data": {
      "text/plain": [
       "AnnData object with n_obs × n_vars = 2042 × 29268\n",
       "    obs: 'sample.sampleKitGuid', 'AIFI_L2', 'batch_id', 'pool_id', 'AIFI_L1', 'cohort.cohortGuid', 'subject.subjectGuid', 'subject.biologicalSex', 'subject.cmv', 'subject.race', 'subject.ethnicity', 'subject.birthYear', 'subject.ageAtFirstDraw', 'sample.visitName', 'sample.drawDate', 'sample.subjectAgeAtDraw', 'specimen.specimenGuid', 'pipeline.fileGuid', 'age', 'BMI', 'sample.daysSinceFirstVisit', 'days_since_first', 'file.batchID', 'psbulk_n_cells', 'psbulk_counts', 'lib_size', 'log_lib_size'\n",
       "    layers: 'counts', 'psbulk_props'"
      ]
     },
     "execution_count": 50,
     "metadata": {},
     "output_type": "execute_result"
    }
   ],
   "source": [
    "adata_pb"
   ]
  },
  {
   "cell_type": "code",
   "execution_count": 51,
   "metadata": {},
   "outputs": [
    {
     "data": {
      "text/plain": [
       "'BRI_scRNA_AIFI_L2_deepclean_Pseudobulk_'"
      ]
     },
     "execution_count": 51,
     "metadata": {},
     "output_type": "execute_result"
    }
   ],
   "source": [
    "proj_name"
   ]
  },
  {
   "cell_type": "code",
   "execution_count": 52,
   "metadata": {
    "scrolled": true
   },
   "outputs": [
    {
     "name": "stdout",
     "output_type": "stream",
     "text": [
      "generating pseudobulk data for ASDC\n",
      "remaining 2410 genes in ASDC\n",
      "generating pseudobulk data for CD14 monocyte\n",
      "remaining 7358 genes in CD14 monocyte\n",
      "generating pseudobulk data for CD16 monocyte\n",
      "remaining 7795 genes in CD16 monocyte\n",
      "generating pseudobulk data for CD56bright NK cell\n",
      "remaining 3863 genes in CD56bright NK cell\n",
      "generating pseudobulk data for CD56dim NK cell\n",
      "remaining 6063 genes in CD56dim NK cell\n",
      "generating pseudobulk data for CD8aa\n",
      "remaining 1100 genes in CD8aa\n",
      "generating pseudobulk data for DN T cell\n",
      "remaining 1350 genes in DN T cell\n",
      "generating pseudobulk data for Effector B cell\n",
      "remaining 3554 genes in Effector B cell\n",
      "generating pseudobulk data for Erythrocyte\n",
      "remaining 527 genes in Erythrocyte\n",
      "generating pseudobulk data for ILC\n",
      "remaining 284 genes in ILC\n",
      "generating pseudobulk data for Intermediate monocyte\n",
      "remaining 6121 genes in Intermediate monocyte\n",
      "generating pseudobulk data for MAIT\n",
      "remaining 6405 genes in MAIT\n",
      "generating pseudobulk data for Memory B cell\n",
      "remaining 6471 genes in Memory B cell\n",
      "generating pseudobulk data for Memory CD4 T cell\n",
      "remaining 5968 genes in Memory CD4 T cell\n",
      "generating pseudobulk data for Memory CD8 T cell\n",
      "remaining 5968 genes in Memory CD8 T cell\n",
      "generating pseudobulk data for Naive B cell\n",
      "remaining 5313 genes in Naive B cell\n",
      "generating pseudobulk data for Naive CD4 T cell\n",
      "remaining 5358 genes in Naive CD4 T cell\n",
      "generating pseudobulk data for Naive CD8 T cell\n",
      "remaining 5989 genes in Naive CD8 T cell\n",
      "generating pseudobulk data for Plasma cell\n",
      "remaining 2374 genes in Plasma cell\n",
      "generating pseudobulk data for Platelet\n",
      "remaining 697 genes in Platelet\n",
      "generating pseudobulk data for Progenitor cell\n",
      "remaining 1559 genes in Progenitor cell\n",
      "generating pseudobulk data for Proliferating NK cell\n",
      "remaining 1751 genes in Proliferating NK cell\n",
      "generating pseudobulk data for Proliferating T cell\n",
      "remaining 3208 genes in Proliferating T cell\n",
      "generating pseudobulk data for Transitional B cell\n",
      "remaining 2875 genes in Transitional B cell\n",
      "generating pseudobulk data for Treg\n",
      "remaining 5939 genes in Treg\n",
      "generating pseudobulk data for cDC1\n",
      "remaining 1886 genes in cDC1\n",
      "generating pseudobulk data for cDC2\n",
      "remaining 7849 genes in cDC2\n",
      "generating pseudobulk data for gdT\n",
      "remaining 5851 genes in gdT\n",
      "generating pseudobulk data for pDC\n",
      "remaining 4706 genes in pDC\n"
     ]
    }
   ],
   "source": [
    "# set up loop to produce all cell type pseudobulk data\n",
    "output_path = '/home/jupyter/data/immune_health/scRNA/counts/'\n",
    "cell_type_col = 'AIFI_L2'\n",
    "generate_pseudobulk_data(adata_pb, output_path, cell_type_col, proj_name, group=None)"
   ]
  },
  {
   "cell_type": "code",
   "execution_count": null,
   "metadata": {},
   "outputs": [],
   "source": []
  }
 ],
 "metadata": {
  "kernelspec": {
   "display_name": "scvi",
   "language": "python",
   "name": "scvi"
  },
  "language_info": {
   "codemirror_mode": {
    "name": "ipython",
    "version": 3
   },
   "file_extension": ".py",
   "mimetype": "text/x-python",
   "name": "python",
   "nbconvert_exporter": "python",
   "pygments_lexer": "ipython3",
   "version": "3.11.5"
  }
 },
 "nbformat": 4,
 "nbformat_minor": 4
}
