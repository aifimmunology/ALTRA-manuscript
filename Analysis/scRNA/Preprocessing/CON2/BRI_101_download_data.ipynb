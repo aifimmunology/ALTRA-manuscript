{
 "cells": [
  {
   "cell_type": "markdown",
   "id": "1e1c10ee-9d06-4b50-a7e3-d51208b7f0ee",
   "metadata": {},
   "source": [
    "# download data in BRI"
   ]
  },
  {
   "cell_type": "code",
   "execution_count": 7,
   "id": "0f36de52-5bba-454b-99a9-afa2be0095ac",
   "metadata": {},
   "outputs": [],
   "source": [
    "library('hise')\n",
    "suppressPackageStartupMessages(library('tidyverse'))\n",
    "library('cowplot')"
   ]
  },
  {
   "cell_type": "code",
   "execution_count": 8,
   "id": "10e9d1c5-d9a3-452f-aa38-3a6e772ed816",
   "metadata": {},
   "outputs": [
    {
     "data": {
      "text/html": [
       "<style>\n",
       ".list-inline {list-style: none; margin:0; padding: 0}\n",
       ".list-inline>li {display: inline-block}\n",
       ".list-inline>li:not(:last-child)::after {content: \"\\00b7\"; padding: 0 .5ex}\n",
       "</style>\n",
       "<ol class=list-inline><li>'...1'</li><li>'X'</li><li>'lastUpdated'</li><li>'sample.id'</li><li>'sample.bridgingControl'</li><li>'sample.sampleKitGuid'</li><li>'sample.visitName'</li><li>'sample.visitDetails'</li><li>'sample.drawDate'</li><li>'sample.daysSinceFirstVisit'</li><li>'file.id'</li><li>'file.name'</li><li>'file.batchID'</li><li>'file.panel'</li><li>'file.pool'</li><li>'file.fileType'</li><li>'file.majorVersion'</li><li>'subject.id'</li><li>'subject.biologicalSex'</li><li>'subject.birthYear'</li><li>'subject.ethnicity'</li><li>'subject.partnerCode'</li><li>'subject.race'</li><li>'subject.subjectGuid'</li><li>'cohort.cohortGuid'</li><li>'sample.diseaseStatesRecordedAtVisit'</li><li>'pbmc_sample_id'</li><li>'Sample_ID'</li><li>'Sample_Draw_date'</li><li>'Covid_Dose_1'</li><li>'Covid_Dose_2'</li><li>'Covid_exlcusion'</li><li>'CMV.IgG.Serology.Result.Interpretation'</li><li>'BMI'</li><li>'file.name.downloaded'</li><li>'file.path'</li><li>'sample_numbers'</li><li>'age'</li><li>'days_since_first'</li><li>'file_name'</li><li>'file_path'</li></ol>\n"
      ],
      "text/latex": [
       "\\begin{enumerate*}\n",
       "\\item '...1'\n",
       "\\item 'X'\n",
       "\\item 'lastUpdated'\n",
       "\\item 'sample.id'\n",
       "\\item 'sample.bridgingControl'\n",
       "\\item 'sample.sampleKitGuid'\n",
       "\\item 'sample.visitName'\n",
       "\\item 'sample.visitDetails'\n",
       "\\item 'sample.drawDate'\n",
       "\\item 'sample.daysSinceFirstVisit'\n",
       "\\item 'file.id'\n",
       "\\item 'file.name'\n",
       "\\item 'file.batchID'\n",
       "\\item 'file.panel'\n",
       "\\item 'file.pool'\n",
       "\\item 'file.fileType'\n",
       "\\item 'file.majorVersion'\n",
       "\\item 'subject.id'\n",
       "\\item 'subject.biologicalSex'\n",
       "\\item 'subject.birthYear'\n",
       "\\item 'subject.ethnicity'\n",
       "\\item 'subject.partnerCode'\n",
       "\\item 'subject.race'\n",
       "\\item 'subject.subjectGuid'\n",
       "\\item 'cohort.cohortGuid'\n",
       "\\item 'sample.diseaseStatesRecordedAtVisit'\n",
       "\\item 'pbmc\\_sample\\_id'\n",
       "\\item 'Sample\\_ID'\n",
       "\\item 'Sample\\_Draw\\_date'\n",
       "\\item 'Covid\\_Dose\\_1'\n",
       "\\item 'Covid\\_Dose\\_2'\n",
       "\\item 'Covid\\_exlcusion'\n",
       "\\item 'CMV.IgG.Serology.Result.Interpretation'\n",
       "\\item 'BMI'\n",
       "\\item 'file.name.downloaded'\n",
       "\\item 'file.path'\n",
       "\\item 'sample\\_numbers'\n",
       "\\item 'age'\n",
       "\\item 'days\\_since\\_first'\n",
       "\\item 'file\\_name'\n",
       "\\item 'file\\_path'\n",
       "\\end{enumerate*}\n"
      ],
      "text/markdown": [
       "1. '...1'\n",
       "2. 'X'\n",
       "3. 'lastUpdated'\n",
       "4. 'sample.id'\n",
       "5. 'sample.bridgingControl'\n",
       "6. 'sample.sampleKitGuid'\n",
       "7. 'sample.visitName'\n",
       "8. 'sample.visitDetails'\n",
       "9. 'sample.drawDate'\n",
       "10. 'sample.daysSinceFirstVisit'\n",
       "11. 'file.id'\n",
       "12. 'file.name'\n",
       "13. 'file.batchID'\n",
       "14. 'file.panel'\n",
       "15. 'file.pool'\n",
       "16. 'file.fileType'\n",
       "17. 'file.majorVersion'\n",
       "18. 'subject.id'\n",
       "19. 'subject.biologicalSex'\n",
       "20. 'subject.birthYear'\n",
       "21. 'subject.ethnicity'\n",
       "22. 'subject.partnerCode'\n",
       "23. 'subject.race'\n",
       "24. 'subject.subjectGuid'\n",
       "25. 'cohort.cohortGuid'\n",
       "26. 'sample.diseaseStatesRecordedAtVisit'\n",
       "27. 'pbmc_sample_id'\n",
       "28. 'Sample_ID'\n",
       "29. 'Sample_Draw_date'\n",
       "30. 'Covid_Dose_1'\n",
       "31. 'Covid_Dose_2'\n",
       "32. 'Covid_exlcusion'\n",
       "33. 'CMV.IgG.Serology.Result.Interpretation'\n",
       "34. 'BMI'\n",
       "35. 'file.name.downloaded'\n",
       "36. 'file.path'\n",
       "37. 'sample_numbers'\n",
       "38. 'age'\n",
       "39. 'days_since_first'\n",
       "40. 'file_name'\n",
       "41. 'file_path'\n",
       "\n",
       "\n"
      ],
      "text/plain": [
       " [1] \"...1\"                                  \n",
       " [2] \"X\"                                     \n",
       " [3] \"lastUpdated\"                           \n",
       " [4] \"sample.id\"                             \n",
       " [5] \"sample.bridgingControl\"                \n",
       " [6] \"sample.sampleKitGuid\"                  \n",
       " [7] \"sample.visitName\"                      \n",
       " [8] \"sample.visitDetails\"                   \n",
       " [9] \"sample.drawDate\"                       \n",
       "[10] \"sample.daysSinceFirstVisit\"            \n",
       "[11] \"file.id\"                               \n",
       "[12] \"file.name\"                             \n",
       "[13] \"file.batchID\"                          \n",
       "[14] \"file.panel\"                            \n",
       "[15] \"file.pool\"                             \n",
       "[16] \"file.fileType\"                         \n",
       "[17] \"file.majorVersion\"                     \n",
       "[18] \"subject.id\"                            \n",
       "[19] \"subject.biologicalSex\"                 \n",
       "[20] \"subject.birthYear\"                     \n",
       "[21] \"subject.ethnicity\"                     \n",
       "[22] \"subject.partnerCode\"                   \n",
       "[23] \"subject.race\"                          \n",
       "[24] \"subject.subjectGuid\"                   \n",
       "[25] \"cohort.cohortGuid\"                     \n",
       "[26] \"sample.diseaseStatesRecordedAtVisit\"   \n",
       "[27] \"pbmc_sample_id\"                        \n",
       "[28] \"Sample_ID\"                             \n",
       "[29] \"Sample_Draw_date\"                      \n",
       "[30] \"Covid_Dose_1\"                          \n",
       "[31] \"Covid_Dose_2\"                          \n",
       "[32] \"Covid_exlcusion\"                       \n",
       "[33] \"CMV.IgG.Serology.Result.Interpretation\"\n",
       "[34] \"BMI\"                                   \n",
       "[35] \"file.name.downloaded\"                  \n",
       "[36] \"file.path\"                             \n",
       "[37] \"sample_numbers\"                        \n",
       "[38] \"age\"                                   \n",
       "[39] \"days_since_first\"                      \n",
       "[40] \"file_name\"                             \n",
       "[41] \"file_path\"                             "
      ]
     },
     "metadata": {},
     "output_type": "display_data"
    },
    {
     "data": {
      "text/html": [
       "<table class=\"dataframe\">\n",
       "<caption>A tibble: 6 × 41</caption>\n",
       "<thead>\n",
       "\t<tr><th scope=col>...1</th><th scope=col>X</th><th scope=col>lastUpdated</th><th scope=col>sample.id</th><th scope=col>sample.bridgingControl</th><th scope=col>sample.sampleKitGuid</th><th scope=col>sample.visitName</th><th scope=col>sample.visitDetails</th><th scope=col>sample.drawDate</th><th scope=col>sample.daysSinceFirstVisit</th><th scope=col>⋯</th><th scope=col>Covid_exlcusion</th><th scope=col>CMV.IgG.Serology.Result.Interpretation</th><th scope=col>BMI</th><th scope=col>file.name.downloaded</th><th scope=col>file.path</th><th scope=col>sample_numbers</th><th scope=col>age</th><th scope=col>days_since_first</th><th scope=col>file_name</th><th scope=col>file_path</th></tr>\n",
       "\t<tr><th scope=col>&lt;dbl&gt;</th><th scope=col>&lt;dbl&gt;</th><th scope=col>&lt;dttm&gt;</th><th scope=col>&lt;chr&gt;</th><th scope=col>&lt;lgl&gt;</th><th scope=col>&lt;chr&gt;</th><th scope=col>&lt;chr&gt;</th><th scope=col>&lt;chr&gt;</th><th scope=col>&lt;dttm&gt;</th><th scope=col>&lt;dbl&gt;</th><th scope=col>⋯</th><th scope=col>&lt;chr&gt;</th><th scope=col>&lt;chr&gt;</th><th scope=col>&lt;chr&gt;</th><th scope=col>&lt;chr&gt;</th><th scope=col>&lt;chr&gt;</th><th scope=col>&lt;dbl&gt;</th><th scope=col>&lt;dbl&gt;</th><th scope=col>&lt;chr&gt;</th><th scope=col>&lt;chr&gt;</th><th scope=col>&lt;chr&gt;</th></tr>\n",
       "</thead>\n",
       "<tbody>\n",
       "\t<tr><td><span style=white-space:pre-wrap>  3</span></td><td><span style=white-space:pre-wrap>  3</span></td><td>2023-11-18 02:03:08</td><td>2db6fb3f-e3f4-454b-891b-9b068541b51d</td><td>FALSE</td><td>KT00003</td><td>Flu Year 1 Day 0 </td><td>N/A - Flu-Series Timepoint Only</td><td>2019-10-01</td><td><span style=white-space:pre-wrap>  0</span></td><td>⋯</td><td>no</td><td>Negative</td><td>&lt;25-BMI</td><td><span style=white-space:pre-wrap>B001-P1_PB00003-01_labeled.h5                               </span></td><td><span style=white-space:pre-wrap>/home/jupyter/BRI_Analysis/scRNA/cache/40efd03a-cb2f-4677-af42-a056cbfe5a17/B001-P1_PB00003-01_labeled.h5                               </span></td><td>6</td><td>30</td><td><span style=white-space:pre-wrap>[0,10)   </span></td><td>PB00003-01.h5ad</td><td>/home/jupyter/data/immune_health/h5_cleaned_by_sample/PB00003-01.h5ad</td></tr>\n",
       "\t<tr><td>110</td><td> 18</td><td>2024-01-19 21:14:20</td><td>b22dd7f1-2173-47a6-913b-0c542a6200e7</td><td>FALSE</td><td>KT00035</td><td>Flu Year 1 Day 90</td><td>N/A - Flu-Series Timepoint Only</td><td>2020-01-01</td><td> 83</td><td>⋯</td><td>no</td><td>Negative</td><td>&lt;25-BMI</td><td>B005-P1_PB00035-01_2020-08-04T01:55:19.807034625Z_labeled.h5</td><td>/home/jupyter/BRI_Analysis/scRNA/cache/2022f329-08b6-4b26-b71b-162bc30b19c9/B005-P1_PB00035-01_2020-08-04T01:55:19.807034625Z_labeled.h5</td><td>6</td><td>31</td><td>[10,300) </td><td>PB00035-01.h5ad</td><td>/home/jupyter/data/immune_health/h5_cleaned_by_sample/PB00035-01.h5ad</td></tr>\n",
       "\t<tr><td>214</td><td>122</td><td>2024-01-19 21:14:20</td><td>32faeb98-e7dd-45a2-9032-da9b76af4bde</td><td>FALSE</td><td>KT00355</td><td>Flu Year 2 Day 0 </td><td>N/A - Flu-Series Timepoint Only</td><td>2020-09-01</td><td>337</td><td>⋯</td><td>no</td><td>Negative</td><td>&lt;25-BMI</td><td>B039-P2_PB00355-01_2020-12-14T06:30:12.885244281Z_labeled.h5</td><td>/home/jupyter/BRI_Analysis/scRNA/cache/144ea1b3-d5b4-4639-bd9f-53415c90dac2/B039-P2_PB00355-01_2020-12-14T06:30:12.885244281Z_labeled.h5</td><td>6</td><td>31</td><td>[300,800)</td><td>PB00355-01.h5ad</td><td>/home/jupyter/data/immune_health/h5_cleaned_by_sample/PB00355-01.h5ad</td></tr>\n",
       "\t<tr><td><span style=white-space:pre-wrap>  7</span></td><td><span style=white-space:pre-wrap>  7</span></td><td>2023-11-19 10:06:55</td><td>fb3c3406-2797-4c31-b085-37d8138099a3</td><td>FALSE</td><td>KT00012</td><td>Flu Year 1 Day 0 </td><td>N/A - Flu-Series Timepoint Only</td><td>2019-10-01</td><td><span style=white-space:pre-wrap>  0</span></td><td>⋯</td><td>no</td><td>Positive</td><td>&gt;30BMI </td><td>B002-P1_PB00012-01_2023-11-17T21:36:51.794326181Z_labeled.h5</td><td>/home/jupyter/BRI_Analysis/scRNA/cache/7a99c4c8-5438-430a-a37a-5b5f4052c064/B002-P1_PB00012-01_2023-11-17T21:36:51.794326181Z_labeled.h5</td><td>3</td><td>34</td><td><span style=white-space:pre-wrap>[0,10)   </span></td><td>PB00012-01.h5ad</td><td>/home/jupyter/data/immune_health/h5_cleaned_by_sample/PB00012-01.h5ad</td></tr>\n",
       "\t<tr><td>119</td><td> 27</td><td>2024-01-19 21:14:20</td><td>2bb354ec-738b-4059-b823-ea31a38c57ae</td><td>FALSE</td><td>KT00047</td><td>Flu Year 1 Day 90</td><td>N/A - Flu-Series Timepoint Only</td><td>2020-01-01</td><td> 80</td><td>⋯</td><td>no</td><td>Positive</td><td>&gt;30BMI </td><td>B006-P1_PB00047-01_2020-06-13T08:49:19.627364541Z_labeled.h5</td><td>/home/jupyter/BRI_Analysis/scRNA/cache/57f4ee83-5d68-499f-9dc2-03308c37a840/B006-P1_PB00047-01_2020-06-13T08:49:19.627364541Z_labeled.h5</td><td>3</td><td>35</td><td>[10,300) </td><td>PB00047-01.h5ad</td><td>/home/jupyter/data/immune_health/h5_cleaned_by_sample/PB00047-01.h5ad</td></tr>\n",
       "\t<tr><td>223</td><td>131</td><td>2024-01-19 21:14:20</td><td>7e6ffeaf-284a-4e2d-89c4-ec356f1b5ddd</td><td>FALSE</td><td>KT00373</td><td>Flu Year 2 Day 0 </td><td>N/A - Flu-Series Timepoint Only</td><td>2020-09-01</td><td>330</td><td>⋯</td><td>no</td><td>Positive</td><td>&gt;30BMI </td><td>B039-P1_PB00373-01_2020-12-13T18:58:42.148340626Z_labeled.h5</td><td>/home/jupyter/BRI_Analysis/scRNA/cache/6f77c7c2-52d2-48b1-a7a9-d4154ff3ef38/B039-P1_PB00373-01_2020-12-13T18:58:42.148340626Z_labeled.h5</td><td>3</td><td>35</td><td>[300,800)</td><td>PB00373-01.h5ad</td><td>/home/jupyter/data/immune_health/h5_cleaned_by_sample/PB00373-01.h5ad</td></tr>\n",
       "</tbody>\n",
       "</table>\n"
      ],
      "text/latex": [
       "A tibble: 6 × 41\n",
       "\\begin{tabular}{lllllllllllllllllllll}\n",
       " ...1 & X & lastUpdated & sample.id & sample.bridgingControl & sample.sampleKitGuid & sample.visitName & sample.visitDetails & sample.drawDate & sample.daysSinceFirstVisit & ⋯ & Covid\\_exlcusion & CMV.IgG.Serology.Result.Interpretation & BMI & file.name.downloaded & file.path & sample\\_numbers & age & days\\_since\\_first & file\\_name & file\\_path\\\\\n",
       " <dbl> & <dbl> & <dttm> & <chr> & <lgl> & <chr> & <chr> & <chr> & <dttm> & <dbl> & ⋯ & <chr> & <chr> & <chr> & <chr> & <chr> & <dbl> & <dbl> & <chr> & <chr> & <chr>\\\\\n",
       "\\hline\n",
       "\t   3 &   3 & 2023-11-18 02:03:08 & 2db6fb3f-e3f4-454b-891b-9b068541b51d & FALSE & KT00003 & Flu Year 1 Day 0  & N/A - Flu-Series Timepoint Only & 2019-10-01 &   0 & ⋯ & no & Negative & <25-BMI & B001-P1\\_PB00003-01\\_labeled.h5                                & /home/jupyter/BRI\\_Analysis/scRNA/cache/40efd03a-cb2f-4677-af42-a056cbfe5a17/B001-P1\\_PB00003-01\\_labeled.h5                                & 6 & 30 & {[}0,10)    & PB00003-01.h5ad & /home/jupyter/data/immune\\_health/h5\\_cleaned\\_by\\_sample/PB00003-01.h5ad\\\\\n",
       "\t 110 &  18 & 2024-01-19 21:14:20 & b22dd7f1-2173-47a6-913b-0c542a6200e7 & FALSE & KT00035 & Flu Year 1 Day 90 & N/A - Flu-Series Timepoint Only & 2020-01-01 &  83 & ⋯ & no & Negative & <25-BMI & B005-P1\\_PB00035-01\\_2020-08-04T01:55:19.807034625Z\\_labeled.h5 & /home/jupyter/BRI\\_Analysis/scRNA/cache/2022f329-08b6-4b26-b71b-162bc30b19c9/B005-P1\\_PB00035-01\\_2020-08-04T01:55:19.807034625Z\\_labeled.h5 & 6 & 31 & {[}10,300)  & PB00035-01.h5ad & /home/jupyter/data/immune\\_health/h5\\_cleaned\\_by\\_sample/PB00035-01.h5ad\\\\\n",
       "\t 214 & 122 & 2024-01-19 21:14:20 & 32faeb98-e7dd-45a2-9032-da9b76af4bde & FALSE & KT00355 & Flu Year 2 Day 0  & N/A - Flu-Series Timepoint Only & 2020-09-01 & 337 & ⋯ & no & Negative & <25-BMI & B039-P2\\_PB00355-01\\_2020-12-14T06:30:12.885244281Z\\_labeled.h5 & /home/jupyter/BRI\\_Analysis/scRNA/cache/144ea1b3-d5b4-4639-bd9f-53415c90dac2/B039-P2\\_PB00355-01\\_2020-12-14T06:30:12.885244281Z\\_labeled.h5 & 6 & 31 & {[}300,800) & PB00355-01.h5ad & /home/jupyter/data/immune\\_health/h5\\_cleaned\\_by\\_sample/PB00355-01.h5ad\\\\\n",
       "\t   7 &   7 & 2023-11-19 10:06:55 & fb3c3406-2797-4c31-b085-37d8138099a3 & FALSE & KT00012 & Flu Year 1 Day 0  & N/A - Flu-Series Timepoint Only & 2019-10-01 &   0 & ⋯ & no & Positive & >30BMI  & B002-P1\\_PB00012-01\\_2023-11-17T21:36:51.794326181Z\\_labeled.h5 & /home/jupyter/BRI\\_Analysis/scRNA/cache/7a99c4c8-5438-430a-a37a-5b5f4052c064/B002-P1\\_PB00012-01\\_2023-11-17T21:36:51.794326181Z\\_labeled.h5 & 3 & 34 & {[}0,10)    & PB00012-01.h5ad & /home/jupyter/data/immune\\_health/h5\\_cleaned\\_by\\_sample/PB00012-01.h5ad\\\\\n",
       "\t 119 &  27 & 2024-01-19 21:14:20 & 2bb354ec-738b-4059-b823-ea31a38c57ae & FALSE & KT00047 & Flu Year 1 Day 90 & N/A - Flu-Series Timepoint Only & 2020-01-01 &  80 & ⋯ & no & Positive & >30BMI  & B006-P1\\_PB00047-01\\_2020-06-13T08:49:19.627364541Z\\_labeled.h5 & /home/jupyter/BRI\\_Analysis/scRNA/cache/57f4ee83-5d68-499f-9dc2-03308c37a840/B006-P1\\_PB00047-01\\_2020-06-13T08:49:19.627364541Z\\_labeled.h5 & 3 & 35 & {[}10,300)  & PB00047-01.h5ad & /home/jupyter/data/immune\\_health/h5\\_cleaned\\_by\\_sample/PB00047-01.h5ad\\\\\n",
       "\t 223 & 131 & 2024-01-19 21:14:20 & 7e6ffeaf-284a-4e2d-89c4-ec356f1b5ddd & FALSE & KT00373 & Flu Year 2 Day 0  & N/A - Flu-Series Timepoint Only & 2020-09-01 & 330 & ⋯ & no & Positive & >30BMI  & B039-P1\\_PB00373-01\\_2020-12-13T18:58:42.148340626Z\\_labeled.h5 & /home/jupyter/BRI\\_Analysis/scRNA/cache/6f77c7c2-52d2-48b1-a7a9-d4154ff3ef38/B039-P1\\_PB00373-01\\_2020-12-13T18:58:42.148340626Z\\_labeled.h5 & 3 & 35 & {[}300,800) & PB00373-01.h5ad & /home/jupyter/data/immune\\_health/h5\\_cleaned\\_by\\_sample/PB00373-01.h5ad\\\\\n",
       "\\end{tabular}\n"
      ],
      "text/markdown": [
       "\n",
       "A tibble: 6 × 41\n",
       "\n",
       "| ...1 &lt;dbl&gt; | X &lt;dbl&gt; | lastUpdated &lt;dttm&gt; | sample.id &lt;chr&gt; | sample.bridgingControl &lt;lgl&gt; | sample.sampleKitGuid &lt;chr&gt; | sample.visitName &lt;chr&gt; | sample.visitDetails &lt;chr&gt; | sample.drawDate &lt;dttm&gt; | sample.daysSinceFirstVisit &lt;dbl&gt; | ⋯ ⋯ | Covid_exlcusion &lt;chr&gt; | CMV.IgG.Serology.Result.Interpretation &lt;chr&gt; | BMI &lt;chr&gt; | file.name.downloaded &lt;chr&gt; | file.path &lt;chr&gt; | sample_numbers &lt;dbl&gt; | age &lt;dbl&gt; | days_since_first &lt;chr&gt; | file_name &lt;chr&gt; | file_path &lt;chr&gt; |\n",
       "|---|---|---|---|---|---|---|---|---|---|---|---|---|---|---|---|---|---|---|---|---|\n",
       "|   3 |   3 | 2023-11-18 02:03:08 | 2db6fb3f-e3f4-454b-891b-9b068541b51d | FALSE | KT00003 | Flu Year 1 Day 0  | N/A - Flu-Series Timepoint Only | 2019-10-01 |   0 | ⋯ | no | Negative | &lt;25-BMI | B001-P1_PB00003-01_labeled.h5                                | /home/jupyter/BRI_Analysis/scRNA/cache/40efd03a-cb2f-4677-af42-a056cbfe5a17/B001-P1_PB00003-01_labeled.h5                                | 6 | 30 | [0,10)    | PB00003-01.h5ad | /home/jupyter/data/immune_health/h5_cleaned_by_sample/PB00003-01.h5ad |\n",
       "| 110 |  18 | 2024-01-19 21:14:20 | b22dd7f1-2173-47a6-913b-0c542a6200e7 | FALSE | KT00035 | Flu Year 1 Day 90 | N/A - Flu-Series Timepoint Only | 2020-01-01 |  83 | ⋯ | no | Negative | &lt;25-BMI | B005-P1_PB00035-01_2020-08-04T01:55:19.807034625Z_labeled.h5 | /home/jupyter/BRI_Analysis/scRNA/cache/2022f329-08b6-4b26-b71b-162bc30b19c9/B005-P1_PB00035-01_2020-08-04T01:55:19.807034625Z_labeled.h5 | 6 | 31 | [10,300)  | PB00035-01.h5ad | /home/jupyter/data/immune_health/h5_cleaned_by_sample/PB00035-01.h5ad |\n",
       "| 214 | 122 | 2024-01-19 21:14:20 | 32faeb98-e7dd-45a2-9032-da9b76af4bde | FALSE | KT00355 | Flu Year 2 Day 0  | N/A - Flu-Series Timepoint Only | 2020-09-01 | 337 | ⋯ | no | Negative | &lt;25-BMI | B039-P2_PB00355-01_2020-12-14T06:30:12.885244281Z_labeled.h5 | /home/jupyter/BRI_Analysis/scRNA/cache/144ea1b3-d5b4-4639-bd9f-53415c90dac2/B039-P2_PB00355-01_2020-12-14T06:30:12.885244281Z_labeled.h5 | 6 | 31 | [300,800) | PB00355-01.h5ad | /home/jupyter/data/immune_health/h5_cleaned_by_sample/PB00355-01.h5ad |\n",
       "|   7 |   7 | 2023-11-19 10:06:55 | fb3c3406-2797-4c31-b085-37d8138099a3 | FALSE | KT00012 | Flu Year 1 Day 0  | N/A - Flu-Series Timepoint Only | 2019-10-01 |   0 | ⋯ | no | Positive | &gt;30BMI  | B002-P1_PB00012-01_2023-11-17T21:36:51.794326181Z_labeled.h5 | /home/jupyter/BRI_Analysis/scRNA/cache/7a99c4c8-5438-430a-a37a-5b5f4052c064/B002-P1_PB00012-01_2023-11-17T21:36:51.794326181Z_labeled.h5 | 3 | 34 | [0,10)    | PB00012-01.h5ad | /home/jupyter/data/immune_health/h5_cleaned_by_sample/PB00012-01.h5ad |\n",
       "| 119 |  27 | 2024-01-19 21:14:20 | 2bb354ec-738b-4059-b823-ea31a38c57ae | FALSE | KT00047 | Flu Year 1 Day 90 | N/A - Flu-Series Timepoint Only | 2020-01-01 |  80 | ⋯ | no | Positive | &gt;30BMI  | B006-P1_PB00047-01_2020-06-13T08:49:19.627364541Z_labeled.h5 | /home/jupyter/BRI_Analysis/scRNA/cache/57f4ee83-5d68-499f-9dc2-03308c37a840/B006-P1_PB00047-01_2020-06-13T08:49:19.627364541Z_labeled.h5 | 3 | 35 | [10,300)  | PB00047-01.h5ad | /home/jupyter/data/immune_health/h5_cleaned_by_sample/PB00047-01.h5ad |\n",
       "| 223 | 131 | 2024-01-19 21:14:20 | 7e6ffeaf-284a-4e2d-89c4-ec356f1b5ddd | FALSE | KT00373 | Flu Year 2 Day 0  | N/A - Flu-Series Timepoint Only | 2020-09-01 | 330 | ⋯ | no | Positive | &gt;30BMI  | B039-P1_PB00373-01_2020-12-13T18:58:42.148340626Z_labeled.h5 | /home/jupyter/BRI_Analysis/scRNA/cache/6f77c7c2-52d2-48b1-a7a9-d4154ff3ef38/B039-P1_PB00373-01_2020-12-13T18:58:42.148340626Z_labeled.h5 | 3 | 35 | [300,800) | PB00373-01.h5ad | /home/jupyter/data/immune_health/h5_cleaned_by_sample/PB00373-01.h5ad |\n",
       "\n"
      ],
      "text/plain": [
       "  ...1 X   lastUpdated         sample.id                           \n",
       "1   3    3 2023-11-18 02:03:08 2db6fb3f-e3f4-454b-891b-9b068541b51d\n",
       "2 110   18 2024-01-19 21:14:20 b22dd7f1-2173-47a6-913b-0c542a6200e7\n",
       "3 214  122 2024-01-19 21:14:20 32faeb98-e7dd-45a2-9032-da9b76af4bde\n",
       "4   7    7 2023-11-19 10:06:55 fb3c3406-2797-4c31-b085-37d8138099a3\n",
       "5 119   27 2024-01-19 21:14:20 2bb354ec-738b-4059-b823-ea31a38c57ae\n",
       "6 223  131 2024-01-19 21:14:20 7e6ffeaf-284a-4e2d-89c4-ec356f1b5ddd\n",
       "  sample.bridgingControl sample.sampleKitGuid sample.visitName \n",
       "1 FALSE                  KT00003              Flu Year 1 Day 0 \n",
       "2 FALSE                  KT00035              Flu Year 1 Day 90\n",
       "3 FALSE                  KT00355              Flu Year 2 Day 0 \n",
       "4 FALSE                  KT00012              Flu Year 1 Day 0 \n",
       "5 FALSE                  KT00047              Flu Year 1 Day 90\n",
       "6 FALSE                  KT00373              Flu Year 2 Day 0 \n",
       "  sample.visitDetails             sample.drawDate sample.daysSinceFirstVisit ⋯\n",
       "1 N/A - Flu-Series Timepoint Only 2019-10-01        0                        ⋯\n",
       "2 N/A - Flu-Series Timepoint Only 2020-01-01       83                        ⋯\n",
       "3 N/A - Flu-Series Timepoint Only 2020-09-01      337                        ⋯\n",
       "4 N/A - Flu-Series Timepoint Only 2019-10-01        0                        ⋯\n",
       "5 N/A - Flu-Series Timepoint Only 2020-01-01       80                        ⋯\n",
       "6 N/A - Flu-Series Timepoint Only 2020-09-01      330                        ⋯\n",
       "  Covid_exlcusion CMV.IgG.Serology.Result.Interpretation BMI    \n",
       "1 no              Negative                               <25-BMI\n",
       "2 no              Negative                               <25-BMI\n",
       "3 no              Negative                               <25-BMI\n",
       "4 no              Positive                               >30BMI \n",
       "5 no              Positive                               >30BMI \n",
       "6 no              Positive                               >30BMI \n",
       "  file.name.downloaded                                        \n",
       "1 B001-P1_PB00003-01_labeled.h5                               \n",
       "2 B005-P1_PB00035-01_2020-08-04T01:55:19.807034625Z_labeled.h5\n",
       "3 B039-P2_PB00355-01_2020-12-14T06:30:12.885244281Z_labeled.h5\n",
       "4 B002-P1_PB00012-01_2023-11-17T21:36:51.794326181Z_labeled.h5\n",
       "5 B006-P1_PB00047-01_2020-06-13T08:49:19.627364541Z_labeled.h5\n",
       "6 B039-P1_PB00373-01_2020-12-13T18:58:42.148340626Z_labeled.h5\n",
       "  file.path                                                                                                                               \n",
       "1 /home/jupyter/BRI_Analysis/scRNA/cache/40efd03a-cb2f-4677-af42-a056cbfe5a17/B001-P1_PB00003-01_labeled.h5                               \n",
       "2 /home/jupyter/BRI_Analysis/scRNA/cache/2022f329-08b6-4b26-b71b-162bc30b19c9/B005-P1_PB00035-01_2020-08-04T01:55:19.807034625Z_labeled.h5\n",
       "3 /home/jupyter/BRI_Analysis/scRNA/cache/144ea1b3-d5b4-4639-bd9f-53415c90dac2/B039-P2_PB00355-01_2020-12-14T06:30:12.885244281Z_labeled.h5\n",
       "4 /home/jupyter/BRI_Analysis/scRNA/cache/7a99c4c8-5438-430a-a37a-5b5f4052c064/B002-P1_PB00012-01_2023-11-17T21:36:51.794326181Z_labeled.h5\n",
       "5 /home/jupyter/BRI_Analysis/scRNA/cache/57f4ee83-5d68-499f-9dc2-03308c37a840/B006-P1_PB00047-01_2020-06-13T08:49:19.627364541Z_labeled.h5\n",
       "6 /home/jupyter/BRI_Analysis/scRNA/cache/6f77c7c2-52d2-48b1-a7a9-d4154ff3ef38/B039-P1_PB00373-01_2020-12-13T18:58:42.148340626Z_labeled.h5\n",
       "  sample_numbers age days_since_first file_name      \n",
       "1 6              30  [0,10)           PB00003-01.h5ad\n",
       "2 6              31  [10,300)         PB00035-01.h5ad\n",
       "3 6              31  [300,800)        PB00355-01.h5ad\n",
       "4 3              34  [0,10)           PB00012-01.h5ad\n",
       "5 3              35  [10,300)         PB00047-01.h5ad\n",
       "6 3              35  [300,800)        PB00373-01.h5ad\n",
       "  file_path                                                            \n",
       "1 /home/jupyter/data/immune_health/h5_cleaned_by_sample/PB00003-01.h5ad\n",
       "2 /home/jupyter/data/immune_health/h5_cleaned_by_sample/PB00035-01.h5ad\n",
       "3 /home/jupyter/data/immune_health/h5_cleaned_by_sample/PB00355-01.h5ad\n",
       "4 /home/jupyter/data/immune_health/h5_cleaned_by_sample/PB00012-01.h5ad\n",
       "5 /home/jupyter/data/immune_health/h5_cleaned_by_sample/PB00047-01.h5ad\n",
       "6 /home/jupyter/data/immune_health/h5_cleaned_by_sample/PB00373-01.h5ad"
      ]
     },
     "metadata": {},
     "output_type": "display_data"
    }
   ],
   "source": [
    "# load the BRI match samples\n",
    "bri_meta_select <- read_csv(file.path('/home/jupyter/data/immune_health', \n",
    "                                        'BRI_longitudinal_matching_converters.csv'),\n",
    "                           show_col_types = FALSE)\n",
    "bri_meta_select%>%colnames()\n",
    "bri_meta_select%>%head()"
   ]
  },
  {
   "cell_type": "code",
   "execution_count": 5,
   "id": "b0ed458e-36af-480b-b3e7-de6c63b6c3df",
   "metadata": {},
   "outputs": [
    {
     "data": {
      "text/html": [
       "<style>\n",
       ".list-inline {list-style: none; margin:0; padding: 0}\n",
       ".list-inline>li {display: inline-block}\n",
       ".list-inline>li:not(:last-child)::after {content: \"\\00b7\"; padding: 0 .5ex}\n",
       "</style>\n",
       "<ol class=list-inline><li>89</li><li>41</li></ol>\n"
      ],
      "text/latex": [
       "\\begin{enumerate*}\n",
       "\\item 89\n",
       "\\item 41\n",
       "\\end{enumerate*}\n"
      ],
      "text/markdown": [
       "1. 89\n",
       "2. 41\n",
       "\n",
       "\n"
      ],
      "text/plain": [
       "[1] 89 41"
      ]
     },
     "metadata": {},
     "output_type": "display_data"
    }
   ],
   "source": [
    "bri_meta_select%>%dim()"
   ]
  },
  {
   "cell_type": "code",
   "execution_count": 4,
   "id": "b4e4126f-2fd7-4ab0-9b9d-80525b4dba75",
   "metadata": {
    "scrolled": true
   },
   "outputs": [],
   "source": [
    "# # download scrna data for BRI \n",
    "# download_path <-'/home/jupyter/data/immune_health'\n",
    "# if (!dir.exists(download_path)) {dir.create(download_path)}\n",
    "# setwd(download_path)\n",
    "# bri_scrna <- hise::cacheFiles(as.list(bri_meta_select$file.id))"
   ]
  },
  {
   "cell_type": "code",
   "execution_count": null,
   "id": "e959112c-4636-4472-9dcd-b2fa8a3eccc7",
   "metadata": {},
   "outputs": [],
   "source": []
  },
  {
   "cell_type": "markdown",
   "id": "97b3faab-dc94-41fb-8c06-9b55133edbdb",
   "metadata": {},
   "source": [
    "# upload data to collab space"
   ]
  },
  {
   "cell_type": "code",
   "execution_count": 13,
   "id": "89c99017-1b1a-4f55-a946-3f05f3b38c3b",
   "metadata": {},
   "outputs": [
    {
     "name": "stdout",
     "output_type": "stream",
     "text": [
      "[1] \"Cannot determine the current notebook.\"\n",
      "[1] \"1) /home/jupyter/github/ra-longitudinal/scRNA/Preprocessing/BRI_103b_Python_scRNA_make_Pseudobulk.ipynb\"\n",
      "[1] \"2) /home/jupyter/github/ra-longitudinal/scRNA/Preprocessing/BRI_101_download_data.ipynb\"\n",
      "[1] \"3) /home/jupyter/github/ra-longitudinal/scRNA/Aim3/RAlg_00_HISE_download_upload_data.ipynb\"\n"
     ]
    },
    {
     "name": "stdin",
     "output_type": "stream",
     "text": [
      "Please select (1-3)  1\n"
     ]
    },
    {
     "name": "stderr",
     "output_type": "stream",
     "text": [
      "You are trying to upload the following files:  /home/jupyter/data/immune_health/BRI_scRNA_AIFI_L3_deepclean_match_RAconv.h5ad\n",
      "\n"
     ]
    },
    {
     "name": "stdin",
     "output_type": "stream",
     "text": [
      "(y/n) y\n"
     ]
    },
    {
     "data": {
      "text/html": [
       "<dl>\n",
       "\t<dt>$files</dt>\n",
       "\t\t<dd><ol>\n",
       "\t<li>'/home/jupyter/data/immune_health/BRI_scRNA_AIFI_L3_deepclean_match_RAconv.h5ad'</li>\n",
       "</ol>\n",
       "</dd>\n",
       "\t<dt>$traceId</dt>\n",
       "\t\t<dd>'d5b827c8-37f3-4475-88c2-09959ac76051'</dd>\n",
       "</dl>\n"
      ],
      "text/latex": [
       "\\begin{description}\n",
       "\\item[\\$files] \\begin{enumerate}\n",
       "\\item '/home/jupyter/data/immune\\_health/BRI\\_scRNA\\_AIFI\\_L3\\_deepclean\\_match\\_RAconv.h5ad'\n",
       "\\end{enumerate}\n",
       "\n",
       "\\item[\\$traceId] 'd5b827c8-37f3-4475-88c2-09959ac76051'\n",
       "\\end{description}\n"
      ],
      "text/markdown": [
       "$files\n",
       ":   1. '/home/jupyter/data/immune_health/BRI_scRNA_AIFI_L3_deepclean_match_RAconv.h5ad'\n",
       "\n",
       "\n",
       "\n",
       "$traceId\n",
       ":   'd5b827c8-37f3-4475-88c2-09959ac76051'\n",
       "\n",
       "\n"
      ],
      "text/plain": [
       "$files\n",
       "$files[[1]]\n",
       "[1] \"/home/jupyter/data/immune_health/BRI_scRNA_AIFI_L3_deepclean_match_RAconv.h5ad\"\n",
       "\n",
       "\n",
       "$traceId\n",
       "[1] \"d5b827c8-37f3-4475-88c2-09959ac76051\"\n"
      ]
     },
     "metadata": {},
     "output_type": "display_data"
    }
   ],
   "source": [
    "# upload processed AIM3 scRNA data to collab \n",
    "hise::uploadFiles(files=list('/home/jupyter/data/immune_health/BRI_scRNA_AIFI_L3_deepclean_match_RAconv.h5ad'),\n",
    "            studySpaceId='223de760-9624-45bd-aefe-ca24c75b1800',\n",
    "           title='BRI Immune Health deep clean scRNA object matched to RA converters',\n",
    "           inputFileIds=as.list(bri_meta_select$file.id))"
   ]
  },
  {
   "cell_type": "markdown",
   "id": "56100f04-66e7-4ddb-8deb-8afa13ac915b",
   "metadata": {},
   "source": [
    "# remove addional scrna data in BRI not used in the validation study"
   ]
  },
  {
   "cell_type": "code",
   "execution_count": 6,
   "id": "5e4f6d03-5a79-4343-a44c-bbaf39a543d6",
   "metadata": {},
   "outputs": [
    {
     "name": "stderr",
     "output_type": "stream",
     "text": [
      "\u001b[1mRows: \u001b[22m\u001b[34m89\u001b[39m \u001b[1mColumns: \u001b[22m\u001b[34m41\u001b[39m\n",
      "\u001b[36m──\u001b[39m \u001b[1mColumn specification\u001b[22m \u001b[36m────────────────────────────────────────────────────────\u001b[39m\n",
      "\u001b[1mDelimiter:\u001b[22m \",\"\n",
      "\u001b[31mchr\u001b[39m  (25): sample.id, sample.sampleKitGuid, sample.visitName, sample.visitDe...\n",
      "\u001b[32mdbl\u001b[39m   (7): ...1, X, sample.daysSinceFirstVisit, file.majorVersion, subject.b...\n",
      "\u001b[33mlgl\u001b[39m   (4): sample.bridgingControl, file.panel, sample.diseaseStatesRecordedA...\n",
      "\u001b[34mdttm\u001b[39m  (2): lastUpdated, sample.drawDate\n",
      "\u001b[34mdate\u001b[39m  (3): Sample_Draw_date, Covid_Dose_1, Covid_Dose_2\n",
      "\n",
      "\u001b[36mℹ\u001b[39m Use `spec()` to retrieve the full column specification for this data.\n",
      "\u001b[36mℹ\u001b[39m Specify the column types or set `show_col_types = FALSE` to quiet this message.\n"
     ]
    }
   ],
   "source": [
    "# load the samples selection\n",
    "bri_meta = read_csv('/home/jupyter/data/immune_health/BRI_longitudinal_matching_converters.csv')"
   ]
  },
  {
   "cell_type": "code",
   "execution_count": 2,
   "id": "29206619-e72a-4fc8-b9a9-402a52965c0e",
   "metadata": {},
   "outputs": [
    {
     "ename": "ERROR",
     "evalue": "Error in eval(expr, envir, enclos): object 'bri_meta' not found\n",
     "output_type": "error",
     "traceback": [
      "Error in eval(expr, envir, enclos): object 'bri_meta' not found\nTraceback:\n",
      "1. bri_files %in% bri_meta$file_path"
     ]
    }
   ],
   "source": [
    "# get BRI data files that are not used\n",
    "bri_files = list.files('/home/jupyter/data/immune_health/h5_cleaned_by_sample', full.names = TRUE)\n",
    "bri_files_rm = bri_files[!bri_files%in%bri_meta$file_path]\n",
    "bri_files_rm%>%length()\n",
    "bri_meta$file_path%>%length()"
   ]
  },
  {
   "cell_type": "code",
   "execution_count": 10,
   "id": "63a6b654-078f-47dd-97cb-01b82e7cd24b",
   "metadata": {},
   "outputs": [],
   "source": [
    "# remove extra data files\n",
    "# lapply(bri_files_rm, file.remove)"
   ]
  },
  {
   "cell_type": "code",
   "execution_count": null,
   "id": "cab85a40-7854-43df-8bc5-4ed0b96812d8",
   "metadata": {},
   "outputs": [],
   "source": []
  }
 ],
 "metadata": {
  "kernelspec": {
   "display_name": "R 4",
   "language": "R",
   "name": "ir4"
  },
  "language_info": {
   "codemirror_mode": "r",
   "file_extension": ".r",
   "mimetype": "text/x-r-source",
   "name": "R",
   "pygments_lexer": "r",
   "version": "4.3.2"
  }
 },
 "nbformat": 4,
 "nbformat_minor": 5
}
